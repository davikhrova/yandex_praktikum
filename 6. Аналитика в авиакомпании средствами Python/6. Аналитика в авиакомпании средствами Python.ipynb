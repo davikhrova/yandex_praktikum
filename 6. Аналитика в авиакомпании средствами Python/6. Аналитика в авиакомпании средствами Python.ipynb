{
 "cells": [
  {
   "cell_type": "markdown",
   "metadata": {},
   "source": [
    "# Аналитика в авиакомпании средствами Python"
   ]
  },
  {
   "cell_type": "markdown",
   "metadata": {},
   "source": [
    "### Импортирт библиотек и файлов:"
   ]
  },
  {
   "cell_type": "code",
   "execution_count": 1,
   "metadata": {},
   "outputs": [],
   "source": [
    "import pandas as pd\n",
    "import matplotlib.pyplot as plt \n",
    "import math\n",
    "pd.options.display.max_columns = None\n",
    "\n",
    "aircrafts = pd.read_csv('/datasets/query_1.csv')\n",
    "city = pd.read_csv('/datasets/query_3.csv')"
   ]
  },
  {
   "cell_type": "markdown",
   "metadata": {},
   "source": [
    "### Изучение данных"
   ]
  },
  {
   "cell_type": "markdown",
   "metadata": {},
   "source": [
    "Посмотрим на таблицу с данными о моделях самолетов и количеству полетов на них:"
   ]
  },
  {
   "cell_type": "code",
   "execution_count": 2,
   "metadata": {},
   "outputs": [
    {
     "data": {
      "text/html": [
       "<div>\n",
       "<style scoped>\n",
       "    .dataframe tbody tr th:only-of-type {\n",
       "        vertical-align: middle;\n",
       "    }\n",
       "\n",
       "    .dataframe tbody tr th {\n",
       "        vertical-align: top;\n",
       "    }\n",
       "\n",
       "    .dataframe thead th {\n",
       "        text-align: right;\n",
       "    }\n",
       "</style>\n",
       "<table border=\"1\" class=\"dataframe\">\n",
       "  <thead>\n",
       "    <tr style=\"text-align: right;\">\n",
       "      <th></th>\n",
       "      <th>model</th>\n",
       "      <th>flights_amount</th>\n",
       "    </tr>\n",
       "  </thead>\n",
       "  <tbody>\n",
       "    <tr>\n",
       "      <td>0</td>\n",
       "      <td>Airbus A319-100</td>\n",
       "      <td>607</td>\n",
       "    </tr>\n",
       "    <tr>\n",
       "      <td>1</td>\n",
       "      <td>Airbus A321-200</td>\n",
       "      <td>960</td>\n",
       "    </tr>\n",
       "    <tr>\n",
       "      <td>2</td>\n",
       "      <td>Boeing 737-300</td>\n",
       "      <td>630</td>\n",
       "    </tr>\n",
       "    <tr>\n",
       "      <td>3</td>\n",
       "      <td>Boeing 767-300</td>\n",
       "      <td>600</td>\n",
       "    </tr>\n",
       "    <tr>\n",
       "      <td>4</td>\n",
       "      <td>Boeing 777-300</td>\n",
       "      <td>300</td>\n",
       "    </tr>\n",
       "    <tr>\n",
       "      <td>5</td>\n",
       "      <td>Bombardier CRJ-200</td>\n",
       "      <td>4446</td>\n",
       "    </tr>\n",
       "    <tr>\n",
       "      <td>6</td>\n",
       "      <td>Cessna 208 Caravan</td>\n",
       "      <td>4557</td>\n",
       "    </tr>\n",
       "    <tr>\n",
       "      <td>7</td>\n",
       "      <td>Sukhoi SuperJet-100</td>\n",
       "      <td>4185</td>\n",
       "    </tr>\n",
       "  </tbody>\n",
       "</table>\n",
       "</div>"
      ],
      "text/plain": [
       "                 model  flights_amount\n",
       "0      Airbus A319-100             607\n",
       "1      Airbus A321-200             960\n",
       "2       Boeing 737-300             630\n",
       "3       Boeing 767-300             600\n",
       "4       Boeing 777-300             300\n",
       "5   Bombardier CRJ-200            4446\n",
       "6   Cessna 208 Caravan            4557\n",
       "7  Sukhoi SuperJet-100            4185"
      ]
     },
     "execution_count": 2,
     "metadata": {},
     "output_type": "execute_result"
    }
   ],
   "source": [
    "aircrafts"
   ]
  },
  {
   "cell_type": "markdown",
   "metadata": {},
   "source": [
    "Посмотрим общую информацию о датафрейме:"
   ]
  },
  {
   "cell_type": "code",
   "execution_count": 3,
   "metadata": {},
   "outputs": [
    {
     "name": "stdout",
     "output_type": "stream",
     "text": [
      "<class 'pandas.core.frame.DataFrame'>\n",
      "RangeIndex: 8 entries, 0 to 7\n",
      "Data columns (total 2 columns):\n",
      "model             8 non-null object\n",
      "flights_amount    8 non-null int64\n",
      "dtypes: int64(1), object(1)\n",
      "memory usage: 256.0+ bytes\n"
     ]
    }
   ],
   "source": [
    "aircrafts.info()"
   ]
  },
  {
   "cell_type": "code",
   "execution_count": 4,
   "metadata": {},
   "outputs": [
    {
     "data": {
      "text/html": [
       "<div>\n",
       "<style scoped>\n",
       "    .dataframe tbody tr th:only-of-type {\n",
       "        vertical-align: middle;\n",
       "    }\n",
       "\n",
       "    .dataframe tbody tr th {\n",
       "        vertical-align: top;\n",
       "    }\n",
       "\n",
       "    .dataframe thead th {\n",
       "        text-align: right;\n",
       "    }\n",
       "</style>\n",
       "<table border=\"1\" class=\"dataframe\">\n",
       "  <thead>\n",
       "    <tr style=\"text-align: right;\">\n",
       "      <th></th>\n",
       "      <th>flights_amount</th>\n",
       "    </tr>\n",
       "  </thead>\n",
       "  <tbody>\n",
       "    <tr>\n",
       "      <td>count</td>\n",
       "      <td>8.000000</td>\n",
       "    </tr>\n",
       "    <tr>\n",
       "      <td>mean</td>\n",
       "      <td>2035.625000</td>\n",
       "    </tr>\n",
       "    <tr>\n",
       "      <td>std</td>\n",
       "      <td>1965.203947</td>\n",
       "    </tr>\n",
       "    <tr>\n",
       "      <td>min</td>\n",
       "      <td>300.000000</td>\n",
       "    </tr>\n",
       "    <tr>\n",
       "      <td>25%</td>\n",
       "      <td>605.250000</td>\n",
       "    </tr>\n",
       "    <tr>\n",
       "      <td>50%</td>\n",
       "      <td>795.000000</td>\n",
       "    </tr>\n",
       "    <tr>\n",
       "      <td>75%</td>\n",
       "      <td>4250.250000</td>\n",
       "    </tr>\n",
       "    <tr>\n",
       "      <td>max</td>\n",
       "      <td>4557.000000</td>\n",
       "    </tr>\n",
       "  </tbody>\n",
       "</table>\n",
       "</div>"
      ],
      "text/plain": [
       "       flights_amount\n",
       "count        8.000000\n",
       "mean      2035.625000\n",
       "std       1965.203947\n",
       "min        300.000000\n",
       "25%        605.250000\n",
       "50%        795.000000\n",
       "75%       4250.250000\n",
       "max       4557.000000"
      ]
     },
     "execution_count": 4,
     "metadata": {},
     "output_type": "execute_result"
    }
   ],
   "source": [
    "aircrafts.describe()"
   ]
  },
  {
   "cell_type": "markdown",
   "metadata": {},
   "source": [
    "***Выводы:*** \n",
    "1. Типы данных в таблице aircrafts верные, преобразовывать их не требуется. \n",
    "2. Пропуски отсутствуют.\n",
    "3. Аномальных значений в столбце flights_amount нет. \n",
    "\n",
    "Данные готовы для дальнейшей работы с ними."
   ]
  },
  {
   "cell_type": "markdown",
   "metadata": {},
   "source": [
    "Тоже самое сделаем и с таблицей city, она содержит данные о городах и среднему количеству прибывающих рейсов в день.\n"
   ]
  },
  {
   "cell_type": "code",
   "execution_count": 5,
   "metadata": {},
   "outputs": [
    {
     "data": {
      "text/html": [
       "<div>\n",
       "<style scoped>\n",
       "    .dataframe tbody tr th:only-of-type {\n",
       "        vertical-align: middle;\n",
       "    }\n",
       "\n",
       "    .dataframe tbody tr th {\n",
       "        vertical-align: top;\n",
       "    }\n",
       "\n",
       "    .dataframe thead th {\n",
       "        text-align: right;\n",
       "    }\n",
       "</style>\n",
       "<table border=\"1\" class=\"dataframe\">\n",
       "  <thead>\n",
       "    <tr style=\"text-align: right;\">\n",
       "      <th></th>\n",
       "      <th>city</th>\n",
       "      <th>average_flights</th>\n",
       "    </tr>\n",
       "  </thead>\n",
       "  <tbody>\n",
       "    <tr>\n",
       "      <td>0</td>\n",
       "      <td>Абакан</td>\n",
       "      <td>3.870968</td>\n",
       "    </tr>\n",
       "    <tr>\n",
       "      <td>1</td>\n",
       "      <td>Анадырь</td>\n",
       "      <td>1.000000</td>\n",
       "    </tr>\n",
       "    <tr>\n",
       "      <td>2</td>\n",
       "      <td>Анапа</td>\n",
       "      <td>2.161290</td>\n",
       "    </tr>\n",
       "    <tr>\n",
       "      <td>3</td>\n",
       "      <td>Архангельск</td>\n",
       "      <td>5.354839</td>\n",
       "    </tr>\n",
       "    <tr>\n",
       "      <td>4</td>\n",
       "      <td>Астрахань</td>\n",
       "      <td>2.451613</td>\n",
       "    </tr>\n",
       "    <tr>\n",
       "      <td>...</td>\n",
       "      <td>...</td>\n",
       "      <td>...</td>\n",
       "    </tr>\n",
       "    <tr>\n",
       "      <td>96</td>\n",
       "      <td>Чита</td>\n",
       "      <td>1.580645</td>\n",
       "    </tr>\n",
       "    <tr>\n",
       "      <td>97</td>\n",
       "      <td>Элиста</td>\n",
       "      <td>4.870968</td>\n",
       "    </tr>\n",
       "    <tr>\n",
       "      <td>98</td>\n",
       "      <td>Южно-Сахалинск</td>\n",
       "      <td>4.290323</td>\n",
       "    </tr>\n",
       "    <tr>\n",
       "      <td>99</td>\n",
       "      <td>Якутск</td>\n",
       "      <td>2.741935</td>\n",
       "    </tr>\n",
       "    <tr>\n",
       "      <td>100</td>\n",
       "      <td>Ярославль</td>\n",
       "      <td>1.322581</td>\n",
       "    </tr>\n",
       "  </tbody>\n",
       "</table>\n",
       "<p>101 rows × 2 columns</p>\n",
       "</div>"
      ],
      "text/plain": [
       "               city  average_flights\n",
       "0            Абакан         3.870968\n",
       "1           Анадырь         1.000000\n",
       "2             Анапа         2.161290\n",
       "3       Архангельск         5.354839\n",
       "4         Астрахань         2.451613\n",
       "..              ...              ...\n",
       "96             Чита         1.580645\n",
       "97           Элиста         4.870968\n",
       "98   Южно-Сахалинск         4.290323\n",
       "99           Якутск         2.741935\n",
       "100       Ярославль         1.322581\n",
       "\n",
       "[101 rows x 2 columns]"
      ]
     },
     "execution_count": 5,
     "metadata": {},
     "output_type": "execute_result"
    }
   ],
   "source": [
    "city"
   ]
  },
  {
   "cell_type": "code",
   "execution_count": 6,
   "metadata": {},
   "outputs": [
    {
     "name": "stdout",
     "output_type": "stream",
     "text": [
      "<class 'pandas.core.frame.DataFrame'>\n",
      "RangeIndex: 101 entries, 0 to 100\n",
      "Data columns (total 2 columns):\n",
      "city               101 non-null object\n",
      "average_flights    101 non-null float64\n",
      "dtypes: float64(1), object(1)\n",
      "memory usage: 1.7+ KB\n"
     ]
    }
   ],
   "source": [
    "city.info()"
   ]
  },
  {
   "cell_type": "code",
   "execution_count": 7,
   "metadata": {},
   "outputs": [
    {
     "data": {
      "text/html": [
       "<div>\n",
       "<style scoped>\n",
       "    .dataframe tbody tr th:only-of-type {\n",
       "        vertical-align: middle;\n",
       "    }\n",
       "\n",
       "    .dataframe tbody tr th {\n",
       "        vertical-align: top;\n",
       "    }\n",
       "\n",
       "    .dataframe thead th {\n",
       "        text-align: right;\n",
       "    }\n",
       "</style>\n",
       "<table border=\"1\" class=\"dataframe\">\n",
       "  <thead>\n",
       "    <tr style=\"text-align: right;\">\n",
       "      <th></th>\n",
       "      <th>average_flights</th>\n",
       "    </tr>\n",
       "  </thead>\n",
       "  <tbody>\n",
       "    <tr>\n",
       "      <td>count</td>\n",
       "      <td>101.000000</td>\n",
       "    </tr>\n",
       "    <tr>\n",
       "      <td>mean</td>\n",
       "      <td>5.494189</td>\n",
       "    </tr>\n",
       "    <tr>\n",
       "      <td>std</td>\n",
       "      <td>13.119790</td>\n",
       "    </tr>\n",
       "    <tr>\n",
       "      <td>min</td>\n",
       "      <td>1.000000</td>\n",
       "    </tr>\n",
       "    <tr>\n",
       "      <td>25%</td>\n",
       "      <td>2.000000</td>\n",
       "    </tr>\n",
       "    <tr>\n",
       "      <td>50%</td>\n",
       "      <td>3.000000</td>\n",
       "    </tr>\n",
       "    <tr>\n",
       "      <td>75%</td>\n",
       "      <td>5.870968</td>\n",
       "    </tr>\n",
       "    <tr>\n",
       "      <td>max</td>\n",
       "      <td>129.774194</td>\n",
       "    </tr>\n",
       "  </tbody>\n",
       "</table>\n",
       "</div>"
      ],
      "text/plain": [
       "       average_flights\n",
       "count       101.000000\n",
       "mean          5.494189\n",
       "std          13.119790\n",
       "min           1.000000\n",
       "25%           2.000000\n",
       "50%           3.000000\n",
       "75%           5.870968\n",
       "max         129.774194"
      ]
     },
     "execution_count": 7,
     "metadata": {},
     "output_type": "execute_result"
    }
   ],
   "source": [
    "city.describe()"
   ]
  },
  {
   "cell_type": "markdown",
   "metadata": {},
   "source": [
    "***Выводы:*** \n",
    "1. Типы данных в таблице city верные. \n",
    "2. Пропусков нет.\n",
    "3. Аномальных значений в столбце average_flights нет. \n",
    "\n",
    "Данные готовы к использованию."
   ]
  },
  {
   "cell_type": "markdown",
   "metadata": {},
   "source": [
    "### Построение графиков"
   ]
  },
  {
   "cell_type": "markdown",
   "metadata": {},
   "source": [
    "Построю график по таблице aircrafts.\n",
    "\n",
    "Отсортирую столбец flights_amount в датафрейме aircrafts по убыванию и построим график."
   ]
  },
  {
   "cell_type": "code",
   "execution_count": 8,
   "metadata": {},
   "outputs": [],
   "source": [
    "aircrafts = aircrafts.sort_values(by = 'flights_amount', ascending = False)"
   ]
  },
  {
   "cell_type": "code",
   "execution_count": 9,
   "metadata": {},
   "outputs": [
    {
     "data": {
      "text/plain": [
       "<matplotlib.axes._subplots.AxesSubplot at 0x7f0987df0d50>"
      ]
     },
     "execution_count": 9,
     "metadata": {},
     "output_type": "execute_result"
    },
    {
     "data": {
      "image/png": "[encoded data removed]",
      "text/plain": [
       "<Figure size 1080x360 with 1 Axes>"
      ]
     },
     "metadata": {
      "needs_background": "light"
     },
     "output_type": "display_data"
    }
   ],
   "source": [
    "aircrafts.plot(x = 'model', y = 'flights_amount', kind = 'bar',  grid=True, figsize = (15, 5), title = 'Модель самолета и количество рейсов')"
   ]
  },
  {
   "cell_type": "markdown",
   "metadata": {},
   "source": [
    "***Выводы:*** \n",
    "\n",
    "1. Чаще других используются самолеты Cessna 208 Caravan, Bombardier CRJ-200, Sukhoi SuperJet-100.\n",
    "2. Остальные модели самолетов используются, как минимум, в 4 раза реже моделей самолетов из топ-3."
   ]
  },
  {
   "cell_type": "markdown",
   "metadata": {},
   "source": [
    "Построю график по таблице city.\n",
    "\n",
    "Отсортирую столбец average_flights в датафрейме city по убыванию и построим график."
   ]
  },
  {
   "cell_type": "code",
   "execution_count": 10,
   "metadata": {},
   "outputs": [
    {
     "data": {
      "text/plain": [
       "<matplotlib.axes._subplots.AxesSubplot at 0x7f097ea1a750>"
      ]
     },
     "execution_count": 10,
     "metadata": {},
     "output_type": "execute_result"
    },
    {
     "data": {
      "image/png": "[encoded data removed]",
      "text/plain": [
       "<Figure size 1440x360 with 1 Axes>"
      ]
     },
     "metadata": {
      "needs_background": "light"
     },
     "output_type": "display_data"
    }
   ],
   "source": [
    "city.sort_values(by = 'average_flights', ascending = False).plot(x = 'city', y = 'average_flights', kind = 'bar', grid=True, figsize=(20, 5), title = 'Среднее количество рейсов прибывающих в каждый из городов')"
   ]
  },
  {
   "cell_type": "markdown",
   "metadata": {},
   "source": [
    "Построим график для топ-10 городов по количеству рейсов:"
   ]
  },
  {
   "cell_type": "code",
   "execution_count": 11,
   "metadata": {},
   "outputs": [
    {
     "data": {
      "text/html": [
       "<div>\n",
       "<style scoped>\n",
       "    .dataframe tbody tr th:only-of-type {\n",
       "        vertical-align: middle;\n",
       "    }\n",
       "\n",
       "    .dataframe tbody tr th {\n",
       "        vertical-align: top;\n",
       "    }\n",
       "\n",
       "    .dataframe thead th {\n",
       "        text-align: right;\n",
       "    }\n",
       "</style>\n",
       "<table border=\"1\" class=\"dataframe\">\n",
       "  <thead>\n",
       "    <tr style=\"text-align: right;\">\n",
       "      <th></th>\n",
       "      <th>city</th>\n",
       "      <th>average_flights</th>\n",
       "    </tr>\n",
       "  </thead>\n",
       "  <tbody>\n",
       "    <tr>\n",
       "      <td>0</td>\n",
       "      <td>Москва</td>\n",
       "      <td>129.774194</td>\n",
       "    </tr>\n",
       "    <tr>\n",
       "      <td>1</td>\n",
       "      <td>Санкт-Петербург</td>\n",
       "      <td>31.161290</td>\n",
       "    </tr>\n",
       "    <tr>\n",
       "      <td>2</td>\n",
       "      <td>Новосибирск</td>\n",
       "      <td>17.322581</td>\n",
       "    </tr>\n",
       "    <tr>\n",
       "      <td>3</td>\n",
       "      <td>Красноярск</td>\n",
       "      <td>11.580645</td>\n",
       "    </tr>\n",
       "    <tr>\n",
       "      <td>4</td>\n",
       "      <td>Екатеринбург</td>\n",
       "      <td>11.322581</td>\n",
       "    </tr>\n",
       "    <tr>\n",
       "      <td>5</td>\n",
       "      <td>Ростов-на-Дону</td>\n",
       "      <td>10.193548</td>\n",
       "    </tr>\n",
       "    <tr>\n",
       "      <td>6</td>\n",
       "      <td>Пермь</td>\n",
       "      <td>10.129032</td>\n",
       "    </tr>\n",
       "    <tr>\n",
       "      <td>7</td>\n",
       "      <td>Брянск</td>\n",
       "      <td>10.000000</td>\n",
       "    </tr>\n",
       "    <tr>\n",
       "      <td>8</td>\n",
       "      <td>Сочи</td>\n",
       "      <td>9.612903</td>\n",
       "    </tr>\n",
       "    <tr>\n",
       "      <td>9</td>\n",
       "      <td>Ульяновск</td>\n",
       "      <td>9.580645</td>\n",
       "    </tr>\n",
       "  </tbody>\n",
       "</table>\n",
       "</div>"
      ],
      "text/plain": [
       "              city  average_flights\n",
       "0           Москва       129.774194\n",
       "1  Санкт-Петербург        31.161290\n",
       "2      Новосибирск        17.322581\n",
       "3       Красноярск        11.580645\n",
       "4     Екатеринбург        11.322581\n",
       "5   Ростов-на-Дону        10.193548\n",
       "6            Пермь        10.129032\n",
       "7           Брянск        10.000000\n",
       "8             Сочи         9.612903\n",
       "9        Ульяновск         9.580645"
      ]
     },
     "execution_count": 11,
     "metadata": {},
     "output_type": "execute_result"
    }
   ],
   "source": [
    "top_10_cities = city.sort_values(by = 'average_flights', ascending = False)[:10].reset_index(drop = True)\n",
    "top_10_cities"
   ]
  },
  {
   "cell_type": "code",
   "execution_count": 12,
   "metadata": {},
   "outputs": [
    {
     "data": {
      "image/png": "[encoded data removed]",
      "text/plain": [
       "<Figure size 432x288 with 1 Axes>"
      ]
     },
     "metadata": {
      "needs_background": "light"
     },
     "output_type": "display_data"
    }
   ],
   "source": [
    "top_10_cities.sort_values(by = 'average_flights', ascending = True).plot(x='city',y='average_flights',kind='barh', grid= True, title='Топ-10 городов по среднему количеству рейсов');"
   ]
  },
  {
   "cell_type": "markdown",
   "metadata": {},
   "source": [
    "***Выводы:*** \n",
    "\n",
    "1. На первом месте с большим отрывом Москва, 130 рейсов в день, в столице среднее количество прибывающих в день рейсов в 4 раза больше, чем в Санкт-Петербурге(31,2 рейсов в день). \n",
    "2. В Новосибирск в день прилетает в два раза меньше самолетов, чем в Санкт-Петербург. \n",
    "3. В остальных горадах это значение еще меньше, в среднем 5,5 рейсов в день."
   ]
  },
  {
   "cell_type": "markdown",
   "metadata": {},
   "source": [
    "### Выводы"
   ]
  },
  {
   "cell_type": "markdown",
   "metadata": {},
   "source": [
    "1. Изучены данные в файлах.\n",
    "\n",
    "2. Построены графики: \n",
    "    модели самолетов и количество рейсов\n",
    "    города и количество рейсов \n",
    "\n",
    "Выбраны самые часто используемые модели самолетов - это Cessna 208 Caravan, Bombardier CRJ-200, Sukhoi SuperJet-100.\n",
    "\n",
    "3. Выбраны топ-10 городов и количество рейсов, построен график.\n",
    "\n",
    "Топ-3 города по количеству прибывающих рейсов - Москва, Санкт-Петербург, Новосибирск. "
   ]
  }
 ],
 "metadata": {
  "ExecuteTimeLog": [
   {
    "duration": 1559,
    "start_time": "2021-08-30T17:07:39.322Z"
   },
   {
    "duration": 14,
    "start_time": "2021-08-30T17:07:40.883Z"
   },
   {
    "duration": 15,
    "start_time": "2021-08-30T17:07:40.899Z"
   },
   {
    "duration": 9,
    "start_time": "2021-08-30T17:10:24.897Z"
   },
   {
    "duration": 8,
    "start_time": "2021-08-30T17:10:32.368Z"
   },
   {
    "duration": 524,
    "start_time": "2021-08-30T17:10:54.615Z"
   },
   {
    "duration": 17,
    "start_time": "2021-08-30T17:11:00.356Z"
   },
   {
    "duration": 17,
    "start_time": "2021-08-30T17:11:11.274Z"
   },
   {
    "duration": 14,
    "start_time": "2021-08-30T17:11:20.568Z"
   },
   {
    "duration": 9,
    "start_time": "2021-08-30T17:11:23.963Z"
   },
   {
    "duration": 379,
    "start_time": "2021-08-30T17:13:41.115Z"
   },
   {
    "duration": 368,
    "start_time": "2021-08-30T17:13:46.107Z"
   },
   {
    "duration": 6,
    "start_time": "2021-08-30T17:15:05.359Z"
   },
   {
    "duration": 9,
    "start_time": "2021-08-30T17:15:15.172Z"
   },
   {
    "duration": 12,
    "start_time": "2021-08-30T17:18:47.640Z"
   },
   {
    "duration": 15,
    "start_time": "2021-08-30T17:19:11.393Z"
   },
   {
    "duration": 397,
    "start_time": "2021-08-30T17:19:39.335Z"
   },
   {
    "duration": 2036,
    "start_time": "2021-08-30T17:19:56.682Z"
   },
   {
    "duration": 1412,
    "start_time": "2021-08-31T15:41:52.448Z"
   },
   {
    "duration": 252,
    "start_time": "2021-08-31T15:41:53.862Z"
   },
   {
    "duration": -144,
    "start_time": "2021-08-31T15:41:54.260Z"
   },
   {
    "duration": -145,
    "start_time": "2021-08-31T15:41:54.262Z"
   },
   {
    "duration": -145,
    "start_time": "2021-08-31T15:41:54.263Z"
   },
   {
    "duration": -145,
    "start_time": "2021-08-31T15:41:54.264Z"
   },
   {
    "duration": -145,
    "start_time": "2021-08-31T15:41:54.265Z"
   },
   {
    "duration": -144,
    "start_time": "2021-08-31T15:41:54.265Z"
   },
   {
    "duration": -147,
    "start_time": "2021-08-31T15:41:54.269Z"
   },
   {
    "duration": 9,
    "start_time": "2021-08-31T15:42:08.314Z"
   },
   {
    "duration": 6,
    "start_time": "2021-08-31T15:42:08.991Z"
   },
   {
    "duration": 11,
    "start_time": "2021-08-31T15:42:09.354Z"
   },
   {
    "duration": 10,
    "start_time": "2021-08-31T15:42:09.549Z"
   },
   {
    "duration": 6,
    "start_time": "2021-08-31T15:42:09.833Z"
   },
   {
    "duration": 12,
    "start_time": "2021-08-31T15:42:10.075Z"
   },
   {
    "duration": 231,
    "start_time": "2021-08-31T15:42:10.301Z"
   },
   {
    "duration": 1140,
    "start_time": "2021-08-31T15:42:10.578Z"
   },
   {
    "duration": 8,
    "start_time": "2021-08-31T15:45:08.559Z"
   },
   {
    "duration": 250,
    "start_time": "2021-08-31T15:45:09.212Z"
   },
   {
    "duration": 3,
    "start_time": "2021-08-31T15:45:25.130Z"
   },
   {
    "duration": 336,
    "start_time": "2021-08-31T15:45:25.719Z"
   },
   {
    "duration": 199,
    "start_time": "2021-08-31T15:45:40.705Z"
   },
   {
    "duration": 75,
    "start_time": "2021-08-31T15:49:26.662Z"
   },
   {
    "duration": 65,
    "start_time": "2021-08-31T15:50:32.561Z"
   },
   {
    "duration": 57,
    "start_time": "2021-08-31T15:50:55.869Z"
   },
   {
    "duration": 53,
    "start_time": "2021-08-31T15:51:03.847Z"
   },
   {
    "duration": 210,
    "start_time": "2021-08-31T15:51:27.533Z"
   },
   {
    "duration": 251,
    "start_time": "2021-08-31T15:51:32.835Z"
   },
   {
    "duration": 1591,
    "start_time": "2021-08-31T15:52:18.311Z"
   },
   {
    "duration": 1652,
    "start_time": "2021-08-31T15:52:29.073Z"
   },
   {
    "duration": 213,
    "start_time": "2021-08-31T15:52:50.695Z"
   },
   {
    "duration": 199,
    "start_time": "2021-08-31T15:53:00.535Z"
   },
   {
    "duration": 1739,
    "start_time": "2021-08-31T15:54:05.246Z"
   },
   {
    "duration": 1692,
    "start_time": "2021-08-31T15:55:05.237Z"
   },
   {
    "duration": 1570,
    "start_time": "2021-08-31T15:55:13.631Z"
   },
   {
    "duration": 7,
    "start_time": "2021-08-31T16:00:04.552Z"
   },
   {
    "duration": 1593,
    "start_time": "2021-08-31T16:00:16.961Z"
   },
   {
    "duration": 174,
    "start_time": "2021-08-31T16:00:19.189Z"
   },
   {
    "duration": 170,
    "start_time": "2021-08-31T16:00:31.943Z"
   },
   {
    "duration": 169,
    "start_time": "2021-08-31T16:00:44.436Z"
   },
   {
    "duration": 175,
    "start_time": "2021-08-31T16:00:55.139Z"
   },
   {
    "duration": 181,
    "start_time": "2021-08-31T16:01:03.633Z"
   },
   {
    "duration": 1112,
    "start_time": "2021-08-31T16:01:17.505Z"
   },
   {
    "duration": 11,
    "start_time": "2021-08-31T16:01:18.619Z"
   },
   {
    "duration": 8,
    "start_time": "2021-08-31T16:01:18.633Z"
   },
   {
    "duration": 17,
    "start_time": "2021-08-31T16:01:18.643Z"
   },
   {
    "duration": 13,
    "start_time": "2021-08-31T16:01:18.662Z"
   },
   {
    "duration": 13,
    "start_time": "2021-08-31T16:01:18.677Z"
   },
   {
    "duration": 16,
    "start_time": "2021-08-31T16:01:18.692Z"
   },
   {
    "duration": 4,
    "start_time": "2021-08-31T16:01:18.712Z"
   },
   {
    "duration": 309,
    "start_time": "2021-08-31T16:01:18.718Z"
   },
   {
    "duration": 1690,
    "start_time": "2021-08-31T16:01:19.029Z"
   },
   {
    "duration": 267,
    "start_time": "2021-08-31T16:01:20.721Z"
   },
   {
    "duration": 171,
    "start_time": "2021-08-31T16:01:48.645Z"
   },
   {
    "duration": 227,
    "start_time": "2021-08-31T16:01:52.186Z"
   },
   {
    "duration": 188,
    "start_time": "2021-08-31T16:01:52.694Z"
   },
   {
    "duration": 1071,
    "start_time": "2021-08-31T16:01:58.287Z"
   },
   {
    "duration": 10,
    "start_time": "2021-08-31T16:01:59.360Z"
   },
   {
    "duration": 6,
    "start_time": "2021-08-31T16:01:59.372Z"
   },
   {
    "duration": 17,
    "start_time": "2021-08-31T16:01:59.379Z"
   },
   {
    "duration": 13,
    "start_time": "2021-08-31T16:01:59.398Z"
   },
   {
    "duration": 10,
    "start_time": "2021-08-31T16:01:59.412Z"
   },
   {
    "duration": 12,
    "start_time": "2021-08-31T16:01:59.424Z"
   },
   {
    "duration": 5,
    "start_time": "2021-08-31T16:01:59.438Z"
   },
   {
    "duration": 281,
    "start_time": "2021-08-31T16:01:59.446Z"
   },
   {
    "duration": 4,
    "start_time": "2021-08-31T16:01:59.729Z"
   },
   {
    "duration": 1604,
    "start_time": "2021-08-31T16:01:59.734Z"
   },
   {
    "duration": 9,
    "start_time": "2021-08-31T16:02:01.339Z"
   },
   {
    "duration": 1523,
    "start_time": "2021-08-31T16:04:54.130Z"
   },
   {
    "duration": 1996,
    "start_time": "2021-08-31T16:05:01.132Z"
   },
   {
    "duration": 9,
    "start_time": "2021-08-31T16:05:34.840Z"
   },
   {
    "duration": 199,
    "start_time": "2021-08-31T16:05:39.798Z"
   },
   {
    "duration": 3,
    "start_time": "2021-08-31T16:05:52.354Z"
   },
   {
    "duration": 1907,
    "start_time": "2021-08-31T16:05:53.212Z"
   },
   {
    "duration": 10,
    "start_time": "2021-08-31T16:06:30.856Z"
   },
   {
    "duration": 9,
    "start_time": "2021-08-31T16:06:40.324Z"
   },
   {
    "duration": 209,
    "start_time": "2021-08-31T16:06:41.330Z"
   },
   {
    "duration": 1142,
    "start_time": "2021-08-31T16:06:47.110Z"
   },
   {
    "duration": 15,
    "start_time": "2021-08-31T16:06:48.255Z"
   },
   {
    "duration": 7,
    "start_time": "2021-08-31T16:06:48.274Z"
   },
   {
    "duration": 14,
    "start_time": "2021-08-31T16:06:48.285Z"
   },
   {
    "duration": 11,
    "start_time": "2021-08-31T16:06:48.301Z"
   },
   {
    "duration": 8,
    "start_time": "2021-08-31T16:06:48.314Z"
   },
   {
    "duration": 16,
    "start_time": "2021-08-31T16:06:48.324Z"
   },
   {
    "duration": 4,
    "start_time": "2021-08-31T16:06:48.386Z"
   },
   {
    "duration": 296,
    "start_time": "2021-08-31T16:06:48.392Z"
   },
   {
    "duration": 6,
    "start_time": "2021-08-31T16:06:48.690Z"
   },
   {
    "duration": 2067,
    "start_time": "2021-08-31T16:06:48.698Z"
   },
   {
    "duration": 21,
    "start_time": "2021-08-31T16:06:50.767Z"
   },
   {
    "duration": 219,
    "start_time": "2021-08-31T16:06:50.790Z"
   },
   {
    "duration": 11,
    "start_time": "2021-08-31T16:07:13.153Z"
   },
   {
    "duration": 11,
    "start_time": "2021-08-31T16:07:29.565Z"
   },
   {
    "duration": 1409,
    "start_time": "2021-08-31T16:08:51.715Z"
   },
   {
    "duration": 1937,
    "start_time": "2021-08-31T16:09:34.883Z"
   },
   {
    "duration": 10,
    "start_time": "2021-08-31T16:10:20.859Z"
   },
   {
    "duration": 9,
    "start_time": "2021-08-31T16:10:36.366Z"
   },
   {
    "duration": 8,
    "start_time": "2021-08-31T16:10:45.619Z"
   },
   {
    "duration": 203,
    "start_time": "2021-08-31T16:10:46.460Z"
   },
   {
    "duration": 202,
    "start_time": "2021-08-31T16:11:18.616Z"
   },
   {
    "duration": 2068,
    "start_time": "2021-08-31T16:12:23.316Z"
   },
   {
    "duration": 1764,
    "start_time": "2021-08-31T16:12:44.452Z"
   },
   {
    "duration": 1672,
    "start_time": "2021-08-31T16:13:02.206Z"
   },
   {
    "duration": 1598,
    "start_time": "2021-08-31T16:13:12.190Z"
   },
   {
    "duration": 1581,
    "start_time": "2021-08-31T16:13:19.401Z"
   },
   {
    "duration": 29,
    "start_time": "2021-08-31T16:18:08.114Z"
   },
   {
    "duration": 7,
    "start_time": "2021-08-31T16:18:08.511Z"
   },
   {
    "duration": 6,
    "start_time": "2021-08-31T16:18:08.841Z"
   },
   {
    "duration": 11,
    "start_time": "2021-08-31T16:18:09.154Z"
   },
   {
    "duration": 10,
    "start_time": "2021-08-31T16:18:09.324Z"
   },
   {
    "duration": 8,
    "start_time": "2021-08-31T16:18:09.516Z"
   },
   {
    "duration": 11,
    "start_time": "2021-08-31T16:18:09.705Z"
   },
   {
    "duration": 3,
    "start_time": "2021-08-31T16:18:09.862Z"
   },
   {
    "duration": 265,
    "start_time": "2021-08-31T16:18:10.039Z"
   },
   {
    "duration": 1758,
    "start_time": "2021-08-31T16:18:10.306Z"
   },
   {
    "duration": 20,
    "start_time": "2021-08-31T16:18:12.066Z"
   },
   {
    "duration": 222,
    "start_time": "2021-08-31T16:18:12.088Z"
   },
   {
    "duration": 8,
    "start_time": "2021-08-31T16:25:14.685Z"
   },
   {
    "duration": 7,
    "start_time": "2021-08-31T16:25:15.179Z"
   },
   {
    "duration": 12,
    "start_time": "2021-08-31T16:25:15.595Z"
   },
   {
    "duration": 7,
    "start_time": "2021-08-31T16:27:02.378Z"
   },
   {
    "duration": 12,
    "start_time": "2021-08-31T16:27:02.871Z"
   },
   {
    "duration": 8,
    "start_time": "2021-08-31T16:29:04.198Z"
   },
   {
    "duration": 64,
    "start_time": "2021-08-31T16:30:53.274Z"
   },
   {
    "duration": 11,
    "start_time": "2021-08-31T16:30:53.613Z"
   },
   {
    "duration": 11,
    "start_time": "2021-08-31T16:30:57.669Z"
   },
   {
    "duration": 7,
    "start_time": "2021-08-31T16:31:00.465Z"
   },
   {
    "duration": 12,
    "start_time": "2021-08-31T16:31:01.218Z"
   },
   {
    "duration": 4,
    "start_time": "2021-08-31T16:31:01.749Z"
   },
   {
    "duration": 10,
    "start_time": "2021-08-31T16:42:10.275Z"
   },
   {
    "duration": 10,
    "start_time": "2021-08-31T16:42:17.278Z"
   },
   {
    "duration": 649,
    "start_time": "2021-08-31T16:45:10.592Z"
   },
   {
    "duration": 12,
    "start_time": "2021-08-31T16:45:11.243Z"
   },
   {
    "duration": 7,
    "start_time": "2021-08-31T16:45:11.260Z"
   },
   {
    "duration": 24,
    "start_time": "2021-08-31T16:45:11.269Z"
   },
   {
    "duration": 10,
    "start_time": "2021-08-31T16:45:11.295Z"
   },
   {
    "duration": 6,
    "start_time": "2021-08-31T16:45:11.307Z"
   },
   {
    "duration": 11,
    "start_time": "2021-08-31T16:45:11.316Z"
   },
   {
    "duration": 6,
    "start_time": "2021-08-31T16:45:11.329Z"
   },
   {
    "duration": 317,
    "start_time": "2021-08-31T16:45:11.336Z"
   },
   {
    "duration": 1639,
    "start_time": "2021-08-31T16:45:11.655Z"
   },
   {
    "duration": 9,
    "start_time": "2021-08-31T16:45:13.296Z"
   },
   {
    "duration": 283,
    "start_time": "2021-08-31T16:45:13.307Z"
   },
   {
    "duration": 120,
    "start_time": "2021-09-01T12:28:18.840Z"
   },
   {
    "duration": 122,
    "start_time": "2021-09-01T12:29:05.142Z"
   }
  ],
  "kernelspec": {
   "display_name": "Python 3",
   "language": "python",
   "name": "python3"
  },
  "language_info": {
   "codemirror_mode": {
    "name": "ipython",
    "version": 3
   },
   "file_extension": ".py",
   "mimetype": "text/x-python",
   "name": "python",
   "nbconvert_exporter": "python",
   "pygments_lexer": "ipython3",
   "version": "3.8.8"
  },
  "toc": {
   "base_numbering": 1,
   "nav_menu": {},
   "number_sections": true,
   "sideBar": true,
   "skip_h1_title": true,
   "title_cell": "Table of Contents",
   "title_sidebar": "Contents",
   "toc_cell": false,
   "toc_position": {},
   "toc_section_display": true,
   "toc_window_display": false
  }
 },
 "nbformat": 4,
 "nbformat_minor": 2
}
