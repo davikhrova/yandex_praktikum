{
 "cells": [
  {
   "cell_type": "markdown",
   "metadata": {},
   "source": [
    "# Описание проекта"
   ]
  },
  {
   "cell_type": "markdown",
   "metadata": {},
   "source": [
    "Вы — аналитик крупного интернет-магазина. Вместе с отделом маркетинга вы подготовили список гипотез для увеличения выручки.\n",
    "Приоритизируйте гипотезы, запустите A/B-тест и проанализируйте результаты."
   ]
  },
  {
   "cell_type": "markdown",
   "metadata": {},
   "source": [
    "Импорт необходимых библиотек:"
   ]
  },
  {
   "cell_type": "code",
   "execution_count": 1,
   "metadata": {},
   "outputs": [],
   "source": [
    "import pandas as pd\n",
    "import scipy.stats as stats\n",
    "import datetime as dt\n",
    "import numpy as np\n",
    "import math as mth\n",
    "import matplotlib.pyplot as plt"
   ]
  },
  {
   "cell_type": "markdown",
   "metadata": {},
   "source": [
    "# Часть 1. Приоритизация гипотез."
   ]
  },
  {
   "cell_type": "markdown",
   "metadata": {},
   "source": [
    "## Загрузка и изучение данных из файлов"
   ]
  },
  {
   "cell_type": "code",
   "execution_count": 2,
   "metadata": {},
   "outputs": [],
   "source": [
    "hypothesis = pd.read_csv('/datasets/hypothesis.csv')"
   ]
  },
  {
   "cell_type": "code",
   "execution_count": 3,
   "metadata": {},
   "outputs": [
    {
     "name": "stdout",
     "output_type": "stream",
     "text": [
      "<class 'pandas.core.frame.DataFrame'>\n",
      "RangeIndex: 9 entries, 0 to 8\n",
      "Data columns (total 5 columns):\n",
      "Hypothesis    9 non-null object\n",
      "Reach         9 non-null int64\n",
      "Impact        9 non-null int64\n",
      "Confidence    9 non-null int64\n",
      "Efforts       9 non-null int64\n",
      "dtypes: int64(4), object(1)\n",
      "memory usage: 488.0+ bytes\n"
     ]
    },
    {
     "data": {
      "text/html": [
       "<div>\n",
       "<style scoped>\n",
       "    .dataframe tbody tr th:only-of-type {\n",
       "        vertical-align: middle;\n",
       "    }\n",
       "\n",
       "    .dataframe tbody tr th {\n",
       "        vertical-align: top;\n",
       "    }\n",
       "\n",
       "    .dataframe thead th {\n",
       "        text-align: right;\n",
       "    }\n",
       "</style>\n",
       "<table border=\"1\" class=\"dataframe\">\n",
       "  <thead>\n",
       "    <tr style=\"text-align: right;\">\n",
       "      <th></th>\n",
       "      <th>Reach</th>\n",
       "      <th>Impact</th>\n",
       "      <th>Confidence</th>\n",
       "      <th>Efforts</th>\n",
       "    </tr>\n",
       "  </thead>\n",
       "  <tbody>\n",
       "    <tr>\n",
       "      <td>count</td>\n",
       "      <td>9.000000</td>\n",
       "      <td>9.000000</td>\n",
       "      <td>9.000000</td>\n",
       "      <td>9.000000</td>\n",
       "    </tr>\n",
       "    <tr>\n",
       "      <td>mean</td>\n",
       "      <td>4.777778</td>\n",
       "      <td>4.777778</td>\n",
       "      <td>5.555556</td>\n",
       "      <td>4.888889</td>\n",
       "    </tr>\n",
       "    <tr>\n",
       "      <td>std</td>\n",
       "      <td>3.153481</td>\n",
       "      <td>3.192874</td>\n",
       "      <td>3.045944</td>\n",
       "      <td>2.803767</td>\n",
       "    </tr>\n",
       "    <tr>\n",
       "      <td>min</td>\n",
       "      <td>1.000000</td>\n",
       "      <td>1.000000</td>\n",
       "      <td>1.000000</td>\n",
       "      <td>1.000000</td>\n",
       "    </tr>\n",
       "    <tr>\n",
       "      <td>25%</td>\n",
       "      <td>3.000000</td>\n",
       "      <td>3.000000</td>\n",
       "      <td>3.000000</td>\n",
       "      <td>3.000000</td>\n",
       "    </tr>\n",
       "    <tr>\n",
       "      <td>50%</td>\n",
       "      <td>3.000000</td>\n",
       "      <td>3.000000</td>\n",
       "      <td>7.000000</td>\n",
       "      <td>5.000000</td>\n",
       "    </tr>\n",
       "    <tr>\n",
       "      <td>75%</td>\n",
       "      <td>8.000000</td>\n",
       "      <td>7.000000</td>\n",
       "      <td>8.000000</td>\n",
       "      <td>6.000000</td>\n",
       "    </tr>\n",
       "    <tr>\n",
       "      <td>max</td>\n",
       "      <td>10.000000</td>\n",
       "      <td>10.000000</td>\n",
       "      <td>9.000000</td>\n",
       "      <td>10.000000</td>\n",
       "    </tr>\n",
       "  </tbody>\n",
       "</table>\n",
       "</div>"
      ],
      "text/plain": [
       "           Reach     Impact  Confidence    Efforts\n",
       "count   9.000000   9.000000    9.000000   9.000000\n",
       "mean    4.777778   4.777778    5.555556   4.888889\n",
       "std     3.153481   3.192874    3.045944   2.803767\n",
       "min     1.000000   1.000000    1.000000   1.000000\n",
       "25%     3.000000   3.000000    3.000000   3.000000\n",
       "50%     3.000000   3.000000    7.000000   5.000000\n",
       "75%     8.000000   7.000000    8.000000   6.000000\n",
       "max    10.000000  10.000000    9.000000  10.000000"
      ]
     },
     "execution_count": 3,
     "metadata": {},
     "output_type": "execute_result"
    }
   ],
   "source": [
    "hypothesis.info()\n",
    "hypothesis.describe()"
   ]
  },
  {
   "cell_type": "markdown",
   "metadata": {},
   "source": [
    "Пропуски в столбцах датафрейма отсутствуют, форматы данных подходящие, замена не требуется."
   ]
  },
  {
   "cell_type": "markdown",
   "metadata": {},
   "source": [
    "## Расчёт ICE "
   ]
  },
  {
   "cell_type": "markdown",
   "metadata": {},
   "source": [
    "Добавлю столбец ICE в hypothesis."
   ]
  },
  {
   "cell_type": "code",
   "execution_count": 4,
   "metadata": {},
   "outputs": [
    {
     "data": {
      "text/html": [
       "<div>\n",
       "<style scoped>\n",
       "    .dataframe tbody tr th:only-of-type {\n",
       "        vertical-align: middle;\n",
       "    }\n",
       "\n",
       "    .dataframe tbody tr th {\n",
       "        vertical-align: top;\n",
       "    }\n",
       "\n",
       "    .dataframe thead th {\n",
       "        text-align: right;\n",
       "    }\n",
       "</style>\n",
       "<table border=\"1\" class=\"dataframe\">\n",
       "  <thead>\n",
       "    <tr style=\"text-align: right;\">\n",
       "      <th></th>\n",
       "      <th>Hypothesis</th>\n",
       "      <th>Reach</th>\n",
       "      <th>Impact</th>\n",
       "      <th>Confidence</th>\n",
       "      <th>Efforts</th>\n",
       "      <th>ICE</th>\n",
       "    </tr>\n",
       "  </thead>\n",
       "  <tbody>\n",
       "    <tr>\n",
       "      <td>8</td>\n",
       "      <td>Запустить акцию, дающую скидку на товар в день...</td>\n",
       "      <td>1</td>\n",
       "      <td>9</td>\n",
       "      <td>9</td>\n",
       "      <td>5</td>\n",
       "      <td>16.200000</td>\n",
       "    </tr>\n",
       "    <tr>\n",
       "      <td>0</td>\n",
       "      <td>Добавить два новых канала привлечения трафика,...</td>\n",
       "      <td>3</td>\n",
       "      <td>10</td>\n",
       "      <td>8</td>\n",
       "      <td>6</td>\n",
       "      <td>13.333333</td>\n",
       "    </tr>\n",
       "    <tr>\n",
       "      <td>7</td>\n",
       "      <td>Добавить форму подписки на все основные страни...</td>\n",
       "      <td>10</td>\n",
       "      <td>7</td>\n",
       "      <td>8</td>\n",
       "      <td>5</td>\n",
       "      <td>11.200000</td>\n",
       "    </tr>\n",
       "    <tr>\n",
       "      <td>6</td>\n",
       "      <td>Показать на главной странице баннеры с актуаль...</td>\n",
       "      <td>5</td>\n",
       "      <td>3</td>\n",
       "      <td>8</td>\n",
       "      <td>3</td>\n",
       "      <td>8.000000</td>\n",
       "    </tr>\n",
       "    <tr>\n",
       "      <td>2</td>\n",
       "      <td>Добавить блоки рекомендаций товаров на сайт ин...</td>\n",
       "      <td>8</td>\n",
       "      <td>3</td>\n",
       "      <td>7</td>\n",
       "      <td>3</td>\n",
       "      <td>7.000000</td>\n",
       "    </tr>\n",
       "    <tr>\n",
       "      <td>1</td>\n",
       "      <td>Запустить собственную службу доставки, что сок...</td>\n",
       "      <td>2</td>\n",
       "      <td>5</td>\n",
       "      <td>4</td>\n",
       "      <td>10</td>\n",
       "      <td>2.000000</td>\n",
       "    </tr>\n",
       "    <tr>\n",
       "      <td>5</td>\n",
       "      <td>Добавить страницу отзывов клиентов о магазине,...</td>\n",
       "      <td>3</td>\n",
       "      <td>2</td>\n",
       "      <td>2</td>\n",
       "      <td>3</td>\n",
       "      <td>1.333333</td>\n",
       "    </tr>\n",
       "    <tr>\n",
       "      <td>3</td>\n",
       "      <td>Изменить структура категорий, что увеличит кон...</td>\n",
       "      <td>8</td>\n",
       "      <td>3</td>\n",
       "      <td>3</td>\n",
       "      <td>8</td>\n",
       "      <td>1.125000</td>\n",
       "    </tr>\n",
       "    <tr>\n",
       "      <td>4</td>\n",
       "      <td>Изменить цвет фона главной страницы, чтобы уве...</td>\n",
       "      <td>3</td>\n",
       "      <td>1</td>\n",
       "      <td>1</td>\n",
       "      <td>1</td>\n",
       "      <td>1.000000</td>\n",
       "    </tr>\n",
       "  </tbody>\n",
       "</table>\n",
       "</div>"
      ],
      "text/plain": [
       "                                          Hypothesis  Reach  Impact  \\\n",
       "8  Запустить акцию, дающую скидку на товар в день...      1       9   \n",
       "0  Добавить два новых канала привлечения трафика,...      3      10   \n",
       "7  Добавить форму подписки на все основные страни...     10       7   \n",
       "6  Показать на главной странице баннеры с актуаль...      5       3   \n",
       "2  Добавить блоки рекомендаций товаров на сайт ин...      8       3   \n",
       "1  Запустить собственную службу доставки, что сок...      2       5   \n",
       "5  Добавить страницу отзывов клиентов о магазине,...      3       2   \n",
       "3  Изменить структура категорий, что увеличит кон...      8       3   \n",
       "4  Изменить цвет фона главной страницы, чтобы уве...      3       1   \n",
       "\n",
       "   Confidence  Efforts        ICE  \n",
       "8           9        5  16.200000  \n",
       "0           8        6  13.333333  \n",
       "7           8        5  11.200000  \n",
       "6           8        3   8.000000  \n",
       "2           7        3   7.000000  \n",
       "1           4       10   2.000000  \n",
       "5           2        3   1.333333  \n",
       "3           3        8   1.125000  \n",
       "4           1        1   1.000000  "
      ]
     },
     "metadata": {},
     "output_type": "display_data"
    }
   ],
   "source": [
    "hypothesis['ICE'] = (hypothesis['Impact'] * hypothesis['Confidence'] / hypothesis['Efforts']) #.map(lambda x: \"{0:.2f}\".format(x))\n",
    "display(hypothesis.sort_values(by = ['ICE'], ascending = False))"
   ]
  },
  {
   "cell_type": "markdown",
   "metadata": {},
   "source": [
    "**Выводы:**\n",
    "\n",
    "Самые перспективные гипотезы 8, 0 и 7."
   ]
  },
  {
   "cell_type": "markdown",
   "metadata": {},
   "source": [
    "## Расчёт RICE "
   ]
  },
  {
   "cell_type": "markdown",
   "metadata": {},
   "source": [
    "Добавлю столбец RICE в hypothesis."
   ]
  },
  {
   "cell_type": "code",
   "execution_count": 5,
   "metadata": {},
   "outputs": [
    {
     "data": {
      "text/html": [
       "<div>\n",
       "<style scoped>\n",
       "    .dataframe tbody tr th:only-of-type {\n",
       "        vertical-align: middle;\n",
       "    }\n",
       "\n",
       "    .dataframe tbody tr th {\n",
       "        vertical-align: top;\n",
       "    }\n",
       "\n",
       "    .dataframe thead th {\n",
       "        text-align: right;\n",
       "    }\n",
       "</style>\n",
       "<table border=\"1\" class=\"dataframe\">\n",
       "  <thead>\n",
       "    <tr style=\"text-align: right;\">\n",
       "      <th></th>\n",
       "      <th>Hypothesis</th>\n",
       "      <th>Reach</th>\n",
       "      <th>Impact</th>\n",
       "      <th>Confidence</th>\n",
       "      <th>Efforts</th>\n",
       "      <th>ICE</th>\n",
       "      <th>RICE</th>\n",
       "    </tr>\n",
       "  </thead>\n",
       "  <tbody>\n",
       "    <tr>\n",
       "      <td>7</td>\n",
       "      <td>Добавить форму подписки на все основные страни...</td>\n",
       "      <td>10</td>\n",
       "      <td>7</td>\n",
       "      <td>8</td>\n",
       "      <td>5</td>\n",
       "      <td>11.200000</td>\n",
       "      <td>112.0</td>\n",
       "    </tr>\n",
       "    <tr>\n",
       "      <td>2</td>\n",
       "      <td>Добавить блоки рекомендаций товаров на сайт ин...</td>\n",
       "      <td>8</td>\n",
       "      <td>3</td>\n",
       "      <td>7</td>\n",
       "      <td>3</td>\n",
       "      <td>7.000000</td>\n",
       "      <td>56.0</td>\n",
       "    </tr>\n",
       "    <tr>\n",
       "      <td>0</td>\n",
       "      <td>Добавить два новых канала привлечения трафика,...</td>\n",
       "      <td>3</td>\n",
       "      <td>10</td>\n",
       "      <td>8</td>\n",
       "      <td>6</td>\n",
       "      <td>13.333333</td>\n",
       "      <td>40.0</td>\n",
       "    </tr>\n",
       "    <tr>\n",
       "      <td>6</td>\n",
       "      <td>Показать на главной странице баннеры с актуаль...</td>\n",
       "      <td>5</td>\n",
       "      <td>3</td>\n",
       "      <td>8</td>\n",
       "      <td>3</td>\n",
       "      <td>8.000000</td>\n",
       "      <td>40.0</td>\n",
       "    </tr>\n",
       "    <tr>\n",
       "      <td>8</td>\n",
       "      <td>Запустить акцию, дающую скидку на товар в день...</td>\n",
       "      <td>1</td>\n",
       "      <td>9</td>\n",
       "      <td>9</td>\n",
       "      <td>5</td>\n",
       "      <td>16.200000</td>\n",
       "      <td>16.2</td>\n",
       "    </tr>\n",
       "    <tr>\n",
       "      <td>3</td>\n",
       "      <td>Изменить структура категорий, что увеличит кон...</td>\n",
       "      <td>8</td>\n",
       "      <td>3</td>\n",
       "      <td>3</td>\n",
       "      <td>8</td>\n",
       "      <td>1.125000</td>\n",
       "      <td>9.0</td>\n",
       "    </tr>\n",
       "    <tr>\n",
       "      <td>1</td>\n",
       "      <td>Запустить собственную службу доставки, что сок...</td>\n",
       "      <td>2</td>\n",
       "      <td>5</td>\n",
       "      <td>4</td>\n",
       "      <td>10</td>\n",
       "      <td>2.000000</td>\n",
       "      <td>4.0</td>\n",
       "    </tr>\n",
       "    <tr>\n",
       "      <td>5</td>\n",
       "      <td>Добавить страницу отзывов клиентов о магазине,...</td>\n",
       "      <td>3</td>\n",
       "      <td>2</td>\n",
       "      <td>2</td>\n",
       "      <td>3</td>\n",
       "      <td>1.333333</td>\n",
       "      <td>4.0</td>\n",
       "    </tr>\n",
       "    <tr>\n",
       "      <td>4</td>\n",
       "      <td>Изменить цвет фона главной страницы, чтобы уве...</td>\n",
       "      <td>3</td>\n",
       "      <td>1</td>\n",
       "      <td>1</td>\n",
       "      <td>1</td>\n",
       "      <td>1.000000</td>\n",
       "      <td>3.0</td>\n",
       "    </tr>\n",
       "  </tbody>\n",
       "</table>\n",
       "</div>"
      ],
      "text/plain": [
       "                                          Hypothesis  Reach  Impact  \\\n",
       "7  Добавить форму подписки на все основные страни...     10       7   \n",
       "2  Добавить блоки рекомендаций товаров на сайт ин...      8       3   \n",
       "0  Добавить два новых канала привлечения трафика,...      3      10   \n",
       "6  Показать на главной странице баннеры с актуаль...      5       3   \n",
       "8  Запустить акцию, дающую скидку на товар в день...      1       9   \n",
       "3  Изменить структура категорий, что увеличит кон...      8       3   \n",
       "1  Запустить собственную службу доставки, что сок...      2       5   \n",
       "5  Добавить страницу отзывов клиентов о магазине,...      3       2   \n",
       "4  Изменить цвет фона главной страницы, чтобы уве...      3       1   \n",
       "\n",
       "   Confidence  Efforts        ICE   RICE  \n",
       "7           8        5  11.200000  112.0  \n",
       "2           7        3   7.000000   56.0  \n",
       "0           8        6  13.333333   40.0  \n",
       "6           8        3   8.000000   40.0  \n",
       "8           9        5  16.200000   16.2  \n",
       "3           3        8   1.125000    9.0  \n",
       "1           4       10   2.000000    4.0  \n",
       "5           2        3   1.333333    4.0  \n",
       "4           1        1   1.000000    3.0  "
      ]
     },
     "metadata": {},
     "output_type": "display_data"
    }
   ],
   "source": [
    "hypothesis['RICE'] = (hypothesis['Reach'] * hypothesis['Impact'] * hypothesis['Confidence'] / hypothesis['Efforts'])\n",
    "display(hypothesis.sort_values(by = ['RICE'], ascending = False))"
   ]
  },
  {
   "cell_type": "markdown",
   "metadata": {},
   "source": [
    "**Вывод:**\n",
    "\n",
    "Самые перспективные гипотезы 7, 2, 0 и 6. "
   ]
  },
  {
   "cell_type": "markdown",
   "metadata": {},
   "source": [
    "## Выводы"
   ]
  },
  {
   "cell_type": "markdown",
   "metadata": {},
   "source": [
    "Приоритизация гипотез при применении RICE изменилась из-за учета охвата пользователей при расчёте фреймворка.\n",
    "\n",
    "Самые перспективные гипотезы 0 и 7 при расчёте по обоим фреймворкам.\n",
    "Возможно, в будущем стоит обратить внимание на гипотезы 2 и 6. \n",
    "\n",
    "На гипотезы 1, 3, 4 и 5 не стоит тратить ресурсы, эти гипотезы получили минимальные оценки.\n",
    "\n",
    "В будущем, считаю, что оценку гипотез стоит проводить с помощью фреймворка RICE, в рамках работы интернет-магазина, учитывать охват пользователей, которых затронет изменение важно."
   ]
  },
  {
   "cell_type": "markdown",
   "metadata": {},
   "source": [
    "# Часть 2. Анализ A/B-теста"
   ]
  },
  {
   "cell_type": "markdown",
   "metadata": {},
   "source": [
    "## Загрузка и изучение данных из файлов:"
   ]
  },
  {
   "cell_type": "code",
   "execution_count": 6,
   "metadata": {},
   "outputs": [],
   "source": [
    "orders = pd.read_csv('/datasets/orders.csv')\n",
    "visitors = pd.read_csv('/datasets/visitors.csv')"
   ]
  },
  {
   "cell_type": "code",
   "execution_count": 7,
   "metadata": {
    "scrolled": false
   },
   "outputs": [
    {
     "name": "stdout",
     "output_type": "stream",
     "text": [
      "<class 'pandas.core.frame.DataFrame'>\n",
      "RangeIndex: 1197 entries, 0 to 1196\n",
      "Data columns (total 5 columns):\n",
      "transactionId    1197 non-null int64\n",
      "visitorId        1197 non-null int64\n",
      "date             1197 non-null object\n",
      "revenue          1197 non-null int64\n",
      "group            1197 non-null object\n",
      "dtypes: int64(3), object(2)\n",
      "memory usage: 46.9+ KB\n"
     ]
    },
    {
     "data": {
      "text/html": [
       "<div>\n",
       "<style scoped>\n",
       "    .dataframe tbody tr th:only-of-type {\n",
       "        vertical-align: middle;\n",
       "    }\n",
       "\n",
       "    .dataframe tbody tr th {\n",
       "        vertical-align: top;\n",
       "    }\n",
       "\n",
       "    .dataframe thead th {\n",
       "        text-align: right;\n",
       "    }\n",
       "</style>\n",
       "<table border=\"1\" class=\"dataframe\">\n",
       "  <thead>\n",
       "    <tr style=\"text-align: right;\">\n",
       "      <th></th>\n",
       "      <th>transactionId</th>\n",
       "      <th>visitorId</th>\n",
       "      <th>revenue</th>\n",
       "    </tr>\n",
       "  </thead>\n",
       "  <tbody>\n",
       "    <tr>\n",
       "      <td>count</td>\n",
       "      <td>1.197000e+03</td>\n",
       "      <td>1.197000e+03</td>\n",
       "      <td>1.197000e+03</td>\n",
       "    </tr>\n",
       "    <tr>\n",
       "      <td>mean</td>\n",
       "      <td>2.155621e+09</td>\n",
       "      <td>2.165960e+09</td>\n",
       "      <td>8.348006e+03</td>\n",
       "    </tr>\n",
       "    <tr>\n",
       "      <td>std</td>\n",
       "      <td>1.229085e+09</td>\n",
       "      <td>1.236014e+09</td>\n",
       "      <td>3.919113e+04</td>\n",
       "    </tr>\n",
       "    <tr>\n",
       "      <td>min</td>\n",
       "      <td>1.062393e+06</td>\n",
       "      <td>5.114589e+06</td>\n",
       "      <td>5.000000e+01</td>\n",
       "    </tr>\n",
       "    <tr>\n",
       "      <td>25%</td>\n",
       "      <td>1.166776e+09</td>\n",
       "      <td>1.111826e+09</td>\n",
       "      <td>1.220000e+03</td>\n",
       "    </tr>\n",
       "    <tr>\n",
       "      <td>50%</td>\n",
       "      <td>2.145194e+09</td>\n",
       "      <td>2.217985e+09</td>\n",
       "      <td>2.978000e+03</td>\n",
       "    </tr>\n",
       "    <tr>\n",
       "      <td>75%</td>\n",
       "      <td>3.237740e+09</td>\n",
       "      <td>3.177606e+09</td>\n",
       "      <td>8.290000e+03</td>\n",
       "    </tr>\n",
       "    <tr>\n",
       "      <td>max</td>\n",
       "      <td>4.293856e+09</td>\n",
       "      <td>4.283872e+09</td>\n",
       "      <td>1.294500e+06</td>\n",
       "    </tr>\n",
       "  </tbody>\n",
       "</table>\n",
       "</div>"
      ],
      "text/plain": [
       "       transactionId     visitorId       revenue\n",
       "count   1.197000e+03  1.197000e+03  1.197000e+03\n",
       "mean    2.155621e+09  2.165960e+09  8.348006e+03\n",
       "std     1.229085e+09  1.236014e+09  3.919113e+04\n",
       "min     1.062393e+06  5.114589e+06  5.000000e+01\n",
       "25%     1.166776e+09  1.111826e+09  1.220000e+03\n",
       "50%     2.145194e+09  2.217985e+09  2.978000e+03\n",
       "75%     3.237740e+09  3.177606e+09  8.290000e+03\n",
       "max     4.293856e+09  4.283872e+09  1.294500e+06"
      ]
     },
     "execution_count": 7,
     "metadata": {},
     "output_type": "execute_result"
    }
   ],
   "source": [
    "orders.info()\n",
    "orders.describe()"
   ]
  },
  {
   "cell_type": "markdown",
   "metadata": {},
   "source": [
    "**Выводы:** В таблице orders отсутствуют пропуски, требуется замена типа данных в столбце date             "
   ]
  },
  {
   "cell_type": "code",
   "execution_count": 8,
   "metadata": {},
   "outputs": [
    {
     "name": "stdout",
     "output_type": "stream",
     "text": [
      "<class 'pandas.core.frame.DataFrame'>\n",
      "RangeIndex: 62 entries, 0 to 61\n",
      "Data columns (total 3 columns):\n",
      "date        62 non-null object\n",
      "group       62 non-null object\n",
      "visitors    62 non-null int64\n",
      "dtypes: int64(1), object(2)\n",
      "memory usage: 1.6+ KB\n"
     ]
    },
    {
     "data": {
      "text/html": [
       "<div>\n",
       "<style scoped>\n",
       "    .dataframe tbody tr th:only-of-type {\n",
       "        vertical-align: middle;\n",
       "    }\n",
       "\n",
       "    .dataframe tbody tr th {\n",
       "        vertical-align: top;\n",
       "    }\n",
       "\n",
       "    .dataframe thead th {\n",
       "        text-align: right;\n",
       "    }\n",
       "</style>\n",
       "<table border=\"1\" class=\"dataframe\">\n",
       "  <thead>\n",
       "    <tr style=\"text-align: right;\">\n",
       "      <th></th>\n",
       "      <th>visitors</th>\n",
       "    </tr>\n",
       "  </thead>\n",
       "  <tbody>\n",
       "    <tr>\n",
       "      <td>count</td>\n",
       "      <td>62.000000</td>\n",
       "    </tr>\n",
       "    <tr>\n",
       "      <td>mean</td>\n",
       "      <td>607.290323</td>\n",
       "    </tr>\n",
       "    <tr>\n",
       "      <td>std</td>\n",
       "      <td>114.400560</td>\n",
       "    </tr>\n",
       "    <tr>\n",
       "      <td>min</td>\n",
       "      <td>361.000000</td>\n",
       "    </tr>\n",
       "    <tr>\n",
       "      <td>25%</td>\n",
       "      <td>534.000000</td>\n",
       "    </tr>\n",
       "    <tr>\n",
       "      <td>50%</td>\n",
       "      <td>624.500000</td>\n",
       "    </tr>\n",
       "    <tr>\n",
       "      <td>75%</td>\n",
       "      <td>710.500000</td>\n",
       "    </tr>\n",
       "    <tr>\n",
       "      <td>max</td>\n",
       "      <td>770.000000</td>\n",
       "    </tr>\n",
       "  </tbody>\n",
       "</table>\n",
       "</div>"
      ],
      "text/plain": [
       "         visitors\n",
       "count   62.000000\n",
       "mean   607.290323\n",
       "std    114.400560\n",
       "min    361.000000\n",
       "25%    534.000000\n",
       "50%    624.500000\n",
       "75%    710.500000\n",
       "max    770.000000"
      ]
     },
     "execution_count": 8,
     "metadata": {},
     "output_type": "execute_result"
    }
   ],
   "source": [
    "visitors.info()\n",
    "visitors.describe()"
   ]
  },
  {
   "cell_type": "markdown",
   "metadata": {},
   "source": [
    "**Выводы:** В таблице visitors отсутствуют пропуски, требуется замена типа данных в столбце date             "
   ]
  },
  {
   "cell_type": "markdown",
   "metadata": {},
   "source": [
    "## Проверка дубликатов и изменение типов данных:"
   ]
  },
  {
   "cell_type": "markdown",
   "metadata": {},
   "source": [
    "Проверю, есть ли дубли в датафреймх:"
   ]
  },
  {
   "cell_type": "code",
   "execution_count": 9,
   "metadata": {},
   "outputs": [
    {
     "name": "stdout",
     "output_type": "stream",
     "text": [
      "Всего дублирующихся строк в таблице orders: 0\n",
      "Всего дублирующихся строк в таблице visitors: 0\n"
     ]
    }
   ],
   "source": [
    "print(\"Всего дублирующихся строк в таблице orders:\", orders.duplicated().sum())\n",
    "print(\"Всего дублирующихся строк в таблице visitors:\", visitors.duplicated().sum())"
   ]
  },
  {
   "cell_type": "markdown",
   "metadata": {},
   "source": [
    "Изменю тип данных в date:"
   ]
  },
  {
   "cell_type": "code",
   "execution_count": 10,
   "metadata": {},
   "outputs": [],
   "source": [
    "orders['date'] = orders['date'].map(\n",
    "    lambda x: dt.datetime.strptime(x, '%Y-%m-%d'))\n",
    "\n",
    "visitors['date'] = visitors['date'].map(\n",
    "    lambda x: dt.datetime.strptime(x, '%Y-%m-%d'))"
   ]
  },
  {
   "cell_type": "markdown",
   "metadata": {},
   "source": [
    "## Графики кумулятивной выручки по дням по группам"
   ]
  },
  {
   "cell_type": "markdown",
   "metadata": {},
   "source": [
    "Создам массив уникальных пар значений дат и групп теста"
   ]
  },
  {
   "cell_type": "code",
   "execution_count": 11,
   "metadata": {},
   "outputs": [],
   "source": [
    "datesGroups = orders[['date', 'group']].drop_duplicates()"
   ]
  },
  {
   "cell_type": "markdown",
   "metadata": {},
   "source": [
    "Получаю агрегированные кумулятивные по дням данные о заказах и  агрегированные кумулятивные по дням данные о посетителях интернет-магазина."
   ]
  },
  {
   "cell_type": "code",
   "execution_count": 12,
   "metadata": {},
   "outputs": [],
   "source": [
    "ordersAggregated = datesGroups.apply(lambda x: orders[np.logical_and(orders['date'] <= x['date'], orders['group'] == x['group'])]\\\n",
    ".agg({'date' : 'max', \n",
    "      'group' : 'max', \n",
    "      'transactionId' : pd.Series.nunique, 'visitorId' : pd.Series.nunique, 'revenue' : 'sum'}),\n",
    "                                     axis=1).sort_values(by=['date', 'group'])"
   ]
  },
  {
   "cell_type": "code",
   "execution_count": 13,
   "metadata": {},
   "outputs": [],
   "source": [
    "visitorsAggregated = datesGroups.apply(lambda x: visitors[np.logical_and(visitors['date'] <= x['date'], visitors['group'] == x['group'])].\\\n",
    "                                       agg({'date' : 'max', \n",
    "                                            'group' : 'max', \n",
    "                                            'visitors' : 'sum'}), axis=1).sort_values(by=['date','group'])\n"
   ]
  },
  {
   "cell_type": "markdown",
   "metadata": {},
   "source": [
    "Объединю кумулятивные данные в одной таблице и присваиваем ее столбцам понятные названия"
   ]
  },
  {
   "cell_type": "code",
   "execution_count": 14,
   "metadata": {},
   "outputs": [],
   "source": [
    "cumulativeData = ordersAggregated.merge(visitorsAggregated, left_on=['date', 'group'], right_on=['date', 'group'])\n",
    "cumulativeData.columns = ['date', 'group', 'orders', 'buyers', 'revenue', 'visitors']"
   ]
  },
  {
   "cell_type": "code",
   "execution_count": 15,
   "metadata": {},
   "outputs": [
    {
     "data": {
      "text/html": [
       "<div>\n",
       "<style scoped>\n",
       "    .dataframe tbody tr th:only-of-type {\n",
       "        vertical-align: middle;\n",
       "    }\n",
       "\n",
       "    .dataframe tbody tr th {\n",
       "        vertical-align: top;\n",
       "    }\n",
       "\n",
       "    .dataframe thead th {\n",
       "        text-align: right;\n",
       "    }\n",
       "</style>\n",
       "<table border=\"1\" class=\"dataframe\">\n",
       "  <thead>\n",
       "    <tr style=\"text-align: right;\">\n",
       "      <th></th>\n",
       "      <th>date</th>\n",
       "      <th>group</th>\n",
       "      <th>orders</th>\n",
       "      <th>buyers</th>\n",
       "      <th>revenue</th>\n",
       "      <th>visitors</th>\n",
       "    </tr>\n",
       "  </thead>\n",
       "  <tbody>\n",
       "    <tr>\n",
       "      <td>0</td>\n",
       "      <td>2019-08-01</td>\n",
       "      <td>A</td>\n",
       "      <td>24</td>\n",
       "      <td>20</td>\n",
       "      <td>148579</td>\n",
       "      <td>719</td>\n",
       "    </tr>\n",
       "    <tr>\n",
       "      <td>1</td>\n",
       "      <td>2019-08-01</td>\n",
       "      <td>B</td>\n",
       "      <td>21</td>\n",
       "      <td>20</td>\n",
       "      <td>101217</td>\n",
       "      <td>713</td>\n",
       "    </tr>\n",
       "    <tr>\n",
       "      <td>2</td>\n",
       "      <td>2019-08-02</td>\n",
       "      <td>A</td>\n",
       "      <td>44</td>\n",
       "      <td>38</td>\n",
       "      <td>242401</td>\n",
       "      <td>1338</td>\n",
       "    </tr>\n",
       "    <tr>\n",
       "      <td>3</td>\n",
       "      <td>2019-08-02</td>\n",
       "      <td>B</td>\n",
       "      <td>45</td>\n",
       "      <td>43</td>\n",
       "      <td>266748</td>\n",
       "      <td>1294</td>\n",
       "    </tr>\n",
       "    <tr>\n",
       "      <td>4</td>\n",
       "      <td>2019-08-03</td>\n",
       "      <td>A</td>\n",
       "      <td>68</td>\n",
       "      <td>62</td>\n",
       "      <td>354874</td>\n",
       "      <td>1845</td>\n",
       "    </tr>\n",
       "    <tr>\n",
       "      <td>...</td>\n",
       "      <td>...</td>\n",
       "      <td>...</td>\n",
       "      <td>...</td>\n",
       "      <td>...</td>\n",
       "      <td>...</td>\n",
       "      <td>...</td>\n",
       "    </tr>\n",
       "    <tr>\n",
       "      <td>57</td>\n",
       "      <td>2019-08-29</td>\n",
       "      <td>B</td>\n",
       "      <td>596</td>\n",
       "      <td>544</td>\n",
       "      <td>5559398</td>\n",
       "      <td>17708</td>\n",
       "    </tr>\n",
       "    <tr>\n",
       "      <td>58</td>\n",
       "      <td>2019-08-30</td>\n",
       "      <td>A</td>\n",
       "      <td>545</td>\n",
       "      <td>493</td>\n",
       "      <td>4022970</td>\n",
       "      <td>18037</td>\n",
       "    </tr>\n",
       "    <tr>\n",
       "      <td>59</td>\n",
       "      <td>2019-08-30</td>\n",
       "      <td>B</td>\n",
       "      <td>620</td>\n",
       "      <td>567</td>\n",
       "      <td>5774631</td>\n",
       "      <td>18198</td>\n",
       "    </tr>\n",
       "    <tr>\n",
       "      <td>60</td>\n",
       "      <td>2019-08-31</td>\n",
       "      <td>A</td>\n",
       "      <td>557</td>\n",
       "      <td>503</td>\n",
       "      <td>4084803</td>\n",
       "      <td>18736</td>\n",
       "    </tr>\n",
       "    <tr>\n",
       "      <td>61</td>\n",
       "      <td>2019-08-31</td>\n",
       "      <td>B</td>\n",
       "      <td>640</td>\n",
       "      <td>586</td>\n",
       "      <td>5907760</td>\n",
       "      <td>18916</td>\n",
       "    </tr>\n",
       "  </tbody>\n",
       "</table>\n",
       "<p>62 rows × 6 columns</p>\n",
       "</div>"
      ],
      "text/plain": [
       "         date group  orders  buyers  revenue  visitors\n",
       "0  2019-08-01     A      24      20   148579       719\n",
       "1  2019-08-01     B      21      20   101217       713\n",
       "2  2019-08-02     A      44      38   242401      1338\n",
       "3  2019-08-02     B      45      43   266748      1294\n",
       "4  2019-08-03     A      68      62   354874      1845\n",
       "..        ...   ...     ...     ...      ...       ...\n",
       "57 2019-08-29     B     596     544  5559398     17708\n",
       "58 2019-08-30     A     545     493  4022970     18037\n",
       "59 2019-08-30     B     620     567  5774631     18198\n",
       "60 2019-08-31     A     557     503  4084803     18736\n",
       "61 2019-08-31     B     640     586  5907760     18916\n",
       "\n",
       "[62 rows x 6 columns]"
      ]
     },
     "execution_count": 15,
     "metadata": {},
     "output_type": "execute_result"
    }
   ],
   "source": [
    "cumulativeData"
   ]
  },
  {
   "cell_type": "markdown",
   "metadata": {},
   "source": [
    " Датафрейм с кумулятивным количеством заказов и кумулятивной выручкой по дням в группе А"
   ]
  },
  {
   "cell_type": "code",
   "execution_count": 16,
   "metadata": {
    "scrolled": true
   },
   "outputs": [],
   "source": [
    "cumulativeRevenueA = cumulativeData[cumulativeData['group']=='A'][['date','revenue', 'orders']]"
   ]
  },
  {
   "cell_type": "markdown",
   "metadata": {},
   "source": [
    "Датафрейм с кумулятивным количеством заказов и кумулятивной выручкой по дням в группе B"
   ]
  },
  {
   "cell_type": "code",
   "execution_count": 17,
   "metadata": {},
   "outputs": [],
   "source": [
    "cumulativeRevenueB = cumulativeData[cumulativeData['group']=='B'][['date','revenue', 'orders']]"
   ]
  },
  {
   "cell_type": "markdown",
   "metadata": {},
   "source": [
    "Строим графики выручки группы А и группы B"
   ]
  },
  {
   "cell_type": "code",
   "execution_count": 18,
   "metadata": {},
   "outputs": [
    {
     "name": "stderr",
     "output_type": "stream",
     "text": [
      "/opt/conda/lib/python3.7/site-packages/pandas/plotting/_matplotlib/converter.py:103: FutureWarning: Using an implicitly registered datetime converter for a matplotlib plotting method. The converter was registered by pandas on import. Future versions of pandas will require you to explicitly register matplotlib converters.\n",
      "\n",
      "To register the converters:\n",
      "\t>>> from pandas.plotting import register_matplotlib_converters\n",
      "\t>>> register_matplotlib_converters()\n",
      "  warnings.warn(msg, FutureWarning)\n"
     ]
    },
    {
     "data": {
      "image/png": "[encoded data removed]",
      "text/plain": [
       "<Figure size 864x360 with 1 Axes>"
      ]
     },
     "metadata": {
      "needs_background": "light"
     },
     "output_type": "display_data"
    }
   ],
   "source": [
    "plt.figure(figsize=(12,5))\n",
    "plt.plot(cumulativeRevenueA['date'], cumulativeRevenueA['revenue'], label='A')\n",
    "plt.plot(cumulativeRevenueB['date'], cumulativeRevenueB['revenue'], label='B')\n",
    "plt.ylabel('Выручка')\n",
    "plt.xlabel('Дата')\n",
    "plt.title('Графики кумулятивной выручки по группам A/B')\n",
    "plt.legend()\n",
    "plt.show()"
   ]
  },
  {
   "cell_type": "markdown",
   "metadata": {},
   "source": [
    "Выручка почти равномерно увеличивается в течение всего теста по группе А. \n",
    "По группе В график выручки в одной точке резко растет. Это может говорить о всплесках числа заказов, либо о появлении очень дорогих заказов в выборке. "
   ]
  },
  {
   "cell_type": "markdown",
   "metadata": {},
   "source": [
    "## Графики кумулятивного среднего чека по дням"
   ]
  },
  {
   "cell_type": "markdown",
   "metadata": {},
   "source": [
    "Построю графики среднего чека по группам — разделим кумулятивную выручку на кумулятивное число заказов:"
   ]
  },
  {
   "cell_type": "code",
   "execution_count": 19,
   "metadata": {},
   "outputs": [
    {
     "data": {
      "image/png": "[encoded data removed]",
      "text/plain": [
       "<Figure size 864x360 with 1 Axes>"
      ]
     },
     "metadata": {
      "needs_background": "light"
     },
     "output_type": "display_data"
    }
   ],
   "source": [
    "plt.figure(figsize=(12,5))\n",
    "plt.plot(cumulativeRevenueA['date'], cumulativeRevenueA['revenue']/cumulativeRevenueA['orders'], label='A')\n",
    "plt.plot(cumulativeRevenueB['date'], cumulativeRevenueB['revenue']/cumulativeRevenueB['orders'], label='B')\n",
    "plt.ylabel('Средний чек')\n",
    "plt.xlabel('Дата')\n",
    "plt.title('Графики кумулятивного среднего чека по группам A и B')\n",
    "plt.legend()\n",
    "plt.show()"
   ]
  },
  {
   "cell_type": "markdown",
   "metadata": {},
   "source": [
    "Средний чек по группе В практически на протяжении всего эксперимента выше, чем у группы А.\n",
    "Колебния графика могут говорить об аномальных значениях."
   ]
  },
  {
   "cell_type": "markdown",
   "metadata": {},
   "source": [
    "## График относительно различия кумулятивного среднего чека группы B к группе A"
   ]
  },
  {
   "cell_type": "markdown",
   "metadata": {},
   "source": [
    "Построю график относительного различия для среднего чека. "
   ]
  },
  {
   "cell_type": "markdown",
   "metadata": {},
   "source": [
    "Соберу данные в одном датафрейме"
   ]
  },
  {
   "cell_type": "code",
   "execution_count": 20,
   "metadata": {},
   "outputs": [],
   "source": [
    "mergedCumulativeRevenue = cumulativeRevenueA.merge(cumulativeRevenueB, \n",
    "                                                   left_on='date', \n",
    "                                                   right_on='date', \n",
    "                                                   how='left', \n",
    "                                                   suffixes=['A', 'B'])"
   ]
  },
  {
   "cell_type": "markdown",
   "metadata": {},
   "source": [
    "Построю отношение средних чеков"
   ]
  },
  {
   "cell_type": "code",
   "execution_count": 21,
   "metadata": {
    "scrolled": true
   },
   "outputs": [
    {
     "data": {
      "image/png": "[encoded data removed]",
      "text/plain": [
       "<Figure size 864x360 with 1 Axes>"
      ]
     },
     "metadata": {
      "needs_background": "light"
     },
     "output_type": "display_data"
    }
   ],
   "source": [
    "plt.figure(figsize=(12,5))\n",
    "plt.plot(mergedCumulativeRevenue['date'], (mergedCumulativeRevenue['revenueB']/mergedCumulativeRevenue['ordersB'])/(mergedCumulativeRevenue['revenueA']/mergedCumulativeRevenue['ordersA'])-1)\n",
    "plt.title('График относительно различия кумулятивного среднего чека группы B к группе A')\n",
    "plt.axhline(y=0, color='black', linestyle='--') \n",
    "plt.show()"
   ]
  },
  {
   "cell_type": "markdown",
   "metadata": {},
   "source": [
    "График различия резко «скачет». Это указывает на выбросы."
   ]
  },
  {
   "cell_type": "markdown",
   "metadata": {},
   "source": [
    "## Графики кумулятивной конверсии по дням по группам."
   ]
  },
  {
   "cell_type": "markdown",
   "metadata": {},
   "source": [
    "Рассчитаю кумулятивную конверсию"
   ]
  },
  {
   "cell_type": "code",
   "execution_count": 22,
   "metadata": {},
   "outputs": [],
   "source": [
    "cumulativeData['conversion'] = cumulativeData['orders']/cumulativeData['visitors']"
   ]
  },
  {
   "cell_type": "markdown",
   "metadata": {},
   "source": [
    "Отделю данные по группам"
   ]
  },
  {
   "cell_type": "code",
   "execution_count": 23,
   "metadata": {},
   "outputs": [],
   "source": [
    "cumulativeDataA = cumulativeData[cumulativeData['group']=='A']\n",
    "cumulativeDataB = cumulativeData[cumulativeData['group']=='B']"
   ]
  },
  {
   "cell_type": "markdown",
   "metadata": {},
   "source": [
    "Построю график"
   ]
  },
  {
   "cell_type": "code",
   "execution_count": 24,
   "metadata": {},
   "outputs": [
    {
     "data": {
      "text/plain": [
       "['2019-08-01', '2019-08-31', 0, 0.07]"
      ]
     },
     "execution_count": 24,
     "metadata": {},
     "output_type": "execute_result"
    },
    {
     "data": {
      "image/png": "[encoded data removed]",
      "text/plain": [
       "<Figure size 864x360 with 1 Axes>"
      ]
     },
     "metadata": {
      "needs_background": "light"
     },
     "output_type": "display_data"
    }
   ],
   "source": [
    "plt.figure(figsize=(12,5))\n",
    "plt.plot(cumulativeDataA['date'], cumulativeDataA['conversion'], label='A')\n",
    "plt.plot(cumulativeDataB['date'], cumulativeDataB['conversion'], label='B')\n",
    "plt.title('Графики кумулятивной конверсии по дням по группам.')\n",
    "plt.legend()\n",
    "plt.axis([\"2019-08-01\", '2019-08-31', 0, 0.07]) "
   ]
  },
  {
   "cell_type": "markdown",
   "metadata": {},
   "source": [
    "У группы В конверсия выше"
   ]
  },
  {
   "cell_type": "markdown",
   "metadata": {},
   "source": [
    "## График относительного различия кумулятивной конверсии группы B к группе A"
   ]
  },
  {
   "cell_type": "markdown",
   "metadata": {},
   "source": [
    "Построю график относительного различия кумулятивных конверсий, по аналогии с графиком относительного различия кумулятивного среднего чека"
   ]
  },
  {
   "cell_type": "code",
   "execution_count": 25,
   "metadata": {},
   "outputs": [],
   "source": [
    "mergedCumulativeConversions = cumulativeDataA[['date','conversion']].merge(cumulativeDataB[['date','conversion']], left_on='date', right_on='date', how='left', suffixes=['A', 'B'])"
   ]
  },
  {
   "cell_type": "code",
   "execution_count": 26,
   "metadata": {},
   "outputs": [
    {
     "data": {
      "text/plain": [
       "['2019-08-01', '2019-08-31', -0.15, 0.25]"
      ]
     },
     "execution_count": 26,
     "metadata": {},
     "output_type": "execute_result"
    },
    {
     "data": {
      "image/png": "[encoded data removed]",
      "text/plain": [
       "<Figure size 864x360 with 1 Axes>"
      ]
     },
     "metadata": {
      "needs_background": "light"
     },
     "output_type": "display_data"
    }
   ],
   "source": [
    "plt.figure(figsize=(12,5))\n",
    "plt.plot(mergedCumulativeConversions['date'], mergedCumulativeConversions['conversionB']/mergedCumulativeConversions['conversionA']-1, \n",
    "         label=\"График относительного различия кумулятивной конверсии группы B к группе A\")\n",
    "plt.legend()\n",
    "plt.axhline(y=0, color='black', linestyle='--')\n",
    "plt.axhline(y=0.2, color='grey', linestyle='--')\n",
    "plt.axis([\"2019-08-01\", '2019-08-31', -0.15, 0.25])"
   ]
  },
  {
   "cell_type": "markdown",
   "metadata": {},
   "source": [
    "Конверсия в группе B начинает расти с 4 авуста, далее до конца эксперимента держится выше конверсии в группе А."
   ]
  },
  {
   "cell_type": "markdown",
   "metadata": {},
   "source": [
    "##  Точечный график количества заказов по пользователям."
   ]
  },
  {
   "cell_type": "markdown",
   "metadata": {},
   "source": [
    "Подсчитаю количество заказов по пользователям"
   ]
  },
  {
   "cell_type": "code",
   "execution_count": 27,
   "metadata": {},
   "outputs": [
    {
     "data": {
      "text/html": [
       "<div>\n",
       "<style scoped>\n",
       "    .dataframe tbody tr th:only-of-type {\n",
       "        vertical-align: middle;\n",
       "    }\n",
       "\n",
       "    .dataframe tbody tr th {\n",
       "        vertical-align: top;\n",
       "    }\n",
       "\n",
       "    .dataframe thead th {\n",
       "        text-align: right;\n",
       "    }\n",
       "</style>\n",
       "<table border=\"1\" class=\"dataframe\">\n",
       "  <thead>\n",
       "    <tr style=\"text-align: right;\">\n",
       "      <th></th>\n",
       "      <th>visitorId</th>\n",
       "      <th>orders</th>\n",
       "    </tr>\n",
       "  </thead>\n",
       "  <tbody>\n",
       "    <tr>\n",
       "      <td>1023</td>\n",
       "      <td>4256040402</td>\n",
       "      <td>11</td>\n",
       "    </tr>\n",
       "    <tr>\n",
       "      <td>591</td>\n",
       "      <td>2458001652</td>\n",
       "      <td>11</td>\n",
       "    </tr>\n",
       "    <tr>\n",
       "      <td>569</td>\n",
       "      <td>2378935119</td>\n",
       "      <td>9</td>\n",
       "    </tr>\n",
       "    <tr>\n",
       "      <td>487</td>\n",
       "      <td>2038680547</td>\n",
       "      <td>8</td>\n",
       "    </tr>\n",
       "    <tr>\n",
       "      <td>44</td>\n",
       "      <td>199603092</td>\n",
       "      <td>5</td>\n",
       "    </tr>\n",
       "    <tr>\n",
       "      <td>744</td>\n",
       "      <td>3062433592</td>\n",
       "      <td>5</td>\n",
       "    </tr>\n",
       "    <tr>\n",
       "      <td>55</td>\n",
       "      <td>237748145</td>\n",
       "      <td>5</td>\n",
       "    </tr>\n",
       "    <tr>\n",
       "      <td>917</td>\n",
       "      <td>3803269165</td>\n",
       "      <td>5</td>\n",
       "    </tr>\n",
       "    <tr>\n",
       "      <td>299</td>\n",
       "      <td>1230306981</td>\n",
       "      <td>5</td>\n",
       "    </tr>\n",
       "    <tr>\n",
       "      <td>897</td>\n",
       "      <td>3717692402</td>\n",
       "      <td>5</td>\n",
       "    </tr>\n",
       "  </tbody>\n",
       "</table>\n",
       "</div>"
      ],
      "text/plain": [
       "       visitorId  orders\n",
       "1023  4256040402      11\n",
       "591   2458001652      11\n",
       "569   2378935119       9\n",
       "487   2038680547       8\n",
       "44     199603092       5\n",
       "744   3062433592       5\n",
       "55     237748145       5\n",
       "917   3803269165       5\n",
       "299   1230306981       5\n",
       "897   3717692402       5"
      ]
     },
     "metadata": {},
     "output_type": "display_data"
    }
   ],
   "source": [
    "ordersByUsers = (\n",
    "    orders.drop(['group', 'revenue', 'date'], axis=1)\n",
    "    .groupby('visitorId', as_index=False)\n",
    "    .agg({'transactionId': pd.Series.nunique})\n",
    ")\n",
    "\n",
    "ordersByUsers.columns = ['visitorId', 'orders']\n",
    "\n",
    "display(ordersByUsers.sort_values(by='orders', ascending=False).head(10))"
   ]
  },
  {
   "cell_type": "markdown",
   "metadata": {},
   "source": [
    "Построю точечную диаграмму числа заказов"
   ]
  },
  {
   "cell_type": "code",
   "execution_count": 28,
   "metadata": {},
   "outputs": [
    {
     "data": {
      "image/png": "[encoded data removed]",
      "text/plain": [
       "<Figure size 864x360 with 1 Axes>"
      ]
     },
     "metadata": {
      "needs_background": "light"
     },
     "output_type": "display_data"
    }
   ],
   "source": [
    "x_values = pd.Series(range(0, len(ordersByUsers))) # серия из чисел от 0 до количества наблюдений в ordersByUsers\n",
    "plt.figure(figsize=(12,5))\n",
    "plt.scatter(x_values, ordersByUsers['orders']) \n",
    "plt.show()"
   ]
  },
  {
   "cell_type": "markdown",
   "metadata": {},
   "source": [
    "Большинство покупателей делают заказ только один раз."
   ]
  },
  {
   "cell_type": "markdown",
   "metadata": {},
   "source": [
    "## 95-й и 99-й перцентили количества заказов на пользователя"
   ]
  },
  {
   "cell_type": "code",
   "execution_count": 29,
   "metadata": {},
   "outputs": [
    {
     "name": "stdout",
     "output_type": "stream",
     "text": [
      "[2. 4.]\n"
     ]
    }
   ],
   "source": [
    "print(np.percentile(ordersByUsers['orders'], [95, 99])) "
   ]
  },
  {
   "cell_type": "markdown",
   "metadata": {},
   "source": [
    "Не более 5% пользователей совершали два заказа, не более 1% - 4 заказа."
   ]
  },
  {
   "cell_type": "markdown",
   "metadata": {},
   "source": [
    "## Точечный график стоимостей заказов."
   ]
  },
  {
   "cell_type": "markdown",
   "metadata": {},
   "source": [
    "Построю точечную диаграмму стоимостей заказов"
   ]
  },
  {
   "cell_type": "code",
   "execution_count": 30,
   "metadata": {},
   "outputs": [
    {
     "data": {
      "image/png": "[encoded data removed]",
      "text/plain": [
       "<Figure size 864x360 with 1 Axes>"
      ]
     },
     "metadata": {
      "needs_background": "light"
     },
     "output_type": "display_data"
    }
   ],
   "source": [
    "x_values = pd.Series(range(0, len(orders['revenue'])))\n",
    "plt.figure(figsize=(12,5))\n",
    "plt.axis([0, 1210, 0, 230000])\n",
    "plt.scatter(x_values, orders['revenue']) \n",
    "plt.show()"
   ]
  },
  {
   "cell_type": "markdown",
   "metadata": {},
   "source": [
    "Судя по графику, большая часть пользователей делает покупки на сумму не более 30 000."
   ]
  },
  {
   "cell_type": "markdown",
   "metadata": {},
   "source": [
    "## 95-й и 99-й перцентили стоимости заказов"
   ]
  },
  {
   "cell_type": "code",
   "execution_count": 31,
   "metadata": {},
   "outputs": [
    {
     "name": "stdout",
     "output_type": "stream",
     "text": [
      "[28000.  58233.2]\n"
     ]
    }
   ],
   "source": [
    "print(np.percentile(orders['revenue'], [95, 99]))"
   ]
  },
  {
   "cell_type": "markdown",
   "metadata": {},
   "source": [
    "Не более 5% пользователей делают заказы на сумму не более 28 000, не более 1% - на сумму 58 300."
   ]
  },
  {
   "cell_type": "markdown",
   "metadata": {},
   "source": [
    "## Статистическую значимость различий в конверсии между группами по «сырым» данным"
   ]
  },
  {
   "cell_type": "markdown",
   "metadata": {},
   "source": [
    "Использую непараметрический тест Уилкоксона-Манна-Уитни, так как в данных есть выбросы, тест работает с рангами, не учитывая значения."
   ]
  },
  {
   "cell_type": "markdown",
   "metadata": {},
   "source": [
    "**Гипотезы:**\n",
    "1. Н0 - нет статистически значимых различий между средними значениями двух выборок, конверсия группы А = конверсии группы В\n",
    "2. H1 - есть статистически значимые различия между средними значениями двух выборок, конверсии групп не равны\n",
    "\n",
    "Приму  уровень значимости alpha = 0.05"
   ]
  },
  {
   "cell_type": "markdown",
   "metadata": {},
   "source": [
    "Посчитаю количество пользователей в выбранную дату в группе и до выбранной даты включительно в группе."
   ]
  },
  {
   "cell_type": "code",
   "execution_count": 32,
   "metadata": {},
   "outputs": [],
   "source": [
    "visitorsADaily = visitors[visitors['group'] == 'A'][['date', 'visitors']]\n",
    "visitorsADaily.columns = ['date', 'visitorsPerDateA']\n",
    "\n",
    "visitorsACummulative = visitorsADaily.apply(\n",
    "    lambda x: visitorsADaily[visitorsADaily['date'] <= x['date']].agg(\n",
    "        {'date': 'max', 'visitorsPerDateA': 'sum'}\n",
    "    ),\n",
    "    axis=1,\n",
    ")\n",
    "visitorsACummulative.columns = ['date', 'visitorsCummulativeA']\n",
    "\n",
    "visitorsBDaily = visitors[visitors['group'] == 'B'][['date', 'visitors']]\n",
    "visitorsBDaily.columns = ['date', 'visitorsPerDateB']\n",
    "\n",
    "visitorsBCummulative = visitorsBDaily.apply(\n",
    "    lambda x: visitorsBDaily[visitorsBDaily['date'] <= x['date']].agg(\n",
    "        {'date': 'max', 'visitorsPerDateB': 'sum'}\n",
    "    ),\n",
    "    axis=1,\n",
    ")\n",
    "visitorsBCummulative.columns = ['date', 'visitorsCummulativeB']"
   ]
  },
  {
   "cell_type": "markdown",
   "metadata": {},
   "source": [
    "Посчитаю количество заказов и выручку в выбранную дату в группе и суммарное число заказов и суммарную выручку до выбранной даты включительно в группе."
   ]
  },
  {
   "cell_type": "code",
   "execution_count": 33,
   "metadata": {},
   "outputs": [],
   "source": [
    "ordersADaily = (\n",
    "    orders[orders['group'] == 'A'][['date', 'transactionId', 'visitorId', 'revenue']]\n",
    "    .groupby('date', as_index=False)\n",
    "    .agg({'transactionId': pd.Series.nunique, 'revenue': 'sum'})\n",
    ")\n",
    "ordersADaily.columns = ['date', 'ordersPerDateA', 'revenuePerDateA']\n",
    "\n",
    "ordersACummulative = ordersADaily.apply(\n",
    "    lambda x: ordersADaily[ordersADaily['date'] <= x['date']].agg(\n",
    "        {'date': 'max', 'ordersPerDateA': 'sum', 'revenuePerDateA': 'sum'}\n",
    "    ),\n",
    "    axis=1,\n",
    ").sort_values(by=['date'])\n",
    "ordersACummulative.columns = [\n",
    "    'date',\n",
    "    'ordersCummulativeA',\n",
    "    'revenueCummulativeA',\n",
    "]\n",
    "\n",
    "ordersBDaily = (\n",
    "    orders[orders['group'] == 'B'][['date', 'transactionId', 'visitorId', 'revenue']]\n",
    "    .groupby('date', as_index=False)\n",
    "    .agg({'transactionId': pd.Series.nunique, 'revenue': 'sum'})\n",
    ")\n",
    "ordersBDaily.columns = ['date', 'ordersPerDateB', 'revenuePerDateB']\n",
    "\n",
    "ordersBCummulative = ordersBDaily.apply(\n",
    "    lambda x: ordersBDaily[ordersBDaily['date'] <= x['date']].agg(\n",
    "        {'date': 'max', 'ordersPerDateB': 'sum', 'revenuePerDateB': 'sum'}\n",
    "    ),\n",
    "    axis=1,\n",
    ").sort_values(by=['date'])\n",
    "ordersBCummulative.columns = [\n",
    "    'date',\n",
    "    'ordersCummulativeB',\n",
    "    'revenueCummulativeB',\n",
    "]"
   ]
  },
  {
   "cell_type": "markdown",
   "metadata": {},
   "source": [
    "Объединю полученные данные:"
   ]
  },
  {
   "cell_type": "code",
   "execution_count": 34,
   "metadata": {},
   "outputs": [
    {
     "data": {
      "text/html": [
       "<div>\n",
       "<style scoped>\n",
       "    .dataframe tbody tr th:only-of-type {\n",
       "        vertical-align: middle;\n",
       "    }\n",
       "\n",
       "    .dataframe tbody tr th {\n",
       "        vertical-align: top;\n",
       "    }\n",
       "\n",
       "    .dataframe thead th {\n",
       "        text-align: right;\n",
       "    }\n",
       "</style>\n",
       "<table border=\"1\" class=\"dataframe\">\n",
       "  <thead>\n",
       "    <tr style=\"text-align: right;\">\n",
       "      <th></th>\n",
       "      <th>date</th>\n",
       "      <th>ordersPerDateA</th>\n",
       "      <th>revenuePerDateA</th>\n",
       "      <th>ordersPerDateB</th>\n",
       "      <th>revenuePerDateB</th>\n",
       "      <th>ordersCummulativeA</th>\n",
       "      <th>revenueCummulativeA</th>\n",
       "      <th>ordersCummulativeB</th>\n",
       "      <th>revenueCummulativeB</th>\n",
       "      <th>visitorsPerDateA</th>\n",
       "      <th>visitorsPerDateB</th>\n",
       "      <th>visitorsCummulativeA</th>\n",
       "      <th>visitorsCummulativeB</th>\n",
       "    </tr>\n",
       "  </thead>\n",
       "  <tbody>\n",
       "    <tr>\n",
       "      <td>0</td>\n",
       "      <td>2019-08-01</td>\n",
       "      <td>24</td>\n",
       "      <td>148579</td>\n",
       "      <td>21</td>\n",
       "      <td>101217</td>\n",
       "      <td>24</td>\n",
       "      <td>148579</td>\n",
       "      <td>21</td>\n",
       "      <td>101217</td>\n",
       "      <td>719</td>\n",
       "      <td>713</td>\n",
       "      <td>719</td>\n",
       "      <td>713</td>\n",
       "    </tr>\n",
       "    <tr>\n",
       "      <td>1</td>\n",
       "      <td>2019-08-02</td>\n",
       "      <td>20</td>\n",
       "      <td>93822</td>\n",
       "      <td>24</td>\n",
       "      <td>165531</td>\n",
       "      <td>44</td>\n",
       "      <td>242401</td>\n",
       "      <td>45</td>\n",
       "      <td>266748</td>\n",
       "      <td>619</td>\n",
       "      <td>581</td>\n",
       "      <td>1338</td>\n",
       "      <td>1294</td>\n",
       "    </tr>\n",
       "    <tr>\n",
       "      <td>2</td>\n",
       "      <td>2019-08-03</td>\n",
       "      <td>24</td>\n",
       "      <td>112473</td>\n",
       "      <td>16</td>\n",
       "      <td>114248</td>\n",
       "      <td>68</td>\n",
       "      <td>354874</td>\n",
       "      <td>61</td>\n",
       "      <td>380996</td>\n",
       "      <td>507</td>\n",
       "      <td>509</td>\n",
       "      <td>1845</td>\n",
       "      <td>1803</td>\n",
       "    </tr>\n",
       "    <tr>\n",
       "      <td>3</td>\n",
       "      <td>2019-08-04</td>\n",
       "      <td>16</td>\n",
       "      <td>70825</td>\n",
       "      <td>17</td>\n",
       "      <td>108571</td>\n",
       "      <td>84</td>\n",
       "      <td>425699</td>\n",
       "      <td>78</td>\n",
       "      <td>489567</td>\n",
       "      <td>717</td>\n",
       "      <td>770</td>\n",
       "      <td>2562</td>\n",
       "      <td>2573</td>\n",
       "    </tr>\n",
       "    <tr>\n",
       "      <td>4</td>\n",
       "      <td>2019-08-05</td>\n",
       "      <td>25</td>\n",
       "      <td>124218</td>\n",
       "      <td>23</td>\n",
       "      <td>92428</td>\n",
       "      <td>109</td>\n",
       "      <td>549917</td>\n",
       "      <td>101</td>\n",
       "      <td>581995</td>\n",
       "      <td>756</td>\n",
       "      <td>707</td>\n",
       "      <td>3318</td>\n",
       "      <td>3280</td>\n",
       "    </tr>\n",
       "  </tbody>\n",
       "</table>\n",
       "</div>"
      ],
      "text/plain": [
       "        date  ordersPerDateA  revenuePerDateA  ordersPerDateB  \\\n",
       "0 2019-08-01              24           148579              21   \n",
       "1 2019-08-02              20            93822              24   \n",
       "2 2019-08-03              24           112473              16   \n",
       "3 2019-08-04              16            70825              17   \n",
       "4 2019-08-05              25           124218              23   \n",
       "\n",
       "   revenuePerDateB  ordersCummulativeA  revenueCummulativeA  \\\n",
       "0           101217                  24               148579   \n",
       "1           165531                  44               242401   \n",
       "2           114248                  68               354874   \n",
       "3           108571                  84               425699   \n",
       "4            92428                 109               549917   \n",
       "\n",
       "   ordersCummulativeB  revenueCummulativeB  visitorsPerDateA  \\\n",
       "0                  21               101217               719   \n",
       "1                  45               266748               619   \n",
       "2                  61               380996               507   \n",
       "3                  78               489567               717   \n",
       "4                 101               581995               756   \n",
       "\n",
       "   visitorsPerDateB  visitorsCummulativeA  visitorsCummulativeB  \n",
       "0               713                   719                   713  \n",
       "1               581                  1338                  1294  \n",
       "2               509                  1845                  1803  \n",
       "3               770                  2562                  2573  \n",
       "4               707                  3318                  3280  "
      ]
     },
     "metadata": {},
     "output_type": "display_data"
    }
   ],
   "source": [
    "data = (\n",
    "    ordersADaily.merge(\n",
    "        ordersBDaily, left_on='date', right_on='date', how='left'\n",
    "    )\n",
    "    .merge(ordersACummulative, left_on='date', right_on='date', how='left')\n",
    "    .merge(ordersBCummulative, left_on='date', right_on='date', how='left')\n",
    "    .merge(visitorsADaily, left_on='date', right_on='date', how='left')\n",
    "    .merge(visitorsBDaily, left_on='date', right_on='date', how='left')\n",
    "    .merge(visitorsACummulative, left_on='date', right_on='date', how='left')\n",
    "    .merge(visitorsBCummulative, left_on='date', right_on='date', how='left')\n",
    ")\n",
    "\n",
    "display(data.head(5))"
   ]
  },
  {
   "cell_type": "markdown",
   "metadata": {},
   "source": [
    "Посчитаю статистическую значимость различия в конверсии между группами.\n",
    "\n",
    "Создам переменные ordersByUsersA и ordersByUsersB со столбцами 'visitorId' и 'orders'. В них для пользователей, которые заказывали хотя бы 1 раз, укажем число совершённых заказов."
   ]
  },
  {
   "cell_type": "code",
   "execution_count": 35,
   "metadata": {},
   "outputs": [],
   "source": [
    "ordersByUsersA = (\n",
    "    orders[orders['group'] == 'A']\n",
    "    .groupby('visitorId', as_index=False)\n",
    "    .agg({'transactionId': pd.Series.nunique})\n",
    ")\n",
    "ordersByUsersA.columns = ['visitorId', 'orders']\n",
    "\n",
    "ordersByUsersB = (\n",
    "    orders[orders['group'] == 'B']\n",
    "    .groupby('visitorId', as_index=False)\n",
    "    .agg({'transactionId': pd.Series.nunique})\n",
    ")\n",
    "ordersByUsersB.columns = ['visitorId', 'orders'] \n",
    "\n",
    "sampleA = pd.concat([ordersByUsersA['orders'],pd.Series(0, index=np.arange(data['visitorsPerDateA'].sum() - len(ordersByUsersA['orders'])), name='orders')],axis=0)\n",
    "sampleB = pd.concat([ordersByUsersB['orders'],pd.Series(0, index=np.arange(data['visitorsPerDateB'].sum() - len(ordersByUsersB['orders'])), name='orders')],axis=0)\n",
    "\n",
    "ordersByUsersA = (\n",
    "    orders[orders['group'] == 'A']\n",
    "    .groupby('visitorId', as_index=False)\n",
    "    .agg({'transactionId': pd.Series.nunique})\n",
    ")\n",
    "ordersByUsersA.columns = ['visitorId', 'orders']\n",
    "\n",
    "ordersByUsersB = (\n",
    "    orders[orders['group'] == 'B']\n",
    "    .groupby('visitorId', as_index=False)\n",
    "    .agg({'transactionId': pd.Series.nunique})\n",
    ")\n",
    "ordersByUsersB.columns = ['visitorId', 'orders']"
   ]
  },
  {
   "cell_type": "markdown",
   "metadata": {},
   "source": [
    "Введу переменные sampleA и sampleB, в которых пользователям из разных групп будет соответствовать количество заказов. Тем, кто ничего не заказал, будут соответствовать нули. Это нужно, чтобы подготовить выборки к проверке критерием Манна-Уитни."
   ]
  },
  {
   "cell_type": "code",
   "execution_count": 36,
   "metadata": {},
   "outputs": [],
   "source": [
    "sampleA = pd.concat(\n",
    "    [\n",
    "        ordersByUsersA['orders'],\n",
    "        pd.Series(\n",
    "            0,\n",
    "            index=np.arange(\n",
    "                data['visitorsPerDateA'].sum() - len(ordersByUsersA['orders'])\n",
    "            ),\n",
    "            name='orders',\n",
    "        ),\n",
    "    ],\n",
    "    axis=0,\n",
    ")\n",
    "\n",
    "sampleB = pd.concat(\n",
    "    [\n",
    "        ordersByUsersB['orders'],\n",
    "        pd.Series(\n",
    "            0,\n",
    "            index=np.arange(\n",
    "                data['visitorsPerDateB'].sum() - len(ordersByUsersB['orders'])\n",
    "            ),\n",
    "            name='orders',\n",
    "        ),\n",
    "    ],\n",
    "    axis=0,\n",
    ")"
   ]
  },
  {
   "cell_type": "markdown",
   "metadata": {},
   "source": [
    "Применю критерий и отформатируем p-value, округлив его до трёх знаков после запятой.\n",
    "\n",
    "\n",
    "Выведу относительный прирост конверсии группы B: конверсия группы B / конверсия группы A - 1, округлив до трёх знаков после запятой."
   ]
  },
  {
   "cell_type": "code",
   "execution_count": 37,
   "metadata": {},
   "outputs": [
    {
     "name": "stdout",
     "output_type": "stream",
     "text": [
      "0.008\n",
      "Отвергаем H0: разница статистически значима\n",
      "Относительный прирост конверсии группы B к группе A: 0.138\n"
     ]
    }
   ],
   "source": [
    "alpha = .05\n",
    "pvalue = stats.mannwhitneyu(sampleA, sampleB)[1]\n",
    "print(\"{0:.3f}\".format(pvalue))\n",
    "if (pvalue < alpha):\n",
    "    print(\"Отвергаем H0: разница статистически значима\")\n",
    "else:\n",
    "    print(\"Не получилось отвергнуть H0: вывод о различии сделать нельзя\")\n",
    "\n",
    "print(\"Относительный прирост конверсии группы B к группе A: {0:.3f}\".format((data['ordersPerDateB'].sum()/data['visitorsPerDateB'].sum())/(data['ordersPerDateA'].sum()/data['visitorsPerDateA'].sum())-1)) "
   ]
  },
  {
   "cell_type": "markdown",
   "metadata": {},
   "source": [
    "## Статистическую значимость различий в среднем чеке заказа между группами по «сырым» данным. "
   ]
  },
  {
   "cell_type": "markdown",
   "metadata": {},
   "source": [
    "**Гипотезы:**\n",
    "1. Н0 - нет статистически значимых различий между средними значениями двух выборок, средний чек группы А = среднему чеку группы В\n",
    "2. H1 - есть статистически значимые различия между средними значениями двух выборок, средние чеки групп не равны\n",
    "\n",
    "Приму  уровень значимости alpha = 0.05"
   ]
  },
  {
   "cell_type": "code",
   "execution_count": 38,
   "metadata": {},
   "outputs": [
    {
     "name": "stdout",
     "output_type": "stream",
     "text": [
      "0.365\n",
      "Не получилось отвергнуть H0: вывод о различии сделать нельзя\n",
      "Относительное изменение среднего чека в группе B по отношению группы A: 0.259\n"
     ]
    }
   ],
   "source": [
    "alpha = .05\n",
    "pvalue = (stats.mannwhitneyu(orders[\n",
    "    orders['group']=='A']['revenue'], orders[\n",
    "    orders['group']=='B']['revenue'])[1])\n",
    "print(\"{0:.3f}\".format(pvalue))\n",
    "\n",
    "if (pvalue < alpha):\n",
    "    print(\"Отвергаем H0: разница статистически значима\")\n",
    "else:\n",
    "    print(\"Не получилось отвергнуть H0: вывод о различии сделать нельзя\")\n",
    "    \n",
    "print('Относительное изменение среднего чека в группе B по отношению группы A: {0:.3f}'\\\n",
    "      .format(orders[orders['group']=='B']['revenue'].mean()/orders[orders\n",
    "                                                                                                                                               ['group']=='A']['revenue'].mean()-1))     "
   ]
  },
  {
   "cell_type": "markdown",
   "metadata": {},
   "source": [
    "## Статистическую значимость различий в конверсии между группами по «очищенным» данным. "
   ]
  },
  {
   "cell_type": "markdown",
   "metadata": {},
   "source": [
    "**Гипотезы:**\n",
    "1. Н0 - нет статистически значимых различий между средними значениями двух выборок, конверсия группы А = конверсии группы В\n",
    "2. H1 - есть статистически значимые различия между средними значениями двух выборок, конверсии групп не равны\n",
    "\n",
    "Приму  уровень значимости alpha = 0.05\n",
    "\n"
   ]
  },
  {
   "cell_type": "markdown",
   "metadata": {},
   "source": [
    "Найду количество аномальных пользователей, совершивших более двух покупок, на сумму более 30 000, введу новые переменные для обозначения порогов:"
   ]
  },
  {
   "cell_type": "code",
   "execution_count": 39,
   "metadata": {},
   "outputs": [],
   "source": [
    "limit_orders = 2\n",
    "limit_revenue = 30000"
   ]
  },
  {
   "cell_type": "code",
   "execution_count": 40,
   "metadata": {},
   "outputs": [
    {
     "name": "stdout",
     "output_type": "stream",
     "text": [
      "Всего аномальных пользователей (68,)\n"
     ]
    }
   ],
   "source": [
    "ordersByUsersA = (\n",
    "    orders[orders['group'] == 'A']\n",
    "    .groupby('visitorId', as_index=False)\n",
    "    .agg({'transactionId': pd.Series.nunique})\n",
    ")\n",
    "ordersByUsersA.columns = ['visitorId', 'orders']\n",
    "\n",
    "ordersByUsersB = (\n",
    "    orders[orders['group'] == 'B']\n",
    "    .groupby('visitorId', as_index=False)\n",
    "    .agg({'transactionId': pd.Series.nunique})\n",
    ")\n",
    "ordersByUsersB.columns = ['visitorId', 'orders']\n",
    "\n",
    "usersWithManyOrders = pd.concat(\n",
    "    [\n",
    "        ordersByUsersA[ordersByUsersA['orders'] > limit_orders]['visitorId'],\n",
    "        ordersByUsersB[ordersByUsersB['orders'] > limit_orders]['visitorId'],\n",
    "    ],\n",
    "    axis=0,\n",
    ")\n",
    "usersWithExpensiveOrders = orders[orders['revenue'] > limit_revenue]['visitorId']\n",
    "abnormalUsers = (\n",
    "    pd.concat([usersWithManyOrders, usersWithExpensiveOrders], axis=0)\n",
    "    .drop_duplicates()\n",
    "    .sort_values()\n",
    ")\n",
    "print('Всего аномальных пользователей', abnormalUsers.shape)"
   ]
  },
  {
   "cell_type": "markdown",
   "metadata": {},
   "source": [
    "Посчитаю статистическую значимость различий в конверсии между группами теста по очищенным данным:"
   ]
  },
  {
   "cell_type": "code",
   "execution_count": 41,
   "metadata": {},
   "outputs": [],
   "source": [
    "sampleAFiltered = pd.concat(\n",
    "    [\n",
    "        ordersByUsersA[\n",
    "            np.logical_not(ordersByUsersA['visitorId'].isin(abnormalUsers))\n",
    "        ]['orders'],\n",
    "        pd.Series(\n",
    "            0,\n",
    "            index=np.arange(\n",
    "                data['visitorsPerDateA'].sum() - len(ordersByUsersA['orders'])\n",
    "            ),\n",
    "            name='orders',\n",
    "        ),\n",
    "    ],\n",
    "    axis=0,\n",
    ")\n",
    "\n",
    "sampleBFiltered = pd.concat(\n",
    "    [\n",
    "        ordersByUsersB[\n",
    "            np.logical_not(ordersByUsersB['visitorId'].isin(abnormalUsers))\n",
    "        ]['orders'],\n",
    "        pd.Series(\n",
    "            0,\n",
    "            index=np.arange(\n",
    "                data['visitorsPerDateB'].sum() - len(ordersByUsersB['orders'])\n",
    "            ),\n",
    "            name='orders',\n",
    "        ),\n",
    "    ],\n",
    "    axis=0,\n",
    ") "
   ]
  },
  {
   "cell_type": "code",
   "execution_count": 42,
   "metadata": {},
   "outputs": [
    {
     "name": "stdout",
     "output_type": "stream",
     "text": [
      "0.007\n",
      "Отвергаем H0: разница статистически значима\n",
      "Относительный прирост конверсии группы B к группе A: 0.172\n"
     ]
    }
   ],
   "source": [
    "alpha = .05\n",
    "pvalue = stats.mannwhitneyu(sampleAFiltered, sampleBFiltered)[1]\n",
    "print(\"{0:.3f}\".format(pvalue))\n",
    "if (pvalue < alpha):\n",
    "    print(\"Отвергаем H0: разница статистически значима\")\n",
    "else:\n",
    "    print(\"Не получилось отвергнуть H0: вывод о различии сделать нельзя\")\n",
    "\n",
    "print(\"Относительный прирост конверсии группы B к группе A: {0:.3f}\".format(sampleBFiltered.mean()/sampleAFiltered.mean()-1))"
   ]
  },
  {
   "cell_type": "markdown",
   "metadata": {},
   "source": [
    "## Статистическую значимость различий в среднем чеке заказа между группами по «очищенным» данным."
   ]
  },
  {
   "cell_type": "markdown",
   "metadata": {},
   "source": [
    "**Гипотезы:**\n",
    "1. Н0 - средний чек группы А = среднему чеку группы В\n",
    "2. H1 - средние чеки групп не равны\n",
    "\n",
    "Приму  уровень значимости alpha = 0.05"
   ]
  },
  {
   "cell_type": "code",
   "execution_count": 43,
   "metadata": {},
   "outputs": [
    {
     "name": "stdout",
     "output_type": "stream",
     "text": [
      "0.360\n",
      "Не получилось отвергнуть H0: вывод о различии сделать нельзя\n",
      "Относительное изменение среднего чека в группе B по отношению группы A: -0.023\n"
     ]
    }
   ],
   "source": [
    "alpha = .05\n",
    "pvalue = stats.mannwhitneyu(\n",
    "            orders[\n",
    "                np.logical_and(\n",
    "                    orders['group'] == 'A',\n",
    "                    np.logical_not(orders['visitorId'].isin(abnormalUsers)),\n",
    "                )\n",
    "            ]['revenue'],\n",
    "            orders[\n",
    "                np.logical_and(\n",
    "                    orders['group'] == 'B',\n",
    "                    np.logical_not(orders['visitorId'].isin(abnormalUsers)),\n",
    "                )\n",
    "            ]['revenue'],\n",
    "        )[1]\n",
    "    \n",
    "print(\"{0:.3f}\".format(pvalue))\n",
    "\n",
    "if (pvalue < alpha):\n",
    "    print(\"Отвергаем H0: разница статистически значима\")\n",
    "else:\n",
    "    print(\"Не получилось отвергнуть H0: вывод о различии сделать нельзя\")\n",
    "    \n",
    "print('Относительное изменение среднего чека в группе B по отношению группы A: {0:.3f}'.format(orders[\n",
    "            np.logical_and(\n",
    "                orders['group'] == 'B',\n",
    "                np.logical_not(orders['visitorId'].isin(abnormalUsers)),\n",
    "            )\n",
    "        ]['revenue'].mean()\n",
    "        / orders[\n",
    "            np.logical_and(\n",
    "                orders['group'] == 'A',\n",
    "                np.logical_not(orders['visitorId'].isin(abnormalUsers)),\n",
    "            )\n",
    "        ]['revenue'].mean()\n",
    "        - 1))"
   ]
  },
  {
   "cell_type": "markdown",
   "metadata": {},
   "source": [
    "## Выводы:"
   ]
  },
  {
   "cell_type": "markdown",
   "metadata": {},
   "source": [
    "1. По конверсии между группами A и B (как по сырым данным, так и по очищенным) есть статистически значимые различия;\n",
    "2. По величине среднего чека между группами A и B (как по сырым данным, так и по очищенным) нет статистически значимых различий.\n",
    "\n",
    "Тест можно остановить и считать успешным, конверсия у группы В выше, при этом величина среднего чека не изменилась."
   ]
  }
 ],
 "metadata": {
  "ExecuteTimeLog": [
   {
    "duration": 1249,
    "start_time": "2021-09-26T08:24:48.285Z"
   },
   {
    "duration": 23,
    "start_time": "2021-09-26T08:24:49.537Z"
   },
   {
    "duration": 22,
    "start_time": "2021-09-26T08:24:53.631Z"
   },
   {
    "duration": 10,
    "start_time": "2021-09-26T08:25:50.343Z"
   },
   {
    "duration": 35,
    "start_time": "2021-09-26T08:26:01.851Z"
   },
   {
    "duration": 28,
    "start_time": "2021-09-26T08:38:30.261Z"
   },
   {
    "duration": 16,
    "start_time": "2021-09-26T08:38:54.911Z"
   },
   {
    "duration": 16,
    "start_time": "2021-09-26T08:39:18.775Z"
   },
   {
    "duration": 12,
    "start_time": "2021-09-26T08:39:53.749Z"
   },
   {
    "duration": 16,
    "start_time": "2021-09-26T08:40:03.961Z"
   },
   {
    "duration": 11,
    "start_time": "2021-09-26T08:40:24.191Z"
   },
   {
    "duration": 15,
    "start_time": "2021-09-26T08:40:29.050Z"
   },
   {
    "duration": 6,
    "start_time": "2021-09-26T08:40:47.411Z"
   },
   {
    "duration": 16,
    "start_time": "2021-09-26T08:40:53.490Z"
   },
   {
    "duration": 19,
    "start_time": "2021-09-26T08:41:24.924Z"
   },
   {
    "duration": 79,
    "start_time": "2021-09-26T08:44:24.507Z"
   },
   {
    "duration": 40,
    "start_time": "2021-09-26T08:44:24.838Z"
   },
   {
    "duration": 1734,
    "start_time": "2021-09-26T08:46:45.153Z"
   },
   {
    "duration": 19,
    "start_time": "2021-09-26T08:47:28.032Z"
   },
   {
    "duration": 13,
    "start_time": "2021-09-26T08:47:36.836Z"
   },
   {
    "duration": 9,
    "start_time": "2021-09-26T08:48:37.444Z"
   },
   {
    "duration": 1522,
    "start_time": "2021-09-26T08:48:38.293Z"
   },
   {
    "duration": 10,
    "start_time": "2021-09-26T08:48:57.121Z"
   },
   {
    "duration": 1223,
    "start_time": "2021-09-26T08:52:03.447Z"
   },
   {
    "duration": 20,
    "start_time": "2021-09-26T08:52:04.673Z"
   },
   {
    "duration": 60,
    "start_time": "2021-09-26T08:52:04.697Z"
   },
   {
    "duration": 13,
    "start_time": "2021-09-26T08:52:04.760Z"
   },
   {
    "duration": 41,
    "start_time": "2021-09-26T08:52:04.776Z"
   },
   {
    "duration": 18,
    "start_time": "2021-09-26T08:52:04.820Z"
   },
   {
    "duration": 84,
    "start_time": "2021-09-26T08:52:04.841Z"
   },
   {
    "duration": 39,
    "start_time": "2021-09-26T08:52:04.928Z"
   },
   {
    "duration": 21,
    "start_time": "2021-09-26T08:52:04.971Z"
   },
   {
    "duration": 14,
    "start_time": "2021-09-26T08:52:05.017Z"
   },
   {
    "duration": 27,
    "start_time": "2021-09-26T08:52:05.034Z"
   },
   {
    "duration": 23,
    "start_time": "2021-09-26T08:52:05.064Z"
   },
   {
    "duration": 1787,
    "start_time": "2021-09-26T08:52:05.089Z"
   },
   {
    "duration": 1953,
    "start_time": "2021-09-26T08:55:02.944Z"
   },
   {
    "duration": 1327,
    "start_time": "2021-09-26T08:55:17.615Z"
   },
   {
    "duration": 21,
    "start_time": "2021-09-26T08:55:18.945Z"
   },
   {
    "duration": 62,
    "start_time": "2021-09-26T08:55:18.969Z"
   },
   {
    "duration": 12,
    "start_time": "2021-09-26T08:55:19.034Z"
   },
   {
    "duration": 21,
    "start_time": "2021-09-26T08:55:19.049Z"
   },
   {
    "duration": 46,
    "start_time": "2021-09-26T08:55:19.072Z"
   },
   {
    "duration": 81,
    "start_time": "2021-09-26T08:55:19.121Z"
   },
   {
    "duration": 38,
    "start_time": "2021-09-26T08:55:19.205Z"
   },
   {
    "duration": 19,
    "start_time": "2021-09-26T08:55:19.247Z"
   },
   {
    "duration": 52,
    "start_time": "2021-09-26T08:55:19.269Z"
   },
   {
    "duration": 12,
    "start_time": "2021-09-26T08:55:19.324Z"
   },
   {
    "duration": 26,
    "start_time": "2021-09-26T08:55:19.338Z"
   },
   {
    "duration": 2072,
    "start_time": "2021-09-26T08:55:19.367Z"
   },
   {
    "duration": 3340,
    "start_time": "2021-09-26T08:55:34.066Z"
   },
   {
    "duration": 1203,
    "start_time": "2021-09-26T08:55:44.370Z"
   },
   {
    "duration": 20,
    "start_time": "2021-09-26T08:55:45.576Z"
   },
   {
    "duration": 50,
    "start_time": "2021-09-26T08:55:45.599Z"
   },
   {
    "duration": 12,
    "start_time": "2021-09-26T08:55:45.652Z"
   },
   {
    "duration": 18,
    "start_time": "2021-09-26T08:55:45.667Z"
   },
   {
    "duration": 42,
    "start_time": "2021-09-26T08:55:45.688Z"
   },
   {
    "duration": 61,
    "start_time": "2021-09-26T08:55:45.733Z"
   },
   {
    "duration": 43,
    "start_time": "2021-09-26T08:55:45.797Z"
   },
   {
    "duration": 19,
    "start_time": "2021-09-26T08:55:45.843Z"
   },
   {
    "duration": 13,
    "start_time": "2021-09-26T08:55:45.865Z"
   },
   {
    "duration": 4,
    "start_time": "2021-09-26T08:55:45.881Z"
   },
   {
    "duration": 12,
    "start_time": "2021-09-26T08:55:45.917Z"
   },
   {
    "duration": 22,
    "start_time": "2021-09-26T08:55:45.932Z"
   },
   {
    "duration": 926,
    "start_time": "2021-09-27T16:17:32.207Z"
   },
   {
    "duration": 17,
    "start_time": "2021-09-27T16:17:33.136Z"
   },
   {
    "duration": 41,
    "start_time": "2021-09-27T16:17:33.155Z"
   },
   {
    "duration": 16,
    "start_time": "2021-09-27T16:17:33.198Z"
   },
   {
    "duration": 28,
    "start_time": "2021-09-27T16:17:33.216Z"
   },
   {
    "duration": 17,
    "start_time": "2021-09-27T16:17:33.246Z"
   },
   {
    "duration": 75,
    "start_time": "2021-09-27T16:17:33.265Z"
   },
   {
    "duration": 35,
    "start_time": "2021-09-27T16:17:33.342Z"
   },
   {
    "duration": 12,
    "start_time": "2021-09-27T16:17:33.380Z"
   },
   {
    "duration": 16,
    "start_time": "2021-09-27T16:17:33.394Z"
   },
   {
    "duration": 33,
    "start_time": "2021-09-27T16:17:33.412Z"
   },
   {
    "duration": 6650,
    "start_time": "2021-09-27T16:17:33.447Z"
   },
   {
    "duration": 333,
    "start_time": "2021-09-27T16:19:08.232Z"
   },
   {
    "duration": 13,
    "start_time": "2021-09-27T16:19:14.332Z"
   },
   {
    "duration": 221,
    "start_time": "2021-09-27T16:19:47.585Z"
   },
   {
    "duration": 981,
    "start_time": "2021-09-27T16:20:03.158Z"
   },
   {
    "duration": 17,
    "start_time": "2021-09-27T16:20:04.141Z"
   },
   {
    "duration": 25,
    "start_time": "2021-09-27T16:20:04.162Z"
   },
   {
    "duration": 16,
    "start_time": "2021-09-27T16:20:04.189Z"
   },
   {
    "duration": 13,
    "start_time": "2021-09-27T16:20:04.207Z"
   },
   {
    "duration": 12,
    "start_time": "2021-09-27T16:20:04.222Z"
   },
   {
    "duration": 51,
    "start_time": "2021-09-27T16:20:04.235Z"
   },
   {
    "duration": 27,
    "start_time": "2021-09-27T16:20:04.288Z"
   },
   {
    "duration": 12,
    "start_time": "2021-09-27T16:20:04.317Z"
   },
   {
    "duration": 10,
    "start_time": "2021-09-27T16:20:04.331Z"
   },
   {
    "duration": 15,
    "start_time": "2021-09-27T16:20:04.343Z"
   },
   {
    "duration": 365,
    "start_time": "2021-09-27T16:20:04.360Z"
   },
   {
    "duration": 13,
    "start_time": "2021-09-27T16:20:04.727Z"
   },
   {
    "duration": 234,
    "start_time": "2021-09-27T16:20:04.741Z"
   },
   {
    "duration": 199,
    "start_time": "2021-09-27T16:21:13.254Z"
   },
   {
    "duration": 274,
    "start_time": "2021-09-27T16:21:53.160Z"
   },
   {
    "duration": 185,
    "start_time": "2021-09-27T16:25:52.376Z"
   },
   {
    "duration": 4,
    "start_time": "2021-09-27T16:26:43.195Z"
   },
   {
    "duration": 6,
    "start_time": "2021-09-27T16:27:01.169Z"
   },
   {
    "duration": 192,
    "start_time": "2021-09-27T16:27:17.027Z"
   },
   {
    "duration": 200,
    "start_time": "2021-09-27T16:27:25.831Z"
   },
   {
    "duration": 198,
    "start_time": "2021-09-27T16:27:30.081Z"
   },
   {
    "duration": 469,
    "start_time": "2021-09-27T16:27:35.771Z"
   },
   {
    "duration": 259,
    "start_time": "2021-09-27T16:27:41.113Z"
   },
   {
    "duration": 187,
    "start_time": "2021-09-27T16:27:47.864Z"
   },
   {
    "duration": 312,
    "start_time": "2021-09-27T16:29:52.181Z"
   },
   {
    "duration": 304,
    "start_time": "2021-09-27T16:30:10.023Z"
   },
   {
    "duration": 339,
    "start_time": "2021-09-27T16:30:30.079Z"
   },
   {
    "duration": 333,
    "start_time": "2021-09-27T16:30:38.692Z"
   },
   {
    "duration": 300,
    "start_time": "2021-09-27T16:30:47.255Z"
   },
   {
    "duration": 217,
    "start_time": "2021-09-27T16:35:57.245Z"
   },
   {
    "duration": 256,
    "start_time": "2021-09-27T16:37:16.643Z"
   },
   {
    "duration": 355,
    "start_time": "2021-09-27T16:37:53.438Z"
   },
   {
    "duration": 5,
    "start_time": "2021-09-27T16:38:23.212Z"
   },
   {
    "duration": 5,
    "start_time": "2021-09-27T16:38:28.167Z"
   },
   {
    "duration": 310,
    "start_time": "2021-09-27T16:39:32.799Z"
   },
   {
    "duration": 5,
    "start_time": "2021-09-27T16:40:18.846Z"
   },
   {
    "duration": 5,
    "start_time": "2021-09-27T16:41:44.860Z"
   },
   {
    "duration": 5,
    "start_time": "2021-09-27T16:42:18.087Z"
   },
   {
    "duration": 73,
    "start_time": "2021-09-27T16:44:33.642Z"
   },
   {
    "duration": 716,
    "start_time": "2021-09-27T16:44:51.673Z"
   },
   {
    "duration": 5644,
    "start_time": "2021-09-27T16:46:40.447Z"
   },
   {
    "duration": 474,
    "start_time": "2021-09-27T16:47:37.671Z"
   },
   {
    "duration": 28,
    "start_time": "2021-09-27T16:48:31.606Z"
   },
   {
    "duration": 239,
    "start_time": "2021-09-27T16:49:00.573Z"
   },
   {
    "duration": 227,
    "start_time": "2021-09-27T16:49:01.018Z"
   },
   {
    "duration": 117,
    "start_time": "2021-09-27T16:50:35.865Z"
   },
   {
    "duration": 6137,
    "start_time": "2021-09-27T16:51:52.594Z"
   },
   {
    "duration": 14,
    "start_time": "2021-09-27T16:52:06.944Z"
   },
   {
    "duration": 13,
    "start_time": "2021-09-27T16:53:00.456Z"
   },
   {
    "duration": 1079,
    "start_time": "2021-09-29T08:43:46.622Z"
   },
   {
    "duration": 403,
    "start_time": "2021-09-29T08:49:37.195Z"
   },
   {
    "duration": 3,
    "start_time": "2021-09-29T09:02:52.126Z"
   },
   {
    "duration": 18,
    "start_time": "2021-09-29T09:02:53.568Z"
   },
   {
    "duration": 27,
    "start_time": "2021-09-29T09:02:53.959Z"
   },
   {
    "duration": 16,
    "start_time": "2021-09-29T09:02:55.999Z"
   },
   {
    "duration": 11,
    "start_time": "2021-09-29T09:03:02.275Z"
   },
   {
    "duration": 1075,
    "start_time": "2021-09-29T09:03:09.726Z"
   },
   {
    "duration": 20,
    "start_time": "2021-09-29T09:03:10.803Z"
   },
   {
    "duration": 35,
    "start_time": "2021-09-29T09:03:10.825Z"
   },
   {
    "duration": 19,
    "start_time": "2021-09-29T09:03:10.862Z"
   },
   {
    "duration": 14,
    "start_time": "2021-09-29T09:03:10.883Z"
   },
   {
    "duration": 54,
    "start_time": "2021-09-29T09:03:10.900Z"
   },
   {
    "duration": 24,
    "start_time": "2021-09-29T09:03:10.956Z"
   },
   {
    "duration": 11,
    "start_time": "2021-09-29T09:03:10.982Z"
   },
   {
    "duration": 10,
    "start_time": "2021-09-29T09:03:10.995Z"
   },
   {
    "duration": 16,
    "start_time": "2021-09-29T09:03:11.007Z"
   },
   {
    "duration": 362,
    "start_time": "2021-09-29T09:03:11.025Z"
   },
   {
    "duration": 11,
    "start_time": "2021-09-29T09:03:11.389Z"
   },
   {
    "duration": 207,
    "start_time": "2021-09-29T09:03:11.402Z"
   },
   {
    "duration": 88,
    "start_time": "2021-09-29T09:03:11.611Z"
   },
   {
    "duration": 36,
    "start_time": "2021-09-29T09:03:11.665Z"
   },
   {
    "duration": 35,
    "start_time": "2021-09-29T09:03:11.667Z"
   },
   {
    "duration": 31,
    "start_time": "2021-09-29T09:03:11.671Z"
   },
   {
    "duration": 30,
    "start_time": "2021-09-29T09:03:11.673Z"
   },
   {
    "duration": 30,
    "start_time": "2021-09-29T09:03:11.674Z"
   },
   {
    "duration": 29,
    "start_time": "2021-09-29T09:03:11.676Z"
   },
   {
    "duration": 29,
    "start_time": "2021-09-29T09:03:11.677Z"
   },
   {
    "duration": 28,
    "start_time": "2021-09-29T09:03:11.679Z"
   },
   {
    "duration": 28,
    "start_time": "2021-09-29T09:03:11.680Z"
   },
   {
    "duration": 27,
    "start_time": "2021-09-29T09:03:11.682Z"
   },
   {
    "duration": 23,
    "start_time": "2021-09-29T09:03:11.687Z"
   },
   {
    "duration": 22,
    "start_time": "2021-09-29T09:03:11.689Z"
   },
   {
    "duration": 21,
    "start_time": "2021-09-29T09:03:11.691Z"
   },
   {
    "duration": 20,
    "start_time": "2021-09-29T09:03:11.693Z"
   },
   {
    "duration": 12,
    "start_time": "2021-09-29T09:03:34.085Z"
   },
   {
    "duration": 4,
    "start_time": "2021-09-29T09:03:42.152Z"
   },
   {
    "duration": 18,
    "start_time": "2021-09-29T09:03:43.314Z"
   },
   {
    "duration": 21,
    "start_time": "2021-09-29T09:03:43.693Z"
   },
   {
    "duration": 12,
    "start_time": "2021-09-29T09:03:46.049Z"
   },
   {
    "duration": 10,
    "start_time": "2021-09-29T09:04:00.876Z"
   },
   {
    "duration": 11,
    "start_time": "2021-09-29T09:04:16.320Z"
   },
   {
    "duration": 1048,
    "start_time": "2021-09-29T09:06:09.460Z"
   },
   {
    "duration": 19,
    "start_time": "2021-09-29T09:06:10.509Z"
   },
   {
    "duration": 44,
    "start_time": "2021-09-29T09:06:10.530Z"
   },
   {
    "duration": 13,
    "start_time": "2021-09-29T09:06:10.576Z"
   },
   {
    "duration": 17,
    "start_time": "2021-09-29T09:06:10.591Z"
   },
   {
    "duration": 59,
    "start_time": "2021-09-29T09:06:10.610Z"
   },
   {
    "duration": 27,
    "start_time": "2021-09-29T09:06:10.671Z"
   },
   {
    "duration": 18,
    "start_time": "2021-09-29T09:06:10.701Z"
   },
   {
    "duration": 26,
    "start_time": "2021-09-29T09:06:10.721Z"
   },
   {
    "duration": 35,
    "start_time": "2021-09-29T09:06:10.750Z"
   },
   {
    "duration": 345,
    "start_time": "2021-09-29T09:06:10.787Z"
   },
   {
    "duration": 18,
    "start_time": "2021-09-29T09:06:11.133Z"
   },
   {
    "duration": 212,
    "start_time": "2021-09-29T09:06:11.153Z"
   },
   {
    "duration": 92,
    "start_time": "2021-09-29T09:06:11.367Z"
   },
   {
    "duration": 38,
    "start_time": "2021-09-29T09:06:11.423Z"
   },
   {
    "duration": 36,
    "start_time": "2021-09-29T09:06:11.425Z"
   },
   {
    "duration": 35,
    "start_time": "2021-09-29T09:06:11.427Z"
   },
   {
    "duration": 35,
    "start_time": "2021-09-29T09:06:11.428Z"
   },
   {
    "duration": 34,
    "start_time": "2021-09-29T09:06:11.430Z"
   },
   {
    "duration": 29,
    "start_time": "2021-09-29T09:06:11.436Z"
   },
   {
    "duration": 28,
    "start_time": "2021-09-29T09:06:11.438Z"
   },
   {
    "duration": 27,
    "start_time": "2021-09-29T09:06:11.439Z"
   },
   {
    "duration": 26,
    "start_time": "2021-09-29T09:06:11.441Z"
   },
   {
    "duration": 25,
    "start_time": "2021-09-29T09:06:11.443Z"
   },
   {
    "duration": 25,
    "start_time": "2021-09-29T09:06:11.445Z"
   },
   {
    "duration": 24,
    "start_time": "2021-09-29T09:06:11.447Z"
   },
   {
    "duration": 18,
    "start_time": "2021-09-29T09:06:11.454Z"
   },
   {
    "duration": 18,
    "start_time": "2021-09-29T09:06:11.455Z"
   },
   {
    "duration": 12,
    "start_time": "2021-09-29T09:06:22.418Z"
   },
   {
    "duration": 12,
    "start_time": "2021-09-29T09:06:27.923Z"
   },
   {
    "duration": 12,
    "start_time": "2021-09-29T09:06:36.329Z"
   },
   {
    "duration": 13,
    "start_time": "2021-09-29T09:06:45.819Z"
   },
   {
    "duration": 3,
    "start_time": "2021-09-29T11:07:18.152Z"
   },
   {
    "duration": 18,
    "start_time": "2021-09-29T11:07:19.364Z"
   },
   {
    "duration": 22,
    "start_time": "2021-09-29T11:07:19.749Z"
   },
   {
    "duration": 12,
    "start_time": "2021-09-29T11:07:21.386Z"
   },
   {
    "duration": 12,
    "start_time": "2021-09-29T11:07:23.025Z"
   },
   {
    "duration": 54,
    "start_time": "2021-09-29T11:07:26.998Z"
   },
   {
    "duration": 20,
    "start_time": "2021-09-29T11:07:28.301Z"
   },
   {
    "duration": 20,
    "start_time": "2021-09-29T11:14:22.243Z"
   },
   {
    "duration": 14,
    "start_time": "2021-09-29T11:14:23.341Z"
   },
   {
    "duration": 19,
    "start_time": "2021-09-29T11:14:24.509Z"
   },
   {
    "duration": 7,
    "start_time": "2021-09-29T11:14:24.998Z"
   },
   {
    "duration": 7,
    "start_time": "2021-09-29T11:22:12.165Z"
   },
   {
    "duration": 1041,
    "start_time": "2021-09-29T11:26:18.353Z"
   },
   {
    "duration": 19,
    "start_time": "2021-09-29T11:26:19.396Z"
   },
   {
    "duration": 26,
    "start_time": "2021-09-29T11:26:19.417Z"
   },
   {
    "duration": 12,
    "start_time": "2021-09-29T11:26:19.445Z"
   },
   {
    "duration": 11,
    "start_time": "2021-09-29T11:26:19.459Z"
   },
   {
    "duration": 54,
    "start_time": "2021-09-29T11:26:19.473Z"
   },
   {
    "duration": 19,
    "start_time": "2021-09-29T11:26:19.528Z"
   },
   {
    "duration": 12,
    "start_time": "2021-09-29T11:26:19.549Z"
   },
   {
    "duration": 8,
    "start_time": "2021-09-29T11:26:19.563Z"
   },
   {
    "duration": 13,
    "start_time": "2021-09-29T11:26:19.573Z"
   },
   {
    "duration": 356,
    "start_time": "2021-09-29T11:26:19.588Z"
   },
   {
    "duration": 12,
    "start_time": "2021-09-29T11:26:19.946Z"
   },
   {
    "duration": 209,
    "start_time": "2021-09-29T11:26:19.960Z"
   },
   {
    "duration": 192,
    "start_time": "2021-09-29T11:26:20.171Z"
   },
   {
    "duration": 305,
    "start_time": "2021-09-29T11:26:20.365Z"
   },
   {
    "duration": 192,
    "start_time": "2021-09-29T11:26:20.672Z"
   },
   {
    "duration": 311,
    "start_time": "2021-09-29T11:26:20.866Z"
   },
   {
    "duration": 359,
    "start_time": "2021-09-29T11:26:21.179Z"
   },
   {
    "duration": 5,
    "start_time": "2021-09-29T11:26:21.545Z"
   },
   {
    "duration": 287,
    "start_time": "2021-09-29T11:26:21.551Z"
   },
   {
    "duration": 5,
    "start_time": "2021-09-29T11:26:21.844Z"
   },
   {
    "duration": 258,
    "start_time": "2021-09-29T11:26:21.850Z"
   },
   {
    "duration": 243,
    "start_time": "2021-09-29T11:26:22.109Z"
   },
   {
    "duration": 29,
    "start_time": "2021-09-29T11:26:22.354Z"
   },
   {
    "duration": 135,
    "start_time": "2021-09-29T11:26:22.385Z"
   },
   {
    "duration": 12,
    "start_time": "2021-09-29T11:26:22.522Z"
   },
   {
    "duration": 13,
    "start_time": "2021-09-29T11:26:22.545Z"
   },
   {
    "duration": 6,
    "start_time": "2021-09-29T13:34:28.146Z"
   },
   {
    "duration": 205,
    "start_time": "2021-09-29T13:34:29.197Z"
   },
   {
    "duration": 220,
    "start_time": "2021-09-29T13:37:01.953Z"
   },
   {
    "duration": 153,
    "start_time": "2021-09-29T13:37:02.713Z"
   },
   {
    "duration": 147,
    "start_time": "2021-09-29T13:38:43.584Z"
   },
   {
    "duration": 7,
    "start_time": "2021-09-29T13:38:44.299Z"
   },
   {
    "duration": 13,
    "start_time": "2021-09-29T13:38:44.725Z"
   },
   {
    "duration": 6,
    "start_time": "2021-09-29T13:38:45.875Z"
   },
   {
    "duration": 5,
    "start_time": "2021-09-29T13:38:46.885Z"
   },
   {
    "duration": 185,
    "start_time": "2021-09-29T13:38:47.724Z"
   },
   {
    "duration": 571,
    "start_time": "2021-09-29T13:39:18.591Z"
   },
   {
    "duration": 190,
    "start_time": "2021-09-29T13:39:26.254Z"
   },
   {
    "duration": 93,
    "start_time": "2021-09-29T13:40:57.437Z"
   },
   {
    "duration": 94,
    "start_time": "2021-09-29T13:41:44.206Z"
   },
   {
    "duration": 118,
    "start_time": "2021-09-29T13:42:15.257Z"
   },
   {
    "duration": 196,
    "start_time": "2021-09-29T13:42:21.212Z"
   },
   {
    "duration": 180,
    "start_time": "2021-09-29T13:49:00.978Z"
   },
   {
    "duration": 369,
    "start_time": "2021-09-29T13:53:15.814Z"
   },
   {
    "duration": 392,
    "start_time": "2021-09-29T13:53:36.352Z"
   },
   {
    "duration": 250,
    "start_time": "2021-09-29T13:54:09.557Z"
   },
   {
    "duration": 214,
    "start_time": "2021-09-29T13:55:24.244Z"
   },
   {
    "duration": 230,
    "start_time": "2021-09-29T13:57:49.321Z"
   },
   {
    "duration": 242,
    "start_time": "2021-09-29T13:57:59.897Z"
   },
   {
    "duration": 225,
    "start_time": "2021-09-29T13:58:06.601Z"
   },
   {
    "duration": 336,
    "start_time": "2021-09-29T13:58:18.716Z"
   },
   {
    "duration": 414,
    "start_time": "2021-09-29T13:58:33.634Z"
   },
   {
    "duration": 4,
    "start_time": "2021-09-29T14:14:04.965Z"
   },
   {
    "duration": 6,
    "start_time": "2021-09-29T14:14:06.005Z"
   },
   {
    "duration": 213,
    "start_time": "2021-09-29T14:14:06.485Z"
   },
   {
    "duration": 4,
    "start_time": "2021-09-29T14:15:51.386Z"
   },
   {
    "duration": 6,
    "start_time": "2021-09-29T14:15:52.204Z"
   },
   {
    "duration": 214,
    "start_time": "2021-09-29T14:15:53.037Z"
   },
   {
    "duration": 8,
    "start_time": "2021-09-29T14:17:58.755Z"
   },
   {
    "duration": 339,
    "start_time": "2021-09-29T14:17:59.258Z"
   },
   {
    "duration": 141,
    "start_time": "2021-09-29T14:24:59.742Z"
   },
   {
    "duration": 107,
    "start_time": "2021-09-29T14:26:01.758Z"
   },
   {
    "duration": 282,
    "start_time": "2021-09-29T14:26:03.268Z"
   },
   {
    "duration": 5,
    "start_time": "2021-09-29T14:31:28.677Z"
   },
   {
    "duration": 5,
    "start_time": "2021-09-29T14:31:39.826Z"
   },
   {
    "duration": 301,
    "start_time": "2021-09-29T14:36:19.566Z"
   },
   {
    "duration": 311,
    "start_time": "2021-09-29T14:36:35.752Z"
   },
   {
    "duration": 339,
    "start_time": "2021-09-29T14:38:47.129Z"
   },
   {
    "duration": 4,
    "start_time": "2021-09-29T14:40:41.673Z"
   },
   {
    "duration": 269,
    "start_time": "2021-09-29T14:45:17.239Z"
   },
   {
    "duration": 8,
    "start_time": "2021-09-29T14:45:17.722Z"
   },
   {
    "duration": 246,
    "start_time": "2021-09-29T14:46:36.376Z"
   },
   {
    "duration": 11,
    "start_time": "2021-09-29T14:47:12.935Z"
   },
   {
    "duration": 1094,
    "start_time": "2021-09-29T14:47:18.613Z"
   },
   {
    "duration": 18,
    "start_time": "2021-09-29T14:47:19.709Z"
   },
   {
    "duration": 33,
    "start_time": "2021-09-29T14:47:19.729Z"
   },
   {
    "duration": 20,
    "start_time": "2021-09-29T14:47:19.764Z"
   },
   {
    "duration": 11,
    "start_time": "2021-09-29T14:47:19.786Z"
   },
   {
    "duration": 58,
    "start_time": "2021-09-29T14:47:19.799Z"
   },
   {
    "duration": 22,
    "start_time": "2021-09-29T14:47:19.859Z"
   },
   {
    "duration": 14,
    "start_time": "2021-09-29T14:47:19.884Z"
   },
   {
    "duration": 11,
    "start_time": "2021-09-29T14:47:19.900Z"
   },
   {
    "duration": 31,
    "start_time": "2021-09-29T14:47:19.913Z"
   },
   {
    "duration": 12,
    "start_time": "2021-09-29T14:47:19.946Z"
   },
   {
    "duration": 216,
    "start_time": "2021-09-29T14:47:19.959Z"
   },
   {
    "duration": 169,
    "start_time": "2021-09-29T14:47:20.177Z"
   },
   {
    "duration": 7,
    "start_time": "2021-09-29T14:47:20.348Z"
   },
   {
    "duration": 16,
    "start_time": "2021-09-29T14:47:20.357Z"
   },
   {
    "duration": 6,
    "start_time": "2021-09-29T14:47:20.374Z"
   },
   {
    "duration": 17,
    "start_time": "2021-09-29T14:47:20.381Z"
   },
   {
    "duration": 268,
    "start_time": "2021-09-29T14:47:20.400Z"
   },
   {
    "duration": 249,
    "start_time": "2021-09-29T14:47:20.670Z"
   },
   {
    "duration": 7,
    "start_time": "2021-09-29T14:47:20.920Z"
   },
   {
    "duration": 353,
    "start_time": "2021-09-29T14:47:20.928Z"
   },
   {
    "duration": 4,
    "start_time": "2021-09-29T14:47:21.283Z"
   },
   {
    "duration": 18,
    "start_time": "2021-09-29T14:47:21.290Z"
   },
   {
    "duration": 237,
    "start_time": "2021-09-29T14:47:21.310Z"
   },
   {
    "duration": 8,
    "start_time": "2021-09-29T14:47:21.549Z"
   },
   {
    "duration": 353,
    "start_time": "2021-09-29T14:47:21.559Z"
   },
   {
    "duration": 109,
    "start_time": "2021-09-29T14:47:21.914Z"
   },
   {
    "duration": 335,
    "start_time": "2021-09-29T14:47:22.026Z"
   },
   {
    "duration": 5,
    "start_time": "2021-09-29T14:47:22.363Z"
   },
   {
    "duration": 318,
    "start_time": "2021-09-29T14:47:22.370Z"
   },
   {
    "duration": 4,
    "start_time": "2021-09-29T14:47:22.690Z"
   },
   {
    "duration": 403,
    "start_time": "2021-09-29T14:47:22.696Z"
   },
   {
    "duration": 12,
    "start_time": "2021-09-29T14:47:23.089Z"
   },
   {
    "duration": 4,
    "start_time": "2021-09-29T14:47:23.098Z"
   },
   {
    "duration": -24,
    "start_time": "2021-09-29T14:47:23.128Z"
   },
   {
    "duration": -41,
    "start_time": "2021-09-29T14:47:23.146Z"
   },
   {
    "duration": 239,
    "start_time": "2021-09-29T14:47:42.569Z"
   },
   {
    "duration": 227,
    "start_time": "2021-09-29T14:47:43.121Z"
   },
   {
    "duration": 9,
    "start_time": "2021-09-29T14:51:28.207Z"
   },
   {
    "duration": 315,
    "start_time": "2021-09-29T14:51:51.317Z"
   },
   {
    "duration": 237,
    "start_time": "2021-09-29T14:51:56.057Z"
   },
   {
    "duration": 251,
    "start_time": "2021-09-29T14:51:56.390Z"
   },
   {
    "duration": 9,
    "start_time": "2021-09-29T14:52:05.532Z"
   },
   {
    "duration": 9,
    "start_time": "2021-09-29T14:52:23.137Z"
   },
   {
    "duration": 111,
    "start_time": "2021-09-29T14:56:20.521Z"
   },
   {
    "duration": 146,
    "start_time": "2021-09-29T14:56:21.887Z"
   },
   {
    "duration": 30,
    "start_time": "2021-09-29T14:58:46.857Z"
   },
   {
    "duration": 1398,
    "start_time": "2021-09-30T09:42:40.192Z"
   },
   {
    "duration": 20,
    "start_time": "2021-09-30T09:42:41.592Z"
   },
   {
    "duration": 60,
    "start_time": "2021-09-30T09:42:41.622Z"
   },
   {
    "duration": 24,
    "start_time": "2021-09-30T09:42:41.685Z"
   },
   {
    "duration": 32,
    "start_time": "2021-09-30T09:42:41.712Z"
   },
   {
    "duration": 82,
    "start_time": "2021-09-30T09:42:41.747Z"
   },
   {
    "duration": 56,
    "start_time": "2021-09-30T09:42:41.834Z"
   },
   {
    "duration": 33,
    "start_time": "2021-09-30T09:42:41.894Z"
   },
   {
    "duration": 30,
    "start_time": "2021-09-30T09:42:41.930Z"
   },
   {
    "duration": 51,
    "start_time": "2021-09-30T09:42:41.963Z"
   },
   {
    "duration": 39,
    "start_time": "2021-09-30T09:42:42.016Z"
   },
   {
    "duration": 354,
    "start_time": "2021-09-30T09:42:42.057Z"
   },
   {
    "duration": 282,
    "start_time": "2021-09-30T09:42:42.414Z"
   },
   {
    "duration": 26,
    "start_time": "2021-09-30T09:42:42.699Z"
   },
   {
    "duration": 70,
    "start_time": "2021-09-30T09:42:42.728Z"
   },
   {
    "duration": 30,
    "start_time": "2021-09-30T09:42:42.801Z"
   },
   {
    "duration": 33,
    "start_time": "2021-09-30T09:42:42.834Z"
   },
   {
    "duration": 549,
    "start_time": "2021-09-30T09:42:42.870Z"
   },
   {
    "duration": 440,
    "start_time": "2021-09-30T09:42:43.423Z"
   },
   {
    "duration": 9,
    "start_time": "2021-09-30T09:42:43.866Z"
   },
   {
    "duration": 484,
    "start_time": "2021-09-30T09:42:43.877Z"
   },
   {
    "duration": 6,
    "start_time": "2021-09-30T09:42:44.366Z"
   },
   {
    "duration": 32,
    "start_time": "2021-09-30T09:42:44.375Z"
   },
   {
    "duration": 367,
    "start_time": "2021-09-30T09:42:44.410Z"
   },
   {
    "duration": 12,
    "start_time": "2021-09-30T09:42:44.780Z"
   },
   {
    "duration": 505,
    "start_time": "2021-09-30T09:42:44.794Z"
   },
   {
    "duration": 201,
    "start_time": "2021-09-30T09:42:45.301Z"
   },
   {
    "duration": 447,
    "start_time": "2021-09-30T09:42:45.505Z"
   },
   {
    "duration": 7,
    "start_time": "2021-09-30T09:42:45.954Z"
   },
   {
    "duration": 440,
    "start_time": "2021-09-30T09:42:45.963Z"
   },
   {
    "duration": 17,
    "start_time": "2021-09-30T09:42:46.406Z"
   },
   {
    "duration": 199,
    "start_time": "2021-09-30T09:42:46.425Z"
   },
   {
    "duration": 273,
    "start_time": "2021-09-30T09:42:46.626Z"
   },
   {
    "duration": 75,
    "start_time": "2021-09-30T09:42:46.902Z"
   },
   {
    "duration": 456,
    "start_time": "2021-09-30T09:42:46.980Z"
   },
   {
    "duration": 8,
    "start_time": "2021-09-30T09:42:47.439Z"
   },
   {
    "duration": 434,
    "start_time": "2021-09-30T09:42:47.449Z"
   },
   {
    "duration": -53,
    "start_time": "2021-09-30T09:42:47.939Z"
   },
   {
    "duration": -54,
    "start_time": "2021-09-30T09:42:47.941Z"
   },
   {
    "duration": -55,
    "start_time": "2021-09-30T09:42:47.943Z"
   },
   {
    "duration": -58,
    "start_time": "2021-09-30T09:42:47.947Z"
   },
   {
    "duration": 287,
    "start_time": "2021-09-30T09:44:18.978Z"
   },
   {
    "duration": 11,
    "start_time": "2021-09-30T09:44:59.676Z"
   },
   {
    "duration": 11,
    "start_time": "2021-09-30T09:51:11.583Z"
   },
   {
    "duration": 12,
    "start_time": "2021-09-30T09:51:21.006Z"
   },
   {
    "duration": 14,
    "start_time": "2021-09-30T09:52:01.287Z"
   },
   {
    "duration": 836,
    "start_time": "2021-09-30T09:55:20.520Z"
   },
   {
    "duration": 15,
    "start_time": "2021-09-30T09:55:33.452Z"
   },
   {
    "duration": 293,
    "start_time": "2021-09-30T09:55:55.835Z"
   },
   {
    "duration": 953,
    "start_time": "2021-09-30T09:57:53.374Z"
   },
   {
    "duration": 97,
    "start_time": "2021-09-30T09:58:18.138Z"
   },
   {
    "duration": 224,
    "start_time": "2021-09-30T09:58:22.444Z"
   },
   {
    "duration": 305,
    "start_time": "2021-09-30T09:58:55.941Z"
   },
   {
    "duration": 218,
    "start_time": "2021-09-30T10:00:58.025Z"
   },
   {
    "duration": 9408,
    "start_time": "2021-09-30T10:01:22.681Z"
   },
   {
    "duration": 12,
    "start_time": "2021-09-30T10:02:16.451Z"
   },
   {
    "duration": 10,
    "start_time": "2021-09-30T10:02:18.826Z"
   },
   {
    "duration": 101,
    "start_time": "2021-09-30T10:03:34.829Z"
   },
   {
    "duration": 11,
    "start_time": "2021-09-30T10:03:49.713Z"
   },
   {
    "duration": 20,
    "start_time": "2021-09-30T10:06:46.970Z"
   },
   {
    "duration": 102,
    "start_time": "2021-09-30T10:08:29.178Z"
   },
   {
    "duration": 106,
    "start_time": "2021-09-30T10:08:33.940Z"
   },
   {
    "duration": 21,
    "start_time": "2021-09-30T10:08:40.450Z"
   },
   {
    "duration": 16,
    "start_time": "2021-09-30T10:09:08.334Z"
   },
   {
    "duration": 15,
    "start_time": "2021-09-30T10:09:24.348Z"
   },
   {
    "duration": 96,
    "start_time": "2021-09-30T10:09:44.732Z"
   },
   {
    "duration": 15,
    "start_time": "2021-09-30T10:09:49.346Z"
   },
   {
    "duration": 1829,
    "start_time": "2021-09-30T10:15:47.168Z"
   },
   {
    "duration": 22,
    "start_time": "2021-09-30T10:15:49.001Z"
   },
   {
    "duration": 58,
    "start_time": "2021-09-30T10:15:49.027Z"
   },
   {
    "duration": 37,
    "start_time": "2021-09-30T10:15:49.088Z"
   },
   {
    "duration": 18,
    "start_time": "2021-09-30T10:15:49.128Z"
   },
   {
    "duration": 55,
    "start_time": "2021-09-30T10:15:49.149Z"
   },
   {
    "duration": 32,
    "start_time": "2021-09-30T10:15:49.207Z"
   },
   {
    "duration": 20,
    "start_time": "2021-09-30T10:15:49.244Z"
   },
   {
    "duration": 22,
    "start_time": "2021-09-30T10:15:49.267Z"
   },
   {
    "duration": 46,
    "start_time": "2021-09-30T10:15:49.292Z"
   },
   {
    "duration": 17,
    "start_time": "2021-09-30T10:15:49.340Z"
   },
   {
    "duration": 355,
    "start_time": "2021-09-30T10:15:49.360Z"
   },
   {
    "duration": 277,
    "start_time": "2021-09-30T10:15:49.718Z"
   },
   {
    "duration": 10,
    "start_time": "2021-09-30T10:15:49.997Z"
   },
   {
    "duration": 29,
    "start_time": "2021-09-30T10:15:50.009Z"
   },
   {
    "duration": 8,
    "start_time": "2021-09-30T10:15:50.041Z"
   },
   {
    "duration": 17,
    "start_time": "2021-09-30T10:15:50.051Z"
   },
   {
    "duration": 427,
    "start_time": "2021-09-30T10:15:50.070Z"
   },
   {
    "duration": 395,
    "start_time": "2021-09-30T10:15:50.499Z"
   },
   {
    "duration": 9,
    "start_time": "2021-09-30T10:15:50.896Z"
   },
   {
    "duration": 467,
    "start_time": "2021-09-30T10:15:50.908Z"
   },
   {
    "duration": 5,
    "start_time": "2021-09-30T10:15:51.378Z"
   },
   {
    "duration": 18,
    "start_time": "2021-09-30T10:15:51.387Z"
   },
   {
    "duration": 367,
    "start_time": "2021-09-30T10:15:51.408Z"
   },
   {
    "duration": 13,
    "start_time": "2021-09-30T10:15:51.777Z"
   },
   {
    "duration": 514,
    "start_time": "2021-09-30T10:15:51.792Z"
   },
   {
    "duration": 205,
    "start_time": "2021-09-30T10:15:52.308Z"
   },
   {
    "duration": 560,
    "start_time": "2021-09-30T10:15:52.515Z"
   },
   {
    "duration": 7,
    "start_time": "2021-09-30T10:15:53.078Z"
   },
   {
    "duration": 577,
    "start_time": "2021-09-30T10:15:53.087Z"
   },
   {
    "duration": 6,
    "start_time": "2021-09-30T10:15:53.666Z"
   },
   {
    "duration": 250,
    "start_time": "2021-09-30T10:15:53.674Z"
   },
   {
    "duration": 243,
    "start_time": "2021-09-30T10:15:53.926Z"
   },
   {
    "duration": 68,
    "start_time": "2021-09-30T10:15:54.172Z"
   },
   {
    "duration": 402,
    "start_time": "2021-09-30T10:15:54.243Z"
   },
   {
    "duration": 8,
    "start_time": "2021-09-30T10:15:54.648Z"
   },
   {
    "duration": 35,
    "start_time": "2021-09-30T10:15:54.658Z"
   },
   {
    "duration": 31,
    "start_time": "2021-09-30T10:15:54.695Z"
   },
   {
    "duration": 238,
    "start_time": "2021-09-30T10:15:54.729Z"
   },
   {
    "duration": 12,
    "start_time": "2021-09-30T10:15:54.970Z"
   },
   {
    "duration": 29,
    "start_time": "2021-09-30T10:15:54.985Z"
   },
   {
    "duration": 34,
    "start_time": "2021-09-30T10:15:55.022Z"
   },
   {
    "duration": 1479,
    "start_time": "2021-09-30T11:30:32.388Z"
   },
   {
    "duration": 20,
    "start_time": "2021-09-30T11:30:33.870Z"
   },
   {
    "duration": 51,
    "start_time": "2021-09-30T11:30:33.893Z"
   },
   {
    "duration": 16,
    "start_time": "2021-09-30T11:30:33.946Z"
   },
   {
    "duration": 23,
    "start_time": "2021-09-30T11:30:33.964Z"
   },
   {
    "duration": 83,
    "start_time": "2021-09-30T11:30:33.989Z"
   },
   {
    "duration": 37,
    "start_time": "2021-09-30T11:30:34.075Z"
   },
   {
    "duration": 21,
    "start_time": "2021-09-30T11:30:34.117Z"
   },
   {
    "duration": 29,
    "start_time": "2021-09-30T11:30:34.141Z"
   },
   {
    "duration": 48,
    "start_time": "2021-09-30T11:30:34.172Z"
   },
   {
    "duration": 28,
    "start_time": "2021-09-30T11:30:34.223Z"
   },
   {
    "duration": 343,
    "start_time": "2021-09-30T11:30:34.254Z"
   },
   {
    "duration": 283,
    "start_time": "2021-09-30T11:30:34.600Z"
   },
   {
    "duration": 9,
    "start_time": "2021-09-30T11:30:34.886Z"
   },
   {
    "duration": 49,
    "start_time": "2021-09-30T11:30:34.898Z"
   },
   {
    "duration": 27,
    "start_time": "2021-09-30T11:30:34.949Z"
   },
   {
    "duration": 25,
    "start_time": "2021-09-30T11:30:34.979Z"
   },
   {
    "duration": 417,
    "start_time": "2021-09-30T11:30:35.007Z"
   },
   {
    "duration": 388,
    "start_time": "2021-09-30T11:30:35.427Z"
   },
   {
    "duration": 9,
    "start_time": "2021-09-30T11:30:35.817Z"
   },
   {
    "duration": 484,
    "start_time": "2021-09-30T11:30:35.828Z"
   },
   {
    "duration": 6,
    "start_time": "2021-09-30T11:30:36.322Z"
   },
   {
    "duration": 27,
    "start_time": "2021-09-30T11:30:36.336Z"
   },
   {
    "duration": 381,
    "start_time": "2021-09-30T11:30:36.366Z"
   },
   {
    "duration": 12,
    "start_time": "2021-09-30T11:30:36.749Z"
   },
   {
    "duration": 649,
    "start_time": "2021-09-30T11:30:36.763Z"
   },
   {
    "duration": 353,
    "start_time": "2021-09-30T11:30:37.423Z"
   },
   {
    "duration": 600,
    "start_time": "2021-09-30T11:30:37.779Z"
   },
   {
    "duration": 6,
    "start_time": "2021-09-30T11:30:38.382Z"
   },
   {
    "duration": 497,
    "start_time": "2021-09-30T11:30:38.391Z"
   },
   {
    "duration": 8,
    "start_time": "2021-09-30T11:30:38.890Z"
   },
   {
    "duration": 200,
    "start_time": "2021-09-30T11:30:38.901Z"
   },
   {
    "duration": 252,
    "start_time": "2021-09-30T11:30:39.104Z"
   },
   {
    "duration": 64,
    "start_time": "2021-09-30T11:30:39.358Z"
   },
   {
    "duration": 430,
    "start_time": "2021-09-30T11:30:39.424Z"
   },
   {
    "duration": 10,
    "start_time": "2021-09-30T11:30:39.856Z"
   },
   {
    "duration": 23,
    "start_time": "2021-09-30T11:30:39.868Z"
   },
   {
    "duration": 35,
    "start_time": "2021-09-30T11:30:39.894Z"
   },
   {
    "duration": 235,
    "start_time": "2021-09-30T11:30:39.933Z"
   },
   {
    "duration": 11,
    "start_time": "2021-09-30T11:30:40.171Z"
   },
   {
    "duration": 19,
    "start_time": "2021-09-30T11:30:40.184Z"
   },
   {
    "duration": 22,
    "start_time": "2021-09-30T11:30:40.222Z"
   },
   {
    "duration": 480,
    "start_time": "2021-09-30T11:31:56.421Z"
   },
   {
    "duration": 516,
    "start_time": "2021-09-30T11:32:28.571Z"
   },
   {
    "duration": 628,
    "start_time": "2021-09-30T11:32:57.385Z"
   },
   {
    "duration": 474,
    "start_time": "2021-09-30T11:33:27.739Z"
   },
   {
    "duration": 365,
    "start_time": "2021-09-30T11:33:31.649Z"
   },
   {
    "duration": 1671,
    "start_time": "2021-09-30T11:33:42.598Z"
   },
   {
    "duration": 22,
    "start_time": "2021-09-30T11:33:44.273Z"
   },
   {
    "duration": 70,
    "start_time": "2021-09-30T11:33:44.299Z"
   },
   {
    "duration": 25,
    "start_time": "2021-09-30T11:33:44.373Z"
   },
   {
    "duration": 43,
    "start_time": "2021-09-30T11:33:44.401Z"
   },
   {
    "duration": 93,
    "start_time": "2021-09-30T11:33:44.447Z"
   },
   {
    "duration": 44,
    "start_time": "2021-09-30T11:33:44.543Z"
   },
   {
    "duration": 28,
    "start_time": "2021-09-30T11:33:44.592Z"
   },
   {
    "duration": 34,
    "start_time": "2021-09-30T11:33:44.625Z"
   },
   {
    "duration": 49,
    "start_time": "2021-09-30T11:33:44.662Z"
   },
   {
    "duration": 24,
    "start_time": "2021-09-30T11:33:44.714Z"
   },
   {
    "duration": 527,
    "start_time": "2021-09-30T11:33:44.741Z"
   },
   {
    "duration": 401,
    "start_time": "2021-09-30T11:33:45.271Z"
   },
   {
    "duration": 12,
    "start_time": "2021-09-30T11:33:45.675Z"
   },
   {
    "duration": 44,
    "start_time": "2021-09-30T11:33:45.689Z"
   },
   {
    "duration": 10,
    "start_time": "2021-09-30T11:33:45.736Z"
   },
   {
    "duration": 21,
    "start_time": "2021-09-30T11:33:45.749Z"
   },
   {
    "duration": 606,
    "start_time": "2021-09-30T11:33:45.773Z"
   },
   {
    "duration": 574,
    "start_time": "2021-09-30T11:33:46.382Z"
   },
   {
    "duration": 13,
    "start_time": "2021-09-30T11:33:46.959Z"
   },
   {
    "duration": 663,
    "start_time": "2021-09-30T11:33:46.975Z"
   },
   {
    "duration": 8,
    "start_time": "2021-09-30T11:33:47.641Z"
   },
   {
    "duration": 17,
    "start_time": "2021-09-30T11:33:47.653Z"
   },
   {
    "duration": 463,
    "start_time": "2021-09-30T11:33:47.674Z"
   },
   {
    "duration": 14,
    "start_time": "2021-09-30T11:33:48.139Z"
   },
   {
    "duration": 499,
    "start_time": "2021-09-30T11:33:48.155Z"
   },
   {
    "duration": 204,
    "start_time": "2021-09-30T11:33:48.658Z"
   },
   {
    "duration": 528,
    "start_time": "2021-09-30T11:33:48.865Z"
   },
   {
    "duration": 6,
    "start_time": "2021-09-30T11:33:49.395Z"
   },
   {
    "duration": 471,
    "start_time": "2021-09-30T11:33:49.403Z"
   },
   {
    "duration": 8,
    "start_time": "2021-09-30T11:33:49.877Z"
   },
   {
    "duration": 210,
    "start_time": "2021-09-30T11:33:49.887Z"
   },
   {
    "duration": 241,
    "start_time": "2021-09-30T11:33:50.099Z"
   },
   {
    "duration": 51,
    "start_time": "2021-09-30T11:33:50.343Z"
   },
   {
    "duration": 428,
    "start_time": "2021-09-30T11:33:50.396Z"
   },
   {
    "duration": 9,
    "start_time": "2021-09-30T11:33:50.827Z"
   },
   {
    "duration": 19,
    "start_time": "2021-09-30T11:33:50.839Z"
   },
   {
    "duration": 35,
    "start_time": "2021-09-30T11:33:50.860Z"
   },
   {
    "duration": 251,
    "start_time": "2021-09-30T11:33:50.898Z"
   },
   {
    "duration": 12,
    "start_time": "2021-09-30T11:33:51.151Z"
   },
   {
    "duration": 26,
    "start_time": "2021-09-30T11:33:51.166Z"
   },
   {
    "duration": 52,
    "start_time": "2021-09-30T11:33:51.194Z"
   },
   {
    "duration": 1491,
    "start_time": "2021-09-30T17:21:24.907Z"
   },
   {
    "duration": 18,
    "start_time": "2021-09-30T17:21:26.401Z"
   },
   {
    "duration": 67,
    "start_time": "2021-09-30T17:21:26.425Z"
   },
   {
    "duration": 18,
    "start_time": "2021-09-30T17:21:26.495Z"
   },
   {
    "duration": 20,
    "start_time": "2021-09-30T17:21:26.515Z"
   },
   {
    "duration": 70,
    "start_time": "2021-09-30T17:21:26.562Z"
   },
   {
    "duration": 54,
    "start_time": "2021-09-30T17:21:26.635Z"
   },
   {
    "duration": 36,
    "start_time": "2021-09-30T17:21:26.692Z"
   },
   {
    "duration": 33,
    "start_time": "2021-09-30T17:21:26.730Z"
   },
   {
    "duration": 35,
    "start_time": "2021-09-30T17:21:26.766Z"
   },
   {
    "duration": 29,
    "start_time": "2021-09-30T17:21:26.803Z"
   },
   {
    "duration": 412,
    "start_time": "2021-09-30T17:21:26.835Z"
   },
   {
    "duration": 377,
    "start_time": "2021-09-30T17:21:27.251Z"
   },
   {
    "duration": 10,
    "start_time": "2021-09-30T17:21:27.630Z"
   },
   {
    "duration": 49,
    "start_time": "2021-09-30T17:21:27.642Z"
   },
   {
    "duration": 8,
    "start_time": "2021-09-30T17:21:27.694Z"
   },
   {
    "duration": 14,
    "start_time": "2021-09-30T17:21:27.705Z"
   },
   {
    "duration": 552,
    "start_time": "2021-09-30T17:21:27.721Z"
   },
   {
    "duration": 575,
    "start_time": "2021-09-30T17:21:28.276Z"
   },
   {
    "duration": 18,
    "start_time": "2021-09-30T17:21:28.854Z"
   },
   {
    "duration": 541,
    "start_time": "2021-09-30T17:21:28.876Z"
   },
   {
    "duration": 6,
    "start_time": "2021-09-30T17:21:29.422Z"
   },
   {
    "duration": 20,
    "start_time": "2021-09-30T17:21:29.431Z"
   },
   {
    "duration": 445,
    "start_time": "2021-09-30T17:21:29.454Z"
   },
   {
    "duration": 12,
    "start_time": "2021-09-30T17:21:29.901Z"
   },
   {
    "duration": 582,
    "start_time": "2021-09-30T17:21:29.916Z"
   },
   {
    "duration": 225,
    "start_time": "2021-09-30T17:21:30.501Z"
   },
   {
    "duration": 518,
    "start_time": "2021-09-30T17:21:30.729Z"
   },
   {
    "duration": 15,
    "start_time": "2021-09-30T17:21:31.250Z"
   },
   {
    "duration": 527,
    "start_time": "2021-09-30T17:21:31.269Z"
   },
   {
    "duration": 7,
    "start_time": "2021-09-30T17:21:31.799Z"
   },
   {
    "duration": 249,
    "start_time": "2021-09-30T17:21:31.808Z"
   },
   {
    "duration": 260,
    "start_time": "2021-09-30T17:21:32.062Z"
   },
   {
    "duration": 76,
    "start_time": "2021-09-30T17:21:32.325Z"
   },
   {
    "duration": 479,
    "start_time": "2021-09-30T17:21:32.403Z"
   },
   {
    "duration": 8,
    "start_time": "2021-09-30T17:21:32.885Z"
   },
   {
    "duration": 48,
    "start_time": "2021-09-30T17:21:32.896Z"
   },
   {
    "duration": 34,
    "start_time": "2021-09-30T17:21:32.948Z"
   },
   {
    "duration": 307,
    "start_time": "2021-09-30T17:21:32.985Z"
   },
   {
    "duration": 13,
    "start_time": "2021-09-30T17:21:33.295Z"
   },
   {
    "duration": 14,
    "start_time": "2021-09-30T17:21:33.311Z"
   },
   {
    "duration": 58,
    "start_time": "2021-09-30T17:21:33.328Z"
   },
   {
    "duration": 1167,
    "start_time": "2021-10-01T05:29:02.296Z"
   },
   {
    "duration": 22,
    "start_time": "2021-10-01T05:29:03.465Z"
   },
   {
    "duration": 35,
    "start_time": "2021-10-01T05:29:03.489Z"
   },
   {
    "duration": 12,
    "start_time": "2021-10-01T05:29:03.527Z"
   },
   {
    "duration": 12,
    "start_time": "2021-10-01T05:29:03.541Z"
   },
   {
    "duration": 80,
    "start_time": "2021-10-01T05:29:03.555Z"
   },
   {
    "duration": 20,
    "start_time": "2021-10-01T05:29:03.637Z"
   },
   {
    "duration": 20,
    "start_time": "2021-10-01T05:29:03.659Z"
   },
   {
    "duration": 17,
    "start_time": "2021-10-01T05:29:03.683Z"
   },
   {
    "duration": 17,
    "start_time": "2021-10-01T05:29:03.702Z"
   },
   {
    "duration": 8,
    "start_time": "2021-10-01T05:29:03.721Z"
   },
   {
    "duration": 236,
    "start_time": "2021-10-01T05:29:03.730Z"
   },
   {
    "duration": 165,
    "start_time": "2021-10-01T05:29:03.967Z"
   },
   {
    "duration": 7,
    "start_time": "2021-10-01T05:29:04.133Z"
   },
   {
    "duration": 19,
    "start_time": "2021-10-01T05:29:04.141Z"
   },
   {
    "duration": 19,
    "start_time": "2021-10-01T05:29:04.162Z"
   },
   {
    "duration": 10,
    "start_time": "2021-10-01T05:29:04.184Z"
   },
   {
    "duration": 265,
    "start_time": "2021-10-01T05:29:04.196Z"
   },
   {
    "duration": 261,
    "start_time": "2021-10-01T05:29:04.463Z"
   },
   {
    "duration": 7,
    "start_time": "2021-10-01T05:29:04.725Z"
   },
   {
    "duration": 331,
    "start_time": "2021-10-01T05:29:04.733Z"
   },
   {
    "duration": 15,
    "start_time": "2021-10-01T05:29:05.066Z"
   },
   {
    "duration": 15,
    "start_time": "2021-10-01T05:29:05.087Z"
   },
   {
    "duration": 246,
    "start_time": "2021-10-01T05:29:05.104Z"
   },
   {
    "duration": 9,
    "start_time": "2021-10-01T05:29:05.353Z"
   },
   {
    "duration": 370,
    "start_time": "2021-10-01T05:29:05.363Z"
   },
   {
    "duration": 121,
    "start_time": "2021-10-01T05:29:05.734Z"
   },
   {
    "duration": 341,
    "start_time": "2021-10-01T05:29:05.877Z"
   },
   {
    "duration": 4,
    "start_time": "2021-10-01T05:29:06.220Z"
   },
   {
    "duration": 317,
    "start_time": "2021-10-01T05:29:06.226Z"
   },
   {
    "duration": 5,
    "start_time": "2021-10-01T05:29:06.545Z"
   },
   {
    "duration": 132,
    "start_time": "2021-10-01T05:29:06.551Z"
   },
   {
    "duration": 151,
    "start_time": "2021-10-01T05:29:06.686Z"
   },
   {
    "duration": 45,
    "start_time": "2021-10-01T05:29:06.839Z"
   },
   {
    "duration": 227,
    "start_time": "2021-10-01T05:29:06.886Z"
   },
   {
    "duration": 5,
    "start_time": "2021-10-01T05:29:07.115Z"
   },
   {
    "duration": 15,
    "start_time": "2021-10-01T05:29:07.122Z"
   },
   {
    "duration": 10,
    "start_time": "2021-10-01T05:29:07.139Z"
   },
   {
    "duration": 160,
    "start_time": "2021-10-01T05:29:07.151Z"
   },
   {
    "duration": 9,
    "start_time": "2021-10-01T05:29:07.313Z"
   },
   {
    "duration": 15,
    "start_time": "2021-10-01T05:29:07.324Z"
   },
   {
    "duration": 44,
    "start_time": "2021-10-01T05:29:07.342Z"
   },
   {
    "duration": 334,
    "start_time": "2021-10-01T05:29:20.448Z"
   },
   {
    "duration": 392,
    "start_time": "2021-10-01T05:30:31.258Z"
   },
   {
    "duration": 317,
    "start_time": "2021-10-01T05:30:38.301Z"
   },
   {
    "duration": 2,
    "start_time": "2021-10-01T06:21:04.324Z"
   },
   {
    "duration": 110,
    "start_time": "2021-10-01T06:21:05.755Z"
   },
   {
    "duration": 8278,
    "start_time": "2021-10-01T06:41:09.995Z"
   },
   {
    "duration": 12,
    "start_time": "2021-10-01T06:41:54.795Z"
   },
   {
    "duration": 20,
    "start_time": "2021-10-01T06:42:09.116Z"
   },
   {
    "duration": 21,
    "start_time": "2021-10-01T06:42:15.777Z"
   },
   {
    "duration": 12,
    "start_time": "2021-10-01T06:42:32.479Z"
   },
   {
    "duration": 11,
    "start_time": "2021-10-01T07:10:25.647Z"
   },
   {
    "duration": 1091,
    "start_time": "2021-10-01T07:10:32.044Z"
   },
   {
    "duration": 17,
    "start_time": "2021-10-01T07:10:33.137Z"
   },
   {
    "duration": 34,
    "start_time": "2021-10-01T07:10:33.157Z"
   },
   {
    "duration": 15,
    "start_time": "2021-10-01T07:10:33.193Z"
   },
   {
    "duration": 13,
    "start_time": "2021-10-01T07:10:33.210Z"
   },
   {
    "duration": 90,
    "start_time": "2021-10-01T07:10:33.224Z"
   },
   {
    "duration": 20,
    "start_time": "2021-10-01T07:10:33.316Z"
   },
   {
    "duration": 13,
    "start_time": "2021-10-01T07:10:33.339Z"
   },
   {
    "duration": 6,
    "start_time": "2021-10-01T07:10:33.354Z"
   },
   {
    "duration": 14,
    "start_time": "2021-10-01T07:10:33.362Z"
   },
   {
    "duration": 11,
    "start_time": "2021-10-01T07:10:33.378Z"
   },
   {
    "duration": 209,
    "start_time": "2021-10-01T07:10:33.390Z"
   },
   {
    "duration": 156,
    "start_time": "2021-10-01T07:10:33.601Z"
   },
   {
    "duration": 7,
    "start_time": "2021-10-01T07:10:33.758Z"
   },
   {
    "duration": 21,
    "start_time": "2021-10-01T07:10:33.766Z"
   },
   {
    "duration": 4,
    "start_time": "2021-10-01T07:10:33.789Z"
   },
   {
    "duration": 6,
    "start_time": "2021-10-01T07:10:33.795Z"
   },
   {
    "duration": 266,
    "start_time": "2021-10-01T07:10:33.802Z"
   },
   {
    "duration": 245,
    "start_time": "2021-10-01T07:10:34.076Z"
   },
   {
    "duration": 6,
    "start_time": "2021-10-01T07:10:34.323Z"
   },
   {
    "duration": 329,
    "start_time": "2021-10-01T07:10:34.331Z"
   },
   {
    "duration": 4,
    "start_time": "2021-10-01T07:10:34.662Z"
   },
   {
    "duration": 8,
    "start_time": "2021-10-01T07:10:34.677Z"
   },
   {
    "duration": 245,
    "start_time": "2021-10-01T07:10:34.687Z"
   },
   {
    "duration": 9,
    "start_time": "2021-10-01T07:10:34.934Z"
   },
   {
    "duration": 382,
    "start_time": "2021-10-01T07:10:34.945Z"
   },
   {
    "duration": 108,
    "start_time": "2021-10-01T07:10:35.329Z"
   },
   {
    "duration": 310,
    "start_time": "2021-10-01T07:10:35.439Z"
   },
   {
    "duration": 5,
    "start_time": "2021-10-01T07:10:35.751Z"
   },
   {
    "duration": 354,
    "start_time": "2021-10-01T07:10:35.758Z"
   },
   {
    "duration": 5,
    "start_time": "2021-10-01T07:10:36.114Z"
   },
   {
    "duration": 125,
    "start_time": "2021-10-01T07:10:36.120Z"
   },
   {
    "duration": 151,
    "start_time": "2021-10-01T07:10:36.247Z"
   },
   {
    "duration": 33,
    "start_time": "2021-10-01T07:10:36.400Z"
   },
   {
    "duration": 261,
    "start_time": "2021-10-01T07:10:36.434Z"
   },
   {
    "duration": 5,
    "start_time": "2021-10-01T07:10:36.697Z"
   },
   {
    "duration": 10,
    "start_time": "2021-10-01T07:10:36.704Z"
   },
   {
    "duration": 10,
    "start_time": "2021-10-01T07:10:36.716Z"
   },
   {
    "duration": 2,
    "start_time": "2021-10-01T07:10:36.728Z"
   },
   {
    "duration": 149,
    "start_time": "2021-10-01T07:10:36.732Z"
   },
   {
    "duration": 8,
    "start_time": "2021-10-01T07:10:36.883Z"
   },
   {
    "duration": 17,
    "start_time": "2021-10-01T07:10:36.893Z"
   },
   {
    "duration": 30,
    "start_time": "2021-10-01T07:10:36.912Z"
   }
  ],
  "kernelspec": {
   "display_name": "Python 3",
   "language": "python",
   "name": "python3"
  },
  "language_info": {
   "codemirror_mode": {
    "name": "ipython",
    "version": 3
   },
   "file_extension": ".py",
   "mimetype": "text/x-python",
   "name": "python",
   "nbconvert_exporter": "python",
   "pygments_lexer": "ipython3",
   "version": "3.8.8"
  },
  "toc": {
   "base_numbering": 1,
   "nav_menu": {},
   "number_sections": true,
   "sideBar": true,
   "skip_h1_title": true,
   "title_cell": "Table of Contents",
   "title_sidebar": "Contents",
   "toc_cell": false,
   "toc_position": {
    "height": "calc(100% - 180px)",
    "left": "10px",
    "top": "150px",
    "width": "366.391px"
   },
   "toc_section_display": true,
   "toc_window_display": true
  }
 },
 "nbformat": 4,
 "nbformat_minor": 2
}
