{
 "cells": [
  {
   "cell_type": "markdown",
   "metadata": {
    "colab_type": "text",
    "deletable": false,
    "editable": false,
    "id": "5UYxO1GdF6Wy",
    "tags": [
     "f6c88c58-a82b-4f28-8bd6-fd55c0017917"
    ]
   },
   "source": [
    "# Этап 1. Получение данных"
   ]
  },
  {
   "cell_type": "markdown",
   "metadata": {
    "colab_type": "text",
    "deletable": false,
    "id": "iI4ITclJaFWh"
   },
   "source": [
    "Изучим данные, предоставленные сервисом для проекта."
   ]
  },
  {
   "cell_type": "markdown",
   "metadata": {
    "colab_type": "text",
    "deletable": false,
    "id": "0skiEFxDZ0Tr"
   },
   "source": [
    "## Импорт библиотек"
   ]
  },
  {
   "cell_type": "code",
   "execution_count": 10,
   "metadata": {
    "colab": {},
    "colab_type": "code",
    "deletable": false,
    "id": "HirRov5vZ3MT"
   },
   "outputs": [],
   "source": [
    "import pandas as pd \n",
    " # <импорт библиотеки pandas>"
   ]
  },
  {
   "cell_type": "markdown",
   "metadata": {
    "colab_type": "text",
    "deletable": false,
    "id": "Tr8dl3PWGFIk"
   },
   "source": [
    "Прочитаем файл *music_project.csv* и сохраним его в переменной *df*. "
   ]
  },
  {
   "cell_type": "code",
   "execution_count": 11,
   "metadata": {
    "colab": {},
    "colab_type": "code",
    "deletable": false,
    "id": "NB6j931yS4hy"
   },
   "outputs": [],
   "source": [
    "df = pd.read_csv('/datasets/music_project.csv') # <чтение файла с данными с сохранением в df>"
   ]
  },
  {
   "cell_type": "markdown",
   "metadata": {
    "colab_type": "text",
    "deletable": false,
    "editable": false,
    "id": "y2usmNMlDLbY",
    "tags": [
     "f3a2f13f-d110-4558-a520-4805b5bd1dfe"
    ]
   },
   "source": [
    "Получение первых 10 строк таблицы."
   ]
  },
  {
   "cell_type": "code",
   "execution_count": 12,
   "metadata": {
    "colab": {},
    "colab_type": "code",
    "deletable": false,
    "id": "DY5i8tgXVDGj"
   },
   "outputs": [
    {
     "data": {
      "text/html": [
       "<div>\n",
       "<style scoped>\n",
       "    .dataframe tbody tr th:only-of-type {\n",
       "        vertical-align: middle;\n",
       "    }\n",
       "\n",
       "    .dataframe tbody tr th {\n",
       "        vertical-align: top;\n",
       "    }\n",
       "\n",
       "    .dataframe thead th {\n",
       "        text-align: right;\n",
       "    }\n",
       "</style>\n",
       "<table border=\"1\" class=\"dataframe\">\n",
       "  <thead>\n",
       "    <tr style=\"text-align: right;\">\n",
       "      <th></th>\n",
       "      <th>userID</th>\n",
       "      <th>Track</th>\n",
       "      <th>artist</th>\n",
       "      <th>genre</th>\n",
       "      <th>City</th>\n",
       "      <th>time</th>\n",
       "      <th>Day</th>\n",
       "    </tr>\n",
       "  </thead>\n",
       "  <tbody>\n",
       "    <tr>\n",
       "      <td>0</td>\n",
       "      <td>FFB692EC</td>\n",
       "      <td>Kamigata To Boots</td>\n",
       "      <td>The Mass Missile</td>\n",
       "      <td>rock</td>\n",
       "      <td>Saint-Petersburg</td>\n",
       "      <td>20:28:33</td>\n",
       "      <td>Wednesday</td>\n",
       "    </tr>\n",
       "    <tr>\n",
       "      <td>1</td>\n",
       "      <td>55204538</td>\n",
       "      <td>Delayed Because of Accident</td>\n",
       "      <td>Andreas Rönnberg</td>\n",
       "      <td>rock</td>\n",
       "      <td>Moscow</td>\n",
       "      <td>14:07:09</td>\n",
       "      <td>Friday</td>\n",
       "    </tr>\n",
       "    <tr>\n",
       "      <td>2</td>\n",
       "      <td>20EC38</td>\n",
       "      <td>Funiculì funiculà</td>\n",
       "      <td>Mario Lanza</td>\n",
       "      <td>pop</td>\n",
       "      <td>Saint-Petersburg</td>\n",
       "      <td>20:58:07</td>\n",
       "      <td>Wednesday</td>\n",
       "    </tr>\n",
       "    <tr>\n",
       "      <td>3</td>\n",
       "      <td>A3DD03C9</td>\n",
       "      <td>Dragons in the Sunset</td>\n",
       "      <td>Fire + Ice</td>\n",
       "      <td>folk</td>\n",
       "      <td>Saint-Petersburg</td>\n",
       "      <td>08:37:09</td>\n",
       "      <td>Monday</td>\n",
       "    </tr>\n",
       "    <tr>\n",
       "      <td>4</td>\n",
       "      <td>E2DC1FAE</td>\n",
       "      <td>Soul People</td>\n",
       "      <td>Space Echo</td>\n",
       "      <td>dance</td>\n",
       "      <td>Moscow</td>\n",
       "      <td>08:34:34</td>\n",
       "      <td>Monday</td>\n",
       "    </tr>\n",
       "    <tr>\n",
       "      <td>5</td>\n",
       "      <td>842029A1</td>\n",
       "      <td>Преданная</td>\n",
       "      <td>IMPERVTOR</td>\n",
       "      <td>rusrap</td>\n",
       "      <td>Saint-Petersburg</td>\n",
       "      <td>13:09:41</td>\n",
       "      <td>Friday</td>\n",
       "    </tr>\n",
       "    <tr>\n",
       "      <td>6</td>\n",
       "      <td>4CB90AA5</td>\n",
       "      <td>True</td>\n",
       "      <td>Roman Messer</td>\n",
       "      <td>dance</td>\n",
       "      <td>Moscow</td>\n",
       "      <td>13:00:07</td>\n",
       "      <td>Wednesday</td>\n",
       "    </tr>\n",
       "    <tr>\n",
       "      <td>7</td>\n",
       "      <td>F03E1C1F</td>\n",
       "      <td>Feeling This Way</td>\n",
       "      <td>Polina Griffith</td>\n",
       "      <td>dance</td>\n",
       "      <td>Moscow</td>\n",
       "      <td>20:47:49</td>\n",
       "      <td>Wednesday</td>\n",
       "    </tr>\n",
       "    <tr>\n",
       "      <td>8</td>\n",
       "      <td>8FA1D3BE</td>\n",
       "      <td>И вновь продолжается бой</td>\n",
       "      <td>NaN</td>\n",
       "      <td>ruspop</td>\n",
       "      <td>Moscow</td>\n",
       "      <td>09:17:40</td>\n",
       "      <td>Friday</td>\n",
       "    </tr>\n",
       "    <tr>\n",
       "      <td>9</td>\n",
       "      <td>E772D5C0</td>\n",
       "      <td>Pessimist</td>\n",
       "      <td>NaN</td>\n",
       "      <td>dance</td>\n",
       "      <td>Saint-Petersburg</td>\n",
       "      <td>21:20:49</td>\n",
       "      <td>Wednesday</td>\n",
       "    </tr>\n",
       "  </tbody>\n",
       "</table>\n",
       "</div>"
      ],
      "text/plain": [
       "     userID                        Track            artist   genre  \\\n",
       "0  FFB692EC            Kamigata To Boots  The Mass Missile    rock   \n",
       "1  55204538  Delayed Because of Accident  Andreas Rönnberg    rock   \n",
       "2    20EC38            Funiculì funiculà       Mario Lanza     pop   \n",
       "3  A3DD03C9        Dragons in the Sunset        Fire + Ice    folk   \n",
       "4  E2DC1FAE                  Soul People        Space Echo   dance   \n",
       "5  842029A1                    Преданная         IMPERVTOR  rusrap   \n",
       "6  4CB90AA5                         True      Roman Messer   dance   \n",
       "7  F03E1C1F             Feeling This Way   Polina Griffith   dance   \n",
       "8  8FA1D3BE     И вновь продолжается бой               NaN  ruspop   \n",
       "9  E772D5C0                    Pessimist               NaN   dance   \n",
       "\n",
       "             City        time        Day  \n",
       "0  Saint-Petersburg  20:28:33  Wednesday  \n",
       "1            Moscow  14:07:09     Friday  \n",
       "2  Saint-Petersburg  20:58:07  Wednesday  \n",
       "3  Saint-Petersburg  08:37:09     Monday  \n",
       "4            Moscow  08:34:34     Monday  \n",
       "5  Saint-Petersburg  13:09:41     Friday  \n",
       "6            Moscow  13:00:07  Wednesday  \n",
       "7            Moscow  20:47:49  Wednesday  \n",
       "8            Moscow  09:17:40     Friday  \n",
       "9  Saint-Petersburg  21:20:49  Wednesday  "
      ]
     },
     "execution_count": 12,
     "metadata": {},
     "output_type": "execute_result"
    }
   ],
   "source": [
    "df.head(10) # <получение первых 10 строк таблицы df>"
   ]
  },
  {
   "cell_type": "markdown",
   "metadata": {
    "colab_type": "text",
    "deletable": false,
    "editable": false,
    "id": "FrIiRHuHIBbN",
    "tags": [
     "0210c096-9595-4600-b91d-42ab36a6c3f0"
    ]
   },
   "source": [
    "Общая информация о данных таблицы *df*.\n",
    "\n",
    "\n"
   ]
  },
  {
   "cell_type": "code",
   "execution_count": 13,
   "metadata": {
    "colab": {},
    "colab_type": "code",
    "deletable": false,
    "id": "K7t8OdZsYN2y"
   },
   "outputs": [
    {
     "name": "stdout",
     "output_type": "stream",
     "text": [
      "<class 'pandas.core.frame.DataFrame'>\n",
      "RangeIndex: 65079 entries, 0 to 65078\n",
      "Data columns (total 7 columns):\n",
      "  userID    65079 non-null object\n",
      "Track       63848 non-null object\n",
      "artist      57876 non-null object\n",
      "genre       63881 non-null object\n",
      "  City      65079 non-null object\n",
      "time        65079 non-null object\n",
      "Day         65079 non-null object\n",
      "dtypes: object(7)\n",
      "memory usage: 3.5+ MB\n"
     ]
    }
   ],
   "source": [
    "df.info() # <получение общей информации о данных в таблице df>"
   ]
  },
  {
   "cell_type": "markdown",
   "metadata": {
    "colab_type": "text",
    "deletable": false,
    "id": "CnHv9HZCc7LN"
   },
   "source": [
    "Рассмотрим полученную информацию подробнее.\n",
    "\n",
    "Всего в таблице 7 столбцов, тип данных у каждого столбца - < напишите название типа данных >.\n",
    "\n",
    "Подробно разберём, какие в *df* столбцы и какую информацию они содержат:\n",
    "\n",
    "* userID — идентификатор пользователя;\n",
    "* Track — название трека;  \n",
    "* artist — имя исполнителя;\n",
    "* genre — название жанра;\n",
    "* City — город, в котором происходило прослушивание;\n",
    "* time — время, в которое пользователь слушал трек;\n",
    "* Day — день недели.\n",
    "\n",
    "Количество значений в столбцах различается. Это говорит о том, что в данных есть пропущенные значения.\n",
    "\n"
   ]
  },
  {
   "cell_type": "markdown",
   "metadata": {
    "colab_type": "text",
    "deletable": false,
    "id": "DCYFm5VrevuB"
   },
   "source": [
    "**Выводы**"
   ]
  },
  {
   "cell_type": "markdown",
   "metadata": {
    "colab_type": "text",
    "deletable": false,
    "id": "PCEtjdmvezRm"
   },
   "source": [
    "Каждая строка таблицы содержит информацию о композициях определённого жанра в определённом исполнении, которые пользователи слушали в одном из городов в определённое время и день недели. Две проблемы, которые нужно решать: пропуски и некачественные названия столбцов. Для проверки рабочих гипотез особенно ценны столбцы *time*, *day* и *City*. Данные из столбца *genre* позволят узнать самые популярные жанры."
   ]
  },
  {
   "cell_type": "markdown",
   "metadata": {
    "colab_type": "text",
    "deletable": false,
    "editable": false,
    "id": "ZYaC0bU-IZ0a",
    "tags": [
     "2c946931-9c91-4e15-baf8-43fb79bcb454"
    ]
   },
   "source": [
    "# Этап 2. Предобработка данных"
   ]
  },
  {
   "cell_type": "markdown",
   "metadata": {
    "colab_type": "text",
    "deletable": false,
    "id": "Dl8grmTrPxZi"
   },
   "source": [
    "Исключим пропуски, переименуем столбцы, а также проверим данные на наличие дубликатов."
   ]
  },
  {
   "cell_type": "markdown",
   "metadata": {
    "colab_type": "text",
    "deletable": false,
    "id": "6OIhlsG_IjI8"
   },
   "source": [
    "Получаем перечень названий столбцов. Какая наблюдается проблема — кроме тех, что уже были названы ранее?"
   ]
  },
  {
   "cell_type": "code",
   "execution_count": 15,
   "metadata": {
    "colab": {},
    "colab_type": "code",
    "deletable": false,
    "id": "Tag65F_Uitsx"
   },
   "outputs": [
    {
     "name": "stdout",
     "output_type": "stream",
     "text": [
      "Index(['  userID', 'Track', 'artist', 'genre', '  City  ', 'time', 'Day'], dtype='object')\n"
     ]
    }
   ],
   "source": [
    "print(df.columns)  # <перечень названий столбцов таблицы df>"
   ]
  },
  {
   "cell_type": "markdown",
   "metadata": {
    "colab_type": "text",
    "deletable": false,
    "id": "x6iJC-cEhnRL"
   },
   "source": [
    "В названиях столбцов есть пробелы, которые могут затруднять доступ к данным."
   ]
  },
  {
   "cell_type": "markdown",
   "metadata": {
    "colab_type": "text",
    "deletable": false,
    "editable": false,
    "id": "BK6m6-DZhlTs",
    "tags": [
     "c2b469cf-2148-4115-8806-0fbb00a9d55d"
    ]
   },
   "source": [
    "Переименуем столбцы для удобства дальнейшей работы. Проверим результат.\n",
    "\n"
   ]
  },
  {
   "cell_type": "code",
   "execution_count": 16,
   "metadata": {
    "colab": {},
    "colab_type": "code",
    "deletable": false,
    "id": "XintVfCniw2-"
   },
   "outputs": [],
   "source": [
    "df.set_axis(['user_id','track_name', 'artist_name', 'genre_name', 'city', 'time', 'weekday'], axis = 'columns', inplace = True)\n",
    "# <переименование столбцов>"
   ]
  },
  {
   "cell_type": "code",
   "execution_count": 17,
   "metadata": {
    "colab": {},
    "colab_type": "code",
    "deletable": false,
    "id": "ozQL91G4izdp"
   },
   "outputs": [
    {
     "name": "stdout",
     "output_type": "stream",
     "text": [
      "Index(['user_id', 'track_name', 'artist_name', 'genre_name', 'city', 'time',\n",
      "       'weekday'],\n",
      "      dtype='object')\n"
     ]
    }
   ],
   "source": [
    "print(df.columns) # <проверка результатов - перечень названий столбцов>"
   ]
  },
  {
   "cell_type": "markdown",
   "metadata": {
    "colab_type": "text",
    "deletable": false,
    "editable": false,
    "id": "oc2qS2UBIkQu",
    "tags": [
     "325fae3b-abce-4c7c-8c41-87ed8a26ff5d"
    ]
   },
   "source": [
    "Проверим данные на наличие пропусков вызовом набора методов для суммирования пропущенных значений."
   ]
  },
  {
   "cell_type": "code",
   "execution_count": 18,
   "metadata": {
    "colab": {},
    "colab_type": "code",
    "deletable": false,
    "id": "BZh9yLHhjy_R"
   },
   "outputs": [
    {
     "data": {
      "text/plain": [
       "user_id           0\n",
       "track_name     1231\n",
       "artist_name    7203\n",
       "genre_name     1198\n",
       "city              0\n",
       "time              0\n",
       "weekday           0\n",
       "dtype: int64"
      ]
     },
     "execution_count": 18,
     "metadata": {},
     "output_type": "execute_result"
    }
   ],
   "source": [
    "df.isnull().sum() # <суммарное количество пропусков, выявленных методом isnull() в таблице df>"
   ]
  },
  {
   "cell_type": "markdown",
   "metadata": {
    "colab_type": "text",
    "deletable": false,
    "id": "OJXGaa02tSJJ"
   },
   "source": [
    "Пустые значения свидетельствуют, что для некоторых треков доступна не вся информация. Причины могут быть разные: скажем,  не назван конкретный исполнитель народной песни. Хуже, если проблемы с записью данных. Каждый отдельный случай необходимо разобрать и выявить причину."
   ]
  },
  {
   "cell_type": "markdown",
   "metadata": {
    "colab_type": "text",
    "deletable": false,
    "id": "-fBDAWZUkAg-"
   },
   "source": [
    "Заменяем пропущенные значения в столбцах с названием трека и исполнителя на строку 'unknown'. После этой операции нужно убедиться, что таблица больше не содержит пропусков."
   ]
  },
  {
   "cell_type": "code",
   "execution_count": 19,
   "metadata": {
    "colab": {},
    "colab_type": "code",
    "deletable": false,
    "id": "EO8zFcJPlbvV"
   },
   "outputs": [],
   "source": [
    "df['track_name'] = df['track_name'].fillna('unknown') # <замена пропущенных значений в столбце 'track_name' на строку 'unknown' специальным методом замены>\n"
   ]
  },
  {
   "cell_type": "code",
   "execution_count": 20,
   "metadata": {
    "colab": {},
    "colab_type": "code",
    "deletable": false,
    "id": "3hsNZcLST0UW"
   },
   "outputs": [],
   "source": [
    "df['artist_name'] = df['artist_name'].fillna('unknown') # <замена пропущенных значений в столбце 'artist_name' на строку 'unknown' специальным методом замены>"
   ]
  },
  {
   "cell_type": "code",
   "execution_count": 21,
   "metadata": {
    "colab": {},
    "colab_type": "code",
    "deletable": false,
    "id": "Ua-Z8TAblgzC"
   },
   "outputs": [
    {
     "data": {
      "text/plain": [
       "user_id           0\n",
       "track_name        0\n",
       "artist_name       0\n",
       "genre_name     1198\n",
       "city              0\n",
       "time              0\n",
       "weekday           0\n",
       "dtype: int64"
      ]
     },
     "execution_count": 21,
     "metadata": {},
     "output_type": "execute_result"
    }
   ],
   "source": [
    "df.isnull().sum() # <проверка: вычисление суммарного количества пропусков, выявленных в таблице df>"
   ]
  },
  {
   "cell_type": "markdown",
   "metadata": {
    "colab_type": "text",
    "deletable": false,
    "editable": false,
    "id": "-cjfT0w2ln9C",
    "tags": [
     "9cb28dd4-e24e-4490-aebd-b37ba9e492c5"
    ]
   },
   "source": [
    "Удаляем в столбце с жанрами пустые значения; убеждаемся, что их больше не осталось."
   ]
  },
  {
   "cell_type": "code",
   "execution_count": 22,
   "metadata": {
    "colab": {},
    "colab_type": "code",
    "deletable": false,
    "id": "TIpk7lwtnZkZ"
   },
   "outputs": [],
   "source": [
    "df.dropna(subset = ['genre_name'], inplace = True)  # <удаление пропущенных значений в столбце 'genre_name'>"
   ]
  },
  {
   "cell_type": "code",
   "execution_count": 23,
   "metadata": {
    "colab": {},
    "colab_type": "code",
    "deletable": false,
    "id": "-1CT-CCZnzTA"
   },
   "outputs": [
    {
     "data": {
      "text/plain": [
       "user_id        0\n",
       "track_name     0\n",
       "artist_name    0\n",
       "genre_name     0\n",
       "city           0\n",
       "time           0\n",
       "weekday        0\n",
       "dtype: int64"
      ]
     },
     "execution_count": 23,
     "metadata": {},
     "output_type": "execute_result"
    }
   ],
   "source": [
    "df.isnull().sum() # <проверка>"
   ]
  },
  {
   "cell_type": "markdown",
   "metadata": {
    "colab_type": "text",
    "deletable": false,
    "editable": false,
    "id": "QsBXpJFzpxA9",
    "tags": [
     "ea46db29-6746-4c02-a47b-75283dde9025"
    ]
   },
   "source": [
    "Необходимо установить наличие дубликатов.  Если найдутся, удаляем, и проверяем, все ли удалились."
   ]
  },
  {
   "cell_type": "code",
   "execution_count": 24,
   "metadata": {
    "colab": {},
    "colab_type": "code",
    "deletable": false,
    "id": "VRVI_B0RqIgT"
   },
   "outputs": [
    {
     "name": "stdout",
     "output_type": "stream",
     "text": [
      "3755\n"
     ]
    }
   ],
   "source": [
    "print(df.duplicated().sum()) # <получение суммарного количества дубликатов в таблице df>"
   ]
  },
  {
   "cell_type": "code",
   "execution_count": 25,
   "metadata": {
    "colab": {},
    "colab_type": "code",
    "deletable": false,
    "id": "nSYF38OeqZn-"
   },
   "outputs": [],
   "source": [
    "df = df.drop_duplicates().reset_index(drop = True)# <удаление всех дубликатов из таблицы df специальным методом>"
   ]
  },
  {
   "cell_type": "code",
   "execution_count": 26,
   "metadata": {
    "colab": {},
    "colab_type": "code",
    "deletable": false,
    "id": "O-RfjmkCqIgV"
   },
   "outputs": [
    {
     "name": "stdout",
     "output_type": "stream",
     "text": [
      "0\n"
     ]
    }
   ],
   "source": [
    "print(df.duplicated().sum())# <проверка на отсутствие>"
   ]
  },
  {
   "cell_type": "markdown",
   "metadata": {
    "colab_type": "text",
    "deletable": false,
    "id": "e6cyWPTwsLKw"
   },
   "source": [
    "Дубликаты могли появиться вследствие сбоя в записи данных. Стоит обратить внимание и разобраться с причинами появления такого «информационного мусора»."
   ]
  },
  {
   "cell_type": "markdown",
   "metadata": {
    "colab_type": "text",
    "deletable": false,
    "editable": false,
    "id": "QH-HgrApInjO",
    "tags": [
     "46fb87e8-2d9c-497d-9c6e-746eaa2631ab"
    ]
   },
   "source": [
    "Сохраняем список уникальных значений столбца с жанрами в переменной *genres_list*. \n",
    "\n",
    "Объявим функцию *find_genre()* для поиска неявных дубликатов в столбце с жанрами. Например, когда название одного и того же жанра написано разными словами.\n",
    "\n",
    "\n",
    "\n"
   ]
  },
  {
   "cell_type": "code",
   "execution_count": 27,
   "metadata": {
    "colab": {},
    "colab_type": "code",
    "deletable": false,
    "id": "FfaTfKAN-PCx"
   },
   "outputs": [],
   "source": [
    "genres_list = df['genre_name'].unique() # <сохранение в переменной genres_list списка уникальных значений, выявленных специальным методом в столбце 'genre_name'>"
   ]
  },
  {
   "cell_type": "code",
   "execution_count": 28,
   "metadata": {
    "colab": {},
    "colab_type": "code",
    "deletable": false,
    "id": "TA_k-VLi-S0R"
   },
   "outputs": [],
   "source": [
    "def find_genre(genre_name): # <создание функции find_genre()>\n",
    " # функция принимает как параметр строку с названием искомого жанра\n",
    "# в теле объявляется переменная-счётчик, ей присваивается значение 0,\n",
    "    count = 0\n",
    "    for i in genres_list:\n",
    "        if i == genre_name:\n",
    "            count += 1\n",
    "    return count    # затем цикл for проходит по списку уникальных значений\n",
    "# если очередной элемент списка равен параметру функции, \n",
    "# то значение счётчика увеличивается на 1\n",
    "# по окончании работы цикла функция возвращает значение счётчика"
   ]
  },
  {
   "cell_type": "markdown",
   "metadata": {
    "colab_type": "text",
    "deletable": false,
    "editable": false,
    "id": "vb3CTOciIL27",
    "tags": [
     "b57e3325-29fc-4ade-83a3-91113c5dad32"
    ]
   },
   "source": [
    "Вызов функции *find_genre()* для поиска различных вариантов названия жанра хип-хоп в таблице.\n",
    "\n",
    "Правильное название — *hiphop*. Поищем другие варианты:\n",
    "\n",
    "* hip\n",
    "* hop\n",
    "* hip-hop\n"
   ]
  },
  {
   "cell_type": "code",
   "execution_count": 29,
   "metadata": {
    "colab": {},
    "colab_type": "code",
    "deletable": false,
    "id": "YrwqExZS-dyQ",
    "scrolled": false
   },
   "outputs": [
    {
     "data": {
      "text/plain": [
       "1"
      ]
     },
     "execution_count": 29,
     "metadata": {},
     "output_type": "execute_result"
    }
   ],
   "source": [
    "find_genre('hip') # <вызовом функции find_genre() проверяется наличие варианта 'hip'>"
   ]
  },
  {
   "cell_type": "code",
   "execution_count": 30,
   "metadata": {
    "colab": {},
    "colab_type": "code",
    "deletable": false,
    "id": "ZoL4EEcR-dyU"
   },
   "outputs": [
    {
     "data": {
      "text/plain": [
       "0"
      ]
     },
     "execution_count": 30,
     "metadata": {},
     "output_type": "execute_result"
    }
   ],
   "source": [
    "find_genre('hop')# <проверяется наличие варианта 'hop'>"
   ]
  },
  {
   "cell_type": "code",
   "execution_count": 31,
   "metadata": {
    "colab": {},
    "colab_type": "code",
    "deletable": false,
    "id": "MFowmiug-qZD"
   },
   "outputs": [
    {
     "data": {
      "text/plain": [
       "0"
      ]
     },
     "execution_count": 31,
     "metadata": {},
     "output_type": "execute_result"
    }
   ],
   "source": [
    "find_genre('hip-hop')# <проверяется наличие варианта 'hip-hop'>"
   ]
  },
  {
   "cell_type": "markdown",
   "metadata": {
    "colab_type": "text",
    "deletable": false,
    "editable": false,
    "id": "a7BQY6ORLMSG",
    "tags": [
     "11f77aa1-5478-453d-b31e-f20041047bb7"
    ]
   },
   "source": [
    "Объявим функцию *find_hip_hop()*, которая заменяет  неправильное название этого жанра в столбце *'genre_name'* на *'hiphop'* и проверяет успешность выполнения замены.\n",
    "\n",
    "Так исправляем все варианты написания, которые выявила проверка."
   ]
  },
  {
   "cell_type": "code",
   "execution_count": 32,
   "metadata": {
    "colab": {},
    "colab_type": "code",
    "deletable": false,
    "id": "31xlzL_c_FgB"
   },
   "outputs": [],
   "source": [
    "def find_hip_hop(df,wrong):\n",
    "# к столбцу 'genre_name' применяется специальный метод, \n",
    "# который заменяет второй параметр на строку 'hiphop'\n",
    "    df['genre_name'] = df['genre_name'].replace(wrong, 'hiphop')\n",
    "# результат работы равен подсчитанному методом count() числу значений столбца,\n",
    "# которые равны второму параметру\n",
    "    total = df.loc[df.loc[:,'genre_name'] == 'wrong']['genre_name'].count()\n",
    "# функция возвращает результат\n",
    "    return total"
   ]
  },
  {
   "cell_type": "code",
   "execution_count": 33,
   "metadata": {
    "colab": {},
    "colab_type": "code",
    "deletable": false,
    "id": "ZFXMV2qW_FgE"
   },
   "outputs": [
    {
     "name": "stdout",
     "output_type": "stream",
     "text": [
      "0\n"
     ]
    }
   ],
   "source": [
    "find_hip_hop(df,'hip')\n",
    "df['genre_name'] = df['genre_name'].replace('hip', 'hiphop')\n",
    "total = df.loc[df.loc[:,'genre_name'] == 'hip']['genre_name'].count()\n",
    "print(total) # <замена одного неверного варианта на hiphop вызовом функции find_hip_hop()>"
   ]
  },
  {
   "cell_type": "markdown",
   "metadata": {
    "colab_type": "text",
    "deletable": false,
    "editable": false,
    "id": "i90BILA9JQpE",
    "tags": [
     "30535c8e-1643-4088-925b-2a32180e0333"
    ]
   },
   "source": [
    "Получаем общую информацию о данных. Убеждаемся, что чистка выполнена успешно."
   ]
  },
  {
   "cell_type": "code",
   "execution_count": 34,
   "metadata": {
    "colab": {},
    "colab_type": "code",
    "deletable": false,
    "id": "-yyvdzHA_uJm"
   },
   "outputs": [
    {
     "name": "stdout",
     "output_type": "stream",
     "text": [
      "<class 'pandas.core.frame.DataFrame'>\n",
      "RangeIndex: 60126 entries, 0 to 60125\n",
      "Data columns (total 7 columns):\n",
      "user_id        60126 non-null object\n",
      "track_name     60126 non-null object\n",
      "artist_name    60126 non-null object\n",
      "genre_name     60126 non-null object\n",
      "city           60126 non-null object\n",
      "time           60126 non-null object\n",
      "weekday        60126 non-null object\n",
      "dtypes: object(7)\n",
      "memory usage: 3.2+ MB\n"
     ]
    }
   ],
   "source": [
    "df.info() # <получение общей информации о данных таблицы df>"
   ]
  },
  {
   "cell_type": "markdown",
   "metadata": {
    "colab_type": "text",
    "deletable": false,
    "id": "AReHO17cMRPM"
   },
   "source": [
    "**Вывод**"
   ]
  },
  {
   "cell_type": "markdown",
   "metadata": {
    "colab_type": "text",
    "deletable": false,
    "id": "yscfstUqMS4c"
   },
   "source": [
    "На этапе предобработки в данных обнаружились не только пропуски и проблемы с названиями столбцов, но и всяческие виды дубликатов. Их удаление позволит провести анализ точнее. Поскольку сведения о жанрах важно сохранить для анализа, не просто удаляем все пропущенные значения, но заполним пропущенные имена исполнителей и названия треков. Имена столбцов теперь корректны и удобны для дальнейшей работы."
   ]
  },
  {
   "cell_type": "markdown",
   "metadata": {
    "colab_type": "text",
    "deletable": false,
    "editable": false,
    "id": "MF4nnd1YJUrI",
    "tags": [
     "ac8df732-1797-479a-9c4c-a03745931a9d"
    ]
   },
   "source": [
    "# Действительно ли музыку в разных городах слушают по-разному?"
   ]
  },
  {
   "cell_type": "markdown",
   "metadata": {
    "colab_type": "text",
    "deletable": false,
    "id": "AYSL1OvyM2pL"
   },
   "source": [
    "Была выдвинута гипотеза, что в Москве и Санкт-Петербурге пользователи слушают музыку по-разному. Проверяем это предположение по данным о трёх днях недели — понедельнике, среде и пятнице.\n",
    "\n",
    "Для каждого города устанавливаем количество прослушанных  в эти дни композиций с известным жанром, и сравниваем результаты."
   ]
  },
  {
   "cell_type": "markdown",
   "metadata": {
    "colab_type": "text",
    "deletable": false,
    "id": "OM5Eeh7FNWC-"
   },
   "source": [
    "Группируем данные по городу и вызовом метода *count()* подсчитываем композиции, для которых известен жанр."
   ]
  },
  {
   "cell_type": "code",
   "execution_count": 35,
   "metadata": {
    "colab": {},
    "colab_type": "code",
    "deletable": false,
    "id": "AtH_pP1i_0m1"
   },
   "outputs": [
    {
     "data": {
      "text/plain": [
       "city\n",
       "Moscow              41892\n",
       "Saint-Petersburg    18234\n",
       "Name: genre_name, dtype: int64"
      ]
     },
     "execution_count": 35,
     "metadata": {},
     "output_type": "execute_result"
    }
   ],
   "source": [
    "df.groupby('city')['genre_name'].count()# <группировка данных таблицы df по столбцу 'city' и подсчёт количества значений столбца 'genre_name'>"
   ]
  },
  {
   "cell_type": "markdown",
   "metadata": {
    "colab_type": "text",
    "deletable": false,
    "id": "XBR226DMpIDf"
   },
   "source": [
    "В Москве прослушиваний больше, чем в Питере, но это не значит, что Москва более активна. У Яндекс.Музыки в целом больше пользователей в Москве, поэтому величины сопоставимы."
   ]
  },
  {
   "cell_type": "markdown",
   "metadata": {
    "colab_type": "text",
    "deletable": false,
    "editable": false,
    "id": "P7EcNQuyNbNB",
    "tags": [
     "133ddd49-3b63-45b1-b50c-9e6ab5fc4175"
    ]
   },
   "source": [
    "Сгруппируем данные по дню недели и подсчитаем прослушанные в понедельник, среду и пятницу композиции, для которых известен жанр."
   ]
  },
  {
   "cell_type": "code",
   "execution_count": 36,
   "metadata": {
    "colab": {},
    "colab_type": "code",
    "deletable": false,
    "id": "A8E_Tb2b_3un"
   },
   "outputs": [
    {
     "data": {
      "text/plain": [
       "weekday\n",
       "Friday       21482\n",
       "Monday       20866\n",
       "Wednesday    17778\n",
       "Name: genre_name, dtype: int64"
      ]
     },
     "execution_count": 36,
     "metadata": {},
     "output_type": "execute_result"
    }
   ],
   "source": [
    "df.groupby('weekday')['genre_name'].count()# <группировка данных по столбцу 'weekday' и подсчёт количества значений столбца 'genre_name'>\n"
   ]
  },
  {
   "cell_type": "markdown",
   "metadata": {
    "colab_type": "text",
    "deletable": false,
    "id": "Zhh6hehCpq_U"
   },
   "source": [
    "Понедельник и пятница — время для музыки; по средам пользователи немного больше вовлечены в работу."
   ]
  },
  {
   "cell_type": "markdown",
   "metadata": {
    "colab_type": "text",
    "deletable": false,
    "editable": false,
    "id": "bYab2U5BNdmZ",
    "tags": [
     "bae0a168-5e2b-40f9-9701-bfb32d016517"
    ]
   },
   "source": [
    "Создаём функцию *number_tracks()*, которая принимает как параметры таблицу, день недели и название города, а возвращает количество прослушанных композиций, для которых известен жанр. Проверяем количество прослушанных композиций для каждого города и понедельника, затем среды и пятницы."
   ]
  },
  {
   "cell_type": "code",
   "execution_count": 42,
   "metadata": {
    "colab": {},
    "colab_type": "code",
    "deletable": false,
    "id": "4SqpGSi5_7hA"
   },
   "outputs": [],
   "source": [
    "# <создание функции number_tracks()>\n",
    "# объявляется функция с тремя параметрами: df, day, city\n",
    "# в переменной track_list сохраняются те строки таблицы df, для которых \n",
    "# значение в столбце 'weekday' равно параметру day\n",
    "# и одновременно значение в столбце 'city' равно параметру city\n",
    "# в переменной track_list_count сохраняется число значений столбца 'genre_name',\n",
    "# рассчитанное методом count() для таблицы track_list\n",
    "# функция возвращает значение track_list_count\n",
    "def number_tracks(df, day, city):\n",
    "    track_list = df[(df['weekday'] == day) & (df['city'] == city)]\n",
    "    track_list_count = track_list['genre_name'].count()\n",
    "    return track_list_count"
   ]
  },
  {
   "cell_type": "code",
   "execution_count": 43,
   "metadata": {
    "deletable": false
   },
   "outputs": [
    {
     "data": {
      "text/plain": [
       "15347"
      ]
     },
     "execution_count": 43,
     "metadata": {},
     "output_type": "execute_result"
    }
   ],
   "source": [
    "number_tracks(df, 'Monday', 'Moscow') # <список композиций для Москвы в понедельник>"
   ]
  },
  {
   "cell_type": "code",
   "execution_count": 44,
   "metadata": {
    "deletable": false
   },
   "outputs": [
    {
     "data": {
      "text/plain": [
       "5519"
      ]
     },
     "execution_count": 44,
     "metadata": {},
     "output_type": "execute_result"
    }
   ],
   "source": [
    "number_tracks(df, 'Monday', 'Saint-Petersburg') # <список композиций для Санкт-Петербурга в понедельник>"
   ]
  },
  {
   "cell_type": "code",
   "execution_count": 45,
   "metadata": {
    "deletable": false
   },
   "outputs": [
    {
     "data": {
      "text/plain": [
       "10865"
      ]
     },
     "execution_count": 45,
     "metadata": {},
     "output_type": "execute_result"
    }
   ],
   "source": [
    "number_tracks(df, 'Wednesday', 'Moscow') # <список композиций для Москвы в среду>"
   ]
  },
  {
   "cell_type": "code",
   "execution_count": 46,
   "metadata": {
    "deletable": false
   },
   "outputs": [
    {
     "data": {
      "text/plain": [
       "6913"
      ]
     },
     "execution_count": 46,
     "metadata": {},
     "output_type": "execute_result"
    }
   ],
   "source": [
    "number_tracks(df, 'Wednesday', 'Saint-Petersburg') # <список композиций для Санкт-Петербурга в среду>"
   ]
  },
  {
   "cell_type": "code",
   "execution_count": 47,
   "metadata": {
    "deletable": false
   },
   "outputs": [
    {
     "data": {
      "text/plain": [
       "15680"
      ]
     },
     "execution_count": 47,
     "metadata": {},
     "output_type": "execute_result"
    }
   ],
   "source": [
    "number_tracks(df, 'Friday', 'Moscow') # <список композиций для Москвы в пятницу>"
   ]
  },
  {
   "cell_type": "code",
   "execution_count": 48,
   "metadata": {
    "deletable": false
   },
   "outputs": [
    {
     "data": {
      "text/plain": [
       "5802"
      ]
     },
     "execution_count": 48,
     "metadata": {},
     "output_type": "execute_result"
    }
   ],
   "source": [
    "number_tracks(df, 'Friday', 'Saint-Petersburg') # <список композиций для Санкт-Петербурга в пятницу>"
   ]
  },
  {
   "cell_type": "markdown",
   "metadata": {
    "colab_type": "text",
    "deletable": false,
    "editable": false,
    "id": "tCB9zwzzqZ8g",
    "tags": [
     "d73e12bf-3635-484b-8fb6-c7ccc2101671"
    ]
   },
   "source": [
    "Сведём полученную информацию в одну таблицу, где ['city', 'monday', 'wednesday', 'friday'] названия столбцов.\n"
   ]
  },
  {
   "cell_type": "code",
   "execution_count": 49,
   "metadata": {
    "deletable": false
   },
   "outputs": [],
   "source": [
    "data = [['Moscow', 15347, 10865, 15680],\n",
    "       ['Saint-Petersburg', 5519, 6913, 5802]]\n",
    "columns = ['city','monday','wednesday','friday']\n",
    "table = pd.DataFrame(data = data, columns = columns)# <таблица с полученными данными>"
   ]
  },
  {
   "cell_type": "markdown",
   "metadata": {
    "colab_type": "text",
    "deletable": false,
    "id": "LKCYeMXgqPxD"
   },
   "source": [
    "**Вывод**"
   ]
  },
  {
   "cell_type": "markdown",
   "metadata": {
    "colab_type": "text",
    "deletable": false,
    "id": "RJpg6I8jqQ0x"
   },
   "source": [
    "Результаты показывают, что относительно среды музыку в Петербурге и Москве слушают «зеркально»: в Москве пики приходятся на понедельник и пятницу, а в среду время прослушивания снижается. Тогда как в Санкт-Петербурге среда — день самого большого интереса к музыке, а в понедельник и пятницу он меньше, причём почти одинаково меньше."
   ]
  },
  {
   "cell_type": "markdown",
   "metadata": {
    "colab_type": "text",
    "deletable": false,
    "editable": false,
    "id": "tLdpUGyewzGf",
    "tags": [
     "1eb8124a-f066-4c43-b1f4-bc672c5efd57"
    ]
   },
   "source": [
    "# Утро понедельника и вечер пятницы — разная музыка или одна и та же?"
   ]
  },
  {
   "cell_type": "markdown",
   "metadata": {
    "colab_type": "text",
    "deletable": false,
    "id": "SaQlxcVntL3x"
   },
   "source": [
    "Ищем ответ на вопрос, какие жанры преобладают в разных городах в понедельник утром и в пятницу вечером. Есть предположение, что в понедельник утром пользователи слушают больше бодрящей музыки (например, жанра поп), а вечером пятницы — больше танцевальных (например, электронику)."
   ]
  },
  {
   "cell_type": "markdown",
   "metadata": {
    "colab_type": "text",
    "deletable": false,
    "id": "lYGAneOaPBhS"
   },
   "source": [
    "Получим таблицы данных по Москве *moscow_general* и по Санкт-Петербургу *spb_general*."
   ]
  },
  {
   "cell_type": "code",
   "execution_count": 50,
   "metadata": {
    "colab": {},
    "colab_type": "code",
    "deletable": false,
    "id": "Pyz1i56nA5IS"
   },
   "outputs": [],
   "source": [
    "moscow_general=df[df['city'] == 'Moscow'] # получение таблицы moscow_general из тех строк таблицы df, \n",
    "# для которых значение в столбце 'city' равно 'Moscow'"
   ]
  },
  {
   "cell_type": "code",
   "execution_count": 60,
   "metadata": {
    "colab": {},
    "colab_type": "code",
    "deletable": false,
    "id": "w3NNN-2hA-al"
   },
   "outputs": [],
   "source": [
    "spb_general=df[df['city']=='Saint-Petersburg'] # <получение таблицы spb_general>"
   ]
  },
  {
   "cell_type": "markdown",
   "metadata": {
    "colab_type": "text",
    "deletable": false,
    "editable": false,
    "id": "duDdH_WiPLky",
    "tags": [
     "7f7cae13-ec1c-45c4-9204-0a4354fe1766"
    ]
   },
   "source": [
    "Создаём функцию *genre_weekday()*, которая возвращает список жанров по запрошенному дню недели и времени суток с такого-то часа по такой-то."
   ]
  },
  {
   "cell_type": "code",
   "execution_count": 61,
   "metadata": {
    "colab": {},
    "colab_type": "code",
    "deletable": false,
    "id": "JhUdQynHBEYw"
   },
   "outputs": [],
   "source": [
    "# объявление функции genre_weekday() с параметрами df, day, time1, time2\n",
    "# в переменной genre_list сохраняются те строки df, для которых одновременно:\n",
    "# 1) значение в столбце 'weekday' равно параметру day,\n",
    "# 2) значение в столбце 'time' больше time1 и\n",
    "# 3) меньше time2.\n",
    "# в переменной genre_list_sorted сохраняются в порядке убывания  \n",
    "# первые 10 значений Series, полученной подсчётом числа значений 'genre_name'\n",
    "# сгруппированной по столбцу 'genre_name' таблицы genre_list\n",
    "# функция возвращает значение genre_list_sorted\n",
    "def genre_weekday(df, day, time1, time2):\n",
    "    genre_list = df[(df['weekday'] == day) & (df['time'] > time1) & (df['time'] < time2)]\n",
    "    genre_list_sorted = genre_list.groupby('genre_name').count().sort_values(by = 'genre_name', ascending = False)\n",
    "    return genre_list_sorted "
   ]
  },
  {
   "cell_type": "markdown",
   "metadata": {
    "colab_type": "text",
    "deletable": false,
    "editable": false,
    "id": "bxGC8kXkP7B-",
    "tags": [
     "63e2c3f3-fa64-4376-8221-e8b753264535"
    ]
   },
   "source": [
    "Cравниваем полученные результаты по таблице для Москвы и Санкт-Петербурга в понедельник утром (с 7 до 11) и в пятницу вечером (с 17 до 23)."
   ]
  },
  {
   "cell_type": "code",
   "execution_count": 62,
   "metadata": {
    "colab": {},
    "colab_type": "code",
    "deletable": false,
    "id": "kbgeq-55BLEI"
   },
   "outputs": [
    {
     "data": {
      "text/html": [
       "<div>\n",
       "<style scoped>\n",
       "    .dataframe tbody tr th:only-of-type {\n",
       "        vertical-align: middle;\n",
       "    }\n",
       "\n",
       "    .dataframe tbody tr th {\n",
       "        vertical-align: top;\n",
       "    }\n",
       "\n",
       "    .dataframe thead th {\n",
       "        text-align: right;\n",
       "    }\n",
       "</style>\n",
       "<table border=\"1\" class=\"dataframe\">\n",
       "  <thead>\n",
       "    <tr style=\"text-align: right;\">\n",
       "      <th></th>\n",
       "      <th>user_id</th>\n",
       "      <th>track_name</th>\n",
       "      <th>artist_name</th>\n",
       "      <th>city</th>\n",
       "      <th>time</th>\n",
       "      <th>weekday</th>\n",
       "    </tr>\n",
       "    <tr>\n",
       "      <th>genre_name</th>\n",
       "      <th></th>\n",
       "      <th></th>\n",
       "      <th></th>\n",
       "      <th></th>\n",
       "      <th></th>\n",
       "      <th></th>\n",
       "    </tr>\n",
       "  </thead>\n",
       "  <tbody>\n",
       "    <tr>\n",
       "      <td>worldbeat</td>\n",
       "      <td>1</td>\n",
       "      <td>1</td>\n",
       "      <td>1</td>\n",
       "      <td>1</td>\n",
       "      <td>1</td>\n",
       "      <td>1</td>\n",
       "    </tr>\n",
       "    <tr>\n",
       "      <td>world</td>\n",
       "      <td>181</td>\n",
       "      <td>181</td>\n",
       "      <td>181</td>\n",
       "      <td>181</td>\n",
       "      <td>181</td>\n",
       "      <td>181</td>\n",
       "    </tr>\n",
       "    <tr>\n",
       "      <td>western</td>\n",
       "      <td>10</td>\n",
       "      <td>10</td>\n",
       "      <td>10</td>\n",
       "      <td>10</td>\n",
       "      <td>10</td>\n",
       "      <td>10</td>\n",
       "    </tr>\n",
       "    <tr>\n",
       "      <td>vocal</td>\n",
       "      <td>8</td>\n",
       "      <td>8</td>\n",
       "      <td>8</td>\n",
       "      <td>8</td>\n",
       "      <td>8</td>\n",
       "      <td>8</td>\n",
       "    </tr>\n",
       "    <tr>\n",
       "      <td>videogame</td>\n",
       "      <td>7</td>\n",
       "      <td>7</td>\n",
       "      <td>7</td>\n",
       "      <td>7</td>\n",
       "      <td>7</td>\n",
       "      <td>7</td>\n",
       "    </tr>\n",
       "    <tr>\n",
       "      <td>...</td>\n",
       "      <td>...</td>\n",
       "      <td>...</td>\n",
       "      <td>...</td>\n",
       "      <td>...</td>\n",
       "      <td>...</td>\n",
       "      <td>...</td>\n",
       "    </tr>\n",
       "    <tr>\n",
       "      <td>americana</td>\n",
       "      <td>1</td>\n",
       "      <td>1</td>\n",
       "      <td>1</td>\n",
       "      <td>1</td>\n",
       "      <td>1</td>\n",
       "      <td>1</td>\n",
       "    </tr>\n",
       "    <tr>\n",
       "      <td>ambient</td>\n",
       "      <td>22</td>\n",
       "      <td>22</td>\n",
       "      <td>22</td>\n",
       "      <td>22</td>\n",
       "      <td>22</td>\n",
       "      <td>22</td>\n",
       "    </tr>\n",
       "    <tr>\n",
       "      <td>alternative</td>\n",
       "      <td>164</td>\n",
       "      <td>164</td>\n",
       "      <td>164</td>\n",
       "      <td>164</td>\n",
       "      <td>164</td>\n",
       "      <td>164</td>\n",
       "    </tr>\n",
       "    <tr>\n",
       "      <td>africa</td>\n",
       "      <td>2</td>\n",
       "      <td>2</td>\n",
       "      <td>2</td>\n",
       "      <td>2</td>\n",
       "      <td>2</td>\n",
       "      <td>2</td>\n",
       "    </tr>\n",
       "    <tr>\n",
       "      <td>adult</td>\n",
       "      <td>1</td>\n",
       "      <td>1</td>\n",
       "      <td>1</td>\n",
       "      <td>1</td>\n",
       "      <td>1</td>\n",
       "      <td>1</td>\n",
       "    </tr>\n",
       "  </tbody>\n",
       "</table>\n",
       "<p>152 rows × 6 columns</p>\n",
       "</div>"
      ],
      "text/plain": [
       "             user_id  track_name  artist_name  city  time  weekday\n",
       "genre_name                                                        \n",
       "worldbeat          1           1            1     1     1        1\n",
       "world            181         181          181   181   181      181\n",
       "western           10          10           10    10    10       10\n",
       "vocal              8           8            8     8     8        8\n",
       "videogame          7           7            7     7     7        7\n",
       "...              ...         ...          ...   ...   ...      ...\n",
       "americana          1           1            1     1     1        1\n",
       "ambient           22          22           22    22    22       22\n",
       "alternative      164         164          164   164   164      164\n",
       "africa             2           2            2     2     2        2\n",
       "adult              1           1            1     1     1        1\n",
       "\n",
       "[152 rows x 6 columns]"
      ]
     },
     "execution_count": 62,
     "metadata": {},
     "output_type": "execute_result"
    }
   ],
   "source": [
    "genre_weekday(moscow_general, 'Monday', '07:00:00', '11:00:00')# <вызов функции для утра понедельника в Москве (вместо df таблица moscow_general)>"
   ]
  },
  {
   "cell_type": "code",
   "execution_count": 63,
   "metadata": {
    "colab": {},
    "colab_type": "code",
    "deletable": false,
    "id": "XHwa8N2EBRXO"
   },
   "outputs": [
    {
     "data": {
      "text/html": [
       "<div>\n",
       "<style scoped>\n",
       "    .dataframe tbody tr th:only-of-type {\n",
       "        vertical-align: middle;\n",
       "    }\n",
       "\n",
       "    .dataframe tbody tr th {\n",
       "        vertical-align: top;\n",
       "    }\n",
       "\n",
       "    .dataframe thead th {\n",
       "        text-align: right;\n",
       "    }\n",
       "</style>\n",
       "<table border=\"1\" class=\"dataframe\">\n",
       "  <thead>\n",
       "    <tr style=\"text-align: right;\">\n",
       "      <th></th>\n",
       "      <th>user_id</th>\n",
       "      <th>track_name</th>\n",
       "      <th>artist_name</th>\n",
       "      <th>city</th>\n",
       "      <th>time</th>\n",
       "      <th>weekday</th>\n",
       "    </tr>\n",
       "    <tr>\n",
       "      <th>genre_name</th>\n",
       "      <th></th>\n",
       "      <th></th>\n",
       "      <th></th>\n",
       "      <th></th>\n",
       "      <th></th>\n",
       "      <th></th>\n",
       "    </tr>\n",
       "  </thead>\n",
       "  <tbody>\n",
       "    <tr>\n",
       "      <td>world</td>\n",
       "      <td>36</td>\n",
       "      <td>36</td>\n",
       "      <td>36</td>\n",
       "      <td>36</td>\n",
       "      <td>36</td>\n",
       "      <td>36</td>\n",
       "    </tr>\n",
       "    <tr>\n",
       "      <td>western</td>\n",
       "      <td>7</td>\n",
       "      <td>7</td>\n",
       "      <td>7</td>\n",
       "      <td>7</td>\n",
       "      <td>7</td>\n",
       "      <td>7</td>\n",
       "    </tr>\n",
       "    <tr>\n",
       "      <td>vocal</td>\n",
       "      <td>2</td>\n",
       "      <td>2</td>\n",
       "      <td>2</td>\n",
       "      <td>2</td>\n",
       "      <td>2</td>\n",
       "      <td>2</td>\n",
       "    </tr>\n",
       "    <tr>\n",
       "      <td>videogame</td>\n",
       "      <td>1</td>\n",
       "      <td>1</td>\n",
       "      <td>1</td>\n",
       "      <td>1</td>\n",
       "      <td>1</td>\n",
       "      <td>1</td>\n",
       "    </tr>\n",
       "    <tr>\n",
       "      <td>variété</td>\n",
       "      <td>3</td>\n",
       "      <td>3</td>\n",
       "      <td>3</td>\n",
       "      <td>3</td>\n",
       "      <td>3</td>\n",
       "      <td>3</td>\n",
       "    </tr>\n",
       "    <tr>\n",
       "      <td>...</td>\n",
       "      <td>...</td>\n",
       "      <td>...</td>\n",
       "      <td>...</td>\n",
       "      <td>...</td>\n",
       "      <td>...</td>\n",
       "      <td>...</td>\n",
       "    </tr>\n",
       "    <tr>\n",
       "      <td>beats</td>\n",
       "      <td>1</td>\n",
       "      <td>1</td>\n",
       "      <td>1</td>\n",
       "      <td>1</td>\n",
       "      <td>1</td>\n",
       "      <td>1</td>\n",
       "    </tr>\n",
       "    <tr>\n",
       "      <td>balkan</td>\n",
       "      <td>1</td>\n",
       "      <td>1</td>\n",
       "      <td>1</td>\n",
       "      <td>1</td>\n",
       "      <td>1</td>\n",
       "      <td>1</td>\n",
       "    </tr>\n",
       "    <tr>\n",
       "      <td>ambient</td>\n",
       "      <td>5</td>\n",
       "      <td>5</td>\n",
       "      <td>5</td>\n",
       "      <td>5</td>\n",
       "      <td>5</td>\n",
       "      <td>5</td>\n",
       "    </tr>\n",
       "    <tr>\n",
       "      <td>alternative</td>\n",
       "      <td>58</td>\n",
       "      <td>58</td>\n",
       "      <td>58</td>\n",
       "      <td>58</td>\n",
       "      <td>58</td>\n",
       "      <td>58</td>\n",
       "    </tr>\n",
       "    <tr>\n",
       "      <td>adult</td>\n",
       "      <td>1</td>\n",
       "      <td>1</td>\n",
       "      <td>1</td>\n",
       "      <td>1</td>\n",
       "      <td>1</td>\n",
       "      <td>1</td>\n",
       "    </tr>\n",
       "  </tbody>\n",
       "</table>\n",
       "<p>107 rows × 6 columns</p>\n",
       "</div>"
      ],
      "text/plain": [
       "             user_id  track_name  artist_name  city  time  weekday\n",
       "genre_name                                                        \n",
       "world             36          36           36    36    36       36\n",
       "western            7           7            7     7     7        7\n",
       "vocal              2           2            2     2     2        2\n",
       "videogame          1           1            1     1     1        1\n",
       "variété            3           3            3     3     3        3\n",
       "...              ...         ...          ...   ...   ...      ...\n",
       "beats              1           1            1     1     1        1\n",
       "balkan             1           1            1     1     1        1\n",
       "ambient            5           5            5     5     5        5\n",
       "alternative       58          58           58    58    58       58\n",
       "adult              1           1            1     1     1        1\n",
       "\n",
       "[107 rows x 6 columns]"
      ]
     },
     "execution_count": 63,
     "metadata": {},
     "output_type": "execute_result"
    }
   ],
   "source": [
    "genre_weekday(spb_general, 'Monday', '07:00:00', '11:00:00') # <вызов функции для утра понедельника в Петербурге (вместо df таблица spb_general)>"
   ]
  },
  {
   "cell_type": "code",
   "execution_count": 64,
   "metadata": {
    "colab": {},
    "colab_type": "code",
    "deletable": false,
    "id": "YvdSbg2jBUeq"
   },
   "outputs": [
    {
     "data": {
      "text/html": [
       "<div>\n",
       "<style scoped>\n",
       "    .dataframe tbody tr th:only-of-type {\n",
       "        vertical-align: middle;\n",
       "    }\n",
       "\n",
       "    .dataframe tbody tr th {\n",
       "        vertical-align: top;\n",
       "    }\n",
       "\n",
       "    .dataframe thead th {\n",
       "        text-align: right;\n",
       "    }\n",
       "</style>\n",
       "<table border=\"1\" class=\"dataframe\">\n",
       "  <thead>\n",
       "    <tr style=\"text-align: right;\">\n",
       "      <th></th>\n",
       "      <th>user_id</th>\n",
       "      <th>track_name</th>\n",
       "      <th>artist_name</th>\n",
       "      <th>city</th>\n",
       "      <th>time</th>\n",
       "      <th>weekday</th>\n",
       "    </tr>\n",
       "    <tr>\n",
       "      <th>genre_name</th>\n",
       "      <th></th>\n",
       "      <th></th>\n",
       "      <th></th>\n",
       "      <th></th>\n",
       "      <th></th>\n",
       "      <th></th>\n",
       "    </tr>\n",
       "  </thead>\n",
       "  <tbody>\n",
       "    <tr>\n",
       "      <td>world</td>\n",
       "      <td>208</td>\n",
       "      <td>208</td>\n",
       "      <td>208</td>\n",
       "      <td>208</td>\n",
       "      <td>208</td>\n",
       "      <td>208</td>\n",
       "    </tr>\n",
       "    <tr>\n",
       "      <td>western</td>\n",
       "      <td>4</td>\n",
       "      <td>4</td>\n",
       "      <td>4</td>\n",
       "      <td>4</td>\n",
       "      <td>4</td>\n",
       "      <td>4</td>\n",
       "    </tr>\n",
       "    <tr>\n",
       "      <td>vocal</td>\n",
       "      <td>9</td>\n",
       "      <td>9</td>\n",
       "      <td>9</td>\n",
       "      <td>9</td>\n",
       "      <td>9</td>\n",
       "      <td>9</td>\n",
       "    </tr>\n",
       "    <tr>\n",
       "      <td>videogame</td>\n",
       "      <td>5</td>\n",
       "      <td>5</td>\n",
       "      <td>5</td>\n",
       "      <td>5</td>\n",
       "      <td>5</td>\n",
       "      <td>5</td>\n",
       "    </tr>\n",
       "    <tr>\n",
       "      <td>variété</td>\n",
       "      <td>6</td>\n",
       "      <td>6</td>\n",
       "      <td>6</td>\n",
       "      <td>6</td>\n",
       "      <td>6</td>\n",
       "      <td>6</td>\n",
       "    </tr>\n",
       "    <tr>\n",
       "      <td>...</td>\n",
       "      <td>...</td>\n",
       "      <td>...</td>\n",
       "      <td>...</td>\n",
       "      <td>...</td>\n",
       "      <td>...</td>\n",
       "      <td>...</td>\n",
       "    </tr>\n",
       "    <tr>\n",
       "      <td>americana</td>\n",
       "      <td>2</td>\n",
       "      <td>2</td>\n",
       "      <td>2</td>\n",
       "      <td>2</td>\n",
       "      <td>2</td>\n",
       "      <td>2</td>\n",
       "    </tr>\n",
       "    <tr>\n",
       "      <td>ambient</td>\n",
       "      <td>18</td>\n",
       "      <td>18</td>\n",
       "      <td>18</td>\n",
       "      <td>18</td>\n",
       "      <td>18</td>\n",
       "      <td>18</td>\n",
       "    </tr>\n",
       "    <tr>\n",
       "      <td>alternative</td>\n",
       "      <td>163</td>\n",
       "      <td>163</td>\n",
       "      <td>163</td>\n",
       "      <td>163</td>\n",
       "      <td>163</td>\n",
       "      <td>163</td>\n",
       "    </tr>\n",
       "    <tr>\n",
       "      <td>africa</td>\n",
       "      <td>1</td>\n",
       "      <td>1</td>\n",
       "      <td>1</td>\n",
       "      <td>1</td>\n",
       "      <td>1</td>\n",
       "      <td>1</td>\n",
       "    </tr>\n",
       "    <tr>\n",
       "      <td>adult</td>\n",
       "      <td>1</td>\n",
       "      <td>1</td>\n",
       "      <td>1</td>\n",
       "      <td>1</td>\n",
       "      <td>1</td>\n",
       "      <td>1</td>\n",
       "    </tr>\n",
       "  </tbody>\n",
       "</table>\n",
       "<p>163 rows × 6 columns</p>\n",
       "</div>"
      ],
      "text/plain": [
       "             user_id  track_name  artist_name  city  time  weekday\n",
       "genre_name                                                        \n",
       "world            208         208          208   208   208      208\n",
       "western            4           4            4     4     4        4\n",
       "vocal              9           9            9     9     9        9\n",
       "videogame          5           5            5     5     5        5\n",
       "variété            6           6            6     6     6        6\n",
       "...              ...         ...          ...   ...   ...      ...\n",
       "americana          2           2            2     2     2        2\n",
       "ambient           18          18           18    18    18       18\n",
       "alternative      163         163          163   163   163      163\n",
       "africa             1           1            1     1     1        1\n",
       "adult              1           1            1     1     1        1\n",
       "\n",
       "[163 rows x 6 columns]"
      ]
     },
     "execution_count": 64,
     "metadata": {},
     "output_type": "execute_result"
    }
   ],
   "source": [
    "genre_weekday(moscow_general, 'Friday', '17:00:00', '23:00:00') # <вызов функции для вечера пятницы в Москве>"
   ]
  },
  {
   "cell_type": "code",
   "execution_count": 65,
   "metadata": {
    "colab": {},
    "colab_type": "code",
    "deletable": false,
    "id": "Ew3ig4fPBUeu"
   },
   "outputs": [
    {
     "data": {
      "text/html": [
       "<div>\n",
       "<style scoped>\n",
       "    .dataframe tbody tr th:only-of-type {\n",
       "        vertical-align: middle;\n",
       "    }\n",
       "\n",
       "    .dataframe tbody tr th {\n",
       "        vertical-align: top;\n",
       "    }\n",
       "\n",
       "    .dataframe thead th {\n",
       "        text-align: right;\n",
       "    }\n",
       "</style>\n",
       "<table border=\"1\" class=\"dataframe\">\n",
       "  <thead>\n",
       "    <tr style=\"text-align: right;\">\n",
       "      <th></th>\n",
       "      <th>user_id</th>\n",
       "      <th>track_name</th>\n",
       "      <th>artist_name</th>\n",
       "      <th>city</th>\n",
       "      <th>time</th>\n",
       "      <th>weekday</th>\n",
       "    </tr>\n",
       "    <tr>\n",
       "      <th>genre_name</th>\n",
       "      <th></th>\n",
       "      <th></th>\n",
       "      <th></th>\n",
       "      <th></th>\n",
       "      <th></th>\n",
       "      <th></th>\n",
       "    </tr>\n",
       "  </thead>\n",
       "  <tbody>\n",
       "    <tr>\n",
       "      <td>world</td>\n",
       "      <td>54</td>\n",
       "      <td>54</td>\n",
       "      <td>54</td>\n",
       "      <td>54</td>\n",
       "      <td>54</td>\n",
       "      <td>54</td>\n",
       "    </tr>\n",
       "    <tr>\n",
       "      <td>western</td>\n",
       "      <td>5</td>\n",
       "      <td>5</td>\n",
       "      <td>5</td>\n",
       "      <td>5</td>\n",
       "      <td>5</td>\n",
       "      <td>5</td>\n",
       "    </tr>\n",
       "    <tr>\n",
       "      <td>vocal</td>\n",
       "      <td>2</td>\n",
       "      <td>2</td>\n",
       "      <td>2</td>\n",
       "      <td>2</td>\n",
       "      <td>2</td>\n",
       "      <td>2</td>\n",
       "    </tr>\n",
       "    <tr>\n",
       "      <td>videogame</td>\n",
       "      <td>3</td>\n",
       "      <td>3</td>\n",
       "      <td>3</td>\n",
       "      <td>3</td>\n",
       "      <td>3</td>\n",
       "      <td>3</td>\n",
       "    </tr>\n",
       "    <tr>\n",
       "      <td>variété</td>\n",
       "      <td>4</td>\n",
       "      <td>4</td>\n",
       "      <td>4</td>\n",
       "      <td>4</td>\n",
       "      <td>4</td>\n",
       "      <td>4</td>\n",
       "    </tr>\n",
       "    <tr>\n",
       "      <td>...</td>\n",
       "      <td>...</td>\n",
       "      <td>...</td>\n",
       "      <td>...</td>\n",
       "      <td>...</td>\n",
       "      <td>...</td>\n",
       "      <td>...</td>\n",
       "    </tr>\n",
       "    <tr>\n",
       "      <td>americana</td>\n",
       "      <td>1</td>\n",
       "      <td>1</td>\n",
       "      <td>1</td>\n",
       "      <td>1</td>\n",
       "      <td>1</td>\n",
       "      <td>1</td>\n",
       "    </tr>\n",
       "    <tr>\n",
       "      <td>ambient</td>\n",
       "      <td>7</td>\n",
       "      <td>7</td>\n",
       "      <td>7</td>\n",
       "      <td>7</td>\n",
       "      <td>7</td>\n",
       "      <td>7</td>\n",
       "    </tr>\n",
       "    <tr>\n",
       "      <td>alternative</td>\n",
       "      <td>63</td>\n",
       "      <td>63</td>\n",
       "      <td>63</td>\n",
       "      <td>63</td>\n",
       "      <td>63</td>\n",
       "      <td>63</td>\n",
       "    </tr>\n",
       "    <tr>\n",
       "      <td>adult</td>\n",
       "      <td>1</td>\n",
       "      <td>1</td>\n",
       "      <td>1</td>\n",
       "      <td>1</td>\n",
       "      <td>1</td>\n",
       "      <td>1</td>\n",
       "    </tr>\n",
       "    <tr>\n",
       "      <td>acoustic</td>\n",
       "      <td>1</td>\n",
       "      <td>1</td>\n",
       "      <td>1</td>\n",
       "      <td>1</td>\n",
       "      <td>1</td>\n",
       "      <td>1</td>\n",
       "    </tr>\n",
       "  </tbody>\n",
       "</table>\n",
       "<p>126 rows × 6 columns</p>\n",
       "</div>"
      ],
      "text/plain": [
       "             user_id  track_name  artist_name  city  time  weekday\n",
       "genre_name                                                        \n",
       "world             54          54           54    54    54       54\n",
       "western            5           5            5     5     5        5\n",
       "vocal              2           2            2     2     2        2\n",
       "videogame          3           3            3     3     3        3\n",
       "variété            4           4            4     4     4        4\n",
       "...              ...         ...          ...   ...   ...      ...\n",
       "americana          1           1            1     1     1        1\n",
       "ambient            7           7            7     7     7        7\n",
       "alternative       63          63           63    63    63       63\n",
       "adult              1           1            1     1     1        1\n",
       "acoustic           1           1            1     1     1        1\n",
       "\n",
       "[126 rows x 6 columns]"
      ]
     },
     "execution_count": 65,
     "metadata": {},
     "output_type": "execute_result"
    }
   ],
   "source": [
    "genre_weekday(spb_general, 'Friday', '17:00:00', '23:00:00')# <вызов функции для вечера пятницы в Питере>"
   ]
  },
  {
   "cell_type": "markdown",
   "metadata": {
    "colab_type": "text",
    "deletable": false,
    "id": "UenYBZTIwYT-"
   },
   "source": [
    "Популярные жанры в понедельник утром в Питере и Москве оказались похожи: везде, как и предполагалось, популярен поп. Несмотря на это, концовка топ-10 для двух городов различается: в Питере в топ-10 входит джаз и русский рэп, а в Москве жанр *world*.\n",
    "\n",
    "В конце недели ситуация не меняется. Поп-музыка всё так же на первом месте. Опять разница заметна только в концовке топ-10, где в Питере пятничным вечером тоже присутствует жанр *world*."
   ]
  },
  {
   "cell_type": "markdown",
   "metadata": {
    "colab_type": "text",
    "deletable": false,
    "id": "MBxfrKPAykp_"
   },
   "source": [
    "**Вывод**"
   ]
  },
  {
   "cell_type": "markdown",
   "metadata": {
    "colab_type": "text",
    "deletable": false,
    "id": "j8ypBMwSymL6"
   },
   "source": [
    "Жанр поп безусловный лидер, а топ-5 в целом не различается в обеих столицах. При этом видно, что концовка списка более «живая»: для каждого города выделяются более характерные жанры, которые действительно меняют свои позиции в зависимости от дня недели и времени."
   ]
  },
  {
   "cell_type": "markdown",
   "metadata": {
    "colab_type": "text",
    "deletable": false,
    "editable": false,
    "id": "D7YMmgKRw270",
    "tags": [
     "f363205e-76b1-4883-abf1-bf21c9572dc7"
    ]
   },
   "source": [
    "# Москва и Питер — две разные столицы, два разных направления в музыке. Правда?"
   ]
  },
  {
   "cell_type": "markdown",
   "metadata": {
    "colab_type": "text",
    "deletable": false,
    "id": "Wc5srT13zb4Z"
   },
   "source": [
    "Гипотеза: Питер богат своей рэп-культурой, поэтому это направление там слушают чаще, а Москва — город контрастов, но основная масса пользователей слушает попсу.\n",
    "\n"
   ]
  },
  {
   "cell_type": "markdown",
   "metadata": {
    "colab_type": "text",
    "deletable": false,
    "id": "2SFE9_RV2KEL"
   },
   "source": [
    "Сгруппируем таблицу *moscow_general* по жанру, сосчитаем численность композиций каждого жанра методом *count()*, отсортируем в порядке убывания и сохраним результат в таблице *moscow_genres*.\n",
    "\n",
    "Просмотрим первые 10 строк этой новой таблицы."
   ]
  },
  {
   "cell_type": "code",
   "execution_count": 68,
   "metadata": {
    "colab": {},
    "colab_type": "code",
    "deletable": false,
    "id": "OohoTcsYBheo"
   },
   "outputs": [
    {
     "data": {
      "text/plain": [
       "genre_name\n",
       "pop            5892\n",
       "dance          4435\n",
       "rock           3965\n",
       "electronic     3786\n",
       "hiphop         2096\n",
       "classical      1616\n",
       "world          1432\n",
       "alternative    1379\n",
       "ruspop         1372\n",
       "rusrap         1161\n",
       "Name: genre_name, dtype: int64"
      ]
     },
     "execution_count": 68,
     "metadata": {},
     "output_type": "execute_result"
    }
   ],
   "source": [
    "moscow_genres = moscow_general.groupby('genre_name')['genre_name'].count().sort_values(ascending = False) # одной строкой: группировка таблицы moscow_general по столбцу 'genre_name', \n",
    "# подсчёт числа значений 'genre_name' в этой группировке методом count(), \n",
    "# сортировка Series в порядке убывания и сохранение в moscow_genres\n"
   ]
  },
  {
   "cell_type": "code",
   "execution_count": 69,
   "metadata": {
    "colab": {},
    "colab_type": "code",
    "deletable": false,
    "id": "h7IhIKDrBher"
   },
   "outputs": [
    {
     "data": {
      "text/plain": [
       "genre_name\n",
       "pop            5892\n",
       "dance          4435\n",
       "rock           3965\n",
       "electronic     3786\n",
       "hiphop         2096\n",
       "classical      1616\n",
       "world          1432\n",
       "alternative    1379\n",
       "ruspop         1372\n",
       "rusrap         1161\n",
       "Name: genre_name, dtype: int64"
      ]
     },
     "execution_count": 69,
     "metadata": {},
     "output_type": "execute_result"
    }
   ],
   "source": [
    "moscow_genres.head(10)# <просмотр первых 10 строк moscow_genres>"
   ]
  },
  {
   "cell_type": "markdown",
   "metadata": {
    "colab_type": "text",
    "deletable": false,
    "editable": false,
    "id": "gjnf0lol2fUy",
    "tags": [
     "f7503a48-1b28-483d-9f7b-bae79fb182b5"
    ]
   },
   "source": [
    "Сгруппируем таблицу *spb_general* по жанру, сосчитаем численность композиций каждого жанра методом *count()*, отсортируем в порядке убывания и сохраним результат в таблице *spb_genres*.\n",
    "\n",
    "Просматриваем первые 10 строк этой таблицы. Теперь можно сравнивать два города."
   ]
  },
  {
   "cell_type": "code",
   "execution_count": 71,
   "metadata": {
    "colab": {},
    "colab_type": "code",
    "deletable": false,
    "id": "eQrdA85dB1LO"
   },
   "outputs": [],
   "source": [
    "spb_genres = spb_general.groupby('genre_name')['genre_name'].count().sort_values(ascending = False)# <группировка таблицы spb_general, расчёт, сохранение в spb_genres>"
   ]
  },
  {
   "cell_type": "code",
   "execution_count": 72,
   "metadata": {
    "colab": {},
    "colab_type": "code",
    "deletable": false,
    "id": "AE-Z-1wCB1LS"
   },
   "outputs": [
    {
     "data": {
      "text/plain": [
       "genre_name\n",
       "pop            2431\n",
       "dance          1932\n",
       "rock           1879\n",
       "electronic     1736\n",
       "hiphop          960\n",
       "alternative     649\n",
       "classical       646\n",
       "rusrap          564\n",
       "ruspop          538\n",
       "world           515\n",
       "Name: genre_name, dtype: int64"
      ]
     },
     "execution_count": 72,
     "metadata": {},
     "output_type": "execute_result"
    }
   ],
   "source": [
    "spb_genres.head(10) # <просмотр первых 10 строк spb_genres>"
   ]
  },
  {
   "cell_type": "markdown",
   "metadata": {
    "colab_type": "text",
    "deletable": false,
    "id": "J5E-kLgK2piO"
   },
   "source": [
    "**Вывод**"
   ]
  },
  {
   "cell_type": "markdown",
   "metadata": {
    "colab_type": "text",
    "deletable": false,
    "id": "-9R3-Qh02tNt"
   },
   "source": [
    "В Москве, кроме абсолютно популярного жанра поп, есть направление русской популярной музыки. Значит, что интерес к этому жанру шире. А рэп, вопреки предположению, занимает в обоих городах близкие позиции."
   ]
  },
  {
   "cell_type": "markdown",
   "metadata": {
    "colab_type": "text",
    "deletable": false,
    "editable": false,
    "id": "gLlT9nKMQ3ky",
    "tags": [
     "0d44c8c0-390b-4c9e-b797-ddc3993f6e58"
    ]
   },
   "source": [
    "# Этап 4. Результаты исследования\n"
   ]
  },
  {
   "cell_type": "markdown",
   "metadata": {
    "colab_type": "text",
    "deletable": false,
    "id": "GtvyRBbD7dv5"
   },
   "source": [
    "Рабочие гипотезы:\n",
    "\n",
    "* музыку в двух городах — Москве и Санкт-Петербурге — слушают в разном режиме;\n",
    "\n",
    "* списки десяти самых популярных жанров утром в понедельник и вечером в пятницу имеют характерные отличия;\n",
    "\n",
    "* население двух городов предпочитает разные музыкальные жанры.\n",
    "\n",
    "**Общие результаты**\n",
    "\n",
    "Москва и Петербург сходятся во вкусах: везде преобладает популярная музыка. При этом зависимости предпочтений от дня недели в каждом отдельном городе нет — люди постоянно слушают то, что им нравится. Но между городами в разрезе дней неделей наблюдается зеркальность относительно среды: Москва больше слушает в понедельник и пятницу, а Петербург наоборот - больше в среду, но меньше в понедельник и пятницу.\n",
    "\n",
    "В результате первая гипотеза < укажите подтверждена/не подтверждена>, вторая гипотеза < укажите подтверждена/не подтверждена > и третья < укажите подтверждена/не подтверждена >."
   ]
  }
 ],
 "metadata": {
  "ExecuteTimeLog": [
   {
    "duration": 964,
    "start_time": "2021-06-27T06:57:37.556Z"
   },
   {
    "duration": 192,
    "start_time": "2021-06-27T06:57:50.233Z"
   },
   {
    "duration": 26,
    "start_time": "2021-06-27T06:58:16.172Z"
   },
   {
    "duration": 452,
    "start_time": "2021-06-27T07:00:35.304Z"
   },
   {
    "duration": 5,
    "start_time": "2021-06-27T07:05:04.258Z"
   },
   {
    "duration": 4,
    "start_time": "2021-06-27T07:07:27.433Z"
   },
   {
    "duration": 4,
    "start_time": "2021-06-27T07:07:33.627Z"
   },
   {
    "duration": 33,
    "start_time": "2021-06-27T07:08:57.326Z"
   },
   {
    "duration": 30,
    "start_time": "2021-06-27T07:11:40.592Z"
   },
   {
    "duration": 56,
    "start_time": "2021-06-27T07:12:33.770Z"
   },
   {
    "duration": 30,
    "start_time": "2021-06-27T07:14:54.448Z"
   },
   {
    "duration": 11,
    "start_time": "2021-06-27T07:19:12.102Z"
   },
   {
    "duration": 40,
    "start_time": "2021-06-27T07:19:46.862Z"
   },
   {
    "duration": 31,
    "start_time": "2021-06-27T07:21:01.181Z"
   },
   {
    "duration": 363,
    "start_time": "2021-06-27T07:22:00.093Z"
   },
   {
    "duration": 314,
    "start_time": "2021-06-27T07:22:25.207Z"
   },
   {
    "duration": 361,
    "start_time": "2021-06-27T07:22:37.073Z"
   },
   {
    "duration": 83,
    "start_time": "2021-06-27T07:22:47.250Z"
   },
   {
    "duration": 332,
    "start_time": "2021-06-27T07:23:34.918Z"
   },
   {
    "duration": 335,
    "start_time": "2021-06-27T07:23:43.716Z"
   },
   {
    "duration": 91,
    "start_time": "2021-06-27T07:24:06.730Z"
   },
   {
    "duration": 79,
    "start_time": "2021-06-27T07:26:26.351Z"
   },
   {
    "duration": 438,
    "start_time": "2021-06-27T07:35:26.968Z"
   },
   {
    "duration": 107,
    "start_time": "2021-06-27T07:35:53.894Z"
   },
   {
    "duration": 8022,
    "start_time": "2021-06-27T07:41:31.855Z"
   },
   {
    "duration": 8153,
    "start_time": "2021-06-27T07:46:09.011Z"
   },
   {
    "duration": 41,
    "start_time": "2021-06-27T07:46:17.125Z"
   },
   {
    "duration": 8064,
    "start_time": "2021-06-27T07:47:02.322Z"
   },
   {
    "duration": 8,
    "start_time": "2021-06-27T07:48:17.767Z"
   },
   {
    "duration": 105,
    "start_time": "2021-06-27T07:53:17.441Z"
   },
   {
    "duration": 107,
    "start_time": "2021-06-27T07:53:37.631Z"
   },
   {
    "duration": 129,
    "start_time": "2021-06-27T07:53:57.077Z"
   },
   {
    "duration": 5,
    "start_time": "2021-06-27T07:54:19.471Z"
   },
   {
    "duration": 101,
    "start_time": "2021-06-27T07:57:47.258Z"
   },
   {
    "duration": 5,
    "start_time": "2021-06-27T07:57:53.092Z"
   },
   {
    "duration": 397,
    "start_time": "2021-06-27T08:02:31.001Z"
   },
   {
    "duration": 893,
    "start_time": "2021-06-27T08:02:43.914Z"
   },
   {
    "duration": 347,
    "start_time": "2021-06-27T08:03:04.116Z"
   },
   {
    "duration": 661,
    "start_time": "2021-06-27T08:04:09.441Z"
   },
   {
    "duration": 5,
    "start_time": "2021-06-27T08:04:27.299Z"
   },
   {
    "duration": 6,
    "start_time": "2021-06-27T08:04:32.871Z"
   },
   {
    "duration": 5,
    "start_time": "2021-06-27T08:04:35.017Z"
   },
   {
    "duration": 5,
    "start_time": "2021-06-27T08:04:36.418Z"
   },
   {
    "duration": 134,
    "start_time": "2021-06-27T08:10:20.794Z"
   },
   {
    "duration": 117,
    "start_time": "2021-06-27T08:11:44.272Z"
   },
   {
    "duration": 124,
    "start_time": "2021-06-27T08:14:01.680Z"
   },
   {
    "duration": 114,
    "start_time": "2021-06-27T08:14:43.346Z"
   },
   {
    "duration": 4,
    "start_time": "2021-06-27T08:14:57.057Z"
   },
   {
    "duration": 4,
    "start_time": "2021-06-27T08:15:11.018Z"
   },
   {
    "duration": 4,
    "start_time": "2021-06-27T08:17:09.476Z"
   },
   {
    "duration": 55,
    "start_time": "2021-06-27T08:18:02.645Z"
   },
   {
    "duration": 346,
    "start_time": "2021-06-27T08:19:12.863Z"
   },
   {
    "duration": 10089,
    "start_time": "2021-06-27T08:19:45.913Z"
   },
   {
    "duration": 8632,
    "start_time": "2021-06-27T08:20:31.347Z"
   },
   {
    "duration": 308,
    "start_time": "2021-06-27T08:22:59.158Z"
   },
   {
    "duration": 310,
    "start_time": "2021-06-27T08:23:30.231Z"
   },
   {
    "duration": 5,
    "start_time": "2021-06-27T08:26:10.849Z"
   },
   {
    "duration": 476,
    "start_time": "2021-06-27T08:26:56.519Z"
   },
   {
    "duration": 373,
    "start_time": "2021-06-27T08:27:34.973Z"
   },
   {
    "duration": 322,
    "start_time": "2021-06-27T08:27:43.242Z"
   },
   {
    "duration": 325,
    "start_time": "2021-06-27T08:28:05.404Z"
   },
   {
    "duration": 321,
    "start_time": "2021-06-27T08:28:33.365Z"
   },
   {
    "duration": 326,
    "start_time": "2021-06-27T08:28:49.485Z"
   },
   {
    "duration": 362,
    "start_time": "2021-06-27T08:28:54.698Z"
   },
   {
    "duration": 534,
    "start_time": "2021-06-27T08:28:57.823Z"
   },
   {
    "duration": 768,
    "start_time": "2021-06-27T08:29:02.621Z"
   },
   {
    "duration": 192,
    "start_time": "2021-06-27T08:29:05.170Z"
   },
   {
    "duration": 29,
    "start_time": "2021-06-27T08:29:07.208Z"
   },
   {
    "duration": 34,
    "start_time": "2021-06-27T08:29:10.434Z"
   },
   {
    "duration": 5,
    "start_time": "2021-06-27T08:29:13.194Z"
   },
   {
    "duration": 5,
    "start_time": "2021-06-27T08:29:28.042Z"
   },
   {
    "duration": 4,
    "start_time": "2021-06-27T08:29:29.904Z"
   },
   {
    "duration": 5,
    "start_time": "2021-06-27T08:29:31.280Z"
   },
   {
    "duration": 31,
    "start_time": "2021-06-27T08:29:39.396Z"
   },
   {
    "duration": 12,
    "start_time": "2021-06-27T08:29:41.436Z"
   },
   {
    "duration": 11,
    "start_time": "2021-06-27T08:29:42.596Z"
   },
   {
    "duration": 30,
    "start_time": "2021-06-27T08:29:44.245Z"
   },
   {
    "duration": 21,
    "start_time": "2021-06-27T08:30:17.210Z"
   },
   {
    "duration": 31,
    "start_time": "2021-06-27T08:30:17.864Z"
   },
   {
    "duration": 86,
    "start_time": "2021-06-27T08:30:18.954Z"
   },
   {
    "duration": 106,
    "start_time": "2021-06-27T08:30:19.683Z"
   },
   {
    "duration": 76,
    "start_time": "2021-06-27T08:30:20.296Z"
   },
   {
    "duration": 7,
    "start_time": "2021-06-27T08:30:22.418Z"
   },
   {
    "duration": 5,
    "start_time": "2021-06-27T08:30:23.143Z"
   },
   {
    "duration": 5,
    "start_time": "2021-06-27T08:30:24.694Z"
   },
   {
    "duration": 5,
    "start_time": "2021-06-27T08:30:25.196Z"
   },
   {
    "duration": 4,
    "start_time": "2021-06-27T08:30:25.640Z"
   },
   {
    "duration": 5,
    "start_time": "2021-06-27T08:30:26.811Z"
   },
   {
    "duration": 33,
    "start_time": "2021-06-27T08:30:27.481Z"
   },
   {
    "duration": 30,
    "start_time": "2021-06-27T08:30:28.926Z"
   },
   {
    "duration": 16,
    "start_time": "2021-06-27T08:30:51.174Z"
   },
   {
    "duration": 14,
    "start_time": "2021-06-27T08:31:39.196Z"
   },
   {
    "duration": 346,
    "start_time": "2021-06-27T08:38:28.218Z"
   },
   {
    "duration": 311,
    "start_time": "2021-06-27T08:38:45.797Z"
   },
   {
    "duration": 105,
    "start_time": "2021-06-27T08:38:49.971Z"
   },
   {
    "duration": 99,
    "start_time": "2021-06-27T08:38:55.724Z"
   },
   {
    "duration": 569,
    "start_time": "2021-06-27T08:39:10.293Z"
   },
   {
    "duration": 5,
    "start_time": "2021-06-27T08:39:20.961Z"
   },
   {
    "duration": 22,
    "start_time": "2021-06-27T08:39:22.471Z"
   },
   {
    "duration": 18,
    "start_time": "2021-06-27T08:39:33.689Z"
   },
   {
    "duration": 19,
    "start_time": "2021-06-27T08:39:41.921Z"
   },
   {
    "duration": 18,
    "start_time": "2021-06-27T08:39:50.663Z"
   },
   {
    "duration": 33,
    "start_time": "2021-06-27T08:39:57.555Z"
   },
   {
    "duration": 18,
    "start_time": "2021-06-27T08:40:05.697Z"
   },
   {
    "duration": 6,
    "start_time": "2021-06-27T08:40:38.139Z"
   },
   {
    "duration": 16,
    "start_time": "2021-06-27T08:45:11.078Z"
   },
   {
    "duration": 205,
    "start_time": "2021-06-27T09:53:51.015Z"
   },
   {
    "duration": 5,
    "start_time": "2021-06-27T09:54:05.125Z"
   },
   {
    "duration": 321,
    "start_time": "2021-06-27T09:55:13.487Z"
   },
   {
    "duration": 688,
    "start_time": "2021-06-27T09:55:37.932Z"
   },
   {
    "duration": 10,
    "start_time": "2021-06-27T09:56:37.864Z"
   },
   {
    "duration": 681,
    "start_time": "2021-06-27T09:56:40.831Z"
   },
   {
    "duration": 7,
    "start_time": "2021-06-27T09:57:07.363Z"
   },
   {
    "duration": 37,
    "start_time": "2021-06-27T09:57:08.615Z"
   },
   {
    "duration": 324,
    "start_time": "2021-06-27T09:57:44.213Z"
   },
   {
    "duration": 16,
    "start_time": "2021-06-27T09:58:00.265Z"
   },
   {
    "duration": 5,
    "start_time": "2021-06-27T09:58:01.535Z"
   },
   {
    "duration": 35,
    "start_time": "2021-06-27T09:58:02.615Z"
   },
   {
    "duration": 29,
    "start_time": "2021-06-27T09:58:03.276Z"
   },
   {
    "duration": 34,
    "start_time": "2021-06-27T09:59:34.621Z"
   },
   {
    "duration": 43,
    "start_time": "2021-06-27T09:59:35.384Z"
   },
   {
    "duration": 351,
    "start_time": "2021-06-27T10:03:56.149Z"
   },
   {
    "duration": 22,
    "start_time": "2021-06-27T10:04:18.072Z"
   },
   {
    "duration": 15,
    "start_time": "2021-06-27T10:05:03.037Z"
   },
   {
    "duration": 7,
    "start_time": "2021-06-27T10:08:40.995Z"
   },
   {
    "duration": 362,
    "start_time": "2021-06-27T10:11:48.270Z"
   },
   {
    "duration": 9,
    "start_time": "2021-06-27T10:11:53.038Z"
   },
   {
    "duration": 8,
    "start_time": "2021-06-27T10:11:53.556Z"
   }
  ],
  "kernelspec": {
   "display_name": "Python 3",
   "language": "python",
   "name": "python3"
  },
  "language_info": {
   "codemirror_mode": {
    "name": "ipython",
    "version": 3
   },
   "file_extension": ".py",
   "mimetype": "text/x-python",
   "name": "python",
   "nbconvert_exporter": "python",
   "pygments_lexer": "ipython3",
   "version": "3.8.8"
  },
  "toc": {
   "base_numbering": 1,
   "nav_menu": {},
   "number_sections": true,
   "sideBar": true,
   "skip_h1_title": true,
   "title_cell": "Table of Contents",
   "title_sidebar": "Contents",
   "toc_cell": false,
   "toc_position": {},
   "toc_section_display": true,
   "toc_window_display": false
  }
 },
 "nbformat": 4,
 "nbformat_minor": 1
}
