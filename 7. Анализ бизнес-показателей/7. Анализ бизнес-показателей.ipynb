{
 "cells": [
  {
   "cell_type": "markdown",
   "metadata": {},
   "source": [
    "# Описание проекта"
   ]
  },
  {
   "cell_type": "markdown",
   "metadata": {},
   "source": [
    "Вас пригласили на стажировку в отдел маркетинговой аналитики Яндекс.Афиши. \n",
    "\n",
    "Первое задание: помочь маркетологам снизить расходы — отказаться от невыгодных источников трафика и перераспределить бюджет.\n",
    "Есть данные Яндекс.Афиши с июня 2017 по конец мая 2018 года:\n",
    "-  лог сервера с данными о посещениях сайта Яндекс.Афиши,\n",
    "-  выгрузка всех заказов за этот период,\n",
    "-  статистика рекламных расходов.\n",
    "\n",
    "\n",
    "Вам предстоит изучить:\n",
    "-  как клиенты пользуются сервисом,\n",
    "-  когда делают первые покупки на сайте,\n",
    "-  сколько денег приносит компании каждый клиент,\n",
    "-  когда расходы на привлечение клиента окупаются.\n",
    "\n",
    "\n",
    "Выручка измеряется в условных единицах — у.е."
   ]
  },
  {
   "cell_type": "markdown",
   "metadata": {},
   "source": [
    "Импорт библиотек"
   ]
  },
  {
   "cell_type": "code",
   "execution_count": 1,
   "metadata": {},
   "outputs": [],
   "source": [
    "import pandas as pd\n",
    "import numpy as np\n",
    "import seaborn as sns\n",
    "from matplotlib import pyplot as plt"
   ]
  },
  {
   "cell_type": "markdown",
   "metadata": {},
   "source": [
    "## Загрузка данных и подготовка к анализу"
   ]
  },
  {
   "cell_type": "code",
   "execution_count": 2,
   "metadata": {},
   "outputs": [],
   "source": [
    "visits = pd.read_csv('/datasets/visits_log.csv')\n",
    "orders = pd.read_csv('/datasets/orders_log.csv')\n",
    "costs = pd.read_csv('/datasets/costs.csv')"
   ]
  },
  {
   "cell_type": "markdown",
   "metadata": {},
   "source": [
    "### Изучение данных из файлов"
   ]
  },
  {
   "cell_type": "code",
   "execution_count": 3,
   "metadata": {},
   "outputs": [
    {
     "name": "stdout",
     "output_type": "stream",
     "text": [
      "<class 'pandas.core.frame.DataFrame'>\n",
      "RangeIndex: 359400 entries, 0 to 359399\n",
      "Data columns (total 5 columns):\n",
      "Device       359400 non-null object\n",
      "End Ts       359400 non-null object\n",
      "Source Id    359400 non-null int64\n",
      "Start Ts     359400 non-null object\n",
      "Uid          359400 non-null uint64\n",
      "dtypes: int64(1), object(3), uint64(1)\n",
      "memory usage: 13.7+ MB\n"
     ]
    },
    {
     "data": {
      "text/html": [
       "<div>\n",
       "<style scoped>\n",
       "    .dataframe tbody tr th:only-of-type {\n",
       "        vertical-align: middle;\n",
       "    }\n",
       "\n",
       "    .dataframe tbody tr th {\n",
       "        vertical-align: top;\n",
       "    }\n",
       "\n",
       "    .dataframe thead th {\n",
       "        text-align: right;\n",
       "    }\n",
       "</style>\n",
       "<table border=\"1\" class=\"dataframe\">\n",
       "  <thead>\n",
       "    <tr style=\"text-align: right;\">\n",
       "      <th></th>\n",
       "      <th>Source Id</th>\n",
       "      <th>Uid</th>\n",
       "    </tr>\n",
       "  </thead>\n",
       "  <tbody>\n",
       "    <tr>\n",
       "      <td>count</td>\n",
       "      <td>359400.000000</td>\n",
       "      <td>3.594000e+05</td>\n",
       "    </tr>\n",
       "    <tr>\n",
       "      <td>mean</td>\n",
       "      <td>3.750515</td>\n",
       "      <td>9.202557e+18</td>\n",
       "    </tr>\n",
       "    <tr>\n",
       "      <td>std</td>\n",
       "      <td>1.917116</td>\n",
       "      <td>5.298433e+18</td>\n",
       "    </tr>\n",
       "    <tr>\n",
       "      <td>min</td>\n",
       "      <td>1.000000</td>\n",
       "      <td>1.186350e+13</td>\n",
       "    </tr>\n",
       "    <tr>\n",
       "      <td>25%</td>\n",
       "      <td>3.000000</td>\n",
       "      <td>4.613407e+18</td>\n",
       "    </tr>\n",
       "    <tr>\n",
       "      <td>50%</td>\n",
       "      <td>4.000000</td>\n",
       "      <td>9.227413e+18</td>\n",
       "    </tr>\n",
       "    <tr>\n",
       "      <td>75%</td>\n",
       "      <td>5.000000</td>\n",
       "      <td>1.372824e+19</td>\n",
       "    </tr>\n",
       "    <tr>\n",
       "      <td>max</td>\n",
       "      <td>10.000000</td>\n",
       "      <td>1.844668e+19</td>\n",
       "    </tr>\n",
       "  </tbody>\n",
       "</table>\n",
       "</div>"
      ],
      "text/plain": [
       "           Source Id           Uid\n",
       "count  359400.000000  3.594000e+05\n",
       "mean        3.750515  9.202557e+18\n",
       "std         1.917116  5.298433e+18\n",
       "min         1.000000  1.186350e+13\n",
       "25%         3.000000  4.613407e+18\n",
       "50%         4.000000  9.227413e+18\n",
       "75%         5.000000  1.372824e+19\n",
       "max        10.000000  1.844668e+19"
      ]
     },
     "execution_count": 3,
     "metadata": {},
     "output_type": "execute_result"
    }
   ],
   "source": [
    "visits.info()\n",
    "visits.describe()"
   ]
  },
  {
   "cell_type": "markdown",
   "metadata": {},
   "source": [
    "Пропуски в датафрейме visits отсутствуют, необходмо переименовать столбцы и привести данные из столбцов Start Ts и End Ts к формату даты."
   ]
  },
  {
   "cell_type": "code",
   "execution_count": 4,
   "metadata": {},
   "outputs": [
    {
     "name": "stdout",
     "output_type": "stream",
     "text": [
      "<class 'pandas.core.frame.DataFrame'>\n",
      "RangeIndex: 50415 entries, 0 to 50414\n",
      "Data columns (total 3 columns):\n",
      "Buy Ts     50415 non-null object\n",
      "Revenue    50415 non-null float64\n",
      "Uid        50415 non-null uint64\n",
      "dtypes: float64(1), object(1), uint64(1)\n",
      "memory usage: 1.2+ MB\n"
     ]
    },
    {
     "data": {
      "text/html": [
       "<div>\n",
       "<style scoped>\n",
       "    .dataframe tbody tr th:only-of-type {\n",
       "        vertical-align: middle;\n",
       "    }\n",
       "\n",
       "    .dataframe tbody tr th {\n",
       "        vertical-align: top;\n",
       "    }\n",
       "\n",
       "    .dataframe thead th {\n",
       "        text-align: right;\n",
       "    }\n",
       "</style>\n",
       "<table border=\"1\" class=\"dataframe\">\n",
       "  <thead>\n",
       "    <tr style=\"text-align: right;\">\n",
       "      <th></th>\n",
       "      <th>Revenue</th>\n",
       "      <th>Uid</th>\n",
       "    </tr>\n",
       "  </thead>\n",
       "  <tbody>\n",
       "    <tr>\n",
       "      <td>count</td>\n",
       "      <td>50415.000000</td>\n",
       "      <td>5.041500e+04</td>\n",
       "    </tr>\n",
       "    <tr>\n",
       "      <td>mean</td>\n",
       "      <td>4.999647</td>\n",
       "      <td>9.098161e+18</td>\n",
       "    </tr>\n",
       "    <tr>\n",
       "      <td>std</td>\n",
       "      <td>21.818359</td>\n",
       "      <td>5.285742e+18</td>\n",
       "    </tr>\n",
       "    <tr>\n",
       "      <td>min</td>\n",
       "      <td>0.000000</td>\n",
       "      <td>3.135781e+14</td>\n",
       "    </tr>\n",
       "    <tr>\n",
       "      <td>25%</td>\n",
       "      <td>1.220000</td>\n",
       "      <td>4.533567e+18</td>\n",
       "    </tr>\n",
       "    <tr>\n",
       "      <td>50%</td>\n",
       "      <td>2.500000</td>\n",
       "      <td>9.102274e+18</td>\n",
       "    </tr>\n",
       "    <tr>\n",
       "      <td>75%</td>\n",
       "      <td>4.890000</td>\n",
       "      <td>1.368290e+19</td>\n",
       "    </tr>\n",
       "    <tr>\n",
       "      <td>max</td>\n",
       "      <td>2633.280000</td>\n",
       "      <td>1.844617e+19</td>\n",
       "    </tr>\n",
       "  </tbody>\n",
       "</table>\n",
       "</div>"
      ],
      "text/plain": [
       "            Revenue           Uid\n",
       "count  50415.000000  5.041500e+04\n",
       "mean       4.999647  9.098161e+18\n",
       "std       21.818359  5.285742e+18\n",
       "min        0.000000  3.135781e+14\n",
       "25%        1.220000  4.533567e+18\n",
       "50%        2.500000  9.102274e+18\n",
       "75%        4.890000  1.368290e+19\n",
       "max     2633.280000  1.844617e+19"
      ]
     },
     "execution_count": 4,
     "metadata": {},
     "output_type": "execute_result"
    }
   ],
   "source": [
    "orders.info()\n",
    "orders.describe()"
   ]
  },
  {
   "cell_type": "markdown",
   "metadata": {},
   "source": [
    "Пропуски в датафрейме orders отсутствуют, необходмо переименовать столбцы и привести данные из столбца Buy Ts к формату даты."
   ]
  },
  {
   "cell_type": "code",
   "execution_count": 5,
   "metadata": {},
   "outputs": [
    {
     "name": "stdout",
     "output_type": "stream",
     "text": [
      "<class 'pandas.core.frame.DataFrame'>\n",
      "RangeIndex: 2542 entries, 0 to 2541\n",
      "Data columns (total 3 columns):\n",
      "source_id    2542 non-null int64\n",
      "dt           2542 non-null object\n",
      "costs        2542 non-null float64\n",
      "dtypes: float64(1), int64(1), object(1)\n",
      "memory usage: 59.7+ KB\n"
     ]
    },
    {
     "data": {
      "text/html": [
       "<div>\n",
       "<style scoped>\n",
       "    .dataframe tbody tr th:only-of-type {\n",
       "        vertical-align: middle;\n",
       "    }\n",
       "\n",
       "    .dataframe tbody tr th {\n",
       "        vertical-align: top;\n",
       "    }\n",
       "\n",
       "    .dataframe thead th {\n",
       "        text-align: right;\n",
       "    }\n",
       "</style>\n",
       "<table border=\"1\" class=\"dataframe\">\n",
       "  <thead>\n",
       "    <tr style=\"text-align: right;\">\n",
       "      <th></th>\n",
       "      <th>source_id</th>\n",
       "      <th>costs</th>\n",
       "    </tr>\n",
       "  </thead>\n",
       "  <tbody>\n",
       "    <tr>\n",
       "      <td>count</td>\n",
       "      <td>2542.000000</td>\n",
       "      <td>2542.000000</td>\n",
       "    </tr>\n",
       "    <tr>\n",
       "      <td>mean</td>\n",
       "      <td>4.857199</td>\n",
       "      <td>129.477427</td>\n",
       "    </tr>\n",
       "    <tr>\n",
       "      <td>std</td>\n",
       "      <td>3.181581</td>\n",
       "      <td>156.296628</td>\n",
       "    </tr>\n",
       "    <tr>\n",
       "      <td>min</td>\n",
       "      <td>1.000000</td>\n",
       "      <td>0.540000</td>\n",
       "    </tr>\n",
       "    <tr>\n",
       "      <td>25%</td>\n",
       "      <td>2.000000</td>\n",
       "      <td>21.945000</td>\n",
       "    </tr>\n",
       "    <tr>\n",
       "      <td>50%</td>\n",
       "      <td>4.000000</td>\n",
       "      <td>77.295000</td>\n",
       "    </tr>\n",
       "    <tr>\n",
       "      <td>75%</td>\n",
       "      <td>9.000000</td>\n",
       "      <td>170.065000</td>\n",
       "    </tr>\n",
       "    <tr>\n",
       "      <td>max</td>\n",
       "      <td>10.000000</td>\n",
       "      <td>1788.280000</td>\n",
       "    </tr>\n",
       "  </tbody>\n",
       "</table>\n",
       "</div>"
      ],
      "text/plain": [
       "         source_id        costs\n",
       "count  2542.000000  2542.000000\n",
       "mean      4.857199   129.477427\n",
       "std       3.181581   156.296628\n",
       "min       1.000000     0.540000\n",
       "25%       2.000000    21.945000\n",
       "50%       4.000000    77.295000\n",
       "75%       9.000000   170.065000\n",
       "max      10.000000  1788.280000"
      ]
     },
     "execution_count": 5,
     "metadata": {},
     "output_type": "execute_result"
    }
   ],
   "source": [
    "costs.info()\n",
    "costs.describe()"
   ]
  },
  {
   "cell_type": "markdown",
   "metadata": {},
   "source": [
    "Пропуски отсутствуют, переименование столбцов не требуется, только изменения типов данных на дату в столбце dt."
   ]
  },
  {
   "cell_type": "markdown",
   "metadata": {},
   "source": [
    "### Изменение типов данных, переименование столбцов, добавление данных в visits."
   ]
  },
  {
   "cell_type": "markdown",
   "metadata": {},
   "source": [
    "Переименую столбцы в таблицах visits и orders"
   ]
  },
  {
   "cell_type": "code",
   "execution_count": 6,
   "metadata": {},
   "outputs": [],
   "source": [
    "visits.columns = visits.columns.str.lower()\n",
    "visits = visits.rename({'end ts' : 'end_ts', 'source id' : 'source_id', 'start ts' : 'start_ts'}, axis='columns')\n",
    "orders.columns = orders.columns.str.lower()\n",
    "orders = orders.rename({'buy ts' : 'buy_ts'}, axis='columns')"
   ]
  },
  {
   "cell_type": "markdown",
   "metadata": {},
   "source": [
    "Изменю типы данных во всех трех датафреймах"
   ]
  },
  {
   "cell_type": "code",
   "execution_count": 7,
   "metadata": {},
   "outputs": [],
   "source": [
    "visits['start_ts'] = pd.to_datetime(visits['start_ts'])\n",
    "visits['end_ts'] =pd.to_datetime(visits['end_ts'])\n",
    "orders['buy_ts'] = pd.to_datetime(orders['buy_ts'])\n",
    "costs['dt'] = pd.to_datetime(costs['dt'])"
   ]
  },
  {
   "cell_type": "markdown",
   "metadata": {},
   "source": [
    "Для дальнейшего исследования будут необходимы данные о дате, дне, номере недели и месяце в датафреймах visits и orders, добавляю их к таблицам"
   ]
  },
  {
   "cell_type": "code",
   "execution_count": 8,
   "metadata": {},
   "outputs": [],
   "source": [
    "visits['session_month'] = visits['start_ts'].astype('datetime64[M]')\n",
    "visits['session_week']  = visits['start_ts'].astype('datetime64[W]')\n",
    "visits['session_date'] = visits['start_ts'].astype('datetime64[D]')\n",
    "visits['day'] = visits['start_ts'].dt.day\n",
    "orders['year'] = orders['buy_ts'].dt.year\n",
    "orders['month'] = orders['buy_ts'].dt.month\n",
    "orders['week'] = orders['buy_ts'].astype('datetime64[W]')\n",
    "orders['day'] = orders['buy_ts'].astype('datetime64[D]')"
   ]
  },
  {
   "cell_type": "code",
   "execution_count": 9,
   "metadata": {},
   "outputs": [
    {
     "data": {
      "text/html": [
       "<div>\n",
       "<style scoped>\n",
       "    .dataframe tbody tr th:only-of-type {\n",
       "        vertical-align: middle;\n",
       "    }\n",
       "\n",
       "    .dataframe tbody tr th {\n",
       "        vertical-align: top;\n",
       "    }\n",
       "\n",
       "    .dataframe thead th {\n",
       "        text-align: right;\n",
       "    }\n",
       "</style>\n",
       "<table border=\"1\" class=\"dataframe\">\n",
       "  <thead>\n",
       "    <tr style=\"text-align: right;\">\n",
       "      <th></th>\n",
       "      <th>device</th>\n",
       "      <th>end_ts</th>\n",
       "      <th>source_id</th>\n",
       "      <th>start_ts</th>\n",
       "      <th>uid</th>\n",
       "      <th>session_month</th>\n",
       "      <th>session_week</th>\n",
       "      <th>session_date</th>\n",
       "      <th>day</th>\n",
       "    </tr>\n",
       "  </thead>\n",
       "  <tbody>\n",
       "    <tr>\n",
       "      <td>0</td>\n",
       "      <td>touch</td>\n",
       "      <td>2017-12-20 17:38:00</td>\n",
       "      <td>4</td>\n",
       "      <td>2017-12-20 17:20:00</td>\n",
       "      <td>16879256277535980062</td>\n",
       "      <td>2017-12-01</td>\n",
       "      <td>2017-12-14</td>\n",
       "      <td>2017-12-20</td>\n",
       "      <td>20</td>\n",
       "    </tr>\n",
       "    <tr>\n",
       "      <td>1</td>\n",
       "      <td>desktop</td>\n",
       "      <td>2018-02-19 17:21:00</td>\n",
       "      <td>2</td>\n",
       "      <td>2018-02-19 16:53:00</td>\n",
       "      <td>104060357244891740</td>\n",
       "      <td>2018-02-01</td>\n",
       "      <td>2018-02-15</td>\n",
       "      <td>2018-02-19</td>\n",
       "      <td>19</td>\n",
       "    </tr>\n",
       "    <tr>\n",
       "      <td>2</td>\n",
       "      <td>touch</td>\n",
       "      <td>2017-07-01 01:54:00</td>\n",
       "      <td>5</td>\n",
       "      <td>2017-07-01 01:54:00</td>\n",
       "      <td>7459035603376831527</td>\n",
       "      <td>2017-07-01</td>\n",
       "      <td>2017-06-29</td>\n",
       "      <td>2017-07-01</td>\n",
       "      <td>1</td>\n",
       "    </tr>\n",
       "    <tr>\n",
       "      <td>3</td>\n",
       "      <td>desktop</td>\n",
       "      <td>2018-05-20 11:23:00</td>\n",
       "      <td>9</td>\n",
       "      <td>2018-05-20 10:59:00</td>\n",
       "      <td>16174680259334210214</td>\n",
       "      <td>2018-05-01</td>\n",
       "      <td>2018-05-17</td>\n",
       "      <td>2018-05-20</td>\n",
       "      <td>20</td>\n",
       "    </tr>\n",
       "    <tr>\n",
       "      <td>4</td>\n",
       "      <td>desktop</td>\n",
       "      <td>2017-12-27 14:06:00</td>\n",
       "      <td>3</td>\n",
       "      <td>2017-12-27 14:06:00</td>\n",
       "      <td>9969694820036681168</td>\n",
       "      <td>2017-12-01</td>\n",
       "      <td>2017-12-21</td>\n",
       "      <td>2017-12-27</td>\n",
       "      <td>27</td>\n",
       "    </tr>\n",
       "  </tbody>\n",
       "</table>\n",
       "</div>"
      ],
      "text/plain": [
       "    device              end_ts  source_id            start_ts  \\\n",
       "0    touch 2017-12-20 17:38:00          4 2017-12-20 17:20:00   \n",
       "1  desktop 2018-02-19 17:21:00          2 2018-02-19 16:53:00   \n",
       "2    touch 2017-07-01 01:54:00          5 2017-07-01 01:54:00   \n",
       "3  desktop 2018-05-20 11:23:00          9 2018-05-20 10:59:00   \n",
       "4  desktop 2017-12-27 14:06:00          3 2017-12-27 14:06:00   \n",
       "\n",
       "                    uid session_month session_week session_date  day  \n",
       "0  16879256277535980062    2017-12-01   2017-12-14   2017-12-20   20  \n",
       "1    104060357244891740    2018-02-01   2018-02-15   2018-02-19   19  \n",
       "2   7459035603376831527    2017-07-01   2017-06-29   2017-07-01    1  \n",
       "3  16174680259334210214    2018-05-01   2018-05-17   2018-05-20   20  \n",
       "4   9969694820036681168    2017-12-01   2017-12-21   2017-12-27   27  "
      ]
     },
     "execution_count": 9,
     "metadata": {},
     "output_type": "execute_result"
    }
   ],
   "source": [
    "visits.head()"
   ]
  },
  {
   "cell_type": "code",
   "execution_count": 10,
   "metadata": {},
   "outputs": [
    {
     "name": "stdout",
     "output_type": "stream",
     "text": [
      "Дублирующихся строк в таблице visits: 0\n",
      "Дублирующихся строк в таблице orders: 0\n",
      "Дублирующихся строк в таблице costs: 0\n"
     ]
    }
   ],
   "source": [
    "print(\"Дублирующихся строк в таблице visits:\", visits.duplicated().sum())\n",
    "print(\"Дублирующихся строк в таблице orders:\", orders.duplicated().sum())\n",
    "print(\"Дублирующихся строк в таблице costs:\", costs.duplicated().sum())"
   ]
  },
  {
   "cell_type": "markdown",
   "metadata": {},
   "source": [
    "Дубли в датафреймах отсутствуют."
   ]
  },
  {
   "cell_type": "markdown",
   "metadata": {},
   "source": [
    "## Расчёт метрик и построение графиков"
   ]
  },
  {
   "cell_type": "markdown",
   "metadata": {},
   "source": [
    "### DAU, MAU, WAU"
   ]
  },
  {
   "cell_type": "markdown",
   "metadata": {},
   "source": [
    "Рассчитаю DAU и построю график изменения данных во времени:"
   ]
  },
  {
   "cell_type": "code",
   "execution_count": 11,
   "metadata": {},
   "outputs": [
    {
     "name": "stdout",
     "output_type": "stream",
     "text": [
      "В среднем в день сервис используют 907 уникальных пользователей\n"
     ]
    },
    {
     "data": {
      "image/png": "[encoded data removed]",
      "text/plain": [
       "<Figure size 1080x360 with 1 Axes>"
      ]
     },
     "metadata": {
      "needs_background": "light"
     },
     "output_type": "display_data"
    },
    {
     "data": {
      "image/png": "[encoded data removed]",
      "text/plain": [
       "<Figure size 1080x360 with 1 Axes>"
      ]
     },
     "metadata": {
      "needs_background": "light"
     },
     "output_type": "display_data"
    }
   ],
   "source": [
    "dau_total = visits.groupby(['session_date']).agg({'uid': 'nunique'}).mean()\n",
    "print('В среднем в день сервис используют {} уникальных пользователей'.format(int(dau_total)))\n",
    "visits.groupby(['session_date']).agg({'uid': 'nunique'}).plot(grid=True, figsize=(15, 5)).get_legend().remove()\n",
    "visits.groupby(['day']).agg({'uid': 'nunique'}).plot(grid=True, figsize=(15, 5)).get_legend().remove()"
   ]
  },
  {
   "cell_type": "markdown",
   "metadata": {},
   "source": [
    "**Выводы:** На графике по количеству пользователей на дату виден рост пользователей к концу 2017 года, к середине 2018 года происходит спад.\n",
    "\n",
    "На втором графике, по каждому числу месяца, можно увидеть всплеск количества пользователей ближе к 25 числу каждого месяца, можно предположить, что в этот период, пользователи получают зарплату в этот период."
   ]
  },
  {
   "cell_type": "markdown",
   "metadata": {},
   "source": [
    "Рассчитаю WAU и построю график изменения данных во времени:"
   ]
  },
  {
   "cell_type": "code",
   "execution_count": 12,
   "metadata": {},
   "outputs": [
    {
     "name": "stdout",
     "output_type": "stream",
     "text": [
      "В среднем в неделю сервис используют 5724 уникальных пользователей\n"
     ]
    },
    {
     "data": {
      "image/png": "[encoded data removed]",
      "text/plain": [
       "<Figure size 1080x360 with 1 Axes>"
      ]
     },
     "metadata": {
      "needs_background": "light"
     },
     "output_type": "display_data"
    }
   ],
   "source": [
    "wau_total = visits.groupby(['session_week']).agg({'uid': 'nunique'}).mean()\n",
    "print('В среднем в неделю сервис используют {} уникальных пользователей'.format(int(wau_total)))\n",
    "visits.groupby(['session_week']).agg({'uid': 'nunique'}).plot(grid=True, figsize=(15, 5)).get_legend().remove()"
   ]
  },
  {
   "cell_type": "markdown",
   "metadata": {},
   "source": [
    "**Выводы:** Как и на предыдущем графике, есть рост к концу года, в начале лета количество пользователей резко снижается, ориентировочно на 24 неделе."
   ]
  },
  {
   "cell_type": "markdown",
   "metadata": {},
   "source": [
    "Рассчитаю МAU и построю график изменения данных во времени:"
   ]
  },
  {
   "cell_type": "code",
   "execution_count": 13,
   "metadata": {},
   "outputs": [
    {
     "name": "stdout",
     "output_type": "stream",
     "text": [
      "В среднем в месяц сервис используют 23228 уникальных пользователей\n"
     ]
    },
    {
     "data": {
      "image/png": "[encoded data removed]",
      "text/plain": [
       "<Figure size 1080x360 with 1 Axes>"
      ]
     },
     "metadata": {
      "needs_background": "light"
     },
     "output_type": "display_data"
    }
   ],
   "source": [
    "mau_total = visits.groupby(['session_month']).agg({'uid': 'nunique'}).mean()\n",
    "print('В среднем в месяц сервис используют {} уникальных пользователей'.format(int(mau_total)))\n",
    "visits.groupby(['session_month']).agg({'uid': 'nunique'}).plot(grid=True, figsize=(15, 5)).get_legend().remove()"
   ]
  },
  {
   "cell_type": "markdown",
   "metadata": {},
   "source": [
    "**Выводы:** Можно предположить, что снижение количества пользователей связано в сезоном отпуском в летнее время, начиная с сентября начинается заметный рост, с пиком в конце года, а с февраля происходит спад. "
   ]
  },
  {
   "cell_type": "markdown",
   "metadata": {},
   "source": [
    "### Среднее количество посещений сайта в день"
   ]
  },
  {
   "cell_type": "markdown",
   "metadata": {},
   "source": [
    "Рассчитаю количество посещений сайта в день и построю график:"
   ]
  },
  {
   "cell_type": "code",
   "execution_count": 14,
   "metadata": {},
   "outputs": [],
   "source": [
    "session_nunique = visits.groupby(['session_date']).agg({'uid': 'nunique'}).mean()\n",
    "session_count = visits.groupby(['session_date']).agg({'uid': 'count'}).mean()"
   ]
  },
  {
   "cell_type": "code",
   "execution_count": 15,
   "metadata": {},
   "outputs": [
    {
     "name": "stdout",
     "output_type": "stream",
     "text": [
      "Cреднее количество сессий на уникального пользователя в день 1.09\n"
     ]
    },
    {
     "data": {
      "image/png": "[encoded data removed]",
      "text/plain": [
       "<Figure size 1368x504 with 1 Axes>"
      ]
     },
     "metadata": {
      "needs_background": "light"
     },
     "output_type": "display_data"
    }
   ],
   "source": [
    "print('Cреднее количество сессий на уникального пользователя в день {:.3}'.format(float(session_count/session_nunique)))\n",
    "plt.figure(figsize=(19, 7))\n",
    "plt.plot(visits.groupby(['session_date']).agg({'uid': 'count'}));\n",
    "plt.plot(visits.groupby(['session_date']).agg({'uid': 'nunique'}));\n",
    "plt.title('Сравнения количества уникальных и общих пользователей в день')\n",
    "plt.xlabel('День',fontsize=10)\n",
    "plt.ylabel('Количество использований',fontsize=10)\n",
    "plt.legend(['Уникальные пользователи', 'Общее количество пользователей'])\n",
    "plt.show()"
   ]
  },
  {
   "cell_type": "markdown",
   "metadata": {},
   "source": [
    "**Выводы:** Общее количество пользователей в день незначительно отличается от количества уникальных пользоватей сервиса.\n",
    "График очень похож на предыдущие. Выводы по графику аналогичны."
   ]
  },
  {
   "cell_type": "markdown",
   "metadata": {},
   "source": [
    "### Сколько времени пользователи проводят на сайте"
   ]
  },
  {
   "cell_type": "markdown",
   "metadata": {},
   "source": [
    "Рассчитаю длительность сессии на сайте:"
   ]
  },
  {
   "cell_type": "code",
   "execution_count": 16,
   "metadata": {},
   "outputs": [],
   "source": [
    "visits['session_duration_sec'] = (visits['end_ts'] - visits['start_ts']).dt.seconds / 60"
   ]
  },
  {
   "cell_type": "markdown",
   "metadata": {},
   "source": [
    "Проверю, нет ли отрицательных значений после расчётов и сразу узнаю среднее."
   ]
  },
  {
   "cell_type": "code",
   "execution_count": 17,
   "metadata": {},
   "outputs": [
    {
     "data": {
      "text/plain": [
       "count    359400.000000\n",
       "mean         10.725108\n",
       "std          16.938913\n",
       "min           0.000000\n",
       "25%           2.000000\n",
       "50%           5.000000\n",
       "75%          14.000000\n",
       "max        1408.000000\n",
       "Name: session_duration_sec, dtype: float64"
      ]
     },
     "execution_count": 17,
     "metadata": {},
     "output_type": "execute_result"
    }
   ],
   "source": [
    "visits['session_duration_sec'].describe()"
   ]
  },
  {
   "cell_type": "markdown",
   "metadata": {},
   "source": [
    "Отрицательных значений нет, всё ок. \n",
    "\n",
    "Среднее значение около 11 минут. \n",
    "Проверю вид распределения на гистограмме:"
   ]
  },
  {
   "cell_type": "code",
   "execution_count": 18,
   "metadata": {},
   "outputs": [
    {
     "data": {
      "text/plain": [
       "<matplotlib.axes._subplots.AxesSubplot at 0x7fa0dc7df2d0>"
      ]
     },
     "execution_count": 18,
     "metadata": {},
     "output_type": "execute_result"
    },
    {
     "data": {
      "image/png": "[encoded data removed]",
      "text/plain": [
       "<Figure size 432x288 with 1 Axes>"
      ]
     },
     "metadata": {
      "needs_background": "light"
     },
     "output_type": "display_data"
    }
   ],
   "source": [
    "visits['session_duration_sec'].hist(bins=100,range = (0, 150))"
   ]
  },
  {
   "cell_type": "markdown",
   "metadata": {},
   "source": [
    "Распределение неравномерно, среднее использовать нельзя, найду моду:"
   ]
  },
  {
   "cell_type": "code",
   "execution_count": 19,
   "metadata": {},
   "outputs": [
    {
     "name": "stdout",
     "output_type": "stream",
     "text": [
      "0    1.0\n",
      "dtype: float64\n"
     ]
    }
   ],
   "source": [
    "print(visits['session_duration_sec'].mode()) "
   ]
  },
  {
   "cell_type": "markdown",
   "metadata": {},
   "source": [
    "**Выводы:** Как правило, пользователи находятся на сайте в течение одной минуты, при этом медианное значение составляет 5 минут, а среднее 10,7 минут."
   ]
  },
  {
   "cell_type": "markdown",
   "metadata": {},
   "source": [
    "### Расчёт Retention Rate"
   ]
  },
  {
   "cell_type": "markdown",
   "metadata": {},
   "source": [
    "Рассчитаю Retention Rate"
   ]
  },
  {
   "cell_type": "code",
   "execution_count": 20,
   "metadata": {},
   "outputs": [],
   "source": [
    "visits['activity_month'] = pd.to_datetime(visits['start_ts'].astype('datetime64[M]'))"
   ]
  },
  {
   "cell_type": "code",
   "execution_count": 21,
   "metadata": {},
   "outputs": [],
   "source": [
    "first_activity = visits.groupby(['uid'])['activity_month'].min()\n",
    "first_activity.name = 'first_activity_month'\n",
    "visits = visits.join(first_activity, on='uid') \n",
    "first_activity = pd.to_datetime(first_activity.astype('datetime64[M]'))"
   ]
  },
  {
   "cell_type": "code",
   "execution_count": 22,
   "metadata": {},
   "outputs": [],
   "source": [
    "visits['lifetime'] = (visits['activity_month'] - visits['first_activity_month']) / np.timedelta64(1, 'M')\n",
    "visits['lifetime'] = visits['lifetime'].round().astype('int')"
   ]
  },
  {
   "cell_type": "code",
   "execution_count": 23,
   "metadata": {},
   "outputs": [],
   "source": [
    "cohorts = visits.groupby(['first_activity_month','lifetime']).agg({'uid':'nunique'}).reset_index()\n",
    "initial_users = cohorts[cohorts['lifetime'] == 0][\n",
    "    ['first_activity_month', 'uid']\n",
    "]\n",
    "initial_users = initial_users.rename(columns={'uid':'cohort_users'}) "
   ]
  },
  {
   "cell_type": "code",
   "execution_count": 24,
   "metadata": {},
   "outputs": [],
   "source": [
    "cohorts = cohorts.merge(initial_users,on='first_activity_month') "
   ]
  },
  {
   "cell_type": "code",
   "execution_count": 25,
   "metadata": {},
   "outputs": [],
   "source": [
    "cohorts['retention'] = cohorts['uid']/cohorts['cohort_users'] \n",
    "retention_pivot = cohorts.pivot_table(\n",
    "    index='first_activity_month',\n",
    "    columns='lifetime',\n",
    "    values='retention',\n",
    "    aggfunc='sum',\n",
    ") "
   ]
  },
  {
   "cell_type": "code",
   "execution_count": 26,
   "metadata": {},
   "outputs": [
    {
     "data": {
      "image/png": "[encoded data removed]",
      "text/plain": [
       "<Figure size 936x648 with 2 Axes>"
      ]
     },
     "metadata": {},
     "output_type": "display_data"
    }
   ],
   "source": [
    "sns.set(style='white')\n",
    "plt.figure(figsize=(13, 9))\n",
    "plt.title('Retention Rate')\n",
    "sns.heatmap(retention_pivot, annot=True, fmt='.1%', linewidths=1, linecolor='gray'); "
   ]
  },
  {
   "cell_type": "markdown",
   "metadata": {},
   "source": [
    "Рассчитаю средний Retention Rate на второй месяц «жизни» когорт:"
   ]
  },
  {
   "cell_type": "code",
   "execution_count": 27,
   "metadata": {},
   "outputs": [
    {
     "data": {
      "text/plain": [
       "6.516659710392834"
      ]
     },
     "execution_count": 27,
     "metadata": {},
     "output_type": "execute_result"
    }
   ],
   "source": [
    "cohorts[cohorts['lifetime'] == 1]['retention'].mean()*100"
   ]
  },
  {
   "cell_type": "markdown",
   "metadata": {},
   "source": [
    "**Выводы:** Как правило возвращаются меньше 10% пользователей, в последующие периоды спад происходит значительно медленнее. \n",
    "А также есть отрицательная динамика по количеству возвращающихся пользователей начиная с октябрьской когорты 2017 года. \n",
    "\n",
    "Средний Retention Rate на второй месяц «жизни» когорт составляет 6,51%"
   ]
  },
  {
   "cell_type": "markdown",
   "metadata": {},
   "source": [
    "### Среднее время с первого посещения сайта до момента совершения покупки"
   ]
  },
  {
   "cell_type": "markdown",
   "metadata": {},
   "source": [
    "Рассчитаю среднее время с первого посещения сайта до момента совершения покупки в часах:"
   ]
  },
  {
   "cell_type": "code",
   "execution_count": 28,
   "metadata": {},
   "outputs": [],
   "source": [
    "first_visit = visits.groupby('uid').agg({'start_ts':'min'}).reset_index()\n",
    "first_order = orders.groupby('uid').agg({'buy_ts':'min'})\n",
    "first_buy = first_visit.merge(first_order, on='uid') \n",
    "first_buy['time_before_purchase'] = (first_buy['buy_ts'] - first_buy['start_ts']).dt.seconds / 3600"
   ]
  },
  {
   "cell_type": "markdown",
   "metadata": {},
   "source": [
    "Проверю, нет ли отрицательных значений после расчётов и среднее значение:"
   ]
  },
  {
   "cell_type": "code",
   "execution_count": 29,
   "metadata": {},
   "outputs": [
    {
     "data": {
      "text/html": [
       "<div>\n",
       "<style scoped>\n",
       "    .dataframe tbody tr th:only-of-type {\n",
       "        vertical-align: middle;\n",
       "    }\n",
       "\n",
       "    .dataframe tbody tr th {\n",
       "        vertical-align: top;\n",
       "    }\n",
       "\n",
       "    .dataframe thead th {\n",
       "        text-align: right;\n",
       "    }\n",
       "</style>\n",
       "<table border=\"1\" class=\"dataframe\">\n",
       "  <thead>\n",
       "    <tr style=\"text-align: right;\">\n",
       "      <th></th>\n",
       "      <th>uid</th>\n",
       "      <th>time_before_purchase</th>\n",
       "    </tr>\n",
       "  </thead>\n",
       "  <tbody>\n",
       "    <tr>\n",
       "      <td>count</td>\n",
       "      <td>3.652300e+04</td>\n",
       "      <td>36523.000000</td>\n",
       "    </tr>\n",
       "    <tr>\n",
       "      <td>mean</td>\n",
       "      <td>9.213152e+18</td>\n",
       "      <td>4.152745</td>\n",
       "    </tr>\n",
       "    <tr>\n",
       "      <td>std</td>\n",
       "      <td>5.324792e+18</td>\n",
       "      <td>7.162380</td>\n",
       "    </tr>\n",
       "    <tr>\n",
       "      <td>min</td>\n",
       "      <td>3.135781e+14</td>\n",
       "      <td>0.000000</td>\n",
       "    </tr>\n",
       "    <tr>\n",
       "      <td>25%</td>\n",
       "      <td>4.615081e+18</td>\n",
       "      <td>0.066667</td>\n",
       "    </tr>\n",
       "    <tr>\n",
       "      <td>50%</td>\n",
       "      <td>9.245161e+18</td>\n",
       "      <td>0.266667</td>\n",
       "    </tr>\n",
       "    <tr>\n",
       "      <td>75%</td>\n",
       "      <td>1.383709e+19</td>\n",
       "      <td>4.200000</td>\n",
       "    </tr>\n",
       "    <tr>\n",
       "      <td>max</td>\n",
       "      <td>1.844617e+19</td>\n",
       "      <td>23.983333</td>\n",
       "    </tr>\n",
       "  </tbody>\n",
       "</table>\n",
       "</div>"
      ],
      "text/plain": [
       "                uid  time_before_purchase\n",
       "count  3.652300e+04          36523.000000\n",
       "mean   9.213152e+18              4.152745\n",
       "std    5.324792e+18              7.162380\n",
       "min    3.135781e+14              0.000000\n",
       "25%    4.615081e+18              0.066667\n",
       "50%    9.245161e+18              0.266667\n",
       "75%    1.383709e+19              4.200000\n",
       "max    1.844617e+19             23.983333"
      ]
     },
     "execution_count": 29,
     "metadata": {},
     "output_type": "execute_result"
    }
   ],
   "source": [
    "first_buy.describe()"
   ]
  },
  {
   "cell_type": "markdown",
   "metadata": {},
   "source": [
    "Отрицательных значений нет, построю гистограмму:"
   ]
  },
  {
   "cell_type": "code",
   "execution_count": 30,
   "metadata": {},
   "outputs": [
    {
     "data": {
      "text/plain": [
       "<matplotlib.axes._subplots.AxesSubplot at 0x7fa0d89b8410>"
      ]
     },
     "execution_count": 30,
     "metadata": {},
     "output_type": "execute_result"
    },
    {
     "data": {
      "image/png": "[encoded data removed]",
      "text/plain": [
       "<Figure size 720x216 with 1 Axes>"
      ]
     },
     "metadata": {},
     "output_type": "display_data"
    }
   ],
   "source": [
    "first_buy['time_before_purchase'].plot(kind = 'hist', bins = 10, figsize = (10, 3),\n",
    "                                       title = ('Среднее время с первого посещения сайта до момента совершения покупки в часах'))"
   ]
  },
  {
   "cell_type": "code",
   "execution_count": 31,
   "metadata": {},
   "outputs": [
    {
     "data": {
      "text/plain": [
       "0    1.0\n",
       "dtype: float64"
      ]
     },
     "execution_count": 31,
     "metadata": {},
     "output_type": "execute_result"
    }
   ],
   "source": [
    "first_buy['time_before_purchase'].mode() * 60"
   ]
  },
  {
   "cell_type": "markdown",
   "metadata": {},
   "source": [
    "**Выводы:** Среднее время до совершения покупки 4 часа, но на гистограмме видно, что распределение неравномерное, поэтому рассчитала моду, она составляет 1 минуту. "
   ]
  },
  {
   "cell_type": "markdown",
   "metadata": {},
   "source": [
    "### Среднее количество покупок на одного покупателя за полгода"
   ]
  },
  {
   "cell_type": "code",
   "execution_count": 32,
   "metadata": {},
   "outputs": [
    {
     "name": "stdout",
     "output_type": "stream",
     "text": [
      "Среднее количество покупок на одного пользователя в 2017 и 2018 гг.\n"
     ]
    },
    {
     "data": {
      "text/plain": [
       "year\n",
       "2017    1.326844\n",
       "2018    1.315222\n",
       "Name: uid, dtype: float64"
      ]
     },
     "execution_count": 32,
     "metadata": {},
     "output_type": "execute_result"
    }
   ],
   "source": [
    "print('Среднее количество покупок на одного пользователя в 2017 и 2018 гг.')\n",
    "(orders.groupby(['year'])['uid'].count() / orders.groupby(['year'])['uid'].nunique())"
   ]
  },
  {
   "cell_type": "code",
   "execution_count": 33,
   "metadata": {},
   "outputs": [
    {
     "name": "stdout",
     "output_type": "stream",
     "text": [
      "Среднее количество покупок на одного пользователя в месяц за весь период: 1.222968553416106\n"
     ]
    },
    {
     "data": {
      "text/plain": [
       "<matplotlib.axes._subplots.AxesSubplot at 0x7fa0dc8bc410>"
      ]
     },
     "execution_count": 33,
     "metadata": {},
     "output_type": "execute_result"
    },
    {
     "data": {
      "image/png": "[encoded data removed]",
      "text/plain": [
       "<Figure size 1368x504 with 1 Axes>"
      ]
     },
     "metadata": {},
     "output_type": "display_data"
    }
   ],
   "source": [
    "print('Среднее количество покупок на одного пользователя в месяц за весь период:',\n",
    "     (orders.groupby(['month'])['uid'].count() / \n",
    " orders.groupby(['month'])['uid'].nunique()).mean())\n",
    "\n",
    "(orders.groupby(['month'])['uid'].count() / \n",
    " orders.groupby(['month'])['uid'].nunique()).plot(kind='bar', figsize=(19, 7), title = \"Среднее количество покупок на одного пользователя в месяц\")"
   ]
  },
  {
   "cell_type": "code",
   "execution_count": 34,
   "metadata": {},
   "outputs": [
    {
     "name": "stdout",
     "output_type": "stream",
     "text": [
      "Среднее количество покупок на одного пользователя в неделю за весь период: 1.156124366245413\n"
     ]
    },
    {
     "data": {
      "text/plain": [
       "<matplotlib.axes._subplots.AxesSubplot at 0x7fa0dc9ceb10>"
      ]
     },
     "execution_count": 34,
     "metadata": {},
     "output_type": "execute_result"
    },
    {
     "data": {
      "image/png": "[encoded data removed]",
      "text/plain": [
       "<Figure size 1368x360 with 1 Axes>"
      ]
     },
     "metadata": {},
     "output_type": "display_data"
    }
   ],
   "source": [
    "print('Среднее количество покупок на одного пользователя в неделю за весь период:',\n",
    "     (orders.groupby(['week'])['uid'].count() / \n",
    " orders.groupby(['week'])['uid'].nunique()).mean())\n",
    "\n",
    "(orders.groupby(['week'])['uid'].count() / \n",
    " orders.groupby(['week'])['uid'].nunique()).plot(kind='bar', figsize=(19, 5))"
   ]
  },
  {
   "cell_type": "markdown",
   "metadata": {},
   "source": [
    "Рассчитаю среднее количество покупок на пользователя за полгода"
   ]
  },
  {
   "cell_type": "code",
   "execution_count": 35,
   "metadata": {},
   "outputs": [
    {
     "name": "stdout",
     "output_type": "stream",
     "text": [
      "Среднее количество покупок на одного пользователя за полгода: 1.32\n"
     ]
    }
   ],
   "source": [
    "orders_half_a_year = orders.query('month <= 5')\n",
    "print('Среднее количество покупок на одного пользователя за полгода: {:.2f}'.format(\n",
    "    (orders_half_a_year['uid'].count() / orders_half_a_year['uid'].nunique()).mean()))"
   ]
  },
  {
   "cell_type": "markdown",
   "metadata": {},
   "source": [
    "**Выводы:** \n",
    "В среднем в год на одного покупателя приходится 1.31 покупка, то же среднее получила при расчёте данных за полгода.\n",
    "Количество покупок на одного клиента в месяц ниже - 1.22, в неделю - 1.16.\n",
    "Также, как и при расчёте данных о посещении клиентами ресурса, подъем виден с начала осени и до конца весны, летом происходит спад."
   ]
  },
  {
   "cell_type": "markdown",
   "metadata": {},
   "source": [
    "### Расчёт среднего чека с группировкой по времени покупки"
   ]
  },
  {
   "cell_type": "code",
   "execution_count": 36,
   "metadata": {},
   "outputs": [
    {
     "name": "stdout",
     "output_type": "stream",
     "text": [
      "Средний чек с группировкой по времени покупки: \n",
      "              revenue\n",
      "year month          \n",
      "2017 6      4.060106\n",
      "     7      5.306589\n",
      "     8      4.847139\n",
      "     9      5.416448\n",
      "     10     4.928280\n",
      "     11     4.783518\n",
      "     12     5.852139\n",
      "2018 1      4.112927\n",
      "     2      4.840095\n",
      "     3      5.413930\n",
      "     4      5.150645\n",
      "     5      4.771279\n",
      "     6      3.420000 \n",
      " Средний чек за весь период: 4.999646930477041\n"
     ]
    },
    {
     "data": {
      "text/plain": [
       "<matplotlib.axes._subplots.AxesSubplot at 0x7fa0dc4d4850>"
      ]
     },
     "execution_count": 36,
     "metadata": {},
     "output_type": "execute_result"
    },
    {
     "data": {
      "image/png": "[encoded data removed]",
      "text/plain": [
       "<Figure size 1368x504 with 1 Axes>"
      ]
     },
     "metadata": {},
     "output_type": "display_data"
    }
   ],
   "source": [
    "mean_check = orders.groupby(['year', 'month']).agg({'revenue' : 'mean'})\n",
    "print('Средний чек с группировкой по времени покупки:',\n",
    "      '\\n',\n",
    "      mean_check,\n",
    "      '\\n',\n",
    "     'Средний чек за весь период:', orders['revenue'].mean())\n",
    "mean_check.plot(kind='bar', figsize=(19, 7))"
   ]
  },
  {
   "cell_type": "markdown",
   "metadata": {},
   "source": [
    "**Выводы:** Средний чек за весь период составляет 4.99 у.е. \n",
    "По графику видно, что самый высокий показатель в декабре 2017 года, в январе и июне 2018г. средний чек ниже остальных.\n"
   ]
  },
  {
   "cell_type": "markdown",
   "metadata": {},
   "source": [
    "### Расчёт среднего LTV"
   ]
  },
  {
   "cell_type": "markdown",
   "metadata": {},
   "source": [
    "Рассчитаю LTV, по условию маржинальность 100%"
   ]
  },
  {
   "cell_type": "code",
   "execution_count": 37,
   "metadata": {},
   "outputs": [],
   "source": [
    "margin_rate = 1"
   ]
  },
  {
   "cell_type": "code",
   "execution_count": 38,
   "metadata": {},
   "outputs": [
    {
     "data": {
      "text/plain": [
       "<matplotlib.axes._subplots.AxesSubplot at 0x7fa0dc83ac90>"
      ]
     },
     "execution_count": 38,
     "metadata": {},
     "output_type": "execute_result"
    },
    {
     "data": {
      "image/png": "[encoded data removed]",
      "text/plain": [
       "<Figure size 936x648 with 2 Axes>"
      ]
     },
     "metadata": {},
     "output_type": "display_data"
    }
   ],
   "source": [
    "orders['order_month'] = orders['buy_ts'].astype('datetime64[M]')\n",
    "first_orders = orders.groupby('uid').agg({'order_month': 'min'}).reset_index()\n",
    "first_orders.columns = ['uid', 'first_order_month']\n",
    "\n",
    "cohort_sizes = (first_orders.groupby('first_order_month')\n",
    "    .agg({'uid': 'nunique'})\n",
    "    .reset_index())\n",
    "cohort_sizes.columns = ['first_order_month', 'n_buyers']\n",
    "\n",
    "orders_new = pd.merge(orders,first_orders, on='uid')\n",
    "\n",
    "cohorts = (orders_new.groupby(['first_order_month', 'order_month'])\n",
    "    .agg({'revenue': 'sum'})\n",
    "    .reset_index())\n",
    "\n",
    "report = pd.merge(cohort_sizes, cohorts, on='first_order_month')\n",
    "\n",
    "report['gp'] = report['revenue'] * margin_rate\n",
    "report['age'] = (report['order_month'] - report['first_order_month']) / np.timedelta64(1, 'M')\n",
    "report['age'] = report['age'].round().astype('int')\n",
    "\n",
    "report['ltv'] = report['gp'] / report['n_buyers']\n",
    "\n",
    "output = report.pivot_table(index='first_order_month', columns='age', values='ltv', aggfunc='mean')\n",
    "\n",
    "output = output.cumsum(axis=1).round(2)\n",
    "output.fillna('')\n",
    "\n",
    "plt.figure(figsize=(13, 9))\n",
    "plt.title('LTV')\n",
    "sns.heatmap(output, annot=True, fmt='.1f', linewidths=1, linecolor='gray', yticklabels=retention_pivot.index.strftime('%Y.%m.%d'))"
   ]
  },
  {
   "cell_type": "markdown",
   "metadata": {},
   "source": [
    "**Вывод:** Максимальную выручку пользователи приносят в первый месяц, затем происходит спад, редко встречаются всплески."
   ]
  },
  {
   "cell_type": "markdown",
   "metadata": {},
   "source": [
    "Рассчитаю средний LTV по когортам за 6 месяцев, время \"жизни\" когорты более 6 месяцев."
   ]
  },
  {
   "cell_type": "code",
   "execution_count": 39,
   "metadata": {},
   "outputs": [
    {
     "name": "stdout",
     "output_type": "stream",
     "text": [
      "Средний LTV за 6 месяцев составил 0.32\n"
     ]
    }
   ],
   "source": [
    "report_avg_ltv = report.query('age >= 6')\n",
    "print('Средний LTV за 6 месяцев составил {:.2f}'.format(report_avg_ltv['ltv'].mean()))"
   ]
  },
  {
   "cell_type": "markdown",
   "metadata": {},
   "source": [
    "### Общая сумма расходов на маркетинг. Распределение трат по источникам."
   ]
  },
  {
   "cell_type": "code",
   "execution_count": 40,
   "metadata": {},
   "outputs": [
    {
     "name": "stdout",
     "output_type": "stream",
     "text": [
      "Общая сумма расходов на маркетинг: 329131.62\n"
     ]
    }
   ],
   "source": [
    "print('Общая сумма расходов на маркетинг:', costs['costs'].sum())"
   ]
  },
  {
   "cell_type": "markdown",
   "metadata": {},
   "source": [
    "Рассчитаю распределение расходов на маркетинг по источникам:"
   ]
  },
  {
   "cell_type": "code",
   "execution_count": 41,
   "metadata": {},
   "outputs": [
    {
     "name": "stdout",
     "output_type": "stream",
     "text": [
      "   source_id      costs\n",
      "2          3  141321.63\n",
      "3          4   61073.60\n",
      "4          5   51757.10\n",
      "1          2   42806.04\n",
      "0          1   20833.27\n",
      "6         10    5822.49\n",
      "5          9    5517.49\n"
     ]
    },
    {
     "data": {
      "image/png": "[encoded data removed]",
      "text/plain": [
       "<Figure size 1080x360 with 1 Axes>"
      ]
     },
     "metadata": {},
     "output_type": "display_data"
    }
   ],
   "source": [
    "costs_by_source = costs.groupby('source_id').agg({'costs':'sum'}).reset_index().sort_values(by = 'costs', ascending = False)\n",
    "print(costs_by_source)\n",
    "plt.figure(figsize = (15, 5))\n",
    "ax = sns.barplot(x=\"source_id\", y=\"costs\", data=costs_by_source)\n",
    "plt.title('Расходы по источнику')\n",
    "ax.set_xlabel('Тип источника')\n",
    "ax.set_ylabel('Расходы')\n",
    "plt.show()"
   ]
  },
  {
   "cell_type": "markdown",
   "metadata": {},
   "source": [
    "Затем посчитаю расходы на маркетинг по месяцам:"
   ]
  },
  {
   "cell_type": "code",
   "execution_count": 42,
   "metadata": {},
   "outputs": [
    {
     "data": {
      "text/plain": [
       "<matplotlib.axes._subplots.AxesSubplot at 0x7fa0dc2ca610>"
      ]
     },
     "execution_count": 42,
     "metadata": {},
     "output_type": "execute_result"
    },
    {
     "data": {
      "image/png": "[encoded data removed]",
      "text/plain": [
       "<Figure size 720x360 with 1 Axes>"
      ]
     },
     "metadata": {},
     "output_type": "display_data"
    }
   ],
   "source": [
    "costs['month'] = pd.to_datetime(costs['dt'].astype('datetime64[M]'))\n",
    "month_expenses_costs = costs.groupby('month')['costs'].sum()\n",
    "month_expenses_costs.plot(grid=True, figsize=(10, 5), title = 'Распределение расходов по месяцам')"
   ]
  },
  {
   "cell_type": "markdown",
   "metadata": {},
   "source": [
    "**Выводы:** Больше всего расходов на третий источник, расходы на остальные источники меньше в разы.\n",
    "\n",
    "Самые большие расходы были в декабре, рост расходов наблюдается с сентября, в январе происходит спад.\n"
   ]
  },
  {
   "cell_type": "markdown",
   "metadata": {},
   "source": [
    "### САС"
   ]
  },
  {
   "cell_type": "markdown",
   "metadata": {},
   "source": [
    "Рассчитаю САС"
   ]
  },
  {
   "cell_type": "code",
   "execution_count": 43,
   "metadata": {},
   "outputs": [
    {
     "data": {
      "text/html": [
       "<div>\n",
       "<style scoped>\n",
       "    .dataframe tbody tr th:only-of-type {\n",
       "        vertical-align: middle;\n",
       "    }\n",
       "\n",
       "    .dataframe tbody tr th {\n",
       "        vertical-align: top;\n",
       "    }\n",
       "\n",
       "    .dataframe thead th {\n",
       "        text-align: right;\n",
       "    }\n",
       "</style>\n",
       "<table border=\"1\" class=\"dataframe\">\n",
       "  <thead>\n",
       "    <tr style=\"text-align: right;\">\n",
       "      <th></th>\n",
       "      <th>source_id</th>\n",
       "      <th>costs</th>\n",
       "      <th>users</th>\n",
       "      <th>cac</th>\n",
       "    </tr>\n",
       "  </thead>\n",
       "  <tbody>\n",
       "    <tr>\n",
       "      <td>0</td>\n",
       "      <td>3</td>\n",
       "      <td>141321.63</td>\n",
       "      <td>10473</td>\n",
       "      <td>13.493901</td>\n",
       "    </tr>\n",
       "    <tr>\n",
       "      <td>1</td>\n",
       "      <td>4</td>\n",
       "      <td>61073.60</td>\n",
       "      <td>10296</td>\n",
       "      <td>5.931779</td>\n",
       "    </tr>\n",
       "    <tr>\n",
       "      <td>2</td>\n",
       "      <td>5</td>\n",
       "      <td>51757.10</td>\n",
       "      <td>6931</td>\n",
       "      <td>7.467479</td>\n",
       "    </tr>\n",
       "    <tr>\n",
       "      <td>3</td>\n",
       "      <td>2</td>\n",
       "      <td>42806.04</td>\n",
       "      <td>3506</td>\n",
       "      <td>12.209367</td>\n",
       "    </tr>\n",
       "    <tr>\n",
       "      <td>4</td>\n",
       "      <td>1</td>\n",
       "      <td>20833.27</td>\n",
       "      <td>2899</td>\n",
       "      <td>7.186364</td>\n",
       "    </tr>\n",
       "    <tr>\n",
       "      <td>5</td>\n",
       "      <td>10</td>\n",
       "      <td>5822.49</td>\n",
       "      <td>1329</td>\n",
       "      <td>4.381106</td>\n",
       "    </tr>\n",
       "    <tr>\n",
       "      <td>6</td>\n",
       "      <td>9</td>\n",
       "      <td>5517.49</td>\n",
       "      <td>1088</td>\n",
       "      <td>5.071222</td>\n",
       "    </tr>\n",
       "  </tbody>\n",
       "</table>\n",
       "</div>"
      ],
      "text/plain": [
       "   source_id      costs  users        cac\n",
       "0          3  141321.63  10473  13.493901\n",
       "1          4   61073.60  10296   5.931779\n",
       "2          5   51757.10   6931   7.467479\n",
       "3          2   42806.04   3506  12.209367\n",
       "4          1   20833.27   2899   7.186364\n",
       "5         10    5822.49   1329   4.381106\n",
       "6          9    5517.49   1088   5.071222"
      ]
     },
     "execution_count": 43,
     "metadata": {},
     "output_type": "execute_result"
    }
   ],
   "source": [
    "visits_by_source  = visits.sort_values(by = ['uid', 'start_ts']).groupby('uid').agg({'source_id': 'first', \n",
    "                                                                         'session_month': 'first'})\n",
    "orders_by_source = visits_by_source.merge(orders, on = 'uid', how = 'inner')\n",
    "orders_by_source = orders_by_source.groupby('source_id').agg({'uid':'nunique'}).reset_index().rename(columns={'uid':'users'})\n",
    "costs_by_source = costs_by_source.merge(orders_by_source, on = 'source_id')\n",
    "costs_by_source['cac'] = costs_by_source['costs'] / costs_by_source['users']\n",
    "costs_by_source"
   ]
  },
  {
   "cell_type": "code",
   "execution_count": 44,
   "metadata": {},
   "outputs": [
    {
     "data": {
      "image/png": "[encoded data removed]",
      "text/plain": [
       "<Figure size 1080x360 with 1 Axes>"
      ]
     },
     "metadata": {},
     "output_type": "display_data"
    }
   ],
   "source": [
    "plt.figure(figsize = (15, 5))\n",
    "ax = sns.barplot(x=\"source_id\", y=\"cac\", data=costs_by_source)\n",
    "plt.title('CAC по источнику')\n",
    "ax.set_xlabel('Тип источника')\n",
    "ax.set_ylabel('Стоимость привлечения')\n",
    "plt.show()"
   ]
  },
  {
   "cell_type": "code",
   "execution_count": 45,
   "metadata": {},
   "outputs": [
    {
     "name": "stdout",
     "output_type": "stream",
     "text": [
      "CAC для всего проекта 9.01\n"
     ]
    }
   ],
   "source": [
    "total_cac = costs_by_source['costs'].sum() / costs_by_source['users'].sum()\n",
    "print('CAC для всего проекта {:.2f}'.format(total_cac))"
   ]
  },
  {
   "cell_type": "markdown",
   "metadata": {},
   "source": [
    "**Выводы:**\n",
    "Самые большие расходы на привлечение по источнику 3, этот же источник привлек больше остальных пользователей.\n",
    "Затем по расходам источник 2, стоит отметить, что из этого источника привлечено в два раза меньше пользователей, чем с помощью источника 3, но есть и другие источники, расходы по которым меньше, а клиентов привлечено больше. "
   ]
  },
  {
   "cell_type": "markdown",
   "metadata": {},
   "source": [
    "### Расчёт ROMI"
   ]
  },
  {
   "cell_type": "markdown",
   "metadata": {},
   "source": [
    "Рассчитаю ROMI"
   ]
  },
  {
   "cell_type": "code",
   "execution_count": 46,
   "metadata": {},
   "outputs": [],
   "source": [
    "sources = visits.sort_values(by = ['uid', 'start_ts']).groupby('uid').agg({'source_id': 'first'}).reset_index()\n",
    "ltv = first_orders.merge(sources, on = 'uid')\n",
    "ltv = ltv.merge(orders, on = 'uid')\n",
    "ltv['lifetime'] = ((ltv['buy_ts'] - ltv['first_order_month']) / np.timedelta64(1,'M')).round().astype(int)\n",
    "report_ltv = ltv.groupby(['lifetime','source_id']).agg({'uid':'nunique', 'revenue': 'sum' }).reset_index()\n",
    "report_ltv.columns = ['lifetime', 'source_id', 'n_buyers', 'revenue']"
   ]
  },
  {
   "cell_type": "code",
   "execution_count": 47,
   "metadata": {},
   "outputs": [],
   "source": [
    "report_ltv_n_buyers = report_ltv.groupby('source_id').agg({'n_buyers':'sum'}).reset_index()\n",
    "report_ltv_n_buyers.columns = ['source_id', 'n_buyers_sum']"
   ]
  },
  {
   "cell_type": "code",
   "execution_count": 48,
   "metadata": {},
   "outputs": [],
   "source": [
    "report_ltv['gp'] = report_ltv ['revenue'] * margin_rate"
   ]
  },
  {
   "cell_type": "code",
   "execution_count": 49,
   "metadata": {},
   "outputs": [],
   "source": [
    "report_ltv = report_ltv.merge(report_ltv_n_buyers, on='source_id')"
   ]
  },
  {
   "cell_type": "code",
   "execution_count": 50,
   "metadata": {},
   "outputs": [
    {
     "data": {
      "text/html": [
       "<div>\n",
       "<style scoped>\n",
       "    .dataframe tbody tr th:only-of-type {\n",
       "        vertical-align: middle;\n",
       "    }\n",
       "\n",
       "    .dataframe tbody tr th {\n",
       "        vertical-align: top;\n",
       "    }\n",
       "\n",
       "    .dataframe thead th {\n",
       "        text-align: right;\n",
       "    }\n",
       "</style>\n",
       "<table border=\"1\" class=\"dataframe\">\n",
       "  <thead>\n",
       "    <tr style=\"text-align: right;\">\n",
       "      <th>lifetime</th>\n",
       "      <th>0</th>\n",
       "      <th>1</th>\n",
       "      <th>2</th>\n",
       "      <th>3</th>\n",
       "      <th>4</th>\n",
       "      <th>5</th>\n",
       "      <th>6</th>\n",
       "      <th>7</th>\n",
       "      <th>8</th>\n",
       "      <th>9</th>\n",
       "      <th>10</th>\n",
       "      <th>11</th>\n",
       "      <th>12</th>\n",
       "    </tr>\n",
       "    <tr>\n",
       "      <th>source_id</th>\n",
       "      <th></th>\n",
       "      <th></th>\n",
       "      <th></th>\n",
       "      <th></th>\n",
       "      <th></th>\n",
       "      <th></th>\n",
       "      <th></th>\n",
       "      <th></th>\n",
       "      <th></th>\n",
       "      <th></th>\n",
       "      <th></th>\n",
       "      <th></th>\n",
       "      <th></th>\n",
       "    </tr>\n",
       "  </thead>\n",
       "  <tbody>\n",
       "    <tr>\n",
       "      <td>1</td>\n",
       "      <td>2.0</td>\n",
       "      <td>3.0</td>\n",
       "      <td>1.0</td>\n",
       "      <td>1.0</td>\n",
       "      <td>1.0</td>\n",
       "      <td>0.0</td>\n",
       "      <td>0.0</td>\n",
       "      <td>0.0</td>\n",
       "      <td>0.0</td>\n",
       "      <td>0.0</td>\n",
       "      <td>0.0</td>\n",
       "      <td>0.0</td>\n",
       "      <td>0.0</td>\n",
       "    </tr>\n",
       "    <tr>\n",
       "      <td>2</td>\n",
       "      <td>2.0</td>\n",
       "      <td>4.0</td>\n",
       "      <td>1.0</td>\n",
       "      <td>1.0</td>\n",
       "      <td>1.0</td>\n",
       "      <td>1.0</td>\n",
       "      <td>0.0</td>\n",
       "      <td>0.0</td>\n",
       "      <td>0.0</td>\n",
       "      <td>0.0</td>\n",
       "      <td>0.0</td>\n",
       "      <td>0.0</td>\n",
       "      <td>0.0</td>\n",
       "    </tr>\n",
       "    <tr>\n",
       "      <td>3</td>\n",
       "      <td>2.0</td>\n",
       "      <td>2.0</td>\n",
       "      <td>0.0</td>\n",
       "      <td>0.0</td>\n",
       "      <td>0.0</td>\n",
       "      <td>0.0</td>\n",
       "      <td>0.0</td>\n",
       "      <td>0.0</td>\n",
       "      <td>0.0</td>\n",
       "      <td>0.0</td>\n",
       "      <td>0.0</td>\n",
       "      <td>0.0</td>\n",
       "      <td>0.0</td>\n",
       "    </tr>\n",
       "    <tr>\n",
       "      <td>4</td>\n",
       "      <td>2.0</td>\n",
       "      <td>2.0</td>\n",
       "      <td>0.0</td>\n",
       "      <td>0.0</td>\n",
       "      <td>0.0</td>\n",
       "      <td>0.0</td>\n",
       "      <td>0.0</td>\n",
       "      <td>0.0</td>\n",
       "      <td>0.0</td>\n",
       "      <td>0.0</td>\n",
       "      <td>0.0</td>\n",
       "      <td>0.0</td>\n",
       "      <td>0.0</td>\n",
       "    </tr>\n",
       "    <tr>\n",
       "      <td>5</td>\n",
       "      <td>2.0</td>\n",
       "      <td>3.0</td>\n",
       "      <td>0.0</td>\n",
       "      <td>1.0</td>\n",
       "      <td>0.0</td>\n",
       "      <td>0.0</td>\n",
       "      <td>0.0</td>\n",
       "      <td>0.0</td>\n",
       "      <td>0.0</td>\n",
       "      <td>0.0</td>\n",
       "      <td>0.0</td>\n",
       "      <td>0.0</td>\n",
       "      <td>0.0</td>\n",
       "    </tr>\n",
       "    <tr>\n",
       "      <td>7</td>\n",
       "      <td>NaN</td>\n",
       "      <td>1.0</td>\n",
       "      <td>NaN</td>\n",
       "      <td>NaN</td>\n",
       "      <td>NaN</td>\n",
       "      <td>NaN</td>\n",
       "      <td>NaN</td>\n",
       "      <td>NaN</td>\n",
       "      <td>NaN</td>\n",
       "      <td>NaN</td>\n",
       "      <td>NaN</td>\n",
       "      <td>NaN</td>\n",
       "      <td>NaN</td>\n",
       "    </tr>\n",
       "    <tr>\n",
       "      <td>9</td>\n",
       "      <td>1.0</td>\n",
       "      <td>2.0</td>\n",
       "      <td>0.0</td>\n",
       "      <td>0.0</td>\n",
       "      <td>0.0</td>\n",
       "      <td>0.0</td>\n",
       "      <td>0.0</td>\n",
       "      <td>0.0</td>\n",
       "      <td>0.0</td>\n",
       "      <td>0.0</td>\n",
       "      <td>0.0</td>\n",
       "      <td>0.0</td>\n",
       "      <td>NaN</td>\n",
       "    </tr>\n",
       "    <tr>\n",
       "      <td>10</td>\n",
       "      <td>1.0</td>\n",
       "      <td>2.0</td>\n",
       "      <td>0.0</td>\n",
       "      <td>0.0</td>\n",
       "      <td>0.0</td>\n",
       "      <td>0.0</td>\n",
       "      <td>0.0</td>\n",
       "      <td>0.0</td>\n",
       "      <td>0.0</td>\n",
       "      <td>0.0</td>\n",
       "      <td>0.0</td>\n",
       "      <td>NaN</td>\n",
       "      <td>NaN</td>\n",
       "    </tr>\n",
       "  </tbody>\n",
       "</table>\n",
       "</div>"
      ],
      "text/plain": [
       "lifetime    0    1    2    3    4    5    6    7    8    9    10   11   12\n",
       "source_id                                                                 \n",
       "1          2.0  3.0  1.0  1.0  1.0  0.0  0.0  0.0  0.0  0.0  0.0  0.0  0.0\n",
       "2          2.0  4.0  1.0  1.0  1.0  1.0  0.0  0.0  0.0  0.0  0.0  0.0  0.0\n",
       "3          2.0  2.0  0.0  0.0  0.0  0.0  0.0  0.0  0.0  0.0  0.0  0.0  0.0\n",
       "4          2.0  2.0  0.0  0.0  0.0  0.0  0.0  0.0  0.0  0.0  0.0  0.0  0.0\n",
       "5          2.0  3.0  0.0  1.0  0.0  0.0  0.0  0.0  0.0  0.0  0.0  0.0  0.0\n",
       "7          NaN  1.0  NaN  NaN  NaN  NaN  NaN  NaN  NaN  NaN  NaN  NaN  NaN\n",
       "9          1.0  2.0  0.0  0.0  0.0  0.0  0.0  0.0  0.0  0.0  0.0  0.0  NaN\n",
       "10         1.0  2.0  0.0  0.0  0.0  0.0  0.0  0.0  0.0  0.0  0.0  NaN  NaN"
      ]
     },
     "execution_count": 50,
     "metadata": {},
     "output_type": "execute_result"
    }
   ],
   "source": [
    "report_ltv['ltv'] = report_ltv['gp'] / report_ltv['n_buyers_sum']\n",
    "output_ltv = report_ltv.pivot_table(index = 'source_id', columns = 'lifetime', values='ltv', aggfunc='mean').round()\n",
    "output_ltv"
   ]
  },
  {
   "cell_type": "code",
   "execution_count": 51,
   "metadata": {
    "scrolled": true
   },
   "outputs": [
    {
     "data": {
      "text/html": [
       "<div>\n",
       "<style scoped>\n",
       "    .dataframe tbody tr th:only-of-type {\n",
       "        vertical-align: middle;\n",
       "    }\n",
       "\n",
       "    .dataframe tbody tr th {\n",
       "        vertical-align: top;\n",
       "    }\n",
       "\n",
       "    .dataframe thead th {\n",
       "        text-align: right;\n",
       "    }\n",
       "</style>\n",
       "<table border=\"1\" class=\"dataframe\">\n",
       "  <thead>\n",
       "    <tr style=\"text-align: right;\">\n",
       "      <th>lifetime</th>\n",
       "      <th>0</th>\n",
       "      <th>1</th>\n",
       "      <th>2</th>\n",
       "      <th>3</th>\n",
       "      <th>4</th>\n",
       "      <th>5</th>\n",
       "      <th>6</th>\n",
       "      <th>7</th>\n",
       "      <th>8</th>\n",
       "      <th>9</th>\n",
       "      <th>10</th>\n",
       "      <th>11</th>\n",
       "      <th>12</th>\n",
       "    </tr>\n",
       "    <tr>\n",
       "      <th>source_id</th>\n",
       "      <th></th>\n",
       "      <th></th>\n",
       "      <th></th>\n",
       "      <th></th>\n",
       "      <th></th>\n",
       "      <th></th>\n",
       "      <th></th>\n",
       "      <th></th>\n",
       "      <th></th>\n",
       "      <th></th>\n",
       "      <th></th>\n",
       "      <th></th>\n",
       "      <th></th>\n",
       "    </tr>\n",
       "  </thead>\n",
       "  <tbody>\n",
       "    <tr>\n",
       "      <td>1</td>\n",
       "      <td>0.33</td>\n",
       "      <td>0.80</td>\n",
       "      <td>0.87</td>\n",
       "      <td>0.98</td>\n",
       "      <td>1.05</td>\n",
       "      <td>1.09</td>\n",
       "      <td>1.11</td>\n",
       "      <td>1.15</td>\n",
       "      <td>1.19</td>\n",
       "      <td>1.22</td>\n",
       "      <td>1.24</td>\n",
       "      <td>1.26</td>\n",
       "      <td>1.27</td>\n",
       "    </tr>\n",
       "    <tr>\n",
       "      <td>2</td>\n",
       "      <td>0.16</td>\n",
       "      <td>0.50</td>\n",
       "      <td>0.58</td>\n",
       "      <td>0.68</td>\n",
       "      <td>0.77</td>\n",
       "      <td>0.84</td>\n",
       "      <td>0.86</td>\n",
       "      <td>0.87</td>\n",
       "      <td>0.89</td>\n",
       "      <td>0.89</td>\n",
       "      <td>0.90</td>\n",
       "      <td>0.9</td>\n",
       "      <td>0.91</td>\n",
       "    </tr>\n",
       "    <tr>\n",
       "      <td>3</td>\n",
       "      <td>0.13</td>\n",
       "      <td>0.31</td>\n",
       "      <td>0.32</td>\n",
       "      <td>0.33</td>\n",
       "      <td>0.34</td>\n",
       "      <td>0.34</td>\n",
       "      <td>0.34</td>\n",
       "      <td>0.34</td>\n",
       "      <td>0.35</td>\n",
       "      <td>0.35</td>\n",
       "      <td>0.35</td>\n",
       "      <td>0.35</td>\n",
       "      <td>0.35</td>\n",
       "    </tr>\n",
       "    <tr>\n",
       "      <td>4</td>\n",
       "      <td>0.32</td>\n",
       "      <td>0.72</td>\n",
       "      <td>0.73</td>\n",
       "      <td>0.75</td>\n",
       "      <td>0.77</td>\n",
       "      <td>0.78</td>\n",
       "      <td>0.81</td>\n",
       "      <td>0.82</td>\n",
       "      <td>0.83</td>\n",
       "      <td>0.83</td>\n",
       "      <td>0.83</td>\n",
       "      <td>0.84</td>\n",
       "      <td>0.84</td>\n",
       "    </tr>\n",
       "    <tr>\n",
       "      <td>5</td>\n",
       "      <td>0.25</td>\n",
       "      <td>0.61</td>\n",
       "      <td>0.63</td>\n",
       "      <td>0.79</td>\n",
       "      <td>0.84</td>\n",
       "      <td>0.87</td>\n",
       "      <td>0.89</td>\n",
       "      <td>0.90</td>\n",
       "      <td>0.91</td>\n",
       "      <td>0.92</td>\n",
       "      <td>0.92</td>\n",
       "      <td>0.92</td>\n",
       "      <td>0.92</td>\n",
       "    </tr>\n",
       "    <tr>\n",
       "      <td>9</td>\n",
       "      <td>0.28</td>\n",
       "      <td>0.63</td>\n",
       "      <td>0.67</td>\n",
       "      <td>0.71</td>\n",
       "      <td>0.73</td>\n",
       "      <td>0.75</td>\n",
       "      <td>0.78</td>\n",
       "      <td>0.79</td>\n",
       "      <td>0.80</td>\n",
       "      <td>0.82</td>\n",
       "      <td>0.82</td>\n",
       "      <td>0.82</td>\n",
       "      <td></td>\n",
       "    </tr>\n",
       "    <tr>\n",
       "      <td>10</td>\n",
       "      <td>0.32</td>\n",
       "      <td>0.69</td>\n",
       "      <td>0.70</td>\n",
       "      <td>0.70</td>\n",
       "      <td>0.71</td>\n",
       "      <td>0.71</td>\n",
       "      <td>0.71</td>\n",
       "      <td>0.72</td>\n",
       "      <td>0.72</td>\n",
       "      <td>0.72</td>\n",
       "      <td>0.72</td>\n",
       "      <td></td>\n",
       "      <td></td>\n",
       "    </tr>\n",
       "  </tbody>\n",
       "</table>\n",
       "</div>"
      ],
      "text/plain": [
       "lifetime     0     1     2     3     4     5     6     7     8     9     10  \\\n",
       "source_id                                                                     \n",
       "1          0.33  0.80  0.87  0.98  1.05  1.09  1.11  1.15  1.19  1.22  1.24   \n",
       "2          0.16  0.50  0.58  0.68  0.77  0.84  0.86  0.87  0.89  0.89  0.90   \n",
       "3          0.13  0.31  0.32  0.33  0.34  0.34  0.34  0.34  0.35  0.35  0.35   \n",
       "4          0.32  0.72  0.73  0.75  0.77  0.78  0.81  0.82  0.83  0.83  0.83   \n",
       "5          0.25  0.61  0.63  0.79  0.84  0.87  0.89  0.90  0.91  0.92  0.92   \n",
       "9          0.28  0.63  0.67  0.71  0.73  0.75  0.78  0.79  0.80  0.82  0.82   \n",
       "10         0.32  0.69  0.70  0.70  0.71  0.71  0.71  0.72  0.72  0.72  0.72   \n",
       "\n",
       "lifetime     11    12  \n",
       "source_id              \n",
       "1          1.26  1.27  \n",
       "2           0.9  0.91  \n",
       "3          0.35  0.35  \n",
       "4          0.84  0.84  \n",
       "5          0.92  0.92  \n",
       "9          0.82        \n",
       "10                     "
      ]
     },
     "execution_count": 51,
     "metadata": {},
     "output_type": "execute_result"
    }
   ],
   "source": [
    "romi = report_ltv.merge(costs_by_source, on = 'source_id')\n",
    "romi['romi'] = romi['ltv'] / romi['cac']\n",
    "output_romi = romi.pivot_table(\n",
    "    index='source_id', columns='lifetime', values='romi', aggfunc='mean'\n",
    ") \n",
    "output_romi = output_romi.cumsum(axis=1).round(2)\n",
    "output_romi.fillna('')"
   ]
  },
  {
   "cell_type": "code",
   "execution_count": 52,
   "metadata": {},
   "outputs": [
    {
     "data": {
      "image/png": "[encoded data removed]",
      "text/plain": [
       "<Figure size 1080x648 with 2 Axes>"
      ]
     },
     "metadata": {},
     "output_type": "display_data"
    }
   ],
   "source": [
    "plt.figure(figsize=(15, 9))\n",
    "plt.title('ROMI')\n",
    "sns.heatmap(output_romi, annot=True, fmt='.2f', linewidths=1, linecolor='gray'); "
   ]
  },
  {
   "cell_type": "markdown",
   "metadata": {},
   "source": [
    "**Выводы:** Быстрее остальных окупились расходы по источнику 1, источник с самыми большими расходами 3 не окупился в течении всего время, такая же ситуация с источником 10. \n",
    "Остальные источники окупаются, но не так быстро, как у источника 1. "
   ]
  },
  {
   "cell_type": "markdown",
   "metadata": {},
   "source": [
    "## Выводы:"
   ]
  },
  {
   "cell_type": "markdown",
   "metadata": {},
   "source": [
    "Невысокий показатель Retention Rate с первого месяца \"жизни\" каждой когорты. Необходимо работать над удержанием пользователей. \n",
    "Самая перспективная когорта 09-2017, на фоне прочих она выделилась в декабре."
   ]
  },
  {
   "cell_type": "markdown",
   "metadata": {},
   "source": [
    "Больше всего клиентов привлечено из источников 3 и 4, однако расходы по источнику 3 не окупаются, по источнику 4 расходы окупаются, но медленнее, чем по другим источникам.\n",
    "\n",
    "Источники 1, 2 и 5 привлекают меньше клиентов, однако у них хорошая окупаемость. "
   ]
  }
 ],
 "metadata": {
  "ExecuteTimeLog": [
   {
    "duration": 937,
    "start_time": "2021-09-13T06:28:43.640Z"
   },
   {
    "duration": 749,
    "start_time": "2021-09-13T06:28:44.579Z"
   },
   {
    "duration": 136,
    "start_time": "2021-09-13T06:28:45.331Z"
   },
   {
    "duration": 32,
    "start_time": "2021-09-13T06:29:39.940Z"
   },
   {
    "duration": 26,
    "start_time": "2021-09-13T06:29:40.658Z"
   },
   {
    "duration": 307,
    "start_time": "2021-09-14T05:37:34.240Z"
   },
   {
    "duration": 623,
    "start_time": "2021-09-14T05:37:39.648Z"
   },
   {
    "duration": 664,
    "start_time": "2021-09-14T05:37:40.273Z"
   },
   {
    "duration": 125,
    "start_time": "2021-09-14T05:37:40.939Z"
   },
   {
    "duration": 23,
    "start_time": "2021-09-14T05:37:41.066Z"
   },
   {
    "duration": 18,
    "start_time": "2021-09-14T05:37:41.091Z"
   },
   {
    "duration": 6807,
    "start_time": "2021-09-14T05:37:41.111Z"
   },
   {
    "duration": 286,
    "start_time": "2021-09-14T05:38:12.830Z"
   },
   {
    "duration": 263,
    "start_time": "2021-09-14T05:43:51.810Z"
   },
   {
    "duration": 17,
    "start_time": "2021-09-14T05:44:26.334Z"
   },
   {
    "duration": 212,
    "start_time": "2021-09-14T05:46:19.301Z"
   },
   {
    "duration": 204,
    "start_time": "2021-09-14T05:46:22.395Z"
   },
   {
    "duration": 649,
    "start_time": "2021-09-14T05:46:32.110Z"
   },
   {
    "duration": 679,
    "start_time": "2021-09-14T05:46:32.761Z"
   },
   {
    "duration": 134,
    "start_time": "2021-09-14T05:46:33.442Z"
   },
   {
    "duration": 25,
    "start_time": "2021-09-14T05:46:33.578Z"
   },
   {
    "duration": 39,
    "start_time": "2021-09-14T05:46:33.604Z"
   },
   {
    "duration": 232,
    "start_time": "2021-09-14T05:46:33.644Z"
   },
   {
    "duration": 7172,
    "start_time": "2021-09-14T05:46:33.878Z"
   },
   {
    "duration": 178,
    "start_time": "2021-09-14T05:47:05.944Z"
   },
   {
    "duration": 326,
    "start_time": "2021-09-14T05:47:44.931Z"
   },
   {
    "duration": 599,
    "start_time": "2021-09-14T05:48:05.798Z"
   },
   {
    "duration": 665,
    "start_time": "2021-09-14T05:48:06.399Z"
   },
   {
    "duration": 118,
    "start_time": "2021-09-14T05:48:07.066Z"
   },
   {
    "duration": 25,
    "start_time": "2021-09-14T05:48:07.186Z"
   },
   {
    "duration": 29,
    "start_time": "2021-09-14T05:48:07.213Z"
   },
   {
    "duration": 214,
    "start_time": "2021-09-14T05:48:07.244Z"
   },
   {
    "duration": 333,
    "start_time": "2021-09-14T05:48:07.460Z"
   },
   {
    "duration": 2,
    "start_time": "2021-09-14T05:48:14.304Z"
   },
   {
    "duration": 2,
    "start_time": "2021-09-14T05:48:19.022Z"
   },
   {
    "duration": 589,
    "start_time": "2021-09-14T05:48:24.900Z"
   },
   {
    "duration": 674,
    "start_time": "2021-09-14T05:48:25.491Z"
   },
   {
    "duration": 115,
    "start_time": "2021-09-14T05:48:26.167Z"
   },
   {
    "duration": 25,
    "start_time": "2021-09-14T05:48:26.284Z"
   },
   {
    "duration": 32,
    "start_time": "2021-09-14T05:48:26.310Z"
   },
   {
    "duration": 202,
    "start_time": "2021-09-14T05:48:26.343Z"
   },
   {
    "duration": 2,
    "start_time": "2021-09-14T05:48:26.547Z"
   },
   {
    "duration": 319,
    "start_time": "2021-09-14T05:48:26.550Z"
   },
   {
    "duration": 587,
    "start_time": "2021-09-14T05:48:38.655Z"
   },
   {
    "duration": 308,
    "start_time": "2021-09-14T05:55:48.406Z"
   },
   {
    "duration": 647,
    "start_time": "2021-09-14T05:55:53.118Z"
   },
   {
    "duration": 92,
    "start_time": "2021-09-14T05:55:53.767Z"
   },
   {
    "duration": 26,
    "start_time": "2021-09-14T05:55:54.397Z"
   },
   {
    "duration": 19,
    "start_time": "2021-09-14T05:55:54.846Z"
   },
   {
    "duration": 184,
    "start_time": "2021-09-14T05:55:55.700Z"
   },
   {
    "duration": 280,
    "start_time": "2021-09-14T05:55:59.084Z"
   },
   {
    "duration": 3,
    "start_time": "2021-09-14T05:56:03.789Z"
   },
   {
    "duration": 629,
    "start_time": "2021-09-14T05:56:09.124Z"
   },
   {
    "duration": 657,
    "start_time": "2021-09-14T05:56:09.755Z"
   },
   {
    "duration": 121,
    "start_time": "2021-09-14T05:56:10.414Z"
   },
   {
    "duration": 34,
    "start_time": "2021-09-14T05:56:10.542Z"
   },
   {
    "duration": 27,
    "start_time": "2021-09-14T05:56:10.578Z"
   },
   {
    "duration": 269,
    "start_time": "2021-09-14T05:56:10.607Z"
   },
   {
    "duration": 3,
    "start_time": "2021-09-14T05:56:10.878Z"
   },
   {
    "duration": 478,
    "start_time": "2021-09-14T05:56:10.883Z"
   },
   {
    "duration": 3,
    "start_time": "2021-09-14T05:56:29.603Z"
   },
   {
    "duration": 85,
    "start_time": "2021-09-14T05:57:03.885Z"
   },
   {
    "duration": 3,
    "start_time": "2021-09-14T05:57:04.740Z"
   },
   {
    "duration": 280,
    "start_time": "2021-09-14T05:57:14.669Z"
   },
   {
    "duration": 630,
    "start_time": "2021-09-14T05:57:22.068Z"
   },
   {
    "duration": 655,
    "start_time": "2021-09-14T05:57:22.700Z"
   },
   {
    "duration": 121,
    "start_time": "2021-09-14T05:57:23.357Z"
   },
   {
    "duration": 25,
    "start_time": "2021-09-14T05:57:23.480Z"
   },
   {
    "duration": 40,
    "start_time": "2021-09-14T05:57:23.506Z"
   },
   {
    "duration": 52,
    "start_time": "2021-09-14T05:57:23.548Z"
   },
   {
    "duration": 2,
    "start_time": "2021-09-14T05:57:23.602Z"
   },
   {
    "duration": 387,
    "start_time": "2021-09-14T05:57:23.606Z"
   },
   {
    "duration": 266,
    "start_time": "2021-09-14T05:57:39.036Z"
   },
   {
    "duration": 3,
    "start_time": "2021-09-14T05:57:39.584Z"
   },
   {
    "duration": 629,
    "start_time": "2021-09-14T05:57:55.832Z"
   },
   {
    "duration": 682,
    "start_time": "2021-09-14T05:57:56.463Z"
   },
   {
    "duration": 118,
    "start_time": "2021-09-14T05:57:57.147Z"
   },
   {
    "duration": 25,
    "start_time": "2021-09-14T05:57:57.267Z"
   },
   {
    "duration": 19,
    "start_time": "2021-09-14T05:57:57.293Z"
   },
   {
    "duration": 57,
    "start_time": "2021-09-14T05:57:57.341Z"
   },
   {
    "duration": 2,
    "start_time": "2021-09-14T05:57:57.400Z"
   },
   {
    "duration": 11,
    "start_time": "2021-09-14T05:57:57.404Z"
   },
   {
    "duration": 702,
    "start_time": "2021-09-14T05:58:37.581Z"
   },
   {
    "duration": 3,
    "start_time": "2021-09-14T05:58:38.502Z"
   },
   {
    "duration": 674,
    "start_time": "2021-09-14T05:58:45.237Z"
   },
   {
    "duration": 664,
    "start_time": "2021-09-14T05:58:45.913Z"
   },
   {
    "duration": 109,
    "start_time": "2021-09-14T05:58:46.579Z"
   },
   {
    "duration": 23,
    "start_time": "2021-09-14T05:58:46.690Z"
   },
   {
    "duration": 38,
    "start_time": "2021-09-14T05:58:46.715Z"
   },
   {
    "duration": 52,
    "start_time": "2021-09-14T05:58:46.754Z"
   },
   {
    "duration": 3,
    "start_time": "2021-09-14T05:58:46.807Z"
   },
   {
    "duration": 5,
    "start_time": "2021-09-14T05:58:46.812Z"
   },
   {
    "duration": 3,
    "start_time": "2021-09-14T05:58:49.964Z"
   },
   {
    "duration": 2,
    "start_time": "2021-09-14T05:58:54.897Z"
   },
   {
    "duration": 709,
    "start_time": "2021-09-14T05:59:02.356Z"
   },
   {
    "duration": 720,
    "start_time": "2021-09-14T05:59:03.067Z"
   },
   {
    "duration": 147,
    "start_time": "2021-09-14T05:59:03.789Z"
   },
   {
    "duration": 26,
    "start_time": "2021-09-14T05:59:03.941Z"
   },
   {
    "duration": 19,
    "start_time": "2021-09-14T05:59:03.969Z"
   },
   {
    "duration": 87,
    "start_time": "2021-09-14T05:59:03.990Z"
   },
   {
    "duration": 3,
    "start_time": "2021-09-14T05:59:04.079Z"
   },
   {
    "duration": 28,
    "start_time": "2021-09-14T05:59:04.084Z"
   },
   {
    "duration": 374,
    "start_time": "2021-09-14T05:59:10.604Z"
   },
   {
    "duration": 618,
    "start_time": "2021-09-14T05:59:22.370Z"
   },
   {
    "duration": 122,
    "start_time": "2021-09-14T06:00:24.814Z"
   },
   {
    "duration": 326,
    "start_time": "2021-09-14T06:00:28.986Z"
   },
   {
    "duration": 731,
    "start_time": "2021-09-14T06:00:34.294Z"
   },
   {
    "duration": 804,
    "start_time": "2021-09-14T06:00:35.028Z"
   },
   {
    "duration": 127,
    "start_time": "2021-09-14T06:00:35.834Z"
   },
   {
    "duration": 24,
    "start_time": "2021-09-14T06:00:35.963Z"
   },
   {
    "duration": 17,
    "start_time": "2021-09-14T06:00:35.988Z"
   },
   {
    "duration": 89,
    "start_time": "2021-09-14T06:00:36.007Z"
   },
   {
    "duration": 12,
    "start_time": "2021-09-14T06:00:36.098Z"
   },
   {
    "duration": 23,
    "start_time": "2021-09-14T06:00:36.111Z"
   },
   {
    "duration": 51,
    "start_time": "2021-09-14T06:00:52.366Z"
   },
   {
    "duration": 13,
    "start_time": "2021-09-14T06:00:53.141Z"
   },
   {
    "duration": 43,
    "start_time": "2021-09-14T06:01:15.463Z"
   },
   {
    "duration": 12,
    "start_time": "2021-09-14T06:01:15.911Z"
   },
   {
    "duration": 694,
    "start_time": "2021-09-14T06:01:25.595Z"
   },
   {
    "duration": 728,
    "start_time": "2021-09-14T06:01:26.292Z"
   },
   {
    "duration": 120,
    "start_time": "2021-09-14T06:01:27.024Z"
   },
   {
    "duration": 23,
    "start_time": "2021-09-14T06:01:27.146Z"
   },
   {
    "duration": 18,
    "start_time": "2021-09-14T06:01:27.171Z"
   },
   {
    "duration": 92,
    "start_time": "2021-09-14T06:01:27.190Z"
   },
   {
    "duration": 2,
    "start_time": "2021-09-14T06:01:27.283Z"
   },
   {
    "duration": 443,
    "start_time": "2021-09-14T06:02:13.740Z"
   },
   {
    "duration": 597,
    "start_time": "2021-09-14T06:05:05.502Z"
   },
   {
    "duration": 658,
    "start_time": "2021-09-14T06:05:06.101Z"
   },
   {
    "duration": 118,
    "start_time": "2021-09-14T06:05:06.761Z"
   },
   {
    "duration": 25,
    "start_time": "2021-09-14T06:05:06.881Z"
   },
   {
    "duration": 41,
    "start_time": "2021-09-14T06:05:06.908Z"
   },
   {
    "duration": 63,
    "start_time": "2021-09-14T06:05:06.951Z"
   },
   {
    "duration": 208,
    "start_time": "2021-09-14T06:05:07.016Z"
   },
   {
    "duration": 206,
    "start_time": "2021-09-14T06:05:07.226Z"
   },
   {
    "duration": 23,
    "start_time": "2021-09-14T06:05:07.435Z"
   },
   {
    "duration": 4,
    "start_time": "2021-09-14T06:05:07.461Z"
   },
   {
    "duration": 380,
    "start_time": "2021-09-14T06:49:19.138Z"
   },
   {
    "duration": 4,
    "start_time": "2021-09-14T06:49:35.174Z"
   },
   {
    "duration": 5,
    "start_time": "2021-09-14T06:49:47.742Z"
   },
   {
    "duration": 4,
    "start_time": "2021-09-14T06:50:14.668Z"
   },
   {
    "duration": 245,
    "start_time": "2021-09-14T06:53:42.749Z"
   },
   {
    "duration": 272,
    "start_time": "2021-09-14T06:53:59.405Z"
   },
   {
    "duration": 278,
    "start_time": "2021-09-14T06:54:07.170Z"
   },
   {
    "duration": 334,
    "start_time": "2021-09-15T06:02:35.444Z"
   },
   {
    "duration": 742,
    "start_time": "2021-09-15T06:02:45.329Z"
   },
   {
    "duration": 873,
    "start_time": "2021-09-15T06:02:46.074Z"
   },
   {
    "duration": 157,
    "start_time": "2021-09-15T06:02:46.950Z"
   },
   {
    "duration": 47,
    "start_time": "2021-09-15T06:02:47.111Z"
   },
   {
    "duration": 31,
    "start_time": "2021-09-15T06:02:47.161Z"
   },
   {
    "duration": 126,
    "start_time": "2021-09-15T06:02:47.195Z"
   },
   {
    "duration": 290,
    "start_time": "2021-09-15T06:02:47.324Z"
   },
   {
    "duration": 306,
    "start_time": "2021-09-15T06:02:47.618Z"
   },
   {
    "duration": 39,
    "start_time": "2021-09-15T06:02:47.928Z"
   },
   {
    "duration": 505,
    "start_time": "2021-09-15T06:02:47.971Z"
   },
   {
    "duration": 5,
    "start_time": "2021-09-15T06:02:48.478Z"
   },
   {
    "duration": 46,
    "start_time": "2021-09-15T06:02:48.485Z"
   },
   {
    "duration": 9,
    "start_time": "2021-09-15T06:02:57.857Z"
   },
   {
    "duration": 4,
    "start_time": "2021-09-15T06:11:22.422Z"
   },
   {
    "duration": 516,
    "start_time": "2021-09-15T06:29:35.747Z"
   },
   {
    "duration": 325,
    "start_time": "2021-09-15T06:29:41.513Z"
   },
   {
    "duration": 388,
    "start_time": "2021-09-15T06:29:48.375Z"
   },
   {
    "duration": 820,
    "start_time": "2021-09-15T06:30:08.681Z"
   },
   {
    "duration": 23,
    "start_time": "2021-09-15T06:30:18.800Z"
   },
   {
    "duration": 32,
    "start_time": "2021-09-15T06:30:25.447Z"
   },
   {
    "duration": 427,
    "start_time": "2021-09-15T06:31:26.968Z"
   },
   {
    "duration": 331,
    "start_time": "2021-09-15T06:31:39.567Z"
   },
   {
    "duration": 270,
    "start_time": "2021-09-15T06:31:44.312Z"
   },
   {
    "duration": 360,
    "start_time": "2021-09-15T06:32:26.557Z"
   },
   {
    "duration": 7,
    "start_time": "2021-09-15T06:32:37.680Z"
   },
   {
    "duration": 297,
    "start_time": "2021-09-15T06:32:50.382Z"
   },
   {
    "duration": 837,
    "start_time": "2021-09-15T06:32:55.934Z"
   },
   {
    "duration": 871,
    "start_time": "2021-09-15T06:32:56.775Z"
   },
   {
    "duration": 152,
    "start_time": "2021-09-15T06:32:57.649Z"
   },
   {
    "duration": 53,
    "start_time": "2021-09-15T06:32:57.803Z"
   },
   {
    "duration": 26,
    "start_time": "2021-09-15T06:32:57.858Z"
   },
   {
    "duration": 121,
    "start_time": "2021-09-15T06:32:57.887Z"
   },
   {
    "duration": 273,
    "start_time": "2021-09-15T06:32:58.010Z"
   },
   {
    "duration": 297,
    "start_time": "2021-09-15T06:32:58.286Z"
   },
   {
    "duration": 28,
    "start_time": "2021-09-15T06:32:58.585Z"
   },
   {
    "duration": 379,
    "start_time": "2021-09-15T06:32:58.616Z"
   },
   {
    "duration": 5,
    "start_time": "2021-09-15T06:32:58.998Z"
   },
   {
    "duration": 58,
    "start_time": "2021-09-15T06:32:59.006Z"
   },
   {
    "duration": 4,
    "start_time": "2021-09-15T06:32:59.066Z"
   },
   {
    "duration": 24,
    "start_time": "2021-09-15T06:32:59.073Z"
   },
   {
    "duration": 417,
    "start_time": "2021-09-15T06:32:59.100Z"
   },
   {
    "duration": 429,
    "start_time": "2021-09-15T06:34:27.736Z"
   },
   {
    "duration": 581,
    "start_time": "2021-09-15T06:34:36.548Z"
   },
   {
    "duration": 112,
    "start_time": "2021-09-15T06:34:44.284Z"
   },
   {
    "duration": 588,
    "start_time": "2021-09-15T06:34:48.500Z"
   },
   {
    "duration": 121,
    "start_time": "2021-09-15T06:34:52.706Z"
   },
   {
    "duration": 386,
    "start_time": "2021-09-15T06:34:57.141Z"
   },
   {
    "duration": 338,
    "start_time": "2021-09-15T06:35:01.824Z"
   },
   {
    "duration": 583,
    "start_time": "2021-09-15T06:35:07.602Z"
   },
   {
    "duration": 610,
    "start_time": "2021-09-15T06:35:30.389Z"
   },
   {
    "duration": 626,
    "start_time": "2021-09-15T06:35:37.358Z"
   },
   {
    "duration": 22,
    "start_time": "2021-09-15T06:35:52.815Z"
   },
   {
    "duration": 10,
    "start_time": "2021-09-15T06:36:25.420Z"
   },
   {
    "duration": 13,
    "start_time": "2021-09-15T06:36:40.062Z"
   },
   {
    "duration": 15,
    "start_time": "2021-09-15T06:37:04.564Z"
   },
   {
    "duration": 29,
    "start_time": "2021-09-15T06:37:15.927Z"
   },
   {
    "duration": 583,
    "start_time": "2021-09-15T06:37:16.693Z"
   },
   {
    "duration": 28,
    "start_time": "2021-09-15T06:37:18.077Z"
   },
   {
    "duration": 14,
    "start_time": "2021-09-15T06:37:20.837Z"
   },
   {
    "duration": 655,
    "start_time": "2021-09-15T06:37:26.315Z"
   },
   {
    "duration": 605,
    "start_time": "2021-09-15T06:37:30.847Z"
   },
   {
    "duration": 596,
    "start_time": "2021-09-15T06:37:37.487Z"
   },
   {
    "duration": 85,
    "start_time": "2021-09-15T06:50:56.577Z"
   },
   {
    "duration": 67,
    "start_time": "2021-09-15T06:51:05.311Z"
   },
   {
    "duration": 1325,
    "start_time": "2021-09-15T07:04:34.628Z"
   },
   {
    "duration": 92,
    "start_time": "2021-09-15T07:04:38.204Z"
   },
   {
    "duration": 291,
    "start_time": "2021-09-15T07:04:38.642Z"
   },
   {
    "duration": 407,
    "start_time": "2021-09-15T07:04:45.673Z"
   },
   {
    "duration": 265,
    "start_time": "2021-09-15T07:04:46.258Z"
   },
   {
    "duration": 56,
    "start_time": "2021-09-15T07:04:53.803Z"
   },
   {
    "duration": 392,
    "start_time": "2021-09-15T07:04:54.302Z"
   },
   {
    "duration": 300,
    "start_time": "2021-09-15T07:04:55.306Z"
   },
   {
    "duration": 6904,
    "start_time": "2021-09-15T07:05:15.860Z"
   },
   {
    "duration": -39,
    "start_time": "2021-09-15T07:05:22.807Z"
   },
   {
    "duration": 57,
    "start_time": "2021-09-15T07:06:02.389Z"
   },
   {
    "duration": 8712,
    "start_time": "2021-09-15T07:06:02.946Z"
   },
   {
    "duration": -33,
    "start_time": "2021-09-15T07:06:11.696Z"
   },
   {
    "duration": 125,
    "start_time": "2021-09-15T07:06:58.007Z"
   },
   {
    "duration": 107,
    "start_time": "2021-09-15T07:07:28.790Z"
   },
   {
    "duration": 122,
    "start_time": "2021-09-15T07:07:33.835Z"
   },
   {
    "duration": 155,
    "start_time": "2021-09-15T07:07:38.434Z"
   },
   {
    "duration": 158,
    "start_time": "2021-09-15T07:07:42.733Z"
   },
   {
    "duration": 515,
    "start_time": "2021-09-15T07:07:43.163Z"
   },
   {
    "duration": 3635,
    "start_time": "2021-09-15T07:08:12.258Z"
   },
   {
    "duration": -31,
    "start_time": "2021-09-15T07:08:15.927Z"
   },
   {
    "duration": 66,
    "start_time": "2021-09-15T07:08:25.343Z"
   },
   {
    "duration": 5408,
    "start_time": "2021-09-15T07:08:25.943Z"
   },
   {
    "duration": 774,
    "start_time": "2021-09-15T07:08:38.725Z"
   },
   {
    "duration": 861,
    "start_time": "2021-09-15T07:08:39.501Z"
   },
   {
    "duration": 158,
    "start_time": "2021-09-15T07:08:40.366Z"
   },
   {
    "duration": 49,
    "start_time": "2021-09-15T07:08:40.527Z"
   },
   {
    "duration": 27,
    "start_time": "2021-09-15T07:08:40.579Z"
   },
   {
    "duration": 122,
    "start_time": "2021-09-15T07:08:40.608Z"
   },
   {
    "duration": 294,
    "start_time": "2021-09-15T07:08:40.732Z"
   },
   {
    "duration": 300,
    "start_time": "2021-09-15T07:08:41.029Z"
   },
   {
    "duration": 41,
    "start_time": "2021-09-15T07:08:41.333Z"
   },
   {
    "duration": 390,
    "start_time": "2021-09-15T07:08:41.377Z"
   },
   {
    "duration": 6,
    "start_time": "2021-09-15T07:08:41.770Z"
   },
   {
    "duration": 45,
    "start_time": "2021-09-15T07:08:41.779Z"
   },
   {
    "duration": 4,
    "start_time": "2021-09-15T07:08:41.827Z"
   },
   {
    "duration": 32,
    "start_time": "2021-09-15T07:08:41.856Z"
   },
   {
    "duration": 684,
    "start_time": "2021-09-15T07:08:41.891Z"
   },
   {
    "duration": 27,
    "start_time": "2021-09-15T07:08:42.577Z"
   },
   {
    "duration": 12,
    "start_time": "2021-09-15T07:08:42.606Z"
   },
   {
    "duration": 91,
    "start_time": "2021-09-15T07:08:42.620Z"
   },
   {
    "duration": 3836,
    "start_time": "2021-09-15T07:08:42.714Z"
   },
   {
    "duration": -42,
    "start_time": "2021-09-15T07:08:46.595Z"
   },
   {
    "duration": 158,
    "start_time": "2021-09-15T07:08:53.064Z"
   },
   {
    "duration": 460,
    "start_time": "2021-09-15T07:08:54.821Z"
   },
   {
    "duration": 476,
    "start_time": "2021-09-15T07:10:38.365Z"
   },
   {
    "duration": 269,
    "start_time": "2021-09-15T07:10:54.959Z"
   },
   {
    "duration": 256,
    "start_time": "2021-09-15T07:11:01.347Z"
   },
   {
    "duration": 540,
    "start_time": "2021-09-15T07:11:07.780Z"
   },
   {
    "duration": 456,
    "start_time": "2021-09-15T07:11:20.839Z"
   },
   {
    "duration": 158,
    "start_time": "2021-09-15T07:11:38.559Z"
   },
   {
    "duration": 3662,
    "start_time": "2021-09-15T07:11:48.036Z"
   },
   {
    "duration": 64,
    "start_time": "2021-09-15T07:11:57.114Z"
   },
   {
    "duration": 3763,
    "start_time": "2021-09-15T07:11:57.745Z"
   },
   {
    "duration": 3837,
    "start_time": "2021-09-15T07:12:12.044Z"
   },
   {
    "duration": 5122,
    "start_time": "2021-09-15T07:12:25.745Z"
   },
   {
    "duration": 144,
    "start_time": "2021-09-15T07:12:50.508Z"
   },
   {
    "duration": 358,
    "start_time": "2021-09-15T07:12:59.854Z"
   },
   {
    "duration": 469,
    "start_time": "2021-09-15T07:14:20.920Z"
   },
   {
    "duration": 758,
    "start_time": "2021-09-15T07:14:28.452Z"
   },
   {
    "duration": 846,
    "start_time": "2021-09-15T07:14:29.213Z"
   },
   {
    "duration": 157,
    "start_time": "2021-09-15T07:14:30.063Z"
   },
   {
    "duration": 52,
    "start_time": "2021-09-15T07:14:30.224Z"
   },
   {
    "duration": 29,
    "start_time": "2021-09-15T07:14:30.279Z"
   },
   {
    "duration": 124,
    "start_time": "2021-09-15T07:14:30.311Z"
   },
   {
    "duration": 294,
    "start_time": "2021-09-15T07:14:30.438Z"
   },
   {
    "duration": 293,
    "start_time": "2021-09-15T07:14:30.735Z"
   },
   {
    "duration": 43,
    "start_time": "2021-09-15T07:14:31.032Z"
   },
   {
    "duration": 413,
    "start_time": "2021-09-15T07:14:31.078Z"
   },
   {
    "duration": 6,
    "start_time": "2021-09-15T07:14:31.495Z"
   },
   {
    "duration": 93,
    "start_time": "2021-09-15T07:14:31.504Z"
   },
   {
    "duration": 5,
    "start_time": "2021-09-15T07:14:31.601Z"
   },
   {
    "duration": 52,
    "start_time": "2021-09-15T07:14:31.609Z"
   },
   {
    "duration": 701,
    "start_time": "2021-09-15T07:14:31.665Z"
   },
   {
    "duration": 28,
    "start_time": "2021-09-15T07:14:32.369Z"
   },
   {
    "duration": 12,
    "start_time": "2021-09-15T07:14:32.399Z"
   },
   {
    "duration": 91,
    "start_time": "2021-09-15T07:14:32.413Z"
   },
   {
    "duration": 272,
    "start_time": "2021-09-15T07:14:32.506Z"
   },
   {
    "duration": 35,
    "start_time": "2021-09-15T07:14:32.781Z"
   },
   {
    "duration": 4,
    "start_time": "2021-09-15T07:15:42.108Z"
   },
   {
    "duration": 45,
    "start_time": "2021-09-15T07:29:02.778Z"
   },
   {
    "duration": 17,
    "start_time": "2021-09-15T07:31:41.041Z"
   },
   {
    "duration": 18,
    "start_time": "2021-09-15T07:33:29.161Z"
   },
   {
    "duration": 168,
    "start_time": "2021-09-15T07:33:29.606Z"
   },
   {
    "duration": 11,
    "start_time": "2021-09-15T07:33:30.061Z"
   },
   {
    "duration": 28,
    "start_time": "2021-09-15T07:33:30.490Z"
   },
   {
    "duration": 24,
    "start_time": "2021-09-15T07:33:40.782Z"
   },
   {
    "duration": 398,
    "start_time": "2021-09-15T07:34:07.230Z"
   },
   {
    "duration": 25,
    "start_time": "2021-09-15T07:34:11.665Z"
   },
   {
    "duration": 703,
    "start_time": "2021-09-15T07:34:37.389Z"
   },
   {
    "duration": 1255,
    "start_time": "2021-09-15T07:34:48.746Z"
   },
   {
    "duration": 352,
    "start_time": "2021-09-15T07:38:05.323Z"
   },
   {
    "duration": 8,
    "start_time": "2021-09-15T07:38:12.036Z"
   },
   {
    "duration": 99,
    "start_time": "2021-09-15T07:38:19.986Z"
   },
   {
    "duration": 8,
    "start_time": "2021-09-15T07:38:23.641Z"
   },
   {
    "duration": 1503,
    "start_time": "2021-09-15T13:04:00.634Z"
   },
   {
    "duration": 866,
    "start_time": "2021-09-15T13:04:02.140Z"
   },
   {
    "duration": 135,
    "start_time": "2021-09-15T13:04:03.009Z"
   },
   {
    "duration": 135,
    "start_time": "2021-09-15T13:04:03.147Z"
   },
   {
    "duration": 30,
    "start_time": "2021-09-15T13:04:03.287Z"
   },
   {
    "duration": 118,
    "start_time": "2021-09-15T13:04:03.320Z"
   },
   {
    "duration": 301,
    "start_time": "2021-09-15T13:04:03.440Z"
   },
   {
    "duration": 318,
    "start_time": "2021-09-15T13:04:03.745Z"
   },
   {
    "duration": 36,
    "start_time": "2021-09-15T13:04:04.066Z"
   },
   {
    "duration": 369,
    "start_time": "2021-09-15T13:04:04.105Z"
   },
   {
    "duration": 5,
    "start_time": "2021-09-15T13:04:04.477Z"
   },
   {
    "duration": 49,
    "start_time": "2021-09-15T13:04:04.484Z"
   },
   {
    "duration": 5,
    "start_time": "2021-09-15T13:04:04.536Z"
   },
   {
    "duration": 68,
    "start_time": "2021-09-15T13:04:04.543Z"
   },
   {
    "duration": 581,
    "start_time": "2021-09-15T13:04:04.613Z"
   },
   {
    "duration": 38,
    "start_time": "2021-09-15T13:04:05.197Z"
   },
   {
    "duration": 14,
    "start_time": "2021-09-15T13:04:05.238Z"
   },
   {
    "duration": 87,
    "start_time": "2021-09-15T13:04:05.255Z"
   },
   {
    "duration": 296,
    "start_time": "2021-09-15T13:04:05.344Z"
   },
   {
    "duration": 14,
    "start_time": "2021-09-15T13:04:05.643Z"
   },
   {
    "duration": 191,
    "start_time": "2021-09-15T13:04:05.659Z"
   },
   {
    "duration": 8,
    "start_time": "2021-09-15T13:04:05.853Z"
   },
   {
    "duration": 41,
    "start_time": "2021-09-15T13:04:05.867Z"
   },
   {
    "duration": 1262,
    "start_time": "2021-09-15T13:04:05.911Z"
   },
   {
    "duration": 11,
    "start_time": "2021-09-15T13:04:07.183Z"
   },
   {
    "duration": 653,
    "start_time": "2021-09-15T13:54:11.985Z"
   },
   {
    "duration": 1516,
    "start_time": "2021-09-15T13:54:22.962Z"
   },
   {
    "duration": 845,
    "start_time": "2021-09-15T13:54:24.480Z"
   },
   {
    "duration": 153,
    "start_time": "2021-09-15T13:54:25.329Z"
   },
   {
    "duration": 36,
    "start_time": "2021-09-15T13:54:25.485Z"
   },
   {
    "duration": 69,
    "start_time": "2021-09-15T13:54:25.524Z"
   },
   {
    "duration": 121,
    "start_time": "2021-09-15T13:54:25.596Z"
   },
   {
    "duration": 267,
    "start_time": "2021-09-15T13:54:25.720Z"
   },
   {
    "duration": 292,
    "start_time": "2021-09-15T13:54:25.990Z"
   },
   {
    "duration": 29,
    "start_time": "2021-09-15T13:54:26.288Z"
   },
   {
    "duration": 439,
    "start_time": "2021-09-15T13:54:26.320Z"
   },
   {
    "duration": 6,
    "start_time": "2021-09-15T13:54:26.761Z"
   },
   {
    "duration": 47,
    "start_time": "2021-09-15T13:54:26.783Z"
   },
   {
    "duration": 35,
    "start_time": "2021-09-15T13:54:26.832Z"
   },
   {
    "duration": 33,
    "start_time": "2021-09-15T13:54:26.870Z"
   },
   {
    "duration": 608,
    "start_time": "2021-09-15T13:54:26.906Z"
   },
   {
    "duration": 28,
    "start_time": "2021-09-15T13:54:27.517Z"
   },
   {
    "duration": 42,
    "start_time": "2021-09-15T13:54:27.547Z"
   },
   {
    "duration": 57,
    "start_time": "2021-09-15T13:54:27.591Z"
   },
   {
    "duration": 383,
    "start_time": "2021-09-15T13:54:27.651Z"
   },
   {
    "duration": 20,
    "start_time": "2021-09-15T13:54:28.037Z"
   },
   {
    "duration": 196,
    "start_time": "2021-09-15T13:54:28.060Z"
   },
   {
    "duration": 7,
    "start_time": "2021-09-15T13:54:28.259Z"
   },
   {
    "duration": 40,
    "start_time": "2021-09-15T13:54:28.268Z"
   },
   {
    "duration": 1341,
    "start_time": "2021-09-15T13:54:28.310Z"
   },
   {
    "duration": 27,
    "start_time": "2021-09-15T13:54:29.654Z"
   },
   {
    "duration": 639,
    "start_time": "2021-09-15T13:54:29.684Z"
   },
   {
    "duration": 491,
    "start_time": "2021-09-15T13:55:05.244Z"
   },
   {
    "duration": 113,
    "start_time": "2021-09-15T13:55:17.152Z"
   },
   {
    "duration": 504,
    "start_time": "2021-09-15T13:55:21.257Z"
   },
   {
    "duration": 1630,
    "start_time": "2021-09-15T13:56:32.249Z"
   },
   {
    "duration": 1963,
    "start_time": "2021-09-15T13:56:37.286Z"
   },
   {
    "duration": 1520,
    "start_time": "2021-09-15T13:56:44.149Z"
   },
   {
    "duration": 814,
    "start_time": "2021-09-15T13:56:45.672Z"
   },
   {
    "duration": 157,
    "start_time": "2021-09-15T13:56:46.492Z"
   },
   {
    "duration": 67,
    "start_time": "2021-09-15T13:56:46.652Z"
   },
   {
    "duration": 34,
    "start_time": "2021-09-15T13:56:46.722Z"
   },
   {
    "duration": 1825,
    "start_time": "2021-09-15T13:56:46.782Z"
   },
   {
    "duration": 1170,
    "start_time": "2021-09-15T13:56:47.441Z"
   },
   {
    "duration": 1170,
    "start_time": "2021-09-15T13:56:47.442Z"
   },
   {
    "duration": 1171,
    "start_time": "2021-09-15T13:56:47.443Z"
   },
   {
    "duration": 1167,
    "start_time": "2021-09-15T13:56:47.448Z"
   },
   {
    "duration": 1166,
    "start_time": "2021-09-15T13:56:47.451Z"
   },
   {
    "duration": 1166,
    "start_time": "2021-09-15T13:56:47.452Z"
   },
   {
    "duration": 1165,
    "start_time": "2021-09-15T13:56:47.454Z"
   },
   {
    "duration": 1166,
    "start_time": "2021-09-15T13:56:47.455Z"
   },
   {
    "duration": 1166,
    "start_time": "2021-09-15T13:56:47.456Z"
   },
   {
    "duration": 1163,
    "start_time": "2021-09-15T13:56:47.460Z"
   },
   {
    "duration": 1161,
    "start_time": "2021-09-15T13:56:47.463Z"
   },
   {
    "duration": 1161,
    "start_time": "2021-09-15T13:56:47.464Z"
   },
   {
    "duration": 1157,
    "start_time": "2021-09-15T13:56:47.470Z"
   },
   {
    "duration": 1152,
    "start_time": "2021-09-15T13:56:47.476Z"
   },
   {
    "duration": 1151,
    "start_time": "2021-09-15T13:56:47.478Z"
   },
   {
    "duration": 1151,
    "start_time": "2021-09-15T13:56:47.479Z"
   },
   {
    "duration": 1150,
    "start_time": "2021-09-15T13:56:47.481Z"
   },
   {
    "duration": 1130,
    "start_time": "2021-09-15T13:56:47.502Z"
   },
   {
    "duration": 1127,
    "start_time": "2021-09-15T13:56:47.506Z"
   },
   {
    "duration": 1124,
    "start_time": "2021-09-15T13:56:47.510Z"
   },
   {
    "duration": 1631,
    "start_time": "2021-09-15T13:57:23.151Z"
   },
   {
    "duration": 843,
    "start_time": "2021-09-15T13:57:24.785Z"
   },
   {
    "duration": 138,
    "start_time": "2021-09-15T13:57:25.631Z"
   },
   {
    "duration": 36,
    "start_time": "2021-09-15T13:57:25.784Z"
   },
   {
    "duration": 60,
    "start_time": "2021-09-15T13:57:25.822Z"
   },
   {
    "duration": 104,
    "start_time": "2021-09-15T13:57:25.884Z"
   },
   {
    "duration": 261,
    "start_time": "2021-09-15T13:57:25.991Z"
   },
   {
    "duration": 288,
    "start_time": "2021-09-15T13:57:26.256Z"
   },
   {
    "duration": 46,
    "start_time": "2021-09-15T13:57:26.547Z"
   },
   {
    "duration": 386,
    "start_time": "2021-09-15T13:57:26.596Z"
   },
   {
    "duration": 7,
    "start_time": "2021-09-15T13:57:26.985Z"
   },
   {
    "duration": 47,
    "start_time": "2021-09-15T13:57:26.995Z"
   },
   {
    "duration": 41,
    "start_time": "2021-09-15T13:57:27.045Z"
   },
   {
    "duration": 32,
    "start_time": "2021-09-15T13:57:27.089Z"
   },
   {
    "duration": 615,
    "start_time": "2021-09-15T13:57:27.124Z"
   },
   {
    "duration": 44,
    "start_time": "2021-09-15T13:57:27.742Z"
   },
   {
    "duration": 13,
    "start_time": "2021-09-15T13:57:27.789Z"
   },
   {
    "duration": 85,
    "start_time": "2021-09-15T13:57:27.804Z"
   },
   {
    "duration": 290,
    "start_time": "2021-09-15T13:57:27.892Z"
   },
   {
    "duration": 18,
    "start_time": "2021-09-15T13:57:28.185Z"
   },
   {
    "duration": 196,
    "start_time": "2021-09-15T13:57:28.205Z"
   },
   {
    "duration": 9,
    "start_time": "2021-09-15T13:57:28.404Z"
   },
   {
    "duration": 30,
    "start_time": "2021-09-15T13:57:28.419Z"
   },
   {
    "duration": 1290,
    "start_time": "2021-09-15T13:57:28.451Z"
   },
   {
    "duration": 8,
    "start_time": "2021-09-15T13:57:29.743Z"
   },
   {
    "duration": 7119,
    "start_time": "2021-09-15T13:57:29.754Z"
   },
   {
    "duration": 6475,
    "start_time": "2021-09-15T13:59:06.369Z"
   },
   {
    "duration": 1596,
    "start_time": "2021-09-15T14:00:06.851Z"
   },
   {
    "duration": 811,
    "start_time": "2021-09-15T14:00:08.450Z"
   },
   {
    "duration": 138,
    "start_time": "2021-09-15T14:00:09.264Z"
   },
   {
    "duration": 34,
    "start_time": "2021-09-15T14:00:09.405Z"
   },
   {
    "duration": 59,
    "start_time": "2021-09-15T14:00:09.441Z"
   },
   {
    "duration": 116,
    "start_time": "2021-09-15T14:00:09.502Z"
   },
   {
    "duration": 283,
    "start_time": "2021-09-15T14:00:09.620Z"
   },
   {
    "duration": 290,
    "start_time": "2021-09-15T14:00:09.908Z"
   },
   {
    "duration": 32,
    "start_time": "2021-09-15T14:00:10.201Z"
   },
   {
    "duration": 407,
    "start_time": "2021-09-15T14:00:10.236Z"
   },
   {
    "duration": 7,
    "start_time": "2021-09-15T14:00:10.645Z"
   },
   {
    "duration": 63,
    "start_time": "2021-09-15T14:00:10.655Z"
   },
   {
    "duration": 20,
    "start_time": "2021-09-15T14:00:10.720Z"
   },
   {
    "duration": 43,
    "start_time": "2021-09-15T14:00:10.742Z"
   },
   {
    "duration": 573,
    "start_time": "2021-09-15T14:00:10.788Z"
   },
   {
    "duration": 42,
    "start_time": "2021-09-15T14:00:11.363Z"
   },
   {
    "duration": 45,
    "start_time": "2021-09-15T14:00:11.407Z"
   },
   {
    "duration": 59,
    "start_time": "2021-09-15T14:00:11.454Z"
   },
   {
    "duration": 290,
    "start_time": "2021-09-15T14:00:11.516Z"
   },
   {
    "duration": 16,
    "start_time": "2021-09-15T14:00:11.809Z"
   },
   {
    "duration": 190,
    "start_time": "2021-09-15T14:00:11.827Z"
   },
   {
    "duration": 7,
    "start_time": "2021-09-15T14:00:12.019Z"
   },
   {
    "duration": 29,
    "start_time": "2021-09-15T14:00:12.031Z"
   },
   {
    "duration": 1248,
    "start_time": "2021-09-15T14:00:12.084Z"
   },
   {
    "duration": 8,
    "start_time": "2021-09-15T14:00:13.334Z"
   },
   {
    "duration": 257,
    "start_time": "2021-09-15T14:00:13.344Z"
   },
   {
    "duration": 220,
    "start_time": "2021-09-15T14:01:08.148Z"
   },
   {
    "duration": 219,
    "start_time": "2021-09-15T14:01:13.850Z"
   },
   {
    "duration": 222,
    "start_time": "2021-09-15T14:01:19.512Z"
   },
   {
    "duration": 206,
    "start_time": "2021-09-15T14:01:56.712Z"
   },
   {
    "duration": 618,
    "start_time": "2021-09-15T14:02:20.639Z"
   },
   {
    "duration": 47,
    "start_time": "2021-09-15T14:17:20.295Z"
   },
   {
    "duration": 65,
    "start_time": "2021-09-15T14:17:24.596Z"
   },
   {
    "duration": 526,
    "start_time": "2021-09-15T14:22:19.840Z"
   },
   {
    "duration": 355,
    "start_time": "2021-09-15T14:22:29.929Z"
   },
   {
    "duration": 374,
    "start_time": "2021-09-15T14:22:48.581Z"
   },
   {
    "duration": 9,
    "start_time": "2021-09-15T14:25:20.992Z"
   },
   {
    "duration": 2181,
    "start_time": "2021-09-15T14:30:03.186Z"
   },
   {
    "duration": 360,
    "start_time": "2021-09-15T14:30:33.456Z"
   },
   {
    "duration": 2999,
    "start_time": "2021-09-15T14:30:45.564Z"
   },
   {
    "duration": 428,
    "start_time": "2021-09-15T14:31:16.840Z"
   },
   {
    "duration": 769,
    "start_time": "2021-09-15T14:31:17.337Z"
   },
   {
    "duration": 11,
    "start_time": "2021-09-15T14:33:58.549Z"
   },
   {
    "duration": 9,
    "start_time": "2021-09-15T14:34:09.588Z"
   },
   {
    "duration": 1609,
    "start_time": "2021-09-15T16:32:36.507Z"
   },
   {
    "duration": 915,
    "start_time": "2021-09-15T16:32:38.119Z"
   },
   {
    "duration": 142,
    "start_time": "2021-09-15T16:32:39.038Z"
   },
   {
    "duration": 53,
    "start_time": "2021-09-15T16:32:39.184Z"
   },
   {
    "duration": 30,
    "start_time": "2021-09-15T16:32:39.239Z"
   },
   {
    "duration": 124,
    "start_time": "2021-09-15T16:32:39.271Z"
   },
   {
    "duration": 287,
    "start_time": "2021-09-15T16:32:39.398Z"
   },
   {
    "duration": 283,
    "start_time": "2021-09-15T16:32:39.690Z"
   },
   {
    "duration": 43,
    "start_time": "2021-09-15T16:32:39.977Z"
   },
   {
    "duration": 386,
    "start_time": "2021-09-15T16:32:40.023Z"
   },
   {
    "duration": 7,
    "start_time": "2021-09-15T16:32:40.412Z"
   },
   {
    "duration": 46,
    "start_time": "2021-09-15T16:32:40.421Z"
   },
   {
    "duration": 4,
    "start_time": "2021-09-15T16:32:40.469Z"
   },
   {
    "duration": 75,
    "start_time": "2021-09-15T16:32:40.476Z"
   },
   {
    "duration": 557,
    "start_time": "2021-09-15T16:32:40.553Z"
   },
   {
    "duration": 30,
    "start_time": "2021-09-15T16:32:41.117Z"
   },
   {
    "duration": 14,
    "start_time": "2021-09-15T16:32:41.149Z"
   },
   {
    "duration": 85,
    "start_time": "2021-09-15T16:32:41.165Z"
   },
   {
    "duration": 281,
    "start_time": "2021-09-15T16:32:41.252Z"
   },
   {
    "duration": 15,
    "start_time": "2021-09-15T16:32:41.536Z"
   },
   {
    "duration": 179,
    "start_time": "2021-09-15T16:32:41.553Z"
   },
   {
    "duration": 7,
    "start_time": "2021-09-15T16:32:41.735Z"
   },
   {
    "duration": 28,
    "start_time": "2021-09-15T16:32:41.747Z"
   },
   {
    "duration": 1326,
    "start_time": "2021-09-15T16:32:41.778Z"
   },
   {
    "duration": 12,
    "start_time": "2021-09-15T16:32:43.106Z"
   },
   {
    "duration": 646,
    "start_time": "2021-09-15T16:32:43.120Z"
   },
   {
    "duration": 54,
    "start_time": "2021-09-15T16:32:43.769Z"
   },
   {
    "duration": 438,
    "start_time": "2021-09-15T16:32:43.826Z"
   },
   {
    "duration": 669,
    "start_time": "2021-09-15T16:32:44.266Z"
   },
   {
    "duration": 2956,
    "start_time": "2021-09-15T16:32:44.937Z"
   },
   {
    "duration": 19,
    "start_time": "2021-09-15T16:32:47.896Z"
   },
   {
    "duration": 464,
    "start_time": "2021-09-15T16:33:24.174Z"
   },
   {
    "duration": 25,
    "start_time": "2021-09-15T16:34:33.842Z"
   },
   {
    "duration": 256,
    "start_time": "2021-09-15T16:34:54.629Z"
   },
   {
    "duration": 425,
    "start_time": "2021-09-15T16:35:27.464Z"
   },
   {
    "duration": 14,
    "start_time": "2021-09-15T16:35:35.719Z"
   },
   {
    "duration": 13,
    "start_time": "2021-09-15T16:35:43.587Z"
   },
   {
    "duration": 451,
    "start_time": "2021-09-15T16:35:52.897Z"
   },
   {
    "duration": 545,
    "start_time": "2021-09-15T16:36:13.119Z"
   },
   {
    "duration": 15,
    "start_time": "2021-09-15T16:36:33.646Z"
   },
   {
    "duration": 450,
    "start_time": "2021-09-15T16:39:54.358Z"
   },
   {
    "duration": 594,
    "start_time": "2021-09-15T16:40:26.202Z"
   },
   {
    "duration": 309,
    "start_time": "2021-09-15T16:40:59.189Z"
   },
   {
    "duration": 3587,
    "start_time": "2021-09-15T16:41:10.674Z"
   },
   {
    "duration": 27,
    "start_time": "2021-09-15T16:41:46.996Z"
   },
   {
    "duration": 100,
    "start_time": "2021-09-15T16:53:05.933Z"
   },
   {
    "duration": 538,
    "start_time": "2021-09-15T16:53:11.321Z"
   },
   {
    "duration": 20,
    "start_time": "2021-09-15T16:53:36.431Z"
   },
   {
    "duration": 315,
    "start_time": "2021-09-15T16:53:50.556Z"
   },
   {
    "duration": 621,
    "start_time": "2021-09-15T16:54:08.915Z"
   },
   {
    "duration": 485,
    "start_time": "2021-09-15T16:54:36.554Z"
   },
   {
    "duration": 597,
    "start_time": "2021-09-15T16:54:46.773Z"
   },
   {
    "duration": 632,
    "start_time": "2021-09-15T16:55:07.907Z"
   },
   {
    "duration": 5,
    "start_time": "2021-09-15T16:55:18.497Z"
   },
   {
    "duration": 648,
    "start_time": "2021-09-15T16:55:39.820Z"
   },
   {
    "duration": 12,
    "start_time": "2021-09-15T16:55:49.511Z"
   },
   {
    "duration": 349,
    "start_time": "2021-09-15T16:56:06.112Z"
   },
   {
    "duration": 18,
    "start_time": "2021-09-15T16:56:12.758Z"
   },
   {
    "duration": 370,
    "start_time": "2021-09-15T17:15:57.068Z"
   },
   {
    "duration": 4,
    "start_time": "2021-09-15T17:16:01.886Z"
   },
   {
    "duration": 133,
    "start_time": "2021-09-15T17:16:02.547Z"
   },
   {
    "duration": 122,
    "start_time": "2021-09-15T17:18:37.028Z"
   },
   {
    "duration": 401,
    "start_time": "2021-09-16T14:49:29.590Z"
   },
   {
    "duration": 1489,
    "start_time": "2021-09-16T14:49:36.658Z"
   },
   {
    "duration": 811,
    "start_time": "2021-09-16T14:49:38.150Z"
   },
   {
    "duration": 137,
    "start_time": "2021-09-16T14:49:38.964Z"
   },
   {
    "duration": 32,
    "start_time": "2021-09-16T14:49:39.104Z"
   },
   {
    "duration": 45,
    "start_time": "2021-09-16T14:49:39.139Z"
   },
   {
    "duration": 101,
    "start_time": "2021-09-16T14:49:39.186Z"
   },
   {
    "duration": 261,
    "start_time": "2021-09-16T14:49:39.290Z"
   },
   {
    "duration": 293,
    "start_time": "2021-09-16T14:49:39.555Z"
   },
   {
    "duration": 29,
    "start_time": "2021-09-16T14:49:39.851Z"
   },
   {
    "duration": 377,
    "start_time": "2021-09-16T14:49:39.883Z"
   },
   {
    "duration": 5,
    "start_time": "2021-09-16T14:49:40.263Z"
   },
   {
    "duration": 41,
    "start_time": "2021-09-16T14:49:40.271Z"
   },
   {
    "duration": 4,
    "start_time": "2021-09-16T14:49:40.315Z"
   },
   {
    "duration": 58,
    "start_time": "2021-09-16T14:49:40.321Z"
   },
   {
    "duration": 567,
    "start_time": "2021-09-16T14:49:40.381Z"
   },
   {
    "duration": 33,
    "start_time": "2021-09-16T14:49:40.951Z"
   },
   {
    "duration": 12,
    "start_time": "2021-09-16T14:49:40.987Z"
   },
   {
    "duration": 79,
    "start_time": "2021-09-16T14:49:41.001Z"
   },
   {
    "duration": 285,
    "start_time": "2021-09-16T14:49:41.082Z"
   },
   {
    "duration": 15,
    "start_time": "2021-09-16T14:49:41.370Z"
   },
   {
    "duration": 181,
    "start_time": "2021-09-16T14:49:41.387Z"
   },
   {
    "duration": 8,
    "start_time": "2021-09-16T14:49:41.570Z"
   },
   {
    "duration": 28,
    "start_time": "2021-09-16T14:49:41.582Z"
   },
   {
    "duration": 1510,
    "start_time": "2021-09-16T14:49:41.612Z"
   },
   {
    "duration": 8,
    "start_time": "2021-09-16T14:49:43.125Z"
   },
   {
    "duration": 694,
    "start_time": "2021-09-16T14:49:43.136Z"
   },
   {
    "duration": 51,
    "start_time": "2021-09-16T14:49:43.833Z"
   },
   {
    "duration": 449,
    "start_time": "2021-09-16T14:49:43.886Z"
   },
   {
    "duration": 679,
    "start_time": "2021-09-16T14:49:44.338Z"
   },
   {
    "duration": 3404,
    "start_time": "2021-09-16T14:49:45.020Z"
   },
   {
    "duration": 8,
    "start_time": "2021-09-16T14:49:48.427Z"
   },
   {
    "duration": 44,
    "start_time": "2021-09-16T14:49:48.438Z"
   },
   {
    "duration": 634,
    "start_time": "2021-09-16T14:49:48.484Z"
   },
   {
    "duration": 4,
    "start_time": "2021-09-16T14:49:49.120Z"
   },
   {
    "duration": 150,
    "start_time": "2021-09-16T14:49:49.126Z"
   },
   {
    "duration": 6,
    "start_time": "2021-09-16T14:49:49.279Z"
   },
   {
    "duration": 14,
    "start_time": "2021-09-16T15:43:52.449Z"
   },
   {
    "duration": 480,
    "start_time": "2021-09-16T15:46:54.700Z"
   },
   {
    "duration": 349,
    "start_time": "2021-09-16T15:47:02.490Z"
   },
   {
    "duration": 1444,
    "start_time": "2021-09-16T15:47:08.201Z"
   },
   {
    "duration": 813,
    "start_time": "2021-09-16T15:47:09.648Z"
   },
   {
    "duration": 146,
    "start_time": "2021-09-16T15:47:10.464Z"
   },
   {
    "duration": 33,
    "start_time": "2021-09-16T15:47:10.613Z"
   },
   {
    "duration": 27,
    "start_time": "2021-09-16T15:47:10.662Z"
   },
   {
    "duration": 114,
    "start_time": "2021-09-16T15:47:10.692Z"
   },
   {
    "duration": 275,
    "start_time": "2021-09-16T15:47:10.808Z"
   },
   {
    "duration": 308,
    "start_time": "2021-09-16T15:47:11.088Z"
   },
   {
    "duration": 30,
    "start_time": "2021-09-16T15:47:11.399Z"
   },
   {
    "duration": 383,
    "start_time": "2021-09-16T15:47:11.432Z"
   },
   {
    "duration": 6,
    "start_time": "2021-09-16T15:47:11.817Z"
   },
   {
    "duration": 66,
    "start_time": "2021-09-16T15:47:11.826Z"
   },
   {
    "duration": 5,
    "start_time": "2021-09-16T15:47:11.895Z"
   },
   {
    "duration": 39,
    "start_time": "2021-09-16T15:47:11.903Z"
   },
   {
    "duration": 591,
    "start_time": "2021-09-16T15:47:11.945Z"
   },
   {
    "duration": 41,
    "start_time": "2021-09-16T15:47:12.540Z"
   },
   {
    "duration": 13,
    "start_time": "2021-09-16T15:47:12.583Z"
   },
   {
    "duration": 77,
    "start_time": "2021-09-16T15:47:12.599Z"
   },
   {
    "duration": 282,
    "start_time": "2021-09-16T15:47:12.679Z"
   },
   {
    "duration": 15,
    "start_time": "2021-09-16T15:47:12.964Z"
   },
   {
    "duration": 184,
    "start_time": "2021-09-16T15:47:12.981Z"
   },
   {
    "duration": 8,
    "start_time": "2021-09-16T15:47:13.167Z"
   },
   {
    "duration": 31,
    "start_time": "2021-09-16T15:47:13.180Z"
   },
   {
    "duration": 1270,
    "start_time": "2021-09-16T15:47:13.214Z"
   },
   {
    "duration": 7,
    "start_time": "2021-09-16T15:47:14.487Z"
   },
   {
    "duration": 648,
    "start_time": "2021-09-16T15:47:14.497Z"
   },
   {
    "duration": 59,
    "start_time": "2021-09-16T15:47:15.148Z"
   },
   {
    "duration": 485,
    "start_time": "2021-09-16T15:47:15.210Z"
   },
   {
    "duration": 731,
    "start_time": "2021-09-16T15:47:15.697Z"
   },
   {
    "duration": 2949,
    "start_time": "2021-09-16T15:47:16.430Z"
   },
   {
    "duration": 8,
    "start_time": "2021-09-16T15:47:19.381Z"
   },
   {
    "duration": 25,
    "start_time": "2021-09-16T15:47:19.392Z"
   },
   {
    "duration": 711,
    "start_time": "2021-09-16T15:47:19.420Z"
   },
   {
    "duration": 3,
    "start_time": "2021-09-16T15:47:20.134Z"
   },
   {
    "duration": 214,
    "start_time": "2021-09-16T15:47:20.142Z"
   },
   {
    "duration": 8,
    "start_time": "2021-09-16T15:47:20.363Z"
   },
   {
    "duration": 886,
    "start_time": "2021-09-16T15:47:20.374Z"
   },
   {
    "duration": 15,
    "start_time": "2021-09-16T15:47:29.291Z"
   },
   {
    "duration": 325,
    "start_time": "2021-09-16T15:48:03.601Z"
   },
   {
    "duration": 15,
    "start_time": "2021-09-16T15:48:13.034Z"
   },
   {
    "duration": 22,
    "start_time": "2021-09-16T15:49:43.005Z"
   },
   {
    "duration": 18,
    "start_time": "2021-09-16T15:50:28.339Z"
   },
   {
    "duration": 23,
    "start_time": "2021-09-16T15:50:39.365Z"
   },
   {
    "duration": 159,
    "start_time": "2021-09-16T15:50:56.933Z"
   },
   {
    "duration": 181,
    "start_time": "2021-09-16T15:51:23.832Z"
   },
   {
    "duration": 155,
    "start_time": "2021-09-16T15:52:15.055Z"
   },
   {
    "duration": 195,
    "start_time": "2021-09-16T15:53:26.555Z"
   },
   {
    "duration": 196,
    "start_time": "2021-09-16T15:53:56.216Z"
   },
   {
    "duration": 229,
    "start_time": "2021-09-16T15:54:02.365Z"
   },
   {
    "duration": 144,
    "start_time": "2021-09-16T15:54:46.193Z"
   },
   {
    "duration": 455,
    "start_time": "2021-09-16T15:54:55.056Z"
   },
   {
    "duration": 479,
    "start_time": "2021-09-16T15:55:05.373Z"
   },
   {
    "duration": 472,
    "start_time": "2021-09-16T15:55:26.905Z"
   },
   {
    "duration": 1508,
    "start_time": "2021-09-16T16:08:43.670Z"
   },
   {
    "duration": 834,
    "start_time": "2021-09-16T16:08:45.181Z"
   },
   {
    "duration": 145,
    "start_time": "2021-09-16T16:08:46.018Z"
   },
   {
    "duration": 38,
    "start_time": "2021-09-16T16:08:46.166Z"
   },
   {
    "duration": 62,
    "start_time": "2021-09-16T16:08:46.207Z"
   },
   {
    "duration": 97,
    "start_time": "2021-09-16T16:08:46.272Z"
   },
   {
    "duration": 279,
    "start_time": "2021-09-16T16:08:46.371Z"
   },
   {
    "duration": 278,
    "start_time": "2021-09-16T16:08:46.654Z"
   },
   {
    "duration": 39,
    "start_time": "2021-09-16T16:08:46.935Z"
   },
   {
    "duration": 390,
    "start_time": "2021-09-16T16:08:46.977Z"
   },
   {
    "duration": 5,
    "start_time": "2021-09-16T16:08:47.369Z"
   },
   {
    "duration": 50,
    "start_time": "2021-09-16T16:08:47.376Z"
   },
   {
    "duration": 12,
    "start_time": "2021-09-16T16:08:47.428Z"
   },
   {
    "duration": 45,
    "start_time": "2021-09-16T16:08:47.443Z"
   },
   {
    "duration": 573,
    "start_time": "2021-09-16T16:08:47.491Z"
   },
   {
    "duration": 28,
    "start_time": "2021-09-16T16:08:48.067Z"
   },
   {
    "duration": 13,
    "start_time": "2021-09-16T16:08:48.097Z"
   },
   {
    "duration": 90,
    "start_time": "2021-09-16T16:08:48.112Z"
   },
   {
    "duration": 388,
    "start_time": "2021-09-16T16:08:48.204Z"
   },
   {
    "duration": 15,
    "start_time": "2021-09-16T16:08:48.595Z"
   },
   {
    "duration": 188,
    "start_time": "2021-09-16T16:08:48.612Z"
   },
   {
    "duration": 8,
    "start_time": "2021-09-16T16:08:48.803Z"
   },
   {
    "duration": 50,
    "start_time": "2021-09-16T16:08:48.815Z"
   },
   {
    "duration": 1261,
    "start_time": "2021-09-16T16:08:48.868Z"
   },
   {
    "duration": 8,
    "start_time": "2021-09-16T16:08:50.132Z"
   },
   {
    "duration": 679,
    "start_time": "2021-09-16T16:08:50.142Z"
   },
   {
    "duration": 61,
    "start_time": "2021-09-16T16:08:50.823Z"
   },
   {
    "duration": 450,
    "start_time": "2021-09-16T16:08:50.887Z"
   },
   {
    "duration": 705,
    "start_time": "2021-09-16T16:08:51.339Z"
   },
   {
    "duration": 3202,
    "start_time": "2021-09-16T16:08:52.046Z"
   },
   {
    "duration": 18,
    "start_time": "2021-09-16T16:08:55.250Z"
   },
   {
    "duration": 34,
    "start_time": "2021-09-16T16:08:55.270Z"
   },
   {
    "duration": 668,
    "start_time": "2021-09-16T16:08:55.306Z"
   },
   {
    "duration": 3,
    "start_time": "2021-09-16T16:08:55.977Z"
   },
   {
    "duration": 151,
    "start_time": "2021-09-16T16:08:55.982Z"
   },
   {
    "duration": 6,
    "start_time": "2021-09-16T16:08:56.135Z"
   },
   {
    "duration": 32,
    "start_time": "2021-09-16T16:08:56.143Z"
   },
   {
    "duration": 485,
    "start_time": "2021-09-16T16:08:56.177Z"
   },
   {
    "duration": 401,
    "start_time": "2021-09-16T16:09:46.256Z"
   },
   {
    "duration": 1613,
    "start_time": "2021-09-16T16:09:54.040Z"
   },
   {
    "duration": 838,
    "start_time": "2021-09-16T16:09:55.656Z"
   },
   {
    "duration": 137,
    "start_time": "2021-09-16T16:09:56.497Z"
   },
   {
    "duration": 43,
    "start_time": "2021-09-16T16:09:56.636Z"
   },
   {
    "duration": 28,
    "start_time": "2021-09-16T16:09:56.683Z"
   },
   {
    "duration": 125,
    "start_time": "2021-09-16T16:09:56.714Z"
   },
   {
    "duration": 262,
    "start_time": "2021-09-16T16:09:56.841Z"
   },
   {
    "duration": 290,
    "start_time": "2021-09-16T16:09:57.107Z"
   },
   {
    "duration": 28,
    "start_time": "2021-09-16T16:09:57.400Z"
   },
   {
    "duration": 395,
    "start_time": "2021-09-16T16:09:57.430Z"
   },
   {
    "duration": 5,
    "start_time": "2021-09-16T16:09:57.827Z"
   },
   {
    "duration": 57,
    "start_time": "2021-09-16T16:09:57.835Z"
   },
   {
    "duration": 5,
    "start_time": "2021-09-16T16:09:57.895Z"
   },
   {
    "duration": 36,
    "start_time": "2021-09-16T16:09:57.902Z"
   },
   {
    "duration": 578,
    "start_time": "2021-09-16T16:09:57.940Z"
   },
   {
    "duration": 42,
    "start_time": "2021-09-16T16:09:58.521Z"
   },
   {
    "duration": 14,
    "start_time": "2021-09-16T16:09:58.565Z"
   },
   {
    "duration": 81,
    "start_time": "2021-09-16T16:09:58.581Z"
   },
   {
    "duration": 282,
    "start_time": "2021-09-16T16:09:58.664Z"
   },
   {
    "duration": 18,
    "start_time": "2021-09-16T16:09:58.949Z"
   },
   {
    "duration": 207,
    "start_time": "2021-09-16T16:09:58.970Z"
   },
   {
    "duration": 11,
    "start_time": "2021-09-16T16:09:59.180Z"
   },
   {
    "duration": 29,
    "start_time": "2021-09-16T16:09:59.198Z"
   },
   {
    "duration": 1291,
    "start_time": "2021-09-16T16:09:59.230Z"
   },
   {
    "duration": 9,
    "start_time": "2021-09-16T16:10:00.524Z"
   },
   {
    "duration": 681,
    "start_time": "2021-09-16T16:10:00.535Z"
   },
   {
    "duration": 63,
    "start_time": "2021-09-16T16:10:01.218Z"
   },
   {
    "duration": 460,
    "start_time": "2021-09-16T16:10:01.283Z"
   },
   {
    "duration": 694,
    "start_time": "2021-09-16T16:10:01.746Z"
   },
   {
    "duration": 2922,
    "start_time": "2021-09-16T16:10:02.443Z"
   },
   {
    "duration": 7,
    "start_time": "2021-09-16T16:10:05.367Z"
   },
   {
    "duration": 28,
    "start_time": "2021-09-16T16:10:05.376Z"
   },
   {
    "duration": 647,
    "start_time": "2021-09-16T16:10:05.407Z"
   },
   {
    "duration": 7,
    "start_time": "2021-09-16T16:10:06.056Z"
   },
   {
    "duration": 150,
    "start_time": "2021-09-16T16:10:06.066Z"
   },
   {
    "duration": 6,
    "start_time": "2021-09-16T16:10:06.219Z"
   },
   {
    "duration": 41,
    "start_time": "2021-09-16T16:10:06.228Z"
   },
   {
    "duration": 539,
    "start_time": "2021-09-16T16:10:06.271Z"
   },
   {
    "duration": 7,
    "start_time": "2021-09-16T16:10:06.812Z"
   },
   {
    "duration": 557,
    "start_time": "2021-09-16T16:10:24.912Z"
   },
   {
    "duration": 430,
    "start_time": "2021-09-16T16:10:33.273Z"
   },
   {
    "duration": 571,
    "start_time": "2021-09-16T16:11:10.870Z"
   },
   {
    "duration": 401,
    "start_time": "2021-09-16T16:12:56.376Z"
   },
   {
    "duration": 348,
    "start_time": "2021-09-16T16:14:27.323Z"
   },
   {
    "duration": 1461,
    "start_time": "2021-09-16T16:14:32.190Z"
   },
   {
    "duration": 798,
    "start_time": "2021-09-16T16:14:33.653Z"
   },
   {
    "duration": 138,
    "start_time": "2021-09-16T16:14:34.454Z"
   },
   {
    "duration": 33,
    "start_time": "2021-09-16T16:14:34.595Z"
   },
   {
    "duration": 52,
    "start_time": "2021-09-16T16:14:34.630Z"
   },
   {
    "duration": 101,
    "start_time": "2021-09-16T16:14:34.685Z"
   },
   {
    "duration": 254,
    "start_time": "2021-09-16T16:14:34.788Z"
   },
   {
    "duration": 286,
    "start_time": "2021-09-16T16:14:35.045Z"
   },
   {
    "duration": 40,
    "start_time": "2021-09-16T16:14:35.335Z"
   },
   {
    "duration": 377,
    "start_time": "2021-09-16T16:14:35.378Z"
   },
   {
    "duration": 6,
    "start_time": "2021-09-16T16:14:35.757Z"
   },
   {
    "duration": 53,
    "start_time": "2021-09-16T16:14:35.766Z"
   },
   {
    "duration": 29,
    "start_time": "2021-09-16T16:14:35.821Z"
   },
   {
    "duration": 37,
    "start_time": "2021-09-16T16:14:35.852Z"
   },
   {
    "duration": 548,
    "start_time": "2021-09-16T16:14:35.892Z"
   },
   {
    "duration": 39,
    "start_time": "2021-09-16T16:14:36.443Z"
   },
   {
    "duration": 13,
    "start_time": "2021-09-16T16:14:36.484Z"
   },
   {
    "duration": 81,
    "start_time": "2021-09-16T16:14:36.499Z"
   },
   {
    "duration": 279,
    "start_time": "2021-09-16T16:14:36.583Z"
   },
   {
    "duration": 15,
    "start_time": "2021-09-16T16:14:36.865Z"
   },
   {
    "duration": 185,
    "start_time": "2021-09-16T16:14:36.882Z"
   },
   {
    "duration": 7,
    "start_time": "2021-09-16T16:14:37.069Z"
   },
   {
    "duration": 30,
    "start_time": "2021-09-16T16:14:37.079Z"
   },
   {
    "duration": 1297,
    "start_time": "2021-09-16T16:14:37.111Z"
   },
   {
    "duration": 10,
    "start_time": "2021-09-16T16:14:38.411Z"
   },
   {
    "duration": 642,
    "start_time": "2021-09-16T16:14:38.424Z"
   },
   {
    "duration": 49,
    "start_time": "2021-09-16T16:14:39.071Z"
   },
   {
    "duration": 475,
    "start_time": "2021-09-16T16:14:39.123Z"
   },
   {
    "duration": 806,
    "start_time": "2021-09-16T16:14:39.601Z"
   },
   {
    "duration": 3500,
    "start_time": "2021-09-16T16:14:40.410Z"
   },
   {
    "duration": 8,
    "start_time": "2021-09-16T16:14:43.912Z"
   },
   {
    "duration": 43,
    "start_time": "2021-09-16T16:14:43.922Z"
   },
   {
    "duration": 686,
    "start_time": "2021-09-16T16:14:43.967Z"
   },
   {
    "duration": 8,
    "start_time": "2021-09-16T16:14:44.656Z"
   },
   {
    "duration": 187,
    "start_time": "2021-09-16T16:14:44.668Z"
   },
   {
    "duration": 7,
    "start_time": "2021-09-16T16:14:44.858Z"
   },
   {
    "duration": 20,
    "start_time": "2021-09-16T16:14:44.867Z"
   },
   {
    "duration": 489,
    "start_time": "2021-09-16T16:14:44.890Z"
   },
   {
    "duration": 1501,
    "start_time": "2021-09-16T16:15:15.577Z"
   },
   {
    "duration": 891,
    "start_time": "2021-09-16T16:15:17.081Z"
   },
   {
    "duration": 186,
    "start_time": "2021-09-16T16:15:17.976Z"
   },
   {
    "duration": 33,
    "start_time": "2021-09-16T16:15:18.165Z"
   },
   {
    "duration": 27,
    "start_time": "2021-09-16T16:15:18.201Z"
   },
   {
    "duration": 83,
    "start_time": "2021-09-16T16:15:18.262Z"
   },
   {
    "duration": 276,
    "start_time": "2021-09-16T16:15:18.347Z"
   },
   {
    "duration": 283,
    "start_time": "2021-09-16T16:15:18.627Z"
   },
   {
    "duration": 49,
    "start_time": "2021-09-16T16:15:18.913Z"
   },
   {
    "duration": 360,
    "start_time": "2021-09-16T16:15:18.965Z"
   },
   {
    "duration": 5,
    "start_time": "2021-09-16T16:15:19.328Z"
   },
   {
    "duration": 56,
    "start_time": "2021-09-16T16:15:19.336Z"
   },
   {
    "duration": 5,
    "start_time": "2021-09-16T16:15:19.395Z"
   },
   {
    "duration": 49,
    "start_time": "2021-09-16T16:15:19.403Z"
   },
   {
    "duration": 552,
    "start_time": "2021-09-16T16:15:19.455Z"
   },
   {
    "duration": 29,
    "start_time": "2021-09-16T16:15:20.009Z"
   },
   {
    "duration": 30,
    "start_time": "2021-09-16T16:15:20.040Z"
   },
   {
    "duration": 62,
    "start_time": "2021-09-16T16:15:20.072Z"
   },
   {
    "duration": 280,
    "start_time": "2021-09-16T16:15:20.161Z"
   },
   {
    "duration": 23,
    "start_time": "2021-09-16T16:15:20.443Z"
   },
   {
    "duration": 168,
    "start_time": "2021-09-16T16:15:20.469Z"
   },
   {
    "duration": 7,
    "start_time": "2021-09-16T16:15:20.639Z"
   },
   {
    "duration": 36,
    "start_time": "2021-09-16T16:15:20.651Z"
   },
   {
    "duration": 1304,
    "start_time": "2021-09-16T16:15:20.690Z"
   },
   {
    "duration": 7,
    "start_time": "2021-09-16T16:15:21.997Z"
   },
   {
    "duration": 645,
    "start_time": "2021-09-16T16:15:22.007Z"
   },
   {
    "duration": 52,
    "start_time": "2021-09-16T16:15:22.655Z"
   },
   {
    "duration": 470,
    "start_time": "2021-09-16T16:15:22.710Z"
   },
   {
    "duration": 936,
    "start_time": "2021-09-16T16:15:23.182Z"
   },
   {
    "duration": 3353,
    "start_time": "2021-09-16T16:15:24.120Z"
   },
   {
    "duration": 8,
    "start_time": "2021-09-16T16:15:27.475Z"
   },
   {
    "duration": 29,
    "start_time": "2021-09-16T16:15:27.486Z"
   },
   {
    "duration": 653,
    "start_time": "2021-09-16T16:15:27.517Z"
   },
   {
    "duration": 3,
    "start_time": "2021-09-16T16:15:28.173Z"
   },
   {
    "duration": 144,
    "start_time": "2021-09-16T16:15:28.178Z"
   },
   {
    "duration": 5,
    "start_time": "2021-09-16T16:15:28.324Z"
   },
   {
    "duration": 33,
    "start_time": "2021-09-16T16:15:28.332Z"
   },
   {
    "duration": 594,
    "start_time": "2021-09-16T16:15:28.367Z"
   },
   {
    "duration": 1737,
    "start_time": "2021-09-16T16:16:53.640Z"
   },
   {
    "duration": 999,
    "start_time": "2021-09-16T16:16:55.381Z"
   },
   {
    "duration": 138,
    "start_time": "2021-09-16T16:16:56.384Z"
   },
   {
    "duration": 45,
    "start_time": "2021-09-16T16:16:56.525Z"
   },
   {
    "duration": 28,
    "start_time": "2021-09-16T16:16:56.573Z"
   },
   {
    "duration": 110,
    "start_time": "2021-09-16T16:16:56.603Z"
   },
   {
    "duration": 264,
    "start_time": "2021-09-16T16:16:56.716Z"
   },
   {
    "duration": 287,
    "start_time": "2021-09-16T16:16:56.984Z"
   },
   {
    "duration": 28,
    "start_time": "2021-09-16T16:16:57.274Z"
   },
   {
    "duration": 441,
    "start_time": "2021-09-16T16:16:57.305Z"
   },
   {
    "duration": 5,
    "start_time": "2021-09-16T16:16:57.748Z"
   },
   {
    "duration": 42,
    "start_time": "2021-09-16T16:16:57.763Z"
   },
   {
    "duration": 5,
    "start_time": "2021-09-16T16:16:57.807Z"
   },
   {
    "duration": 51,
    "start_time": "2021-09-16T16:16:57.814Z"
   },
   {
    "duration": 612,
    "start_time": "2021-09-16T16:16:57.868Z"
   },
   {
    "duration": 28,
    "start_time": "2021-09-16T16:16:58.483Z"
   },
   {
    "duration": 12,
    "start_time": "2021-09-16T16:16:58.514Z"
   },
   {
    "duration": 88,
    "start_time": "2021-09-16T16:16:58.529Z"
   },
   {
    "duration": 391,
    "start_time": "2021-09-16T16:16:58.620Z"
   },
   {
    "duration": 15,
    "start_time": "2021-09-16T16:16:59.013Z"
   },
   {
    "duration": 188,
    "start_time": "2021-09-16T16:16:59.030Z"
   },
   {
    "duration": 8,
    "start_time": "2021-09-16T16:16:59.221Z"
   },
   {
    "duration": 46,
    "start_time": "2021-09-16T16:16:59.235Z"
   },
   {
    "duration": 1858,
    "start_time": "2021-09-16T16:16:59.285Z"
   },
   {
    "duration": 18,
    "start_time": "2021-09-16T16:17:01.146Z"
   },
   {
    "duration": 699,
    "start_time": "2021-09-16T16:17:01.166Z"
   },
   {
    "duration": 51,
    "start_time": "2021-09-16T16:17:01.867Z"
   },
   {
    "duration": 609,
    "start_time": "2021-09-16T16:17:01.920Z"
   },
   {
    "duration": 703,
    "start_time": "2021-09-16T16:17:02.531Z"
   },
   {
    "duration": 3381,
    "start_time": "2021-09-16T16:17:03.236Z"
   },
   {
    "duration": 11,
    "start_time": "2021-09-16T16:17:06.619Z"
   },
   {
    "duration": 48,
    "start_time": "2021-09-16T16:17:06.633Z"
   },
   {
    "duration": 744,
    "start_time": "2021-09-16T16:17:06.684Z"
   },
   {
    "duration": 4,
    "start_time": "2021-09-16T16:17:07.430Z"
   },
   {
    "duration": 142,
    "start_time": "2021-09-16T16:17:07.436Z"
   },
   {
    "duration": 6,
    "start_time": "2021-09-16T16:17:07.581Z"
   },
   {
    "duration": 20,
    "start_time": "2021-09-16T16:17:07.589Z"
   },
   {
    "duration": 506,
    "start_time": "2021-09-16T16:17:07.611Z"
   },
   {
    "duration": 991,
    "start_time": "2021-09-16T16:17:08.120Z"
   },
   {
    "duration": -21,
    "start_time": "2021-09-16T16:17:09.134Z"
   },
   {
    "duration": 912,
    "start_time": "2021-09-16T16:20:05.429Z"
   },
   {
    "duration": 516,
    "start_time": "2021-09-16T16:20:23.060Z"
   },
   {
    "duration": 14,
    "start_time": "2021-09-16T16:20:28.852Z"
   },
   {
    "duration": 443,
    "start_time": "2021-09-17T04:22:08.386Z"
   },
   {
    "duration": 1088,
    "start_time": "2021-09-17T04:22:14.791Z"
   },
   {
    "duration": 638,
    "start_time": "2021-09-17T04:22:15.881Z"
   },
   {
    "duration": 102,
    "start_time": "2021-09-17T04:22:16.521Z"
   },
   {
    "duration": 30,
    "start_time": "2021-09-17T04:22:16.625Z"
   },
   {
    "duration": 14,
    "start_time": "2021-09-17T04:22:16.656Z"
   },
   {
    "duration": 88,
    "start_time": "2021-09-17T04:22:16.672Z"
   },
   {
    "duration": 198,
    "start_time": "2021-09-17T04:22:16.762Z"
   },
   {
    "duration": 192,
    "start_time": "2021-09-17T04:22:16.963Z"
   },
   {
    "duration": 19,
    "start_time": "2021-09-17T04:22:17.157Z"
   },
   {
    "duration": 291,
    "start_time": "2021-09-17T04:22:17.177Z"
   },
   {
    "duration": 3,
    "start_time": "2021-09-17T04:22:17.470Z"
   },
   {
    "duration": 27,
    "start_time": "2021-09-17T04:22:17.475Z"
   },
   {
    "duration": 3,
    "start_time": "2021-09-17T04:22:17.503Z"
   },
   {
    "duration": 25,
    "start_time": "2021-09-17T04:22:17.508Z"
   },
   {
    "duration": 324,
    "start_time": "2021-09-17T04:22:17.535Z"
   },
   {
    "duration": 21,
    "start_time": "2021-09-17T04:22:17.860Z"
   },
   {
    "duration": 8,
    "start_time": "2021-09-17T04:22:17.883Z"
   },
   {
    "duration": 60,
    "start_time": "2021-09-17T04:22:17.892Z"
   },
   {
    "duration": 188,
    "start_time": "2021-09-17T04:22:17.953Z"
   },
   {
    "duration": 14,
    "start_time": "2021-09-17T04:22:18.142Z"
   },
   {
    "duration": 141,
    "start_time": "2021-09-17T04:22:18.158Z"
   },
   {
    "duration": 4,
    "start_time": "2021-09-17T04:22:18.301Z"
   },
   {
    "duration": 19,
    "start_time": "2021-09-17T04:22:18.309Z"
   },
   {
    "duration": 883,
    "start_time": "2021-09-17T04:22:18.330Z"
   },
   {
    "duration": 7,
    "start_time": "2021-09-17T04:22:19.216Z"
   },
   {
    "duration": 370,
    "start_time": "2021-09-17T04:22:19.225Z"
   },
   {
    "duration": 33,
    "start_time": "2021-09-17T04:22:19.598Z"
   },
   {
    "duration": 264,
    "start_time": "2021-09-17T04:22:19.633Z"
   },
   {
    "duration": 423,
    "start_time": "2021-09-17T04:22:19.899Z"
   },
   {
    "duration": 1660,
    "start_time": "2021-09-17T04:22:20.324Z"
   },
   {
    "duration": 7,
    "start_time": "2021-09-17T04:22:21.986Z"
   },
   {
    "duration": 21,
    "start_time": "2021-09-17T04:22:21.995Z"
   },
   {
    "duration": 375,
    "start_time": "2021-09-17T04:22:22.018Z"
   },
   {
    "duration": 2,
    "start_time": "2021-09-17T04:22:22.394Z"
   },
   {
    "duration": 94,
    "start_time": "2021-09-17T04:22:22.398Z"
   },
   {
    "duration": 4,
    "start_time": "2021-09-17T04:22:22.493Z"
   },
   {
    "duration": 13,
    "start_time": "2021-09-17T04:22:22.498Z"
   },
   {
    "duration": 272,
    "start_time": "2021-09-17T04:22:22.513Z"
   },
   {
    "duration": 375,
    "start_time": "2021-09-17T04:22:22.787Z"
   },
   {
    "duration": 736,
    "start_time": "2021-09-17T04:23:00.376Z"
   },
   {
    "duration": 427,
    "start_time": "2021-09-17T04:23:06.740Z"
   },
   {
    "duration": 352,
    "start_time": "2021-09-17T04:35:11.625Z"
   },
   {
    "duration": 422,
    "start_time": "2021-09-17T04:36:26.491Z"
   },
   {
    "duration": 427,
    "start_time": "2021-09-17T04:38:33.633Z"
   },
   {
    "duration": 412,
    "start_time": "2021-09-17T04:38:38.620Z"
   },
   {
    "duration": 688,
    "start_time": "2021-09-17T04:43:12.844Z"
   },
   {
    "duration": 1105,
    "start_time": "2021-09-17T04:43:22.067Z"
   },
   {
    "duration": 633,
    "start_time": "2021-09-17T04:43:23.174Z"
   },
   {
    "duration": 101,
    "start_time": "2021-09-17T04:43:23.811Z"
   },
   {
    "duration": 21,
    "start_time": "2021-09-17T04:43:23.914Z"
   },
   {
    "duration": 24,
    "start_time": "2021-09-17T04:43:23.937Z"
   },
   {
    "duration": 91,
    "start_time": "2021-09-17T04:43:23.963Z"
   },
   {
    "duration": 197,
    "start_time": "2021-09-17T04:43:24.057Z"
   },
   {
    "duration": 186,
    "start_time": "2021-09-17T04:43:24.256Z"
   },
   {
    "duration": 20,
    "start_time": "2021-09-17T04:43:24.444Z"
   },
   {
    "duration": 284,
    "start_time": "2021-09-17T04:43:24.465Z"
   },
   {
    "duration": 4,
    "start_time": "2021-09-17T04:43:24.751Z"
   },
   {
    "duration": 27,
    "start_time": "2021-09-17T04:43:24.757Z"
   },
   {
    "duration": 3,
    "start_time": "2021-09-17T04:43:24.786Z"
   },
   {
    "duration": 30,
    "start_time": "2021-09-17T04:43:24.790Z"
   },
   {
    "duration": 323,
    "start_time": "2021-09-17T04:43:24.822Z"
   },
   {
    "duration": 21,
    "start_time": "2021-09-17T04:43:25.147Z"
   },
   {
    "duration": 8,
    "start_time": "2021-09-17T04:43:25.170Z"
   },
   {
    "duration": 41,
    "start_time": "2021-09-17T04:43:25.180Z"
   },
   {
    "duration": 203,
    "start_time": "2021-09-17T04:43:25.222Z"
   },
   {
    "duration": 22,
    "start_time": "2021-09-17T04:43:25.427Z"
   },
   {
    "duration": 137,
    "start_time": "2021-09-17T04:43:25.451Z"
   },
   {
    "duration": 6,
    "start_time": "2021-09-17T04:43:25.593Z"
   },
   {
    "duration": 33,
    "start_time": "2021-09-17T04:43:25.602Z"
   },
   {
    "duration": 786,
    "start_time": "2021-09-17T04:43:25.638Z"
   },
   {
    "duration": 6,
    "start_time": "2021-09-17T04:43:26.426Z"
   },
   {
    "duration": 369,
    "start_time": "2021-09-17T04:43:26.433Z"
   },
   {
    "duration": 32,
    "start_time": "2021-09-17T04:43:26.804Z"
   },
   {
    "duration": 264,
    "start_time": "2021-09-17T04:43:26.837Z"
   },
   {
    "duration": 418,
    "start_time": "2021-09-17T04:43:27.102Z"
   },
   {
    "duration": 1607,
    "start_time": "2021-09-17T04:43:27.522Z"
   },
   {
    "duration": 19,
    "start_time": "2021-09-17T04:43:29.131Z"
   },
   {
    "duration": 19,
    "start_time": "2021-09-17T04:43:29.152Z"
   },
   {
    "duration": 356,
    "start_time": "2021-09-17T04:43:29.173Z"
   },
   {
    "duration": 3,
    "start_time": "2021-09-17T04:43:29.532Z"
   },
   {
    "duration": 101,
    "start_time": "2021-09-17T04:43:29.536Z"
   },
   {
    "duration": 12,
    "start_time": "2021-09-17T04:43:29.639Z"
   },
   {
    "duration": 16,
    "start_time": "2021-09-17T04:43:29.653Z"
   },
   {
    "duration": 262,
    "start_time": "2021-09-17T04:43:29.670Z"
   },
   {
    "duration": 449,
    "start_time": "2021-09-17T04:43:29.934Z"
   },
   {
    "duration": 7844,
    "start_time": "2021-09-17T04:44:34.229Z"
   },
   {
    "duration": 408,
    "start_time": "2021-09-17T04:44:58.183Z"
   },
   {
    "duration": 1060,
    "start_time": "2021-09-17T04:45:12.210Z"
   },
   {
    "duration": 635,
    "start_time": "2021-09-17T04:45:13.271Z"
   },
   {
    "duration": 105,
    "start_time": "2021-09-17T04:45:13.908Z"
   },
   {
    "duration": 22,
    "start_time": "2021-09-17T04:45:14.014Z"
   },
   {
    "duration": 17,
    "start_time": "2021-09-17T04:45:14.049Z"
   },
   {
    "duration": 86,
    "start_time": "2021-09-17T04:45:14.067Z"
   },
   {
    "duration": 208,
    "start_time": "2021-09-17T04:45:14.154Z"
   },
   {
    "duration": 186,
    "start_time": "2021-09-17T04:45:14.363Z"
   },
   {
    "duration": 16,
    "start_time": "2021-09-17T04:45:14.552Z"
   },
   {
    "duration": 287,
    "start_time": "2021-09-17T04:45:14.570Z"
   },
   {
    "duration": 3,
    "start_time": "2021-09-17T04:45:14.859Z"
   },
   {
    "duration": 30,
    "start_time": "2021-09-17T04:45:14.863Z"
   },
   {
    "duration": 8,
    "start_time": "2021-09-17T04:45:14.895Z"
   },
   {
    "duration": 23,
    "start_time": "2021-09-17T04:45:14.904Z"
   },
   {
    "duration": 322,
    "start_time": "2021-09-17T04:45:14.929Z"
   },
   {
    "duration": 22,
    "start_time": "2021-09-17T04:45:15.252Z"
   },
   {
    "duration": 8,
    "start_time": "2021-09-17T04:45:15.276Z"
   },
   {
    "duration": 47,
    "start_time": "2021-09-17T04:45:15.285Z"
   },
   {
    "duration": 187,
    "start_time": "2021-09-17T04:45:15.334Z"
   },
   {
    "duration": 13,
    "start_time": "2021-09-17T04:45:15.522Z"
   },
   {
    "duration": 149,
    "start_time": "2021-09-17T04:45:15.536Z"
   },
   {
    "duration": 5,
    "start_time": "2021-09-17T04:45:15.686Z"
   },
   {
    "duration": 22,
    "start_time": "2021-09-17T04:45:15.693Z"
   },
   {
    "duration": 798,
    "start_time": "2021-09-17T04:45:15.717Z"
   },
   {
    "duration": 5,
    "start_time": "2021-09-17T04:45:16.517Z"
   },
   {
    "duration": 378,
    "start_time": "2021-09-17T04:45:16.524Z"
   },
   {
    "duration": 31,
    "start_time": "2021-09-17T04:45:16.905Z"
   },
   {
    "duration": 266,
    "start_time": "2021-09-17T04:45:16.938Z"
   },
   {
    "duration": 424,
    "start_time": "2021-09-17T04:45:17.205Z"
   },
   {
    "duration": 1620,
    "start_time": "2021-09-17T04:45:17.631Z"
   },
   {
    "duration": 6,
    "start_time": "2021-09-17T04:45:19.253Z"
   },
   {
    "duration": 18,
    "start_time": "2021-09-17T04:45:19.260Z"
   },
   {
    "duration": 365,
    "start_time": "2021-09-17T04:45:19.279Z"
   },
   {
    "duration": 4,
    "start_time": "2021-09-17T04:45:19.645Z"
   },
   {
    "duration": 76,
    "start_time": "2021-09-17T04:45:19.651Z"
   },
   {
    "duration": 4,
    "start_time": "2021-09-17T04:45:19.728Z"
   },
   {
    "duration": 23,
    "start_time": "2021-09-17T04:45:19.733Z"
   },
   {
    "duration": 267,
    "start_time": "2021-09-17T04:45:19.758Z"
   },
   {
    "duration": 431,
    "start_time": "2021-09-17T04:45:20.026Z"
   },
   {
    "duration": 1081,
    "start_time": "2021-09-17T04:45:27.287Z"
   },
   {
    "duration": 627,
    "start_time": "2021-09-17T04:45:28.370Z"
   },
   {
    "duration": 109,
    "start_time": "2021-09-17T04:45:29.002Z"
   },
   {
    "duration": 22,
    "start_time": "2021-09-17T04:45:29.113Z"
   },
   {
    "duration": 18,
    "start_time": "2021-09-17T04:45:29.149Z"
   },
   {
    "duration": 84,
    "start_time": "2021-09-17T04:45:29.169Z"
   },
   {
    "duration": 202,
    "start_time": "2021-09-17T04:45:29.255Z"
   },
   {
    "duration": 180,
    "start_time": "2021-09-17T04:45:29.459Z"
   },
   {
    "duration": 20,
    "start_time": "2021-09-17T04:45:29.641Z"
   },
   {
    "duration": 277,
    "start_time": "2021-09-17T04:45:29.663Z"
   },
   {
    "duration": 7,
    "start_time": "2021-09-17T04:45:29.942Z"
   },
   {
    "duration": 29,
    "start_time": "2021-09-17T04:45:29.951Z"
   },
   {
    "duration": 3,
    "start_time": "2021-09-17T04:45:29.982Z"
   },
   {
    "duration": 26,
    "start_time": "2021-09-17T04:45:29.987Z"
   },
   {
    "duration": 324,
    "start_time": "2021-09-17T04:45:30.015Z"
   },
   {
    "duration": 27,
    "start_time": "2021-09-17T04:45:30.341Z"
   },
   {
    "duration": 9,
    "start_time": "2021-09-17T04:45:30.370Z"
   },
   {
    "duration": 48,
    "start_time": "2021-09-17T04:45:30.380Z"
   },
   {
    "duration": 208,
    "start_time": "2021-09-17T04:45:30.430Z"
   },
   {
    "duration": 20,
    "start_time": "2021-09-17T04:45:30.640Z"
   },
   {
    "duration": 143,
    "start_time": "2021-09-17T04:45:30.661Z"
   },
   {
    "duration": 5,
    "start_time": "2021-09-17T04:45:30.807Z"
   },
   {
    "duration": 31,
    "start_time": "2021-09-17T04:45:30.814Z"
   },
   {
    "duration": 772,
    "start_time": "2021-09-17T04:45:30.847Z"
   },
   {
    "duration": 6,
    "start_time": "2021-09-17T04:45:31.621Z"
   },
   {
    "duration": 373,
    "start_time": "2021-09-17T04:45:31.628Z"
   },
   {
    "duration": 30,
    "start_time": "2021-09-17T04:45:32.003Z"
   },
   {
    "duration": 265,
    "start_time": "2021-09-17T04:45:32.035Z"
   },
   {
    "duration": 424,
    "start_time": "2021-09-17T04:45:32.302Z"
   },
   {
    "duration": 1594,
    "start_time": "2021-09-17T04:45:32.728Z"
   },
   {
    "duration": 6,
    "start_time": "2021-09-17T04:45:34.323Z"
   },
   {
    "duration": 29,
    "start_time": "2021-09-17T04:45:34.330Z"
   },
   {
    "duration": 353,
    "start_time": "2021-09-17T04:45:34.360Z"
   },
   {
    "duration": 2,
    "start_time": "2021-09-17T04:45:34.715Z"
   },
   {
    "duration": 91,
    "start_time": "2021-09-17T04:45:34.719Z"
   },
   {
    "duration": 5,
    "start_time": "2021-09-17T04:45:34.812Z"
   },
   {
    "duration": 11,
    "start_time": "2021-09-17T04:45:34.819Z"
   },
   {
    "duration": 274,
    "start_time": "2021-09-17T04:45:34.832Z"
   },
   {
    "duration": 428,
    "start_time": "2021-09-17T04:45:35.108Z"
   },
   {
    "duration": 3,
    "start_time": "2021-09-17T04:47:37.365Z"
   },
   {
    "duration": 5,
    "start_time": "2021-09-17T04:47:50.517Z"
   },
   {
    "duration": 371,
    "start_time": "2021-09-17T05:03:08.434Z"
   },
   {
    "duration": 91,
    "start_time": "2021-09-17T05:03:23.926Z"
   },
   {
    "duration": 7,
    "start_time": "2021-09-17T05:07:27.830Z"
   },
   {
    "duration": 1137,
    "start_time": "2021-09-17T05:09:08.643Z"
   },
   {
    "duration": 655,
    "start_time": "2021-09-17T05:09:09.782Z"
   },
   {
    "duration": 110,
    "start_time": "2021-09-17T05:09:10.439Z"
   },
   {
    "duration": 22,
    "start_time": "2021-09-17T05:09:10.551Z"
   },
   {
    "duration": 17,
    "start_time": "2021-09-17T05:09:10.574Z"
   },
   {
    "duration": 99,
    "start_time": "2021-09-17T05:09:10.593Z"
   },
   {
    "duration": 199,
    "start_time": "2021-09-17T05:09:10.694Z"
   },
   {
    "duration": 184,
    "start_time": "2021-09-17T05:09:10.894Z"
   },
   {
    "duration": 17,
    "start_time": "2021-09-17T05:09:11.080Z"
   },
   {
    "duration": 315,
    "start_time": "2021-09-17T05:09:11.098Z"
   },
   {
    "duration": 3,
    "start_time": "2021-09-17T05:09:11.415Z"
   },
   {
    "duration": 38,
    "start_time": "2021-09-17T05:09:11.419Z"
   },
   {
    "duration": 3,
    "start_time": "2021-09-17T05:09:11.459Z"
   },
   {
    "duration": 25,
    "start_time": "2021-09-17T05:09:11.463Z"
   },
   {
    "duration": 316,
    "start_time": "2021-09-17T05:09:11.490Z"
   },
   {
    "duration": 22,
    "start_time": "2021-09-17T05:09:11.808Z"
   },
   {
    "duration": 19,
    "start_time": "2021-09-17T05:09:11.831Z"
   },
   {
    "duration": 40,
    "start_time": "2021-09-17T05:09:11.851Z"
   },
   {
    "duration": 191,
    "start_time": "2021-09-17T05:09:11.893Z"
   },
   {
    "duration": 13,
    "start_time": "2021-09-17T05:09:12.086Z"
   },
   {
    "duration": 145,
    "start_time": "2021-09-17T05:09:12.100Z"
   },
   {
    "duration": 6,
    "start_time": "2021-09-17T05:09:12.246Z"
   },
   {
    "duration": 26,
    "start_time": "2021-09-17T05:09:12.253Z"
   },
   {
    "duration": 850,
    "start_time": "2021-09-17T05:09:12.280Z"
   },
   {
    "duration": 6,
    "start_time": "2021-09-17T05:09:13.132Z"
   },
   {
    "duration": 363,
    "start_time": "2021-09-17T05:09:13.150Z"
   },
   {
    "duration": 40,
    "start_time": "2021-09-17T05:09:13.518Z"
   },
   {
    "duration": 262,
    "start_time": "2021-09-17T05:09:13.560Z"
   },
   {
    "duration": 418,
    "start_time": "2021-09-17T05:09:13.823Z"
   },
   {
    "duration": 1667,
    "start_time": "2021-09-17T05:09:14.242Z"
   },
   {
    "duration": 6,
    "start_time": "2021-09-17T05:09:15.910Z"
   },
   {
    "duration": 32,
    "start_time": "2021-09-17T05:09:15.918Z"
   },
   {
    "duration": 343,
    "start_time": "2021-09-17T05:09:15.951Z"
   },
   {
    "duration": 2,
    "start_time": "2021-09-17T05:09:16.296Z"
   },
   {
    "duration": 96,
    "start_time": "2021-09-17T05:09:16.300Z"
   },
   {
    "duration": 4,
    "start_time": "2021-09-17T05:09:16.398Z"
   },
   {
    "duration": 15,
    "start_time": "2021-09-17T05:09:16.403Z"
   },
   {
    "duration": 277,
    "start_time": "2021-09-17T05:09:16.419Z"
   },
   {
    "duration": 738,
    "start_time": "2021-09-17T05:09:16.698Z"
   },
   {
    "duration": 897,
    "start_time": "2021-09-17T05:09:16.540Z"
   },
   {
    "duration": 895,
    "start_time": "2021-09-17T05:09:16.543Z"
   },
   {
    "duration": 891,
    "start_time": "2021-09-17T05:09:16.548Z"
   },
   {
    "duration": 404,
    "start_time": "2021-09-17T05:09:54.417Z"
   },
   {
    "duration": 759,
    "start_time": "2021-09-17T05:10:04.702Z"
   },
   {
    "duration": 411,
    "start_time": "2021-09-17T05:10:13.827Z"
   },
   {
    "duration": 7160,
    "start_time": "2021-09-17T05:10:19.925Z"
   },
   {
    "duration": 1090,
    "start_time": "2021-09-17T05:10:33.877Z"
   },
   {
    "duration": 633,
    "start_time": "2021-09-17T05:10:34.969Z"
   },
   {
    "duration": 114,
    "start_time": "2021-09-17T05:10:35.605Z"
   },
   {
    "duration": 37,
    "start_time": "2021-09-17T05:10:35.721Z"
   },
   {
    "duration": 19,
    "start_time": "2021-09-17T05:10:35.760Z"
   },
   {
    "duration": 96,
    "start_time": "2021-09-17T05:10:35.781Z"
   },
   {
    "duration": 210,
    "start_time": "2021-09-17T05:10:35.878Z"
   },
   {
    "duration": 190,
    "start_time": "2021-09-17T05:10:36.091Z"
   },
   {
    "duration": 18,
    "start_time": "2021-09-17T05:10:36.284Z"
   },
   {
    "duration": 307,
    "start_time": "2021-09-17T05:10:36.303Z"
   },
   {
    "duration": 4,
    "start_time": "2021-09-17T05:10:36.612Z"
   },
   {
    "duration": 48,
    "start_time": "2021-09-17T05:10:36.618Z"
   },
   {
    "duration": 3,
    "start_time": "2021-09-17T05:10:36.668Z"
   },
   {
    "duration": 25,
    "start_time": "2021-09-17T05:10:36.673Z"
   },
   {
    "duration": 325,
    "start_time": "2021-09-17T05:10:36.700Z"
   },
   {
    "duration": 32,
    "start_time": "2021-09-17T05:10:37.027Z"
   },
   {
    "duration": 9,
    "start_time": "2021-09-17T05:10:37.060Z"
   },
   {
    "duration": 43,
    "start_time": "2021-09-17T05:10:37.071Z"
   },
   {
    "duration": 208,
    "start_time": "2021-09-17T05:10:37.115Z"
   },
   {
    "duration": 14,
    "start_time": "2021-09-17T05:10:37.325Z"
   },
   {
    "duration": 141,
    "start_time": "2021-09-17T05:10:37.349Z"
   },
   {
    "duration": 5,
    "start_time": "2021-09-17T05:10:37.491Z"
   },
   {
    "duration": 30,
    "start_time": "2021-09-17T05:10:37.499Z"
   },
   {
    "duration": 797,
    "start_time": "2021-09-17T05:10:37.531Z"
   },
   {
    "duration": 6,
    "start_time": "2021-09-17T05:10:38.329Z"
   },
   {
    "duration": 367,
    "start_time": "2021-09-17T05:10:38.336Z"
   },
   {
    "duration": 45,
    "start_time": "2021-09-17T05:10:38.705Z"
   },
   {
    "duration": 254,
    "start_time": "2021-09-17T05:10:38.752Z"
   },
   {
    "duration": 423,
    "start_time": "2021-09-17T05:10:39.008Z"
   },
   {
    "duration": 1674,
    "start_time": "2021-09-17T05:10:39.433Z"
   },
   {
    "duration": 6,
    "start_time": "2021-09-17T05:10:41.109Z"
   },
   {
    "duration": 60,
    "start_time": "2021-09-17T05:10:41.116Z"
   },
   {
    "duration": 405,
    "start_time": "2021-09-17T05:10:41.178Z"
   },
   {
    "duration": 3,
    "start_time": "2021-09-17T05:10:41.585Z"
   },
   {
    "duration": 102,
    "start_time": "2021-09-17T05:10:41.589Z"
   },
   {
    "duration": 4,
    "start_time": "2021-09-17T05:10:41.693Z"
   },
   {
    "duration": 14,
    "start_time": "2021-09-17T05:10:41.698Z"
   },
   {
    "duration": 278,
    "start_time": "2021-09-17T05:10:41.714Z"
   },
   {
    "duration": 15712,
    "start_time": "2021-09-17T05:10:41.993Z"
   },
   {
    "duration": 902,
    "start_time": "2021-09-17T05:10:56.805Z"
   },
   {
    "duration": 903,
    "start_time": "2021-09-17T05:10:56.806Z"
   },
   {
    "duration": 904,
    "start_time": "2021-09-17T05:10:56.807Z"
   },
   {
    "duration": 450,
    "start_time": "2021-09-17T05:11:09.206Z"
   },
   {
    "duration": 1246,
    "start_time": "2021-09-17T05:11:20.274Z"
   },
   {
    "duration": 640,
    "start_time": "2021-09-17T05:11:21.522Z"
   },
   {
    "duration": 112,
    "start_time": "2021-09-17T05:11:22.164Z"
   },
   {
    "duration": 23,
    "start_time": "2021-09-17T05:11:22.278Z"
   },
   {
    "duration": 17,
    "start_time": "2021-09-17T05:11:22.303Z"
   },
   {
    "duration": 95,
    "start_time": "2021-09-17T05:11:22.322Z"
   },
   {
    "duration": 207,
    "start_time": "2021-09-17T05:11:22.419Z"
   },
   {
    "duration": 214,
    "start_time": "2021-09-17T05:11:22.628Z"
   },
   {
    "duration": 21,
    "start_time": "2021-09-17T05:11:22.844Z"
   },
   {
    "duration": 299,
    "start_time": "2021-09-17T05:11:22.867Z"
   },
   {
    "duration": 3,
    "start_time": "2021-09-17T05:11:23.168Z"
   },
   {
    "duration": 33,
    "start_time": "2021-09-17T05:11:23.172Z"
   },
   {
    "duration": 3,
    "start_time": "2021-09-17T05:11:23.207Z"
   },
   {
    "duration": 37,
    "start_time": "2021-09-17T05:11:23.212Z"
   },
   {
    "duration": 313,
    "start_time": "2021-09-17T05:11:23.251Z"
   },
   {
    "duration": 22,
    "start_time": "2021-09-17T05:11:23.566Z"
   },
   {
    "duration": 8,
    "start_time": "2021-09-17T05:11:23.590Z"
   },
   {
    "duration": 59,
    "start_time": "2021-09-17T05:11:23.600Z"
   },
   {
    "duration": 182,
    "start_time": "2021-09-17T05:11:23.661Z"
   },
   {
    "duration": 13,
    "start_time": "2021-09-17T05:11:23.844Z"
   },
   {
    "duration": 142,
    "start_time": "2021-09-17T05:11:23.859Z"
   },
   {
    "duration": 5,
    "start_time": "2021-09-17T05:11:24.003Z"
   },
   {
    "duration": 23,
    "start_time": "2021-09-17T05:11:24.010Z"
   },
   {
    "duration": 841,
    "start_time": "2021-09-17T05:11:24.035Z"
   },
   {
    "duration": 6,
    "start_time": "2021-09-17T05:11:24.878Z"
   },
   {
    "duration": 396,
    "start_time": "2021-09-17T05:11:24.885Z"
   },
   {
    "duration": 31,
    "start_time": "2021-09-17T05:11:25.284Z"
   },
   {
    "duration": 280,
    "start_time": "2021-09-17T05:11:25.317Z"
   },
   {
    "duration": 436,
    "start_time": "2021-09-17T05:11:25.599Z"
   },
   {
    "duration": 1890,
    "start_time": "2021-09-17T05:11:26.037Z"
   },
   {
    "duration": 7,
    "start_time": "2021-09-17T05:11:27.929Z"
   },
   {
    "duration": 19,
    "start_time": "2021-09-17T05:11:27.949Z"
   },
   {
    "duration": 381,
    "start_time": "2021-09-17T05:11:27.969Z"
   },
   {
    "duration": 2,
    "start_time": "2021-09-17T05:11:28.352Z"
   },
   {
    "duration": 84,
    "start_time": "2021-09-17T05:11:28.356Z"
   },
   {
    "duration": 4,
    "start_time": "2021-09-17T05:11:28.450Z"
   },
   {
    "duration": 14,
    "start_time": "2021-09-17T05:11:28.455Z"
   },
   {
    "duration": 299,
    "start_time": "2021-09-17T05:11:28.470Z"
   },
   {
    "duration": 442,
    "start_time": "2021-09-17T05:11:28.771Z"
   },
   {
    "duration": 4,
    "start_time": "2021-09-17T05:11:29.215Z"
   },
   {
    "duration": 96,
    "start_time": "2021-09-17T05:11:29.221Z"
   },
   {
    "duration": 7,
    "start_time": "2021-09-17T05:11:29.319Z"
   },
   {
    "duration": 415,
    "start_time": "2021-09-17T05:18:49.508Z"
   },
   {
    "duration": 696,
    "start_time": "2021-09-17T05:18:58.465Z"
   },
   {
    "duration": 447,
    "start_time": "2021-09-17T05:19:06.983Z"
   },
   {
    "duration": 7987,
    "start_time": "2021-09-17T05:20:43.113Z"
   },
   {
    "duration": 394,
    "start_time": "2021-09-17T05:21:18.618Z"
   },
   {
    "duration": 412,
    "start_time": "2021-09-17T05:21:22.712Z"
   },
   {
    "duration": 367,
    "start_time": "2021-09-17T05:23:17.138Z"
   },
   {
    "duration": 376,
    "start_time": "2021-09-17T05:23:21.740Z"
   },
   {
    "duration": 670,
    "start_time": "2021-09-17T05:24:20.754Z"
   },
   {
    "duration": 395,
    "start_time": "2021-09-17T05:24:39.735Z"
   },
   {
    "duration": 403,
    "start_time": "2021-09-17T05:25:08.332Z"
   },
   {
    "duration": 382,
    "start_time": "2021-09-17T05:25:21.214Z"
   },
   {
    "duration": 367,
    "start_time": "2021-09-17T05:25:27.875Z"
   },
   {
    "duration": 405,
    "start_time": "2021-09-17T05:26:24.669Z"
   },
   {
    "duration": 7748,
    "start_time": "2021-09-17T05:27:31.767Z"
   },
   {
    "duration": 1200,
    "start_time": "2021-09-17T05:27:53.062Z"
   },
   {
    "duration": 640,
    "start_time": "2021-09-17T05:27:54.264Z"
   },
   {
    "duration": 105,
    "start_time": "2021-09-17T05:27:54.907Z"
   },
   {
    "duration": 36,
    "start_time": "2021-09-17T05:27:55.013Z"
   },
   {
    "duration": 15,
    "start_time": "2021-09-17T05:27:55.051Z"
   },
   {
    "duration": 84,
    "start_time": "2021-09-17T05:27:55.067Z"
   },
   {
    "duration": 197,
    "start_time": "2021-09-17T05:27:55.153Z"
   },
   {
    "duration": 185,
    "start_time": "2021-09-17T05:27:55.352Z"
   },
   {
    "duration": 21,
    "start_time": "2021-09-17T05:27:55.539Z"
   },
   {
    "duration": 289,
    "start_time": "2021-09-17T05:27:55.562Z"
   },
   {
    "duration": 4,
    "start_time": "2021-09-17T05:27:55.853Z"
   },
   {
    "duration": 26,
    "start_time": "2021-09-17T05:27:55.859Z"
   },
   {
    "duration": 3,
    "start_time": "2021-09-17T05:27:55.887Z"
   },
   {
    "duration": 24,
    "start_time": "2021-09-17T05:27:55.892Z"
   },
   {
    "duration": 333,
    "start_time": "2021-09-17T05:27:55.918Z"
   },
   {
    "duration": 23,
    "start_time": "2021-09-17T05:27:56.252Z"
   },
   {
    "duration": 10,
    "start_time": "2021-09-17T05:27:56.277Z"
   },
   {
    "duration": 68,
    "start_time": "2021-09-17T05:27:56.289Z"
   },
   {
    "duration": 183,
    "start_time": "2021-09-17T05:27:56.359Z"
   },
   {
    "duration": 14,
    "start_time": "2021-09-17T05:27:56.543Z"
   },
   {
    "duration": 148,
    "start_time": "2021-09-17T05:27:56.559Z"
   },
   {
    "duration": 5,
    "start_time": "2021-09-17T05:27:56.709Z"
   },
   {
    "duration": 22,
    "start_time": "2021-09-17T05:27:56.715Z"
   },
   {
    "duration": 792,
    "start_time": "2021-09-17T05:27:56.739Z"
   },
   {
    "duration": 6,
    "start_time": "2021-09-17T05:27:57.533Z"
   },
   {
    "duration": 358,
    "start_time": "2021-09-17T05:27:57.549Z"
   },
   {
    "duration": 39,
    "start_time": "2021-09-17T05:27:57.910Z"
   },
   {
    "duration": 254,
    "start_time": "2021-09-17T05:27:57.951Z"
   },
   {
    "duration": 421,
    "start_time": "2021-09-17T05:27:58.207Z"
   },
   {
    "duration": 1621,
    "start_time": "2021-09-17T05:27:58.630Z"
   },
   {
    "duration": 6,
    "start_time": "2021-09-17T05:28:00.253Z"
   },
   {
    "duration": 22,
    "start_time": "2021-09-17T05:28:00.260Z"
   },
   {
    "duration": 356,
    "start_time": "2021-09-17T05:28:00.284Z"
   },
   {
    "duration": 3,
    "start_time": "2021-09-17T05:28:00.649Z"
   },
   {
    "duration": 104,
    "start_time": "2021-09-17T05:28:00.653Z"
   },
   {
    "duration": 4,
    "start_time": "2021-09-17T05:28:00.758Z"
   },
   {
    "duration": 25,
    "start_time": "2021-09-17T05:28:00.764Z"
   },
   {
    "duration": 269,
    "start_time": "2021-09-17T05:28:00.791Z"
   },
   {
    "duration": 448,
    "start_time": "2021-09-17T05:28:01.062Z"
   },
   {
    "duration": 4,
    "start_time": "2021-09-17T05:28:01.511Z"
   },
   {
    "duration": 95,
    "start_time": "2021-09-17T05:28:01.517Z"
   },
   {
    "duration": 7,
    "start_time": "2021-09-17T05:28:01.614Z"
   },
   {
    "duration": 9450,
    "start_time": "2021-09-17T05:28:01.622Z"
   },
   {
    "duration": 496,
    "start_time": "2021-09-17T05:28:23.273Z"
   },
   {
    "duration": 7375,
    "start_time": "2021-09-17T05:29:57.630Z"
   },
   {
    "duration": 381,
    "start_time": "2021-09-17T05:30:20.239Z"
   },
   {
    "duration": 779,
    "start_time": "2021-09-17T05:31:32.174Z"
   },
   {
    "duration": 519,
    "start_time": "2021-09-17T05:31:38.703Z"
   },
   {
    "duration": 11,
    "start_time": "2021-09-17T05:33:55.867Z"
   },
   {
    "duration": 14,
    "start_time": "2021-09-17T05:34:47.283Z"
   },
   {
    "duration": 16,
    "start_time": "2021-09-17T05:35:11.509Z"
   },
   {
    "duration": 26,
    "start_time": "2021-09-17T05:37:27.784Z"
   },
   {
    "duration": 21,
    "start_time": "2021-09-17T05:39:37.986Z"
   },
   {
    "duration": 23,
    "start_time": "2021-09-17T05:40:46.304Z"
   },
   {
    "duration": 25,
    "start_time": "2021-09-17T05:41:44.942Z"
   },
   {
    "duration": 31,
    "start_time": "2021-09-17T05:41:53.132Z"
   },
   {
    "duration": 699,
    "start_time": "2021-09-17T05:43:33.791Z"
   },
   {
    "duration": 3699,
    "start_time": "2021-09-17T05:43:55.247Z"
   },
   {
    "duration": 703,
    "start_time": "2021-09-17T05:44:03.899Z"
   },
   {
    "duration": 583,
    "start_time": "2021-09-17T05:45:02.557Z"
   },
   {
    "duration": 322,
    "start_time": "2021-09-17T05:45:19.615Z"
   },
   {
    "duration": 5222,
    "start_time": "2021-09-17T05:45:50.703Z"
   },
   {
    "duration": 5295,
    "start_time": "2021-09-17T05:46:07.583Z"
   },
   {
    "duration": 4931,
    "start_time": "2021-09-17T05:46:23.307Z"
   },
   {
    "duration": 317,
    "start_time": "2021-09-17T05:46:33.269Z"
   },
   {
    "duration": 259,
    "start_time": "2021-09-17T05:46:42.190Z"
   },
   {
    "duration": 250,
    "start_time": "2021-09-17T05:46:46.359Z"
   },
   {
    "duration": 282,
    "start_time": "2021-09-18T05:51:50.563Z"
   },
   {
    "duration": 1364,
    "start_time": "2021-09-18T05:51:54.693Z"
   },
   {
    "duration": 834,
    "start_time": "2021-09-18T05:51:56.060Z"
   },
   {
    "duration": 165,
    "start_time": "2021-09-18T05:51:56.896Z"
   },
   {
    "duration": 31,
    "start_time": "2021-09-18T05:51:57.063Z"
   },
   {
    "duration": 22,
    "start_time": "2021-09-18T05:51:57.096Z"
   },
   {
    "duration": 102,
    "start_time": "2021-09-18T05:51:57.119Z"
   },
   {
    "duration": 315,
    "start_time": "2021-09-18T05:51:57.224Z"
   },
   {
    "duration": 272,
    "start_time": "2021-09-18T05:51:57.542Z"
   },
   {
    "duration": 33,
    "start_time": "2021-09-18T05:51:57.817Z"
   },
   {
    "duration": 370,
    "start_time": "2021-09-18T05:51:57.852Z"
   },
   {
    "duration": 5,
    "start_time": "2021-09-18T05:51:58.224Z"
   },
   {
    "duration": 4270,
    "start_time": "2021-09-18T05:51:58.231Z"
   },
   {
    "duration": 26,
    "start_time": "2021-09-18T05:52:02.502Z"
   },
   {
    "duration": 3,
    "start_time": "2021-09-18T05:52:02.530Z"
   },
   {
    "duration": 34,
    "start_time": "2021-09-18T05:52:02.535Z"
   },
   {
    "duration": 321,
    "start_time": "2021-09-18T05:52:02.571Z"
   },
   {
    "duration": 20,
    "start_time": "2021-09-18T05:52:02.894Z"
   },
   {
    "duration": 8,
    "start_time": "2021-09-18T05:52:02.916Z"
   },
   {
    "duration": 59,
    "start_time": "2021-09-18T05:52:02.925Z"
   },
   {
    "duration": 179,
    "start_time": "2021-09-18T05:52:02.985Z"
   },
   {
    "duration": 13,
    "start_time": "2021-09-18T05:52:03.166Z"
   },
   {
    "duration": 141,
    "start_time": "2021-09-18T05:52:03.181Z"
   },
   {
    "duration": 6,
    "start_time": "2021-09-18T05:52:03.325Z"
   },
   {
    "duration": 23,
    "start_time": "2021-09-18T05:52:03.333Z"
   },
   {
    "duration": 752,
    "start_time": "2021-09-18T05:52:03.359Z"
   },
   {
    "duration": 6,
    "start_time": "2021-09-18T05:52:04.113Z"
   },
   {
    "duration": 366,
    "start_time": "2021-09-18T05:52:04.121Z"
   },
   {
    "duration": 30,
    "start_time": "2021-09-18T05:52:04.488Z"
   },
   {
    "duration": 362,
    "start_time": "2021-09-18T05:52:04.519Z"
   },
   {
    "duration": 337,
    "start_time": "2021-09-18T05:52:04.883Z"
   },
   {
    "duration": 1829,
    "start_time": "2021-09-18T05:52:05.222Z"
   },
   {
    "duration": 6,
    "start_time": "2021-09-18T05:52:07.052Z"
   },
   {
    "duration": 17,
    "start_time": "2021-09-18T05:52:07.060Z"
   },
   {
    "duration": 355,
    "start_time": "2021-09-18T05:52:07.079Z"
   },
   {
    "duration": 2,
    "start_time": "2021-09-18T05:52:07.435Z"
   },
   {
    "duration": 86,
    "start_time": "2021-09-18T05:52:07.439Z"
   },
   {
    "duration": 4,
    "start_time": "2021-09-18T05:52:07.527Z"
   },
   {
    "duration": 23,
    "start_time": "2021-09-18T05:52:07.533Z"
   },
   {
    "duration": 268,
    "start_time": "2021-09-18T05:52:07.558Z"
   },
   {
    "duration": 424,
    "start_time": "2021-09-18T05:52:07.828Z"
   },
   {
    "duration": 5,
    "start_time": "2021-09-18T05:52:08.254Z"
   },
   {
    "duration": 427,
    "start_time": "2021-09-18T05:52:08.261Z"
   },
   {
    "duration": 10,
    "start_time": "2021-09-18T05:52:08.690Z"
   },
   {
    "duration": 11,
    "start_time": "2021-09-18T05:52:08.702Z"
   },
   {
    "duration": 37,
    "start_time": "2021-09-18T05:52:08.714Z"
   },
   {
    "duration": 29,
    "start_time": "2021-09-18T05:52:08.753Z"
   },
   {
    "duration": 31,
    "start_time": "2021-09-18T05:52:08.784Z"
   },
   {
    "duration": 428,
    "start_time": "2021-09-18T05:53:36.301Z"
   },
   {
    "duration": 5,
    "start_time": "2021-09-18T05:56:13.187Z"
   },
   {
    "duration": 6,
    "start_time": "2021-09-18T05:56:15.362Z"
   },
   {
    "duration": 1229,
    "start_time": "2021-09-18T05:56:19.159Z"
   },
   {
    "duration": 652,
    "start_time": "2021-09-18T05:56:20.390Z"
   },
   {
    "duration": 168,
    "start_time": "2021-09-18T05:56:21.046Z"
   },
   {
    "duration": 34,
    "start_time": "2021-09-18T05:56:21.216Z"
   },
   {
    "duration": 16,
    "start_time": "2021-09-18T05:56:21.251Z"
   },
   {
    "duration": 84,
    "start_time": "2021-09-18T05:56:21.269Z"
   },
   {
    "duration": 203,
    "start_time": "2021-09-18T05:56:21.356Z"
   },
   {
    "duration": 188,
    "start_time": "2021-09-18T05:56:21.561Z"
   },
   {
    "duration": 18,
    "start_time": "2021-09-18T05:56:21.750Z"
   },
   {
    "duration": 398,
    "start_time": "2021-09-18T05:56:21.770Z"
   },
   {
    "duration": 4,
    "start_time": "2021-09-18T05:56:22.170Z"
   },
   {
    "duration": 277,
    "start_time": "2021-09-18T05:56:22.175Z"
   },
   {
    "duration": 25,
    "start_time": "2021-09-18T05:56:22.453Z"
   },
   {
    "duration": 4,
    "start_time": "2021-09-18T05:56:22.480Z"
   },
   {
    "duration": 51,
    "start_time": "2021-09-18T05:56:22.486Z"
   },
   {
    "duration": 470,
    "start_time": "2021-09-18T05:56:22.539Z"
   },
   {
    "duration": 25,
    "start_time": "2021-09-18T05:56:23.011Z"
   },
   {
    "duration": 20,
    "start_time": "2021-09-18T05:56:23.038Z"
   },
   {
    "duration": 57,
    "start_time": "2021-09-18T05:56:23.060Z"
   },
   {
    "duration": 255,
    "start_time": "2021-09-18T05:56:23.119Z"
   },
   {
    "duration": 18,
    "start_time": "2021-09-18T05:56:23.376Z"
   },
   {
    "duration": 179,
    "start_time": "2021-09-18T05:56:23.398Z"
   },
   {
    "duration": 5,
    "start_time": "2021-09-18T05:56:23.579Z"
   },
   {
    "duration": 24,
    "start_time": "2021-09-18T05:56:23.585Z"
   },
   {
    "duration": 845,
    "start_time": "2021-09-18T05:56:23.611Z"
   },
   {
    "duration": 7,
    "start_time": "2021-09-18T05:56:24.458Z"
   },
   {
    "duration": 536,
    "start_time": "2021-09-18T05:56:24.467Z"
   },
   {
    "duration": 58,
    "start_time": "2021-09-18T05:56:25.006Z"
   },
   {
    "duration": 326,
    "start_time": "2021-09-18T05:56:25.066Z"
   },
   {
    "duration": 372,
    "start_time": "2021-09-18T05:56:25.394Z"
   },
   {
    "duration": 1686,
    "start_time": "2021-09-18T05:56:25.767Z"
   },
   {
    "duration": 6,
    "start_time": "2021-09-18T05:56:27.454Z"
   },
   {
    "duration": 18,
    "start_time": "2021-09-18T05:56:27.461Z"
   },
   {
    "duration": 368,
    "start_time": "2021-09-18T05:56:27.481Z"
   },
   {
    "duration": 3,
    "start_time": "2021-09-18T05:56:27.850Z"
   },
   {
    "duration": 76,
    "start_time": "2021-09-18T05:56:27.854Z"
   },
   {
    "duration": 18,
    "start_time": "2021-09-18T05:56:27.932Z"
   },
   {
    "duration": 12,
    "start_time": "2021-09-18T05:56:27.952Z"
   },
   {
    "duration": 283,
    "start_time": "2021-09-18T05:56:27.966Z"
   },
   {
    "duration": 436,
    "start_time": "2021-09-18T05:56:28.250Z"
   },
   {
    "duration": 5,
    "start_time": "2021-09-18T05:56:28.688Z"
   },
   {
    "duration": 426,
    "start_time": "2021-09-18T05:56:28.695Z"
   },
   {
    "duration": 9,
    "start_time": "2021-09-18T05:56:29.123Z"
   },
   {
    "duration": 13,
    "start_time": "2021-09-18T05:56:29.149Z"
   },
   {
    "duration": 15,
    "start_time": "2021-09-18T05:56:29.164Z"
   },
   {
    "duration": 26,
    "start_time": "2021-09-18T05:56:29.181Z"
   },
   {
    "duration": 63,
    "start_time": "2021-09-18T05:56:29.210Z"
   },
   {
    "duration": 178,
    "start_time": "2021-09-18T05:56:34.239Z"
   },
   {
    "duration": 5,
    "start_time": "2021-09-18T05:56:46.857Z"
   },
   {
    "duration": 439,
    "start_time": "2021-09-18T05:58:09.162Z"
   },
   {
    "duration": 555,
    "start_time": "2021-09-18T05:59:44.748Z"
   },
   {
    "duration": 444,
    "start_time": "2021-09-18T06:00:36.976Z"
   },
   {
    "duration": 420,
    "start_time": "2021-09-18T06:01:07.800Z"
   },
   {
    "duration": 14,
    "start_time": "2021-09-18T06:02:43.179Z"
   },
   {
    "duration": 336,
    "start_time": "2021-09-18T06:02:48.261Z"
   },
   {
    "duration": 886,
    "start_time": "2021-09-18T06:04:12.124Z"
   },
   {
    "duration": 576,
    "start_time": "2021-09-18T06:04:56.915Z"
   },
   {
    "duration": 502,
    "start_time": "2021-09-18T06:05:04.081Z"
   },
   {
    "duration": 493,
    "start_time": "2021-09-18T06:05:10.997Z"
   },
   {
    "duration": 451,
    "start_time": "2021-09-18T06:05:22.855Z"
   },
   {
    "duration": 574,
    "start_time": "2021-09-18T06:05:34.117Z"
   },
   {
    "duration": 442,
    "start_time": "2021-09-18T06:05:59.275Z"
   },
   {
    "duration": 444,
    "start_time": "2021-09-18T06:06:13.012Z"
   },
   {
    "duration": 542,
    "start_time": "2021-09-18T06:06:26.369Z"
   },
   {
    "duration": 432,
    "start_time": "2021-09-18T06:06:31.213Z"
   },
   {
    "duration": 396,
    "start_time": "2021-09-18T06:06:37.753Z"
   },
   {
    "duration": 18,
    "start_time": "2021-09-18T06:13:41.317Z"
   },
   {
    "duration": 281,
    "start_time": "2021-09-18T06:14:07.815Z"
   },
   {
    "duration": 321,
    "start_time": "2021-09-18T06:14:14.862Z"
   },
   {
    "duration": 16,
    "start_time": "2021-09-18T06:17:05.571Z"
   },
   {
    "duration": 15,
    "start_time": "2021-09-18T06:17:30.831Z"
   },
   {
    "duration": 1725,
    "start_time": "2021-09-18T06:17:39.055Z"
   },
   {
    "duration": 2363,
    "start_time": "2021-09-18T06:17:47.597Z"
   },
   {
    "duration": 101,
    "start_time": "2021-09-18T06:18:04.479Z"
   },
   {
    "duration": 81,
    "start_time": "2021-09-18T06:18:12.011Z"
   },
   {
    "duration": 2370,
    "start_time": "2021-09-18T06:18:19.469Z"
   },
   {
    "duration": 1640,
    "start_time": "2021-09-18T06:18:36.150Z"
   },
   {
    "duration": 319,
    "start_time": "2021-09-18T06:18:47.107Z"
   },
   {
    "duration": 343,
    "start_time": "2021-09-18T06:18:53.199Z"
   },
   {
    "duration": 337,
    "start_time": "2021-09-18T06:19:31.087Z"
   },
   {
    "duration": 23,
    "start_time": "2021-09-18T06:22:56.489Z"
   },
   {
    "duration": 386,
    "start_time": "2021-09-18T06:26:16.259Z"
   },
   {
    "duration": 286,
    "start_time": "2021-09-18T06:26:55.374Z"
   },
   {
    "duration": 160,
    "start_time": "2021-09-18T06:27:51.089Z"
   },
   {
    "duration": 8227,
    "start_time": "2021-09-18T06:28:25.311Z"
   },
   {
    "duration": 1221,
    "start_time": "2021-09-18T06:28:40.192Z"
   },
   {
    "duration": 667,
    "start_time": "2021-09-18T06:28:41.415Z"
   },
   {
    "duration": 113,
    "start_time": "2021-09-18T06:28:42.087Z"
   },
   {
    "duration": 23,
    "start_time": "2021-09-18T06:28:42.202Z"
   },
   {
    "duration": 33,
    "start_time": "2021-09-18T06:28:42.227Z"
   },
   {
    "duration": 70,
    "start_time": "2021-09-18T06:28:42.261Z"
   },
   {
    "duration": 220,
    "start_time": "2021-09-18T06:28:42.334Z"
   },
   {
    "duration": 192,
    "start_time": "2021-09-18T06:28:42.557Z"
   },
   {
    "duration": 18,
    "start_time": "2021-09-18T06:28:42.751Z"
   },
   {
    "duration": 543,
    "start_time": "2021-09-18T06:28:42.771Z"
   },
   {
    "duration": 407,
    "start_time": "2021-09-18T06:28:43.317Z"
   },
   {
    "duration": 394,
    "start_time": "2021-09-18T06:28:43.726Z"
   },
   {
    "duration": 33,
    "start_time": "2021-09-18T06:28:44.122Z"
   },
   {
    "duration": 3,
    "start_time": "2021-09-18T06:28:44.157Z"
   },
   {
    "duration": 31,
    "start_time": "2021-09-18T06:28:44.161Z"
   },
   {
    "duration": 332,
    "start_time": "2021-09-18T06:28:44.193Z"
   },
   {
    "duration": 30,
    "start_time": "2021-09-18T06:28:44.527Z"
   },
   {
    "duration": 9,
    "start_time": "2021-09-18T06:28:44.559Z"
   },
   {
    "duration": 41,
    "start_time": "2021-09-18T06:28:44.569Z"
   },
   {
    "duration": 199,
    "start_time": "2021-09-18T06:28:44.612Z"
   },
   {
    "duration": 14,
    "start_time": "2021-09-18T06:28:44.813Z"
   },
   {
    "duration": 143,
    "start_time": "2021-09-18T06:28:44.831Z"
   },
   {
    "duration": 5,
    "start_time": "2021-09-18T06:28:44.976Z"
   },
   {
    "duration": 17,
    "start_time": "2021-09-18T06:28:44.983Z"
   },
   {
    "duration": 915,
    "start_time": "2021-09-18T06:28:45.003Z"
   },
   {
    "duration": 6,
    "start_time": "2021-09-18T06:28:45.920Z"
   },
   {
    "duration": 421,
    "start_time": "2021-09-18T06:28:45.928Z"
   },
   {
    "duration": 33,
    "start_time": "2021-09-18T06:28:46.351Z"
   },
   {
    "duration": 16,
    "start_time": "2021-09-18T06:28:46.387Z"
   },
   {
    "duration": 374,
    "start_time": "2021-09-18T06:28:46.404Z"
   },
   {
    "duration": 1648,
    "start_time": "2021-09-18T06:28:46.781Z"
   },
   {
    "duration": 30,
    "start_time": "2021-09-18T06:28:48.431Z"
   },
   {
    "duration": 525,
    "start_time": "2021-09-18T06:28:48.463Z"
   },
   {
    "duration": 3,
    "start_time": "2021-09-18T06:28:48.990Z"
   },
   {
    "duration": 133,
    "start_time": "2021-09-18T06:28:48.995Z"
   },
   {
    "duration": 5,
    "start_time": "2021-09-18T06:28:49.130Z"
   },
   {
    "duration": 22,
    "start_time": "2021-09-18T06:28:49.137Z"
   },
   {
    "duration": 312,
    "start_time": "2021-09-18T06:28:49.161Z"
   },
   {
    "duration": 461,
    "start_time": "2021-09-18T06:28:49.475Z"
   },
   {
    "duration": 121,
    "start_time": "2021-09-18T06:28:49.949Z"
   },
   {
    "duration": 5,
    "start_time": "2021-09-18T06:28:50.071Z"
   },
   {
    "duration": 465,
    "start_time": "2021-09-18T06:28:50.077Z"
   },
   {
    "duration": 11,
    "start_time": "2021-09-18T06:28:50.543Z"
   },
   {
    "duration": 18,
    "start_time": "2021-09-18T06:28:50.556Z"
   },
   {
    "duration": 16,
    "start_time": "2021-09-18T06:28:50.576Z"
   },
   {
    "duration": 28,
    "start_time": "2021-09-18T06:28:50.594Z"
   },
   {
    "duration": 43,
    "start_time": "2021-09-18T06:28:50.624Z"
   },
   {
    "duration": 7959,
    "start_time": "2021-09-18T06:29:00.019Z"
   },
   {
    "duration": 240,
    "start_time": "2021-09-18T06:29:08.329Z"
   },
   {
    "duration": 1323,
    "start_time": "2021-09-18T06:29:18.195Z"
   },
   {
    "duration": 903,
    "start_time": "2021-09-18T06:29:19.520Z"
   },
   {
    "duration": 164,
    "start_time": "2021-09-18T06:29:20.425Z"
   },
   {
    "duration": 25,
    "start_time": "2021-09-18T06:29:20.591Z"
   },
   {
    "duration": 34,
    "start_time": "2021-09-18T06:29:20.618Z"
   },
   {
    "duration": 70,
    "start_time": "2021-09-18T06:29:20.654Z"
   },
   {
    "duration": 214,
    "start_time": "2021-09-18T06:29:20.726Z"
   },
   {
    "duration": 194,
    "start_time": "2021-09-18T06:29:20.943Z"
   },
   {
    "duration": 23,
    "start_time": "2021-09-18T06:29:21.139Z"
   },
   {
    "duration": 519,
    "start_time": "2021-09-18T06:29:21.164Z"
   },
   {
    "duration": 390,
    "start_time": "2021-09-18T06:29:21.685Z"
   },
   {
    "duration": 382,
    "start_time": "2021-09-18T06:29:22.076Z"
   },
   {
    "duration": 28,
    "start_time": "2021-09-18T06:29:22.459Z"
   },
   {
    "duration": 4,
    "start_time": "2021-09-18T06:29:22.488Z"
   },
   {
    "duration": 25,
    "start_time": "2021-09-18T06:29:22.494Z"
   },
   {
    "duration": 344,
    "start_time": "2021-09-18T06:29:22.520Z"
   },
   {
    "duration": 26,
    "start_time": "2021-09-18T06:29:22.866Z"
   },
   {
    "duration": 11,
    "start_time": "2021-09-18T06:29:22.895Z"
   },
   {
    "duration": 64,
    "start_time": "2021-09-18T06:29:22.908Z"
   },
   {
    "duration": 195,
    "start_time": "2021-09-18T06:29:22.974Z"
   },
   {
    "duration": 16,
    "start_time": "2021-09-18T06:29:23.171Z"
   },
   {
    "duration": 144,
    "start_time": "2021-09-18T06:29:23.189Z"
   },
   {
    "duration": 5,
    "start_time": "2021-09-18T06:29:23.337Z"
   },
   {
    "duration": 23,
    "start_time": "2021-09-18T06:29:23.350Z"
   },
   {
    "duration": 850,
    "start_time": "2021-09-18T06:29:23.374Z"
   },
   {
    "duration": 8,
    "start_time": "2021-09-18T06:29:24.226Z"
   },
   {
    "duration": 425,
    "start_time": "2021-09-18T06:29:24.249Z"
   },
   {
    "duration": 35,
    "start_time": "2021-09-18T06:29:24.676Z"
   },
   {
    "duration": 36,
    "start_time": "2021-09-18T06:29:24.713Z"
   },
   {
    "duration": 358,
    "start_time": "2021-09-18T06:29:24.752Z"
   },
   {
    "duration": 1652,
    "start_time": "2021-09-18T06:29:25.112Z"
   },
   {
    "duration": 18,
    "start_time": "2021-09-18T06:29:26.766Z"
   },
   {
    "duration": 363,
    "start_time": "2021-09-18T06:29:26.786Z"
   },
   {
    "duration": 2,
    "start_time": "2021-09-18T06:29:27.151Z"
   },
   {
    "duration": 98,
    "start_time": "2021-09-18T06:29:27.155Z"
   },
   {
    "duration": 5,
    "start_time": "2021-09-18T06:29:27.254Z"
   },
   {
    "duration": 12,
    "start_time": "2021-09-18T06:29:27.260Z"
   },
   {
    "duration": 285,
    "start_time": "2021-09-18T06:29:27.274Z"
   },
   {
    "duration": 448,
    "start_time": "2021-09-18T06:29:27.561Z"
   },
   {
    "duration": 450,
    "start_time": "2021-09-18T06:29:28.011Z"
   },
   {
    "duration": 1620,
    "start_time": "2021-09-18T06:29:26.843Z"
   },
   {
    "duration": 1621,
    "start_time": "2021-09-18T06:29:26.844Z"
   },
   {
    "duration": 1621,
    "start_time": "2021-09-18T06:29:26.845Z"
   },
   {
    "duration": 1620,
    "start_time": "2021-09-18T06:29:26.847Z"
   },
   {
    "duration": 1620,
    "start_time": "2021-09-18T06:29:26.848Z"
   },
   {
    "duration": 1613,
    "start_time": "2021-09-18T06:29:26.856Z"
   },
   {
    "duration": 1612,
    "start_time": "2021-09-18T06:29:26.858Z"
   },
   {
    "duration": 119,
    "start_time": "2021-09-18T06:29:53.544Z"
   },
   {
    "duration": 118,
    "start_time": "2021-09-18T06:30:07.898Z"
   },
   {
    "duration": 113,
    "start_time": "2021-09-18T06:30:28.557Z"
   },
   {
    "duration": 125,
    "start_time": "2021-09-18T06:30:51.949Z"
   },
   {
    "duration": 217,
    "start_time": "2021-09-18T06:31:25.255Z"
   },
   {
    "duration": 94,
    "start_time": "2021-09-18T06:31:48.072Z"
   },
   {
    "duration": 167,
    "start_time": "2021-09-18T06:32:06.861Z"
   },
   {
    "duration": 118,
    "start_time": "2021-09-18T06:32:13.085Z"
   },
   {
    "duration": 8042,
    "start_time": "2021-09-18T06:33:14.493Z"
   },
   {
    "duration": 614,
    "start_time": "2021-09-18T06:33:48.738Z"
   },
   {
    "duration": 122,
    "start_time": "2021-09-18T06:33:57.950Z"
   },
   {
    "duration": 457,
    "start_time": "2021-09-18T06:36:01.376Z"
   },
   {
    "duration": 11,
    "start_time": "2021-09-18T06:36:45.180Z"
   },
   {
    "duration": 13,
    "start_time": "2021-09-18T06:36:45.500Z"
   },
   {
    "duration": 17,
    "start_time": "2021-09-18T06:36:45.889Z"
   },
   {
    "duration": 29,
    "start_time": "2021-09-18T06:36:46.251Z"
   },
   {
    "duration": 32,
    "start_time": "2021-09-18T06:36:46.529Z"
   },
   {
    "duration": 731,
    "start_time": "2021-09-18T06:38:07.023Z"
   },
   {
    "duration": 716,
    "start_time": "2021-09-18T06:38:42.999Z"
   },
   {
    "duration": 32,
    "start_time": "2021-09-18T06:40:46.768Z"
   },
   {
    "duration": 846,
    "start_time": "2021-09-18T06:40:49.145Z"
   },
   {
    "duration": 33,
    "start_time": "2021-09-18T06:41:25.985Z"
   },
   {
    "duration": 2,
    "start_time": "2021-09-18T06:54:09.421Z"
   },
   {
    "duration": 613,
    "start_time": "2021-09-18T06:54:10.412Z"
   },
   {
    "duration": 82,
    "start_time": "2021-09-18T06:58:18.900Z"
   },
   {
    "duration": 7691,
    "start_time": "2021-09-18T06:59:56.646Z"
   },
   {
    "duration": 9,
    "start_time": "2021-09-18T07:00:05.010Z"
   },
   {
    "duration": 1140,
    "start_time": "2021-09-18T07:01:47.334Z"
   },
   {
    "duration": 628,
    "start_time": "2021-09-18T07:01:48.476Z"
   },
   {
    "duration": 109,
    "start_time": "2021-09-18T07:01:49.109Z"
   },
   {
    "duration": 33,
    "start_time": "2021-09-18T07:01:49.220Z"
   },
   {
    "duration": 18,
    "start_time": "2021-09-18T07:01:49.254Z"
   },
   {
    "duration": 90,
    "start_time": "2021-09-18T07:01:49.274Z"
   },
   {
    "duration": 196,
    "start_time": "2021-09-18T07:01:49.366Z"
   },
   {
    "duration": 181,
    "start_time": "2021-09-18T07:01:49.564Z"
   },
   {
    "duration": 11,
    "start_time": "2021-09-18T07:01:49.749Z"
   },
   {
    "duration": 506,
    "start_time": "2021-09-18T07:01:49.762Z"
   },
   {
    "duration": 384,
    "start_time": "2021-09-18T07:01:50.269Z"
   },
   {
    "duration": 367,
    "start_time": "2021-09-18T07:01:50.655Z"
   },
   {
    "duration": 30,
    "start_time": "2021-09-18T07:01:51.024Z"
   },
   {
    "duration": 3,
    "start_time": "2021-09-18T07:01:51.056Z"
   },
   {
    "duration": 27,
    "start_time": "2021-09-18T07:01:51.062Z"
   },
   {
    "duration": 341,
    "start_time": "2021-09-18T07:01:51.091Z"
   },
   {
    "duration": 26,
    "start_time": "2021-09-18T07:01:51.434Z"
   },
   {
    "duration": 8,
    "start_time": "2021-09-18T07:01:51.461Z"
   },
   {
    "duration": 39,
    "start_time": "2021-09-18T07:01:51.471Z"
   },
   {
    "duration": 205,
    "start_time": "2021-09-18T07:01:51.512Z"
   },
   {
    "duration": 14,
    "start_time": "2021-09-18T07:01:51.719Z"
   },
   {
    "duration": 130,
    "start_time": "2021-09-18T07:01:51.749Z"
   },
   {
    "duration": 5,
    "start_time": "2021-09-18T07:01:51.882Z"
   },
   {
    "duration": 20,
    "start_time": "2021-09-18T07:01:51.889Z"
   },
   {
    "duration": 910,
    "start_time": "2021-09-18T07:01:51.911Z"
   },
   {
    "duration": 6,
    "start_time": "2021-09-18T07:01:52.823Z"
   },
   {
    "duration": 406,
    "start_time": "2021-09-18T07:01:52.830Z"
   },
   {
    "duration": 35,
    "start_time": "2021-09-18T07:01:53.238Z"
   },
   {
    "duration": 16,
    "start_time": "2021-09-18T07:01:53.275Z"
   },
   {
    "duration": 380,
    "start_time": "2021-09-18T07:01:53.293Z"
   },
   {
    "duration": 1678,
    "start_time": "2021-09-18T07:01:53.674Z"
   },
   {
    "duration": 18,
    "start_time": "2021-09-18T07:01:55.353Z"
   },
   {
    "duration": 381,
    "start_time": "2021-09-18T07:01:55.373Z"
   },
   {
    "duration": 2,
    "start_time": "2021-09-18T07:01:55.756Z"
   },
   {
    "duration": 99,
    "start_time": "2021-09-18T07:01:55.760Z"
   },
   {
    "duration": 5,
    "start_time": "2021-09-18T07:01:55.861Z"
   },
   {
    "duration": 33,
    "start_time": "2021-09-18T07:01:55.867Z"
   },
   {
    "duration": 294,
    "start_time": "2021-09-18T07:01:55.901Z"
   },
   {
    "duration": 476,
    "start_time": "2021-09-18T07:01:56.197Z"
   },
   {
    "duration": 143,
    "start_time": "2021-09-18T07:01:56.675Z"
   },
   {
    "duration": 6,
    "start_time": "2021-09-18T07:01:56.820Z"
   },
   {
    "duration": 473,
    "start_time": "2021-09-18T07:01:56.828Z"
   },
   {
    "duration": 13,
    "start_time": "2021-09-18T07:01:57.303Z"
   },
   {
    "duration": 32,
    "start_time": "2021-09-18T07:01:57.318Z"
   },
   {
    "duration": 32,
    "start_time": "2021-09-18T07:01:57.353Z"
   },
   {
    "duration": 29,
    "start_time": "2021-09-18T07:01:57.387Z"
   },
   {
    "duration": 46,
    "start_time": "2021-09-18T07:01:57.419Z"
   },
   {
    "duration": 725,
    "start_time": "2021-09-18T07:01:57.467Z"
   },
   {
    "duration": 544,
    "start_time": "2021-09-18T07:10:44.295Z"
   },
   {
    "duration": 559,
    "start_time": "2021-09-18T07:16:52.140Z"
   },
   {
    "duration": 550,
    "start_time": "2021-09-18T07:17:02.056Z"
   },
   {
    "duration": 1152,
    "start_time": "2021-09-18T07:18:38.736Z"
   },
   {
    "duration": 886,
    "start_time": "2021-09-18T07:18:39.890Z"
   },
   {
    "duration": 106,
    "start_time": "2021-09-18T07:18:40.778Z"
   },
   {
    "duration": 25,
    "start_time": "2021-09-18T07:18:40.886Z"
   },
   {
    "duration": 38,
    "start_time": "2021-09-18T07:18:40.913Z"
   },
   {
    "duration": 70,
    "start_time": "2021-09-18T07:18:40.953Z"
   },
   {
    "duration": 206,
    "start_time": "2021-09-18T07:18:41.025Z"
   },
   {
    "duration": 234,
    "start_time": "2021-09-18T07:18:41.234Z"
   },
   {
    "duration": 11,
    "start_time": "2021-09-18T07:18:41.471Z"
   },
   {
    "duration": 475,
    "start_time": "2021-09-18T07:18:41.483Z"
   },
   {
    "duration": 375,
    "start_time": "2021-09-18T07:18:41.960Z"
   },
   {
    "duration": 364,
    "start_time": "2021-09-18T07:18:42.337Z"
   },
   {
    "duration": 27,
    "start_time": "2021-09-18T07:18:42.703Z"
   },
   {
    "duration": 18,
    "start_time": "2021-09-18T07:18:42.732Z"
   },
   {
    "duration": 25,
    "start_time": "2021-09-18T07:18:42.752Z"
   },
   {
    "duration": 334,
    "start_time": "2021-09-18T07:18:42.778Z"
   },
   {
    "duration": 36,
    "start_time": "2021-09-18T07:18:43.114Z"
   },
   {
    "duration": 10,
    "start_time": "2021-09-18T07:18:43.152Z"
   },
   {
    "duration": 49,
    "start_time": "2021-09-18T07:18:43.164Z"
   },
   {
    "duration": 199,
    "start_time": "2021-09-18T07:18:43.215Z"
   },
   {
    "duration": 14,
    "start_time": "2021-09-18T07:18:43.416Z"
   },
   {
    "duration": 148,
    "start_time": "2021-09-18T07:18:43.432Z"
   },
   {
    "duration": 5,
    "start_time": "2021-09-18T07:18:43.585Z"
   },
   {
    "duration": 25,
    "start_time": "2021-09-18T07:18:43.593Z"
   },
   {
    "duration": 899,
    "start_time": "2021-09-18T07:18:43.620Z"
   },
   {
    "duration": 5,
    "start_time": "2021-09-18T07:18:44.521Z"
   },
   {
    "duration": 397,
    "start_time": "2021-09-18T07:18:44.528Z"
   },
   {
    "duration": 41,
    "start_time": "2021-09-18T07:18:44.927Z"
   },
   {
    "duration": 15,
    "start_time": "2021-09-18T07:18:44.970Z"
   },
   {
    "duration": 352,
    "start_time": "2021-09-18T07:18:44.986Z"
   },
   {
    "duration": 1652,
    "start_time": "2021-09-18T07:18:45.340Z"
   },
   {
    "duration": 18,
    "start_time": "2021-09-18T07:18:46.994Z"
   },
   {
    "duration": 368,
    "start_time": "2021-09-18T07:18:47.013Z"
   },
   {
    "duration": 3,
    "start_time": "2021-09-18T07:18:47.383Z"
   },
   {
    "duration": 91,
    "start_time": "2021-09-18T07:18:47.388Z"
   },
   {
    "duration": 5,
    "start_time": "2021-09-18T07:18:47.481Z"
   },
   {
    "duration": 29,
    "start_time": "2021-09-18T07:18:47.488Z"
   },
   {
    "duration": 281,
    "start_time": "2021-09-18T07:18:47.519Z"
   },
   {
    "duration": 433,
    "start_time": "2021-09-18T07:18:47.802Z"
   },
   {
    "duration": 133,
    "start_time": "2021-09-18T07:18:48.237Z"
   },
   {
    "duration": 5,
    "start_time": "2021-09-18T07:18:48.372Z"
   },
   {
    "duration": 439,
    "start_time": "2021-09-18T07:18:48.379Z"
   },
   {
    "duration": 10,
    "start_time": "2021-09-18T07:18:48.819Z"
   },
   {
    "duration": 27,
    "start_time": "2021-09-18T07:18:48.831Z"
   },
   {
    "duration": 29,
    "start_time": "2021-09-18T07:18:48.860Z"
   },
   {
    "duration": 28,
    "start_time": "2021-09-18T07:18:48.891Z"
   },
   {
    "duration": 42,
    "start_time": "2021-09-18T07:18:48.921Z"
   },
   {
    "duration": 714,
    "start_time": "2021-09-18T07:18:48.965Z"
   },
   {
    "duration": 452,
    "start_time": "2021-09-18T07:30:38.142Z"
   },
   {
    "duration": 582,
    "start_time": "2021-09-18T07:30:42.840Z"
   },
   {
    "duration": 427,
    "start_time": "2021-09-18T07:31:12.445Z"
   },
   {
    "duration": 489,
    "start_time": "2021-09-18T07:31:32.497Z"
   },
   {
    "duration": 994,
    "start_time": "2021-09-18T07:32:34.625Z"
   },
   {
    "duration": 883,
    "start_time": "2021-09-18T09:00:14.949Z"
   },
   {
    "duration": 1010,
    "start_time": "2021-09-18T09:00:34.406Z"
   },
   {
    "duration": 982,
    "start_time": "2021-09-18T09:00:46.571Z"
   },
   {
    "duration": 323,
    "start_time": "2021-09-18T09:15:00.659Z"
   },
   {
    "duration": 407,
    "start_time": "2021-09-18T09:16:03.123Z"
   },
   {
    "duration": 26,
    "start_time": "2021-09-18T09:20:15.316Z"
   },
   {
    "duration": 4,
    "start_time": "2021-09-18T09:20:15.760Z"
   },
   {
    "duration": 384,
    "start_time": "2021-09-18T09:20:16.270Z"
   },
   {
    "duration": 406,
    "start_time": "2021-09-18T09:20:24.657Z"
   },
   {
    "duration": 23,
    "start_time": "2021-09-18T09:22:03.437Z"
   },
   {
    "duration": 498,
    "start_time": "2021-09-18T09:23:15.995Z"
   },
   {
    "duration": 552,
    "start_time": "2021-09-18T09:40:42.945Z"
   },
   {
    "duration": 13,
    "start_time": "2021-09-18T09:41:02.933Z"
   },
   {
    "duration": 297,
    "start_time": "2021-09-18T09:41:13.714Z"
   },
   {
    "duration": 495,
    "start_time": "2021-09-18T09:41:24.223Z"
   },
   {
    "duration": 510,
    "start_time": "2021-09-18T09:41:25.315Z"
   },
   {
    "duration": 541,
    "start_time": "2021-09-18T09:41:32.220Z"
   },
   {
    "duration": 641,
    "start_time": "2021-09-18T09:41:33.447Z"
   },
   {
    "duration": 15,
    "start_time": "2021-09-18T09:41:42.489Z"
   },
   {
    "duration": 22,
    "start_time": "2021-09-18T09:41:53.878Z"
   },
   {
    "duration": 179,
    "start_time": "2021-09-18T09:42:21.006Z"
   },
   {
    "duration": 258,
    "start_time": "2021-09-18T09:43:11.387Z"
   },
   {
    "duration": 372,
    "start_time": "2021-09-18T09:43:34.595Z"
   },
   {
    "duration": 6,
    "start_time": "2021-09-18T09:43:43.147Z"
   },
   {
    "duration": 6,
    "start_time": "2021-09-18T09:43:52.629Z"
   },
   {
    "duration": 757,
    "start_time": "2021-09-18T10:05:16.735Z"
   },
   {
    "duration": 374,
    "start_time": "2021-09-18T10:05:28.006Z"
   },
   {
    "duration": 513,
    "start_time": "2021-09-18T10:05:52.029Z"
   },
   {
    "duration": 366,
    "start_time": "2021-09-18T10:06:29.523Z"
   },
   {
    "duration": 1754,
    "start_time": "2021-09-18T10:07:14.725Z"
   },
   {
    "duration": 25,
    "start_time": "2021-09-18T10:08:44.095Z"
   },
   {
    "duration": 25,
    "start_time": "2021-09-18T10:09:15.628Z"
   },
   {
    "duration": 279,
    "start_time": "2021-09-18T10:09:33.876Z"
   },
   {
    "duration": 24,
    "start_time": "2021-09-18T10:09:43.944Z"
   },
   {
    "duration": 1494,
    "start_time": "2021-09-18T10:09:51.472Z"
   },
   {
    "duration": 33,
    "start_time": "2021-09-18T10:09:56.702Z"
   },
   {
    "duration": 128,
    "start_time": "2021-09-18T10:10:22.985Z"
   },
   {
    "duration": 35,
    "start_time": "2021-09-18T10:10:30.428Z"
   },
   {
    "duration": 89,
    "start_time": "2021-09-18T10:11:01.576Z"
   },
   {
    "duration": 83,
    "start_time": "2021-09-18T10:11:07.142Z"
   },
   {
    "duration": 265,
    "start_time": "2021-09-18T10:11:41.276Z"
   },
   {
    "duration": 298,
    "start_time": "2021-09-18T10:11:50.632Z"
   },
   {
    "duration": 265,
    "start_time": "2021-09-18T10:12:01.521Z"
   },
   {
    "duration": 280,
    "start_time": "2021-09-18T10:12:05.844Z"
   },
   {
    "duration": 24,
    "start_time": "2021-09-18T10:12:19.556Z"
   },
   {
    "duration": 15,
    "start_time": "2021-09-18T10:15:26.009Z"
   },
   {
    "duration": 25,
    "start_time": "2021-09-18T10:16:16.931Z"
   },
   {
    "duration": 25,
    "start_time": "2021-09-18T10:16:27.898Z"
   },
   {
    "duration": 26,
    "start_time": "2021-09-18T10:17:40.076Z"
   },
   {
    "duration": 15,
    "start_time": "2021-09-18T10:18:21.049Z"
   },
   {
    "duration": 17,
    "start_time": "2021-09-18T10:18:28.456Z"
   },
   {
    "duration": 82,
    "start_time": "2021-09-18T10:19:08.934Z"
   },
   {
    "duration": 83,
    "start_time": "2021-09-18T10:19:22.970Z"
   },
   {
    "duration": 27,
    "start_time": "2021-09-18T10:19:42.563Z"
   },
   {
    "duration": 450,
    "start_time": "2021-09-18T10:19:59.558Z"
   },
   {
    "duration": 85,
    "start_time": "2021-09-18T10:20:05.002Z"
   },
   {
    "duration": 249,
    "start_time": "2021-09-18T10:20:31.790Z"
   },
   {
    "duration": 24,
    "start_time": "2021-09-18T10:20:49.534Z"
   },
   {
    "duration": 298,
    "start_time": "2021-09-18T10:23:08.835Z"
   },
   {
    "duration": 252,
    "start_time": "2021-09-18T10:23:27.296Z"
   },
   {
    "duration": 78,
    "start_time": "2021-09-18T10:23:53.893Z"
   },
   {
    "duration": 246,
    "start_time": "2021-09-18T10:24:01.157Z"
   },
   {
    "duration": 20,
    "start_time": "2021-09-18T10:24:06.243Z"
   },
   {
    "duration": 59,
    "start_time": "2021-09-18T10:24:21.186Z"
   },
   {
    "duration": 53,
    "start_time": "2021-09-18T10:24:31.933Z"
   },
   {
    "duration": 7,
    "start_time": "2021-09-18T10:25:04.777Z"
   },
   {
    "duration": 251,
    "start_time": "2021-09-18T10:25:39.629Z"
   },
   {
    "duration": 9,
    "start_time": "2021-09-18T10:26:08.693Z"
   },
   {
    "duration": 12,
    "start_time": "2021-09-18T10:26:42.786Z"
   },
   {
    "duration": 570,
    "start_time": "2021-09-18T10:30:10.279Z"
   },
   {
    "duration": 526,
    "start_time": "2021-09-18T10:30:16.069Z"
   },
   {
    "duration": 81,
    "start_time": "2021-09-18T10:30:30.366Z"
   },
   {
    "duration": 17,
    "start_time": "2021-09-18T10:30:36.028Z"
   },
   {
    "duration": 15,
    "start_time": "2021-09-18T10:31:03.724Z"
   },
   {
    "duration": 1272,
    "start_time": "2021-09-18T10:31:29.956Z"
   },
   {
    "duration": 81,
    "start_time": "2021-09-18T10:32:37.905Z"
   },
   {
    "duration": 14,
    "start_time": "2021-09-18T10:32:40.592Z"
   },
   {
    "duration": 17,
    "start_time": "2021-09-18T10:33:17.793Z"
   },
   {
    "duration": 1155,
    "start_time": "2021-09-18T10:33:29.261Z"
   },
   {
    "duration": 351,
    "start_time": "2021-09-18T10:39:39.428Z"
   },
   {
    "duration": 89,
    "start_time": "2021-09-18T10:39:55.734Z"
   },
   {
    "duration": 350,
    "start_time": "2021-09-18T10:40:00.638Z"
   },
   {
    "duration": 82,
    "start_time": "2021-09-18T10:40:05.090Z"
   },
   {
    "duration": 95,
    "start_time": "2021-09-18T10:40:10.394Z"
   },
   {
    "duration": 534,
    "start_time": "2021-09-18T10:40:17.194Z"
   },
   {
    "duration": 532,
    "start_time": "2021-09-18T10:42:15.998Z"
   },
   {
    "duration": 524,
    "start_time": "2021-09-18T10:43:32.458Z"
   },
   {
    "duration": 523,
    "start_time": "2021-09-18T10:43:38.730Z"
   },
   {
    "duration": 3,
    "start_time": "2021-09-18T10:46:30.419Z"
   },
   {
    "duration": 312,
    "start_time": "2021-09-18T10:46:31.094Z"
   },
   {
    "duration": 793,
    "start_time": "2021-09-18T10:51:04.820Z"
   },
   {
    "duration": 876,
    "start_time": "2021-09-18T10:52:11.773Z"
   },
   {
    "duration": 81,
    "start_time": "2021-09-18T10:52:45.032Z"
   },
   {
    "duration": 796,
    "start_time": "2021-09-18T10:53:04.322Z"
   },
   {
    "duration": 1605,
    "start_time": "2021-09-18T10:53:30.778Z"
   },
   {
    "duration": 907,
    "start_time": "2021-09-18T10:53:43.683Z"
   },
   {
    "duration": 892,
    "start_time": "2021-09-18T10:53:55.484Z"
   },
   {
    "duration": 82,
    "start_time": "2021-09-18T10:54:05.529Z"
   },
   {
    "duration": 909,
    "start_time": "2021-09-18T10:54:16.442Z"
   },
   {
    "duration": 18,
    "start_time": "2021-09-18T11:28:25.099Z"
   },
   {
    "duration": 14,
    "start_time": "2021-09-18T11:29:11.769Z"
   },
   {
    "duration": 7,
    "start_time": "2021-09-18T11:30:03.347Z"
   },
   {
    "duration": 272,
    "start_time": "2021-09-18T11:31:47.545Z"
   },
   {
    "duration": 342,
    "start_time": "2021-09-18T11:31:52.238Z"
   },
   {
    "duration": 6,
    "start_time": "2021-09-18T11:31:59.289Z"
   },
   {
    "duration": 13,
    "start_time": "2021-09-18T11:32:18.726Z"
   },
   {
    "duration": 7,
    "start_time": "2021-09-18T11:32:35.802Z"
   },
   {
    "duration": 4,
    "start_time": "2021-09-18T11:33:11.135Z"
   },
   {
    "duration": 120,
    "start_time": "2021-09-18T11:35:25.184Z"
   },
   {
    "duration": 128,
    "start_time": "2021-09-18T11:35:37.553Z"
   },
   {
    "duration": 8147,
    "start_time": "2021-09-18T11:39:56.629Z"
   },
   {
    "duration": 1150,
    "start_time": "2021-09-18T11:40:11.781Z"
   },
   {
    "duration": 667,
    "start_time": "2021-09-18T11:40:12.933Z"
   },
   {
    "duration": 110,
    "start_time": "2021-09-18T11:40:13.602Z"
   },
   {
    "duration": 23,
    "start_time": "2021-09-18T11:40:13.713Z"
   },
   {
    "duration": 18,
    "start_time": "2021-09-18T11:40:13.749Z"
   },
   {
    "duration": 88,
    "start_time": "2021-09-18T11:40:13.769Z"
   },
   {
    "duration": 199,
    "start_time": "2021-09-18T11:40:13.859Z"
   },
   {
    "duration": 263,
    "start_time": "2021-09-18T11:40:14.061Z"
   },
   {
    "duration": 11,
    "start_time": "2021-09-18T11:40:14.326Z"
   },
   {
    "duration": 879,
    "start_time": "2021-09-18T11:40:14.339Z"
   },
   {
    "duration": 386,
    "start_time": "2021-09-18T11:40:15.220Z"
   },
   {
    "duration": 387,
    "start_time": "2021-09-18T11:40:15.608Z"
   },
   {
    "duration": 28,
    "start_time": "2021-09-18T11:40:15.997Z"
   },
   {
    "duration": 328,
    "start_time": "2021-09-18T11:40:16.026Z"
   },
   {
    "duration": 25,
    "start_time": "2021-09-18T11:40:16.355Z"
   },
   {
    "duration": 24,
    "start_time": "2021-09-18T11:40:16.382Z"
   },
   {
    "duration": 352,
    "start_time": "2021-09-18T11:40:16.408Z"
   },
   {
    "duration": 11,
    "start_time": "2021-09-18T11:40:16.762Z"
   },
   {
    "duration": 51,
    "start_time": "2021-09-18T11:40:16.775Z"
   },
   {
    "duration": 267,
    "start_time": "2021-09-18T11:40:16.828Z"
   },
   {
    "duration": 14,
    "start_time": "2021-09-18T11:40:17.097Z"
   },
   {
    "duration": 246,
    "start_time": "2021-09-18T11:40:17.113Z"
   },
   {
    "duration": 7,
    "start_time": "2021-09-18T11:40:17.363Z"
   },
   {
    "duration": 26,
    "start_time": "2021-09-18T11:40:17.373Z"
   },
   {
    "duration": 865,
    "start_time": "2021-09-18T11:40:17.401Z"
   },
   {
    "duration": 6,
    "start_time": "2021-09-18T11:40:18.268Z"
   },
   {
    "duration": 175,
    "start_time": "2021-09-18T11:40:18.276Z"
   },
   {
    "duration": 22,
    "start_time": "2021-09-18T11:40:18.453Z"
   },
   {
    "duration": 341,
    "start_time": "2021-09-18T11:40:18.477Z"
   },
   {
    "duration": 6,
    "start_time": "2021-09-18T11:40:18.820Z"
   },
   {
    "duration": 43,
    "start_time": "2021-09-18T11:40:18.827Z"
   },
   {
    "duration": 430,
    "start_time": "2021-09-18T11:40:18.872Z"
   },
   {
    "duration": 1299,
    "start_time": "2021-09-18T11:40:19.304Z"
   },
   {
    "duration": 10,
    "start_time": "2021-09-18T11:40:20.605Z"
   },
   {
    "duration": 398,
    "start_time": "2021-09-18T11:40:20.617Z"
   },
   {
    "duration": 3,
    "start_time": "2021-09-18T11:40:21.018Z"
   },
   {
    "duration": 1090,
    "start_time": "2021-09-18T11:40:21.023Z"
   },
   {
    "duration": 8,
    "start_time": "2021-09-18T11:40:22.115Z"
   },
   {
    "duration": 25,
    "start_time": "2021-09-18T11:40:22.125Z"
   },
   {
    "duration": 168,
    "start_time": "2021-09-18T11:40:22.152Z"
   },
   {
    "duration": 348,
    "start_time": "2021-09-18T11:40:22.321Z"
   },
   {
    "duration": 6341,
    "start_time": "2021-09-18T11:40:22.671Z"
   },
   {
    "duration": -38,
    "start_time": "2021-09-18T11:40:29.052Z"
   },
   {
    "duration": -39,
    "start_time": "2021-09-18T11:40:29.054Z"
   },
   {
    "duration": -40,
    "start_time": "2021-09-18T11:40:29.056Z"
   },
   {
    "duration": -41,
    "start_time": "2021-09-18T11:40:29.058Z"
   },
   {
    "duration": -43,
    "start_time": "2021-09-18T11:40:29.061Z"
   },
   {
    "duration": -45,
    "start_time": "2021-09-18T11:40:29.063Z"
   },
   {
    "duration": -46,
    "start_time": "2021-09-18T11:40:29.065Z"
   },
   {
    "duration": -46,
    "start_time": "2021-09-18T11:40:29.066Z"
   },
   {
    "duration": -28,
    "start_time": "2021-09-18T11:40:44.038Z"
   },
   {
    "duration": -29,
    "start_time": "2021-09-18T11:40:44.040Z"
   },
   {
    "duration": 423,
    "start_time": "2021-09-18T11:40:52.882Z"
   },
   {
    "duration": 4,
    "start_time": "2021-09-18T11:40:53.318Z"
   },
   {
    "duration": 89,
    "start_time": "2021-09-18T11:41:59.497Z"
   },
   {
    "duration": 274,
    "start_time": "2021-09-18T11:42:04.763Z"
   },
   {
    "duration": 119,
    "start_time": "2021-09-18T11:42:14.530Z"
   },
   {
    "duration": 184,
    "start_time": "2021-09-18T11:42:23.080Z"
   },
   {
    "duration": 279,
    "start_time": "2021-09-18T11:42:48.876Z"
   },
   {
    "duration": 313,
    "start_time": "2021-09-18T11:44:39.018Z"
   },
   {
    "duration": 351,
    "start_time": "2021-09-18T11:45:36.048Z"
   },
   {
    "duration": 437,
    "start_time": "2021-09-18T11:46:01.421Z"
   },
   {
    "duration": 340,
    "start_time": "2021-09-18T11:46:06.927Z"
   },
   {
    "duration": 255,
    "start_time": "2021-09-18T11:46:20.909Z"
   },
   {
    "duration": 324,
    "start_time": "2021-09-18T11:46:27.645Z"
   },
   {
    "duration": 409,
    "start_time": "2021-09-18T11:46:29.415Z"
   },
   {
    "duration": 249,
    "start_time": "2021-09-18T11:46:30.764Z"
   },
   {
    "duration": 240,
    "start_time": "2021-09-18T11:46:35.373Z"
   },
   {
    "duration": 246,
    "start_time": "2021-09-18T11:46:45.635Z"
   },
   {
    "duration": 460,
    "start_time": "2021-09-18T11:51:39.398Z"
   },
   {
    "duration": 10,
    "start_time": "2021-09-18T11:51:39.859Z"
   },
   {
    "duration": 13,
    "start_time": "2021-09-18T11:51:40.023Z"
   },
   {
    "duration": 16,
    "start_time": "2021-09-18T11:51:40.319Z"
   },
   {
    "duration": 28,
    "start_time": "2021-09-18T11:51:40.639Z"
   },
   {
    "duration": 6487,
    "start_time": "2021-09-18T11:51:40.957Z"
   },
   {
    "duration": -44,
    "start_time": "2021-09-18T11:51:47.490Z"
   },
   {
    "duration": 426,
    "start_time": "2021-09-18T11:51:54.699Z"
   },
   {
    "duration": 7,
    "start_time": "2021-09-18T11:51:55.127Z"
   },
   {
    "duration": 4,
    "start_time": "2021-09-18T11:51:55.496Z"
   },
   {
    "duration": 6,
    "start_time": "2021-09-18T11:51:55.884Z"
   },
   {
    "duration": 35,
    "start_time": "2021-09-18T11:51:56.289Z"
   },
   {
    "duration": 6818,
    "start_time": "2021-09-18T11:51:57.280Z"
   },
   {
    "duration": 439,
    "start_time": "2021-09-18T11:52:17.734Z"
   },
   {
    "duration": 261,
    "start_time": "2021-09-18T11:52:18.175Z"
   },
   {
    "duration": 4,
    "start_time": "2021-09-18T11:52:18.438Z"
   },
   {
    "duration": 407,
    "start_time": "2021-09-18T11:52:19.167Z"
   },
   {
    "duration": 6,
    "start_time": "2021-09-18T11:52:19.576Z"
   },
   {
    "duration": 5,
    "start_time": "2021-09-18T11:52:19.584Z"
   },
   {
    "duration": 6,
    "start_time": "2021-09-18T11:52:19.765Z"
   },
   {
    "duration": 27,
    "start_time": "2021-09-18T11:52:19.950Z"
   },
   {
    "duration": 142,
    "start_time": "2021-09-18T11:52:20.157Z"
   },
   {
    "duration": 810,
    "start_time": "2021-09-18T11:52:20.349Z"
   },
   {
    "duration": 805,
    "start_time": "2021-09-18T11:52:39.355Z"
   },
   {
    "duration": 787,
    "start_time": "2021-09-18T11:52:52.936Z"
   },
   {
    "duration": 693,
    "start_time": "2021-09-18T11:53:36.120Z"
   },
   {
    "duration": 673,
    "start_time": "2021-09-18T11:53:54.479Z"
   },
   {
    "duration": 18,
    "start_time": "2021-09-18T11:58:29.051Z"
   },
   {
    "duration": 819,
    "start_time": "2021-09-18T11:59:44.886Z"
   },
   {
    "duration": 675,
    "start_time": "2021-09-18T12:00:00.281Z"
   },
   {
    "duration": 850,
    "start_time": "2021-09-18T12:00:28.344Z"
   },
   {
    "duration": 25,
    "start_time": "2021-09-18T12:01:02.400Z"
   },
   {
    "duration": 699,
    "start_time": "2021-09-18T12:01:04.508Z"
   },
   {
    "duration": 35,
    "start_time": "2021-09-18T12:01:21.117Z"
   },
   {
    "duration": 836,
    "start_time": "2021-09-18T12:01:21.679Z"
   },
   {
    "duration": 1151,
    "start_time": "2021-09-18T12:17:28.192Z"
   },
   {
    "duration": 654,
    "start_time": "2021-09-18T12:17:29.345Z"
   },
   {
    "duration": 113,
    "start_time": "2021-09-18T12:17:30.001Z"
   },
   {
    "duration": 44,
    "start_time": "2021-09-18T12:17:30.116Z"
   },
   {
    "duration": 17,
    "start_time": "2021-09-18T12:17:30.161Z"
   },
   {
    "duration": 83,
    "start_time": "2021-09-18T12:17:30.180Z"
   },
   {
    "duration": 203,
    "start_time": "2021-09-18T12:17:30.265Z"
   },
   {
    "duration": 280,
    "start_time": "2021-09-18T12:17:30.469Z"
   },
   {
    "duration": 11,
    "start_time": "2021-09-18T12:17:30.752Z"
   },
   {
    "duration": 832,
    "start_time": "2021-09-18T12:17:30.766Z"
   },
   {
    "duration": 392,
    "start_time": "2021-09-18T12:17:31.600Z"
   },
   {
    "duration": 379,
    "start_time": "2021-09-18T12:17:31.994Z"
   },
   {
    "duration": 28,
    "start_time": "2021-09-18T12:17:32.375Z"
   },
   {
    "duration": 305,
    "start_time": "2021-09-18T12:17:32.405Z"
   },
   {
    "duration": 24,
    "start_time": "2021-09-18T12:17:32.712Z"
   },
   {
    "duration": 25,
    "start_time": "2021-09-18T12:17:32.749Z"
   },
   {
    "duration": 323,
    "start_time": "2021-09-18T12:17:32.776Z"
   },
   {
    "duration": 9,
    "start_time": "2021-09-18T12:17:33.101Z"
   },
   {
    "duration": 58,
    "start_time": "2021-09-18T12:17:33.112Z"
   },
   {
    "duration": 198,
    "start_time": "2021-09-18T12:17:33.171Z"
   },
   {
    "duration": 15,
    "start_time": "2021-09-18T12:17:33.371Z"
   },
   {
    "duration": 221,
    "start_time": "2021-09-18T12:17:33.388Z"
   },
   {
    "duration": 5,
    "start_time": "2021-09-18T12:17:33.611Z"
   },
   {
    "duration": 20,
    "start_time": "2021-09-18T12:17:33.617Z"
   },
   {
    "duration": 817,
    "start_time": "2021-09-18T12:17:33.638Z"
   },
   {
    "duration": 6,
    "start_time": "2021-09-18T12:17:34.457Z"
   },
   {
    "duration": 154,
    "start_time": "2021-09-18T12:17:34.467Z"
   },
   {
    "duration": 17,
    "start_time": "2021-09-18T12:17:34.623Z"
   },
   {
    "duration": 264,
    "start_time": "2021-09-18T12:17:34.648Z"
   },
   {
    "duration": 5,
    "start_time": "2021-09-18T12:17:34.914Z"
   },
   {
    "duration": 29,
    "start_time": "2021-09-18T12:17:34.921Z"
   },
   {
    "duration": 346,
    "start_time": "2021-09-18T12:17:34.952Z"
   },
   {
    "duration": 1201,
    "start_time": "2021-09-18T12:17:35.300Z"
   },
   {
    "duration": 9,
    "start_time": "2021-09-18T12:17:36.503Z"
   },
   {
    "duration": 382,
    "start_time": "2021-09-18T12:17:36.514Z"
   },
   {
    "duration": 3,
    "start_time": "2021-09-18T12:17:36.898Z"
   },
   {
    "duration": 829,
    "start_time": "2021-09-18T12:17:36.903Z"
   },
   {
    "duration": 7,
    "start_time": "2021-09-18T12:17:37.733Z"
   },
   {
    "duration": 11,
    "start_time": "2021-09-18T12:17:37.741Z"
   },
   {
    "duration": 267,
    "start_time": "2021-09-18T12:17:37.754Z"
   },
   {
    "duration": 283,
    "start_time": "2021-09-18T12:17:38.023Z"
   },
   {
    "duration": 444,
    "start_time": "2021-09-18T12:17:38.308Z"
   },
   {
    "duration": 342,
    "start_time": "2021-09-18T12:17:38.754Z"
   },
   {
    "duration": 4,
    "start_time": "2021-09-18T12:17:39.098Z"
   },
   {
    "duration": 446,
    "start_time": "2021-09-18T12:17:39.104Z"
   },
   {
    "duration": 6,
    "start_time": "2021-09-18T12:17:39.551Z"
   },
   {
    "duration": 14,
    "start_time": "2021-09-18T12:17:39.559Z"
   },
   {
    "duration": 9,
    "start_time": "2021-09-18T12:17:39.574Z"
   },
   {
    "duration": 36,
    "start_time": "2021-09-18T12:17:39.585Z"
   },
   {
    "duration": 45,
    "start_time": "2021-09-18T12:17:39.623Z"
   },
   {
    "duration": 722,
    "start_time": "2021-09-18T12:17:39.670Z"
   },
   {
    "duration": 1461,
    "start_time": "2021-09-19T07:42:26.022Z"
   },
   {
    "duration": 825,
    "start_time": "2021-09-19T07:42:27.485Z"
   },
   {
    "duration": 140,
    "start_time": "2021-09-19T07:42:28.312Z"
   },
   {
    "duration": 34,
    "start_time": "2021-09-19T07:42:28.466Z"
   },
   {
    "duration": 24,
    "start_time": "2021-09-19T07:42:28.503Z"
   },
   {
    "duration": 118,
    "start_time": "2021-09-19T07:42:28.529Z"
   },
   {
    "duration": 286,
    "start_time": "2021-09-19T07:42:28.649Z"
   },
   {
    "duration": 385,
    "start_time": "2021-09-19T07:42:28.939Z"
   },
   {
    "duration": 16,
    "start_time": "2021-09-19T07:42:29.327Z"
   },
   {
    "duration": 1280,
    "start_time": "2021-09-19T07:42:29.346Z"
   },
   {
    "duration": 585,
    "start_time": "2021-09-19T07:42:30.628Z"
   },
   {
    "duration": 587,
    "start_time": "2021-09-19T07:42:31.216Z"
   },
   {
    "duration": 40,
    "start_time": "2021-09-19T07:42:31.805Z"
   },
   {
    "duration": 526,
    "start_time": "2021-09-19T07:42:31.848Z"
   },
   {
    "duration": 29,
    "start_time": "2021-09-19T07:42:32.376Z"
   },
   {
    "duration": 29,
    "start_time": "2021-09-19T07:42:32.407Z"
   },
   {
    "duration": 606,
    "start_time": "2021-09-19T07:42:32.439Z"
   },
   {
    "duration": 22,
    "start_time": "2021-09-19T07:42:33.047Z"
   },
   {
    "duration": 59,
    "start_time": "2021-09-19T07:42:33.072Z"
   },
   {
    "duration": 304,
    "start_time": "2021-09-19T07:42:33.133Z"
   },
   {
    "duration": 27,
    "start_time": "2021-09-19T07:42:33.440Z"
   },
   {
    "duration": 234,
    "start_time": "2021-09-19T07:42:33.469Z"
   },
   {
    "duration": 8,
    "start_time": "2021-09-19T07:42:33.708Z"
   },
   {
    "duration": 28,
    "start_time": "2021-09-19T07:42:33.719Z"
   },
   {
    "duration": 1280,
    "start_time": "2021-09-19T07:42:33.768Z"
   },
   {
    "duration": 18,
    "start_time": "2021-09-19T07:42:35.051Z"
   },
   {
    "duration": 248,
    "start_time": "2021-09-19T07:42:35.072Z"
   },
   {
    "duration": 27,
    "start_time": "2021-09-19T07:42:35.322Z"
   },
   {
    "duration": 476,
    "start_time": "2021-09-19T07:42:35.367Z"
   },
   {
    "duration": 24,
    "start_time": "2021-09-19T07:42:35.846Z"
   },
   {
    "duration": 20,
    "start_time": "2021-09-19T07:42:35.873Z"
   },
   {
    "duration": 619,
    "start_time": "2021-09-19T07:42:35.896Z"
   },
   {
    "duration": 2204,
    "start_time": "2021-09-19T07:42:36.517Z"
   },
   {
    "duration": 14,
    "start_time": "2021-09-19T07:42:38.724Z"
   },
   {
    "duration": 696,
    "start_time": "2021-09-19T07:42:38.740Z"
   },
   {
    "duration": 4,
    "start_time": "2021-09-19T07:42:39.439Z"
   },
   {
    "duration": 1380,
    "start_time": "2021-09-19T07:42:39.445Z"
   },
   {
    "duration": 10,
    "start_time": "2021-09-19T07:42:40.828Z"
   },
   {
    "duration": 28,
    "start_time": "2021-09-19T07:42:40.841Z"
   },
   {
    "duration": 495,
    "start_time": "2021-09-19T07:42:40.872Z"
   },
   {
    "duration": 518,
    "start_time": "2021-09-19T07:42:41.369Z"
   },
   {
    "duration": 691,
    "start_time": "2021-09-19T07:42:41.890Z"
   },
   {
    "duration": 519,
    "start_time": "2021-09-19T07:42:42.583Z"
   },
   {
    "duration": 5,
    "start_time": "2021-09-19T07:42:43.104Z"
   },
   {
    "duration": 760,
    "start_time": "2021-09-19T07:42:43.112Z"
   },
   {
    "duration": 9,
    "start_time": "2021-09-19T07:42:43.874Z"
   },
   {
    "duration": 19,
    "start_time": "2021-09-19T07:42:43.885Z"
   },
   {
    "duration": 14,
    "start_time": "2021-09-19T07:42:43.907Z"
   },
   {
    "duration": 60,
    "start_time": "2021-09-19T07:42:43.923Z"
   },
   {
    "duration": 59,
    "start_time": "2021-09-19T07:42:43.985Z"
   },
   {
    "duration": 1194,
    "start_time": "2021-09-19T07:42:44.046Z"
   },
   {
    "duration": 725,
    "start_time": "2021-09-19T11:22:33.342Z"
   },
   {
    "duration": 1803,
    "start_time": "2021-09-19T11:22:42.506Z"
   },
   {
    "duration": 868,
    "start_time": "2021-09-19T11:22:44.312Z"
   },
   {
    "duration": 149,
    "start_time": "2021-09-19T11:22:45.184Z"
   },
   {
    "duration": 51,
    "start_time": "2021-09-19T11:22:45.336Z"
   },
   {
    "duration": 30,
    "start_time": "2021-09-19T11:22:45.390Z"
   },
   {
    "duration": 118,
    "start_time": "2021-09-19T11:22:45.423Z"
   },
   {
    "duration": 310,
    "start_time": "2021-09-19T11:22:45.543Z"
   },
   {
    "duration": 412,
    "start_time": "2021-09-19T11:22:45.855Z"
   },
   {
    "duration": 20,
    "start_time": "2021-09-19T11:22:46.271Z"
   },
   {
    "duration": 350,
    "start_time": "2021-09-19T11:22:46.295Z"
   },
   {
    "duration": 1320,
    "start_time": "2021-09-19T11:22:46.647Z"
   },
   {
    "duration": 639,
    "start_time": "2021-09-19T11:22:47.970Z"
   },
   {
    "duration": 585,
    "start_time": "2021-09-19T11:22:48.611Z"
   },
   {
    "duration": 43,
    "start_time": "2021-09-19T11:22:49.199Z"
   },
   {
    "duration": 551,
    "start_time": "2021-09-19T11:22:49.245Z"
   },
   {
    "duration": 28,
    "start_time": "2021-09-19T11:22:49.799Z"
   },
   {
    "duration": 51,
    "start_time": "2021-09-19T11:22:49.830Z"
   },
   {
    "duration": 651,
    "start_time": "2021-09-19T11:22:49.884Z"
   },
   {
    "duration": 14,
    "start_time": "2021-09-19T11:22:50.538Z"
   },
   {
    "duration": 63,
    "start_time": "2021-09-19T11:22:50.568Z"
   },
   {
    "duration": 323,
    "start_time": "2021-09-19T11:22:50.633Z"
   },
   {
    "duration": 22,
    "start_time": "2021-09-19T11:22:50.958Z"
   },
   {
    "duration": 254,
    "start_time": "2021-09-19T11:22:50.983Z"
   },
   {
    "duration": 8,
    "start_time": "2021-09-19T11:22:51.239Z"
   },
   {
    "duration": 41,
    "start_time": "2021-09-19T11:22:51.249Z"
   },
   {
    "duration": 1375,
    "start_time": "2021-09-19T11:22:51.293Z"
   },
   {
    "duration": 11,
    "start_time": "2021-09-19T11:22:52.676Z"
   },
   {
    "duration": 310,
    "start_time": "2021-09-19T11:22:52.692Z"
   },
   {
    "duration": 38,
    "start_time": "2021-09-19T11:22:53.005Z"
   },
   {
    "duration": 517,
    "start_time": "2021-09-19T11:22:53.045Z"
   },
   {
    "duration": 9,
    "start_time": "2021-09-19T11:22:53.564Z"
   },
   {
    "duration": 24,
    "start_time": "2021-09-19T11:22:53.576Z"
   },
   {
    "duration": 660,
    "start_time": "2021-09-19T11:22:53.602Z"
   },
   {
    "duration": 2915,
    "start_time": "2021-09-19T11:22:54.268Z"
   },
   {
    "duration": 13,
    "start_time": "2021-09-19T11:22:57.186Z"
   },
   {
    "duration": 727,
    "start_time": "2021-09-19T11:22:57.202Z"
   },
   {
    "duration": 4,
    "start_time": "2021-09-19T11:22:57.931Z"
   },
   {
    "duration": 1452,
    "start_time": "2021-09-19T11:22:57.938Z"
   },
   {
    "duration": 10,
    "start_time": "2021-09-19T11:22:59.392Z"
   },
   {
    "duration": 17,
    "start_time": "2021-09-19T11:22:59.405Z"
   },
   {
    "duration": 475,
    "start_time": "2021-09-19T11:22:59.425Z"
   },
   {
    "duration": 536,
    "start_time": "2021-09-19T11:22:59.902Z"
   },
   {
    "duration": 1050,
    "start_time": "2021-09-19T11:23:00.440Z"
   },
   {
    "duration": 723,
    "start_time": "2021-09-19T11:23:01.493Z"
   },
   {
    "duration": 7,
    "start_time": "2021-09-19T11:23:02.219Z"
   },
   {
    "duration": 1143,
    "start_time": "2021-09-19T11:23:02.229Z"
   },
   {
    "duration": 13,
    "start_time": "2021-09-19T11:23:03.375Z"
   },
   {
    "duration": 22,
    "start_time": "2021-09-19T11:23:03.391Z"
   },
   {
    "duration": 20,
    "start_time": "2021-09-19T11:23:03.416Z"
   },
   {
    "duration": 86,
    "start_time": "2021-09-19T11:23:03.439Z"
   },
   {
    "duration": 92,
    "start_time": "2021-09-19T11:23:03.528Z"
   },
   {
    "duration": 1408,
    "start_time": "2021-09-19T11:23:03.623Z"
   },
   {
    "duration": 1619,
    "start_time": "2021-09-19T11:26:41.991Z"
   },
   {
    "duration": 1677,
    "start_time": "2021-09-19T11:28:13.668Z"
   },
   {
    "duration": 1575,
    "start_time": "2021-09-19T11:28:24.797Z"
   },
   {
    "duration": 980,
    "start_time": "2021-09-19T11:28:32.804Z"
   },
   {
    "duration": 722,
    "start_time": "2021-09-19T11:28:35.676Z"
   },
   {
    "duration": 377,
    "start_time": "2021-09-19T11:29:53.034Z"
   },
   {
    "duration": 1010,
    "start_time": "2021-09-19T11:30:01.671Z"
   },
   {
    "duration": 530,
    "start_time": "2021-09-19T11:30:32.387Z"
   },
   {
    "duration": 1485,
    "start_time": "2021-09-19T11:30:49.076Z"
   },
   {
    "duration": 817,
    "start_time": "2021-09-19T11:30:50.564Z"
   },
   {
    "duration": 136,
    "start_time": "2021-09-19T11:30:51.384Z"
   },
   {
    "duration": 47,
    "start_time": "2021-09-19T11:30:51.523Z"
   },
   {
    "duration": 28,
    "start_time": "2021-09-19T11:30:51.573Z"
   },
   {
    "duration": 113,
    "start_time": "2021-09-19T11:30:51.603Z"
   },
   {
    "duration": 281,
    "start_time": "2021-09-19T11:30:51.719Z"
   },
   {
    "duration": 561,
    "start_time": "2021-09-19T11:30:52.006Z"
   },
   {
    "duration": 24,
    "start_time": "2021-09-19T11:30:52.571Z"
   },
   {
    "duration": 334,
    "start_time": "2021-09-19T11:30:52.597Z"
   },
   {
    "duration": 1220,
    "start_time": "2021-09-19T11:30:52.933Z"
   },
   {
    "duration": 581,
    "start_time": "2021-09-19T11:30:54.155Z"
   },
   {
    "duration": 596,
    "start_time": "2021-09-19T11:30:54.739Z"
   },
   {
    "duration": 393,
    "start_time": "2021-09-19T11:30:54.947Z"
   },
   {
    "duration": 386,
    "start_time": "2021-09-19T11:30:54.956Z"
   },
   {
    "duration": 384,
    "start_time": "2021-09-19T11:30:54.960Z"
   },
   {
    "duration": 383,
    "start_time": "2021-09-19T11:30:54.963Z"
   },
   {
    "duration": 381,
    "start_time": "2021-09-19T11:30:54.967Z"
   },
   {
    "duration": 380,
    "start_time": "2021-09-19T11:30:54.970Z"
   },
   {
    "duration": 377,
    "start_time": "2021-09-19T11:30:54.974Z"
   },
   {
    "duration": 376,
    "start_time": "2021-09-19T11:30:54.977Z"
   },
   {
    "duration": 374,
    "start_time": "2021-09-19T11:30:54.981Z"
   },
   {
    "duration": 373,
    "start_time": "2021-09-19T11:30:54.984Z"
   },
   {
    "duration": 370,
    "start_time": "2021-09-19T11:30:54.988Z"
   },
   {
    "duration": 369,
    "start_time": "2021-09-19T11:30:54.991Z"
   },
   {
    "duration": 360,
    "start_time": "2021-09-19T11:30:55.001Z"
   },
   {
    "duration": 358,
    "start_time": "2021-09-19T11:30:55.004Z"
   },
   {
    "duration": 356,
    "start_time": "2021-09-19T11:30:55.008Z"
   },
   {
    "duration": 354,
    "start_time": "2021-09-19T11:30:55.011Z"
   },
   {
    "duration": 352,
    "start_time": "2021-09-19T11:30:55.015Z"
   },
   {
    "duration": 350,
    "start_time": "2021-09-19T11:30:55.018Z"
   },
   {
    "duration": 349,
    "start_time": "2021-09-19T11:30:55.021Z"
   },
   {
    "duration": 342,
    "start_time": "2021-09-19T11:30:55.031Z"
   },
   {
    "duration": 339,
    "start_time": "2021-09-19T11:30:55.036Z"
   },
   {
    "duration": 338,
    "start_time": "2021-09-19T11:30:55.039Z"
   },
   {
    "duration": 336,
    "start_time": "2021-09-19T11:30:55.043Z"
   },
   {
    "duration": 333,
    "start_time": "2021-09-19T11:30:55.047Z"
   },
   {
    "duration": 327,
    "start_time": "2021-09-19T11:30:55.055Z"
   },
   {
    "duration": 325,
    "start_time": "2021-09-19T11:30:55.059Z"
   },
   {
    "duration": 323,
    "start_time": "2021-09-19T11:30:55.063Z"
   },
   {
    "duration": 321,
    "start_time": "2021-09-19T11:30:55.067Z"
   },
   {
    "duration": 281,
    "start_time": "2021-09-19T11:30:55.109Z"
   },
   {
    "duration": 280,
    "start_time": "2021-09-19T11:30:55.112Z"
   },
   {
    "duration": 277,
    "start_time": "2021-09-19T11:30:55.117Z"
   },
   {
    "duration": 275,
    "start_time": "2021-09-19T11:30:55.121Z"
   },
   {
    "duration": 266,
    "start_time": "2021-09-19T11:30:55.131Z"
   },
   {
    "duration": 258,
    "start_time": "2021-09-19T11:30:55.141Z"
   },
   {
    "duration": 221,
    "start_time": "2021-09-19T11:30:55.180Z"
   },
   {
    "duration": 215,
    "start_time": "2021-09-19T11:30:55.188Z"
   },
   {
    "duration": 213,
    "start_time": "2021-09-19T11:30:55.192Z"
   },
   {
    "duration": 211,
    "start_time": "2021-09-19T11:30:55.196Z"
   },
   {
    "duration": 204,
    "start_time": "2021-09-19T11:30:55.205Z"
   },
   {
    "duration": 1632,
    "start_time": "2021-09-19T11:31:29.586Z"
   },
   {
    "duration": 953,
    "start_time": "2021-09-19T11:31:31.221Z"
   },
   {
    "duration": 151,
    "start_time": "2021-09-19T11:31:32.177Z"
   },
   {
    "duration": 51,
    "start_time": "2021-09-19T11:31:32.331Z"
   },
   {
    "duration": 27,
    "start_time": "2021-09-19T11:31:32.384Z"
   },
   {
    "duration": 106,
    "start_time": "2021-09-19T11:31:32.414Z"
   },
   {
    "duration": 277,
    "start_time": "2021-09-19T11:31:32.522Z"
   },
   {
    "duration": 364,
    "start_time": "2021-09-19T11:31:32.803Z"
   },
   {
    "duration": 18,
    "start_time": "2021-09-19T11:31:33.170Z"
   },
   {
    "duration": 342,
    "start_time": "2021-09-19T11:31:33.191Z"
   },
   {
    "duration": 1232,
    "start_time": "2021-09-19T11:31:33.536Z"
   },
   {
    "duration": 814,
    "start_time": "2021-09-19T11:31:34.771Z"
   },
   {
    "duration": 551,
    "start_time": "2021-09-19T11:31:35.588Z"
   },
   {
    "duration": 72,
    "start_time": "2021-09-19T11:31:36.142Z"
   },
   {
    "duration": 524,
    "start_time": "2021-09-19T11:31:36.217Z"
   },
   {
    "duration": 35,
    "start_time": "2021-09-19T11:31:36.743Z"
   },
   {
    "duration": 27,
    "start_time": "2021-09-19T11:31:36.780Z"
   },
   {
    "duration": 574,
    "start_time": "2021-09-19T11:31:36.810Z"
   },
   {
    "duration": 14,
    "start_time": "2021-09-19T11:31:37.386Z"
   },
   {
    "duration": 81,
    "start_time": "2021-09-19T11:31:37.403Z"
   },
   {
    "duration": 282,
    "start_time": "2021-09-19T11:31:37.487Z"
   },
   {
    "duration": 16,
    "start_time": "2021-09-19T11:31:37.772Z"
   },
   {
    "duration": 249,
    "start_time": "2021-09-19T11:31:37.793Z"
   },
   {
    "duration": 8,
    "start_time": "2021-09-19T11:31:38.045Z"
   },
   {
    "duration": 27,
    "start_time": "2021-09-19T11:31:38.068Z"
   },
   {
    "duration": 1346,
    "start_time": "2021-09-19T11:31:38.097Z"
   },
   {
    "duration": 24,
    "start_time": "2021-09-19T11:31:39.445Z"
   },
   {
    "duration": 236,
    "start_time": "2021-09-19T11:31:39.471Z"
   },
   {
    "duration": 25,
    "start_time": "2021-09-19T11:31:39.709Z"
   },
   {
    "duration": 478,
    "start_time": "2021-09-19T11:31:39.736Z"
   },
   {
    "duration": 8,
    "start_time": "2021-09-19T11:31:40.216Z"
   },
   {
    "duration": 48,
    "start_time": "2021-09-19T11:31:40.226Z"
   },
   {
    "duration": 673,
    "start_time": "2021-09-19T11:31:40.277Z"
   },
   {
    "duration": 2206,
    "start_time": "2021-09-19T11:31:40.953Z"
   },
   {
    "duration": 13,
    "start_time": "2021-09-19T11:31:43.162Z"
   },
   {
    "duration": 659,
    "start_time": "2021-09-19T11:31:43.178Z"
   },
   {
    "duration": 4,
    "start_time": "2021-09-19T11:31:43.840Z"
   },
   {
    "duration": 1387,
    "start_time": "2021-09-19T11:31:43.847Z"
   },
   {
    "duration": 9,
    "start_time": "2021-09-19T11:31:45.237Z"
   },
   {
    "duration": 22,
    "start_time": "2021-09-19T11:31:45.248Z"
   },
   {
    "duration": 470,
    "start_time": "2021-09-19T11:31:45.272Z"
   },
   {
    "duration": 503,
    "start_time": "2021-09-19T11:31:45.745Z"
   },
   {
    "duration": 671,
    "start_time": "2021-09-19T11:31:46.251Z"
   },
   {
    "duration": 518,
    "start_time": "2021-09-19T11:31:46.925Z"
   },
   {
    "duration": 6,
    "start_time": "2021-09-19T11:31:47.446Z"
   },
   {
    "duration": 663,
    "start_time": "2021-09-19T11:31:47.454Z"
   },
   {
    "duration": 9,
    "start_time": "2021-09-19T11:31:48.120Z"
   },
   {
    "duration": 10,
    "start_time": "2021-09-19T11:31:48.131Z"
   },
   {
    "duration": 25,
    "start_time": "2021-09-19T11:31:48.144Z"
   },
   {
    "duration": 47,
    "start_time": "2021-09-19T11:31:48.172Z"
   },
   {
    "duration": 87,
    "start_time": "2021-09-19T11:31:48.222Z"
   },
   {
    "duration": 1198,
    "start_time": "2021-09-19T11:31:48.313Z"
   },
   {
    "duration": 1748,
    "start_time": "2021-09-19T11:32:50.656Z"
   },
   {
    "duration": 1115,
    "start_time": "2021-09-19T11:32:52.407Z"
   },
   {
    "duration": 153,
    "start_time": "2021-09-19T11:32:53.526Z"
   },
   {
    "duration": 45,
    "start_time": "2021-09-19T11:32:53.681Z"
   },
   {
    "duration": 57,
    "start_time": "2021-09-19T11:32:53.729Z"
   },
   {
    "duration": 108,
    "start_time": "2021-09-19T11:32:53.788Z"
   },
   {
    "duration": 311,
    "start_time": "2021-09-19T11:32:53.899Z"
   },
   {
    "duration": 205,
    "start_time": "2021-09-19T11:32:54.215Z"
   },
   {
    "duration": 18,
    "start_time": "2021-09-19T11:32:54.423Z"
   },
   {
    "duration": 314,
    "start_time": "2021-09-19T11:32:54.444Z"
   },
   {
    "duration": 1191,
    "start_time": "2021-09-19T11:32:54.768Z"
   },
   {
    "duration": 836,
    "start_time": "2021-09-19T11:32:55.962Z"
   },
   {
    "duration": 611,
    "start_time": "2021-09-19T11:32:56.801Z"
   },
   {
    "duration": 23,
    "start_time": "2021-09-19T11:32:57.415Z"
   },
   {
    "duration": 527,
    "start_time": "2021-09-19T11:32:57.440Z"
   },
   {
    "duration": 25,
    "start_time": "2021-09-19T11:32:57.970Z"
   },
   {
    "duration": 30,
    "start_time": "2021-09-19T11:32:57.998Z"
   },
   {
    "duration": 618,
    "start_time": "2021-09-19T11:32:58.031Z"
   },
   {
    "duration": 28,
    "start_time": "2021-09-19T11:32:58.651Z"
   },
   {
    "duration": 57,
    "start_time": "2021-09-19T11:32:58.681Z"
   },
   {
    "duration": 313,
    "start_time": "2021-09-19T11:32:58.741Z"
   },
   {
    "duration": 15,
    "start_time": "2021-09-19T11:32:59.056Z"
   },
   {
    "duration": 242,
    "start_time": "2021-09-19T11:32:59.077Z"
   },
   {
    "duration": 8,
    "start_time": "2021-09-19T11:32:59.322Z"
   },
   {
    "duration": 48,
    "start_time": "2021-09-19T11:32:59.332Z"
   },
   {
    "duration": 1520,
    "start_time": "2021-09-19T11:32:59.383Z"
   },
   {
    "duration": 8,
    "start_time": "2021-09-19T11:33:00.905Z"
   },
   {
    "duration": 285,
    "start_time": "2021-09-19T11:33:00.915Z"
   },
   {
    "duration": 74,
    "start_time": "2021-09-19T11:33:01.203Z"
   },
   {
    "duration": 470,
    "start_time": "2021-09-19T11:33:01.280Z"
   },
   {
    "duration": 15,
    "start_time": "2021-09-19T11:33:01.752Z"
   },
   {
    "duration": 35,
    "start_time": "2021-09-19T11:33:01.769Z"
   },
   {
    "duration": 765,
    "start_time": "2021-09-19T11:33:01.808Z"
   },
   {
    "duration": 4269,
    "start_time": "2021-09-19T11:33:02.576Z"
   },
   {
    "duration": 5850,
    "start_time": "2021-09-19T11:33:06.848Z"
   },
   {
    "duration": 333,
    "start_time": "2021-09-19T11:33:12.368Z"
   },
   {
    "duration": 332,
    "start_time": "2021-09-19T11:33:12.371Z"
   },
   {
    "duration": 330,
    "start_time": "2021-09-19T11:33:12.374Z"
   },
   {
    "duration": 328,
    "start_time": "2021-09-19T11:33:12.378Z"
   },
   {
    "duration": 326,
    "start_time": "2021-09-19T11:33:12.381Z"
   },
   {
    "duration": 325,
    "start_time": "2021-09-19T11:33:12.384Z"
   },
   {
    "duration": 323,
    "start_time": "2021-09-19T11:33:12.387Z"
   },
   {
    "duration": 322,
    "start_time": "2021-09-19T11:33:12.390Z"
   },
   {
    "duration": 319,
    "start_time": "2021-09-19T11:33:12.394Z"
   },
   {
    "duration": 319,
    "start_time": "2021-09-19T11:33:12.396Z"
   },
   {
    "duration": 317,
    "start_time": "2021-09-19T11:33:12.400Z"
   },
   {
    "duration": 316,
    "start_time": "2021-09-19T11:33:12.402Z"
   },
   {
    "duration": 313,
    "start_time": "2021-09-19T11:33:12.406Z"
   },
   {
    "duration": 312,
    "start_time": "2021-09-19T11:33:12.409Z"
   },
   {
    "duration": 309,
    "start_time": "2021-09-19T11:33:12.413Z"
   },
   {
    "duration": 309,
    "start_time": "2021-09-19T11:33:12.415Z"
   },
   {
    "duration": 306,
    "start_time": "2021-09-19T11:33:12.419Z"
   },
   {
    "duration": 598,
    "start_time": "2021-09-19T11:37:06.289Z"
   },
   {
    "duration": 214,
    "start_time": "2021-09-19T11:37:10.907Z"
   },
   {
    "duration": 335,
    "start_time": "2021-09-19T11:37:11.456Z"
   },
   {
    "duration": 1709,
    "start_time": "2021-09-19T11:37:29.950Z"
   },
   {
    "duration": 867,
    "start_time": "2021-09-19T11:37:31.671Z"
   },
   {
    "duration": 138,
    "start_time": "2021-09-19T11:37:32.541Z"
   },
   {
    "duration": 33,
    "start_time": "2021-09-19T11:37:32.682Z"
   },
   {
    "duration": 60,
    "start_time": "2021-09-19T11:37:32.718Z"
   },
   {
    "duration": 92,
    "start_time": "2021-09-19T11:37:32.780Z"
   },
   {
    "duration": 286,
    "start_time": "2021-09-19T11:37:32.875Z"
   },
   {
    "duration": 210,
    "start_time": "2021-09-19T11:37:33.165Z"
   },
   {
    "duration": 17,
    "start_time": "2021-09-19T11:37:33.377Z"
   },
   {
    "duration": 295,
    "start_time": "2021-09-19T11:37:33.396Z"
   },
   {
    "duration": 1154,
    "start_time": "2021-09-19T11:37:33.694Z"
   },
   {
    "duration": 817,
    "start_time": "2021-09-19T11:37:34.850Z"
   },
   {
    "duration": 600,
    "start_time": "2021-09-19T11:37:35.670Z"
   },
   {
    "duration": 230,
    "start_time": "2021-09-19T11:37:36.273Z"
   },
   {
    "duration": 471,
    "start_time": "2021-09-19T11:37:36.506Z"
   },
   {
    "duration": 381,
    "start_time": "2021-09-19T11:37:36.600Z"
   },
   {
    "duration": 378,
    "start_time": "2021-09-19T11:37:36.604Z"
   },
   {
    "duration": 371,
    "start_time": "2021-09-19T11:37:36.612Z"
   },
   {
    "duration": 368,
    "start_time": "2021-09-19T11:37:36.616Z"
   },
   {
    "duration": 367,
    "start_time": "2021-09-19T11:37:36.619Z"
   },
   {
    "duration": 365,
    "start_time": "2021-09-19T11:37:36.623Z"
   },
   {
    "duration": 358,
    "start_time": "2021-09-19T11:37:36.631Z"
   },
   {
    "duration": 356,
    "start_time": "2021-09-19T11:37:36.635Z"
   },
   {
    "duration": 355,
    "start_time": "2021-09-19T11:37:36.637Z"
   },
   {
    "duration": 353,
    "start_time": "2021-09-19T11:37:36.641Z"
   },
   {
    "duration": 351,
    "start_time": "2021-09-19T11:37:36.644Z"
   },
   {
    "duration": 349,
    "start_time": "2021-09-19T11:37:36.648Z"
   },
   {
    "duration": 349,
    "start_time": "2021-09-19T11:37:36.650Z"
   },
   {
    "duration": 348,
    "start_time": "2021-09-19T11:37:36.653Z"
   },
   {
    "duration": 346,
    "start_time": "2021-09-19T11:37:36.656Z"
   },
   {
    "duration": 345,
    "start_time": "2021-09-19T11:37:36.659Z"
   },
   {
    "duration": 343,
    "start_time": "2021-09-19T11:37:36.662Z"
   },
   {
    "duration": 336,
    "start_time": "2021-09-19T11:37:36.671Z"
   },
   {
    "duration": 330,
    "start_time": "2021-09-19T11:37:36.678Z"
   },
   {
    "duration": 328,
    "start_time": "2021-09-19T11:37:36.682Z"
   },
   {
    "duration": 323,
    "start_time": "2021-09-19T11:37:36.688Z"
   },
   {
    "duration": 322,
    "start_time": "2021-09-19T11:37:36.691Z"
   },
   {
    "duration": 319,
    "start_time": "2021-09-19T11:37:36.695Z"
   },
   {
    "duration": 315,
    "start_time": "2021-09-19T11:37:36.701Z"
   },
   {
    "duration": 313,
    "start_time": "2021-09-19T11:37:36.704Z"
   },
   {
    "duration": 311,
    "start_time": "2021-09-19T11:37:36.708Z"
   },
   {
    "duration": 357,
    "start_time": "2021-09-19T11:37:36.711Z"
   },
   {
    "duration": 354,
    "start_time": "2021-09-19T11:37:36.715Z"
   },
   {
    "duration": 348,
    "start_time": "2021-09-19T11:37:36.723Z"
   },
   {
    "duration": 346,
    "start_time": "2021-09-19T11:37:36.726Z"
   },
   {
    "duration": 345,
    "start_time": "2021-09-19T11:37:36.729Z"
   },
   {
    "duration": 343,
    "start_time": "2021-09-19T11:37:36.732Z"
   },
   {
    "duration": 338,
    "start_time": "2021-09-19T11:37:36.738Z"
   },
   {
    "duration": 336,
    "start_time": "2021-09-19T11:37:36.742Z"
   },
   {
    "duration": 329,
    "start_time": "2021-09-19T11:37:36.750Z"
   },
   {
    "duration": 324,
    "start_time": "2021-09-19T11:37:36.757Z"
   },
   {
    "duration": 319,
    "start_time": "2021-09-19T11:37:36.763Z"
   },
   {
    "duration": 638,
    "start_time": "2021-09-19T11:37:56.594Z"
   },
   {
    "duration": 352,
    "start_time": "2021-09-19T11:38:21.766Z"
   },
   {
    "duration": 253,
    "start_time": "2021-09-19T11:40:00.367Z"
   },
   {
    "duration": 490,
    "start_time": "2021-09-19T11:40:00.983Z"
   },
   {
    "duration": 210,
    "start_time": "2021-09-19T11:40:13.425Z"
   },
   {
    "duration": 344,
    "start_time": "2021-09-19T11:40:27.811Z"
   },
   {
    "duration": 128,
    "start_time": "2021-09-19T11:41:08.679Z"
   },
   {
    "duration": 747,
    "start_time": "2021-09-19T11:41:42.822Z"
   },
   {
    "duration": 117,
    "start_time": "2021-09-19T11:41:47.538Z"
   },
   {
    "duration": 576,
    "start_time": "2021-09-19T11:41:50.935Z"
   },
   {
    "duration": 423,
    "start_time": "2021-09-19T11:42:15.889Z"
   },
   {
    "duration": 152,
    "start_time": "2021-09-19T11:42:27.287Z"
   },
   {
    "duration": 23,
    "start_time": "2021-09-19T11:42:37.775Z"
   },
   {
    "duration": 362,
    "start_time": "2021-09-19T11:42:39.627Z"
   },
   {
    "duration": 764,
    "start_time": "2021-09-19T11:42:44.543Z"
   },
   {
    "duration": 6,
    "start_time": "2021-09-19T11:42:49.982Z"
   },
   {
    "duration": 118,
    "start_time": "2021-09-19T11:43:12.628Z"
   },
   {
    "duration": 469,
    "start_time": "2021-09-19T11:43:13.716Z"
   },
   {
    "duration": 1045,
    "start_time": "2021-09-19T11:43:38.284Z"
   },
   {
    "duration": 577,
    "start_time": "2021-09-19T11:45:09.850Z"
   },
   {
    "duration": 476,
    "start_time": "2021-09-19T11:45:26.813Z"
   },
   {
    "duration": 499,
    "start_time": "2021-09-19T11:45:35.602Z"
   },
   {
    "duration": 699,
    "start_time": "2021-09-19T11:45:47.004Z"
   },
   {
    "duration": 690,
    "start_time": "2021-09-19T11:46:03.093Z"
   },
   {
    "duration": 506,
    "start_time": "2021-09-19T11:47:15.534Z"
   },
   {
    "duration": 586,
    "start_time": "2021-09-19T11:48:03.248Z"
   },
   {
    "duration": 479,
    "start_time": "2021-09-19T11:48:19.472Z"
   },
   {
    "duration": 571,
    "start_time": "2021-09-19T11:50:45.173Z"
   },
   {
    "duration": 685,
    "start_time": "2021-09-19T11:50:53.399Z"
   },
   {
    "duration": 196,
    "start_time": "2021-09-19T11:55:39.854Z"
   },
   {
    "duration": 696,
    "start_time": "2021-09-19T11:56:24.954Z"
   },
   {
    "duration": 756,
    "start_time": "2021-09-19T11:56:42.290Z"
   },
   {
    "duration": 681,
    "start_time": "2021-09-19T11:56:48.718Z"
   },
   {
    "duration": 680,
    "start_time": "2021-09-19T11:57:12.858Z"
   },
   {
    "duration": 334,
    "start_time": "2021-09-19T12:01:16.301Z"
   },
   {
    "duration": 24,
    "start_time": "2021-09-19T12:01:23.128Z"
   },
   {
    "duration": 29,
    "start_time": "2021-09-19T12:01:23.868Z"
   },
   {
    "duration": 562,
    "start_time": "2021-09-19T12:01:24.576Z"
   },
   {
    "duration": 14,
    "start_time": "2021-09-19T12:01:25.248Z"
   },
   {
    "duration": 86,
    "start_time": "2021-09-19T12:01:27.435Z"
   },
   {
    "duration": 83,
    "start_time": "2021-09-19T12:01:56.552Z"
   },
   {
    "duration": 364,
    "start_time": "2021-09-19T12:01:57.186Z"
   },
   {
    "duration": 21,
    "start_time": "2021-09-19T12:01:57.612Z"
   },
   {
    "duration": 151,
    "start_time": "2021-09-19T12:01:58.016Z"
   },
   {
    "duration": 8,
    "start_time": "2021-09-19T12:01:58.335Z"
   },
   {
    "duration": 41,
    "start_time": "2021-09-19T12:01:58.655Z"
   },
   {
    "duration": 1850,
    "start_time": "2021-09-19T12:01:59.003Z"
   },
   {
    "duration": 10,
    "start_time": "2021-09-19T12:02:00.867Z"
   },
   {
    "duration": 9,
    "start_time": "2021-09-19T12:02:24.010Z"
   },
   {
    "duration": 24,
    "start_time": "2021-09-19T12:03:20.577Z"
   },
   {
    "duration": 687,
    "start_time": "2021-09-19T12:03:21.018Z"
   },
   {
    "duration": 3647,
    "start_time": "2021-09-19T12:03:21.707Z"
   },
   {
    "duration": 5306,
    "start_time": "2021-09-19T12:03:25.357Z"
   },
   {
    "duration": 5732,
    "start_time": "2021-09-19T12:03:55.393Z"
   },
   {
    "duration": 1564,
    "start_time": "2021-09-19T12:04:38.540Z"
   },
   {
    "duration": 834,
    "start_time": "2021-09-19T12:04:40.107Z"
   },
   {
    "duration": 141,
    "start_time": "2021-09-19T12:04:40.944Z"
   },
   {
    "duration": 32,
    "start_time": "2021-09-19T12:04:41.088Z"
   },
   {
    "duration": 54,
    "start_time": "2021-09-19T12:04:41.123Z"
   },
   {
    "duration": 105,
    "start_time": "2021-09-19T12:04:41.179Z"
   },
   {
    "duration": 287,
    "start_time": "2021-09-19T12:04:41.287Z"
   },
   {
    "duration": 205,
    "start_time": "2021-09-19T12:04:41.578Z"
   },
   {
    "duration": 18,
    "start_time": "2021-09-19T12:04:41.786Z"
   },
   {
    "duration": 321,
    "start_time": "2021-09-19T12:04:41.806Z"
   },
   {
    "duration": 1184,
    "start_time": "2021-09-19T12:04:42.129Z"
   },
   {
    "duration": 802,
    "start_time": "2021-09-19T12:04:43.316Z"
   },
   {
    "duration": 587,
    "start_time": "2021-09-19T12:04:44.121Z"
   },
   {
    "duration": 144,
    "start_time": "2021-09-19T12:04:44.711Z"
   },
   {
    "duration": 698,
    "start_time": "2021-09-19T12:04:44.857Z"
   },
   {
    "duration": 30,
    "start_time": "2021-09-19T12:04:45.557Z"
   },
   {
    "duration": 29,
    "start_time": "2021-09-19T12:04:45.589Z"
   },
   {
    "duration": 596,
    "start_time": "2021-09-19T12:04:45.620Z"
   },
   {
    "duration": 14,
    "start_time": "2021-09-19T12:04:46.218Z"
   },
   {
    "duration": 81,
    "start_time": "2021-09-19T12:04:46.234Z"
   },
   {
    "duration": 297,
    "start_time": "2021-09-19T12:04:46.317Z"
   },
   {
    "duration": 18,
    "start_time": "2021-09-19T12:04:46.617Z"
   },
   {
    "duration": 324,
    "start_time": "2021-09-19T12:04:46.643Z"
   },
   {
    "duration": 11,
    "start_time": "2021-09-19T12:04:46.971Z"
   },
   {
    "duration": 29,
    "start_time": "2021-09-19T12:04:46.985Z"
   },
   {
    "duration": 1821,
    "start_time": "2021-09-19T12:04:47.017Z"
   },
   {
    "duration": 26,
    "start_time": "2021-09-19T12:04:48.841Z"
   },
   {
    "duration": 297,
    "start_time": "2021-09-19T12:04:48.870Z"
   },
   {
    "duration": 36,
    "start_time": "2021-09-19T12:04:49.170Z"
   },
   {
    "duration": 717,
    "start_time": "2021-09-19T12:04:49.210Z"
   },
   {
    "duration": 11,
    "start_time": "2021-09-19T12:04:49.930Z"
   },
   {
    "duration": 41,
    "start_time": "2021-09-19T12:04:49.944Z"
   },
   {
    "duration": 607,
    "start_time": "2021-09-19T12:04:49.988Z"
   },
   {
    "duration": 3550,
    "start_time": "2021-09-19T12:04:50.597Z"
   },
   {
    "duration": 20,
    "start_time": "2021-09-19T12:04:54.150Z"
   },
   {
    "duration": 639,
    "start_time": "2021-09-19T12:04:54.173Z"
   },
   {
    "duration": 3,
    "start_time": "2021-09-19T12:04:54.814Z"
   },
   {
    "duration": 1392,
    "start_time": "2021-09-19T12:04:54.819Z"
   },
   {
    "duration": 8,
    "start_time": "2021-09-19T12:04:56.214Z"
   },
   {
    "duration": 13,
    "start_time": "2021-09-19T12:04:56.224Z"
   },
   {
    "duration": 501,
    "start_time": "2021-09-19T12:04:56.239Z"
   },
   {
    "duration": 604,
    "start_time": "2021-09-19T12:04:56.743Z"
   },
   {
    "duration": 813,
    "start_time": "2021-09-19T12:04:57.350Z"
   },
   {
    "duration": 753,
    "start_time": "2021-09-19T12:04:58.168Z"
   },
   {
    "duration": 7,
    "start_time": "2021-09-19T12:04:58.924Z"
   },
   {
    "duration": 788,
    "start_time": "2021-09-19T12:04:58.934Z"
   },
   {
    "duration": 12,
    "start_time": "2021-09-19T12:04:59.725Z"
   },
   {
    "duration": 8,
    "start_time": "2021-09-19T12:04:59.740Z"
   },
   {
    "duration": 28,
    "start_time": "2021-09-19T12:04:59.750Z"
   },
   {
    "duration": 47,
    "start_time": "2021-09-19T12:04:59.781Z"
   },
   {
    "duration": 81,
    "start_time": "2021-09-19T12:04:59.831Z"
   },
   {
    "duration": 1229,
    "start_time": "2021-09-19T12:04:59.915Z"
   },
   {
    "duration": 626,
    "start_time": "2021-09-19T12:06:27.158Z"
   },
   {
    "duration": 1189,
    "start_time": "2021-09-19T12:09:40.555Z"
   },
   {
    "duration": 3,
    "start_time": "2021-09-19T12:09:56.268Z"
   },
   {
    "duration": 1207,
    "start_time": "2021-09-19T12:09:57.041Z"
   },
   {
    "duration": 1603,
    "start_time": "2021-09-19T12:10:03.464Z"
   },
   {
    "duration": 861,
    "start_time": "2021-09-19T12:10:05.070Z"
   },
   {
    "duration": 142,
    "start_time": "2021-09-19T12:10:05.934Z"
   },
   {
    "duration": 44,
    "start_time": "2021-09-19T12:10:06.079Z"
   },
   {
    "duration": 55,
    "start_time": "2021-09-19T12:10:06.125Z"
   },
   {
    "duration": 102,
    "start_time": "2021-09-19T12:10:06.183Z"
   },
   {
    "duration": 282,
    "start_time": "2021-09-19T12:10:06.287Z"
   },
   {
    "duration": 209,
    "start_time": "2021-09-19T12:10:06.574Z"
   },
   {
    "duration": 19,
    "start_time": "2021-09-19T12:10:06.786Z"
   },
   {
    "duration": 329,
    "start_time": "2021-09-19T12:10:06.807Z"
   },
   {
    "duration": 1178,
    "start_time": "2021-09-19T12:10:07.139Z"
   },
   {
    "duration": 805,
    "start_time": "2021-09-19T12:10:08.319Z"
   },
   {
    "duration": 596,
    "start_time": "2021-09-19T12:10:09.127Z"
   },
   {
    "duration": 147,
    "start_time": "2021-09-19T12:10:09.726Z"
   },
   {
    "duration": 694,
    "start_time": "2021-09-19T12:10:09.875Z"
   },
   {
    "duration": 27,
    "start_time": "2021-09-19T12:10:10.572Z"
   },
   {
    "duration": 30,
    "start_time": "2021-09-19T12:10:10.602Z"
   },
   {
    "duration": 572,
    "start_time": "2021-09-19T12:10:10.667Z"
   },
   {
    "duration": 26,
    "start_time": "2021-09-19T12:10:11.242Z"
   },
   {
    "duration": 57,
    "start_time": "2021-09-19T12:10:11.271Z"
   },
   {
    "duration": 313,
    "start_time": "2021-09-19T12:10:11.331Z"
   },
   {
    "duration": 23,
    "start_time": "2021-09-19T12:10:11.647Z"
   },
   {
    "duration": 236,
    "start_time": "2021-09-19T12:10:11.675Z"
   },
   {
    "duration": 7,
    "start_time": "2021-09-19T12:10:11.914Z"
   },
   {
    "duration": 44,
    "start_time": "2021-09-19T12:10:11.924Z"
   },
   {
    "duration": 1277,
    "start_time": "2021-09-19T12:10:11.971Z"
   },
   {
    "duration": 18,
    "start_time": "2021-09-19T12:10:13.250Z"
   },
   {
    "duration": 237,
    "start_time": "2021-09-19T12:10:13.270Z"
   },
   {
    "duration": 25,
    "start_time": "2021-09-19T12:10:13.509Z"
   },
   {
    "duration": 720,
    "start_time": "2021-09-19T12:10:13.537Z"
   },
   {
    "duration": 11,
    "start_time": "2021-09-19T12:10:14.268Z"
   },
   {
    "duration": 28,
    "start_time": "2021-09-19T12:10:14.282Z"
   },
   {
    "duration": 903,
    "start_time": "2021-09-19T12:10:14.313Z"
   },
   {
    "duration": 5377,
    "start_time": "2021-09-19T12:10:15.219Z"
   },
   {
    "duration": 16,
    "start_time": "2021-09-19T12:10:20.599Z"
   },
   {
    "duration": 649,
    "start_time": "2021-09-19T12:10:20.618Z"
   },
   {
    "duration": 4,
    "start_time": "2021-09-19T12:10:21.269Z"
   },
   {
    "duration": 616,
    "start_time": "2021-09-19T12:10:21.276Z"
   },
   {
    "duration": 340,
    "start_time": "2021-09-19T12:10:21.555Z"
   },
   {
    "duration": 330,
    "start_time": "2021-09-19T12:10:21.566Z"
   },
   {
    "duration": 324,
    "start_time": "2021-09-19T12:10:21.574Z"
   },
   {
    "duration": 321,
    "start_time": "2021-09-19T12:10:21.579Z"
   },
   {
    "duration": 315,
    "start_time": "2021-09-19T12:10:21.586Z"
   },
   {
    "duration": 311,
    "start_time": "2021-09-19T12:10:21.592Z"
   },
   {
    "duration": 306,
    "start_time": "2021-09-19T12:10:21.598Z"
   },
   {
    "duration": 302,
    "start_time": "2021-09-19T12:10:21.603Z"
   },
   {
    "duration": 298,
    "start_time": "2021-09-19T12:10:21.609Z"
   },
   {
    "duration": 293,
    "start_time": "2021-09-19T12:10:21.615Z"
   },
   {
    "duration": 289,
    "start_time": "2021-09-19T12:10:21.621Z"
   },
   {
    "duration": 286,
    "start_time": "2021-09-19T12:10:21.625Z"
   },
   {
    "duration": 281,
    "start_time": "2021-09-19T12:10:21.631Z"
   },
   {
    "duration": 277,
    "start_time": "2021-09-19T12:10:21.637Z"
   },
   {
    "duration": 1390,
    "start_time": "2021-09-19T12:10:33.632Z"
   },
   {
    "duration": 1972,
    "start_time": "2021-09-19T12:13:00.735Z"
   },
   {
    "duration": 1489,
    "start_time": "2021-09-19T12:13:19.770Z"
   },
   {
    "duration": 1479,
    "start_time": "2021-09-19T12:13:54.620Z"
   },
   {
    "duration": 1267,
    "start_time": "2021-09-19T12:14:57.953Z"
   },
   {
    "duration": 1087,
    "start_time": "2021-09-19T12:21:02.803Z"
   },
   {
    "duration": 388,
    "start_time": "2021-09-19T12:21:03.506Z"
   },
   {
    "duration": 382,
    "start_time": "2021-09-19T12:21:03.514Z"
   },
   {
    "duration": 5,
    "start_time": "2021-09-19T12:21:07.704Z"
   },
   {
    "duration": 434,
    "start_time": "2021-09-19T12:21:08.471Z"
   },
   {
    "duration": 722,
    "start_time": "2021-09-19T12:21:09.132Z"
   },
   {
    "duration": 637,
    "start_time": "2021-09-19T12:21:13.311Z"
   },
   {
    "duration": 418,
    "start_time": "2021-09-19T12:21:13.951Z"
   },
   {
    "duration": 6,
    "start_time": "2021-09-19T12:21:14.372Z"
   },
   {
    "duration": 535,
    "start_time": "2021-09-19T12:28:46.056Z"
   },
   {
    "duration": 806,
    "start_time": "2021-09-19T12:30:05.088Z"
   },
   {
    "duration": 10082,
    "start_time": "2021-09-19T12:32:34.258Z"
   },
   {
    "duration": 1631,
    "start_time": "2021-09-19T12:32:57.944Z"
   },
   {
    "duration": 1196,
    "start_time": "2021-09-19T12:32:59.578Z"
   },
   {
    "duration": 224,
    "start_time": "2021-09-19T12:33:00.778Z"
   },
   {
    "duration": 69,
    "start_time": "2021-09-19T12:33:01.006Z"
   },
   {
    "duration": 37,
    "start_time": "2021-09-19T12:33:01.079Z"
   },
   {
    "duration": 148,
    "start_time": "2021-09-19T12:33:01.119Z"
   },
   {
    "duration": 542,
    "start_time": "2021-09-19T12:33:01.271Z"
   },
   {
    "duration": 288,
    "start_time": "2021-09-19T12:33:01.819Z"
   },
   {
    "duration": 26,
    "start_time": "2021-09-19T12:33:02.111Z"
   },
   {
    "duration": 351,
    "start_time": "2021-09-19T12:33:02.140Z"
   },
   {
    "duration": 1403,
    "start_time": "2021-09-19T12:33:02.494Z"
   },
   {
    "duration": 798,
    "start_time": "2021-09-19T12:33:03.900Z"
   },
   {
    "duration": 610,
    "start_time": "2021-09-19T12:33:04.700Z"
   },
   {
    "duration": 150,
    "start_time": "2021-09-19T12:33:05.312Z"
   },
   {
    "duration": 704,
    "start_time": "2021-09-19T12:33:05.464Z"
   },
   {
    "duration": 24,
    "start_time": "2021-09-19T12:33:06.170Z"
   },
   {
    "duration": 28,
    "start_time": "2021-09-19T12:33:06.196Z"
   },
   {
    "duration": 805,
    "start_time": "2021-09-19T12:33:06.226Z"
   },
   {
    "duration": 33,
    "start_time": "2021-09-19T12:33:07.034Z"
   },
   {
    "duration": 96,
    "start_time": "2021-09-19T12:33:07.070Z"
   },
   {
    "duration": 398,
    "start_time": "2021-09-19T12:33:07.170Z"
   },
   {
    "duration": 17,
    "start_time": "2021-09-19T12:33:07.571Z"
   },
   {
    "duration": 253,
    "start_time": "2021-09-19T12:33:07.593Z"
   },
   {
    "duration": 9,
    "start_time": "2021-09-19T12:33:07.849Z"
   },
   {
    "duration": 30,
    "start_time": "2021-09-19T12:33:07.868Z"
   },
   {
    "duration": 1341,
    "start_time": "2021-09-19T12:33:07.900Z"
   },
   {
    "duration": 23,
    "start_time": "2021-09-19T12:33:09.243Z"
   },
   {
    "duration": 234,
    "start_time": "2021-09-19T12:33:09.270Z"
   },
   {
    "duration": 27,
    "start_time": "2021-09-19T12:33:09.506Z"
   },
   {
    "duration": 472,
    "start_time": "2021-09-19T12:33:09.535Z"
   },
   {
    "duration": 8,
    "start_time": "2021-09-19T12:33:10.010Z"
   },
   {
    "duration": 51,
    "start_time": "2021-09-19T12:33:10.021Z"
   },
   {
    "duration": 630,
    "start_time": "2021-09-19T12:33:10.074Z"
   },
   {
    "duration": 3594,
    "start_time": "2021-09-19T12:33:10.707Z"
   },
   {
    "duration": 14,
    "start_time": "2021-09-19T12:33:14.305Z"
   },
   {
    "duration": 645,
    "start_time": "2021-09-19T12:33:14.322Z"
   },
   {
    "duration": 4,
    "start_time": "2021-09-19T12:33:14.969Z"
   },
   {
    "duration": 1284,
    "start_time": "2021-09-19T12:33:14.975Z"
   },
   {
    "duration": 10,
    "start_time": "2021-09-19T12:33:16.261Z"
   },
   {
    "duration": 18,
    "start_time": "2021-09-19T12:33:16.273Z"
   },
   {
    "duration": 466,
    "start_time": "2021-09-19T12:33:16.294Z"
   },
   {
    "duration": 488,
    "start_time": "2021-09-19T12:33:16.763Z"
   },
   {
    "duration": 748,
    "start_time": "2021-09-19T12:33:17.254Z"
   },
   {
    "duration": 527,
    "start_time": "2021-09-19T12:33:18.004Z"
   },
   {
    "duration": 5,
    "start_time": "2021-09-19T12:33:18.534Z"
   },
   {
    "duration": 659,
    "start_time": "2021-09-19T12:33:18.542Z"
   },
   {
    "duration": 10,
    "start_time": "2021-09-19T12:33:19.205Z"
   },
   {
    "duration": 16,
    "start_time": "2021-09-19T12:33:19.218Z"
   },
   {
    "duration": 32,
    "start_time": "2021-09-19T12:33:19.237Z"
   },
   {
    "duration": 58,
    "start_time": "2021-09-19T12:33:19.272Z"
   },
   {
    "duration": 64,
    "start_time": "2021-09-19T12:33:19.332Z"
   },
   {
    "duration": 1224,
    "start_time": "2021-09-19T12:33:19.399Z"
   },
   {
    "duration": 9063,
    "start_time": "2021-09-19T12:33:47.005Z"
   },
   {
    "duration": 1554,
    "start_time": "2021-09-19T12:34:01.817Z"
   },
   {
    "duration": 855,
    "start_time": "2021-09-19T12:34:03.374Z"
   },
   {
    "duration": 146,
    "start_time": "2021-09-19T12:34:04.232Z"
   },
   {
    "duration": 34,
    "start_time": "2021-09-19T12:34:04.381Z"
   },
   {
    "duration": 56,
    "start_time": "2021-09-19T12:34:04.418Z"
   },
   {
    "duration": 98,
    "start_time": "2021-09-19T12:34:04.476Z"
   },
   {
    "duration": 300,
    "start_time": "2021-09-19T12:34:04.576Z"
   },
   {
    "duration": 207,
    "start_time": "2021-09-19T12:34:04.880Z"
   },
   {
    "duration": 18,
    "start_time": "2021-09-19T12:34:05.090Z"
   },
   {
    "duration": 314,
    "start_time": "2021-09-19T12:34:05.110Z"
   },
   {
    "duration": 1166,
    "start_time": "2021-09-19T12:34:05.426Z"
   },
   {
    "duration": 841,
    "start_time": "2021-09-19T12:34:06.596Z"
   },
   {
    "duration": 616,
    "start_time": "2021-09-19T12:34:07.441Z"
   },
   {
    "duration": 147,
    "start_time": "2021-09-19T12:34:08.068Z"
   },
   {
    "duration": 693,
    "start_time": "2021-09-19T12:34:08.218Z"
   },
   {
    "duration": 26,
    "start_time": "2021-09-19T12:34:08.915Z"
   },
   {
    "duration": 52,
    "start_time": "2021-09-19T12:34:08.944Z"
   },
   {
    "duration": 593,
    "start_time": "2021-09-19T12:34:08.999Z"
   },
   {
    "duration": 16,
    "start_time": "2021-09-19T12:34:09.595Z"
   },
   {
    "duration": 87,
    "start_time": "2021-09-19T12:34:09.614Z"
   },
   {
    "duration": 322,
    "start_time": "2021-09-19T12:34:09.704Z"
   },
   {
    "duration": 17,
    "start_time": "2021-09-19T12:34:10.029Z"
   },
   {
    "duration": 230,
    "start_time": "2021-09-19T12:34:10.068Z"
   },
   {
    "duration": 8,
    "start_time": "2021-09-19T12:34:10.301Z"
   },
   {
    "duration": 66,
    "start_time": "2021-09-19T12:34:10.311Z"
   },
   {
    "duration": 1273,
    "start_time": "2021-09-19T12:34:10.380Z"
   },
   {
    "duration": 17,
    "start_time": "2021-09-19T12:34:11.656Z"
   },
   {
    "duration": 243,
    "start_time": "2021-09-19T12:34:11.676Z"
   },
   {
    "duration": 25,
    "start_time": "2021-09-19T12:34:11.922Z"
   },
   {
    "duration": 576,
    "start_time": "2021-09-19T12:34:11.949Z"
   },
   {
    "duration": 8,
    "start_time": "2021-09-19T12:34:12.528Z"
   },
   {
    "duration": 42,
    "start_time": "2021-09-19T12:34:12.538Z"
   },
   {
    "duration": 600,
    "start_time": "2021-09-19T12:34:12.582Z"
   },
   {
    "duration": 3627,
    "start_time": "2021-09-19T12:34:13.185Z"
   },
   {
    "duration": 13,
    "start_time": "2021-09-19T12:34:16.815Z"
   },
   {
    "duration": 643,
    "start_time": "2021-09-19T12:34:16.830Z"
   },
   {
    "duration": 4,
    "start_time": "2021-09-19T12:34:17.476Z"
   },
   {
    "duration": 1301,
    "start_time": "2021-09-19T12:34:17.482Z"
   },
   {
    "duration": 8,
    "start_time": "2021-09-19T12:34:18.785Z"
   },
   {
    "duration": 18,
    "start_time": "2021-09-19T12:34:18.795Z"
   },
   {
    "duration": 459,
    "start_time": "2021-09-19T12:34:18.815Z"
   },
   {
    "duration": 484,
    "start_time": "2021-09-19T12:34:19.276Z"
   },
   {
    "duration": 660,
    "start_time": "2021-09-19T12:34:19.762Z"
   },
   {
    "duration": 508,
    "start_time": "2021-09-19T12:34:20.425Z"
   },
   {
    "duration": 6,
    "start_time": "2021-09-19T12:34:20.935Z"
   },
   {
    "duration": 784,
    "start_time": "2021-09-19T12:34:20.945Z"
   },
   {
    "duration": 13,
    "start_time": "2021-09-19T12:34:21.732Z"
   },
   {
    "duration": 21,
    "start_time": "2021-09-19T12:34:21.747Z"
   },
   {
    "duration": 9,
    "start_time": "2021-09-19T12:34:21.770Z"
   },
   {
    "duration": 47,
    "start_time": "2021-09-19T12:34:21.781Z"
   },
   {
    "duration": 85,
    "start_time": "2021-09-19T12:34:21.831Z"
   },
   {
    "duration": 1699,
    "start_time": "2021-09-19T12:34:21.919Z"
   },
   {
    "duration": 1554,
    "start_time": "2021-09-19T12:34:51.406Z"
   },
   {
    "duration": 1019,
    "start_time": "2021-09-19T12:34:52.962Z"
   },
   {
    "duration": 208,
    "start_time": "2021-09-19T12:34:53.984Z"
   },
   {
    "duration": 37,
    "start_time": "2021-09-19T12:34:54.196Z"
   },
   {
    "duration": 60,
    "start_time": "2021-09-19T12:34:54.236Z"
   },
   {
    "duration": 132,
    "start_time": "2021-09-19T12:34:54.299Z"
   },
   {
    "duration": 482,
    "start_time": "2021-09-19T12:34:54.435Z"
   },
   {
    "duration": 293,
    "start_time": "2021-09-19T12:34:54.922Z"
   },
   {
    "duration": 25,
    "start_time": "2021-09-19T12:34:55.219Z"
   },
   {
    "duration": 306,
    "start_time": "2021-09-19T12:34:55.247Z"
   },
   {
    "duration": 1154,
    "start_time": "2021-09-19T12:34:55.556Z"
   },
   {
    "duration": 798,
    "start_time": "2021-09-19T12:34:56.712Z"
   },
   {
    "duration": 593,
    "start_time": "2021-09-19T12:34:57.513Z"
   },
   {
    "duration": 152,
    "start_time": "2021-09-19T12:34:58.108Z"
   },
   {
    "duration": 688,
    "start_time": "2021-09-19T12:34:58.263Z"
   },
   {
    "duration": 37,
    "start_time": "2021-09-19T12:34:58.955Z"
   },
   {
    "duration": 38,
    "start_time": "2021-09-19T12:34:58.994Z"
   },
   {
    "duration": 610,
    "start_time": "2021-09-19T12:34:59.035Z"
   },
   {
    "duration": 21,
    "start_time": "2021-09-19T12:34:59.647Z"
   },
   {
    "duration": 56,
    "start_time": "2021-09-19T12:34:59.671Z"
   },
   {
    "duration": 328,
    "start_time": "2021-09-19T12:34:59.730Z"
   },
   {
    "duration": 20,
    "start_time": "2021-09-19T12:35:00.060Z"
   },
   {
    "duration": 262,
    "start_time": "2021-09-19T12:35:00.085Z"
   },
   {
    "duration": 8,
    "start_time": "2021-09-19T12:35:00.350Z"
   },
   {
    "duration": 36,
    "start_time": "2021-09-19T12:35:00.368Z"
   },
   {
    "duration": 1416,
    "start_time": "2021-09-19T12:35:00.407Z"
   },
   {
    "duration": 9,
    "start_time": "2021-09-19T12:35:01.826Z"
   },
   {
    "duration": 259,
    "start_time": "2021-09-19T12:35:01.837Z"
   },
   {
    "duration": 25,
    "start_time": "2021-09-19T12:35:02.098Z"
   },
   {
    "duration": 496,
    "start_time": "2021-09-19T12:35:02.126Z"
   },
   {
    "duration": 9,
    "start_time": "2021-09-19T12:35:02.624Z"
   },
   {
    "duration": 30,
    "start_time": "2021-09-19T12:35:02.635Z"
   },
   {
    "duration": 818,
    "start_time": "2021-09-19T12:35:02.668Z"
   },
   {
    "duration": 3726,
    "start_time": "2021-09-19T12:35:03.488Z"
   },
   {
    "duration": 13,
    "start_time": "2021-09-19T12:35:07.217Z"
   },
   {
    "duration": 682,
    "start_time": "2021-09-19T12:35:07.232Z"
   },
   {
    "duration": 3,
    "start_time": "2021-09-19T12:35:07.917Z"
   },
   {
    "duration": 1292,
    "start_time": "2021-09-19T12:35:07.923Z"
   },
   {
    "duration": 10,
    "start_time": "2021-09-19T12:35:09.218Z"
   },
   {
    "duration": 13,
    "start_time": "2021-09-19T12:35:09.230Z"
   },
   {
    "duration": 462,
    "start_time": "2021-09-19T12:35:09.246Z"
   },
   {
    "duration": 731,
    "start_time": "2021-09-19T12:35:09.711Z"
   },
   {
    "duration": 795,
    "start_time": "2021-09-19T12:35:10.445Z"
   },
   {
    "duration": 530,
    "start_time": "2021-09-19T12:35:11.243Z"
   },
   {
    "duration": 6,
    "start_time": "2021-09-19T12:35:11.776Z"
   },
   {
    "duration": 648,
    "start_time": "2021-09-19T12:35:11.784Z"
   },
   {
    "duration": 9,
    "start_time": "2021-09-19T12:35:12.435Z"
   },
   {
    "duration": 20,
    "start_time": "2021-09-19T12:35:12.447Z"
   },
   {
    "duration": 14,
    "start_time": "2021-09-19T12:35:12.470Z"
   },
   {
    "duration": 53,
    "start_time": "2021-09-19T12:35:12.487Z"
   },
   {
    "duration": 74,
    "start_time": "2021-09-19T12:35:12.543Z"
   },
   {
    "duration": 1194,
    "start_time": "2021-09-19T12:35:12.619Z"
   },
   {
    "duration": 1106,
    "start_time": "2021-09-19T18:14:16.203Z"
   },
   {
    "duration": 623,
    "start_time": "2021-09-19T18:14:17.311Z"
   },
   {
    "duration": 105,
    "start_time": "2021-09-19T18:14:17.936Z"
   },
   {
    "duration": 38,
    "start_time": "2021-09-19T18:14:18.043Z"
   },
   {
    "duration": 20,
    "start_time": "2021-09-19T18:14:18.083Z"
   },
   {
    "duration": 83,
    "start_time": "2021-09-19T18:14:18.105Z"
   },
   {
    "duration": 195,
    "start_time": "2021-09-19T18:14:18.190Z"
   },
   {
    "duration": 154,
    "start_time": "2021-09-19T18:14:18.388Z"
   },
   {
    "duration": 14,
    "start_time": "2021-09-19T18:14:18.544Z"
   },
   {
    "duration": 150,
    "start_time": "2021-09-19T18:14:18.560Z"
   },
   {
    "duration": 741,
    "start_time": "2021-09-19T18:14:18.712Z"
   },
   {
    "duration": 509,
    "start_time": "2021-09-19T18:14:19.455Z"
   },
   {
    "duration": 388,
    "start_time": "2021-09-19T18:14:19.966Z"
   },
   {
    "duration": 112,
    "start_time": "2021-09-19T18:14:20.356Z"
   },
   {
    "duration": 450,
    "start_time": "2021-09-19T18:14:20.469Z"
   },
   {
    "duration": 19,
    "start_time": "2021-09-19T18:14:20.920Z"
   },
   {
    "duration": 38,
    "start_time": "2021-09-19T18:14:20.940Z"
   },
   {
    "duration": 330,
    "start_time": "2021-09-19T18:14:20.979Z"
   },
   {
    "duration": 10,
    "start_time": "2021-09-19T18:14:21.311Z"
   },
   {
    "duration": 58,
    "start_time": "2021-09-19T18:14:21.323Z"
   },
   {
    "duration": 191,
    "start_time": "2021-09-19T18:14:21.383Z"
   },
   {
    "duration": 12,
    "start_time": "2021-09-19T18:14:21.577Z"
   },
   {
    "duration": 190,
    "start_time": "2021-09-19T18:14:21.593Z"
   },
   {
    "duration": 5,
    "start_time": "2021-09-19T18:14:21.786Z"
   },
   {
    "duration": 23,
    "start_time": "2021-09-19T18:14:21.792Z"
   },
   {
    "duration": 882,
    "start_time": "2021-09-19T18:14:21.817Z"
   },
   {
    "duration": 6,
    "start_time": "2021-09-19T18:14:22.700Z"
   },
   {
    "duration": 139,
    "start_time": "2021-09-19T18:14:22.707Z"
   },
   {
    "duration": 16,
    "start_time": "2021-09-19T18:14:22.848Z"
   },
   {
    "duration": 283,
    "start_time": "2021-09-19T18:14:22.865Z"
   },
   {
    "duration": 5,
    "start_time": "2021-09-19T18:14:23.150Z"
   },
   {
    "duration": 26,
    "start_time": "2021-09-19T18:14:23.157Z"
   },
   {
    "duration": 353,
    "start_time": "2021-09-19T18:14:23.185Z"
   },
   {
    "duration": 2238,
    "start_time": "2021-09-19T18:14:23.540Z"
   },
   {
    "duration": 8,
    "start_time": "2021-09-19T18:14:25.780Z"
   },
   {
    "duration": 377,
    "start_time": "2021-09-19T18:14:25.790Z"
   },
   {
    "duration": 9,
    "start_time": "2021-09-19T18:14:26.168Z"
   },
   {
    "duration": 809,
    "start_time": "2021-09-19T18:14:26.178Z"
   },
   {
    "duration": 6,
    "start_time": "2021-09-19T18:14:26.990Z"
   },
   {
    "duration": 5,
    "start_time": "2021-09-19T18:14:26.999Z"
   },
   {
    "duration": 301,
    "start_time": "2021-09-19T18:14:27.005Z"
   },
   {
    "duration": 288,
    "start_time": "2021-09-19T18:14:27.308Z"
   },
   {
    "duration": 391,
    "start_time": "2021-09-19T18:14:27.597Z"
   },
   {
    "duration": 330,
    "start_time": "2021-09-19T18:14:27.989Z"
   },
   {
    "duration": 3,
    "start_time": "2021-09-19T18:14:28.322Z"
   },
   {
    "duration": 378,
    "start_time": "2021-09-19T18:14:28.327Z"
   },
   {
    "duration": 7,
    "start_time": "2021-09-19T18:14:28.707Z"
   },
   {
    "duration": 8,
    "start_time": "2021-09-19T18:14:28.716Z"
   },
   {
    "duration": 7,
    "start_time": "2021-09-19T18:14:28.726Z"
   },
   {
    "duration": 50,
    "start_time": "2021-09-19T18:14:28.735Z"
   },
   {
    "duration": 38,
    "start_time": "2021-09-19T18:14:28.788Z"
   },
   {
    "duration": 896,
    "start_time": "2021-09-19T18:14:28.828Z"
   }
  ],
  "kernelspec": {
   "display_name": "Python 3",
   "language": "python",
   "name": "python3"
  },
  "language_info": {
   "codemirror_mode": {
    "name": "ipython",
    "version": 3
   },
   "file_extension": ".py",
   "mimetype": "text/x-python",
   "name": "python",
   "nbconvert_exporter": "python",
   "pygments_lexer": "ipython3",
   "version": "3.8.8"
  },
  "toc": {
   "base_numbering": 1,
   "nav_menu": {},
   "number_sections": true,
   "sideBar": true,
   "skip_h1_title": true,
   "title_cell": "Table of Contents",
   "title_sidebar": "Contents",
   "toc_cell": false,
   "toc_position": {},
   "toc_section_display": true,
   "toc_window_display": true
  }
 },
 "nbformat": 4,
 "nbformat_minor": 2
}
