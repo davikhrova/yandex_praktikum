{
 "cells": [
  {
   "cell_type": "markdown",
   "metadata": {},
   "source": [
    "# Рынок заведений общественного питания Москвы"
   ]
  },
  {
   "cell_type": "markdown",
   "metadata": {},
   "source": [
    "Решено открыть небольшое кафе в Москве. Оно оригинальное — гостей должны обслуживать роботы. Проект многообещающий, но дорогой. Инвесторов интересует текущее положение дел на рынке — сможет ли кафе снискать популярность на долгое время, когда все зеваки насмотрятся на роботов-официантов? \n",
    "\n",
    "Исследуем рынок. У нас есть открытые данные о заведениях общественного питания в Москве."
   ]
  },
  {
   "cell_type": "markdown",
   "metadata": {},
   "source": [
    "Импорт необходимых библиотек:"
   ]
  },
  {
   "cell_type": "code",
   "execution_count": 1,
   "metadata": {},
   "outputs": [],
   "source": [
    "import pandas as pd\n",
    "import numpy as np\n",
    "import matplotlib.pyplot as plt\n",
    "import seaborn as sns\n",
    "from plotly import graph_objects as go\n",
    "\n",
    "#pd.set_option('display.max_rows', None)"
   ]
  },
  {
   "cell_type": "markdown",
   "metadata": {},
   "source": [
    "## Загрузка данных и подготовка к анализу"
   ]
  },
  {
   "cell_type": "markdown",
   "metadata": {},
   "source": [
    "### Загрузка данных"
   ]
  },
  {
   "cell_type": "code",
   "execution_count": 2,
   "metadata": {},
   "outputs": [
    {
     "data": {
      "text/html": [
       "<div>\n",
       "<style scoped>\n",
       "    .dataframe tbody tr th:only-of-type {\n",
       "        vertical-align: middle;\n",
       "    }\n",
       "\n",
       "    .dataframe tbody tr th {\n",
       "        vertical-align: top;\n",
       "    }\n",
       "\n",
       "    .dataframe thead th {\n",
       "        text-align: right;\n",
       "    }\n",
       "</style>\n",
       "<table border=\"1\" class=\"dataframe\">\n",
       "  <thead>\n",
       "    <tr style=\"text-align: right;\">\n",
       "      <th></th>\n",
       "      <th>id</th>\n",
       "      <th>object_name</th>\n",
       "      <th>chain</th>\n",
       "      <th>object_type</th>\n",
       "      <th>address</th>\n",
       "      <th>number</th>\n",
       "    </tr>\n",
       "  </thead>\n",
       "  <tbody>\n",
       "    <tr>\n",
       "      <td>0</td>\n",
       "      <td>151635</td>\n",
       "      <td>СМЕТАНА</td>\n",
       "      <td>нет</td>\n",
       "      <td>кафе</td>\n",
       "      <td>город Москва, улица Егора Абакумова, дом 9</td>\n",
       "      <td>48</td>\n",
       "    </tr>\n",
       "    <tr>\n",
       "      <td>1</td>\n",
       "      <td>77874</td>\n",
       "      <td>Родник</td>\n",
       "      <td>нет</td>\n",
       "      <td>кафе</td>\n",
       "      <td>город Москва, улица Талалихина, дом 2/1, корпус 1</td>\n",
       "      <td>35</td>\n",
       "    </tr>\n",
       "    <tr>\n",
       "      <td>2</td>\n",
       "      <td>24309</td>\n",
       "      <td>Кафе «Академия»</td>\n",
       "      <td>нет</td>\n",
       "      <td>кафе</td>\n",
       "      <td>город Москва, Абельмановская улица, дом 6</td>\n",
       "      <td>95</td>\n",
       "    </tr>\n",
       "    <tr>\n",
       "      <td>3</td>\n",
       "      <td>21894</td>\n",
       "      <td>ПИЦЦЕТОРИЯ</td>\n",
       "      <td>да</td>\n",
       "      <td>кафе</td>\n",
       "      <td>город Москва, Абрамцевская улица, дом 1</td>\n",
       "      <td>40</td>\n",
       "    </tr>\n",
       "    <tr>\n",
       "      <td>4</td>\n",
       "      <td>119365</td>\n",
       "      <td>Кафе «Вишневая метель»</td>\n",
       "      <td>нет</td>\n",
       "      <td>кафе</td>\n",
       "      <td>город Москва, Абрамцевская улица, дом 9, корпус 1</td>\n",
       "      <td>50</td>\n",
       "    </tr>\n",
       "    <tr>\n",
       "      <td>...</td>\n",
       "      <td>...</td>\n",
       "      <td>...</td>\n",
       "      <td>...</td>\n",
       "      <td>...</td>\n",
       "      <td>...</td>\n",
       "      <td>...</td>\n",
       "    </tr>\n",
       "    <tr>\n",
       "      <td>15361</td>\n",
       "      <td>208537</td>\n",
       "      <td>Шоколадница</td>\n",
       "      <td>да</td>\n",
       "      <td>кафе</td>\n",
       "      <td>город Москва, 3-й Крутицкий переулок, дом 18</td>\n",
       "      <td>50</td>\n",
       "    </tr>\n",
       "    <tr>\n",
       "      <td>15362</td>\n",
       "      <td>209264</td>\n",
       "      <td>Шоколадница</td>\n",
       "      <td>да</td>\n",
       "      <td>кафе</td>\n",
       "      <td>город Москва, улица Земляной Вал, дом 33</td>\n",
       "      <td>10</td>\n",
       "    </tr>\n",
       "    <tr>\n",
       "      <td>15363</td>\n",
       "      <td>209186</td>\n",
       "      <td>Шоколадница</td>\n",
       "      <td>да</td>\n",
       "      <td>кафе</td>\n",
       "      <td>город Москва, улица Земляной Вал, дом 33</td>\n",
       "      <td>20</td>\n",
       "    </tr>\n",
       "    <tr>\n",
       "      <td>15364</td>\n",
       "      <td>221900</td>\n",
       "      <td>Шоколадница</td>\n",
       "      <td>да</td>\n",
       "      <td>кафе</td>\n",
       "      <td>город Москва, поселение Московский, Киевское ш...</td>\n",
       "      <td>36</td>\n",
       "    </tr>\n",
       "    <tr>\n",
       "      <td>15365</td>\n",
       "      <td>222535</td>\n",
       "      <td>Шоколадница</td>\n",
       "      <td>да</td>\n",
       "      <td>кафе</td>\n",
       "      <td>город Москва, Ходынский бульвар, дом 4</td>\n",
       "      <td>10</td>\n",
       "    </tr>\n",
       "  </tbody>\n",
       "</table>\n",
       "<p>15366 rows × 6 columns</p>\n",
       "</div>"
      ],
      "text/plain": [
       "           id             object_name chain object_type  \\\n",
       "0      151635                 СМЕТАНА   нет        кафе   \n",
       "1       77874                  Родник   нет        кафе   \n",
       "2       24309         Кафе «Академия»   нет        кафе   \n",
       "3       21894              ПИЦЦЕТОРИЯ    да        кафе   \n",
       "4      119365  Кафе «Вишневая метель»   нет        кафе   \n",
       "...       ...                     ...   ...         ...   \n",
       "15361  208537             Шоколадница    да        кафе   \n",
       "15362  209264             Шоколадница    да        кафе   \n",
       "15363  209186             Шоколадница    да        кафе   \n",
       "15364  221900             Шоколадница    да        кафе   \n",
       "15365  222535             Шоколадница    да        кафе   \n",
       "\n",
       "                                                 address  number  \n",
       "0             город Москва, улица Егора Абакумова, дом 9      48  \n",
       "1      город Москва, улица Талалихина, дом 2/1, корпус 1      35  \n",
       "2              город Москва, Абельмановская улица, дом 6      95  \n",
       "3                город Москва, Абрамцевская улица, дом 1      40  \n",
       "4      город Москва, Абрамцевская улица, дом 9, корпус 1      50  \n",
       "...                                                  ...     ...  \n",
       "15361       город Москва, 3-й Крутицкий переулок, дом 18      50  \n",
       "15362           город Москва, улица Земляной Вал, дом 33      10  \n",
       "15363           город Москва, улица Земляной Вал, дом 33      20  \n",
       "15364  город Москва, поселение Московский, Киевское ш...      36  \n",
       "15365             город Москва, Ходынский бульвар, дом 4      10  \n",
       "\n",
       "[15366 rows x 6 columns]"
      ]
     },
     "execution_count": 2,
     "metadata": {},
     "output_type": "execute_result"
    }
   ],
   "source": [
    "data = pd.read_csv('/datasets/rest_data.csv')\n",
    "data"
   ]
  },
  {
   "cell_type": "markdown",
   "metadata": {},
   "source": [
    "### Общая информация"
   ]
  },
  {
   "cell_type": "code",
   "execution_count": 3,
   "metadata": {},
   "outputs": [
    {
     "name": "stdout",
     "output_type": "stream",
     "text": [
      "<class 'pandas.core.frame.DataFrame'>\n",
      "RangeIndex: 15366 entries, 0 to 15365\n",
      "Data columns (total 6 columns):\n",
      "id             15366 non-null int64\n",
      "object_name    15366 non-null object\n",
      "chain          15366 non-null object\n",
      "object_type    15366 non-null object\n",
      "address        15366 non-null object\n",
      "number         15366 non-null int64\n",
      "dtypes: int64(2), object(4)\n",
      "memory usage: 720.4+ KB\n"
     ]
    }
   ],
   "source": [
    "data.info()"
   ]
  },
  {
   "cell_type": "code",
   "execution_count": 4,
   "metadata": {},
   "outputs": [
    {
     "data": {
      "text/html": [
       "<div>\n",
       "<style scoped>\n",
       "    .dataframe tbody tr th:only-of-type {\n",
       "        vertical-align: middle;\n",
       "    }\n",
       "\n",
       "    .dataframe tbody tr th {\n",
       "        vertical-align: top;\n",
       "    }\n",
       "\n",
       "    .dataframe thead th {\n",
       "        text-align: right;\n",
       "    }\n",
       "</style>\n",
       "<table border=\"1\" class=\"dataframe\">\n",
       "  <thead>\n",
       "    <tr style=\"text-align: right;\">\n",
       "      <th></th>\n",
       "      <th>id</th>\n",
       "      <th>number</th>\n",
       "    </tr>\n",
       "  </thead>\n",
       "  <tbody>\n",
       "    <tr>\n",
       "      <td>count</td>\n",
       "      <td>15366.000000</td>\n",
       "      <td>15366.000000</td>\n",
       "    </tr>\n",
       "    <tr>\n",
       "      <td>mean</td>\n",
       "      <td>119720.066901</td>\n",
       "      <td>59.547182</td>\n",
       "    </tr>\n",
       "    <tr>\n",
       "      <td>std</td>\n",
       "      <td>73036.130732</td>\n",
       "      <td>74.736833</td>\n",
       "    </tr>\n",
       "    <tr>\n",
       "      <td>min</td>\n",
       "      <td>838.000000</td>\n",
       "      <td>0.000000</td>\n",
       "    </tr>\n",
       "    <tr>\n",
       "      <td>25%</td>\n",
       "      <td>28524.000000</td>\n",
       "      <td>12.000000</td>\n",
       "    </tr>\n",
       "    <tr>\n",
       "      <td>50%</td>\n",
       "      <td>144974.500000</td>\n",
       "      <td>40.000000</td>\n",
       "    </tr>\n",
       "    <tr>\n",
       "      <td>75%</td>\n",
       "      <td>184262.250000</td>\n",
       "      <td>80.000000</td>\n",
       "    </tr>\n",
       "    <tr>\n",
       "      <td>max</td>\n",
       "      <td>223439.000000</td>\n",
       "      <td>1700.000000</td>\n",
       "    </tr>\n",
       "  </tbody>\n",
       "</table>\n",
       "</div>"
      ],
      "text/plain": [
       "                  id        number\n",
       "count   15366.000000  15366.000000\n",
       "mean   119720.066901     59.547182\n",
       "std     73036.130732     74.736833\n",
       "min       838.000000      0.000000\n",
       "25%     28524.000000     12.000000\n",
       "50%    144974.500000     40.000000\n",
       "75%    184262.250000     80.000000\n",
       "max    223439.000000   1700.000000"
      ]
     },
     "execution_count": 4,
     "metadata": {},
     "output_type": "execute_result"
    }
   ],
   "source": [
    "data.describe()"
   ]
  },
  {
   "cell_type": "code",
   "execution_count": 5,
   "metadata": {},
   "outputs": [
    {
     "name": "stdout",
     "output_type": "stream",
     "text": [
      "Пропуски:\n",
      "\n",
      "id             0\n",
      "object_name    0\n",
      "chain          0\n",
      "object_type    0\n",
      "address        0\n",
      "number         0\n",
      "dtype: int64\n"
     ]
    }
   ],
   "source": [
    "print('Пропуски:') \n",
    "print()\n",
    "print(data.isna().sum())"
   ]
  },
  {
   "cell_type": "markdown",
   "metadata": {},
   "source": [
    "**Выводы:**\n",
    "\n",
    "1. Типы данных верные.\n",
    "2. Пропуски отсутствуют.\n",
    "3. Аномальные значения в столбца \"id\"(отрицательные значения) и \"number\"(отрицательные значения, слишком большие) отсутствуют."
   ]
  },
  {
   "cell_type": "markdown",
   "metadata": {},
   "source": [
    "### Проверка дубликатов"
   ]
  },
  {
   "cell_type": "markdown",
   "metadata": {},
   "source": [
    "Проверю уникальные значения по столбцам По с, 'chain', 'object_type', 'address'"
   ]
  },
  {
   "cell_type": "code",
   "execution_count": 6,
   "metadata": {},
   "outputs": [
    {
     "name": "stdout",
     "output_type": "stream",
     "text": [
      "Уникальные значения по столбцам и их количество:\n",
      "\n",
      "Столбец object_name:\n",
      "Столовая                     267\n",
      "Кафе                         236\n",
      "Шаурма                       234\n",
      "KFC                          155\n",
      "Шоколадница                  142\n",
      "                            ... \n",
      "Роял                           1\n",
      "Кофейня Даблби                 1\n",
      "СТ.ШК. 1104 «ШКОЛЬНИК-ЮЗ»      1\n",
      "Византий                       1\n",
      "Кафе Гурмэ                     1\n",
      "Name: object_name, Length: 10393, dtype: int64\n",
      "\n",
      "Столбец chain:\n",
      "нет    12398\n",
      "да      2968\n",
      "Name: chain, dtype: int64\n",
      "\n",
      "Столбец object_type:\n",
      "кафе                                 6099\n",
      "столовая                             2587\n",
      "ресторан                             2285\n",
      "предприятие быстрого обслуживания    1923\n",
      "бар                                   856\n",
      "буфет                                 585\n",
      "кафетерий                             398\n",
      "закусочная                            360\n",
      "магазин (отдел кулинарии)             273\n",
      "Name: object_type, dtype: int64\n",
      "\n",
      "Столбец address:\n",
      "город Москва, Ходынский бульвар, дом 4                  95\n",
      "город Москва, Пресненская набережная, дом 2             63\n",
      "город Москва, проспект Мира, дом 211, корпус 2          60\n",
      "город Москва, Кировоградская улица, дом 13А             53\n",
      "город Москва, площадь Киевского Вокзала, дом 2          48\n",
      "                                                        ..\n",
      "город Москва, Измайловский бульвар, дом 69               1\n",
      "город Москва, Таймырская улица, дом 5                    1\n",
      "город Москва, Трубная улица, дом 28, строение 1          1\n",
      "город Москва, Кастанаевская улица, дом 59, корпус 2      1\n",
      "город Москва, Хорошёвское шоссе, дом 25, строение 26     1\n",
      "Name: address, Length: 9108, dtype: int64\n"
     ]
    }
   ],
   "source": [
    "print(\"Уникальные значения по столбцам и их количество:\")\n",
    "print()\n",
    "print(\"Столбец object_name:\")\n",
    "print(data['object_name'].value_counts())\n",
    "print()\n",
    "print(\"Столбец chain:\")\n",
    "print(data['chain'].value_counts())\n",
    "print()\n",
    "print(\"Столбец object_type:\")\n",
    "print(data['object_type'].value_counts())\n",
    "print()\n",
    "print(\"Столбец address:\")\n",
    "print(data['address'].value_counts())"
   ]
  },
  {
   "cell_type": "markdown",
   "metadata": {},
   "source": [
    "По столбцу 'object_name' есть повторяющиеся названия заведений записанные разными способами, по наиболее популярным заведениям приведу названия к единому формату в несколько шагов:"
   ]
  },
  {
   "cell_type": "markdown",
   "metadata": {},
   "source": [
    "Шаг 1. Приведу все значения в столбце к нижнему регистру:"
   ]
  },
  {
   "cell_type": "code",
   "execution_count": 7,
   "metadata": {},
   "outputs": [],
   "source": [
    "data['object_name'] = data['object_name'].str.lower() "
   ]
  },
  {
   "cell_type": "markdown",
   "metadata": {},
   "source": [
    "Шаг 2. Заменю символы кавычек и апострофы, а также типы заведений из названий на \"ничего\":\n",
    "\n",
    "Для удобства дальнейших исследований заменю \"предприятие быстрого обслуживания\" на \"фастфуд\" и \"магазин (отдел кулинарии)\" на \"кулинария\"."
   ]
  },
  {
   "cell_type": "code",
   "execution_count": 8,
   "metadata": {},
   "outputs": [],
   "source": [
    "data['object_name'] = data['object_name'].str.replace('«', '', regex=True)\n",
    "data['object_name'] = data['object_name'].str.replace('»', '', regex=True)\n",
    "data['object_name'] = data['object_name'].str.replace(\"'\", '', regex=True)\n",
    "data['object_name'] = data['object_name'].str.replace('ё', 'е', regex=True)\n",
    "data['object_name'] = data['object_name'].str.replace('ресторан ', '', regex=True)\n",
    "data['object_name'] = data['object_name'].str.replace('кафе ', '', regex=True)\n",
    "data['object_type'] = data['object_type'].str.replace('предприятие быстрого обслуживания', 'фастфуд', regex=True)\n",
    "data['object_type'] = data['object_type'].str.replace('магазин \\(отдел кулинарии\\)', 'кулинария', regex=True)"
   ]
  },
  {
   "cell_type": "markdown",
   "metadata": {},
   "source": [
    "Промежуточные результаты уже видны :)"
   ]
  },
  {
   "cell_type": "code",
   "execution_count": 9,
   "metadata": {},
   "outputs": [
    {
     "name": "stdout",
     "output_type": "stream",
     "text": [
      "Столбец object_name:\n",
      "столовая              323\n",
      "кафе                  279\n",
      "шаурма                252\n",
      "шоколадница           176\n",
      "kfc                   171\n",
      "                     ... \n",
      "максимус                1\n",
      "гамма лайт              1\n",
      "сметана                 1\n",
      "сладкомания             1\n",
      "столовая школы 924      1\n",
      "Name: object_name, Length: 9449, dtype: int64\n"
     ]
    }
   ],
   "source": [
    "print(\"Столбец object_name:\")\n",
    "print(data['object_name'].value_counts())"
   ]
  },
  {
   "cell_type": "markdown",
   "metadata": {},
   "source": [
    "Шаг 3. Создам словари синонимов, которые позволяет мне заменить варианты названий заведений на одно значение:"
   ]
  },
  {
   "cell_type": "code",
   "execution_count": 10,
   "metadata": {
    "scrolled": false
   },
   "outputs": [
    {
     "name": "stdout",
     "output_type": "stream",
     "text": [
      "Столбец object_name:\n",
      "столовая              323\n",
      "кафе                  279\n",
      "шаурма                252\n",
      "kfc                   186\n",
      "шоколадница           178\n",
      "                     ... \n",
      "билла                   1\n",
      "человек и пароход       1\n",
      "роддом 17 пищеблок      1\n",
      "vlofte                  1\n",
      "столовая школы 924      1\n",
      "Name: odject_name_new, Length: 9400, dtype: int64\n"
     ]
    }
   ],
   "source": [
    "synonyms = {'mcdonalds': ['макдоналдс', 'ресторан макдоналдс'], \n",
    "            'kfc': ['ресторан kfc','кфц', 'ростикс kfc', 'kfc волгоградский', 'kfc.', 'закусочная kfc', 'кафе kfc', 'ресторан kfc', 'пбо kfc покрышкина', 'пбо kfc'], \n",
    "            'dominos pizza': [\"'домино'с пицца\", 'domino-s pizza', \"ресторан домино'с пицца\", \"домино'с пицца\", \"доминос пицца\"], \n",
    "            'бургер кинг': ['бургер кинг burger king', 'burger king', 'кафе бургер кинг', 'ресторан бургер кинг', 'закусочная бургер кинг'], \n",
    "            'starbucks': ['starbucks кофе','starbucks старбакс','starbucks coffee', 'старбакс кофе', 'старбакс', 'старбакс starbucks'],\n",
    "            'il patio': ['il патиопланета суши','il патио', 'иль патио', 'иль патио планета суши', 'ресторан иль патио'],\n",
    "            'шоколадница':['шоколадница кофе xаус', 'шоколадница кофемания', 'шоколадница экспресс'],\n",
    "            'хинкали gали':['хинкали gali', 'хинкали-gали','хинкали-гали'],\n",
    "            'суши wok':['суши вок'],\n",
    "            'стардогс': ['стардогс стардогs', 'стардогs', 'стардогs', 'стардогs и шаурма', 'закусочная стардогs'],\n",
    "            'subway': ['сабвей сушивок', 'сабвей subway','сабвэй','сабвей'],\n",
    "            'самарканд': ['самарканд-сити'],\n",
    "            'прайм': ['прайм стар', 'прайм стар кафе', 'прайм-кафе','прайм-кафе', 'прайм стар','праймкафе прайм стар','праймстар','праймстар ресторантс групп'],\n",
    "            'правdа кофе': ['правда кофе'],\n",
    "            'пиццерия додо':['пиццерия додо пицца', 'додо пицца','додопицца', 'до до пицца'],\n",
    "            'pizza hut': ['пицца хат'],\n",
    "            'пиццерия папа джонс': ['папа джонс пицца', 'папа джонс'],\n",
    "                       }\n",
    "def check_synonyms(cell):\n",
    "    for name, syn in synonyms.items():\n",
    "        if cell in syn:\n",
    "            return name\n",
    "    return cell\n",
    "data['odject_name_new'] = data['object_name'].apply(check_synonyms)\n",
    "\n",
    "print(\"Столбец object_name:\")\n",
    "print(data['odject_name_new'].value_counts())"
   ]
  },
  {
   "cell_type": "code",
   "execution_count": 11,
   "metadata": {},
   "outputs": [
    {
     "name": "stdout",
     "output_type": "stream",
     "text": [
      "Всего дублирующихся строк в таблице: 0\n"
     ]
    }
   ],
   "source": [
    "print(\"Всего дублирующихся строк в таблице:\", data.duplicated().sum())"
   ]
  },
  {
   "cell_type": "markdown",
   "metadata": {},
   "source": [
    "**Выводы:**\n",
    "\n",
    "1. Названия самых популярных и наиболее часто встречащихся в нашем датафрейме заведений иземенены.\n",
    "2. Дубликаты строк отсутствуют."
   ]
  },
  {
   "cell_type": "markdown",
   "metadata": {},
   "source": [
    "## Анализ данных."
   ]
  },
  {
   "cell_type": "markdown",
   "metadata": {},
   "source": [
    "### Исследую соотношение видов объектов общественного питания по количеству:"
   ]
  },
  {
   "cell_type": "markdown",
   "metadata": {},
   "source": [
    "Сгруппирую заведения по типу и найду их количество:"
   ]
  },
  {
   "cell_type": "code",
   "execution_count": 12,
   "metadata": {
    "scrolled": true
   },
   "outputs": [],
   "source": [
    "data_type = data.groupby('object_type').count().sort_values(by = 'id', ascending = False).reset_index()"
   ]
  },
  {
   "cell_type": "markdown",
   "metadata": {},
   "source": [
    "Построю график:"
   ]
  },
  {
   "cell_type": "code",
   "execution_count": 13,
   "metadata": {},
   "outputs": [
    {
     "data": {
      "image/png": "[encoded data removed]",
      "text/plain": [
       "<Figure size 1440x504 with 1 Axes>"
      ]
     },
     "metadata": {
      "needs_background": "light"
     },
     "output_type": "display_data"
    }
   ],
   "source": [
    "plt.figure(\n",
    "    figsize=(20, 7))\n",
    "ax = sns.barplot(x='object_type', y=\"id\", data=data_type) \n",
    "ax.set(xlabel = 'Тип заведения', ylabel ='Количество заведений', \n",
    "       title='Соотношение видов объектов общественного питания по количеству')\n",
    "plt.show()"
   ]
  },
  {
   "cell_type": "markdown",
   "metadata": {},
   "source": [
    "**Выводы:**\n",
    "\n",
    "Кафе почти в 2.5 раза больше, чем столовых.\n",
    "Также в топе столовые, рестораны и фастфуд.\n",
    "\n",
    "Остальных заведений гораздо меньше"
   ]
  },
  {
   "cell_type": "markdown",
   "metadata": {},
   "source": [
    "### Исследую соотношение сетевых и несетевых заведений по количеству:"
   ]
  },
  {
   "cell_type": "markdown",
   "metadata": {},
   "source": [
    "Посчитаю количество сетевых/несетевых заведений:"
   ]
  },
  {
   "cell_type": "code",
   "execution_count": 14,
   "metadata": {},
   "outputs": [],
   "source": [
    "data_chain = data.groupby('chain').count()"
   ]
  },
  {
   "cell_type": "markdown",
   "metadata": {},
   "source": [
    "Построю график:"
   ]
  },
  {
   "cell_type": "code",
   "execution_count": 15,
   "metadata": {},
   "outputs": [
    {
     "data": {
      "image/png": "[encoded data removed]",
      "text/plain": [
       "<Figure size 1080x720 with 1 Axes>"
      ]
     },
     "metadata": {},
     "output_type": "display_data"
    }
   ],
   "source": [
    "ax = data_chain.plot(kind = 'pie', x = 'chain', y='id', figsize=(15, 10),\n",
    "                     title = 'Cоотношение сетевых и несетевых заведений по количеству', autopct=\"%.2f\")\n",
    "ax.set_ylabel('')\n",
    "plt.show()"
   ]
  },
  {
   "cell_type": "markdown",
   "metadata": {},
   "source": [
    "**Выводы:**\n",
    "\n",
    "Несетевых заведений в 4 раза больше."
   ]
  },
  {
   "cell_type": "markdown",
   "metadata": {},
   "source": [
    "### Для какого вида объекта общественного питания характерно сетевое распространение?"
   ]
  },
  {
   "cell_type": "markdown",
   "metadata": {},
   "source": [
    "Выделю из датафрейма все сетевые заведения"
   ]
  },
  {
   "cell_type": "code",
   "execution_count": 16,
   "metadata": {},
   "outputs": [],
   "source": [
    "chain_yes = data.query('chain == \"да\"')"
   ]
  },
  {
   "cell_type": "markdown",
   "metadata": {},
   "source": [
    "Построю график:"
   ]
  },
  {
   "cell_type": "code",
   "execution_count": 17,
   "metadata": {},
   "outputs": [
    {
     "data": {
      "image/png": "[encoded data removed]",
      "text/plain": [
       "<Figure size 1440x504 with 1 Axes>"
      ]
     },
     "metadata": {
      "needs_background": "light"
     },
     "output_type": "display_data"
    }
   ],
   "source": [
    "chain_yes_group = chain_yes.groupby('object_type').count().sort_values(by = 'address', \n",
    "                                                                                   ascending = False).reset_index()\n",
    "plt.figure(\n",
    "    figsize=(20, 7))\n",
    "ax = sns.barplot(x='object_type', y ='address', data=chain_yes_group) \n",
    "ax.set(xlabel = 'Тип заведения', ylabel ='Количество заведений', \n",
    "       title='Соотношение видов сетевых объектов общественного питания по количеству')\n",
    "plt.show()"
   ]
  },
  {
   "cell_type": "markdown",
   "metadata": {},
   "source": [
    "Построю график количества заведений по типу в разрезах сетевое/несетевое заведение."
   ]
  },
  {
   "cell_type": "code",
   "execution_count": 18,
   "metadata": {},
   "outputs": [
    {
     "data": {
      "image/png": "[encoded data removed]",
      "text/plain": [
       "<Figure size 432x288 with 1 Axes>"
      ]
     },
     "metadata": {
      "needs_background": "light"
     },
     "output_type": "display_data"
    }
   ],
   "source": [
    "object_type_chain = data.pivot_table(index='object_type', values='id', columns='chain', aggfunc='count')\n",
    "object_type_chain.plot(kind= 'bar')\n",
    "plt.show()"
   ]
  },
  {
   "cell_type": "code",
   "execution_count": 19,
   "metadata": {},
   "outputs": [
    {
     "data": {
      "text/html": [
       "<div>\n",
       "<style scoped>\n",
       "    .dataframe tbody tr th:only-of-type {\n",
       "        vertical-align: middle;\n",
       "    }\n",
       "\n",
       "    .dataframe tbody tr th {\n",
       "        vertical-align: top;\n",
       "    }\n",
       "\n",
       "    .dataframe thead th {\n",
       "        text-align: right;\n",
       "    }\n",
       "</style>\n",
       "<table border=\"1\" class=\"dataframe\">\n",
       "  <thead>\n",
       "    <tr style=\"text-align: right;\">\n",
       "      <th></th>\n",
       "      <th>object_type</th>\n",
       "      <th>ratio</th>\n",
       "    </tr>\n",
       "  </thead>\n",
       "  <tbody>\n",
       "    <tr>\n",
       "      <td>8</td>\n",
       "      <td>фастфуд</td>\n",
       "      <td>41.133645</td>\n",
       "    </tr>\n",
       "    <tr>\n",
       "      <td>5</td>\n",
       "      <td>кулинария</td>\n",
       "      <td>28.571429</td>\n",
       "    </tr>\n",
       "    <tr>\n",
       "      <td>6</td>\n",
       "      <td>ресторан</td>\n",
       "      <td>23.807440</td>\n",
       "    </tr>\n",
       "    <tr>\n",
       "      <td>3</td>\n",
       "      <td>кафе</td>\n",
       "      <td>22.888998</td>\n",
       "    </tr>\n",
       "    <tr>\n",
       "      <td>2</td>\n",
       "      <td>закусочная</td>\n",
       "      <td>15.555556</td>\n",
       "    </tr>\n",
       "    <tr>\n",
       "      <td>4</td>\n",
       "      <td>кафетерий</td>\n",
       "      <td>13.065327</td>\n",
       "    </tr>\n",
       "    <tr>\n",
       "      <td>0</td>\n",
       "      <td>бар</td>\n",
       "      <td>4.322430</td>\n",
       "    </tr>\n",
       "    <tr>\n",
       "      <td>1</td>\n",
       "      <td>буфет</td>\n",
       "      <td>1.880342</td>\n",
       "    </tr>\n",
       "    <tr>\n",
       "      <td>7</td>\n",
       "      <td>столовая</td>\n",
       "      <td>0.115964</td>\n",
       "    </tr>\n",
       "  </tbody>\n",
       "</table>\n",
       "</div>"
      ],
      "text/plain": [
       "  object_type      ratio\n",
       "8     фастфуд  41.133645\n",
       "5   кулинария  28.571429\n",
       "6    ресторан  23.807440\n",
       "3        кафе  22.888998\n",
       "2  закусочная  15.555556\n",
       "4   кафетерий  13.065327\n",
       "0         бар   4.322430\n",
       "1       буфет   1.880342\n",
       "7    столовая   0.115964"
      ]
     },
     "execution_count": 19,
     "metadata": {},
     "output_type": "execute_result"
    }
   ],
   "source": [
    "chains_total = (((object_type_chain['да'] / (object_type_chain['да'] + object_type_chain['нет'])) * 100)\n",
    "                   .reset_index())\n",
    "chains_total.columns=['object_type','ratio']\n",
    "chains_total.sort_values(by='ratio', inplace=True, ascending=False)\n",
    "chains_total"
   ]
  },
  {
   "cell_type": "code",
   "execution_count": 20,
   "metadata": {},
   "outputs": [
    {
     "data": {
      "image/png": "[encoded data removed]",
      "text/plain": [
       "<Figure size 1440x504 with 1 Axes>"
      ]
     },
     "metadata": {
      "needs_background": "light"
     },
     "output_type": "display_data"
    }
   ],
   "source": [
    "plt.figure(figsize=(20, 7))\n",
    "ax = sns.barplot(x='object_type', y ='ratio', data=chains_total) \n",
    "ax.set(xlabel = 'Тип заведения', ylabel ='Доля заведений', title='Доля сетевых заведений от общего количества по каждому типу')\n",
    "plt.show()"
   ]
  },
  {
   "cell_type": "markdown",
   "metadata": {},
   "source": [
    "**Выводы:** \n",
    "\n",
    "Наиболее характерно сетевое распространение для фастфуда, кулинарии и ресторанов.\n",
    "\n"
   ]
  },
  {
   "cell_type": "markdown",
   "metadata": {},
   "source": [
    "### Что характерно для сетевых заведений: много заведений с небольшим числом посадочных мест в каждом или мало заведений с большим количеством посадочных мест?"
   ]
  },
  {
   "cell_type": "markdown",
   "metadata": {},
   "source": [
    "Сгруппирую сетевые места для подсчёта их количество и среднего числа посадочных мест:"
   ]
  },
  {
   "cell_type": "code",
   "execution_count": 21,
   "metadata": {},
   "outputs": [],
   "source": [
    "chains = chain_yes.groupby('object_name').agg({'id': 'count', 'number': 'mean'})"
   ]
  },
  {
   "cell_type": "markdown",
   "metadata": {},
   "source": [
    "Много сетевых заведений с числом заведений равным единице, при деление использую 75 перцентиль, а не медиану(если использовать медиану qcut не сработает).\n",
    "\n",
    "По посадочным местам - медиану"
   ]
  },
  {
   "cell_type": "code",
   "execution_count": 22,
   "metadata": {},
   "outputs": [],
   "source": [
    "chains['rest_group'] = pd.qcut(chains['id'], q = [0, 0.75, 1], labels =['Мало заведений', 'Много заведений'])\n",
    "chains['num_group'] = pd.qcut(chains['number'], q = [0, 0.5, 1], labels = ['Мало мест','Много мест'])"
   ]
  },
  {
   "cell_type": "markdown",
   "metadata": {},
   "source": [
    "Добавлю столбец с классификацией в исходный датафрейм:"
   ]
  },
  {
   "cell_type": "code",
   "execution_count": 23,
   "metadata": {},
   "outputs": [],
   "source": [
    "chains['group'] = chains['rest_group'].astype(str) + ' - ' + chains['num_group'].astype(str)"
   ]
  },
  {
   "cell_type": "markdown",
   "metadata": {},
   "source": [
    "Построю график:"
   ]
  },
  {
   "cell_type": "code",
   "execution_count": 24,
   "metadata": {},
   "outputs": [
    {
     "data": {
      "text/plain": [
       "(Text(0.5, 0, 'Количество заведений'),\n",
       " Text(0, 0.5, 'Среднее количество посадочных мест'))"
      ]
     },
     "execution_count": 24,
     "metadata": {},
     "output_type": "execute_result"
    },
    {
     "data": {
      "image/png": "[encoded data removed]",
      "text/plain": [
       "<Figure size 432x288 with 1 Axes>"
      ]
     },
     "metadata": {
      "needs_background": "light"
     },
     "output_type": "display_data"
    }
   ],
   "source": [
    "sns.scatterplot(x = 'id', y = 'number', hue = 'group', data = chains)\n",
    "plt.xlabel('Количество заведений'), plt.ylabel('Среднее количество посадочных мест')"
   ]
  },
  {
   "cell_type": "markdown",
   "metadata": {},
   "source": [
    "Сгруппирую сетевые заведения по типу объекта, найду количество объектов такого типа и среднее количество посадочных мест для объектов этого типа."
   ]
  },
  {
   "cell_type": "code",
   "execution_count": 25,
   "metadata": {},
   "outputs": [
    {
     "data": {
      "text/html": [
       "<div>\n",
       "<style scoped>\n",
       "    .dataframe tbody tr th:only-of-type {\n",
       "        vertical-align: middle;\n",
       "    }\n",
       "\n",
       "    .dataframe tbody tr th {\n",
       "        vertical-align: top;\n",
       "    }\n",
       "\n",
       "    .dataframe thead th {\n",
       "        text-align: right;\n",
       "    }\n",
       "</style>\n",
       "<table border=\"1\" class=\"dataframe\">\n",
       "  <thead>\n",
       "    <tr style=\"text-align: right;\">\n",
       "      <th></th>\n",
       "      <th>object_type</th>\n",
       "      <th>id</th>\n",
       "      <th>number</th>\n",
       "    </tr>\n",
       "  </thead>\n",
       "  <tbody>\n",
       "    <tr>\n",
       "      <td>7</td>\n",
       "      <td>столовая</td>\n",
       "      <td>3</td>\n",
       "      <td>112.333333</td>\n",
       "    </tr>\n",
       "    <tr>\n",
       "      <td>6</td>\n",
       "      <td>ресторан</td>\n",
       "      <td>544</td>\n",
       "      <td>100.233456</td>\n",
       "    </tr>\n",
       "    <tr>\n",
       "      <td>0</td>\n",
       "      <td>бар</td>\n",
       "      <td>37</td>\n",
       "      <td>53.027027</td>\n",
       "    </tr>\n",
       "    <tr>\n",
       "      <td>3</td>\n",
       "      <td>кафе</td>\n",
       "      <td>1396</td>\n",
       "      <td>47.426934</td>\n",
       "    </tr>\n",
       "    <tr>\n",
       "      <td>8</td>\n",
       "      <td>фастфуд</td>\n",
       "      <td>791</td>\n",
       "      <td>40.166877</td>\n",
       "    </tr>\n",
       "    <tr>\n",
       "      <td>2</td>\n",
       "      <td>закусочная</td>\n",
       "      <td>56</td>\n",
       "      <td>14.375000</td>\n",
       "    </tr>\n",
       "    <tr>\n",
       "      <td>1</td>\n",
       "      <td>буфет</td>\n",
       "      <td>11</td>\n",
       "      <td>12.727273</td>\n",
       "    </tr>\n",
       "    <tr>\n",
       "      <td>4</td>\n",
       "      <td>кафетерий</td>\n",
       "      <td>52</td>\n",
       "      <td>12.269231</td>\n",
       "    </tr>\n",
       "    <tr>\n",
       "      <td>5</td>\n",
       "      <td>кулинария</td>\n",
       "      <td>78</td>\n",
       "      <td>8.679487</td>\n",
       "    </tr>\n",
       "  </tbody>\n",
       "</table>\n",
       "</div>"
      ],
      "text/plain": [
       "  object_type    id      number\n",
       "7    столовая     3  112.333333\n",
       "6    ресторан   544  100.233456\n",
       "0         бар    37   53.027027\n",
       "3        кафе  1396   47.426934\n",
       "8     фастфуд   791   40.166877\n",
       "2  закусочная    56   14.375000\n",
       "1       буфет    11   12.727273\n",
       "4   кафетерий    52   12.269231\n",
       "5   кулинария    78    8.679487"
      ]
     },
     "execution_count": 25,
     "metadata": {},
     "output_type": "execute_result"
    }
   ],
   "source": [
    "chains_number = chain_yes.groupby('object_type').agg({'id': 'count', 'number': 'mean'}).reset_index().sort_values(by = 'number', ascending = False)\n",
    "chains_number"
   ]
  },
  {
   "cell_type": "markdown",
   "metadata": {},
   "source": [
    "Построю график:"
   ]
  },
  {
   "cell_type": "code",
   "execution_count": 26,
   "metadata": {},
   "outputs": [
    {
     "data": {
      "image/png": "[encoded data removed]",
      "text/plain": [
       "<Figure size 1440x504 with 1 Axes>"
      ]
     },
     "metadata": {
      "needs_background": "light"
     },
     "output_type": "display_data"
    }
   ],
   "source": [
    "plt.figure(\n",
    "    figsize=(20, 7))\n",
    "ax = sns.barplot(x='object_type', y ='number', data=chains_number)\n",
    "ax.set(xlabel = 'Тип заведения', ylabel ='Среднее количество посадочных мест', title='Среднее количество посадочных мест для сетевых заведений каждого типа')\n",
    "plt.show()"
   ]
  },
  {
   "cell_type": "markdown",
   "metadata": {},
   "source": [
    "**Выводы:**\n",
    "\n",
    "Для сетевых заведений не характерно иметь много заведений и много мест, скорее всего это рестораны и столовые.\n",
    "Много заведений и мало мест чаще всего в заведениях из категорий фастфуд и кулинария. \n"
   ]
  },
  {
   "cell_type": "markdown",
   "metadata": {},
   "source": [
    "### Cреднее количество посадочных мест для каждого вида объекта общественного питания.\n"
   ]
  },
  {
   "cell_type": "markdown",
   "metadata": {},
   "source": [
    "Сгруппирую все заведения по типу для расчёта среднего количества посадочных мест:"
   ]
  },
  {
   "cell_type": "code",
   "execution_count": 27,
   "metadata": {},
   "outputs": [
    {
     "data": {
      "text/html": [
       "<div>\n",
       "<style scoped>\n",
       "    .dataframe tbody tr th:only-of-type {\n",
       "        vertical-align: middle;\n",
       "    }\n",
       "\n",
       "    .dataframe tbody tr th {\n",
       "        vertical-align: top;\n",
       "    }\n",
       "\n",
       "    .dataframe thead th {\n",
       "        text-align: right;\n",
       "    }\n",
       "</style>\n",
       "<table border=\"1\" class=\"dataframe\">\n",
       "  <thead>\n",
       "    <tr style=\"text-align: right;\">\n",
       "      <th></th>\n",
       "      <th>object_type</th>\n",
       "      <th>number</th>\n",
       "    </tr>\n",
       "  </thead>\n",
       "  <tbody>\n",
       "    <tr>\n",
       "      <td>0</td>\n",
       "      <td>столовая</td>\n",
       "      <td>130.246618</td>\n",
       "    </tr>\n",
       "    <tr>\n",
       "      <td>1</td>\n",
       "      <td>ресторан</td>\n",
       "      <td>96.834136</td>\n",
       "    </tr>\n",
       "    <tr>\n",
       "      <td>2</td>\n",
       "      <td>буфет</td>\n",
       "      <td>51.129915</td>\n",
       "    </tr>\n",
       "    <tr>\n",
       "      <td>3</td>\n",
       "      <td>бар</td>\n",
       "      <td>43.494159</td>\n",
       "    </tr>\n",
       "    <tr>\n",
       "      <td>4</td>\n",
       "      <td>кафе</td>\n",
       "      <td>39.716019</td>\n",
       "    </tr>\n",
       "    <tr>\n",
       "      <td>5</td>\n",
       "      <td>фастфуд</td>\n",
       "      <td>20.552262</td>\n",
       "    </tr>\n",
       "    <tr>\n",
       "      <td>6</td>\n",
       "      <td>кафетерий</td>\n",
       "      <td>9.123116</td>\n",
       "    </tr>\n",
       "    <tr>\n",
       "      <td>7</td>\n",
       "      <td>закусочная</td>\n",
       "      <td>7.608333</td>\n",
       "    </tr>\n",
       "    <tr>\n",
       "      <td>8</td>\n",
       "      <td>кулинария</td>\n",
       "      <td>5.589744</td>\n",
       "    </tr>\n",
       "  </tbody>\n",
       "</table>\n",
       "</div>"
      ],
      "text/plain": [
       "  object_type      number\n",
       "0    столовая  130.246618\n",
       "1    ресторан   96.834136\n",
       "2       буфет   51.129915\n",
       "3         бар   43.494159\n",
       "4        кафе   39.716019\n",
       "5     фастфуд   20.552262\n",
       "6   кафетерий    9.123116\n",
       "7  закусочная    7.608333\n",
       "8   кулинария    5.589744"
      ]
     },
     "execution_count": 27,
     "metadata": {},
     "output_type": "execute_result"
    }
   ],
   "source": [
    "data_type_num = data.groupby('object_type')[('number')].mean().sort_values(ascending = False).reset_index()\n",
    "data_type_num"
   ]
  },
  {
   "cell_type": "markdown",
   "metadata": {},
   "source": [
    "Построю график:"
   ]
  },
  {
   "cell_type": "code",
   "execution_count": 28,
   "metadata": {},
   "outputs": [
    {
     "data": {
      "image/png": "[encoded data removed]",
      "text/plain": [
       "<Figure size 1440x504 with 1 Axes>"
      ]
     },
     "metadata": {
      "needs_background": "light"
     },
     "output_type": "display_data"
    }
   ],
   "source": [
    "plt.figure(\n",
    "    figsize=(20, 7))\n",
    "ax = sns.barplot(x=\"number\", y='object_type', data=data_type_num) \n",
    "ax.set(xlabel = 'Тип заведения', ylabel ='Среднее количество посадочных мест', title='Среднее количество посадочных мест для сетевых заведений каждого типа')\n",
    "plt.show()"
   ]
  },
  {
   "cell_type": "markdown",
   "metadata": {},
   "source": [
    "**Выводы:** \n",
    "\n",
    "Столовые и рестораны лидируют по среднему количеству посадочных мест - это очевидно.\n",
    "\n",
    "Фастфуд, кафетерий, закусочная и кулинария не ориентированы на длительное времяпрепровождение в заведении, в них не требуется большое количество посадочных мест."
   ]
  },
  {
   "cell_type": "markdown",
   "metadata": {},
   "source": [
    "### Выделю в отдельный столбец информацию об улице из столбца address"
   ]
  },
  {
   "cell_type": "markdown",
   "metadata": {},
   "source": [
    "Выделю в отдельный столбец улицу из адреса. Разобью адресс на состовляющие, через запятую методом split. \n",
    "\n",
    "Важно учитывать, что улица может находится на разных позициях и чтобы найти эту позицию:\n",
    "1. Создам проверочный список со словами, которые будут явно указывать на то, что именно в этой части сразбитой строки указан улица. \n",
    "2. Проверю каждую из позиции в цикле на наличие этого слова. Если слово найдено, значит найдена улицу/проспект/площадь и т.п."
   ]
  },
  {
   "cell_type": "code",
   "execution_count": 29,
   "metadata": {},
   "outputs": [],
   "source": [
    "list_for_street = ['проспект', \"площадь\", \"улица\", \"шоссе\", \n",
    "                   \"бульвар\", 'переулок','набережная','проезд',\n",
    "                   'тупик','микрорайон','территория','километр','посёлок','деревня'\n",
    "                   ,'аллея','просек','линия','квартал','село','вблизи' ]\n",
    "def get_street(row):\n",
    "    address = row['address'].split(', ') \n",
    "    parts = len(address)\n",
    "    try:\n",
    "        for item in list_for_street:\n",
    "            for i in range(parts):\n",
    "                if item in address[i]:  \n",
    "                    return address[i]\n",
    "    except:\n",
    "        return 'Error'\n",
    "    \n",
    "data['street'] = data.apply(get_street, axis=1)"
   ]
  },
  {
   "cell_type": "code",
   "execution_count": 30,
   "metadata": {},
   "outputs": [
    {
     "data": {
      "text/html": [
       "<div>\n",
       "<style scoped>\n",
       "    .dataframe tbody tr th:only-of-type {\n",
       "        vertical-align: middle;\n",
       "    }\n",
       "\n",
       "    .dataframe tbody tr th {\n",
       "        vertical-align: top;\n",
       "    }\n",
       "\n",
       "    .dataframe thead th {\n",
       "        text-align: right;\n",
       "    }\n",
       "</style>\n",
       "<table border=\"1\" class=\"dataframe\">\n",
       "  <thead>\n",
       "    <tr style=\"text-align: right;\">\n",
       "      <th></th>\n",
       "      <th>id</th>\n",
       "      <th>object_name</th>\n",
       "      <th>chain</th>\n",
       "      <th>object_type</th>\n",
       "      <th>address</th>\n",
       "      <th>number</th>\n",
       "      <th>odject_name_new</th>\n",
       "      <th>street</th>\n",
       "    </tr>\n",
       "  </thead>\n",
       "  <tbody>\n",
       "    <tr>\n",
       "      <td>0</td>\n",
       "      <td>151635</td>\n",
       "      <td>сметана</td>\n",
       "      <td>нет</td>\n",
       "      <td>кафе</td>\n",
       "      <td>город Москва, улица Егора Абакумова, дом 9</td>\n",
       "      <td>48</td>\n",
       "      <td>сметана</td>\n",
       "      <td>улица Егора Абакумова</td>\n",
       "    </tr>\n",
       "    <tr>\n",
       "      <td>1</td>\n",
       "      <td>77874</td>\n",
       "      <td>родник</td>\n",
       "      <td>нет</td>\n",
       "      <td>кафе</td>\n",
       "      <td>город Москва, улица Талалихина, дом 2/1, корпус 1</td>\n",
       "      <td>35</td>\n",
       "      <td>родник</td>\n",
       "      <td>улица Талалихина</td>\n",
       "    </tr>\n",
       "    <tr>\n",
       "      <td>2</td>\n",
       "      <td>24309</td>\n",
       "      <td>академия</td>\n",
       "      <td>нет</td>\n",
       "      <td>кафе</td>\n",
       "      <td>город Москва, Абельмановская улица, дом 6</td>\n",
       "      <td>95</td>\n",
       "      <td>академия</td>\n",
       "      <td>Абельмановская улица</td>\n",
       "    </tr>\n",
       "    <tr>\n",
       "      <td>3</td>\n",
       "      <td>21894</td>\n",
       "      <td>пиццетория</td>\n",
       "      <td>да</td>\n",
       "      <td>кафе</td>\n",
       "      <td>город Москва, Абрамцевская улица, дом 1</td>\n",
       "      <td>40</td>\n",
       "      <td>пиццетория</td>\n",
       "      <td>Абрамцевская улица</td>\n",
       "    </tr>\n",
       "    <tr>\n",
       "      <td>4</td>\n",
       "      <td>119365</td>\n",
       "      <td>вишневая метель</td>\n",
       "      <td>нет</td>\n",
       "      <td>кафе</td>\n",
       "      <td>город Москва, Абрамцевская улица, дом 9, корпус 1</td>\n",
       "      <td>50</td>\n",
       "      <td>вишневая метель</td>\n",
       "      <td>Абрамцевская улица</td>\n",
       "    </tr>\n",
       "  </tbody>\n",
       "</table>\n",
       "</div>"
      ],
      "text/plain": [
       "       id      object_name chain object_type  \\\n",
       "0  151635          сметана   нет        кафе   \n",
       "1   77874           родник   нет        кафе   \n",
       "2   24309         академия   нет        кафе   \n",
       "3   21894       пиццетория    да        кафе   \n",
       "4  119365  вишневая метель   нет        кафе   \n",
       "\n",
       "                                             address  number  odject_name_new  \\\n",
       "0         город Москва, улица Егора Абакумова, дом 9      48          сметана   \n",
       "1  город Москва, улица Талалихина, дом 2/1, корпус 1      35           родник   \n",
       "2          город Москва, Абельмановская улица, дом 6      95         академия   \n",
       "3            город Москва, Абрамцевская улица, дом 1      40       пиццетория   \n",
       "4  город Москва, Абрамцевская улица, дом 9, корпус 1      50  вишневая метель   \n",
       "\n",
       "                  street  \n",
       "0  улица Егора Абакумова  \n",
       "1       улица Талалихина  \n",
       "2   Абельмановская улица  \n",
       "3     Абрамцевская улица  \n",
       "4     Абрамцевская улица  "
      ]
     },
     "execution_count": 30,
     "metadata": {},
     "output_type": "execute_result"
    }
   ],
   "source": [
    "data.head()"
   ]
  },
  {
   "cell_type": "markdown",
   "metadata": {},
   "source": [
    "Получилось :)"
   ]
  },
  {
   "cell_type": "markdown",
   "metadata": {},
   "source": [
    "### Построю график топ-10 улиц по количеству объектов общественного питания. "
   ]
  },
  {
   "cell_type": "markdown",
   "metadata": {},
   "source": [
    "Сгруппирую датафрейм по названию улиц, посчитаю количество объектов на каждой улице:"
   ]
  },
  {
   "cell_type": "code",
   "execution_count": 31,
   "metadata": {},
   "outputs": [
    {
     "data": {
      "text/html": [
       "<div>\n",
       "<style scoped>\n",
       "    .dataframe tbody tr th:only-of-type {\n",
       "        vertical-align: middle;\n",
       "    }\n",
       "\n",
       "    .dataframe tbody tr th {\n",
       "        vertical-align: top;\n",
       "    }\n",
       "\n",
       "    .dataframe thead th {\n",
       "        text-align: right;\n",
       "    }\n",
       "</style>\n",
       "<table border=\"1\" class=\"dataframe\">\n",
       "  <thead>\n",
       "    <tr style=\"text-align: right;\">\n",
       "      <th></th>\n",
       "      <th>street</th>\n",
       "      <th>object_name</th>\n",
       "    </tr>\n",
       "  </thead>\n",
       "  <tbody>\n",
       "    <tr>\n",
       "      <td>1499</td>\n",
       "      <td>проспект Мира</td>\n",
       "      <td>204</td>\n",
       "    </tr>\n",
       "    <tr>\n",
       "      <td>1040</td>\n",
       "      <td>Профсоюзная улица</td>\n",
       "      <td>183</td>\n",
       "    </tr>\n",
       "    <tr>\n",
       "      <td>713</td>\n",
       "      <td>Ленинградский проспект</td>\n",
       "      <td>173</td>\n",
       "    </tr>\n",
       "    <tr>\n",
       "      <td>1024</td>\n",
       "      <td>Пресненская набережная</td>\n",
       "      <td>167</td>\n",
       "    </tr>\n",
       "    <tr>\n",
       "      <td>426</td>\n",
       "      <td>Варшавское шоссе</td>\n",
       "      <td>165</td>\n",
       "    </tr>\n",
       "    <tr>\n",
       "      <td>716</td>\n",
       "      <td>Ленинский проспект</td>\n",
       "      <td>148</td>\n",
       "    </tr>\n",
       "    <tr>\n",
       "      <td>1495</td>\n",
       "      <td>проспект Вернадского</td>\n",
       "      <td>132</td>\n",
       "    </tr>\n",
       "    <tr>\n",
       "      <td>703</td>\n",
       "      <td>Кутузовский проспект</td>\n",
       "      <td>114</td>\n",
       "    </tr>\n",
       "    <tr>\n",
       "      <td>626</td>\n",
       "      <td>Каширское шоссе</td>\n",
       "      <td>112</td>\n",
       "    </tr>\n",
       "    <tr>\n",
       "      <td>633</td>\n",
       "      <td>Кировоградская улица</td>\n",
       "      <td>110</td>\n",
       "    </tr>\n",
       "  </tbody>\n",
       "</table>\n",
       "</div>"
      ],
      "text/plain": [
       "                      street  object_name\n",
       "1499           проспект Мира          204\n",
       "1040       Профсоюзная улица          183\n",
       "713   Ленинградский проспект          173\n",
       "1024  Пресненская набережная          167\n",
       "426         Варшавское шоссе          165\n",
       "716       Ленинский проспект          148\n",
       "1495    проспект Вернадского          132\n",
       "703     Кутузовский проспект          114\n",
       "626          Каширское шоссе          112\n",
       "633     Кировоградская улица          110"
      ]
     },
     "execution_count": 31,
     "metadata": {},
     "output_type": "execute_result"
    }
   ],
   "source": [
    "top_10 = data.groupby('street')['object_name'].count().reset_index().sort_values(by = 'object_name',\n",
    "                                                                                 ascending = False).head(10)\n",
    "top_10"
   ]
  },
  {
   "cell_type": "markdown",
   "metadata": {},
   "source": [
    "Построю график:"
   ]
  },
  {
   "cell_type": "code",
   "execution_count": 32,
   "metadata": {},
   "outputs": [
    {
     "data": {
      "image/png": "[encoded data removed]",
      "text/plain": [
       "<Figure size 1440x504 with 1 Axes>"
      ]
     },
     "metadata": {
      "needs_background": "light"
     },
     "output_type": "display_data"
    }
   ],
   "source": [
    "plt.figure(\n",
    "    figsize=(20, 7))\n",
    "ax = sns.barplot(x=\"object_name\", y='street', data=top_10) \n",
    "ax.set(xlabel = 'Количество заведений', ylabel ='Улица', \n",
    "       title='ТОП-10 улиц по количеству объектов общественного питания')\n",
    "plt.show()"
   ]
  },
  {
   "cell_type": "markdown",
   "metadata": {},
   "source": [
    "**Выводы:**\n",
    "\n",
    "Больше всего заведений находится на проспекте Мира."
   ]
  },
  {
   "cell_type": "markdown",
   "metadata": {},
   "source": [
    "### В каких районах Москвы находятся эти улицы?"
   ]
  },
  {
   "cell_type": "markdown",
   "metadata": {},
   "source": [
    "Данные по районам города нашла в интернете и скопировала в Гугл таблицу, загружу данные в новый датафрейм"
   ]
  },
  {
   "cell_type": "code",
   "execution_count": 33,
   "metadata": {},
   "outputs": [
    {
     "data": {
      "text/html": [
       "<div>\n",
       "<style scoped>\n",
       "    .dataframe tbody tr th:only-of-type {\n",
       "        vertical-align: middle;\n",
       "    }\n",
       "\n",
       "    .dataframe tbody tr th {\n",
       "        vertical-align: top;\n",
       "    }\n",
       "\n",
       "    .dataframe thead th {\n",
       "        text-align: right;\n",
       "    }\n",
       "</style>\n",
       "<table border=\"1\" class=\"dataframe\">\n",
       "  <thead>\n",
       "    <tr style=\"text-align: right;\">\n",
       "      <th></th>\n",
       "      <th>street</th>\n",
       "      <th>areaid</th>\n",
       "      <th>okrug</th>\n",
       "      <th>area</th>\n",
       "    </tr>\n",
       "  </thead>\n",
       "  <tbody>\n",
       "    <tr>\n",
       "      <td>0</td>\n",
       "      <td>1-й Автозаводский проезд</td>\n",
       "      <td>98</td>\n",
       "      <td>ЮАО</td>\n",
       "      <td>Даниловский район</td>\n",
       "    </tr>\n",
       "    <tr>\n",
       "      <td>1</td>\n",
       "      <td>1-й Амбулаторный проезд</td>\n",
       "      <td>54</td>\n",
       "      <td>САО</td>\n",
       "      <td>Район Аэропорт</td>\n",
       "    </tr>\n",
       "    <tr>\n",
       "      <td>2</td>\n",
       "      <td>1-й Архивный переулок</td>\n",
       "      <td>20</td>\n",
       "      <td>ЦАО</td>\n",
       "      <td>Район Хамовники</td>\n",
       "    </tr>\n",
       "    <tr>\n",
       "      <td>3</td>\n",
       "      <td>1-й Бабьегородский переулок</td>\n",
       "      <td>21</td>\n",
       "      <td>ЦАО</td>\n",
       "      <td>Район Якиманка</td>\n",
       "    </tr>\n",
       "    <tr>\n",
       "      <td>4</td>\n",
       "      <td>1-й Балтийский переулок</td>\n",
       "      <td>54</td>\n",
       "      <td>САО</td>\n",
       "      <td>Район Аэропорт</td>\n",
       "    </tr>\n",
       "    <tr>\n",
       "      <td>...</td>\n",
       "      <td>...</td>\n",
       "      <td>...</td>\n",
       "      <td>...</td>\n",
       "      <td>...</td>\n",
       "    </tr>\n",
       "    <tr>\n",
       "      <td>4393</td>\n",
       "      <td>Яузская улица</td>\n",
       "      <td>18</td>\n",
       "      <td>ЦАО</td>\n",
       "      <td>Таганский район</td>\n",
       "    </tr>\n",
       "    <tr>\n",
       "      <td>4394</td>\n",
       "      <td>Яузский бульвар</td>\n",
       "      <td>18</td>\n",
       "      <td>ЦАО</td>\n",
       "      <td>Таганский район</td>\n",
       "    </tr>\n",
       "    <tr>\n",
       "      <td>4395</td>\n",
       "      <td>Яхромская улица</td>\n",
       "      <td>60</td>\n",
       "      <td>САО</td>\n",
       "      <td>Дмитровский район</td>\n",
       "    </tr>\n",
       "    <tr>\n",
       "      <td>4396</td>\n",
       "      <td>Яхромский проезд</td>\n",
       "      <td>58</td>\n",
       "      <td>САО</td>\n",
       "      <td>Район Восточное Дегунино</td>\n",
       "    </tr>\n",
       "    <tr>\n",
       "      <td>4397</td>\n",
       "      <td>Яхромский проезд</td>\n",
       "      <td>60</td>\n",
       "      <td>САО</td>\n",
       "      <td>Дмитровский район</td>\n",
       "    </tr>\n",
       "  </tbody>\n",
       "</table>\n",
       "<p>4398 rows × 4 columns</p>\n",
       "</div>"
      ],
      "text/plain": [
       "                           street  areaid okrug                      area\n",
       "0        1-й Автозаводский проезд      98   ЮАО         Даниловский район\n",
       "1         1-й Амбулаторный проезд      54   САО            Район Аэропорт\n",
       "2           1-й Архивный переулок      20   ЦАО           Район Хамовники\n",
       "3     1-й Бабьегородский переулок      21   ЦАО            Район Якиманка\n",
       "4         1-й Балтийский переулок      54   САО            Район Аэропорт\n",
       "...                           ...     ...   ...                       ...\n",
       "4393                Яузская улица      18   ЦАО           Таганский район\n",
       "4394              Яузский бульвар      18   ЦАО           Таганский район\n",
       "4395              Яхромская улица      60   САО         Дмитровский район\n",
       "4396             Яхромский проезд      58   САО  Район Восточное Дегунино\n",
       "4397             Яхромский проезд      60   САО         Дмитровский район\n",
       "\n",
       "[4398 rows x 4 columns]"
      ]
     },
     "execution_count": 33,
     "metadata": {},
     "output_type": "execute_result"
    }
   ],
   "source": [
    "from io import BytesIO\n",
    "import requests\n",
    "spreadsheet_id = \"1sguZSB8CeYCbCK2eMmsAlMkz9mBFw11GlyImzqJpjes\"\n",
    "file_name = 'https://docs.google.com/spreadsheets/d/{}/export?format=csv'.format(spreadsheet_id)\n",
    "r = requests.get(file_name)\n",
    "df = pd.read_csv(BytesIO(r.content))\n",
    "df"
   ]
  },
  {
   "cell_type": "markdown",
   "metadata": {},
   "source": [
    "Объединю свою таблицу со справочником улиц "
   ]
  },
  {
   "cell_type": "code",
   "execution_count": 34,
   "metadata": {},
   "outputs": [],
   "source": [
    "rest_data = data.merge(df, on = 'street')"
   ]
  },
  {
   "cell_type": "markdown",
   "metadata": {},
   "source": [
    "Так как одна улица может проходить через несколько районов, например, проспект Мира проходит через 9 районов, использую группировку по округу:"
   ]
  },
  {
   "cell_type": "code",
   "execution_count": 35,
   "metadata": {},
   "outputs": [
    {
     "data": {
      "text/html": [
       "<div>\n",
       "<style scoped>\n",
       "    .dataframe tbody tr th:only-of-type {\n",
       "        vertical-align: middle;\n",
       "    }\n",
       "\n",
       "    .dataframe tbody tr th {\n",
       "        vertical-align: top;\n",
       "    }\n",
       "\n",
       "    .dataframe thead th {\n",
       "        text-align: right;\n",
       "    }\n",
       "</style>\n",
       "<table border=\"1\" class=\"dataframe\">\n",
       "  <thead>\n",
       "    <tr style=\"text-align: right;\">\n",
       "      <th></th>\n",
       "      <th>okrug</th>\n",
       "      <th>street</th>\n",
       "      <th>id</th>\n",
       "    </tr>\n",
       "  </thead>\n",
       "  <tbody>\n",
       "    <tr>\n",
       "      <td>0</td>\n",
       "      <td>СВАО</td>\n",
       "      <td>проспект Мира</td>\n",
       "      <td>1224</td>\n",
       "    </tr>\n",
       "    <tr>\n",
       "      <td>1</td>\n",
       "      <td>ЮЗАО</td>\n",
       "      <td>Профсоюзная улица</td>\n",
       "      <td>1098</td>\n",
       "    </tr>\n",
       "    <tr>\n",
       "      <td>2</td>\n",
       "      <td>ЮАО</td>\n",
       "      <td>Варшавское шоссе</td>\n",
       "      <td>990</td>\n",
       "    </tr>\n",
       "    <tr>\n",
       "      <td>3</td>\n",
       "      <td>САО</td>\n",
       "      <td>Ленинградский проспект</td>\n",
       "      <td>692</td>\n",
       "    </tr>\n",
       "    <tr>\n",
       "      <td>4</td>\n",
       "      <td>ЮЗАО</td>\n",
       "      <td>Ленинский проспект</td>\n",
       "      <td>592</td>\n",
       "    </tr>\n",
       "    <tr>\n",
       "      <td>5</td>\n",
       "      <td>САО</td>\n",
       "      <td>Ленинградское шоссе</td>\n",
       "      <td>500</td>\n",
       "    </tr>\n",
       "    <tr>\n",
       "      <td>6</td>\n",
       "      <td>САО</td>\n",
       "      <td>Дмитровское шоссе</td>\n",
       "      <td>500</td>\n",
       "    </tr>\n",
       "    <tr>\n",
       "      <td>7</td>\n",
       "      <td>ЮАО</td>\n",
       "      <td>Каширское шоссе</td>\n",
       "      <td>448</td>\n",
       "    </tr>\n",
       "    <tr>\n",
       "      <td>8</td>\n",
       "      <td>ЗАО</td>\n",
       "      <td>проспект Вернадского</td>\n",
       "      <td>396</td>\n",
       "    </tr>\n",
       "    <tr>\n",
       "      <td>9</td>\n",
       "      <td>ЮВАО</td>\n",
       "      <td>Волгоградский проспект</td>\n",
       "      <td>378</td>\n",
       "    </tr>\n",
       "  </tbody>\n",
       "</table>\n",
       "</div>"
      ],
      "text/plain": [
       "  okrug                  street    id\n",
       "0  СВАО           проспект Мира  1224\n",
       "1  ЮЗАО       Профсоюзная улица  1098\n",
       "2   ЮАО        Варшавское шоссе   990\n",
       "3   САО  Ленинградский проспект   692\n",
       "4  ЮЗАО      Ленинский проспект   592\n",
       "5   САО     Ленинградское шоссе   500\n",
       "6   САО       Дмитровское шоссе   500\n",
       "7   ЮАО         Каширское шоссе   448\n",
       "8   ЗАО    проспект Вернадского   396\n",
       "9  ЮВАО  Волгоградский проспект   378"
      ]
     },
     "execution_count": 35,
     "metadata": {},
     "output_type": "execute_result"
    }
   ],
   "source": [
    "top_10_streets = top_10['street'].to_list()\n",
    "top_10_count_on_district = rest_data.query('street == @top_10_streets')\n",
    "top_10_count_on_district.pivot_table(index=['street', 'okrug'], values='id', aggfunc='count')\n",
    "\n",
    "top_10_district = rest_data.groupby(['okrug','street']).agg({'id':'count'}).sort_values(by='id', \n",
    "                                                                                  ascending=False).head(10).reset_index()\n",
    "top_10_district"
   ]
  },
  {
   "cell_type": "markdown",
   "metadata": {},
   "source": [
    "Построю график:"
   ]
  },
  {
   "cell_type": "code",
   "execution_count": 36,
   "metadata": {},
   "outputs": [
    {
     "data": {
      "image/png": "[encoded data removed]",
      "text/plain": [
       "<Figure size 1440x504 with 1 Axes>"
      ]
     },
     "metadata": {
      "needs_background": "light"
     },
     "output_type": "display_data"
    }
   ],
   "source": [
    "plt.figure(\n",
    "    figsize=(20, 7))\n",
    "ax = sns.barplot(x='okrug', y ='id', data=top_10_district)\n",
    "ax.set(xlabel = 'Округ', ylabel ='Количество заведений', \n",
    "       title='ТОП округов по количеству объектов обещественного питания')\n",
    "plt.show()"
   ]
  },
  {
   "cell_type": "markdown",
   "metadata": {},
   "source": [
    "**Выводы:**\n",
    "\n",
    "Больше всего заведений в Северо-Восточном административном округе, затем Юго-Западный административный округ и Южный административный округ."
   ]
  },
  {
   "cell_type": "markdown",
   "metadata": {},
   "source": [
    "### Найду число улиц с одним объектом общественного питания. "
   ]
  },
  {
   "cell_type": "markdown",
   "metadata": {},
   "source": [
    "Сгруппирую датафрейм по районам и улицам, затемулицы с одним заведение и посчитаю количество таких улиц в районе:"
   ]
  },
  {
   "cell_type": "code",
   "execution_count": 37,
   "metadata": {},
   "outputs": [
    {
     "name": "stdout",
     "output_type": "stream",
     "text": [
      "Количество улиц с одним заведением: 567\n"
     ]
    }
   ],
   "source": [
    "streets_count = rest_data.groupby(['area','street'])['object_name'].count().reset_index()\n",
    "streets_one_object = streets_count[streets_count['object_name'] == 1]\n",
    "print(\"Количество улиц с одним заведением:\", streets_one_object['street'].count())\n"
   ]
  },
  {
   "cell_type": "markdown",
   "metadata": {},
   "source": [
    "### В каких районах Москвы находятся эти улицы?"
   ]
  },
  {
   "cell_type": "markdown",
   "metadata": {},
   "source": [
    "Сгруппирую данные по району и найду количество улиц с 1 заведением для каждого района:"
   ]
  },
  {
   "cell_type": "code",
   "execution_count": 38,
   "metadata": {},
   "outputs": [
    {
     "name": "stdout",
     "output_type": "stream",
     "text": [
      "Топ-10 районов, в которых находятся улицы с одним заведением:\n"
     ]
    },
    {
     "data": {
      "text/html": [
       "<div>\n",
       "<style scoped>\n",
       "    .dataframe tbody tr th:only-of-type {\n",
       "        vertical-align: middle;\n",
       "    }\n",
       "\n",
       "    .dataframe tbody tr th {\n",
       "        vertical-align: top;\n",
       "    }\n",
       "\n",
       "    .dataframe thead th {\n",
       "        text-align: right;\n",
       "    }\n",
       "</style>\n",
       "<table border=\"1\" class=\"dataframe\">\n",
       "  <thead>\n",
       "    <tr style=\"text-align: right;\">\n",
       "      <th></th>\n",
       "      <th>street</th>\n",
       "      <th>object_name</th>\n",
       "    </tr>\n",
       "    <tr>\n",
       "      <th>area</th>\n",
       "      <th></th>\n",
       "      <th></th>\n",
       "    </tr>\n",
       "  </thead>\n",
       "  <tbody>\n",
       "    <tr>\n",
       "      <td>Таганский район</td>\n",
       "      <td>27</td>\n",
       "      <td>27</td>\n",
       "    </tr>\n",
       "    <tr>\n",
       "      <td>Район Хамовники</td>\n",
       "      <td>26</td>\n",
       "      <td>26</td>\n",
       "    </tr>\n",
       "    <tr>\n",
       "      <td>Басманный район</td>\n",
       "      <td>25</td>\n",
       "      <td>25</td>\n",
       "    </tr>\n",
       "    <tr>\n",
       "      <td>Тверской район</td>\n",
       "      <td>20</td>\n",
       "      <td>20</td>\n",
       "    </tr>\n",
       "    <tr>\n",
       "      <td>Пресненский район</td>\n",
       "      <td>20</td>\n",
       "      <td>20</td>\n",
       "    </tr>\n",
       "    <tr>\n",
       "      <td>Район Арбат</td>\n",
       "      <td>18</td>\n",
       "      <td>18</td>\n",
       "    </tr>\n",
       "    <tr>\n",
       "      <td>Район Марьина роща</td>\n",
       "      <td>18</td>\n",
       "      <td>18</td>\n",
       "    </tr>\n",
       "    <tr>\n",
       "      <td>Мещанский район</td>\n",
       "      <td>16</td>\n",
       "      <td>16</td>\n",
       "    </tr>\n",
       "    <tr>\n",
       "      <td>Район Сокольники</td>\n",
       "      <td>15</td>\n",
       "      <td>15</td>\n",
       "    </tr>\n",
       "    <tr>\n",
       "      <td>Район Замоскворечье</td>\n",
       "      <td>14</td>\n",
       "      <td>14</td>\n",
       "    </tr>\n",
       "  </tbody>\n",
       "</table>\n",
       "</div>"
      ],
      "text/plain": [
       "                     street  object_name\n",
       "area                                    \n",
       "Таганский район          27           27\n",
       "Район Хамовники          26           26\n",
       "Басманный район          25           25\n",
       "Тверской район           20           20\n",
       "Пресненский район        20           20\n",
       "Район Арбат              18           18\n",
       "Район Марьина роща       18           18\n",
       "Мещанский район          16           16\n",
       "Район Сокольники         15           15\n",
       "Район Замоскворечье      14           14"
      ]
     },
     "metadata": {},
     "output_type": "display_data"
    }
   ],
   "source": [
    "area_one_object= streets_one_object.groupby('area').count()\n",
    "print(\"Топ-10 районов, в которых находятся улицы с одним заведением:\")\n",
    "display(area_one_object.sort_values(by = 'object_name', ascending = False).head(10))"
   ]
  },
  {
   "cell_type": "markdown",
   "metadata": {},
   "source": [
    "### Распределение количества посадочных мест для улиц с большим количеством объектов общественного питания. Какие закономерности можно выявить?"
   ]
  },
  {
   "cell_type": "markdown",
   "metadata": {},
   "source": [
    "Использую данные по топ 10 улиц из предыдущего пункта, чтобы построить распределение:"
   ]
  },
  {
   "cell_type": "code",
   "execution_count": 39,
   "metadata": {},
   "outputs": [
    {
     "data": {
      "image/png": "[encoded data removed]",
      "text/plain": [
       "<Figure size 432x288 with 1 Axes>"
      ]
     },
     "metadata": {
      "needs_background": "light"
     },
     "output_type": "display_data"
    }
   ],
   "source": [
    "ax = sns.distplot(top_10_count_on_district['number'], bins = 50) \n",
    "ax.set(xlabel = 'Количество посадочных мест', ylabel ='Количество заведений', \n",
    "       title='Распределение количества посадочных мест для улиц с большим количеством объектов')\n",
    "plt.show()"
   ]
  },
  {
   "cell_type": "markdown",
   "metadata": {},
   "source": [
    "Есть выбросы, исключу заведения с количеством посадочным мест более 250."
   ]
  },
  {
   "cell_type": "code",
   "execution_count": 40,
   "metadata": {},
   "outputs": [
    {
     "data": {
      "image/png": "[encoded data removed]",
      "text/plain": [
       "<Figure size 432x288 with 1 Axes>"
      ]
     },
     "metadata": {
      "needs_background": "light"
     },
     "output_type": "display_data"
    }
   ],
   "source": [
    "top_10_number = top_10_count_on_district[top_10_count_on_district['number'] <= 250]\n",
    "ax = sns.distplot(top_10_number['number'], bins=25)\n",
    "ax.set(xlabel = 'Количество посадочных мест', ylabel ='Количество заведений', \n",
    "       title='Распределение количества посадочных мест для ТОП-10 улиц с большим количеством объектов')\n",
    "plt.show()"
   ]
  },
  {
   "cell_type": "markdown",
   "metadata": {},
   "source": [
    "Больше всего заведений без посадочных мест, работающих на заказы \"с собой\" или доставку, затем примерно одинаковое кол-во заведений имеют по 10, 20 и 40 мест, далее идет плавный спад."
   ]
  },
  {
   "cell_type": "markdown",
   "metadata": {},
   "source": [
    "### Общие выводы:"
   ]
  },
  {
   "cell_type": "markdown",
   "metadata": {},
   "source": [
    "Мы выяснили, что большую долю заведений в Москве составляют кафе(их почти в 2.5 раза больше, чем остальных заведений), столовые, рестораны и фастфуд, при этом, доля сетевых заведений всего 20% от общего количества. \n",
    "\n",
    "Наиболее характерно сетевое распространение для фастфуда, кулинарии и ресторанов.\n",
    "А также для сетей характерно иметь много заведений с небольшим количеством посадочных мест.\n",
    "\n",
    "Найдены топ-10 улиц с наибольшим количеством заведений. \n",
    "Больше всего заведений, находящихся на улицах из топа, не имеют посадочных мест.\n",
    "А если посадочные места есть, то чаще всего их около 10, 20 или 40.\n",
    "\n",
    "**Рекомендации:**\n",
    "1. Открыть кафе, так как это самый популярный вид заведений общественного питания.\n",
    "2. Расположить его на одной из улиц из списка топ-10.\n",
    "3. Количеств посадочных мест до 40.\n",
    "4. Как возможности для развития можно рассмотреть открытие заведений с работой на доставку или заказы “с собой”, либо открытие ресторана/столовой с бОльшим количеством посадочных мест, а также развитие сети таких заведений."
   ]
  },
  {
   "cell_type": "markdown",
   "metadata": {},
   "source": [
    "## Презентация"
   ]
  },
  {
   "cell_type": "markdown",
   "metadata": {},
   "source": [
    "https://docs.google.com/presentation/d/1R_Ov25RpFiDpnJdMxIN6TeJJ7aMU9RY_f3tsVjvKs5Q/edit?usp=sharing"
   ]
  }
 ],
 "metadata": {
  "ExecuteTimeLog": [
   {
    "duration": 316,
    "start_time": "2021-10-06T09:09:03.384Z"
   },
   {
    "duration": 1198,
    "start_time": "2021-10-06T09:09:09.340Z"
   },
   {
    "duration": 45,
    "start_time": "2021-10-06T09:09:11.575Z"
   },
   {
    "duration": 15,
    "start_time": "2021-10-06T09:09:12.585Z"
   },
   {
    "duration": 18,
    "start_time": "2021-10-06T09:09:13.154Z"
   },
   {
    "duration": 9,
    "start_time": "2021-10-06T09:14:50.300Z"
   },
   {
    "duration": 18,
    "start_time": "2021-10-06T09:16:58.748Z"
   },
   {
    "duration": 25,
    "start_time": "2021-10-06T09:18:24.702Z"
   },
   {
    "duration": 5,
    "start_time": "2021-10-06T09:20:05.826Z"
   },
   {
    "duration": 6,
    "start_time": "2021-10-06T09:20:28.699Z"
   },
   {
    "duration": 5,
    "start_time": "2021-10-06T09:20:43.053Z"
   },
   {
    "duration": 373,
    "start_time": "2021-10-06T09:20:55.761Z"
   },
   {
    "duration": 6,
    "start_time": "2021-10-06T09:21:07.209Z"
   },
   {
    "duration": 10,
    "start_time": "2021-10-06T11:38:01.457Z"
   },
   {
    "duration": 9,
    "start_time": "2021-10-06T11:38:12.646Z"
   },
   {
    "duration": 9,
    "start_time": "2021-10-06T11:38:19.504Z"
   },
   {
    "duration": 5,
    "start_time": "2021-10-06T11:38:54.888Z"
   },
   {
    "duration": 6,
    "start_time": "2021-10-06T11:39:52.480Z"
   },
   {
    "duration": 6,
    "start_time": "2021-10-06T11:39:59.122Z"
   },
   {
    "duration": 8,
    "start_time": "2021-10-06T11:40:47.250Z"
   },
   {
    "duration": 3,
    "start_time": "2021-10-06T11:41:24.846Z"
   },
   {
    "duration": 49,
    "start_time": "2021-10-06T11:41:26.163Z"
   },
   {
    "duration": 10,
    "start_time": "2021-10-06T11:41:26.596Z"
   },
   {
    "duration": 1128,
    "start_time": "2021-10-06T11:41:30.818Z"
   },
   {
    "duration": 48,
    "start_time": "2021-10-06T11:41:31.948Z"
   },
   {
    "duration": 11,
    "start_time": "2021-10-06T11:41:31.999Z"
   },
   {
    "duration": 24,
    "start_time": "2021-10-06T11:41:32.012Z"
   },
   {
    "duration": 8,
    "start_time": "2021-10-06T11:41:32.038Z"
   },
   {
    "duration": 41,
    "start_time": "2021-10-06T11:41:32.048Z"
   },
   {
    "duration": 7605,
    "start_time": "2021-10-06T11:41:32.091Z"
   },
   {
    "duration": -19,
    "start_time": "2021-10-06T11:41:39.717Z"
   },
   {
    "duration": -22,
    "start_time": "2021-10-06T11:41:39.722Z"
   },
   {
    "duration": -24,
    "start_time": "2021-10-06T11:41:39.725Z"
   },
   {
    "duration": 24,
    "start_time": "2021-10-06T11:41:43.512Z"
   },
   {
    "duration": 6,
    "start_time": "2021-10-06T11:41:44.018Z"
   },
   {
    "duration": 7,
    "start_time": "2021-10-06T11:41:45.552Z"
   },
   {
    "duration": 2,
    "start_time": "2021-10-06T11:42:01.903Z"
   },
   {
    "duration": 46,
    "start_time": "2021-10-06T11:42:02.435Z"
   },
   {
    "duration": 10,
    "start_time": "2021-10-06T11:42:02.778Z"
   },
   {
    "duration": 16,
    "start_time": "2021-10-06T11:42:02.965Z"
   },
   {
    "duration": 8,
    "start_time": "2021-10-06T11:42:03.138Z"
   },
   {
    "duration": 19,
    "start_time": "2021-10-06T11:42:03.484Z"
   },
   {
    "duration": 25,
    "start_time": "2021-10-06T11:42:03.673Z"
   },
   {
    "duration": 6,
    "start_time": "2021-10-06T11:42:03.849Z"
   },
   {
    "duration": 8,
    "start_time": "2021-10-06T11:42:04.060Z"
   },
   {
    "duration": 288,
    "start_time": "2021-10-06T11:45:00.904Z"
   },
   {
    "duration": 3,
    "start_time": "2021-10-06T11:46:21.724Z"
   },
   {
    "duration": 46,
    "start_time": "2021-10-06T11:46:23.326Z"
   },
   {
    "duration": 10,
    "start_time": "2021-10-06T11:46:24.034Z"
   },
   {
    "duration": 17,
    "start_time": "2021-10-06T11:46:24.387Z"
   },
   {
    "duration": 8,
    "start_time": "2021-10-06T11:46:24.780Z"
   },
   {
    "duration": 17,
    "start_time": "2021-10-06T11:46:25.776Z"
   },
   {
    "duration": 253,
    "start_time": "2021-10-06T11:46:26.671Z"
   },
   {
    "duration": 6,
    "start_time": "2021-10-06T11:46:28.136Z"
   },
   {
    "duration": 6,
    "start_time": "2021-10-06T11:46:35.237Z"
   },
   {
    "duration": 7,
    "start_time": "2021-10-06T11:46:39.099Z"
   },
   {
    "duration": 8,
    "start_time": "2021-10-06T11:46:49.007Z"
   },
   {
    "duration": 239,
    "start_time": "2021-10-06T13:44:12.297Z"
   },
   {
    "duration": 10,
    "start_time": "2021-10-06T13:44:12.728Z"
   },
   {
    "duration": 7751,
    "start_time": "2021-10-06T13:44:13.631Z"
   },
   {
    "duration": 34,
    "start_time": "2021-10-06T13:44:38.684Z"
   },
   {
    "duration": 115,
    "start_time": "2021-10-06T13:44:39.375Z"
   },
   {
    "duration": 43,
    "start_time": "2021-10-06T13:45:47.374Z"
   },
   {
    "duration": 102,
    "start_time": "2021-10-06T13:45:48.792Z"
   },
   {
    "duration": 34,
    "start_time": "2021-10-06T13:46:13.839Z"
   },
   {
    "duration": 94,
    "start_time": "2021-10-06T13:46:14.293Z"
   },
   {
    "duration": 287,
    "start_time": "2021-10-06T13:49:29.447Z"
   },
   {
    "duration": 344,
    "start_time": "2021-10-06T13:50:19.980Z"
   },
   {
    "duration": 45,
    "start_time": "2021-10-06T13:50:52.420Z"
   },
   {
    "duration": 8,
    "start_time": "2021-10-06T13:51:31.882Z"
   },
   {
    "duration": 96,
    "start_time": "2021-10-06T13:52:02.635Z"
   },
   {
    "duration": 309,
    "start_time": "2021-10-06T13:52:24.698Z"
   },
   {
    "duration": 11,
    "start_time": "2021-10-06T13:52:57.949Z"
   },
   {
    "duration": 204,
    "start_time": "2021-10-06T13:53:21.458Z"
   },
   {
    "duration": 107,
    "start_time": "2021-10-06T13:55:07.518Z"
   },
   {
    "duration": 240,
    "start_time": "2021-10-06T13:55:38.508Z"
   },
   {
    "duration": 294,
    "start_time": "2021-10-06T13:55:49.582Z"
   },
   {
    "duration": 11,
    "start_time": "2021-10-06T13:58:30.892Z"
   },
   {
    "duration": 353,
    "start_time": "2021-10-06T13:58:33.060Z"
   },
   {
    "duration": 235,
    "start_time": "2021-10-06T13:58:43.309Z"
   },
   {
    "duration": 171,
    "start_time": "2021-10-06T13:58:50.888Z"
   },
   {
    "duration": 1449,
    "start_time": "2021-10-07T09:11:12.983Z"
   },
   {
    "duration": 57,
    "start_time": "2021-10-07T09:11:14.435Z"
   },
   {
    "duration": 12,
    "start_time": "2021-10-07T09:11:14.495Z"
   },
   {
    "duration": 32,
    "start_time": "2021-10-07T09:11:14.509Z"
   },
   {
    "duration": 10,
    "start_time": "2021-10-07T09:11:14.660Z"
   },
   {
    "duration": 25,
    "start_time": "2021-10-07T09:11:15.133Z"
   },
   {
    "duration": 399,
    "start_time": "2021-10-07T09:11:15.359Z"
   },
   {
    "duration": 15,
    "start_time": "2021-10-07T09:11:15.760Z"
   },
   {
    "duration": 52,
    "start_time": "2021-10-07T09:11:16.041Z"
   },
   {
    "duration": 158,
    "start_time": "2021-10-07T09:11:16.407Z"
   },
   {
    "duration": 14,
    "start_time": "2021-10-07T09:11:17.127Z"
   },
   {
    "duration": 516,
    "start_time": "2021-10-07T09:11:17.144Z"
   },
   {
    "duration": 13,
    "start_time": "2021-10-07T09:11:17.663Z"
   },
   {
    "duration": 284,
    "start_time": "2021-10-07T09:11:17.920Z"
   },
   {
    "duration": 474,
    "start_time": "2021-10-07T09:11:18.714Z"
   },
   {
    "duration": 328,
    "start_time": "2021-10-07T09:11:28.198Z"
   },
   {
    "duration": 4072,
    "start_time": "2021-10-07T09:11:50.523Z"
   },
   {
    "duration": 1275,
    "start_time": "2021-10-07T09:13:01.865Z"
   },
   {
    "duration": 404,
    "start_time": "2021-10-07T09:13:41.244Z"
   },
   {
    "duration": 495,
    "start_time": "2021-10-07T09:13:59.648Z"
   },
   {
    "duration": 669,
    "start_time": "2021-10-07T09:14:10.167Z"
   },
   {
    "duration": 440,
    "start_time": "2021-10-07T09:14:33.262Z"
   },
   {
    "duration": 730,
    "start_time": "2021-10-07T09:14:51.327Z"
   },
   {
    "duration": 330,
    "start_time": "2021-10-07T09:14:56.930Z"
   },
   {
    "duration": 690,
    "start_time": "2021-10-07T09:15:36.849Z"
   },
   {
    "duration": 547,
    "start_time": "2021-10-07T09:15:37.541Z"
   },
   {
    "duration": 326,
    "start_time": "2021-10-07T11:05:02.558Z"
   },
   {
    "duration": 8,
    "start_time": "2021-10-07T11:05:07.779Z"
   },
   {
    "duration": 10,
    "start_time": "2021-10-07T11:05:16.282Z"
   },
   {
    "duration": 15,
    "start_time": "2021-10-07T11:05:33.015Z"
   },
   {
    "duration": 484,
    "start_time": "2021-10-07T11:05:39.001Z"
   },
   {
    "duration": 7993,
    "start_time": "2021-10-07T11:15:01.230Z"
   },
   {
    "duration": 88,
    "start_time": "2021-10-07T11:15:10.339Z"
   },
   {
    "duration": 21,
    "start_time": "2021-10-07T11:15:20.427Z"
   },
   {
    "duration": 8140,
    "start_time": "2021-10-07T11:15:29.525Z"
   },
   {
    "duration": 40,
    "start_time": "2021-10-07T11:16:15.080Z"
   },
   {
    "duration": 4149,
    "start_time": "2021-10-07T11:16:18.412Z"
   },
   {
    "duration": 38,
    "start_time": "2021-10-07T11:18:33.935Z"
   },
   {
    "duration": 4092,
    "start_time": "2021-10-07T11:18:34.854Z"
   },
   {
    "duration": 15,
    "start_time": "2021-10-07T11:18:54.111Z"
   },
   {
    "duration": 60,
    "start_time": "2021-10-07T11:19:06.550Z"
   },
   {
    "duration": 15,
    "start_time": "2021-10-07T11:19:08.922Z"
   },
   {
    "duration": 41,
    "start_time": "2021-10-07T11:19:28.885Z"
   },
   {
    "duration": 16,
    "start_time": "2021-10-07T11:19:30.265Z"
   },
   {
    "duration": 135,
    "start_time": "2021-10-07T11:25:29.968Z"
   },
   {
    "duration": 15,
    "start_time": "2021-10-07T11:25:31.231Z"
   },
   {
    "duration": 58,
    "start_time": "2021-10-07T11:25:40.557Z"
   },
   {
    "duration": 14,
    "start_time": "2021-10-07T11:25:41.045Z"
   },
   {
    "duration": 6503,
    "start_time": "2021-10-07T11:29:15.820Z"
   },
   {
    "duration": -164,
    "start_time": "2021-10-07T11:29:22.490Z"
   },
   {
    "duration": 5870,
    "start_time": "2021-10-07T11:30:38.773Z"
   },
   {
    "duration": 1480,
    "start_time": "2021-10-07T11:30:53.848Z"
   },
   {
    "duration": 3526,
    "start_time": "2021-10-07T11:30:55.331Z"
   },
   {
    "duration": 14,
    "start_time": "2021-10-07T11:30:58.862Z"
   },
   {
    "duration": 81,
    "start_time": "2021-10-07T11:30:58.879Z"
   },
   {
    "duration": 11,
    "start_time": "2021-10-07T11:30:58.963Z"
   },
   {
    "duration": 82,
    "start_time": "2021-10-07T11:30:58.976Z"
   },
   {
    "duration": 641,
    "start_time": "2021-10-07T11:30:59.061Z"
   },
   {
    "duration": 14,
    "start_time": "2021-10-07T11:30:59.706Z"
   },
   {
    "duration": 137,
    "start_time": "2021-10-07T11:30:59.723Z"
   },
   {
    "duration": 176,
    "start_time": "2021-10-07T11:30:59.863Z"
   },
   {
    "duration": 28,
    "start_time": "2021-10-07T11:31:00.041Z"
   },
   {
    "duration": 566,
    "start_time": "2021-10-07T11:31:00.072Z"
   },
   {
    "duration": 24,
    "start_time": "2021-10-07T11:31:00.640Z"
   },
   {
    "duration": 306,
    "start_time": "2021-10-07T11:31:00.667Z"
   },
   {
    "duration": 710,
    "start_time": "2021-10-07T11:31:00.975Z"
   },
   {
    "duration": 560,
    "start_time": "2021-10-07T11:31:01.687Z"
   },
   {
    "duration": 18,
    "start_time": "2021-10-07T11:31:02.250Z"
   },
   {
    "duration": 509,
    "start_time": "2021-10-07T11:31:02.271Z"
   },
   {
    "duration": 29,
    "start_time": "2021-10-07T11:31:02.782Z"
   },
   {
    "duration": 38,
    "start_time": "2021-10-07T11:31:02.813Z"
   },
   {
    "duration": 1481,
    "start_time": "2021-10-08T07:02:30.575Z"
   },
   {
    "duration": 3690,
    "start_time": "2021-10-08T07:02:32.059Z"
   },
   {
    "duration": 38,
    "start_time": "2021-10-08T07:02:35.753Z"
   },
   {
    "duration": 23,
    "start_time": "2021-10-08T07:02:35.797Z"
   },
   {
    "duration": 63,
    "start_time": "2021-10-08T07:02:35.823Z"
   },
   {
    "duration": 28,
    "start_time": "2021-10-08T07:02:35.889Z"
   },
   {
    "duration": 757,
    "start_time": "2021-10-08T07:02:35.919Z"
   },
   {
    "duration": 21,
    "start_time": "2021-10-08T07:02:36.685Z"
   },
   {
    "duration": 116,
    "start_time": "2021-10-08T07:02:36.709Z"
   },
   {
    "duration": 163,
    "start_time": "2021-10-08T07:02:36.883Z"
   },
   {
    "duration": 45,
    "start_time": "2021-10-08T07:02:37.049Z"
   },
   {
    "duration": 559,
    "start_time": "2021-10-08T07:02:37.096Z"
   },
   {
    "duration": 30,
    "start_time": "2021-10-08T07:02:37.658Z"
   },
   {
    "duration": 317,
    "start_time": "2021-10-08T07:02:37.691Z"
   },
   {
    "duration": 710,
    "start_time": "2021-10-08T07:02:38.011Z"
   },
   {
    "duration": 579,
    "start_time": "2021-10-08T07:02:38.724Z"
   },
   {
    "duration": 14,
    "start_time": "2021-10-08T07:02:39.305Z"
   },
   {
    "duration": 545,
    "start_time": "2021-10-08T07:02:39.321Z"
   },
   {
    "duration": 42,
    "start_time": "2021-10-08T07:02:39.868Z"
   },
   {
    "duration": 24,
    "start_time": "2021-10-08T07:02:39.912Z"
   },
   {
    "duration": 94,
    "start_time": "2021-10-08T07:03:12.503Z"
   },
   {
    "duration": 10,
    "start_time": "2021-10-08T07:03:12.601Z"
   },
   {
    "duration": 4211,
    "start_time": "2021-10-08T07:03:27.355Z"
   },
   {
    "duration": 2438,
    "start_time": "2021-10-08T07:03:29.130Z"
   },
   {
    "duration": 4199,
    "start_time": "2021-10-08T07:05:01.874Z"
   },
   {
    "duration": -3434,
    "start_time": "2021-10-08T07:05:09.509Z"
   },
   {
    "duration": 1476,
    "start_time": "2021-10-08T07:05:21.837Z"
   },
   {
    "duration": 3601,
    "start_time": "2021-10-08T07:05:23.315Z"
   },
   {
    "duration": 14,
    "start_time": "2021-10-08T07:05:26.919Z"
   },
   {
    "duration": 63,
    "start_time": "2021-10-08T07:05:26.936Z"
   },
   {
    "duration": 10,
    "start_time": "2021-10-08T07:05:27.002Z"
   },
   {
    "duration": 85,
    "start_time": "2021-10-08T07:05:27.014Z"
   },
   {
    "duration": 999,
    "start_time": "2021-10-08T07:05:27.103Z"
   },
   {
    "duration": 15,
    "start_time": "2021-10-08T07:05:28.106Z"
   },
   {
    "duration": 98,
    "start_time": "2021-10-08T07:05:28.124Z"
   },
   {
    "duration": 193,
    "start_time": "2021-10-08T07:05:28.224Z"
   },
   {
    "duration": 19,
    "start_time": "2021-10-08T07:05:28.420Z"
   },
   {
    "duration": 607,
    "start_time": "2021-10-08T07:05:28.442Z"
   },
   {
    "duration": 14,
    "start_time": "2021-10-08T07:05:29.051Z"
   },
   {
    "duration": 329,
    "start_time": "2021-10-08T07:05:29.068Z"
   },
   {
    "duration": 726,
    "start_time": "2021-10-08T07:05:29.400Z"
   },
   {
    "duration": 599,
    "start_time": "2021-10-08T07:05:30.128Z"
   },
   {
    "duration": 15,
    "start_time": "2021-10-08T07:05:30.729Z"
   },
   {
    "duration": 526,
    "start_time": "2021-10-08T07:05:30.746Z"
   },
   {
    "duration": 34,
    "start_time": "2021-10-08T07:05:31.274Z"
   },
   {
    "duration": 17,
    "start_time": "2021-10-08T07:05:31.310Z"
   },
   {
    "duration": 4118,
    "start_time": "2021-10-08T07:05:58.411Z"
   },
   {
    "duration": 2419,
    "start_time": "2021-10-08T07:06:00.113Z"
   },
   {
    "duration": 4107,
    "start_time": "2021-10-08T07:19:31.412Z"
   },
   {
    "duration": 1474,
    "start_time": "2021-10-08T07:19:58.285Z"
   },
   {
    "duration": 3956,
    "start_time": "2021-10-08T07:19:59.761Z"
   },
   {
    "duration": 14,
    "start_time": "2021-10-08T07:20:03.720Z"
   },
   {
    "duration": 69,
    "start_time": "2021-10-08T07:20:03.737Z"
   },
   {
    "duration": 14,
    "start_time": "2021-10-08T07:20:03.809Z"
   },
   {
    "duration": 68,
    "start_time": "2021-10-08T07:20:03.826Z"
   },
   {
    "duration": 24,
    "start_time": "2021-10-08T07:20:03.897Z"
   },
   {
    "duration": 794,
    "start_time": "2021-10-08T07:20:03.926Z"
   },
   {
    "duration": 23,
    "start_time": "2021-10-08T07:20:04.723Z"
   },
   {
    "duration": 108,
    "start_time": "2021-10-08T07:20:04.784Z"
   },
   {
    "duration": 199,
    "start_time": "2021-10-08T07:20:04.905Z"
   },
   {
    "duration": 15,
    "start_time": "2021-10-08T07:20:05.106Z"
   },
   {
    "duration": 576,
    "start_time": "2021-10-08T07:20:05.123Z"
   },
   {
    "duration": 14,
    "start_time": "2021-10-08T07:20:05.702Z"
   },
   {
    "duration": 317,
    "start_time": "2021-10-08T07:20:05.718Z"
   },
   {
    "duration": 709,
    "start_time": "2021-10-08T07:20:06.038Z"
   },
   {
    "duration": 584,
    "start_time": "2021-10-08T07:20:06.750Z"
   },
   {
    "duration": 15,
    "start_time": "2021-10-08T07:20:07.337Z"
   },
   {
    "duration": 601,
    "start_time": "2021-10-08T07:20:07.354Z"
   },
   {
    "duration": 43,
    "start_time": "2021-10-08T07:20:07.957Z"
   },
   {
    "duration": 7,
    "start_time": "2021-10-08T07:20:08.003Z"
   },
   {
    "duration": 4,
    "start_time": "2021-10-08T07:20:21.718Z"
   },
   {
    "duration": 3643,
    "start_time": "2021-10-08T07:20:23.187Z"
   },
   {
    "duration": 13,
    "start_time": "2021-10-08T07:20:26.833Z"
   },
   {
    "duration": 60,
    "start_time": "2021-10-08T07:20:26.849Z"
   },
   {
    "duration": 14,
    "start_time": "2021-10-08T07:20:26.912Z"
   },
   {
    "duration": 14,
    "start_time": "2021-10-08T07:20:53.000Z"
   },
   {
    "duration": 534,
    "start_time": "2021-10-08T09:16:37.228Z"
   },
   {
    "duration": 13,
    "start_time": "2021-10-08T10:50:44.068Z"
   },
   {
    "duration": 344,
    "start_time": "2021-10-08T10:50:45.235Z"
   },
   {
    "duration": 365,
    "start_time": "2021-10-08T10:50:55.124Z"
   },
   {
    "duration": 368,
    "start_time": "2021-10-08T10:52:11.102Z"
   },
   {
    "duration": 279,
    "start_time": "2021-10-08T10:53:01.769Z"
   },
   {
    "duration": 1495,
    "start_time": "2021-10-08T10:53:23.012Z"
   },
   {
    "duration": 528,
    "start_time": "2021-10-08T10:54:37.945Z"
   },
   {
    "duration": 15,
    "start_time": "2021-10-08T10:54:59.058Z"
   },
   {
    "duration": 339,
    "start_time": "2021-10-08T10:54:59.613Z"
   },
   {
    "duration": 345,
    "start_time": "2021-10-08T10:55:12.641Z"
   },
   {
    "duration": 388,
    "start_time": "2021-10-08T10:55:43.236Z"
   },
   {
    "duration": 1144,
    "start_time": "2021-10-08T10:56:01.786Z"
   },
   {
    "duration": 292,
    "start_time": "2021-10-08T10:56:38.877Z"
   },
   {
    "duration": 483,
    "start_time": "2021-10-08T11:44:58.071Z"
   },
   {
    "duration": 628,
    "start_time": "2021-10-08T12:04:41.982Z"
   },
   {
    "duration": 606,
    "start_time": "2021-10-08T12:05:28.081Z"
   },
   {
    "duration": 312,
    "start_time": "2021-10-08T12:05:42.810Z"
   },
   {
    "duration": 370,
    "start_time": "2021-10-08T12:07:26.754Z"
   },
   {
    "duration": 1983,
    "start_time": "2021-10-08T12:07:54.250Z"
   },
   {
    "duration": 81,
    "start_time": "2021-10-08T12:07:56.236Z"
   },
   {
    "duration": 14,
    "start_time": "2021-10-08T12:07:56.321Z"
   },
   {
    "duration": 46,
    "start_time": "2021-10-08T12:07:56.338Z"
   },
   {
    "duration": 11,
    "start_time": "2021-10-08T12:07:56.386Z"
   },
   {
    "duration": 42,
    "start_time": "2021-10-08T12:07:56.400Z"
   },
   {
    "duration": 72,
    "start_time": "2021-10-08T12:07:56.445Z"
   },
   {
    "duration": 17,
    "start_time": "2021-10-08T12:07:56.522Z"
   },
   {
    "duration": 83,
    "start_time": "2021-10-08T12:07:56.543Z"
   },
   {
    "duration": 18,
    "start_time": "2021-10-08T12:07:56.629Z"
   },
   {
    "duration": 42,
    "start_time": "2021-10-08T12:07:56.650Z"
   },
   {
    "duration": 515,
    "start_time": "2021-10-08T12:07:56.695Z"
   },
   {
    "duration": 10,
    "start_time": "2021-10-08T12:07:57.213Z"
   },
   {
    "duration": 306,
    "start_time": "2021-10-08T12:07:57.226Z"
   },
   {
    "duration": 32,
    "start_time": "2021-10-08T12:07:57.534Z"
   },
   {
    "duration": 532,
    "start_time": "2021-10-08T12:07:57.583Z"
   },
   {
    "duration": 16,
    "start_time": "2021-10-08T12:07:58.119Z"
   },
   {
    "duration": 528,
    "start_time": "2021-10-08T12:07:58.138Z"
   },
   {
    "duration": 33,
    "start_time": "2021-10-08T12:07:58.668Z"
   },
   {
    "duration": 8,
    "start_time": "2021-10-08T12:07:58.703Z"
   },
   {
    "duration": 1905,
    "start_time": "2021-10-09T15:37:04.552Z"
   },
   {
    "duration": 72,
    "start_time": "2021-10-09T15:37:06.460Z"
   },
   {
    "duration": 14,
    "start_time": "2021-10-09T15:37:06.536Z"
   },
   {
    "duration": 49,
    "start_time": "2021-10-09T15:37:06.554Z"
   },
   {
    "duration": 10,
    "start_time": "2021-10-09T15:37:06.606Z"
   },
   {
    "duration": 26,
    "start_time": "2021-10-09T15:37:06.618Z"
   },
   {
    "duration": 63,
    "start_time": "2021-10-09T15:37:06.646Z"
   },
   {
    "duration": 14,
    "start_time": "2021-10-09T15:37:06.713Z"
   },
   {
    "duration": 73,
    "start_time": "2021-10-09T15:37:06.730Z"
   },
   {
    "duration": 16,
    "start_time": "2021-10-09T15:37:06.805Z"
   },
   {
    "duration": 14,
    "start_time": "2021-10-09T15:37:06.824Z"
   },
   {
    "duration": 516,
    "start_time": "2021-10-09T15:37:06.841Z"
   },
   {
    "duration": 8,
    "start_time": "2021-10-09T15:37:07.360Z"
   },
   {
    "duration": 311,
    "start_time": "2021-10-09T15:37:07.371Z"
   },
   {
    "duration": 31,
    "start_time": "2021-10-09T15:37:07.685Z"
   },
   {
    "duration": 528,
    "start_time": "2021-10-09T15:37:07.719Z"
   },
   {
    "duration": 33,
    "start_time": "2021-10-09T15:37:08.250Z"
   },
   {
    "duration": 470,
    "start_time": "2021-10-09T15:37:08.286Z"
   },
   {
    "duration": 35,
    "start_time": "2021-10-09T15:37:08.759Z"
   },
   {
    "duration": 11,
    "start_time": "2021-10-09T15:37:08.797Z"
   },
   {
    "duration": 14,
    "start_time": "2021-10-09T15:37:08.811Z"
   },
   {
    "duration": 9,
    "start_time": "2021-10-09T15:37:24.368Z"
   },
   {
    "duration": 5879,
    "start_time": "2021-10-09T15:37:54.634Z"
   },
   {
    "duration": 302,
    "start_time": "2021-10-09T15:38:00.214Z"
   },
   {
    "duration": 1811,
    "start_time": "2021-10-09T15:38:07.241Z"
   },
   {
    "duration": 72,
    "start_time": "2021-10-09T15:38:09.055Z"
   },
   {
    "duration": 13,
    "start_time": "2021-10-09T15:38:09.130Z"
   },
   {
    "duration": 39,
    "start_time": "2021-10-09T15:38:09.146Z"
   },
   {
    "duration": 11,
    "start_time": "2021-10-09T15:38:09.187Z"
   },
   {
    "duration": 23,
    "start_time": "2021-10-09T15:38:09.200Z"
   },
   {
    "duration": 65,
    "start_time": "2021-10-09T15:38:09.225Z"
   },
   {
    "duration": 16,
    "start_time": "2021-10-09T15:38:09.293Z"
   },
   {
    "duration": 47,
    "start_time": "2021-10-09T15:38:09.312Z"
   },
   {
    "duration": 16,
    "start_time": "2021-10-09T15:38:09.382Z"
   },
   {
    "duration": 13,
    "start_time": "2021-10-09T15:38:09.400Z"
   },
   {
    "duration": 501,
    "start_time": "2021-10-09T15:38:09.415Z"
   },
   {
    "duration": 7,
    "start_time": "2021-10-09T15:38:09.918Z"
   },
   {
    "duration": 303,
    "start_time": "2021-10-09T15:38:09.927Z"
   },
   {
    "duration": 29,
    "start_time": "2021-10-09T15:38:10.232Z"
   },
   {
    "duration": 499,
    "start_time": "2021-10-09T15:38:10.264Z"
   },
   {
    "duration": 26,
    "start_time": "2021-10-09T15:38:10.765Z"
   },
   {
    "duration": 503,
    "start_time": "2021-10-09T15:38:10.793Z"
   },
   {
    "duration": 28,
    "start_time": "2021-10-09T15:38:11.299Z"
   },
   {
    "duration": 9,
    "start_time": "2021-10-09T15:38:11.329Z"
   },
   {
    "duration": 4482,
    "start_time": "2021-10-09T15:38:11.341Z"
   },
   {
    "duration": 313,
    "start_time": "2021-10-09T15:38:15.512Z"
   },
   {
    "duration": 4525,
    "start_time": "2021-10-09T15:38:21.055Z"
   },
   {
    "duration": 315,
    "start_time": "2021-10-09T15:38:25.267Z"
   },
   {
    "duration": 3,
    "start_time": "2021-10-09T15:38:32.924Z"
   },
   {
    "duration": 3718,
    "start_time": "2021-10-09T15:38:34.112Z"
   },
   {
    "duration": 4,
    "start_time": "2021-10-09T15:38:39.785Z"
   },
   {
    "duration": 3,
    "start_time": "2021-10-09T15:38:40.248Z"
   },
   {
    "duration": 3748,
    "start_time": "2021-10-09T15:38:41.068Z"
   },
   {
    "duration": 310,
    "start_time": "2021-10-09T15:38:44.509Z"
   },
   {
    "duration": 1875,
    "start_time": "2021-10-09T15:38:51.947Z"
   },
   {
    "duration": 69,
    "start_time": "2021-10-09T15:38:53.825Z"
   },
   {
    "duration": 12,
    "start_time": "2021-10-09T15:38:53.897Z"
   },
   {
    "duration": 24,
    "start_time": "2021-10-09T15:38:53.911Z"
   },
   {
    "duration": 10,
    "start_time": "2021-10-09T15:38:53.937Z"
   },
   {
    "duration": 51,
    "start_time": "2021-10-09T15:38:53.950Z"
   },
   {
    "duration": 32,
    "start_time": "2021-10-09T15:38:54.004Z"
   },
   {
    "duration": 44,
    "start_time": "2021-10-09T15:38:54.040Z"
   },
   {
    "duration": 48,
    "start_time": "2021-10-09T15:38:54.088Z"
   },
   {
    "duration": 17,
    "start_time": "2021-10-09T15:38:54.139Z"
   },
   {
    "duration": 37,
    "start_time": "2021-10-09T15:38:54.158Z"
   },
   {
    "duration": 517,
    "start_time": "2021-10-09T15:38:54.197Z"
   },
   {
    "duration": 7,
    "start_time": "2021-10-09T15:38:54.716Z"
   },
   {
    "duration": 297,
    "start_time": "2021-10-09T15:38:54.725Z"
   },
   {
    "duration": 28,
    "start_time": "2021-10-09T15:38:55.024Z"
   },
   {
    "duration": 499,
    "start_time": "2021-10-09T15:38:55.055Z"
   },
   {
    "duration": 28,
    "start_time": "2021-10-09T15:38:55.556Z"
   },
   {
    "duration": 490,
    "start_time": "2021-10-09T15:38:55.586Z"
   },
   {
    "duration": 3,
    "start_time": "2021-10-09T15:38:56.082Z"
   },
   {
    "duration": 10,
    "start_time": "2021-10-09T15:38:56.088Z"
   },
   {
    "duration": 654,
    "start_time": "2021-10-09T15:38:56.100Z"
   },
   {
    "duration": 310,
    "start_time": "2021-10-09T15:38:56.447Z"
   },
   {
    "duration": 299,
    "start_time": "2021-10-09T15:39:28.828Z"
   },
   {
    "duration": 18,
    "start_time": "2021-10-09T15:39:29.290Z"
   },
   {
    "duration": 1854,
    "start_time": "2021-10-09T15:43:21.651Z"
   },
   {
    "duration": 69,
    "start_time": "2021-10-09T15:43:23.507Z"
   },
   {
    "duration": 11,
    "start_time": "2021-10-09T15:43:23.579Z"
   },
   {
    "duration": 21,
    "start_time": "2021-10-09T15:43:23.593Z"
   },
   {
    "duration": 8,
    "start_time": "2021-10-09T15:43:23.616Z"
   },
   {
    "duration": 58,
    "start_time": "2021-10-09T15:43:23.627Z"
   },
   {
    "duration": 29,
    "start_time": "2021-10-09T15:43:23.688Z"
   },
   {
    "duration": 14,
    "start_time": "2021-10-09T15:43:23.721Z"
   },
   {
    "duration": 76,
    "start_time": "2021-10-09T15:43:23.738Z"
   },
   {
    "duration": 13,
    "start_time": "2021-10-09T15:43:23.816Z"
   },
   {
    "duration": 14,
    "start_time": "2021-10-09T15:43:23.832Z"
   },
   {
    "duration": 520,
    "start_time": "2021-10-09T15:43:23.848Z"
   },
   {
    "duration": 15,
    "start_time": "2021-10-09T15:43:24.371Z"
   },
   {
    "duration": 296,
    "start_time": "2021-10-09T15:43:24.388Z"
   },
   {
    "duration": 26,
    "start_time": "2021-10-09T15:43:24.687Z"
   },
   {
    "duration": 503,
    "start_time": "2021-10-09T15:43:24.715Z"
   },
   {
    "duration": 15,
    "start_time": "2021-10-09T15:43:25.220Z"
   },
   {
    "duration": 517,
    "start_time": "2021-10-09T15:43:25.237Z"
   },
   {
    "duration": 4,
    "start_time": "2021-10-09T15:43:25.757Z"
   },
   {
    "duration": 21,
    "start_time": "2021-10-09T15:43:25.764Z"
   },
   {
    "duration": 25,
    "start_time": "2021-10-09T15:43:25.788Z"
   },
   {
    "duration": 24,
    "start_time": "2021-10-09T15:43:25.815Z"
   },
   {
    "duration": 26,
    "start_time": "2021-10-09T15:43:45.870Z"
   },
   {
    "duration": 22,
    "start_time": "2021-10-09T15:43:46.296Z"
   },
   {
    "duration": 34,
    "start_time": "2021-10-09T15:43:52.742Z"
   },
   {
    "duration": 23,
    "start_time": "2021-10-09T15:43:59.652Z"
   },
   {
    "duration": 22,
    "start_time": "2021-10-09T15:43:59.924Z"
   },
   {
    "duration": 23,
    "start_time": "2021-10-09T15:44:17.331Z"
   },
   {
    "duration": 23,
    "start_time": "2021-10-09T15:44:17.695Z"
   },
   {
    "duration": 23,
    "start_time": "2021-10-09T15:44:22.963Z"
   },
   {
    "duration": 25,
    "start_time": "2021-10-09T15:44:24.921Z"
   },
   {
    "duration": 23,
    "start_time": "2021-10-09T15:44:28.695Z"
   },
   {
    "duration": 22,
    "start_time": "2021-10-09T15:44:29.099Z"
   },
   {
    "duration": 27,
    "start_time": "2021-10-09T15:44:47.977Z"
   },
   {
    "duration": 26,
    "start_time": "2021-10-09T15:47:28.188Z"
   },
   {
    "duration": 25,
    "start_time": "2021-10-09T15:47:43.710Z"
   },
   {
    "duration": 24,
    "start_time": "2021-10-09T15:48:10.960Z"
   },
   {
    "duration": 53,
    "start_time": "2021-10-09T15:50:29.077Z"
   },
   {
    "duration": 40,
    "start_time": "2021-10-09T15:50:37.003Z"
   },
   {
    "duration": 25,
    "start_time": "2021-10-09T15:50:45.242Z"
   },
   {
    "duration": 669,
    "start_time": "2021-10-09T15:50:58.128Z"
   },
   {
    "duration": 727,
    "start_time": "2021-10-09T15:51:11.699Z"
   },
   {
    "duration": 18,
    "start_time": "2021-10-09T15:51:24.288Z"
   },
   {
    "duration": 504,
    "start_time": "2021-10-09T15:51:50.194Z"
   },
   {
    "duration": 17,
    "start_time": "2021-10-09T15:52:00.480Z"
   },
   {
    "duration": 408,
    "start_time": "2021-10-09T15:52:02.666Z"
   },
   {
    "duration": 22,
    "start_time": "2021-10-09T15:52:12.025Z"
   },
   {
    "duration": 384,
    "start_time": "2021-10-09T15:55:00.225Z"
   },
   {
    "duration": 17,
    "start_time": "2021-10-09T15:55:06.905Z"
   },
   {
    "duration": 17,
    "start_time": "2021-10-09T15:55:13.534Z"
   },
   {
    "duration": 17,
    "start_time": "2021-10-09T15:55:36.195Z"
   },
   {
    "duration": 530,
    "start_time": "2021-10-09T15:56:11.169Z"
   },
   {
    "duration": 591,
    "start_time": "2021-10-09T15:56:42.409Z"
   },
   {
    "duration": 182,
    "start_time": "2021-10-09T15:57:29.931Z"
   },
   {
    "duration": 305,
    "start_time": "2021-10-09T15:57:35.614Z"
   },
   {
    "duration": 349,
    "start_time": "2021-10-09T15:57:46.367Z"
   },
   {
    "duration": 381,
    "start_time": "2021-10-09T15:57:54.719Z"
   },
   {
    "duration": 19,
    "start_time": "2021-10-09T15:58:11.388Z"
   },
   {
    "duration": 300,
    "start_time": "2021-10-09T15:58:26.034Z"
   },
   {
    "duration": 332,
    "start_time": "2021-10-09T15:58:47.823Z"
   },
   {
    "duration": 16,
    "start_time": "2021-10-09T15:58:54.885Z"
   },
   {
    "duration": 16,
    "start_time": "2021-10-09T15:59:01.261Z"
   },
   {
    "duration": 491,
    "start_time": "2021-10-09T15:59:02.718Z"
   },
   {
    "duration": 495,
    "start_time": "2021-10-09T15:59:15.492Z"
   },
   {
    "duration": 123,
    "start_time": "2021-10-09T15:59:35.709Z"
   },
   {
    "duration": 330,
    "start_time": "2021-10-09T15:59:39.088Z"
   },
   {
    "duration": 485,
    "start_time": "2021-10-09T16:00:02.445Z"
   },
   {
    "duration": 488,
    "start_time": "2021-10-09T16:00:07.876Z"
   },
   {
    "duration": 24,
    "start_time": "2021-10-09T16:00:36.939Z"
   },
   {
    "duration": 482,
    "start_time": "2021-10-09T16:00:40.106Z"
   },
   {
    "duration": 97,
    "start_time": "2021-10-10T07:20:54.142Z"
   },
   {
    "duration": 994,
    "start_time": "2021-10-10T07:21:10.393Z"
   },
   {
    "duration": 1868,
    "start_time": "2021-10-10T07:21:19.412Z"
   },
   {
    "duration": 72,
    "start_time": "2021-10-10T07:21:21.283Z"
   },
   {
    "duration": 21,
    "start_time": "2021-10-10T07:21:21.364Z"
   },
   {
    "duration": 23,
    "start_time": "2021-10-10T07:21:21.388Z"
   },
   {
    "duration": 11,
    "start_time": "2021-10-10T07:21:21.414Z"
   },
   {
    "duration": 71,
    "start_time": "2021-10-10T07:21:21.428Z"
   },
   {
    "duration": 34,
    "start_time": "2021-10-10T07:21:21.504Z"
   },
   {
    "duration": 41,
    "start_time": "2021-10-10T07:21:21.542Z"
   },
   {
    "duration": 51,
    "start_time": "2021-10-10T07:21:21.587Z"
   },
   {
    "duration": 14,
    "start_time": "2021-10-10T07:21:21.641Z"
   },
   {
    "duration": 20,
    "start_time": "2021-10-10T07:21:21.683Z"
   },
   {
    "duration": 512,
    "start_time": "2021-10-10T07:21:21.705Z"
   },
   {
    "duration": 11,
    "start_time": "2021-10-10T07:21:22.219Z"
   },
   {
    "duration": 319,
    "start_time": "2021-10-10T07:21:22.232Z"
   },
   {
    "duration": 36,
    "start_time": "2021-10-10T07:21:22.554Z"
   },
   {
    "duration": 495,
    "start_time": "2021-10-10T07:21:22.592Z"
   },
   {
    "duration": 16,
    "start_time": "2021-10-10T07:21:23.089Z"
   },
   {
    "duration": 538,
    "start_time": "2021-10-10T07:21:23.107Z"
   },
   {
    "duration": 3,
    "start_time": "2021-10-10T07:21:23.647Z"
   },
   {
    "duration": 7,
    "start_time": "2021-10-10T07:21:23.652Z"
   },
   {
    "duration": 40,
    "start_time": "2021-10-10T07:21:23.661Z"
   },
   {
    "duration": 28,
    "start_time": "2021-10-10T07:21:23.705Z"
   },
   {
    "duration": 56,
    "start_time": "2021-10-10T07:21:23.735Z"
   },
   {
    "duration": 16,
    "start_time": "2021-10-10T07:21:23.794Z"
   },
   {
    "duration": 534,
    "start_time": "2021-10-10T07:21:23.812Z"
   },
   {
    "duration": 6670,
    "start_time": "2021-10-10T07:21:24.348Z"
   },
   {
    "duration": 5554,
    "start_time": "2021-10-10T07:22:43.231Z"
   },
   {
    "duration": 1895,
    "start_time": "2021-10-10T07:23:10.758Z"
   },
   {
    "duration": 76,
    "start_time": "2021-10-10T07:23:12.656Z"
   },
   {
    "duration": 13,
    "start_time": "2021-10-10T07:23:12.736Z"
   },
   {
    "duration": 41,
    "start_time": "2021-10-10T07:23:12.752Z"
   },
   {
    "duration": 10,
    "start_time": "2021-10-10T07:23:12.796Z"
   },
   {
    "duration": 26,
    "start_time": "2021-10-10T07:23:12.809Z"
   },
   {
    "duration": 67,
    "start_time": "2021-10-10T07:23:12.837Z"
   },
   {
    "duration": 15,
    "start_time": "2021-10-10T07:23:12.908Z"
   },
   {
    "duration": 71,
    "start_time": "2021-10-10T07:23:12.926Z"
   },
   {
    "duration": 15,
    "start_time": "2021-10-10T07:23:12.999Z"
   },
   {
    "duration": 23,
    "start_time": "2021-10-10T07:23:13.016Z"
   },
   {
    "duration": 520,
    "start_time": "2021-10-10T07:23:13.041Z"
   },
   {
    "duration": 18,
    "start_time": "2021-10-10T07:23:13.564Z"
   },
   {
    "duration": 304,
    "start_time": "2021-10-10T07:23:13.585Z"
   },
   {
    "duration": 29,
    "start_time": "2021-10-10T07:23:13.892Z"
   },
   {
    "duration": 507,
    "start_time": "2021-10-10T07:23:13.923Z"
   },
   {
    "duration": 16,
    "start_time": "2021-10-10T07:23:14.432Z"
   },
   {
    "duration": 510,
    "start_time": "2021-10-10T07:23:14.451Z"
   },
   {
    "duration": 3,
    "start_time": "2021-10-10T07:23:14.963Z"
   },
   {
    "duration": 15,
    "start_time": "2021-10-10T07:23:14.969Z"
   },
   {
    "duration": 25,
    "start_time": "2021-10-10T07:23:14.987Z"
   },
   {
    "duration": 31,
    "start_time": "2021-10-10T07:23:15.014Z"
   },
   {
    "duration": 60,
    "start_time": "2021-10-10T07:23:15.049Z"
   },
   {
    "duration": 16,
    "start_time": "2021-10-10T07:23:15.111Z"
   },
   {
    "duration": 540,
    "start_time": "2021-10-10T07:23:15.129Z"
   },
   {
    "duration": 5406,
    "start_time": "2021-10-10T07:23:15.671Z"
   },
   {
    "duration": 6594,
    "start_time": "2021-10-10T07:25:46.152Z"
   },
   {
    "duration": 5803,
    "start_time": "2021-10-10T07:27:27.891Z"
   },
   {
    "duration": 532,
    "start_time": "2021-10-10T07:29:41.363Z"
   },
   {
    "duration": 5946,
    "start_time": "2021-10-10T07:35:05.679Z"
   },
   {
    "duration": 6755,
    "start_time": "2021-10-10T07:36:19.352Z"
   },
   {
    "duration": 618,
    "start_time": "2021-10-10T07:37:28.558Z"
   },
   {
    "duration": 861,
    "start_time": "2021-10-10T07:37:46.634Z"
   },
   {
    "duration": 5608,
    "start_time": "2021-10-10T07:37:51.992Z"
   },
   {
    "duration": 268,
    "start_time": "2021-10-10T07:40:25.502Z"
   },
   {
    "duration": 1091,
    "start_time": "2021-10-11T12:51:22.889Z"
   },
   {
    "duration": 2095,
    "start_time": "2021-10-11T12:51:29.460Z"
   },
   {
    "duration": 86,
    "start_time": "2021-10-11T12:51:31.557Z"
   },
   {
    "duration": 19,
    "start_time": "2021-10-11T12:51:31.646Z"
   },
   {
    "duration": 31,
    "start_time": "2021-10-11T12:51:31.668Z"
   },
   {
    "duration": 14,
    "start_time": "2021-10-11T12:51:31.702Z"
   },
   {
    "duration": 62,
    "start_time": "2021-10-11T12:51:31.720Z"
   },
   {
    "duration": 36,
    "start_time": "2021-10-11T12:51:31.785Z"
   },
   {
    "duration": 46,
    "start_time": "2021-10-11T12:51:31.825Z"
   },
   {
    "duration": 61,
    "start_time": "2021-10-11T12:51:31.875Z"
   },
   {
    "duration": 24,
    "start_time": "2021-10-11T12:51:31.939Z"
   },
   {
    "duration": 40,
    "start_time": "2021-10-11T12:51:31.965Z"
   },
   {
    "duration": 611,
    "start_time": "2021-10-11T12:51:32.008Z"
   },
   {
    "duration": 13,
    "start_time": "2021-10-11T12:51:32.621Z"
   },
   {
    "duration": 339,
    "start_time": "2021-10-11T12:51:32.637Z"
   },
   {
    "duration": 29,
    "start_time": "2021-10-11T12:51:32.979Z"
   },
   {
    "duration": 520,
    "start_time": "2021-10-11T12:51:33.010Z"
   },
   {
    "duration": 28,
    "start_time": "2021-10-11T12:51:33.533Z"
   },
   {
    "duration": 518,
    "start_time": "2021-10-11T12:51:33.563Z"
   },
   {
    "duration": 3,
    "start_time": "2021-10-11T12:51:34.083Z"
   },
   {
    "duration": 24,
    "start_time": "2021-10-11T12:51:34.088Z"
   },
   {
    "duration": 346,
    "start_time": "2021-10-11T12:51:34.115Z"
   },
   {
    "duration": 27,
    "start_time": "2021-10-11T12:51:34.464Z"
   },
   {
    "duration": 499,
    "start_time": "2021-10-11T12:51:34.494Z"
   },
   {
    "duration": -2,
    "start_time": "2021-10-11T12:51:34.998Z"
   },
   {
    "duration": -10,
    "start_time": "2021-10-11T12:51:35.008Z"
   },
   {
    "duration": -13,
    "start_time": "2021-10-11T12:51:35.014Z"
   },
   {
    "duration": 35,
    "start_time": "2021-10-11T12:51:57.549Z"
   },
   {
    "duration": 17,
    "start_time": "2021-10-11T12:52:00.920Z"
   },
   {
    "duration": 395,
    "start_time": "2021-10-11T12:52:03.747Z"
   },
   {
    "duration": 544,
    "start_time": "2021-10-11T12:52:11.953Z"
   },
   {
    "duration": 6731,
    "start_time": "2021-10-11T12:52:25.681Z"
   },
   {
    "duration": 464,
    "start_time": "2021-10-11T12:54:58.847Z"
   },
   {
    "duration": 819,
    "start_time": "2021-10-11T12:55:34.300Z"
   },
   {
    "duration": 6292,
    "start_time": "2021-10-11T12:55:40.160Z"
   },
   {
    "duration": 5823,
    "start_time": "2021-10-11T12:55:51.725Z"
   },
   {
    "duration": 6656,
    "start_time": "2021-10-11T12:56:21.018Z"
   },
   {
    "duration": 920,
    "start_time": "2021-10-11T12:56:56.689Z"
   },
   {
    "duration": 6424,
    "start_time": "2021-10-11T12:57:05.239Z"
   },
   {
    "duration": 6424,
    "start_time": "2021-10-11T12:57:19.188Z"
   },
   {
    "duration": 998,
    "start_time": "2021-10-11T12:58:48.500Z"
   },
   {
    "duration": 766,
    "start_time": "2021-10-11T12:59:05.488Z"
   },
   {
    "duration": 6436,
    "start_time": "2021-10-11T13:06:37.603Z"
   },
   {
    "duration": 278,
    "start_time": "2021-10-11T13:31:35.747Z"
   },
   {
    "duration": 278,
    "start_time": "2021-10-11T13:31:46.671Z"
   },
   {
    "duration": 790,
    "start_time": "2021-10-11T13:32:27.496Z"
   },
   {
    "duration": 334,
    "start_time": "2021-10-11T13:36:57.715Z"
   },
   {
    "duration": 1982,
    "start_time": "2021-10-11T13:37:16.116Z"
   },
   {
    "duration": 76,
    "start_time": "2021-10-11T13:37:18.100Z"
   },
   {
    "duration": 13,
    "start_time": "2021-10-11T13:37:18.180Z"
   },
   {
    "duration": 34,
    "start_time": "2021-10-11T13:37:18.196Z"
   },
   {
    "duration": 36,
    "start_time": "2021-10-11T13:37:18.233Z"
   },
   {
    "duration": 25,
    "start_time": "2021-10-11T13:37:18.271Z"
   },
   {
    "duration": 64,
    "start_time": "2021-10-11T13:37:18.299Z"
   },
   {
    "duration": 15,
    "start_time": "2021-10-11T13:37:18.367Z"
   },
   {
    "duration": 90,
    "start_time": "2021-10-11T13:37:18.385Z"
   },
   {
    "duration": 15,
    "start_time": "2021-10-11T13:37:18.477Z"
   },
   {
    "duration": 26,
    "start_time": "2021-10-11T13:37:18.494Z"
   },
   {
    "duration": 516,
    "start_time": "2021-10-11T13:37:18.522Z"
   },
   {
    "duration": 19,
    "start_time": "2021-10-11T13:37:19.040Z"
   },
   {
    "duration": 328,
    "start_time": "2021-10-11T13:37:19.062Z"
   },
   {
    "duration": 27,
    "start_time": "2021-10-11T13:37:19.392Z"
   },
   {
    "duration": 506,
    "start_time": "2021-10-11T13:37:19.422Z"
   },
   {
    "duration": 28,
    "start_time": "2021-10-11T13:37:19.931Z"
   },
   {
    "duration": 530,
    "start_time": "2021-10-11T13:37:19.961Z"
   },
   {
    "duration": 4,
    "start_time": "2021-10-11T13:37:20.494Z"
   },
   {
    "duration": 21,
    "start_time": "2021-10-11T13:37:20.501Z"
   },
   {
    "duration": 342,
    "start_time": "2021-10-11T13:37:20.525Z"
   },
   {
    "duration": 32,
    "start_time": "2021-10-11T13:37:20.870Z"
   },
   {
    "duration": 52,
    "start_time": "2021-10-11T13:37:20.907Z"
   },
   {
    "duration": 17,
    "start_time": "2021-10-11T13:37:20.962Z"
   },
   {
    "duration": 563,
    "start_time": "2021-10-11T13:37:20.981Z"
   },
   {
    "duration": 977,
    "start_time": "2021-10-11T13:37:21.547Z"
   },
   {
    "duration": 722,
    "start_time": "2021-10-11T13:37:22.526Z"
   },
   {
    "duration": -30,
    "start_time": "2021-10-11T13:37:23.281Z"
   },
   {
    "duration": 519,
    "start_time": "2021-10-11T13:37:29.753Z"
   },
   {
    "duration": 798,
    "start_time": "2021-10-11T13:37:44.128Z"
   },
   {
    "duration": 347,
    "start_time": "2021-10-11T13:37:44.929Z"
   },
   {
    "duration": 368,
    "start_time": "2021-10-11T13:38:12.360Z"
   },
   {
    "duration": 801,
    "start_time": "2021-10-11T13:42:08.345Z"
   },
   {
    "duration": 908,
    "start_time": "2021-10-11T13:42:13.639Z"
   },
   {
    "duration": 334,
    "start_time": "2021-10-11T13:42:21.359Z"
   },
   {
    "duration": 335,
    "start_time": "2021-10-11T13:42:30.172Z"
   },
   {
    "duration": 31,
    "start_time": "2021-10-11T13:42:31.621Z"
   },
   {
    "duration": 35,
    "start_time": "2021-10-11T13:42:35.871Z"
   },
   {
    "duration": 17,
    "start_time": "2021-10-11T13:42:36.240Z"
   },
   {
    "duration": 535,
    "start_time": "2021-10-11T13:42:36.847Z"
   },
   {
    "duration": 881,
    "start_time": "2021-10-11T13:42:37.385Z"
   },
   {
    "duration": 52,
    "start_time": "2021-10-11T13:42:38.269Z"
   },
   {
    "duration": 371,
    "start_time": "2021-10-11T13:42:40.688Z"
   },
   {
    "duration": 56,
    "start_time": "2021-10-11T13:55:28.119Z"
   },
   {
    "duration": 346,
    "start_time": "2021-10-11T13:55:29.189Z"
   },
   {
    "duration": 8783,
    "start_time": "2021-10-11T13:55:42.454Z"
   },
   {
    "duration": 27,
    "start_time": "2021-10-11T13:56:03.348Z"
   },
   {
    "duration": 378,
    "start_time": "2021-10-12T08:55:15.229Z"
   },
   {
    "duration": 1936,
    "start_time": "2021-10-12T08:55:20.655Z"
   },
   {
    "duration": 75,
    "start_time": "2021-10-12T08:55:22.594Z"
   },
   {
    "duration": 18,
    "start_time": "2021-10-12T08:55:22.673Z"
   },
   {
    "duration": 32,
    "start_time": "2021-10-12T08:55:22.695Z"
   },
   {
    "duration": 11,
    "start_time": "2021-10-12T08:55:22.729Z"
   },
   {
    "duration": 61,
    "start_time": "2021-10-12T08:55:22.743Z"
   },
   {
    "duration": 37,
    "start_time": "2021-10-12T08:55:22.807Z"
   },
   {
    "duration": 48,
    "start_time": "2021-10-12T08:55:22.847Z"
   },
   {
    "duration": 84,
    "start_time": "2021-10-12T08:55:22.898Z"
   },
   {
    "duration": 14,
    "start_time": "2021-10-12T08:55:22.985Z"
   },
   {
    "duration": 23,
    "start_time": "2021-10-12T08:55:23.002Z"
   },
   {
    "duration": 614,
    "start_time": "2021-10-12T08:55:23.027Z"
   },
   {
    "duration": 13,
    "start_time": "2021-10-12T08:55:23.644Z"
   },
   {
    "duration": 338,
    "start_time": "2021-10-12T08:55:23.660Z"
   },
   {
    "duration": 29,
    "start_time": "2021-10-12T08:55:24.002Z"
   },
   {
    "duration": 507,
    "start_time": "2021-10-12T08:55:24.034Z"
   },
   {
    "duration": 17,
    "start_time": "2021-10-12T08:55:24.545Z"
   },
   {
    "duration": 481,
    "start_time": "2021-10-12T08:55:24.582Z"
   },
   {
    "duration": 16,
    "start_time": "2021-10-12T08:55:25.066Z"
   },
   {
    "duration": 12,
    "start_time": "2021-10-12T08:55:25.085Z"
   },
   {
    "duration": 350,
    "start_time": "2021-10-12T08:55:25.100Z"
   },
   {
    "duration": 38,
    "start_time": "2021-10-12T08:55:25.453Z"
   },
   {
    "duration": 453,
    "start_time": "2021-10-12T08:55:25.498Z"
   },
   {
    "duration": -41,
    "start_time": "2021-10-12T08:55:25.996Z"
   },
   {
    "duration": -47,
    "start_time": "2021-10-12T08:55:26.003Z"
   },
   {
    "duration": -50,
    "start_time": "2021-10-12T08:55:26.009Z"
   },
   {
    "duration": -61,
    "start_time": "2021-10-12T08:55:26.022Z"
   },
   {
    "duration": -64,
    "start_time": "2021-10-12T08:55:26.027Z"
   },
   {
    "duration": 74,
    "start_time": "2021-10-12T08:55:52.833Z"
   },
   {
    "duration": 14,
    "start_time": "2021-10-12T08:55:56.402Z"
   },
   {
    "duration": 25,
    "start_time": "2021-10-12T08:55:57.779Z"
   },
   {
    "duration": 80,
    "start_time": "2021-10-12T08:59:12.638Z"
   },
   {
    "duration": 14,
    "start_time": "2021-10-12T08:59:13.243Z"
   },
   {
    "duration": 25,
    "start_time": "2021-10-12T08:59:14.288Z"
   },
   {
    "duration": 484,
    "start_time": "2021-10-12T08:59:17.563Z"
   },
   {
    "duration": 71,
    "start_time": "2021-10-12T08:59:52.076Z"
   },
   {
    "duration": 16,
    "start_time": "2021-10-12T08:59:52.621Z"
   },
   {
    "duration": 23,
    "start_time": "2021-10-12T08:59:53.521Z"
   },
   {
    "duration": 69,
    "start_time": "2021-10-12T09:01:32.489Z"
   },
   {
    "duration": 14,
    "start_time": "2021-10-12T09:01:32.941Z"
   },
   {
    "duration": 24,
    "start_time": "2021-10-12T09:01:33.785Z"
   },
   {
    "duration": 472,
    "start_time": "2021-10-12T09:02:00.430Z"
   },
   {
    "duration": 13,
    "start_time": "2021-10-12T09:02:01.327Z"
   },
   {
    "duration": 317,
    "start_time": "2021-10-12T09:02:01.681Z"
   },
   {
    "duration": 26,
    "start_time": "2021-10-12T09:02:02.508Z"
   },
   {
    "duration": 589,
    "start_time": "2021-10-12T09:02:07.426Z"
   },
   {
    "duration": 16,
    "start_time": "2021-10-12T09:02:09.935Z"
   },
   {
    "duration": 482,
    "start_time": "2021-10-12T09:02:10.279Z"
   },
   {
    "duration": 339,
    "start_time": "2021-10-12T09:02:52.469Z"
   },
   {
    "duration": 28,
    "start_time": "2021-10-12T09:02:52.810Z"
   },
   {
    "duration": 30,
    "start_time": "2021-10-12T09:02:53.181Z"
   },
   {
    "duration": 18,
    "start_time": "2021-10-12T09:02:53.582Z"
   },
   {
    "duration": 527,
    "start_time": "2021-10-12T09:02:53.916Z"
   },
   {
    "duration": 1499,
    "start_time": "2021-10-12T09:02:54.465Z"
   },
   {
    "duration": 301,
    "start_time": "2021-10-12T09:02:55.967Z"
   },
   {
    "duration": 325,
    "start_time": "2021-10-12T09:02:56.955Z"
   },
   {
    "duration": 308,
    "start_time": "2021-10-12T09:03:07.574Z"
   },
   {
    "duration": 321,
    "start_time": "2021-10-12T09:03:19.703Z"
   },
   {
    "duration": 982,
    "start_time": "2021-10-12T09:03:25.467Z"
   },
   {
    "duration": 306,
    "start_time": "2021-10-12T09:03:26.452Z"
   },
   {
    "duration": 592,
    "start_time": "2021-10-12T09:03:27.544Z"
   },
   {
    "duration": 349,
    "start_time": "2021-10-12T09:04:12.770Z"
   },
   {
    "duration": 338,
    "start_time": "2021-10-12T09:04:30.839Z"
   },
   {
    "duration": 29,
    "start_time": "2021-10-12T09:04:31.196Z"
   },
   {
    "duration": 35,
    "start_time": "2021-10-12T09:04:31.655Z"
   },
   {
    "duration": 19,
    "start_time": "2021-10-12T09:04:32.053Z"
   },
   {
    "duration": 634,
    "start_time": "2021-10-12T09:04:32.456Z"
   },
   {
    "duration": 918,
    "start_time": "2021-10-12T09:04:33.329Z"
   },
   {
    "duration": 54,
    "start_time": "2021-10-12T09:04:34.250Z"
   },
   {
    "duration": 36,
    "start_time": "2021-10-12T09:04:37.209Z"
   },
   {
    "duration": 19,
    "start_time": "2021-10-12T09:04:45.556Z"
   },
   {
    "duration": 25,
    "start_time": "2021-10-12T09:09:47.352Z"
   },
   {
    "duration": 28,
    "start_time": "2021-10-12T09:10:12.070Z"
   },
   {
    "duration": 39,
    "start_time": "2021-10-12T09:10:24.526Z"
   },
   {
    "duration": 31,
    "start_time": "2021-10-12T09:11:25.127Z"
   },
   {
    "duration": 36,
    "start_time": "2021-10-12T09:11:43.255Z"
   },
   {
    "duration": 30,
    "start_time": "2021-10-12T09:12:11.185Z"
   },
   {
    "duration": 106,
    "start_time": "2021-10-12T11:15:44.589Z"
   },
   {
    "duration": 501,
    "start_time": "2021-10-12T11:15:49.854Z"
   },
   {
    "duration": 729,
    "start_time": "2021-10-12T11:16:31.961Z"
   },
   {
    "duration": 738,
    "start_time": "2021-10-12T11:16:42.688Z"
   },
   {
    "duration": 545,
    "start_time": "2021-10-12T11:17:09.148Z"
   },
   {
    "duration": 516,
    "start_time": "2021-10-12T11:17:19.969Z"
   },
   {
    "duration": 526,
    "start_time": "2021-10-12T11:17:29.159Z"
   },
   {
    "duration": 644,
    "start_time": "2021-10-12T11:21:05.884Z"
   },
   {
    "duration": 542,
    "start_time": "2021-10-12T11:21:13.017Z"
   },
   {
    "duration": 538,
    "start_time": "2021-10-12T11:22:18.335Z"
   },
   {
    "duration": 30,
    "start_time": "2021-10-12T11:23:41.751Z"
   },
   {
    "duration": 310,
    "start_time": "2021-10-12T11:30:19.420Z"
   },
   {
    "duration": 28,
    "start_time": "2021-10-12T11:30:42.095Z"
   },
   {
    "duration": 26,
    "start_time": "2021-10-12T11:30:52.918Z"
   },
   {
    "duration": 28,
    "start_time": "2021-10-12T11:31:02.271Z"
   },
   {
    "duration": 4,
    "start_time": "2021-10-12T11:31:12.923Z"
   },
   {
    "duration": 3484,
    "start_time": "2021-10-12T11:31:15.438Z"
   },
   {
    "duration": 15,
    "start_time": "2021-10-12T11:31:18.925Z"
   },
   {
    "duration": 350,
    "start_time": "2021-10-12T11:31:21.346Z"
   },
   {
    "duration": 14,
    "start_time": "2021-10-12T11:31:26.365Z"
   },
   {
    "duration": 74,
    "start_time": "2021-10-12T11:31:27.116Z"
   },
   {
    "duration": 141,
    "start_time": "2021-10-12T11:31:32.991Z"
   },
   {
    "duration": 169,
    "start_time": "2021-10-12T11:35:48.775Z"
   },
   {
    "duration": 81,
    "start_time": "2021-10-12T11:52:37.929Z"
   },
   {
    "duration": 139,
    "start_time": "2021-10-12T11:52:38.884Z"
   },
   {
    "duration": 165,
    "start_time": "2021-10-12T11:52:41.809Z"
   },
   {
    "duration": 25,
    "start_time": "2021-10-12T11:52:43.442Z"
   },
   {
    "duration": 172,
    "start_time": "2021-10-12T12:05:03.637Z"
   },
   {
    "duration": 166,
    "start_time": "2021-10-12T12:07:42.256Z"
   },
   {
    "duration": 97,
    "start_time": "2021-10-12T12:23:45.440Z"
   },
   {
    "duration": 193,
    "start_time": "2021-10-12T12:23:58.119Z"
   },
   {
    "duration": 175,
    "start_time": "2021-10-12T12:28:25.697Z"
   },
   {
    "duration": 180,
    "start_time": "2021-10-12T12:35:33.878Z"
   },
   {
    "duration": 89,
    "start_time": "2021-10-12T12:36:40.276Z"
   },
   {
    "duration": 135,
    "start_time": "2021-10-12T12:36:41.114Z"
   },
   {
    "duration": 171,
    "start_time": "2021-10-12T12:36:42.501Z"
   },
   {
    "duration": 175,
    "start_time": "2021-10-12T12:37:22.107Z"
   },
   {
    "duration": 179,
    "start_time": "2021-10-12T12:38:02.995Z"
   },
   {
    "duration": 181,
    "start_time": "2021-10-12T12:43:56.821Z"
   },
   {
    "duration": 194,
    "start_time": "2021-10-12T12:54:05.395Z"
   },
   {
    "duration": 177,
    "start_time": "2021-10-12T12:57:12.213Z"
   },
   {
    "duration": 192,
    "start_time": "2021-10-12T13:25:05.495Z"
   },
   {
    "duration": 186,
    "start_time": "2021-10-12T13:35:15.907Z"
   },
   {
    "duration": 1973,
    "start_time": "2021-10-12T13:40:20.949Z"
   },
   {
    "duration": 74,
    "start_time": "2021-10-12T13:40:22.925Z"
   },
   {
    "duration": 15,
    "start_time": "2021-10-12T13:40:23.003Z"
   },
   {
    "duration": 24,
    "start_time": "2021-10-12T13:40:23.022Z"
   },
   {
    "duration": 44,
    "start_time": "2021-10-12T13:40:23.049Z"
   },
   {
    "duration": 31,
    "start_time": "2021-10-12T13:40:23.096Z"
   },
   {
    "duration": 65,
    "start_time": "2021-10-12T13:40:23.130Z"
   },
   {
    "duration": 14,
    "start_time": "2021-10-12T13:40:23.200Z"
   },
   {
    "duration": 103,
    "start_time": "2021-10-12T13:40:23.217Z"
   },
   {
    "duration": 13,
    "start_time": "2021-10-12T13:40:23.323Z"
   },
   {
    "duration": 80,
    "start_time": "2021-10-12T13:40:23.339Z"
   },
   {
    "duration": 24,
    "start_time": "2021-10-12T13:40:23.421Z"
   },
   {
    "duration": 501,
    "start_time": "2021-10-12T13:40:23.447Z"
   },
   {
    "duration": 13,
    "start_time": "2021-10-12T13:40:23.950Z"
   },
   {
    "duration": 109,
    "start_time": "2021-10-12T13:40:23.965Z"
   },
   {
    "duration": 50,
    "start_time": "2021-10-12T13:40:24.026Z"
   },
   {
    "duration": 47,
    "start_time": "2021-10-12T13:40:24.031Z"
   },
   {
    "duration": 43,
    "start_time": "2021-10-12T13:40:24.036Z"
   },
   {
    "duration": 18,
    "start_time": "2021-10-12T13:40:24.063Z"
   },
   {
    "duration": 13,
    "start_time": "2021-10-12T13:40:24.069Z"
   },
   {
    "duration": 11,
    "start_time": "2021-10-12T13:40:24.073Z"
   },
   {
    "duration": 4,
    "start_time": "2021-10-12T13:40:24.081Z"
   },
   {
    "duration": 2,
    "start_time": "2021-10-12T13:40:24.085Z"
   },
   {
    "duration": 0,
    "start_time": "2021-10-12T13:40:24.088Z"
   },
   {
    "duration": -14,
    "start_time": "2021-10-12T13:40:24.104Z"
   },
   {
    "duration": -18,
    "start_time": "2021-10-12T13:40:24.109Z"
   },
   {
    "duration": -21,
    "start_time": "2021-10-12T13:40:24.114Z"
   },
   {
    "duration": -24,
    "start_time": "2021-10-12T13:40:24.118Z"
   },
   {
    "duration": -27,
    "start_time": "2021-10-12T13:40:24.122Z"
   },
   {
    "duration": 508,
    "start_time": "2021-10-12T13:45:06.942Z"
   },
   {
    "duration": 106,
    "start_time": "2021-10-12T13:45:14.391Z"
   },
   {
    "duration": 301,
    "start_time": "2021-10-12T13:45:21.639Z"
   },
   {
    "duration": 30,
    "start_time": "2021-10-12T13:45:23.009Z"
   },
   {
    "duration": 487,
    "start_time": "2021-10-12T13:45:23.431Z"
   },
   {
    "duration": 409,
    "start_time": "2021-10-12T13:45:24.881Z"
   },
   {
    "duration": 2185,
    "start_time": "2021-10-12T13:46:06.812Z"
   },
   {
    "duration": 438,
    "start_time": "2021-10-12T13:46:37.956Z"
   },
   {
    "duration": 17,
    "start_time": "2021-10-12T13:50:58.091Z"
   },
   {
    "duration": 474,
    "start_time": "2021-10-12T13:50:58.426Z"
   },
   {
    "duration": 1494,
    "start_time": "2021-10-13T08:17:26.308Z"
   },
   {
    "duration": 55,
    "start_time": "2021-10-13T08:17:27.804Z"
   },
   {
    "duration": 8,
    "start_time": "2021-10-13T08:17:27.861Z"
   },
   {
    "duration": 15,
    "start_time": "2021-10-13T08:17:27.871Z"
   },
   {
    "duration": 7,
    "start_time": "2021-10-13T08:17:27.887Z"
   },
   {
    "duration": 25,
    "start_time": "2021-10-13T08:17:27.895Z"
   },
   {
    "duration": 31,
    "start_time": "2021-10-13T08:17:27.922Z"
   },
   {
    "duration": 65,
    "start_time": "2021-10-13T08:17:27.954Z"
   },
   {
    "duration": 10,
    "start_time": "2021-10-13T08:17:28.021Z"
   },
   {
    "duration": 49,
    "start_time": "2021-10-13T08:17:28.033Z"
   },
   {
    "duration": 21,
    "start_time": "2021-10-13T08:17:28.084Z"
   },
   {
    "duration": 16,
    "start_time": "2021-10-13T08:17:28.107Z"
   },
   {
    "duration": 288,
    "start_time": "2021-10-13T08:17:28.145Z"
   },
   {
    "duration": 15,
    "start_time": "2021-10-13T08:17:28.435Z"
   },
   {
    "duration": 194,
    "start_time": "2021-10-13T08:17:28.452Z"
   },
   {
    "duration": 16,
    "start_time": "2021-10-13T08:17:28.648Z"
   },
   {
    "duration": 302,
    "start_time": "2021-10-13T08:17:28.666Z"
   },
   {
    "duration": 259,
    "start_time": "2021-10-13T08:17:28.970Z"
   },
   {
    "duration": 21,
    "start_time": "2021-10-13T08:17:29.232Z"
   },
   {
    "duration": 296,
    "start_time": "2021-10-13T08:17:29.255Z"
   },
   {
    "duration": 295,
    "start_time": "2021-10-13T08:17:29.553Z"
   },
   {
    "duration": 21,
    "start_time": "2021-10-13T08:17:29.857Z"
   },
   {
    "duration": 39,
    "start_time": "2021-10-13T08:17:29.880Z"
   },
   {
    "duration": 30,
    "start_time": "2021-10-13T08:17:29.921Z"
   },
   {
    "duration": 330,
    "start_time": "2021-10-13T08:17:29.953Z"
   },
   {
    "duration": 1170,
    "start_time": "2021-10-13T08:17:30.285Z"
   },
   {
    "duration": 35,
    "start_time": "2021-10-13T08:17:31.459Z"
   },
   {
    "duration": 27,
    "start_time": "2021-10-13T08:17:31.496Z"
   },
   {
    "duration": 18,
    "start_time": "2021-10-13T08:22:15.816Z"
   },
   {
    "duration": 19,
    "start_time": "2021-10-13T08:24:21.549Z"
   },
   {
    "duration": 24,
    "start_time": "2021-10-13T08:24:32.409Z"
   },
   {
    "duration": 20,
    "start_time": "2021-10-13T08:24:40.267Z"
   },
   {
    "duration": 19,
    "start_time": "2021-10-13T08:24:47.670Z"
   },
   {
    "duration": 18,
    "start_time": "2021-10-13T08:24:52.377Z"
   },
   {
    "duration": 17,
    "start_time": "2021-10-13T08:24:58.881Z"
   },
   {
    "duration": 21,
    "start_time": "2021-10-13T08:25:02.857Z"
   },
   {
    "duration": 20,
    "start_time": "2021-10-13T08:25:07.316Z"
   },
   {
    "duration": 19,
    "start_time": "2021-10-13T08:25:11.368Z"
   },
   {
    "duration": 113,
    "start_time": "2021-10-13T08:27:31.643Z"
   },
   {
    "duration": 71,
    "start_time": "2021-10-13T08:27:44.256Z"
   },
   {
    "duration": 90,
    "start_time": "2021-10-13T08:28:08.926Z"
   },
   {
    "duration": 73,
    "start_time": "2021-10-13T08:28:24.103Z"
   },
   {
    "duration": 74,
    "start_time": "2021-10-13T08:28:37.671Z"
   },
   {
    "duration": 73,
    "start_time": "2021-10-13T08:28:49.747Z"
   },
   {
    "duration": 90,
    "start_time": "2021-10-13T08:29:46.100Z"
   },
   {
    "duration": 71,
    "start_time": "2021-10-13T08:30:01.230Z"
   },
   {
    "duration": 12,
    "start_time": "2021-10-13T08:31:14.169Z"
   },
   {
    "duration": 12,
    "start_time": "2021-10-13T08:56:51.484Z"
   },
   {
    "duration": 896,
    "start_time": "2021-10-13T08:56:52.311Z"
   },
   {
    "duration": 5868,
    "start_time": "2021-10-13T08:56:53.287Z"
   },
   {
    "duration": 548,
    "start_time": "2021-10-13T08:56:58.609Z"
   },
   {
    "duration": 9,
    "start_time": "2021-10-13T08:57:01.310Z"
   },
   {
    "duration": 6,
    "start_time": "2021-10-13T08:57:02.344Z"
   },
   {
    "duration": 507,
    "start_time": "2021-10-13T08:57:09.554Z"
   },
   {
    "duration": 337,
    "start_time": "2021-10-13T08:57:29.390Z"
   },
   {
    "duration": 364,
    "start_time": "2021-10-13T09:13:14.070Z"
   },
   {
    "duration": 296,
    "start_time": "2021-10-13T09:13:41.910Z"
   },
   {
    "duration": 14,
    "start_time": "2021-10-13T09:14:47.035Z"
   },
   {
    "duration": 17,
    "start_time": "2021-10-13T09:15:02.390Z"
   },
   {
    "duration": 11,
    "start_time": "2021-10-13T09:15:10.875Z"
   },
   {
    "duration": 22,
    "start_time": "2021-10-13T09:17:46.135Z"
   },
   {
    "duration": 24,
    "start_time": "2021-10-13T09:19:10.057Z"
   },
   {
    "duration": 26,
    "start_time": "2021-10-13T09:19:40.894Z"
   },
   {
    "duration": 180,
    "start_time": "2021-10-13T11:44:22.205Z"
   },
   {
    "duration": 9,
    "start_time": "2021-10-13T11:44:41.203Z"
   },
   {
    "duration": 19,
    "start_time": "2021-10-13T11:50:03.152Z"
   },
   {
    "duration": 282,
    "start_time": "2021-10-13T11:50:26.568Z"
   },
   {
    "duration": 14,
    "start_time": "2021-10-13T11:50:37.366Z"
   },
   {
    "duration": 19,
    "start_time": "2021-10-13T11:55:01.354Z"
   },
   {
    "duration": 264,
    "start_time": "2021-10-13T11:55:36.247Z"
   },
   {
    "duration": 244,
    "start_time": "2021-10-13T11:55:55.958Z"
   },
   {
    "duration": 294,
    "start_time": "2021-10-13T11:57:45.452Z"
   },
   {
    "duration": 62,
    "start_time": "2021-10-13T13:40:52.120Z"
   },
   {
    "duration": 20,
    "start_time": "2021-10-13T13:54:56.783Z"
   },
   {
    "duration": 313,
    "start_time": "2021-10-13T13:55:01.337Z"
   },
   {
    "duration": 51,
    "start_time": "2021-10-13T15:03:24.921Z"
   },
   {
    "duration": 9,
    "start_time": "2021-10-13T15:03:25.558Z"
   },
   {
    "duration": 15,
    "start_time": "2021-10-13T15:03:25.973Z"
   },
   {
    "duration": 8,
    "start_time": "2021-10-13T15:03:28.378Z"
   },
   {
    "duration": 22,
    "start_time": "2021-10-13T15:03:29.632Z"
   },
   {
    "duration": 7,
    "start_time": "2021-10-13T15:16:44.154Z"
   },
   {
    "duration": 245,
    "start_time": "2021-10-13T15:27:28.103Z"
   },
   {
    "duration": 9,
    "start_time": "2021-10-13T15:28:01.639Z"
   },
   {
    "duration": 5,
    "start_time": "2021-10-13T15:28:21.174Z"
   },
   {
    "duration": 326,
    "start_time": "2021-10-13T15:28:21.585Z"
   },
   {
    "duration": 291,
    "start_time": "2021-10-13T15:33:39.536Z"
   },
   {
    "duration": 17,
    "start_time": "2021-10-13T15:33:53.789Z"
   },
   {
    "duration": 9,
    "start_time": "2021-10-13T15:34:15.631Z"
   },
   {
    "duration": 7,
    "start_time": "2021-10-13T15:34:52.013Z"
   },
   {
    "duration": 11,
    "start_time": "2021-10-13T15:34:59.716Z"
   },
   {
    "duration": 228,
    "start_time": "2021-10-13T15:35:13.770Z"
   },
   {
    "duration": 11,
    "start_time": "2021-10-13T15:35:27.313Z"
   },
   {
    "duration": 327,
    "start_time": "2021-10-13T15:35:27.741Z"
   },
   {
    "duration": 245,
    "start_time": "2021-10-13T15:35:37.701Z"
   },
   {
    "duration": 13,
    "start_time": "2021-10-13T15:36:00.756Z"
   },
   {
    "duration": 314,
    "start_time": "2021-10-13T15:36:01.466Z"
   },
   {
    "duration": 13,
    "start_time": "2021-10-13T15:36:31.293Z"
   },
   {
    "duration": 291,
    "start_time": "2021-10-13T15:36:33.828Z"
   },
   {
    "duration": 1823,
    "start_time": "2021-10-13T15:37:04.178Z"
   },
   {
    "duration": 58,
    "start_time": "2021-10-13T15:37:06.003Z"
   },
   {
    "duration": 9,
    "start_time": "2021-10-13T15:37:06.063Z"
   },
   {
    "duration": 22,
    "start_time": "2021-10-13T15:37:06.074Z"
   },
   {
    "duration": 7,
    "start_time": "2021-10-13T15:37:06.098Z"
   },
   {
    "duration": 50,
    "start_time": "2021-10-13T15:37:06.107Z"
   },
   {
    "duration": 11,
    "start_time": "2021-10-13T15:37:06.159Z"
   },
   {
    "duration": 75,
    "start_time": "2021-10-13T15:37:06.172Z"
   },
   {
    "duration": 10,
    "start_time": "2021-10-13T15:37:06.249Z"
   },
   {
    "duration": 44,
    "start_time": "2021-10-13T15:37:06.261Z"
   },
   {
    "duration": 20,
    "start_time": "2021-10-13T15:37:06.307Z"
   },
   {
    "duration": 18,
    "start_time": "2021-10-13T15:37:06.344Z"
   },
   {
    "duration": 314,
    "start_time": "2021-10-13T15:37:06.364Z"
   },
   {
    "duration": 9,
    "start_time": "2021-10-13T15:37:06.680Z"
   },
   {
    "duration": 198,
    "start_time": "2021-10-13T15:37:06.690Z"
   },
   {
    "duration": 7,
    "start_time": "2021-10-13T15:37:06.889Z"
   },
   {
    "duration": 348,
    "start_time": "2021-10-13T15:37:06.898Z"
   },
   {
    "duration": 895,
    "start_time": "2021-10-13T15:37:06.353Z"
   },
   {
    "duration": 895,
    "start_time": "2021-10-13T15:37:06.354Z"
   },
   {
    "duration": 895,
    "start_time": "2021-10-13T15:37:06.355Z"
   },
   {
    "duration": 894,
    "start_time": "2021-10-13T15:37:06.357Z"
   },
   {
    "duration": 894,
    "start_time": "2021-10-13T15:37:06.358Z"
   },
   {
    "duration": 893,
    "start_time": "2021-10-13T15:37:06.360Z"
   },
   {
    "duration": 893,
    "start_time": "2021-10-13T15:37:06.361Z"
   },
   {
    "duration": 893,
    "start_time": "2021-10-13T15:37:06.362Z"
   },
   {
    "duration": 892,
    "start_time": "2021-10-13T15:37:06.364Z"
   },
   {
    "duration": 885,
    "start_time": "2021-10-13T15:37:06.372Z"
   },
   {
    "duration": 884,
    "start_time": "2021-10-13T15:37:06.374Z"
   },
   {
    "duration": 884,
    "start_time": "2021-10-13T15:37:06.375Z"
   },
   {
    "duration": 883,
    "start_time": "2021-10-13T15:37:06.377Z"
   },
   {
    "duration": 883,
    "start_time": "2021-10-13T15:37:06.378Z"
   },
   {
    "duration": 882,
    "start_time": "2021-10-13T15:37:06.380Z"
   },
   {
    "duration": 882,
    "start_time": "2021-10-13T15:37:06.381Z"
   },
   {
    "duration": 882,
    "start_time": "2021-10-13T15:37:06.382Z"
   },
   {
    "duration": 881,
    "start_time": "2021-10-13T15:37:06.384Z"
   },
   {
    "duration": 289,
    "start_time": "2021-10-13T15:37:26.323Z"
   },
   {
    "duration": 7,
    "start_time": "2021-10-13T15:37:28.339Z"
   },
   {
    "duration": 10,
    "start_time": "2021-10-13T15:37:28.855Z"
   },
   {
    "duration": 6,
    "start_time": "2021-10-13T15:37:29.874Z"
   },
   {
    "duration": 375,
    "start_time": "2021-10-13T15:37:30.655Z"
   },
   {
    "duration": 16,
    "start_time": "2021-10-13T15:37:31.032Z"
   },
   {
    "duration": 290,
    "start_time": "2021-10-13T15:37:31.446Z"
   },
   {
    "duration": 11,
    "start_time": "2021-10-13T16:07:20.527Z"
   },
   {
    "duration": 287,
    "start_time": "2021-10-13T16:07:20.983Z"
   },
   {
    "duration": 216,
    "start_time": "2021-10-13T16:15:18.950Z"
   },
   {
    "duration": 10,
    "start_time": "2021-10-13T16:15:19.358Z"
   },
   {
    "duration": 14,
    "start_time": "2021-10-13T16:16:26.072Z"
   },
   {
    "duration": 283,
    "start_time": "2021-10-13T16:16:26.309Z"
   },
   {
    "duration": 11,
    "start_time": "2021-10-13T16:16:29.271Z"
   },
   {
    "duration": 10,
    "start_time": "2021-10-13T16:16:30.010Z"
   },
   {
    "duration": 257,
    "start_time": "2021-10-13T16:16:30.693Z"
   },
   {
    "duration": 1470,
    "start_time": "2021-10-13T16:16:38.639Z"
   },
   {
    "duration": 56,
    "start_time": "2021-10-13T16:16:40.111Z"
   },
   {
    "duration": 8,
    "start_time": "2021-10-13T16:16:40.170Z"
   },
   {
    "duration": 16,
    "start_time": "2021-10-13T16:16:40.180Z"
   },
   {
    "duration": 7,
    "start_time": "2021-10-13T16:16:40.197Z"
   },
   {
    "duration": 40,
    "start_time": "2021-10-13T16:16:40.205Z"
   },
   {
    "duration": 11,
    "start_time": "2021-10-13T16:16:40.246Z"
   },
   {
    "duration": 62,
    "start_time": "2021-10-13T16:16:40.259Z"
   },
   {
    "duration": 22,
    "start_time": "2021-10-13T16:16:40.323Z"
   },
   {
    "duration": 37,
    "start_time": "2021-10-13T16:16:40.347Z"
   },
   {
    "duration": 21,
    "start_time": "2021-10-13T16:16:40.385Z"
   },
   {
    "duration": 42,
    "start_time": "2021-10-13T16:16:40.408Z"
   },
   {
    "duration": 308,
    "start_time": "2021-10-13T16:16:40.452Z"
   },
   {
    "duration": 10,
    "start_time": "2021-10-13T16:16:40.761Z"
   },
   {
    "duration": 210,
    "start_time": "2021-10-13T16:16:40.773Z"
   },
   {
    "duration": 8,
    "start_time": "2021-10-13T16:16:40.985Z"
   },
   {
    "duration": 307,
    "start_time": "2021-10-13T16:16:40.995Z"
   },
   {
    "duration": 9,
    "start_time": "2021-10-13T16:16:41.304Z"
   },
   {
    "duration": 11,
    "start_time": "2021-10-13T16:16:41.314Z"
   },
   {
    "duration": 6,
    "start_time": "2021-10-13T16:16:41.344Z"
   },
   {
    "duration": 374,
    "start_time": "2021-10-13T16:16:41.352Z"
   },
   {
    "duration": 21,
    "start_time": "2021-10-13T16:16:41.727Z"
   },
   {
    "duration": 293,
    "start_time": "2021-10-13T16:16:41.753Z"
   },
   {
    "duration": 12,
    "start_time": "2021-10-13T16:16:42.049Z"
   },
   {
    "duration": 304,
    "start_time": "2021-10-13T16:16:42.063Z"
   },
   {
    "duration": 204,
    "start_time": "2021-10-13T16:16:42.369Z"
   },
   {
    "duration": 9,
    "start_time": "2021-10-13T16:16:42.575Z"
   },
   {
    "duration": 21,
    "start_time": "2021-10-13T16:16:42.586Z"
   },
   {
    "duration": 340,
    "start_time": "2021-10-13T16:16:42.609Z"
   },
   {
    "duration": 873,
    "start_time": "2021-10-13T16:16:42.078Z"
   },
   {
    "duration": 873,
    "start_time": "2021-10-13T16:16:42.079Z"
   },
   {
    "duration": 871,
    "start_time": "2021-10-13T16:16:42.082Z"
   },
   {
    "duration": 870,
    "start_time": "2021-10-13T16:16:42.084Z"
   },
   {
    "duration": 870,
    "start_time": "2021-10-13T16:16:42.085Z"
   },
   {
    "duration": 870,
    "start_time": "2021-10-13T16:16:42.086Z"
   },
   {
    "duration": 249,
    "start_time": "2021-10-13T16:16:48.117Z"
   },
   {
    "duration": 15,
    "start_time": "2021-10-13T16:16:56.274Z"
   },
   {
    "duration": 288,
    "start_time": "2021-10-13T16:18:04.322Z"
   },
   {
    "duration": 317,
    "start_time": "2021-10-13T16:18:14.662Z"
   },
   {
    "duration": 332,
    "start_time": "2021-10-13T16:18:21.356Z"
   },
   {
    "duration": 8,
    "start_time": "2021-10-13T16:20:08.535Z"
   },
   {
    "duration": 84,
    "start_time": "2021-10-13T16:20:23.376Z"
   },
   {
    "duration": 220,
    "start_time": "2021-10-13T16:20:29.724Z"
   },
   {
    "duration": 470,
    "start_time": "2021-10-13T16:21:30.456Z"
   },
   {
    "duration": 221,
    "start_time": "2021-10-13T16:21:41.434Z"
   },
   {
    "duration": 10,
    "start_time": "2021-10-13T16:21:54.086Z"
   },
   {
    "duration": 13,
    "start_time": "2021-10-13T16:22:17.885Z"
   },
   {
    "duration": 199,
    "start_time": "2021-10-13T16:23:22.752Z"
   },
   {
    "duration": 10,
    "start_time": "2021-10-13T16:23:23.188Z"
   },
   {
    "duration": 16,
    "start_time": "2021-10-13T16:23:24.292Z"
   },
   {
    "duration": 13,
    "start_time": "2021-10-13T16:23:25.466Z"
   },
   {
    "duration": 316,
    "start_time": "2021-10-13T16:23:26.260Z"
   },
   {
    "duration": 19,
    "start_time": "2021-10-13T16:32:09.025Z"
   },
   {
    "duration": 18,
    "start_time": "2021-10-13T16:32:14.424Z"
   },
   {
    "duration": 241,
    "start_time": "2021-10-13T16:32:34.960Z"
   },
   {
    "duration": 1411,
    "start_time": "2021-10-13T16:32:38.612Z"
   },
   {
    "duration": 32,
    "start_time": "2021-10-13T16:32:40.025Z"
   },
   {
    "duration": 27,
    "start_time": "2021-10-13T16:32:40.059Z"
   },
   {
    "duration": 11,
    "start_time": "2021-10-13T16:33:48.404Z"
   },
   {
    "duration": 11,
    "start_time": "2021-10-13T16:34:04.805Z"
   },
   {
    "duration": 14,
    "start_time": "2021-10-13T16:34:17.227Z"
   },
   {
    "duration": 11,
    "start_time": "2021-10-13T16:34:55.829Z"
   },
   {
    "duration": 20,
    "start_time": "2021-10-13T16:35:02.176Z"
   },
   {
    "duration": 17,
    "start_time": "2021-10-13T16:35:02.412Z"
   },
   {
    "duration": 11,
    "start_time": "2021-10-13T16:36:18.429Z"
   },
   {
    "duration": 238,
    "start_time": "2021-10-13T16:36:45.505Z"
   },
   {
    "duration": 12,
    "start_time": "2021-10-13T16:36:54.743Z"
   },
   {
    "duration": 22,
    "start_time": "2021-10-13T16:37:43.109Z"
   },
   {
    "duration": 207,
    "start_time": "2021-10-13T16:40:05.779Z"
   },
   {
    "duration": 241,
    "start_time": "2021-10-13T16:41:01.622Z"
   },
   {
    "duration": 22,
    "start_time": "2021-10-13T16:41:08.035Z"
   },
   {
    "duration": 1890,
    "start_time": "2021-10-14T08:16:40.274Z"
   },
   {
    "duration": 75,
    "start_time": "2021-10-14T08:16:42.166Z"
   },
   {
    "duration": 12,
    "start_time": "2021-10-14T08:16:42.243Z"
   },
   {
    "duration": 24,
    "start_time": "2021-10-14T08:16:42.266Z"
   },
   {
    "duration": 9,
    "start_time": "2021-10-14T08:16:42.293Z"
   },
   {
    "duration": 67,
    "start_time": "2021-10-14T08:16:42.305Z"
   },
   {
    "duration": 14,
    "start_time": "2021-10-14T08:16:42.374Z"
   },
   {
    "duration": 116,
    "start_time": "2021-10-14T08:16:42.392Z"
   },
   {
    "duration": 15,
    "start_time": "2021-10-14T08:16:42.512Z"
   },
   {
    "duration": 83,
    "start_time": "2021-10-14T08:16:42.529Z"
   },
   {
    "duration": 30,
    "start_time": "2021-10-14T08:16:42.614Z"
   },
   {
    "duration": 46,
    "start_time": "2021-10-14T08:16:42.646Z"
   },
   {
    "duration": 543,
    "start_time": "2021-10-14T08:16:42.694Z"
   },
   {
    "duration": 12,
    "start_time": "2021-10-14T08:16:43.239Z"
   },
   {
    "duration": 323,
    "start_time": "2021-10-14T08:16:43.268Z"
   },
   {
    "duration": 12,
    "start_time": "2021-10-14T08:16:43.593Z"
   },
   {
    "duration": 531,
    "start_time": "2021-10-14T08:16:43.608Z"
   },
   {
    "duration": 11,
    "start_time": "2021-10-14T08:16:44.141Z"
   },
   {
    "duration": 13,
    "start_time": "2021-10-14T08:16:44.168Z"
   },
   {
    "duration": 10,
    "start_time": "2021-10-14T08:16:44.184Z"
   },
   {
    "duration": 503,
    "start_time": "2021-10-14T08:16:44.196Z"
   },
   {
    "duration": 19,
    "start_time": "2021-10-14T08:16:44.701Z"
   },
   {
    "duration": 522,
    "start_time": "2021-10-14T08:16:44.724Z"
   },
   {
    "duration": 24,
    "start_time": "2021-10-14T08:16:45.248Z"
   },
   {
    "duration": 512,
    "start_time": "2021-10-14T08:16:45.274Z"
   },
   {
    "duration": 365,
    "start_time": "2021-10-14T08:16:45.789Z"
   },
   {
    "duration": 15,
    "start_time": "2021-10-14T08:16:46.156Z"
   },
   {
    "duration": 26,
    "start_time": "2021-10-14T08:16:46.174Z"
   },
   {
    "duration": 616,
    "start_time": "2021-10-14T08:16:46.202Z"
   },
   {
    "duration": 1423,
    "start_time": "2021-10-14T08:16:46.820Z"
   },
   {
    "duration": 28,
    "start_time": "2021-10-14T08:16:48.245Z"
   },
   {
    "duration": 516,
    "start_time": "2021-10-14T08:16:48.276Z"
   },
   {
    "duration": -16,
    "start_time": "2021-10-14T08:16:48.810Z"
   },
   {
    "duration": -21,
    "start_time": "2021-10-14T08:16:48.817Z"
   },
   {
    "duration": -25,
    "start_time": "2021-10-14T08:16:48.822Z"
   },
   {
    "duration": -33,
    "start_time": "2021-10-14T08:16:48.831Z"
   },
   {
    "duration": 51,
    "start_time": "2021-10-14T08:16:59.212Z"
   },
   {
    "duration": 46,
    "start_time": "2021-10-14T08:17:47.711Z"
   },
   {
    "duration": 49,
    "start_time": "2021-10-14T08:18:25.143Z"
   },
   {
    "duration": 46,
    "start_time": "2021-10-14T08:18:43.780Z"
   },
   {
    "duration": 245,
    "start_time": "2021-10-14T08:36:03.311Z"
   },
   {
    "duration": 55,
    "start_time": "2021-10-14T08:36:08.943Z"
   },
   {
    "duration": 614,
    "start_time": "2021-10-14T08:36:09.341Z"
   },
   {
    "duration": 4,
    "start_time": "2021-10-14T08:38:23.191Z"
   },
   {
    "duration": 2066,
    "start_time": "2021-10-14T08:38:26.737Z"
   },
   {
    "duration": 75,
    "start_time": "2021-10-14T08:38:28.805Z"
   },
   {
    "duration": 12,
    "start_time": "2021-10-14T08:38:28.882Z"
   },
   {
    "duration": 23,
    "start_time": "2021-10-14T08:38:28.897Z"
   },
   {
    "duration": 9,
    "start_time": "2021-10-14T08:38:28.923Z"
   },
   {
    "duration": 40,
    "start_time": "2021-10-14T08:38:28.935Z"
   },
   {
    "duration": 14,
    "start_time": "2021-10-14T08:38:28.977Z"
   },
   {
    "duration": 98,
    "start_time": "2021-10-14T08:38:28.995Z"
   },
   {
    "duration": 15,
    "start_time": "2021-10-14T08:38:29.096Z"
   },
   {
    "duration": 76,
    "start_time": "2021-10-14T08:38:29.114Z"
   },
   {
    "duration": 82,
    "start_time": "2021-10-14T08:38:29.192Z"
   },
   {
    "duration": 25,
    "start_time": "2021-10-14T08:38:29.277Z"
   },
   {
    "duration": 652,
    "start_time": "2021-10-14T08:38:29.305Z"
   },
   {
    "duration": 12,
    "start_time": "2021-10-14T08:38:29.967Z"
   },
   {
    "duration": 357,
    "start_time": "2021-10-14T08:38:29.981Z"
   },
   {
    "duration": 9,
    "start_time": "2021-10-14T08:38:30.341Z"
   },
   {
    "duration": 523,
    "start_time": "2021-10-14T08:38:30.352Z"
   },
   {
    "duration": 9,
    "start_time": "2021-10-14T08:38:30.878Z"
   },
   {
    "duration": 22,
    "start_time": "2021-10-14T08:38:30.889Z"
   },
   {
    "duration": 12,
    "start_time": "2021-10-14T08:38:30.913Z"
   },
   {
    "duration": 552,
    "start_time": "2021-10-14T08:38:30.927Z"
   },
   {
    "duration": 19,
    "start_time": "2021-10-14T08:38:31.482Z"
   },
   {
    "duration": 520,
    "start_time": "2021-10-14T08:38:31.505Z"
   },
   {
    "duration": 15,
    "start_time": "2021-10-14T08:38:32.028Z"
   },
   {
    "duration": 523,
    "start_time": "2021-10-14T08:38:32.046Z"
   },
   {
    "duration": 356,
    "start_time": "2021-10-14T08:38:32.572Z"
   },
   {
    "duration": 15,
    "start_time": "2021-10-14T08:38:32.931Z"
   },
   {
    "duration": 40,
    "start_time": "2021-10-14T08:38:32.949Z"
   },
   {
    "duration": 583,
    "start_time": "2021-10-14T08:38:32.992Z"
   },
   {
    "duration": 1479,
    "start_time": "2021-10-14T08:38:33.578Z"
   },
   {
    "duration": 25,
    "start_time": "2021-10-14T08:38:35.060Z"
   },
   {
    "duration": 62,
    "start_time": "2021-10-14T08:38:35.087Z"
   },
   {
    "duration": 564,
    "start_time": "2021-10-14T08:38:35.167Z"
   },
   {
    "duration": 48,
    "start_time": "2021-10-14T08:38:35.733Z"
   },
   {
    "duration": 8,
    "start_time": "2021-10-14T08:38:35.784Z"
   },
   {
    "duration": 450,
    "start_time": "2021-10-14T08:38:35.795Z"
   },
   {
    "duration": 357,
    "start_time": "2021-10-14T08:38:36.248Z"
   },
   {
    "duration": 14,
    "start_time": "2021-10-14T08:44:07.966Z"
   },
   {
    "duration": 14,
    "start_time": "2021-10-14T08:44:22.893Z"
   },
   {
    "duration": 26,
    "start_time": "2021-10-14T08:52:19.410Z"
   },
   {
    "duration": 16,
    "start_time": "2021-10-14T08:52:33.271Z"
   },
   {
    "duration": 15,
    "start_time": "2021-10-14T08:52:46.795Z"
   },
   {
    "duration": 418,
    "start_time": "2021-10-14T09:30:55.002Z"
   },
   {
    "duration": 28,
    "start_time": "2021-10-14T09:31:47.895Z"
   },
   {
    "duration": 450,
    "start_time": "2021-10-14T09:35:57.739Z"
   },
   {
    "duration": 49,
    "start_time": "2021-10-14T09:36:09.120Z"
   },
   {
    "duration": 546,
    "start_time": "2021-10-14T09:36:09.631Z"
   },
   {
    "duration": 24,
    "start_time": "2021-10-14T09:36:10.275Z"
   },
   {
    "duration": 17,
    "start_time": "2021-10-14T09:36:10.848Z"
   },
   {
    "duration": 448,
    "start_time": "2021-10-14T09:36:11.360Z"
   },
   {
    "duration": 374,
    "start_time": "2021-10-14T09:36:11.810Z"
   },
   {
    "duration": 468,
    "start_time": "2021-10-14T09:41:13.385Z"
   },
   {
    "duration": 27,
    "start_time": "2021-10-14T10:11:34.980Z"
   },
   {
    "duration": 519,
    "start_time": "2021-10-14T10:12:22.255Z"
   },
   {
    "duration": 347,
    "start_time": "2021-10-14T10:12:44.974Z"
   },
   {
    "duration": 357,
    "start_time": "2021-10-14T10:13:20.000Z"
   },
   {
    "duration": 627,
    "start_time": "2021-10-14T10:13:24.528Z"
   },
   {
    "duration": 351,
    "start_time": "2021-10-14T10:13:45.512Z"
   },
   {
    "duration": 715,
    "start_time": "2021-10-14T10:21:44.664Z"
   },
   {
    "duration": 745,
    "start_time": "2021-10-14T10:22:53.680Z"
   },
   {
    "duration": 608,
    "start_time": "2021-10-14T10:23:32.724Z"
   },
   {
    "duration": 1902,
    "start_time": "2021-10-14T11:12:16.764Z"
   },
   {
    "duration": 75,
    "start_time": "2021-10-14T11:12:18.672Z"
   },
   {
    "duration": 25,
    "start_time": "2021-10-14T11:12:18.750Z"
   },
   {
    "duration": 24,
    "start_time": "2021-10-14T11:12:18.778Z"
   },
   {
    "duration": 11,
    "start_time": "2021-10-14T11:12:18.804Z"
   },
   {
    "duration": 78,
    "start_time": "2021-10-14T11:12:18.817Z"
   },
   {
    "duration": 15,
    "start_time": "2021-10-14T11:12:18.898Z"
   },
   {
    "duration": 129,
    "start_time": "2021-10-14T11:12:18.917Z"
   },
   {
    "duration": 25,
    "start_time": "2021-10-14T11:12:19.050Z"
   },
   {
    "duration": 99,
    "start_time": "2021-10-14T11:12:19.077Z"
   },
   {
    "duration": 30,
    "start_time": "2021-10-14T11:12:19.178Z"
   },
   {
    "duration": 16,
    "start_time": "2021-10-14T11:12:19.210Z"
   },
   {
    "duration": 571,
    "start_time": "2021-10-14T11:12:19.229Z"
   },
   {
    "duration": 11,
    "start_time": "2021-10-14T11:12:19.803Z"
   },
   {
    "duration": 352,
    "start_time": "2021-10-14T11:12:19.817Z"
   },
   {
    "duration": 13,
    "start_time": "2021-10-14T11:12:20.172Z"
   },
   {
    "duration": 538,
    "start_time": "2021-10-14T11:12:20.187Z"
   },
   {
    "duration": 375,
    "start_time": "2021-10-14T11:12:20.728Z"
   },
   {
    "duration": 10,
    "start_time": "2021-10-14T11:12:21.105Z"
   },
   {
    "duration": 14,
    "start_time": "2021-10-14T11:12:21.117Z"
   },
   {
    "duration": 37,
    "start_time": "2021-10-14T11:12:21.133Z"
   },
   {
    "duration": 523,
    "start_time": "2021-10-14T11:12:21.173Z"
   },
   {
    "duration": 22,
    "start_time": "2021-10-14T11:12:21.700Z"
   },
   {
    "duration": 556,
    "start_time": "2021-10-14T11:12:21.725Z"
   },
   {
    "duration": 16,
    "start_time": "2021-10-14T11:12:22.283Z"
   },
   {
    "duration": 573,
    "start_time": "2021-10-14T11:12:22.304Z"
   },
   {
    "duration": 388,
    "start_time": "2021-10-14T11:12:22.880Z"
   },
   {
    "duration": 15,
    "start_time": "2021-10-14T11:12:23.270Z"
   },
   {
    "duration": 28,
    "start_time": "2021-10-14T11:12:23.288Z"
   },
   {
    "duration": 673,
    "start_time": "2021-10-14T11:12:23.319Z"
   },
   {
    "duration": 1672,
    "start_time": "2021-10-14T11:12:23.995Z"
   },
   {
    "duration": 28,
    "start_time": "2021-10-14T11:12:25.669Z"
   },
   {
    "duration": 94,
    "start_time": "2021-10-14T11:12:25.699Z"
   },
   {
    "duration": 680,
    "start_time": "2021-10-14T11:12:25.795Z"
   },
   {
    "duration": 25,
    "start_time": "2021-10-14T11:12:26.478Z"
   },
   {
    "duration": 15,
    "start_time": "2021-10-14T11:12:26.505Z"
   },
   {
    "duration": 486,
    "start_time": "2021-10-14T11:12:26.523Z"
   },
   {
    "duration": 385,
    "start_time": "2021-10-14T11:12:27.011Z"
   },
   {
    "duration": 307,
    "start_time": "2021-10-14T12:56:52.016Z"
   },
   {
    "duration": 255,
    "start_time": "2021-10-14T12:58:26.565Z"
   },
   {
    "duration": 233,
    "start_time": "2021-10-14T12:59:43.033Z"
   },
   {
    "duration": 1975,
    "start_time": "2021-10-14T12:59:50.146Z"
   },
   {
    "duration": 83,
    "start_time": "2021-10-14T12:59:52.124Z"
   },
   {
    "duration": 12,
    "start_time": "2021-10-14T12:59:52.210Z"
   },
   {
    "duration": 47,
    "start_time": "2021-10-14T12:59:52.225Z"
   },
   {
    "duration": 11,
    "start_time": "2021-10-14T12:59:52.274Z"
   },
   {
    "duration": 41,
    "start_time": "2021-10-14T12:59:52.287Z"
   },
   {
    "duration": 40,
    "start_time": "2021-10-14T12:59:52.331Z"
   },
   {
    "duration": 111,
    "start_time": "2021-10-14T12:59:52.375Z"
   },
   {
    "duration": 15,
    "start_time": "2021-10-14T12:59:52.490Z"
   },
   {
    "duration": 87,
    "start_time": "2021-10-14T12:59:52.508Z"
   },
   {
    "duration": 32,
    "start_time": "2021-10-14T12:59:52.597Z"
   },
   {
    "duration": 46,
    "start_time": "2021-10-14T12:59:52.632Z"
   },
   {
    "duration": 585,
    "start_time": "2021-10-14T12:59:52.680Z"
   },
   {
    "duration": 71,
    "start_time": "2021-10-14T12:59:53.197Z"
   },
   {
    "duration": 67,
    "start_time": "2021-10-14T12:59:53.202Z"
   },
   {
    "duration": 67,
    "start_time": "2021-10-14T12:59:53.204Z"
   },
   {
    "duration": 65,
    "start_time": "2021-10-14T12:59:53.207Z"
   },
   {
    "duration": 64,
    "start_time": "2021-10-14T12:59:53.209Z"
   },
   {
    "duration": 63,
    "start_time": "2021-10-14T12:59:53.212Z"
   },
   {
    "duration": 62,
    "start_time": "2021-10-14T12:59:53.214Z"
   },
   {
    "duration": 58,
    "start_time": "2021-10-14T12:59:53.219Z"
   },
   {
    "duration": 57,
    "start_time": "2021-10-14T12:59:53.222Z"
   },
   {
    "duration": 56,
    "start_time": "2021-10-14T12:59:53.224Z"
   },
   {
    "duration": 55,
    "start_time": "2021-10-14T12:59:53.227Z"
   },
   {
    "duration": 54,
    "start_time": "2021-10-14T12:59:53.229Z"
   },
   {
    "duration": 53,
    "start_time": "2021-10-14T12:59:53.232Z"
   },
   {
    "duration": 51,
    "start_time": "2021-10-14T12:59:53.236Z"
   },
   {
    "duration": 50,
    "start_time": "2021-10-14T12:59:53.238Z"
   },
   {
    "duration": 36,
    "start_time": "2021-10-14T12:59:53.253Z"
   },
   {
    "duration": 36,
    "start_time": "2021-10-14T12:59:53.255Z"
   },
   {
    "duration": 34,
    "start_time": "2021-10-14T12:59:53.258Z"
   },
   {
    "duration": 32,
    "start_time": "2021-10-14T12:59:53.261Z"
   },
   {
    "duration": 30,
    "start_time": "2021-10-14T12:59:53.265Z"
   },
   {
    "duration": 29,
    "start_time": "2021-10-14T12:59:53.268Z"
   },
   {
    "duration": 7,
    "start_time": "2021-10-14T12:59:53.291Z"
   },
   {
    "duration": 6,
    "start_time": "2021-10-14T12:59:53.294Z"
   },
   {
    "duration": 3,
    "start_time": "2021-10-14T12:59:53.298Z"
   },
   {
    "duration": 2,
    "start_time": "2021-10-14T12:59:53.300Z"
   },
   {
    "duration": 288,
    "start_time": "2021-10-14T13:00:06.297Z"
   },
   {
    "duration": 93,
    "start_time": "2021-10-14T13:01:30.856Z"
   },
   {
    "duration": 268,
    "start_time": "2021-10-14T13:01:35.142Z"
   },
   {
    "duration": 319,
    "start_time": "2021-10-14T13:01:50.853Z"
   },
   {
    "duration": 13,
    "start_time": "2021-10-14T13:02:28.510Z"
   },
   {
    "duration": 1552,
    "start_time": "2021-10-14T13:02:35.179Z"
   },
   {
    "duration": 824,
    "start_time": "2021-10-14T13:02:54.584Z"
   },
   {
    "duration": 526,
    "start_time": "2021-10-14T13:03:10.125Z"
   },
   {
    "duration": 711,
    "start_time": "2021-10-14T13:04:19.560Z"
   },
   {
    "duration": 273,
    "start_time": "2021-10-14T13:07:01.373Z"
   },
   {
    "duration": 1183,
    "start_time": "2021-10-14T13:07:22.751Z"
   },
   {
    "duration": 224,
    "start_time": "2021-10-14T13:07:59.770Z"
   },
   {
    "duration": 12,
    "start_time": "2021-10-14T13:08:01.047Z"
   },
   {
    "duration": 508,
    "start_time": "2021-10-14T13:08:01.755Z"
   },
   {
    "duration": 84,
    "start_time": "2021-10-14T13:13:00.303Z"
   },
   {
    "duration": 505,
    "start_time": "2021-10-14T13:13:10.655Z"
   },
   {
    "duration": 526,
    "start_time": "2021-10-14T13:13:50.627Z"
   },
   {
    "duration": 520,
    "start_time": "2021-10-14T13:14:54.398Z"
   },
   {
    "duration": 12,
    "start_time": "2021-10-14T13:14:55.909Z"
   },
   {
    "duration": 313,
    "start_time": "2021-10-14T13:14:56.608Z"
   },
   {
    "duration": 444,
    "start_time": "2021-10-14T13:16:52.468Z"
   },
   {
    "duration": 544,
    "start_time": "2021-10-14T13:17:35.209Z"
   },
   {
    "duration": 318,
    "start_time": "2021-10-14T13:24:23.627Z"
   },
   {
    "duration": 329,
    "start_time": "2021-10-14T13:24:33.970Z"
   },
   {
    "duration": 40,
    "start_time": "2021-10-14T13:25:06.774Z"
   },
   {
    "duration": 6722,
    "start_time": "2021-10-14T13:25:12.206Z"
   },
   {
    "duration": 19,
    "start_time": "2021-10-14T13:25:34.153Z"
   },
   {
    "duration": 6110,
    "start_time": "2021-10-14T13:25:36.067Z"
   },
   {
    "duration": 6853,
    "start_time": "2021-10-14T13:25:51.259Z"
   },
   {
    "duration": 334,
    "start_time": "2021-10-14T13:26:07.617Z"
   },
   {
    "duration": 339,
    "start_time": "2021-10-14T13:28:03.155Z"
   },
   {
    "duration": 322,
    "start_time": "2021-10-14T13:28:16.117Z"
   },
   {
    "duration": 8,
    "start_time": "2021-10-14T13:31:22.593Z"
   },
   {
    "duration": 528,
    "start_time": "2021-10-14T13:31:23.273Z"
   },
   {
    "duration": 350,
    "start_time": "2021-10-14T13:31:24.586Z"
   },
   {
    "duration": 356,
    "start_time": "2021-10-14T13:33:56.852Z"
   },
   {
    "duration": 16,
    "start_time": "2021-10-14T13:34:49.142Z"
   },
   {
    "duration": 509,
    "start_time": "2021-10-14T13:35:40.510Z"
   },
   {
    "duration": 513,
    "start_time": "2021-10-14T13:37:16.630Z"
   },
   {
    "duration": 531,
    "start_time": "2021-10-14T13:39:30.651Z"
   },
   {
    "duration": 1896,
    "start_time": "2021-10-14T13:41:11.748Z"
   },
   {
    "duration": 76,
    "start_time": "2021-10-14T13:41:13.646Z"
   },
   {
    "duration": 12,
    "start_time": "2021-10-14T13:41:13.725Z"
   },
   {
    "duration": 42,
    "start_time": "2021-10-14T13:41:13.740Z"
   },
   {
    "duration": 10,
    "start_time": "2021-10-14T13:41:13.784Z"
   },
   {
    "duration": 35,
    "start_time": "2021-10-14T13:41:13.797Z"
   },
   {
    "duration": 44,
    "start_time": "2021-10-14T13:41:13.835Z"
   },
   {
    "duration": 114,
    "start_time": "2021-10-14T13:41:13.882Z"
   },
   {
    "duration": 17,
    "start_time": "2021-10-14T13:41:14.001Z"
   },
   {
    "duration": 90,
    "start_time": "2021-10-14T13:41:14.021Z"
   },
   {
    "duration": 29,
    "start_time": "2021-10-14T13:41:14.113Z"
   },
   {
    "duration": 35,
    "start_time": "2021-10-14T13:41:14.145Z"
   },
   {
    "duration": 550,
    "start_time": "2021-10-14T13:41:14.183Z"
   },
   {
    "duration": 13,
    "start_time": "2021-10-14T13:41:14.735Z"
   },
   {
    "duration": 353,
    "start_time": "2021-10-14T13:41:14.751Z"
   },
   {
    "duration": 12,
    "start_time": "2021-10-14T13:41:15.107Z"
   },
   {
    "duration": 552,
    "start_time": "2021-10-14T13:41:15.122Z"
   },
   {
    "duration": 364,
    "start_time": "2021-10-14T13:41:15.676Z"
   },
   {
    "duration": 25,
    "start_time": "2021-10-14T13:41:16.043Z"
   },
   {
    "duration": 558,
    "start_time": "2021-10-14T13:41:16.071Z"
   },
   {
    "duration": 10,
    "start_time": "2021-10-14T13:41:16.631Z"
   },
   {
    "duration": 27,
    "start_time": "2021-10-14T13:41:16.644Z"
   },
   {
    "duration": 8,
    "start_time": "2021-10-14T13:41:16.673Z"
   },
   {
    "duration": 534,
    "start_time": "2021-10-14T13:41:16.683Z"
   },
   {
    "duration": 19,
    "start_time": "2021-10-14T13:41:17.220Z"
   },
   {
    "duration": 513,
    "start_time": "2021-10-14T13:41:17.242Z"
   },
   {
    "duration": 20,
    "start_time": "2021-10-14T13:41:17.761Z"
   },
   {
    "duration": 620,
    "start_time": "2021-10-14T13:41:17.783Z"
   },
   {
    "duration": 379,
    "start_time": "2021-10-14T13:41:18.406Z"
   },
   {
    "duration": 14,
    "start_time": "2021-10-14T13:41:18.787Z"
   },
   {
    "duration": 24,
    "start_time": "2021-10-14T13:41:18.804Z"
   },
   {
    "duration": 585,
    "start_time": "2021-10-14T13:41:18.831Z"
   },
   {
    "duration": 1070,
    "start_time": "2021-10-14T13:41:19.419Z"
   },
   {
    "duration": 26,
    "start_time": "2021-10-14T13:41:20.491Z"
   },
   {
    "duration": 82,
    "start_time": "2021-10-14T13:41:20.520Z"
   },
   {
    "duration": 609,
    "start_time": "2021-10-14T13:41:20.604Z"
   },
   {
    "duration": 25,
    "start_time": "2021-10-14T13:41:21.216Z"
   },
   {
    "duration": 34,
    "start_time": "2021-10-14T13:41:21.243Z"
   },
   {
    "duration": 444,
    "start_time": "2021-10-14T13:41:21.279Z"
   },
   {
    "duration": 371,
    "start_time": "2021-10-14T13:41:21.725Z"
   },
   {
    "duration": 521,
    "start_time": "2021-10-14T13:42:40.813Z"
   },
   {
    "duration": 520,
    "start_time": "2021-10-14T13:44:00.227Z"
   },
   {
    "duration": 519,
    "start_time": "2021-10-14T13:44:17.452Z"
   },
   {
    "duration": 317,
    "start_time": "2021-10-14T13:44:22.610Z"
   },
   {
    "duration": 611,
    "start_time": "2021-10-14T13:44:30.074Z"
   },
   {
    "duration": 506,
    "start_time": "2021-10-14T13:44:44.126Z"
   },
   {
    "duration": 556,
    "start_time": "2021-10-14T13:45:50.580Z"
   },
   {
    "duration": 561,
    "start_time": "2021-10-14T13:46:02.497Z"
   },
   {
    "duration": 560,
    "start_time": "2021-10-14T13:47:53.372Z"
   },
   {
    "duration": 433,
    "start_time": "2021-10-14T13:48:32.424Z"
   },
   {
    "duration": 461,
    "start_time": "2021-10-14T13:48:43.648Z"
   },
   {
    "duration": 379,
    "start_time": "2021-10-14T13:49:14.222Z"
   },
   {
    "duration": 537,
    "start_time": "2021-10-14T13:49:51.675Z"
   },
   {
    "duration": 1965,
    "start_time": "2021-10-14T13:50:05.772Z"
   },
   {
    "duration": 77,
    "start_time": "2021-10-14T13:50:07.740Z"
   },
   {
    "duration": 15,
    "start_time": "2021-10-14T13:50:07.822Z"
   },
   {
    "duration": 44,
    "start_time": "2021-10-14T13:50:07.841Z"
   },
   {
    "duration": 11,
    "start_time": "2021-10-14T13:50:07.888Z"
   },
   {
    "duration": 73,
    "start_time": "2021-10-14T13:50:07.902Z"
   },
   {
    "duration": 16,
    "start_time": "2021-10-14T13:50:07.978Z"
   },
   {
    "duration": 118,
    "start_time": "2021-10-14T13:50:07.999Z"
   },
   {
    "duration": 15,
    "start_time": "2021-10-14T13:50:08.121Z"
   },
   {
    "duration": 86,
    "start_time": "2021-10-14T13:50:08.138Z"
   },
   {
    "duration": 52,
    "start_time": "2021-10-14T13:50:08.227Z"
   },
   {
    "duration": 16,
    "start_time": "2021-10-14T13:50:08.282Z"
   },
   {
    "duration": 554,
    "start_time": "2021-10-14T13:50:08.301Z"
   },
   {
    "duration": 17,
    "start_time": "2021-10-14T13:50:08.857Z"
   },
   {
    "duration": 338,
    "start_time": "2021-10-14T13:50:08.876Z"
   },
   {
    "duration": 12,
    "start_time": "2021-10-14T13:50:09.217Z"
   },
   {
    "duration": 529,
    "start_time": "2021-10-14T13:50:09.232Z"
   },
   {
    "duration": 352,
    "start_time": "2021-10-14T13:50:09.766Z"
   },
   {
    "duration": 16,
    "start_time": "2021-10-14T13:50:10.121Z"
   },
   {
    "duration": 632,
    "start_time": "2021-10-14T13:50:10.139Z"
   },
   {
    "duration": 10,
    "start_time": "2021-10-14T13:50:10.773Z"
   },
   {
    "duration": 20,
    "start_time": "2021-10-14T13:50:10.785Z"
   },
   {
    "duration": 6,
    "start_time": "2021-10-14T13:50:10.811Z"
   },
   {
    "duration": 560,
    "start_time": "2021-10-14T13:50:10.820Z"
   },
   {
    "duration": 19,
    "start_time": "2021-10-14T13:50:11.383Z"
   },
   {
    "duration": 98,
    "start_time": "2021-10-15T05:47:28.071Z"
   },
   {
    "duration": 109,
    "start_time": "2021-10-15T05:48:43.350Z"
   },
   {
    "duration": 1888,
    "start_time": "2021-10-19T12:27:48.988Z"
   },
   {
    "duration": 73,
    "start_time": "2021-10-19T12:27:50.880Z"
   },
   {
    "duration": 12,
    "start_time": "2021-10-19T12:27:50.956Z"
   },
   {
    "duration": 35,
    "start_time": "2021-10-19T12:27:50.970Z"
   },
   {
    "duration": 11,
    "start_time": "2021-10-19T12:27:51.007Z"
   },
   {
    "duration": 66,
    "start_time": "2021-10-19T12:27:51.020Z"
   },
   {
    "duration": 14,
    "start_time": "2021-10-19T12:27:51.088Z"
   },
   {
    "duration": 115,
    "start_time": "2021-10-19T12:27:51.106Z"
   },
   {
    "duration": 16,
    "start_time": "2021-10-19T12:27:51.223Z"
   },
   {
    "duration": 84,
    "start_time": "2021-10-19T12:27:51.242Z"
   },
   {
    "duration": 28,
    "start_time": "2021-10-19T12:27:51.328Z"
   },
   {
    "duration": 38,
    "start_time": "2021-10-19T12:27:51.358Z"
   },
   {
    "duration": 543,
    "start_time": "2021-10-19T12:27:51.398Z"
   },
   {
    "duration": 16,
    "start_time": "2021-10-19T12:27:51.943Z"
   },
   {
    "duration": 345,
    "start_time": "2021-10-19T12:27:51.962Z"
   },
   {
    "duration": 14,
    "start_time": "2021-10-19T12:27:52.310Z"
   },
   {
    "duration": 723,
    "start_time": "2021-10-19T12:27:52.327Z"
   },
   {
    "duration": 370,
    "start_time": "2021-10-19T12:27:53.053Z"
   },
   {
    "duration": 17,
    "start_time": "2021-10-19T12:27:53.425Z"
   },
   {
    "duration": 546,
    "start_time": "2021-10-19T12:27:53.444Z"
   },
   {
    "duration": 10,
    "start_time": "2021-10-19T12:27:53.992Z"
   },
   {
    "duration": 14,
    "start_time": "2021-10-19T12:27:54.004Z"
   },
   {
    "duration": 8,
    "start_time": "2021-10-19T12:27:54.023Z"
   },
   {
    "duration": 556,
    "start_time": "2021-10-19T12:27:54.033Z"
   },
   {
    "duration": 18,
    "start_time": "2021-10-19T12:27:54.591Z"
   },
   {
    "duration": 524,
    "start_time": "2021-10-19T12:27:54.612Z"
   },
   {
    "duration": 18,
    "start_time": "2021-10-19T12:27:55.139Z"
   },
   {
    "duration": 633,
    "start_time": "2021-10-19T12:27:55.160Z"
   },
   {
    "duration": 335,
    "start_time": "2021-10-19T12:27:55.795Z"
   },
   {
    "duration": 16,
    "start_time": "2021-10-19T12:27:56.133Z"
   },
   {
    "duration": 47,
    "start_time": "2021-10-19T12:27:56.152Z"
   },
   {
    "duration": 564,
    "start_time": "2021-10-19T12:27:56.202Z"
   },
   {
    "duration": 1314,
    "start_time": "2021-10-19T12:27:56.768Z"
   },
   {
    "duration": 25,
    "start_time": "2021-10-19T12:27:58.085Z"
   },
   {
    "duration": 79,
    "start_time": "2021-10-19T12:27:58.112Z"
   },
   {
    "duration": 808,
    "start_time": "2021-10-19T12:27:58.194Z"
   },
   {
    "duration": 26,
    "start_time": "2021-10-19T12:27:59.004Z"
   },
   {
    "duration": 15,
    "start_time": "2021-10-19T12:27:59.032Z"
   },
   {
    "duration": 474,
    "start_time": "2021-10-19T12:27:59.050Z"
   },
   {
    "duration": 393,
    "start_time": "2021-10-19T12:27:59.527Z"
   }
  ],
  "kernelspec": {
   "display_name": "Python 3",
   "language": "python",
   "name": "python3"
  },
  "language_info": {
   "codemirror_mode": {
    "name": "ipython",
    "version": 3
   },
   "file_extension": ".py",
   "mimetype": "text/x-python",
   "name": "python",
   "nbconvert_exporter": "python",
   "pygments_lexer": "ipython3",
   "version": "3.8.8"
  },
  "toc": {
   "base_numbering": 1,
   "nav_menu": {},
   "number_sections": true,
   "sideBar": true,
   "skip_h1_title": true,
   "title_cell": "Table of Contents",
   "title_sidebar": "Contents",
   "toc_cell": false,
   "toc_position": {},
   "toc_section_display": true,
   "toc_window_display": true
  }
 },
 "nbformat": 4,
 "nbformat_minor": 2
}
