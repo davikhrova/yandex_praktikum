{
 "cells": [
  {
   "cell_type": "markdown",
   "metadata": {},
   "source": [
    "# Исследование объявлений о продаже квартир\n",
    "\n",
    "В вашем распоряжении данные сервиса Яндекс.Недвижимость — архив объявлений о продаже квартир в Санкт-Петербурге и соседних населённых пунктах за несколько лет. Нужно научиться определять рыночную стоимость объектов недвижимости. Ваша задача — установить параметры. Это позволит построить автоматизированную систему: она отследит аномалии и мошенническую деятельность. \n",
    "\n",
    "По каждой квартире на продажу доступны два вида данных. Первые вписаны пользователем, вторые получены автоматически на основе картографических данных. Например, расстояние до центра, аэропорта, ближайшего парка и водоёма. "
   ]
  },
  {
   "cell_type": "markdown",
   "metadata": {},
   "source": [
    "## Изучение данных из файла"
   ]
  },
  {
   "cell_type": "markdown",
   "metadata": {},
   "source": [
    " Получение данных и общей информации о массиве данных:"
   ]
  },
  {
   "cell_type": "code",
   "execution_count": 1,
   "metadata": {},
   "outputs": [
    {
     "name": "stdout",
     "output_type": "stream",
     "text": [
      "<class 'pandas.core.frame.DataFrame'>\n",
      "RangeIndex: 23699 entries, 0 to 23698\n",
      "Data columns (total 22 columns):\n",
      "total_images            23699 non-null int64\n",
      "last_price              23699 non-null object\n",
      "total_area              23699 non-null object\n",
      "first_day_exposition    23699 non-null object\n",
      "rooms                   23699 non-null int64\n",
      "ceiling_height          14504 non-null object\n",
      "floors_total            23613 non-null object\n",
      "living_area             21796 non-null object\n",
      "floor                   23699 non-null int64\n",
      "is_apartment            2775 non-null object\n",
      "studio                  23699 non-null bool\n",
      "open_plan               23699 non-null bool\n",
      "kitchen_area            21421 non-null object\n",
      "balcony                 12180 non-null object\n",
      "locality_name           23650 non-null object\n",
      "airports_nearest        18157 non-null object\n",
      "cityCenters_nearest     18180 non-null object\n",
      "parks_around3000        18181 non-null object\n",
      "parks_nearest           8079 non-null object\n",
      "ponds_around3000        18181 non-null object\n",
      "ponds_nearest           9110 non-null object\n",
      "days_exposition         20518 non-null object\n",
      "dtypes: bool(2), int64(3), object(17)\n",
      "memory usage: 3.7+ MB\n"
     ]
    },
    {
     "data": {
      "text/html": [
       "<div>\n",
       "<style scoped>\n",
       "    .dataframe tbody tr th:only-of-type {\n",
       "        vertical-align: middle;\n",
       "    }\n",
       "\n",
       "    .dataframe tbody tr th {\n",
       "        vertical-align: top;\n",
       "    }\n",
       "\n",
       "    .dataframe thead th {\n",
       "        text-align: right;\n",
       "    }\n",
       "</style>\n",
       "<table border=\"1\" class=\"dataframe\">\n",
       "  <thead>\n",
       "    <tr style=\"text-align: right;\">\n",
       "      <th></th>\n",
       "      <th>total_images</th>\n",
       "      <th>rooms</th>\n",
       "      <th>floor</th>\n",
       "    </tr>\n",
       "  </thead>\n",
       "  <tbody>\n",
       "    <tr>\n",
       "      <td>count</td>\n",
       "      <td>23699.000000</td>\n",
       "      <td>23699.000000</td>\n",
       "      <td>23699.000000</td>\n",
       "    </tr>\n",
       "    <tr>\n",
       "      <td>mean</td>\n",
       "      <td>9.858475</td>\n",
       "      <td>2.070636</td>\n",
       "      <td>5.892358</td>\n",
       "    </tr>\n",
       "    <tr>\n",
       "      <td>std</td>\n",
       "      <td>5.682529</td>\n",
       "      <td>1.078405</td>\n",
       "      <td>4.885249</td>\n",
       "    </tr>\n",
       "    <tr>\n",
       "      <td>min</td>\n",
       "      <td>0.000000</td>\n",
       "      <td>0.000000</td>\n",
       "      <td>1.000000</td>\n",
       "    </tr>\n",
       "    <tr>\n",
       "      <td>25%</td>\n",
       "      <td>6.000000</td>\n",
       "      <td>1.000000</td>\n",
       "      <td>2.000000</td>\n",
       "    </tr>\n",
       "    <tr>\n",
       "      <td>50%</td>\n",
       "      <td>9.000000</td>\n",
       "      <td>2.000000</td>\n",
       "      <td>4.000000</td>\n",
       "    </tr>\n",
       "    <tr>\n",
       "      <td>75%</td>\n",
       "      <td>14.000000</td>\n",
       "      <td>3.000000</td>\n",
       "      <td>8.000000</td>\n",
       "    </tr>\n",
       "    <tr>\n",
       "      <td>max</td>\n",
       "      <td>50.000000</td>\n",
       "      <td>19.000000</td>\n",
       "      <td>33.000000</td>\n",
       "    </tr>\n",
       "  </tbody>\n",
       "</table>\n",
       "</div>"
      ],
      "text/plain": [
       "       total_images         rooms         floor\n",
       "count  23699.000000  23699.000000  23699.000000\n",
       "mean       9.858475      2.070636      5.892358\n",
       "std        5.682529      1.078405      4.885249\n",
       "min        0.000000      0.000000      1.000000\n",
       "25%        6.000000      1.000000      2.000000\n",
       "50%        9.000000      2.000000      4.000000\n",
       "75%       14.000000      3.000000      8.000000\n",
       "max       50.000000     19.000000     33.000000"
      ]
     },
     "execution_count": 1,
     "metadata": {},
     "output_type": "execute_result"
    }
   ],
   "source": [
    "import pandas as pd\n",
    "import matplotlib.pyplot as plt \n",
    "pd.options.display.max_columns = None\n",
    "data = pd.read_csv('/datasets/real_estate_data.csv', sep = '\\t', decimal = ',')\n",
    "data.info()\n",
    "data.describe()\n",
    "\n"
   ]
  },
  {
   "cell_type": "markdown",
   "metadata": {},
   "source": [
    "Получение 30 строк массива:"
   ]
  },
  {
   "cell_type": "code",
   "execution_count": 2,
   "metadata": {},
   "outputs": [
    {
     "data": {
      "text/html": [
       "<div>\n",
       "<style scoped>\n",
       "    .dataframe tbody tr th:only-of-type {\n",
       "        vertical-align: middle;\n",
       "    }\n",
       "\n",
       "    .dataframe tbody tr th {\n",
       "        vertical-align: top;\n",
       "    }\n",
       "\n",
       "    .dataframe thead th {\n",
       "        text-align: right;\n",
       "    }\n",
       "</style>\n",
       "<table border=\"1\" class=\"dataframe\">\n",
       "  <thead>\n",
       "    <tr style=\"text-align: right;\">\n",
       "      <th></th>\n",
       "      <th>total_images</th>\n",
       "      <th>last_price</th>\n",
       "      <th>total_area</th>\n",
       "      <th>first_day_exposition</th>\n",
       "      <th>rooms</th>\n",
       "      <th>ceiling_height</th>\n",
       "      <th>floors_total</th>\n",
       "      <th>living_area</th>\n",
       "      <th>floor</th>\n",
       "      <th>is_apartment</th>\n",
       "      <th>studio</th>\n",
       "      <th>open_plan</th>\n",
       "      <th>kitchen_area</th>\n",
       "      <th>balcony</th>\n",
       "      <th>locality_name</th>\n",
       "      <th>airports_nearest</th>\n",
       "      <th>cityCenters_nearest</th>\n",
       "      <th>parks_around3000</th>\n",
       "      <th>parks_nearest</th>\n",
       "      <th>ponds_around3000</th>\n",
       "      <th>ponds_nearest</th>\n",
       "      <th>days_exposition</th>\n",
       "    </tr>\n",
       "  </thead>\n",
       "  <tbody>\n",
       "    <tr>\n",
       "      <td>0</td>\n",
       "      <td>20</td>\n",
       "      <td>13000000.0</td>\n",
       "      <td>108.0</td>\n",
       "      <td>2019-03-07T00:00:00</td>\n",
       "      <td>3</td>\n",
       "      <td>2.7</td>\n",
       "      <td>16.0</td>\n",
       "      <td>51.0</td>\n",
       "      <td>8</td>\n",
       "      <td>NaN</td>\n",
       "      <td>False</td>\n",
       "      <td>False</td>\n",
       "      <td>25.0</td>\n",
       "      <td>NaN</td>\n",
       "      <td>Санкт-Петербург</td>\n",
       "      <td>18863.0</td>\n",
       "      <td>16028.0</td>\n",
       "      <td>1.0</td>\n",
       "      <td>482.0</td>\n",
       "      <td>2.0</td>\n",
       "      <td>755.0</td>\n",
       "      <td>NaN</td>\n",
       "    </tr>\n",
       "    <tr>\n",
       "      <td>1</td>\n",
       "      <td>7</td>\n",
       "      <td>3350000.0</td>\n",
       "      <td>40.4</td>\n",
       "      <td>2018-12-04T00:00:00</td>\n",
       "      <td>1</td>\n",
       "      <td>NaN</td>\n",
       "      <td>11.0</td>\n",
       "      <td>18.6</td>\n",
       "      <td>1</td>\n",
       "      <td>NaN</td>\n",
       "      <td>False</td>\n",
       "      <td>False</td>\n",
       "      <td>11.0</td>\n",
       "      <td>2.0</td>\n",
       "      <td>посёлок Шушары</td>\n",
       "      <td>12817.0</td>\n",
       "      <td>18603.0</td>\n",
       "      <td>0.0</td>\n",
       "      <td>NaN</td>\n",
       "      <td>0.0</td>\n",
       "      <td>NaN</td>\n",
       "      <td>81.0</td>\n",
       "    </tr>\n",
       "    <tr>\n",
       "      <td>2</td>\n",
       "      <td>10</td>\n",
       "      <td>5196000.0</td>\n",
       "      <td>56.0</td>\n",
       "      <td>2015-08-20T00:00:00</td>\n",
       "      <td>2</td>\n",
       "      <td>NaN</td>\n",
       "      <td>5.0</td>\n",
       "      <td>34.3</td>\n",
       "      <td>4</td>\n",
       "      <td>NaN</td>\n",
       "      <td>False</td>\n",
       "      <td>False</td>\n",
       "      <td>8.3</td>\n",
       "      <td>0.0</td>\n",
       "      <td>Санкт-Петербург</td>\n",
       "      <td>21741.0</td>\n",
       "      <td>13933.0</td>\n",
       "      <td>1.0</td>\n",
       "      <td>90.0</td>\n",
       "      <td>2.0</td>\n",
       "      <td>574.0</td>\n",
       "      <td>558.0</td>\n",
       "    </tr>\n",
       "    <tr>\n",
       "      <td>3</td>\n",
       "      <td>0</td>\n",
       "      <td>64900000.0</td>\n",
       "      <td>159.0</td>\n",
       "      <td>2015-07-24T00:00:00</td>\n",
       "      <td>3</td>\n",
       "      <td>NaN</td>\n",
       "      <td>14.0</td>\n",
       "      <td>NaN</td>\n",
       "      <td>9</td>\n",
       "      <td>NaN</td>\n",
       "      <td>False</td>\n",
       "      <td>False</td>\n",
       "      <td>NaN</td>\n",
       "      <td>0.0</td>\n",
       "      <td>Санкт-Петербург</td>\n",
       "      <td>28098.0</td>\n",
       "      <td>6800.0</td>\n",
       "      <td>2.0</td>\n",
       "      <td>84.0</td>\n",
       "      <td>3.0</td>\n",
       "      <td>234.0</td>\n",
       "      <td>424.0</td>\n",
       "    </tr>\n",
       "    <tr>\n",
       "      <td>4</td>\n",
       "      <td>2</td>\n",
       "      <td>10000000.0</td>\n",
       "      <td>100.0</td>\n",
       "      <td>2018-06-19T00:00:00</td>\n",
       "      <td>2</td>\n",
       "      <td>3.03</td>\n",
       "      <td>14.0</td>\n",
       "      <td>32.0</td>\n",
       "      <td>13</td>\n",
       "      <td>NaN</td>\n",
       "      <td>False</td>\n",
       "      <td>False</td>\n",
       "      <td>41.0</td>\n",
       "      <td>NaN</td>\n",
       "      <td>Санкт-Петербург</td>\n",
       "      <td>31856.0</td>\n",
       "      <td>8098.0</td>\n",
       "      <td>2.0</td>\n",
       "      <td>112.0</td>\n",
       "      <td>1.0</td>\n",
       "      <td>48.0</td>\n",
       "      <td>121.0</td>\n",
       "    </tr>\n",
       "    <tr>\n",
       "      <td>5</td>\n",
       "      <td>10</td>\n",
       "      <td>2890000.0</td>\n",
       "      <td>30.4</td>\n",
       "      <td>2018-09-10T00:00:00</td>\n",
       "      <td>1</td>\n",
       "      <td>NaN</td>\n",
       "      <td>12.0</td>\n",
       "      <td>14.4</td>\n",
       "      <td>5</td>\n",
       "      <td>NaN</td>\n",
       "      <td>False</td>\n",
       "      <td>False</td>\n",
       "      <td>9.1</td>\n",
       "      <td>NaN</td>\n",
       "      <td>городской посёлок Янино-1</td>\n",
       "      <td>NaN</td>\n",
       "      <td>NaN</td>\n",
       "      <td>NaN</td>\n",
       "      <td>NaN</td>\n",
       "      <td>NaN</td>\n",
       "      <td>NaN</td>\n",
       "      <td>55.0</td>\n",
       "    </tr>\n",
       "    <tr>\n",
       "      <td>6</td>\n",
       "      <td>6</td>\n",
       "      <td>3700000.0</td>\n",
       "      <td>37.3</td>\n",
       "      <td>2017-11-02T00:00:00</td>\n",
       "      <td>1</td>\n",
       "      <td>NaN</td>\n",
       "      <td>26.0</td>\n",
       "      <td>10.6</td>\n",
       "      <td>6</td>\n",
       "      <td>NaN</td>\n",
       "      <td>False</td>\n",
       "      <td>False</td>\n",
       "      <td>14.4</td>\n",
       "      <td>1.0</td>\n",
       "      <td>посёлок Парголово</td>\n",
       "      <td>52996.0</td>\n",
       "      <td>19143.0</td>\n",
       "      <td>0.0</td>\n",
       "      <td>NaN</td>\n",
       "      <td>0.0</td>\n",
       "      <td>NaN</td>\n",
       "      <td>155.0</td>\n",
       "    </tr>\n",
       "    <tr>\n",
       "      <td>7</td>\n",
       "      <td>5</td>\n",
       "      <td>7915000.0</td>\n",
       "      <td>71.6</td>\n",
       "      <td>2019-04-18T00:00:00</td>\n",
       "      <td>2</td>\n",
       "      <td>NaN</td>\n",
       "      <td>24.0</td>\n",
       "      <td>NaN</td>\n",
       "      <td>22</td>\n",
       "      <td>NaN</td>\n",
       "      <td>False</td>\n",
       "      <td>False</td>\n",
       "      <td>18.9</td>\n",
       "      <td>2.0</td>\n",
       "      <td>Санкт-Петербург</td>\n",
       "      <td>23982.0</td>\n",
       "      <td>11634.0</td>\n",
       "      <td>0.0</td>\n",
       "      <td>NaN</td>\n",
       "      <td>0.0</td>\n",
       "      <td>NaN</td>\n",
       "      <td>NaN</td>\n",
       "    </tr>\n",
       "    <tr>\n",
       "      <td>8</td>\n",
       "      <td>20</td>\n",
       "      <td>2900000.0</td>\n",
       "      <td>33.16</td>\n",
       "      <td>2018-05-23T00:00:00</td>\n",
       "      <td>1</td>\n",
       "      <td>NaN</td>\n",
       "      <td>27.0</td>\n",
       "      <td>15.43</td>\n",
       "      <td>26</td>\n",
       "      <td>NaN</td>\n",
       "      <td>False</td>\n",
       "      <td>False</td>\n",
       "      <td>8.81</td>\n",
       "      <td>NaN</td>\n",
       "      <td>посёлок Мурино</td>\n",
       "      <td>NaN</td>\n",
       "      <td>NaN</td>\n",
       "      <td>NaN</td>\n",
       "      <td>NaN</td>\n",
       "      <td>NaN</td>\n",
       "      <td>NaN</td>\n",
       "      <td>189.00000000000003</td>\n",
       "    </tr>\n",
       "    <tr>\n",
       "      <td>9</td>\n",
       "      <td>18</td>\n",
       "      <td>5400000.0</td>\n",
       "      <td>61.0</td>\n",
       "      <td>2017-02-26T00:00:00</td>\n",
       "      <td>3</td>\n",
       "      <td>2.5</td>\n",
       "      <td>9.0</td>\n",
       "      <td>43.6</td>\n",
       "      <td>7</td>\n",
       "      <td>NaN</td>\n",
       "      <td>False</td>\n",
       "      <td>False</td>\n",
       "      <td>6.5</td>\n",
       "      <td>2.0</td>\n",
       "      <td>Санкт-Петербург</td>\n",
       "      <td>50898.0</td>\n",
       "      <td>15008.0</td>\n",
       "      <td>0.0</td>\n",
       "      <td>NaN</td>\n",
       "      <td>0.0</td>\n",
       "      <td>NaN</td>\n",
       "      <td>289.0</td>\n",
       "    </tr>\n",
       "    <tr>\n",
       "      <td>10</td>\n",
       "      <td>5</td>\n",
       "      <td>5050000.0</td>\n",
       "      <td>39.6</td>\n",
       "      <td>2017-11-16T00:00:00</td>\n",
       "      <td>1</td>\n",
       "      <td>2.67</td>\n",
       "      <td>12.0</td>\n",
       "      <td>20.3</td>\n",
       "      <td>3</td>\n",
       "      <td>NaN</td>\n",
       "      <td>False</td>\n",
       "      <td>False</td>\n",
       "      <td>8.5</td>\n",
       "      <td>NaN</td>\n",
       "      <td>Санкт-Петербург</td>\n",
       "      <td>38357.0</td>\n",
       "      <td>13878.0</td>\n",
       "      <td>1.0</td>\n",
       "      <td>310.0</td>\n",
       "      <td>2.0</td>\n",
       "      <td>553.0</td>\n",
       "      <td>137.0</td>\n",
       "    </tr>\n",
       "    <tr>\n",
       "      <td>11</td>\n",
       "      <td>9</td>\n",
       "      <td>3300000.0</td>\n",
       "      <td>44.0</td>\n",
       "      <td>2018-08-27T00:00:00</td>\n",
       "      <td>2</td>\n",
       "      <td>NaN</td>\n",
       "      <td>5.0</td>\n",
       "      <td>31.0</td>\n",
       "      <td>4</td>\n",
       "      <td>False</td>\n",
       "      <td>False</td>\n",
       "      <td>False</td>\n",
       "      <td>6.0</td>\n",
       "      <td>1.0</td>\n",
       "      <td>Ломоносов</td>\n",
       "      <td>48252.0</td>\n",
       "      <td>51677.0</td>\n",
       "      <td>0.0</td>\n",
       "      <td>NaN</td>\n",
       "      <td>0.0</td>\n",
       "      <td>NaN</td>\n",
       "      <td>7.0</td>\n",
       "    </tr>\n",
       "    <tr>\n",
       "      <td>12</td>\n",
       "      <td>10</td>\n",
       "      <td>3890000.0</td>\n",
       "      <td>54.0</td>\n",
       "      <td>2016-06-30T00:00:00</td>\n",
       "      <td>2</td>\n",
       "      <td>NaN</td>\n",
       "      <td>5.0</td>\n",
       "      <td>30.0</td>\n",
       "      <td>5</td>\n",
       "      <td>NaN</td>\n",
       "      <td>False</td>\n",
       "      <td>False</td>\n",
       "      <td>9.0</td>\n",
       "      <td>0.0</td>\n",
       "      <td>Сертолово</td>\n",
       "      <td>NaN</td>\n",
       "      <td>NaN</td>\n",
       "      <td>NaN</td>\n",
       "      <td>NaN</td>\n",
       "      <td>NaN</td>\n",
       "      <td>NaN</td>\n",
       "      <td>90.00000000000001</td>\n",
       "    </tr>\n",
       "    <tr>\n",
       "      <td>13</td>\n",
       "      <td>20</td>\n",
       "      <td>3550000.0</td>\n",
       "      <td>42.8</td>\n",
       "      <td>2017-07-01T00:00:00</td>\n",
       "      <td>2</td>\n",
       "      <td>2.56</td>\n",
       "      <td>5.0</td>\n",
       "      <td>27.0</td>\n",
       "      <td>5</td>\n",
       "      <td>NaN</td>\n",
       "      <td>False</td>\n",
       "      <td>False</td>\n",
       "      <td>5.2</td>\n",
       "      <td>1.0</td>\n",
       "      <td>Петергоф</td>\n",
       "      <td>37868.0</td>\n",
       "      <td>33058.0</td>\n",
       "      <td>1.0</td>\n",
       "      <td>294.0</td>\n",
       "      <td>3.0</td>\n",
       "      <td>298.0</td>\n",
       "      <td>366.00000000000006</td>\n",
       "    </tr>\n",
       "    <tr>\n",
       "      <td>14</td>\n",
       "      <td>1</td>\n",
       "      <td>4400000.0</td>\n",
       "      <td>36.0</td>\n",
       "      <td>2016-06-23T00:00:00</td>\n",
       "      <td>1</td>\n",
       "      <td>NaN</td>\n",
       "      <td>6.0</td>\n",
       "      <td>17.0</td>\n",
       "      <td>1</td>\n",
       "      <td>NaN</td>\n",
       "      <td>False</td>\n",
       "      <td>False</td>\n",
       "      <td>8.0</td>\n",
       "      <td>0.0</td>\n",
       "      <td>Пушкин</td>\n",
       "      <td>20782.0</td>\n",
       "      <td>30759.0</td>\n",
       "      <td>0.0</td>\n",
       "      <td>NaN</td>\n",
       "      <td>1.0</td>\n",
       "      <td>96.0</td>\n",
       "      <td>203.0</td>\n",
       "    </tr>\n",
       "    <tr>\n",
       "      <td>15</td>\n",
       "      <td>16</td>\n",
       "      <td>4650000.0</td>\n",
       "      <td>39.0</td>\n",
       "      <td>2017-11-18T00:00:00</td>\n",
       "      <td>1</td>\n",
       "      <td>NaN</td>\n",
       "      <td>14.0</td>\n",
       "      <td>20.5</td>\n",
       "      <td>5</td>\n",
       "      <td>NaN</td>\n",
       "      <td>False</td>\n",
       "      <td>False</td>\n",
       "      <td>7.6</td>\n",
       "      <td>1.0</td>\n",
       "      <td>Санкт-Петербург</td>\n",
       "      <td>12900.0</td>\n",
       "      <td>14259.0</td>\n",
       "      <td>1.0</td>\n",
       "      <td>590.0</td>\n",
       "      <td>1.0</td>\n",
       "      <td>296.0</td>\n",
       "      <td>19.0</td>\n",
       "    </tr>\n",
       "    <tr>\n",
       "      <td>16</td>\n",
       "      <td>11</td>\n",
       "      <td>6700000.0</td>\n",
       "      <td>82.0</td>\n",
       "      <td>2017-11-23T00:00:00</td>\n",
       "      <td>3</td>\n",
       "      <td>3.05</td>\n",
       "      <td>5.0</td>\n",
       "      <td>55.6</td>\n",
       "      <td>1</td>\n",
       "      <td>NaN</td>\n",
       "      <td>False</td>\n",
       "      <td>False</td>\n",
       "      <td>9.0</td>\n",
       "      <td>NaN</td>\n",
       "      <td>Санкт-Петербург</td>\n",
       "      <td>22108.0</td>\n",
       "      <td>10698.0</td>\n",
       "      <td>3.0</td>\n",
       "      <td>420.0</td>\n",
       "      <td>0.0</td>\n",
       "      <td>NaN</td>\n",
       "      <td>397.0</td>\n",
       "    </tr>\n",
       "    <tr>\n",
       "      <td>17</td>\n",
       "      <td>6</td>\n",
       "      <td>4180000.0</td>\n",
       "      <td>36.0</td>\n",
       "      <td>2016-09-09T00:00:00</td>\n",
       "      <td>1</td>\n",
       "      <td>NaN</td>\n",
       "      <td>17.0</td>\n",
       "      <td>16.5</td>\n",
       "      <td>7</td>\n",
       "      <td>NaN</td>\n",
       "      <td>False</td>\n",
       "      <td>False</td>\n",
       "      <td>11.0</td>\n",
       "      <td>1.0</td>\n",
       "      <td>Санкт-Петербург</td>\n",
       "      <td>33564.0</td>\n",
       "      <td>14616.0</td>\n",
       "      <td>0.0</td>\n",
       "      <td>NaN</td>\n",
       "      <td>1.0</td>\n",
       "      <td>859.0</td>\n",
       "      <td>571.0</td>\n",
       "    </tr>\n",
       "    <tr>\n",
       "      <td>18</td>\n",
       "      <td>8</td>\n",
       "      <td>3250000.0</td>\n",
       "      <td>31.0</td>\n",
       "      <td>2017-01-27T00:00:00</td>\n",
       "      <td>1</td>\n",
       "      <td>2.5</td>\n",
       "      <td>5.0</td>\n",
       "      <td>19.4</td>\n",
       "      <td>2</td>\n",
       "      <td>NaN</td>\n",
       "      <td>False</td>\n",
       "      <td>False</td>\n",
       "      <td>5.6</td>\n",
       "      <td>1.0</td>\n",
       "      <td>Санкт-Петербург</td>\n",
       "      <td>44060.0</td>\n",
       "      <td>10842.0</td>\n",
       "      <td>1.0</td>\n",
       "      <td>759.0</td>\n",
       "      <td>0.0</td>\n",
       "      <td>NaN</td>\n",
       "      <td>168.0</td>\n",
       "    </tr>\n",
       "    <tr>\n",
       "      <td>19</td>\n",
       "      <td>16</td>\n",
       "      <td>14200000.0</td>\n",
       "      <td>121.0</td>\n",
       "      <td>2019-01-09T00:00:00</td>\n",
       "      <td>3</td>\n",
       "      <td>2.75</td>\n",
       "      <td>16.0</td>\n",
       "      <td>76.0</td>\n",
       "      <td>8</td>\n",
       "      <td>NaN</td>\n",
       "      <td>False</td>\n",
       "      <td>False</td>\n",
       "      <td>12.0</td>\n",
       "      <td>NaN</td>\n",
       "      <td>Санкт-Петербург</td>\n",
       "      <td>38900.0</td>\n",
       "      <td>12843.0</td>\n",
       "      <td>0.0</td>\n",
       "      <td>NaN</td>\n",
       "      <td>0.0</td>\n",
       "      <td>NaN</td>\n",
       "      <td>97.0</td>\n",
       "    </tr>\n",
       "    <tr>\n",
       "      <td>20</td>\n",
       "      <td>12</td>\n",
       "      <td>6120000.0</td>\n",
       "      <td>80.0</td>\n",
       "      <td>2017-09-28T00:00:00</td>\n",
       "      <td>3</td>\n",
       "      <td>2.7</td>\n",
       "      <td>27.0</td>\n",
       "      <td>48.0</td>\n",
       "      <td>11</td>\n",
       "      <td>NaN</td>\n",
       "      <td>False</td>\n",
       "      <td>False</td>\n",
       "      <td>12.0</td>\n",
       "      <td>2.0</td>\n",
       "      <td>посёлок Парголово</td>\n",
       "      <td>53134.0</td>\n",
       "      <td>19311.0</td>\n",
       "      <td>0.0</td>\n",
       "      <td>NaN</td>\n",
       "      <td>0.0</td>\n",
       "      <td>NaN</td>\n",
       "      <td>74.0</td>\n",
       "    </tr>\n",
       "    <tr>\n",
       "      <td>21</td>\n",
       "      <td>13</td>\n",
       "      <td>3200000.0</td>\n",
       "      <td>31.6</td>\n",
       "      <td>2018-03-14T00:00:00</td>\n",
       "      <td>1</td>\n",
       "      <td>NaN</td>\n",
       "      <td>5.0</td>\n",
       "      <td>16.9</td>\n",
       "      <td>2</td>\n",
       "      <td>NaN</td>\n",
       "      <td>False</td>\n",
       "      <td>False</td>\n",
       "      <td>5.7</td>\n",
       "      <td>1.0</td>\n",
       "      <td>Санкт-Петербург</td>\n",
       "      <td>36064.0</td>\n",
       "      <td>9722.0</td>\n",
       "      <td>1.0</td>\n",
       "      <td>248.0</td>\n",
       "      <td>0.0</td>\n",
       "      <td>NaN</td>\n",
       "      <td>310.0</td>\n",
       "    </tr>\n",
       "    <tr>\n",
       "      <td>22</td>\n",
       "      <td>20</td>\n",
       "      <td>5000000.0</td>\n",
       "      <td>58.0</td>\n",
       "      <td>2017-04-24T00:00:00</td>\n",
       "      <td>2</td>\n",
       "      <td>2.75</td>\n",
       "      <td>25.0</td>\n",
       "      <td>30.0</td>\n",
       "      <td>15</td>\n",
       "      <td>NaN</td>\n",
       "      <td>False</td>\n",
       "      <td>False</td>\n",
       "      <td>11.0</td>\n",
       "      <td>2.0</td>\n",
       "      <td>деревня Кудрово</td>\n",
       "      <td>NaN</td>\n",
       "      <td>NaN</td>\n",
       "      <td>NaN</td>\n",
       "      <td>NaN</td>\n",
       "      <td>NaN</td>\n",
       "      <td>NaN</td>\n",
       "      <td>60.0</td>\n",
       "    </tr>\n",
       "    <tr>\n",
       "      <td>23</td>\n",
       "      <td>11</td>\n",
       "      <td>2950000.0</td>\n",
       "      <td>32.0</td>\n",
       "      <td>2016-10-29T00:00:00</td>\n",
       "      <td>1</td>\n",
       "      <td>2.6</td>\n",
       "      <td>9.0</td>\n",
       "      <td>17.7</td>\n",
       "      <td>9</td>\n",
       "      <td>NaN</td>\n",
       "      <td>False</td>\n",
       "      <td>False</td>\n",
       "      <td>6.1</td>\n",
       "      <td>NaN</td>\n",
       "      <td>Санкт-Петербург</td>\n",
       "      <td>15414.0</td>\n",
       "      <td>14211.0</td>\n",
       "      <td>2.0</td>\n",
       "      <td>517.0</td>\n",
       "      <td>1.0</td>\n",
       "      <td>190.0</td>\n",
       "      <td>615.0</td>\n",
       "    </tr>\n",
       "    <tr>\n",
       "      <td>24</td>\n",
       "      <td>8</td>\n",
       "      <td>6500000.0</td>\n",
       "      <td>97.2</td>\n",
       "      <td>2015-10-31T00:00:00</td>\n",
       "      <td>2</td>\n",
       "      <td>NaN</td>\n",
       "      <td>3.0</td>\n",
       "      <td>46.5</td>\n",
       "      <td>1</td>\n",
       "      <td>NaN</td>\n",
       "      <td>False</td>\n",
       "      <td>False</td>\n",
       "      <td>19.6</td>\n",
       "      <td>0.0</td>\n",
       "      <td>Санкт-Петербург</td>\n",
       "      <td>20052.0</td>\n",
       "      <td>2336.0</td>\n",
       "      <td>3.0</td>\n",
       "      <td>411.0</td>\n",
       "      <td>3.0</td>\n",
       "      <td>124.0</td>\n",
       "      <td>265.0</td>\n",
       "    </tr>\n",
       "    <tr>\n",
       "      <td>25</td>\n",
       "      <td>3</td>\n",
       "      <td>6800000.0</td>\n",
       "      <td>76.0</td>\n",
       "      <td>2015-10-01T00:00:00</td>\n",
       "      <td>2</td>\n",
       "      <td>2.75</td>\n",
       "      <td>23.0</td>\n",
       "      <td>39.0</td>\n",
       "      <td>18</td>\n",
       "      <td>False</td>\n",
       "      <td>False</td>\n",
       "      <td>False</td>\n",
       "      <td>15.0</td>\n",
       "      <td>2.0</td>\n",
       "      <td>Санкт-Петербург</td>\n",
       "      <td>34967.0</td>\n",
       "      <td>14640.0</td>\n",
       "      <td>0.0</td>\n",
       "      <td>NaN</td>\n",
       "      <td>1.0</td>\n",
       "      <td>564.0</td>\n",
       "      <td>300.0</td>\n",
       "    </tr>\n",
       "    <tr>\n",
       "      <td>26</td>\n",
       "      <td>6</td>\n",
       "      <td>4050000.0</td>\n",
       "      <td>60.0</td>\n",
       "      <td>2017-04-28T00:00:00</td>\n",
       "      <td>4</td>\n",
       "      <td>NaN</td>\n",
       "      <td>5.0</td>\n",
       "      <td>43.0</td>\n",
       "      <td>4</td>\n",
       "      <td>NaN</td>\n",
       "      <td>False</td>\n",
       "      <td>False</td>\n",
       "      <td>7.0</td>\n",
       "      <td>NaN</td>\n",
       "      <td>Санкт-Петербург</td>\n",
       "      <td>11580.0</td>\n",
       "      <td>10510.0</td>\n",
       "      <td>0.0</td>\n",
       "      <td>NaN</td>\n",
       "      <td>1.0</td>\n",
       "      <td>95.0</td>\n",
       "      <td>265.0</td>\n",
       "    </tr>\n",
       "    <tr>\n",
       "      <td>27</td>\n",
       "      <td>20</td>\n",
       "      <td>7100000.0</td>\n",
       "      <td>70.0</td>\n",
       "      <td>2017-05-12T00:00:00</td>\n",
       "      <td>3</td>\n",
       "      <td>2.6</td>\n",
       "      <td>17.0</td>\n",
       "      <td>49.0</td>\n",
       "      <td>11</td>\n",
       "      <td>NaN</td>\n",
       "      <td>False</td>\n",
       "      <td>False</td>\n",
       "      <td>9.2</td>\n",
       "      <td>0.0</td>\n",
       "      <td>Санкт-Петербург</td>\n",
       "      <td>29197.0</td>\n",
       "      <td>11456.0</td>\n",
       "      <td>2.0</td>\n",
       "      <td>452.0</td>\n",
       "      <td>1.0</td>\n",
       "      <td>779.0</td>\n",
       "      <td>151.0</td>\n",
       "    </tr>\n",
       "    <tr>\n",
       "      <td>28</td>\n",
       "      <td>8</td>\n",
       "      <td>4170000.0</td>\n",
       "      <td>44.0</td>\n",
       "      <td>2017-12-13T00:00:00</td>\n",
       "      <td>1</td>\n",
       "      <td>2.9</td>\n",
       "      <td>6.0</td>\n",
       "      <td>20.8</td>\n",
       "      <td>1</td>\n",
       "      <td>NaN</td>\n",
       "      <td>False</td>\n",
       "      <td>False</td>\n",
       "      <td>11.7</td>\n",
       "      <td>1.0</td>\n",
       "      <td>Пушкин</td>\n",
       "      <td>18557.0</td>\n",
       "      <td>30710.0</td>\n",
       "      <td>0.0</td>\n",
       "      <td>NaN</td>\n",
       "      <td>1.0</td>\n",
       "      <td>118.0</td>\n",
       "      <td>74.0</td>\n",
       "    </tr>\n",
       "    <tr>\n",
       "      <td>29</td>\n",
       "      <td>9</td>\n",
       "      <td>8600000.0</td>\n",
       "      <td>100.0</td>\n",
       "      <td>2016-04-09T00:00:00</td>\n",
       "      <td>3</td>\n",
       "      <td>NaN</td>\n",
       "      <td>19.0</td>\n",
       "      <td>52.0</td>\n",
       "      <td>15</td>\n",
       "      <td>False</td>\n",
       "      <td>False</td>\n",
       "      <td>False</td>\n",
       "      <td>11.0</td>\n",
       "      <td>0.0</td>\n",
       "      <td>Санкт-Петербург</td>\n",
       "      <td>30394.0</td>\n",
       "      <td>11526.0</td>\n",
       "      <td>1.0</td>\n",
       "      <td>532.0</td>\n",
       "      <td>1.0</td>\n",
       "      <td>896.0</td>\n",
       "      <td>125.0</td>\n",
       "    </tr>\n",
       "  </tbody>\n",
       "</table>\n",
       "</div>"
      ],
      "text/plain": [
       "    total_images  last_price total_area first_day_exposition  rooms  \\\n",
       "0             20  13000000.0      108.0  2019-03-07T00:00:00      3   \n",
       "1              7   3350000.0       40.4  2018-12-04T00:00:00      1   \n",
       "2             10   5196000.0       56.0  2015-08-20T00:00:00      2   \n",
       "3              0  64900000.0      159.0  2015-07-24T00:00:00      3   \n",
       "4              2  10000000.0      100.0  2018-06-19T00:00:00      2   \n",
       "5             10   2890000.0       30.4  2018-09-10T00:00:00      1   \n",
       "6              6   3700000.0       37.3  2017-11-02T00:00:00      1   \n",
       "7              5   7915000.0       71.6  2019-04-18T00:00:00      2   \n",
       "8             20   2900000.0      33.16  2018-05-23T00:00:00      1   \n",
       "9             18   5400000.0       61.0  2017-02-26T00:00:00      3   \n",
       "10             5   5050000.0       39.6  2017-11-16T00:00:00      1   \n",
       "11             9   3300000.0       44.0  2018-08-27T00:00:00      2   \n",
       "12            10   3890000.0       54.0  2016-06-30T00:00:00      2   \n",
       "13            20   3550000.0       42.8  2017-07-01T00:00:00      2   \n",
       "14             1   4400000.0       36.0  2016-06-23T00:00:00      1   \n",
       "15            16   4650000.0       39.0  2017-11-18T00:00:00      1   \n",
       "16            11   6700000.0       82.0  2017-11-23T00:00:00      3   \n",
       "17             6   4180000.0       36.0  2016-09-09T00:00:00      1   \n",
       "18             8   3250000.0       31.0  2017-01-27T00:00:00      1   \n",
       "19            16  14200000.0      121.0  2019-01-09T00:00:00      3   \n",
       "20            12   6120000.0       80.0  2017-09-28T00:00:00      3   \n",
       "21            13   3200000.0       31.6  2018-03-14T00:00:00      1   \n",
       "22            20   5000000.0       58.0  2017-04-24T00:00:00      2   \n",
       "23            11   2950000.0       32.0  2016-10-29T00:00:00      1   \n",
       "24             8   6500000.0       97.2  2015-10-31T00:00:00      2   \n",
       "25             3   6800000.0       76.0  2015-10-01T00:00:00      2   \n",
       "26             6   4050000.0       60.0  2017-04-28T00:00:00      4   \n",
       "27            20   7100000.0       70.0  2017-05-12T00:00:00      3   \n",
       "28             8   4170000.0       44.0  2017-12-13T00:00:00      1   \n",
       "29             9   8600000.0      100.0  2016-04-09T00:00:00      3   \n",
       "\n",
       "   ceiling_height floors_total living_area  floor is_apartment  studio  \\\n",
       "0             2.7         16.0        51.0      8          NaN   False   \n",
       "1             NaN         11.0        18.6      1          NaN   False   \n",
       "2             NaN          5.0        34.3      4          NaN   False   \n",
       "3             NaN         14.0         NaN      9          NaN   False   \n",
       "4            3.03         14.0        32.0     13          NaN   False   \n",
       "5             NaN         12.0        14.4      5          NaN   False   \n",
       "6             NaN         26.0        10.6      6          NaN   False   \n",
       "7             NaN         24.0         NaN     22          NaN   False   \n",
       "8             NaN         27.0       15.43     26          NaN   False   \n",
       "9             2.5          9.0        43.6      7          NaN   False   \n",
       "10           2.67         12.0        20.3      3          NaN   False   \n",
       "11            NaN          5.0        31.0      4        False   False   \n",
       "12            NaN          5.0        30.0      5          NaN   False   \n",
       "13           2.56          5.0        27.0      5          NaN   False   \n",
       "14            NaN          6.0        17.0      1          NaN   False   \n",
       "15            NaN         14.0        20.5      5          NaN   False   \n",
       "16           3.05          5.0        55.6      1          NaN   False   \n",
       "17            NaN         17.0        16.5      7          NaN   False   \n",
       "18            2.5          5.0        19.4      2          NaN   False   \n",
       "19           2.75         16.0        76.0      8          NaN   False   \n",
       "20            2.7         27.0        48.0     11          NaN   False   \n",
       "21            NaN          5.0        16.9      2          NaN   False   \n",
       "22           2.75         25.0        30.0     15          NaN   False   \n",
       "23            2.6          9.0        17.7      9          NaN   False   \n",
       "24            NaN          3.0        46.5      1          NaN   False   \n",
       "25           2.75         23.0        39.0     18        False   False   \n",
       "26            NaN          5.0        43.0      4          NaN   False   \n",
       "27            2.6         17.0        49.0     11          NaN   False   \n",
       "28            2.9          6.0        20.8      1          NaN   False   \n",
       "29            NaN         19.0        52.0     15        False   False   \n",
       "\n",
       "    open_plan kitchen_area balcony              locality_name  \\\n",
       "0       False         25.0     NaN            Санкт-Петербург   \n",
       "1       False         11.0     2.0             посёлок Шушары   \n",
       "2       False          8.3     0.0            Санкт-Петербург   \n",
       "3       False          NaN     0.0            Санкт-Петербург   \n",
       "4       False         41.0     NaN            Санкт-Петербург   \n",
       "5       False          9.1     NaN  городской посёлок Янино-1   \n",
       "6       False         14.4     1.0          посёлок Парголово   \n",
       "7       False         18.9     2.0            Санкт-Петербург   \n",
       "8       False         8.81     NaN             посёлок Мурино   \n",
       "9       False          6.5     2.0            Санкт-Петербург   \n",
       "10      False          8.5     NaN            Санкт-Петербург   \n",
       "11      False          6.0     1.0                  Ломоносов   \n",
       "12      False          9.0     0.0                  Сертолово   \n",
       "13      False          5.2     1.0                   Петергоф   \n",
       "14      False          8.0     0.0                     Пушкин   \n",
       "15      False          7.6     1.0            Санкт-Петербург   \n",
       "16      False          9.0     NaN            Санкт-Петербург   \n",
       "17      False         11.0     1.0            Санкт-Петербург   \n",
       "18      False          5.6     1.0            Санкт-Петербург   \n",
       "19      False         12.0     NaN            Санкт-Петербург   \n",
       "20      False         12.0     2.0          посёлок Парголово   \n",
       "21      False          5.7     1.0            Санкт-Петербург   \n",
       "22      False         11.0     2.0            деревня Кудрово   \n",
       "23      False          6.1     NaN            Санкт-Петербург   \n",
       "24      False         19.6     0.0            Санкт-Петербург   \n",
       "25      False         15.0     2.0            Санкт-Петербург   \n",
       "26      False          7.0     NaN            Санкт-Петербург   \n",
       "27      False          9.2     0.0            Санкт-Петербург   \n",
       "28      False         11.7     1.0                     Пушкин   \n",
       "29      False         11.0     0.0            Санкт-Петербург   \n",
       "\n",
       "   airports_nearest cityCenters_nearest parks_around3000 parks_nearest  \\\n",
       "0           18863.0             16028.0              1.0         482.0   \n",
       "1           12817.0             18603.0              0.0           NaN   \n",
       "2           21741.0             13933.0              1.0          90.0   \n",
       "3           28098.0              6800.0              2.0          84.0   \n",
       "4           31856.0              8098.0              2.0         112.0   \n",
       "5               NaN                 NaN              NaN           NaN   \n",
       "6           52996.0             19143.0              0.0           NaN   \n",
       "7           23982.0             11634.0              0.0           NaN   \n",
       "8               NaN                 NaN              NaN           NaN   \n",
       "9           50898.0             15008.0              0.0           NaN   \n",
       "10          38357.0             13878.0              1.0         310.0   \n",
       "11          48252.0             51677.0              0.0           NaN   \n",
       "12              NaN                 NaN              NaN           NaN   \n",
       "13          37868.0             33058.0              1.0         294.0   \n",
       "14          20782.0             30759.0              0.0           NaN   \n",
       "15          12900.0             14259.0              1.0         590.0   \n",
       "16          22108.0             10698.0              3.0         420.0   \n",
       "17          33564.0             14616.0              0.0           NaN   \n",
       "18          44060.0             10842.0              1.0         759.0   \n",
       "19          38900.0             12843.0              0.0           NaN   \n",
       "20          53134.0             19311.0              0.0           NaN   \n",
       "21          36064.0              9722.0              1.0         248.0   \n",
       "22              NaN                 NaN              NaN           NaN   \n",
       "23          15414.0             14211.0              2.0         517.0   \n",
       "24          20052.0              2336.0              3.0         411.0   \n",
       "25          34967.0             14640.0              0.0           NaN   \n",
       "26          11580.0             10510.0              0.0           NaN   \n",
       "27          29197.0             11456.0              2.0         452.0   \n",
       "28          18557.0             30710.0              0.0           NaN   \n",
       "29          30394.0             11526.0              1.0         532.0   \n",
       "\n",
       "   ponds_around3000 ponds_nearest     days_exposition  \n",
       "0               2.0         755.0                 NaN  \n",
       "1               0.0           NaN                81.0  \n",
       "2               2.0         574.0               558.0  \n",
       "3               3.0         234.0               424.0  \n",
       "4               1.0          48.0               121.0  \n",
       "5               NaN           NaN                55.0  \n",
       "6               0.0           NaN               155.0  \n",
       "7               0.0           NaN                 NaN  \n",
       "8               NaN           NaN  189.00000000000003  \n",
       "9               0.0           NaN               289.0  \n",
       "10              2.0         553.0               137.0  \n",
       "11              0.0           NaN                 7.0  \n",
       "12              NaN           NaN   90.00000000000001  \n",
       "13              3.0         298.0  366.00000000000006  \n",
       "14              1.0          96.0               203.0  \n",
       "15              1.0         296.0                19.0  \n",
       "16              0.0           NaN               397.0  \n",
       "17              1.0         859.0               571.0  \n",
       "18              0.0           NaN               168.0  \n",
       "19              0.0           NaN                97.0  \n",
       "20              0.0           NaN                74.0  \n",
       "21              0.0           NaN               310.0  \n",
       "22              NaN           NaN                60.0  \n",
       "23              1.0         190.0               615.0  \n",
       "24              3.0         124.0               265.0  \n",
       "25              1.0         564.0               300.0  \n",
       "26              1.0          95.0               265.0  \n",
       "27              1.0         779.0               151.0  \n",
       "28              1.0         118.0                74.0  \n",
       "29              1.0         896.0               125.0  "
      ]
     },
     "execution_count": 2,
     "metadata": {},
     "output_type": "execute_result"
    }
   ],
   "source": [
    "data.head(30)"
   ]
  },
  {
   "cell_type": "markdown",
   "metadata": {},
   "source": [
    "### Вывод"
   ]
  },
  {
   "cell_type": "markdown",
   "metadata": {},
   "source": [
    "Для корректного отображения данных потребовалась указать разделитель.\n",
    "Строки таблицы содержат информацию о продаваемых квартирах, ее характеристики и расположение.\n",
    "Из очевидных проблем:\n",
    "1. Данные в массиве разного типа.(в связи с этим метод describe не позволил получить достаточно информации, так как он работает только с числовыми типами данных)\n",
    "2. Имеются пропуски:\n",
    "    в столбцах - описаниях квартир, которые заполнялись пользователями, это может говорить о том, что пользователь не владел достаточной информацией и заполнение полей не было обязательным.\n",
    "    в столбцах полученных автоматически на основе картографических данных, это говорит о несовершенстве системы сбора информации, это необходимо сообщить разработчикам базы данных."
   ]
  },
  {
   "cell_type": "markdown",
   "metadata": {},
   "source": [
    "## Предобработка данных"
   ]
  },
  {
   "cell_type": "markdown",
   "metadata": {},
   "source": [
    "### Обработка пропусков"
   ]
  },
  {
   "cell_type": "markdown",
   "metadata": {},
   "source": [
    "Количество пропусков по столбцам:"
   ]
  },
  {
   "cell_type": "code",
   "execution_count": 3,
   "metadata": {},
   "outputs": [
    {
     "name": "stdout",
     "output_type": "stream",
     "text": [
      "Пропуски:\n",
      "\n",
      "total_images                0\n",
      "last_price                  0\n",
      "total_area                  0\n",
      "first_day_exposition        0\n",
      "rooms                       0\n",
      "ceiling_height           9195\n",
      "floors_total               86\n",
      "living_area              1903\n",
      "floor                       0\n",
      "is_apartment            20924\n",
      "studio                      0\n",
      "open_plan                   0\n",
      "kitchen_area             2278\n",
      "balcony                 11519\n",
      "locality_name              49\n",
      "airports_nearest         5542\n",
      "cityCenters_nearest      5519\n",
      "parks_around3000         5518\n",
      "parks_nearest           15620\n",
      "ponds_around3000         5518\n",
      "ponds_nearest           14589\n",
      "days_exposition          3181\n",
      "dtype: int64\n"
     ]
    }
   ],
   "source": [
    "print('Пропуски:') \n",
    "print()\n",
    "print(data.isna().sum())"
   ]
  },
  {
   "cell_type": "markdown",
   "metadata": {},
   "source": [
    "Обнаружены пропуски по столбцам:\n",
    "\n",
    "    airports_nearest         \n",
    "    cityCenters_nearest      \n",
    "    parks_around3000         \n",
    "    parks_nearest           \n",
    "    ponds_around3000         \n",
    "    ponds_nearest      \n",
    "Данные заполнять не буду, они не требуются для дальнейшего исследования. \n",
    "\n",
    "По столбцам:\n",
    "\n",
    "    ceiling_height\n",
    "    floors_total \n",
    "    living_area\n",
    "    is_apartment\n",
    "    kitchen_area\n",
    "    balcony\n",
    "\n",
    "\n",
    "Остальные пропуски необходимо заполнить.\n",
    "Для этого будут использованы медианные значения с группировкой по определенному признаку, это позволит повысить точность полученных значений.\n"
   ]
  },
  {
   "cell_type": "markdown",
   "metadata": {},
   "source": [
    "По столбцу населенный пункт[locality_name] заполнить пропуски по среднему или медиане невозможно :)\n",
    "\n",
    "Избавляемся от пропусков:"
   ]
  },
  {
   "cell_type": "code",
   "execution_count": 4,
   "metadata": {},
   "outputs": [],
   "source": [
    "data.dropna(subset = ['locality_name'], inplace = True) "
   ]
  },
  {
   "cell_type": "markdown",
   "metadata": {},
   "source": [
    "Заполню пропуски по столбцу \"высота потолка\", сгруппировала данные по количеству комнат в квартире, пропуски заполнила медианным значением по группе"
   ]
  },
  {
   "cell_type": "code",
   "execution_count": 5,
   "metadata": {},
   "outputs": [],
   "source": [
    "data['ceiling_height'] = data['ceiling_height'].astype('float')\n",
    "mediana_ceiling_height = data.groupby(['rooms']).agg({'ceiling_height': 'median'}).rename(columns = {'ceiling_height':'median_ceiling_height'})\n",
    "data = data.merge(mediana_ceiling_height, on = ['rooms'])\n",
    "data.loc[data['ceiling_height'].isna(), 'ceiling_height'] = data.loc[data['ceiling_height'].isna(), 'median_ceiling_height']\n",
    "#после группировки осталось не заполнено одно значение, его удаляю\n",
    "data.dropna(subset = ['ceiling_height'], inplace = True) \n"
   ]
  },
  {
   "cell_type": "markdown",
   "metadata": {},
   "source": [
    "Пропуски в столбце \"количество этажей\", также заполнены медианным значение, с группировкой по этажу, на котором расположена квартира, ряд значений получится дробным, они будут заменены в следующем блоке на целочисленные"
   ]
  },
  {
   "cell_type": "code",
   "execution_count": 6,
   "metadata": {},
   "outputs": [],
   "source": [
    "data['floors_total'] = data['floors_total'].astype('float')\n",
    "mediana_floors_total = data.groupby(['floor']).agg({'floors_total': 'median'}).rename(columns = {'floors_total':'median_floors_total'})\n",
    "data = data.merge(mediana_floors_total, on = ['floor'])\n",
    "data.loc[data['floors_total'].isna(), 'floors_total'] = data.loc[data['floors_total'].isna(), 'median_floors_total']\n",
    "data['floors_total'] = data['floors_total'].astype('int')"
   ]
  },
  {
   "cell_type": "code",
   "execution_count": 7,
   "metadata": {
    "scrolled": true
   },
   "outputs": [
    {
     "data": {
      "text/html": [
       "<div>\n",
       "<style scoped>\n",
       "    .dataframe tbody tr th:only-of-type {\n",
       "        vertical-align: middle;\n",
       "    }\n",
       "\n",
       "    .dataframe tbody tr th {\n",
       "        vertical-align: top;\n",
       "    }\n",
       "\n",
       "    .dataframe thead th {\n",
       "        text-align: right;\n",
       "    }\n",
       "</style>\n",
       "<table border=\"1\" class=\"dataframe\">\n",
       "  <thead>\n",
       "    <tr style=\"text-align: right;\">\n",
       "      <th></th>\n",
       "      <th>total_images</th>\n",
       "      <th>last_price</th>\n",
       "      <th>total_area</th>\n",
       "      <th>first_day_exposition</th>\n",
       "      <th>rooms</th>\n",
       "      <th>ceiling_height</th>\n",
       "      <th>floors_total</th>\n",
       "      <th>living_area</th>\n",
       "      <th>floor</th>\n",
       "      <th>is_apartment</th>\n",
       "      <th>studio</th>\n",
       "      <th>open_plan</th>\n",
       "      <th>kitchen_area</th>\n",
       "      <th>balcony</th>\n",
       "      <th>locality_name</th>\n",
       "      <th>airports_nearest</th>\n",
       "      <th>cityCenters_nearest</th>\n",
       "      <th>parks_around3000</th>\n",
       "      <th>parks_nearest</th>\n",
       "      <th>ponds_around3000</th>\n",
       "      <th>ponds_nearest</th>\n",
       "      <th>days_exposition</th>\n",
       "      <th>median_ceiling_height</th>\n",
       "      <th>median_floors_total</th>\n",
       "    </tr>\n",
       "  </thead>\n",
       "  <tbody>\n",
       "  </tbody>\n",
       "</table>\n",
       "</div>"
      ],
      "text/plain": [
       "Empty DataFrame\n",
       "Columns: [total_images, last_price, total_area, first_day_exposition, rooms, ceiling_height, floors_total, living_area, floor, is_apartment, studio, open_plan, kitchen_area, balcony, locality_name, airports_nearest, cityCenters_nearest, parks_around3000, parks_nearest, ponds_around3000, ponds_nearest, days_exposition, median_ceiling_height, median_floors_total]\n",
       "Index: []"
      ]
     },
     "execution_count": 7,
     "metadata": {},
     "output_type": "execute_result"
    }
   ],
   "source": [
    "data.query('floors_total < floor')"
   ]
  },
  {
   "cell_type": "markdown",
   "metadata": {},
   "source": [
    "Таких значений нет :)"
   ]
  },
  {
   "cell_type": "markdown",
   "metadata": {},
   "source": [
    "Столбец \"Балконы\", если значение пропущено, скорее всего, их нет, заменяем пропущенные значения на 0"
   ]
  },
  {
   "cell_type": "code",
   "execution_count": 8,
   "metadata": {},
   "outputs": [],
   "source": [
    "data['balcony'] = data['balcony'].fillna(0)"
   ]
  },
  {
   "cell_type": "markdown",
   "metadata": {},
   "source": [
    "Данные по апартаментам: если значение пропущено, скорее всего, это не апартаменты, заменяем пропущенные значения на false\n"
   ]
  },
  {
   "cell_type": "code",
   "execution_count": 9,
   "metadata": {},
   "outputs": [],
   "source": [
    "data['is_apartment'] = data['is_apartment'].fillna(False)"
   ]
  },
  {
   "cell_type": "markdown",
   "metadata": {},
   "source": [
    "Пропуски по столбцу \"жилая площадь\", сгруппировала данные по количеству комнат в квартире, пропуски заполнила медианным значением по группе\n"
   ]
  },
  {
   "cell_type": "code",
   "execution_count": 10,
   "metadata": {},
   "outputs": [],
   "source": [
    "data['total_area'] = data['total_area'].astype('float')\n",
    "mediana_total_area = data.groupby(['rooms']).agg({'total_area': 'median'}).rename(columns = {'total_area':'median_total_area'})\n",
    "data = data.merge(mediana_total_area, on = ['rooms'])\n",
    "data.loc[data['total_area'].isna(), 'total_area'] = data.loc[data['total_area'].isna(), 'median_total_area']"
   ]
  },
  {
   "cell_type": "markdown",
   "metadata": {},
   "source": [
    "Пропуски по столбцу \"площадь кухни\", в квартирах-студиях = 0, заполним пропуски в площади кухни, если квартира-студия\n"
   ]
  },
  {
   "cell_type": "code",
   "execution_count": 11,
   "metadata": {},
   "outputs": [],
   "source": [
    "data.loc[(data['kitchen_area'].isna()) & (data['studio'] == True), 'kitchen_area'] = 0"
   ]
  },
  {
   "cell_type": "markdown",
   "metadata": {},
   "source": [
    "Оставшиеся пропуски в площади кухни заполню медианным значением, с группировкой по количеству комнат в квартире\n"
   ]
  },
  {
   "cell_type": "code",
   "execution_count": 12,
   "metadata": {},
   "outputs": [],
   "source": [
    "data['kitchen_area'] = data['kitchen_area'].astype('float')\n",
    "mediana_kitchen_area = data.groupby(['rooms']).agg({'kitchen_area': 'median'}).rename(columns = {'kitchen_area':'median_kitchen_area'})\n",
    "data = data.merge(mediana_kitchen_area, on = ['rooms'])\n",
    "data.loc[data['kitchen_area'].isna(), 'kitchen_area'] = data.loc[data['kitchen_area'].isna(), 'median_kitchen_area']"
   ]
  },
  {
   "cell_type": "markdown",
   "metadata": {},
   "source": [
    "Пропуски по столбцу \"жилая площадь\", сгруппировала данные по количеству комнат в квартире, пропуски заполнила медианным значением по группе\n"
   ]
  },
  {
   "cell_type": "code",
   "execution_count": 13,
   "metadata": {},
   "outputs": [],
   "source": [
    "data['living_area'] = data['living_area'].astype('float')\n",
    "mediana_living_area = data.groupby(['rooms']).agg({'living_area': 'median'}).rename(columns = {'living_area':'median_living_area'})\n",
    "data = data.merge(mediana_living_area, on = ['rooms'])\n",
    "data.loc[data['living_area'].isna(), 'living_area'] = data.loc[data['living_area'].isna(), 'median_living_area']"
   ]
  },
  {
   "cell_type": "code",
   "execution_count": 14,
   "metadata": {},
   "outputs": [
    {
     "name": "stdout",
     "output_type": "stream",
     "text": [
      "Пропуски после обработки:\n",
      "\n",
      "total_images                 0\n",
      "last_price                   0\n",
      "total_area                   0\n",
      "first_day_exposition         0\n",
      "rooms                        0\n",
      "ceiling_height               0\n",
      "floors_total                 0\n",
      "living_area                  0\n",
      "floor                        0\n",
      "is_apartment                 0\n",
      "studio                       0\n",
      "open_plan                    0\n",
      "kitchen_area                 0\n",
      "balcony                      0\n",
      "locality_name                0\n",
      "airports_nearest          5534\n",
      "cityCenters_nearest       5511\n",
      "parks_around3000          5510\n",
      "parks_nearest            15585\n",
      "ponds_around3000          5510\n",
      "ponds_nearest            14565\n",
      "days_exposition           3180\n",
      "median_ceiling_height        0\n",
      "median_floors_total          0\n",
      "median_total_area            0\n",
      "median_kitchen_area          0\n",
      "median_living_area           0\n",
      "dtype: int64\n"
     ]
    }
   ],
   "source": [
    "print('Пропуски после обработки:')\n",
    "print()\n",
    "print(data.isna().sum())"
   ]
  },
  {
   "cell_type": "markdown",
   "metadata": {},
   "source": [
    "### Изменение типов данных"
   ]
  },
  {
   "cell_type": "markdown",
   "metadata": {},
   "source": [
    "Тип данных был изменен перед заполнением пропусков по столбцам:\n",
    "\n",
    "    Высота потолка\n",
    "    Количество этажей\n",
    "    Общая площадь\n",
    "    Площадь кухни\n",
    "    Жилая площадь\n",
    "    Количество дней, которое объявление было размещено\n",
    "\n",
    "Заменим типы данных по оставшимся столбцам:"
   ]
  },
  {
   "cell_type": "markdown",
   "metadata": {},
   "source": [
    "Цена на момент снятия с публикации для дальнейших расчетов из типа object на float\n",
    "\n",
    "\n",
    "\n",
    "\n",
    "\n",
    "\n",
    "\n",
    "\n",
    "\n"
   ]
  },
  {
   "cell_type": "code",
   "execution_count": 15,
   "metadata": {},
   "outputs": [],
   "source": [
    "data['last_price'] = data['last_price'].astype('float')"
   ]
  },
  {
   "cell_type": "markdown",
   "metadata": {},
   "source": [
    "Дата публикации переведена в формат даты\n"
   ]
  },
  {
   "cell_type": "code",
   "execution_count": 16,
   "metadata": {},
   "outputs": [],
   "source": [
    "data['first_day_exposition'] = pd.to_datetime(data['first_day_exposition'], format='%Y-%m-%dT%H:%M:%S')"
   ]
  },
  {
   "cell_type": "markdown",
   "metadata": {},
   "source": [
    "Количество балконов - всегда целое число :) \n",
    "    перевожу в int\n"
   ]
  },
  {
   "cell_type": "code",
   "execution_count": 17,
   "metadata": {},
   "outputs": [],
   "source": [
    "data['balcony'] = pd.to_numeric(data['balcony']) \n",
    "data['balcony'] = data['balcony'].astype('int')"
   ]
  },
  {
   "cell_type": "markdown",
   "metadata": {},
   "source": [
    "Расстояние до центра перевожу в float:"
   ]
  },
  {
   "cell_type": "code",
   "execution_count": 18,
   "metadata": {},
   "outputs": [],
   "source": [
    "data['cityCenters_nearest'] = pd.to_numeric(data['cityCenters_nearest']) \n",
    "data['cityCenters_nearest'] = data['cityCenters_nearest'].astype('float')"
   ]
  },
  {
   "cell_type": "markdown",
   "metadata": {},
   "source": [
    "Количество дней, которое объявление было размещено перевожу в int"
   ]
  },
  {
   "cell_type": "code",
   "execution_count": 19,
   "metadata": {},
   "outputs": [],
   "source": [
    "data['days_exposition'] = pd.to_numeric(data['days_exposition'], errors='coerce')"
   ]
  },
  {
   "cell_type": "code",
   "execution_count": 20,
   "metadata": {},
   "outputs": [
    {
     "name": "stdout",
     "output_type": "stream",
     "text": [
      "<class 'pandas.core.frame.DataFrame'>\n",
      "Int64Index: 23649 entries, 0 to 23648\n",
      "Data columns (total 27 columns):\n",
      "total_images             23649 non-null int64\n",
      "last_price               23649 non-null float64\n",
      "total_area               23649 non-null float64\n",
      "first_day_exposition     23649 non-null datetime64[ns]\n",
      "rooms                    23649 non-null int64\n",
      "ceiling_height           23649 non-null float64\n",
      "floors_total             23649 non-null int64\n",
      "living_area              23649 non-null float64\n",
      "floor                    23649 non-null int64\n",
      "is_apartment             23649 non-null bool\n",
      "studio                   23649 non-null bool\n",
      "open_plan                23649 non-null bool\n",
      "kitchen_area             23649 non-null float64\n",
      "balcony                  23649 non-null int64\n",
      "locality_name            23649 non-null object\n",
      "airports_nearest         18115 non-null object\n",
      "cityCenters_nearest      18138 non-null float64\n",
      "parks_around3000         18139 non-null object\n",
      "parks_nearest            8064 non-null object\n",
      "ponds_around3000         18139 non-null object\n",
      "ponds_nearest            9084 non-null object\n",
      "days_exposition          20469 non-null float64\n",
      "median_ceiling_height    23649 non-null float64\n",
      "median_floors_total      23649 non-null float64\n",
      "median_total_area        23649 non-null float64\n",
      "median_kitchen_area      23649 non-null float64\n",
      "median_living_area       23649 non-null float64\n",
      "dtypes: bool(3), datetime64[ns](1), float64(12), int64(5), object(6)\n",
      "memory usage: 4.6+ MB\n"
     ]
    }
   ],
   "source": [
    "data.info()"
   ]
  },
  {
   "cell_type": "markdown",
   "metadata": {},
   "source": [
    "### Обработка дубликатов"
   ]
  },
  {
   "cell_type": "markdown",
   "metadata": {},
   "source": [
    "В поле населенный пункт очень много одинаковых названий, записанных по-разному, например, \"посЕлок\" и \"посЁлок\", а также встречается \"поселок городского типа\""
   ]
  },
  {
   "cell_type": "code",
   "execution_count": 23,
   "metadata": {},
   "outputs": [
    {
     "data": {
      "text/plain": [
       "array(['Санкт-Петербург', 'Всеволожск', 'Колпино', 'Ломоносов',\n",
       "       'посёлок Шушары', 'Гатчина', 'посёлок Металлострой',\n",
       "       'посёлок Мурино', 'Выборг', 'Красное Село', 'Пушкин',\n",
       "       'посёлок Парголово', 'Сертолово', 'Кронштадт', 'Тосно',\n",
       "       'Никольское', 'Кировск', 'Сосновый Бор',\n",
       "       'поселок городского типа Кузьмоловский',\n",
       "       'поселок городского типа имени Свердлова',\n",
       "       'садовое товарищество Приладожский', 'деревня Кудрово', 'Тихвин',\n",
       "       'Петергоф', 'деревня Куттузи', 'Отрадное', 'Коммунар',\n",
       "       'Светогорск', 'городской посёлок Янино-1', 'Сестрорецк', 'Кудрово',\n",
       "       'Кингисепп', 'посёлок городского типа имени Свердлова',\n",
       "       'деревня Новое Девяткино', 'деревня Старая', 'Кириши',\n",
       "       'посёлок Бугры', 'деревня Фёдоровское', 'посёлок Новый Свет',\n",
       "       'посёлок Молодёжное', 'Волосово', 'Подпорожье',\n",
       "       'посёлок городского типа Токсово', 'Сланцы',\n",
       "       'деревня Малое Карлино', 'посёлок Стрельна', 'посёлок Ропша',\n",
       "       'поселок городского типа Никольский', 'городской посёлок Назия',\n",
       "       'Приозерск', 'поселок городского типа Синявино', 'Зеленогорск',\n",
       "       'Луга', 'поселок городского типа Рощино', 'деревня Бегуницы',\n",
       "       'деревня Кривко', 'посёлок Мыза-Ивановка', 'поселок Житково',\n",
       "       'Павловск', 'поселок станции Вещево', 'Шлиссельбург', 'Волхов',\n",
       "       'поселок Бугры', 'поселок городского типа Рахья', 'Пикалёво',\n",
       "       'Каменногорск', 'деревня Кипень', 'поселок Аннино',\n",
       "       'поселок Жилгородок', 'Ивангород',\n",
       "       'посёлок городского типа имени Морозова',\n",
       "       'городской посёлок Новоселье', 'поселок Лукаши', 'Мурино',\n",
       "       'село Русско-Высоцкое', 'деревня Извара',\n",
       "       'поселок городского типа Дубровка',\n",
       "       'городской поселок Большая Ижора', 'деревня Аро',\n",
       "       'поселок городского типа Ефимовский',\n",
       "       'посёлок городского типа Вознесенье', 'посёлок Понтонный',\n",
       "       'поселок Войсковицы', 'поселок Первомайское', 'поселок Романовка',\n",
       "       'посёлок городского типа Рощино', 'посёлок Кобралово',\n",
       "       'поселок Барышево', 'посёлок Суйда', 'поселок Перово',\n",
       "       'деревня Гостилицы', 'поселок станции Лужайка',\n",
       "       'посёлок городского типа Лебяжье', 'поселок Оредеж',\n",
       "       'поселок Котельский', 'Лодейное Поле', 'деревня Большие Колпаны',\n",
       "       'деревня Каськово', 'городской посёлок Мга', 'деревня Батово',\n",
       "       'посёлок городского типа Кузьмоловский', 'деревня Заклинье',\n",
       "       'посёлок Тельмана', 'городской посёлок Свирьстрой',\n",
       "       'деревня Нурма', 'Бокситогорск', 'посёлок Высокоключевой',\n",
       "       'деревня Вартемяги', 'деревня Снегирёвка', 'поселок Лесное',\n",
       "       'поселок Углово', 'посёлок городского типа Ульяновка', 'Любань',\n",
       "       'городской посёлок Будогощь', 'деревня Малое Верево',\n",
       "       'деревня Лаголово', 'поселок Елизаветино', 'деревня Гарболово',\n",
       "       'поселок Суходолье', 'посёлок городского типа Сиверский',\n",
       "       'городской посёлок Лесогорский', 'Приморск', 'поселок Сельцо',\n",
       "       'деревня Калитино', 'деревня Рабитицы', 'село Павлово',\n",
       "       'деревня Агалатово', 'деревня Кузьмолово', 'поселок Победа',\n",
       "       'деревня Низино', 'поселок Кингисеппский', 'деревня Горбунки',\n",
       "       'поселок городского типа Лебяжье', 'посёлок Пудость',\n",
       "       'посёлок Сапёрное', 'посёлок Репино', 'деревня Пудомяги',\n",
       "       'посёлок городского типа Павлово', 'деревня Глинка',\n",
       "       'посёлок Усть-Ижора', 'поселок городского типа Советский',\n",
       "       'посёлок станции Громово', 'Сясьстрой',\n",
       "       'поселок городского типа Лесогорский', 'городской посёлок Павлово',\n",
       "       'поселок Рабитицы', 'деревня Яльгелево', 'поселок Рябово',\n",
       "       'посёлок городского типа Тайцы', 'поселок Запорожское',\n",
       "       'поселок Семрино', 'деревня Шпаньково', 'посёлок Возрождение',\n",
       "       'поселок городского типа Приладожский', 'посёлок Жилгородок',\n",
       "       'посёлок Щеглово', 'деревня Зимитицы', 'посёлок Кикерино',\n",
       "       'деревня Нижние Осельки', 'посёлок Аннино',\n",
       "       'посёлок городского типа Форносово', 'деревня Пижма',\n",
       "       'посёлок Стеклянный', 'деревня Большое Рейзино',\n",
       "       'деревня Мистолово', 'поселок Торковичи', 'деревня Оржицы',\n",
       "       'поселок Севастьяново', 'деревня Лопухинка', 'поселок Зимитицы',\n",
       "       'Новая Ладога', 'деревня Лесколово', 'деревня Малые Колпаны',\n",
       "       'деревня Пеники', 'посёлок Сосново', 'Высоцк',\n",
       "       'поселок Красносельское', 'поселок Коробицыно',\n",
       "       'деревня Белогорка', 'деревня Терпилицы', 'поселок Новый Свет',\n",
       "       'посёлок Победа', 'поселок Цвелодубово',\n",
       "       'городской посёлок Фёдоровское',\n",
       "       'садоводческое некоммерческое товарищество Лесная Поляна',\n",
       "       'городской посёлок Рощино', 'посёлок городского типа Важины',\n",
       "       'городской посёлок Виллози', 'посёлок Мельниково', 'деревня Юкки',\n",
       "       'поселок Глажево', 'село Копорье', 'деревня Заневка', 'село Шум',\n",
       "       'поселок Петровское', 'посёлок Шугозеро',\n",
       "       'поселок городского типа Вырица', 'деревня Малая Романовка',\n",
       "       'поселок Мурино', 'посёлок Новогорелово', 'поселок Тельмана',\n",
       "       'деревня Колтуши', 'посёлок городского типа Красный Бор',\n",
       "       'поселок Заводской', 'поселок Ильичёво', 'деревня Коркино',\n",
       "       'поселок Кобринское', 'поселок Поляны', 'деревня Келози',\n",
       "       'посёлок Терволово', 'посёлок Ильичёво',\n",
       "       'поселок городского типа Форносово', 'посёлок Мичуринское',\n",
       "       'деревня Фалилеево', 'посёлок при железнодорожной станции Вещево',\n",
       "       'поселок городского типа Красный Бор',\n",
       "       'посёлок городского типа Кузнечное',\n",
       "       'поселок городского типа Назия', 'деревня Разбегаево',\n",
       "       'деревня Лампово', 'поселок городского типа Кондратьево',\n",
       "       'посёлок Усть-Луга', 'посёлок городского типа Вырица',\n",
       "       'деревня Старополье', 'село Старая Ладога',\n",
       "       'поселок городского типа Токсово', 'деревня Рапполово',\n",
       "       'посёлок Войскорово', 'деревня Суоранда', 'поселок Дружноселье',\n",
       "       'поселок Новый Учхоз', 'городской поселок Янино-1',\n",
       "       'посёлок Поляны', 'поселок городского типа Рябово',\n",
       "       'деревня Кальтино', 'поселок городского типа Дружная Горка',\n",
       "       'поселок Стеклянный', 'деревня Сяськелево',\n",
       "       'деревня Старые Бегуницы', 'поселок Ушаки', 'деревня Курковицы',\n",
       "       'поселок Усть-Луга', 'деревня Ям-Тесово', 'поселок Глебычево',\n",
       "       'садовое товарищество Новая Ропша', 'посёлок Петровское',\n",
       "       'деревня Иссад', 'поселок Молодцово', 'село Паша',\n",
       "       'посёлок городского типа Мга', 'деревня Тарасово',\n",
       "       'поселок Мичуринское', 'поселок Мельниково', 'деревня Бор',\n",
       "       'поселок Гарболово', 'деревня Раздолье', 'деревня Выскатка',\n",
       "       'деревня Старосиверская', 'посёлок Старая Малукса',\n",
       "       'поселок Совхозный', 'деревня Старая Пустошь',\n",
       "       'посёлок Белоостров', 'посёлок Песочный', 'поселок Старая Малукса',\n",
       "       'посёлок Торфяное', 'посёлок Ленинское', 'поселок Ромашки',\n",
       "       'посёлок Пансионат Зелёный Бор', 'поселок Пансионат Зелёный Бор',\n",
       "       'деревня Русско', 'деревня Разметелево', 'деревня Чудской Бор',\n",
       "       'посёлок Гаврилово', 'поселок Цвылёво', 'деревня Старое Хинколово',\n",
       "       'поселок Каложицы', 'деревня Парицы',\n",
       "       'посёлок городского типа Рябово', 'посёлок Плодовое',\n",
       "       'посёлок Лисий Нос', 'коттеджный поселок Счастье',\n",
       "       'посёлок Сапёрный', 'коттеджный поселок Кивеннапа Север',\n",
       "       'село Рождествено', 'поселок Громово', 'деревня Торосово',\n",
       "       'деревня Торошковичи', 'деревня Пустынка', 'село Путилово',\n",
       "       'поселок Терволово', 'садовое товарищество Рахья',\n",
       "       'посёлок Сумино', 'посёлок Пригородный', 'поселок Лисий Нос',\n",
       "       'деревня Камышовка', 'поселок Гончарово', 'деревня Пельгора',\n",
       "       'посёлок Алексеевка', 'поселок Серебрянский', 'деревня Сижно',\n",
       "       'посёлок Форт Красная Горка', 'поселок Коммунары',\n",
       "       'поселок Починок', 'поселок Гладкое', 'деревня Вахнова Кара',\n",
       "       'поселок Кирпичное', 'деревня Ваганово', 'поселок Селезнёво',\n",
       "       'деревня Трубников Бор', 'поселок Красная Долина',\n",
       "       'поселок Кобралово', 'поселок Пчевжа', 'деревня Тихковицы',\n",
       "       'деревня Борисова Грива', 'деревня Меньково', 'село Никольское',\n",
       "       'поселок Почап', 'деревня Котлы', 'деревня Реброво',\n",
       "       'деревня Большая Вруда', 'поселок Пушное',\n",
       "       'поселок станции Приветнинское', 'деревня Лупполово',\n",
       "       'посёлок Перово', 'деревня Мины', 'деревня Щеглово',\n",
       "       'деревня Новолисино', 'городской посёлок Советский',\n",
       "       'поселок Любань', 'посёлок станции Свирь', 'поселок Сумино',\n",
       "       'поселок городского типа Большая Ижора', 'деревня Большой Сабск',\n",
       "       'поселок Володарское', 'посёлок Платформа 69-й километр',\n",
       "       'поселок Семиозерье', 'садовое товарищество Садко',\n",
       "       'деревня Кисельня', 'поселок Калитино', 'деревня Ненимяки',\n",
       "       'деревня Пикколово', 'поселок Гаврилово', 'деревня Мануйлово',\n",
       "       'деревня Пчева', 'поселок Жилпосёлок', 'деревня Хапо-Ое',\n",
       "       'посёлок Левашово', 'деревня Ялгино', 'поселок Тёсово-4',\n",
       "       'посёлок Коробицыно', 'деревня Тойворово',\n",
       "       'деревня Большая Пустомержа', 'деревня Куровицы',\n",
       "       'посёлок Плоское', 'посёлок Александровская',\n",
       "       'коттеджный посёлок Лесное',\n",
       "       'посёлок при железнодорожной станции Приветнинское',\n",
       "       'деревня Лаврики', 'посёлок Дзержинского', 'поселок Возрождение',\n",
       "       'деревня Нижняя', 'деревня Хязельки', 'посёлок Петро-Славянка',\n",
       "       'поселок станции Корнево'], dtype=object)"
      ]
     },
     "execution_count": 23,
     "metadata": {},
     "output_type": "execute_result"
    }
   ],
   "source": [
    "data['locality_name'].unique()"
   ]
  },
  {
   "cell_type": "code",
   "execution_count": 24,
   "metadata": {},
   "outputs": [
    {
     "data": {
      "text/plain": [
       "array(['Санкт-Петербург', 'Всеволожск', 'Колпино', 'Ломоносов', 'Шушары',\n",
       "       'Гатчина', 'Металлострой', 'Мурино', 'Выборг', 'Красное Село',\n",
       "       'Пушкин', 'Парголово', 'Сертолово', 'Кронштадт', 'Тосно',\n",
       "       'Никольское', 'Кировск', 'Сосновый Бор', 'Кузьмоловский',\n",
       "       'имени Свердлова', 'садовое товарищество Приладожский',\n",
       "       'деревня Кудрово', 'Тихвин', 'Петергоф', 'деревня Куттузи',\n",
       "       'Отрадное', 'Коммунар', 'Светогорск', 'городской Янино-1',\n",
       "       'Сестрорецк', 'Кудрово', 'Кингисепп', 'деревня Новое Девяткино',\n",
       "       'деревня Старая', 'Кириши', 'Бугры', 'деревня Федоровское',\n",
       "       'Новый Свет', 'Молодежное', 'Волосово', 'Подпорожье', 'Токсово',\n",
       "       'Сланцы', 'деревня Малое Карлино', 'Стрельна', 'Ропша',\n",
       "       'Никольский', 'городской Назия', 'Приозерск', 'Синявино',\n",
       "       'Зеленогорск', 'Луга', 'Рощино', 'деревня Бегуницы',\n",
       "       'деревня Кривко', 'Мыза-Ивановка', 'Житково', 'Павловск',\n",
       "       'станции Вещево', 'Шлиссельбург', 'Волхов', 'Рахья', 'Пикалево',\n",
       "       'Каменногорск', 'деревня Кипень', 'Аннино', 'Жилгородок',\n",
       "       'Ивангород', 'имени Морозова', 'городской Новоселье', 'Лукаши',\n",
       "       'село Русско-Высоцкое', 'деревня Извара', 'Дубровка',\n",
       "       'городской Большая Ижора', 'деревня Аро', 'Ефимовский',\n",
       "       'Вознесенье', 'Понтонный', 'Войсковицы', 'Первомайское',\n",
       "       'Романовка', 'Кобралово', 'Барышево', 'Суйда', 'Перово',\n",
       "       'деревня Гостилицы', 'станции Лужайка', 'Лебяжье', 'Оредеж',\n",
       "       'Котельский', 'Лодейное Поле', 'деревня Большие Колпаны',\n",
       "       'деревня Каськово', 'городской Мга', 'деревня Батово',\n",
       "       'деревня Заклинье', 'Тельмана', 'городской Свирьстрой',\n",
       "       'деревня Нурма', 'Бокситогорск', 'Высокоключевой',\n",
       "       'деревня Вартемяги', 'деревня Снегиревка', 'Лесное', 'Углово',\n",
       "       'Ульяновка', 'Любань', 'городской Будогощь',\n",
       "       'деревня Малое Верево', 'деревня Лаголово', 'Елизаветино',\n",
       "       'деревня Гарболово', 'Суходолье', 'Сиверский',\n",
       "       'городской Лесогорский', 'Приморск', 'Сельцо', 'деревня Калитино',\n",
       "       'деревня Рабитицы', 'село Павлово', 'деревня Агалатово',\n",
       "       'деревня Кузьмолово', 'Победа', 'деревня Низино', 'Кингисеппский',\n",
       "       'деревня Горбунки', 'Пудость', 'Саперное', 'Репино',\n",
       "       'деревня Пудомяги', 'Павлово', 'деревня Глинка', 'Усть-Ижора',\n",
       "       'Советский', 'станции Громово', 'Сясьстрой', 'Лесогорский',\n",
       "       'городской Павлово', 'Рабитицы', 'деревня Яльгелево', 'Рябово',\n",
       "       'Тайцы', 'Запорожское', 'Семрино', 'деревня Шпаньково',\n",
       "       'Возрождение', 'Приладожский', 'Щеглово', 'деревня Зимитицы',\n",
       "       'Кикерино', 'деревня Нижние Осельки', 'Форносово', 'деревня Пижма',\n",
       "       'Стеклянный', 'деревня Большое Рейзино', 'деревня Мистолово',\n",
       "       'Торковичи', 'деревня Оржицы', 'Севастьяново', 'деревня Лопухинка',\n",
       "       'Зимитицы', 'Новая Ладога', 'деревня Лесколово',\n",
       "       'деревня Малые Колпаны', 'деревня Пеники', 'Сосново', 'Высоцк',\n",
       "       'Красносельское', 'Коробицыно', 'деревня Белогорка',\n",
       "       'деревня Терпилицы', 'Цвелодубово', 'городской Федоровское',\n",
       "       'садоводческое некоммерческое товарищество Лесная Поляна',\n",
       "       'городской Рощино', 'Важины', 'городской Виллози', 'Мельниково',\n",
       "       'деревня Юкки', 'Глажево', 'село Копорье', 'деревня Заневка',\n",
       "       'село Шум', 'Петровское', 'Шугозеро', 'Вырица',\n",
       "       'деревня Малая Романовка', 'Новогорелово', 'деревня Колтуши',\n",
       "       'Красный Бор', 'Заводской', 'Ильичево', 'деревня Коркино',\n",
       "       'Кобринское', 'Поляны', 'деревня Келози', 'Терволово',\n",
       "       'Мичуринское', 'деревня Фалилеево',\n",
       "       'при железнодорожной станции Вещево', 'Кузнечное', 'Назия',\n",
       "       'деревня Разбегаево', 'деревня Лампово', 'Кондратьево',\n",
       "       'Усть-Луга', 'деревня Старополье', 'село Старая Ладога',\n",
       "       'деревня Рапполово', 'Войскорово', 'деревня Суоранда',\n",
       "       'Дружноселье', 'Новый Учхоз', 'деревня Кальтино', 'Дружная Горка',\n",
       "       'деревня Сяськелево', 'деревня Старые Бегуницы', 'Ушаки',\n",
       "       'деревня Курковицы', 'деревня Ям-Тесово', 'Глебычево',\n",
       "       'садовое товарищество Новая Ропша', 'деревня Иссад', 'Молодцово',\n",
       "       'село Паша', 'Мга', 'деревня Тарасово', 'деревня Бор', 'Гарболово',\n",
       "       'деревня Раздолье', 'деревня Выскатка', 'деревня Старосиверская',\n",
       "       'Старая Малукса', 'Совхозный', 'деревня Старая Пустошь',\n",
       "       'Белоостров', 'Песочный', 'Торфяное', 'Ленинское', 'Ромашки',\n",
       "       'Пансионат Зеленый Бор', 'деревня Русско', 'деревня Разметелево',\n",
       "       'деревня Чудской Бор', 'Гаврилово', 'Цвылево',\n",
       "       'деревня Старое Хинколово', 'Каложицы', 'деревня Парицы',\n",
       "       'Плодовое', 'Лисий Нос', 'коттеджный Счастье', 'Саперный',\n",
       "       'коттеджный Кивеннапа Север', 'село Рождествено', 'Громово',\n",
       "       'деревня Торосово', 'деревня Торошковичи', 'деревня Пустынка',\n",
       "       'село Путилово', 'садовое товарищество Рахья', 'Сумино',\n",
       "       'Пригородный', 'деревня Камышовка', 'Гончарово',\n",
       "       'деревня Пельгора', 'Алексеевка', 'Серебрянский', 'деревня Сижно',\n",
       "       'Форт Красная Горка', 'Коммунары', 'Починок', 'Гладкое',\n",
       "       'деревня Вахнова Кара', 'Кирпичное', 'деревня Ваганово',\n",
       "       'Селезнево', 'деревня Трубников Бор', 'Красная Долина', 'Пчевжа',\n",
       "       'деревня Тихковицы', 'деревня Борисова Грива', 'деревня Меньково',\n",
       "       'село Никольское', 'Почап', 'деревня Котлы', 'деревня Реброво',\n",
       "       'деревня Большая Вруда', 'Пушное', 'станции Приветнинское',\n",
       "       'деревня Лупполово', 'деревня Мины', 'деревня Щеглово',\n",
       "       'деревня Новолисино', 'городской Советский', 'станции Свирь',\n",
       "       'Большая Ижора', 'деревня Большой Сабск', 'Володарское',\n",
       "       'Платформа 69-й километр', 'Семиозерье',\n",
       "       'садовое товарищество Садко', 'деревня Кисельня', 'Калитино',\n",
       "       'деревня Ненимяки', 'деревня Пикколово', 'деревня Мануйлово',\n",
       "       'деревня Пчева', 'Жилпоселок', 'деревня Хапо-Ое', 'Левашово',\n",
       "       'деревня Ялгино', 'Тесово-4', 'деревня Тойворово',\n",
       "       'деревня Большая Пустомержа', 'деревня Куровицы', 'Плоское',\n",
       "       'Александровская', 'коттеджный Лесное',\n",
       "       'при железнодорожной станции Приветнинское', 'деревня Лаврики',\n",
       "       'Дзержинского', 'деревня Нижняя', 'деревня Хязельки',\n",
       "       'Петро-Славянка', 'станции Корнево'], dtype=object)"
      ]
     },
     "execution_count": 24,
     "metadata": {},
     "output_type": "execute_result"
    }
   ],
   "source": [
    "\n",
    "#заменю \"ё\" на \"е\"\n",
    "data['locality_name'] = data['locality_name'].str.replace('ё', 'е', regex=True)\n",
    "#заменю \"поселок городского типа\" на \"поселок\"\n",
    "data['locality_name'] = data['locality_name'].str.replace('поселок городского типа ', '', regex=True)\n",
    "#удалю \"поселок\" из названия населенного пункта\n",
    "data['locality_name'] = data['locality_name'].str.replace('поселок ', '', regex=True)\n",
    "\n",
    "data['locality_name'].unique()"
   ]
  },
  {
   "cell_type": "markdown",
   "metadata": {},
   "source": [
    "**Выводы:**\n",
    "\n",
    "1. Обработаны необходимые пропущенные значения.\n",
    "2. Изменены типы данных.\n"
   ]
  },
  {
   "cell_type": "markdown",
   "metadata": {},
   "source": [
    "## Расчёты и добавление результатов в таблицу"
   ]
  },
  {
   "cell_type": "markdown",
   "metadata": {},
   "source": [
    "Добавляю столбец со стоимостью квадратного метра квартиры:\n"
   ]
  },
  {
   "cell_type": "code",
   "execution_count": 23,
   "metadata": {},
   "outputs": [],
   "source": [
    "data['price_meter'] = data['last_price'] / data['total_area']"
   ]
  },
  {
   "cell_type": "markdown",
   "metadata": {},
   "source": [
    "Добавляю столбцы с днем недели, месяцем, годом продажи\n"
   ]
  },
  {
   "cell_type": "code",
   "execution_count": 24,
   "metadata": {},
   "outputs": [],
   "source": [
    "data['weekday_first_day'] = data['first_day_exposition'].dt.weekday\n",
    "data['month_first_day'] = data['first_day_exposition'].dt.month\n",
    "data['year_first_day'] = data['first_day_exposition'].dt.year"
   ]
  },
  {
   "cell_type": "markdown",
   "metadata": {},
   "source": [
    "Столбец с категорией этажа:"
   ]
  },
  {
   "cell_type": "code",
   "execution_count": 25,
   "metadata": {},
   "outputs": [],
   "source": [
    "def floor_category(row):\n",
    "    \n",
    "    if row['floor'] == 1:\n",
    "        return 'первый'\n",
    "    if row['floor'] == row['floors_total']:\n",
    "        return 'последний'\n",
    "    return 'другой'\n",
    "data['floor_category'] = data.apply(floor_category, axis=1)"
   ]
  },
  {
   "cell_type": "markdown",
   "metadata": {},
   "source": [
    "А также столбцы с соотношением площади кухни и жилой площади, к общей площади квартиры:"
   ]
  },
  {
   "cell_type": "code",
   "execution_count": 26,
   "metadata": {},
   "outputs": [],
   "source": [
    "data['ratio_kitchen'] = data['kitchen_area'] / data['total_area']\n",
    "data['ratio_living'] = data['living_area'] / data['total_area']"
   ]
  },
  {
   "cell_type": "code",
   "execution_count": 27,
   "metadata": {},
   "outputs": [
    {
     "data": {
      "text/html": [
       "<div>\n",
       "<style scoped>\n",
       "    .dataframe tbody tr th:only-of-type {\n",
       "        vertical-align: middle;\n",
       "    }\n",
       "\n",
       "    .dataframe tbody tr th {\n",
       "        vertical-align: top;\n",
       "    }\n",
       "\n",
       "    .dataframe thead th {\n",
       "        text-align: right;\n",
       "    }\n",
       "</style>\n",
       "<table border=\"1\" class=\"dataframe\">\n",
       "  <thead>\n",
       "    <tr style=\"text-align: right;\">\n",
       "      <th></th>\n",
       "      <th>total_images</th>\n",
       "      <th>last_price</th>\n",
       "      <th>total_area</th>\n",
       "      <th>rooms</th>\n",
       "      <th>ceiling_height</th>\n",
       "      <th>floors_total</th>\n",
       "      <th>living_area</th>\n",
       "      <th>floor</th>\n",
       "      <th>kitchen_area</th>\n",
       "      <th>balcony</th>\n",
       "      <th>cityCenters_nearest</th>\n",
       "      <th>days_exposition</th>\n",
       "      <th>median_floors_total</th>\n",
       "      <th>median_total_area</th>\n",
       "      <th>median_kitchen_area</th>\n",
       "      <th>median_living_area</th>\n",
       "      <th>price_meter</th>\n",
       "      <th>weekday_first_day</th>\n",
       "      <th>month_first_day</th>\n",
       "      <th>year_first_day</th>\n",
       "      <th>ratio_kitchen</th>\n",
       "      <th>ratio_living</th>\n",
       "    </tr>\n",
       "  </thead>\n",
       "  <tbody>\n",
       "    <tr>\n",
       "      <td>count</td>\n",
       "      <td>23650.000000</td>\n",
       "      <td>2.365000e+04</td>\n",
       "      <td>23650.000000</td>\n",
       "      <td>23650.000000</td>\n",
       "      <td>14490.000000</td>\n",
       "      <td>23650.000000</td>\n",
       "      <td>23650.000000</td>\n",
       "      <td>23650.000000</td>\n",
       "      <td>23650.000000</td>\n",
       "      <td>23650.000000</td>\n",
       "      <td>18139.000000</td>\n",
       "      <td>20470.000000</td>\n",
       "      <td>23650.000000</td>\n",
       "      <td>23650.000000</td>\n",
       "      <td>23650.000000</td>\n",
       "      <td>23650.000000</td>\n",
       "      <td>2.365000e+04</td>\n",
       "      <td>23650.000000</td>\n",
       "      <td>23650.000000</td>\n",
       "      <td>23650.000000</td>\n",
       "      <td>23650.000000</td>\n",
       "      <td>23650.000000</td>\n",
       "    </tr>\n",
       "    <tr>\n",
       "      <td>mean</td>\n",
       "      <td>9.862326</td>\n",
       "      <td>6.541127e+06</td>\n",
       "      <td>60.329069</td>\n",
       "      <td>2.070106</td>\n",
       "      <td>2.771287</td>\n",
       "      <td>10.684059</td>\n",
       "      <td>34.313891</td>\n",
       "      <td>5.893277</td>\n",
       "      <td>10.368791</td>\n",
       "      <td>0.591712</td>\n",
       "      <td>14197.860742</td>\n",
       "      <td>180.753200</td>\n",
       "      <td>8.466554</td>\n",
       "      <td>56.958458</td>\n",
       "      <td>9.262353</td>\n",
       "      <td>32.970364</td>\n",
       "      <td>9.943225e+04</td>\n",
       "      <td>2.568710</td>\n",
       "      <td>6.401564</td>\n",
       "      <td>2017.370021</td>\n",
       "      <td>0.186498</td>\n",
       "      <td>0.563852</td>\n",
       "    </tr>\n",
       "    <tr>\n",
       "      <td>std</td>\n",
       "      <td>5.682278</td>\n",
       "      <td>1.089640e+07</td>\n",
       "      <td>35.661808</td>\n",
       "      <td>1.078620</td>\n",
       "      <td>1.261593</td>\n",
       "      <td>6.597081</td>\n",
       "      <td>21.709506</td>\n",
       "      <td>4.883317</td>\n",
       "      <td>5.721927</td>\n",
       "      <td>0.959662</td>\n",
       "      <td>8606.830295</td>\n",
       "      <td>219.777916</td>\n",
       "      <td>5.231372</td>\n",
       "      <td>25.461690</td>\n",
       "      <td>1.782068</td>\n",
       "      <td>17.846085</td>\n",
       "      <td>5.033794e+04</td>\n",
       "      <td>1.788808</td>\n",
       "      <td>3.491418</td>\n",
       "      <td>1.037806</td>\n",
       "      <td>0.075773</td>\n",
       "      <td>0.110937</td>\n",
       "    </tr>\n",
       "    <tr>\n",
       "      <td>min</td>\n",
       "      <td>0.000000</td>\n",
       "      <td>1.219000e+04</td>\n",
       "      <td>12.000000</td>\n",
       "      <td>0.000000</td>\n",
       "      <td>1.000000</td>\n",
       "      <td>1.000000</td>\n",
       "      <td>2.000000</td>\n",
       "      <td>1.000000</td>\n",
       "      <td>0.000000</td>\n",
       "      <td>0.000000</td>\n",
       "      <td>181.000000</td>\n",
       "      <td>1.000000</td>\n",
       "      <td>5.000000</td>\n",
       "      <td>26.050000</td>\n",
       "      <td>0.000000</td>\n",
       "      <td>17.600000</td>\n",
       "      <td>1.118349e+02</td>\n",
       "      <td>0.000000</td>\n",
       "      <td>1.000000</td>\n",
       "      <td>2014.000000</td>\n",
       "      <td>0.000000</td>\n",
       "      <td>0.021583</td>\n",
       "    </tr>\n",
       "    <tr>\n",
       "      <td>25%</td>\n",
       "      <td>6.000000</td>\n",
       "      <td>3.400000e+06</td>\n",
       "      <td>40.000000</td>\n",
       "      <td>1.000000</td>\n",
       "      <td>2.520000</td>\n",
       "      <td>5.000000</td>\n",
       "      <td>18.400000</td>\n",
       "      <td>2.000000</td>\n",
       "      <td>7.200000</td>\n",
       "      <td>0.000000</td>\n",
       "      <td>9241.000000</td>\n",
       "      <td>45.000000</td>\n",
       "      <td>5.000000</td>\n",
       "      <td>36.530000</td>\n",
       "      <td>8.800000</td>\n",
       "      <td>17.600000</td>\n",
       "      <td>7.661497e+04</td>\n",
       "      <td>1.000000</td>\n",
       "      <td>3.000000</td>\n",
       "      <td>2017.000000</td>\n",
       "      <td>0.133121</td>\n",
       "      <td>0.490359</td>\n",
       "    </tr>\n",
       "    <tr>\n",
       "      <td>50%</td>\n",
       "      <td>9.000000</td>\n",
       "      <td>4.650000e+06</td>\n",
       "      <td>52.000000</td>\n",
       "      <td>2.000000</td>\n",
       "      <td>2.650000</td>\n",
       "      <td>9.000000</td>\n",
       "      <td>30.300000</td>\n",
       "      <td>4.000000</td>\n",
       "      <td>9.000000</td>\n",
       "      <td>0.000000</td>\n",
       "      <td>13105.000000</td>\n",
       "      <td>95.000000</td>\n",
       "      <td>5.000000</td>\n",
       "      <td>53.000000</td>\n",
       "      <td>9.000000</td>\n",
       "      <td>30.500000</td>\n",
       "      <td>9.500000e+04</td>\n",
       "      <td>3.000000</td>\n",
       "      <td>6.000000</td>\n",
       "      <td>2017.000000</td>\n",
       "      <td>0.172207</td>\n",
       "      <td>0.566598</td>\n",
       "    </tr>\n",
       "    <tr>\n",
       "      <td>75%</td>\n",
       "      <td>14.000000</td>\n",
       "      <td>6.799000e+06</td>\n",
       "      <td>69.700000</td>\n",
       "      <td>3.000000</td>\n",
       "      <td>2.800000</td>\n",
       "      <td>16.000000</td>\n",
       "      <td>42.700000</td>\n",
       "      <td>8.000000</td>\n",
       "      <td>11.500000</td>\n",
       "      <td>1.000000</td>\n",
       "      <td>16293.000000</td>\n",
       "      <td>231.000000</td>\n",
       "      <td>10.000000</td>\n",
       "      <td>72.900000</td>\n",
       "      <td>9.500000</td>\n",
       "      <td>45.000000</td>\n",
       "      <td>1.142742e+05</td>\n",
       "      <td>4.000000</td>\n",
       "      <td>10.000000</td>\n",
       "      <td>2018.000000</td>\n",
       "      <td>0.232151</td>\n",
       "      <td>0.638298</td>\n",
       "    </tr>\n",
       "    <tr>\n",
       "      <td>max</td>\n",
       "      <td>50.000000</td>\n",
       "      <td>7.630000e+08</td>\n",
       "      <td>900.000000</td>\n",
       "      <td>19.000000</td>\n",
       "      <td>100.000000</td>\n",
       "      <td>60.000000</td>\n",
       "      <td>409.700000</td>\n",
       "      <td>33.000000</td>\n",
       "      <td>112.000000</td>\n",
       "      <td>5.000000</td>\n",
       "      <td>65968.000000</td>\n",
       "      <td>1580.000000</td>\n",
       "      <td>36.000000</td>\n",
       "      <td>900.000000</td>\n",
       "      <td>112.000000</td>\n",
       "      <td>409.700000</td>\n",
       "      <td>1.907500e+06</td>\n",
       "      <td>6.000000</td>\n",
       "      <td>12.000000</td>\n",
       "      <td>2019.000000</td>\n",
       "      <td>0.787879</td>\n",
       "      <td>1.519048</td>\n",
       "    </tr>\n",
       "  </tbody>\n",
       "</table>\n",
       "</div>"
      ],
      "text/plain": [
       "       total_images    last_price    total_area         rooms  ceiling_height  \\\n",
       "count  23650.000000  2.365000e+04  23650.000000  23650.000000    14490.000000   \n",
       "mean       9.862326  6.541127e+06     60.329069      2.070106        2.771287   \n",
       "std        5.682278  1.089640e+07     35.661808      1.078620        1.261593   \n",
       "min        0.000000  1.219000e+04     12.000000      0.000000        1.000000   \n",
       "25%        6.000000  3.400000e+06     40.000000      1.000000        2.520000   \n",
       "50%        9.000000  4.650000e+06     52.000000      2.000000        2.650000   \n",
       "75%       14.000000  6.799000e+06     69.700000      3.000000        2.800000   \n",
       "max       50.000000  7.630000e+08    900.000000     19.000000      100.000000   \n",
       "\n",
       "       floors_total   living_area         floor  kitchen_area       balcony  \\\n",
       "count  23650.000000  23650.000000  23650.000000  23650.000000  23650.000000   \n",
       "mean      10.684059     34.313891      5.893277     10.368791      0.591712   \n",
       "std        6.597081     21.709506      4.883317      5.721927      0.959662   \n",
       "min        1.000000      2.000000      1.000000      0.000000      0.000000   \n",
       "25%        5.000000     18.400000      2.000000      7.200000      0.000000   \n",
       "50%        9.000000     30.300000      4.000000      9.000000      0.000000   \n",
       "75%       16.000000     42.700000      8.000000     11.500000      1.000000   \n",
       "max       60.000000    409.700000     33.000000    112.000000      5.000000   \n",
       "\n",
       "       cityCenters_nearest  days_exposition  median_floors_total  \\\n",
       "count         18139.000000     20470.000000         23650.000000   \n",
       "mean          14197.860742       180.753200             8.466554   \n",
       "std            8606.830295       219.777916             5.231372   \n",
       "min             181.000000         1.000000             5.000000   \n",
       "25%            9241.000000        45.000000             5.000000   \n",
       "50%           13105.000000        95.000000             5.000000   \n",
       "75%           16293.000000       231.000000            10.000000   \n",
       "max           65968.000000      1580.000000            36.000000   \n",
       "\n",
       "       median_total_area  median_kitchen_area  median_living_area  \\\n",
       "count       23650.000000         23650.000000        23650.000000   \n",
       "mean           56.958458             9.262353           32.970364   \n",
       "std            25.461690             1.782068           17.846085   \n",
       "min            26.050000             0.000000           17.600000   \n",
       "25%            36.530000             8.800000           17.600000   \n",
       "50%            53.000000             9.000000           30.500000   \n",
       "75%            72.900000             9.500000           45.000000   \n",
       "max           900.000000           112.000000          409.700000   \n",
       "\n",
       "        price_meter  weekday_first_day  month_first_day  year_first_day  \\\n",
       "count  2.365000e+04       23650.000000     23650.000000    23650.000000   \n",
       "mean   9.943225e+04           2.568710         6.401564     2017.370021   \n",
       "std    5.033794e+04           1.788808         3.491418        1.037806   \n",
       "min    1.118349e+02           0.000000         1.000000     2014.000000   \n",
       "25%    7.661497e+04           1.000000         3.000000     2017.000000   \n",
       "50%    9.500000e+04           3.000000         6.000000     2017.000000   \n",
       "75%    1.142742e+05           4.000000        10.000000     2018.000000   \n",
       "max    1.907500e+06           6.000000        12.000000     2019.000000   \n",
       "\n",
       "       ratio_kitchen  ratio_living  \n",
       "count   23650.000000  23650.000000  \n",
       "mean        0.186498      0.563852  \n",
       "std         0.075773      0.110937  \n",
       "min         0.000000      0.021583  \n",
       "25%         0.133121      0.490359  \n",
       "50%         0.172207      0.566598  \n",
       "75%         0.232151      0.638298  \n",
       "max         0.787879      1.519048  "
      ]
     },
     "execution_count": 27,
     "metadata": {},
     "output_type": "execute_result"
    }
   ],
   "source": [
    "data.describe()"
   ]
  },
  {
   "cell_type": "markdown",
   "metadata": {},
   "source": [
    "## Исследовательский анализ данных"
   ]
  },
  {
   "cell_type": "markdown",
   "metadata": {},
   "source": [
    "### Гистограммы "
   ]
  },
  {
   "cell_type": "markdown",
   "metadata": {},
   "source": [
    "Построим гистограммы по следующим параметрам: \n",
    "\n",
    "    площадь\n",
    "    цена\n",
    "    число комнат\n",
    "    высота потолков"
   ]
  },
  {
   "cell_type": "markdown",
   "metadata": {},
   "source": [
    "Гистограмма по общей площади квартир:\n",
    "\n"
   ]
  },
  {
   "cell_type": "code",
   "execution_count": 28,
   "metadata": {},
   "outputs": [
    {
     "data": {
      "text/plain": [
       "<matplotlib.axes._subplots.AxesSubplot at 0x7fdd47667390>"
      ]
     },
     "execution_count": 28,
     "metadata": {},
     "output_type": "execute_result"
    },
    {
     "data": {
      "image/png": "[encoded data removed]",
      "text/plain": [
       "<Figure size 432x288 with 1 Axes>"
      ]
     },
     "metadata": {
      "needs_background": "light"
     },
     "output_type": "display_data"
    }
   ],
   "source": [
    "data.plot(kind = 'hist', y='total_area', title= 'Гистограмма по площади квартир', label = 'Площадь квартиры, кв.м', bins = 30, range = (0, 300))"
   ]
  },
  {
   "cell_type": "markdown",
   "metadata": {},
   "source": [
    "Цена продажи квартиры"
   ]
  },
  {
   "cell_type": "code",
   "execution_count": 29,
   "metadata": {},
   "outputs": [
    {
     "data": {
      "text/plain": [
       "<matplotlib.axes._subplots.AxesSubplot at 0x7fdd474ee9d0>"
      ]
     },
     "execution_count": 29,
     "metadata": {},
     "output_type": "execute_result"
    },
    {
     "data": {
      "image/png": "[encoded data removed]",
      "text/plain": [
       "<Figure size 432x288 with 1 Axes>"
      ]
     },
     "metadata": {
      "needs_background": "light"
     },
     "output_type": "display_data"
    }
   ],
   "source": [
    "data.plot(kind = 'hist', y='last_price', title= 'Гистограмма стоимости квартир', label = 'Цена квартиры, руб', bins = 50,  range = (0, 15000000))"
   ]
  },
  {
   "cell_type": "markdown",
   "metadata": {},
   "source": [
    "Гистограмма по числу комнат:"
   ]
  },
  {
   "cell_type": "code",
   "execution_count": 30,
   "metadata": {},
   "outputs": [
    {
     "data": {
      "text/plain": [
       "<matplotlib.axes._subplots.AxesSubplot at 0x7fdd46da5250>"
      ]
     },
     "execution_count": 30,
     "metadata": {},
     "output_type": "execute_result"
    },
    {
     "data": {
      "image/png": "[encoded data removed]",
      "text/plain": [
       "<Figure size 432x288 with 1 Axes>"
      ]
     },
     "metadata": {
      "needs_background": "light"
     },
     "output_type": "display_data"
    }
   ],
   "source": [
    "data.plot(kind = 'hist', y='rooms', title= 'Гистограмма по числу комнат', label = 'Количество комнат', bins = 10,  range = (0, 8))"
   ]
  },
  {
   "cell_type": "markdown",
   "metadata": {},
   "source": [
    "Гистограмма высоты потолков"
   ]
  },
  {
   "cell_type": "code",
   "execution_count": 31,
   "metadata": {},
   "outputs": [
    {
     "data": {
      "text/plain": [
       "<matplotlib.axes._subplots.AxesSubplot at 0x7fdd46ca7090>"
      ]
     },
     "execution_count": 31,
     "metadata": {},
     "output_type": "execute_result"
    },
    {
     "data": {
      "image/png": "[encoded data removed]",
      "text/plain": [
       "<Figure size 432x288 with 1 Axes>"
      ]
     },
     "metadata": {
      "needs_background": "light"
     },
     "output_type": "display_data"
    }
   ],
   "source": [
    "data.plot(kind = 'hist', y='ceiling_height', title= 'Гистограмма высоты потолков', label = 'Высота потолков, м', bins = 10,  range = (2, 4.5))"
   ]
  },
  {
   "cell_type": "markdown",
   "metadata": {},
   "source": [
    "**Выводы:**\n",
    "\n",
    "1. Гистограмма по общей площади квартиры имеет вид распределения Пуассона, основное количество объявлений содержит информацию о квартирах площадью около 50 кв. м., значения ниже 25 кв. м. будем считать аномальными.\n",
    "2. Гистограмма стоимости квартиры имеет подозрительно маленькие значения, пик приходится примерно на 3,8 млн.\n",
    "3. Из гистограммы по количеству комнат, можно сделать вывод, что чаще всего продают однокомнатный и двухкомнатные квартиры, немного реже трехкомнатные, выбиваются квартиры с количеством комнат 0.\n",
    "4. Гистограмма по высоте потолков имеет пик около 2,7м, что является стандартной высотой при строительстве.\n",
    "\n",
    "    \n"
   ]
  },
  {
   "cell_type": "markdown",
   "metadata": {},
   "source": [
    "### Изучение времени продажи квартир"
   ]
  },
  {
   "cell_type": "code",
   "execution_count": 32,
   "metadata": {},
   "outputs": [
    {
     "data": {
      "text/plain": [
       "count    20470.000000\n",
       "mean       180.753200\n",
       "std        219.777916\n",
       "min          1.000000\n",
       "25%         45.000000\n",
       "50%         95.000000\n",
       "75%        231.000000\n",
       "max       1580.000000\n",
       "Name: days_exposition, dtype: float64"
      ]
     },
     "execution_count": 32,
     "metadata": {},
     "output_type": "execute_result"
    }
   ],
   "source": [
    "# Найдем медиану и среднее\n",
    "data['days_exposition'].describe()"
   ]
  },
  {
   "cell_type": "code",
   "execution_count": 33,
   "metadata": {},
   "outputs": [
    {
     "data": {
      "text/plain": [
       "95.0"
      ]
     },
     "execution_count": 33,
     "metadata": {},
     "output_type": "execute_result"
    }
   ],
   "source": [
    "data['days_exposition'].median()"
   ]
  },
  {
   "cell_type": "markdown",
   "metadata": {},
   "source": [
    "Среднее значение 169 дней, медианное 95, это подтверждает наличие большого количества выбросов. \n",
    "Посмотрим подробнее."
   ]
  },
  {
   "cell_type": "code",
   "execution_count": 34,
   "metadata": {},
   "outputs": [
    {
     "data": {
      "text/plain": [
       "<matplotlib.axes._subplots.AxesSubplot at 0x7fdd46c4cf10>"
      ]
     },
     "execution_count": 34,
     "metadata": {},
     "output_type": "execute_result"
    },
    {
     "data": {
      "image/png": "[encoded data removed]",
      "text/plain": [
       "<Figure size 432x288 with 1 Axes>"
      ]
     },
     "metadata": {
      "needs_background": "light"
     },
     "output_type": "display_data"
    }
   ],
   "source": [
    "data.plot(kind = 'box', x='last_price', y='days_exposition', title= 'Длительность продажи квартир в днях', label = 'Количество дней', grid = True)"
   ]
  },
  {
   "cell_type": "markdown",
   "metadata": {},
   "source": [
    "Из диаграммы можно сделать вывод о том, что чаще всего продажа идет около 100 дней.\n",
    "Если квартира продается меньше 40 дней, можно считать продажу быстрой, если дольше 450 - долгой продажей.\n",
    "\n"
   ]
  },
  {
   "cell_type": "markdown",
   "metadata": {},
   "source": [
    "### Работа с редкими и выбивающимися значениями"
   ]
  },
  {
   "cell_type": "code",
   "execution_count": 35,
   "metadata": {},
   "outputs": [
    {
     "data": {
      "text/html": [
       "<div>\n",
       "<style scoped>\n",
       "    .dataframe tbody tr th:only-of-type {\n",
       "        vertical-align: middle;\n",
       "    }\n",
       "\n",
       "    .dataframe tbody tr th {\n",
       "        vertical-align: top;\n",
       "    }\n",
       "\n",
       "    .dataframe thead th {\n",
       "        text-align: right;\n",
       "    }\n",
       "</style>\n",
       "<table border=\"1\" class=\"dataframe\">\n",
       "  <thead>\n",
       "    <tr style=\"text-align: right;\">\n",
       "      <th></th>\n",
       "      <th>total_images</th>\n",
       "      <th>last_price</th>\n",
       "      <th>total_area</th>\n",
       "      <th>rooms</th>\n",
       "      <th>ceiling_height</th>\n",
       "      <th>floors_total</th>\n",
       "      <th>living_area</th>\n",
       "      <th>floor</th>\n",
       "      <th>kitchen_area</th>\n",
       "      <th>balcony</th>\n",
       "      <th>cityCenters_nearest</th>\n",
       "      <th>days_exposition</th>\n",
       "      <th>median_floors_total</th>\n",
       "      <th>median_total_area</th>\n",
       "      <th>median_kitchen_area</th>\n",
       "      <th>median_living_area</th>\n",
       "      <th>price_meter</th>\n",
       "      <th>weekday_first_day</th>\n",
       "      <th>month_first_day</th>\n",
       "      <th>year_first_day</th>\n",
       "      <th>ratio_kitchen</th>\n",
       "      <th>ratio_living</th>\n",
       "    </tr>\n",
       "  </thead>\n",
       "  <tbody>\n",
       "    <tr>\n",
       "      <td>count</td>\n",
       "      <td>23650.000000</td>\n",
       "      <td>2.365000e+04</td>\n",
       "      <td>23650.000000</td>\n",
       "      <td>23650.000000</td>\n",
       "      <td>14490.000000</td>\n",
       "      <td>23650.000000</td>\n",
       "      <td>23650.000000</td>\n",
       "      <td>23650.000000</td>\n",
       "      <td>23650.000000</td>\n",
       "      <td>23650.000000</td>\n",
       "      <td>18139.000000</td>\n",
       "      <td>20470.000000</td>\n",
       "      <td>23650.000000</td>\n",
       "      <td>23650.000000</td>\n",
       "      <td>23650.000000</td>\n",
       "      <td>23650.000000</td>\n",
       "      <td>2.365000e+04</td>\n",
       "      <td>23650.000000</td>\n",
       "      <td>23650.000000</td>\n",
       "      <td>23650.000000</td>\n",
       "      <td>23650.000000</td>\n",
       "      <td>23650.000000</td>\n",
       "    </tr>\n",
       "    <tr>\n",
       "      <td>mean</td>\n",
       "      <td>9.862326</td>\n",
       "      <td>6.541127e+06</td>\n",
       "      <td>60.329069</td>\n",
       "      <td>2.070106</td>\n",
       "      <td>2.771287</td>\n",
       "      <td>10.684059</td>\n",
       "      <td>34.313891</td>\n",
       "      <td>5.893277</td>\n",
       "      <td>10.368791</td>\n",
       "      <td>0.591712</td>\n",
       "      <td>14197.860742</td>\n",
       "      <td>180.753200</td>\n",
       "      <td>8.466554</td>\n",
       "      <td>56.958458</td>\n",
       "      <td>9.262353</td>\n",
       "      <td>32.970364</td>\n",
       "      <td>9.943225e+04</td>\n",
       "      <td>2.568710</td>\n",
       "      <td>6.401564</td>\n",
       "      <td>2017.370021</td>\n",
       "      <td>0.186498</td>\n",
       "      <td>0.563852</td>\n",
       "    </tr>\n",
       "    <tr>\n",
       "      <td>std</td>\n",
       "      <td>5.682278</td>\n",
       "      <td>1.089640e+07</td>\n",
       "      <td>35.661808</td>\n",
       "      <td>1.078620</td>\n",
       "      <td>1.261593</td>\n",
       "      <td>6.597081</td>\n",
       "      <td>21.709506</td>\n",
       "      <td>4.883317</td>\n",
       "      <td>5.721927</td>\n",
       "      <td>0.959662</td>\n",
       "      <td>8606.830295</td>\n",
       "      <td>219.777916</td>\n",
       "      <td>5.231372</td>\n",
       "      <td>25.461690</td>\n",
       "      <td>1.782068</td>\n",
       "      <td>17.846085</td>\n",
       "      <td>5.033794e+04</td>\n",
       "      <td>1.788808</td>\n",
       "      <td>3.491418</td>\n",
       "      <td>1.037806</td>\n",
       "      <td>0.075773</td>\n",
       "      <td>0.110937</td>\n",
       "    </tr>\n",
       "    <tr>\n",
       "      <td>min</td>\n",
       "      <td>0.000000</td>\n",
       "      <td>1.219000e+04</td>\n",
       "      <td>12.000000</td>\n",
       "      <td>0.000000</td>\n",
       "      <td>1.000000</td>\n",
       "      <td>1.000000</td>\n",
       "      <td>2.000000</td>\n",
       "      <td>1.000000</td>\n",
       "      <td>0.000000</td>\n",
       "      <td>0.000000</td>\n",
       "      <td>181.000000</td>\n",
       "      <td>1.000000</td>\n",
       "      <td>5.000000</td>\n",
       "      <td>26.050000</td>\n",
       "      <td>0.000000</td>\n",
       "      <td>17.600000</td>\n",
       "      <td>1.118349e+02</td>\n",
       "      <td>0.000000</td>\n",
       "      <td>1.000000</td>\n",
       "      <td>2014.000000</td>\n",
       "      <td>0.000000</td>\n",
       "      <td>0.021583</td>\n",
       "    </tr>\n",
       "    <tr>\n",
       "      <td>25%</td>\n",
       "      <td>6.000000</td>\n",
       "      <td>3.400000e+06</td>\n",
       "      <td>40.000000</td>\n",
       "      <td>1.000000</td>\n",
       "      <td>2.520000</td>\n",
       "      <td>5.000000</td>\n",
       "      <td>18.400000</td>\n",
       "      <td>2.000000</td>\n",
       "      <td>7.200000</td>\n",
       "      <td>0.000000</td>\n",
       "      <td>9241.000000</td>\n",
       "      <td>45.000000</td>\n",
       "      <td>5.000000</td>\n",
       "      <td>36.530000</td>\n",
       "      <td>8.800000</td>\n",
       "      <td>17.600000</td>\n",
       "      <td>7.661497e+04</td>\n",
       "      <td>1.000000</td>\n",
       "      <td>3.000000</td>\n",
       "      <td>2017.000000</td>\n",
       "      <td>0.133121</td>\n",
       "      <td>0.490359</td>\n",
       "    </tr>\n",
       "    <tr>\n",
       "      <td>50%</td>\n",
       "      <td>9.000000</td>\n",
       "      <td>4.650000e+06</td>\n",
       "      <td>52.000000</td>\n",
       "      <td>2.000000</td>\n",
       "      <td>2.650000</td>\n",
       "      <td>9.000000</td>\n",
       "      <td>30.300000</td>\n",
       "      <td>4.000000</td>\n",
       "      <td>9.000000</td>\n",
       "      <td>0.000000</td>\n",
       "      <td>13105.000000</td>\n",
       "      <td>95.000000</td>\n",
       "      <td>5.000000</td>\n",
       "      <td>53.000000</td>\n",
       "      <td>9.000000</td>\n",
       "      <td>30.500000</td>\n",
       "      <td>9.500000e+04</td>\n",
       "      <td>3.000000</td>\n",
       "      <td>6.000000</td>\n",
       "      <td>2017.000000</td>\n",
       "      <td>0.172207</td>\n",
       "      <td>0.566598</td>\n",
       "    </tr>\n",
       "    <tr>\n",
       "      <td>75%</td>\n",
       "      <td>14.000000</td>\n",
       "      <td>6.799000e+06</td>\n",
       "      <td>69.700000</td>\n",
       "      <td>3.000000</td>\n",
       "      <td>2.800000</td>\n",
       "      <td>16.000000</td>\n",
       "      <td>42.700000</td>\n",
       "      <td>8.000000</td>\n",
       "      <td>11.500000</td>\n",
       "      <td>1.000000</td>\n",
       "      <td>16293.000000</td>\n",
       "      <td>231.000000</td>\n",
       "      <td>10.000000</td>\n",
       "      <td>72.900000</td>\n",
       "      <td>9.500000</td>\n",
       "      <td>45.000000</td>\n",
       "      <td>1.142742e+05</td>\n",
       "      <td>4.000000</td>\n",
       "      <td>10.000000</td>\n",
       "      <td>2018.000000</td>\n",
       "      <td>0.232151</td>\n",
       "      <td>0.638298</td>\n",
       "    </tr>\n",
       "    <tr>\n",
       "      <td>max</td>\n",
       "      <td>50.000000</td>\n",
       "      <td>7.630000e+08</td>\n",
       "      <td>900.000000</td>\n",
       "      <td>19.000000</td>\n",
       "      <td>100.000000</td>\n",
       "      <td>60.000000</td>\n",
       "      <td>409.700000</td>\n",
       "      <td>33.000000</td>\n",
       "      <td>112.000000</td>\n",
       "      <td>5.000000</td>\n",
       "      <td>65968.000000</td>\n",
       "      <td>1580.000000</td>\n",
       "      <td>36.000000</td>\n",
       "      <td>900.000000</td>\n",
       "      <td>112.000000</td>\n",
       "      <td>409.700000</td>\n",
       "      <td>1.907500e+06</td>\n",
       "      <td>6.000000</td>\n",
       "      <td>12.000000</td>\n",
       "      <td>2019.000000</td>\n",
       "      <td>0.787879</td>\n",
       "      <td>1.519048</td>\n",
       "    </tr>\n",
       "  </tbody>\n",
       "</table>\n",
       "</div>"
      ],
      "text/plain": [
       "       total_images    last_price    total_area         rooms  ceiling_height  \\\n",
       "count  23650.000000  2.365000e+04  23650.000000  23650.000000    14490.000000   \n",
       "mean       9.862326  6.541127e+06     60.329069      2.070106        2.771287   \n",
       "std        5.682278  1.089640e+07     35.661808      1.078620        1.261593   \n",
       "min        0.000000  1.219000e+04     12.000000      0.000000        1.000000   \n",
       "25%        6.000000  3.400000e+06     40.000000      1.000000        2.520000   \n",
       "50%        9.000000  4.650000e+06     52.000000      2.000000        2.650000   \n",
       "75%       14.000000  6.799000e+06     69.700000      3.000000        2.800000   \n",
       "max       50.000000  7.630000e+08    900.000000     19.000000      100.000000   \n",
       "\n",
       "       floors_total   living_area         floor  kitchen_area       balcony  \\\n",
       "count  23650.000000  23650.000000  23650.000000  23650.000000  23650.000000   \n",
       "mean      10.684059     34.313891      5.893277     10.368791      0.591712   \n",
       "std        6.597081     21.709506      4.883317      5.721927      0.959662   \n",
       "min        1.000000      2.000000      1.000000      0.000000      0.000000   \n",
       "25%        5.000000     18.400000      2.000000      7.200000      0.000000   \n",
       "50%        9.000000     30.300000      4.000000      9.000000      0.000000   \n",
       "75%       16.000000     42.700000      8.000000     11.500000      1.000000   \n",
       "max       60.000000    409.700000     33.000000    112.000000      5.000000   \n",
       "\n",
       "       cityCenters_nearest  days_exposition  median_floors_total  \\\n",
       "count         18139.000000     20470.000000         23650.000000   \n",
       "mean          14197.860742       180.753200             8.466554   \n",
       "std            8606.830295       219.777916             5.231372   \n",
       "min             181.000000         1.000000             5.000000   \n",
       "25%            9241.000000        45.000000             5.000000   \n",
       "50%           13105.000000        95.000000             5.000000   \n",
       "75%           16293.000000       231.000000            10.000000   \n",
       "max           65968.000000      1580.000000            36.000000   \n",
       "\n",
       "       median_total_area  median_kitchen_area  median_living_area  \\\n",
       "count       23650.000000         23650.000000        23650.000000   \n",
       "mean           56.958458             9.262353           32.970364   \n",
       "std            25.461690             1.782068           17.846085   \n",
       "min            26.050000             0.000000           17.600000   \n",
       "25%            36.530000             8.800000           17.600000   \n",
       "50%            53.000000             9.000000           30.500000   \n",
       "75%            72.900000             9.500000           45.000000   \n",
       "max           900.000000           112.000000          409.700000   \n",
       "\n",
       "        price_meter  weekday_first_day  month_first_day  year_first_day  \\\n",
       "count  2.365000e+04       23650.000000     23650.000000    23650.000000   \n",
       "mean   9.943225e+04           2.568710         6.401564     2017.370021   \n",
       "std    5.033794e+04           1.788808         3.491418        1.037806   \n",
       "min    1.118349e+02           0.000000         1.000000     2014.000000   \n",
       "25%    7.661497e+04           1.000000         3.000000     2017.000000   \n",
       "50%    9.500000e+04           3.000000         6.000000     2017.000000   \n",
       "75%    1.142742e+05           4.000000        10.000000     2018.000000   \n",
       "max    1.907500e+06           6.000000        12.000000     2019.000000   \n",
       "\n",
       "       ratio_kitchen  ratio_living  \n",
       "count   23650.000000  23650.000000  \n",
       "mean        0.186498      0.563852  \n",
       "std         0.075773      0.110937  \n",
       "min         0.000000      0.021583  \n",
       "25%         0.133121      0.490359  \n",
       "50%         0.172207      0.566598  \n",
       "75%         0.232151      0.638298  \n",
       "max         0.787879      1.519048  "
      ]
     },
     "execution_count": 35,
     "metadata": {},
     "output_type": "execute_result"
    }
   ],
   "source": [
    "data.describe()"
   ]
  },
  {
   "cell_type": "markdown",
   "metadata": {},
   "source": [
    "Избавляюсь от выбросов по площади квартир использую данные СНиП\n",
    "\n",
    "Минимальная площадь квартиры-студии - 24 кв. м.\n",
    "\n",
    "Минимальная площадь жилой зоны - 12 кв. м.\n",
    "\n",
    "Минимальная высота потолка - 2,4 м.\n",
    "\n",
    "\n",
    "\n",
    "По количеству комнат отбрасываем данные со значением 0.\n",
    "\n",
    "По количеству дней на продаже использую диапазон от 40 до 450 дней.\n",
    "\n"
   ]
  },
  {
   "cell_type": "code",
   "execution_count": 36,
   "metadata": {},
   "outputs": [
    {
     "data": {
      "text/html": [
       "<div>\n",
       "<style scoped>\n",
       "    .dataframe tbody tr th:only-of-type {\n",
       "        vertical-align: middle;\n",
       "    }\n",
       "\n",
       "    .dataframe tbody tr th {\n",
       "        vertical-align: top;\n",
       "    }\n",
       "\n",
       "    .dataframe thead th {\n",
       "        text-align: right;\n",
       "    }\n",
       "</style>\n",
       "<table border=\"1\" class=\"dataframe\">\n",
       "  <thead>\n",
       "    <tr style=\"text-align: right;\">\n",
       "      <th></th>\n",
       "      <th>total_images</th>\n",
       "      <th>last_price</th>\n",
       "      <th>total_area</th>\n",
       "      <th>first_day_exposition</th>\n",
       "      <th>rooms</th>\n",
       "      <th>ceiling_height</th>\n",
       "      <th>floors_total</th>\n",
       "      <th>living_area</th>\n",
       "      <th>floor</th>\n",
       "      <th>is_apartment</th>\n",
       "      <th>studio</th>\n",
       "      <th>open_plan</th>\n",
       "      <th>kitchen_area</th>\n",
       "      <th>balcony</th>\n",
       "      <th>locality_name</th>\n",
       "      <th>airports_nearest</th>\n",
       "      <th>cityCenters_nearest</th>\n",
       "      <th>parks_around3000</th>\n",
       "      <th>parks_nearest</th>\n",
       "      <th>ponds_around3000</th>\n",
       "      <th>ponds_nearest</th>\n",
       "      <th>days_exposition</th>\n",
       "      <th>median_floors_total</th>\n",
       "      <th>median_total_area</th>\n",
       "      <th>median_kitchen_area</th>\n",
       "      <th>median_living_area</th>\n",
       "      <th>price_meter</th>\n",
       "      <th>weekday_first_day</th>\n",
       "      <th>month_first_day</th>\n",
       "      <th>year_first_day</th>\n",
       "      <th>floor_category</th>\n",
       "      <th>ratio_kitchen</th>\n",
       "      <th>ratio_living</th>\n",
       "    </tr>\n",
       "  </thead>\n",
       "  <tbody>\n",
       "    <tr>\n",
       "      <td>1</td>\n",
       "      <td>16</td>\n",
       "      <td>14200000.0</td>\n",
       "      <td>121.00</td>\n",
       "      <td>2019-01-09</td>\n",
       "      <td>3</td>\n",
       "      <td>2.75</td>\n",
       "      <td>16</td>\n",
       "      <td>76.00</td>\n",
       "      <td>8</td>\n",
       "      <td>False</td>\n",
       "      <td>False</td>\n",
       "      <td>False</td>\n",
       "      <td>12.0</td>\n",
       "      <td>0</td>\n",
       "      <td>Санкт-Петербург</td>\n",
       "      <td>38900.0</td>\n",
       "      <td>12843.0</td>\n",
       "      <td>0.0</td>\n",
       "      <td>NaN</td>\n",
       "      <td>0.0</td>\n",
       "      <td>NaN</td>\n",
       "      <td>97.0</td>\n",
       "      <td>10.0</td>\n",
       "      <td>72.9</td>\n",
       "      <td>9.5</td>\n",
       "      <td>45.0</td>\n",
       "      <td>117355.371901</td>\n",
       "      <td>2</td>\n",
       "      <td>1</td>\n",
       "      <td>2019</td>\n",
       "      <td>другой</td>\n",
       "      <td>0.099174</td>\n",
       "      <td>0.628099</td>\n",
       "    </tr>\n",
       "    <tr>\n",
       "      <td>4</td>\n",
       "      <td>20</td>\n",
       "      <td>33000000.0</td>\n",
       "      <td>180.00</td>\n",
       "      <td>2017-02-17</td>\n",
       "      <td>3</td>\n",
       "      <td>2.90</td>\n",
       "      <td>9</td>\n",
       "      <td>86.00</td>\n",
       "      <td>8</td>\n",
       "      <td>False</td>\n",
       "      <td>False</td>\n",
       "      <td>False</td>\n",
       "      <td>24.0</td>\n",
       "      <td>4</td>\n",
       "      <td>Санкт-Петербург</td>\n",
       "      <td>25689.0</td>\n",
       "      <td>4264.0</td>\n",
       "      <td>1.0</td>\n",
       "      <td>633.0</td>\n",
       "      <td>0.0</td>\n",
       "      <td>NaN</td>\n",
       "      <td>144.0</td>\n",
       "      <td>10.0</td>\n",
       "      <td>72.9</td>\n",
       "      <td>9.5</td>\n",
       "      <td>45.0</td>\n",
       "      <td>183333.333333</td>\n",
       "      <td>4</td>\n",
       "      <td>2</td>\n",
       "      <td>2017</td>\n",
       "      <td>другой</td>\n",
       "      <td>0.133333</td>\n",
       "      <td>0.477778</td>\n",
       "    </tr>\n",
       "    <tr>\n",
       "      <td>5</td>\n",
       "      <td>20</td>\n",
       "      <td>4800000.0</td>\n",
       "      <td>65.90</td>\n",
       "      <td>2018-02-25</td>\n",
       "      <td>3</td>\n",
       "      <td>2.55</td>\n",
       "      <td>9</td>\n",
       "      <td>48.50</td>\n",
       "      <td>8</td>\n",
       "      <td>False</td>\n",
       "      <td>False</td>\n",
       "      <td>False</td>\n",
       "      <td>6.3</td>\n",
       "      <td>0</td>\n",
       "      <td>Санкт-Петербург</td>\n",
       "      <td>44855.0</td>\n",
       "      <td>17093.0</td>\n",
       "      <td>0.0</td>\n",
       "      <td>NaN</td>\n",
       "      <td>0.0</td>\n",
       "      <td>NaN</td>\n",
       "      <td>239.0</td>\n",
       "      <td>10.0</td>\n",
       "      <td>72.9</td>\n",
       "      <td>9.5</td>\n",
       "      <td>45.0</td>\n",
       "      <td>72837.632777</td>\n",
       "      <td>6</td>\n",
       "      <td>2</td>\n",
       "      <td>2018</td>\n",
       "      <td>другой</td>\n",
       "      <td>0.095599</td>\n",
       "      <td>0.735964</td>\n",
       "    </tr>\n",
       "    <tr>\n",
       "      <td>9</td>\n",
       "      <td>15</td>\n",
       "      <td>5900000.0</td>\n",
       "      <td>67.40</td>\n",
       "      <td>2019-01-11</td>\n",
       "      <td>3</td>\n",
       "      <td>2.50</td>\n",
       "      <td>9</td>\n",
       "      <td>48.50</td>\n",
       "      <td>8</td>\n",
       "      <td>False</td>\n",
       "      <td>False</td>\n",
       "      <td>False</td>\n",
       "      <td>6.2</td>\n",
       "      <td>0</td>\n",
       "      <td>Санкт-Петербург</td>\n",
       "      <td>47531.0</td>\n",
       "      <td>20410.0</td>\n",
       "      <td>0.0</td>\n",
       "      <td>NaN</td>\n",
       "      <td>0.0</td>\n",
       "      <td>NaN</td>\n",
       "      <td>95.0</td>\n",
       "      <td>10.0</td>\n",
       "      <td>72.9</td>\n",
       "      <td>9.5</td>\n",
       "      <td>45.0</td>\n",
       "      <td>87537.091988</td>\n",
       "      <td>4</td>\n",
       "      <td>1</td>\n",
       "      <td>2019</td>\n",
       "      <td>другой</td>\n",
       "      <td>0.091988</td>\n",
       "      <td>0.719585</td>\n",
       "    </tr>\n",
       "    <tr>\n",
       "      <td>12</td>\n",
       "      <td>0</td>\n",
       "      <td>4200000.0</td>\n",
       "      <td>57.86</td>\n",
       "      <td>2018-10-01</td>\n",
       "      <td>3</td>\n",
       "      <td>2.50</td>\n",
       "      <td>9</td>\n",
       "      <td>40.92</td>\n",
       "      <td>8</td>\n",
       "      <td>False</td>\n",
       "      <td>False</td>\n",
       "      <td>False</td>\n",
       "      <td>6.0</td>\n",
       "      <td>1</td>\n",
       "      <td>Колпино</td>\n",
       "      <td>25508.0</td>\n",
       "      <td>31294.0</td>\n",
       "      <td>1.0</td>\n",
       "      <td>61.0</td>\n",
       "      <td>0.0</td>\n",
       "      <td>NaN</td>\n",
       "      <td>45.0</td>\n",
       "      <td>10.0</td>\n",
       "      <td>72.9</td>\n",
       "      <td>9.5</td>\n",
       "      <td>45.0</td>\n",
       "      <td>72589.007950</td>\n",
       "      <td>0</td>\n",
       "      <td>10</td>\n",
       "      <td>2018</td>\n",
       "      <td>другой</td>\n",
       "      <td>0.103699</td>\n",
       "      <td>0.707224</td>\n",
       "    </tr>\n",
       "    <tr>\n",
       "      <td>13</td>\n",
       "      <td>8</td>\n",
       "      <td>6750000.0</td>\n",
       "      <td>67.20</td>\n",
       "      <td>2018-02-13</td>\n",
       "      <td>3</td>\n",
       "      <td>2.55</td>\n",
       "      <td>10</td>\n",
       "      <td>43.20</td>\n",
       "      <td>8</td>\n",
       "      <td>False</td>\n",
       "      <td>False</td>\n",
       "      <td>False</td>\n",
       "      <td>7.8</td>\n",
       "      <td>1</td>\n",
       "      <td>Санкт-Петербург</td>\n",
       "      <td>38510.0</td>\n",
       "      <td>9718.0</td>\n",
       "      <td>2.0</td>\n",
       "      <td>491.0</td>\n",
       "      <td>0.0</td>\n",
       "      <td>NaN</td>\n",
       "      <td>226.0</td>\n",
       "      <td>10.0</td>\n",
       "      <td>72.9</td>\n",
       "      <td>9.5</td>\n",
       "      <td>45.0</td>\n",
       "      <td>100446.428571</td>\n",
       "      <td>1</td>\n",
       "      <td>2</td>\n",
       "      <td>2018</td>\n",
       "      <td>другой</td>\n",
       "      <td>0.116071</td>\n",
       "      <td>0.642857</td>\n",
       "    </tr>\n",
       "    <tr>\n",
       "      <td>14</td>\n",
       "      <td>1</td>\n",
       "      <td>5700000.0</td>\n",
       "      <td>54.00</td>\n",
       "      <td>2017-12-04</td>\n",
       "      <td>3</td>\n",
       "      <td>2.55</td>\n",
       "      <td>9</td>\n",
       "      <td>45.00</td>\n",
       "      <td>8</td>\n",
       "      <td>False</td>\n",
       "      <td>False</td>\n",
       "      <td>False</td>\n",
       "      <td>9.5</td>\n",
       "      <td>0</td>\n",
       "      <td>Санкт-Петербург</td>\n",
       "      <td>32361.0</td>\n",
       "      <td>11829.0</td>\n",
       "      <td>1.0</td>\n",
       "      <td>470.0</td>\n",
       "      <td>0.0</td>\n",
       "      <td>NaN</td>\n",
       "      <td>146.0</td>\n",
       "      <td>10.0</td>\n",
       "      <td>72.9</td>\n",
       "      <td>9.5</td>\n",
       "      <td>45.0</td>\n",
       "      <td>105555.555556</td>\n",
       "      <td>0</td>\n",
       "      <td>12</td>\n",
       "      <td>2017</td>\n",
       "      <td>другой</td>\n",
       "      <td>0.175926</td>\n",
       "      <td>0.833333</td>\n",
       "    </tr>\n",
       "    <tr>\n",
       "      <td>15</td>\n",
       "      <td>8</td>\n",
       "      <td>4700000.0</td>\n",
       "      <td>61.30</td>\n",
       "      <td>2019-02-12</td>\n",
       "      <td>3</td>\n",
       "      <td>2.50</td>\n",
       "      <td>9</td>\n",
       "      <td>44.30</td>\n",
       "      <td>8</td>\n",
       "      <td>False</td>\n",
       "      <td>False</td>\n",
       "      <td>False</td>\n",
       "      <td>6.2</td>\n",
       "      <td>0</td>\n",
       "      <td>Ломоносов</td>\n",
       "      <td>46894.0</td>\n",
       "      <td>50319.0</td>\n",
       "      <td>0.0</td>\n",
       "      <td>NaN</td>\n",
       "      <td>1.0</td>\n",
       "      <td>642.0</td>\n",
       "      <td>53.0</td>\n",
       "      <td>10.0</td>\n",
       "      <td>72.9</td>\n",
       "      <td>9.5</td>\n",
       "      <td>45.0</td>\n",
       "      <td>76672.104405</td>\n",
       "      <td>1</td>\n",
       "      <td>2</td>\n",
       "      <td>2019</td>\n",
       "      <td>другой</td>\n",
       "      <td>0.101142</td>\n",
       "      <td>0.722675</td>\n",
       "    </tr>\n",
       "    <tr>\n",
       "      <td>19</td>\n",
       "      <td>19</td>\n",
       "      <td>6650000.0</td>\n",
       "      <td>70.00</td>\n",
       "      <td>2018-02-20</td>\n",
       "      <td>3</td>\n",
       "      <td>2.55</td>\n",
       "      <td>9</td>\n",
       "      <td>41.00</td>\n",
       "      <td>8</td>\n",
       "      <td>False</td>\n",
       "      <td>False</td>\n",
       "      <td>False</td>\n",
       "      <td>8.3</td>\n",
       "      <td>0</td>\n",
       "      <td>Санкт-Петербург</td>\n",
       "      <td>19546.0</td>\n",
       "      <td>21258.0</td>\n",
       "      <td>0.0</td>\n",
       "      <td>NaN</td>\n",
       "      <td>1.0</td>\n",
       "      <td>552.0</td>\n",
       "      <td>396.0</td>\n",
       "      <td>10.0</td>\n",
       "      <td>72.9</td>\n",
       "      <td>9.5</td>\n",
       "      <td>45.0</td>\n",
       "      <td>95000.000000</td>\n",
       "      <td>1</td>\n",
       "      <td>2</td>\n",
       "      <td>2018</td>\n",
       "      <td>другой</td>\n",
       "      <td>0.118571</td>\n",
       "      <td>0.585714</td>\n",
       "    </tr>\n",
       "    <tr>\n",
       "      <td>20</td>\n",
       "      <td>8</td>\n",
       "      <td>7490000.0</td>\n",
       "      <td>83.00</td>\n",
       "      <td>2017-11-28</td>\n",
       "      <td>3</td>\n",
       "      <td>2.55</td>\n",
       "      <td>10</td>\n",
       "      <td>48.00</td>\n",
       "      <td>8</td>\n",
       "      <td>False</td>\n",
       "      <td>False</td>\n",
       "      <td>False</td>\n",
       "      <td>11.0</td>\n",
       "      <td>0</td>\n",
       "      <td>Санкт-Петербург</td>\n",
       "      <td>23744.0</td>\n",
       "      <td>18283.0</td>\n",
       "      <td>1.0</td>\n",
       "      <td>35.0</td>\n",
       "      <td>1.0</td>\n",
       "      <td>773.0</td>\n",
       "      <td>71.0</td>\n",
       "      <td>10.0</td>\n",
       "      <td>72.9</td>\n",
       "      <td>9.5</td>\n",
       "      <td>45.0</td>\n",
       "      <td>90240.963855</td>\n",
       "      <td>1</td>\n",
       "      <td>11</td>\n",
       "      <td>2017</td>\n",
       "      <td>другой</td>\n",
       "      <td>0.132530</td>\n",
       "      <td>0.578313</td>\n",
       "    </tr>\n",
       "  </tbody>\n",
       "</table>\n",
       "</div>"
      ],
      "text/plain": [
       "    total_images  last_price  total_area first_day_exposition  rooms  \\\n",
       "1             16  14200000.0      121.00           2019-01-09      3   \n",
       "4             20  33000000.0      180.00           2017-02-17      3   \n",
       "5             20   4800000.0       65.90           2018-02-25      3   \n",
       "9             15   5900000.0       67.40           2019-01-11      3   \n",
       "12             0   4200000.0       57.86           2018-10-01      3   \n",
       "13             8   6750000.0       67.20           2018-02-13      3   \n",
       "14             1   5700000.0       54.00           2017-12-04      3   \n",
       "15             8   4700000.0       61.30           2019-02-12      3   \n",
       "19            19   6650000.0       70.00           2018-02-20      3   \n",
       "20             8   7490000.0       83.00           2017-11-28      3   \n",
       "\n",
       "    ceiling_height  floors_total  living_area  floor  is_apartment  studio  \\\n",
       "1             2.75            16        76.00      8         False   False   \n",
       "4             2.90             9        86.00      8         False   False   \n",
       "5             2.55             9        48.50      8         False   False   \n",
       "9             2.50             9        48.50      8         False   False   \n",
       "12            2.50             9        40.92      8         False   False   \n",
       "13            2.55            10        43.20      8         False   False   \n",
       "14            2.55             9        45.00      8         False   False   \n",
       "15            2.50             9        44.30      8         False   False   \n",
       "19            2.55             9        41.00      8         False   False   \n",
       "20            2.55            10        48.00      8         False   False   \n",
       "\n",
       "    open_plan  kitchen_area  balcony    locality_name airports_nearest  \\\n",
       "1       False          12.0        0  Санкт-Петербург          38900.0   \n",
       "4       False          24.0        4  Санкт-Петербург          25689.0   \n",
       "5       False           6.3        0  Санкт-Петербург          44855.0   \n",
       "9       False           6.2        0  Санкт-Петербург          47531.0   \n",
       "12      False           6.0        1          Колпино          25508.0   \n",
       "13      False           7.8        1  Санкт-Петербург          38510.0   \n",
       "14      False           9.5        0  Санкт-Петербург          32361.0   \n",
       "15      False           6.2        0        Ломоносов          46894.0   \n",
       "19      False           8.3        0  Санкт-Петербург          19546.0   \n",
       "20      False          11.0        0  Санкт-Петербург          23744.0   \n",
       "\n",
       "    cityCenters_nearest parks_around3000 parks_nearest ponds_around3000  \\\n",
       "1               12843.0              0.0           NaN              0.0   \n",
       "4                4264.0              1.0         633.0              0.0   \n",
       "5               17093.0              0.0           NaN              0.0   \n",
       "9               20410.0              0.0           NaN              0.0   \n",
       "12              31294.0              1.0          61.0              0.0   \n",
       "13               9718.0              2.0         491.0              0.0   \n",
       "14              11829.0              1.0         470.0              0.0   \n",
       "15              50319.0              0.0           NaN              1.0   \n",
       "19              21258.0              0.0           NaN              1.0   \n",
       "20              18283.0              1.0          35.0              1.0   \n",
       "\n",
       "   ponds_nearest  days_exposition  median_floors_total  median_total_area  \\\n",
       "1            NaN             97.0                 10.0               72.9   \n",
       "4            NaN            144.0                 10.0               72.9   \n",
       "5            NaN            239.0                 10.0               72.9   \n",
       "9            NaN             95.0                 10.0               72.9   \n",
       "12           NaN             45.0                 10.0               72.9   \n",
       "13           NaN            226.0                 10.0               72.9   \n",
       "14           NaN            146.0                 10.0               72.9   \n",
       "15         642.0             53.0                 10.0               72.9   \n",
       "19         552.0            396.0                 10.0               72.9   \n",
       "20         773.0             71.0                 10.0               72.9   \n",
       "\n",
       "    median_kitchen_area  median_living_area    price_meter  weekday_first_day  \\\n",
       "1                   9.5                45.0  117355.371901                  2   \n",
       "4                   9.5                45.0  183333.333333                  4   \n",
       "5                   9.5                45.0   72837.632777                  6   \n",
       "9                   9.5                45.0   87537.091988                  4   \n",
       "12                  9.5                45.0   72589.007950                  0   \n",
       "13                  9.5                45.0  100446.428571                  1   \n",
       "14                  9.5                45.0  105555.555556                  0   \n",
       "15                  9.5                45.0   76672.104405                  1   \n",
       "19                  9.5                45.0   95000.000000                  1   \n",
       "20                  9.5                45.0   90240.963855                  1   \n",
       "\n",
       "    month_first_day  year_first_day floor_category  ratio_kitchen  \\\n",
       "1                 1            2019         другой       0.099174   \n",
       "4                 2            2017         другой       0.133333   \n",
       "5                 2            2018         другой       0.095599   \n",
       "9                 1            2019         другой       0.091988   \n",
       "12               10            2018         другой       0.103699   \n",
       "13                2            2018         другой       0.116071   \n",
       "14               12            2017         другой       0.175926   \n",
       "15                2            2019         другой       0.101142   \n",
       "19                2            2018         другой       0.118571   \n",
       "20               11            2017         другой       0.132530   \n",
       "\n",
       "    ratio_living  \n",
       "1       0.628099  \n",
       "4       0.477778  \n",
       "5       0.735964  \n",
       "9       0.719585  \n",
       "12      0.707224  \n",
       "13      0.642857  \n",
       "14      0.833333  \n",
       "15      0.722675  \n",
       "19      0.585714  \n",
       "20      0.578313  "
      ]
     },
     "execution_count": 36,
     "metadata": {},
     "output_type": "execute_result"
    }
   ],
   "source": [
    "data = data.query('24 < total_area')\n",
    "data = data.query('12 < living_area')\n",
    "data = data.query('2.4 < ceiling_height')\n",
    "data = data.query('0 < rooms')\n",
    "data = data.query('40 < days_exposition < 450')\n",
    "data.head(10)\n"
   ]
  },
  {
   "cell_type": "markdown",
   "metadata": {},
   "source": [
    "### Изучение факторов, больше всего влияющих на стоимость квартир"
   ]
  },
  {
   "cell_type": "markdown",
   "metadata": {},
   "source": [
    "Проверим зависит ли цена от площади квартиры, количества комнат и удалённости от центра. "
   ]
  },
  {
   "cell_type": "code",
   "execution_count": 37,
   "metadata": {},
   "outputs": [
    {
     "data": {
      "text/html": [
       "<div>\n",
       "<style scoped>\n",
       "    .dataframe tbody tr th:only-of-type {\n",
       "        vertical-align: middle;\n",
       "    }\n",
       "\n",
       "    .dataframe tbody tr th {\n",
       "        vertical-align: top;\n",
       "    }\n",
       "\n",
       "    .dataframe thead th {\n",
       "        text-align: right;\n",
       "    }\n",
       "</style>\n",
       "<table border=\"1\" class=\"dataframe\">\n",
       "  <thead>\n",
       "    <tr style=\"text-align: right;\">\n",
       "      <th></th>\n",
       "      <th>last_price</th>\n",
       "      <th>total_area</th>\n",
       "      <th>cityCenters_nearest</th>\n",
       "      <th>rooms</th>\n",
       "    </tr>\n",
       "  </thead>\n",
       "  <tbody>\n",
       "    <tr>\n",
       "      <td>last_price</td>\n",
       "      <td>1.000000</td>\n",
       "      <td>0.718662</td>\n",
       "      <td>-0.200052</td>\n",
       "      <td>0.384010</td>\n",
       "    </tr>\n",
       "    <tr>\n",
       "      <td>total_area</td>\n",
       "      <td>0.718662</td>\n",
       "      <td>1.000000</td>\n",
       "      <td>-0.234968</td>\n",
       "      <td>0.757333</td>\n",
       "    </tr>\n",
       "    <tr>\n",
       "      <td>cityCenters_nearest</td>\n",
       "      <td>-0.200052</td>\n",
       "      <td>-0.234968</td>\n",
       "      <td>1.000000</td>\n",
       "      <td>-0.191137</td>\n",
       "    </tr>\n",
       "    <tr>\n",
       "      <td>rooms</td>\n",
       "      <td>0.384010</td>\n",
       "      <td>0.757333</td>\n",
       "      <td>-0.191137</td>\n",
       "      <td>1.000000</td>\n",
       "    </tr>\n",
       "  </tbody>\n",
       "</table>\n",
       "</div>"
      ],
      "text/plain": [
       "                     last_price  total_area  cityCenters_nearest     rooms\n",
       "last_price             1.000000    0.718662            -0.200052  0.384010\n",
       "total_area             0.718662    1.000000            -0.234968  0.757333\n",
       "cityCenters_nearest   -0.200052   -0.234968             1.000000 -0.191137\n",
       "rooms                  0.384010    0.757333            -0.191137  1.000000"
      ]
     },
     "execution_count": 37,
     "metadata": {},
     "output_type": "execute_result"
    }
   ],
   "source": [
    "#построим матрицу корреляции и графики\n",
    "data[['last_price','total_area','cityCenters_nearest','rooms']].corr()"
   ]
  },
  {
   "cell_type": "code",
   "execution_count": 38,
   "metadata": {},
   "outputs": [
    {
     "data": {
      "text/plain": [
       "<matplotlib.axes._subplots.AxesSubplot at 0x7fdd46bdfc10>"
      ]
     },
     "execution_count": 38,
     "metadata": {},
     "output_type": "execute_result"
    },
    {
     "data": {
      "image/png": "[encoded data removed]",
      "text/plain": [
       "<Figure size 360x360 with 1 Axes>"
      ]
     },
     "metadata": {
      "needs_background": "light"
     },
     "output_type": "display_data"
    }
   ],
   "source": [
    "#зависимость стоимости от общей площади\n",
    "data.plot(x='last_price', y='total_area', kind='scatter', alpha=0.7, figsize = (5, 5), title= '3ависимость стоимости от общей площади', label = 'Цена продажи квартиры, руб')"
   ]
  },
  {
   "cell_type": "code",
   "execution_count": 39,
   "metadata": {
    "scrolled": true
   },
   "outputs": [
    {
     "data": {
      "text/plain": [
       "<matplotlib.axes._subplots.AxesSubplot at 0x7fdd46ae9e90>"
      ]
     },
     "execution_count": 39,
     "metadata": {},
     "output_type": "execute_result"
    },
    {
     "data": {
      "image/png": "[encoded data removed]",
      "text/plain": [
       "<Figure size 360x360 with 1 Axes>"
      ]
     },
     "metadata": {
      "needs_background": "light"
     },
     "output_type": "display_data"
    }
   ],
   "source": [
    "#зависимость стоимости от количества комнат\n",
    "data.plot(x='last_price', y='rooms', kind='scatter', alpha=0.7, figsize = (5, 5), title = '3ависимость стоимости от количества комнат', label = 'Цена продажи квартиры, руб') "
   ]
  },
  {
   "cell_type": "markdown",
   "metadata": {},
   "source": []
  },
  {
   "cell_type": "code",
   "execution_count": 40,
   "metadata": {},
   "outputs": [
    {
     "data": {
      "text/plain": [
       "<matplotlib.axes._subplots.AxesSubplot at 0x7fdd46a9d110>"
      ]
     },
     "execution_count": 40,
     "metadata": {},
     "output_type": "execute_result"
    },
    {
     "data": {
      "image/png": "[encoded data removed]",
      "text/plain": [
       "<Figure size 360x360 with 1 Axes>"
      ]
     },
     "metadata": {
      "needs_background": "light"
     },
     "output_type": "display_data"
    }
   ],
   "source": [
    "#зависимость стоимости от расстояния до центра\n",
    "data.plot(x='last_price', y='cityCenters_nearest', kind='scatter', alpha=0.7, figsize = (5, 5), title = '3ависимость стоимости от расстояния до центра',  label = 'Цена продажи квартиры, руб') "
   ]
  },
  {
   "cell_type": "code",
   "execution_count": 41,
   "metadata": {},
   "outputs": [
    {
     "data": {
      "image/png": "[encoded data removed]",
      "text/plain": [
       "<Figure size 720x360 with 1 Axes>"
      ]
     },
     "metadata": {
      "needs_background": "light"
     },
     "output_type": "display_data"
    }
   ],
   "source": [
    "#зависимость цены от этажа\n",
    "floor_price = data[['floor_category', 'last_price']].groupby(['floor_category']).median().plot(kind = 'bar', grid=True, figsize=(10, 5), title = 'Зависимость цены от категории этажа')\n"
   ]
  },
  {
   "cell_type": "code",
   "execution_count": 42,
   "metadata": {},
   "outputs": [
    {
     "data": {
      "image/png": "[encoded data removed]",
      "text/plain": [
       "<Figure size 720x360 with 1 Axes>"
      ]
     },
     "metadata": {
      "needs_background": "light"
     },
     "output_type": "display_data"
    }
   ],
   "source": [
    "#зависимость цены от года публикации объявления\n",
    "year_price = data[['year_first_day', 'last_price']].groupby(['year_first_day']).median().plot(grid=True, figsize=(10, 5), xlim=(2015,2019), title = '3ависимость цены от года публикации объявления')"
   ]
  },
  {
   "cell_type": "code",
   "execution_count": 43,
   "metadata": {},
   "outputs": [
    {
     "data": {
      "image/png": "[encoded data removed]",
      "text/plain": [
       "<Figure size 1080x360 with 1 Axes>"
      ]
     },
     "metadata": {
      "needs_background": "light"
     },
     "output_type": "display_data"
    }
   ],
   "source": [
    "#зависимость цены от месяца публикации объявления\n",
    "month_price = data[['month_first_day', 'last_price']].groupby(['month_first_day']).median().plot(grid=True, figsize=(15, 5), xlim=(0,13), title = '3ависимость цены от месяца публикации объявления')"
   ]
  },
  {
   "cell_type": "code",
   "execution_count": 44,
   "metadata": {},
   "outputs": [
    {
     "data": {
      "image/png": "[encoded data removed]",
      "text/plain": [
       "<Figure size 1080x360 with 1 Axes>"
      ]
     },
     "metadata": {
      "needs_background": "light"
     },
     "output_type": "display_data"
    }
   ],
   "source": [
    "#зависимость цены от дня недели публикации объявления\n",
    "weekday_price = data[['weekday_first_day', 'last_price']].groupby(['weekday_first_day']).median().plot(grid=True, figsize=(15, 5), xlim=(0,6), title = '3ависимость цены от дня недели публикации объявления')"
   ]
  },
  {
   "cell_type": "markdown",
   "metadata": {},
   "source": [
    "**Выводы:**\n",
    "1. Есть прямая зависимость стоимости квартиры от ее площади, но даже при одинаковой площади стоимость квартир может меняться, стоит проанализировать и другие параметры.\n",
    "2. От количества комнат также есть зависимость, но менее явная, чем от общей площади - чем больше комнат, тем выше цена.\n",
    "3. Чем дальше от центра города, тем в среднем квартира будет стоить дешевле\n",
    "4. Квартиры на первом этаже самые дешевые. Дороже всех продаются квратиры расположенные на других этажах, но не первый или последний.\n",
    "5. В 2015г. квартиры были самые дорогие, до 2017г. стоимость квартир падала, затем начала расти.\n",
    "6. Дешевле всего купить квартиру в июне, самые дорогие в квартире в ноябре."
   ]
  },
  {
   "cell_type": "markdown",
   "metadata": {},
   "source": [
    "### Выбор 10 населённых пунктов с наибольшим числом объявлений. Средняя цена квадратного метра в этих населённых пунктах."
   ]
  },
  {
   "cell_type": "code",
   "execution_count": 45,
   "metadata": {},
   "outputs": [
    {
     "data": {
      "text/plain": [
       "locality_name\n",
       "Санкт-Петербург    112467.786911\n",
       "Сестрорецк         102990.678224\n",
       "Пушкин             102236.041305\n",
       "Парголово           88558.980569\n",
       "Мурино              85607.237573\n",
       "Петергоф            83381.159102\n",
       "Шушары              77286.418415\n",
       "Колпино             73475.540972\n",
       "Гатчина             69771.682721\n",
       "Всеволожск          66086.238398\n",
       "Name: price_meter, dtype: float64"
      ]
     },
     "execution_count": 45,
     "metadata": {},
     "output_type": "execute_result"
    }
   ],
   "source": [
    "#Выделим 10 городов с наибольшим числом объявлений \n",
    "top_city = data['locality_name'].value_counts().sort_values(ascending=False).head(10).index\n",
    "data_filtered = data.query('locality_name in @top_city')\n",
    "data_filtered.groupby('locality_name')['price_meter'].mean().sort_values(ascending=False)"
   ]
  },
  {
   "cell_type": "markdown",
   "metadata": {},
   "source": [
    "**Вывод:**\n",
    "\n",
    "Самые дорогие квартиры в Санкт-Петербурге, самые дешевые в Выборге, там цена на квартиры в два раза меньше, чем в Санкт-Петербурге.\n"
   ]
  },
  {
   "cell_type": "markdown",
   "metadata": {},
   "source": [
    "### Определение центральной зоны по стоимости квартир в Санкт-Петербурге."
   ]
  },
  {
   "cell_type": "code",
   "execution_count": 46,
   "metadata": {},
   "outputs": [
    {
     "data": {
      "text/plain": [
       "<matplotlib.axes._subplots.AxesSubplot at 0x7fdd46892410>"
      ]
     },
     "execution_count": 46,
     "metadata": {},
     "output_type": "execute_result"
    },
    {
     "data": {
      "image/png": "[encoded data removed]",
      "text/plain": [
       "<Figure size 1080x360 with 1 Axes>"
      ]
     },
     "metadata": {
      "needs_background": "light"
     },
     "output_type": "display_data"
    }
   ],
   "source": [
    "data['cityCenters_km'] = (data['cityCenters_nearest'] / 1000).round()\n",
    "data_centers = data.groupby('cityCenters_km')['price_meter'].mean()\n",
    "data_centers.plot(x='cityCenters_km', y='price_meter', grid=True, figsize=(15, 5))"
   ]
  },
  {
   "cell_type": "markdown",
   "metadata": {},
   "source": [
    "**Выводы:**\n",
    "\n",
    "Цена начинает резко снижаться около 9 км,  эта область и является центральным районом."
   ]
  },
  {
   "cell_type": "markdown",
   "metadata": {},
   "source": [
    "### Анализ площади, цены, числа комнат, высоты потолков для центра Санкт-Петербурга. "
   ]
  },
  {
   "cell_type": "code",
   "execution_count": 47,
   "metadata": {},
   "outputs": [
    {
     "name": "stdout",
     "output_type": "stream",
     "text": [
      "Медианная площадь квартир в центре Санкт-Петербурге 75.00\n",
      "Медианная цена квартир в центре Санкт-Петербурге 8550000.00\n",
      "Медианная высота потолков в квартирах в центре Санкт-Петербурге 3.00\n",
      "Наиболее часто встречаются квартиры со следующим количеством комнат в центре Санкт-Петербурге\n",
      "2    442\n",
      "3    423\n",
      "1    198\n",
      "Name: rooms, dtype: int64\n"
     ]
    }
   ],
   "source": [
    "data_spb_center = data.query('cityCenters_km < 9 & locality_name == \"Санкт-Петербург\"')\n",
    "print('Медианная площадь квартир в центре Санкт-Петербурге {:.2f}'.format(data_spb_center['total_area'].median()))\n",
    "print('Медианная цена квартир в центре Санкт-Петербурге {:.2f}'.format(data_spb_center['last_price'].median()))\n",
    "print('Медианная высота потолков в квартирах в центре Санкт-Петербурге {:.2f}'.format(data_spb_center['ceiling_height'].median()))\n",
    "print('Наиболее часто встречаются квартиры со следующим количеством комнат в центре Санкт-Петербурге')\n",
    "print(data_spb_center['rooms'].value_counts().head(3))"
   ]
  },
  {
   "cell_type": "markdown",
   "metadata": {},
   "source": [
    "**Выводы:**\n",
    "\n",
    "1. Медианная площадь квартир в центре города больше, примерно на 30 кв.м.\n",
    "2. Квартиры в центре более дорогие, медианная стоимость составляет 9,2 млн, для остальных квартир эта стоимость равняется 4,5 миллионам.\n",
    "3. Квартиры в центре также чаще двух- и трехкомнатные, в остальных случаях чаще встречаются однокомнатные.\n",
    "4. Высота потолков отличается не сильно."
   ]
  },
  {
   "cell_type": "markdown",
   "metadata": {},
   "source": [
    "### Выделение факторов,  влияющих на стоимость квартиры (число комнат, этаж, удалённость от центра, дата размещения объявления)."
   ]
  },
  {
   "cell_type": "code",
   "execution_count": 48,
   "metadata": {},
   "outputs": [
    {
     "data": {
      "text/plain": [
       "<matplotlib.axes._subplots.AxesSubplot at 0x7fdd47dfdb90>"
      ]
     },
     "execution_count": 48,
     "metadata": {},
     "output_type": "execute_result"
    },
    {
     "data": {
      "image/png": "[encoded data removed]",
      "text/plain": [
       "<Figure size 360x360 with 1 Axes>"
      ]
     },
     "metadata": {
      "needs_background": "light"
     },
     "output_type": "display_data"
    }
   ],
   "source": [
    "#зависимость стоимости от количества комнат\n",
    "data_spb_center.plot(x='last_price', y='rooms', kind='scatter', alpha=1, figsize = (5, 5)) "
   ]
  },
  {
   "cell_type": "code",
   "execution_count": 49,
   "metadata": {},
   "outputs": [
    {
     "data": {
      "image/png": "[encoded data removed]",
      "text/plain": [
       "<Figure size 720x360 with 1 Axes>"
      ]
     },
     "metadata": {
      "needs_background": "light"
     },
     "output_type": "display_data"
    }
   ],
   "source": [
    "#зависимость цены от этажа\n",
    "floor_price_center = data_spb_center[['floor_category', 'last_price']].groupby(['floor_category']).median().plot(grid=True, figsize=(10, 5))"
   ]
  },
  {
   "cell_type": "code",
   "execution_count": 50,
   "metadata": {},
   "outputs": [
    {
     "data": {
      "text/plain": [
       "<matplotlib.axes._subplots.AxesSubplot at 0x7fdd46755c90>"
      ]
     },
     "execution_count": 50,
     "metadata": {},
     "output_type": "execute_result"
    },
    {
     "data": {
      "image/png": "[encoded data removed]",
      "text/plain": [
       "<Figure size 360x360 with 1 Axes>"
      ]
     },
     "metadata": {
      "needs_background": "light"
     },
     "output_type": "display_data"
    }
   ],
   "source": [
    "#зависимость стоимости от расстояния до центра\n",
    "data_spb_center.plot(x='last_price', y='cityCenters_km', kind='scatter', alpha=0.5, figsize = (5, 5)) "
   ]
  },
  {
   "cell_type": "code",
   "execution_count": 51,
   "metadata": {},
   "outputs": [
    {
     "data": {
      "image/png": "[encoded data removed]",
      "text/plain": [
       "<Figure size 1080x360 with 1 Axes>"
      ]
     },
     "metadata": {
      "needs_background": "light"
     },
     "output_type": "display_data"
    }
   ],
   "source": [
    "#зависимость цены от года публикации объявления\n",
    "year_price_center = data_spb_center[['year_first_day', 'last_price']].groupby(['year_first_day']).median().plot(grid=True, figsize=(15, 5), xlim=(2014,2019))"
   ]
  },
  {
   "cell_type": "code",
   "execution_count": 52,
   "metadata": {},
   "outputs": [
    {
     "data": {
      "image/png": "[encoded data removed]",
      "text/plain": [
       "<Figure size 1080x360 with 1 Axes>"
      ]
     },
     "metadata": {
      "needs_background": "light"
     },
     "output_type": "display_data"
    }
   ],
   "source": [
    "#зависимость цены от месяца публикации объявления\n",
    "month_price_center = data_spb_center[['month_first_day', 'last_price']].groupby(['month_first_day']).median().plot(grid=True, figsize=(15, 5), xlim=(0,13))"
   ]
  },
  {
   "cell_type": "code",
   "execution_count": 53,
   "metadata": {},
   "outputs": [
    {
     "data": {
      "image/png": "[encoded data removed]",
      "text/plain": [
       "<Figure size 1080x360 with 1 Axes>"
      ]
     },
     "metadata": {
      "needs_background": "light"
     },
     "output_type": "display_data"
    }
   ],
   "source": [
    "#зависимость цены от дня недели публикации объявления\n",
    "weekday_price_center = data_spb_center[['weekday_first_day', 'last_price']].groupby(['weekday_first_day']).median().plot(grid=True, figsize=(15, 5), xlim=(0,6))"
   ]
  },
  {
   "cell_type": "markdown",
   "metadata": {},
   "source": [
    "**Выводы:**\n",
    "\n",
    "1. Зависимость стоимости квартиры сохранилась такой же, как и для всех объектов.\n",
    "2. Стоимость квартир на первом и последнем этажах ниже, чем на всех остальных.\n",
    "3. Самые дорогие квартиры в 2 километрах от центра, затем происходит спад и в 5 километрах цена снова поднимается.\n",
    "4. В 2014г. квартиры были самые дорогие, до 2017г. стоимость квартир падала, затем начала расти.\n",
    "5. В центре города дороже всего квартиры в марте, дешевле всего в мае.\n",
    "6. В пятницу приобрести квартиру можно дешевле остальных дней, дороже всего в понедельник и воскресенье.\n",
    "\n",
    "Выводы по центру города имеют, как общие черты, так и координальные отличия, такие как стоимость квартир по месяцам и дням недели."
   ]
  },
  {
   "cell_type": "markdown",
   "metadata": {},
   "source": [
    "## Общий вывод"
   ]
  },
  {
   "cell_type": "markdown",
   "metadata": {},
   "source": [
    "В ходе работы:\n",
    "\n",
    "1. Обработны пропущенные значения, заменены типы данных, а также обработаны дубликаты.\n",
    "2. В таблицу добавлены необходимые параметры, такие, как стоимость квадратного метра квартиры, категория этажа, и соотношение кухни и жилой площади к общей.\n",
    "3. Проведены исследования зависимости стоимости квартиры от ее параметров - количество комнат, этаж, высота потолков, расположение. А также обнаружена зависимость стоимости квартиры от месяца и дня недели продажи.\n",
    "4. Те же параметры выделены для Санкт-Петербурга. \n",
    "\n",
    "Параметры, позволяющие построить автоматизированную систему, которая отследит аномалии и мошеничество:\n",
    "\n",
    "1. Общая площадь квартиры\n",
    "2. Расстояние до центра города (центр города огранчен окружностью радиусом 9 км)\n",
    "3. Количество комнат и этаж квартиры (квартиры на первых и послежних этажах стоят дешевле прочих)\n",
    "4. Скорость продажи квартир (аномально маленькие сроки - меньше 40 дней)"
   ]
  }
 ],
 "metadata": {
  "ExecuteTimeLog": [
   {
    "duration": 335,
    "start_time": "2021-07-18T06:16:39.899Z"
   },
   {
    "duration": 888,
    "start_time": "2021-07-18T06:17:15.625Z"
   },
   {
    "duration": 89,
    "start_time": "2021-07-18T06:18:02.658Z"
   },
   {
    "duration": 105,
    "start_time": "2021-07-18T06:18:49.755Z"
   },
   {
    "duration": 4229,
    "start_time": "2021-07-18T06:18:55.643Z"
   },
   {
    "duration": 95,
    "start_time": "2021-07-18T06:19:21.923Z"
   },
   {
    "duration": 111,
    "start_time": "2021-07-18T06:19:59.368Z"
   },
   {
    "duration": 150,
    "start_time": "2021-07-18T06:20:30.390Z"
   },
   {
    "duration": 157,
    "start_time": "2021-07-18T07:32:30.731Z"
   },
   {
    "duration": 185,
    "start_time": "2021-07-18T07:33:25.337Z"
   },
   {
    "duration": 675,
    "start_time": "2021-07-18T09:54:48.087Z"
   },
   {
    "duration": 4,
    "start_time": "2021-07-18T10:22:27.008Z"
   },
   {
    "duration": 5,
    "start_time": "2021-07-18T10:22:33.683Z"
   },
   {
    "duration": 14,
    "start_time": "2021-07-18T10:26:04.761Z"
   },
   {
    "duration": 12,
    "start_time": "2021-07-18T10:27:45.927Z"
   },
   {
    "duration": 7,
    "start_time": "2021-07-18T10:28:11.601Z"
   },
   {
    "duration": 7,
    "start_time": "2021-07-18T10:29:21.947Z"
   },
   {
    "duration": 113,
    "start_time": "2021-07-18T10:31:19.199Z"
   },
   {
    "duration": 120,
    "start_time": "2021-07-18T10:31:27.475Z"
   },
   {
    "duration": 114,
    "start_time": "2021-07-18T10:31:36.015Z"
   },
   {
    "duration": 114,
    "start_time": "2021-07-18T10:31:42.970Z"
   },
   {
    "duration": 138,
    "start_time": "2021-07-18T10:31:54.468Z"
   },
   {
    "duration": 108,
    "start_time": "2021-07-18T10:32:09.125Z"
   },
   {
    "duration": 266,
    "start_time": "2021-07-18T10:32:33.232Z"
   },
   {
    "duration": 14,
    "start_time": "2021-07-18T10:32:38.098Z"
   },
   {
    "duration": 10,
    "start_time": "2021-07-18T10:32:46.877Z"
   },
   {
    "duration": 10,
    "start_time": "2021-07-18T10:32:49.888Z"
   },
   {
    "duration": 683,
    "start_time": "2021-07-18T13:58:06.659Z"
   },
   {
    "duration": 15,
    "start_time": "2021-07-18T13:58:10.205Z"
   },
   {
    "duration": 22,
    "start_time": "2021-07-18T13:58:46.751Z"
   },
   {
    "duration": 306,
    "start_time": "2021-07-18T14:07:18.184Z"
   },
   {
    "duration": 30,
    "start_time": "2021-07-18T14:07:26.029Z"
   },
   {
    "duration": 1010,
    "start_time": "2021-07-18T14:10:37.972Z"
   },
   {
    "duration": 1061,
    "start_time": "2021-07-18T14:13:53.975Z"
   },
   {
    "duration": 293,
    "start_time": "2021-07-18T14:19:38.423Z"
   },
   {
    "duration": 134,
    "start_time": "2021-07-18T14:19:52.128Z"
   },
   {
    "duration": 282,
    "start_time": "2021-07-18T14:19:54.535Z"
   },
   {
    "duration": 19,
    "start_time": "2021-07-18T14:20:15.633Z"
   },
   {
    "duration": 276,
    "start_time": "2021-07-18T14:22:21.693Z"
   },
   {
    "duration": 38,
    "start_time": "2021-07-18T14:22:32.660Z"
   },
   {
    "duration": 659,
    "start_time": "2021-07-18T14:24:07.653Z"
   },
   {
    "duration": 109,
    "start_time": "2021-07-18T14:24:14.462Z"
   },
   {
    "duration": 44,
    "start_time": "2021-07-18T14:24:16.800Z"
   },
   {
    "duration": 704,
    "start_time": "2021-07-18T14:25:39.128Z"
   },
   {
    "duration": 366,
    "start_time": "2021-07-18T14:25:57.480Z"
   },
   {
    "duration": 6494,
    "start_time": "2021-07-18T14:26:30.560Z"
   },
   {
    "duration": 6703,
    "start_time": "2021-07-18T14:28:42.828Z"
   },
   {
    "duration": 6468,
    "start_time": "2021-07-18T14:29:27.031Z"
   },
   {
    "duration": 117,
    "start_time": "2021-07-18T14:29:49.417Z"
   },
   {
    "duration": 6422,
    "start_time": "2021-07-18T14:29:51.577Z"
   },
   {
    "duration": 84,
    "start_time": "2021-07-18T14:31:04.622Z"
   },
   {
    "duration": 6365,
    "start_time": "2021-07-18T14:34:57.396Z"
   },
   {
    "duration": 118,
    "start_time": "2021-07-18T14:35:17.121Z"
   },
   {
    "duration": 95,
    "start_time": "2021-07-18T14:35:19.309Z"
   },
   {
    "duration": 956,
    "start_time": "2021-07-18T16:12:39.542Z"
   },
   {
    "duration": 179,
    "start_time": "2021-07-18T16:12:42.187Z"
   },
   {
    "duration": 8153,
    "start_time": "2021-07-18T16:13:05.653Z"
   },
   {
    "duration": 8608,
    "start_time": "2021-07-18T16:13:23.695Z"
   },
   {
    "duration": 8291,
    "start_time": "2021-07-18T16:13:44.606Z"
   },
   {
    "duration": 173,
    "start_time": "2021-07-18T16:17:44.538Z"
   },
   {
    "duration": 166,
    "start_time": "2021-07-18T16:17:46.615Z"
   },
   {
    "duration": 966,
    "start_time": "2021-07-19T15:50:20.995Z"
   },
   {
    "duration": 260,
    "start_time": "2021-07-19T15:50:23.897Z"
   },
   {
    "duration": 7632,
    "start_time": "2021-07-19T15:52:27.545Z"
   },
   {
    "duration": 215,
    "start_time": "2021-07-19T15:52:40.993Z"
   },
   {
    "duration": 209,
    "start_time": "2021-07-19T15:52:43.725Z"
   },
   {
    "duration": 179,
    "start_time": "2021-07-19T15:54:13.072Z"
   },
   {
    "duration": 208,
    "start_time": "2021-07-19T15:54:16.168Z"
   },
   {
    "duration": 1129,
    "start_time": "2021-07-19T15:54:17.709Z"
   },
   {
    "duration": 7233,
    "start_time": "2021-07-19T15:55:25.924Z"
   },
   {
    "duration": 176,
    "start_time": "2021-07-19T15:55:41.575Z"
   },
   {
    "duration": 681,
    "start_time": "2021-07-19T15:55:44.109Z"
   },
   {
    "duration": 7180,
    "start_time": "2021-07-19T15:56:09.649Z"
   },
   {
    "duration": 192,
    "start_time": "2021-07-19T15:56:22.335Z"
   },
   {
    "duration": 445,
    "start_time": "2021-07-19T15:56:24.930Z"
   },
   {
    "duration": 7010,
    "start_time": "2021-07-19T15:57:06.424Z"
   },
   {
    "duration": 177,
    "start_time": "2021-07-19T15:57:17.808Z"
   },
   {
    "duration": 458,
    "start_time": "2021-07-19T15:57:20.226Z"
   },
   {
    "duration": 7544,
    "start_time": "2021-07-19T16:01:33.041Z"
   },
   {
    "duration": 179,
    "start_time": "2021-07-19T16:01:51.510Z"
   },
   {
    "duration": 502,
    "start_time": "2021-07-19T16:01:54.179Z"
   },
   {
    "duration": 168,
    "start_time": "2021-07-19T16:03:33.856Z"
   },
   {
    "duration": 449,
    "start_time": "2021-07-19T16:03:36.024Z"
   },
   {
    "duration": 7881,
    "start_time": "2021-07-19T16:03:50.327Z"
   },
   {
    "duration": 168,
    "start_time": "2021-07-19T16:04:06.143Z"
   },
   {
    "duration": 522,
    "start_time": "2021-07-19T16:04:11.105Z"
   },
   {
    "duration": 6833,
    "start_time": "2021-07-19T16:04:38.568Z"
   },
   {
    "duration": 164,
    "start_time": "2021-07-19T16:04:54.054Z"
   },
   {
    "duration": 465,
    "start_time": "2021-07-19T16:04:56.273Z"
   },
   {
    "duration": 6568,
    "start_time": "2021-07-19T16:07:03.709Z"
   },
   {
    "duration": 173,
    "start_time": "2021-07-19T16:07:15.836Z"
   },
   {
    "duration": 409,
    "start_time": "2021-07-19T16:07:18.257Z"
   },
   {
    "duration": 167,
    "start_time": "2021-07-19T16:07:47.525Z"
   },
   {
    "duration": 442,
    "start_time": "2021-07-19T16:07:49.709Z"
   },
   {
    "duration": 7019,
    "start_time": "2021-07-19T16:11:09.437Z"
   },
   {
    "duration": 6521,
    "start_time": "2021-07-19T16:11:09.939Z"
   },
   {
    "duration": 6674,
    "start_time": "2021-07-19T16:11:17.392Z"
   },
   {
    "duration": 160,
    "start_time": "2021-07-19T16:12:23.676Z"
   },
   {
    "duration": 416,
    "start_time": "2021-07-19T16:12:26.067Z"
   },
   {
    "duration": 167,
    "start_time": "2021-07-19T16:14:01.461Z"
   },
   {
    "duration": 429,
    "start_time": "2021-07-19T16:14:03.765Z"
   },
   {
    "duration": 165,
    "start_time": "2021-07-19T16:22:18.435Z"
   },
   {
    "duration": 433,
    "start_time": "2021-07-19T16:22:20.842Z"
   },
   {
    "duration": 7355,
    "start_time": "2021-07-19T16:23:40.890Z"
   },
   {
    "duration": 6501,
    "start_time": "2021-07-19T16:23:41.746Z"
   },
   {
    "duration": 7255,
    "start_time": "2021-07-19T16:23:48.700Z"
   },
   {
    "duration": 168,
    "start_time": "2021-07-19T16:24:01.697Z"
   },
   {
    "duration": 465,
    "start_time": "2021-07-19T16:24:03.821Z"
   },
   {
    "duration": 6952,
    "start_time": "2021-07-19T16:24:11.723Z"
   },
   {
    "duration": 6528,
    "start_time": "2021-07-19T16:24:12.149Z"
   },
   {
    "duration": 6911,
    "start_time": "2021-07-19T16:24:19.652Z"
   },
   {
    "duration": 170,
    "start_time": "2021-07-19T16:24:30.833Z"
   },
   {
    "duration": 409,
    "start_time": "2021-07-19T16:24:32.974Z"
   },
   {
    "duration": 165,
    "start_time": "2021-07-19T16:25:10.707Z"
   },
   {
    "duration": 412,
    "start_time": "2021-07-19T16:25:13.193Z"
   },
   {
    "duration": 172,
    "start_time": "2021-07-19T16:25:19.801Z"
   },
   {
    "duration": 149,
    "start_time": "2021-07-19T16:25:22.242Z"
   },
   {
    "duration": 7183,
    "start_time": "2021-07-19T16:25:36.956Z"
   },
   {
    "duration": 163,
    "start_time": "2021-07-19T16:25:59.633Z"
   },
   {
    "duration": 179,
    "start_time": "2021-07-19T16:26:01.821Z"
   },
   {
    "duration": 160,
    "start_time": "2021-07-19T16:27:19.408Z"
   },
   {
    "duration": 163,
    "start_time": "2021-07-19T16:27:22.520Z"
   },
   {
    "duration": 160,
    "start_time": "2021-07-19T16:29:41.953Z"
   },
   {
    "duration": 159,
    "start_time": "2021-07-19T16:29:44.624Z"
   },
   {
    "duration": 6895,
    "start_time": "2021-07-19T16:30:05.488Z"
   },
   {
    "duration": 156,
    "start_time": "2021-07-19T16:30:13.756Z"
   },
   {
    "duration": 510,
    "start_time": "2021-07-19T16:30:15.923Z"
   },
   {
    "duration": 161,
    "start_time": "2021-07-19T16:30:27.511Z"
   },
   {
    "duration": 437,
    "start_time": "2021-07-19T16:30:29.544Z"
   },
   {
    "duration": 161,
    "start_time": "2021-07-19T16:30:39.896Z"
   },
   {
    "duration": 170,
    "start_time": "2021-07-19T16:30:42.081Z"
   },
   {
    "duration": 163,
    "start_time": "2021-07-19T16:31:01.043Z"
   },
   {
    "duration": 427,
    "start_time": "2021-07-19T16:31:03.232Z"
   },
   {
    "duration": 159,
    "start_time": "2021-07-19T16:31:56.545Z"
   },
   {
    "duration": 150,
    "start_time": "2021-07-19T16:31:59.001Z"
   },
   {
    "duration": 161,
    "start_time": "2021-07-19T16:32:10.327Z"
   },
   {
    "duration": 142,
    "start_time": "2021-07-19T16:32:12.728Z"
   },
   {
    "duration": 163,
    "start_time": "2021-07-19T16:32:26.544Z"
   },
   {
    "duration": 150,
    "start_time": "2021-07-19T16:32:28.767Z"
   },
   {
    "duration": 6945,
    "start_time": "2021-07-19T16:37:31.596Z"
   },
   {
    "duration": 161,
    "start_time": "2021-07-19T16:37:55.326Z"
   },
   {
    "duration": 208,
    "start_time": "2021-07-19T16:37:57.706Z"
   },
   {
    "duration": 157,
    "start_time": "2021-07-19T16:38:19.769Z"
   },
   {
    "duration": 230,
    "start_time": "2021-07-19T16:38:22.471Z"
   },
   {
    "duration": 171,
    "start_time": "2021-07-19T16:41:59.175Z"
   },
   {
    "duration": 294,
    "start_time": "2021-07-19T16:42:01.351Z"
   },
   {
    "duration": 283,
    "start_time": "2021-07-19T16:43:48.974Z"
   },
   {
    "duration": 290,
    "start_time": "2021-07-19T16:43:51.726Z"
   },
   {
    "duration": 168,
    "start_time": "2021-07-19T16:45:57.829Z"
   },
   {
    "duration": 255,
    "start_time": "2021-07-19T16:46:00.078Z"
   },
   {
    "duration": 6652,
    "start_time": "2021-07-19T16:46:56.333Z"
   },
   {
    "duration": 158,
    "start_time": "2021-07-19T16:47:09.045Z"
   },
   {
    "duration": 579,
    "start_time": "2021-07-19T16:47:11.177Z"
   },
   {
    "duration": 159,
    "start_time": "2021-07-19T16:47:19.181Z"
   },
   {
    "duration": 218,
    "start_time": "2021-07-19T16:47:21.247Z"
   },
   {
    "duration": 172,
    "start_time": "2021-07-19T16:48:52.341Z"
   },
   {
    "duration": 248,
    "start_time": "2021-07-19T16:48:54.604Z"
   },
   {
    "duration": 935,
    "start_time": "2021-07-20T04:24:59.358Z"
   },
   {
    "duration": 652,
    "start_time": "2021-07-20T04:25:01.835Z"
   },
   {
    "duration": 8622,
    "start_time": "2021-07-20T04:25:06.976Z"
   },
   {
    "duration": 162,
    "start_time": "2021-07-20T04:25:25.806Z"
   },
   {
    "duration": 219,
    "start_time": "2021-07-20T04:25:28.215Z"
   },
   {
    "duration": 8309,
    "start_time": "2021-07-20T04:27:35.122Z"
   },
   {
    "duration": 158,
    "start_time": "2021-07-20T04:27:45.913Z"
   },
   {
    "duration": 241,
    "start_time": "2021-07-20T04:27:48.268Z"
   },
   {
    "duration": 159,
    "start_time": "2021-07-20T04:30:11.356Z"
   },
   {
    "duration": 600,
    "start_time": "2021-07-20T04:30:13.485Z"
   },
   {
    "duration": 166,
    "start_time": "2021-07-20T04:31:19.796Z"
   },
   {
    "duration": 267,
    "start_time": "2021-07-20T04:31:21.633Z"
   },
   {
    "duration": 173,
    "start_time": "2021-07-20T04:38:21.651Z"
   },
   {
    "duration": 684,
    "start_time": "2021-07-20T04:51:57.817Z"
   },
   {
    "duration": 9811,
    "start_time": "2021-07-20T04:52:06.337Z"
   },
   {
    "duration": 188,
    "start_time": "2021-07-20T04:52:22.705Z"
   },
   {
    "duration": 316,
    "start_time": "2021-07-20T04:52:25.170Z"
   },
   {
    "duration": 10530,
    "start_time": "2021-07-20T04:55:54.637Z"
   },
   {
    "duration": 172,
    "start_time": "2021-07-20T04:56:05.579Z"
   },
   {
    "duration": 313,
    "start_time": "2021-07-20T04:56:07.906Z"
   },
   {
    "duration": 174,
    "start_time": "2021-07-20T04:57:15.276Z"
   },
   {
    "duration": 290,
    "start_time": "2021-07-20T04:57:17.909Z"
   },
   {
    "duration": 180,
    "start_time": "2021-07-20T04:59:02.277Z"
   },
   {
    "duration": 295,
    "start_time": "2021-07-20T04:59:04.323Z"
   },
   {
    "duration": 177,
    "start_time": "2021-07-20T04:59:28.936Z"
   },
   {
    "duration": 303,
    "start_time": "2021-07-20T04:59:30.997Z"
   },
   {
    "duration": 174,
    "start_time": "2021-07-20T05:00:02.388Z"
   },
   {
    "duration": 302,
    "start_time": "2021-07-20T05:00:04.560Z"
   },
   {
    "duration": 179,
    "start_time": "2021-07-20T05:00:20.456Z"
   },
   {
    "duration": 312,
    "start_time": "2021-07-20T05:00:22.564Z"
   },
   {
    "duration": 173,
    "start_time": "2021-07-20T14:45:37.881Z"
   },
   {
    "duration": 294,
    "start_time": "2021-07-20T14:45:40.132Z"
   },
   {
    "duration": 168,
    "start_time": "2021-07-20T14:54:06.204Z"
   },
   {
    "duration": 61,
    "start_time": "2021-07-20T14:56:01.765Z"
   },
   {
    "duration": 161,
    "start_time": "2021-07-20T14:58:31.036Z"
   },
   {
    "duration": 62,
    "start_time": "2021-07-20T14:58:35.635Z"
   },
   {
    "duration": 44,
    "start_time": "2021-07-20T14:58:43.491Z"
   },
   {
    "duration": 27,
    "start_time": "2021-07-20T15:24:00.502Z"
   },
   {
    "duration": 17,
    "start_time": "2021-07-20T15:33:28.575Z"
   },
   {
    "duration": 167,
    "start_time": "2021-07-20T15:35:57.397Z"
   },
   {
    "duration": 44,
    "start_time": "2021-07-20T15:35:58.227Z"
   },
   {
    "duration": 26,
    "start_time": "2021-07-20T15:36:00.688Z"
   },
   {
    "duration": 15,
    "start_time": "2021-07-20T15:36:02.170Z"
   },
   {
    "duration": 307,
    "start_time": "2021-07-20T15:36:02.677Z"
   },
   {
    "duration": 8869,
    "start_time": "2021-07-20T15:36:24.763Z"
   },
   {
    "duration": 28,
    "start_time": "2021-07-20T15:36:37.906Z"
   },
   {
    "duration": 15,
    "start_time": "2021-07-20T15:36:39.258Z"
   },
   {
    "duration": 9555,
    "start_time": "2021-07-20T15:36:39.737Z"
   },
   {
    "duration": 99,
    "start_time": "2021-07-20T15:36:52.572Z"
   },
   {
    "duration": 27,
    "start_time": "2021-07-20T15:36:54.895Z"
   },
   {
    "duration": 15,
    "start_time": "2021-07-20T15:36:56.648Z"
   },
   {
    "duration": 8823,
    "start_time": "2021-07-20T15:36:57.153Z"
   },
   {
    "duration": 160,
    "start_time": "2021-07-20T15:37:11.704Z"
   },
   {
    "duration": 43,
    "start_time": "2021-07-20T15:37:12.344Z"
   },
   {
    "duration": 27,
    "start_time": "2021-07-20T15:37:14.690Z"
   },
   {
    "duration": 16,
    "start_time": "2021-07-20T15:37:17.206Z"
   },
   {
    "duration": 298,
    "start_time": "2021-07-20T15:37:17.690Z"
   },
   {
    "duration": 16,
    "start_time": "2021-07-20T15:42:52.358Z"
   },
   {
    "duration": 8703,
    "start_time": "2021-07-20T15:42:52.867Z"
   },
   {
    "duration": 32,
    "start_time": "2021-07-20T15:43:05.729Z"
   },
   {
    "duration": 17,
    "start_time": "2021-07-20T15:43:06.929Z"
   },
   {
    "duration": 8630,
    "start_time": "2021-07-20T15:43:07.376Z"
   },
   {
    "duration": 157,
    "start_time": "2021-07-20T15:43:20.622Z"
   },
   {
    "duration": 43,
    "start_time": "2021-07-20T15:43:21.388Z"
   },
   {
    "duration": 26,
    "start_time": "2021-07-20T15:43:23.631Z"
   },
   {
    "duration": 17,
    "start_time": "2021-07-20T15:43:25.155Z"
   },
   {
    "duration": 271,
    "start_time": "2021-07-20T15:43:25.594Z"
   },
   {
    "duration": 155,
    "start_time": "2021-07-20T15:45:08.439Z"
   },
   {
    "duration": 44,
    "start_time": "2021-07-20T15:45:09.200Z"
   },
   {
    "duration": 31,
    "start_time": "2021-07-20T15:45:11.535Z"
   },
   {
    "duration": 16,
    "start_time": "2021-07-20T15:45:12.974Z"
   },
   {
    "duration": 274,
    "start_time": "2021-07-20T15:45:13.437Z"
   },
   {
    "duration": 151,
    "start_time": "2021-07-20T15:49:19.617Z"
   },
   {
    "duration": 45,
    "start_time": "2021-07-20T15:49:20.372Z"
   },
   {
    "duration": 25,
    "start_time": "2021-07-20T15:49:22.482Z"
   },
   {
    "duration": 16,
    "start_time": "2021-07-20T15:49:23.808Z"
   },
   {
    "duration": 606,
    "start_time": "2021-07-20T15:49:24.233Z"
   },
   {
    "duration": 153,
    "start_time": "2021-07-20T15:49:41.988Z"
   },
   {
    "duration": 44,
    "start_time": "2021-07-20T15:49:42.832Z"
   },
   {
    "duration": 25,
    "start_time": "2021-07-20T15:49:45.180Z"
   },
   {
    "duration": 16,
    "start_time": "2021-07-20T15:49:46.423Z"
   },
   {
    "duration": 9139,
    "start_time": "2021-07-20T15:49:46.829Z"
   },
   {
    "duration": 159,
    "start_time": "2021-07-20T15:50:18.446Z"
   },
   {
    "duration": 45,
    "start_time": "2021-07-20T15:50:19.318Z"
   },
   {
    "duration": 26,
    "start_time": "2021-07-20T15:50:21.488Z"
   },
   {
    "duration": 15,
    "start_time": "2021-07-20T15:50:22.760Z"
   },
   {
    "duration": 322,
    "start_time": "2021-07-20T15:50:23.141Z"
   },
   {
    "duration": 159,
    "start_time": "2021-07-20T15:52:41.380Z"
   },
   {
    "duration": 47,
    "start_time": "2021-07-20T15:52:42.107Z"
   },
   {
    "duration": 27,
    "start_time": "2021-07-20T15:52:44.277Z"
   },
   {
    "duration": 18,
    "start_time": "2021-07-20T15:52:45.643Z"
   },
   {
    "duration": 362,
    "start_time": "2021-07-20T15:52:46.111Z"
   },
   {
    "duration": 162,
    "start_time": "2021-07-20T15:57:54.956Z"
   },
   {
    "duration": 45,
    "start_time": "2021-07-20T15:57:55.742Z"
   },
   {
    "duration": 26,
    "start_time": "2021-07-20T15:57:57.922Z"
   },
   {
    "duration": 16,
    "start_time": "2021-07-20T15:57:59.225Z"
   },
   {
    "duration": 325,
    "start_time": "2021-07-20T15:57:59.620Z"
   },
   {
    "duration": 158,
    "start_time": "2021-07-20T15:58:19.574Z"
   },
   {
    "duration": 45,
    "start_time": "2021-07-20T15:58:20.357Z"
   },
   {
    "duration": 26,
    "start_time": "2021-07-20T15:58:22.386Z"
   },
   {
    "duration": 18,
    "start_time": "2021-07-20T15:58:23.730Z"
   },
   {
    "duration": 330,
    "start_time": "2021-07-20T15:58:24.038Z"
   },
   {
    "duration": 269,
    "start_time": "2021-07-20T15:58:55.517Z"
   },
   {
    "duration": 45,
    "start_time": "2021-07-20T15:58:56.066Z"
   },
   {
    "duration": 26,
    "start_time": "2021-07-20T15:58:57.618Z"
   },
   {
    "duration": 16,
    "start_time": "2021-07-20T15:58:58.978Z"
   },
   {
    "duration": 368,
    "start_time": "2021-07-20T15:58:59.449Z"
   },
   {
    "duration": 9300,
    "start_time": "2021-07-20T16:02:53.764Z"
   },
   {
    "duration": 157,
    "start_time": "2021-07-20T16:03:20.944Z"
   },
   {
    "duration": 43,
    "start_time": "2021-07-20T16:03:22.009Z"
   },
   {
    "duration": 26,
    "start_time": "2021-07-20T16:03:24.675Z"
   },
   {
    "duration": 18,
    "start_time": "2021-07-20T16:03:26.064Z"
   },
   {
    "duration": 328,
    "start_time": "2021-07-20T16:03:26.703Z"
   },
   {
    "duration": 390,
    "start_time": "2021-07-20T16:13:59.422Z"
   },
   {
    "duration": 2674,
    "start_time": "2021-07-20T16:20:31.016Z"
   },
   {
    "duration": 3034,
    "start_time": "2021-07-20T16:20:41.894Z"
   },
   {
    "duration": 158,
    "start_time": "2021-07-20T16:21:05.484Z"
   },
   {
    "duration": 47,
    "start_time": "2021-07-20T16:21:06.227Z"
   },
   {
    "duration": 25,
    "start_time": "2021-07-20T16:21:08.083Z"
   },
   {
    "duration": 16,
    "start_time": "2021-07-20T16:21:09.127Z"
   },
   {
    "duration": 318,
    "start_time": "2021-07-20T16:21:09.440Z"
   },
   {
    "duration": 1505,
    "start_time": "2021-07-20T16:21:10.506Z"
   },
   {
    "duration": 1572,
    "start_time": "2021-07-20T16:21:56.374Z"
   },
   {
    "duration": 168,
    "start_time": "2021-07-20T16:22:18.923Z"
   },
   {
    "duration": 43,
    "start_time": "2021-07-20T16:22:19.621Z"
   },
   {
    "duration": 27,
    "start_time": "2021-07-20T16:22:21.594Z"
   },
   {
    "duration": 19,
    "start_time": "2021-07-20T16:22:22.698Z"
   },
   {
    "duration": 334,
    "start_time": "2021-07-20T16:22:23.036Z"
   },
   {
    "duration": 1412,
    "start_time": "2021-07-20T16:22:24.426Z"
   },
   {
    "duration": 162,
    "start_time": "2021-07-20T16:24:42.014Z"
   },
   {
    "duration": 44,
    "start_time": "2021-07-20T16:24:43.408Z"
   },
   {
    "duration": 33,
    "start_time": "2021-07-20T16:24:44.572Z"
   },
   {
    "duration": 19,
    "start_time": "2021-07-20T16:24:45.634Z"
   },
   {
    "duration": 331,
    "start_time": "2021-07-20T16:24:46.017Z"
   },
   {
    "duration": 1410,
    "start_time": "2021-07-20T16:24:47.299Z"
   },
   {
    "duration": 20,
    "start_time": "2021-07-20T16:25:13.698Z"
   },
   {
    "duration": 14,
    "start_time": "2021-07-20T16:26:08.866Z"
   },
   {
    "duration": 24,
    "start_time": "2021-07-20T16:26:20.724Z"
   },
   {
    "duration": 110,
    "start_time": "2021-07-20T16:41:46.704Z"
   },
   {
    "duration": 10,
    "start_time": "2021-07-20T17:05:49.834Z"
   },
   {
    "duration": 11,
    "start_time": "2021-07-20T17:06:15.522Z"
   },
   {
    "duration": 12,
    "start_time": "2021-07-20T17:06:24.427Z"
   },
   {
    "duration": 10,
    "start_time": "2021-07-20T17:09:40.744Z"
   },
   {
    "duration": 6,
    "start_time": "2021-07-20T17:14:52.269Z"
   },
   {
    "duration": 9,
    "start_time": "2021-07-20T17:15:05.353Z"
   },
   {
    "duration": 419,
    "start_time": "2021-07-20T17:15:33.392Z"
   },
   {
    "duration": 10,
    "start_time": "2021-07-20T17:15:33.846Z"
   },
   {
    "duration": 14,
    "start_time": "2021-07-20T17:17:56.702Z"
   },
   {
    "duration": 44,
    "start_time": "2021-07-20T17:21:41.437Z"
   },
   {
    "duration": 104,
    "start_time": "2021-07-20T17:29:49.369Z"
   },
   {
    "duration": 9009,
    "start_time": "2021-07-20T17:30:06.626Z"
   },
   {
    "duration": 167,
    "start_time": "2021-07-20T17:30:20.838Z"
   },
   {
    "duration": 49,
    "start_time": "2021-07-20T17:30:21.577Z"
   },
   {
    "duration": 25,
    "start_time": "2021-07-20T17:30:24.808Z"
   },
   {
    "duration": 23,
    "start_time": "2021-07-20T17:30:25.871Z"
   },
   {
    "duration": 342,
    "start_time": "2021-07-20T17:30:26.204Z"
   },
   {
    "duration": 48,
    "start_time": "2021-07-20T17:30:27.893Z"
   },
   {
    "duration": 8762,
    "start_time": "2021-07-20T17:30:30.277Z"
   },
   {
    "duration": 919,
    "start_time": "2021-07-20T17:32:28.690Z"
   },
   {
    "duration": 784,
    "start_time": "2021-07-20T17:32:57.960Z"
   },
   {
    "duration": 849,
    "start_time": "2021-07-20T17:33:18.738Z"
   },
   {
    "duration": 188,
    "start_time": "2021-07-20T17:34:47.939Z"
   },
   {
    "duration": 51,
    "start_time": "2021-07-20T17:34:48.647Z"
   },
   {
    "duration": 36,
    "start_time": "2021-07-20T17:34:51.531Z"
   },
   {
    "duration": 20,
    "start_time": "2021-07-20T17:34:52.804Z"
   },
   {
    "duration": 391,
    "start_time": "2021-07-20T17:34:53.223Z"
   },
   {
    "duration": 48,
    "start_time": "2021-07-20T17:34:55.281Z"
   },
   {
    "duration": 1042,
    "start_time": "2021-07-20T17:34:58.040Z"
   },
   {
    "duration": 902,
    "start_time": "2021-07-20T17:39:37.385Z"
   },
   {
    "duration": 259,
    "start_time": "2021-07-20T17:39:49.703Z"
   },
   {
    "duration": 166,
    "start_time": "2021-07-20T17:40:27.886Z"
   },
   {
    "duration": 411,
    "start_time": "2021-07-20T17:40:47.754Z"
   },
   {
    "duration": 444,
    "start_time": "2021-07-20T17:41:03.842Z"
   },
   {
    "duration": 1718,
    "start_time": "2021-07-20T17:43:31.759Z"
   },
   {
    "duration": 1711,
    "start_time": "2021-07-20T17:44:07.275Z"
   },
   {
    "duration": 125,
    "start_time": "2021-07-20T17:44:48.065Z"
   },
   {
    "duration": 2081,
    "start_time": "2021-07-20T17:44:54.845Z"
   },
   {
    "duration": 1680,
    "start_time": "2021-07-20T17:45:14.270Z"
   },
   {
    "duration": 2204,
    "start_time": "2021-07-20T17:46:29.781Z"
   },
   {
    "duration": 2560,
    "start_time": "2021-07-20T17:46:47.728Z"
   },
   {
    "duration": 1958,
    "start_time": "2021-07-20T17:47:05.762Z"
   },
   {
    "duration": 1732,
    "start_time": "2021-07-20T17:47:25.952Z"
   },
   {
    "duration": 1638,
    "start_time": "2021-07-20T17:47:37.864Z"
   },
   {
    "duration": 1605,
    "start_time": "2021-07-20T17:47:48.924Z"
   },
   {
    "duration": 1914,
    "start_time": "2021-07-20T17:48:09.232Z"
   },
   {
    "duration": 1618,
    "start_time": "2021-07-20T17:48:33.327Z"
   },
   {
    "duration": 284,
    "start_time": "2021-07-21T15:39:40.757Z"
   },
   {
    "duration": 687,
    "start_time": "2021-07-21T15:39:49.105Z"
   },
   {
    "duration": 24,
    "start_time": "2021-07-21T15:39:49.794Z"
   },
   {
    "duration": 34,
    "start_time": "2021-07-21T15:39:49.823Z"
   },
   {
    "duration": 11,
    "start_time": "2021-07-21T15:39:49.859Z"
   },
   {
    "duration": 230,
    "start_time": "2021-07-21T15:39:49.872Z"
   },
   {
    "duration": 40,
    "start_time": "2021-07-21T15:39:50.103Z"
   },
   {
    "duration": 483,
    "start_time": "2021-07-21T15:39:50.145Z"
   },
   {
    "duration": 1023,
    "start_time": "2021-07-21T15:39:50.630Z"
   },
   {
    "duration": 889,
    "start_time": "2021-07-21T15:40:08.067Z"
   },
   {
    "duration": 972,
    "start_time": "2021-07-21T15:46:22.209Z"
   },
   {
    "duration": 923,
    "start_time": "2021-07-21T15:46:29.904Z"
   },
   {
    "duration": 1002,
    "start_time": "2021-07-21T15:46:38.910Z"
   },
   {
    "duration": 615,
    "start_time": "2021-07-21T15:47:01.570Z"
   },
   {
    "duration": 921,
    "start_time": "2021-07-21T15:47:15.360Z"
   },
   {
    "duration": 867,
    "start_time": "2021-07-21T15:47:22.502Z"
   },
   {
    "duration": 973,
    "start_time": "2021-07-21T15:50:26.387Z"
   },
   {
    "duration": 885,
    "start_time": "2021-07-21T15:59:31.132Z"
   },
   {
    "duration": 85,
    "start_time": "2021-07-21T15:59:55.171Z"
   },
   {
    "duration": 842,
    "start_time": "2021-07-21T16:00:07.817Z"
   },
   {
    "duration": 917,
    "start_time": "2021-07-21T16:00:35.791Z"
   },
   {
    "duration": 724,
    "start_time": "2021-07-21T16:01:10.781Z"
   },
   {
    "duration": 715,
    "start_time": "2021-07-21T16:01:58.219Z"
   },
   {
    "duration": 762,
    "start_time": "2021-07-21T16:02:10.091Z"
   },
   {
    "duration": 9,
    "start_time": "2021-07-21T16:28:50.618Z"
   },
   {
    "duration": 5,
    "start_time": "2021-07-21T16:28:59.968Z"
   },
   {
    "duration": 9,
    "start_time": "2021-07-21T16:29:03.003Z"
   },
   {
    "duration": 469,
    "start_time": "2021-07-21T16:31:50.359Z"
   },
   {
    "duration": 1053,
    "start_time": "2021-07-21T16:31:56.570Z"
   },
   {
    "duration": 135,
    "start_time": "2021-07-21T16:32:46.357Z"
   },
   {
    "duration": 397,
    "start_time": "2021-07-21T16:35:23.147Z"
   },
   {
    "duration": 287,
    "start_time": "2021-07-21T16:35:28.699Z"
   },
   {
    "duration": 107,
    "start_time": "2021-07-21T16:35:43.929Z"
   },
   {
    "duration": 26,
    "start_time": "2021-07-21T16:35:44.627Z"
   },
   {
    "duration": 19,
    "start_time": "2021-07-21T16:35:47.167Z"
   },
   {
    "duration": 9,
    "start_time": "2021-07-21T16:35:48.197Z"
   },
   {
    "duration": 188,
    "start_time": "2021-07-21T16:35:48.385Z"
   },
   {
    "duration": 28,
    "start_time": "2021-07-21T16:35:49.171Z"
   },
   {
    "duration": 547,
    "start_time": "2021-07-21T16:35:50.145Z"
   },
   {
    "duration": 781,
    "start_time": "2021-07-21T16:35:51.753Z"
   },
   {
    "duration": 8,
    "start_time": "2021-07-21T16:35:53.374Z"
   },
   {
    "duration": 5,
    "start_time": "2021-07-21T16:35:53.829Z"
   },
   {
    "duration": 214,
    "start_time": "2021-07-21T16:35:54.586Z"
   },
   {
    "duration": 129,
    "start_time": "2021-07-21T16:36:00.146Z"
   },
   {
    "duration": 129,
    "start_time": "2021-07-21T16:36:08.301Z"
   },
   {
    "duration": 124,
    "start_time": "2021-07-21T16:36:47.111Z"
   },
   {
    "duration": 126,
    "start_time": "2021-07-21T17:28:44.455Z"
   },
   {
    "duration": 226,
    "start_time": "2021-07-21T17:29:41.463Z"
   },
   {
    "duration": 202,
    "start_time": "2021-07-21T17:30:33.838Z"
   },
   {
    "duration": 198,
    "start_time": "2021-07-21T17:30:39.630Z"
   },
   {
    "duration": 79,
    "start_time": "2021-07-21T17:40:10.350Z"
   },
   {
    "duration": 83,
    "start_time": "2021-07-21T17:52:21.054Z"
   },
   {
    "duration": 33,
    "start_time": "2021-07-21T17:53:16.023Z"
   },
   {
    "duration": 76,
    "start_time": "2021-07-21T17:53:34.911Z"
   },
   {
    "duration": 32,
    "start_time": "2021-07-21T17:54:08.114Z"
   },
   {
    "duration": 29,
    "start_time": "2021-07-21T17:55:06.012Z"
   },
   {
    "duration": 29,
    "start_time": "2021-07-21T17:55:11.004Z"
   },
   {
    "duration": 29,
    "start_time": "2021-07-21T17:55:16.979Z"
   },
   {
    "duration": 30,
    "start_time": "2021-07-21T17:55:20.826Z"
   },
   {
    "duration": 6,
    "start_time": "2021-07-21T17:55:27.082Z"
   },
   {
    "duration": 64,
    "start_time": "2021-07-21T17:55:46.281Z"
   },
   {
    "duration": 467,
    "start_time": "2021-07-21T17:56:24.050Z"
   },
   {
    "duration": 13,
    "start_time": "2021-07-21T17:56:44.796Z"
   },
   {
    "duration": 7015,
    "start_time": "2021-07-21T17:57:10.181Z"
   },
   {
    "duration": 106,
    "start_time": "2021-07-21T17:57:23.201Z"
   },
   {
    "duration": 27,
    "start_time": "2021-07-21T17:57:23.869Z"
   },
   {
    "duration": 20,
    "start_time": "2021-07-21T17:57:26.420Z"
   },
   {
    "duration": 9,
    "start_time": "2021-07-21T17:57:27.416Z"
   },
   {
    "duration": 197,
    "start_time": "2021-07-21T17:57:27.673Z"
   },
   {
    "duration": 6632,
    "start_time": "2021-07-21T17:57:36.535Z"
   },
   {
    "duration": 523,
    "start_time": "2021-07-21T17:57:42.646Z"
   },
   {
    "duration": 523,
    "start_time": "2021-07-21T17:57:42.647Z"
   },
   {
    "duration": 1175,
    "start_time": "2021-07-21T17:57:45.850Z"
   },
   {
    "duration": 120,
    "start_time": "2021-07-21T17:57:57.360Z"
   },
   {
    "duration": 27,
    "start_time": "2021-07-21T17:57:58.128Z"
   },
   {
    "duration": 19,
    "start_time": "2021-07-21T17:58:01.362Z"
   },
   {
    "duration": 10,
    "start_time": "2021-07-21T17:58:02.466Z"
   },
   {
    "duration": 188,
    "start_time": "2021-07-21T17:58:02.790Z"
   },
   {
    "duration": 29,
    "start_time": "2021-07-21T17:58:03.960Z"
   },
   {
    "duration": 521,
    "start_time": "2021-07-21T17:58:05.229Z"
   },
   {
    "duration": 755,
    "start_time": "2021-07-21T17:58:07.075Z"
   },
   {
    "duration": 9,
    "start_time": "2021-07-21T17:58:09.054Z"
   },
   {
    "duration": 4,
    "start_time": "2021-07-21T17:58:09.448Z"
   },
   {
    "duration": 120,
    "start_time": "2021-07-21T17:58:10.274Z"
   },
   {
    "duration": 73,
    "start_time": "2021-07-21T17:58:11.866Z"
   },
   {
    "duration": 47,
    "start_time": "2021-07-21T17:58:13.656Z"
   },
   {
    "duration": 109,
    "start_time": "2021-07-21T17:59:01.758Z"
   },
   {
    "duration": 25,
    "start_time": "2021-07-21T17:59:02.564Z"
   },
   {
    "duration": 18,
    "start_time": "2021-07-21T17:59:04.986Z"
   },
   {
    "duration": 10,
    "start_time": "2021-07-21T17:59:05.736Z"
   },
   {
    "duration": 180,
    "start_time": "2021-07-21T17:59:06.224Z"
   },
   {
    "duration": 30,
    "start_time": "2021-07-21T17:59:07.582Z"
   },
   {
    "duration": 626,
    "start_time": "2021-07-21T17:59:08.691Z"
   },
   {
    "duration": 513,
    "start_time": "2021-07-21T17:59:23.046Z"
   },
   {
    "duration": 761,
    "start_time": "2021-07-21T17:59:29.222Z"
   },
   {
    "duration": 8,
    "start_time": "2021-07-21T17:59:34.644Z"
   },
   {
    "duration": 5,
    "start_time": "2021-07-21T17:59:35.670Z"
   },
   {
    "duration": 126,
    "start_time": "2021-07-21T17:59:39.215Z"
   },
   {
    "duration": 75,
    "start_time": "2021-07-21T17:59:41.182Z"
   },
   {
    "duration": 68,
    "start_time": "2021-07-21T17:59:42.453Z"
   },
   {
    "duration": 30,
    "start_time": "2021-07-21T17:59:59.057Z"
   },
   {
    "duration": 38,
    "start_time": "2021-07-21T18:00:36.830Z"
   },
   {
    "duration": 28,
    "start_time": "2021-07-21T18:00:44.082Z"
   },
   {
    "duration": 6764,
    "start_time": "2021-07-21T18:01:19.426Z"
   },
   {
    "duration": 104,
    "start_time": "2021-07-21T18:01:28.347Z"
   },
   {
    "duration": 25,
    "start_time": "2021-07-21T18:01:29.071Z"
   },
   {
    "duration": 19,
    "start_time": "2021-07-21T18:01:32.087Z"
   },
   {
    "duration": 10,
    "start_time": "2021-07-21T18:01:33.261Z"
   },
   {
    "duration": 188,
    "start_time": "2021-07-21T18:01:33.584Z"
   },
   {
    "duration": 7097,
    "start_time": "2021-07-21T18:01:42.746Z"
   },
   {
    "duration": 519,
    "start_time": "2021-07-21T18:01:49.326Z"
   },
   {
    "duration": 518,
    "start_time": "2021-07-21T18:01:49.328Z"
   },
   {
    "duration": 515,
    "start_time": "2021-07-21T18:01:49.332Z"
   },
   {
    "duration": 514,
    "start_time": "2021-07-21T18:01:49.334Z"
   },
   {
    "duration": 512,
    "start_time": "2021-07-21T18:01:49.336Z"
   },
   {
    "duration": 512,
    "start_time": "2021-07-21T18:01:49.337Z"
   },
   {
    "duration": 511,
    "start_time": "2021-07-21T18:01:49.339Z"
   },
   {
    "duration": 1102,
    "start_time": "2021-07-21T18:03:28.793Z"
   },
   {
    "duration": 765,
    "start_time": "2021-07-21T18:03:46.684Z"
   },
   {
    "duration": 26,
    "start_time": "2021-07-21T18:03:47.451Z"
   },
   {
    "duration": 24,
    "start_time": "2021-07-21T18:03:47.479Z"
   },
   {
    "duration": 11,
    "start_time": "2021-07-21T18:03:47.505Z"
   },
   {
    "duration": 218,
    "start_time": "2021-07-21T18:03:47.518Z"
   },
   {
    "duration": 28,
    "start_time": "2021-07-21T18:03:47.738Z"
   },
   {
    "duration": 565,
    "start_time": "2021-07-21T18:03:47.768Z"
   },
   {
    "duration": 806,
    "start_time": "2021-07-21T18:03:48.334Z"
   },
   {
    "duration": 9,
    "start_time": "2021-07-21T18:03:49.142Z"
   },
   {
    "duration": 5,
    "start_time": "2021-07-21T18:03:49.153Z"
   },
   {
    "duration": 149,
    "start_time": "2021-07-21T18:03:49.160Z"
   },
   {
    "duration": 87,
    "start_time": "2021-07-21T18:03:49.311Z"
   },
   {
    "duration": 45,
    "start_time": "2021-07-21T18:03:49.400Z"
   },
   {
    "duration": 29,
    "start_time": "2021-07-21T18:04:01.717Z"
   },
   {
    "duration": 49,
    "start_time": "2021-07-21T18:09:20.325Z"
   },
   {
    "duration": 974,
    "start_time": "2021-07-22T15:37:14.592Z"
   },
   {
    "duration": 42,
    "start_time": "2021-07-22T15:37:15.568Z"
   },
   {
    "duration": 57,
    "start_time": "2021-07-22T15:37:15.613Z"
   },
   {
    "duration": 16,
    "start_time": "2021-07-22T15:37:15.673Z"
   },
   {
    "duration": 388,
    "start_time": "2021-07-22T15:37:15.692Z"
   },
   {
    "duration": 45,
    "start_time": "2021-07-22T15:37:16.083Z"
   },
   {
    "duration": 111,
    "start_time": "2021-07-22T15:37:16.130Z"
   },
   {
    "duration": 643,
    "start_time": "2021-07-22T15:37:15.601Z"
   },
   {
    "duration": 643,
    "start_time": "2021-07-22T15:37:15.602Z"
   },
   {
    "duration": 642,
    "start_time": "2021-07-22T15:37:15.604Z"
   },
   {
    "duration": 643,
    "start_time": "2021-07-22T15:37:15.605Z"
   },
   {
    "duration": 643,
    "start_time": "2021-07-22T15:37:15.606Z"
   },
   {
    "duration": 643,
    "start_time": "2021-07-22T15:37:15.607Z"
   },
   {
    "duration": 640,
    "start_time": "2021-07-22T15:37:15.612Z"
   },
   {
    "duration": 19,
    "start_time": "2021-07-22T15:37:25.371Z"
   },
   {
    "duration": 25,
    "start_time": "2021-07-22T15:38:35.078Z"
   },
   {
    "duration": 24,
    "start_time": "2021-07-22T15:38:43.122Z"
   },
   {
    "duration": 47,
    "start_time": "2021-07-22T15:39:07.991Z"
   },
   {
    "duration": 41,
    "start_time": "2021-07-22T15:39:20.350Z"
   },
   {
    "duration": 43,
    "start_time": "2021-07-22T15:39:39.544Z"
   },
   {
    "duration": 40,
    "start_time": "2021-07-22T15:40:45.508Z"
   },
   {
    "duration": 11,
    "start_time": "2021-07-22T15:53:11.498Z"
   },
   {
    "duration": 12,
    "start_time": "2021-07-22T15:53:20.283Z"
   },
   {
    "duration": 11,
    "start_time": "2021-07-22T15:53:28.467Z"
   },
   {
    "duration": 17,
    "start_time": "2021-07-22T15:54:13.506Z"
   },
   {
    "duration": 58,
    "start_time": "2021-07-22T15:54:24.373Z"
   },
   {
    "duration": 117,
    "start_time": "2021-07-22T15:54:41.625Z"
   },
   {
    "duration": 63,
    "start_time": "2021-07-22T15:54:47.553Z"
   },
   {
    "duration": 58,
    "start_time": "2021-07-22T15:56:15.509Z"
   },
   {
    "duration": 63,
    "start_time": "2021-07-22T15:56:28.398Z"
   },
   {
    "duration": 60,
    "start_time": "2021-07-22T15:56:52.484Z"
   },
   {
    "duration": 65,
    "start_time": "2021-07-22T15:57:03.953Z"
   },
   {
    "duration": 75,
    "start_time": "2021-07-22T15:57:18.266Z"
   },
   {
    "duration": 61,
    "start_time": "2021-07-22T15:57:30.034Z"
   },
   {
    "duration": 64,
    "start_time": "2021-07-22T15:57:34.587Z"
   },
   {
    "duration": 6580,
    "start_time": "2021-07-22T15:57:38.013Z"
   },
   {
    "duration": 606,
    "start_time": "2021-07-22T15:57:43.990Z"
   },
   {
    "duration": 606,
    "start_time": "2021-07-22T15:57:43.992Z"
   },
   {
    "duration": 605,
    "start_time": "2021-07-22T15:57:43.994Z"
   },
   {
    "duration": 981,
    "start_time": "2021-07-22T15:58:01.782Z"
   },
   {
    "duration": 44,
    "start_time": "2021-07-22T15:58:02.765Z"
   },
   {
    "duration": 47,
    "start_time": "2021-07-22T15:58:02.812Z"
   },
   {
    "duration": 27,
    "start_time": "2021-07-22T15:58:02.862Z"
   },
   {
    "duration": 394,
    "start_time": "2021-07-22T15:58:02.891Z"
   },
   {
    "duration": 42,
    "start_time": "2021-07-22T15:58:03.288Z"
   },
   {
    "duration": 25,
    "start_time": "2021-07-22T15:58:03.333Z"
   },
   {
    "duration": 63,
    "start_time": "2021-07-22T15:58:03.362Z"
   },
   {
    "duration": 985,
    "start_time": "2021-07-22T15:58:03.428Z"
   },
   {
    "duration": 1402,
    "start_time": "2021-07-22T15:58:04.415Z"
   },
   {
    "duration": 11,
    "start_time": "2021-07-22T15:58:05.819Z"
   },
   {
    "duration": 30,
    "start_time": "2021-07-22T15:58:05.833Z"
   },
   {
    "duration": 216,
    "start_time": "2021-07-22T15:58:05.865Z"
   },
   {
    "duration": 130,
    "start_time": "2021-07-22T15:58:06.083Z"
   },
   {
    "duration": 97,
    "start_time": "2021-07-22T15:58:06.216Z"
   },
   {
    "duration": 10,
    "start_time": "2021-07-22T16:21:17.319Z"
   },
   {
    "duration": 43,
    "start_time": "2021-07-22T16:21:25.103Z"
   },
   {
    "duration": 46,
    "start_time": "2021-07-22T16:21:34.805Z"
   },
   {
    "duration": 10,
    "start_time": "2021-07-22T16:21:39.626Z"
   },
   {
    "duration": 10,
    "start_time": "2021-07-22T16:21:42.915Z"
   },
   {
    "duration": 9,
    "start_time": "2021-07-22T16:21:44.151Z"
   },
   {
    "duration": 43,
    "start_time": "2021-07-22T16:21:44.692Z"
   },
   {
    "duration": 970,
    "start_time": "2021-07-22T16:21:49.251Z"
   },
   {
    "duration": 48,
    "start_time": "2021-07-22T16:21:50.224Z"
   },
   {
    "duration": 26,
    "start_time": "2021-07-22T16:21:50.275Z"
   },
   {
    "duration": 17,
    "start_time": "2021-07-22T16:21:50.304Z"
   },
   {
    "duration": 399,
    "start_time": "2021-07-22T16:21:50.323Z"
   },
   {
    "duration": 55,
    "start_time": "2021-07-22T16:21:50.724Z"
   },
   {
    "duration": 10,
    "start_time": "2021-07-22T16:21:50.781Z"
   },
   {
    "duration": 78,
    "start_time": "2021-07-22T16:21:50.794Z"
   },
   {
    "duration": 893,
    "start_time": "2021-07-22T16:21:50.874Z"
   },
   {
    "duration": 1815,
    "start_time": "2021-07-22T16:21:51.770Z"
   },
   {
    "duration": 11,
    "start_time": "2021-07-22T16:21:53.587Z"
   },
   {
    "duration": 8,
    "start_time": "2021-07-22T16:21:53.601Z"
   },
   {
    "duration": 365,
    "start_time": "2021-07-22T16:21:53.611Z"
   },
   {
    "duration": 133,
    "start_time": "2021-07-22T16:21:53.979Z"
   },
   {
    "duration": 96,
    "start_time": "2021-07-22T16:21:54.114Z"
   },
   {
    "duration": 10,
    "start_time": "2021-07-22T16:22:05.322Z"
   },
   {
    "duration": 62,
    "start_time": "2021-07-22T16:22:12.174Z"
   },
   {
    "duration": 1170,
    "start_time": "2021-07-22T16:22:18.676Z"
   },
   {
    "duration": 49,
    "start_time": "2021-07-22T16:22:19.860Z"
   },
   {
    "duration": 49,
    "start_time": "2021-07-22T16:22:19.912Z"
   },
   {
    "duration": 18,
    "start_time": "2021-07-22T16:22:19.963Z"
   },
   {
    "duration": 402,
    "start_time": "2021-07-22T16:22:19.983Z"
   },
   {
    "duration": 44,
    "start_time": "2021-07-22T16:22:20.388Z"
   },
   {
    "duration": 35,
    "start_time": "2021-07-22T16:22:20.437Z"
   },
   {
    "duration": 93,
    "start_time": "2021-07-22T16:22:20.476Z"
   },
   {
    "duration": 1345,
    "start_time": "2021-07-22T16:22:20.572Z"
   },
   {
    "duration": 1420,
    "start_time": "2021-07-22T16:22:21.920Z"
   },
   {
    "duration": 25,
    "start_time": "2021-07-22T16:22:23.343Z"
   },
   {
    "duration": 7,
    "start_time": "2021-07-22T16:22:23.371Z"
   },
   {
    "duration": 241,
    "start_time": "2021-07-22T16:22:23.381Z"
   },
   {
    "duration": 146,
    "start_time": "2021-07-22T16:22:23.625Z"
   },
   {
    "duration": 99,
    "start_time": "2021-07-22T16:22:23.774Z"
   },
   {
    "duration": 8,
    "start_time": "2021-07-22T16:23:22.989Z"
   },
   {
    "duration": 47,
    "start_time": "2021-07-22T16:23:32.837Z"
   },
   {
    "duration": 14,
    "start_time": "2021-07-22T16:39:27.087Z"
   },
   {
    "duration": 19,
    "start_time": "2021-07-22T16:40:56.839Z"
   },
   {
    "duration": 8,
    "start_time": "2021-07-22T16:40:57.940Z"
   },
   {
    "duration": 43,
    "start_time": "2021-07-22T16:40:58.336Z"
   },
   {
    "duration": 646,
    "start_time": "2021-07-22T16:40:59.350Z"
   },
   {
    "duration": 1352,
    "start_time": "2021-07-22T16:41:00.988Z"
   },
   {
    "duration": 19,
    "start_time": "2021-07-22T16:41:02.343Z"
   },
   {
    "duration": 28,
    "start_time": "2021-07-22T16:41:02.365Z"
   },
   {
    "duration": 316,
    "start_time": "2021-07-22T16:41:02.521Z"
   },
   {
    "duration": 209,
    "start_time": "2021-07-22T16:41:03.363Z"
   },
   {
    "duration": 94,
    "start_time": "2021-07-22T16:41:03.844Z"
   },
   {
    "duration": 14,
    "start_time": "2021-07-22T16:41:05.042Z"
   },
   {
    "duration": 481,
    "start_time": "2021-07-22T16:59:01.288Z"
   },
   {
    "duration": 471,
    "start_time": "2021-07-22T16:59:17.756Z"
   },
   {
    "duration": 639,
    "start_time": "2021-07-22T16:59:23.597Z"
   },
   {
    "duration": 496,
    "start_time": "2021-07-22T16:59:30.350Z"
   },
   {
    "duration": 589,
    "start_time": "2021-07-22T16:59:52.820Z"
   },
   {
    "duration": 444,
    "start_time": "2021-07-22T16:59:59.716Z"
   },
   {
    "duration": 411,
    "start_time": "2021-07-22T17:00:07.294Z"
   },
   {
    "duration": 648,
    "start_time": "2021-07-22T17:01:00.277Z"
   },
   {
    "duration": 538,
    "start_time": "2021-07-22T17:01:09.544Z"
   },
   {
    "duration": 316,
    "start_time": "2021-07-22T17:01:13.942Z"
   },
   {
    "duration": 374,
    "start_time": "2021-07-22T17:02:54.637Z"
   },
   {
    "duration": 338,
    "start_time": "2021-07-22T17:03:10.551Z"
   },
   {
    "duration": 304,
    "start_time": "2021-07-22T17:03:27.205Z"
   },
   {
    "duration": 315,
    "start_time": "2021-07-22T17:04:59.195Z"
   },
   {
    "duration": 322,
    "start_time": "2021-07-22T17:05:37.002Z"
   },
   {
    "duration": 308,
    "start_time": "2021-07-22T17:05:43.173Z"
   },
   {
    "duration": 886,
    "start_time": "2021-07-22T17:08:05.928Z"
   },
   {
    "duration": 531,
    "start_time": "2021-07-22T17:09:17.295Z"
   },
   {
    "duration": 5564,
    "start_time": "2021-07-22T17:09:30.214Z"
   },
   {
    "duration": 819,
    "start_time": "2021-07-22T17:09:36.247Z"
   },
   {
    "duration": 599,
    "start_time": "2021-07-22T17:09:46.566Z"
   },
   {
    "duration": 612,
    "start_time": "2021-07-22T17:10:36.965Z"
   },
   {
    "duration": 615,
    "start_time": "2021-07-22T17:10:42.243Z"
   },
   {
    "duration": 705,
    "start_time": "2021-07-22T17:10:52.031Z"
   },
   {
    "duration": 16,
    "start_time": "2021-07-22T17:11:16.207Z"
   },
   {
    "duration": 732,
    "start_time": "2021-07-22T17:11:16.993Z"
   },
   {
    "duration": 666,
    "start_time": "2021-07-22T17:11:43.941Z"
   },
   {
    "duration": 559,
    "start_time": "2021-07-22T17:12:41.342Z"
   },
   {
    "duration": 998,
    "start_time": "2021-07-22T17:14:15.821Z"
   },
   {
    "duration": 60,
    "start_time": "2021-07-22T17:14:16.823Z"
   },
   {
    "duration": 26,
    "start_time": "2021-07-22T17:14:16.888Z"
   },
   {
    "duration": 45,
    "start_time": "2021-07-22T17:14:16.918Z"
   },
   {
    "duration": 391,
    "start_time": "2021-07-22T17:14:16.966Z"
   },
   {
    "duration": 53,
    "start_time": "2021-07-22T17:14:17.360Z"
   },
   {
    "duration": 10,
    "start_time": "2021-07-22T17:14:17.415Z"
   },
   {
    "duration": 83,
    "start_time": "2021-07-22T17:14:17.429Z"
   },
   {
    "duration": 978,
    "start_time": "2021-07-22T17:14:17.514Z"
   },
   {
    "duration": 1375,
    "start_time": "2021-07-22T17:14:18.494Z"
   },
   {
    "duration": 12,
    "start_time": "2021-07-22T17:14:19.872Z"
   },
   {
    "duration": 7,
    "start_time": "2021-07-22T17:14:19.887Z"
   },
   {
    "duration": 261,
    "start_time": "2021-07-22T17:14:19.897Z"
   },
   {
    "duration": 139,
    "start_time": "2021-07-22T17:14:20.161Z"
   },
   {
    "duration": 100,
    "start_time": "2021-07-22T17:14:20.303Z"
   },
   {
    "duration": 15,
    "start_time": "2021-07-22T17:14:20.406Z"
   },
   {
    "duration": 588,
    "start_time": "2021-07-22T17:14:20.423Z"
   },
   {
    "duration": 583,
    "start_time": "2021-07-22T17:14:21.013Z"
   },
   {
    "duration": 582,
    "start_time": "2021-07-22T17:15:12.319Z"
   },
   {
    "duration": 575,
    "start_time": "2021-07-22T17:16:43.840Z"
   },
   {
    "duration": 630,
    "start_time": "2021-07-22T17:16:59.459Z"
   },
   {
    "duration": 834,
    "start_time": "2021-07-22T17:19:20.478Z"
   },
   {
    "duration": 607,
    "start_time": "2021-07-22T17:19:36.430Z"
   },
   {
    "duration": 605,
    "start_time": "2021-07-22T17:19:41.218Z"
   },
   {
    "duration": 620,
    "start_time": "2021-07-22T17:20:28.389Z"
   },
   {
    "duration": 924,
    "start_time": "2021-07-22T17:20:52.190Z"
   },
   {
    "duration": 51,
    "start_time": "2021-07-22T17:20:53.117Z"
   },
   {
    "duration": 25,
    "start_time": "2021-07-22T17:20:53.171Z"
   },
   {
    "duration": 18,
    "start_time": "2021-07-22T17:20:53.199Z"
   },
   {
    "duration": 394,
    "start_time": "2021-07-22T17:20:53.220Z"
   },
   {
    "duration": 62,
    "start_time": "2021-07-22T17:20:53.616Z"
   },
   {
    "duration": 8,
    "start_time": "2021-07-22T17:20:53.681Z"
   },
   {
    "duration": 72,
    "start_time": "2021-07-22T17:20:53.693Z"
   },
   {
    "duration": 915,
    "start_time": "2021-07-22T17:20:53.768Z"
   },
   {
    "duration": 1393,
    "start_time": "2021-07-22T17:20:54.685Z"
   },
   {
    "duration": 15,
    "start_time": "2021-07-22T17:20:56.081Z"
   },
   {
    "duration": 8,
    "start_time": "2021-07-22T17:20:56.098Z"
   },
   {
    "duration": 346,
    "start_time": "2021-07-22T17:20:56.109Z"
   },
   {
    "duration": 188,
    "start_time": "2021-07-22T17:20:56.458Z"
   },
   {
    "duration": 126,
    "start_time": "2021-07-22T17:20:56.657Z"
   },
   {
    "duration": 20,
    "start_time": "2021-07-22T17:20:56.786Z"
   },
   {
    "duration": 896,
    "start_time": "2021-07-22T17:20:56.809Z"
   },
   {
    "duration": 905,
    "start_time": "2021-07-22T17:20:57.708Z"
   },
   {
    "duration": 9719,
    "start_time": "2021-07-22T17:20:58.616Z"
   },
   {
    "duration": 855,
    "start_time": "2021-07-22T17:21:17.780Z"
   },
   {
    "duration": 274,
    "start_time": "2021-07-22T17:23:43.953Z"
   },
   {
    "duration": 10,
    "start_time": "2021-07-22T17:32:29.133Z"
   },
   {
    "duration": 298,
    "start_time": "2021-07-22T17:33:11.037Z"
   },
   {
    "duration": 522,
    "start_time": "2021-07-22T17:33:26.342Z"
   },
   {
    "duration": 13,
    "start_time": "2021-07-22T17:33:53.290Z"
   },
   {
    "duration": 738,
    "start_time": "2021-07-22T17:34:16.861Z"
   },
   {
    "duration": 646,
    "start_time": "2021-07-22T17:34:48.247Z"
   },
   {
    "duration": 1275,
    "start_time": "2021-07-22T17:34:57.474Z"
   },
   {
    "duration": 11,
    "start_time": "2021-07-22T17:34:58.756Z"
   },
   {
    "duration": 6,
    "start_time": "2021-07-22T17:34:58.770Z"
   },
   {
    "duration": 232,
    "start_time": "2021-07-22T17:34:58.779Z"
   },
   {
    "duration": 113,
    "start_time": "2021-07-22T17:34:59.422Z"
   },
   {
    "duration": 76,
    "start_time": "2021-07-22T17:34:59.911Z"
   },
   {
    "duration": 16,
    "start_time": "2021-07-22T17:35:00.580Z"
   },
   {
    "duration": 579,
    "start_time": "2021-07-22T17:35:00.798Z"
   },
   {
    "duration": 612,
    "start_time": "2021-07-22T17:35:01.379Z"
   },
   {
    "duration": 582,
    "start_time": "2021-07-22T17:35:01.993Z"
   },
   {
    "duration": 13,
    "start_time": "2021-07-22T17:35:03.244Z"
   },
   {
    "duration": 700,
    "start_time": "2021-07-22T17:35:24.413Z"
   },
   {
    "duration": 773,
    "start_time": "2021-07-22T17:37:45.094Z"
   },
   {
    "duration": 746,
    "start_time": "2021-07-22T17:38:47.924Z"
   },
   {
    "duration": 960,
    "start_time": "2021-07-22T17:38:52.504Z"
   },
   {
    "duration": 47,
    "start_time": "2021-07-22T17:38:53.473Z"
   },
   {
    "duration": 53,
    "start_time": "2021-07-22T17:38:53.524Z"
   },
   {
    "duration": 16,
    "start_time": "2021-07-22T17:38:53.581Z"
   },
   {
    "duration": 407,
    "start_time": "2021-07-22T17:38:53.600Z"
   },
   {
    "duration": 63,
    "start_time": "2021-07-22T17:38:54.009Z"
   },
   {
    "duration": 10,
    "start_time": "2021-07-22T17:38:54.076Z"
   },
   {
    "duration": 83,
    "start_time": "2021-07-22T17:38:54.089Z"
   },
   {
    "duration": 1103,
    "start_time": "2021-07-22T17:38:54.175Z"
   },
   {
    "duration": 1761,
    "start_time": "2021-07-22T17:38:55.280Z"
   },
   {
    "duration": 20,
    "start_time": "2021-07-22T17:38:57.044Z"
   },
   {
    "duration": 7,
    "start_time": "2021-07-22T17:38:57.067Z"
   },
   {
    "duration": 256,
    "start_time": "2021-07-22T17:38:57.076Z"
   },
   {
    "duration": 140,
    "start_time": "2021-07-22T17:38:57.335Z"
   },
   {
    "duration": 94,
    "start_time": "2021-07-22T17:38:57.478Z"
   },
   {
    "duration": 16,
    "start_time": "2021-07-22T17:38:57.575Z"
   },
   {
    "duration": 635,
    "start_time": "2021-07-22T17:38:57.593Z"
   },
   {
    "duration": 626,
    "start_time": "2021-07-22T17:38:58.230Z"
   },
   {
    "duration": 643,
    "start_time": "2021-07-22T17:38:58.858Z"
   },
   {
    "duration": 13,
    "start_time": "2021-07-22T17:38:59.504Z"
   },
   {
    "duration": 748,
    "start_time": "2021-07-22T17:39:09.428Z"
   },
   {
    "duration": 802,
    "start_time": "2021-07-22T17:39:15.716Z"
   },
   {
    "duration": 1338,
    "start_time": "2021-07-22T17:39:17.018Z"
   },
   {
    "duration": 10,
    "start_time": "2021-07-22T17:39:18.359Z"
   },
   {
    "duration": 6,
    "start_time": "2021-07-22T17:39:18.372Z"
   },
   {
    "duration": 217,
    "start_time": "2021-07-22T17:39:18.575Z"
   },
   {
    "duration": 180,
    "start_time": "2021-07-22T17:39:19.211Z"
   },
   {
    "duration": 99,
    "start_time": "2021-07-22T17:39:19.635Z"
   },
   {
    "duration": 15,
    "start_time": "2021-07-22T17:39:20.435Z"
   },
   {
    "duration": 620,
    "start_time": "2021-07-22T17:39:20.671Z"
   },
   {
    "duration": 614,
    "start_time": "2021-07-22T17:39:21.294Z"
   },
   {
    "duration": 589,
    "start_time": "2021-07-22T17:39:21.911Z"
   },
   {
    "duration": 14,
    "start_time": "2021-07-22T17:39:23.107Z"
   },
   {
    "duration": 543,
    "start_time": "2021-07-22T17:39:35.127Z"
   },
   {
    "duration": 296,
    "start_time": "2021-07-22T17:39:45.573Z"
   },
   {
    "duration": 286,
    "start_time": "2021-07-22T17:39:52.813Z"
   },
   {
    "duration": 246,
    "start_time": "2021-07-22T17:40:22.999Z"
   },
   {
    "duration": 375,
    "start_time": "2021-07-22T17:40:30.741Z"
   },
   {
    "duration": 444,
    "start_time": "2021-07-22T17:41:20.192Z"
   },
   {
    "duration": 277,
    "start_time": "2021-07-22T17:41:28.029Z"
   },
   {
    "duration": 353,
    "start_time": "2021-07-22T17:41:34.898Z"
   },
   {
    "duration": 277,
    "start_time": "2021-07-22T17:41:40.945Z"
   },
   {
    "duration": 283,
    "start_time": "2021-07-22T17:42:28.972Z"
   },
   {
    "duration": 677,
    "start_time": "2021-07-22T17:42:42.048Z"
   },
   {
    "duration": 724,
    "start_time": "2021-07-22T17:42:51.497Z"
   },
   {
    "duration": 274,
    "start_time": "2021-07-22T17:42:58.225Z"
   },
   {
    "duration": 538,
    "start_time": "2021-07-22T17:43:16.823Z"
   },
   {
    "duration": 6546,
    "start_time": "2021-07-22T17:43:17.583Z"
   },
   {
    "duration": 994,
    "start_time": "2021-07-22T17:43:26.119Z"
   },
   {
    "duration": 56,
    "start_time": "2021-07-22T17:43:27.116Z"
   },
   {
    "duration": 29,
    "start_time": "2021-07-22T17:43:27.176Z"
   },
   {
    "duration": 16,
    "start_time": "2021-07-22T17:43:27.208Z"
   },
   {
    "duration": 358,
    "start_time": "2021-07-22T17:43:27.227Z"
   },
   {
    "duration": 50,
    "start_time": "2021-07-22T17:43:27.588Z"
   },
   {
    "duration": 21,
    "start_time": "2021-07-22T17:43:27.640Z"
   },
   {
    "duration": 57,
    "start_time": "2021-07-22T17:43:27.665Z"
   },
   {
    "duration": 1055,
    "start_time": "2021-07-22T17:43:27.725Z"
   },
   {
    "duration": 1365,
    "start_time": "2021-07-22T17:43:28.782Z"
   },
   {
    "duration": 15,
    "start_time": "2021-07-22T17:43:30.150Z"
   },
   {
    "duration": 9,
    "start_time": "2021-07-22T17:43:30.168Z"
   },
   {
    "duration": 242,
    "start_time": "2021-07-22T17:43:30.179Z"
   },
   {
    "duration": 135,
    "start_time": "2021-07-22T17:43:30.424Z"
   },
   {
    "duration": 106,
    "start_time": "2021-07-22T17:43:30.561Z"
   },
   {
    "duration": 14,
    "start_time": "2021-07-22T17:43:30.669Z"
   },
   {
    "duration": 610,
    "start_time": "2021-07-22T17:43:30.685Z"
   },
   {
    "duration": 588,
    "start_time": "2021-07-22T17:43:31.298Z"
   },
   {
    "duration": 594,
    "start_time": "2021-07-22T17:43:31.889Z"
   },
   {
    "duration": 7155,
    "start_time": "2021-07-22T17:43:32.486Z"
   },
   {
    "duration": 281,
    "start_time": "2021-07-22T17:44:20.187Z"
   },
   {
    "duration": 95,
    "start_time": "2021-07-22T17:50:41.217Z"
   },
   {
    "duration": 264,
    "start_time": "2021-07-22T17:50:46.317Z"
   },
   {
    "duration": 283,
    "start_time": "2021-07-22T17:50:59.712Z"
   },
   {
    "duration": 261,
    "start_time": "2021-07-22T17:51:06.863Z"
   },
   {
    "duration": 364,
    "start_time": "2021-07-22T17:51:10.645Z"
   },
   {
    "duration": 264,
    "start_time": "2021-07-22T17:51:13.187Z"
   },
   {
    "duration": 388,
    "start_time": "2021-07-22T17:51:16.807Z"
   },
   {
    "duration": 273,
    "start_time": "2021-07-22T17:51:22.365Z"
   },
   {
    "duration": 267,
    "start_time": "2021-07-22T17:51:30.007Z"
   },
   {
    "duration": 297,
    "start_time": "2021-07-22T17:51:54.279Z"
   },
   {
    "duration": 291,
    "start_time": "2021-07-22T17:52:03.550Z"
   },
   {
    "duration": 880,
    "start_time": "2021-07-22T17:52:50.206Z"
   },
   {
    "duration": 572,
    "start_time": "2021-07-22T17:53:25.826Z"
   },
   {
    "duration": 629,
    "start_time": "2021-07-22T17:55:52.762Z"
   },
   {
    "duration": 671,
    "start_time": "2021-07-22T17:55:53.395Z"
   },
   {
    "duration": 263,
    "start_time": "2021-07-22T17:56:32.428Z"
   },
   {
    "duration": 1300,
    "start_time": "2021-07-22T17:56:43.872Z"
   },
   {
    "duration": 2623,
    "start_time": "2021-07-22T17:58:13.622Z"
   },
   {
    "duration": 1137,
    "start_time": "2021-07-22T17:58:24.043Z"
   },
   {
    "duration": 20867,
    "start_time": "2021-07-22T17:58:42.234Z"
   },
   {
    "duration": 20230,
    "start_time": "2021-07-22T17:59:16.979Z"
   },
   {
    "duration": 317,
    "start_time": "2021-07-22T18:02:28.891Z"
   },
   {
    "duration": 996,
    "start_time": "2021-07-22T18:02:44.909Z"
   },
   {
    "duration": 57,
    "start_time": "2021-07-22T18:02:45.908Z"
   },
   {
    "duration": 35,
    "start_time": "2021-07-22T18:02:45.968Z"
   },
   {
    "duration": 30,
    "start_time": "2021-07-22T18:02:46.006Z"
   },
   {
    "duration": 379,
    "start_time": "2021-07-22T18:02:46.038Z"
   },
   {
    "duration": 64,
    "start_time": "2021-07-22T18:02:46.419Z"
   },
   {
    "duration": 11,
    "start_time": "2021-07-22T18:02:46.486Z"
   },
   {
    "duration": 81,
    "start_time": "2021-07-22T18:02:46.501Z"
   },
   {
    "duration": 1078,
    "start_time": "2021-07-22T18:02:46.585Z"
   },
   {
    "duration": 1385,
    "start_time": "2021-07-22T18:02:47.665Z"
   },
   {
    "duration": 10,
    "start_time": "2021-07-22T18:02:49.056Z"
   },
   {
    "duration": 10,
    "start_time": "2021-07-22T18:02:49.069Z"
   },
   {
    "duration": 242,
    "start_time": "2021-07-22T18:02:49.081Z"
   },
   {
    "duration": 136,
    "start_time": "2021-07-22T18:02:49.325Z"
   },
   {
    "duration": 107,
    "start_time": "2021-07-22T18:02:49.464Z"
   },
   {
    "duration": 17,
    "start_time": "2021-07-22T18:02:49.574Z"
   },
   {
    "duration": 611,
    "start_time": "2021-07-22T18:02:49.594Z"
   },
   {
    "duration": 604,
    "start_time": "2021-07-22T18:02:50.208Z"
   },
   {
    "duration": 579,
    "start_time": "2021-07-22T18:02:50.815Z"
   },
   {
    "duration": 308,
    "start_time": "2021-07-22T18:02:51.396Z"
   },
   {
    "duration": 695,
    "start_time": "2021-07-22T18:02:51.706Z"
   },
   {
    "duration": 4930,
    "start_time": "2021-07-22T18:02:52.404Z"
   },
   {
    "duration": 669,
    "start_time": "2021-07-22T18:02:57.339Z"
   },
   {
    "duration": 380,
    "start_time": "2021-07-22T18:06:38.321Z"
   },
   {
    "duration": 370,
    "start_time": "2021-07-22T18:06:48.656Z"
   },
   {
    "duration": 370,
    "start_time": "2021-07-22T18:07:21.241Z"
   },
   {
    "duration": 561,
    "start_time": "2021-07-22T18:07:30.279Z"
   },
   {
    "duration": 369,
    "start_time": "2021-07-22T18:08:28.294Z"
   },
   {
    "duration": 560,
    "start_time": "2021-07-22T18:08:40.109Z"
   },
   {
    "duration": 368,
    "start_time": "2021-07-22T18:08:53.272Z"
   },
   {
    "duration": 348,
    "start_time": "2021-07-22T18:09:41.408Z"
   },
   {
    "duration": 359,
    "start_time": "2021-07-22T18:09:51.310Z"
   },
   {
    "duration": 447,
    "start_time": "2021-07-22T18:10:01.904Z"
   },
   {
    "duration": 350,
    "start_time": "2021-07-22T18:12:26.757Z"
   },
   {
    "duration": 8,
    "start_time": "2021-07-22T18:31:08.109Z"
   },
   {
    "duration": 32,
    "start_time": "2021-07-22T18:33:32.983Z"
   },
   {
    "duration": 5,
    "start_time": "2021-07-22T18:39:15.209Z"
   },
   {
    "duration": 368,
    "start_time": "2021-07-22T18:40:19.377Z"
   },
   {
    "duration": 13,
    "start_time": "2021-07-22T18:40:29.075Z"
   },
   {
    "duration": 92,
    "start_time": "2021-07-22T18:42:04.657Z"
   },
   {
    "duration": 280,
    "start_time": "2021-07-22T18:42:11.643Z"
   },
   {
    "duration": 271,
    "start_time": "2021-07-22T18:42:34.989Z"
   },
   {
    "duration": 21,
    "start_time": "2021-07-22T18:42:58.170Z"
   },
   {
    "duration": 284,
    "start_time": "2021-07-22T18:43:16.127Z"
   },
   {
    "duration": 12,
    "start_time": "2021-07-22T18:44:00.417Z"
   },
   {
    "duration": 372,
    "start_time": "2021-07-22T18:44:45.235Z"
   },
   {
    "duration": 371,
    "start_time": "2021-07-22T18:45:33.805Z"
   },
   {
    "duration": 404,
    "start_time": "2021-07-22T18:54:41.473Z"
   },
   {
    "duration": 334,
    "start_time": "2021-07-22T18:54:51.673Z"
   },
   {
    "duration": 40,
    "start_time": "2021-07-22T18:55:11.631Z"
   },
   {
    "duration": 118,
    "start_time": "2021-07-22T18:55:36.860Z"
   },
   {
    "duration": 15,
    "start_time": "2021-07-22T18:58:29.919Z"
   },
   {
    "duration": 21,
    "start_time": "2021-07-22T18:59:54.171Z"
   },
   {
    "duration": 284,
    "start_time": "2021-07-22T19:03:29.164Z"
   },
   {
    "duration": 286,
    "start_time": "2021-07-22T19:03:55.394Z"
   },
   {
    "duration": 310,
    "start_time": "2021-07-22T19:04:07.252Z"
   },
   {
    "duration": 19,
    "start_time": "2021-07-22T19:04:16.440Z"
   },
   {
    "duration": 20,
    "start_time": "2021-07-22T19:04:55.319Z"
   },
   {
    "duration": 410,
    "start_time": "2021-07-22T19:23:01.955Z"
   },
   {
    "duration": 428,
    "start_time": "2021-07-22T19:23:09.818Z"
   },
   {
    "duration": 315,
    "start_time": "2021-07-22T19:23:12.051Z"
   },
   {
    "duration": 454,
    "start_time": "2021-07-22T19:23:16.609Z"
   },
   {
    "duration": 423,
    "start_time": "2021-07-22T19:23:45.851Z"
   },
   {
    "duration": 342,
    "start_time": "2021-07-22T19:23:48.689Z"
   },
   {
    "duration": 570,
    "start_time": "2021-07-22T19:23:50.833Z"
   },
   {
    "duration": 394,
    "start_time": "2021-07-22T19:23:56.475Z"
   },
   {
    "duration": 576,
    "start_time": "2021-07-22T19:28:08.483Z"
   },
   {
    "duration": 553,
    "start_time": "2021-07-22T19:28:17.149Z"
   },
   {
    "duration": 952,
    "start_time": "2021-07-22T19:46:41.491Z"
   },
   {
    "duration": 50,
    "start_time": "2021-07-22T19:46:42.445Z"
   },
   {
    "duration": 27,
    "start_time": "2021-07-22T19:46:42.502Z"
   },
   {
    "duration": 37,
    "start_time": "2021-07-22T19:46:42.532Z"
   },
   {
    "duration": 371,
    "start_time": "2021-07-22T19:46:42.572Z"
   },
   {
    "duration": 52,
    "start_time": "2021-07-22T19:46:42.946Z"
   },
   {
    "duration": 9,
    "start_time": "2021-07-22T19:46:43.002Z"
   },
   {
    "duration": 80,
    "start_time": "2021-07-22T19:46:43.014Z"
   },
   {
    "duration": 1034,
    "start_time": "2021-07-22T19:46:43.096Z"
   },
   {
    "duration": 1425,
    "start_time": "2021-07-22T19:46:44.133Z"
   },
   {
    "duration": 12,
    "start_time": "2021-07-22T19:46:45.561Z"
   },
   {
    "duration": 5,
    "start_time": "2021-07-22T19:46:45.576Z"
   },
   {
    "duration": 240,
    "start_time": "2021-07-22T19:46:45.583Z"
   },
   {
    "duration": 138,
    "start_time": "2021-07-22T19:46:45.826Z"
   },
   {
    "duration": 90,
    "start_time": "2021-07-22T19:46:45.967Z"
   },
   {
    "duration": 14,
    "start_time": "2021-07-22T19:46:46.059Z"
   },
   {
    "duration": 605,
    "start_time": "2021-07-22T19:46:46.075Z"
   },
   {
    "duration": 597,
    "start_time": "2021-07-22T19:46:46.682Z"
   },
   {
    "duration": 600,
    "start_time": "2021-07-22T19:46:47.282Z"
   },
   {
    "duration": 291,
    "start_time": "2021-07-22T19:46:47.885Z"
   },
   {
    "duration": 354,
    "start_time": "2021-07-22T19:46:48.179Z"
   },
   {
    "duration": 354,
    "start_time": "2021-07-22T19:46:48.538Z"
   },
   {
    "duration": 362,
    "start_time": "2021-07-22T19:46:48.896Z"
   },
   {
    "duration": 26,
    "start_time": "2021-07-22T19:46:49.262Z"
   },
   {
    "duration": 448,
    "start_time": "2021-07-22T19:46:49.291Z"
   },
   {
    "duration": 26,
    "start_time": "2021-07-22T19:46:49.742Z"
   },
   {
    "duration": 400,
    "start_time": "2021-07-22T19:46:49.770Z"
   },
   {
    "duration": 311,
    "start_time": "2021-07-22T19:46:50.172Z"
   },
   {
    "duration": 427,
    "start_time": "2021-07-22T19:46:50.485Z"
   },
   {
    "duration": 359,
    "start_time": "2021-07-22T19:46:50.914Z"
   },
   {
    "duration": 364,
    "start_time": "2021-07-22T19:46:51.276Z"
   },
   {
    "duration": 388,
    "start_time": "2021-07-22T19:46:51.642Z"
   },
   {
    "duration": 85,
    "start_time": "2021-07-23T08:37:42.955Z"
   },
   {
    "duration": 93,
    "start_time": "2021-07-23T18:51:32.009Z"
   },
   {
    "duration": 83,
    "start_time": "2021-07-23T18:55:52.034Z"
   },
   {
    "duration": 1313,
    "start_time": "2021-07-23T18:56:02.834Z"
   },
   {
    "duration": 48,
    "start_time": "2021-07-23T18:56:04.149Z"
   },
   {
    "duration": 26,
    "start_time": "2021-07-23T18:56:04.200Z"
   },
   {
    "duration": 35,
    "start_time": "2021-07-23T18:56:04.229Z"
   },
   {
    "duration": 397,
    "start_time": "2021-07-23T18:56:04.267Z"
   },
   {
    "duration": 54,
    "start_time": "2021-07-23T18:56:04.666Z"
   },
   {
    "duration": 9,
    "start_time": "2021-07-23T18:56:04.722Z"
   },
   {
    "duration": 57,
    "start_time": "2021-07-23T18:56:04.757Z"
   },
   {
    "duration": 1209,
    "start_time": "2021-07-23T18:56:04.818Z"
   },
   {
    "duration": 2021,
    "start_time": "2021-07-23T18:56:06.029Z"
   },
   {
    "duration": 12,
    "start_time": "2021-07-23T18:56:08.059Z"
   },
   {
    "duration": 15,
    "start_time": "2021-07-23T18:56:08.073Z"
   },
   {
    "duration": 301,
    "start_time": "2021-07-23T18:56:08.091Z"
   },
   {
    "duration": 282,
    "start_time": "2021-07-23T18:56:08.395Z"
   },
   {
    "duration": 191,
    "start_time": "2021-07-23T18:56:08.679Z"
   },
   {
    "duration": 13,
    "start_time": "2021-07-23T18:56:08.873Z"
   },
   {
    "duration": 843,
    "start_time": "2021-07-23T18:56:08.889Z"
   },
   {
    "duration": 614,
    "start_time": "2021-07-23T18:56:09.735Z"
   },
   {
    "duration": 643,
    "start_time": "2021-07-23T18:56:10.355Z"
   },
   {
    "duration": 329,
    "start_time": "2021-07-23T18:56:11.001Z"
   },
   {
    "duration": 387,
    "start_time": "2021-07-23T18:56:11.332Z"
   },
   {
    "duration": 390,
    "start_time": "2021-07-23T18:56:11.721Z"
   },
   {
    "duration": 380,
    "start_time": "2021-07-23T18:56:12.115Z"
   },
   {
    "duration": 29,
    "start_time": "2021-07-23T18:56:12.498Z"
   },
   {
    "duration": 468,
    "start_time": "2021-07-23T18:56:12.530Z"
   },
   {
    "duration": 19,
    "start_time": "2021-07-23T18:56:13.001Z"
   },
   {
    "duration": 441,
    "start_time": "2021-07-23T18:56:13.023Z"
   },
   {
    "duration": 329,
    "start_time": "2021-07-23T18:56:13.467Z"
   },
   {
    "duration": 463,
    "start_time": "2021-07-23T18:56:13.799Z"
   },
   {
    "duration": 391,
    "start_time": "2021-07-23T18:56:14.265Z"
   },
   {
    "duration": 400,
    "start_time": "2021-07-23T18:56:14.659Z"
   },
   {
    "duration": 411,
    "start_time": "2021-07-23T18:56:15.062Z"
   },
   {
    "duration": 19,
    "start_time": "2021-07-23T18:56:17.241Z"
   },
   {
    "duration": 103,
    "start_time": "2021-07-23T18:56:41.824Z"
   },
   {
    "duration": 86,
    "start_time": "2021-07-23T19:00:31.677Z"
   },
   {
    "duration": 85,
    "start_time": "2021-07-23T19:01:16.503Z"
   },
   {
    "duration": 87,
    "start_time": "2021-07-23T19:03:26.608Z"
   },
   {
    "duration": 11,
    "start_time": "2021-07-23T19:03:50.281Z"
   },
   {
    "duration": 11,
    "start_time": "2021-07-23T19:04:00.688Z"
   },
   {
    "duration": 1022,
    "start_time": "2021-07-23T19:04:06.715Z"
   },
   {
    "duration": 50,
    "start_time": "2021-07-23T19:04:07.740Z"
   },
   {
    "duration": 22,
    "start_time": "2021-07-23T19:04:07.793Z"
   },
   {
    "duration": 46,
    "start_time": "2021-07-23T19:04:07.818Z"
   },
   {
    "duration": 23,
    "start_time": "2021-07-23T19:04:07.867Z"
   },
   {
    "duration": 393,
    "start_time": "2021-07-23T19:04:07.893Z"
   },
   {
    "duration": 73,
    "start_time": "2021-07-23T19:04:08.290Z"
   },
   {
    "duration": 11,
    "start_time": "2021-07-23T19:04:08.368Z"
   },
   {
    "duration": 80,
    "start_time": "2021-07-23T19:04:08.383Z"
   },
   {
    "duration": 1244,
    "start_time": "2021-07-23T19:04:08.466Z"
   },
   {
    "duration": 1818,
    "start_time": "2021-07-23T19:04:09.714Z"
   },
   {
    "duration": 21,
    "start_time": "2021-07-23T19:04:11.535Z"
   },
   {
    "duration": 7,
    "start_time": "2021-07-23T19:04:11.558Z"
   },
   {
    "duration": 300,
    "start_time": "2021-07-23T19:04:11.567Z"
   },
   {
    "duration": 285,
    "start_time": "2021-07-23T19:04:11.869Z"
   },
   {
    "duration": 139,
    "start_time": "2021-07-23T19:04:12.157Z"
   },
   {
    "duration": 67,
    "start_time": "2021-07-23T19:04:12.299Z"
   },
   {
    "duration": 667,
    "start_time": "2021-07-23T19:04:12.369Z"
   },
   {
    "duration": 618,
    "start_time": "2021-07-23T19:04:13.039Z"
   },
   {
    "duration": 615,
    "start_time": "2021-07-23T19:04:13.659Z"
   },
   {
    "duration": 306,
    "start_time": "2021-07-23T19:04:14.277Z"
   },
   {
    "duration": 368,
    "start_time": "2021-07-23T19:04:14.586Z"
   },
   {
    "duration": 376,
    "start_time": "2021-07-23T19:04:14.959Z"
   },
   {
    "duration": 371,
    "start_time": "2021-07-23T19:04:15.338Z"
   },
   {
    "duration": 25,
    "start_time": "2021-07-23T19:04:15.712Z"
   },
   {
    "duration": 441,
    "start_time": "2021-07-23T19:04:15.755Z"
   },
   {
    "duration": 20,
    "start_time": "2021-07-23T19:04:16.198Z"
   },
   {
    "duration": 464,
    "start_time": "2021-07-23T19:04:16.220Z"
   },
   {
    "duration": 312,
    "start_time": "2021-07-23T19:04:16.686Z"
   },
   {
    "duration": 487,
    "start_time": "2021-07-23T19:04:17.000Z"
   },
   {
    "duration": 375,
    "start_time": "2021-07-23T19:04:17.490Z"
   },
   {
    "duration": 381,
    "start_time": "2021-07-23T19:04:17.867Z"
   },
   {
    "duration": 386,
    "start_time": "2021-07-23T19:04:18.254Z"
   },
   {
    "duration": 347,
    "start_time": "2021-07-23T19:04:44.606Z"
   },
   {
    "duration": 11,
    "start_time": "2021-07-23T19:04:50.789Z"
   },
   {
    "duration": 7,
    "start_time": "2021-07-23T19:05:10.740Z"
   },
   {
    "duration": 960,
    "start_time": "2021-07-23T19:05:16.495Z"
   },
   {
    "duration": 46,
    "start_time": "2021-07-23T19:05:17.458Z"
   },
   {
    "duration": 31,
    "start_time": "2021-07-23T19:05:17.508Z"
   },
   {
    "duration": 27,
    "start_time": "2021-07-23T19:05:17.541Z"
   },
   {
    "duration": 11,
    "start_time": "2021-07-23T19:05:17.570Z"
   },
   {
    "duration": 28,
    "start_time": "2021-07-23T19:05:17.584Z"
   },
   {
    "duration": 53,
    "start_time": "2021-07-23T19:05:17.614Z"
   },
   {
    "duration": 812,
    "start_time": "2021-07-23T19:05:17.670Z"
   },
   {
    "duration": 103,
    "start_time": "2021-07-23T19:05:18.485Z"
   },
   {
    "duration": 9,
    "start_time": "2021-07-23T19:05:18.591Z"
   },
   {
    "duration": 89,
    "start_time": "2021-07-23T19:05:18.603Z"
   },
   {
    "duration": 1212,
    "start_time": "2021-07-23T19:05:18.695Z"
   },
   {
    "duration": 1494,
    "start_time": "2021-07-23T19:05:19.911Z"
   },
   {
    "duration": 13,
    "start_time": "2021-07-23T19:05:21.408Z"
   },
   {
    "duration": 31,
    "start_time": "2021-07-23T19:05:21.425Z"
   },
   {
    "duration": 242,
    "start_time": "2021-07-23T19:05:21.459Z"
   },
   {
    "duration": 150,
    "start_time": "2021-07-23T19:05:21.704Z"
   },
   {
    "duration": 105,
    "start_time": "2021-07-23T19:05:21.857Z"
   },
   {
    "duration": 17,
    "start_time": "2021-07-23T19:05:21.966Z"
   },
   {
    "duration": 641,
    "start_time": "2021-07-23T19:05:21.986Z"
   },
   {
    "duration": 612,
    "start_time": "2021-07-23T19:05:22.630Z"
   },
   {
    "duration": 626,
    "start_time": "2021-07-23T19:05:23.244Z"
   },
   {
    "duration": 320,
    "start_time": "2021-07-23T19:05:23.873Z"
   },
   {
    "duration": 420,
    "start_time": "2021-07-23T19:05:24.196Z"
   },
   {
    "duration": 388,
    "start_time": "2021-07-23T19:05:24.618Z"
   },
   {
    "duration": 386,
    "start_time": "2021-07-23T19:05:25.008Z"
   },
   {
    "duration": 25,
    "start_time": "2021-07-23T19:05:25.399Z"
   },
   {
    "duration": 455,
    "start_time": "2021-07-23T19:05:25.426Z"
   },
   {
    "duration": 20,
    "start_time": "2021-07-23T19:05:25.883Z"
   },
   {
    "duration": 459,
    "start_time": "2021-07-23T19:05:25.905Z"
   },
   {
    "duration": 325,
    "start_time": "2021-07-23T19:05:26.367Z"
   },
   {
    "duration": 498,
    "start_time": "2021-07-23T19:05:26.695Z"
   },
   {
    "duration": 395,
    "start_time": "2021-07-23T19:05:27.196Z"
   },
   {
    "duration": 394,
    "start_time": "2021-07-23T19:05:27.593Z"
   },
   {
    "duration": 408,
    "start_time": "2021-07-23T19:05:27.990Z"
   },
   {
    "duration": 88,
    "start_time": "2021-07-23T19:07:52.846Z"
   },
   {
    "duration": 77,
    "start_time": "2021-07-23T19:10:46.529Z"
   },
   {
    "duration": 74,
    "start_time": "2021-07-23T19:11:05.761Z"
   },
   {
    "duration": 91,
    "start_time": "2021-07-23T19:11:59.936Z"
   },
   {
    "duration": 83,
    "start_time": "2021-07-23T19:17:19.959Z"
   },
   {
    "duration": 355,
    "start_time": "2021-07-23T19:19:50.485Z"
   },
   {
    "duration": 304,
    "start_time": "2021-07-23T19:20:12.609Z"
   },
   {
    "duration": 594,
    "start_time": "2021-07-23T19:21:40.225Z"
   },
   {
    "duration": 9,
    "start_time": "2021-07-23T19:22:29.439Z"
   },
   {
    "duration": 9,
    "start_time": "2021-07-23T19:22:34.836Z"
   },
   {
    "duration": 14,
    "start_time": "2021-07-23T19:22:44.415Z"
   },
   {
    "duration": 30,
    "start_time": "2021-07-23T19:23:37.844Z"
   },
   {
    "duration": -124,
    "start_time": "2021-07-23T19:27:25.743Z"
   },
   {
    "duration": 251,
    "start_time": "2021-07-23T19:28:25.314Z"
   },
   {
    "duration": 34,
    "start_time": "2021-07-23T19:28:32.567Z"
   },
   {
    "duration": 244,
    "start_time": "2021-07-23T19:31:06.937Z"
   },
   {
    "duration": 32,
    "start_time": "2021-07-23T19:31:33.277Z"
   },
   {
    "duration": 257,
    "start_time": "2021-07-23T19:32:17.448Z"
   },
   {
    "duration": 10,
    "start_time": "2021-07-23T19:32:25.519Z"
   },
   {
    "duration": 34,
    "start_time": "2021-07-23T19:32:51.654Z"
   },
   {
    "duration": 92,
    "start_time": "2021-07-23T19:36:28.525Z"
   },
   {
    "duration": 976,
    "start_time": "2021-07-23T19:48:42.994Z"
   },
   {
    "duration": 48,
    "start_time": "2021-07-23T19:48:43.972Z"
   },
   {
    "duration": 50,
    "start_time": "2021-07-23T19:48:44.023Z"
   },
   {
    "duration": 28,
    "start_time": "2021-07-23T19:48:44.076Z"
   },
   {
    "duration": 464,
    "start_time": "2021-07-23T19:48:44.106Z"
   },
   {
    "duration": 90,
    "start_time": "2021-07-23T19:48:44.574Z"
   },
   {
    "duration": 13,
    "start_time": "2021-07-23T19:48:44.667Z"
   },
   {
    "duration": 105,
    "start_time": "2021-07-23T19:48:44.686Z"
   },
   {
    "duration": 1210,
    "start_time": "2021-07-23T19:48:44.795Z"
   },
   {
    "duration": 1523,
    "start_time": "2021-07-23T19:48:46.007Z"
   },
   {
    "duration": 25,
    "start_time": "2021-07-23T19:48:47.532Z"
   },
   {
    "duration": 9,
    "start_time": "2021-07-23T19:48:47.559Z"
   },
   {
    "duration": 249,
    "start_time": "2021-07-23T19:48:47.571Z"
   },
   {
    "duration": 145,
    "start_time": "2021-07-23T19:48:47.823Z"
   },
   {
    "duration": 111,
    "start_time": "2021-07-23T19:48:47.971Z"
   },
   {
    "duration": 17,
    "start_time": "2021-07-23T19:48:48.084Z"
   },
   {
    "duration": 726,
    "start_time": "2021-07-23T19:48:48.103Z"
   },
   {
    "duration": 640,
    "start_time": "2021-07-23T19:48:48.831Z"
   },
   {
    "duration": 653,
    "start_time": "2021-07-23T19:48:49.473Z"
   },
   {
    "duration": 318,
    "start_time": "2021-07-23T19:48:50.129Z"
   },
   {
    "duration": 408,
    "start_time": "2021-07-23T19:48:50.450Z"
   },
   {
    "duration": 395,
    "start_time": "2021-07-23T19:48:50.861Z"
   },
   {
    "duration": 383,
    "start_time": "2021-07-23T19:48:51.262Z"
   },
   {
    "duration": 27,
    "start_time": "2021-07-23T19:48:51.656Z"
   },
   {
    "duration": 477,
    "start_time": "2021-07-23T19:48:51.686Z"
   },
   {
    "duration": 22,
    "start_time": "2021-07-23T19:48:52.166Z"
   },
   {
    "duration": 487,
    "start_time": "2021-07-23T19:48:52.190Z"
   },
   {
    "duration": 331,
    "start_time": "2021-07-23T19:48:52.679Z"
   },
   {
    "duration": 469,
    "start_time": "2021-07-23T19:48:53.012Z"
   },
   {
    "duration": 394,
    "start_time": "2021-07-23T19:48:53.484Z"
   },
   {
    "duration": 420,
    "start_time": "2021-07-23T19:48:53.880Z"
   },
   {
    "duration": 526,
    "start_time": "2021-07-23T19:48:54.303Z"
   },
   {
    "duration": 302,
    "start_time": "2021-07-26T15:36:25.058Z"
   },
   {
    "duration": 787,
    "start_time": "2021-07-26T15:39:22.412Z"
   },
   {
    "duration": 24,
    "start_time": "2021-07-26T15:39:23.201Z"
   },
   {
    "duration": 18,
    "start_time": "2021-07-26T15:39:24.855Z"
   },
   {
    "duration": 11,
    "start_time": "2021-07-26T15:39:25.601Z"
   },
   {
    "duration": 51,
    "start_time": "2021-07-26T15:39:26.192Z"
   },
   {
    "duration": 47,
    "start_time": "2021-07-26T15:39:27.219Z"
   },
   {
    "duration": 37,
    "start_time": "2021-07-26T15:39:27.969Z"
   },
   {
    "duration": 319,
    "start_time": "2021-07-26T15:39:57.554Z"
   },
   {
    "duration": 298,
    "start_time": "2021-07-26T15:40:08.818Z"
   },
   {
    "duration": 293,
    "start_time": "2021-07-26T15:55:08.021Z"
   },
   {
    "duration": 31,
    "start_time": "2021-07-26T15:55:09.631Z"
   },
   {
    "duration": 110,
    "start_time": "2021-07-26T15:55:24.519Z"
   },
   {
    "duration": 23,
    "start_time": "2021-07-26T15:55:25.202Z"
   },
   {
    "duration": 17,
    "start_time": "2021-07-26T15:55:27.684Z"
   },
   {
    "duration": 10,
    "start_time": "2021-07-26T15:55:28.776Z"
   },
   {
    "duration": 46,
    "start_time": "2021-07-26T15:55:29.354Z"
   },
   {
    "duration": 313,
    "start_time": "2021-07-26T15:55:30.120Z"
   },
   {
    "duration": 44,
    "start_time": "2021-07-26T15:55:44.026Z"
   },
   {
    "duration": 12,
    "start_time": "2021-07-26T15:55:47.512Z"
   },
   {
    "duration": 12,
    "start_time": "2021-07-26T15:55:52.813Z"
   },
   {
    "duration": 5,
    "start_time": "2021-07-26T15:55:53.548Z"
   },
   {
    "duration": 8,
    "start_time": "2021-07-26T15:55:54.206Z"
   },
   {
    "duration": 38,
    "start_time": "2021-07-26T15:55:54.939Z"
   },
   {
    "duration": 7,
    "start_time": "2021-07-26T15:55:55.604Z"
   },
   {
    "duration": 36,
    "start_time": "2021-07-26T15:55:56.204Z"
   },
   {
    "duration": 34,
    "start_time": "2021-07-26T15:55:57.121Z"
   },
   {
    "duration": 9,
    "start_time": "2021-07-26T15:55:57.753Z"
   },
   {
    "duration": 15,
    "start_time": "2021-07-26T15:55:58.228Z"
   },
   {
    "duration": 716,
    "start_time": "2021-07-26T15:57:13.994Z"
   },
   {
    "duration": 30,
    "start_time": "2021-07-26T15:57:14.711Z"
   },
   {
    "duration": 17,
    "start_time": "2021-07-26T15:57:14.743Z"
   },
   {
    "duration": 10,
    "start_time": "2021-07-26T15:57:14.761Z"
   },
   {
    "duration": 77,
    "start_time": "2021-07-26T15:57:14.773Z"
   },
   {
    "duration": 48,
    "start_time": "2021-07-26T15:57:14.852Z"
   },
   {
    "duration": 13,
    "start_time": "2021-07-26T15:57:14.902Z"
   },
   {
    "duration": 24,
    "start_time": "2021-07-26T15:57:14.917Z"
   },
   {
    "duration": 10,
    "start_time": "2021-07-26T15:57:14.944Z"
   },
   {
    "duration": 39,
    "start_time": "2021-07-26T15:57:14.956Z"
   },
   {
    "duration": 6,
    "start_time": "2021-07-26T15:57:14.997Z"
   },
   {
    "duration": 63,
    "start_time": "2021-07-26T15:57:15.005Z"
   },
   {
    "duration": 36,
    "start_time": "2021-07-26T15:57:15.069Z"
   },
   {
    "duration": 8,
    "start_time": "2021-07-26T15:57:15.107Z"
   },
   {
    "duration": 33,
    "start_time": "2021-07-26T15:57:15.116Z"
   },
   {
    "duration": 35,
    "start_time": "2021-07-26T15:57:15.150Z"
   },
   {
    "duration": 6,
    "start_time": "2021-07-26T15:57:15.187Z"
   },
   {
    "duration": 51,
    "start_time": "2021-07-26T15:57:15.195Z"
   },
   {
    "duration": 681,
    "start_time": "2021-07-26T15:57:15.248Z"
   },
   {
    "duration": 798,
    "start_time": "2021-07-26T15:57:15.930Z"
   },
   {
    "duration": 12,
    "start_time": "2021-07-26T15:57:16.729Z"
   },
   {
    "duration": 8,
    "start_time": "2021-07-26T15:57:16.743Z"
   },
   {
    "duration": 138,
    "start_time": "2021-07-26T15:57:16.754Z"
   },
   {
    "duration": 79,
    "start_time": "2021-07-26T15:57:16.894Z"
   },
   {
    "duration": 49,
    "start_time": "2021-07-26T15:57:16.975Z"
   },
   {
    "duration": 23,
    "start_time": "2021-07-26T15:57:17.025Z"
   },
   {
    "duration": 385,
    "start_time": "2021-07-26T15:57:17.050Z"
   },
   {
    "duration": 390,
    "start_time": "2021-07-26T15:57:17.436Z"
   },
   {
    "duration": 394,
    "start_time": "2021-07-26T15:57:17.827Z"
   },
   {
    "duration": 168,
    "start_time": "2021-07-26T15:57:18.223Z"
   },
   {
    "duration": 212,
    "start_time": "2021-07-26T15:57:18.393Z"
   },
   {
    "duration": 217,
    "start_time": "2021-07-26T15:57:18.607Z"
   },
   {
    "duration": 226,
    "start_time": "2021-07-26T15:57:18.826Z"
   },
   {
    "duration": 16,
    "start_time": "2021-07-26T15:57:19.054Z"
   },
   {
    "duration": 315,
    "start_time": "2021-07-26T15:57:19.072Z"
   },
   {
    "duration": 13,
    "start_time": "2021-07-26T15:57:19.389Z"
   },
   {
    "duration": 325,
    "start_time": "2021-07-26T15:57:19.403Z"
   },
   {
    "duration": 190,
    "start_time": "2021-07-26T15:57:19.730Z"
   },
   {
    "duration": 298,
    "start_time": "2021-07-26T15:57:19.922Z"
   },
   {
    "duration": 225,
    "start_time": "2021-07-26T15:57:20.221Z"
   },
   {
    "duration": 224,
    "start_time": "2021-07-26T15:57:20.447Z"
   },
   {
    "duration": 243,
    "start_time": "2021-07-26T15:57:20.672Z"
   },
   {
    "duration": 6643,
    "start_time": "2021-07-26T16:04:22.711Z"
   },
   {
    "duration": 7191,
    "start_time": "2021-07-26T16:04:53.238Z"
   },
   {
    "duration": 1633,
    "start_time": "2021-07-26T16:04:58.798Z"
   },
   {
    "duration": 19,
    "start_time": "2021-07-26T16:06:52.800Z"
   },
   {
    "duration": 836,
    "start_time": "2021-07-26T16:06:59.211Z"
   },
   {
    "duration": 26,
    "start_time": "2021-07-26T16:07:00.049Z"
   },
   {
    "duration": 45,
    "start_time": "2021-07-26T16:07:00.077Z"
   },
   {
    "duration": 37,
    "start_time": "2021-07-26T16:07:00.124Z"
   },
   {
    "duration": 62,
    "start_time": "2021-07-26T16:07:00.163Z"
   },
   {
    "duration": 64,
    "start_time": "2021-07-26T16:07:00.227Z"
   },
   {
    "duration": 12,
    "start_time": "2021-07-26T16:07:00.294Z"
   },
   {
    "duration": 8,
    "start_time": "2021-07-26T16:07:00.308Z"
   },
   {
    "duration": 26,
    "start_time": "2021-07-26T16:07:00.317Z"
   },
   {
    "duration": 76,
    "start_time": "2021-07-26T16:07:00.346Z"
   },
   {
    "duration": 9,
    "start_time": "2021-07-26T16:07:00.424Z"
   },
   {
    "duration": 73,
    "start_time": "2021-07-26T16:07:00.435Z"
   },
   {
    "duration": 52,
    "start_time": "2021-07-26T16:07:00.510Z"
   },
   {
    "duration": 2,
    "start_time": "2021-07-26T16:07:00.565Z"
   },
   {
    "duration": 19,
    "start_time": "2021-07-26T16:07:00.569Z"
   },
   {
    "duration": 393,
    "start_time": "2021-07-26T16:07:00.590Z"
   },
   {
    "duration": 1651,
    "start_time": "2021-07-26T16:06:59.335Z"
   },
   {
    "duration": 1649,
    "start_time": "2021-07-26T16:06:59.338Z"
   },
   {
    "duration": 1649,
    "start_time": "2021-07-26T16:06:59.339Z"
   },
   {
    "duration": 1647,
    "start_time": "2021-07-26T16:06:59.342Z"
   },
   {
    "duration": 1647,
    "start_time": "2021-07-26T16:06:59.343Z"
   },
   {
    "duration": 1646,
    "start_time": "2021-07-26T16:06:59.346Z"
   },
   {
    "duration": 1645,
    "start_time": "2021-07-26T16:06:59.348Z"
   },
   {
    "duration": 1644,
    "start_time": "2021-07-26T16:06:59.350Z"
   },
   {
    "duration": 1643,
    "start_time": "2021-07-26T16:06:59.352Z"
   },
   {
    "duration": 1637,
    "start_time": "2021-07-26T16:06:59.359Z"
   },
   {
    "duration": 1636,
    "start_time": "2021-07-26T16:06:59.361Z"
   },
   {
    "duration": 1634,
    "start_time": "2021-07-26T16:06:59.363Z"
   },
   {
    "duration": 1633,
    "start_time": "2021-07-26T16:06:59.365Z"
   },
   {
    "duration": 1632,
    "start_time": "2021-07-26T16:06:59.367Z"
   },
   {
    "duration": 1631,
    "start_time": "2021-07-26T16:06:59.369Z"
   },
   {
    "duration": 1630,
    "start_time": "2021-07-26T16:06:59.371Z"
   },
   {
    "duration": 1629,
    "start_time": "2021-07-26T16:06:59.373Z"
   },
   {
    "duration": 1628,
    "start_time": "2021-07-26T16:06:59.375Z"
   },
   {
    "duration": 1627,
    "start_time": "2021-07-26T16:06:59.377Z"
   },
   {
    "duration": 1626,
    "start_time": "2021-07-26T16:06:59.379Z"
   },
   {
    "duration": 1625,
    "start_time": "2021-07-26T16:06:59.381Z"
   },
   {
    "duration": 1624,
    "start_time": "2021-07-26T16:06:59.383Z"
   },
   {
    "duration": 1623,
    "start_time": "2021-07-26T16:06:59.385Z"
   },
   {
    "duration": 1622,
    "start_time": "2021-07-26T16:06:59.387Z"
   },
   {
    "duration": 1621,
    "start_time": "2021-07-26T16:06:59.389Z"
   },
   {
    "duration": 1620,
    "start_time": "2021-07-26T16:06:59.391Z"
   },
   {
    "duration": 1619,
    "start_time": "2021-07-26T16:06:59.393Z"
   },
   {
    "duration": 291,
    "start_time": "2021-07-26T16:07:11.144Z"
   },
   {
    "duration": 14,
    "start_time": "2021-07-26T16:09:30.316Z"
   },
   {
    "duration": 11,
    "start_time": "2021-07-26T16:09:31.444Z"
   },
   {
    "duration": 6842,
    "start_time": "2021-07-26T16:09:32.247Z"
   },
   {
    "duration": 1642,
    "start_time": "2021-07-26T16:09:37.449Z"
   },
   {
    "duration": 1641,
    "start_time": "2021-07-26T16:09:37.451Z"
   },
   {
    "duration": 1640,
    "start_time": "2021-07-26T16:09:37.453Z"
   },
   {
    "duration": 1623,
    "start_time": "2021-07-26T16:09:37.470Z"
   },
   {
    "duration": 1621,
    "start_time": "2021-07-26T16:09:37.473Z"
   },
   {
    "duration": 1620,
    "start_time": "2021-07-26T16:09:37.475Z"
   },
   {
    "duration": 1619,
    "start_time": "2021-07-26T16:09:37.477Z"
   },
   {
    "duration": 1617,
    "start_time": "2021-07-26T16:09:37.479Z"
   },
   {
    "duration": 2,
    "start_time": "2021-07-26T16:09:39.502Z"
   },
   {
    "duration": 15,
    "start_time": "2021-07-26T16:09:39.818Z"
   },
   {
    "duration": 4,
    "start_time": "2021-07-26T16:09:44.744Z"
   },
   {
    "duration": 4,
    "start_time": "2021-07-26T16:09:46.066Z"
   },
   {
    "duration": 4,
    "start_time": "2021-07-26T16:09:47.121Z"
   },
   {
    "duration": 371,
    "start_time": "2021-07-26T16:09:48.488Z"
   },
   {
    "duration": 10,
    "start_time": "2021-07-26T16:09:49.319Z"
   },
   {
    "duration": 15,
    "start_time": "2021-07-26T16:09:49.970Z"
   },
   {
    "duration": 323,
    "start_time": "2021-07-26T16:10:38.132Z"
   },
   {
    "duration": 116,
    "start_time": "2021-07-26T16:11:12.725Z"
   },
   {
    "duration": 25,
    "start_time": "2021-07-26T16:11:13.479Z"
   },
   {
    "duration": 18,
    "start_time": "2021-07-26T16:11:16.570Z"
   },
   {
    "duration": 12,
    "start_time": "2021-07-26T16:11:23.269Z"
   },
   {
    "duration": 44,
    "start_time": "2021-07-26T16:11:24.245Z"
   },
   {
    "duration": 47,
    "start_time": "2021-07-26T16:11:34.994Z"
   },
   {
    "duration": 13,
    "start_time": "2021-07-26T16:11:38.106Z"
   },
   {
    "duration": 5,
    "start_time": "2021-07-26T16:11:39.204Z"
   },
   {
    "duration": 8,
    "start_time": "2021-07-26T16:11:39.982Z"
   },
   {
    "duration": 36,
    "start_time": "2021-07-26T16:11:40.703Z"
   },
   {
    "duration": 7,
    "start_time": "2021-07-26T16:11:41.482Z"
   },
   {
    "duration": 37,
    "start_time": "2021-07-26T16:11:42.221Z"
   },
   {
    "duration": 36,
    "start_time": "2021-07-26T16:11:43.020Z"
   },
   {
    "duration": 15,
    "start_time": "2021-07-26T16:11:43.407Z"
   },
   {
    "duration": 7,
    "start_time": "2021-07-26T16:11:46.260Z"
   },
   {
    "duration": 9,
    "start_time": "2021-07-26T16:11:47.024Z"
   },
   {
    "duration": 10,
    "start_time": "2021-07-26T16:11:47.814Z"
   },
   {
    "duration": 10,
    "start_time": "2021-07-26T16:11:48.553Z"
   },
   {
    "duration": 22,
    "start_time": "2021-07-26T16:11:48.930Z"
   },
   {
    "duration": 6,
    "start_time": "2021-07-26T16:11:57.546Z"
   },
   {
    "duration": 4,
    "start_time": "2021-07-26T16:12:08.979Z"
   },
   {
    "duration": 4,
    "start_time": "2021-07-26T16:12:11.609Z"
   },
   {
    "duration": 3,
    "start_time": "2021-07-26T16:12:14.627Z"
   },
   {
    "duration": 14,
    "start_time": "2021-07-26T16:12:15.102Z"
   },
   {
    "duration": 287,
    "start_time": "2021-07-26T16:13:19.727Z"
   },
   {
    "duration": 7,
    "start_time": "2021-07-26T16:13:25.994Z"
   },
   {
    "duration": 39,
    "start_time": "2021-07-26T16:13:26.451Z"
   },
   {
    "duration": 643,
    "start_time": "2021-07-26T16:13:28.334Z"
   },
   {
    "duration": 76,
    "start_time": "2021-07-26T16:18:08.249Z"
   },
   {
    "duration": 3,
    "start_time": "2021-07-26T16:18:14.215Z"
   },
   {
    "duration": 11,
    "start_time": "2021-07-26T16:18:15.425Z"
   },
   {
    "duration": 567,
    "start_time": "2021-07-26T16:18:16.420Z"
   },
   {
    "duration": 5,
    "start_time": "2021-07-26T16:18:17.346Z"
   },
   {
    "duration": 72,
    "start_time": "2021-07-26T16:18:17.847Z"
   },
   {
    "duration": 488,
    "start_time": "2021-07-26T16:23:58.097Z"
   },
   {
    "duration": 218,
    "start_time": "2021-07-26T16:24:03.877Z"
   },
   {
    "duration": 198,
    "start_time": "2021-07-26T16:25:29.476Z"
   },
   {
    "duration": 245,
    "start_time": "2021-07-26T16:25:30.461Z"
   },
   {
    "duration": 187,
    "start_time": "2021-07-26T16:25:31.527Z"
   },
   {
    "duration": 185,
    "start_time": "2021-07-26T16:25:34.711Z"
   },
   {
    "duration": 11,
    "start_time": "2021-07-26T16:25:41.046Z"
   },
   {
    "duration": 9,
    "start_time": "2021-07-26T16:25:41.403Z"
   },
   {
    "duration": 399,
    "start_time": "2021-07-26T16:25:42.798Z"
   },
   {
    "duration": 75,
    "start_time": "2021-07-26T16:25:44.878Z"
   },
   {
    "duration": 1043,
    "start_time": "2021-07-26T16:27:50.235Z"
   },
   {
    "duration": 1637,
    "start_time": "2021-07-26T16:27:49.643Z"
   },
   {
    "duration": 111,
    "start_time": "2021-07-26T16:28:02.113Z"
   },
   {
    "duration": 25,
    "start_time": "2021-07-26T16:28:02.759Z"
   },
   {
    "duration": 17,
    "start_time": "2021-07-26T16:28:04.987Z"
   },
   {
    "duration": 10,
    "start_time": "2021-07-26T16:28:05.965Z"
   },
   {
    "duration": 40,
    "start_time": "2021-07-26T16:28:06.569Z"
   },
   {
    "duration": 40,
    "start_time": "2021-07-26T16:28:07.273Z"
   },
   {
    "duration": 12,
    "start_time": "2021-07-26T16:28:07.990Z"
   },
   {
    "duration": 4,
    "start_time": "2021-07-26T16:28:08.975Z"
   },
   {
    "duration": 8,
    "start_time": "2021-07-26T16:28:09.663Z"
   },
   {
    "duration": 40,
    "start_time": "2021-07-26T16:28:10.378Z"
   },
   {
    "duration": 7,
    "start_time": "2021-07-26T16:28:11.078Z"
   },
   {
    "duration": 36,
    "start_time": "2021-07-26T16:28:11.704Z"
   },
   {
    "duration": 36,
    "start_time": "2021-07-26T16:28:12.379Z"
   },
   {
    "duration": 18,
    "start_time": "2021-07-26T16:28:12.780Z"
   },
   {
    "duration": 8,
    "start_time": "2021-07-26T16:28:15.529Z"
   },
   {
    "duration": 11,
    "start_time": "2021-07-26T16:28:16.022Z"
   },
   {
    "duration": 1298,
    "start_time": "2021-07-26T16:28:16.621Z"
   },
   {
    "duration": 1638,
    "start_time": "2021-07-26T16:28:16.283Z"
   },
   {
    "duration": 1229,
    "start_time": "2021-07-26T16:28:18.139Z"
   },
   {
    "duration": 1646,
    "start_time": "2021-07-26T16:28:17.724Z"
   },
   {
    "duration": 10,
    "start_time": "2021-07-26T16:28:39.505Z"
   },
   {
    "duration": 6,
    "start_time": "2021-07-26T16:28:40.190Z"
   },
   {
    "duration": 310,
    "start_time": "2021-07-26T16:28:50.938Z"
   },
   {
    "duration": 723,
    "start_time": "2021-07-26T16:29:07.271Z"
   },
   {
    "duration": 24,
    "start_time": "2021-07-26T16:29:07.995Z"
   },
   {
    "duration": 31,
    "start_time": "2021-07-26T16:29:08.021Z"
   },
   {
    "duration": 13,
    "start_time": "2021-07-26T16:29:08.054Z"
   },
   {
    "duration": 54,
    "start_time": "2021-07-26T16:29:08.069Z"
   },
   {
    "duration": 58,
    "start_time": "2021-07-26T16:29:08.124Z"
   },
   {
    "duration": 12,
    "start_time": "2021-07-26T16:29:08.184Z"
   },
   {
    "duration": 4,
    "start_time": "2021-07-26T16:29:08.198Z"
   },
   {
    "duration": 17,
    "start_time": "2021-07-26T16:29:08.204Z"
   },
   {
    "duration": 61,
    "start_time": "2021-07-26T16:29:08.223Z"
   },
   {
    "duration": 7,
    "start_time": "2021-07-26T16:29:08.286Z"
   },
   {
    "duration": 60,
    "start_time": "2021-07-26T16:29:08.295Z"
   },
   {
    "duration": 39,
    "start_time": "2021-07-26T16:29:08.356Z"
   },
   {
    "duration": 15,
    "start_time": "2021-07-26T16:29:08.396Z"
   },
   {
    "duration": 20,
    "start_time": "2021-07-26T16:29:08.413Z"
   },
   {
    "duration": 14,
    "start_time": "2021-07-26T16:29:08.434Z"
   },
   {
    "duration": 16,
    "start_time": "2021-07-26T16:29:08.449Z"
   },
   {
    "duration": 12,
    "start_time": "2021-07-26T16:29:08.466Z"
   },
   {
    "duration": 342,
    "start_time": "2021-07-26T16:29:08.480Z"
   },
   {
    "duration": 1646,
    "start_time": "2021-07-26T16:29:07.178Z"
   },
   {
    "duration": 1645,
    "start_time": "2021-07-26T16:29:07.181Z"
   },
   {
    "duration": 1643,
    "start_time": "2021-07-26T16:29:07.184Z"
   },
   {
    "duration": 1641,
    "start_time": "2021-07-26T16:29:07.187Z"
   },
   {
    "duration": 1640,
    "start_time": "2021-07-26T16:29:07.189Z"
   },
   {
    "duration": 1638,
    "start_time": "2021-07-26T16:29:07.192Z"
   },
   {
    "duration": 1637,
    "start_time": "2021-07-26T16:29:07.194Z"
   },
   {
    "duration": 1635,
    "start_time": "2021-07-26T16:29:07.197Z"
   },
   {
    "duration": 1633,
    "start_time": "2021-07-26T16:29:07.199Z"
   },
   {
    "duration": 1632,
    "start_time": "2021-07-26T16:29:07.202Z"
   },
   {
    "duration": 1631,
    "start_time": "2021-07-26T16:29:07.204Z"
   },
   {
    "duration": 1628,
    "start_time": "2021-07-26T16:29:07.207Z"
   },
   {
    "duration": 1622,
    "start_time": "2021-07-26T16:29:07.214Z"
   },
   {
    "duration": 1620,
    "start_time": "2021-07-26T16:29:07.217Z"
   },
   {
    "duration": 1619,
    "start_time": "2021-07-26T16:29:07.220Z"
   },
   {
    "duration": 1618,
    "start_time": "2021-07-26T16:29:07.222Z"
   },
   {
    "duration": 1616,
    "start_time": "2021-07-26T16:29:07.225Z"
   },
   {
    "duration": 1612,
    "start_time": "2021-07-26T16:29:07.230Z"
   },
   {
    "duration": 1611,
    "start_time": "2021-07-26T16:29:07.232Z"
   },
   {
    "duration": 1609,
    "start_time": "2021-07-26T16:29:07.235Z"
   },
   {
    "duration": 1606,
    "start_time": "2021-07-26T16:29:07.238Z"
   },
   {
    "duration": 1605,
    "start_time": "2021-07-26T16:29:07.241Z"
   },
   {
    "duration": 1604,
    "start_time": "2021-07-26T16:29:07.243Z"
   },
   {
    "duration": 1601,
    "start_time": "2021-07-26T16:29:07.246Z"
   },
   {
    "duration": 1601,
    "start_time": "2021-07-26T16:29:07.248Z"
   },
   {
    "duration": 1600,
    "start_time": "2021-07-26T16:29:07.250Z"
   },
   {
    "duration": 1597,
    "start_time": "2021-07-26T16:29:07.253Z"
   },
   {
    "duration": 1596,
    "start_time": "2021-07-26T16:29:07.255Z"
   },
   {
    "duration": 1595,
    "start_time": "2021-07-26T16:29:07.257Z"
   },
   {
    "duration": 1593,
    "start_time": "2021-07-26T16:29:07.260Z"
   },
   {
    "duration": 1592,
    "start_time": "2021-07-26T16:29:07.262Z"
   },
   {
    "duration": 1585,
    "start_time": "2021-07-26T16:29:07.270Z"
   },
   {
    "duration": 1585,
    "start_time": "2021-07-26T16:29:07.272Z"
   },
   {
    "duration": 1583,
    "start_time": "2021-07-26T16:29:07.275Z"
   },
   {
    "duration": 4,
    "start_time": "2021-07-26T16:29:54.024Z"
   },
   {
    "duration": 5,
    "start_time": "2021-07-26T16:29:54.767Z"
   },
   {
    "duration": 4,
    "start_time": "2021-07-26T16:29:55.545Z"
   },
   {
    "duration": 4,
    "start_time": "2021-07-26T16:29:56.424Z"
   },
   {
    "duration": 324,
    "start_time": "2021-07-26T16:29:58.508Z"
   },
   {
    "duration": 322,
    "start_time": "2021-07-26T16:31:29.274Z"
   },
   {
    "duration": 16,
    "start_time": "2021-07-26T16:31:29.667Z"
   },
   {
    "duration": 263,
    "start_time": "2021-07-26T16:31:46.600Z"
   },
   {
    "duration": 304,
    "start_time": "2021-07-26T16:31:58.552Z"
   },
   {
    "duration": 2,
    "start_time": "2021-07-26T16:32:09.270Z"
   },
   {
    "duration": 14,
    "start_time": "2021-07-26T16:32:09.594Z"
   },
   {
    "duration": 7,
    "start_time": "2021-07-26T16:32:10.785Z"
   },
   {
    "duration": 38,
    "start_time": "2021-07-26T16:32:11.027Z"
   },
   {
    "duration": 5,
    "start_time": "2021-07-26T16:32:12.135Z"
   },
   {
    "duration": 12,
    "start_time": "2021-07-26T16:32:12.602Z"
   },
   {
    "duration": 584,
    "start_time": "2021-07-26T16:32:13.141Z"
   },
   {
    "duration": 5,
    "start_time": "2021-07-26T16:32:13.727Z"
   },
   {
    "duration": 83,
    "start_time": "2021-07-26T16:32:13.930Z"
   },
   {
    "duration": 196,
    "start_time": "2021-07-26T16:32:16.565Z"
   },
   {
    "duration": 234,
    "start_time": "2021-07-26T16:32:17.383Z"
   },
   {
    "duration": 174,
    "start_time": "2021-07-26T16:32:18.271Z"
   },
   {
    "duration": 167,
    "start_time": "2021-07-26T16:32:19.153Z"
   },
   {
    "duration": 9,
    "start_time": "2021-07-26T16:32:20.417Z"
   },
   {
    "duration": 5,
    "start_time": "2021-07-26T16:32:21.123Z"
   },
   {
    "duration": 119,
    "start_time": "2021-07-26T16:32:26.369Z"
   },
   {
    "duration": 76,
    "start_time": "2021-07-26T16:32:27.751Z"
   },
   {
    "duration": 55,
    "start_time": "2021-07-26T16:32:28.821Z"
   },
   {
    "duration": 10,
    "start_time": "2021-07-26T16:32:30.014Z"
   },
   {
    "duration": 398,
    "start_time": "2021-07-26T16:32:30.928Z"
   },
   {
    "duration": 413,
    "start_time": "2021-07-26T16:32:31.503Z"
   },
   {
    "duration": 387,
    "start_time": "2021-07-26T16:32:32.500Z"
   },
   {
    "duration": 217,
    "start_time": "2021-07-26T16:32:32.930Z"
   },
   {
    "duration": 91,
    "start_time": "2021-07-26T16:36:48.379Z"
   },
   {
    "duration": 439,
    "start_time": "2021-07-26T16:36:54.404Z"
   },
   {
    "duration": 282,
    "start_time": "2021-07-26T16:37:23.843Z"
   },
   {
    "duration": 283,
    "start_time": "2021-07-26T16:37:28.788Z"
   },
   {
    "duration": 118,
    "start_time": "2021-07-26T16:37:43.049Z"
   },
   {
    "duration": 7,
    "start_time": "2021-07-26T16:38:34.136Z"
   },
   {
    "duration": 263,
    "start_time": "2021-07-26T16:39:02.896Z"
   },
   {
    "duration": 8,
    "start_time": "2021-07-26T16:39:11.934Z"
   },
   {
    "duration": 9,
    "start_time": "2021-07-26T16:39:17.498Z"
   },
   {
    "duration": 161,
    "start_time": "2021-07-26T16:40:40.252Z"
   },
   {
    "duration": 249,
    "start_time": "2021-07-26T17:00:48.516Z"
   },
   {
    "duration": 196,
    "start_time": "2021-07-26T17:01:05.565Z"
   },
   {
    "duration": 233,
    "start_time": "2021-07-26T17:01:18.626Z"
   },
   {
    "duration": 223,
    "start_time": "2021-07-26T17:01:26.280Z"
   },
   {
    "duration": 219,
    "start_time": "2021-07-26T17:01:37.674Z"
   },
   {
    "duration": 234,
    "start_time": "2021-07-26T17:01:50.110Z"
   },
   {
    "duration": 7,
    "start_time": "2021-07-26T17:02:37.146Z"
   },
   {
    "duration": 159,
    "start_time": "2021-07-26T17:06:02.819Z"
   },
   {
    "duration": 456,
    "start_time": "2021-07-26T17:08:52.497Z"
   },
   {
    "duration": 197,
    "start_time": "2021-07-26T17:09:44.475Z"
   },
   {
    "duration": 394,
    "start_time": "2021-07-26T17:10:07.621Z"
   },
   {
    "duration": 427,
    "start_time": "2021-07-26T17:10:57.803Z"
   },
   {
    "duration": 698,
    "start_time": "2021-07-26T17:13:26.664Z"
   },
   {
    "duration": 617,
    "start_time": "2021-07-26T17:13:44.040Z"
   },
   {
    "duration": 475,
    "start_time": "2021-07-26T17:14:04.124Z"
   },
   {
    "duration": 145,
    "start_time": "2021-07-26T17:14:50.623Z"
   },
   {
    "duration": 840,
    "start_time": "2021-07-26T17:15:47.948Z"
   },
   {
    "duration": 143,
    "start_time": "2021-07-26T17:15:56.316Z"
   },
   {
    "duration": 311,
    "start_time": "2021-07-26T17:16:19.500Z"
   },
   {
    "duration": 216,
    "start_time": "2021-07-26T17:17:35.597Z"
   },
   {
    "duration": 855,
    "start_time": "2021-07-26T17:18:20.134Z"
   },
   {
    "duration": 220,
    "start_time": "2021-07-26T17:18:47.659Z"
   },
   {
    "duration": 839,
    "start_time": "2021-07-26T17:19:05.669Z"
   },
   {
    "duration": 212,
    "start_time": "2021-07-26T17:19:13.197Z"
   },
   {
    "duration": 230,
    "start_time": "2021-07-26T17:19:21.086Z"
   },
   {
    "duration": 255,
    "start_time": "2021-07-26T17:20:08.058Z"
   },
   {
    "duration": 225,
    "start_time": "2021-07-26T17:20:20.689Z"
   },
   {
    "duration": 266,
    "start_time": "2021-07-26T17:20:28.943Z"
   },
   {
    "duration": 263,
    "start_time": "2021-07-26T17:20:39.740Z"
   },
   {
    "duration": 346,
    "start_time": "2021-07-26T17:20:46.965Z"
   },
   {
    "duration": 354,
    "start_time": "2021-07-26T17:20:58.082Z"
   },
   {
    "duration": 442,
    "start_time": "2021-07-26T17:21:02.421Z"
   },
   {
    "duration": 446,
    "start_time": "2021-07-26T17:21:10.225Z"
   },
   {
    "duration": 262,
    "start_time": "2021-07-26T17:21:17.361Z"
   },
   {
    "duration": 185,
    "start_time": "2021-07-26T17:21:55.243Z"
   },
   {
    "duration": 180,
    "start_time": "2021-07-26T17:22:34.231Z"
   },
   {
    "duration": 8,
    "start_time": "2021-07-26T17:22:45.125Z"
   },
   {
    "duration": 4,
    "start_time": "2021-07-26T17:22:45.534Z"
   },
   {
    "duration": 136,
    "start_time": "2021-07-26T17:22:46.504Z"
   },
   {
    "duration": 71,
    "start_time": "2021-07-26T17:22:48.977Z"
   },
   {
    "duration": 144,
    "start_time": "2021-07-26T17:23:52.503Z"
   },
   {
    "duration": 224,
    "start_time": "2021-07-26T17:26:49.080Z"
   },
   {
    "duration": 49,
    "start_time": "2021-07-26T17:26:50.509Z"
   },
   {
    "duration": 10,
    "start_time": "2021-07-26T17:26:51.657Z"
   },
   {
    "duration": 365,
    "start_time": "2021-07-26T17:26:52.378Z"
   },
   {
    "duration": 439,
    "start_time": "2021-07-26T17:28:33.494Z"
   },
   {
    "duration": 684,
    "start_time": "2021-07-26T17:28:53.246Z"
   },
   {
    "duration": 477,
    "start_time": "2021-07-26T17:29:03.576Z"
   },
   {
    "duration": 90,
    "start_time": "2021-07-26T17:30:03.807Z"
   },
   {
    "duration": 436,
    "start_time": "2021-07-26T17:30:11.467Z"
   },
   {
    "duration": 448,
    "start_time": "2021-07-26T17:30:48.246Z"
   },
   {
    "duration": 173,
    "start_time": "2021-07-26T17:31:24.411Z"
   },
   {
    "duration": 252,
    "start_time": "2021-07-26T17:31:51.298Z"
   },
   {
    "duration": 257,
    "start_time": "2021-07-26T17:32:02.407Z"
   },
   {
    "duration": 224,
    "start_time": "2021-07-26T17:32:14.659Z"
   },
   {
    "duration": 207,
    "start_time": "2021-07-26T17:32:19.051Z"
   },
   {
    "duration": 227,
    "start_time": "2021-07-26T17:32:23.499Z"
   },
   {
    "duration": 238,
    "start_time": "2021-07-26T17:33:19.315Z"
   },
   {
    "duration": 228,
    "start_time": "2021-07-26T17:33:45.619Z"
   },
   {
    "duration": 228,
    "start_time": "2021-07-26T17:34:04.551Z"
   },
   {
    "duration": 412,
    "start_time": "2021-07-26T21:01:24.369Z"
   },
   {
    "duration": 1273,
    "start_time": "2021-07-26T21:01:29.609Z"
   },
   {
    "duration": 44,
    "start_time": "2021-07-26T21:01:30.885Z"
   },
   {
    "duration": 51,
    "start_time": "2021-07-26T21:01:30.933Z"
   },
   {
    "duration": 427,
    "start_time": "2021-07-26T21:01:30.987Z"
   },
   {
    "duration": -5027,
    "start_time": "2021-07-26T21:01:36.445Z"
   },
   {
    "duration": -5107,
    "start_time": "2021-07-26T21:01:36.527Z"
   },
   {
    "duration": -5188,
    "start_time": "2021-07-26T21:01:36.609Z"
   },
   {
    "duration": -5199,
    "start_time": "2021-07-26T21:01:36.622Z"
   },
   {
    "duration": -5206,
    "start_time": "2021-07-26T21:01:36.630Z"
   },
   {
    "duration": -5216,
    "start_time": "2021-07-26T21:01:36.641Z"
   },
   {
    "duration": -5218,
    "start_time": "2021-07-26T21:01:36.645Z"
   },
   {
    "duration": -5265,
    "start_time": "2021-07-26T21:01:36.693Z"
   },
   {
    "duration": -5268,
    "start_time": "2021-07-26T21:01:36.697Z"
   },
   {
    "duration": -5270,
    "start_time": "2021-07-26T21:01:36.700Z"
   },
   {
    "duration": -5578,
    "start_time": "2021-07-26T21:01:37.010Z"
   },
   {
    "duration": -5585,
    "start_time": "2021-07-26T21:01:37.018Z"
   },
   {
    "duration": -5589,
    "start_time": "2021-07-26T21:01:37.023Z"
   },
   {
    "duration": -5593,
    "start_time": "2021-07-26T21:01:37.028Z"
   },
   {
    "duration": -5596,
    "start_time": "2021-07-26T21:01:37.033Z"
   },
   {
    "duration": -5600,
    "start_time": "2021-07-26T21:01:37.038Z"
   },
   {
    "duration": -5662,
    "start_time": "2021-07-26T21:01:37.101Z"
   },
   {
    "duration": -5671,
    "start_time": "2021-07-26T21:01:37.111Z"
   },
   {
    "duration": -5811,
    "start_time": "2021-07-26T21:01:37.253Z"
   },
   {
    "duration": -5812,
    "start_time": "2021-07-26T21:01:37.255Z"
   },
   {
    "duration": -5814,
    "start_time": "2021-07-26T21:01:37.258Z"
   },
   {
    "duration": -5961,
    "start_time": "2021-07-26T21:01:37.406Z"
   },
   {
    "duration": -6004,
    "start_time": "2021-07-26T21:01:37.450Z"
   },
   {
    "duration": -6005,
    "start_time": "2021-07-26T21:01:37.453Z"
   },
   {
    "duration": -6006,
    "start_time": "2021-07-26T21:01:37.455Z"
   },
   {
    "duration": -5982,
    "start_time": "2021-07-26T21:01:37.464Z"
   },
   {
    "duration": -5990,
    "start_time": "2021-07-26T21:01:37.474Z"
   },
   {
    "duration": -5993,
    "start_time": "2021-07-26T21:01:37.478Z"
   },
   {
    "duration": -6142,
    "start_time": "2021-07-26T21:01:37.628Z"
   },
   {
    "duration": -6143,
    "start_time": "2021-07-26T21:01:37.631Z"
   },
   {
    "duration": -6161,
    "start_time": "2021-07-26T21:01:37.650Z"
   },
   {
    "duration": -6163,
    "start_time": "2021-07-26T21:01:37.654Z"
   },
   {
    "duration": -6170,
    "start_time": "2021-07-26T21:01:37.662Z"
   },
   {
    "duration": -6172,
    "start_time": "2021-07-26T21:01:37.666Z"
   },
   {
    "duration": -6273,
    "start_time": "2021-07-26T21:01:37.768Z"
   },
   {
    "duration": -6326,
    "start_time": "2021-07-26T21:01:37.822Z"
   },
   {
    "duration": -6328,
    "start_time": "2021-07-26T21:01:37.826Z"
   },
   {
    "duration": -6330,
    "start_time": "2021-07-26T21:01:37.829Z"
   },
   {
    "duration": -6332,
    "start_time": "2021-07-26T21:01:37.833Z"
   },
   {
    "duration": -6339,
    "start_time": "2021-07-26T21:01:37.841Z"
   },
   {
    "duration": -6341,
    "start_time": "2021-07-26T21:01:37.845Z"
   },
   {
    "duration": -6350,
    "start_time": "2021-07-26T21:01:37.855Z"
   },
   {
    "duration": -6353,
    "start_time": "2021-07-26T21:01:37.859Z"
   },
   {
    "duration": -6404,
    "start_time": "2021-07-26T21:01:37.911Z"
   },
   {
    "duration": -6410,
    "start_time": "2021-07-26T21:01:37.919Z"
   },
   {
    "duration": -6437,
    "start_time": "2021-07-26T21:01:37.947Z"
   },
   {
    "duration": -6504,
    "start_time": "2021-07-26T21:01:38.015Z"
   },
   {
    "duration": -6516,
    "start_time": "2021-07-26T21:01:38.029Z"
   },
   {
    "duration": -6519,
    "start_time": "2021-07-26T21:01:38.033Z"
   },
   {
    "duration": -6521,
    "start_time": "2021-07-26T21:01:38.036Z"
   },
   {
    "duration": 369,
    "start_time": "2021-07-26T21:02:00.897Z"
   },
   {
    "duration": 1452,
    "start_time": "2021-07-26T21:02:19.471Z"
   },
   {
    "duration": 9,
    "start_time": "2021-07-26T21:05:44.604Z"
   },
   {
    "duration": 1441,
    "start_time": "2021-07-26T21:06:03.092Z"
   },
   {
    "duration": 89,
    "start_time": "2021-07-26T21:06:32.520Z"
   },
   {
    "duration": 8,
    "start_time": "2021-07-26T21:06:37.968Z"
   },
   {
    "duration": 45,
    "start_time": "2021-07-26T21:06:55.724Z"
   },
   {
    "duration": 159,
    "start_time": "2021-07-26T21:07:18.344Z"
   },
   {
    "duration": 46,
    "start_time": "2021-07-26T21:07:22.767Z"
   },
   {
    "duration": 25,
    "start_time": "2021-07-26T21:07:28.930Z"
   },
   {
    "duration": 10,
    "start_time": "2021-07-26T21:07:34.883Z"
   },
   {
    "duration": 40,
    "start_time": "2021-07-26T21:07:42.050Z"
   },
   {
    "duration": 40,
    "start_time": "2021-07-26T21:08:04.439Z"
   },
   {
    "duration": 9,
    "start_time": "2021-07-26T21:08:23.008Z"
   },
   {
    "duration": 363,
    "start_time": "2021-07-26T21:08:44.780Z"
   },
   {
    "duration": 10,
    "start_time": "2021-07-26T21:08:51.312Z"
   },
   {
    "duration": 43,
    "start_time": "2021-07-26T21:09:06.328Z"
   },
   {
    "duration": 44,
    "start_time": "2021-07-26T21:09:12.440Z"
   },
   {
    "duration": 92,
    "start_time": "2021-07-26T21:09:22.672Z"
   },
   {
    "duration": 46,
    "start_time": "2021-07-26T21:09:24.272Z"
   },
   {
    "duration": 20,
    "start_time": "2021-07-26T21:09:53.628Z"
   },
   {
    "duration": 992,
    "start_time": "2021-07-26T21:10:17.219Z"
   },
   {
    "duration": 41,
    "start_time": "2021-07-26T21:10:18.214Z"
   },
   {
    "duration": 43,
    "start_time": "2021-07-26T21:10:18.259Z"
   },
   {
    "duration": 110,
    "start_time": "2021-07-26T21:10:18.305Z"
   },
   {
    "duration": 90,
    "start_time": "2021-07-26T21:10:18.418Z"
   },
   {
    "duration": 22,
    "start_time": "2021-07-26T21:10:18.511Z"
   },
   {
    "duration": 8,
    "start_time": "2021-07-26T21:10:18.536Z"
   },
   {
    "duration": 37,
    "start_time": "2021-07-26T21:10:18.550Z"
   },
   {
    "duration": 65,
    "start_time": "2021-07-26T21:10:18.591Z"
   },
   {
    "duration": 32,
    "start_time": "2021-07-26T21:10:18.659Z"
   },
   {
    "duration": 88,
    "start_time": "2021-07-26T21:10:18.694Z"
   },
   {
    "duration": 60,
    "start_time": "2021-07-26T21:10:18.785Z"
   },
   {
    "duration": 34,
    "start_time": "2021-07-26T21:10:18.848Z"
   },
   {
    "duration": 10,
    "start_time": "2021-07-26T21:10:18.885Z"
   },
   {
    "duration": 14,
    "start_time": "2021-07-26T21:10:18.898Z"
   },
   {
    "duration": 15,
    "start_time": "2021-07-26T21:10:18.914Z"
   },
   {
    "duration": 12,
    "start_time": "2021-07-26T21:10:18.932Z"
   },
   {
    "duration": 37,
    "start_time": "2021-07-26T21:10:18.946Z"
   },
   {
    "duration": 25,
    "start_time": "2021-07-26T21:10:18.986Z"
   },
   {
    "duration": 9,
    "start_time": "2021-07-26T21:10:19.013Z"
   },
   {
    "duration": 96,
    "start_time": "2021-07-26T21:10:19.024Z"
   },
   {
    "duration": 7,
    "start_time": "2021-07-26T21:10:19.123Z"
   },
   {
    "duration": 45,
    "start_time": "2021-07-26T21:10:19.138Z"
   },
   {
    "duration": 1210,
    "start_time": "2021-07-26T21:10:19.187Z"
   },
   {
    "duration": 6,
    "start_time": "2021-07-26T21:10:20.400Z"
   },
   {
    "duration": 285,
    "start_time": "2021-07-26T21:10:20.408Z"
   },
   {
    "duration": 797,
    "start_time": "2021-07-26T21:10:20.695Z"
   },
   {
    "duration": 571,
    "start_time": "2021-07-26T21:10:21.494Z"
   },
   {
    "duration": 759,
    "start_time": "2021-07-26T21:10:22.068Z"
   },
   {
    "duration": 410,
    "start_time": "2021-07-26T21:10:22.882Z"
   },
   {
    "duration": 15,
    "start_time": "2021-07-26T21:10:23.296Z"
   },
   {
    "duration": 14,
    "start_time": "2021-07-26T21:10:23.314Z"
   },
   {
    "duration": 560,
    "start_time": "2021-07-26T21:10:23.330Z"
   },
   {
    "duration": -3230,
    "start_time": "2021-07-26T21:10:27.123Z"
   },
   {
    "duration": -3232,
    "start_time": "2021-07-26T21:10:27.127Z"
   },
   {
    "duration": -3265,
    "start_time": "2021-07-26T21:10:27.162Z"
   },
   {
    "duration": -3310,
    "start_time": "2021-07-26T21:10:27.210Z"
   },
   {
    "duration": -3328,
    "start_time": "2021-07-26T21:10:27.230Z"
   },
   {
    "duration": -3372,
    "start_time": "2021-07-26T21:10:27.276Z"
   },
   {
    "duration": -3373,
    "start_time": "2021-07-26T21:10:27.279Z"
   },
   {
    "duration": -3373,
    "start_time": "2021-07-26T21:10:27.282Z"
   },
   {
    "duration": -3385,
    "start_time": "2021-07-26T21:10:27.296Z"
   },
   {
    "duration": -3386,
    "start_time": "2021-07-26T21:10:27.299Z"
   },
   {
    "duration": -3403,
    "start_time": "2021-07-26T21:10:27.319Z"
   },
   {
    "duration": -3403,
    "start_time": "2021-07-26T21:10:27.321Z"
   },
   {
    "duration": -3447,
    "start_time": "2021-07-26T21:10:27.368Z"
   },
   {
    "duration": -3458,
    "start_time": "2021-07-26T21:10:27.381Z"
   },
   {
    "duration": -3463,
    "start_time": "2021-07-26T21:10:27.388Z"
   },
   {
    "duration": -3484,
    "start_time": "2021-07-26T21:10:27.411Z"
   },
   {
    "duration": -3489,
    "start_time": "2021-07-26T21:10:27.418Z"
   },
   {
    "duration": -3607,
    "start_time": "2021-07-26T21:10:27.590Z"
   },
   {
    "duration": -3688,
    "start_time": "2021-07-26T21:10:27.673Z"
   },
   {
    "duration": 39,
    "start_time": "2021-07-26T21:10:40.931Z"
   },
   {
    "duration": 70,
    "start_time": "2021-07-26T21:11:34.206Z"
   },
   {
    "duration": 1022,
    "start_time": "2021-07-26T21:12:19.778Z"
   },
   {
    "duration": 42,
    "start_time": "2021-07-26T21:12:20.803Z"
   },
   {
    "duration": 46,
    "start_time": "2021-07-26T21:12:20.848Z"
   },
   {
    "duration": 104,
    "start_time": "2021-07-26T21:12:20.896Z"
   },
   {
    "duration": 86,
    "start_time": "2021-07-26T21:12:21.002Z"
   },
   {
    "duration": 21,
    "start_time": "2021-07-26T21:12:21.090Z"
   },
   {
    "duration": 72,
    "start_time": "2021-07-26T21:12:21.113Z"
   },
   {
    "duration": 130,
    "start_time": "2021-07-26T21:12:21.189Z"
   },
   {
    "duration": -3269,
    "start_time": "2021-07-26T21:12:24.593Z"
   },
   {
    "duration": -3272,
    "start_time": "2021-07-26T21:12:24.597Z"
   },
   {
    "duration": -3276,
    "start_time": "2021-07-26T21:12:24.602Z"
   },
   {
    "duration": -3293,
    "start_time": "2021-07-26T21:12:24.620Z"
   },
   {
    "duration": -3295,
    "start_time": "2021-07-26T21:12:24.624Z"
   },
   {
    "duration": -3297,
    "start_time": "2021-07-26T21:12:24.627Z"
   },
   {
    "duration": -3299,
    "start_time": "2021-07-26T21:12:24.630Z"
   },
   {
    "duration": -3299,
    "start_time": "2021-07-26T21:12:24.632Z"
   },
   {
    "duration": -3301,
    "start_time": "2021-07-26T21:12:24.635Z"
   },
   {
    "duration": -3304,
    "start_time": "2021-07-26T21:12:24.639Z"
   },
   {
    "duration": -3307,
    "start_time": "2021-07-26T21:12:24.643Z"
   },
   {
    "duration": -3308,
    "start_time": "2021-07-26T21:12:24.646Z"
   },
   {
    "duration": -3310,
    "start_time": "2021-07-26T21:12:24.649Z"
   },
   {
    "duration": -3313,
    "start_time": "2021-07-26T21:12:24.653Z"
   },
   {
    "duration": -3317,
    "start_time": "2021-07-26T21:12:24.658Z"
   },
   {
    "duration": -3319,
    "start_time": "2021-07-26T21:12:24.662Z"
   },
   {
    "duration": -3321,
    "start_time": "2021-07-26T21:12:24.665Z"
   },
   {
    "duration": -3324,
    "start_time": "2021-07-26T21:12:24.669Z"
   },
   {
    "duration": -3326,
    "start_time": "2021-07-26T21:12:24.672Z"
   },
   {
    "duration": -3327,
    "start_time": "2021-07-26T21:12:24.675Z"
   },
   {
    "duration": -3329,
    "start_time": "2021-07-26T21:12:24.678Z"
   },
   {
    "duration": -3330,
    "start_time": "2021-07-26T21:12:24.681Z"
   },
   {
    "duration": -3331,
    "start_time": "2021-07-26T21:12:24.683Z"
   },
   {
    "duration": -3332,
    "start_time": "2021-07-26T21:12:24.686Z"
   },
   {
    "duration": -3339,
    "start_time": "2021-07-26T21:12:24.695Z"
   },
   {
    "duration": -3341,
    "start_time": "2021-07-26T21:12:24.698Z"
   },
   {
    "duration": -3531,
    "start_time": "2021-07-26T21:12:24.889Z"
   },
   {
    "duration": -3574,
    "start_time": "2021-07-26T21:12:24.934Z"
   },
   {
    "duration": -3576,
    "start_time": "2021-07-26T21:12:24.937Z"
   },
   {
    "duration": -3558,
    "start_time": "2021-07-26T21:12:24.940Z"
   },
   {
    "duration": -3560,
    "start_time": "2021-07-26T21:12:24.943Z"
   },
   {
    "duration": -3560,
    "start_time": "2021-07-26T21:12:24.945Z"
   },
   {
    "duration": -3563,
    "start_time": "2021-07-26T21:12:24.949Z"
   },
   {
    "duration": -3564,
    "start_time": "2021-07-26T21:12:24.952Z"
   },
   {
    "duration": -3566,
    "start_time": "2021-07-26T21:12:24.955Z"
   },
   {
    "duration": -3567,
    "start_time": "2021-07-26T21:12:24.958Z"
   },
   {
    "duration": -3568,
    "start_time": "2021-07-26T21:12:24.960Z"
   },
   {
    "duration": -3569,
    "start_time": "2021-07-26T21:12:24.963Z"
   },
   {
    "duration": -3570,
    "start_time": "2021-07-26T21:12:24.965Z"
   },
   {
    "duration": -3571,
    "start_time": "2021-07-26T21:12:24.968Z"
   },
   {
    "duration": -3573,
    "start_time": "2021-07-26T21:12:24.971Z"
   },
   {
    "duration": -3573,
    "start_time": "2021-07-26T21:12:24.973Z"
   },
   {
    "duration": -3575,
    "start_time": "2021-07-26T21:12:24.976Z"
   },
   {
    "duration": -3577,
    "start_time": "2021-07-26T21:12:24.979Z"
   },
   {
    "duration": -3577,
    "start_time": "2021-07-26T21:12:24.981Z"
   },
   {
    "duration": -3578,
    "start_time": "2021-07-26T21:12:24.984Z"
   },
   {
    "duration": 7,
    "start_time": "2021-07-26T21:16:06.254Z"
   },
   {
    "duration": 130,
    "start_time": "2021-07-26T21:18:02.239Z"
   },
   {
    "duration": 128,
    "start_time": "2021-07-26T21:18:46.470Z"
   },
   {
    "duration": 130,
    "start_time": "2021-07-26T21:19:49.302Z"
   },
   {
    "duration": 1047,
    "start_time": "2021-07-26T21:20:08.277Z"
   },
   {
    "duration": 57,
    "start_time": "2021-07-26T21:20:09.327Z"
   },
   {
    "duration": 26,
    "start_time": "2021-07-26T21:20:09.387Z"
   },
   {
    "duration": 109,
    "start_time": "2021-07-26T21:20:09.416Z"
   },
   {
    "duration": 93,
    "start_time": "2021-07-26T21:20:09.527Z"
   },
   {
    "duration": 20,
    "start_time": "2021-07-26T21:20:09.623Z"
   },
   {
    "duration": 6,
    "start_time": "2021-07-26T21:20:09.645Z"
   },
   {
    "duration": 36,
    "start_time": "2021-07-26T21:20:09.655Z"
   },
   {
    "duration": 66,
    "start_time": "2021-07-26T21:20:09.694Z"
   },
   {
    "duration": 26,
    "start_time": "2021-07-26T21:20:09.763Z"
   },
   {
    "duration": 62,
    "start_time": "2021-07-26T21:20:09.791Z"
   },
   {
    "duration": 68,
    "start_time": "2021-07-26T21:20:09.856Z"
   },
   {
    "duration": 20,
    "start_time": "2021-07-26T21:20:09.927Z"
   },
   {
    "duration": 8,
    "start_time": "2021-07-26T21:20:09.950Z"
   },
   {
    "duration": 34,
    "start_time": "2021-07-26T21:20:09.960Z"
   },
   {
    "duration": 17,
    "start_time": "2021-07-26T21:20:09.997Z"
   },
   {
    "duration": 11,
    "start_time": "2021-07-26T21:20:10.016Z"
   },
   {
    "duration": 7,
    "start_time": "2021-07-26T21:20:10.030Z"
   },
   {
    "duration": 55,
    "start_time": "2021-07-26T21:20:10.039Z"
   },
   {
    "duration": 10,
    "start_time": "2021-07-26T21:20:10.096Z"
   },
   {
    "duration": 85,
    "start_time": "2021-07-26T21:20:10.108Z"
   },
   {
    "duration": 7,
    "start_time": "2021-07-26T21:20:10.196Z"
   },
   {
    "duration": 18,
    "start_time": "2021-07-26T21:20:10.210Z"
   },
   {
    "duration": 1000,
    "start_time": "2021-07-26T21:20:10.232Z"
   },
   {
    "duration": 7,
    "start_time": "2021-07-26T21:20:11.234Z"
   },
   {
    "duration": 248,
    "start_time": "2021-07-26T21:20:11.244Z"
   },
   {
    "duration": 435,
    "start_time": "2021-07-26T21:20:11.495Z"
   },
   {
    "duration": 477,
    "start_time": "2021-07-26T21:20:11.933Z"
   },
   {
    "duration": 403,
    "start_time": "2021-07-26T21:20:12.413Z"
   },
   {
    "duration": 466,
    "start_time": "2021-07-26T21:20:12.819Z"
   },
   {
    "duration": 15,
    "start_time": "2021-07-26T21:20:13.287Z"
   },
   {
    "duration": 11,
    "start_time": "2021-07-26T21:20:13.304Z"
   },
   {
    "duration": 802,
    "start_time": "2021-07-26T21:20:13.317Z"
   },
   {
    "duration": -3164,
    "start_time": "2021-07-26T21:20:17.285Z"
   },
   {
    "duration": -3173,
    "start_time": "2021-07-26T21:20:17.295Z"
   },
   {
    "duration": -3181,
    "start_time": "2021-07-26T21:20:17.305Z"
   },
   {
    "duration": -3186,
    "start_time": "2021-07-26T21:20:17.311Z"
   },
   {
    "duration": -3189,
    "start_time": "2021-07-26T21:20:17.315Z"
   },
   {
    "duration": -3225,
    "start_time": "2021-07-26T21:20:17.353Z"
   },
   {
    "duration": -3230,
    "start_time": "2021-07-26T21:20:17.359Z"
   },
   {
    "duration": -3234,
    "start_time": "2021-07-26T21:20:17.364Z"
   },
   {
    "duration": -3236,
    "start_time": "2021-07-26T21:20:17.367Z"
   },
   {
    "duration": -3238,
    "start_time": "2021-07-26T21:20:17.371Z"
   },
   {
    "duration": -3239,
    "start_time": "2021-07-26T21:20:17.373Z"
   },
   {
    "duration": -3242,
    "start_time": "2021-07-26T21:20:17.377Z"
   },
   {
    "duration": -3244,
    "start_time": "2021-07-26T21:20:17.380Z"
   },
   {
    "duration": -3263,
    "start_time": "2021-07-26T21:20:17.401Z"
   },
   {
    "duration": -3272,
    "start_time": "2021-07-26T21:20:17.411Z"
   },
   {
    "duration": -3295,
    "start_time": "2021-07-26T21:20:17.436Z"
   },
   {
    "duration": -3297,
    "start_time": "2021-07-26T21:20:17.439Z"
   },
   {
    "duration": -3300,
    "start_time": "2021-07-26T21:20:17.443Z"
   },
   {
    "duration": -3302,
    "start_time": "2021-07-26T21:20:17.446Z"
   },
   {
    "duration": 116,
    "start_time": "2021-07-26T21:21:13.597Z"
   },
   {
    "duration": 1508,
    "start_time": "2021-07-26T21:21:15.897Z"
   },
   {
    "duration": 16,
    "start_time": "2021-07-26T21:21:17.424Z"
   },
   {
    "duration": 1012,
    "start_time": "2021-07-26T21:21:49.331Z"
   },
   {
    "duration": 58,
    "start_time": "2021-07-26T21:21:50.347Z"
   },
   {
    "duration": 30,
    "start_time": "2021-07-26T21:21:50.409Z"
   },
   {
    "duration": 123,
    "start_time": "2021-07-26T21:21:50.443Z"
   },
   {
    "duration": 92,
    "start_time": "2021-07-26T21:21:50.569Z"
   },
   {
    "duration": 36,
    "start_time": "2021-07-26T21:21:50.664Z"
   },
   {
    "duration": 7,
    "start_time": "2021-07-26T21:21:50.703Z"
   },
   {
    "duration": 15,
    "start_time": "2021-07-26T21:21:50.716Z"
   },
   {
    "duration": 99,
    "start_time": "2021-07-26T21:21:50.735Z"
   },
   {
    "duration": 10,
    "start_time": "2021-07-26T21:21:50.837Z"
   },
   {
    "duration": 80,
    "start_time": "2021-07-26T21:21:50.850Z"
   },
   {
    "duration": 80,
    "start_time": "2021-07-26T21:21:50.933Z"
   },
   {
    "duration": 25,
    "start_time": "2021-07-26T21:21:51.016Z"
   },
   {
    "duration": 9,
    "start_time": "2021-07-26T21:21:51.044Z"
   },
   {
    "duration": 33,
    "start_time": "2021-07-26T21:21:51.056Z"
   },
   {
    "duration": 15,
    "start_time": "2021-07-26T21:21:51.092Z"
   },
   {
    "duration": 12,
    "start_time": "2021-07-26T21:21:51.109Z"
   },
   {
    "duration": 11,
    "start_time": "2021-07-26T21:21:51.124Z"
   },
   {
    "duration": 26,
    "start_time": "2021-07-26T21:21:51.137Z"
   },
   {
    "duration": 8,
    "start_time": "2021-07-26T21:21:51.183Z"
   },
   {
    "duration": 59,
    "start_time": "2021-07-26T21:21:51.193Z"
   },
   {
    "duration": 31,
    "start_time": "2021-07-26T21:21:51.254Z"
   },
   {
    "duration": 17,
    "start_time": "2021-07-26T21:21:51.291Z"
   },
   {
    "duration": 953,
    "start_time": "2021-07-26T21:21:51.311Z"
   },
   {
    "duration": 6,
    "start_time": "2021-07-26T21:21:52.267Z"
   },
   {
    "duration": 135,
    "start_time": "2021-07-26T21:21:52.283Z"
   },
   {
    "duration": 445,
    "start_time": "2021-07-26T21:21:52.421Z"
   },
   {
    "duration": 488,
    "start_time": "2021-07-26T21:21:52.869Z"
   },
   {
    "duration": 352,
    "start_time": "2021-07-26T21:21:53.360Z"
   },
   {
    "duration": 336,
    "start_time": "2021-07-26T21:21:53.714Z"
   },
   {
    "duration": 13,
    "start_time": "2021-07-26T21:21:54.053Z"
   },
   {
    "duration": 12,
    "start_time": "2021-07-26T21:21:54.083Z"
   },
   {
    "duration": 451,
    "start_time": "2021-07-26T21:21:54.097Z"
   },
   {
    "duration": -3232,
    "start_time": "2021-07-26T21:21:57.783Z"
   },
   {
    "duration": -3236,
    "start_time": "2021-07-26T21:21:57.788Z"
   },
   {
    "duration": -3237,
    "start_time": "2021-07-26T21:21:57.791Z"
   },
   {
    "duration": -3240,
    "start_time": "2021-07-26T21:21:57.795Z"
   },
   {
    "duration": -3241,
    "start_time": "2021-07-26T21:21:57.798Z"
   },
   {
    "duration": -3244,
    "start_time": "2021-07-26T21:21:57.802Z"
   },
   {
    "duration": -3245,
    "start_time": "2021-07-26T21:21:57.805Z"
   },
   {
    "duration": -3247,
    "start_time": "2021-07-26T21:21:57.808Z"
   },
   {
    "duration": -3249,
    "start_time": "2021-07-26T21:21:57.811Z"
   },
   {
    "duration": -3250,
    "start_time": "2021-07-26T21:21:57.814Z"
   },
   {
    "duration": -3252,
    "start_time": "2021-07-26T21:21:57.817Z"
   },
   {
    "duration": -3290,
    "start_time": "2021-07-26T21:21:57.857Z"
   },
   {
    "duration": -3296,
    "start_time": "2021-07-26T21:21:57.864Z"
   },
   {
    "duration": -3309,
    "start_time": "2021-07-26T21:21:57.878Z"
   },
   {
    "duration": -3312,
    "start_time": "2021-07-26T21:21:57.882Z"
   },
   {
    "duration": -3314,
    "start_time": "2021-07-26T21:21:57.886Z"
   },
   {
    "duration": -3316,
    "start_time": "2021-07-26T21:21:57.889Z"
   },
   {
    "duration": -3319,
    "start_time": "2021-07-26T21:21:57.893Z"
   },
   {
    "duration": -3320,
    "start_time": "2021-07-26T21:21:57.896Z"
   },
   {
    "duration": 17,
    "start_time": "2021-07-26T21:22:19.784Z"
   },
   {
    "duration": 1099,
    "start_time": "2021-07-26T21:22:21.317Z"
   },
   {
    "duration": 1163,
    "start_time": "2021-07-26T21:22:22.419Z"
   },
   {
    "duration": 893,
    "start_time": "2021-07-26T21:22:23.585Z"
   },
   {
    "duration": 309,
    "start_time": "2021-07-26T21:22:24.484Z"
   },
   {
    "duration": 386,
    "start_time": "2021-07-26T21:22:24.796Z"
   },
   {
    "duration": 394,
    "start_time": "2021-07-26T21:22:26.655Z"
   },
   {
    "duration": 462,
    "start_time": "2021-07-26T21:22:27.052Z"
   },
   {
    "duration": 29,
    "start_time": "2021-07-26T21:22:27.849Z"
   },
   {
    "duration": 404,
    "start_time": "2021-07-26T21:22:28.517Z"
   },
   {
    "duration": 22,
    "start_time": "2021-07-26T21:22:29.473Z"
   },
   {
    "duration": 464,
    "start_time": "2021-07-26T21:22:30.205Z"
   },
   {
    "duration": 318,
    "start_time": "2021-07-26T21:22:30.671Z"
   },
   {
    "duration": 470,
    "start_time": "2021-07-26T21:22:30.992Z"
   },
   {
    "duration": 380,
    "start_time": "2021-07-26T21:22:31.465Z"
   },
   {
    "duration": 397,
    "start_time": "2021-07-26T21:22:31.848Z"
   },
   {
    "duration": 392,
    "start_time": "2021-07-26T21:22:32.248Z"
   },
   {
    "duration": 351,
    "start_time": "2021-07-26T21:22:41.250Z"
   },
   {
    "duration": 1486,
    "start_time": "2021-07-26T21:22:43.673Z"
   },
   {
    "duration": 1384,
    "start_time": "2021-07-26T21:23:35.477Z"
   },
   {
    "duration": 422,
    "start_time": "2021-07-26T21:23:47.133Z"
   },
   {
    "duration": 3,
    "start_time": "2021-07-26T21:24:08.960Z"
   },
   {
    "duration": 18,
    "start_time": "2021-07-26T21:26:57.140Z"
   },
   {
    "duration": 1075,
    "start_time": "2021-07-26T21:27:05.349Z"
   },
   {
    "duration": 58,
    "start_time": "2021-07-26T21:27:06.427Z"
   },
   {
    "duration": 26,
    "start_time": "2021-07-26T21:27:06.488Z"
   },
   {
    "duration": 15,
    "start_time": "2021-07-26T21:27:06.517Z"
   },
   {
    "duration": 120,
    "start_time": "2021-07-26T21:27:06.535Z"
   },
   {
    "duration": 80,
    "start_time": "2021-07-26T21:27:06.657Z"
   },
   {
    "duration": 24,
    "start_time": "2021-07-26T21:27:06.739Z"
   },
   {
    "duration": 19,
    "start_time": "2021-07-26T21:27:06.767Z"
   },
   {
    "duration": 11,
    "start_time": "2021-07-26T21:27:06.789Z"
   },
   {
    "duration": 92,
    "start_time": "2021-07-26T21:27:06.802Z"
   },
   {
    "duration": 11,
    "start_time": "2021-07-26T21:27:06.897Z"
   },
   {
    "duration": 79,
    "start_time": "2021-07-26T21:27:06.911Z"
   },
   {
    "duration": 57,
    "start_time": "2021-07-26T21:27:06.992Z"
   },
   {
    "duration": 42,
    "start_time": "2021-07-26T21:27:07.051Z"
   },
   {
    "duration": 11,
    "start_time": "2021-07-26T21:27:07.096Z"
   },
   {
    "duration": 15,
    "start_time": "2021-07-26T21:27:07.109Z"
   },
   {
    "duration": 17,
    "start_time": "2021-07-26T21:27:07.127Z"
   },
   {
    "duration": 44,
    "start_time": "2021-07-26T21:27:07.146Z"
   },
   {
    "duration": 7,
    "start_time": "2021-07-26T21:27:07.192Z"
   },
   {
    "duration": 24,
    "start_time": "2021-07-26T21:27:07.202Z"
   },
   {
    "duration": 8,
    "start_time": "2021-07-26T21:27:07.229Z"
   },
   {
    "duration": 89,
    "start_time": "2021-07-26T21:27:07.240Z"
   },
   {
    "duration": 6,
    "start_time": "2021-07-26T21:27:07.334Z"
   },
   {
    "duration": 40,
    "start_time": "2021-07-26T21:27:07.343Z"
   },
   {
    "duration": 910,
    "start_time": "2021-07-26T21:27:07.385Z"
   },
   {
    "duration": 7,
    "start_time": "2021-07-26T21:27:08.298Z"
   },
   {
    "duration": 140,
    "start_time": "2021-07-26T21:27:08.307Z"
   },
   {
    "duration": 429,
    "start_time": "2021-07-26T21:27:08.449Z"
   },
   {
    "duration": 478,
    "start_time": "2021-07-26T21:27:08.883Z"
   },
   {
    "duration": 350,
    "start_time": "2021-07-26T21:27:09.363Z"
   },
   {
    "duration": 326,
    "start_time": "2021-07-26T21:27:09.715Z"
   },
   {
    "duration": 13,
    "start_time": "2021-07-26T21:27:10.043Z"
   },
   {
    "duration": 25,
    "start_time": "2021-07-26T21:27:10.059Z"
   },
   {
    "duration": 440,
    "start_time": "2021-07-26T21:27:10.086Z"
   },
   {
    "duration": -8001,
    "start_time": "2021-07-26T21:27:18.530Z"
   },
   {
    "duration": -8007,
    "start_time": "2021-07-26T21:27:18.537Z"
   },
   {
    "duration": -8057,
    "start_time": "2021-07-26T21:27:18.588Z"
   },
   {
    "duration": -8059,
    "start_time": "2021-07-26T21:27:18.592Z"
   },
   {
    "duration": -8109,
    "start_time": "2021-07-26T21:27:18.643Z"
   },
   {
    "duration": -8110,
    "start_time": "2021-07-26T21:27:18.646Z"
   },
   {
    "duration": -8137,
    "start_time": "2021-07-26T21:27:18.675Z"
   },
   {
    "duration": -8141,
    "start_time": "2021-07-26T21:27:18.680Z"
   },
   {
    "duration": -8302,
    "start_time": "2021-07-26T21:27:18.842Z"
   },
   {
    "duration": -8307,
    "start_time": "2021-07-26T21:27:18.848Z"
   },
   {
    "duration": -8312,
    "start_time": "2021-07-26T21:27:18.855Z"
   },
   {
    "duration": -8317,
    "start_time": "2021-07-26T21:27:18.861Z"
   },
   {
    "duration": -8321,
    "start_time": "2021-07-26T21:27:18.867Z"
   },
   {
    "duration": -8325,
    "start_time": "2021-07-26T21:27:18.872Z"
   },
   {
    "duration": -8379,
    "start_time": "2021-07-26T21:27:18.928Z"
   },
   {
    "duration": -8397,
    "start_time": "2021-07-26T21:27:18.947Z"
   },
   {
    "duration": -8433,
    "start_time": "2021-07-26T21:27:18.984Z"
   },
   {
    "duration": -8443,
    "start_time": "2021-07-26T21:27:18.996Z"
   },
   {
    "duration": -8445,
    "start_time": "2021-07-26T21:27:18.999Z"
   },
   {
    "duration": 11,
    "start_time": "2021-07-26T21:28:30.637Z"
   },
   {
    "duration": 122,
    "start_time": "2021-07-26T21:28:32.937Z"
   },
   {
    "duration": 1006,
    "start_time": "2021-07-26T21:28:43.134Z"
   },
   {
    "duration": 51,
    "start_time": "2021-07-26T21:28:44.143Z"
   },
   {
    "duration": 27,
    "start_time": "2021-07-26T21:28:44.197Z"
   },
   {
    "duration": 16,
    "start_time": "2021-07-26T21:28:44.227Z"
   },
   {
    "duration": 116,
    "start_time": "2021-07-26T21:28:44.245Z"
   },
   {
    "duration": 81,
    "start_time": "2021-07-26T21:28:44.364Z"
   },
   {
    "duration": 45,
    "start_time": "2021-07-26T21:28:44.448Z"
   },
   {
    "duration": 6,
    "start_time": "2021-07-26T21:28:44.499Z"
   },
   {
    "duration": 23,
    "start_time": "2021-07-26T21:28:44.508Z"
   },
   {
    "duration": 69,
    "start_time": "2021-07-26T21:28:44.534Z"
   },
   {
    "duration": 9,
    "start_time": "2021-07-26T21:28:44.606Z"
   },
   {
    "duration": 71,
    "start_time": "2021-07-26T21:28:44.617Z"
   },
   {
    "duration": 51,
    "start_time": "2021-07-26T21:28:44.691Z"
   },
   {
    "duration": 10,
    "start_time": "2021-07-26T21:28:44.745Z"
   },
   {
    "duration": 40,
    "start_time": "2021-07-26T21:28:44.757Z"
   },
   {
    "duration": 21,
    "start_time": "2021-07-26T21:28:44.800Z"
   },
   {
    "duration": 16,
    "start_time": "2021-07-26T21:28:44.823Z"
   },
   {
    "duration": 17,
    "start_time": "2021-07-26T21:28:44.842Z"
   },
   {
    "duration": 24,
    "start_time": "2021-07-26T21:28:44.861Z"
   },
   {
    "duration": 13,
    "start_time": "2021-07-26T21:28:44.887Z"
   },
   {
    "duration": 30,
    "start_time": "2021-07-26T21:28:44.902Z"
   },
   {
    "duration": 9,
    "start_time": "2021-07-26T21:28:44.935Z"
   },
   {
    "duration": 82,
    "start_time": "2021-07-26T21:28:44.951Z"
   },
   {
    "duration": 7,
    "start_time": "2021-07-26T21:28:45.037Z"
   },
   {
    "duration": 43,
    "start_time": "2021-07-26T21:28:45.046Z"
   },
   {
    "duration": 954,
    "start_time": "2021-07-26T21:28:45.092Z"
   },
   {
    "duration": 8,
    "start_time": "2021-07-26T21:28:46.049Z"
   },
   {
    "duration": 145,
    "start_time": "2021-07-26T21:28:46.060Z"
   },
   {
    "duration": 459,
    "start_time": "2021-07-26T21:28:46.208Z"
   },
   {
    "duration": 851,
    "start_time": "2021-07-26T21:28:46.670Z"
   },
   {
    "duration": 356,
    "start_time": "2021-07-26T21:28:47.523Z"
   },
   {
    "duration": 335,
    "start_time": "2021-07-26T21:28:47.883Z"
   },
   {
    "duration": 14,
    "start_time": "2021-07-26T21:28:48.221Z"
   },
   {
    "duration": 15,
    "start_time": "2021-07-26T21:28:48.238Z"
   },
   {
    "duration": 489,
    "start_time": "2021-07-26T21:28:48.256Z"
   },
   {
    "duration": -3978,
    "start_time": "2021-07-26T21:28:52.726Z"
   },
   {
    "duration": -3982,
    "start_time": "2021-07-26T21:28:52.731Z"
   },
   {
    "duration": -3985,
    "start_time": "2021-07-26T21:28:52.736Z"
   },
   {
    "duration": -3988,
    "start_time": "2021-07-26T21:28:52.740Z"
   },
   {
    "duration": -3990,
    "start_time": "2021-07-26T21:28:52.744Z"
   },
   {
    "duration": -3992,
    "start_time": "2021-07-26T21:28:52.747Z"
   },
   {
    "duration": -3994,
    "start_time": "2021-07-26T21:28:52.751Z"
   },
   {
    "duration": -3996,
    "start_time": "2021-07-26T21:28:52.754Z"
   },
   {
    "duration": -3997,
    "start_time": "2021-07-26T21:28:52.757Z"
   },
   {
    "duration": -3999,
    "start_time": "2021-07-26T21:28:52.760Z"
   },
   {
    "duration": -4000,
    "start_time": "2021-07-26T21:28:52.763Z"
   },
   {
    "duration": -4002,
    "start_time": "2021-07-26T21:28:52.766Z"
   },
   {
    "duration": -4004,
    "start_time": "2021-07-26T21:28:52.770Z"
   },
   {
    "duration": -4005,
    "start_time": "2021-07-26T21:28:52.772Z"
   },
   {
    "duration": -4007,
    "start_time": "2021-07-26T21:28:52.776Z"
   },
   {
    "duration": -4008,
    "start_time": "2021-07-26T21:28:52.778Z"
   },
   {
    "duration": -4009,
    "start_time": "2021-07-26T21:28:52.781Z"
   },
   {
    "duration": -4010,
    "start_time": "2021-07-26T21:28:52.784Z"
   },
   {
    "duration": -4011,
    "start_time": "2021-07-26T21:28:52.786Z"
   },
   {
    "duration": 1914,
    "start_time": "2021-07-26T21:30:18.541Z"
   },
   {
    "duration": 15,
    "start_time": "2021-07-26T21:30:24.365Z"
   },
   {
    "duration": 250,
    "start_time": "2021-07-26T21:30:47.038Z"
   },
   {
    "duration": 1002,
    "start_time": "2021-07-26T21:30:53.631Z"
   },
   {
    "duration": 53,
    "start_time": "2021-07-26T21:30:54.636Z"
   },
   {
    "duration": 33,
    "start_time": "2021-07-26T21:30:54.692Z"
   },
   {
    "duration": 20,
    "start_time": "2021-07-26T21:30:54.728Z"
   },
   {
    "duration": 104,
    "start_time": "2021-07-26T21:30:54.751Z"
   },
   {
    "duration": 94,
    "start_time": "2021-07-26T21:30:54.858Z"
   },
   {
    "duration": 30,
    "start_time": "2021-07-26T21:30:54.954Z"
   },
   {
    "duration": 6,
    "start_time": "2021-07-26T21:30:54.988Z"
   },
   {
    "duration": 18,
    "start_time": "2021-07-26T21:30:54.997Z"
   },
   {
    "duration": 91,
    "start_time": "2021-07-26T21:30:55.018Z"
   },
   {
    "duration": 11,
    "start_time": "2021-07-26T21:30:55.112Z"
   },
   {
    "duration": 87,
    "start_time": "2021-07-26T21:30:55.126Z"
   },
   {
    "duration": 55,
    "start_time": "2021-07-26T21:30:55.215Z"
   },
   {
    "duration": 11,
    "start_time": "2021-07-26T21:30:55.282Z"
   },
   {
    "duration": 29,
    "start_time": "2021-07-26T21:30:55.296Z"
   },
   {
    "duration": 10,
    "start_time": "2021-07-26T21:30:55.327Z"
   },
   {
    "duration": 31,
    "start_time": "2021-07-26T21:30:55.339Z"
   },
   {
    "duration": 16,
    "start_time": "2021-07-26T21:30:55.383Z"
   },
   {
    "duration": 13,
    "start_time": "2021-07-26T21:30:55.401Z"
   },
   {
    "duration": 19,
    "start_time": "2021-07-26T21:30:55.417Z"
   },
   {
    "duration": 25,
    "start_time": "2021-07-26T21:30:55.439Z"
   },
   {
    "duration": 9,
    "start_time": "2021-07-26T21:30:55.483Z"
   },
   {
    "duration": 58,
    "start_time": "2021-07-26T21:30:55.497Z"
   },
   {
    "duration": 27,
    "start_time": "2021-07-26T21:30:55.559Z"
   },
   {
    "duration": 25,
    "start_time": "2021-07-26T21:30:55.588Z"
   },
   {
    "duration": 932,
    "start_time": "2021-07-26T21:30:55.615Z"
   },
   {
    "duration": 7,
    "start_time": "2021-07-26T21:30:56.550Z"
   },
   {
    "duration": 150,
    "start_time": "2021-07-26T21:30:56.559Z"
   },
   {
    "duration": 443,
    "start_time": "2021-07-26T21:30:56.711Z"
   },
   {
    "duration": 486,
    "start_time": "2021-07-26T21:30:57.156Z"
   },
   {
    "duration": 644,
    "start_time": "2021-07-26T21:30:57.682Z"
   },
   {
    "duration": 382,
    "start_time": "2021-07-26T21:30:58.328Z"
   },
   {
    "duration": 12,
    "start_time": "2021-07-26T21:30:58.712Z"
   },
   {
    "duration": 8,
    "start_time": "2021-07-26T21:30:58.726Z"
   },
   {
    "duration": 287,
    "start_time": "2021-07-26T21:30:58.737Z"
   },
   {
    "duration": 143,
    "start_time": "2021-07-26T21:30:59.027Z"
   },
   {
    "duration": 91,
    "start_time": "2021-07-26T21:30:59.173Z"
   },
   {
    "duration": 28,
    "start_time": "2021-07-26T21:30:59.266Z"
   },
   {
    "duration": 796,
    "start_time": "2021-07-26T21:30:59.297Z"
   },
   {
    "duration": 775,
    "start_time": "2021-07-26T21:31:00.097Z"
   },
   {
    "duration": 825,
    "start_time": "2021-07-26T21:31:00.875Z"
   },
   {
    "duration": 339,
    "start_time": "2021-07-26T21:31:01.702Z"
   },
   {
    "duration": 373,
    "start_time": "2021-07-26T21:31:02.044Z"
   },
   {
    "duration": 440,
    "start_time": "2021-07-26T21:31:02.419Z"
   },
   {
    "duration": 372,
    "start_time": "2021-07-26T21:31:02.861Z"
   },
   {
    "duration": 24,
    "start_time": "2021-07-26T21:31:03.236Z"
   },
   {
    "duration": 390,
    "start_time": "2021-07-26T21:31:03.262Z"
   },
   {
    "duration": 32,
    "start_time": "2021-07-26T21:31:03.655Z"
   },
   {
    "duration": 406,
    "start_time": "2021-07-26T21:31:03.690Z"
   },
   {
    "duration": 318,
    "start_time": "2021-07-26T21:31:04.098Z"
   },
   {
    "duration": 433,
    "start_time": "2021-07-26T21:31:04.418Z"
   },
   {
    "duration": 377,
    "start_time": "2021-07-26T21:31:04.853Z"
   },
   {
    "duration": 369,
    "start_time": "2021-07-26T21:31:05.232Z"
   },
   {
    "duration": 404,
    "start_time": "2021-07-26T21:31:05.604Z"
   },
   {
    "duration": 123,
    "start_time": "2021-07-26T21:32:13.357Z"
   },
   {
    "duration": 104,
    "start_time": "2021-07-26T21:33:10.185Z"
   },
   {
    "duration": 114,
    "start_time": "2021-07-26T21:33:53.565Z"
   },
   {
    "duration": 463,
    "start_time": "2021-07-26T21:34:30.037Z"
   },
   {
    "duration": 3,
    "start_time": "2021-07-26T21:34:50.193Z"
   },
   {
    "duration": 348,
    "start_time": "2021-07-26T21:35:08.645Z"
   },
   {
    "duration": 410,
    "start_time": "2021-07-26T21:35:16.545Z"
   },
   {
    "duration": 121,
    "start_time": "2021-07-26T21:36:09.995Z"
   },
   {
    "duration": 3,
    "start_time": "2021-07-26T21:36:41.896Z"
   },
   {
    "duration": 438,
    "start_time": "2021-07-26T21:36:52.924Z"
   },
   {
    "duration": 158,
    "start_time": "2021-07-26T21:37:16.105Z"
   },
   {
    "duration": 45,
    "start_time": "2021-07-26T21:37:16.832Z"
   },
   {
    "duration": 26,
    "start_time": "2021-07-26T21:37:18.453Z"
   },
   {
    "duration": 16,
    "start_time": "2021-07-26T21:37:19.097Z"
   },
   {
    "duration": 92,
    "start_time": "2021-07-26T21:37:19.516Z"
   },
   {
    "duration": 76,
    "start_time": "2021-07-26T21:37:20.024Z"
   },
   {
    "duration": 21,
    "start_time": "2021-07-26T21:37:21.320Z"
   },
   {
    "duration": 8,
    "start_time": "2021-07-26T21:37:22.796Z"
   },
   {
    "duration": 10,
    "start_time": "2021-07-26T21:37:23.789Z"
   },
   {
    "duration": 60,
    "start_time": "2021-07-26T21:37:25.741Z"
   },
   {
    "duration": 10,
    "start_time": "2021-07-26T21:37:25.803Z"
   },
   {
    "duration": 62,
    "start_time": "2021-07-26T21:37:26.481Z"
   },
   {
    "duration": 54,
    "start_time": "2021-07-26T21:37:27.977Z"
   },
   {
    "duration": 4,
    "start_time": "2021-07-26T21:37:29.268Z"
   },
   {
    "duration": 22,
    "start_time": "2021-07-26T21:37:30.284Z"
   },
   {
    "duration": 506,
    "start_time": "2021-07-26T21:37:41.238Z"
   },
   {
    "duration": 9,
    "start_time": "2021-07-26T21:38:05.577Z"
   },
   {
    "duration": 14,
    "start_time": "2021-07-26T21:38:06.185Z"
   },
   {
    "duration": 16,
    "start_time": "2021-07-26T21:38:06.592Z"
   },
   {
    "duration": 8,
    "start_time": "2021-07-26T21:38:07.049Z"
   },
   {
    "duration": 3,
    "start_time": "2021-07-26T21:38:07.361Z"
   },
   {
    "duration": 25,
    "start_time": "2021-07-26T21:38:07.537Z"
   },
   {
    "duration": 9,
    "start_time": "2021-07-26T21:38:08.821Z"
   },
   {
    "duration": 61,
    "start_time": "2021-07-26T21:38:09.002Z"
   },
   {
    "duration": 6,
    "start_time": "2021-07-26T21:38:10.048Z"
   },
   {
    "duration": 18,
    "start_time": "2021-07-26T21:38:11.212Z"
   },
   {
    "duration": 923,
    "start_time": "2021-07-26T21:38:12.365Z"
   },
   {
    "duration": 7,
    "start_time": "2021-07-26T21:38:13.765Z"
   },
   {
    "duration": 122,
    "start_time": "2021-07-26T21:38:14.200Z"
   },
   {
    "duration": 364,
    "start_time": "2021-07-26T21:38:27.221Z"
   },
   {
    "duration": 335,
    "start_time": "2021-07-26T21:38:36.172Z"
   },
   {
    "duration": 360,
    "start_time": "2021-07-26T21:38:42.604Z"
   },
   {
    "duration": 393,
    "start_time": "2021-07-26T21:38:58.576Z"
   },
   {
    "duration": 376,
    "start_time": "2021-07-26T21:39:02.893Z"
   },
   {
    "duration": 1022,
    "start_time": "2021-07-26T21:40:12.416Z"
   },
   {
    "duration": 53,
    "start_time": "2021-07-26T21:40:13.440Z"
   },
   {
    "duration": 29,
    "start_time": "2021-07-26T21:40:13.496Z"
   },
   {
    "duration": 20,
    "start_time": "2021-07-26T21:40:13.527Z"
   },
   {
    "duration": 117,
    "start_time": "2021-07-26T21:40:13.549Z"
   },
   {
    "duration": 86,
    "start_time": "2021-07-26T21:40:13.669Z"
   },
   {
    "duration": 35,
    "start_time": "2021-07-26T21:40:13.758Z"
   },
   {
    "duration": 6,
    "start_time": "2021-07-26T21:40:13.796Z"
   },
   {
    "duration": 21,
    "start_time": "2021-07-26T21:40:13.805Z"
   },
   {
    "duration": 85,
    "start_time": "2021-07-26T21:40:13.828Z"
   },
   {
    "duration": 12,
    "start_time": "2021-07-26T21:40:13.915Z"
   },
   {
    "duration": 79,
    "start_time": "2021-07-26T21:40:13.929Z"
   },
   {
    "duration": 54,
    "start_time": "2021-07-26T21:40:14.011Z"
   },
   {
    "duration": 15,
    "start_time": "2021-07-26T21:40:14.067Z"
   },
   {
    "duration": 28,
    "start_time": "2021-07-26T21:40:14.085Z"
   },
   {
    "duration": 8,
    "start_time": "2021-07-26T21:40:14.115Z"
   },
   {
    "duration": 20,
    "start_time": "2021-07-26T21:40:14.125Z"
   },
   {
    "duration": 41,
    "start_time": "2021-07-26T21:40:14.147Z"
   },
   {
    "duration": 8,
    "start_time": "2021-07-26T21:40:14.191Z"
   },
   {
    "duration": 6,
    "start_time": "2021-07-26T21:40:14.201Z"
   },
   {
    "duration": 28,
    "start_time": "2021-07-26T21:40:14.209Z"
   },
   {
    "duration": 9,
    "start_time": "2021-07-26T21:40:14.239Z"
   },
   {
    "duration": 85,
    "start_time": "2021-07-26T21:40:14.253Z"
   },
   {
    "duration": 5,
    "start_time": "2021-07-26T21:40:14.342Z"
   },
   {
    "duration": 44,
    "start_time": "2021-07-26T21:40:14.349Z"
   },
   {
    "duration": 913,
    "start_time": "2021-07-26T21:40:14.396Z"
   },
   {
    "duration": 7,
    "start_time": "2021-07-26T21:40:15.311Z"
   },
   {
    "duration": 141,
    "start_time": "2021-07-26T21:40:15.320Z"
   },
   {
    "duration": 469,
    "start_time": "2021-07-26T21:40:15.464Z"
   },
   {
    "duration": 486,
    "start_time": "2021-07-26T21:40:15.935Z"
   },
   {
    "duration": 364,
    "start_time": "2021-07-26T21:40:16.423Z"
   },
   {
    "duration": 330,
    "start_time": "2021-07-26T21:40:16.789Z"
   },
   {
    "duration": 15,
    "start_time": "2021-07-26T21:40:17.121Z"
   },
   {
    "duration": 13,
    "start_time": "2021-07-26T21:40:17.138Z"
   },
   {
    "duration": 503,
    "start_time": "2021-07-26T21:40:17.154Z"
   },
   {
    "duration": -3236,
    "start_time": "2021-07-26T21:40:20.896Z"
   },
   {
    "duration": -3238,
    "start_time": "2021-07-26T21:40:20.901Z"
   },
   {
    "duration": -3241,
    "start_time": "2021-07-26T21:40:20.906Z"
   },
   {
    "duration": -3302,
    "start_time": "2021-07-26T21:40:20.969Z"
   },
   {
    "duration": -3311,
    "start_time": "2021-07-26T21:40:20.980Z"
   },
   {
    "duration": -3320,
    "start_time": "2021-07-26T21:40:20.991Z"
   },
   {
    "duration": -3333,
    "start_time": "2021-07-26T21:40:21.006Z"
   },
   {
    "duration": -3365,
    "start_time": "2021-07-26T21:40:21.040Z"
   },
   {
    "duration": -3366,
    "start_time": "2021-07-26T21:40:21.044Z"
   },
   {
    "duration": -3375,
    "start_time": "2021-07-26T21:40:21.055Z"
   },
   {
    "duration": -3382,
    "start_time": "2021-07-26T21:40:21.063Z"
   },
   {
    "duration": -3384,
    "start_time": "2021-07-26T21:40:21.067Z"
   },
   {
    "duration": -3385,
    "start_time": "2021-07-26T21:40:21.070Z"
   },
   {
    "duration": -3401,
    "start_time": "2021-07-26T21:40:21.089Z"
   },
   {
    "duration": -3402,
    "start_time": "2021-07-26T21:40:21.092Z"
   },
   {
    "duration": -3579,
    "start_time": "2021-07-26T21:40:21.271Z"
   },
   {
    "duration": -3600,
    "start_time": "2021-07-26T21:40:21.294Z"
   },
   {
    "duration": -3610,
    "start_time": "2021-07-26T21:40:21.306Z"
   },
   {
    "duration": -3615,
    "start_time": "2021-07-26T21:40:21.313Z"
   },
   {
    "duration": 3,
    "start_time": "2021-07-26T21:41:31.288Z"
   },
   {
    "duration": 995,
    "start_time": "2021-07-26T21:41:58.908Z"
   },
   {
    "duration": 44,
    "start_time": "2021-07-26T21:41:59.906Z"
   },
   {
    "duration": 50,
    "start_time": "2021-07-26T21:41:59.953Z"
   },
   {
    "duration": 17,
    "start_time": "2021-07-26T21:42:00.005Z"
   },
   {
    "duration": 116,
    "start_time": "2021-07-26T21:42:00.025Z"
   },
   {
    "duration": 93,
    "start_time": "2021-07-26T21:42:00.144Z"
   },
   {
    "duration": 21,
    "start_time": "2021-07-26T21:42:00.239Z"
   },
   {
    "duration": 20,
    "start_time": "2021-07-26T21:42:00.264Z"
   },
   {
    "duration": 18,
    "start_time": "2021-07-26T21:42:00.287Z"
   },
   {
    "duration": 85,
    "start_time": "2021-07-26T21:42:00.308Z"
   },
   {
    "duration": 9,
    "start_time": "2021-07-26T21:42:00.395Z"
   },
   {
    "duration": 83,
    "start_time": "2021-07-26T21:42:00.407Z"
   },
   {
    "duration": 60,
    "start_time": "2021-07-26T21:42:00.493Z"
   },
   {
    "duration": 38,
    "start_time": "2021-07-26T21:42:00.555Z"
   },
   {
    "duration": 12,
    "start_time": "2021-07-26T21:42:00.595Z"
   },
   {
    "duration": 17,
    "start_time": "2021-07-26T21:42:00.609Z"
   },
   {
    "duration": 17,
    "start_time": "2021-07-26T21:42:00.628Z"
   },
   {
    "duration": 12,
    "start_time": "2021-07-26T21:42:00.647Z"
   },
   {
    "duration": 3,
    "start_time": "2021-07-26T21:42:00.683Z"
   },
   {
    "duration": 30,
    "start_time": "2021-07-26T21:42:00.688Z"
   },
   {
    "duration": 8,
    "start_time": "2021-07-26T21:42:00.721Z"
   },
   {
    "duration": 85,
    "start_time": "2021-07-26T21:42:00.732Z"
   },
   {
    "duration": 5,
    "start_time": "2021-07-26T21:42:00.822Z"
   },
   {
    "duration": 26,
    "start_time": "2021-07-26T21:42:00.830Z"
   },
   {
    "duration": 963,
    "start_time": "2021-07-26T21:42:00.858Z"
   },
   {
    "duration": 6,
    "start_time": "2021-07-26T21:42:01.823Z"
   },
   {
    "duration": 145,
    "start_time": "2021-07-26T21:42:01.831Z"
   },
   {
    "duration": 451,
    "start_time": "2021-07-26T21:42:01.978Z"
   },
   {
    "duration": 491,
    "start_time": "2021-07-26T21:42:02.431Z"
   },
   {
    "duration": 365,
    "start_time": "2021-07-26T21:42:02.924Z"
   },
   {
    "duration": 334,
    "start_time": "2021-07-26T21:42:03.292Z"
   },
   {
    "duration": 14,
    "start_time": "2021-07-26T21:42:03.629Z"
   },
   {
    "duration": 13,
    "start_time": "2021-07-26T21:42:03.645Z"
   },
   {
    "duration": 530,
    "start_time": "2021-07-26T21:42:03.660Z"
   },
   {
    "duration": -3276,
    "start_time": "2021-07-26T21:42:07.468Z"
   },
   {
    "duration": -3287,
    "start_time": "2021-07-26T21:42:07.481Z"
   },
   {
    "duration": -3295,
    "start_time": "2021-07-26T21:42:07.490Z"
   },
   {
    "duration": -3298,
    "start_time": "2021-07-26T21:42:07.495Z"
   },
   {
    "duration": -3301,
    "start_time": "2021-07-26T21:42:07.500Z"
   },
   {
    "duration": -3304,
    "start_time": "2021-07-26T21:42:07.504Z"
   },
   {
    "duration": -3306,
    "start_time": "2021-07-26T21:42:07.508Z"
   },
   {
    "duration": -3308,
    "start_time": "2021-07-26T21:42:07.511Z"
   },
   {
    "duration": -3311,
    "start_time": "2021-07-26T21:42:07.516Z"
   },
   {
    "duration": -3312,
    "start_time": "2021-07-26T21:42:07.519Z"
   },
   {
    "duration": -3322,
    "start_time": "2021-07-26T21:42:07.530Z"
   },
   {
    "duration": -3323,
    "start_time": "2021-07-26T21:42:07.533Z"
   },
   {
    "duration": -3326,
    "start_time": "2021-07-26T21:42:07.537Z"
   },
   {
    "duration": -3327,
    "start_time": "2021-07-26T21:42:07.540Z"
   },
   {
    "duration": -3328,
    "start_time": "2021-07-26T21:42:07.543Z"
   },
   {
    "duration": -3331,
    "start_time": "2021-07-26T21:42:07.547Z"
   },
   {
    "duration": -3333,
    "start_time": "2021-07-26T21:42:07.551Z"
   },
   {
    "duration": -3341,
    "start_time": "2021-07-26T21:42:07.560Z"
   },
   {
    "duration": -3343,
    "start_time": "2021-07-26T21:42:07.564Z"
   },
   {
    "duration": 413,
    "start_time": "2021-07-26T21:46:42.328Z"
   },
   {
    "duration": 3,
    "start_time": "2021-07-26T21:48:26.291Z"
   },
   {
    "duration": 127,
    "start_time": "2021-07-26T21:54:09.585Z"
   },
   {
    "duration": 92,
    "start_time": "2021-07-26T21:54:14.766Z"
   },
   {
    "duration": 1104,
    "start_time": "2021-07-26T21:54:33.028Z"
   },
   {
    "duration": 56,
    "start_time": "2021-07-26T21:54:34.135Z"
   },
   {
    "duration": 25,
    "start_time": "2021-07-26T21:54:34.194Z"
   },
   {
    "duration": 17,
    "start_time": "2021-07-26T21:54:34.222Z"
   },
   {
    "duration": 115,
    "start_time": "2021-07-26T21:54:34.241Z"
   },
   {
    "duration": 89,
    "start_time": "2021-07-26T21:54:34.358Z"
   },
   {
    "duration": 34,
    "start_time": "2021-07-26T21:54:34.450Z"
   },
   {
    "duration": 5,
    "start_time": "2021-07-26T21:54:34.488Z"
   },
   {
    "duration": 16,
    "start_time": "2021-07-26T21:54:34.497Z"
   },
   {
    "duration": 87,
    "start_time": "2021-07-26T21:54:34.516Z"
   },
   {
    "duration": 10,
    "start_time": "2021-07-26T21:54:34.606Z"
   },
   {
    "duration": 95,
    "start_time": "2021-07-26T21:54:34.618Z"
   },
   {
    "duration": 166,
    "start_time": "2021-07-26T21:54:34.716Z"
   },
   {
    "duration": 22,
    "start_time": "2021-07-26T21:54:34.885Z"
   },
   {
    "duration": 14,
    "start_time": "2021-07-26T21:54:34.909Z"
   },
   {
    "duration": 64,
    "start_time": "2021-07-26T21:54:34.925Z"
   },
   {
    "duration": 17,
    "start_time": "2021-07-26T21:54:34.992Z"
   },
   {
    "duration": 8,
    "start_time": "2021-07-26T21:54:35.012Z"
   },
   {
    "duration": 6,
    "start_time": "2021-07-26T21:54:35.022Z"
   },
   {
    "duration": 26,
    "start_time": "2021-07-26T21:54:35.084Z"
   },
   {
    "duration": 10,
    "start_time": "2021-07-26T21:54:35.113Z"
   },
   {
    "duration": 159,
    "start_time": "2021-07-26T21:54:35.125Z"
   },
   {
    "duration": 6,
    "start_time": "2021-07-26T21:54:35.289Z"
   },
   {
    "duration": 27,
    "start_time": "2021-07-26T21:54:35.298Z"
   },
   {
    "duration": 1123,
    "start_time": "2021-07-26T21:54:35.328Z"
   },
   {
    "duration": 7,
    "start_time": "2021-07-26T21:54:36.453Z"
   },
   {
    "duration": 148,
    "start_time": "2021-07-26T21:54:36.462Z"
   },
   {
    "duration": 425,
    "start_time": "2021-07-26T21:54:36.612Z"
   },
   {
    "duration": 485,
    "start_time": "2021-07-26T21:54:37.040Z"
   },
   {
    "duration": 362,
    "start_time": "2021-07-26T21:54:37.528Z"
   },
   {
    "duration": 331,
    "start_time": "2021-07-26T21:54:37.892Z"
   },
   {
    "duration": 14,
    "start_time": "2021-07-26T21:54:38.225Z"
   },
   {
    "duration": 11,
    "start_time": "2021-07-26T21:54:38.242Z"
   },
   {
    "duration": 509,
    "start_time": "2021-07-26T21:54:38.283Z"
   },
   {
    "duration": -3123,
    "start_time": "2021-07-26T21:54:41.917Z"
   },
   {
    "duration": -3133,
    "start_time": "2021-07-26T21:54:41.928Z"
   },
   {
    "duration": -3135,
    "start_time": "2021-07-26T21:54:41.932Z"
   },
   {
    "duration": -3139,
    "start_time": "2021-07-26T21:54:41.937Z"
   },
   {
    "duration": -3142,
    "start_time": "2021-07-26T21:54:41.942Z"
   },
   {
    "duration": -3158,
    "start_time": "2021-07-26T21:54:41.959Z"
   },
   {
    "duration": -3170,
    "start_time": "2021-07-26T21:54:41.973Z"
   },
   {
    "duration": -3185,
    "start_time": "2021-07-26T21:54:41.989Z"
   },
   {
    "duration": -3194,
    "start_time": "2021-07-26T21:54:42.000Z"
   },
   {
    "duration": -3196,
    "start_time": "2021-07-26T21:54:42.003Z"
   },
   {
    "duration": -3198,
    "start_time": "2021-07-26T21:54:42.007Z"
   },
   {
    "duration": -3200,
    "start_time": "2021-07-26T21:54:42.010Z"
   },
   {
    "duration": -3201,
    "start_time": "2021-07-26T21:54:42.013Z"
   },
   {
    "duration": -3203,
    "start_time": "2021-07-26T21:54:42.016Z"
   },
   {
    "duration": -3204,
    "start_time": "2021-07-26T21:54:42.019Z"
   },
   {
    "duration": -3206,
    "start_time": "2021-07-26T21:54:42.022Z"
   },
   {
    "duration": -3222,
    "start_time": "2021-07-26T21:54:42.040Z"
   },
   {
    "duration": -3224,
    "start_time": "2021-07-26T21:54:42.043Z"
   },
   {
    "duration": -3243,
    "start_time": "2021-07-26T21:54:42.064Z"
   },
   {
    "duration": 121,
    "start_time": "2021-07-26T21:54:42.138Z"
   },
   {
    "duration": 1502,
    "start_time": "2021-07-26T21:54:45.852Z"
   },
   {
    "duration": 377,
    "start_time": "2021-07-26T21:55:05.515Z"
   },
   {
    "duration": 362,
    "start_time": "2021-07-26T21:55:16.498Z"
   },
   {
    "duration": 3,
    "start_time": "2021-07-26T21:55:27.579Z"
   },
   {
    "duration": 95,
    "start_time": "2021-07-26T21:55:46.830Z"
   },
   {
    "duration": 250,
    "start_time": "2021-07-26T22:01:23.310Z"
   },
   {
    "duration": 120,
    "start_time": "2021-07-26T22:01:40.334Z"
   },
   {
    "duration": 76,
    "start_time": "2021-07-26T22:01:42.239Z"
   },
   {
    "duration": 15,
    "start_time": "2021-07-26T22:01:43.744Z"
   },
   {
    "duration": 693,
    "start_time": "2021-07-26T22:01:44.693Z"
   },
   {
    "duration": 649,
    "start_time": "2021-07-26T22:01:45.389Z"
   },
   {
    "duration": 671,
    "start_time": "2021-07-26T22:01:46.392Z"
   },
   {
    "duration": 300,
    "start_time": "2021-07-26T22:01:47.065Z"
   },
   {
    "duration": 426,
    "start_time": "2021-07-26T22:01:47.674Z"
   },
   {
    "duration": 452,
    "start_time": "2021-07-26T22:01:49.528Z"
   },
   {
    "duration": 415,
    "start_time": "2021-07-26T22:01:49.984Z"
   },
   {
    "duration": 25,
    "start_time": "2021-07-26T22:02:02.406Z"
   },
   {
    "duration": 368,
    "start_time": "2021-07-26T22:02:03.230Z"
   },
   {
    "duration": 20,
    "start_time": "2021-07-26T22:02:04.285Z"
   },
   {
    "duration": 433,
    "start_time": "2021-07-26T22:02:05.066Z"
   },
   {
    "duration": 330,
    "start_time": "2021-07-26T22:02:05.502Z"
   },
   {
    "duration": 454,
    "start_time": "2021-07-26T22:02:05.836Z"
   },
   {
    "duration": 406,
    "start_time": "2021-07-26T22:02:06.294Z"
   },
   {
    "duration": 429,
    "start_time": "2021-07-26T22:02:06.703Z"
   },
   {
    "duration": 389,
    "start_time": "2021-07-26T22:02:07.135Z"
   },
   {
    "duration": 139,
    "start_time": "2021-07-26T22:07:45.677Z"
   },
   {
    "duration": 130,
    "start_time": "2021-07-26T22:07:59.837Z"
   },
   {
    "duration": 5,
    "start_time": "2021-07-26T22:09:56.837Z"
   },
   {
    "duration": 1041,
    "start_time": "2021-07-26T22:11:06.394Z"
   },
   {
    "duration": 57,
    "start_time": "2021-07-26T22:11:07.437Z"
   },
   {
    "duration": 28,
    "start_time": "2021-07-26T22:11:07.497Z"
   },
   {
    "duration": 17,
    "start_time": "2021-07-26T22:11:07.528Z"
   },
   {
    "duration": 117,
    "start_time": "2021-07-26T22:11:07.547Z"
   },
   {
    "duration": 89,
    "start_time": "2021-07-26T22:11:07.666Z"
   },
   {
    "duration": 33,
    "start_time": "2021-07-26T22:11:07.758Z"
   },
   {
    "duration": 7,
    "start_time": "2021-07-26T22:11:07.796Z"
   },
   {
    "duration": 14,
    "start_time": "2021-07-26T22:11:07.806Z"
   },
   {
    "duration": 97,
    "start_time": "2021-07-26T22:11:07.822Z"
   },
   {
    "duration": 10,
    "start_time": "2021-07-26T22:11:07.921Z"
   },
   {
    "duration": 71,
    "start_time": "2021-07-26T22:11:07.934Z"
   },
   {
    "duration": 54,
    "start_time": "2021-07-26T22:11:08.007Z"
   },
   {
    "duration": 33,
    "start_time": "2021-07-26T22:11:08.063Z"
   },
   {
    "duration": 8,
    "start_time": "2021-07-26T22:11:08.099Z"
   },
   {
    "duration": 15,
    "start_time": "2021-07-26T22:11:08.110Z"
   },
   {
    "duration": 18,
    "start_time": "2021-07-26T22:11:08.127Z"
   },
   {
    "duration": 37,
    "start_time": "2021-07-26T22:11:08.148Z"
   },
   {
    "duration": 9,
    "start_time": "2021-07-26T22:11:08.187Z"
   },
   {
    "duration": 26,
    "start_time": "2021-07-26T22:11:08.199Z"
   },
   {
    "duration": 9,
    "start_time": "2021-07-26T22:11:08.227Z"
   },
   {
    "duration": 84,
    "start_time": "2021-07-26T22:11:08.238Z"
   },
   {
    "duration": 6,
    "start_time": "2021-07-26T22:11:08.327Z"
   },
   {
    "duration": 19,
    "start_time": "2021-07-26T22:11:08.336Z"
   },
   {
    "duration": 965,
    "start_time": "2021-07-26T22:11:08.357Z"
   },
   {
    "duration": 7,
    "start_time": "2021-07-26T22:11:09.324Z"
   },
   {
    "duration": 143,
    "start_time": "2021-07-26T22:11:09.334Z"
   },
   {
    "duration": 437,
    "start_time": "2021-07-26T22:11:09.480Z"
   },
   {
    "duration": 483,
    "start_time": "2021-07-26T22:11:09.920Z"
   },
   {
    "duration": 358,
    "start_time": "2021-07-26T22:11:10.406Z"
   },
   {
    "duration": 355,
    "start_time": "2021-07-26T22:11:10.767Z"
   },
   {
    "duration": 14,
    "start_time": "2021-07-26T22:11:11.125Z"
   },
   {
    "duration": 14,
    "start_time": "2021-07-26T22:11:11.141Z"
   },
   {
    "duration": 505,
    "start_time": "2021-07-26T22:11:11.158Z"
   },
   {
    "duration": -3764,
    "start_time": "2021-07-26T22:11:15.429Z"
   },
   {
    "duration": -3775,
    "start_time": "2021-07-26T22:11:15.442Z"
   },
   {
    "duration": -3783,
    "start_time": "2021-07-26T22:11:15.451Z"
   },
   {
    "duration": -3788,
    "start_time": "2021-07-26T22:11:15.457Z"
   },
   {
    "duration": -3791,
    "start_time": "2021-07-26T22:11:15.462Z"
   },
   {
    "duration": -3794,
    "start_time": "2021-07-26T22:11:15.466Z"
   },
   {
    "duration": -3797,
    "start_time": "2021-07-26T22:11:15.470Z"
   },
   {
    "duration": -3799,
    "start_time": "2021-07-26T22:11:15.474Z"
   },
   {
    "duration": -3801,
    "start_time": "2021-07-26T22:11:15.477Z"
   },
   {
    "duration": -3804,
    "start_time": "2021-07-26T22:11:15.481Z"
   },
   {
    "duration": -3813,
    "start_time": "2021-07-26T22:11:15.491Z"
   },
   {
    "duration": -3816,
    "start_time": "2021-07-26T22:11:15.495Z"
   },
   {
    "duration": -3817,
    "start_time": "2021-07-26T22:11:15.498Z"
   },
   {
    "duration": -3822,
    "start_time": "2021-07-26T22:11:15.504Z"
   },
   {
    "duration": -3825,
    "start_time": "2021-07-26T22:11:15.508Z"
   },
   {
    "duration": -3828,
    "start_time": "2021-07-26T22:11:15.512Z"
   },
   {
    "duration": -3830,
    "start_time": "2021-07-26T22:11:15.516Z"
   },
   {
    "duration": -3832,
    "start_time": "2021-07-26T22:11:15.519Z"
   },
   {
    "duration": -3833,
    "start_time": "2021-07-26T22:11:15.522Z"
   },
   {
    "duration": 123,
    "start_time": "2021-07-26T22:12:21.314Z"
   },
   {
    "duration": 1347,
    "start_time": "2021-07-26T22:12:22.262Z"
   },
   {
    "duration": 16,
    "start_time": "2021-07-26T22:12:25.010Z"
   },
   {
    "duration": 1081,
    "start_time": "2021-07-26T22:12:25.554Z"
   },
   {
    "duration": 931,
    "start_time": "2021-07-26T22:12:26.639Z"
   },
   {
    "duration": 927,
    "start_time": "2021-07-26T22:12:27.572Z"
   },
   {
    "duration": 338,
    "start_time": "2021-07-26T22:12:28.503Z"
   },
   {
    "duration": 382,
    "start_time": "2021-07-26T22:12:28.844Z"
   },
   {
    "duration": 413,
    "start_time": "2021-07-26T22:12:29.229Z"
   },
   {
    "duration": 444,
    "start_time": "2021-07-26T22:12:29.645Z"
   },
   {
    "duration": 26,
    "start_time": "2021-07-26T22:12:30.092Z"
   },
   {
    "duration": 414,
    "start_time": "2021-07-26T22:12:30.121Z"
   },
   {
    "duration": 21,
    "start_time": "2021-07-26T22:12:30.538Z"
   },
   {
    "duration": 456,
    "start_time": "2021-07-26T22:12:30.912Z"
   },
   {
    "duration": 330,
    "start_time": "2021-07-26T22:12:31.370Z"
   },
   {
    "duration": 571,
    "start_time": "2021-07-26T22:12:31.702Z"
   },
   {
    "duration": 350,
    "start_time": "2021-07-26T22:12:32.282Z"
   },
   {
    "duration": 408,
    "start_time": "2021-07-26T22:12:32.635Z"
   },
   {
    "duration": 424,
    "start_time": "2021-07-26T22:12:33.046Z"
   },
   {
    "duration": 13,
    "start_time": "2021-07-26T22:13:26.226Z"
   },
   {
    "duration": 1117,
    "start_time": "2021-07-26T22:13:31.654Z"
   },
   {
    "duration": 48,
    "start_time": "2021-07-26T22:13:32.775Z"
   },
   {
    "duration": 24,
    "start_time": "2021-07-26T22:13:32.827Z"
   },
   {
    "duration": 41,
    "start_time": "2021-07-26T22:13:32.855Z"
   },
   {
    "duration": 109,
    "start_time": "2021-07-26T22:13:32.898Z"
   },
   {
    "duration": 88,
    "start_time": "2021-07-26T22:13:33.010Z"
   },
   {
    "duration": 27,
    "start_time": "2021-07-26T22:13:33.101Z"
   },
   {
    "duration": 7,
    "start_time": "2021-07-26T22:13:33.132Z"
   },
   {
    "duration": 15,
    "start_time": "2021-07-26T22:13:33.142Z"
   },
   {
    "duration": 64,
    "start_time": "2021-07-26T22:13:33.183Z"
   },
   {
    "duration": 10,
    "start_time": "2021-07-26T22:13:33.250Z"
   },
   {
    "duration": 73,
    "start_time": "2021-07-26T22:13:33.262Z"
   },
   {
    "duration": 76,
    "start_time": "2021-07-26T22:13:33.338Z"
   },
   {
    "duration": 1018,
    "start_time": "2021-07-26T22:14:15.338Z"
   },
   {
    "duration": 52,
    "start_time": "2021-07-26T22:14:16.359Z"
   },
   {
    "duration": 27,
    "start_time": "2021-07-26T22:14:16.415Z"
   },
   {
    "duration": 42,
    "start_time": "2021-07-26T22:14:16.445Z"
   },
   {
    "duration": 104,
    "start_time": "2021-07-26T22:14:16.489Z"
   },
   {
    "duration": 103,
    "start_time": "2021-07-26T22:14:16.596Z"
   },
   {
    "duration": 24,
    "start_time": "2021-07-26T22:14:16.701Z"
   },
   {
    "duration": 6,
    "start_time": "2021-07-26T22:14:16.729Z"
   },
   {
    "duration": 16,
    "start_time": "2021-07-26T22:14:16.738Z"
   },
   {
    "duration": 86,
    "start_time": "2021-07-26T22:14:16.756Z"
   },
   {
    "duration": 10,
    "start_time": "2021-07-26T22:14:16.844Z"
   },
   {
    "duration": 76,
    "start_time": "2021-07-26T22:14:16.857Z"
   },
   {
    "duration": 72,
    "start_time": "2021-07-26T22:14:16.935Z"
   },
   {
    "duration": 20,
    "start_time": "2021-07-26T22:14:17.010Z"
   },
   {
    "duration": 8,
    "start_time": "2021-07-26T22:14:17.033Z"
   },
   {
    "duration": 38,
    "start_time": "2021-07-26T22:14:17.044Z"
   },
   {
    "duration": 15,
    "start_time": "2021-07-26T22:14:17.084Z"
   },
   {
    "duration": 11,
    "start_time": "2021-07-26T22:14:17.101Z"
   },
   {
    "duration": 13,
    "start_time": "2021-07-26T22:14:17.114Z"
   },
   {
    "duration": 16,
    "start_time": "2021-07-26T22:14:17.129Z"
   },
   {
    "duration": 48,
    "start_time": "2021-07-26T22:14:17.147Z"
   },
   {
    "duration": 10,
    "start_time": "2021-07-26T22:14:17.198Z"
   },
   {
    "duration": 80,
    "start_time": "2021-07-26T22:14:17.213Z"
   },
   {
    "duration": 5,
    "start_time": "2021-07-26T22:14:17.296Z"
   },
   {
    "duration": 19,
    "start_time": "2021-07-26T22:14:17.303Z"
   },
   {
    "duration": 944,
    "start_time": "2021-07-26T22:14:17.325Z"
   },
   {
    "duration": 11,
    "start_time": "2021-07-26T22:14:18.272Z"
   },
   {
    "duration": 146,
    "start_time": "2021-07-26T22:14:18.286Z"
   },
   {
    "duration": 541,
    "start_time": "2021-07-26T22:14:18.434Z"
   },
   {
    "duration": 495,
    "start_time": "2021-07-26T22:14:18.978Z"
   },
   {
    "duration": 363,
    "start_time": "2021-07-26T22:14:19.475Z"
   },
   {
    "duration": 346,
    "start_time": "2021-07-26T22:14:19.840Z"
   },
   {
    "duration": 13,
    "start_time": "2021-07-26T22:14:20.189Z"
   },
   {
    "duration": 7,
    "start_time": "2021-07-26T22:14:20.205Z"
   },
   {
    "duration": 294,
    "start_time": "2021-07-26T22:14:20.215Z"
   },
   {
    "duration": 141,
    "start_time": "2021-07-26T22:14:20.512Z"
   },
   {
    "duration": 91,
    "start_time": "2021-07-26T22:14:20.656Z"
   },
   {
    "duration": 37,
    "start_time": "2021-07-26T22:14:20.750Z"
   },
   {
    "duration": 692,
    "start_time": "2021-07-26T22:14:20.790Z"
   },
   {
    "duration": 646,
    "start_time": "2021-07-26T22:14:21.484Z"
   },
   {
    "duration": 670,
    "start_time": "2021-07-26T22:14:22.133Z"
   },
   {
    "duration": 293,
    "start_time": "2021-07-26T22:14:22.805Z"
   },
   {
    "duration": 385,
    "start_time": "2021-07-26T22:14:23.101Z"
   },
   {
    "duration": 454,
    "start_time": "2021-07-26T22:14:23.489Z"
   },
   {
    "duration": 408,
    "start_time": "2021-07-26T22:14:23.946Z"
   },
   {
    "duration": 29,
    "start_time": "2021-07-26T22:14:24.357Z"
   },
   {
    "duration": 478,
    "start_time": "2021-07-26T22:14:24.389Z"
   },
   {
    "duration": 24,
    "start_time": "2021-07-26T22:14:24.870Z"
   },
   {
    "duration": 395,
    "start_time": "2021-07-26T22:14:24.896Z"
   },
   {
    "duration": 309,
    "start_time": "2021-07-26T22:14:25.294Z"
   },
   {
    "duration": 407,
    "start_time": "2021-07-26T22:14:25.606Z"
   },
   {
    "duration": 380,
    "start_time": "2021-07-26T22:14:26.016Z"
   },
   {
    "duration": 407,
    "start_time": "2021-07-26T22:14:26.399Z"
   },
   {
    "duration": 380,
    "start_time": "2021-07-26T22:14:26.808Z"
   },
   {
    "duration": 1116,
    "start_time": "2021-07-27T03:09:35.962Z"
   },
   {
    "duration": 45,
    "start_time": "2021-07-27T03:09:37.082Z"
   },
   {
    "duration": 28,
    "start_time": "2021-07-27T03:09:39.187Z"
   },
   {
    "duration": 19,
    "start_time": "2021-07-27T03:09:40.262Z"
   },
   {
    "duration": 97,
    "start_time": "2021-07-27T03:09:40.916Z"
   },
   {
    "duration": 84,
    "start_time": "2021-07-27T03:09:41.733Z"
   },
   {
    "duration": 25,
    "start_time": "2021-07-27T03:09:42.505Z"
   },
   {
    "duration": 7,
    "start_time": "2021-07-27T03:09:43.989Z"
   },
   {
    "duration": 12,
    "start_time": "2021-07-27T03:09:44.618Z"
   },
   {
    "duration": 64,
    "start_time": "2021-07-27T03:09:45.147Z"
   },
   {
    "duration": 9,
    "start_time": "2021-07-27T03:09:45.727Z"
   },
   {
    "duration": 68,
    "start_time": "2021-07-27T03:09:46.525Z"
   },
   {
    "duration": 63,
    "start_time": "2021-07-27T03:09:47.091Z"
   },
   {
    "duration": 24,
    "start_time": "2021-07-27T03:09:47.406Z"
   },
   {
    "duration": 10,
    "start_time": "2021-07-27T03:09:51.241Z"
   },
   {
    "duration": 16,
    "start_time": "2021-07-27T03:09:51.694Z"
   },
   {
    "duration": 18,
    "start_time": "2021-07-27T03:09:52.145Z"
   },
   {
    "duration": 9,
    "start_time": "2021-07-27T03:09:52.539Z"
   },
   {
    "duration": 395,
    "start_time": "2021-07-27T03:09:53.221Z"
   },
   {
    "duration": 26,
    "start_time": "2021-07-27T03:09:54.023Z"
   },
   {
    "duration": 12,
    "start_time": "2021-07-27T03:09:56.781Z"
   },
   {
    "duration": 60,
    "start_time": "2021-07-27T03:09:57.126Z"
   },
   {
    "duration": 7,
    "start_time": "2021-07-27T03:09:58.802Z"
   },
   {
    "duration": 18,
    "start_time": "2021-07-27T03:09:59.383Z"
   },
   {
    "duration": 960,
    "start_time": "2021-07-27T03:09:59.953Z"
   },
   {
    "duration": 7,
    "start_time": "2021-07-27T03:10:00.916Z"
   },
   {
    "duration": 150,
    "start_time": "2021-07-27T03:10:00.926Z"
   },
   {
    "duration": 428,
    "start_time": "2021-07-27T03:10:05.581Z"
   },
   {
    "duration": 569,
    "start_time": "2021-07-27T03:10:06.425Z"
   },
   {
    "duration": 347,
    "start_time": "2021-07-27T03:10:07.111Z"
   },
   {
    "duration": 321,
    "start_time": "2021-07-27T03:10:07.567Z"
   },
   {
    "duration": 12,
    "start_time": "2021-07-27T03:10:08.659Z"
   },
   {
    "duration": 7,
    "start_time": "2021-07-27T03:10:08.911Z"
   },
   {
    "duration": 263,
    "start_time": "2021-07-27T03:10:09.759Z"
   },
   {
    "duration": 335,
    "start_time": "2021-07-27T03:10:33.996Z"
   },
   {
    "duration": 5,
    "start_time": "2021-07-27T03:10:43.809Z"
   },
   {
    "duration": 348,
    "start_time": "2021-07-27T03:10:45.082Z"
   },
   {
    "duration": 5,
    "start_time": "2021-07-27T03:21:03.506Z"
   },
   {
    "duration": 22,
    "start_time": "2021-07-27T03:21:47.341Z"
   },
   {
    "duration": 12,
    "start_time": "2021-07-27T03:21:49.147Z"
   },
   {
    "duration": 59,
    "start_time": "2021-07-27T03:21:49.367Z"
   },
   {
    "duration": 5,
    "start_time": "2021-07-27T03:21:50.518Z"
   },
   {
    "duration": 17,
    "start_time": "2021-07-27T03:21:50.902Z"
   },
   {
    "duration": 947,
    "start_time": "2021-07-27T03:21:51.327Z"
   },
   {
    "duration": 12,
    "start_time": "2021-07-27T03:21:52.277Z"
   },
   {
    "duration": 147,
    "start_time": "2021-07-27T03:21:52.292Z"
   },
   {
    "duration": 408,
    "start_time": "2021-07-27T03:21:56.066Z"
   },
   {
    "duration": 506,
    "start_time": "2021-07-27T03:21:56.631Z"
   },
   {
    "duration": 418,
    "start_time": "2021-07-27T03:21:57.177Z"
   },
   {
    "duration": 337,
    "start_time": "2021-07-27T03:21:57.670Z"
   },
   {
    "duration": 13,
    "start_time": "2021-07-27T03:21:58.421Z"
   },
   {
    "duration": 8,
    "start_time": "2021-07-27T03:21:58.652Z"
   },
   {
    "duration": 257,
    "start_time": "2021-07-27T03:21:59.106Z"
   },
   {
    "duration": 128,
    "start_time": "2021-07-27T03:23:01.333Z"
   },
   {
    "duration": 93,
    "start_time": "2021-07-27T03:23:02.217Z"
   },
   {
    "duration": 16,
    "start_time": "2021-07-27T03:23:03.459Z"
   },
   {
    "duration": 725,
    "start_time": "2021-07-27T03:23:04.529Z"
   },
   {
    "duration": 662,
    "start_time": "2021-07-27T03:23:05.257Z"
   },
   {
    "duration": 660,
    "start_time": "2021-07-27T03:23:06.735Z"
   },
   {
    "duration": 299,
    "start_time": "2021-07-27T03:23:07.397Z"
   },
   {
    "duration": 370,
    "start_time": "2021-07-27T03:23:08.363Z"
   },
   {
    "duration": 372,
    "start_time": "2021-07-27T03:23:30.259Z"
   },
   {
    "duration": 398,
    "start_time": "2021-07-27T03:23:34.591Z"
   },
   {
    "duration": 406,
    "start_time": "2021-07-27T03:23:35.733Z"
   },
   {
    "duration": 506,
    "start_time": "2021-07-27T03:23:36.141Z"
   },
   {
    "duration": 23,
    "start_time": "2021-07-27T03:23:37.199Z"
   },
   {
    "duration": 368,
    "start_time": "2021-07-27T03:23:37.897Z"
   },
   {
    "duration": 22,
    "start_time": "2021-07-27T03:23:38.901Z"
   },
   {
    "duration": 458,
    "start_time": "2021-07-27T03:23:39.561Z"
   },
   {
    "duration": 333,
    "start_time": "2021-07-27T03:23:40.023Z"
   },
   {
    "duration": 462,
    "start_time": "2021-07-27T03:23:40.360Z"
   },
   {
    "duration": 426,
    "start_time": "2021-07-27T03:23:40.825Z"
   },
   {
    "duration": 415,
    "start_time": "2021-07-27T03:23:41.255Z"
   },
   {
    "duration": 393,
    "start_time": "2021-07-27T03:23:41.673Z"
   },
   {
    "duration": 716,
    "start_time": "2021-07-27T20:27:12.029Z"
   },
   {
    "duration": 24,
    "start_time": "2021-07-27T20:27:12.746Z"
   },
   {
    "duration": 18,
    "start_time": "2021-07-27T20:27:12.784Z"
   },
   {
    "duration": 10,
    "start_time": "2021-07-27T20:27:12.804Z"
   },
   {
    "duration": 69,
    "start_time": "2021-07-27T20:27:12.816Z"
   },
   {
    "duration": 40,
    "start_time": "2021-07-27T20:27:12.887Z"
   },
   {
    "duration": 12,
    "start_time": "2021-07-27T20:27:12.929Z"
   },
   {
    "duration": 4,
    "start_time": "2021-07-27T20:27:12.944Z"
   },
   {
    "duration": 9,
    "start_time": "2021-07-27T20:27:12.950Z"
   },
   {
    "duration": 66,
    "start_time": "2021-07-27T20:27:12.960Z"
   },
   {
    "duration": 6,
    "start_time": "2021-07-27T20:27:13.028Z"
   },
   {
    "duration": 57,
    "start_time": "2021-07-27T20:27:13.036Z"
   },
   {
    "duration": 36,
    "start_time": "2021-07-27T20:27:13.094Z"
   },
   {
    "duration": 14,
    "start_time": "2021-07-27T20:27:13.131Z"
   },
   {
    "duration": 6,
    "start_time": "2021-07-27T20:27:13.146Z"
   },
   {
    "duration": 31,
    "start_time": "2021-07-27T20:27:13.154Z"
   },
   {
    "duration": 11,
    "start_time": "2021-07-27T20:27:13.186Z"
   },
   {
    "duration": 12,
    "start_time": "2021-07-27T20:27:13.199Z"
   },
   {
    "duration": 9,
    "start_time": "2021-07-27T20:27:13.212Z"
   },
   {
    "duration": 16,
    "start_time": "2021-07-27T20:27:13.223Z"
   },
   {
    "duration": 6,
    "start_time": "2021-07-27T20:27:13.240Z"
   },
   {
    "duration": 60,
    "start_time": "2021-07-27T20:27:13.248Z"
   },
   {
    "duration": 4,
    "start_time": "2021-07-27T20:27:13.311Z"
   },
   {
    "duration": 13,
    "start_time": "2021-07-27T20:27:13.317Z"
   },
   {
    "duration": 556,
    "start_time": "2021-07-27T20:27:13.332Z"
   },
   {
    "duration": 4,
    "start_time": "2021-07-27T20:27:13.890Z"
   },
   {
    "duration": 92,
    "start_time": "2021-07-27T20:27:13.896Z"
   },
   {
    "duration": 292,
    "start_time": "2021-07-27T20:27:13.990Z"
   },
   {
    "duration": 318,
    "start_time": "2021-07-27T20:27:14.285Z"
   },
   {
    "duration": 225,
    "start_time": "2021-07-27T20:27:14.605Z"
   },
   {
    "duration": 210,
    "start_time": "2021-07-27T20:27:14.831Z"
   },
   {
    "duration": 9,
    "start_time": "2021-07-27T20:27:15.043Z"
   },
   {
    "duration": 5,
    "start_time": "2021-07-27T20:27:15.054Z"
   },
   {
    "duration": 195,
    "start_time": "2021-07-27T20:27:15.060Z"
   },
   {
    "duration": 92,
    "start_time": "2021-07-27T20:27:15.256Z"
   },
   {
    "duration": 60,
    "start_time": "2021-07-27T20:27:15.350Z"
   },
   {
    "duration": 9,
    "start_time": "2021-07-27T20:27:15.412Z"
   },
   {
    "duration": 526,
    "start_time": "2021-07-27T20:27:15.423Z"
   },
   {
    "duration": 492,
    "start_time": "2021-07-27T20:27:15.951Z"
   },
   {
    "duration": 492,
    "start_time": "2021-07-27T20:27:16.445Z"
   },
   {
    "duration": 209,
    "start_time": "2021-07-27T20:27:16.939Z"
   },
   {
    "duration": 255,
    "start_time": "2021-07-27T20:27:17.150Z"
   },
   {
    "duration": 303,
    "start_time": "2021-07-27T20:27:17.406Z"
   },
   {
    "duration": 257,
    "start_time": "2021-07-27T20:27:17.710Z"
   },
   {
    "duration": 19,
    "start_time": "2021-07-27T20:27:17.968Z"
   },
   {
    "duration": 233,
    "start_time": "2021-07-27T20:27:17.988Z"
   },
   {
    "duration": 12,
    "start_time": "2021-07-27T20:27:18.223Z"
   },
   {
    "duration": 284,
    "start_time": "2021-07-27T20:27:18.236Z"
   },
   {
    "duration": 202,
    "start_time": "2021-07-27T20:27:18.521Z"
   },
   {
    "duration": 297,
    "start_time": "2021-07-27T20:27:18.724Z"
   },
   {
    "duration": 261,
    "start_time": "2021-07-27T20:27:19.023Z"
   },
   {
    "duration": 259,
    "start_time": "2021-07-27T20:27:19.286Z"
   },
   {
    "duration": 232,
    "start_time": "2021-07-27T20:27:19.547Z"
   },
   {
    "duration": 445,
    "start_time": "2021-08-07T11:20:11.674Z"
   },
   {
    "duration": 1151,
    "start_time": "2021-08-07T11:20:16.570Z"
   },
   {
    "duration": 44,
    "start_time": "2021-08-07T11:20:17.724Z"
   },
   {
    "duration": 29,
    "start_time": "2021-08-07T11:20:17.792Z"
   },
   {
    "duration": 16,
    "start_time": "2021-08-07T11:20:17.825Z"
   },
   {
    "duration": 53,
    "start_time": "2021-08-07T11:20:17.843Z"
   },
   {
    "duration": 102,
    "start_time": "2021-08-07T11:20:17.899Z"
   },
   {
    "duration": 26,
    "start_time": "2021-08-07T11:20:18.004Z"
   },
   {
    "duration": 9,
    "start_time": "2021-08-07T11:20:18.035Z"
   },
   {
    "duration": 46,
    "start_time": "2021-08-07T11:20:18.047Z"
   },
   {
    "duration": 99,
    "start_time": "2021-08-07T11:20:18.102Z"
   },
   {
    "duration": 11,
    "start_time": "2021-08-07T11:20:18.204Z"
   },
   {
    "duration": 92,
    "start_time": "2021-08-07T11:20:18.217Z"
   },
   {
    "duration": 56,
    "start_time": "2021-08-07T11:20:18.311Z"
   },
   {
    "duration": 43,
    "start_time": "2021-08-07T11:20:18.369Z"
   },
   {
    "duration": 9,
    "start_time": "2021-08-07T11:20:18.416Z"
   },
   {
    "duration": 14,
    "start_time": "2021-08-07T11:20:18.428Z"
   },
   {
    "duration": 43,
    "start_time": "2021-08-07T11:20:18.444Z"
   },
   {
    "duration": 32,
    "start_time": "2021-08-07T11:20:18.490Z"
   },
   {
    "duration": 15,
    "start_time": "2021-08-07T11:20:18.525Z"
   },
   {
    "duration": 26,
    "start_time": "2021-08-07T11:20:18.542Z"
   },
   {
    "duration": 13,
    "start_time": "2021-08-07T11:20:18.589Z"
   },
   {
    "duration": 91,
    "start_time": "2021-08-07T11:20:18.606Z"
   },
   {
    "duration": 6,
    "start_time": "2021-08-07T11:20:18.705Z"
   },
   {
    "duration": 24,
    "start_time": "2021-08-07T11:20:18.715Z"
   },
   {
    "duration": 1305,
    "start_time": "2021-08-07T11:20:18.743Z"
   },
   {
    "duration": 8,
    "start_time": "2021-08-07T11:20:20.050Z"
   },
   {
    "duration": 158,
    "start_time": "2021-08-07T11:20:20.062Z"
   },
   {
    "duration": 484,
    "start_time": "2021-08-07T11:20:20.222Z"
   },
   {
    "duration": 719,
    "start_time": "2021-08-07T11:20:20.710Z"
   },
   {
    "duration": 511,
    "start_time": "2021-08-07T11:20:21.432Z"
   },
   {
    "duration": 461,
    "start_time": "2021-08-07T11:20:21.946Z"
   },
   {
    "duration": 16,
    "start_time": "2021-08-07T11:20:22.410Z"
   },
   {
    "duration": 8,
    "start_time": "2021-08-07T11:20:22.429Z"
   },
   {
    "duration": 507,
    "start_time": "2021-08-07T11:20:22.439Z"
   },
   {
    "duration": 149,
    "start_time": "2021-08-07T11:20:22.948Z"
   },
   {
    "duration": 147,
    "start_time": "2021-08-07T11:20:23.101Z"
   },
   {
    "duration": 36,
    "start_time": "2021-08-07T11:20:23.251Z"
   },
   {
    "duration": 614,
    "start_time": "2021-08-07T11:20:23.290Z"
   },
   {
    "duration": 640,
    "start_time": "2021-08-07T11:20:23.910Z"
   },
   {
    "duration": 674,
    "start_time": "2021-08-07T11:20:24.553Z"
   },
   {
    "duration": 325,
    "start_time": "2021-08-07T11:20:25.230Z"
   },
   {
    "duration": 391,
    "start_time": "2021-08-07T11:20:25.557Z"
   },
   {
    "duration": 493,
    "start_time": "2021-08-07T11:20:25.952Z"
   },
   {
    "duration": 443,
    "start_time": "2021-08-07T11:20:26.448Z"
   },
   {
    "duration": 32,
    "start_time": "2021-08-07T11:20:26.896Z"
   },
   {
    "duration": 593,
    "start_time": "2021-08-07T11:20:26.931Z"
   },
   {
    "duration": 27,
    "start_time": "2021-08-07T11:20:27.527Z"
   },
   {
    "duration": 532,
    "start_time": "2021-08-07T11:20:27.557Z"
   },
   {
    "duration": 481,
    "start_time": "2021-08-07T11:20:28.092Z"
   },
   {
    "duration": 591,
    "start_time": "2021-08-07T11:20:28.577Z"
   },
   {
    "duration": 584,
    "start_time": "2021-08-07T11:20:29.172Z"
   },
   {
    "duration": 575,
    "start_time": "2021-08-07T11:20:29.759Z"
   },
   {
    "duration": 658,
    "start_time": "2021-08-07T11:20:30.337Z"
   },
   {
    "duration": 16,
    "start_time": "2021-08-07T11:20:45.477Z"
   },
   {
    "duration": 15,
    "start_time": "2021-08-07T11:20:55.347Z"
   },
   {
    "duration": 104,
    "start_time": "2021-08-07T11:21:19.753Z"
   },
   {
    "duration": 798,
    "start_time": "2021-10-06T09:21:36.673Z"
   },
   {
    "duration": 30,
    "start_time": "2021-10-06T09:21:37.473Z"
   },
   {
    "duration": 19,
    "start_time": "2021-10-06T09:21:38.635Z"
   },
   {
    "duration": 12,
    "start_time": "2021-10-06T09:21:39.304Z"
   },
   {
    "duration": 58,
    "start_time": "2021-10-06T09:21:39.766Z"
   },
   {
    "duration": 50,
    "start_time": "2021-10-06T09:21:40.220Z"
   },
   {
    "duration": 18,
    "start_time": "2021-10-06T09:21:40.652Z"
   },
   {
    "duration": 6,
    "start_time": "2021-10-06T09:21:41.656Z"
   },
   {
    "duration": 9,
    "start_time": "2021-10-06T09:21:42.130Z"
   },
   {
    "duration": 49,
    "start_time": "2021-10-06T09:21:42.605Z"
   },
   {
    "duration": 8,
    "start_time": "2021-10-06T09:21:43.126Z"
   },
   {
    "duration": 43,
    "start_time": "2021-10-06T09:21:43.568Z"
   },
   {
    "duration": 42,
    "start_time": "2021-10-06T09:21:44.192Z"
   },
   {
    "duration": 16,
    "start_time": "2021-10-06T09:21:44.377Z"
   },
   {
    "duration": 10,
    "start_time": "2021-10-06T09:21:47.302Z"
   },
   {
    "duration": 9,
    "start_time": "2021-10-06T09:21:47.732Z"
   },
   {
    "duration": 12,
    "start_time": "2021-10-06T09:21:48.480Z"
   },
   {
    "duration": 10,
    "start_time": "2021-10-06T09:21:48.927Z"
   },
   {
    "duration": 10,
    "start_time": "2021-10-06T09:21:49.422Z"
   },
   {
    "duration": 24,
    "start_time": "2021-10-06T09:21:50.448Z"
   },
   {
    "duration": 6,
    "start_time": "2021-10-06T09:21:52.712Z"
   },
   {
    "duration": 7,
    "start_time": "2021-10-06T11:42:40.870Z"
   },
   {
    "duration": 6,
    "start_time": "2021-10-06T11:42:45.283Z"
   },
   {
    "duration": 41,
    "start_time": "2021-10-06T11:42:48.875Z"
   }
  ],
  "kernelspec": {
   "display_name": "Python 3",
   "language": "python",
   "name": "python3"
  },
  "language_info": {
   "codemirror_mode": {
    "name": "ipython",
    "version": 3
   },
   "file_extension": ".py",
   "mimetype": "text/x-python",
   "name": "python",
   "nbconvert_exporter": "python",
   "pygments_lexer": "ipython3",
   "version": "3.8.8"
  },
  "toc": {
   "base_numbering": 1,
   "nav_menu": {},
   "number_sections": true,
   "sideBar": true,
   "skip_h1_title": true,
   "title_cell": "Содержание",
   "title_sidebar": "Contents",
   "toc_cell": true,
   "toc_position": {
    "height": "calc(100% - 180px)",
    "left": "10px",
    "top": "150px",
    "width": "314px"
   },
   "toc_section_display": true,
   "toc_window_display": false
  }
 },
 "nbformat": 4,
 "nbformat_minor": 2
}
