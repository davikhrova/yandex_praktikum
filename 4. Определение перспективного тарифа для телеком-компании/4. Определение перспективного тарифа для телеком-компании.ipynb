{
 "cells": [
  {
   "cell_type": "markdown",
   "metadata": {},
   "source": [
    "# Определение перспективного тарифа для телеком компании"
   ]
  },
  {
   "cell_type": "markdown",
   "metadata": {},
   "source": [
    "Необходимо провести анализ тарифов на небольшой выборке клиентов. В распоряжении данные 500 пользователей «Мегалайна»: кто они, откуда, каким тарифом пользуются, сколько звонков и сообщений каждый отправил за 2018 год. \n",
    "\n",
    "Нужно проанализировать поведение клиентов и сделать вывод — какой тариф лучше, «Смарт» или «Ультра».\n",
    "\n"
   ]
  },
  {
   "cell_type": "markdown",
   "metadata": {},
   "source": [
    "## Изучение данных"
   ]
  },
  {
   "cell_type": "markdown",
   "metadata": {},
   "source": [
    "Импорт файлов и общая информация:"
   ]
  },
  {
   "cell_type": "code",
   "execution_count": 1,
   "metadata": {},
   "outputs": [],
   "source": [
    "import pandas as pd\n",
    "import matplotlib.pyplot as plt \n",
    "import math\n",
    "pd.options.display.max_columns = None\n",
    "import numpy as np\n",
    "from scipy import stats as st\n",
    "\n",
    "calls = pd.read_csv('/datasets/calls.csv')\n",
    "internet = pd.read_csv('/datasets/internet.csv')\n",
    "messages = pd.read_csv('/datasets/messages.csv')\n",
    "tariffs = pd.read_csv('/datasets/tariffs.csv')\n",
    "users = pd.read_csv('/datasets/users.csv')"
   ]
  },
  {
   "cell_type": "markdown",
   "metadata": {},
   "source": [
    "Данные о звонках:"
   ]
  },
  {
   "cell_type": "code",
   "execution_count": 2,
   "metadata": {},
   "outputs": [
    {
     "name": "stdout",
     "output_type": "stream",
     "text": [
      "<class 'pandas.core.frame.DataFrame'>\n",
      "RangeIndex: 202607 entries, 0 to 202606\n",
      "Data columns (total 4 columns):\n",
      "id           202607 non-null object\n",
      "call_date    202607 non-null object\n",
      "duration     202607 non-null float64\n",
      "user_id      202607 non-null int64\n",
      "dtypes: float64(1), int64(1), object(2)\n",
      "memory usage: 6.2+ MB\n"
     ]
    },
    {
     "data": {
      "text/html": [
       "<div>\n",
       "<style scoped>\n",
       "    .dataframe tbody tr th:only-of-type {\n",
       "        vertical-align: middle;\n",
       "    }\n",
       "\n",
       "    .dataframe tbody tr th {\n",
       "        vertical-align: top;\n",
       "    }\n",
       "\n",
       "    .dataframe thead th {\n",
       "        text-align: right;\n",
       "    }\n",
       "</style>\n",
       "<table border=\"1\" class=\"dataframe\">\n",
       "  <thead>\n",
       "    <tr style=\"text-align: right;\">\n",
       "      <th></th>\n",
       "      <th>id</th>\n",
       "      <th>call_date</th>\n",
       "      <th>duration</th>\n",
       "      <th>user_id</th>\n",
       "    </tr>\n",
       "  </thead>\n",
       "  <tbody>\n",
       "    <tr>\n",
       "      <td>0</td>\n",
       "      <td>1000_0</td>\n",
       "      <td>2018-07-25</td>\n",
       "      <td>0.00</td>\n",
       "      <td>1000</td>\n",
       "    </tr>\n",
       "    <tr>\n",
       "      <td>1</td>\n",
       "      <td>1000_1</td>\n",
       "      <td>2018-08-17</td>\n",
       "      <td>0.00</td>\n",
       "      <td>1000</td>\n",
       "    </tr>\n",
       "    <tr>\n",
       "      <td>2</td>\n",
       "      <td>1000_2</td>\n",
       "      <td>2018-06-11</td>\n",
       "      <td>2.85</td>\n",
       "      <td>1000</td>\n",
       "    </tr>\n",
       "    <tr>\n",
       "      <td>3</td>\n",
       "      <td>1000_3</td>\n",
       "      <td>2018-09-21</td>\n",
       "      <td>13.80</td>\n",
       "      <td>1000</td>\n",
       "    </tr>\n",
       "    <tr>\n",
       "      <td>4</td>\n",
       "      <td>1000_4</td>\n",
       "      <td>2018-12-15</td>\n",
       "      <td>5.18</td>\n",
       "      <td>1000</td>\n",
       "    </tr>\n",
       "    <tr>\n",
       "      <td>5</td>\n",
       "      <td>1000_5</td>\n",
       "      <td>2018-11-02</td>\n",
       "      <td>0.00</td>\n",
       "      <td>1000</td>\n",
       "    </tr>\n",
       "    <tr>\n",
       "      <td>6</td>\n",
       "      <td>1000_6</td>\n",
       "      <td>2018-10-18</td>\n",
       "      <td>0.00</td>\n",
       "      <td>1000</td>\n",
       "    </tr>\n",
       "    <tr>\n",
       "      <td>7</td>\n",
       "      <td>1000_7</td>\n",
       "      <td>2018-08-22</td>\n",
       "      <td>18.31</td>\n",
       "      <td>1000</td>\n",
       "    </tr>\n",
       "    <tr>\n",
       "      <td>8</td>\n",
       "      <td>1000_8</td>\n",
       "      <td>2018-09-15</td>\n",
       "      <td>18.44</td>\n",
       "      <td>1000</td>\n",
       "    </tr>\n",
       "    <tr>\n",
       "      <td>9</td>\n",
       "      <td>1000_9</td>\n",
       "      <td>2018-08-15</td>\n",
       "      <td>0.00</td>\n",
       "      <td>1000</td>\n",
       "    </tr>\n",
       "  </tbody>\n",
       "</table>\n",
       "</div>"
      ],
      "text/plain": [
       "       id   call_date  duration  user_id\n",
       "0  1000_0  2018-07-25      0.00     1000\n",
       "1  1000_1  2018-08-17      0.00     1000\n",
       "2  1000_2  2018-06-11      2.85     1000\n",
       "3  1000_3  2018-09-21     13.80     1000\n",
       "4  1000_4  2018-12-15      5.18     1000\n",
       "5  1000_5  2018-11-02      0.00     1000\n",
       "6  1000_6  2018-10-18      0.00     1000\n",
       "7  1000_7  2018-08-22     18.31     1000\n",
       "8  1000_8  2018-09-15     18.44     1000\n",
       "9  1000_9  2018-08-15      0.00     1000"
      ]
     },
     "execution_count": 2,
     "metadata": {},
     "output_type": "execute_result"
    }
   ],
   "source": [
    "calls.info()\n",
    "calls.describe()\n",
    "calls.head(10)"
   ]
  },
  {
   "cell_type": "markdown",
   "metadata": {},
   "source": [
    "Данные об использовании интернет-трафика:"
   ]
  },
  {
   "cell_type": "code",
   "execution_count": 3,
   "metadata": {},
   "outputs": [
    {
     "name": "stdout",
     "output_type": "stream",
     "text": [
      "<class 'pandas.core.frame.DataFrame'>\n",
      "RangeIndex: 149396 entries, 0 to 149395\n",
      "Data columns (total 5 columns):\n",
      "Unnamed: 0      149396 non-null int64\n",
      "id              149396 non-null object\n",
      "mb_used         149396 non-null float64\n",
      "session_date    149396 non-null object\n",
      "user_id         149396 non-null int64\n",
      "dtypes: float64(1), int64(2), object(2)\n",
      "memory usage: 5.7+ MB\n"
     ]
    },
    {
     "data": {
      "text/html": [
       "<div>\n",
       "<style scoped>\n",
       "    .dataframe tbody tr th:only-of-type {\n",
       "        vertical-align: middle;\n",
       "    }\n",
       "\n",
       "    .dataframe tbody tr th {\n",
       "        vertical-align: top;\n",
       "    }\n",
       "\n",
       "    .dataframe thead th {\n",
       "        text-align: right;\n",
       "    }\n",
       "</style>\n",
       "<table border=\"1\" class=\"dataframe\">\n",
       "  <thead>\n",
       "    <tr style=\"text-align: right;\">\n",
       "      <th></th>\n",
       "      <th>Unnamed: 0</th>\n",
       "      <th>id</th>\n",
       "      <th>mb_used</th>\n",
       "      <th>session_date</th>\n",
       "      <th>user_id</th>\n",
       "    </tr>\n",
       "  </thead>\n",
       "  <tbody>\n",
       "    <tr>\n",
       "      <td>0</td>\n",
       "      <td>0</td>\n",
       "      <td>1000_0</td>\n",
       "      <td>112.95</td>\n",
       "      <td>2018-11-25</td>\n",
       "      <td>1000</td>\n",
       "    </tr>\n",
       "    <tr>\n",
       "      <td>1</td>\n",
       "      <td>1</td>\n",
       "      <td>1000_1</td>\n",
       "      <td>1052.81</td>\n",
       "      <td>2018-09-07</td>\n",
       "      <td>1000</td>\n",
       "    </tr>\n",
       "    <tr>\n",
       "      <td>2</td>\n",
       "      <td>2</td>\n",
       "      <td>1000_2</td>\n",
       "      <td>1197.26</td>\n",
       "      <td>2018-06-25</td>\n",
       "      <td>1000</td>\n",
       "    </tr>\n",
       "    <tr>\n",
       "      <td>3</td>\n",
       "      <td>3</td>\n",
       "      <td>1000_3</td>\n",
       "      <td>550.27</td>\n",
       "      <td>2018-08-22</td>\n",
       "      <td>1000</td>\n",
       "    </tr>\n",
       "    <tr>\n",
       "      <td>4</td>\n",
       "      <td>4</td>\n",
       "      <td>1000_4</td>\n",
       "      <td>302.56</td>\n",
       "      <td>2018-09-24</td>\n",
       "      <td>1000</td>\n",
       "    </tr>\n",
       "    <tr>\n",
       "      <td>5</td>\n",
       "      <td>5</td>\n",
       "      <td>1000_5</td>\n",
       "      <td>399.97</td>\n",
       "      <td>2018-10-02</td>\n",
       "      <td>1000</td>\n",
       "    </tr>\n",
       "    <tr>\n",
       "      <td>6</td>\n",
       "      <td>6</td>\n",
       "      <td>1000_6</td>\n",
       "      <td>540.08</td>\n",
       "      <td>2018-09-07</td>\n",
       "      <td>1000</td>\n",
       "    </tr>\n",
       "    <tr>\n",
       "      <td>7</td>\n",
       "      <td>7</td>\n",
       "      <td>1000_7</td>\n",
       "      <td>415.70</td>\n",
       "      <td>2018-07-11</td>\n",
       "      <td>1000</td>\n",
       "    </tr>\n",
       "    <tr>\n",
       "      <td>8</td>\n",
       "      <td>8</td>\n",
       "      <td>1000_8</td>\n",
       "      <td>505.40</td>\n",
       "      <td>2018-10-08</td>\n",
       "      <td>1000</td>\n",
       "    </tr>\n",
       "    <tr>\n",
       "      <td>9</td>\n",
       "      <td>9</td>\n",
       "      <td>1000_9</td>\n",
       "      <td>345.54</td>\n",
       "      <td>2018-09-03</td>\n",
       "      <td>1000</td>\n",
       "    </tr>\n",
       "  </tbody>\n",
       "</table>\n",
       "</div>"
      ],
      "text/plain": [
       "   Unnamed: 0      id  mb_used session_date  user_id\n",
       "0           0  1000_0   112.95   2018-11-25     1000\n",
       "1           1  1000_1  1052.81   2018-09-07     1000\n",
       "2           2  1000_2  1197.26   2018-06-25     1000\n",
       "3           3  1000_3   550.27   2018-08-22     1000\n",
       "4           4  1000_4   302.56   2018-09-24     1000\n",
       "5           5  1000_5   399.97   2018-10-02     1000\n",
       "6           6  1000_6   540.08   2018-09-07     1000\n",
       "7           7  1000_7   415.70   2018-07-11     1000\n",
       "8           8  1000_8   505.40   2018-10-08     1000\n",
       "9           9  1000_9   345.54   2018-09-03     1000"
      ]
     },
     "execution_count": 3,
     "metadata": {},
     "output_type": "execute_result"
    }
   ],
   "source": [
    "internet.info()\n",
    "internet.describe()\n",
    "internet.head(10)"
   ]
  },
  {
   "cell_type": "markdown",
   "metadata": {},
   "source": [
    "Данные о сообщениях:"
   ]
  },
  {
   "cell_type": "code",
   "execution_count": 4,
   "metadata": {},
   "outputs": [
    {
     "name": "stdout",
     "output_type": "stream",
     "text": [
      "<class 'pandas.core.frame.DataFrame'>\n",
      "RangeIndex: 123036 entries, 0 to 123035\n",
      "Data columns (total 3 columns):\n",
      "id              123036 non-null object\n",
      "message_date    123036 non-null object\n",
      "user_id         123036 non-null int64\n",
      "dtypes: int64(1), object(2)\n",
      "memory usage: 2.8+ MB\n"
     ]
    },
    {
     "data": {
      "text/html": [
       "<div>\n",
       "<style scoped>\n",
       "    .dataframe tbody tr th:only-of-type {\n",
       "        vertical-align: middle;\n",
       "    }\n",
       "\n",
       "    .dataframe tbody tr th {\n",
       "        vertical-align: top;\n",
       "    }\n",
       "\n",
       "    .dataframe thead th {\n",
       "        text-align: right;\n",
       "    }\n",
       "</style>\n",
       "<table border=\"1\" class=\"dataframe\">\n",
       "  <thead>\n",
       "    <tr style=\"text-align: right;\">\n",
       "      <th></th>\n",
       "      <th>id</th>\n",
       "      <th>message_date</th>\n",
       "      <th>user_id</th>\n",
       "    </tr>\n",
       "  </thead>\n",
       "  <tbody>\n",
       "    <tr>\n",
       "      <td>0</td>\n",
       "      <td>1000_0</td>\n",
       "      <td>2018-06-27</td>\n",
       "      <td>1000</td>\n",
       "    </tr>\n",
       "    <tr>\n",
       "      <td>1</td>\n",
       "      <td>1000_1</td>\n",
       "      <td>2018-10-08</td>\n",
       "      <td>1000</td>\n",
       "    </tr>\n",
       "    <tr>\n",
       "      <td>2</td>\n",
       "      <td>1000_2</td>\n",
       "      <td>2018-08-04</td>\n",
       "      <td>1000</td>\n",
       "    </tr>\n",
       "    <tr>\n",
       "      <td>3</td>\n",
       "      <td>1000_3</td>\n",
       "      <td>2018-06-16</td>\n",
       "      <td>1000</td>\n",
       "    </tr>\n",
       "    <tr>\n",
       "      <td>4</td>\n",
       "      <td>1000_4</td>\n",
       "      <td>2018-12-05</td>\n",
       "      <td>1000</td>\n",
       "    </tr>\n",
       "    <tr>\n",
       "      <td>5</td>\n",
       "      <td>1000_5</td>\n",
       "      <td>2018-06-20</td>\n",
       "      <td>1000</td>\n",
       "    </tr>\n",
       "    <tr>\n",
       "      <td>6</td>\n",
       "      <td>1000_6</td>\n",
       "      <td>2018-11-19</td>\n",
       "      <td>1000</td>\n",
       "    </tr>\n",
       "    <tr>\n",
       "      <td>7</td>\n",
       "      <td>1000_7</td>\n",
       "      <td>2018-10-29</td>\n",
       "      <td>1000</td>\n",
       "    </tr>\n",
       "    <tr>\n",
       "      <td>8</td>\n",
       "      <td>1000_8</td>\n",
       "      <td>2018-06-25</td>\n",
       "      <td>1000</td>\n",
       "    </tr>\n",
       "    <tr>\n",
       "      <td>9</td>\n",
       "      <td>1000_9</td>\n",
       "      <td>2018-12-18</td>\n",
       "      <td>1000</td>\n",
       "    </tr>\n",
       "  </tbody>\n",
       "</table>\n",
       "</div>"
      ],
      "text/plain": [
       "       id message_date  user_id\n",
       "0  1000_0   2018-06-27     1000\n",
       "1  1000_1   2018-10-08     1000\n",
       "2  1000_2   2018-08-04     1000\n",
       "3  1000_3   2018-06-16     1000\n",
       "4  1000_4   2018-12-05     1000\n",
       "5  1000_5   2018-06-20     1000\n",
       "6  1000_6   2018-11-19     1000\n",
       "7  1000_7   2018-10-29     1000\n",
       "8  1000_8   2018-06-25     1000\n",
       "9  1000_9   2018-12-18     1000"
      ]
     },
     "execution_count": 4,
     "metadata": {},
     "output_type": "execute_result"
    }
   ],
   "source": [
    "messages.info()\n",
    "messages.describe()\n",
    "messages.head(10)"
   ]
  },
  {
   "cell_type": "markdown",
   "metadata": {},
   "source": [
    "Информация о тарифах:"
   ]
  },
  {
   "cell_type": "code",
   "execution_count": 5,
   "metadata": {},
   "outputs": [
    {
     "name": "stdout",
     "output_type": "stream",
     "text": [
      "<class 'pandas.core.frame.DataFrame'>\n",
      "RangeIndex: 2 entries, 0 to 1\n",
      "Data columns (total 8 columns):\n",
      "messages_included        2 non-null int64\n",
      "mb_per_month_included    2 non-null int64\n",
      "minutes_included         2 non-null int64\n",
      "rub_monthly_fee          2 non-null int64\n",
      "rub_per_gb               2 non-null int64\n",
      "rub_per_message          2 non-null int64\n",
      "rub_per_minute           2 non-null int64\n",
      "tariff_name              2 non-null object\n",
      "dtypes: int64(7), object(1)\n",
      "memory usage: 256.0+ bytes\n"
     ]
    },
    {
     "data": {
      "text/html": [
       "<div>\n",
       "<style scoped>\n",
       "    .dataframe tbody tr th:only-of-type {\n",
       "        vertical-align: middle;\n",
       "    }\n",
       "\n",
       "    .dataframe tbody tr th {\n",
       "        vertical-align: top;\n",
       "    }\n",
       "\n",
       "    .dataframe thead th {\n",
       "        text-align: right;\n",
       "    }\n",
       "</style>\n",
       "<table border=\"1\" class=\"dataframe\">\n",
       "  <thead>\n",
       "    <tr style=\"text-align: right;\">\n",
       "      <th></th>\n",
       "      <th>messages_included</th>\n",
       "      <th>mb_per_month_included</th>\n",
       "      <th>minutes_included</th>\n",
       "      <th>rub_monthly_fee</th>\n",
       "      <th>rub_per_gb</th>\n",
       "      <th>rub_per_message</th>\n",
       "      <th>rub_per_minute</th>\n",
       "      <th>tariff_name</th>\n",
       "    </tr>\n",
       "  </thead>\n",
       "  <tbody>\n",
       "    <tr>\n",
       "      <td>0</td>\n",
       "      <td>50</td>\n",
       "      <td>15360</td>\n",
       "      <td>500</td>\n",
       "      <td>550</td>\n",
       "      <td>200</td>\n",
       "      <td>3</td>\n",
       "      <td>3</td>\n",
       "      <td>smart</td>\n",
       "    </tr>\n",
       "    <tr>\n",
       "      <td>1</td>\n",
       "      <td>1000</td>\n",
       "      <td>30720</td>\n",
       "      <td>3000</td>\n",
       "      <td>1950</td>\n",
       "      <td>150</td>\n",
       "      <td>1</td>\n",
       "      <td>1</td>\n",
       "      <td>ultra</td>\n",
       "    </tr>\n",
       "  </tbody>\n",
       "</table>\n",
       "</div>"
      ],
      "text/plain": [
       "   messages_included  mb_per_month_included  minutes_included  \\\n",
       "0                 50                  15360               500   \n",
       "1               1000                  30720              3000   \n",
       "\n",
       "   rub_monthly_fee  rub_per_gb  rub_per_message  rub_per_minute tariff_name  \n",
       "0              550         200                3               3       smart  \n",
       "1             1950         150                1               1       ultra  "
      ]
     },
     "execution_count": 5,
     "metadata": {},
     "output_type": "execute_result"
    }
   ],
   "source": [
    "tariffs.info()\n",
    "tariffs.describe()\n",
    "tariffs"
   ]
  },
  {
   "cell_type": "markdown",
   "metadata": {},
   "source": [
    "Информация о клиентах:"
   ]
  },
  {
   "cell_type": "code",
   "execution_count": 6,
   "metadata": {},
   "outputs": [
    {
     "name": "stdout",
     "output_type": "stream",
     "text": [
      "<class 'pandas.core.frame.DataFrame'>\n",
      "RangeIndex: 500 entries, 0 to 499\n",
      "Data columns (total 8 columns):\n",
      "user_id       500 non-null int64\n",
      "age           500 non-null int64\n",
      "churn_date    38 non-null object\n",
      "city          500 non-null object\n",
      "first_name    500 non-null object\n",
      "last_name     500 non-null object\n",
      "reg_date      500 non-null object\n",
      "tariff        500 non-null object\n",
      "dtypes: int64(2), object(6)\n",
      "memory usage: 31.4+ KB\n"
     ]
    },
    {
     "data": {
      "text/html": [
       "<div>\n",
       "<style scoped>\n",
       "    .dataframe tbody tr th:only-of-type {\n",
       "        vertical-align: middle;\n",
       "    }\n",
       "\n",
       "    .dataframe tbody tr th {\n",
       "        vertical-align: top;\n",
       "    }\n",
       "\n",
       "    .dataframe thead th {\n",
       "        text-align: right;\n",
       "    }\n",
       "</style>\n",
       "<table border=\"1\" class=\"dataframe\">\n",
       "  <thead>\n",
       "    <tr style=\"text-align: right;\">\n",
       "      <th></th>\n",
       "      <th>user_id</th>\n",
       "      <th>age</th>\n",
       "      <th>churn_date</th>\n",
       "      <th>city</th>\n",
       "      <th>first_name</th>\n",
       "      <th>last_name</th>\n",
       "      <th>reg_date</th>\n",
       "      <th>tariff</th>\n",
       "    </tr>\n",
       "  </thead>\n",
       "  <tbody>\n",
       "    <tr>\n",
       "      <td>0</td>\n",
       "      <td>1000</td>\n",
       "      <td>52</td>\n",
       "      <td>NaN</td>\n",
       "      <td>Краснодар</td>\n",
       "      <td>Рафаил</td>\n",
       "      <td>Верещагин</td>\n",
       "      <td>2018-05-25</td>\n",
       "      <td>ultra</td>\n",
       "    </tr>\n",
       "    <tr>\n",
       "      <td>1</td>\n",
       "      <td>1001</td>\n",
       "      <td>41</td>\n",
       "      <td>NaN</td>\n",
       "      <td>Москва</td>\n",
       "      <td>Иван</td>\n",
       "      <td>Ежов</td>\n",
       "      <td>2018-11-01</td>\n",
       "      <td>smart</td>\n",
       "    </tr>\n",
       "    <tr>\n",
       "      <td>2</td>\n",
       "      <td>1002</td>\n",
       "      <td>59</td>\n",
       "      <td>NaN</td>\n",
       "      <td>Стерлитамак</td>\n",
       "      <td>Евгений</td>\n",
       "      <td>Абрамович</td>\n",
       "      <td>2018-06-17</td>\n",
       "      <td>smart</td>\n",
       "    </tr>\n",
       "    <tr>\n",
       "      <td>3</td>\n",
       "      <td>1003</td>\n",
       "      <td>23</td>\n",
       "      <td>NaN</td>\n",
       "      <td>Москва</td>\n",
       "      <td>Белла</td>\n",
       "      <td>Белякова</td>\n",
       "      <td>2018-08-17</td>\n",
       "      <td>ultra</td>\n",
       "    </tr>\n",
       "    <tr>\n",
       "      <td>4</td>\n",
       "      <td>1004</td>\n",
       "      <td>68</td>\n",
       "      <td>NaN</td>\n",
       "      <td>Новокузнецк</td>\n",
       "      <td>Татьяна</td>\n",
       "      <td>Авдеенко</td>\n",
       "      <td>2018-05-14</td>\n",
       "      <td>ultra</td>\n",
       "    </tr>\n",
       "    <tr>\n",
       "      <td>5</td>\n",
       "      <td>1005</td>\n",
       "      <td>67</td>\n",
       "      <td>NaN</td>\n",
       "      <td>Набережные Челны</td>\n",
       "      <td>Афанасий</td>\n",
       "      <td>Горлов</td>\n",
       "      <td>2018-01-25</td>\n",
       "      <td>smart</td>\n",
       "    </tr>\n",
       "    <tr>\n",
       "      <td>6</td>\n",
       "      <td>1006</td>\n",
       "      <td>21</td>\n",
       "      <td>NaN</td>\n",
       "      <td>Ульяновск</td>\n",
       "      <td>Леонид</td>\n",
       "      <td>Ермолаев</td>\n",
       "      <td>2018-02-26</td>\n",
       "      <td>smart</td>\n",
       "    </tr>\n",
       "    <tr>\n",
       "      <td>7</td>\n",
       "      <td>1007</td>\n",
       "      <td>65</td>\n",
       "      <td>NaN</td>\n",
       "      <td>Москва</td>\n",
       "      <td>Юна</td>\n",
       "      <td>Березина</td>\n",
       "      <td>2018-04-19</td>\n",
       "      <td>smart</td>\n",
       "    </tr>\n",
       "    <tr>\n",
       "      <td>8</td>\n",
       "      <td>1008</td>\n",
       "      <td>63</td>\n",
       "      <td>NaN</td>\n",
       "      <td>Челябинск</td>\n",
       "      <td>Рустэм</td>\n",
       "      <td>Пономарёв</td>\n",
       "      <td>2018-12-19</td>\n",
       "      <td>smart</td>\n",
       "    </tr>\n",
       "    <tr>\n",
       "      <td>9</td>\n",
       "      <td>1009</td>\n",
       "      <td>24</td>\n",
       "      <td>NaN</td>\n",
       "      <td>Пермь</td>\n",
       "      <td>Василиса</td>\n",
       "      <td>Блинова</td>\n",
       "      <td>2018-03-22</td>\n",
       "      <td>smart</td>\n",
       "    </tr>\n",
       "  </tbody>\n",
       "</table>\n",
       "</div>"
      ],
      "text/plain": [
       "   user_id  age churn_date              city first_name  last_name  \\\n",
       "0     1000   52        NaN         Краснодар     Рафаил  Верещагин   \n",
       "1     1001   41        NaN            Москва       Иван       Ежов   \n",
       "2     1002   59        NaN       Стерлитамак    Евгений  Абрамович   \n",
       "3     1003   23        NaN            Москва      Белла   Белякова   \n",
       "4     1004   68        NaN       Новокузнецк    Татьяна   Авдеенко   \n",
       "5     1005   67        NaN  Набережные Челны   Афанасий     Горлов   \n",
       "6     1006   21        NaN         Ульяновск     Леонид   Ермолаев   \n",
       "7     1007   65        NaN            Москва        Юна   Березина   \n",
       "8     1008   63        NaN         Челябинск     Рустэм  Пономарёв   \n",
       "9     1009   24        NaN             Пермь   Василиса    Блинова   \n",
       "\n",
       "     reg_date tariff  \n",
       "0  2018-05-25  ultra  \n",
       "1  2018-11-01  smart  \n",
       "2  2018-06-17  smart  \n",
       "3  2018-08-17  ultra  \n",
       "4  2018-05-14  ultra  \n",
       "5  2018-01-25  smart  \n",
       "6  2018-02-26  smart  \n",
       "7  2018-04-19  smart  \n",
       "8  2018-12-19  smart  \n",
       "9  2018-03-22  smart  "
      ]
     },
     "execution_count": 6,
     "metadata": {},
     "output_type": "execute_result"
    }
   ],
   "source": [
    "users.info()\n",
    "users.describe()\n",
    "users.head(10)"
   ]
  },
  {
   "cell_type": "markdown",
   "metadata": {},
   "source": [
    "### Выводы"
   ]
  },
  {
   "cell_type": "markdown",
   "metadata": {},
   "source": [
    "Пропущенные значения имееются только в таблице с информацией о пользователях, по столбцу \"Дата прекращения использования тарифа\", по условию эти данные не заполнены, если клиент продолжает использовать тариф. \n",
    "\n",
    "После объединения датафреймов проверю пропущенные значения еще раз.\n",
    "\n",
    "Требуется замена данных во всех массивах со столбцами, содержащими даты. \n",
    "Необходимо округлить длительность интернет-сессий до Гб. "
   ]
  },
  {
   "cell_type": "markdown",
   "metadata": {},
   "source": [
    "## Предобработка данных"
   ]
  },
  {
   "cell_type": "markdown",
   "metadata": {},
   "source": [
    "### Изменение типов данных"
   ]
  },
  {
   "cell_type": "markdown",
   "metadata": {},
   "source": [
    "Изменю тип данных для массивов 'calls', 'messages', 'internet' по столбцам дата звонка/сообщения/использования интернета: "
   ]
  },
  {
   "cell_type": "code",
   "execution_count": 7,
   "metadata": {},
   "outputs": [],
   "source": [
    "calls['call_date'] = pd.to_datetime(calls['call_date'], format='%Y-%m-%dT%H:%M:%S')\n",
    "messages['message_date'] = pd.to_datetime(messages['message_date'], format='%Y-%m-%dT%H:%M:%S')\n",
    "internet['session_date'] = pd.to_datetime(internet['session_date'], format='%Y-%m-%dT%H:%M:%S')"
   ]
  },
  {
   "cell_type": "markdown",
   "metadata": {},
   "source": [
    "А также в массиве 'users' для дат подключения и отключения тарифа:"
   ]
  },
  {
   "cell_type": "code",
   "execution_count": 8,
   "metadata": {},
   "outputs": [],
   "source": [
    "users['reg_date'] = pd.to_datetime(users['reg_date'], format='%Y-%m-%dT%H:%M:%S')\n",
    "users['churn_date'] = pd.to_datetime(users['churn_date'], format='%Y-%m-%dT%H:%M:%S')"
   ]
  },
  {
   "cell_type": "markdown",
   "metadata": {},
   "source": [
    "Для столба 'calls' изменю тип данных в столбце 'duration' на целочисленный, с округлением вверх:"
   ]
  },
  {
   "cell_type": "code",
   "execution_count": 9,
   "metadata": {},
   "outputs": [],
   "source": [
    "calls['duration'] = np.ceil(calls['duration'])\n",
    "calls['duration'] = calls['duration'].astype('int')"
   ]
  },
  {
   "cell_type": "markdown",
   "metadata": {},
   "source": [
    "### Обработка дубликатов"
   ]
  },
  {
   "cell_type": "markdown",
   "metadata": {},
   "source": [
    "Проверю наличие дублей в каждом датафрейме:"
   ]
  },
  {
   "cell_type": "code",
   "execution_count": 10,
   "metadata": {},
   "outputs": [
    {
     "data": {
      "text/plain": [
       "0"
      ]
     },
     "execution_count": 10,
     "metadata": {},
     "output_type": "execute_result"
    }
   ],
   "source": [
    "calls.duplicated().sum()"
   ]
  },
  {
   "cell_type": "markdown",
   "metadata": {},
   "source": [
    "Дубли в 'calls' отсутствуют"
   ]
  },
  {
   "cell_type": "code",
   "execution_count": 11,
   "metadata": {},
   "outputs": [
    {
     "data": {
      "text/plain": [
       "0"
      ]
     },
     "execution_count": 11,
     "metadata": {},
     "output_type": "execute_result"
    }
   ],
   "source": [
    "messages.duplicated().sum()"
   ]
  },
  {
   "cell_type": "markdown",
   "metadata": {},
   "source": [
    "Дубли в 'messages' отсутствуют"
   ]
  },
  {
   "cell_type": "code",
   "execution_count": 12,
   "metadata": {},
   "outputs": [
    {
     "data": {
      "text/plain": [
       "0"
      ]
     },
     "execution_count": 12,
     "metadata": {},
     "output_type": "execute_result"
    }
   ],
   "source": [
    "internet.duplicated().sum()"
   ]
  },
  {
   "cell_type": "markdown",
   "metadata": {},
   "source": [
    "Дубли в 'internet' отсутствуют"
   ]
  },
  {
   "cell_type": "code",
   "execution_count": 13,
   "metadata": {},
   "outputs": [
    {
     "data": {
      "text/plain": [
       "0"
      ]
     },
     "execution_count": 13,
     "metadata": {},
     "output_type": "execute_result"
    }
   ],
   "source": [
    "tariffs.duplicated().sum()"
   ]
  },
  {
   "cell_type": "markdown",
   "metadata": {},
   "source": [
    "Дубли в 'tariffs' отсутствуют"
   ]
  },
  {
   "cell_type": "code",
   "execution_count": 14,
   "metadata": {},
   "outputs": [
    {
     "data": {
      "text/plain": [
       "0"
      ]
     },
     "execution_count": 14,
     "metadata": {},
     "output_type": "execute_result"
    }
   ],
   "source": [
    "users.duplicated().sum()"
   ]
  },
  {
   "cell_type": "markdown",
   "metadata": {},
   "source": [
    "Дубли в 'users' отсутствуют"
   ]
  },
  {
   "cell_type": "markdown",
   "metadata": {},
   "source": [
    "### Подготовка пользовательских данных"
   ]
  },
  {
   "cell_type": "markdown",
   "metadata": {},
   "source": [
    "#### Рассчитаем количество израсходованных минут, сообщений и трафика по месяцам для каждого клиента:"
   ]
  },
  {
   "cell_type": "markdown",
   "metadata": {},
   "source": [
    "Добавлю столбец с номером месяца в массив 'calls':"
   ]
  },
  {
   "cell_type": "code",
   "execution_count": 15,
   "metadata": {},
   "outputs": [],
   "source": [
    "calls['month'] = calls['call_date'].dt.month"
   ]
  },
  {
   "cell_type": "markdown",
   "metadata": {},
   "source": [
    "А теперь сгруппирую массив по сумме израсходованных минут каждым пользователем в каждый месяц:"
   ]
  },
  {
   "cell_type": "code",
   "execution_count": 16,
   "metadata": {},
   "outputs": [
    {
     "data": {
      "text/html": [
       "<div>\n",
       "<style scoped>\n",
       "    .dataframe tbody tr th:only-of-type {\n",
       "        vertical-align: middle;\n",
       "    }\n",
       "\n",
       "    .dataframe tbody tr th {\n",
       "        vertical-align: top;\n",
       "    }\n",
       "\n",
       "    .dataframe thead th {\n",
       "        text-align: right;\n",
       "    }\n",
       "</style>\n",
       "<table border=\"1\" class=\"dataframe\">\n",
       "  <thead>\n",
       "    <tr style=\"text-align: right;\">\n",
       "      <th></th>\n",
       "      <th>user_id</th>\n",
       "      <th>month</th>\n",
       "      <th>duration</th>\n",
       "      <th>count_calls</th>\n",
       "    </tr>\n",
       "  </thead>\n",
       "  <tbody>\n",
       "    <tr>\n",
       "      <td>0</td>\n",
       "      <td>1000</td>\n",
       "      <td>5</td>\n",
       "      <td>159</td>\n",
       "      <td>22</td>\n",
       "    </tr>\n",
       "    <tr>\n",
       "      <td>1</td>\n",
       "      <td>1000</td>\n",
       "      <td>6</td>\n",
       "      <td>172</td>\n",
       "      <td>43</td>\n",
       "    </tr>\n",
       "    <tr>\n",
       "      <td>2</td>\n",
       "      <td>1000</td>\n",
       "      <td>7</td>\n",
       "      <td>340</td>\n",
       "      <td>47</td>\n",
       "    </tr>\n",
       "    <tr>\n",
       "      <td>3</td>\n",
       "      <td>1000</td>\n",
       "      <td>8</td>\n",
       "      <td>408</td>\n",
       "      <td>52</td>\n",
       "    </tr>\n",
       "    <tr>\n",
       "      <td>4</td>\n",
       "      <td>1000</td>\n",
       "      <td>9</td>\n",
       "      <td>466</td>\n",
       "      <td>58</td>\n",
       "    </tr>\n",
       "    <tr>\n",
       "      <td>...</td>\n",
       "      <td>...</td>\n",
       "      <td>...</td>\n",
       "      <td>...</td>\n",
       "      <td>...</td>\n",
       "    </tr>\n",
       "    <tr>\n",
       "      <td>3169</td>\n",
       "      <td>1498</td>\n",
       "      <td>10</td>\n",
       "      <td>247</td>\n",
       "      <td>41</td>\n",
       "    </tr>\n",
       "    <tr>\n",
       "      <td>3170</td>\n",
       "      <td>1499</td>\n",
       "      <td>9</td>\n",
       "      <td>70</td>\n",
       "      <td>9</td>\n",
       "    </tr>\n",
       "    <tr>\n",
       "      <td>3171</td>\n",
       "      <td>1499</td>\n",
       "      <td>10</td>\n",
       "      <td>449</td>\n",
       "      <td>68</td>\n",
       "    </tr>\n",
       "    <tr>\n",
       "      <td>3172</td>\n",
       "      <td>1499</td>\n",
       "      <td>11</td>\n",
       "      <td>612</td>\n",
       "      <td>74</td>\n",
       "    </tr>\n",
       "    <tr>\n",
       "      <td>3173</td>\n",
       "      <td>1499</td>\n",
       "      <td>12</td>\n",
       "      <td>492</td>\n",
       "      <td>69</td>\n",
       "    </tr>\n",
       "  </tbody>\n",
       "</table>\n",
       "<p>3174 rows × 4 columns</p>\n",
       "</div>"
      ],
      "text/plain": [
       "      user_id  month  duration  count_calls\n",
       "0        1000      5       159           22\n",
       "1        1000      6       172           43\n",
       "2        1000      7       340           47\n",
       "3        1000      8       408           52\n",
       "4        1000      9       466           58\n",
       "...       ...    ...       ...          ...\n",
       "3169     1498     10       247           41\n",
       "3170     1499      9        70            9\n",
       "3171     1499     10       449           68\n",
       "3172     1499     11       612           74\n",
       "3173     1499     12       492           69\n",
       "\n",
       "[3174 rows x 4 columns]"
      ]
     },
     "execution_count": 16,
     "metadata": {},
     "output_type": "execute_result"
    }
   ],
   "source": [
    "calls_sum = calls.groupby(['user_id', 'month'])['duration'].sum().reset_index()\n",
    "calls_count = calls.groupby(['user_id', 'month'])['duration'].count().reset_index()\n",
    "calls_count = calls_count.rename(columns = {'duration':'count_calls'})\n",
    "calls_group = calls_sum.merge(calls_count, on = ['user_id', 'month'], how = 'outer')\n",
    "calls_group"
   ]
  },
  {
   "cell_type": "markdown",
   "metadata": {},
   "source": [
    "Сделаю тоже самое для массивов 'messages' и 'internet'"
   ]
  },
  {
   "cell_type": "code",
   "execution_count": 17,
   "metadata": {},
   "outputs": [],
   "source": [
    "internet['month'] = internet['session_date'].dt.month\n",
    "internet_group = internet.groupby(['user_id', 'month'])['mb_used'].sum().reset_index()"
   ]
  },
  {
   "cell_type": "code",
   "execution_count": 18,
   "metadata": {},
   "outputs": [],
   "source": [
    "messages['month'] = messages['message_date'].dt.month\n",
    "messages_group = messages.groupby(['user_id', 'month'])['id'].count().reset_index().rename(columns = {'id':'messages'})"
   ]
  },
  {
   "cell_type": "markdown",
   "metadata": {},
   "source": [
    "Объединю полученные данные:"
   ]
  },
  {
   "cell_type": "code",
   "execution_count": 19,
   "metadata": {},
   "outputs": [
    {
     "data": {
      "text/html": [
       "<div>\n",
       "<style scoped>\n",
       "    .dataframe tbody tr th:only-of-type {\n",
       "        vertical-align: middle;\n",
       "    }\n",
       "\n",
       "    .dataframe tbody tr th {\n",
       "        vertical-align: top;\n",
       "    }\n",
       "\n",
       "    .dataframe thead th {\n",
       "        text-align: right;\n",
       "    }\n",
       "</style>\n",
       "<table border=\"1\" class=\"dataframe\">\n",
       "  <thead>\n",
       "    <tr style=\"text-align: right;\">\n",
       "      <th></th>\n",
       "      <th>user_id</th>\n",
       "      <th>month</th>\n",
       "      <th>duration</th>\n",
       "      <th>count_calls</th>\n",
       "      <th>mb_used</th>\n",
       "      <th>messages</th>\n",
       "    </tr>\n",
       "  </thead>\n",
       "  <tbody>\n",
       "    <tr>\n",
       "      <td>0</td>\n",
       "      <td>1000</td>\n",
       "      <td>5</td>\n",
       "      <td>159.0</td>\n",
       "      <td>22.0</td>\n",
       "      <td>2253.49</td>\n",
       "      <td>22.0</td>\n",
       "    </tr>\n",
       "    <tr>\n",
       "      <td>1</td>\n",
       "      <td>1000</td>\n",
       "      <td>6</td>\n",
       "      <td>172.0</td>\n",
       "      <td>43.0</td>\n",
       "      <td>23233.77</td>\n",
       "      <td>60.0</td>\n",
       "    </tr>\n",
       "    <tr>\n",
       "      <td>2</td>\n",
       "      <td>1000</td>\n",
       "      <td>7</td>\n",
       "      <td>340.0</td>\n",
       "      <td>47.0</td>\n",
       "      <td>14003.64</td>\n",
       "      <td>75.0</td>\n",
       "    </tr>\n",
       "    <tr>\n",
       "      <td>3</td>\n",
       "      <td>1000</td>\n",
       "      <td>8</td>\n",
       "      <td>408.0</td>\n",
       "      <td>52.0</td>\n",
       "      <td>14055.93</td>\n",
       "      <td>81.0</td>\n",
       "    </tr>\n",
       "    <tr>\n",
       "      <td>4</td>\n",
       "      <td>1000</td>\n",
       "      <td>9</td>\n",
       "      <td>466.0</td>\n",
       "      <td>58.0</td>\n",
       "      <td>14568.91</td>\n",
       "      <td>57.0</td>\n",
       "    </tr>\n",
       "    <tr>\n",
       "      <td>...</td>\n",
       "      <td>...</td>\n",
       "      <td>...</td>\n",
       "      <td>...</td>\n",
       "      <td>...</td>\n",
       "      <td>...</td>\n",
       "      <td>...</td>\n",
       "    </tr>\n",
       "    <tr>\n",
       "      <td>3209</td>\n",
       "      <td>1489</td>\n",
       "      <td>8</td>\n",
       "      <td>NaN</td>\n",
       "      <td>NaN</td>\n",
       "      <td>11050.56</td>\n",
       "      <td>17.0</td>\n",
       "    </tr>\n",
       "    <tr>\n",
       "      <td>3210</td>\n",
       "      <td>1489</td>\n",
       "      <td>9</td>\n",
       "      <td>NaN</td>\n",
       "      <td>NaN</td>\n",
       "      <td>17206.30</td>\n",
       "      <td>32.0</td>\n",
       "    </tr>\n",
       "    <tr>\n",
       "      <td>3211</td>\n",
       "      <td>1489</td>\n",
       "      <td>10</td>\n",
       "      <td>NaN</td>\n",
       "      <td>NaN</td>\n",
       "      <td>19559.44</td>\n",
       "      <td>21.0</td>\n",
       "    </tr>\n",
       "    <tr>\n",
       "      <td>3212</td>\n",
       "      <td>1489</td>\n",
       "      <td>11</td>\n",
       "      <td>NaN</td>\n",
       "      <td>NaN</td>\n",
       "      <td>17491.56</td>\n",
       "      <td>20.0</td>\n",
       "    </tr>\n",
       "    <tr>\n",
       "      <td>3213</td>\n",
       "      <td>1489</td>\n",
       "      <td>12</td>\n",
       "      <td>NaN</td>\n",
       "      <td>NaN</td>\n",
       "      <td>17322.51</td>\n",
       "      <td>35.0</td>\n",
       "    </tr>\n",
       "  </tbody>\n",
       "</table>\n",
       "<p>3214 rows × 6 columns</p>\n",
       "</div>"
      ],
      "text/plain": [
       "      user_id  month  duration  count_calls   mb_used  messages\n",
       "0        1000      5     159.0         22.0   2253.49      22.0\n",
       "1        1000      6     172.0         43.0  23233.77      60.0\n",
       "2        1000      7     340.0         47.0  14003.64      75.0\n",
       "3        1000      8     408.0         52.0  14055.93      81.0\n",
       "4        1000      9     466.0         58.0  14568.91      57.0\n",
       "...       ...    ...       ...          ...       ...       ...\n",
       "3209     1489      8       NaN          NaN  11050.56      17.0\n",
       "3210     1489      9       NaN          NaN  17206.30      32.0\n",
       "3211     1489     10       NaN          NaN  19559.44      21.0\n",
       "3212     1489     11       NaN          NaN  17491.56      20.0\n",
       "3213     1489     12       NaN          NaN  17322.51      35.0\n",
       "\n",
       "[3214 rows x 6 columns]"
      ]
     },
     "execution_count": 19,
     "metadata": {},
     "output_type": "execute_result"
    }
   ],
   "source": [
    "data = calls_group.merge(internet_group, on = ['user_id', 'month'], how = 'outer')\n",
    "data = data.merge(messages_group, on = ['user_id', 'month'], how = 'outer')\n",
    "data\n"
   ]
  },
  {
   "cell_type": "markdown",
   "metadata": {},
   "source": [
    "Полученные данные необходимо объединить с данными о пользователях и тарифах, для этого необходимо переименовать столбец 'tariff_name' в tariffs:"
   ]
  },
  {
   "cell_type": "code",
   "execution_count": 20,
   "metadata": {},
   "outputs": [],
   "source": [
    "tariffs = tariffs.rename(columns = {'tariff_name': 'tariff'})"
   ]
  },
  {
   "cell_type": "markdown",
   "metadata": {},
   "source": [
    "Теперь все данные можно собрать в один массив:"
   ]
  },
  {
   "cell_type": "code",
   "execution_count": 21,
   "metadata": {
    "scrolled": false
   },
   "outputs": [
    {
     "data": {
      "text/html": [
       "<div>\n",
       "<style scoped>\n",
       "    .dataframe tbody tr th:only-of-type {\n",
       "        vertical-align: middle;\n",
       "    }\n",
       "\n",
       "    .dataframe tbody tr th {\n",
       "        vertical-align: top;\n",
       "    }\n",
       "\n",
       "    .dataframe thead th {\n",
       "        text-align: right;\n",
       "    }\n",
       "</style>\n",
       "<table border=\"1\" class=\"dataframe\">\n",
       "  <thead>\n",
       "    <tr style=\"text-align: right;\">\n",
       "      <th></th>\n",
       "      <th>index</th>\n",
       "      <th>user_id</th>\n",
       "      <th>month</th>\n",
       "      <th>duration</th>\n",
       "      <th>count_calls</th>\n",
       "      <th>mb_used</th>\n",
       "      <th>messages</th>\n",
       "      <th>age</th>\n",
       "      <th>churn_date</th>\n",
       "      <th>city</th>\n",
       "      <th>first_name</th>\n",
       "      <th>last_name</th>\n",
       "      <th>reg_date</th>\n",
       "      <th>tariff</th>\n",
       "      <th>messages_included</th>\n",
       "      <th>mb_per_month_included</th>\n",
       "      <th>minutes_included</th>\n",
       "      <th>rub_monthly_fee</th>\n",
       "      <th>rub_per_gb</th>\n",
       "      <th>rub_per_message</th>\n",
       "      <th>rub_per_minute</th>\n",
       "    </tr>\n",
       "  </thead>\n",
       "  <tbody>\n",
       "    <tr>\n",
       "      <td>0</td>\n",
       "      <td>0</td>\n",
       "      <td>1000</td>\n",
       "      <td>5.0</td>\n",
       "      <td>159.0</td>\n",
       "      <td>22.0</td>\n",
       "      <td>2253.49</td>\n",
       "      <td>22.0</td>\n",
       "      <td>52</td>\n",
       "      <td>NaT</td>\n",
       "      <td>Краснодар</td>\n",
       "      <td>Рафаил</td>\n",
       "      <td>Верещагин</td>\n",
       "      <td>2018-05-25</td>\n",
       "      <td>ultra</td>\n",
       "      <td>1000</td>\n",
       "      <td>30720</td>\n",
       "      <td>3000</td>\n",
       "      <td>1950</td>\n",
       "      <td>150</td>\n",
       "      <td>1</td>\n",
       "      <td>1</td>\n",
       "    </tr>\n",
       "    <tr>\n",
       "      <td>1</td>\n",
       "      <td>1</td>\n",
       "      <td>1000</td>\n",
       "      <td>6.0</td>\n",
       "      <td>172.0</td>\n",
       "      <td>43.0</td>\n",
       "      <td>23233.77</td>\n",
       "      <td>60.0</td>\n",
       "      <td>52</td>\n",
       "      <td>NaT</td>\n",
       "      <td>Краснодар</td>\n",
       "      <td>Рафаил</td>\n",
       "      <td>Верещагин</td>\n",
       "      <td>2018-05-25</td>\n",
       "      <td>ultra</td>\n",
       "      <td>1000</td>\n",
       "      <td>30720</td>\n",
       "      <td>3000</td>\n",
       "      <td>1950</td>\n",
       "      <td>150</td>\n",
       "      <td>1</td>\n",
       "      <td>1</td>\n",
       "    </tr>\n",
       "    <tr>\n",
       "      <td>2</td>\n",
       "      <td>2</td>\n",
       "      <td>1000</td>\n",
       "      <td>7.0</td>\n",
       "      <td>340.0</td>\n",
       "      <td>47.0</td>\n",
       "      <td>14003.64</td>\n",
       "      <td>75.0</td>\n",
       "      <td>52</td>\n",
       "      <td>NaT</td>\n",
       "      <td>Краснодар</td>\n",
       "      <td>Рафаил</td>\n",
       "      <td>Верещагин</td>\n",
       "      <td>2018-05-25</td>\n",
       "      <td>ultra</td>\n",
       "      <td>1000</td>\n",
       "      <td>30720</td>\n",
       "      <td>3000</td>\n",
       "      <td>1950</td>\n",
       "      <td>150</td>\n",
       "      <td>1</td>\n",
       "      <td>1</td>\n",
       "    </tr>\n",
       "    <tr>\n",
       "      <td>3</td>\n",
       "      <td>3</td>\n",
       "      <td>1000</td>\n",
       "      <td>8.0</td>\n",
       "      <td>408.0</td>\n",
       "      <td>52.0</td>\n",
       "      <td>14055.93</td>\n",
       "      <td>81.0</td>\n",
       "      <td>52</td>\n",
       "      <td>NaT</td>\n",
       "      <td>Краснодар</td>\n",
       "      <td>Рафаил</td>\n",
       "      <td>Верещагин</td>\n",
       "      <td>2018-05-25</td>\n",
       "      <td>ultra</td>\n",
       "      <td>1000</td>\n",
       "      <td>30720</td>\n",
       "      <td>3000</td>\n",
       "      <td>1950</td>\n",
       "      <td>150</td>\n",
       "      <td>1</td>\n",
       "      <td>1</td>\n",
       "    </tr>\n",
       "    <tr>\n",
       "      <td>4</td>\n",
       "      <td>4</td>\n",
       "      <td>1000</td>\n",
       "      <td>9.0</td>\n",
       "      <td>466.0</td>\n",
       "      <td>58.0</td>\n",
       "      <td>14568.91</td>\n",
       "      <td>57.0</td>\n",
       "      <td>52</td>\n",
       "      <td>NaT</td>\n",
       "      <td>Краснодар</td>\n",
       "      <td>Рафаил</td>\n",
       "      <td>Верещагин</td>\n",
       "      <td>2018-05-25</td>\n",
       "      <td>ultra</td>\n",
       "      <td>1000</td>\n",
       "      <td>30720</td>\n",
       "      <td>3000</td>\n",
       "      <td>1950</td>\n",
       "      <td>150</td>\n",
       "      <td>1</td>\n",
       "      <td>1</td>\n",
       "    </tr>\n",
       "  </tbody>\n",
       "</table>\n",
       "</div>"
      ],
      "text/plain": [
       "   index  user_id  month  duration  count_calls   mb_used  messages  age  \\\n",
       "0      0     1000    5.0     159.0         22.0   2253.49      22.0   52   \n",
       "1      1     1000    6.0     172.0         43.0  23233.77      60.0   52   \n",
       "2      2     1000    7.0     340.0         47.0  14003.64      75.0   52   \n",
       "3      3     1000    8.0     408.0         52.0  14055.93      81.0   52   \n",
       "4      4     1000    9.0     466.0         58.0  14568.91      57.0   52   \n",
       "\n",
       "  churn_date       city first_name  last_name   reg_date tariff  \\\n",
       "0        NaT  Краснодар     Рафаил  Верещагин 2018-05-25  ultra   \n",
       "1        NaT  Краснодар     Рафаил  Верещагин 2018-05-25  ultra   \n",
       "2        NaT  Краснодар     Рафаил  Верещагин 2018-05-25  ultra   \n",
       "3        NaT  Краснодар     Рафаил  Верещагин 2018-05-25  ultra   \n",
       "4        NaT  Краснодар     Рафаил  Верещагин 2018-05-25  ultra   \n",
       "\n",
       "   messages_included  mb_per_month_included  minutes_included  \\\n",
       "0               1000                  30720              3000   \n",
       "1               1000                  30720              3000   \n",
       "2               1000                  30720              3000   \n",
       "3               1000                  30720              3000   \n",
       "4               1000                  30720              3000   \n",
       "\n",
       "   rub_monthly_fee  rub_per_gb  rub_per_message  rub_per_minute  \n",
       "0             1950         150                1               1  \n",
       "1             1950         150                1               1  \n",
       "2             1950         150                1               1  \n",
       "3             1950         150                1               1  \n",
       "4             1950         150                1               1  "
      ]
     },
     "execution_count": 21,
     "metadata": {},
     "output_type": "execute_result"
    }
   ],
   "source": [
    "data = data.merge(users, on = ['user_id'], how = 'outer').reset_index()\n",
    "data = data.merge(tariffs, on = ['tariff'], how = 'outer')\n",
    "data.head()"
   ]
  },
  {
   "cell_type": "code",
   "execution_count": 22,
   "metadata": {},
   "outputs": [
    {
     "name": "stdout",
     "output_type": "stream",
     "text": [
      "<class 'pandas.core.frame.DataFrame'>\n",
      "Int64Index: 3216 entries, 0 to 3215\n",
      "Data columns (total 21 columns):\n",
      "index                    3216 non-null int64\n",
      "user_id                  3216 non-null int64\n",
      "month                    3214 non-null float64\n",
      "duration                 3174 non-null float64\n",
      "count_calls              3174 non-null float64\n",
      "mb_used                  3203 non-null float64\n",
      "messages                 2717 non-null float64\n",
      "age                      3216 non-null int64\n",
      "churn_date               189 non-null datetime64[ns]\n",
      "city                     3216 non-null object\n",
      "first_name               3216 non-null object\n",
      "last_name                3216 non-null object\n",
      "reg_date                 3216 non-null datetime64[ns]\n",
      "tariff                   3216 non-null object\n",
      "messages_included        3216 non-null int64\n",
      "mb_per_month_included    3216 non-null int64\n",
      "minutes_included         3216 non-null int64\n",
      "rub_monthly_fee          3216 non-null int64\n",
      "rub_per_gb               3216 non-null int64\n",
      "rub_per_message          3216 non-null int64\n",
      "rub_per_minute           3216 non-null int64\n",
      "dtypes: datetime64[ns](2), float64(5), int64(10), object(4)\n",
      "memory usage: 552.8+ KB\n"
     ]
    }
   ],
   "source": [
    "data.info()"
   ]
  },
  {
   "cell_type": "markdown",
   "metadata": {},
   "source": [
    "Заменю все пропуски в длительности разговоров, сообщений и интернет-трафика на 0, отсутствие данных говорит о том, что клиент не использовал услугу.\n"
   ]
  },
  {
   "cell_type": "code",
   "execution_count": 23,
   "metadata": {
    "scrolled": true
   },
   "outputs": [
    {
     "ename": "KeyError",
     "evalue": "'minutes_over'",
     "output_type": "error",
     "traceback": [
      "\u001b[0;31m---------------------------------------------------------------------------\u001b[0m",
      "\u001b[0;31mKeyError\u001b[0m                                  Traceback (most recent call last)",
      "\u001b[0;32m/opt/conda/lib/python3.7/site-packages/pandas/core/indexes/base.py\u001b[0m in \u001b[0;36mget_loc\u001b[0;34m(self, key, method, tolerance)\u001b[0m\n\u001b[1;32m   2896\u001b[0m             \u001b[0;32mtry\u001b[0m\u001b[0;34m:\u001b[0m\u001b[0;34m\u001b[0m\u001b[0;34m\u001b[0m\u001b[0m\n\u001b[0;32m-> 2897\u001b[0;31m                 \u001b[0;32mreturn\u001b[0m \u001b[0mself\u001b[0m\u001b[0;34m.\u001b[0m\u001b[0m_engine\u001b[0m\u001b[0;34m.\u001b[0m\u001b[0mget_loc\u001b[0m\u001b[0;34m(\u001b[0m\u001b[0mkey\u001b[0m\u001b[0;34m)\u001b[0m\u001b[0;34m\u001b[0m\u001b[0;34m\u001b[0m\u001b[0m\n\u001b[0m\u001b[1;32m   2898\u001b[0m             \u001b[0;32mexcept\u001b[0m \u001b[0mKeyError\u001b[0m\u001b[0;34m:\u001b[0m\u001b[0;34m\u001b[0m\u001b[0;34m\u001b[0m\u001b[0m\n",
      "\u001b[0;32mpandas/_libs/index.pyx\u001b[0m in \u001b[0;36mpandas._libs.index.IndexEngine.get_loc\u001b[0;34m()\u001b[0m\n",
      "\u001b[0;32mpandas/_libs/index.pyx\u001b[0m in \u001b[0;36mpandas._libs.index.IndexEngine.get_loc\u001b[0;34m()\u001b[0m\n",
      "\u001b[0;32mpandas/_libs/hashtable_class_helper.pxi\u001b[0m in \u001b[0;36mpandas._libs.hashtable.PyObjectHashTable.get_item\u001b[0;34m()\u001b[0m\n",
      "\u001b[0;32mpandas/_libs/hashtable_class_helper.pxi\u001b[0m in \u001b[0;36mpandas._libs.hashtable.PyObjectHashTable.get_item\u001b[0;34m()\u001b[0m\n",
      "\u001b[0;31mKeyError\u001b[0m: 'minutes_over'",
      "\nDuring handling of the above exception, another exception occurred:\n",
      "\u001b[0;31mKeyError\u001b[0m                                  Traceback (most recent call last)",
      "\u001b[0;32m<ipython-input-23-4145e3a0f347>\u001b[0m in \u001b[0;36m<module>\u001b[0;34m\u001b[0m\n\u001b[1;32m      3\u001b[0m \u001b[0mdata\u001b[0m\u001b[0;34m[\u001b[0m\u001b[0;34m'duration'\u001b[0m\u001b[0;34m]\u001b[0m \u001b[0;34m=\u001b[0m \u001b[0mdata\u001b[0m\u001b[0;34m[\u001b[0m\u001b[0;34m'duration'\u001b[0m\u001b[0;34m]\u001b[0m\u001b[0;34m.\u001b[0m\u001b[0mfillna\u001b[0m\u001b[0;34m(\u001b[0m\u001b[0;36m0\u001b[0m\u001b[0;34m)\u001b[0m\u001b[0;34m\u001b[0m\u001b[0;34m\u001b[0m\u001b[0m\n\u001b[1;32m      4\u001b[0m \u001b[0mdata\u001b[0m\u001b[0;34m[\u001b[0m\u001b[0;34m'count_calls'\u001b[0m\u001b[0;34m]\u001b[0m \u001b[0;34m=\u001b[0m \u001b[0mdata\u001b[0m\u001b[0;34m[\u001b[0m\u001b[0;34m'count_calls'\u001b[0m\u001b[0;34m]\u001b[0m\u001b[0;34m.\u001b[0m\u001b[0mfillna\u001b[0m\u001b[0;34m(\u001b[0m\u001b[0;36m0\u001b[0m\u001b[0;34m)\u001b[0m\u001b[0;34m\u001b[0m\u001b[0;34m\u001b[0m\u001b[0m\n\u001b[0;32m----> 5\u001b[0;31m \u001b[0mdata\u001b[0m\u001b[0;34m[\u001b[0m\u001b[0;34m'minutes_over'\u001b[0m\u001b[0;34m]\u001b[0m \u001b[0;34m=\u001b[0m \u001b[0mdata\u001b[0m\u001b[0;34m[\u001b[0m\u001b[0;34m'minutes_over'\u001b[0m\u001b[0;34m]\u001b[0m\u001b[0;34m.\u001b[0m\u001b[0mfillna\u001b[0m\u001b[0;34m(\u001b[0m\u001b[0;36m0\u001b[0m\u001b[0;34m)\u001b[0m\u001b[0;34m\u001b[0m\u001b[0;34m\u001b[0m\u001b[0m\n\u001b[0m\u001b[1;32m      6\u001b[0m \u001b[0mdata\u001b[0m\u001b[0;34m\u001b[0m\u001b[0;34m\u001b[0m\u001b[0m\n",
      "\u001b[0;32m/opt/conda/lib/python3.7/site-packages/pandas/core/frame.py\u001b[0m in \u001b[0;36m__getitem__\u001b[0;34m(self, key)\u001b[0m\n\u001b[1;32m   2978\u001b[0m             \u001b[0;32mif\u001b[0m \u001b[0mself\u001b[0m\u001b[0;34m.\u001b[0m\u001b[0mcolumns\u001b[0m\u001b[0;34m.\u001b[0m\u001b[0mnlevels\u001b[0m \u001b[0;34m>\u001b[0m \u001b[0;36m1\u001b[0m\u001b[0;34m:\u001b[0m\u001b[0;34m\u001b[0m\u001b[0;34m\u001b[0m\u001b[0m\n\u001b[1;32m   2979\u001b[0m                 \u001b[0;32mreturn\u001b[0m \u001b[0mself\u001b[0m\u001b[0;34m.\u001b[0m\u001b[0m_getitem_multilevel\u001b[0m\u001b[0;34m(\u001b[0m\u001b[0mkey\u001b[0m\u001b[0;34m)\u001b[0m\u001b[0;34m\u001b[0m\u001b[0;34m\u001b[0m\u001b[0m\n\u001b[0;32m-> 2980\u001b[0;31m             \u001b[0mindexer\u001b[0m \u001b[0;34m=\u001b[0m \u001b[0mself\u001b[0m\u001b[0;34m.\u001b[0m\u001b[0mcolumns\u001b[0m\u001b[0;34m.\u001b[0m\u001b[0mget_loc\u001b[0m\u001b[0;34m(\u001b[0m\u001b[0mkey\u001b[0m\u001b[0;34m)\u001b[0m\u001b[0;34m\u001b[0m\u001b[0;34m\u001b[0m\u001b[0m\n\u001b[0m\u001b[1;32m   2981\u001b[0m             \u001b[0;32mif\u001b[0m \u001b[0mis_integer\u001b[0m\u001b[0;34m(\u001b[0m\u001b[0mindexer\u001b[0m\u001b[0;34m)\u001b[0m\u001b[0;34m:\u001b[0m\u001b[0;34m\u001b[0m\u001b[0;34m\u001b[0m\u001b[0m\n\u001b[1;32m   2982\u001b[0m                 \u001b[0mindexer\u001b[0m \u001b[0;34m=\u001b[0m \u001b[0;34m[\u001b[0m\u001b[0mindexer\u001b[0m\u001b[0;34m]\u001b[0m\u001b[0;34m\u001b[0m\u001b[0;34m\u001b[0m\u001b[0m\n",
      "\u001b[0;32m/opt/conda/lib/python3.7/site-packages/pandas/core/indexes/base.py\u001b[0m in \u001b[0;36mget_loc\u001b[0;34m(self, key, method, tolerance)\u001b[0m\n\u001b[1;32m   2897\u001b[0m                 \u001b[0;32mreturn\u001b[0m \u001b[0mself\u001b[0m\u001b[0;34m.\u001b[0m\u001b[0m_engine\u001b[0m\u001b[0;34m.\u001b[0m\u001b[0mget_loc\u001b[0m\u001b[0;34m(\u001b[0m\u001b[0mkey\u001b[0m\u001b[0;34m)\u001b[0m\u001b[0;34m\u001b[0m\u001b[0;34m\u001b[0m\u001b[0m\n\u001b[1;32m   2898\u001b[0m             \u001b[0;32mexcept\u001b[0m \u001b[0mKeyError\u001b[0m\u001b[0;34m:\u001b[0m\u001b[0;34m\u001b[0m\u001b[0;34m\u001b[0m\u001b[0m\n\u001b[0;32m-> 2899\u001b[0;31m                 \u001b[0;32mreturn\u001b[0m \u001b[0mself\u001b[0m\u001b[0;34m.\u001b[0m\u001b[0m_engine\u001b[0m\u001b[0;34m.\u001b[0m\u001b[0mget_loc\u001b[0m\u001b[0;34m(\u001b[0m\u001b[0mself\u001b[0m\u001b[0;34m.\u001b[0m\u001b[0m_maybe_cast_indexer\u001b[0m\u001b[0;34m(\u001b[0m\u001b[0mkey\u001b[0m\u001b[0;34m)\u001b[0m\u001b[0;34m)\u001b[0m\u001b[0;34m\u001b[0m\u001b[0;34m\u001b[0m\u001b[0m\n\u001b[0m\u001b[1;32m   2900\u001b[0m         \u001b[0mindexer\u001b[0m \u001b[0;34m=\u001b[0m \u001b[0mself\u001b[0m\u001b[0;34m.\u001b[0m\u001b[0mget_indexer\u001b[0m\u001b[0;34m(\u001b[0m\u001b[0;34m[\u001b[0m\u001b[0mkey\u001b[0m\u001b[0;34m]\u001b[0m\u001b[0;34m,\u001b[0m \u001b[0mmethod\u001b[0m\u001b[0;34m=\u001b[0m\u001b[0mmethod\u001b[0m\u001b[0;34m,\u001b[0m \u001b[0mtolerance\u001b[0m\u001b[0;34m=\u001b[0m\u001b[0mtolerance\u001b[0m\u001b[0;34m)\u001b[0m\u001b[0;34m\u001b[0m\u001b[0;34m\u001b[0m\u001b[0m\n\u001b[1;32m   2901\u001b[0m         \u001b[0;32mif\u001b[0m \u001b[0mindexer\u001b[0m\u001b[0;34m.\u001b[0m\u001b[0mndim\u001b[0m \u001b[0;34m>\u001b[0m \u001b[0;36m1\u001b[0m \u001b[0;32mor\u001b[0m \u001b[0mindexer\u001b[0m\u001b[0;34m.\u001b[0m\u001b[0msize\u001b[0m \u001b[0;34m>\u001b[0m \u001b[0;36m1\u001b[0m\u001b[0;34m:\u001b[0m\u001b[0;34m\u001b[0m\u001b[0;34m\u001b[0m\u001b[0m\n",
      "\u001b[0;32mpandas/_libs/index.pyx\u001b[0m in \u001b[0;36mpandas._libs.index.IndexEngine.get_loc\u001b[0;34m()\u001b[0m\n",
      "\u001b[0;32mpandas/_libs/index.pyx\u001b[0m in \u001b[0;36mpandas._libs.index.IndexEngine.get_loc\u001b[0;34m()\u001b[0m\n",
      "\u001b[0;32mpandas/_libs/hashtable_class_helper.pxi\u001b[0m in \u001b[0;36mpandas._libs.hashtable.PyObjectHashTable.get_item\u001b[0;34m()\u001b[0m\n",
      "\u001b[0;32mpandas/_libs/hashtable_class_helper.pxi\u001b[0m in \u001b[0;36mpandas._libs.hashtable.PyObjectHashTable.get_item\u001b[0;34m()\u001b[0m\n",
      "\u001b[0;31mKeyError\u001b[0m: 'minutes_over'"
     ]
    }
   ],
   "source": [
    "data['mb_used'] = data['mb_used'].fillna(0)\n",
    "data['messages'] = data['messages'].fillna(0)\n",
    "data['duration'] = data['duration'].fillna(0)\n",
    "data['count_calls'] = data['count_calls'].fillna(0)\n",
    "data['minutes_over'] = data['minutes_over'].fillna(0)\n",
    "data"
   ]
  },
  {
   "cell_type": "markdown",
   "metadata": {},
   "source": [
    "#### Расчёт ежемесячной выручки для каждого пользователя:"
   ]
  },
  {
   "cell_type": "markdown",
   "metadata": {},
   "source": [
    "Рассчитаю сумму, которую оплатит клиент, если превысит пакет предоставленных минут и сообщений:"
   ]
  },
  {
   "cell_type": "code",
   "execution_count": 24,
   "metadata": {},
   "outputs": [],
   "source": [
    "data['minutes_over'] = (data['duration'] - data['minutes_included']) *  data['rub_per_minute']\n",
    "data['messages_over'] = (data['messages'] - data['messages_included']) *  data['rub_per_message']"
   ]
  },
  {
   "cell_type": "markdown",
   "metadata": {},
   "source": [
    "Для расчёта оплаты интернет-трафика, потраченного сверх тарифа, необходимо мб перевести в Гб, а затем округлить вверх до целого числа:"
   ]
  },
  {
   "cell_type": "code",
   "execution_count": 25,
   "metadata": {},
   "outputs": [],
   "source": [
    "data['mb_over'] = np.ceil((data['mb_used'] - data['mb_per_month_included']) / 1024)"
   ]
  },
  {
   "cell_type": "markdown",
   "metadata": {},
   "source": [
    "Расчёт суммы оплаты сверх пакет: "
   ]
  },
  {
   "cell_type": "code",
   "execution_count": 26,
   "metadata": {},
   "outputs": [],
   "source": [
    "data['mb_over'] = data['mb_over'] *  data['rub_per_gb']"
   ]
  },
  {
   "cell_type": "markdown",
   "metadata": {},
   "source": [
    "При использовании такого способа расчёта у ряда клиентов, не превысивших пакеты по тарифу, суммы для оплаты стали меньше 0, это ошибка, скорректирую данные, заменив их на 0, так как переплата отсутствует:"
   ]
  },
  {
   "cell_type": "code",
   "execution_count": 27,
   "metadata": {},
   "outputs": [],
   "source": [
    "data.loc[data['minutes_over'] < 0, 'minutes_over'] = 0\n",
    "data.loc[data['messages_over'] < 0, 'messages_over'] = 0\n",
    "data.loc[data['mb_over'] < 0, 'mb_over'] = 0"
   ]
  },
  {
   "cell_type": "markdown",
   "metadata": {},
   "source": [
    "Рассчитаем итоговую прибыль по каждому клиенту в месяц:"
   ]
  },
  {
   "cell_type": "code",
   "execution_count": 28,
   "metadata": {},
   "outputs": [
    {
     "data": {
      "text/html": [
       "<div>\n",
       "<style scoped>\n",
       "    .dataframe tbody tr th:only-of-type {\n",
       "        vertical-align: middle;\n",
       "    }\n",
       "\n",
       "    .dataframe tbody tr th {\n",
       "        vertical-align: top;\n",
       "    }\n",
       "\n",
       "    .dataframe thead th {\n",
       "        text-align: right;\n",
       "    }\n",
       "</style>\n",
       "<table border=\"1\" class=\"dataframe\">\n",
       "  <thead>\n",
       "    <tr style=\"text-align: right;\">\n",
       "      <th></th>\n",
       "      <th>index</th>\n",
       "      <th>user_id</th>\n",
       "      <th>month</th>\n",
       "      <th>duration</th>\n",
       "      <th>count_calls</th>\n",
       "      <th>mb_used</th>\n",
       "      <th>messages</th>\n",
       "      <th>age</th>\n",
       "      <th>churn_date</th>\n",
       "      <th>city</th>\n",
       "      <th>first_name</th>\n",
       "      <th>last_name</th>\n",
       "      <th>reg_date</th>\n",
       "      <th>tariff</th>\n",
       "      <th>messages_included</th>\n",
       "      <th>mb_per_month_included</th>\n",
       "      <th>minutes_included</th>\n",
       "      <th>rub_monthly_fee</th>\n",
       "      <th>rub_per_gb</th>\n",
       "      <th>rub_per_message</th>\n",
       "      <th>rub_per_minute</th>\n",
       "      <th>minutes_over</th>\n",
       "      <th>messages_over</th>\n",
       "      <th>mb_over</th>\n",
       "      <th>income</th>\n",
       "    </tr>\n",
       "  </thead>\n",
       "  <tbody>\n",
       "    <tr>\n",
       "      <td>0</td>\n",
       "      <td>0</td>\n",
       "      <td>1000</td>\n",
       "      <td>5.0</td>\n",
       "      <td>159.0</td>\n",
       "      <td>22.0</td>\n",
       "      <td>2253.49</td>\n",
       "      <td>22.0</td>\n",
       "      <td>52</td>\n",
       "      <td>NaT</td>\n",
       "      <td>Краснодар</td>\n",
       "      <td>Рафаил</td>\n",
       "      <td>Верещагин</td>\n",
       "      <td>2018-05-25</td>\n",
       "      <td>ultra</td>\n",
       "      <td>1000</td>\n",
       "      <td>30720</td>\n",
       "      <td>3000</td>\n",
       "      <td>1950</td>\n",
       "      <td>150</td>\n",
       "      <td>1</td>\n",
       "      <td>1</td>\n",
       "      <td>0.0</td>\n",
       "      <td>0.0</td>\n",
       "      <td>0.0</td>\n",
       "      <td>1950.0</td>\n",
       "    </tr>\n",
       "    <tr>\n",
       "      <td>1</td>\n",
       "      <td>1</td>\n",
       "      <td>1000</td>\n",
       "      <td>6.0</td>\n",
       "      <td>172.0</td>\n",
       "      <td>43.0</td>\n",
       "      <td>23233.77</td>\n",
       "      <td>60.0</td>\n",
       "      <td>52</td>\n",
       "      <td>NaT</td>\n",
       "      <td>Краснодар</td>\n",
       "      <td>Рафаил</td>\n",
       "      <td>Верещагин</td>\n",
       "      <td>2018-05-25</td>\n",
       "      <td>ultra</td>\n",
       "      <td>1000</td>\n",
       "      <td>30720</td>\n",
       "      <td>3000</td>\n",
       "      <td>1950</td>\n",
       "      <td>150</td>\n",
       "      <td>1</td>\n",
       "      <td>1</td>\n",
       "      <td>0.0</td>\n",
       "      <td>0.0</td>\n",
       "      <td>0.0</td>\n",
       "      <td>1950.0</td>\n",
       "    </tr>\n",
       "    <tr>\n",
       "      <td>2</td>\n",
       "      <td>2</td>\n",
       "      <td>1000</td>\n",
       "      <td>7.0</td>\n",
       "      <td>340.0</td>\n",
       "      <td>47.0</td>\n",
       "      <td>14003.64</td>\n",
       "      <td>75.0</td>\n",
       "      <td>52</td>\n",
       "      <td>NaT</td>\n",
       "      <td>Краснодар</td>\n",
       "      <td>Рафаил</td>\n",
       "      <td>Верещагин</td>\n",
       "      <td>2018-05-25</td>\n",
       "      <td>ultra</td>\n",
       "      <td>1000</td>\n",
       "      <td>30720</td>\n",
       "      <td>3000</td>\n",
       "      <td>1950</td>\n",
       "      <td>150</td>\n",
       "      <td>1</td>\n",
       "      <td>1</td>\n",
       "      <td>0.0</td>\n",
       "      <td>0.0</td>\n",
       "      <td>0.0</td>\n",
       "      <td>1950.0</td>\n",
       "    </tr>\n",
       "    <tr>\n",
       "      <td>3</td>\n",
       "      <td>3</td>\n",
       "      <td>1000</td>\n",
       "      <td>8.0</td>\n",
       "      <td>408.0</td>\n",
       "      <td>52.0</td>\n",
       "      <td>14055.93</td>\n",
       "      <td>81.0</td>\n",
       "      <td>52</td>\n",
       "      <td>NaT</td>\n",
       "      <td>Краснодар</td>\n",
       "      <td>Рафаил</td>\n",
       "      <td>Верещагин</td>\n",
       "      <td>2018-05-25</td>\n",
       "      <td>ultra</td>\n",
       "      <td>1000</td>\n",
       "      <td>30720</td>\n",
       "      <td>3000</td>\n",
       "      <td>1950</td>\n",
       "      <td>150</td>\n",
       "      <td>1</td>\n",
       "      <td>1</td>\n",
       "      <td>0.0</td>\n",
       "      <td>0.0</td>\n",
       "      <td>0.0</td>\n",
       "      <td>1950.0</td>\n",
       "    </tr>\n",
       "    <tr>\n",
       "      <td>4</td>\n",
       "      <td>4</td>\n",
       "      <td>1000</td>\n",
       "      <td>9.0</td>\n",
       "      <td>466.0</td>\n",
       "      <td>58.0</td>\n",
       "      <td>14568.91</td>\n",
       "      <td>57.0</td>\n",
       "      <td>52</td>\n",
       "      <td>NaT</td>\n",
       "      <td>Краснодар</td>\n",
       "      <td>Рафаил</td>\n",
       "      <td>Верещагин</td>\n",
       "      <td>2018-05-25</td>\n",
       "      <td>ultra</td>\n",
       "      <td>1000</td>\n",
       "      <td>30720</td>\n",
       "      <td>3000</td>\n",
       "      <td>1950</td>\n",
       "      <td>150</td>\n",
       "      <td>1</td>\n",
       "      <td>1</td>\n",
       "      <td>0.0</td>\n",
       "      <td>0.0</td>\n",
       "      <td>0.0</td>\n",
       "      <td>1950.0</td>\n",
       "    </tr>\n",
       "    <tr>\n",
       "      <td>...</td>\n",
       "      <td>...</td>\n",
       "      <td>...</td>\n",
       "      <td>...</td>\n",
       "      <td>...</td>\n",
       "      <td>...</td>\n",
       "      <td>...</td>\n",
       "      <td>...</td>\n",
       "      <td>...</td>\n",
       "      <td>...</td>\n",
       "      <td>...</td>\n",
       "      <td>...</td>\n",
       "      <td>...</td>\n",
       "      <td>...</td>\n",
       "      <td>...</td>\n",
       "      <td>...</td>\n",
       "      <td>...</td>\n",
       "      <td>...</td>\n",
       "      <td>...</td>\n",
       "      <td>...</td>\n",
       "      <td>...</td>\n",
       "      <td>...</td>\n",
       "      <td>...</td>\n",
       "      <td>...</td>\n",
       "      <td>...</td>\n",
       "      <td>...</td>\n",
       "    </tr>\n",
       "    <tr>\n",
       "      <td>3211</td>\n",
       "      <td>3210</td>\n",
       "      <td>1489</td>\n",
       "      <td>9.0</td>\n",
       "      <td>0.0</td>\n",
       "      <td>0.0</td>\n",
       "      <td>17206.30</td>\n",
       "      <td>32.0</td>\n",
       "      <td>35</td>\n",
       "      <td>NaT</td>\n",
       "      <td>Санкт-Петербург</td>\n",
       "      <td>Павел</td>\n",
       "      <td>Гончаров</td>\n",
       "      <td>2018-08-15</td>\n",
       "      <td>smart</td>\n",
       "      <td>50</td>\n",
       "      <td>15360</td>\n",
       "      <td>500</td>\n",
       "      <td>550</td>\n",
       "      <td>200</td>\n",
       "      <td>3</td>\n",
       "      <td>3</td>\n",
       "      <td>0.0</td>\n",
       "      <td>0.0</td>\n",
       "      <td>400.0</td>\n",
       "      <td>950.0</td>\n",
       "    </tr>\n",
       "    <tr>\n",
       "      <td>3212</td>\n",
       "      <td>3211</td>\n",
       "      <td>1489</td>\n",
       "      <td>10.0</td>\n",
       "      <td>0.0</td>\n",
       "      <td>0.0</td>\n",
       "      <td>19559.44</td>\n",
       "      <td>21.0</td>\n",
       "      <td>35</td>\n",
       "      <td>NaT</td>\n",
       "      <td>Санкт-Петербург</td>\n",
       "      <td>Павел</td>\n",
       "      <td>Гончаров</td>\n",
       "      <td>2018-08-15</td>\n",
       "      <td>smart</td>\n",
       "      <td>50</td>\n",
       "      <td>15360</td>\n",
       "      <td>500</td>\n",
       "      <td>550</td>\n",
       "      <td>200</td>\n",
       "      <td>3</td>\n",
       "      <td>3</td>\n",
       "      <td>0.0</td>\n",
       "      <td>0.0</td>\n",
       "      <td>1000.0</td>\n",
       "      <td>1550.0</td>\n",
       "    </tr>\n",
       "    <tr>\n",
       "      <td>3213</td>\n",
       "      <td>3212</td>\n",
       "      <td>1489</td>\n",
       "      <td>11.0</td>\n",
       "      <td>0.0</td>\n",
       "      <td>0.0</td>\n",
       "      <td>17491.56</td>\n",
       "      <td>20.0</td>\n",
       "      <td>35</td>\n",
       "      <td>NaT</td>\n",
       "      <td>Санкт-Петербург</td>\n",
       "      <td>Павел</td>\n",
       "      <td>Гончаров</td>\n",
       "      <td>2018-08-15</td>\n",
       "      <td>smart</td>\n",
       "      <td>50</td>\n",
       "      <td>15360</td>\n",
       "      <td>500</td>\n",
       "      <td>550</td>\n",
       "      <td>200</td>\n",
       "      <td>3</td>\n",
       "      <td>3</td>\n",
       "      <td>0.0</td>\n",
       "      <td>0.0</td>\n",
       "      <td>600.0</td>\n",
       "      <td>1150.0</td>\n",
       "    </tr>\n",
       "    <tr>\n",
       "      <td>3214</td>\n",
       "      <td>3213</td>\n",
       "      <td>1489</td>\n",
       "      <td>12.0</td>\n",
       "      <td>0.0</td>\n",
       "      <td>0.0</td>\n",
       "      <td>17322.51</td>\n",
       "      <td>35.0</td>\n",
       "      <td>35</td>\n",
       "      <td>NaT</td>\n",
       "      <td>Санкт-Петербург</td>\n",
       "      <td>Павел</td>\n",
       "      <td>Гончаров</td>\n",
       "      <td>2018-08-15</td>\n",
       "      <td>smart</td>\n",
       "      <td>50</td>\n",
       "      <td>15360</td>\n",
       "      <td>500</td>\n",
       "      <td>550</td>\n",
       "      <td>200</td>\n",
       "      <td>3</td>\n",
       "      <td>3</td>\n",
       "      <td>0.0</td>\n",
       "      <td>0.0</td>\n",
       "      <td>400.0</td>\n",
       "      <td>950.0</td>\n",
       "    </tr>\n",
       "    <tr>\n",
       "      <td>3215</td>\n",
       "      <td>3215</td>\n",
       "      <td>1371</td>\n",
       "      <td>NaN</td>\n",
       "      <td>0.0</td>\n",
       "      <td>0.0</td>\n",
       "      <td>0.00</td>\n",
       "      <td>0.0</td>\n",
       "      <td>50</td>\n",
       "      <td>2018-12-30</td>\n",
       "      <td>Омск</td>\n",
       "      <td>Ириней</td>\n",
       "      <td>Трофимов</td>\n",
       "      <td>2018-12-25</td>\n",
       "      <td>smart</td>\n",
       "      <td>50</td>\n",
       "      <td>15360</td>\n",
       "      <td>500</td>\n",
       "      <td>550</td>\n",
       "      <td>200</td>\n",
       "      <td>3</td>\n",
       "      <td>3</td>\n",
       "      <td>0.0</td>\n",
       "      <td>0.0</td>\n",
       "      <td>0.0</td>\n",
       "      <td>550.0</td>\n",
       "    </tr>\n",
       "  </tbody>\n",
       "</table>\n",
       "<p>3216 rows × 25 columns</p>\n",
       "</div>"
      ],
      "text/plain": [
       "      index  user_id  month  duration  count_calls   mb_used  messages  age  \\\n",
       "0         0     1000    5.0     159.0         22.0   2253.49      22.0   52   \n",
       "1         1     1000    6.0     172.0         43.0  23233.77      60.0   52   \n",
       "2         2     1000    7.0     340.0         47.0  14003.64      75.0   52   \n",
       "3         3     1000    8.0     408.0         52.0  14055.93      81.0   52   \n",
       "4         4     1000    9.0     466.0         58.0  14568.91      57.0   52   \n",
       "...     ...      ...    ...       ...          ...       ...       ...  ...   \n",
       "3211   3210     1489    9.0       0.0          0.0  17206.30      32.0   35   \n",
       "3212   3211     1489   10.0       0.0          0.0  19559.44      21.0   35   \n",
       "3213   3212     1489   11.0       0.0          0.0  17491.56      20.0   35   \n",
       "3214   3213     1489   12.0       0.0          0.0  17322.51      35.0   35   \n",
       "3215   3215     1371    NaN       0.0          0.0      0.00       0.0   50   \n",
       "\n",
       "     churn_date             city first_name  last_name   reg_date tariff  \\\n",
       "0           NaT        Краснодар     Рафаил  Верещагин 2018-05-25  ultra   \n",
       "1           NaT        Краснодар     Рафаил  Верещагин 2018-05-25  ultra   \n",
       "2           NaT        Краснодар     Рафаил  Верещагин 2018-05-25  ultra   \n",
       "3           NaT        Краснодар     Рафаил  Верещагин 2018-05-25  ultra   \n",
       "4           NaT        Краснодар     Рафаил  Верещагин 2018-05-25  ultra   \n",
       "...         ...              ...        ...        ...        ...    ...   \n",
       "3211        NaT  Санкт-Петербург      Павел   Гончаров 2018-08-15  smart   \n",
       "3212        NaT  Санкт-Петербург      Павел   Гончаров 2018-08-15  smart   \n",
       "3213        NaT  Санкт-Петербург      Павел   Гончаров 2018-08-15  smart   \n",
       "3214        NaT  Санкт-Петербург      Павел   Гончаров 2018-08-15  smart   \n",
       "3215 2018-12-30             Омск     Ириней   Трофимов 2018-12-25  smart   \n",
       "\n",
       "      messages_included  mb_per_month_included  minutes_included  \\\n",
       "0                  1000                  30720              3000   \n",
       "1                  1000                  30720              3000   \n",
       "2                  1000                  30720              3000   \n",
       "3                  1000                  30720              3000   \n",
       "4                  1000                  30720              3000   \n",
       "...                 ...                    ...               ...   \n",
       "3211                 50                  15360               500   \n",
       "3212                 50                  15360               500   \n",
       "3213                 50                  15360               500   \n",
       "3214                 50                  15360               500   \n",
       "3215                 50                  15360               500   \n",
       "\n",
       "      rub_monthly_fee  rub_per_gb  rub_per_message  rub_per_minute  \\\n",
       "0                1950         150                1               1   \n",
       "1                1950         150                1               1   \n",
       "2                1950         150                1               1   \n",
       "3                1950         150                1               1   \n",
       "4                1950         150                1               1   \n",
       "...               ...         ...              ...             ...   \n",
       "3211              550         200                3               3   \n",
       "3212              550         200                3               3   \n",
       "3213              550         200                3               3   \n",
       "3214              550         200                3               3   \n",
       "3215              550         200                3               3   \n",
       "\n",
       "      minutes_over  messages_over  mb_over  income  \n",
       "0              0.0            0.0      0.0  1950.0  \n",
       "1              0.0            0.0      0.0  1950.0  \n",
       "2              0.0            0.0      0.0  1950.0  \n",
       "3              0.0            0.0      0.0  1950.0  \n",
       "4              0.0            0.0      0.0  1950.0  \n",
       "...            ...            ...      ...     ...  \n",
       "3211           0.0            0.0    400.0   950.0  \n",
       "3212           0.0            0.0   1000.0  1550.0  \n",
       "3213           0.0            0.0    600.0  1150.0  \n",
       "3214           0.0            0.0    400.0   950.0  \n",
       "3215           0.0            0.0      0.0   550.0  \n",
       "\n",
       "[3216 rows x 25 columns]"
      ]
     },
     "execution_count": 28,
     "metadata": {},
     "output_type": "execute_result"
    }
   ],
   "source": [
    "data['income'] = data['rub_monthly_fee'] + data['minutes_over'] + data['messages_over'] + data['mb_over']\n",
    "data"
   ]
  },
  {
   "cell_type": "markdown",
   "metadata": {},
   "source": [
    "Проверю не появились ли пропуски в других столбцах, после группировки данных:"
   ]
  },
  {
   "cell_type": "code",
   "execution_count": 29,
   "metadata": {},
   "outputs": [
    {
     "data": {
      "text/plain": [
       "index                       0\n",
       "user_id                     0\n",
       "month                       2\n",
       "duration                    0\n",
       "count_calls                 0\n",
       "mb_used                     0\n",
       "messages                    0\n",
       "age                         0\n",
       "churn_date               3027\n",
       "city                        0\n",
       "first_name                  0\n",
       "last_name                   0\n",
       "reg_date                    0\n",
       "tariff                      0\n",
       "messages_included           0\n",
       "mb_per_month_included       0\n",
       "minutes_included            0\n",
       "rub_monthly_fee             0\n",
       "rub_per_gb                  0\n",
       "rub_per_message             0\n",
       "rub_per_minute              0\n",
       "minutes_over                0\n",
       "messages_over               0\n",
       "mb_over                     0\n",
       "income                      0\n",
       "dtype: int64"
      ]
     },
     "execution_count": 29,
     "metadata": {},
     "output_type": "execute_result"
    }
   ],
   "source": [
    "data.isna().sum()"
   ]
  },
  {
   "cell_type": "markdown",
   "metadata": {},
   "source": [
    "Пропуски отсутствуют :)"
   ]
  },
  {
   "cell_type": "markdown",
   "metadata": {},
   "source": [
    "### Выводы"
   ]
  },
  {
   "cell_type": "markdown",
   "metadata": {},
   "source": [
    "Данные сгруппированы по каждому клиенту и месяцам.\n",
    "Рассчитала переплату для каждого клиента сверх абонентской платы, а также общую прибыль за месяц."
   ]
  },
  {
   "cell_type": "markdown",
   "metadata": {},
   "source": [
    "## Анализ данных"
   ]
  },
  {
   "cell_type": "markdown",
   "metadata": {},
   "source": [
    "Выделю в отдельные массивы данные по тарифам \"Смарт\" и \"Ультра\":"
   ]
  },
  {
   "cell_type": "code",
   "execution_count": 30,
   "metadata": {},
   "outputs": [
    {
     "data": {
      "text/plain": [
       "2230"
      ]
     },
     "execution_count": 30,
     "metadata": {},
     "output_type": "execute_result"
    }
   ],
   "source": [
    "data_smart = data.query('tariff == \"smart\"')\n",
    "len(data_smart)"
   ]
  },
  {
   "cell_type": "code",
   "execution_count": 31,
   "metadata": {},
   "outputs": [
    {
     "data": {
      "text/plain": [
       "986"
      ]
     },
     "execution_count": 31,
     "metadata": {},
     "output_type": "execute_result"
    }
   ],
   "source": [
    "data_ultra = data.query('tariff == \"ultra\"')\n",
    "len(data_ultra)"
   ]
  },
  {
   "cell_type": "markdown",
   "metadata": {},
   "source": [
    "### Анализ длительности разговоров и количества звонков по каждому тарифу по каждому тарифу:"
   ]
  },
  {
   "cell_type": "markdown",
   "metadata": {},
   "source": [
    "Рассчитаю среднюю продолжительность длительности разговоров в месяц для каждого тарифа"
   ]
  },
  {
   "cell_type": "code",
   "execution_count": 32,
   "metadata": {},
   "outputs": [
    {
     "name": "stdout",
     "output_type": "stream",
     "text": [
      "Среднее количество использованных минут у пользователей тарифа \"Смарт\": 417.75\n",
      "Среднее количество использованных минут у пользователей тарифа \"Ультра\": 526.09\n"
     ]
    }
   ],
   "source": [
    "print('Среднее количество использованных минут у пользователей тарифа \"Смарт\": {:.2f}'.format(data_smart['duration'].mean()))\n",
    "print('Среднее количество использованных минут у пользователей тарифа \"Ультра\": {:.2f}'.format(data_ultra['duration'].mean()))"
   ]
  },
  {
   "cell_type": "markdown",
   "metadata": {},
   "source": [
    "Рассчитаю дисперсию:"
   ]
  },
  {
   "cell_type": "code",
   "execution_count": 33,
   "metadata": {},
   "outputs": [
    {
     "name": "stdout",
     "output_type": "stream",
     "text": [
      "Дисперсия длительности разговоров по тарифу \"Смарт\": 36281.39\n",
      "Дисперсия длительности разговоров по тарифу \"Ультра\": 101052.49\n"
     ]
    }
   ],
   "source": [
    "variance_estimate_smart_min = np.var(data_smart['duration'], ddof=1)\n",
    "print('Дисперсия длительности разговоров по тарифу \"Смарт\": {:.2f}'.format(variance_estimate_smart_min))\n",
    "variance_estimate_ultra_min = np.var(data_ultra['duration'], ddof=1)\n",
    "print('Дисперсия длительности разговоров по тарифу \"Ультра\": {:.2f}'.format(variance_estimate_ultra_min))"
   ]
  },
  {
   "cell_type": "markdown",
   "metadata": {},
   "source": [
    "И стандартное отклонение:"
   ]
  },
  {
   "cell_type": "code",
   "execution_count": 34,
   "metadata": {},
   "outputs": [
    {
     "name": "stdout",
     "output_type": "stream",
     "text": [
      "Стандартное отклонение длительности для тарифа \"Смарт\": 190.48\n",
      "Стандартное отклонение длительности для тарифа \"Ультра\": 317.89\n"
     ]
    }
   ],
   "source": [
    "standard_deviation_smart_min = np.sqrt(variance_estimate_smart_min)\n",
    "print('Стандартное отклонение длительности для тарифа \"Смарт\": {:.2f}'.format(standard_deviation_smart_min))\n",
    "standard_deviation_ultra_min = np.sqrt(variance_estimate_ultra_min)\n",
    "print('Стандартное отклонение длительности для тарифа \"Ультра\": {:.2f}'.format(standard_deviation_ultra_min))"
   ]
  },
  {
   "cell_type": "markdown",
   "metadata": {},
   "source": [
    "Построю гистограммы:"
   ]
  },
  {
   "cell_type": "code",
   "execution_count": 35,
   "metadata": {},
   "outputs": [
    {
     "data": {
      "text/plain": [
       "<matplotlib.axes._subplots.AxesSubplot at 0x7fd3697b4050>"
      ]
     },
     "execution_count": 35,
     "metadata": {},
     "output_type": "execute_result"
    },
    {
     "data": {
      "image/png": "[encoded data removed]",
      "text/plain": [
       "<Figure size 432x288 with 1 Axes>"
      ]
     },
     "metadata": {
      "needs_background": "light"
     },
     "output_type": "display_data"
    },
    {
     "data": {
      "image/png": "[encoded data removed]",
      "text/plain": [
       "<Figure size 432x288 with 1 Axes>"
      ]
     },
     "metadata": {
      "needs_background": "light"
     },
     "output_type": "display_data"
    }
   ],
   "source": [
    "data_smart.plot(kind = 'hist', y='duration', title= 'Гистограмма длительности звонков', label = 'smart, длительность звонков', bins = 50, range = (0, 1200), grid = True)\n",
    "data_ultra.plot(kind = 'hist', y='duration', title= 'Гистограмма длительности звонков', label = 'ultra, , длительность звонков', bins = 50, range = (0, 1600), grid = True)"
   ]
  },
  {
   "cell_type": "markdown",
   "metadata": {},
   "source": [
    "**Вывод:**\n",
    "\n",
    "Пользователи тарифа \"Смарт\" в среднем тратят 480-550 минут в месяц(чаще всего от 250 до 600 минут).\n",
    "20% клиентoв не хватает пакета минут по тарифу.\n",
    "\n",
    "Пользователи тарифа \"Ультра\" не превышают пакет предоставленных минут, и в среднем используют от 220 до 900 минут.\n"
   ]
  },
  {
   "cell_type": "markdown",
   "metadata": {},
   "source": [
    "Рассчитаю среднее количество звонков в месяц для каждого тарифа:"
   ]
  },
  {
   "cell_type": "code",
   "execution_count": 36,
   "metadata": {},
   "outputs": [
    {
     "data": {
      "text/html": [
       "<style  type=\"text/css\" >\n",
       "</style><table id=\"T_40a377e8_f867_11eb_8f03_02420a398547\" ><thead>    <tr>        <th class=\"blank level0\" ></th>        <th class=\"col_heading level0 col0\" >mean</th>        <th class=\"col_heading level0 col1\" >var</th>        <th class=\"col_heading level0 col2\" >std</th>    </tr>    <tr>        <th class=\"index_name level0\" >tariff</th>        <th class=\"blank\" ></th>        <th class=\"blank\" ></th>        <th class=\"blank\" ></th>    </tr></thead><tbody>\n",
       "                <tr>\n",
       "                        <th id=\"T_40a377e8_f867_11eb_8f03_02420a398547level0_row0\" class=\"row_heading level0 row0\" >smart</th>\n",
       "                        <td id=\"T_40a377e8_f867_11eb_8f03_02420a398547row0_col0\" class=\"data row0 col0\" >58.44</td>\n",
       "                        <td id=\"T_40a377e8_f867_11eb_8f03_02420a398547row0_col1\" class=\"data row0 col1\" >674.11</td>\n",
       "                        <td id=\"T_40a377e8_f867_11eb_8f03_02420a398547row0_col2\" class=\"data row0 col2\" >25.96</td>\n",
       "            </tr>\n",
       "            <tr>\n",
       "                        <th id=\"T_40a377e8_f867_11eb_8f03_02420a398547level0_row1\" class=\"row_heading level0 row1\" >ultra</th>\n",
       "                        <td id=\"T_40a377e8_f867_11eb_8f03_02420a398547row1_col0\" class=\"data row1 col0\" >73.32</td>\n",
       "                        <td id=\"T_40a377e8_f867_11eb_8f03_02420a398547row1_col1\" class=\"data row1 col1\" >1932.19</td>\n",
       "                        <td id=\"T_40a377e8_f867_11eb_8f03_02420a398547row1_col2\" class=\"data row1 col2\" >43.96</td>\n",
       "            </tr>\n",
       "    </tbody></table>"
      ],
      "text/plain": [
       "<pandas.io.formats.style.Styler at 0x7fd36970e710>"
      ]
     },
     "execution_count": 36,
     "metadata": {},
     "output_type": "execute_result"
    }
   ],
   "source": [
    "data.groupby('tariff').count_calls.agg(['mean','var','std']).style.format('{:.2f}')"
   ]
  },
  {
   "cell_type": "markdown",
   "metadata": {},
   "source": [
    "Построю гистограммы:"
   ]
  },
  {
   "cell_type": "code",
   "execution_count": 37,
   "metadata": {},
   "outputs": [
    {
     "data": {
      "text/plain": [
       "<matplotlib.axes._subplots.AxesSubplot at 0x7fd3ce063650>"
      ]
     },
     "execution_count": 37,
     "metadata": {},
     "output_type": "execute_result"
    },
    {
     "data": {
      "image/png": "[encoded data removed]",
      "text/plain": [
       "<Figure size 432x288 with 1 Axes>"
      ]
     },
     "metadata": {
      "needs_background": "light"
     },
     "output_type": "display_data"
    },
    {
     "data": {
      "image/png": "[encoded data removed]",
      "text/plain": [
       "<Figure size 432x288 with 1 Axes>"
      ]
     },
     "metadata": {
      "needs_background": "light"
     },
     "output_type": "display_data"
    }
   ],
   "source": [
    "data_smart.plot(kind = 'hist', y='count_calls', title= 'Гистограмма количества звонков', label = 'smart, количество звонков', bins = 50, range = (0, 200), grid = True)\n",
    "data_ultra.plot(kind = 'hist', y='count_calls', title= 'Гистограмма количества звонков', label = 'ultra, , количество звонков', bins = 50, range = (0, 300), grid = True)"
   ]
  },
  {
   "cell_type": "markdown",
   "metadata": {},
   "source": [
    "**Вывод:**\n",
    "\n",
    "Пользователи тарифа \"Смарт\" в среднем совершают около 70 звонков в месяц(чаще всего от 30 до 85).\n",
    "1-2 звонка в день.\n",
    "\n",
    "Пользователи тарифа \"Ультра\" звонят чуть чаще, в среднем совершают от 40 до 120 звонков в месяц.\n"
   ]
  },
  {
   "cell_type": "markdown",
   "metadata": {},
   "source": [
    "### Анализ количества использованных  сообщений по каждому тарифу:"
   ]
  },
  {
   "cell_type": "markdown",
   "metadata": {},
   "source": [
    "Рассчитаю среднее количество использованных  сообщений в месяц для каждого тарифа"
   ]
  },
  {
   "cell_type": "code",
   "execution_count": 38,
   "metadata": {},
   "outputs": [
    {
     "name": "stdout",
     "output_type": "stream",
     "text": [
      "Среднее количество использованных сообщений у пользователей тарифа \"Смарт\": 33.37\n",
      "Среднее количество использованных сообщений у пользователей тарифа \"Ультра\": 49.31\n"
     ]
    }
   ],
   "source": [
    "print('Среднее количество использованных сообщений у пользователей тарифа \"Смарт\": {:.2f}'.format(data_smart['messages'].mean()))\n",
    "print('Среднее количество использованных сообщений у пользователей тарифа \"Ультра\": {:.2f}'.format(data_ultra['messages'].mean()))"
   ]
  },
  {
   "cell_type": "markdown",
   "metadata": {},
   "source": [
    "Расчёт дисперсии:"
   ]
  },
  {
   "cell_type": "code",
   "execution_count": 39,
   "metadata": {},
   "outputs": [
    {
     "name": "stdout",
     "output_type": "stream",
     "text": [
      "Дисперсия количества использованных сообщений по тарифу \"Смарт\": 796.96\n",
      "Дисперсия количества использованных сообщений \"Ультра\": 2285.42\n"
     ]
    }
   ],
   "source": [
    "variance_estimate_smart_sms = np.var(data_smart['messages'], ddof=1)\n",
    "print('Дисперсия количества использованных сообщений по тарифу \"Смарт\": {:.2f}'.format(variance_estimate_smart_sms))\n",
    "variance_estimate_ultra_sms = np.var(data_ultra['messages'], ddof=1)\n",
    "print('Дисперсия количества использованных сообщений \"Ультра\": {:.2f}'.format(variance_estimate_ultra_sms))"
   ]
  },
  {
   "cell_type": "markdown",
   "metadata": {},
   "source": [
    "Расчёт стандартного отклонения:"
   ]
  },
  {
   "cell_type": "code",
   "execution_count": 40,
   "metadata": {},
   "outputs": [
    {
     "name": "stdout",
     "output_type": "stream",
     "text": [
      "Стандартное отклонение количества сообщений для тарифа \"Смарт\": 28.23\n",
      "Стандартное отклонение количества сообщений для тарифа \"Ультра\": 47.81\n"
     ]
    }
   ],
   "source": [
    "standard_deviation_smart_sms = np.sqrt(variance_estimate_smart_sms)\n",
    "print('Стандартное отклонение количества сообщений для тарифа \"Смарт\": {:.2f}'.format(standard_deviation_smart_sms))\n",
    "standard_deviation_ultra_sms = np.sqrt(variance_estimate_ultra_sms)\n",
    "print('Стандартное отклонение количества сообщений для тарифа \"Ультра\": {:.2f}'.format(standard_deviation_ultra_sms))"
   ]
  },
  {
   "cell_type": "markdown",
   "metadata": {},
   "source": [
    "Гистограммы:"
   ]
  },
  {
   "cell_type": "code",
   "execution_count": 41,
   "metadata": {},
   "outputs": [
    {
     "data": {
      "text/plain": [
       "<matplotlib.axes._subplots.AxesSubplot at 0x7fd3cde52050>"
      ]
     },
     "execution_count": 41,
     "metadata": {},
     "output_type": "execute_result"
    },
    {
     "data": {
      "image/png": "[encoded data removed]",
      "text/plain": [
       "<Figure size 432x288 with 1 Axes>"
      ]
     },
     "metadata": {
      "needs_background": "light"
     },
     "output_type": "display_data"
    },
    {
     "data": {
      "image/png": "[encoded data removed]",
      "text/plain": [
       "<Figure size 432x288 with 1 Axes>"
      ]
     },
     "metadata": {
      "needs_background": "light"
     },
     "output_type": "display_data"
    }
   ],
   "source": [
    "data_smart.plot(kind = 'hist', y='messages', title= 'Гистограмма количества использованных сообщений', label = 'smart, количество сообщений', bins = 30, range = (0, 150), grid = True)\n",
    "data_ultra.plot(kind = 'hist', y='messages', title= 'Гистограмма количества использованных сообщений', label = 'ultra, количество сообщений', bins = 30, range = (0, 250), grid = True)"
   ]
  },
  {
   "cell_type": "markdown",
   "metadata": {},
   "source": [
    "**Вывод:**\n",
    "\n",
    "Пользователи тарифа \"Смарт\" в среднем используют около 60 сообщений в месяц. \n",
    "Около 19% клиентов вообще не пользуются сообщениями, 30% клиентов не хватает 50 сообщений, включенных в тариф.\n",
    "\n",
    "Пользователи тарифа \"Ультра\" не превышают пакет сообщений, как правило используют около 75 сообщений в месяц.\n",
    "Около 30% клиентов не используют сообщения. \n"
   ]
  },
  {
   "cell_type": "markdown",
   "metadata": {},
   "source": [
    "### Анализ количества использованного  интернет-трафика по каждому тарифу:"
   ]
  },
  {
   "cell_type": "markdown",
   "metadata": {},
   "source": [
    "Рассчитаю среднее количество использованного интернет-трафика в месяц для каждого тарифа:"
   ]
  },
  {
   "cell_type": "code",
   "execution_count": 42,
   "metadata": {},
   "outputs": [
    {
     "name": "stdout",
     "output_type": "stream",
     "text": [
      "Среднее количество использованного интернет-трафика у пользователей тарифа \"Смарт\": 16201.12 Мб\n",
      "Среднее количество использованного интернет-трафика у пользователей тарифа \"Ультра\": 19449.06 Мб\n"
     ]
    }
   ],
   "source": [
    "print('Среднее количество использованного интернет-трафика у пользователей тарифа \"Смарт\": {:.2f} Мб'.format(data_smart['mb_used'].mean()))\n",
    "print('Среднее количество использованного интернет-трафика у пользователей тарифа \"Ультра\": {:.2f} Мб'.format(data_ultra['mb_used'].mean()))"
   ]
  },
  {
   "cell_type": "markdown",
   "metadata": {},
   "source": [
    "Дисперсия:"
   ]
  },
  {
   "cell_type": "code",
   "execution_count": 43,
   "metadata": {},
   "outputs": [
    {
     "name": "stdout",
     "output_type": "stream",
     "text": [
      "Дисперсия количества использованного трафика по тарифу \"Смарт\": 34564843.48\n",
      "Дисперсия количества использованных трафика \"Ультра\": 102032129.46\n"
     ]
    }
   ],
   "source": [
    "variance_estimate_smart_mb = np.var(data_smart['mb_used'], ddof=1)\n",
    "print('Дисперсия количества использованного трафика по тарифу \"Смарт\": {:.2f}'.format(variance_estimate_smart_mb))\n",
    "variance_estimate_ultra_mb = np.var(data_ultra['mb_used'], ddof=1)\n",
    "print('Дисперсия количества использованных трафика \"Ультра\": {:.2f}'.format(variance_estimate_ultra_mb))"
   ]
  },
  {
   "cell_type": "markdown",
   "metadata": {},
   "source": [
    "Стандартное отклонение:"
   ]
  },
  {
   "cell_type": "code",
   "execution_count": 44,
   "metadata": {},
   "outputs": [
    {
     "name": "stdout",
     "output_type": "stream",
     "text": [
      "Стандартное отклонение количества использованного трафика для тарифа \"Смарт\": 5879.19\n",
      "Стандартное отклонение количества использованного трафика для тарифа \"Ультра\": 10101.10\n"
     ]
    }
   ],
   "source": [
    "standard_deviation_smart_mb = np.sqrt(variance_estimate_smart_mb)\n",
    "print('Стандартное отклонение количества использованного трафика для тарифа \"Смарт\": {:.2f}'.format(standard_deviation_smart_mb))\n",
    "standard_deviation_ultra_mb = np.sqrt(variance_estimate_ultra_mb)\n",
    "print('Стандартное отклонение количества использованного трафика для тарифа \"Ультра\": {:.2f}'.format(standard_deviation_ultra_mb))"
   ]
  },
  {
   "cell_type": "markdown",
   "metadata": {},
   "source": [
    "Гистограммы:"
   ]
  },
  {
   "cell_type": "code",
   "execution_count": 45,
   "metadata": {},
   "outputs": [
    {
     "data": {
      "text/plain": [
       "<matplotlib.axes._subplots.AxesSubplot at 0x7fd3692263d0>"
      ]
     },
     "execution_count": 45,
     "metadata": {},
     "output_type": "execute_result"
    },
    {
     "data": {
      "image/png": "[encoded data removed]",
      "text/plain": [
       "<Figure size 432x288 with 1 Axes>"
      ]
     },
     "metadata": {
      "needs_background": "light"
     },
     "output_type": "display_data"
    },
    {
     "data": {
      "image/png": "[encoded data removed]",
      "text/plain": [
       "<Figure size 432x288 with 1 Axes>"
      ]
     },
     "metadata": {
      "needs_background": "light"
     },
     "output_type": "display_data"
    }
   ],
   "source": [
    "data_smart.plot(kind = 'hist', y='mb_used', title= 'Гистограмма количества использованного интернет-трафика', label = 'smart, mb', bins = 50, range = (0, 38552), grid = True)\n",
    "data_ultra.plot(kind = 'hist', y='mb_used', title= 'Гистограмма количества использованного интернет-трафика', label = 'ultra, mb', bins = 50, range = (0, 50000), grid = True)"
   ]
  },
  {
   "cell_type": "markdown",
   "metadata": {},
   "source": [
    "**Вывод:**\n",
    "\n",
    "Пользователи тарифа \"Смарт\" чаще всего используют от 11 до 23Гб. \n",
    "Большинству клиентов не хватает интернета, предоставленного в пакете по тарифу.\n",
    "\n",
    "Пользователи тарифа \"Ультра\" обычно расходуют от 9 до 30 Гб.\n",
    "Около 15% не хватает, включенного в тариф, объема трафика.\n"
   ]
  },
  {
   "cell_type": "markdown",
   "metadata": {},
   "source": [
    "### Выводы"
   ]
  },
  {
   "cell_type": "markdown",
   "metadata": {},
   "source": [
    "Большей части пользователей тарифа \"Смарт\" не хватает пакетов, включенных в пакет за абонентскую плату, особенно это заметно на гистограмме использования интернет-трафика. \n",
    "\n",
    "Пользователи тарифа \"Ультра\" редко превышают предоствленные лимиты по услугам, но если это происходит, то, как правило, тоже при использовании интернет-трафика.\n",
    "\n",
    "Также, хочу отметить, что только 0,2% пользователей тарифа \"Ультра\" используют более 1500 мин.\n",
    "\n",
    "Возможно, стоит задуматься о сокращении пакета предоставляемых минут и за счёт этого увеличения пакета интернета."
   ]
  },
  {
   "cell_type": "markdown",
   "metadata": {},
   "source": [
    "## Проверка гипотезы"
   ]
  },
  {
   "cell_type": "markdown",
   "metadata": {},
   "source": [
    "Проверю гипотезы:\n",
    "\n",
    "        средняя выручка пользователей тарифов «Ультра» и «Смарт» различаются;\n",
    "        средняя выручка пользователи из Москвы отличается от выручки пользователей из других регионов."
   ]
  },
  {
   "cell_type": "markdown",
   "metadata": {},
   "source": [
    "### Средняя выручка пользователей тарифов «Ультра» и «Смарт» различаются"
   ]
  },
  {
   "cell_type": "markdown",
   "metadata": {},
   "source": [
    "Для оценки гипотезы будем применять тест Стюдента."
   ]
  },
  {
   "cell_type": "markdown",
   "metadata": {},
   "source": [
    "H0  — средняя выручка пользователей тарифа «Ультра» равна средней выручке пользователей тарифа «Смарт».\n",
    "\n",
    "H1  — средняя выручка пользователей тарифов «Ультра» и «Смарт» различаются.\n",
    "\n",
    "α = 5%\n"
   ]
  },
  {
   "cell_type": "code",
   "execution_count": 46,
   "metadata": {},
   "outputs": [
    {
     "name": "stdout",
     "output_type": "stream",
     "text": [
      "p-значение:  8.081909555489933e-161\n",
      "Отвергаем нулевую гипотезу\n"
     ]
    }
   ],
   "source": [
    "ultra_income = data.query('tariff == \"ultra\"')['income']\n",
    "smart_income = data.query('tariff == \"smart\"')['income']\n",
    "\n",
    "alpha = 0.05\n",
    "results = st.ttest_ind(smart_income, ultra_income)\n",
    "\n",
    "print('p-значение: ', results.pvalue)\n",
    "\n",
    "if results.pvalue < alpha:\n",
    "    print(\"Отвергаем нулевую гипотезу\")\n",
    "else:\n",
    "    print(\"Не получилось отвергнуть нулевую гипотезу\") \n",
    "    \n"
   ]
  },
  {
   "cell_type": "markdown",
   "metadata": {},
   "source": [
    "**Вывод:**\n",
    "\n",
    "Гипотеза о различии выручки по тарифам \"Смарт\" и \"Ультра\" верна."
   ]
  },
  {
   "cell_type": "code",
   "execution_count": 47,
   "metadata": {},
   "outputs": [
    {
     "name": "stdout",
     "output_type": "stream",
     "text": [
      "Средняя выручка по пользователям тарифа \"Смарт\" 1289.64\n",
      "Средняя выручка по пользователям тарифа \"Ультра\" 2070.03\n"
     ]
    }
   ],
   "source": [
    "print('Средняя выручка по пользователям тарифа \"Смарт\" {:.2f}'.format(smart_income.mean()))\n",
    "print('Средняя выручка по пользователям тарифа \"Ультра\" {:.2f}'.format(ultra_income.mean()))"
   ]
  },
  {
   "cell_type": "markdown",
   "metadata": {},
   "source": [
    "Действительно, средняя выручка по клиентам, использующим \"Ультра\" выше практически в два раза."
   ]
  },
  {
   "cell_type": "markdown",
   "metadata": {},
   "source": [
    "### Средняя выручка пользователи из Москвы отличается от выручки пользователей из других регионов."
   ]
  },
  {
   "cell_type": "markdown",
   "metadata": {},
   "source": [
    "H0  — средняя выручка пользователей из Москвы равна средней выручке пользователей из других регионов.\n",
    "\n",
    "H1  — средняя выручка пользователей из Москвы отличается от средней выручке пользователей из других регионов.\n",
    "\n",
    "α = 5%"
   ]
  },
  {
   "cell_type": "code",
   "execution_count": 48,
   "metadata": {},
   "outputs": [
    {
     "name": "stdout",
     "output_type": "stream",
     "text": [
      "p-значение:  0.5400751614511182\n",
      "Не получилось отвергнуть нулевую гипотезу\n"
     ]
    }
   ],
   "source": [
    "moscow_income = data.query('city == \"Москва\"')['income']\n",
    "other_city_income = data.query('city != \"Москва\"')['income']\n",
    "alpha = 0.05\n",
    "\n",
    "results = st.ttest_ind(moscow_income, other_city_income)\n",
    "\n",
    "print('p-значение: ', results.pvalue)\n",
    "\n",
    "if results.pvalue < alpha:\n",
    "    print(\"Отвергаем нулевую гипотезу\")\n",
    "else:\n",
    "    print(\"Не получилось отвергнуть нулевую гипотезу\") \n",
    "    "
   ]
  },
  {
   "cell_type": "markdown",
   "metadata": {},
   "source": [
    "**Вывод:**\n",
    "\n",
    "Гипотеза о различии выручки пользователей из Москвы и остальных регионах не подтвердилась."
   ]
  },
  {
   "cell_type": "code",
   "execution_count": 49,
   "metadata": {},
   "outputs": [
    {
     "name": "stdout",
     "output_type": "stream",
     "text": [
      "Средняя выручка по пользователям из Москвы 1546.71\n",
      "Средняя выручка по пользователям из других регионов 1524.73\n"
     ]
    }
   ],
   "source": [
    "print('Средняя выручка по пользователям из Москвы {:.2f}'.format(moscow_income.mean()))\n",
    "print('Средняя выручка по пользователям из других регионов {:.2f}'.format(other_city_income.mean()))"
   ]
  },
  {
   "cell_type": "markdown",
   "metadata": {},
   "source": [
    "Действительно, разница не значительна :)"
   ]
  },
  {
   "cell_type": "markdown",
   "metadata": {},
   "source": [
    "## Общий вывод"
   ]
  },
  {
   "cell_type": "markdown",
   "metadata": {},
   "source": [
    "В ходе проделанной работы было выполнено:\n",
    "\n",
    "1. Изучена общая информация по каждой из представленных таблиц.\n",
    "2. Составлена общая таблица данных о пользователях сети\n",
    "3. Изменены типы данных для столбцов\n",
    "4. Добавлены необходимые данные для дальнейших исследований.\n",
    "5. Проведен сравнительный анализ пользователей тарифов\n",
    "6. Проверены гипотезы на возможное соотвествие\n",
    "\n",
    "Предложенные тарифы сильно отличаются друг от друга и их выручка разнится. В первую очередь пользователи тарифа Smart чаще пользователей тарифа Ultra перерасходуют лимиты. Из-за этого выручка по тарифу Smart может казаться большой.\n",
    "Пользователи тарифа \"Смарт\" чаще расходуют предоставленные пакеты, что говорит о том, что тариф не подходит большинству клиентов, с тарифом \"Ультра\" ситуация обратная.\n",
    "\n",
    "Средняя выручка по каждому тарифу отличается почти в два раза, при этом, зависимости выручки от региона проживания клиента не выявлено."
   ]
  }
 ],
 "metadata": {
  "ExecuteTimeLog": [
   {
    "duration": 2590,
    "start_time": "2021-08-01T16:31:54.505Z"
   },
   {
    "duration": 87,
    "start_time": "2021-08-01T16:33:09.647Z"
   },
   {
    "duration": 60,
    "start_time": "2021-08-01T16:34:05.748Z"
   },
   {
    "duration": 34,
    "start_time": "2021-08-01T16:34:06.255Z"
   },
   {
    "duration": 53,
    "start_time": "2021-08-01T16:34:06.899Z"
   },
   {
    "duration": 30,
    "start_time": "2021-08-01T16:34:08.138Z"
   },
   {
    "duration": 61,
    "start_time": "2021-08-01T16:35:11.361Z"
   },
   {
    "duration": 33,
    "start_time": "2021-08-01T16:35:53.090Z"
   },
   {
    "duration": 59,
    "start_time": "2021-08-01T16:37:16.767Z"
   },
   {
    "duration": 35,
    "start_time": "2021-08-01T16:37:25.835Z"
   },
   {
    "duration": 45,
    "start_time": "2021-08-01T16:37:26.983Z"
   },
   {
    "duration": 32,
    "start_time": "2021-08-01T16:37:44.743Z"
   },
   {
    "duration": 44,
    "start_time": "2021-08-01T16:38:03.679Z"
   },
   {
    "duration": 34,
    "start_time": "2021-08-01T16:38:06.661Z"
   },
   {
    "duration": 1944,
    "start_time": "2021-08-02T16:04:57.643Z"
   },
   {
    "duration": 69,
    "start_time": "2021-08-02T16:04:59.590Z"
   },
   {
    "duration": 59,
    "start_time": "2021-08-02T16:04:59.662Z"
   },
   {
    "duration": 55,
    "start_time": "2021-08-02T16:04:59.724Z"
   },
   {
    "duration": 44,
    "start_time": "2021-08-02T16:04:59.781Z"
   },
   {
    "duration": 61,
    "start_time": "2021-08-02T16:04:59.827Z"
   },
   {
    "duration": 502,
    "start_time": "2021-08-02T16:04:59.891Z"
   },
   {
    "duration": 46,
    "start_time": "2021-08-02T16:05:09.070Z"
   },
   {
    "duration": 20,
    "start_time": "2021-08-02T16:05:17.668Z"
   },
   {
    "duration": 34,
    "start_time": "2021-08-02T16:05:25.377Z"
   },
   {
    "duration": 13,
    "start_time": "2021-08-02T16:05:35.535Z"
   },
   {
    "duration": 376,
    "start_time": "2021-08-02T16:07:00.842Z"
   },
   {
    "duration": 350,
    "start_time": "2021-08-02T16:07:21.284Z"
   },
   {
    "duration": 711,
    "start_time": "2021-08-02T16:07:27.164Z"
   },
   {
    "duration": 370,
    "start_time": "2021-08-02T16:10:48.589Z"
   },
   {
    "duration": 8,
    "start_time": "2021-08-02T16:13:27.636Z"
   },
   {
    "duration": 18,
    "start_time": "2021-08-02T16:13:36.869Z"
   },
   {
    "duration": 5,
    "start_time": "2021-08-02T16:13:54.849Z"
   },
   {
    "duration": 19,
    "start_time": "2021-08-02T16:13:55.743Z"
   },
   {
    "duration": 5,
    "start_time": "2021-08-02T16:16:11.096Z"
   },
   {
    "duration": 18,
    "start_time": "2021-08-02T16:16:13.102Z"
   },
   {
    "duration": 27,
    "start_time": "2021-08-02T16:16:18.963Z"
   },
   {
    "duration": 17,
    "start_time": "2021-08-02T16:17:12.641Z"
   },
   {
    "duration": 573,
    "start_time": "2021-08-02T16:18:17.095Z"
   },
   {
    "duration": 65,
    "start_time": "2021-08-02T16:18:17.670Z"
   },
   {
    "duration": 81,
    "start_time": "2021-08-02T16:18:17.738Z"
   },
   {
    "duration": 37,
    "start_time": "2021-08-02T16:18:17.904Z"
   },
   {
    "duration": 44,
    "start_time": "2021-08-02T16:18:18.130Z"
   },
   {
    "duration": 36,
    "start_time": "2021-08-02T16:18:18.413Z"
   },
   {
    "duration": 298,
    "start_time": "2021-08-02T16:18:25.278Z"
   },
   {
    "duration": 350,
    "start_time": "2021-08-02T16:18:38.956Z"
   },
   {
    "duration": 17,
    "start_time": "2021-08-02T16:19:37.022Z"
   },
   {
    "duration": 19,
    "start_time": "2021-08-02T16:19:46.243Z"
   },
   {
    "duration": 16,
    "start_time": "2021-08-02T16:23:05.630Z"
   },
   {
    "duration": 1929,
    "start_time": "2021-08-02T16:23:13.456Z"
   },
   {
    "duration": 70,
    "start_time": "2021-08-02T16:23:15.389Z"
   },
   {
    "duration": 62,
    "start_time": "2021-08-02T16:23:15.462Z"
   },
   {
    "duration": 53,
    "start_time": "2021-08-02T16:23:15.527Z"
   },
   {
    "duration": 44,
    "start_time": "2021-08-02T16:23:15.583Z"
   },
   {
    "duration": 64,
    "start_time": "2021-08-02T16:23:15.630Z"
   },
   {
    "duration": 48,
    "start_time": "2021-08-02T16:23:15.696Z"
   },
   {
    "duration": 36,
    "start_time": "2021-08-02T16:23:15.746Z"
   },
   {
    "duration": 101,
    "start_time": "2021-08-02T16:23:45.765Z"
   },
   {
    "duration": 18,
    "start_time": "2021-08-02T16:23:51.452Z"
   },
   {
    "duration": 19,
    "start_time": "2021-08-02T16:24:20.748Z"
   },
   {
    "duration": 517,
    "start_time": "2021-08-02T16:24:28.941Z"
   },
   {
    "duration": 7,
    "start_time": "2021-08-02T16:24:36.899Z"
   },
   {
    "duration": 9,
    "start_time": "2021-08-02T16:29:11.168Z"
   },
   {
    "duration": 122,
    "start_time": "2021-08-02T16:30:33.051Z"
   },
   {
    "duration": 144,
    "start_time": "2021-08-02T16:31:18.302Z"
   },
   {
    "duration": 72,
    "start_time": "2021-08-02T16:31:18.634Z"
   },
   {
    "duration": 118,
    "start_time": "2021-08-02T16:31:18.950Z"
   },
   {
    "duration": 8,
    "start_time": "2021-08-02T16:31:19.336Z"
   },
   {
    "duration": 10,
    "start_time": "2021-08-02T16:31:19.705Z"
   },
   {
    "duration": 22,
    "start_time": "2021-08-02T16:33:50.562Z"
   },
   {
    "duration": 9,
    "start_time": "2021-08-02T16:34:49.109Z"
   },
   {
    "duration": 23,
    "start_time": "2021-08-02T16:34:55.579Z"
   },
   {
    "duration": 19,
    "start_time": "2021-08-02T16:34:55.979Z"
   },
   {
    "duration": 8,
    "start_time": "2021-08-02T16:34:56.390Z"
   },
   {
    "duration": 290,
    "start_time": "2021-08-02T16:38:12.632Z"
   },
   {
    "duration": 14,
    "start_time": "2021-08-02T16:38:19.562Z"
   },
   {
    "duration": 51,
    "start_time": "2021-08-02T16:41:09.774Z"
   },
   {
    "duration": 41,
    "start_time": "2021-08-02T16:41:16.872Z"
   },
   {
    "duration": 37,
    "start_time": "2021-08-02T16:41:22.278Z"
   },
   {
    "duration": 42,
    "start_time": "2021-08-02T16:41:26.648Z"
   },
   {
    "duration": 43,
    "start_time": "2021-08-02T16:41:41.408Z"
   },
   {
    "duration": 50,
    "start_time": "2021-08-02T16:41:47.446Z"
   },
   {
    "duration": 375,
    "start_time": "2021-08-02T16:41:57.478Z"
   },
   {
    "duration": 54,
    "start_time": "2021-08-02T16:43:21.031Z"
   },
   {
    "duration": 55,
    "start_time": "2021-08-02T16:43:36.357Z"
   },
   {
    "duration": 59,
    "start_time": "2021-08-02T16:43:40.824Z"
   },
   {
    "duration": 315,
    "start_time": "2021-08-02T16:57:35.965Z"
   },
   {
    "duration": 66,
    "start_time": "2021-08-02T16:57:47.039Z"
   },
   {
    "duration": 353,
    "start_time": "2021-08-02T16:57:47.835Z"
   },
   {
    "duration": 27,
    "start_time": "2021-08-02T16:58:11.512Z"
   },
   {
    "duration": 35,
    "start_time": "2021-08-02T16:58:11.988Z"
   },
   {
    "duration": 8,
    "start_time": "2021-08-02T16:58:12.405Z"
   },
   {
    "duration": 131,
    "start_time": "2021-08-02T16:58:13.204Z"
   },
   {
    "duration": 57,
    "start_time": "2021-08-02T16:58:13.588Z"
   },
   {
    "duration": 93,
    "start_time": "2021-08-02T16:58:13.924Z"
   },
   {
    "duration": 9,
    "start_time": "2021-08-02T16:58:14.218Z"
   },
   {
    "duration": 11,
    "start_time": "2021-08-02T16:58:14.502Z"
   },
   {
    "duration": 61,
    "start_time": "2021-08-02T16:58:15.156Z"
   },
   {
    "duration": 49,
    "start_time": "2021-08-02T16:58:15.599Z"
   },
   {
    "duration": 548,
    "start_time": "2021-08-02T16:59:03.562Z"
   },
   {
    "duration": 45,
    "start_time": "2021-08-02T16:59:17.536Z"
   },
   {
    "duration": 35,
    "start_time": "2021-08-02T17:13:35.204Z"
   },
   {
    "duration": 348,
    "start_time": "2021-08-02T17:15:29.073Z"
   },
   {
    "duration": 483,
    "start_time": "2021-08-03T15:36:12.842Z"
   },
   {
    "duration": 2530,
    "start_time": "2021-08-03T15:36:23.115Z"
   },
   {
    "duration": 71,
    "start_time": "2021-08-03T15:36:25.647Z"
   },
   {
    "duration": 81,
    "start_time": "2021-08-03T15:36:25.721Z"
   },
   {
    "duration": 72,
    "start_time": "2021-08-03T15:36:25.806Z"
   },
   {
    "duration": 83,
    "start_time": "2021-08-03T15:36:25.882Z"
   },
   {
    "duration": 48,
    "start_time": "2021-08-03T15:36:25.968Z"
   },
   {
    "duration": 71,
    "start_time": "2021-08-03T15:36:26.018Z"
   },
   {
    "duration": 37,
    "start_time": "2021-08-03T15:36:26.092Z"
   },
   {
    "duration": 39,
    "start_time": "2021-08-03T15:36:26.133Z"
   },
   {
    "duration": 9,
    "start_time": "2021-08-03T15:36:26.175Z"
   },
   {
    "duration": 11,
    "start_time": "2021-08-03T15:36:26.186Z"
   },
   {
    "duration": 91,
    "start_time": "2021-08-03T15:36:26.200Z"
   },
   {
    "duration": 8,
    "start_time": "2021-08-03T15:36:26.293Z"
   },
   {
    "duration": 26,
    "start_time": "2021-08-03T15:36:26.303Z"
   },
   {
    "duration": 60,
    "start_time": "2021-08-03T15:36:26.331Z"
   },
   {
    "duration": 9,
    "start_time": "2021-08-03T15:36:26.394Z"
   },
   {
    "duration": 157,
    "start_time": "2021-08-03T15:36:26.405Z"
   },
   {
    "duration": 61,
    "start_time": "2021-08-03T15:36:26.564Z"
   },
   {
    "duration": 123,
    "start_time": "2021-08-03T15:36:26.628Z"
   },
   {
    "duration": 13,
    "start_time": "2021-08-03T15:36:26.753Z"
   },
   {
    "duration": 20,
    "start_time": "2021-08-03T15:36:26.768Z"
   },
   {
    "duration": 119,
    "start_time": "2021-08-03T15:36:26.791Z"
   },
   {
    "duration": 652,
    "start_time": "2021-08-03T15:36:26.913Z"
   },
   {
    "duration": 57,
    "start_time": "2021-08-03T15:36:27.512Z"
   },
   {
    "duration": 54,
    "start_time": "2021-08-03T15:36:27.517Z"
   },
   {
    "duration": 74,
    "start_time": "2021-08-03T15:36:39.108Z"
   },
   {
    "duration": 73,
    "start_time": "2021-08-03T15:36:42.039Z"
   },
   {
    "duration": 397,
    "start_time": "2021-08-03T15:37:08.859Z"
   },
   {
    "duration": 64,
    "start_time": "2021-08-03T15:37:09.621Z"
   },
   {
    "duration": 58,
    "start_time": "2021-08-03T15:37:14.748Z"
   },
   {
    "duration": 66,
    "start_time": "2021-08-03T15:37:22.258Z"
   },
   {
    "duration": 67,
    "start_time": "2021-08-03T15:37:24.362Z"
   },
   {
    "duration": 361,
    "start_time": "2021-08-03T15:37:52.916Z"
   },
   {
    "duration": 161,
    "start_time": "2021-08-03T15:38:12.118Z"
   },
   {
    "duration": 408,
    "start_time": "2021-08-03T15:38:29.235Z"
   },
   {
    "duration": 47,
    "start_time": "2021-08-03T15:38:42.101Z"
   },
   {
    "duration": 22,
    "start_time": "2021-08-03T15:38:49.949Z"
   },
   {
    "duration": 35,
    "start_time": "2021-08-03T15:41:14.245Z"
   },
   {
    "duration": 387,
    "start_time": "2021-08-03T15:43:37.855Z"
   },
   {
    "duration": 54,
    "start_time": "2021-08-03T15:43:42.510Z"
   },
   {
    "duration": 69,
    "start_time": "2021-08-03T15:44:06.139Z"
   },
   {
    "duration": 371,
    "start_time": "2021-08-03T15:44:40.231Z"
   },
   {
    "duration": 367,
    "start_time": "2021-08-03T15:44:44.064Z"
   },
   {
    "duration": 383,
    "start_time": "2021-08-03T15:45:15.733Z"
   },
   {
    "duration": 392,
    "start_time": "2021-08-03T15:45:21.503Z"
   },
   {
    "duration": 115,
    "start_time": "2021-08-03T15:46:40.138Z"
   },
   {
    "duration": 135,
    "start_time": "2021-08-03T15:46:46.634Z"
   },
   {
    "duration": 398,
    "start_time": "2021-08-03T15:46:54.958Z"
   },
   {
    "duration": 35,
    "start_time": "2021-08-03T15:47:51.536Z"
   },
   {
    "duration": 40,
    "start_time": "2021-08-03T15:48:01.566Z"
   },
   {
    "duration": 32,
    "start_time": "2021-08-03T15:48:27.882Z"
   },
   {
    "duration": 378,
    "start_time": "2021-08-03T15:48:48.721Z"
   },
   {
    "duration": 395,
    "start_time": "2021-08-03T15:49:00.187Z"
   },
   {
    "duration": 47,
    "start_time": "2021-08-03T15:51:24.642Z"
   },
   {
    "duration": 27,
    "start_time": "2021-08-03T15:52:45.708Z"
   },
   {
    "duration": 4504,
    "start_time": "2021-08-03T15:52:52.948Z"
   },
   {
    "duration": 5034,
    "start_time": "2021-08-03T15:52:59.055Z"
   },
   {
    "duration": 4370,
    "start_time": "2021-08-03T15:53:15.730Z"
   },
   {
    "duration": 4223,
    "start_time": "2021-08-03T15:53:27.994Z"
   },
   {
    "duration": 4589,
    "start_time": "2021-08-03T15:53:42.607Z"
   },
   {
    "duration": 1949,
    "start_time": "2021-08-03T15:53:56.137Z"
   },
   {
    "duration": 68,
    "start_time": "2021-08-03T15:53:58.090Z"
   },
   {
    "duration": 61,
    "start_time": "2021-08-03T15:53:58.161Z"
   },
   {
    "duration": 56,
    "start_time": "2021-08-03T15:53:58.225Z"
   },
   {
    "duration": 43,
    "start_time": "2021-08-03T15:53:58.283Z"
   },
   {
    "duration": 60,
    "start_time": "2021-08-03T15:53:58.329Z"
   },
   {
    "duration": 27,
    "start_time": "2021-08-03T15:53:58.392Z"
   },
   {
    "duration": 55,
    "start_time": "2021-08-03T15:53:58.422Z"
   },
   {
    "duration": 20,
    "start_time": "2021-08-03T15:53:58.481Z"
   },
   {
    "duration": 8,
    "start_time": "2021-08-03T15:53:58.503Z"
   },
   {
    "duration": 11,
    "start_time": "2021-08-03T15:53:58.513Z"
   },
   {
    "duration": 44,
    "start_time": "2021-08-03T15:53:58.563Z"
   },
   {
    "duration": 7,
    "start_time": "2021-08-03T15:53:58.610Z"
   },
   {
    "duration": 46,
    "start_time": "2021-08-03T15:53:58.620Z"
   },
   {
    "duration": 32,
    "start_time": "2021-08-03T15:53:58.669Z"
   },
   {
    "duration": 9,
    "start_time": "2021-08-03T15:53:58.703Z"
   },
   {
    "duration": 149,
    "start_time": "2021-08-03T15:53:58.714Z"
   },
   {
    "duration": 81,
    "start_time": "2021-08-03T15:53:58.866Z"
   },
   {
    "duration": 134,
    "start_time": "2021-08-03T15:53:58.963Z"
   },
   {
    "duration": 11,
    "start_time": "2021-08-03T15:53:59.100Z"
   },
   {
    "duration": 15,
    "start_time": "2021-08-03T15:53:59.114Z"
   },
   {
    "duration": 116,
    "start_time": "2021-08-03T15:53:59.132Z"
   },
   {
    "duration": 83,
    "start_time": "2021-08-03T15:53:59.251Z"
   },
   {
    "duration": 83,
    "start_time": "2021-08-03T15:53:59.337Z"
   },
   {
    "duration": 65,
    "start_time": "2021-08-03T15:53:59.423Z"
   },
   {
    "duration": 34,
    "start_time": "2021-08-03T15:55:21.050Z"
   },
   {
    "duration": 34,
    "start_time": "2021-08-03T15:55:27.768Z"
   },
   {
    "duration": 2375,
    "start_time": "2021-08-03T15:55:34.508Z"
   },
   {
    "duration": 103,
    "start_time": "2021-08-03T15:55:36.886Z"
   },
   {
    "duration": 100,
    "start_time": "2021-08-03T15:55:36.994Z"
   },
   {
    "duration": 65,
    "start_time": "2021-08-03T15:55:37.098Z"
   },
   {
    "duration": 64,
    "start_time": "2021-08-03T15:55:37.166Z"
   },
   {
    "duration": 60,
    "start_time": "2021-08-03T15:55:37.233Z"
   },
   {
    "duration": 29,
    "start_time": "2021-08-03T15:55:37.295Z"
   },
   {
    "duration": 51,
    "start_time": "2021-08-03T15:55:37.327Z"
   },
   {
    "duration": 18,
    "start_time": "2021-08-03T15:55:37.381Z"
   },
   {
    "duration": 11,
    "start_time": "2021-08-03T15:55:37.402Z"
   },
   {
    "duration": 9,
    "start_time": "2021-08-03T15:55:37.416Z"
   },
   {
    "duration": 100,
    "start_time": "2021-08-03T15:55:37.428Z"
   },
   {
    "duration": 10,
    "start_time": "2021-08-03T15:55:37.531Z"
   },
   {
    "duration": 56,
    "start_time": "2021-08-03T15:55:37.544Z"
   },
   {
    "duration": 66,
    "start_time": "2021-08-03T15:55:37.603Z"
   },
   {
    "duration": 12,
    "start_time": "2021-08-03T15:55:37.672Z"
   },
   {
    "duration": 140,
    "start_time": "2021-08-03T15:55:37.686Z"
   },
   {
    "duration": 66,
    "start_time": "2021-08-03T15:55:37.829Z"
   },
   {
    "duration": 115,
    "start_time": "2021-08-03T15:55:37.897Z"
   },
   {
    "duration": 9,
    "start_time": "2021-08-03T15:55:38.016Z"
   },
   {
    "duration": 38,
    "start_time": "2021-08-03T15:55:38.028Z"
   },
   {
    "duration": 69,
    "start_time": "2021-08-03T15:55:38.069Z"
   },
   {
    "duration": 74,
    "start_time": "2021-08-03T15:55:38.142Z"
   },
   {
    "duration": 78,
    "start_time": "2021-08-03T15:55:38.219Z"
   },
   {
    "duration": 35,
    "start_time": "2021-08-03T15:55:38.300Z"
   },
   {
    "duration": 460,
    "start_time": "2021-08-03T15:59:18.231Z"
   },
   {
    "duration": 448,
    "start_time": "2021-08-03T15:59:29.519Z"
   },
   {
    "duration": 328,
    "start_time": "2021-08-03T15:59:40.137Z"
   },
   {
    "duration": 35,
    "start_time": "2021-08-03T16:00:25.506Z"
   },
   {
    "duration": 54,
    "start_time": "2021-08-03T16:00:39.036Z"
   },
   {
    "duration": 32,
    "start_time": "2021-08-03T16:00:53.903Z"
   },
   {
    "duration": 57,
    "start_time": "2021-08-03T16:00:58.153Z"
   },
   {
    "duration": 50,
    "start_time": "2021-08-03T16:01:10.558Z"
   },
   {
    "duration": 33,
    "start_time": "2021-08-03T16:02:32.225Z"
   },
   {
    "duration": 33,
    "start_time": "2021-08-03T16:03:26.051Z"
   },
   {
    "duration": 32,
    "start_time": "2021-08-03T16:04:39.141Z"
   },
   {
    "duration": 64,
    "start_time": "2021-08-03T16:05:21.501Z"
   },
   {
    "duration": 49,
    "start_time": "2021-08-03T16:06:26.215Z"
   },
   {
    "duration": 353,
    "start_time": "2021-08-03T16:17:59.402Z"
   },
   {
    "duration": 46,
    "start_time": "2021-08-03T16:18:05.332Z"
   },
   {
    "duration": 8593,
    "start_time": "2021-08-03T16:20:16.729Z"
   },
   {
    "duration": 9498,
    "start_time": "2021-08-03T16:20:26.697Z"
   },
   {
    "duration": 51,
    "start_time": "2021-08-03T16:20:45.346Z"
   },
   {
    "duration": 49,
    "start_time": "2021-08-03T16:21:03.569Z"
   },
   {
    "duration": 48,
    "start_time": "2021-08-03T16:21:20.290Z"
   },
   {
    "duration": 52,
    "start_time": "2021-08-03T16:23:20.634Z"
   },
   {
    "duration": 56,
    "start_time": "2021-08-03T16:28:24.784Z"
   },
   {
    "duration": 71,
    "start_time": "2021-08-03T16:28:51.973Z"
   },
   {
    "duration": 72,
    "start_time": "2021-08-03T16:29:07.930Z"
   },
   {
    "duration": 74,
    "start_time": "2021-08-03T16:29:45.216Z"
   },
   {
    "duration": 21,
    "start_time": "2021-08-03T16:30:03.943Z"
   },
   {
    "duration": 79,
    "start_time": "2021-08-03T16:30:12.480Z"
   },
   {
    "duration": 76,
    "start_time": "2021-08-03T16:30:20.559Z"
   },
   {
    "duration": 58,
    "start_time": "2021-08-03T16:30:35.175Z"
   },
   {
    "duration": 391,
    "start_time": "2021-08-03T16:58:46.194Z"
   },
   {
    "duration": 87,
    "start_time": "2021-08-03T17:00:29.738Z"
   },
   {
    "duration": 390,
    "start_time": "2021-08-03T17:00:32.106Z"
   },
   {
    "duration": 53,
    "start_time": "2021-08-03T17:03:15.956Z"
   },
   {
    "duration": 45,
    "start_time": "2021-08-03T17:03:42.826Z"
   },
   {
    "duration": 6,
    "start_time": "2021-08-03T17:05:15.685Z"
   },
   {
    "duration": 9,
    "start_time": "2021-08-03T17:05:54.957Z"
   },
   {
    "duration": 8,
    "start_time": "2021-08-03T17:06:56.392Z"
   },
   {
    "duration": 9,
    "start_time": "2021-08-03T17:07:41.958Z"
   },
   {
    "duration": 136,
    "start_time": "2021-08-03T17:08:13.823Z"
   },
   {
    "duration": 8,
    "start_time": "2021-08-03T17:08:33.661Z"
   },
   {
    "duration": 9,
    "start_time": "2021-08-03T17:09:02.964Z"
   },
   {
    "duration": 7,
    "start_time": "2021-08-03T17:09:07.641Z"
   },
   {
    "duration": 8,
    "start_time": "2021-08-03T17:10:00.957Z"
   },
   {
    "duration": 6,
    "start_time": "2021-08-03T17:10:21.617Z"
   },
   {
    "duration": 44,
    "start_time": "2021-08-03T17:10:22.769Z"
   },
   {
    "duration": 8,
    "start_time": "2021-08-03T17:10:23.191Z"
   },
   {
    "duration": 5,
    "start_time": "2021-08-03T17:16:17.211Z"
   },
   {
    "duration": 8,
    "start_time": "2021-08-03T17:16:44.161Z"
   },
   {
    "duration": 5,
    "start_time": "2021-08-03T17:17:11.819Z"
   },
   {
    "duration": 5,
    "start_time": "2021-08-03T17:17:15.313Z"
   },
   {
    "duration": 21,
    "start_time": "2021-08-03T17:19:01.674Z"
   },
   {
    "duration": 5,
    "start_time": "2021-08-03T17:19:14.031Z"
   },
   {
    "duration": 7,
    "start_time": "2021-08-03T17:19:16.573Z"
   },
   {
    "duration": 2129,
    "start_time": "2021-08-03T17:19:22.500Z"
   },
   {
    "duration": 71,
    "start_time": "2021-08-03T17:19:24.631Z"
   },
   {
    "duration": 75,
    "start_time": "2021-08-03T17:19:24.708Z"
   },
   {
    "duration": 36,
    "start_time": "2021-08-03T17:19:24.785Z"
   },
   {
    "duration": 79,
    "start_time": "2021-08-03T17:19:24.823Z"
   },
   {
    "duration": 34,
    "start_time": "2021-08-03T17:19:24.904Z"
   },
   {
    "duration": 34,
    "start_time": "2021-08-03T17:19:24.963Z"
   },
   {
    "duration": 21,
    "start_time": "2021-08-03T17:19:25.021Z"
   },
   {
    "duration": 43,
    "start_time": "2021-08-03T17:19:25.045Z"
   },
   {
    "duration": 8,
    "start_time": "2021-08-03T17:19:25.090Z"
   },
   {
    "duration": 21,
    "start_time": "2021-08-03T17:19:25.100Z"
   },
   {
    "duration": 72,
    "start_time": "2021-08-03T17:19:25.123Z"
   },
   {
    "duration": 8,
    "start_time": "2021-08-03T17:19:25.197Z"
   },
   {
    "duration": 28,
    "start_time": "2021-08-03T17:19:25.207Z"
   },
   {
    "duration": 46,
    "start_time": "2021-08-03T17:19:25.237Z"
   },
   {
    "duration": 11,
    "start_time": "2021-08-03T17:19:25.286Z"
   },
   {
    "duration": 157,
    "start_time": "2021-08-03T17:19:25.300Z"
   },
   {
    "duration": 62,
    "start_time": "2021-08-03T17:19:25.460Z"
   },
   {
    "duration": 130,
    "start_time": "2021-08-03T17:19:25.525Z"
   },
   {
    "duration": 11,
    "start_time": "2021-08-03T17:19:25.662Z"
   },
   {
    "duration": 13,
    "start_time": "2021-08-03T17:19:25.677Z"
   },
   {
    "duration": 126,
    "start_time": "2021-08-03T17:19:25.693Z"
   },
   {
    "duration": 85,
    "start_time": "2021-08-03T17:19:25.822Z"
   },
   {
    "duration": 72,
    "start_time": "2021-08-03T17:19:25.910Z"
   },
   {
    "duration": 51,
    "start_time": "2021-08-03T17:19:25.984Z"
   },
   {
    "duration": 69,
    "start_time": "2021-08-03T17:19:26.062Z"
   },
   {
    "duration": 54,
    "start_time": "2021-08-03T17:19:26.134Z"
   },
   {
    "duration": 72,
    "start_time": "2021-08-03T17:19:26.191Z"
   },
   {
    "duration": 10,
    "start_time": "2021-08-03T17:19:26.264Z"
   },
   {
    "duration": 9,
    "start_time": "2021-08-03T17:19:26.283Z"
   },
   {
    "duration": 597,
    "start_time": "2021-08-03T17:19:26.295Z"
   },
   {
    "duration": 37,
    "start_time": "2021-08-03T17:19:26.858Z"
   },
   {
    "duration": 7,
    "start_time": "2021-08-03T17:19:37.879Z"
   },
   {
    "duration": 6,
    "start_time": "2021-08-03T17:19:38.448Z"
   },
   {
    "duration": 4,
    "start_time": "2021-08-03T17:20:32.169Z"
   },
   {
    "duration": 4,
    "start_time": "2021-08-03T17:20:32.638Z"
   },
   {
    "duration": 4,
    "start_time": "2021-08-03T17:20:45.949Z"
   },
   {
    "duration": 5,
    "start_time": "2021-08-03T17:20:46.333Z"
   },
   {
    "duration": 427,
    "start_time": "2021-08-03T17:23:17.782Z"
   },
   {
    "duration": 8,
    "start_time": "2021-08-03T17:23:25.899Z"
   },
   {
    "duration": 377,
    "start_time": "2021-08-03T17:23:27.934Z"
   },
   {
    "duration": 8,
    "start_time": "2021-08-03T17:23:37.600Z"
   },
   {
    "duration": 6,
    "start_time": "2021-08-03T17:26:26.147Z"
   },
   {
    "duration": 350,
    "start_time": "2021-08-03T17:26:54.903Z"
   },
   {
    "duration": 9,
    "start_time": "2021-08-03T17:27:15.596Z"
   },
   {
    "duration": 6,
    "start_time": "2021-08-03T17:27:16.624Z"
   },
   {
    "duration": 8,
    "start_time": "2021-08-03T17:27:17.069Z"
   },
   {
    "duration": 1848,
    "start_time": "2021-08-04T04:00:43.667Z"
   },
   {
    "duration": 70,
    "start_time": "2021-08-04T04:00:45.518Z"
   },
   {
    "duration": 76,
    "start_time": "2021-08-04T04:00:45.591Z"
   },
   {
    "duration": 37,
    "start_time": "2021-08-04T04:00:45.670Z"
   },
   {
    "duration": 64,
    "start_time": "2021-08-04T04:00:45.710Z"
   },
   {
    "duration": 39,
    "start_time": "2021-08-04T04:00:45.776Z"
   },
   {
    "duration": 46,
    "start_time": "2021-08-04T04:00:45.817Z"
   },
   {
    "duration": 22,
    "start_time": "2021-08-04T04:00:45.867Z"
   },
   {
    "duration": 18,
    "start_time": "2021-08-04T04:00:45.892Z"
   },
   {
    "duration": 43,
    "start_time": "2021-08-04T04:00:45.913Z"
   },
   {
    "duration": 8,
    "start_time": "2021-08-04T04:00:45.959Z"
   },
   {
    "duration": 58,
    "start_time": "2021-08-04T04:00:45.969Z"
   },
   {
    "duration": 25,
    "start_time": "2021-08-04T04:00:46.029Z"
   },
   {
    "duration": 26,
    "start_time": "2021-08-04T04:00:46.057Z"
   },
   {
    "duration": 32,
    "start_time": "2021-08-04T04:00:46.086Z"
   },
   {
    "duration": 36,
    "start_time": "2021-08-04T04:00:46.120Z"
   },
   {
    "duration": 140,
    "start_time": "2021-08-04T04:00:46.159Z"
   },
   {
    "duration": 66,
    "start_time": "2021-08-04T04:00:46.301Z"
   },
   {
    "duration": 114,
    "start_time": "2021-08-04T04:00:46.370Z"
   },
   {
    "duration": 7,
    "start_time": "2021-08-04T04:00:46.487Z"
   },
   {
    "duration": 15,
    "start_time": "2021-08-04T04:00:46.496Z"
   },
   {
    "duration": 88,
    "start_time": "2021-08-04T04:00:46.514Z"
   },
   {
    "duration": 64,
    "start_time": "2021-08-04T04:00:46.607Z"
   },
   {
    "duration": 45,
    "start_time": "2021-08-04T04:00:46.674Z"
   },
   {
    "duration": 68,
    "start_time": "2021-08-04T04:00:46.722Z"
   },
   {
    "duration": 74,
    "start_time": "2021-08-04T04:00:46.793Z"
   },
   {
    "duration": 44,
    "start_time": "2021-08-04T04:00:46.869Z"
   },
   {
    "duration": 67,
    "start_time": "2021-08-04T04:00:46.916Z"
   },
   {
    "duration": 7,
    "start_time": "2021-08-04T04:00:46.985Z"
   },
   {
    "duration": 12,
    "start_time": "2021-08-04T04:00:46.994Z"
   },
   {
    "duration": 12,
    "start_time": "2021-08-04T04:00:47.009Z"
   },
   {
    "duration": 36,
    "start_time": "2021-08-04T04:00:47.023Z"
   },
   {
    "duration": 9,
    "start_time": "2021-08-04T04:00:47.062Z"
   },
   {
    "duration": 7,
    "start_time": "2021-08-04T04:00:47.074Z"
   },
   {
    "duration": 394,
    "start_time": "2021-08-04T04:18:50.553Z"
   },
   {
    "duration": 396,
    "start_time": "2021-08-04T04:19:27.881Z"
   },
   {
    "duration": 766,
    "start_time": "2021-08-04T04:20:01.722Z"
   },
   {
    "duration": 752,
    "start_time": "2021-08-04T04:22:15.399Z"
   },
   {
    "duration": 98,
    "start_time": "2021-08-04T04:27:03.756Z"
   },
   {
    "duration": 83,
    "start_time": "2021-08-04T04:27:07.970Z"
   },
   {
    "duration": 378,
    "start_time": "2021-08-04T04:27:12.797Z"
   },
   {
    "duration": 261,
    "start_time": "2021-08-04T04:27:16.055Z"
   },
   {
    "duration": 257,
    "start_time": "2021-08-04T04:27:27.254Z"
   },
   {
    "duration": 255,
    "start_time": "2021-08-04T04:27:34.568Z"
   },
   {
    "duration": 269,
    "start_time": "2021-08-04T04:28:29.231Z"
   },
   {
    "duration": 252,
    "start_time": "2021-08-04T04:28:39.868Z"
   },
   {
    "duration": 398,
    "start_time": "2021-08-04T04:29:31.210Z"
   },
   {
    "duration": 591,
    "start_time": "2021-08-04T04:29:41.867Z"
   },
   {
    "duration": 447,
    "start_time": "2021-08-04T04:30:16.621Z"
   },
   {
    "duration": 558,
    "start_time": "2021-08-04T04:31:08.561Z"
   },
   {
    "duration": 499,
    "start_time": "2021-08-04T04:31:19.071Z"
   },
   {
    "duration": 486,
    "start_time": "2021-08-04T04:31:28.013Z"
   },
   {
    "duration": 469,
    "start_time": "2021-08-04T04:32:33.809Z"
   },
   {
    "duration": 531,
    "start_time": "2021-08-04T04:32:49.991Z"
   },
   {
    "duration": 454,
    "start_time": "2021-08-04T04:33:10.941Z"
   },
   {
    "duration": 462,
    "start_time": "2021-08-04T04:33:44.773Z"
   },
   {
    "duration": 1001,
    "start_time": "2021-08-04T04:34:43.342Z"
   },
   {
    "duration": 1010,
    "start_time": "2021-08-04T04:34:50.398Z"
   },
   {
    "duration": 460,
    "start_time": "2021-08-04T04:35:03.820Z"
   },
   {
    "duration": 521,
    "start_time": "2021-08-04T04:35:09.152Z"
   },
   {
    "duration": 400,
    "start_time": "2021-08-04T04:35:17.543Z"
   },
   {
    "duration": 88,
    "start_time": "2021-08-04T04:36:00.594Z"
   },
   {
    "duration": 429,
    "start_time": "2021-08-04T04:36:59.794Z"
   },
   {
    "duration": 394,
    "start_time": "2021-08-04T04:43:32.187Z"
   },
   {
    "duration": 420,
    "start_time": "2021-08-04T04:43:43.839Z"
   },
   {
    "duration": 776,
    "start_time": "2021-08-04T04:43:49.932Z"
   },
   {
    "duration": 487,
    "start_time": "2021-08-04T04:43:57.091Z"
   },
   {
    "duration": 388,
    "start_time": "2021-08-04T04:46:51.958Z"
   },
   {
    "duration": 398,
    "start_time": "2021-08-04T04:47:28.716Z"
   },
   {
    "duration": 85,
    "start_time": "2021-08-04T04:47:56.062Z"
   },
   {
    "duration": 618,
    "start_time": "2021-08-04T04:48:09.742Z"
   },
   {
    "duration": 465,
    "start_time": "2021-08-04T04:48:17.764Z"
   },
   {
    "duration": 411,
    "start_time": "2021-08-04T04:50:18.005Z"
   },
   {
    "duration": 495,
    "start_time": "2021-08-04T04:50:31.519Z"
   },
   {
    "duration": 407,
    "start_time": "2021-08-04T04:50:39.712Z"
   },
   {
    "duration": 586,
    "start_time": "2021-08-04T04:51:14.360Z"
   },
   {
    "duration": 480,
    "start_time": "2021-08-04T04:52:00.093Z"
   },
   {
    "duration": 626,
    "start_time": "2021-08-04T04:52:05.717Z"
   },
   {
    "duration": 466,
    "start_time": "2021-08-04T04:52:10.421Z"
   },
   {
    "duration": 339,
    "start_time": "2021-08-04T05:13:34.326Z"
   },
   {
    "duration": 2281,
    "start_time": "2021-08-05T15:08:37.324Z"
   },
   {
    "duration": 70,
    "start_time": "2021-08-05T15:08:39.608Z"
   },
   {
    "duration": 68,
    "start_time": "2021-08-05T15:08:39.681Z"
   },
   {
    "duration": 54,
    "start_time": "2021-08-05T15:08:39.752Z"
   },
   {
    "duration": 43,
    "start_time": "2021-08-05T15:08:39.808Z"
   },
   {
    "duration": 73,
    "start_time": "2021-08-05T15:08:39.854Z"
   },
   {
    "duration": 26,
    "start_time": "2021-08-05T15:08:39.929Z"
   },
   {
    "duration": 39,
    "start_time": "2021-08-05T15:08:39.959Z"
   },
   {
    "duration": 23,
    "start_time": "2021-08-05T15:08:40.001Z"
   },
   {
    "duration": 16,
    "start_time": "2021-08-05T15:08:40.027Z"
   },
   {
    "duration": 44,
    "start_time": "2021-08-05T15:08:40.046Z"
   },
   {
    "duration": 45,
    "start_time": "2021-08-05T15:08:40.095Z"
   },
   {
    "duration": 8,
    "start_time": "2021-08-05T15:08:40.143Z"
   },
   {
    "duration": 52,
    "start_time": "2021-08-05T15:08:40.154Z"
   },
   {
    "duration": 33,
    "start_time": "2021-08-05T15:08:40.208Z"
   },
   {
    "duration": 10,
    "start_time": "2021-08-05T15:08:40.243Z"
   },
   {
    "duration": 154,
    "start_time": "2021-08-05T15:08:40.256Z"
   },
   {
    "duration": 55,
    "start_time": "2021-08-05T15:08:40.412Z"
   },
   {
    "duration": 129,
    "start_time": "2021-08-05T15:08:40.469Z"
   },
   {
    "duration": 8,
    "start_time": "2021-08-05T15:08:40.601Z"
   },
   {
    "duration": 11,
    "start_time": "2021-08-05T15:08:40.611Z"
   },
   {
    "duration": 93,
    "start_time": "2021-08-05T15:08:40.625Z"
   },
   {
    "duration": 77,
    "start_time": "2021-08-05T15:08:40.723Z"
   },
   {
    "duration": 49,
    "start_time": "2021-08-05T15:08:40.803Z"
   },
   {
    "duration": 65,
    "start_time": "2021-08-05T15:08:40.854Z"
   },
   {
    "duration": 78,
    "start_time": "2021-08-05T15:08:40.922Z"
   },
   {
    "duration": 45,
    "start_time": "2021-08-05T15:08:41.002Z"
   },
   {
    "duration": 71,
    "start_time": "2021-08-05T15:08:41.050Z"
   },
   {
    "duration": 7,
    "start_time": "2021-08-05T15:08:41.123Z"
   },
   {
    "duration": 11,
    "start_time": "2021-08-05T15:08:41.132Z"
   },
   {
    "duration": 12,
    "start_time": "2021-08-05T15:08:41.145Z"
   },
   {
    "duration": 9,
    "start_time": "2021-08-05T15:08:41.186Z"
   },
   {
    "duration": 8,
    "start_time": "2021-08-05T15:08:41.198Z"
   },
   {
    "duration": 12,
    "start_time": "2021-08-05T15:08:41.208Z"
   },
   {
    "duration": 113,
    "start_time": "2021-08-05T15:08:41.223Z"
   },
   {
    "duration": 489,
    "start_time": "2021-08-05T15:08:41.338Z"
   },
   {
    "duration": 448,
    "start_time": "2021-08-05T15:08:41.829Z"
   },
   {
    "duration": 616,
    "start_time": "2021-08-05T15:08:42.279Z"
   },
   {
    "duration": 93,
    "start_time": "2021-08-05T15:08:42.898Z"
   },
   {
    "duration": 526,
    "start_time": "2021-08-05T15:08:42.993Z"
   },
   {
    "duration": 473,
    "start_time": "2021-08-05T15:08:43.522Z"
   },
   {
    "duration": 504,
    "start_time": "2021-08-05T15:08:43.999Z"
   },
   {
    "duration": 582,
    "start_time": "2021-08-05T15:08:44.506Z"
   },
   {
    "duration": 5,
    "start_time": "2021-08-05T15:13:24.921Z"
   },
   {
    "duration": 14,
    "start_time": "2021-08-05T15:15:13.793Z"
   },
   {
    "duration": 12,
    "start_time": "2021-08-05T15:15:27.089Z"
   },
   {
    "duration": 10,
    "start_time": "2021-08-05T15:15:30.729Z"
   },
   {
    "duration": 15,
    "start_time": "2021-08-05T15:15:33.829Z"
   },
   {
    "duration": 20,
    "start_time": "2021-08-05T15:16:00.934Z"
   },
   {
    "duration": 330,
    "start_time": "2021-08-05T15:18:24.542Z"
   },
   {
    "duration": 10803,
    "start_time": "2021-08-05T15:18:33.244Z"
   },
   {
    "duration": 409,
    "start_time": "2021-08-05T15:19:02.638Z"
   },
   {
    "duration": 582,
    "start_time": "2021-08-05T15:44:03.832Z"
   },
   {
    "duration": 18,
    "start_time": "2021-08-05T15:44:25.708Z"
   },
   {
    "duration": 2024,
    "start_time": "2021-08-05T15:46:18.964Z"
   },
   {
    "duration": 72,
    "start_time": "2021-08-05T15:46:20.992Z"
   },
   {
    "duration": 75,
    "start_time": "2021-08-05T15:46:21.067Z"
   },
   {
    "duration": 75,
    "start_time": "2021-08-05T15:46:21.146Z"
   },
   {
    "duration": 85,
    "start_time": "2021-08-05T15:46:21.224Z"
   },
   {
    "duration": 52,
    "start_time": "2021-08-05T15:46:21.312Z"
   },
   {
    "duration": 44,
    "start_time": "2021-08-05T15:46:21.387Z"
   },
   {
    "duration": 73,
    "start_time": "2021-08-05T15:46:21.438Z"
   },
   {
    "duration": 22,
    "start_time": "2021-08-05T15:46:21.515Z"
   },
   {
    "duration": 9,
    "start_time": "2021-08-05T15:46:21.539Z"
   },
   {
    "duration": 11,
    "start_time": "2021-08-05T15:46:21.551Z"
   },
   {
    "duration": 74,
    "start_time": "2021-08-05T15:46:21.565Z"
   },
   {
    "duration": 9,
    "start_time": "2021-08-05T15:46:21.642Z"
   },
   {
    "duration": 44,
    "start_time": "2021-08-05T15:46:21.653Z"
   },
   {
    "duration": 37,
    "start_time": "2021-08-05T15:46:21.700Z"
   },
   {
    "duration": 9,
    "start_time": "2021-08-05T15:46:21.739Z"
   },
   {
    "duration": 157,
    "start_time": "2021-08-05T15:46:21.750Z"
   },
   {
    "duration": 57,
    "start_time": "2021-08-05T15:46:21.909Z"
   },
   {
    "duration": 120,
    "start_time": "2021-08-05T15:46:21.968Z"
   },
   {
    "duration": 11,
    "start_time": "2021-08-05T15:46:22.090Z"
   },
   {
    "duration": 26,
    "start_time": "2021-08-05T15:46:22.103Z"
   },
   {
    "duration": 95,
    "start_time": "2021-08-05T15:46:22.132Z"
   },
   {
    "duration": 75,
    "start_time": "2021-08-05T15:46:22.234Z"
   },
   {
    "duration": 49,
    "start_time": "2021-08-05T15:46:22.312Z"
   },
   {
    "duration": 77,
    "start_time": "2021-08-05T15:46:22.364Z"
   },
   {
    "duration": 88,
    "start_time": "2021-08-05T15:46:22.444Z"
   },
   {
    "duration": 69,
    "start_time": "2021-08-05T15:46:22.534Z"
   },
   {
    "duration": 50,
    "start_time": "2021-08-05T15:46:22.605Z"
   },
   {
    "duration": 32,
    "start_time": "2021-08-05T15:46:22.658Z"
   },
   {
    "duration": 50,
    "start_time": "2021-08-05T15:46:22.694Z"
   },
   {
    "duration": 13,
    "start_time": "2021-08-05T15:46:22.746Z"
   },
   {
    "duration": 23,
    "start_time": "2021-08-05T15:46:22.762Z"
   },
   {
    "duration": 11,
    "start_time": "2021-08-05T15:46:22.791Z"
   },
   {
    "duration": 15,
    "start_time": "2021-08-05T15:46:22.806Z"
   },
   {
    "duration": 162,
    "start_time": "2021-08-05T15:46:22.825Z"
   },
   {
    "duration": 547,
    "start_time": "2021-08-05T15:46:22.991Z"
   },
   {
    "duration": 497,
    "start_time": "2021-08-05T15:46:23.541Z"
   },
   {
    "duration": 543,
    "start_time": "2021-08-05T15:46:24.042Z"
   },
   {
    "duration": 101,
    "start_time": "2021-08-05T15:46:24.587Z"
   },
   {
    "duration": 554,
    "start_time": "2021-08-05T15:46:24.691Z"
   },
   {
    "duration": 502,
    "start_time": "2021-08-05T15:46:25.248Z"
   },
   {
    "duration": 516,
    "start_time": "2021-08-05T15:46:25.752Z"
   },
   {
    "duration": 908,
    "start_time": "2021-08-05T15:46:26.271Z"
   },
   {
    "duration": 928,
    "start_time": "2021-08-05T15:46:26.255Z"
   },
   {
    "duration": 46,
    "start_time": "2021-08-05T15:47:49.828Z"
   },
   {
    "duration": 66,
    "start_time": "2021-08-05T15:47:50.239Z"
   },
   {
    "duration": 9,
    "start_time": "2021-08-05T15:47:51.920Z"
   },
   {
    "duration": 10,
    "start_time": "2021-08-05T15:47:51.933Z"
   },
   {
    "duration": 10,
    "start_time": "2021-08-05T15:47:51.947Z"
   },
   {
    "duration": 8,
    "start_time": "2021-08-05T15:47:52.180Z"
   },
   {
    "duration": 7,
    "start_time": "2021-08-05T15:47:52.722Z"
   },
   {
    "duration": 6,
    "start_time": "2021-08-05T15:47:53.014Z"
   },
   {
    "duration": 90,
    "start_time": "2021-08-05T15:47:53.834Z"
   },
   {
    "duration": 502,
    "start_time": "2021-08-05T15:47:54.147Z"
   },
   {
    "duration": 471,
    "start_time": "2021-08-05T15:47:54.652Z"
   },
   {
    "duration": 530,
    "start_time": "2021-08-05T15:47:55.127Z"
   },
   {
    "duration": 102,
    "start_time": "2021-08-05T15:47:55.659Z"
   },
   {
    "duration": 526,
    "start_time": "2021-08-05T15:47:55.779Z"
   },
   {
    "duration": 498,
    "start_time": "2021-08-05T15:47:56.308Z"
   },
   {
    "duration": 516,
    "start_time": "2021-08-05T15:47:56.810Z"
   },
   {
    "duration": 837,
    "start_time": "2021-08-05T15:47:59.728Z"
   },
   {
    "duration": 586,
    "start_time": "2021-08-05T15:48:56.288Z"
   },
   {
    "duration": 16,
    "start_time": "2021-08-05T15:52:53.359Z"
   },
   {
    "duration": 28,
    "start_time": "2021-08-05T15:55:20.796Z"
   },
   {
    "duration": 85,
    "start_time": "2021-08-05T16:30:26.913Z"
   },
   {
    "duration": 44,
    "start_time": "2021-08-05T16:37:48.559Z"
   },
   {
    "duration": 9,
    "start_time": "2021-08-05T16:38:02.621Z"
   },
   {
    "duration": 20,
    "start_time": "2021-08-05T16:42:09.473Z"
   },
   {
    "duration": 17,
    "start_time": "2021-08-05T16:43:07.055Z"
   },
   {
    "duration": 19,
    "start_time": "2021-08-05T16:43:11.521Z"
   },
   {
    "duration": 62,
    "start_time": "2021-08-05T16:43:37.684Z"
   },
   {
    "duration": 546,
    "start_time": "2021-08-05T16:46:11.764Z"
   },
   {
    "duration": 61,
    "start_time": "2021-08-05T16:46:12.882Z"
   },
   {
    "duration": 299,
    "start_time": "2021-08-05T16:48:18.944Z"
   },
   {
    "duration": 7,
    "start_time": "2021-08-05T16:48:28.480Z"
   },
   {
    "duration": 18,
    "start_time": "2021-08-05T16:48:33.454Z"
   },
   {
    "duration": 37,
    "start_time": "2021-08-05T16:48:38.898Z"
   },
   {
    "duration": 8,
    "start_time": "2021-08-05T16:48:44.162Z"
   },
   {
    "duration": 2828,
    "start_time": "2021-08-05T16:49:16.806Z"
   },
   {
    "duration": 113,
    "start_time": "2021-08-05T16:49:19.639Z"
   },
   {
    "duration": 105,
    "start_time": "2021-08-05T16:49:19.757Z"
   },
   {
    "duration": 51,
    "start_time": "2021-08-05T16:49:19.866Z"
   },
   {
    "duration": 65,
    "start_time": "2021-08-05T16:49:19.920Z"
   },
   {
    "duration": 34,
    "start_time": "2021-08-05T16:49:19.991Z"
   },
   {
    "duration": 123,
    "start_time": "2021-08-05T16:49:20.028Z"
   },
   {
    "duration": 10,
    "start_time": "2021-08-05T16:49:20.155Z"
   },
   {
    "duration": 24,
    "start_time": "2021-08-05T16:49:20.168Z"
   },
   {
    "duration": 148,
    "start_time": "2021-08-05T16:49:20.195Z"
   },
   {
    "duration": 81,
    "start_time": "2021-08-05T16:49:20.346Z"
   },
   {
    "duration": 124,
    "start_time": "2021-08-05T16:49:20.429Z"
   },
   {
    "duration": 8,
    "start_time": "2021-08-05T16:49:20.556Z"
   },
   {
    "duration": 28,
    "start_time": "2021-08-05T16:49:20.567Z"
   },
   {
    "duration": 99,
    "start_time": "2021-08-05T16:49:20.597Z"
   },
   {
    "duration": 60,
    "start_time": "2021-08-05T16:49:20.698Z"
   },
   {
    "duration": 69,
    "start_time": "2021-08-05T16:49:20.760Z"
   },
   {
    "duration": 75,
    "start_time": "2021-08-05T16:49:20.831Z"
   },
   {
    "duration": 79,
    "start_time": "2021-08-05T16:49:20.909Z"
   },
   {
    "duration": 11,
    "start_time": "2021-08-05T16:49:20.990Z"
   },
   {
    "duration": 52,
    "start_time": "2021-08-05T16:49:21.003Z"
   },
   {
    "duration": 45,
    "start_time": "2021-08-05T16:49:21.086Z"
   },
   {
    "duration": 7,
    "start_time": "2021-08-05T16:49:21.135Z"
   },
   {
    "duration": 47,
    "start_time": "2021-08-05T16:49:21.145Z"
   },
   {
    "duration": 45,
    "start_time": "2021-08-05T16:49:21.194Z"
   },
   {
    "duration": 30,
    "start_time": "2021-08-05T16:49:21.241Z"
   },
   {
    "duration": 44,
    "start_time": "2021-08-05T16:49:21.273Z"
   },
   {
    "duration": 14,
    "start_time": "2021-08-05T16:49:21.320Z"
   },
   {
    "duration": 99,
    "start_time": "2021-08-05T16:49:21.337Z"
   },
   {
    "duration": 530,
    "start_time": "2021-08-05T16:49:21.440Z"
   },
   {
    "duration": 455,
    "start_time": "2021-08-05T16:49:21.974Z"
   },
   {
    "duration": 548,
    "start_time": "2021-08-05T16:49:22.431Z"
   },
   {
    "duration": 103,
    "start_time": "2021-08-05T16:49:22.985Z"
   },
   {
    "duration": 517,
    "start_time": "2021-08-05T16:49:23.090Z"
   },
   {
    "duration": 478,
    "start_time": "2021-08-05T16:49:23.610Z"
   },
   {
    "duration": 502,
    "start_time": "2021-08-05T16:49:24.091Z"
   },
   {
    "duration": 452,
    "start_time": "2021-08-05T16:49:24.596Z"
   },
   {
    "duration": 921,
    "start_time": "2021-08-05T16:49:24.130Z"
   },
   {
    "duration": 287,
    "start_time": "2021-08-05T16:50:23.791Z"
   },
   {
    "duration": 281,
    "start_time": "2021-08-05T16:52:45.631Z"
   },
   {
    "duration": 128,
    "start_time": "2021-08-05T16:54:05.759Z"
   },
   {
    "duration": 62,
    "start_time": "2021-08-05T16:54:06.342Z"
   },
   {
    "duration": 89,
    "start_time": "2021-08-05T16:54:06.858Z"
   },
   {
    "duration": 9,
    "start_time": "2021-08-05T16:54:07.404Z"
   },
   {
    "duration": 9,
    "start_time": "2021-08-05T16:54:08.001Z"
   },
   {
    "duration": 36,
    "start_time": "2021-08-05T16:56:30.627Z"
   },
   {
    "duration": 121,
    "start_time": "2021-08-05T16:56:57.724Z"
   },
   {
    "duration": 70,
    "start_time": "2021-08-05T16:57:10.038Z"
   },
   {
    "duration": 29,
    "start_time": "2021-08-05T16:57:55.864Z"
   },
   {
    "duration": 46,
    "start_time": "2021-08-05T16:57:56.680Z"
   },
   {
    "duration": 45,
    "start_time": "2021-08-05T16:58:00.024Z"
   },
   {
    "duration": 6,
    "start_time": "2021-08-05T17:01:17.855Z"
   },
   {
    "duration": 316,
    "start_time": "2021-08-05T17:01:18.700Z"
   },
   {
    "duration": 2002,
    "start_time": "2021-08-05T17:01:30.181Z"
   },
   {
    "duration": 74,
    "start_time": "2021-08-05T17:01:32.186Z"
   },
   {
    "duration": 75,
    "start_time": "2021-08-05T17:01:32.263Z"
   },
   {
    "duration": 65,
    "start_time": "2021-08-05T17:01:32.342Z"
   },
   {
    "duration": 46,
    "start_time": "2021-08-05T17:01:32.410Z"
   },
   {
    "duration": 35,
    "start_time": "2021-08-05T17:01:32.486Z"
   },
   {
    "duration": 119,
    "start_time": "2021-08-05T17:01:32.524Z"
   },
   {
    "duration": 16,
    "start_time": "2021-08-05T17:01:32.648Z"
   },
   {
    "duration": 23,
    "start_time": "2021-08-05T17:01:32.673Z"
   },
   {
    "duration": 277,
    "start_time": "2021-08-05T17:01:32.699Z"
   },
   {
    "duration": 85,
    "start_time": "2021-08-05T17:01:32.994Z"
   },
   {
    "duration": 110,
    "start_time": "2021-08-05T17:01:33.082Z"
   },
   {
    "duration": 9,
    "start_time": "2021-08-05T17:01:33.195Z"
   },
   {
    "duration": 22,
    "start_time": "2021-08-05T17:01:33.206Z"
   },
   {
    "duration": 41,
    "start_time": "2021-08-05T17:01:33.231Z"
   },
   {
    "duration": 46,
    "start_time": "2021-08-05T17:01:33.275Z"
   },
   {
    "duration": 70,
    "start_time": "2021-08-05T17:01:33.324Z"
   },
   {
    "duration": 39,
    "start_time": "2021-08-05T17:01:33.397Z"
   },
   {
    "duration": 15,
    "start_time": "2021-08-05T17:01:33.439Z"
   },
   {
    "duration": 29,
    "start_time": "2021-08-05T17:01:33.457Z"
   },
   {
    "duration": 48,
    "start_time": "2021-08-05T17:01:33.488Z"
   },
   {
    "duration": 83,
    "start_time": "2021-08-05T17:01:33.539Z"
   },
   {
    "duration": 9,
    "start_time": "2021-08-05T17:01:33.627Z"
   },
   {
    "duration": 71,
    "start_time": "2021-08-05T17:01:33.639Z"
   },
   {
    "duration": 46,
    "start_time": "2021-08-05T17:01:33.712Z"
   },
   {
    "duration": 30,
    "start_time": "2021-08-05T17:01:33.761Z"
   },
   {
    "duration": 17,
    "start_time": "2021-08-05T17:01:33.793Z"
   },
   {
    "duration": 26,
    "start_time": "2021-08-05T17:01:33.813Z"
   },
   {
    "duration": 17,
    "start_time": "2021-08-05T17:01:33.842Z"
   },
   {
    "duration": 16,
    "start_time": "2021-08-05T17:01:33.862Z"
   },
   {
    "duration": 17,
    "start_time": "2021-08-05T17:01:33.885Z"
   },
   {
    "duration": 104,
    "start_time": "2021-08-05T17:01:33.904Z"
   },
   {
    "duration": 477,
    "start_time": "2021-08-05T17:01:34.010Z"
   },
   {
    "duration": 426,
    "start_time": "2021-08-05T17:01:34.490Z"
   },
   {
    "duration": 603,
    "start_time": "2021-08-05T17:01:34.918Z"
   },
   {
    "duration": 114,
    "start_time": "2021-08-05T17:01:35.524Z"
   },
   {
    "duration": 501,
    "start_time": "2021-08-05T17:01:35.641Z"
   },
   {
    "duration": 459,
    "start_time": "2021-08-05T17:01:36.145Z"
   },
   {
    "duration": 482,
    "start_time": "2021-08-05T17:01:36.607Z"
   },
   {
    "duration": 481,
    "start_time": "2021-08-05T17:01:37.092Z"
   },
   {
    "duration": 932,
    "start_time": "2021-08-05T17:01:36.643Z"
   },
   {
    "duration": 44,
    "start_time": "2021-08-05T17:09:08.314Z"
   },
   {
    "duration": 10,
    "start_time": "2021-08-05T17:23:57.593Z"
   },
   {
    "duration": 9,
    "start_time": "2021-08-05T17:23:58.071Z"
   },
   {
    "duration": 7,
    "start_time": "2021-08-05T17:26:14.550Z"
   },
   {
    "duration": 8,
    "start_time": "2021-08-05T17:26:15.083Z"
   },
   {
    "duration": 7,
    "start_time": "2021-08-05T17:33:26.429Z"
   },
   {
    "duration": 6,
    "start_time": "2021-08-05T17:35:19.350Z"
   },
   {
    "duration": 1011,
    "start_time": "2021-08-05T17:36:00.016Z"
   },
   {
    "duration": 18,
    "start_time": "2021-08-05T17:39:55.489Z"
   },
   {
    "duration": 15,
    "start_time": "2021-08-05T17:39:56.593Z"
   },
   {
    "duration": 6,
    "start_time": "2021-08-05T17:40:50.264Z"
   },
   {
    "duration": 8,
    "start_time": "2021-08-05T17:42:17.907Z"
   },
   {
    "duration": 6,
    "start_time": "2021-08-05T17:44:16.070Z"
   },
   {
    "duration": 890,
    "start_time": "2021-08-05T17:45:33.795Z"
   },
   {
    "duration": 6,
    "start_time": "2021-08-05T17:47:16.614Z"
   },
   {
    "duration": 7,
    "start_time": "2021-08-05T17:50:09.187Z"
   },
   {
    "duration": 7,
    "start_time": "2021-08-05T17:52:03.756Z"
   },
   {
    "duration": 5,
    "start_time": "2021-08-05T17:52:04.634Z"
   },
   {
    "duration": 1048,
    "start_time": "2021-08-05T17:52:06.811Z"
   },
   {
    "duration": 16,
    "start_time": "2021-08-05T17:52:36.973Z"
   },
   {
    "duration": 16,
    "start_time": "2021-08-05T17:52:38.107Z"
   },
   {
    "duration": 1905,
    "start_time": "2021-08-05T17:53:56.986Z"
   },
   {
    "duration": 74,
    "start_time": "2021-08-05T17:53:58.894Z"
   },
   {
    "duration": 61,
    "start_time": "2021-08-05T17:53:58.985Z"
   },
   {
    "duration": 56,
    "start_time": "2021-08-05T17:53:59.049Z"
   },
   {
    "duration": 45,
    "start_time": "2021-08-05T17:53:59.108Z"
   },
   {
    "duration": 63,
    "start_time": "2021-08-05T17:53:59.155Z"
   },
   {
    "duration": 119,
    "start_time": "2021-08-05T17:53:59.221Z"
   },
   {
    "duration": 10,
    "start_time": "2021-08-05T17:53:59.346Z"
   },
   {
    "duration": 27,
    "start_time": "2021-08-05T17:53:59.360Z"
   },
   {
    "duration": 142,
    "start_time": "2021-08-05T17:53:59.389Z"
   },
   {
    "duration": 69,
    "start_time": "2021-08-05T17:53:59.535Z"
   },
   {
    "duration": 102,
    "start_time": "2021-08-05T17:53:59.607Z"
   },
   {
    "duration": 8,
    "start_time": "2021-08-05T17:53:59.711Z"
   },
   {
    "duration": 20,
    "start_time": "2021-08-05T17:53:59.721Z"
   },
   {
    "duration": 48,
    "start_time": "2021-08-05T17:53:59.743Z"
   },
   {
    "duration": 30,
    "start_time": "2021-08-05T17:53:59.793Z"
   },
   {
    "duration": 66,
    "start_time": "2021-08-05T17:53:59.825Z"
   },
   {
    "duration": 39,
    "start_time": "2021-08-05T17:53:59.894Z"
   },
   {
    "duration": 15,
    "start_time": "2021-08-05T17:53:59.935Z"
   },
   {
    "duration": 8,
    "start_time": "2021-08-05T17:53:59.953Z"
   },
   {
    "duration": 38,
    "start_time": "2021-08-05T17:53:59.985Z"
   },
   {
    "duration": 13,
    "start_time": "2021-08-05T17:54:00.026Z"
   },
   {
    "duration": 6,
    "start_time": "2021-08-05T17:54:00.045Z"
   },
   {
    "duration": 32,
    "start_time": "2021-08-05T17:54:00.054Z"
   },
   {
    "duration": 32,
    "start_time": "2021-08-05T17:54:00.088Z"
   },
   {
    "duration": 51,
    "start_time": "2021-08-05T17:54:00.122Z"
   },
   {
    "duration": 18,
    "start_time": "2021-08-05T17:54:00.175Z"
   },
   {
    "duration": 15,
    "start_time": "2021-08-05T17:54:00.196Z"
   },
   {
    "duration": 16,
    "start_time": "2021-08-05T17:54:00.213Z"
   },
   {
    "duration": 24,
    "start_time": "2021-08-05T17:54:00.232Z"
   },
   {
    "duration": 19,
    "start_time": "2021-08-05T17:54:00.259Z"
   },
   {
    "duration": 16,
    "start_time": "2021-08-05T17:54:00.281Z"
   },
   {
    "duration": 959,
    "start_time": "2021-08-05T17:54:00.300Z"
   },
   {
    "duration": 6,
    "start_time": "2021-08-05T17:54:01.263Z"
   },
   {
    "duration": 36,
    "start_time": "2021-08-05T17:54:01.286Z"
   },
   {
    "duration": 29,
    "start_time": "2021-08-05T17:54:01.324Z"
   },
   {
    "duration": 907,
    "start_time": "2021-08-05T17:54:01.356Z"
   },
   {
    "duration": 7,
    "start_time": "2021-08-05T17:54:02.266Z"
   },
   {
    "duration": 26,
    "start_time": "2021-08-05T17:54:02.286Z"
   },
   {
    "duration": 16,
    "start_time": "2021-08-05T17:54:02.315Z"
   },
   {
    "duration": 959,
    "start_time": "2021-08-05T17:54:02.334Z"
   },
   {
    "duration": 15,
    "start_time": "2021-08-05T17:54:03.295Z"
   },
   {
    "duration": 29,
    "start_time": "2021-08-05T17:54:03.312Z"
   },
   {
    "duration": 1852,
    "start_time": "2021-08-06T13:53:51.016Z"
   },
   {
    "duration": 66,
    "start_time": "2021-08-06T13:53:52.871Z"
   },
   {
    "duration": 77,
    "start_time": "2021-08-06T13:53:52.941Z"
   },
   {
    "duration": 35,
    "start_time": "2021-08-06T13:53:53.021Z"
   },
   {
    "duration": 67,
    "start_time": "2021-08-06T13:53:53.058Z"
   },
   {
    "duration": 32,
    "start_time": "2021-08-06T13:53:53.128Z"
   },
   {
    "duration": 116,
    "start_time": "2021-08-06T13:53:53.162Z"
   },
   {
    "duration": 17,
    "start_time": "2021-08-06T13:53:53.284Z"
   },
   {
    "duration": 10,
    "start_time": "2021-08-06T13:53:53.305Z"
   },
   {
    "duration": 138,
    "start_time": "2021-08-06T13:53:53.318Z"
   },
   {
    "duration": 67,
    "start_time": "2021-08-06T13:53:53.458Z"
   },
   {
    "duration": 98,
    "start_time": "2021-08-06T13:53:53.527Z"
   },
   {
    "duration": 8,
    "start_time": "2021-08-06T13:53:53.627Z"
   },
   {
    "duration": 12,
    "start_time": "2021-08-06T13:53:53.638Z"
   },
   {
    "duration": 54,
    "start_time": "2021-08-06T13:53:53.652Z"
   },
   {
    "duration": 30,
    "start_time": "2021-08-06T13:53:53.708Z"
   },
   {
    "duration": 60,
    "start_time": "2021-08-06T13:53:53.741Z"
   },
   {
    "duration": 39,
    "start_time": "2021-08-06T13:53:53.804Z"
   },
   {
    "duration": 15,
    "start_time": "2021-08-06T13:53:53.845Z"
   },
   {
    "duration": 5,
    "start_time": "2021-08-06T13:53:53.863Z"
   },
   {
    "duration": 66,
    "start_time": "2021-08-06T13:53:53.870Z"
   },
   {
    "duration": 13,
    "start_time": "2021-08-06T13:53:53.938Z"
   },
   {
    "duration": 5,
    "start_time": "2021-08-06T13:53:53.956Z"
   },
   {
    "duration": 9,
    "start_time": "2021-08-06T13:53:53.964Z"
   },
   {
    "duration": 37,
    "start_time": "2021-08-06T13:53:53.975Z"
   },
   {
    "duration": 47,
    "start_time": "2021-08-06T13:53:54.014Z"
   },
   {
    "duration": 38,
    "start_time": "2021-08-06T13:53:54.064Z"
   },
   {
    "duration": 9,
    "start_time": "2021-08-06T13:53:54.104Z"
   },
   {
    "duration": 8,
    "start_time": "2021-08-06T13:53:54.116Z"
   },
   {
    "duration": 7,
    "start_time": "2021-08-06T13:53:54.127Z"
   },
   {
    "duration": 8,
    "start_time": "2021-08-06T13:53:54.137Z"
   },
   {
    "duration": 5,
    "start_time": "2021-08-06T13:53:54.147Z"
   },
   {
    "duration": 974,
    "start_time": "2021-08-06T13:53:54.154Z"
   },
   {
    "duration": 6,
    "start_time": "2021-08-06T13:53:55.130Z"
   },
   {
    "duration": 10,
    "start_time": "2021-08-06T13:53:55.138Z"
   },
   {
    "duration": 7,
    "start_time": "2021-08-06T13:53:55.151Z"
   },
   {
    "duration": 896,
    "start_time": "2021-08-06T13:53:55.161Z"
   },
   {
    "duration": 7,
    "start_time": "2021-08-06T13:53:56.060Z"
   },
   {
    "duration": 33,
    "start_time": "2021-08-06T13:53:56.070Z"
   },
   {
    "duration": 5,
    "start_time": "2021-08-06T13:53:56.105Z"
   },
   {
    "duration": 929,
    "start_time": "2021-08-06T13:53:56.112Z"
   },
   {
    "duration": 14,
    "start_time": "2021-08-06T13:53:57.043Z"
   },
   {
    "duration": 15,
    "start_time": "2021-08-06T13:53:57.059Z"
   },
   {
    "duration": 884,
    "start_time": "2021-08-06T14:19:38.705Z"
   },
   {
    "duration": 6,
    "start_time": "2021-08-06T14:28:04.901Z"
   },
   {
    "duration": 5,
    "start_time": "2021-08-06T14:35:21.790Z"
   },
   {
    "duration": 6,
    "start_time": "2021-08-06T14:35:42.210Z"
   },
   {
    "duration": 18,
    "start_time": "2021-08-06T14:54:00.172Z"
   },
   {
    "duration": 7,
    "start_time": "2021-08-06T15:00:40.292Z"
   },
   {
    "duration": 6,
    "start_time": "2021-08-06T15:00:54.158Z"
   },
   {
    "duration": 6,
    "start_time": "2021-08-06T15:01:00.372Z"
   },
   {
    "duration": 5,
    "start_time": "2021-08-06T15:01:11.106Z"
   },
   {
    "duration": 412,
    "start_time": "2021-08-06T15:03:12.952Z"
   },
   {
    "duration": 6,
    "start_time": "2021-08-06T15:03:36.666Z"
   },
   {
    "duration": 281,
    "start_time": "2021-08-06T15:05:54.011Z"
   },
   {
    "duration": 5,
    "start_time": "2021-08-06T15:06:35.081Z"
   },
   {
    "duration": 2027,
    "start_time": "2021-08-06T15:11:25.961Z"
   },
   {
    "duration": 66,
    "start_time": "2021-08-06T15:11:27.991Z"
   },
   {
    "duration": 75,
    "start_time": "2021-08-06T15:11:28.060Z"
   },
   {
    "duration": 34,
    "start_time": "2021-08-06T15:11:28.138Z"
   },
   {
    "duration": 44,
    "start_time": "2021-08-06T15:11:28.201Z"
   },
   {
    "duration": 61,
    "start_time": "2021-08-06T15:11:28.247Z"
   },
   {
    "duration": 112,
    "start_time": "2021-08-06T15:11:28.310Z"
   },
   {
    "duration": 9,
    "start_time": "2021-08-06T15:11:28.426Z"
   },
   {
    "duration": 9,
    "start_time": "2021-08-06T15:11:28.438Z"
   },
   {
    "duration": 145,
    "start_time": "2021-08-06T15:11:28.449Z"
   },
   {
    "duration": 59,
    "start_time": "2021-08-06T15:11:28.596Z"
   },
   {
    "duration": 118,
    "start_time": "2021-08-06T15:11:28.657Z"
   },
   {
    "duration": 7,
    "start_time": "2021-08-06T15:11:28.777Z"
   },
   {
    "duration": 20,
    "start_time": "2021-08-06T15:11:28.787Z"
   },
   {
    "duration": 31,
    "start_time": "2021-08-06T15:11:28.810Z"
   },
   {
    "duration": 66,
    "start_time": "2021-08-06T15:11:28.843Z"
   },
   {
    "duration": 58,
    "start_time": "2021-08-06T15:11:28.911Z"
   },
   {
    "duration": 95,
    "start_time": "2021-08-06T15:11:28.972Z"
   },
   {
    "duration": 34,
    "start_time": "2021-08-06T15:11:29.081Z"
   },
   {
    "duration": 24,
    "start_time": "2021-08-06T15:11:29.119Z"
   },
   {
    "duration": 76,
    "start_time": "2021-08-06T15:11:29.146Z"
   },
   {
    "duration": 30,
    "start_time": "2021-08-06T15:11:29.225Z"
   },
   {
    "duration": 16,
    "start_time": "2021-08-06T15:11:29.263Z"
   },
   {
    "duration": 19,
    "start_time": "2021-08-06T15:11:29.289Z"
   },
   {
    "duration": 47,
    "start_time": "2021-08-06T15:11:29.312Z"
   },
   {
    "duration": 94,
    "start_time": "2021-08-06T15:11:29.373Z"
   },
   {
    "duration": 11,
    "start_time": "2021-08-06T15:11:29.470Z"
   },
   {
    "duration": 23,
    "start_time": "2021-08-06T15:11:29.483Z"
   },
   {
    "duration": 13,
    "start_time": "2021-08-06T15:11:29.508Z"
   },
   {
    "duration": 7,
    "start_time": "2021-08-06T15:11:29.524Z"
   },
   {
    "duration": 8,
    "start_time": "2021-08-06T15:11:29.534Z"
   },
   {
    "duration": 9,
    "start_time": "2021-08-06T15:11:29.544Z"
   },
   {
    "duration": 984,
    "start_time": "2021-08-06T15:11:29.555Z"
   },
   {
    "duration": 7,
    "start_time": "2021-08-06T15:11:30.542Z"
   },
   {
    "duration": 16,
    "start_time": "2021-08-06T15:11:30.553Z"
   },
   {
    "duration": 30,
    "start_time": "2021-08-06T15:11:30.572Z"
   },
   {
    "duration": 842,
    "start_time": "2021-08-06T15:11:30.605Z"
   },
   {
    "duration": 8,
    "start_time": "2021-08-06T15:11:31.450Z"
   },
   {
    "duration": 21,
    "start_time": "2021-08-06T15:11:31.461Z"
   },
   {
    "duration": 18,
    "start_time": "2021-08-06T15:11:31.484Z"
   },
   {
    "duration": 971,
    "start_time": "2021-08-06T15:11:31.504Z"
   },
   {
    "duration": 27,
    "start_time": "2021-08-06T15:11:32.478Z"
   },
   {
    "duration": 7,
    "start_time": "2021-08-06T15:11:32.508Z"
   },
   {
    "duration": 21,
    "start_time": "2021-08-06T15:11:32.518Z"
   },
   {
    "duration": 12,
    "start_time": "2021-08-06T15:11:32.541Z"
   },
   {
    "duration": 1884,
    "start_time": "2021-08-07T09:14:12.755Z"
   },
   {
    "duration": 94,
    "start_time": "2021-08-07T09:14:14.642Z"
   },
   {
    "duration": 62,
    "start_time": "2021-08-07T09:14:14.739Z"
   },
   {
    "duration": 33,
    "start_time": "2021-08-07T09:14:14.804Z"
   },
   {
    "duration": 60,
    "start_time": "2021-08-07T09:14:14.840Z"
   },
   {
    "duration": 32,
    "start_time": "2021-08-07T09:14:14.903Z"
   },
   {
    "duration": 137,
    "start_time": "2021-08-07T09:14:14.938Z"
   },
   {
    "duration": 16,
    "start_time": "2021-08-07T09:14:15.080Z"
   },
   {
    "duration": 9,
    "start_time": "2021-08-07T09:14:15.100Z"
   },
   {
    "duration": 135,
    "start_time": "2021-08-07T09:14:15.111Z"
   },
   {
    "duration": 59,
    "start_time": "2021-08-07T09:14:15.248Z"
   },
   {
    "duration": 99,
    "start_time": "2021-08-07T09:14:15.310Z"
   },
   {
    "duration": 8,
    "start_time": "2021-08-07T09:14:15.411Z"
   },
   {
    "duration": 11,
    "start_time": "2021-08-07T09:14:15.422Z"
   },
   {
    "duration": 64,
    "start_time": "2021-08-07T09:14:15.435Z"
   },
   {
    "duration": 27,
    "start_time": "2021-08-07T09:14:15.502Z"
   },
   {
    "duration": 42,
    "start_time": "2021-08-07T09:14:15.531Z"
   },
   {
    "duration": 54,
    "start_time": "2021-08-07T09:14:15.574Z"
   },
   {
    "duration": 15,
    "start_time": "2021-08-07T09:14:15.630Z"
   },
   {
    "duration": 6,
    "start_time": "2021-08-07T09:14:15.647Z"
   },
   {
    "duration": 69,
    "start_time": "2021-08-07T09:14:15.656Z"
   },
   {
    "duration": 13,
    "start_time": "2021-08-07T09:14:15.728Z"
   },
   {
    "duration": 5,
    "start_time": "2021-08-07T09:14:15.746Z"
   },
   {
    "duration": 20,
    "start_time": "2021-08-07T09:14:15.753Z"
   },
   {
    "duration": 27,
    "start_time": "2021-08-07T09:14:15.775Z"
   },
   {
    "duration": 42,
    "start_time": "2021-08-07T09:14:15.804Z"
   },
   {
    "duration": 37,
    "start_time": "2021-08-07T09:14:15.849Z"
   },
   {
    "duration": 11,
    "start_time": "2021-08-07T09:14:15.891Z"
   },
   {
    "duration": 13,
    "start_time": "2021-08-07T09:14:15.905Z"
   },
   {
    "duration": 7,
    "start_time": "2021-08-07T09:14:15.921Z"
   },
   {
    "duration": 7,
    "start_time": "2021-08-07T09:14:15.931Z"
   },
   {
    "duration": 9,
    "start_time": "2021-08-07T09:14:15.941Z"
   },
   {
    "duration": 1125,
    "start_time": "2021-08-07T09:14:15.952Z"
   },
   {
    "duration": 9,
    "start_time": "2021-08-07T09:14:17.079Z"
   },
   {
    "duration": 12,
    "start_time": "2021-08-07T09:14:17.090Z"
   },
   {
    "duration": 7,
    "start_time": "2021-08-07T09:14:17.105Z"
   },
   {
    "duration": 841,
    "start_time": "2021-08-07T09:14:17.114Z"
   },
   {
    "duration": 6,
    "start_time": "2021-08-07T09:14:17.959Z"
   },
   {
    "duration": 18,
    "start_time": "2021-08-07T09:14:17.968Z"
   },
   {
    "duration": 6,
    "start_time": "2021-08-07T09:14:17.990Z"
   },
   {
    "duration": 961,
    "start_time": "2021-08-07T09:14:17.999Z"
   },
   {
    "duration": 14,
    "start_time": "2021-08-07T09:14:18.963Z"
   },
   {
    "duration": 7,
    "start_time": "2021-08-07T09:14:18.987Z"
   },
   {
    "duration": 20,
    "start_time": "2021-08-07T09:14:18.997Z"
   },
   {
    "duration": 6,
    "start_time": "2021-08-07T09:14:19.019Z"
   },
   {
    "duration": 5,
    "start_time": "2021-08-07T09:20:32.005Z"
   },
   {
    "duration": 127,
    "start_time": "2021-08-07T09:20:48.307Z"
   },
   {
    "duration": 10,
    "start_time": "2021-08-07T09:30:36.773Z"
   },
   {
    "duration": 18,
    "start_time": "2021-08-07T09:33:06.186Z"
   },
   {
    "duration": 8412,
    "start_time": "2021-08-07T09:33:25.438Z"
   },
   {
    "duration": 16,
    "start_time": "2021-08-07T09:33:37.323Z"
   },
   {
    "duration": 2185,
    "start_time": "2021-08-07T12:21:57.020Z"
   },
   {
    "duration": 78,
    "start_time": "2021-08-07T12:21:59.210Z"
   },
   {
    "duration": 75,
    "start_time": "2021-08-07T12:21:59.292Z"
   },
   {
    "duration": 55,
    "start_time": "2021-08-07T12:21:59.386Z"
   },
   {
    "duration": 83,
    "start_time": "2021-08-07T12:21:59.444Z"
   },
   {
    "duration": 32,
    "start_time": "2021-08-07T12:21:59.530Z"
   },
   {
    "duration": 158,
    "start_time": "2021-08-07T12:21:59.565Z"
   },
   {
    "duration": 11,
    "start_time": "2021-08-07T12:21:59.727Z"
   },
   {
    "duration": 13,
    "start_time": "2021-08-07T12:21:59.742Z"
   },
   {
    "duration": 176,
    "start_time": "2021-08-07T12:21:59.758Z"
   },
   {
    "duration": 85,
    "start_time": "2021-08-07T12:21:59.937Z"
   },
   {
    "duration": 135,
    "start_time": "2021-08-07T12:22:00.025Z"
   },
   {
    "duration": 9,
    "start_time": "2021-08-07T12:22:00.163Z"
   },
   {
    "duration": 53,
    "start_time": "2021-08-07T12:22:00.174Z"
   },
   {
    "duration": 39,
    "start_time": "2021-08-07T12:22:00.230Z"
   },
   {
    "duration": 53,
    "start_time": "2021-08-07T12:22:00.273Z"
   },
   {
    "duration": 78,
    "start_time": "2021-08-07T12:22:00.329Z"
   },
   {
    "duration": 60,
    "start_time": "2021-08-07T12:22:00.410Z"
   },
   {
    "duration": 36,
    "start_time": "2021-08-07T12:22:00.473Z"
   },
   {
    "duration": 11,
    "start_time": "2021-08-07T12:22:00.513Z"
   },
   {
    "duration": 70,
    "start_time": "2021-08-07T12:22:00.526Z"
   },
   {
    "duration": 25,
    "start_time": "2021-08-07T12:22:00.599Z"
   },
   {
    "duration": 7,
    "start_time": "2021-08-07T12:22:00.629Z"
   },
   {
    "duration": 32,
    "start_time": "2021-08-07T12:22:00.638Z"
   },
   {
    "duration": 33,
    "start_time": "2021-08-07T12:22:00.672Z"
   },
   {
    "duration": 56,
    "start_time": "2021-08-07T12:22:00.708Z"
   },
   {
    "duration": 22,
    "start_time": "2021-08-07T12:22:00.767Z"
   },
   {
    "duration": 26,
    "start_time": "2021-08-07T12:22:00.792Z"
   },
   {
    "duration": 18,
    "start_time": "2021-08-07T12:22:00.822Z"
   },
   {
    "duration": 18,
    "start_time": "2021-08-07T12:22:00.844Z"
   },
   {
    "duration": 24,
    "start_time": "2021-08-07T12:22:00.865Z"
   },
   {
    "duration": 30,
    "start_time": "2021-08-07T12:22:00.892Z"
   },
   {
    "duration": 1249,
    "start_time": "2021-08-07T12:22:00.925Z"
   },
   {
    "duration": 14,
    "start_time": "2021-08-07T12:22:02.177Z"
   },
   {
    "duration": 76,
    "start_time": "2021-08-07T12:22:02.198Z"
   },
   {
    "duration": 43,
    "start_time": "2021-08-07T12:22:02.277Z"
   },
   {
    "duration": 956,
    "start_time": "2021-08-07T12:22:02.323Z"
   },
   {
    "duration": 8,
    "start_time": "2021-08-07T12:22:03.285Z"
   },
   {
    "duration": 31,
    "start_time": "2021-08-07T12:22:03.297Z"
   },
   {
    "duration": 28,
    "start_time": "2021-08-07T12:22:03.331Z"
   },
   {
    "duration": 1184,
    "start_time": "2021-08-07T12:22:03.361Z"
   },
   {
    "duration": 16,
    "start_time": "2021-08-07T12:22:04.548Z"
   },
   {
    "duration": 54,
    "start_time": "2021-08-07T12:22:04.567Z"
   },
   {
    "duration": 29,
    "start_time": "2021-08-07T12:22:04.625Z"
   },
   {
    "duration": 18,
    "start_time": "2021-08-07T12:22:04.658Z"
   },
   {
    "duration": 56,
    "start_time": "2021-08-07T12:22:56.787Z"
   },
   {
    "duration": 25,
    "start_time": "2021-08-07T12:22:57.707Z"
   },
   {
    "duration": 8,
    "start_time": "2021-08-07T12:23:02.007Z"
   },
   {
    "duration": 49,
    "start_time": "2021-08-07T12:23:02.846Z"
   },
   {
    "duration": 479,
    "start_time": "2021-08-07T12:24:37.298Z"
   },
   {
    "duration": 12,
    "start_time": "2021-08-07T12:24:43.108Z"
   },
   {
    "duration": 171,
    "start_time": "2021-08-07T12:24:43.866Z"
   },
   {
    "duration": 153,
    "start_time": "2021-08-07T12:26:33.985Z"
   },
   {
    "duration": 16,
    "start_time": "2021-08-07T12:26:41.855Z"
   },
   {
    "duration": 447,
    "start_time": "2021-08-07T12:27:36.540Z"
   },
   {
    "duration": 44,
    "start_time": "2021-08-07T12:28:11.170Z"
   },
   {
    "duration": 47,
    "start_time": "2021-08-07T12:28:20.603Z"
   },
   {
    "duration": 391,
    "start_time": "2021-08-07T12:28:38.440Z"
   },
   {
    "duration": 14,
    "start_time": "2021-08-07T12:28:40.618Z"
   },
   {
    "duration": 63,
    "start_time": "2021-08-07T12:28:49.096Z"
   },
   {
    "duration": 381,
    "start_time": "2021-08-07T12:29:05.359Z"
   },
   {
    "duration": 21,
    "start_time": "2021-08-07T12:29:07.203Z"
   },
   {
    "duration": 75,
    "start_time": "2021-08-07T12:29:12.102Z"
   },
   {
    "duration": 32,
    "start_time": "2021-08-07T12:29:32.616Z"
   },
   {
    "duration": 32,
    "start_time": "2021-08-07T12:31:26.821Z"
   },
   {
    "duration": 364,
    "start_time": "2021-08-07T12:31:51.878Z"
   },
   {
    "duration": 65,
    "start_time": "2021-08-07T12:31:57.892Z"
   },
   {
    "duration": 365,
    "start_time": "2021-08-07T12:32:09.344Z"
   },
   {
    "duration": 17,
    "start_time": "2021-08-07T12:32:11.241Z"
   },
   {
    "duration": 106,
    "start_time": "2021-08-07T12:32:15.931Z"
   },
   {
    "duration": 100,
    "start_time": "2021-08-07T12:32:30.234Z"
   },
   {
    "duration": 140,
    "start_time": "2021-08-07T12:39:45.307Z"
   },
   {
    "duration": 27,
    "start_time": "2021-08-07T12:39:46.566Z"
   },
   {
    "duration": 32,
    "start_time": "2021-08-07T12:39:54.231Z"
   },
   {
    "duration": 9,
    "start_time": "2021-08-07T12:39:57.382Z"
   },
   {
    "duration": 52,
    "start_time": "2021-08-07T12:39:58.377Z"
   },
   {
    "duration": 20,
    "start_time": "2021-08-07T12:40:06.993Z"
   },
   {
    "duration": 327,
    "start_time": "2021-08-07T12:40:50.717Z"
   },
   {
    "duration": 137,
    "start_time": "2021-08-07T12:40:53.161Z"
   },
   {
    "duration": 326,
    "start_time": "2021-08-07T12:41:00.215Z"
   },
   {
    "duration": 21,
    "start_time": "2021-08-07T12:41:01.704Z"
   },
   {
    "duration": 221,
    "start_time": "2021-08-07T12:41:04.280Z"
   },
   {
    "duration": 26,
    "start_time": "2021-08-07T12:41:12.976Z"
   },
   {
    "duration": 342,
    "start_time": "2021-08-07T12:41:52.019Z"
   },
   {
    "duration": 343,
    "start_time": "2021-08-07T12:41:56.862Z"
   },
   {
    "duration": 362,
    "start_time": "2021-08-07T12:44:11.241Z"
   },
   {
    "duration": 26,
    "start_time": "2021-08-07T12:44:11.821Z"
   },
   {
    "duration": 6,
    "start_time": "2021-08-07T12:44:16.377Z"
   },
   {
    "duration": 364,
    "start_time": "2021-08-07T12:44:17.239Z"
   },
   {
    "duration": 411,
    "start_time": "2021-08-07T12:44:23.949Z"
   },
   {
    "duration": 457,
    "start_time": "2021-08-07T12:44:27.288Z"
   },
   {
    "duration": 422,
    "start_time": "2021-08-07T12:44:55.206Z"
   },
   {
    "duration": -1677,
    "start_time": "2021-08-07T12:44:57.307Z"
   },
   {
    "duration": 567,
    "start_time": "2021-08-07T12:44:59.149Z"
   },
   {
    "duration": 31,
    "start_time": "2021-08-07T12:45:29.053Z"
   },
   {
    "duration": 6,
    "start_time": "2021-08-07T12:45:31.273Z"
   },
   {
    "duration": 66,
    "start_time": "2021-08-07T12:45:32.305Z"
   },
   {
    "duration": 13,
    "start_time": "2021-08-07T12:45:33.801Z"
   },
   {
    "duration": 330,
    "start_time": "2021-08-07T12:45:43.415Z"
   },
   {
    "duration": 7598,
    "start_time": "2021-08-07T12:46:07.202Z"
   },
   {
    "duration": 420,
    "start_time": "2021-08-07T12:46:22.947Z"
   },
   {
    "duration": 13,
    "start_time": "2021-08-07T12:48:15.514Z"
   },
   {
    "duration": 380,
    "start_time": "2021-08-07T12:48:45.951Z"
   },
   {
    "duration": 357,
    "start_time": "2021-08-07T12:48:56.069Z"
   },
   {
    "duration": 120,
    "start_time": "2021-08-07T12:50:03.911Z"
   },
   {
    "duration": 7,
    "start_time": "2021-08-07T12:50:11.097Z"
   },
   {
    "duration": 6,
    "start_time": "2021-08-07T12:50:23.943Z"
   },
   {
    "duration": 13,
    "start_time": "2021-08-07T12:50:31.318Z"
   },
   {
    "duration": 6,
    "start_time": "2021-08-07T12:51:49.643Z"
   },
   {
    "duration": 328,
    "start_time": "2021-08-07T12:51:50.115Z"
   },
   {
    "duration": -1704,
    "start_time": "2021-08-07T12:51:52.151Z"
   },
   {
    "duration": 356,
    "start_time": "2021-08-07T12:51:54.981Z"
   },
   {
    "duration": 573,
    "start_time": "2021-08-07T12:51:57.078Z"
   },
   {
    "duration": 345,
    "start_time": "2021-08-07T12:52:02.654Z"
   },
   {
    "duration": 7,
    "start_time": "2021-08-07T12:52:04.884Z"
   },
   {
    "duration": 336,
    "start_time": "2021-08-07T12:52:06.192Z"
   },
   {
    "duration": 2088,
    "start_time": "2021-08-07T12:52:11.527Z"
   },
   {
    "duration": 80,
    "start_time": "2021-08-07T12:52:13.619Z"
   },
   {
    "duration": 64,
    "start_time": "2021-08-07T12:52:13.704Z"
   },
   {
    "duration": 49,
    "start_time": "2021-08-07T12:52:13.787Z"
   },
   {
    "duration": 92,
    "start_time": "2021-08-07T12:52:13.839Z"
   },
   {
    "duration": 66,
    "start_time": "2021-08-07T12:52:13.933Z"
   },
   {
    "duration": 132,
    "start_time": "2021-08-07T12:52:14.002Z"
   },
   {
    "duration": 10,
    "start_time": "2021-08-07T12:52:14.138Z"
   },
   {
    "duration": 19,
    "start_time": "2021-08-07T12:52:14.151Z"
   },
   {
    "duration": 164,
    "start_time": "2021-08-07T12:52:14.173Z"
   },
   {
    "duration": 78,
    "start_time": "2021-08-07T12:52:14.340Z"
   },
   {
    "duration": 122,
    "start_time": "2021-08-07T12:52:14.422Z"
   },
   {
    "duration": 7,
    "start_time": "2021-08-07T12:52:14.547Z"
   },
   {
    "duration": 33,
    "start_time": "2021-08-07T12:52:14.556Z"
   },
   {
    "duration": 42,
    "start_time": "2021-08-07T12:52:14.593Z"
   },
   {
    "duration": 55,
    "start_time": "2021-08-07T12:52:14.638Z"
   },
   {
    "duration": 52,
    "start_time": "2021-08-07T12:52:14.697Z"
   },
   {
    "duration": 68,
    "start_time": "2021-08-07T12:52:14.752Z"
   },
   {
    "duration": 30,
    "start_time": "2021-08-07T12:52:14.822Z"
   },
   {
    "duration": 5,
    "start_time": "2021-08-07T12:52:14.854Z"
   },
   {
    "duration": 79,
    "start_time": "2021-08-07T12:52:14.861Z"
   },
   {
    "duration": 12,
    "start_time": "2021-08-07T12:52:14.942Z"
   },
   {
    "duration": 38,
    "start_time": "2021-08-07T12:52:14.959Z"
   },
   {
    "duration": 40,
    "start_time": "2021-08-07T12:52:15.002Z"
   },
   {
    "duration": 18,
    "start_time": "2021-08-07T12:52:15.044Z"
   },
   {
    "duration": 9,
    "start_time": "2021-08-07T12:52:15.064Z"
   },
   {
    "duration": 36,
    "start_time": "2021-08-07T12:52:15.075Z"
   },
   {
    "duration": 48,
    "start_time": "2021-08-07T12:52:15.115Z"
   },
   {
    "duration": 34,
    "start_time": "2021-08-07T12:52:15.166Z"
   },
   {
    "duration": 19,
    "start_time": "2021-08-07T12:52:15.204Z"
   },
   {
    "duration": 10,
    "start_time": "2021-08-07T12:52:15.226Z"
   },
   {
    "duration": 9,
    "start_time": "2021-08-07T12:52:15.239Z"
   },
   {
    "duration": 11,
    "start_time": "2021-08-07T12:52:15.250Z"
   },
   {
    "duration": 33,
    "start_time": "2021-08-07T12:52:15.264Z"
   },
   {
    "duration": 1119,
    "start_time": "2021-08-07T12:52:15.301Z"
   },
   {
    "duration": 6,
    "start_time": "2021-08-07T12:52:16.423Z"
   },
   {
    "duration": 20,
    "start_time": "2021-08-07T12:52:16.431Z"
   },
   {
    "duration": 6,
    "start_time": "2021-08-07T12:52:16.454Z"
   },
   {
    "duration": 953,
    "start_time": "2021-08-07T12:52:16.463Z"
   },
   {
    "duration": 9,
    "start_time": "2021-08-07T12:52:17.419Z"
   },
   {
    "duration": 17,
    "start_time": "2021-08-07T12:52:17.431Z"
   },
   {
    "duration": 7,
    "start_time": "2021-08-07T12:52:17.451Z"
   },
   {
    "duration": 1183,
    "start_time": "2021-08-07T12:52:17.460Z"
   },
   {
    "duration": 15,
    "start_time": "2021-08-07T12:52:18.646Z"
   },
   {
    "duration": 11,
    "start_time": "2021-08-07T12:52:18.663Z"
   },
   {
    "duration": 23,
    "start_time": "2021-08-07T12:52:18.695Z"
   },
   {
    "duration": 6,
    "start_time": "2021-08-07T12:52:18.721Z"
   },
   {
    "duration": 684,
    "start_time": "2021-08-07T12:52:33.580Z"
   },
   {
    "duration": 65,
    "start_time": "2021-08-07T12:52:34.516Z"
   },
   {
    "duration": 78,
    "start_time": "2021-08-07T12:52:35.405Z"
   },
   {
    "duration": 49,
    "start_time": "2021-08-07T12:52:36.254Z"
   },
   {
    "duration": 48,
    "start_time": "2021-08-07T12:52:37.030Z"
   },
   {
    "duration": 54,
    "start_time": "2021-08-07T12:52:37.826Z"
   },
   {
    "duration": 93,
    "start_time": "2021-08-07T12:52:40.494Z"
   },
   {
    "duration": 9,
    "start_time": "2021-08-07T12:52:41.425Z"
   },
   {
    "duration": 8,
    "start_time": "2021-08-07T12:52:42.018Z"
   },
   {
    "duration": 161,
    "start_time": "2021-08-07T12:52:43.269Z"
   },
   {
    "duration": 91,
    "start_time": "2021-08-07T12:52:43.940Z"
   },
   {
    "duration": 125,
    "start_time": "2021-08-07T12:52:44.514Z"
   },
   {
    "duration": 15,
    "start_time": "2021-08-07T12:52:45.025Z"
   },
   {
    "duration": 12,
    "start_time": "2021-08-07T12:52:45.547Z"
   },
   {
    "duration": 32,
    "start_time": "2021-08-07T12:52:46.845Z"
   },
   {
    "duration": 35,
    "start_time": "2021-08-07T12:52:47.431Z"
   },
   {
    "duration": 67,
    "start_time": "2021-08-07T12:52:48.477Z"
   },
   {
    "duration": 58,
    "start_time": "2021-08-07T12:52:48.728Z"
   },
   {
    "duration": 33,
    "start_time": "2021-08-07T12:52:49.316Z"
   },
   {
    "duration": 9,
    "start_time": "2021-08-07T12:52:50.906Z"
   },
   {
    "duration": 57,
    "start_time": "2021-08-07T12:52:51.550Z"
   },
   {
    "duration": 14,
    "start_time": "2021-08-07T12:52:51.841Z"
   },
   {
    "duration": 16,
    "start_time": "2021-08-07T12:52:52.732Z"
   },
   {
    "duration": 10,
    "start_time": "2021-08-07T12:52:54.061Z"
   },
   {
    "duration": 11,
    "start_time": "2021-08-07T12:52:54.934Z"
   },
   {
    "duration": 7,
    "start_time": "2021-08-07T12:52:56.292Z"
   },
   {
    "duration": 29,
    "start_time": "2021-08-07T12:52:57.182Z"
   },
   {
    "duration": 58,
    "start_time": "2021-08-07T12:52:57.897Z"
   },
   {
    "duration": 9,
    "start_time": "2021-08-07T12:53:00.409Z"
   },
   {
    "duration": 16,
    "start_time": "2021-08-07T12:53:22.022Z"
   },
   {
    "duration": 15,
    "start_time": "2021-08-07T12:53:23.083Z"
   },
   {
    "duration": 12,
    "start_time": "2021-08-07T12:53:23.592Z"
   },
   {
    "duration": 11,
    "start_time": "2021-08-07T12:53:24.592Z"
   },
   {
    "duration": 14,
    "start_time": "2021-08-07T12:53:25.358Z"
   },
   {
    "duration": 58,
    "start_time": "2021-08-07T12:53:26.050Z"
   },
   {
    "duration": 9,
    "start_time": "2021-08-07T12:53:27.338Z"
   },
   {
    "duration": 9,
    "start_time": "2021-08-07T12:53:29.355Z"
   },
   {
    "duration": 8,
    "start_time": "2021-08-07T12:53:29.674Z"
   },
   {
    "duration": 6,
    "start_time": "2021-08-07T12:53:30.713Z"
   },
   {
    "duration": 14,
    "start_time": "2021-08-07T12:53:31.393Z"
   },
   {
    "duration": 5,
    "start_time": "2021-08-07T12:53:31.839Z"
   },
   {
    "duration": 1221,
    "start_time": "2021-08-07T12:53:32.834Z"
   },
   {
    "duration": 10,
    "start_time": "2021-08-07T12:53:57.703Z"
   },
   {
    "duration": 7,
    "start_time": "2021-08-07T12:53:58.629Z"
   },
   {
    "duration": 6,
    "start_time": "2021-08-07T12:53:59.447Z"
   },
   {
    "duration": 996,
    "start_time": "2021-08-07T12:54:00.787Z"
   },
   {
    "duration": 13,
    "start_time": "2021-08-07T12:54:15.899Z"
   },
   {
    "duration": 8,
    "start_time": "2021-08-07T12:54:16.657Z"
   },
   {
    "duration": 7,
    "start_time": "2021-08-07T12:54:17.373Z"
   },
   {
    "duration": 1134,
    "start_time": "2021-08-07T12:54:18.291Z"
   },
   {
    "duration": 1511,
    "start_time": "2021-08-07T12:57:32.543Z"
   },
   {
    "duration": 1027,
    "start_time": "2021-08-07T12:57:43.371Z"
   },
   {
    "duration": 956,
    "start_time": "2021-08-07T12:57:49.360Z"
   },
   {
    "duration": 914,
    "start_time": "2021-08-07T12:57:53.346Z"
   },
   {
    "duration": 15,
    "start_time": "2021-08-07T12:58:19.186Z"
   },
   {
    "duration": 16,
    "start_time": "2021-08-07T12:59:02.210Z"
   },
   {
    "duration": 7,
    "start_time": "2021-08-07T12:59:02.966Z"
   },
   {
    "duration": 6,
    "start_time": "2021-08-07T12:59:03.353Z"
   },
   {
    "duration": 6,
    "start_time": "2021-08-07T12:59:03.937Z"
   },
   {
    "duration": 19,
    "start_time": "2021-08-07T12:59:04.309Z"
   },
   {
    "duration": 54,
    "start_time": "2021-08-07T12:59:04.736Z"
   },
   {
    "duration": 16,
    "start_time": "2021-08-07T12:59:05.581Z"
   },
   {
    "duration": 14,
    "start_time": "2021-08-07T12:59:06.987Z"
   },
   {
    "duration": 11,
    "start_time": "2021-08-07T12:59:07.202Z"
   },
   {
    "duration": 7,
    "start_time": "2021-08-07T12:59:07.813Z"
   },
   {
    "duration": 11,
    "start_time": "2021-08-07T12:59:08.291Z"
   },
   {
    "duration": 7,
    "start_time": "2021-08-07T12:59:08.706Z"
   },
   {
    "duration": 1136,
    "start_time": "2021-08-07T12:59:09.371Z"
   },
   {
    "duration": 6,
    "start_time": "2021-08-07T12:59:10.561Z"
   },
   {
    "duration": 9,
    "start_time": "2021-08-07T12:59:10.995Z"
   },
   {
    "duration": 5,
    "start_time": "2021-08-07T12:59:11.456Z"
   },
   {
    "duration": 904,
    "start_time": "2021-08-07T12:59:11.942Z"
   },
   {
    "duration": 61,
    "start_time": "2021-08-07T12:59:55.491Z"
   },
   {
    "duration": 67,
    "start_time": "2021-08-07T12:59:58.966Z"
   },
   {
    "duration": 2217,
    "start_time": "2021-08-07T13:00:04.650Z"
   },
   {
    "duration": 90,
    "start_time": "2021-08-07T13:00:06.869Z"
   },
   {
    "duration": 84,
    "start_time": "2021-08-07T13:00:06.962Z"
   },
   {
    "duration": 70,
    "start_time": "2021-08-07T13:00:07.050Z"
   },
   {
    "duration": 46,
    "start_time": "2021-08-07T13:00:07.122Z"
   },
   {
    "duration": 60,
    "start_time": "2021-08-07T13:00:07.170Z"
   },
   {
    "duration": 124,
    "start_time": "2021-08-07T13:00:07.232Z"
   },
   {
    "duration": 8,
    "start_time": "2021-08-07T13:00:07.360Z"
   },
   {
    "duration": 13,
    "start_time": "2021-08-07T13:00:07.385Z"
   },
   {
    "duration": 144,
    "start_time": "2021-08-07T13:00:07.412Z"
   },
   {
    "duration": 79,
    "start_time": "2021-08-07T13:00:07.559Z"
   },
   {
    "duration": 125,
    "start_time": "2021-08-07T13:00:07.640Z"
   },
   {
    "duration": 8,
    "start_time": "2021-08-07T13:00:07.768Z"
   },
   {
    "duration": 26,
    "start_time": "2021-08-07T13:00:07.789Z"
   },
   {
    "duration": 36,
    "start_time": "2021-08-07T13:00:07.817Z"
   },
   {
    "duration": 67,
    "start_time": "2021-08-07T13:00:07.855Z"
   },
   {
    "duration": 46,
    "start_time": "2021-08-07T13:00:07.925Z"
   },
   {
    "duration": 61,
    "start_time": "2021-08-07T13:00:07.974Z"
   },
   {
    "duration": 30,
    "start_time": "2021-08-07T13:00:08.038Z"
   },
   {
    "duration": 6,
    "start_time": "2021-08-07T13:00:08.070Z"
   },
   {
    "duration": 57,
    "start_time": "2021-08-07T13:00:08.091Z"
   },
   {
    "duration": 40,
    "start_time": "2021-08-07T13:00:08.150Z"
   },
   {
    "duration": 47,
    "start_time": "2021-08-07T13:00:08.198Z"
   },
   {
    "duration": 13,
    "start_time": "2021-08-07T13:00:08.250Z"
   },
   {
    "duration": 27,
    "start_time": "2021-08-07T13:00:08.266Z"
   },
   {
    "duration": 9,
    "start_time": "2021-08-07T13:00:08.297Z"
   },
   {
    "duration": 21,
    "start_time": "2021-08-07T13:00:08.309Z"
   },
   {
    "duration": 100,
    "start_time": "2021-08-07T13:00:08.332Z"
   },
   {
    "duration": 9,
    "start_time": "2021-08-07T13:00:08.434Z"
   },
   {
    "duration": 12,
    "start_time": "2021-08-07T13:00:08.445Z"
   },
   {
    "duration": 11,
    "start_time": "2021-08-07T13:00:08.459Z"
   },
   {
    "duration": 15,
    "start_time": "2021-08-07T13:00:08.490Z"
   },
   {
    "duration": 18,
    "start_time": "2021-08-07T13:00:08.509Z"
   },
   {
    "duration": 10,
    "start_time": "2021-08-07T13:00:08.529Z"
   },
   {
    "duration": 1151,
    "start_time": "2021-08-07T13:00:08.541Z"
   },
   {
    "duration": 10,
    "start_time": "2021-08-07T13:00:09.696Z"
   },
   {
    "duration": 24,
    "start_time": "2021-08-07T13:00:09.710Z"
   },
   {
    "duration": 27,
    "start_time": "2021-08-07T13:00:09.737Z"
   },
   {
    "duration": 946,
    "start_time": "2021-08-07T13:00:09.767Z"
   },
   {
    "duration": 6,
    "start_time": "2021-08-07T13:00:10.716Z"
   },
   {
    "duration": 22,
    "start_time": "2021-08-07T13:00:10.724Z"
   },
   {
    "duration": 9,
    "start_time": "2021-08-07T13:00:10.748Z"
   },
   {
    "duration": 1191,
    "start_time": "2021-08-07T13:00:10.759Z"
   },
   {
    "duration": 16,
    "start_time": "2021-08-07T13:00:11.952Z"
   },
   {
    "duration": 12,
    "start_time": "2021-08-07T13:00:11.994Z"
   },
   {
    "duration": 18,
    "start_time": "2021-08-07T13:00:12.010Z"
   },
   {
    "duration": 9,
    "start_time": "2021-08-07T13:00:12.031Z"
   },
   {
    "duration": 1165,
    "start_time": "2021-08-07T13:00:23.679Z"
   },
   {
    "duration": 980,
    "start_time": "2021-08-07T13:00:32.949Z"
   },
   {
    "duration": 8,
    "start_time": "2021-08-07T13:00:43.508Z"
   },
   {
    "duration": 8,
    "start_time": "2021-08-07T13:00:44.068Z"
   },
   {
    "duration": 5,
    "start_time": "2021-08-07T13:00:44.611Z"
   },
   {
    "duration": 1102,
    "start_time": "2021-08-07T13:00:45.196Z"
   },
   {
    "duration": 12,
    "start_time": "2021-08-07T13:03:28.962Z"
   },
   {
    "duration": 9,
    "start_time": "2021-08-07T13:03:36.832Z"
   },
   {
    "duration": 54,
    "start_time": "2021-08-07T13:48:46.608Z"
   },
   {
    "duration": 73,
    "start_time": "2021-08-07T13:48:52.620Z"
   },
   {
    "duration": 110,
    "start_time": "2021-08-07T13:49:51.078Z"
   },
   {
    "duration": 61,
    "start_time": "2021-08-07T13:50:04.322Z"
   },
   {
    "duration": 531,
    "start_time": "2021-08-07T13:50:35.261Z"
   },
   {
    "duration": 360,
    "start_time": "2021-08-07T13:50:37.694Z"
   },
   {
    "duration": 362,
    "start_time": "2021-08-07T13:51:52.559Z"
   },
   {
    "duration": 350,
    "start_time": "2021-08-07T13:51:54.900Z"
   },
   {
    "duration": 74,
    "start_time": "2021-08-07T13:52:43.019Z"
   },
   {
    "duration": 79,
    "start_time": "2021-08-07T13:52:51.233Z"
   },
   {
    "duration": 67,
    "start_time": "2021-08-07T13:52:52.696Z"
   },
   {
    "duration": 56,
    "start_time": "2021-08-07T13:52:53.108Z"
   },
   {
    "duration": 59,
    "start_time": "2021-08-07T13:52:53.938Z"
   },
   {
    "duration": 7,
    "start_time": "2021-08-07T13:52:56.068Z"
   },
   {
    "duration": 53,
    "start_time": "2021-08-07T13:52:57.051Z"
   },
   {
    "duration": 17,
    "start_time": "2021-08-07T13:53:01.574Z"
   },
   {
    "duration": 67,
    "start_time": "2021-08-07T13:53:02.742Z"
   },
   {
    "duration": 9,
    "start_time": "2021-08-07T13:53:07.114Z"
   },
   {
    "duration": 9,
    "start_time": "2021-08-07T13:53:07.577Z"
   },
   {
    "duration": 782,
    "start_time": "2021-08-07T13:55:47.642Z"
   },
   {
    "duration": 8107,
    "start_time": "2021-08-07T13:56:56.851Z"
   },
   {
    "duration": 5,
    "start_time": "2021-08-07T13:57:16.169Z"
   },
   {
    "duration": 354,
    "start_time": "2021-08-07T13:57:16.177Z"
   },
   {
    "duration": -1710,
    "start_time": "2021-08-07T13:57:18.244Z"
   },
   {
    "duration": 328,
    "start_time": "2021-08-07T13:57:19.314Z"
   },
   {
    "duration": 498,
    "start_time": "2021-08-07T13:57:21.835Z"
   },
   {
    "duration": 2302,
    "start_time": "2021-08-07T13:57:37.910Z"
   },
   {
    "duration": 117,
    "start_time": "2021-08-07T13:57:40.216Z"
   },
   {
    "duration": 107,
    "start_time": "2021-08-07T13:57:40.338Z"
   },
   {
    "duration": 77,
    "start_time": "2021-08-07T13:57:40.449Z"
   },
   {
    "duration": 67,
    "start_time": "2021-08-07T13:57:40.528Z"
   },
   {
    "duration": 52,
    "start_time": "2021-08-07T13:57:40.601Z"
   },
   {
    "duration": 167,
    "start_time": "2021-08-07T13:57:40.656Z"
   },
   {
    "duration": 15,
    "start_time": "2021-08-07T13:57:40.829Z"
   },
   {
    "duration": 12,
    "start_time": "2021-08-07T13:57:40.849Z"
   },
   {
    "duration": 208,
    "start_time": "2021-08-07T13:57:40.886Z"
   },
   {
    "duration": 106,
    "start_time": "2021-08-07T13:57:41.097Z"
   },
   {
    "duration": 137,
    "start_time": "2021-08-07T13:57:41.207Z"
   },
   {
    "duration": 12,
    "start_time": "2021-08-07T13:57:41.347Z"
   },
   {
    "duration": 35,
    "start_time": "2021-08-07T13:57:41.362Z"
   },
   {
    "duration": 35,
    "start_time": "2021-08-07T13:57:41.400Z"
   },
   {
    "duration": 97,
    "start_time": "2021-08-07T13:57:41.438Z"
   },
   {
    "duration": 69,
    "start_time": "2021-08-07T13:57:41.538Z"
   },
   {
    "duration": 43,
    "start_time": "2021-08-07T13:57:41.610Z"
   },
   {
    "duration": 65,
    "start_time": "2021-08-07T13:57:41.655Z"
   },
   {
    "duration": 7,
    "start_time": "2021-08-07T13:57:41.723Z"
   },
   {
    "duration": 71,
    "start_time": "2021-08-07T13:57:41.733Z"
   },
   {
    "duration": 17,
    "start_time": "2021-08-07T13:57:41.807Z"
   },
   {
    "duration": 91,
    "start_time": "2021-08-07T13:57:41.830Z"
   },
   {
    "duration": 15,
    "start_time": "2021-08-07T13:57:41.924Z"
   },
   {
    "duration": 6,
    "start_time": "2021-08-07T13:57:41.941Z"
   },
   {
    "duration": 8,
    "start_time": "2021-08-07T13:57:41.949Z"
   },
   {
    "duration": 32,
    "start_time": "2021-08-07T13:57:41.959Z"
   },
   {
    "duration": 57,
    "start_time": "2021-08-07T13:57:41.993Z"
   },
   {
    "duration": 38,
    "start_time": "2021-08-07T13:57:42.053Z"
   },
   {
    "duration": 21,
    "start_time": "2021-08-07T13:57:42.094Z"
   },
   {
    "duration": 11,
    "start_time": "2021-08-07T13:57:42.120Z"
   },
   {
    "duration": 6,
    "start_time": "2021-08-07T13:57:42.134Z"
   },
   {
    "duration": 47,
    "start_time": "2021-08-07T13:57:42.142Z"
   },
   {
    "duration": 9,
    "start_time": "2021-08-07T13:57:42.192Z"
   },
   {
    "duration": 1097,
    "start_time": "2021-08-07T13:57:42.204Z"
   },
   {
    "duration": 874,
    "start_time": "2021-08-07T13:57:43.304Z"
   },
   {
    "duration": 107,
    "start_time": "2021-08-07T13:57:44.181Z"
   },
   {
    "duration": -1693,
    "start_time": "2021-08-07T13:57:45.984Z"
   },
   {
    "duration": -1700,
    "start_time": "2021-08-07T13:57:45.992Z"
   },
   {
    "duration": -1707,
    "start_time": "2021-08-07T13:57:46.005Z"
   },
   {
    "duration": -1708,
    "start_time": "2021-08-07T13:57:46.008Z"
   },
   {
    "duration": -1713,
    "start_time": "2021-08-07T13:57:46.016Z"
   },
   {
    "duration": -1714,
    "start_time": "2021-08-07T13:57:46.019Z"
   },
   {
    "duration": -1716,
    "start_time": "2021-08-07T13:57:46.022Z"
   },
   {
    "duration": -1715,
    "start_time": "2021-08-07T13:57:46.024Z"
   },
   {
    "duration": -1721,
    "start_time": "2021-08-07T13:57:46.032Z"
   },
   {
    "duration": -1722,
    "start_time": "2021-08-07T13:57:46.035Z"
   },
   {
    "duration": -1723,
    "start_time": "2021-08-07T13:57:46.037Z"
   },
   {
    "duration": -1722,
    "start_time": "2021-08-07T13:57:46.039Z"
   },
   {
    "duration": -1729,
    "start_time": "2021-08-07T13:57:46.048Z"
   },
   {
    "duration": 1375,
    "start_time": "2021-08-07T13:57:56.592Z"
   },
   {
    "duration": 1246,
    "start_time": "2021-08-07T13:58:05.848Z"
   },
   {
    "duration": 1189,
    "start_time": "2021-08-07T13:58:14.062Z"
   },
   {
    "duration": 1430,
    "start_time": "2021-08-08T04:49:34.352Z"
   },
   {
    "duration": 51,
    "start_time": "2021-08-08T04:49:35.783Z"
   },
   {
    "duration": 40,
    "start_time": "2021-08-08T04:49:35.835Z"
   },
   {
    "duration": 23,
    "start_time": "2021-08-08T04:49:35.876Z"
   },
   {
    "duration": 40,
    "start_time": "2021-08-08T04:49:35.901Z"
   },
   {
    "duration": 19,
    "start_time": "2021-08-08T04:49:35.943Z"
   },
   {
    "duration": 79,
    "start_time": "2021-08-08T04:49:35.963Z"
   },
   {
    "duration": 6,
    "start_time": "2021-08-08T04:49:36.043Z"
   },
   {
    "duration": 9,
    "start_time": "2021-08-08T04:49:36.051Z"
   },
   {
    "duration": 98,
    "start_time": "2021-08-08T04:49:36.062Z"
   },
   {
    "duration": 37,
    "start_time": "2021-08-08T04:49:36.162Z"
   },
   {
    "duration": 70,
    "start_time": "2021-08-08T04:49:36.201Z"
   },
   {
    "duration": 5,
    "start_time": "2021-08-08T04:49:36.273Z"
   },
   {
    "duration": 8,
    "start_time": "2021-08-08T04:49:36.280Z"
   },
   {
    "duration": 22,
    "start_time": "2021-08-08T04:49:36.289Z"
   },
   {
    "duration": 66,
    "start_time": "2021-08-08T04:49:36.312Z"
   },
   {
    "duration": 33,
    "start_time": "2021-08-08T04:49:36.380Z"
   },
   {
    "duration": 42,
    "start_time": "2021-08-08T04:49:36.415Z"
   },
   {
    "duration": 19,
    "start_time": "2021-08-08T04:49:36.459Z"
   },
   {
    "duration": 3,
    "start_time": "2021-08-08T04:49:36.479Z"
   },
   {
    "duration": 25,
    "start_time": "2021-08-08T04:49:36.484Z"
   },
   {
    "duration": 31,
    "start_time": "2021-08-08T04:49:36.510Z"
   },
   {
    "duration": 23,
    "start_time": "2021-08-08T04:49:36.542Z"
   },
   {
    "duration": 9,
    "start_time": "2021-08-08T04:49:36.566Z"
   },
   {
    "duration": 3,
    "start_time": "2021-08-08T04:49:36.576Z"
   },
   {
    "duration": 5,
    "start_time": "2021-08-08T04:49:36.581Z"
   },
   {
    "duration": 14,
    "start_time": "2021-08-08T04:49:36.589Z"
   },
   {
    "duration": 46,
    "start_time": "2021-08-08T04:49:36.605Z"
   },
   {
    "duration": 5,
    "start_time": "2021-08-08T04:49:36.653Z"
   },
   {
    "duration": 8,
    "start_time": "2021-08-08T04:49:36.660Z"
   },
   {
    "duration": 5,
    "start_time": "2021-08-08T04:49:36.670Z"
   },
   {
    "duration": 4,
    "start_time": "2021-08-08T04:49:36.677Z"
   },
   {
    "duration": 5,
    "start_time": "2021-08-08T04:49:36.683Z"
   },
   {
    "duration": 6,
    "start_time": "2021-08-08T04:49:36.690Z"
   },
   {
    "duration": 533,
    "start_time": "2021-08-08T04:49:36.697Z"
   },
   {
    "duration": 634,
    "start_time": "2021-08-08T04:49:37.231Z"
   },
   {
    "duration": 528,
    "start_time": "2021-08-08T04:49:37.867Z"
   },
   {
    "duration": 4,
    "start_time": "2021-08-08T04:49:38.396Z"
   },
   {
    "duration": 9,
    "start_time": "2021-08-08T04:49:38.402Z"
   },
   {
    "duration": 4,
    "start_time": "2021-08-08T04:49:38.413Z"
   },
   {
    "duration": 711,
    "start_time": "2021-08-08T04:49:38.418Z"
   },
   {
    "duration": 10,
    "start_time": "2021-08-08T04:49:39.131Z"
   },
   {
    "duration": 9,
    "start_time": "2021-08-08T04:49:39.143Z"
   },
   {
    "duration": 4,
    "start_time": "2021-08-08T04:49:39.154Z"
   },
   {
    "duration": 545,
    "start_time": "2021-08-08T04:49:39.159Z"
   },
   {
    "duration": 10,
    "start_time": "2021-08-08T04:49:39.705Z"
   },
   {
    "duration": 7,
    "start_time": "2021-08-08T04:49:39.717Z"
   },
   {
    "duration": 23,
    "start_time": "2021-08-08T04:49:39.725Z"
   },
   {
    "duration": 9,
    "start_time": "2021-08-08T04:49:39.749Z"
   },
   {
    "duration": 1403,
    "start_time": "2021-08-08T04:49:50.096Z"
   },
   {
    "duration": 48,
    "start_time": "2021-08-08T04:49:51.501Z"
   },
   {
    "duration": 41,
    "start_time": "2021-08-08T04:49:51.551Z"
   },
   {
    "duration": 22,
    "start_time": "2021-08-08T04:49:51.594Z"
   },
   {
    "duration": 42,
    "start_time": "2021-08-08T04:49:51.618Z"
   },
   {
    "duration": 18,
    "start_time": "2021-08-08T04:49:51.661Z"
   },
   {
    "duration": 80,
    "start_time": "2021-08-08T04:49:51.680Z"
   },
   {
    "duration": 6,
    "start_time": "2021-08-08T04:49:51.762Z"
   },
   {
    "duration": 8,
    "start_time": "2021-08-08T04:49:51.770Z"
   },
   {
    "duration": 101,
    "start_time": "2021-08-08T04:49:51.780Z"
   },
   {
    "duration": 38,
    "start_time": "2021-08-08T04:49:51.882Z"
   },
   {
    "duration": 68,
    "start_time": "2021-08-08T04:49:51.922Z"
   },
   {
    "duration": 6,
    "start_time": "2021-08-08T04:49:51.991Z"
   },
   {
    "duration": 13,
    "start_time": "2021-08-08T04:49:51.998Z"
   },
   {
    "duration": 34,
    "start_time": "2021-08-08T04:49:52.013Z"
   },
   {
    "duration": 51,
    "start_time": "2021-08-08T04:49:52.048Z"
   },
   {
    "duration": 45,
    "start_time": "2021-08-08T04:49:52.101Z"
   },
   {
    "duration": 27,
    "start_time": "2021-08-08T04:49:52.147Z"
   },
   {
    "duration": 18,
    "start_time": "2021-08-08T04:49:52.175Z"
   },
   {
    "duration": 2,
    "start_time": "2021-08-08T04:49:52.195Z"
   },
   {
    "duration": 44,
    "start_time": "2021-08-08T04:49:52.199Z"
   },
   {
    "duration": 8,
    "start_time": "2021-08-08T04:49:52.244Z"
   },
   {
    "duration": 22,
    "start_time": "2021-08-08T04:49:52.253Z"
   },
   {
    "duration": 9,
    "start_time": "2021-08-08T04:49:52.276Z"
   },
   {
    "duration": 8,
    "start_time": "2021-08-08T04:49:52.286Z"
   },
   {
    "duration": 7,
    "start_time": "2021-08-08T04:49:52.295Z"
   },
   {
    "duration": 17,
    "start_time": "2021-08-08T04:49:52.306Z"
   },
   {
    "duration": 39,
    "start_time": "2021-08-08T04:49:52.325Z"
   },
   {
    "duration": 5,
    "start_time": "2021-08-08T04:49:52.365Z"
   },
   {
    "duration": 15,
    "start_time": "2021-08-08T04:49:52.372Z"
   },
   {
    "duration": 21,
    "start_time": "2021-08-08T04:49:52.388Z"
   },
   {
    "duration": 16,
    "start_time": "2021-08-08T04:49:52.410Z"
   },
   {
    "duration": 18,
    "start_time": "2021-08-08T04:49:52.427Z"
   },
   {
    "duration": 22,
    "start_time": "2021-08-08T04:49:52.446Z"
   },
   {
    "duration": 520,
    "start_time": "2021-08-08T04:49:52.470Z"
   },
   {
    "duration": 626,
    "start_time": "2021-08-08T04:49:52.992Z"
   },
   {
    "duration": 595,
    "start_time": "2021-08-08T04:49:53.620Z"
   },
   {
    "duration": 4,
    "start_time": "2021-08-08T04:49:54.217Z"
   },
   {
    "duration": 11,
    "start_time": "2021-08-08T04:49:54.222Z"
   },
   {
    "duration": 19,
    "start_time": "2021-08-08T04:49:54.235Z"
   },
   {
    "duration": 517,
    "start_time": "2021-08-08T04:49:54.256Z"
   },
   {
    "duration": 5,
    "start_time": "2021-08-08T04:49:54.774Z"
   },
   {
    "duration": 20,
    "start_time": "2021-08-08T04:49:54.780Z"
   },
   {
    "duration": 18,
    "start_time": "2021-08-08T04:49:54.802Z"
   },
   {
    "duration": 537,
    "start_time": "2021-08-08T04:49:54.821Z"
   },
   {
    "duration": 10,
    "start_time": "2021-08-08T04:49:55.359Z"
   },
   {
    "duration": 13,
    "start_time": "2021-08-08T04:49:55.370Z"
   },
   {
    "duration": 24,
    "start_time": "2021-08-08T04:49:55.384Z"
   },
   {
    "duration": 7,
    "start_time": "2021-08-08T04:49:55.410Z"
   },
   {
    "duration": 29,
    "start_time": "2021-08-08T04:51:50.530Z"
   },
   {
    "duration": 324,
    "start_time": "2021-08-08T05:50:38.597Z"
   },
   {
    "duration": 1804,
    "start_time": "2021-08-08T05:50:43.566Z"
   },
   {
    "duration": 68,
    "start_time": "2021-08-08T05:50:45.373Z"
   },
   {
    "duration": 61,
    "start_time": "2021-08-08T05:50:45.444Z"
   },
   {
    "duration": 51,
    "start_time": "2021-08-08T05:50:45.508Z"
   },
   {
    "duration": 43,
    "start_time": "2021-08-08T05:50:45.562Z"
   },
   {
    "duration": 60,
    "start_time": "2021-08-08T05:50:45.607Z"
   },
   {
    "duration": 106,
    "start_time": "2021-08-08T05:50:45.669Z"
   },
   {
    "duration": 9,
    "start_time": "2021-08-08T05:50:45.779Z"
   },
   {
    "duration": 14,
    "start_time": "2021-08-08T05:50:45.791Z"
   },
   {
    "duration": 139,
    "start_time": "2021-08-08T05:50:45.807Z"
   },
   {
    "duration": 56,
    "start_time": "2021-08-08T05:50:45.955Z"
   },
   {
    "duration": 106,
    "start_time": "2021-08-08T05:50:46.014Z"
   },
   {
    "duration": 7,
    "start_time": "2021-08-08T05:50:46.122Z"
   },
   {
    "duration": 26,
    "start_time": "2021-08-08T05:50:46.131Z"
   },
   {
    "duration": 30,
    "start_time": "2021-08-08T05:50:46.160Z"
   },
   {
    "duration": 88,
    "start_time": "2021-08-08T05:50:46.193Z"
   },
   {
    "duration": 47,
    "start_time": "2021-08-08T05:50:46.283Z"
   },
   {
    "duration": 49,
    "start_time": "2021-08-08T05:50:46.332Z"
   },
   {
    "duration": 29,
    "start_time": "2021-08-08T05:50:46.384Z"
   },
   {
    "duration": 5,
    "start_time": "2021-08-08T05:50:46.415Z"
   },
   {
    "duration": 65,
    "start_time": "2021-08-08T05:50:46.422Z"
   },
   {
    "duration": 11,
    "start_time": "2021-08-08T05:50:46.489Z"
   },
   {
    "duration": 60,
    "start_time": "2021-08-08T05:50:46.506Z"
   },
   {
    "duration": 12,
    "start_time": "2021-08-08T05:50:46.568Z"
   },
   {
    "duration": 4,
    "start_time": "2021-08-08T05:50:46.582Z"
   },
   {
    "duration": 11,
    "start_time": "2021-08-08T05:50:46.588Z"
   },
   {
    "duration": 18,
    "start_time": "2021-08-08T05:50:46.601Z"
   },
   {
    "duration": 65,
    "start_time": "2021-08-08T05:50:46.622Z"
   },
   {
    "duration": 9,
    "start_time": "2021-08-08T05:50:46.689Z"
   },
   {
    "duration": 17,
    "start_time": "2021-08-08T05:50:46.700Z"
   },
   {
    "duration": 13,
    "start_time": "2021-08-08T05:50:46.720Z"
   },
   {
    "duration": 6,
    "start_time": "2021-08-08T05:50:46.756Z"
   },
   {
    "duration": 11,
    "start_time": "2021-08-08T05:50:46.764Z"
   },
   {
    "duration": 6,
    "start_time": "2021-08-08T05:50:46.777Z"
   },
   {
    "duration": 922,
    "start_time": "2021-08-08T05:50:46.786Z"
   },
   {
    "duration": 608,
    "start_time": "2021-08-08T05:50:47.710Z"
   },
   {
    "duration": 910,
    "start_time": "2021-08-08T05:50:48.321Z"
   },
   {
    "duration": 5,
    "start_time": "2021-08-08T05:50:49.234Z"
   },
   {
    "duration": 8,
    "start_time": "2021-08-08T05:50:49.256Z"
   },
   {
    "duration": 8,
    "start_time": "2021-08-08T05:50:49.266Z"
   },
   {
    "duration": 972,
    "start_time": "2021-08-08T05:50:49.276Z"
   },
   {
    "duration": 11,
    "start_time": "2021-08-08T05:50:50.250Z"
   },
   {
    "duration": 18,
    "start_time": "2021-08-08T05:50:50.263Z"
   },
   {
    "duration": 23,
    "start_time": "2021-08-08T05:50:50.284Z"
   },
   {
    "duration": 936,
    "start_time": "2021-08-08T05:50:50.310Z"
   },
   {
    "duration": 16,
    "start_time": "2021-08-08T05:50:51.256Z"
   },
   {
    "duration": 7,
    "start_time": "2021-08-08T05:50:51.274Z"
   },
   {
    "duration": 20,
    "start_time": "2021-08-08T05:50:51.283Z"
   },
   {
    "duration": 6,
    "start_time": "2021-08-08T05:50:51.305Z"
   },
   {
    "duration": 32,
    "start_time": "2021-08-08T05:51:04.605Z"
   },
   {
    "duration": 66,
    "start_time": "2021-08-08T05:51:17.375Z"
   },
   {
    "duration": 14,
    "start_time": "2021-08-08T05:51:23.660Z"
   },
   {
    "duration": 39,
    "start_time": "2021-08-08T05:51:24.433Z"
   },
   {
    "duration": 11,
    "start_time": "2021-08-08T05:51:25.737Z"
   },
   {
    "duration": 1822,
    "start_time": "2021-08-08T05:51:29.413Z"
   },
   {
    "duration": 70,
    "start_time": "2021-08-08T05:51:31.238Z"
   },
   {
    "duration": 76,
    "start_time": "2021-08-08T05:51:31.311Z"
   },
   {
    "duration": 35,
    "start_time": "2021-08-08T05:51:31.390Z"
   },
   {
    "duration": 61,
    "start_time": "2021-08-08T05:51:31.427Z"
   },
   {
    "duration": 31,
    "start_time": "2021-08-08T05:51:31.490Z"
   },
   {
    "duration": 119,
    "start_time": "2021-08-08T05:51:31.524Z"
   },
   {
    "duration": 8,
    "start_time": "2021-08-08T05:51:31.657Z"
   },
   {
    "duration": 19,
    "start_time": "2021-08-08T05:51:31.668Z"
   },
   {
    "duration": 126,
    "start_time": "2021-08-08T05:51:31.689Z"
   },
   {
    "duration": 63,
    "start_time": "2021-08-08T05:51:31.817Z"
   },
   {
    "duration": 114,
    "start_time": "2021-08-08T05:51:31.883Z"
   },
   {
    "duration": 8,
    "start_time": "2021-08-08T05:51:31.999Z"
   },
   {
    "duration": 24,
    "start_time": "2021-08-08T05:51:32.009Z"
   },
   {
    "duration": 50,
    "start_time": "2021-08-08T05:51:32.036Z"
   },
   {
    "duration": 75,
    "start_time": "2021-08-08T05:51:32.089Z"
   },
   {
    "duration": 47,
    "start_time": "2021-08-08T05:51:32.166Z"
   },
   {
    "duration": 59,
    "start_time": "2021-08-08T05:51:32.216Z"
   },
   {
    "duration": 31,
    "start_time": "2021-08-08T05:51:32.277Z"
   },
   {
    "duration": 5,
    "start_time": "2021-08-08T05:51:32.311Z"
   },
   {
    "duration": 69,
    "start_time": "2021-08-08T05:51:32.319Z"
   },
   {
    "duration": 12,
    "start_time": "2021-08-08T05:51:32.391Z"
   },
   {
    "duration": 61,
    "start_time": "2021-08-08T05:51:32.409Z"
   },
   {
    "duration": 12,
    "start_time": "2021-08-08T05:51:32.473Z"
   },
   {
    "duration": 9,
    "start_time": "2021-08-08T05:51:32.487Z"
   },
   {
    "duration": 10,
    "start_time": "2021-08-08T05:51:32.498Z"
   },
   {
    "duration": 28,
    "start_time": "2021-08-08T05:51:32.510Z"
   },
   {
    "duration": 56,
    "start_time": "2021-08-08T05:51:32.540Z"
   },
   {
    "duration": 9,
    "start_time": "2021-08-08T05:51:32.599Z"
   },
   {
    "duration": 11,
    "start_time": "2021-08-08T05:51:32.611Z"
   },
   {
    "duration": 37,
    "start_time": "2021-08-08T05:51:32.625Z"
   },
   {
    "duration": 21,
    "start_time": "2021-08-08T05:51:32.665Z"
   },
   {
    "duration": 17,
    "start_time": "2021-08-08T05:51:32.688Z"
   },
   {
    "duration": 8,
    "start_time": "2021-08-08T05:51:32.708Z"
   },
   {
    "duration": 910,
    "start_time": "2021-08-08T05:51:32.718Z"
   },
   {
    "duration": 575,
    "start_time": "2021-08-08T05:51:33.631Z"
   },
   {
    "duration": 912,
    "start_time": "2021-08-08T05:51:34.209Z"
   },
   {
    "duration": 6,
    "start_time": "2021-08-08T05:51:35.124Z"
   },
   {
    "duration": 26,
    "start_time": "2021-08-08T05:51:35.132Z"
   },
   {
    "duration": 6,
    "start_time": "2021-08-08T05:51:35.160Z"
   },
   {
    "duration": 958,
    "start_time": "2021-08-08T05:51:35.169Z"
   },
   {
    "duration": 7,
    "start_time": "2021-08-08T05:51:36.129Z"
   },
   {
    "duration": 23,
    "start_time": "2021-08-08T05:51:36.138Z"
   },
   {
    "duration": 6,
    "start_time": "2021-08-08T05:51:36.164Z"
   },
   {
    "duration": 904,
    "start_time": "2021-08-08T05:51:36.173Z"
   },
   {
    "duration": 14,
    "start_time": "2021-08-08T05:51:37.080Z"
   },
   {
    "duration": 5,
    "start_time": "2021-08-08T05:51:37.097Z"
   },
   {
    "duration": 14,
    "start_time": "2021-08-08T05:51:37.104Z"
   },
   {
    "duration": 40,
    "start_time": "2021-08-08T05:51:37.120Z"
   },
   {
    "duration": 50,
    "start_time": "2021-08-08T05:53:02.314Z"
   },
   {
    "duration": 7,
    "start_time": "2021-08-08T05:53:03.563Z"
   },
   {
    "duration": 6,
    "start_time": "2021-08-08T05:53:04.075Z"
   },
   {
    "duration": 5,
    "start_time": "2021-08-08T05:53:04.718Z"
   },
   {
    "duration": 14,
    "start_time": "2021-08-08T05:53:05.216Z"
   },
   {
    "duration": 50,
    "start_time": "2021-08-08T05:53:05.647Z"
   },
   {
    "duration": 9,
    "start_time": "2021-08-08T05:53:07.172Z"
   },
   {
    "duration": 11,
    "start_time": "2021-08-08T05:53:10.296Z"
   },
   {
    "duration": 9,
    "start_time": "2021-08-08T05:53:10.523Z"
   },
   {
    "duration": 6,
    "start_time": "2021-08-08T05:53:11.228Z"
   },
   {
    "duration": 8,
    "start_time": "2021-08-08T05:53:11.592Z"
   },
   {
    "duration": 6,
    "start_time": "2021-08-08T05:53:13.299Z"
   },
   {
    "duration": 905,
    "start_time": "2021-08-08T05:53:13.308Z"
   },
   {
    "duration": 13,
    "start_time": "2021-08-08T05:53:14.216Z"
   },
   {
    "duration": 903,
    "start_time": "2021-08-08T05:53:14.347Z"
   },
   {
    "duration": 1935,
    "start_time": "2021-08-08T16:35:39.572Z"
   },
   {
    "duration": 74,
    "start_time": "2021-08-08T16:35:41.510Z"
   },
   {
    "duration": 59,
    "start_time": "2021-08-08T16:35:41.587Z"
   },
   {
    "duration": 36,
    "start_time": "2021-08-08T16:35:41.663Z"
   },
   {
    "duration": 82,
    "start_time": "2021-08-08T16:35:41.701Z"
   },
   {
    "duration": 35,
    "start_time": "2021-08-08T16:35:41.786Z"
   },
   {
    "duration": 141,
    "start_time": "2021-08-08T16:35:41.823Z"
   },
   {
    "duration": 8,
    "start_time": "2021-08-08T16:35:41.968Z"
   },
   {
    "duration": 16,
    "start_time": "2021-08-08T16:35:41.979Z"
   },
   {
    "duration": 201,
    "start_time": "2021-08-08T16:35:41.998Z"
   },
   {
    "duration": 80,
    "start_time": "2021-08-08T16:35:42.201Z"
   },
   {
    "duration": 119,
    "start_time": "2021-08-08T16:35:42.283Z"
   },
   {
    "duration": 9,
    "start_time": "2021-08-08T16:35:42.405Z"
   },
   {
    "duration": 18,
    "start_time": "2021-08-08T16:35:42.416Z"
   },
   {
    "duration": 56,
    "start_time": "2021-08-08T16:35:42.437Z"
   },
   {
    "duration": 93,
    "start_time": "2021-08-08T16:35:42.495Z"
   },
   {
    "duration": 46,
    "start_time": "2021-08-08T16:35:42.591Z"
   },
   {
    "duration": 53,
    "start_time": "2021-08-08T16:35:42.639Z"
   },
   {
    "duration": 32,
    "start_time": "2021-08-08T16:35:42.694Z"
   },
   {
    "duration": 34,
    "start_time": "2021-08-08T16:35:42.728Z"
   },
   {
    "duration": 47,
    "start_time": "2021-08-08T16:35:42.765Z"
   },
   {
    "duration": 12,
    "start_time": "2021-08-08T16:35:42.815Z"
   },
   {
    "duration": 17459,
    "start_time": "2021-08-08T16:35:42.865Z"
   },
   {
    "duration": 950,
    "start_time": "2021-08-08T16:35:59.377Z"
   },
   {
    "duration": 946,
    "start_time": "2021-08-08T16:35:59.382Z"
   },
   {
    "duration": 943,
    "start_time": "2021-08-08T16:35:59.386Z"
   },
   {
    "duration": 929,
    "start_time": "2021-08-08T16:35:59.402Z"
   },
   {
    "duration": 919,
    "start_time": "2021-08-08T16:35:59.413Z"
   },
   {
    "duration": 916,
    "start_time": "2021-08-08T16:35:59.417Z"
   },
   {
    "duration": 910,
    "start_time": "2021-08-08T16:35:59.424Z"
   },
   {
    "duration": 897,
    "start_time": "2021-08-08T16:35:59.439Z"
   },
   {
    "duration": 886,
    "start_time": "2021-08-08T16:35:59.451Z"
   },
   {
    "duration": 871,
    "start_time": "2021-08-08T16:35:59.467Z"
   },
   {
    "duration": 865,
    "start_time": "2021-08-08T16:35:59.475Z"
   },
   {
    "duration": 850,
    "start_time": "2021-08-08T16:35:59.491Z"
   },
   {
    "duration": 841,
    "start_time": "2021-08-08T16:35:59.501Z"
   },
   {
    "duration": 827,
    "start_time": "2021-08-08T16:35:59.517Z"
   },
   {
    "duration": 819,
    "start_time": "2021-08-08T16:35:59.526Z"
   },
   {
    "duration": 803,
    "start_time": "2021-08-08T16:35:59.543Z"
   },
   {
    "duration": 796,
    "start_time": "2021-08-08T16:35:59.551Z"
   },
   {
    "duration": 782,
    "start_time": "2021-08-08T16:35:59.567Z"
   },
   {
    "duration": 775,
    "start_time": "2021-08-08T16:35:59.575Z"
   },
   {
    "duration": 745,
    "start_time": "2021-08-08T16:35:59.606Z"
   },
   {
    "duration": 727,
    "start_time": "2021-08-08T16:35:59.625Z"
   },
   {
    "duration": 693,
    "start_time": "2021-08-08T16:35:59.660Z"
   },
   {
    "duration": 683,
    "start_time": "2021-08-08T16:35:59.672Z"
   },
   {
    "duration": 671,
    "start_time": "2021-08-08T16:35:59.685Z"
   },
   {
    "duration": 658,
    "start_time": "2021-08-08T16:35:59.699Z"
   },
   {
    "duration": 650,
    "start_time": "2021-08-08T16:35:59.708Z"
   },
   {
    "duration": 12,
    "start_time": "2021-08-08T16:39:49.299Z"
   },
   {
    "duration": 6,
    "start_time": "2021-08-08T16:39:49.313Z"
   },
   {
    "duration": 11,
    "start_time": "2021-08-08T16:39:49.322Z"
   },
   {
    "duration": 14,
    "start_time": "2021-08-08T16:39:49.335Z"
   },
   {
    "duration": 56,
    "start_time": "2021-08-08T16:39:49.352Z"
   },
   {
    "duration": 8,
    "start_time": "2021-08-08T16:39:49.411Z"
   },
   {
    "duration": 48,
    "start_time": "2021-08-08T16:39:49.422Z"
   },
   {
    "duration": 10,
    "start_time": "2021-08-08T16:39:49.472Z"
   },
   {
    "duration": 7,
    "start_time": "2021-08-08T16:39:49.486Z"
   },
   {
    "duration": 7,
    "start_time": "2021-08-08T16:39:49.497Z"
   },
   {
    "duration": 6,
    "start_time": "2021-08-08T16:39:49.506Z"
   },
   {
    "duration": 1090,
    "start_time": "2021-08-08T16:39:49.563Z"
   },
   {
    "duration": 823,
    "start_time": "2021-08-08T16:39:50.655Z"
   },
   {
    "duration": 995,
    "start_time": "2021-08-08T16:39:51.480Z"
   },
   {
    "duration": 6,
    "start_time": "2021-08-08T16:39:52.477Z"
   },
   {
    "duration": 10,
    "start_time": "2021-08-08T16:39:52.486Z"
   },
   {
    "duration": 11,
    "start_time": "2021-08-08T16:39:52.498Z"
   },
   {
    "duration": 1061,
    "start_time": "2021-08-08T16:39:52.512Z"
   },
   {
    "duration": 5,
    "start_time": "2021-08-08T16:39:53.576Z"
   },
   {
    "duration": 9,
    "start_time": "2021-08-08T16:39:53.583Z"
   },
   {
    "duration": 10,
    "start_time": "2021-08-08T16:39:53.595Z"
   },
   {
    "duration": 971,
    "start_time": "2021-08-08T16:39:53.607Z"
   },
   {
    "duration": 16,
    "start_time": "2021-08-08T16:39:54.580Z"
   },
   {
    "duration": 19,
    "start_time": "2021-08-08T16:39:54.599Z"
   },
   {
    "duration": 26,
    "start_time": "2021-08-08T16:39:54.621Z"
   },
   {
    "duration": 6,
    "start_time": "2021-08-08T16:39:54.663Z"
   },
   {
    "duration": 11,
    "start_time": "2021-08-08T16:42:11.975Z"
   }
  ],
  "kernelspec": {
   "display_name": "Python 3",
   "language": "python",
   "name": "python3"
  },
  "language_info": {
   "codemirror_mode": {
    "name": "ipython",
    "version": 3
   },
   "file_extension": ".py",
   "mimetype": "text/x-python",
   "name": "python",
   "nbconvert_exporter": "python",
   "pygments_lexer": "ipython3",
   "version": "3.8.8"
  },
  "toc": {
   "base_numbering": 1,
   "nav_menu": {},
   "number_sections": true,
   "sideBar": true,
   "skip_h1_title": true,
   "title_cell": "Table of Contents",
   "title_sidebar": "Contents",
   "toc_cell": false,
   "toc_position": {},
   "toc_section_display": true,
   "toc_window_display": false
  }
 },
 "nbformat": 4,
 "nbformat_minor": 2
}
