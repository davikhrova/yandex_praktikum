{
 "cells": [
  {
   "cell_type": "markdown",
   "metadata": {},
   "source": [
    "# Выявление закономерностей, определяющих успех компьютерных игр."
   ]
  },
  {
   "cell_type": "markdown",
   "metadata": {},
   "source": [
    "Из открытых источников доступны исторические данные о продажах игр, оценки пользователей и экспертов, жанры и платформы (например, Xbox или PlayStation). Необходимо выявить определяющие успешность игры закономерности. Это позволит сделать ставку на потенциально популярный продукт и спланировать рекламные кампании."
   ]
  },
  {
   "cell_type": "markdown",
   "metadata": {},
   "source": [
    "## Изучение данных"
   ]
  },
  {
   "cell_type": "markdown",
   "metadata": {},
   "source": [
    "Импорт библиотек, датасета и общая информация:"
   ]
  },
  {
   "cell_type": "code",
   "execution_count": 1,
   "metadata": {},
   "outputs": [],
   "source": [
    "import pandas as pd\n",
    "import matplotlib.pyplot as plt \n",
    "import seaborn as sns\n",
    "import math\n",
    "pd.options.display.max_columns = None\n",
    "import numpy as np\n",
    "from scipy import stats as st\n",
    "\n",
    "data = pd.read_csv('/datasets/games.csv')"
   ]
  },
  {
   "cell_type": "code",
   "execution_count": 2,
   "metadata": {},
   "outputs": [
    {
     "name": "stdout",
     "output_type": "stream",
     "text": [
      "<class 'pandas.core.frame.DataFrame'>\n",
      "RangeIndex: 16715 entries, 0 to 16714\n",
      "Data columns (total 11 columns):\n",
      "Name               16713 non-null object\n",
      "Platform           16715 non-null object\n",
      "Year_of_Release    16446 non-null float64\n",
      "Genre              16713 non-null object\n",
      "NA_sales           16715 non-null float64\n",
      "EU_sales           16715 non-null float64\n",
      "JP_sales           16715 non-null float64\n",
      "Other_sales        16715 non-null float64\n",
      "Critic_Score       8137 non-null float64\n",
      "User_Score         10014 non-null object\n",
      "Rating             9949 non-null object\n",
      "dtypes: float64(6), object(5)\n",
      "memory usage: 1.4+ MB\n"
     ]
    }
   ],
   "source": [
    "data.info()"
   ]
  },
  {
   "cell_type": "code",
   "execution_count": 3,
   "metadata": {},
   "outputs": [
    {
     "data": {
      "text/html": [
       "<div>\n",
       "<style scoped>\n",
       "    .dataframe tbody tr th:only-of-type {\n",
       "        vertical-align: middle;\n",
       "    }\n",
       "\n",
       "    .dataframe tbody tr th {\n",
       "        vertical-align: top;\n",
       "    }\n",
       "\n",
       "    .dataframe thead th {\n",
       "        text-align: right;\n",
       "    }\n",
       "</style>\n",
       "<table border=\"1\" class=\"dataframe\">\n",
       "  <thead>\n",
       "    <tr style=\"text-align: right;\">\n",
       "      <th></th>\n",
       "      <th>Year_of_Release</th>\n",
       "      <th>NA_sales</th>\n",
       "      <th>EU_sales</th>\n",
       "      <th>JP_sales</th>\n",
       "      <th>Other_sales</th>\n",
       "      <th>Critic_Score</th>\n",
       "    </tr>\n",
       "  </thead>\n",
       "  <tbody>\n",
       "    <tr>\n",
       "      <td>count</td>\n",
       "      <td>16446.000000</td>\n",
       "      <td>16715.000000</td>\n",
       "      <td>16715.000000</td>\n",
       "      <td>16715.000000</td>\n",
       "      <td>16715.000000</td>\n",
       "      <td>8137.000000</td>\n",
       "    </tr>\n",
       "    <tr>\n",
       "      <td>mean</td>\n",
       "      <td>2006.484616</td>\n",
       "      <td>0.263377</td>\n",
       "      <td>0.145060</td>\n",
       "      <td>0.077617</td>\n",
       "      <td>0.047342</td>\n",
       "      <td>68.967679</td>\n",
       "    </tr>\n",
       "    <tr>\n",
       "      <td>std</td>\n",
       "      <td>5.877050</td>\n",
       "      <td>0.813604</td>\n",
       "      <td>0.503339</td>\n",
       "      <td>0.308853</td>\n",
       "      <td>0.186731</td>\n",
       "      <td>13.938165</td>\n",
       "    </tr>\n",
       "    <tr>\n",
       "      <td>min</td>\n",
       "      <td>1980.000000</td>\n",
       "      <td>0.000000</td>\n",
       "      <td>0.000000</td>\n",
       "      <td>0.000000</td>\n",
       "      <td>0.000000</td>\n",
       "      <td>13.000000</td>\n",
       "    </tr>\n",
       "    <tr>\n",
       "      <td>25%</td>\n",
       "      <td>2003.000000</td>\n",
       "      <td>0.000000</td>\n",
       "      <td>0.000000</td>\n",
       "      <td>0.000000</td>\n",
       "      <td>0.000000</td>\n",
       "      <td>60.000000</td>\n",
       "    </tr>\n",
       "    <tr>\n",
       "      <td>50%</td>\n",
       "      <td>2007.000000</td>\n",
       "      <td>0.080000</td>\n",
       "      <td>0.020000</td>\n",
       "      <td>0.000000</td>\n",
       "      <td>0.010000</td>\n",
       "      <td>71.000000</td>\n",
       "    </tr>\n",
       "    <tr>\n",
       "      <td>75%</td>\n",
       "      <td>2010.000000</td>\n",
       "      <td>0.240000</td>\n",
       "      <td>0.110000</td>\n",
       "      <td>0.040000</td>\n",
       "      <td>0.030000</td>\n",
       "      <td>79.000000</td>\n",
       "    </tr>\n",
       "    <tr>\n",
       "      <td>max</td>\n",
       "      <td>2016.000000</td>\n",
       "      <td>41.360000</td>\n",
       "      <td>28.960000</td>\n",
       "      <td>10.220000</td>\n",
       "      <td>10.570000</td>\n",
       "      <td>98.000000</td>\n",
       "    </tr>\n",
       "  </tbody>\n",
       "</table>\n",
       "</div>"
      ],
      "text/plain": [
       "       Year_of_Release      NA_sales      EU_sales      JP_sales  \\\n",
       "count     16446.000000  16715.000000  16715.000000  16715.000000   \n",
       "mean       2006.484616      0.263377      0.145060      0.077617   \n",
       "std           5.877050      0.813604      0.503339      0.308853   \n",
       "min        1980.000000      0.000000      0.000000      0.000000   \n",
       "25%        2003.000000      0.000000      0.000000      0.000000   \n",
       "50%        2007.000000      0.080000      0.020000      0.000000   \n",
       "75%        2010.000000      0.240000      0.110000      0.040000   \n",
       "max        2016.000000     41.360000     28.960000     10.220000   \n",
       "\n",
       "        Other_sales  Critic_Score  \n",
       "count  16715.000000   8137.000000  \n",
       "mean       0.047342     68.967679  \n",
       "std        0.186731     13.938165  \n",
       "min        0.000000     13.000000  \n",
       "25%        0.000000     60.000000  \n",
       "50%        0.010000     71.000000  \n",
       "75%        0.030000     79.000000  \n",
       "max       10.570000     98.000000  "
      ]
     },
     "execution_count": 3,
     "metadata": {},
     "output_type": "execute_result"
    }
   ],
   "source": [
    "data.describe()"
   ]
  },
  {
   "cell_type": "code",
   "execution_count": 4,
   "metadata": {},
   "outputs": [
    {
     "data": {
      "text/html": [
       "<div>\n",
       "<style scoped>\n",
       "    .dataframe tbody tr th:only-of-type {\n",
       "        vertical-align: middle;\n",
       "    }\n",
       "\n",
       "    .dataframe tbody tr th {\n",
       "        vertical-align: top;\n",
       "    }\n",
       "\n",
       "    .dataframe thead th {\n",
       "        text-align: right;\n",
       "    }\n",
       "</style>\n",
       "<table border=\"1\" class=\"dataframe\">\n",
       "  <thead>\n",
       "    <tr style=\"text-align: right;\">\n",
       "      <th></th>\n",
       "      <th>Name</th>\n",
       "      <th>Platform</th>\n",
       "      <th>Year_of_Release</th>\n",
       "      <th>Genre</th>\n",
       "      <th>NA_sales</th>\n",
       "      <th>EU_sales</th>\n",
       "      <th>JP_sales</th>\n",
       "      <th>Other_sales</th>\n",
       "      <th>Critic_Score</th>\n",
       "      <th>User_Score</th>\n",
       "      <th>Rating</th>\n",
       "    </tr>\n",
       "  </thead>\n",
       "  <tbody>\n",
       "    <tr>\n",
       "      <td>0</td>\n",
       "      <td>Wii Sports</td>\n",
       "      <td>Wii</td>\n",
       "      <td>2006.0</td>\n",
       "      <td>Sports</td>\n",
       "      <td>41.36</td>\n",
       "      <td>28.96</td>\n",
       "      <td>3.77</td>\n",
       "      <td>8.45</td>\n",
       "      <td>76.0</td>\n",
       "      <td>8</td>\n",
       "      <td>E</td>\n",
       "    </tr>\n",
       "    <tr>\n",
       "      <td>1</td>\n",
       "      <td>Super Mario Bros.</td>\n",
       "      <td>NES</td>\n",
       "      <td>1985.0</td>\n",
       "      <td>Platform</td>\n",
       "      <td>29.08</td>\n",
       "      <td>3.58</td>\n",
       "      <td>6.81</td>\n",
       "      <td>0.77</td>\n",
       "      <td>NaN</td>\n",
       "      <td>NaN</td>\n",
       "      <td>NaN</td>\n",
       "    </tr>\n",
       "    <tr>\n",
       "      <td>2</td>\n",
       "      <td>Mario Kart Wii</td>\n",
       "      <td>Wii</td>\n",
       "      <td>2008.0</td>\n",
       "      <td>Racing</td>\n",
       "      <td>15.68</td>\n",
       "      <td>12.76</td>\n",
       "      <td>3.79</td>\n",
       "      <td>3.29</td>\n",
       "      <td>82.0</td>\n",
       "      <td>8.3</td>\n",
       "      <td>E</td>\n",
       "    </tr>\n",
       "    <tr>\n",
       "      <td>3</td>\n",
       "      <td>Wii Sports Resort</td>\n",
       "      <td>Wii</td>\n",
       "      <td>2009.0</td>\n",
       "      <td>Sports</td>\n",
       "      <td>15.61</td>\n",
       "      <td>10.93</td>\n",
       "      <td>3.28</td>\n",
       "      <td>2.95</td>\n",
       "      <td>80.0</td>\n",
       "      <td>8</td>\n",
       "      <td>E</td>\n",
       "    </tr>\n",
       "    <tr>\n",
       "      <td>4</td>\n",
       "      <td>Pokemon Red/Pokemon Blue</td>\n",
       "      <td>GB</td>\n",
       "      <td>1996.0</td>\n",
       "      <td>Role-Playing</td>\n",
       "      <td>11.27</td>\n",
       "      <td>8.89</td>\n",
       "      <td>10.22</td>\n",
       "      <td>1.00</td>\n",
       "      <td>NaN</td>\n",
       "      <td>NaN</td>\n",
       "      <td>NaN</td>\n",
       "    </tr>\n",
       "  </tbody>\n",
       "</table>\n",
       "</div>"
      ],
      "text/plain": [
       "                       Name Platform  Year_of_Release         Genre  NA_sales  \\\n",
       "0                Wii Sports      Wii           2006.0        Sports     41.36   \n",
       "1         Super Mario Bros.      NES           1985.0      Platform     29.08   \n",
       "2            Mario Kart Wii      Wii           2008.0        Racing     15.68   \n",
       "3         Wii Sports Resort      Wii           2009.0        Sports     15.61   \n",
       "4  Pokemon Red/Pokemon Blue       GB           1996.0  Role-Playing     11.27   \n",
       "\n",
       "   EU_sales  JP_sales  Other_sales  Critic_Score User_Score Rating  \n",
       "0     28.96      3.77         8.45          76.0          8      E  \n",
       "1      3.58      6.81         0.77           NaN        NaN    NaN  \n",
       "2     12.76      3.79         3.29          82.0        8.3      E  \n",
       "3     10.93      3.28         2.95          80.0          8      E  \n",
       "4      8.89     10.22         1.00           NaN        NaN    NaN  "
      ]
     },
     "execution_count": 4,
     "metadata": {},
     "output_type": "execute_result"
    }
   ],
   "source": [
    "data.head()"
   ]
  },
  {
   "cell_type": "markdown",
   "metadata": {},
   "source": [
    "**Выводы:**\n",
    "\n",
    "Каких-либо аномально маленьких или больших значений в таблице не обнаружено.\n",
    "Присутствуют пропуски по столбцам \"Название игры\", \"Год выхода\", \"Жанр\", оценки критиков и пользователей, а также \"Рейтинг\".\n",
    "Требуется замена типов данных в столбце \"Год выхода\", \"Оценка пользователя\"."
   ]
  },
  {
   "cell_type": "markdown",
   "metadata": {},
   "source": [
    "## Предобработка данных"
   ]
  },
  {
   "cell_type": "markdown",
   "metadata": {},
   "source": [
    "### Подготовка данных"
   ]
  },
  {
   "cell_type": "markdown",
   "metadata": {},
   "source": [
    "Изменю регистр в названиях столбцов:"
   ]
  },
  {
   "cell_type": "code",
   "execution_count": 5,
   "metadata": {},
   "outputs": [],
   "source": [
    "#изменение регистра в названиях столбца\n",
    "data.columns = data.columns.str.lower()"
   ]
  },
  {
   "cell_type": "markdown",
   "metadata": {},
   "source": [
    "### Изменение типов данных"
   ]
  },
  {
   "cell_type": "markdown",
   "metadata": {},
   "source": [
    "Изменю типы данных по столбцам \"year_of_release\" и 'user_score'."
   ]
  },
  {
   "cell_type": "code",
   "execution_count": 6,
   "metadata": {},
   "outputs": [],
   "source": [
    "data['year_of_release'] = data['year_of_release'].astype('Int64')"
   ]
  },
  {
   "cell_type": "markdown",
   "metadata": {},
   "source": [
    "Аббревиатура'tbd' - to be determined, подлежит уточнению, эти значения заменин на NaN"
   ]
  },
  {
   "cell_type": "code",
   "execution_count": 7,
   "metadata": {},
   "outputs": [],
   "source": [
    "data['user_score'] = data['user_score'].replace(\"tbd\", np.NaN)\n",
    "data['user_score'] = data['user_score'].astype('float')"
   ]
  },
  {
   "cell_type": "code",
   "execution_count": 8,
   "metadata": {},
   "outputs": [
    {
     "name": "stdout",
     "output_type": "stream",
     "text": [
      "<class 'pandas.core.frame.DataFrame'>\n",
      "RangeIndex: 16715 entries, 0 to 16714\n",
      "Data columns (total 11 columns):\n",
      "name               16713 non-null object\n",
      "platform           16715 non-null object\n",
      "year_of_release    16446 non-null Int64\n",
      "genre              16713 non-null object\n",
      "na_sales           16715 non-null float64\n",
      "eu_sales           16715 non-null float64\n",
      "jp_sales           16715 non-null float64\n",
      "other_sales        16715 non-null float64\n",
      "critic_score       8137 non-null float64\n",
      "user_score         7590 non-null float64\n",
      "rating             9949 non-null object\n",
      "dtypes: Int64(1), float64(6), object(4)\n",
      "memory usage: 1.4+ MB\n"
     ]
    }
   ],
   "source": [
    "# для проверки вывожу общую информацию о датафрейме \n",
    "data.info()"
   ]
  },
  {
   "cell_type": "markdown",
   "metadata": {},
   "source": [
    "### Обработка пропусков"
   ]
  },
  {
   "cell_type": "markdown",
   "metadata": {},
   "source": [
    "Пропуски по названию игры заполнить нельзя, удаляю их"
   ]
  },
  {
   "cell_type": "code",
   "execution_count": 9,
   "metadata": {},
   "outputs": [
    {
     "name": "stdout",
     "output_type": "stream",
     "text": [
      "<class 'pandas.core.frame.DataFrame'>\n",
      "Int64Index: 16444 entries, 0 to 16714\n",
      "Data columns (total 11 columns):\n",
      "name               16444 non-null object\n",
      "platform           16444 non-null object\n",
      "year_of_release    16444 non-null Int64\n",
      "genre              16444 non-null object\n",
      "na_sales           16444 non-null float64\n",
      "eu_sales           16444 non-null float64\n",
      "jp_sales           16444 non-null float64\n",
      "other_sales        16444 non-null float64\n",
      "critic_score       7983 non-null float64\n",
      "user_score         7463 non-null float64\n",
      "rating             9768 non-null object\n",
      "dtypes: Int64(1), float64(6), object(4)\n",
      "memory usage: 1.5+ MB\n"
     ]
    }
   ],
   "source": [
    "data.dropna(subset = ['name'], inplace = True)\n",
    "data.dropna(subset = ['year_of_release'], inplace = True)\n",
    "data.info()"
   ]
  },
  {
   "cell_type": "markdown",
   "metadata": {},
   "source": [
    "Пропуск в названии игры и жанре был симметричен, оба пропуска удалены."
   ]
  },
  {
   "cell_type": "markdown",
   "metadata": {},
   "source": [
    "Пропуски нельзя заполнить в следующих столбцах:\n",
    "\n",
    "\n",
    "1. critic_score\n",
    "2. user_score        \n",
    "3. rating\n",
    "\n",
    "Заполнение данных какими-либо значениями может привести к искажению результатов исследования, оставляю строки в том же виде."
   ]
  },
  {
   "cell_type": "markdown",
   "metadata": {},
   "source": [
    "### Проверка дубликатов:"
   ]
  },
  {
   "cell_type": "code",
   "execution_count": 10,
   "metadata": {},
   "outputs": [
    {
     "data": {
      "text/plain": [
       "0"
      ]
     },
     "execution_count": 10,
     "metadata": {},
     "output_type": "execute_result"
    }
   ],
   "source": [
    "data.duplicated().sum()"
   ]
  },
  {
   "cell_type": "markdown",
   "metadata": {},
   "source": [
    "Дублирующихся строк нет. "
   ]
  },
  {
   "cell_type": "markdown",
   "metadata": {},
   "source": [
    "### Расчёт дополнительных данных"
   ]
  },
  {
   "cell_type": "markdown",
   "metadata": {},
   "source": [
    "Добавляю столбец с суммарными продажами во всех регионах:"
   ]
  },
  {
   "cell_type": "code",
   "execution_count": 11,
   "metadata": {},
   "outputs": [
    {
     "name": "stdout",
     "output_type": "stream",
     "text": [
      "<class 'pandas.core.frame.DataFrame'>\n",
      "Int64Index: 16444 entries, 0 to 16714\n",
      "Data columns (total 12 columns):\n",
      "name               16444 non-null object\n",
      "platform           16444 non-null object\n",
      "year_of_release    16444 non-null Int64\n",
      "genre              16444 non-null object\n",
      "na_sales           16444 non-null float64\n",
      "eu_sales           16444 non-null float64\n",
      "jp_sales           16444 non-null float64\n",
      "other_sales        16444 non-null float64\n",
      "critic_score       7983 non-null float64\n",
      "user_score         7463 non-null float64\n",
      "rating             9768 non-null object\n",
      "sales              16444 non-null float64\n",
      "dtypes: Int64(1), float64(7), object(4)\n",
      "memory usage: 1.6+ MB\n"
     ]
    }
   ],
   "source": [
    "data['sales'] = data[['na_sales','eu_sales','jp_sales','other_sales']].sum(axis=1)\n",
    "data.info()"
   ]
  },
  {
   "cell_type": "code",
   "execution_count": 12,
   "metadata": {},
   "outputs": [
    {
     "data": {
      "text/html": [
       "<div>\n",
       "<style scoped>\n",
       "    .dataframe tbody tr th:only-of-type {\n",
       "        vertical-align: middle;\n",
       "    }\n",
       "\n",
       "    .dataframe tbody tr th {\n",
       "        vertical-align: top;\n",
       "    }\n",
       "\n",
       "    .dataframe thead th {\n",
       "        text-align: right;\n",
       "    }\n",
       "</style>\n",
       "<table border=\"1\" class=\"dataframe\">\n",
       "  <thead>\n",
       "    <tr style=\"text-align: right;\">\n",
       "      <th></th>\n",
       "      <th>name</th>\n",
       "      <th>platform</th>\n",
       "      <th>year_of_release</th>\n",
       "      <th>genre</th>\n",
       "      <th>na_sales</th>\n",
       "      <th>eu_sales</th>\n",
       "      <th>jp_sales</th>\n",
       "      <th>other_sales</th>\n",
       "      <th>critic_score</th>\n",
       "      <th>user_score</th>\n",
       "      <th>rating</th>\n",
       "      <th>sales</th>\n",
       "    </tr>\n",
       "  </thead>\n",
       "  <tbody>\n",
       "    <tr>\n",
       "      <td>0</td>\n",
       "      <td>Wii Sports</td>\n",
       "      <td>Wii</td>\n",
       "      <td>2006</td>\n",
       "      <td>Sports</td>\n",
       "      <td>41.36</td>\n",
       "      <td>28.96</td>\n",
       "      <td>3.77</td>\n",
       "      <td>8.45</td>\n",
       "      <td>76.0</td>\n",
       "      <td>8.0</td>\n",
       "      <td>E</td>\n",
       "      <td>82.54</td>\n",
       "    </tr>\n",
       "    <tr>\n",
       "      <td>1</td>\n",
       "      <td>Super Mario Bros.</td>\n",
       "      <td>NES</td>\n",
       "      <td>1985</td>\n",
       "      <td>Platform</td>\n",
       "      <td>29.08</td>\n",
       "      <td>3.58</td>\n",
       "      <td>6.81</td>\n",
       "      <td>0.77</td>\n",
       "      <td>NaN</td>\n",
       "      <td>NaN</td>\n",
       "      <td>NaN</td>\n",
       "      <td>40.24</td>\n",
       "    </tr>\n",
       "    <tr>\n",
       "      <td>2</td>\n",
       "      <td>Mario Kart Wii</td>\n",
       "      <td>Wii</td>\n",
       "      <td>2008</td>\n",
       "      <td>Racing</td>\n",
       "      <td>15.68</td>\n",
       "      <td>12.76</td>\n",
       "      <td>3.79</td>\n",
       "      <td>3.29</td>\n",
       "      <td>82.0</td>\n",
       "      <td>8.3</td>\n",
       "      <td>E</td>\n",
       "      <td>35.52</td>\n",
       "    </tr>\n",
       "    <tr>\n",
       "      <td>3</td>\n",
       "      <td>Wii Sports Resort</td>\n",
       "      <td>Wii</td>\n",
       "      <td>2009</td>\n",
       "      <td>Sports</td>\n",
       "      <td>15.61</td>\n",
       "      <td>10.93</td>\n",
       "      <td>3.28</td>\n",
       "      <td>2.95</td>\n",
       "      <td>80.0</td>\n",
       "      <td>8.0</td>\n",
       "      <td>E</td>\n",
       "      <td>32.77</td>\n",
       "    </tr>\n",
       "    <tr>\n",
       "      <td>4</td>\n",
       "      <td>Pokemon Red/Pokemon Blue</td>\n",
       "      <td>GB</td>\n",
       "      <td>1996</td>\n",
       "      <td>Role-Playing</td>\n",
       "      <td>11.27</td>\n",
       "      <td>8.89</td>\n",
       "      <td>10.22</td>\n",
       "      <td>1.00</td>\n",
       "      <td>NaN</td>\n",
       "      <td>NaN</td>\n",
       "      <td>NaN</td>\n",
       "      <td>31.38</td>\n",
       "    </tr>\n",
       "  </tbody>\n",
       "</table>\n",
       "</div>"
      ],
      "text/plain": [
       "                       name platform  year_of_release         genre  na_sales  \\\n",
       "0                Wii Sports      Wii             2006        Sports     41.36   \n",
       "1         Super Mario Bros.      NES             1985      Platform     29.08   \n",
       "2            Mario Kart Wii      Wii             2008        Racing     15.68   \n",
       "3         Wii Sports Resort      Wii             2009        Sports     15.61   \n",
       "4  Pokemon Red/Pokemon Blue       GB             1996  Role-Playing     11.27   \n",
       "\n",
       "   eu_sales  jp_sales  other_sales  critic_score  user_score rating  sales  \n",
       "0     28.96      3.77         8.45          76.0         8.0      E  82.54  \n",
       "1      3.58      6.81         0.77           NaN         NaN    NaN  40.24  \n",
       "2     12.76      3.79         3.29          82.0         8.3      E  35.52  \n",
       "3     10.93      3.28         2.95          80.0         8.0      E  32.77  \n",
       "4      8.89     10.22         1.00           NaN         NaN    NaN  31.38  "
      ]
     },
     "execution_count": 12,
     "metadata": {},
     "output_type": "execute_result"
    }
   ],
   "source": [
    "data.head()"
   ]
  },
  {
   "cell_type": "markdown",
   "metadata": {},
   "source": [
    "## Исследовательский анализ данных"
   ]
  },
  {
   "cell_type": "markdown",
   "metadata": {},
   "source": [
    "### Сколько игр выпускалось в разные года?"
   ]
  },
  {
   "cell_type": "markdown",
   "metadata": {},
   "source": [
    "Построю графики по количеству игр выходящих в год и суммарные продажи."
   ]
  },
  {
   "cell_type": "code",
   "execution_count": 13,
   "metadata": {},
   "outputs": [
    {
     "data": {
      "text/plain": [
       "<matplotlib.axes._subplots.AxesSubplot at 0x7f306802ddd0>"
      ]
     },
     "execution_count": 13,
     "metadata": {},
     "output_type": "execute_result"
    },
    {
     "data": {
      "image/png": "[encoded data removed]",
      "text/plain": [
       "<Figure size 1080x360 with 1 Axes>"
      ]
     },
     "metadata": {
      "needs_background": "light"
     },
     "output_type": "display_data"
    }
   ],
   "source": [
    "#игр в год\n",
    "games_in_years = data.groupby('year_of_release')['name'].count()\n",
    "games_in_years.plot(grid=True, figsize=(15, 15), xlim=(1980,2016), title = 'Количество вышедших игр и суммарные продажи за год')\n",
    "games_in_years_sales = data.groupby(['year_of_release'])['sales'].sum()\n",
    "#суммарные продажи в год\n",
    "games_in_years_sales.plot(grid=True, figsize=(15, 5), xlim=(1980,2016))"
   ]
  },
  {
   "cell_type": "markdown",
   "metadata": {},
   "source": [
    "Из графиков можно сделать вывод, что продажи напрямую зависят от количества выходящих игр.\n",
    "\n",
    "Вместе с тем, есть года, например, 1991, 1995, 2015, когда количество вышедших игр выросло, а продажи были ниже, чем в остальные периоды. \n"
   ]
  },
  {
   "cell_type": "markdown",
   "metadata": {},
   "source": [
    "### Как меняются продажи по платформам?  Характерные сроки появления новых и исчезновения старых платформ. Выбор периода для исследования."
   ]
  },
  {
   "cell_type": "markdown",
   "metadata": {},
   "source": [
    "Сгруппирую данные по платформам и построю график:"
   ]
  },
  {
   "cell_type": "code",
   "execution_count": 14,
   "metadata": {
    "scrolled": false
   },
   "outputs": [
    {
     "data": {
      "text/plain": [
       "<matplotlib.axes._subplots.AxesSubplot at 0x7f305ff75850>"
      ]
     },
     "execution_count": 14,
     "metadata": {},
     "output_type": "execute_result"
    },
    {
     "data": {
      "image/png": "[encoded data removed]",
      "text/plain": [
       "<Figure size 1080x360 with 1 Axes>"
      ]
     },
     "metadata": {
      "needs_background": "light"
     },
     "output_type": "display_data"
    }
   ],
   "source": [
    "sales_platform = data.groupby('platform')['sales'].sum().sort_values(ascending = False)\n",
    "sales_platform.plot(kind = 'bar', grid=True, figsize=(15, 5), title = 'Суммарные продажи на платформах')"
   ]
  },
  {
   "cell_type": "markdown",
   "metadata": {},
   "source": [
    "Самые популярные игровые платформы за весь период это PS2, X360, WII, PS3, DS, PS."
   ]
  },
  {
   "cell_type": "markdown",
   "metadata": {},
   "source": [
    "Посмотрим продажи по этим платформам за время их существования:"
   ]
  },
  {
   "cell_type": "code",
   "execution_count": 15,
   "metadata": {},
   "outputs": [
    {
     "data": {
      "text/plain": [
       "Text(0, 0.5, 'Уровень продаж')"
      ]
     },
     "execution_count": 15,
     "metadata": {},
     "output_type": "execute_result"
    },
    {
     "data": {
      "image/png": "[encoded data removed]",
      "text/plain": [
       "<Figure size 1080x504 with 1 Axes>"
      ]
     },
     "metadata": {
      "needs_background": "light"
     },
     "output_type": "display_data"
    }
   ],
   "source": [
    "top_platforms = ['PS2','X360','Wii','PS3','DS','PS']\n",
    "sales_platforms_years = data.query('platform in @top_platforms')\n",
    "top_platforms_sales = sales_platforms_years.pivot_table(index=['platform','year_of_release'], values = 'sales', aggfunc = 'sum').reset_index()\n",
    "plt.figure(figsize=(15, 7))\n",
    "sns.lineplot(x = 'year_of_release', y ='sales', hue='platform', data=top_platforms_sales)\n",
    "plt.xlabel('Год',fontsize=16)\n",
    "plt.ylabel('Уровень продаж',fontsize=16)"
   ]
  },
  {
   "cell_type": "code",
   "execution_count": 16,
   "metadata": {},
   "outputs": [
    {
     "data": {
      "image/png": "[encoded data removed]",
      "text/plain": [
       "<Figure size 936x288 with 1 Axes>"
      ]
     },
     "metadata": {
      "needs_background": "light"
     },
     "output_type": "display_data"
    },
    {
     "data": {
      "image/png": "[encoded data removed]",
      "text/plain": [
       "<Figure size 936x288 with 1 Axes>"
      ]
     },
     "metadata": {
      "needs_background": "light"
     },
     "output_type": "display_data"
    },
    {
     "data": {
      "image/png": "[encoded data removed]",
      "text/plain": [
       "<Figure size 936x288 with 1 Axes>"
      ]
     },
     "metadata": {
      "needs_background": "light"
     },
     "output_type": "display_data"
    },
    {
     "data": {
      "image/png": "[encoded data removed]",
      "text/plain": [
       "<Figure size 936x288 with 1 Axes>"
      ]
     },
     "metadata": {
      "needs_background": "light"
     },
     "output_type": "display_data"
    },
    {
     "data": {
      "image/png": "[encoded data removed]",
      "text/plain": [
       "<Figure size 936x288 with 1 Axes>"
      ]
     },
     "metadata": {
      "needs_background": "light"
     },
     "output_type": "display_data"
    },
    {
     "data": {
      "image/png": "[encoded data removed]",
      "text/plain": [
       "<Figure size 936x288 with 1 Axes>"
      ]
     },
     "metadata": {
      "needs_background": "light"
     },
     "output_type": "display_data"
    }
   ],
   "source": [
    "for platform in top_platforms:\n",
    "    data[data['platform'] == platform].pivot_table(index='year_of_release', values='sales', aggfunc='sum').plot(\n",
    "        kind='bar', figsize=(13,4))\n",
    "    plt.title(platform)"
   ]
  },
  {
   "cell_type": "markdown",
   "metadata": {},
   "source": [
    "Срок \"жизни\" платформы составляет примерно 10 лет, но продажи на платформах растут, как правило, около 6 лет, затем происходит спад.\n",
    "\n",
    "Буду использовтаь данные для прогноза за последние 6 лет, с 2010 года."
   ]
  },
  {
   "cell_type": "code",
   "execution_count": 17,
   "metadata": {},
   "outputs": [],
   "source": [
    "data= data[data['year_of_release'] >= 2010]"
   ]
  },
  {
   "cell_type": "markdown",
   "metadata": {},
   "source": [
    "###  Какие платформы растут или падают? Потенциально прибыльные платформы. \"Ящик с усами\" для глобальных продаж."
   ]
  },
  {
   "cell_type": "markdown",
   "metadata": {},
   "source": [
    "Сгруппирую данные в сводную таблицу для построения графика:"
   ]
  },
  {
   "cell_type": "code",
   "execution_count": 18,
   "metadata": {},
   "outputs": [],
   "source": [
    "years_sales = data.pivot_table(index=['platform','year_of_release'], values = 'sales', aggfunc = 'sum').reset_index()"
   ]
  },
  {
   "cell_type": "code",
   "execution_count": 19,
   "metadata": {},
   "outputs": [
    {
     "data": {
      "text/plain": [
       "Text(0, 0.5, 'Уровень продаж')"
      ]
     },
     "execution_count": 19,
     "metadata": {},
     "output_type": "execute_result"
    },
    {
     "data": {
      "image/png": "[encoded data removed]",
      "text/plain": [
       "<Figure size 1080x504 with 1 Axes>"
      ]
     },
     "metadata": {
      "needs_background": "light"
     },
     "output_type": "display_data"
    }
   ],
   "source": [
    "plt.figure(figsize=(15, 7))\n",
    "sns.lineplot(x = 'year_of_release', y ='sales', hue='platform', data=years_sales)\n",
    "plt.xlabel('Год',fontsize=16)\n",
    "plt.ylabel('Уровень продаж',fontsize=16)"
   ]
  },
  {
   "cell_type": "markdown",
   "metadata": {},
   "source": [
    "Из графика можно сделать вывод, что продажи на всех платформах падают.\n",
    "\n",
    "Но лидерами остаются такие платформы, как PS4, XOne, 3DS.\n",
    "\n",
    "Остальные платформы остаются примерно на одном уровне."
   ]
  },
  {
   "cell_type": "markdown",
   "metadata": {},
   "source": [
    " "
   ]
  },
  {
   "cell_type": "markdown",
   "metadata": {},
   "source": [
    "Построю ящик с усами:"
   ]
  },
  {
   "cell_type": "code",
   "execution_count": 20,
   "metadata": {},
   "outputs": [
    {
     "data": {
      "text/plain": [
       "Text(0, 0.5, 'Глобальные продажи')"
      ]
     },
     "execution_count": 20,
     "metadata": {},
     "output_type": "execute_result"
    },
    {
     "data": {
      "image/png": "[encoded data removed]",
      "text/plain": [
       "<Figure size 864x720 with 1 Axes>"
      ]
     },
     "metadata": {
      "needs_background": "light"
     },
     "output_type": "display_data"
    }
   ],
   "source": [
    "plt.figure(figsize=(12,10))\n",
    "sns.boxplot(data=years_sales, x='platform', y='sales')\n",
    "plt.title('Ящик с усами', fontsize=15)\n",
    "plt.xlabel('Платформа', fontsize=12)\n",
    "plt.ylabel('Глобальные продажи',fontsize=12)\n"
   ]
  },
  {
   "cell_type": "markdown",
   "metadata": {},
   "source": [
    "Наибольние медианные продажи у DS, PS3 и X360.\n",
    "\n",
    "Почти у всех платформ есть выбросы - игры, продажи, которых были аномальны большими."
   ]
  },
  {
   "cell_type": "code",
   "execution_count": 21,
   "metadata": {},
   "outputs": [
    {
     "data": {
      "text/plain": [
       "(0, 3)"
      ]
     },
     "execution_count": 21,
     "metadata": {},
     "output_type": "execute_result"
    },
    {
     "data": {
      "image/png": "[encoded data removed]",
      "text/plain": [
       "<Figure size 1008x720 with 1 Axes>"
      ]
     },
     "metadata": {
      "needs_background": "light"
     },
     "output_type": "display_data"
    }
   ],
   "source": [
    "import warnings\n",
    "warnings.filterwarnings('ignore')\n",
    "\n",
    "data.boxplot(column = 'sales', by='platform', figsize=(14,10))\n",
    "\n",
    "plt.ylim(0,3)"
   ]
  },
  {
   "cell_type": "markdown",
   "metadata": {},
   "source": [
    "### Влияние на продажи внутри платформы отзывов покупателей и критиков."
   ]
  },
  {
   "cell_type": "markdown",
   "metadata": {},
   "source": [
    "Для проверки возьмем данные по платформе X360"
   ]
  },
  {
   "cell_type": "code",
   "execution_count": 22,
   "metadata": {},
   "outputs": [],
   "source": [
    "sales_x360 = data.query('platform == \"X360\"')"
   ]
  },
  {
   "cell_type": "code",
   "execution_count": 23,
   "metadata": {},
   "outputs": [
    {
     "data": {
      "text/plain": [
       "<matplotlib.axes._subplots.AxesSubplot at 0x7f305d6c5150>"
      ]
     },
     "execution_count": 23,
     "metadata": {},
     "output_type": "execute_result"
    },
    {
     "data": {
      "image/png": "[encoded data removed]",
      "text/plain": [
       "<Figure size 720x360 with 1 Axes>"
      ]
     },
     "metadata": {
      "needs_background": "light"
     },
     "output_type": "display_data"
    }
   ],
   "source": [
    "fig, ax = plt.subplots(figsize=(10, 5))                         \n",
    "sns.scatterplot(data=sales_x360, x='critic_score', y='sales', alpha=0.7)               "
   ]
  },
  {
   "cell_type": "code",
   "execution_count": 24,
   "metadata": {},
   "outputs": [
    {
     "data": {
      "text/plain": [
       "<matplotlib.axes._subplots.AxesSubplot at 0x7f305d6c1dd0>"
      ]
     },
     "execution_count": 24,
     "metadata": {},
     "output_type": "execute_result"
    },
    {
     "data": {
      "image/png": "[encoded data removed]",
      "text/plain": [
       "<Figure size 720x360 with 1 Axes>"
      ]
     },
     "metadata": {
      "needs_background": "light"
     },
     "output_type": "display_data"
    }
   ],
   "source": [
    "fig, ax = plt.subplots(figsize=(10, 5))     \n",
    "sns.scatterplot(data=sales_x360, x='user_score', y='sales', alpha=0.7) "
   ]
  },
  {
   "cell_type": "code",
   "execution_count": 25,
   "metadata": {},
   "outputs": [
    {
     "name": "stdout",
     "output_type": "stream",
     "text": [
      "Матрица корреляций\n"
     ]
    },
    {
     "data": {
      "text/html": [
       "<div>\n",
       "<style scoped>\n",
       "    .dataframe tbody tr th:only-of-type {\n",
       "        vertical-align: middle;\n",
       "    }\n",
       "\n",
       "    .dataframe tbody tr th {\n",
       "        vertical-align: top;\n",
       "    }\n",
       "\n",
       "    .dataframe thead th {\n",
       "        text-align: right;\n",
       "    }\n",
       "</style>\n",
       "<table border=\"1\" class=\"dataframe\">\n",
       "  <thead>\n",
       "    <tr style=\"text-align: right;\">\n",
       "      <th></th>\n",
       "      <th>sales</th>\n",
       "      <th>critic_score</th>\n",
       "      <th>user_score</th>\n",
       "    </tr>\n",
       "  </thead>\n",
       "  <tbody>\n",
       "    <tr>\n",
       "      <td>sales</td>\n",
       "      <td>1.000000</td>\n",
       "      <td>0.340064</td>\n",
       "      <td>0.066035</td>\n",
       "    </tr>\n",
       "    <tr>\n",
       "      <td>critic_score</td>\n",
       "      <td>0.340064</td>\n",
       "      <td>1.000000</td>\n",
       "      <td>0.597552</td>\n",
       "    </tr>\n",
       "    <tr>\n",
       "      <td>user_score</td>\n",
       "      <td>0.066035</td>\n",
       "      <td>0.597552</td>\n",
       "      <td>1.000000</td>\n",
       "    </tr>\n",
       "  </tbody>\n",
       "</table>\n",
       "</div>"
      ],
      "text/plain": [
       "                 sales  critic_score  user_score\n",
       "sales         1.000000      0.340064    0.066035\n",
       "critic_score  0.340064      1.000000    0.597552\n",
       "user_score    0.066035      0.597552    1.000000"
      ]
     },
     "execution_count": 25,
     "metadata": {},
     "output_type": "execute_result"
    }
   ],
   "source": [
    "print(\"Матрица корреляций\")\n",
    "sales_x360[sales_x360.platform == \"X360\"][['sales', 'critic_score', 'user_score']].corr()"
   ]
  },
  {
   "cell_type": "markdown",
   "metadata": {},
   "source": [
    "Оценка критиков оказывает влияние на продажи, корреляция sales и critic_score равна 0,34.\n",
    "Игры с высокой оценкой критиков продаются лучше, но от оценки пользователей продажи игры не зависят."
   ]
  },
  {
   "cell_type": "markdown",
   "metadata": {},
   "source": [
    "Проверим корреляцию для платформ PS2, X360, WII, PS3, DS, PS."
   ]
  },
  {
   "cell_type": "code",
   "execution_count": 26,
   "metadata": {},
   "outputs": [
    {
     "name": "stdout",
     "output_type": "stream",
     "text": [
      "\n",
      "PS2:\n",
      "Корреляция между отзывами критиков и продажами: nan\n",
      "Корреляция между отзывами пользователей и продажами: 0.07472375514301433\n",
      "\n",
      "X360:\n",
      "Корреляция между отзывами критиков и продажами: 0.3400641581317536\n",
      "Корреляция между отзывами пользователей и продажами: 0.06603518173931955\n",
      "\n",
      "Wii:\n",
      "Корреляция между отзывами критиков и продажами: 0.3105877104820997\n",
      "Корреляция между отзывами пользователей и продажами: 0.14715977707531702\n",
      "\n",
      "PS3:\n",
      "Корреляция между отзывами критиков и продажами: 0.40059409352022496\n",
      "Корреляция между отзывами пользователей и продажами: 0.06509241630476506\n",
      "\n",
      "DS:\n",
      "Корреляция между отзывами критиков и продажами: 0.2801624634637196\n",
      "Корреляция между отзывами пользователей и продажами: 0.25142811742297444\n",
      "\n",
      "PS:\n",
      "Корреляция между отзывами критиков и продажами: nan\n",
      "Корреляция между отзывами пользователей и продажами: nan\n"
     ]
    }
   ],
   "source": [
    "for platform in top_platforms:\n",
    "    print('\\n{0}:'.format(platform))\n",
    "    platform = data[data['platform']== platform]\n",
    "    print('Корреляция между отзывами критиков и продажами:', platform['critic_score'].corr(platform['sales']))\n",
    "    print('Корреляция между отзывами пользователей и продажами:', platform['user_score'].corr(platform['sales']))"
   ]
  },
  {
   "cell_type": "markdown",
   "metadata": {},
   "source": [
    "Для PS данные отсутствуют, так как мы используем для расчёта данные с 2010 года, в 2010 году игры на PS уже не продавались."
   ]
  },
  {
   "cell_type": "markdown",
   "metadata": {},
   "source": [
    "Выводы для остальных платформ аналогичны. \n",
    "\n",
    "Следовательно, для всех платформ характерно среднее влияние отзывов критиков на продажи и отсутствие влияния отзывов пользователей."
   ]
  },
  {
   "cell_type": "markdown",
   "metadata": {},
   "source": [
    "### Распределение игр по жанрам. Самые прибыльные жанры. "
   ]
  },
  {
   "cell_type": "markdown",
   "metadata": {},
   "source": [
    "Посмотрим общее распределение игр по жанрам:"
   ]
  },
  {
   "cell_type": "code",
   "execution_count": 27,
   "metadata": {},
   "outputs": [
    {
     "data": {
      "text/plain": [
       "<matplotlib.axes._subplots.AxesSubplot at 0x7f30e8419950>"
      ]
     },
     "execution_count": 27,
     "metadata": {},
     "output_type": "execute_result"
    },
    {
     "data": {
      "image/png": "[encoded data removed]",
      "text/plain": [
       "<Figure size 1080x720 with 1 Axes>"
      ]
     },
     "metadata": {},
     "output_type": "display_data"
    }
   ],
   "source": [
    "genre = data.groupby('genre')['genre'].count().sort_values(ascending = False)\n",
    "genre.plot(kind = 'pie', figsize=(15, 10), title = 'Рапределение игр по жанрам', autopct=\"%.2f\")"
   ]
  },
  {
   "cell_type": "code",
   "execution_count": 29,
   "metadata": {},
   "outputs": [
    {
     "data": {
      "image/png": "[encoded data removed]",
      "text/plain": [
       "<Figure size 1080x720 with 1 Axes>"
      ]
     },
     "metadata": {},
     "output_type": "display_data"
    }
   ],
   "source": [
    "genre = data.groupby('genre')['sales'].sum().sort_values(ascending = False).plot(kind = 'pie', figsize=(15, 10), title = 'Рапределение продаж по жанрам', autopct=\"%.2f\")"
   ]
  },
  {
   "cell_type": "markdown",
   "metadata": {},
   "source": [
    "Больше всего покупают игры жанра Action, возможно, это связано с тем, что игр данного жанра выпускается больше всех остальных.\n",
    "\n",
    "Затем, игры жанра Sports.\n",
    "Shooter на третьем месте по продажам, хотя игр производится почти в два раза меньше."
   ]
  },
  {
   "cell_type": "code",
   "execution_count": 30,
   "metadata": {},
   "outputs": [
    {
     "data": {
      "text/plain": [
       "Text(0, 0.5, 'Подпись')"
      ]
     },
     "execution_count": 30,
     "metadata": {},
     "output_type": "execute_result"
    },
    {
     "data": {
      "image/png": "[encoded data removed]",
      "text/plain": [
       "<Figure size 720x576 with 1 Axes>"
      ]
     },
     "metadata": {
      "needs_background": "light"
     },
     "output_type": "display_data"
    }
   ],
   "source": [
    "# КОД РЕВЬЮЕРА\n",
    "\n",
    "data.groupby('genre')['sales'].median().sort_values(ascending = False).plot(kind='bar', figsize=(10,8))\n",
    "plt.title('Подпись')\n",
    "plt.xlabel('Подпись')\n",
    "plt.ylabel('Подпись')"
   ]
  },
  {
   "cell_type": "markdown",
   "metadata": {},
   "source": [
    "## Портрет пользователя каждого региона"
   ]
  },
  {
   "cell_type": "markdown",
   "metadata": {},
   "source": [
    "### Посмотрим на самые популярные платформы в регионах:"
   ]
  },
  {
   "cell_type": "code",
   "execution_count": 31,
   "metadata": {},
   "outputs": [],
   "source": [
    "na_platform = data.groupby('platform')['na_sales'].sum().sort_values(ascending = False)\n",
    "eu_platform = data.groupby('platform')['eu_sales'].sum().sort_values(ascending = False)\n",
    "jp_platform = data.groupby('platform')['jp_sales'].sum().sort_values(ascending = False)"
   ]
  },
  {
   "cell_type": "code",
   "execution_count": 32,
   "metadata": {},
   "outputs": [
    {
     "data": {
      "text/plain": [
       "<matplotlib.axes._subplots.AxesSubplot at 0x7f305dc094d0>"
      ]
     },
     "execution_count": 32,
     "metadata": {},
     "output_type": "execute_result"
    },
    {
     "data": {
      "image/png": "[encoded data removed]",
      "text/plain": [
       "<Figure size 1080x360 with 1 Axes>"
      ]
     },
     "metadata": {
      "needs_background": "light"
     },
     "output_type": "display_data"
    }
   ],
   "source": [
    "na_platform.plot(kind = 'bar', figsize=(15, 5), title = 'Популярность платформ в Северной Америке')"
   ]
  },
  {
   "cell_type": "code",
   "execution_count": 33,
   "metadata": {},
   "outputs": [
    {
     "data": {
      "text/plain": [
       "<matplotlib.axes._subplots.AxesSubplot at 0x7f305f535650>"
      ]
     },
     "execution_count": 33,
     "metadata": {},
     "output_type": "execute_result"
    },
    {
     "data": {
      "image/png": "[encoded data removed]",
      "text/plain": [
       "<Figure size 1080x360 with 1 Axes>"
      ]
     },
     "metadata": {
      "needs_background": "light"
     },
     "output_type": "display_data"
    }
   ],
   "source": [
    "eu_platform.plot(kind = 'bar', figsize=(15, 5), title = 'Популярность платформ в Европе')"
   ]
  },
  {
   "cell_type": "code",
   "execution_count": 34,
   "metadata": {},
   "outputs": [
    {
     "data": {
      "text/plain": [
       "<matplotlib.axes._subplots.AxesSubplot at 0x7f305f479dd0>"
      ]
     },
     "execution_count": 34,
     "metadata": {},
     "output_type": "execute_result"
    },
    {
     "data": {
      "image/png": "[encoded data removed]",
      "text/plain": [
       "<Figure size 1080x360 with 1 Axes>"
      ]
     },
     "metadata": {
      "needs_background": "light"
     },
     "output_type": "display_data"
    }
   ],
   "source": [
    "jp_platform.plot(kind = 'bar', figsize=(15, 5), title = 'Популярность платформ в Японии')"
   ]
  },
  {
   "cell_type": "markdown",
   "metadata": {},
   "source": [
    "Среди пользователей Северной Америки самая популярная платформа Х360.\n",
    "\n",
    "Для европейцев PS3, а у японцев 3DS."
   ]
  },
  {
   "cell_type": "markdown",
   "metadata": {},
   "source": [
    "### Самые популярные жанры в регионах:"
   ]
  },
  {
   "cell_type": "code",
   "execution_count": 35,
   "metadata": {},
   "outputs": [],
   "source": [
    "na_genre = data.groupby('genre')['na_sales'].sum().sort_values(ascending = False)\n",
    "eu_genre = data.groupby('genre')['eu_sales'].sum().sort_values(ascending = False)\n",
    "jp_genre = data.groupby('genre')['jp_sales'].sum().sort_values(ascending = False)"
   ]
  },
  {
   "cell_type": "code",
   "execution_count": 36,
   "metadata": {},
   "outputs": [
    {
     "data": {
      "text/plain": [
       "<matplotlib.axes._subplots.AxesSubplot at 0x7f305dc3bb50>"
      ]
     },
     "execution_count": 36,
     "metadata": {},
     "output_type": "execute_result"
    },
    {
     "data": {
      "image/png": "[encoded data removed]",
      "text/plain": [
       "<Figure size 1080x360 with 1 Axes>"
      ]
     },
     "metadata": {
      "needs_background": "light"
     },
     "output_type": "display_data"
    }
   ],
   "source": [
    "na_genre.plot(kind = 'bar', figsize=(15, 5), title = 'Популярность жанров в Северной Америке')"
   ]
  },
  {
   "cell_type": "code",
   "execution_count": 37,
   "metadata": {},
   "outputs": [
    {
     "data": {
      "text/plain": [
       "<matplotlib.axes._subplots.AxesSubplot at 0x7f305dbe3ed0>"
      ]
     },
     "execution_count": 37,
     "metadata": {},
     "output_type": "execute_result"
    },
    {
     "data": {
      "image/png": "[encoded data removed]",
      "text/plain": [
       "<Figure size 1080x360 with 1 Axes>"
      ]
     },
     "metadata": {
      "needs_background": "light"
     },
     "output_type": "display_data"
    }
   ],
   "source": [
    "eu_genre.plot(kind = 'bar', figsize=(15, 5), title = 'Популярность жанров в Европе')"
   ]
  },
  {
   "cell_type": "code",
   "execution_count": 38,
   "metadata": {},
   "outputs": [
    {
     "data": {
      "text/plain": [
       "<matplotlib.axes._subplots.AxesSubplot at 0x7f305d4d0dd0>"
      ]
     },
     "execution_count": 38,
     "metadata": {},
     "output_type": "execute_result"
    },
    {
     "data": {
      "image/png": "[encoded data removed]",
      "text/plain": [
       "<Figure size 1080x360 with 1 Axes>"
      ]
     },
     "metadata": {
      "needs_background": "light"
     },
     "output_type": "display_data"
    }
   ],
   "source": [
    "jp_genre.plot(kind = 'bar', figsize=(15, 5), title = 'Популярность жанров в Японии')"
   ]
  },
  {
   "cell_type": "markdown",
   "metadata": {},
   "source": [
    "Среди пользователей Северной Америки и Европы самый популярный жанр Action.\n",
    "Японцы любят игры жанра Role-Playing."
   ]
  },
  {
   "cell_type": "markdown",
   "metadata": {},
   "source": [
    "### Влияние рейтинга на продажи в регионах:"
   ]
  },
  {
   "cell_type": "markdown",
   "metadata": {},
   "source": [
    "Рейтинги в системе ESRB\n",
    "- «EC» («Early childhood») — «Для детей младшего возраста»\n",
    "- «E» («Everyone») — «Для всех»  \n",
    "- «E10+» («Everyone 10 and older») — «Для всех от 10 лет и старше»\n",
    "- «T» («Teen») — «Подросткам»  \n",
    "- «M» («Mature») — «Для взрослых»  \n",
    "- «RP» («Rating Pending») — «Рейтинг ожидается»"
   ]
  },
  {
   "cell_type": "code",
   "execution_count": 39,
   "metadata": {},
   "outputs": [],
   "source": [
    "data['rating'] = data['rating'].fillna('No rating')"
   ]
  },
  {
   "cell_type": "code",
   "execution_count": 40,
   "metadata": {},
   "outputs": [],
   "source": [
    "na_esrb = data.pivot_table(index=['rating'], values = 'na_sales', aggfunc = 'sum')\n",
    "eu_esrb = data.pivot_table(index=['rating'], values = 'eu_sales', aggfunc = 'sum')\n",
    "jp_esrb = data.pivot_table(index=['rating'], values = 'jp_sales', aggfunc = 'sum')"
   ]
  },
  {
   "cell_type": "code",
   "execution_count": 41,
   "metadata": {},
   "outputs": [
    {
     "data": {
      "text/plain": [
       "<matplotlib.axes._subplots.AxesSubplot at 0x7f305f605610>"
      ]
     },
     "execution_count": 41,
     "metadata": {},
     "output_type": "execute_result"
    },
    {
     "data": {
      "image/png": "[encoded data removed]",
      "text/plain": [
       "<Figure size 1080x360 with 1 Axes>"
      ]
     },
     "metadata": {
      "needs_background": "light"
     },
     "output_type": "display_data"
    }
   ],
   "source": [
    "na_esrb.plot(kind = 'bar', figsize=(15, 5), title = 'Рапределение продаж по рейтингу ESRB в Северной Америке')"
   ]
  },
  {
   "cell_type": "code",
   "execution_count": 42,
   "metadata": {},
   "outputs": [
    {
     "data": {
      "text/plain": [
       "<matplotlib.axes._subplots.AxesSubplot at 0x7f305f5d6e50>"
      ]
     },
     "execution_count": 42,
     "metadata": {},
     "output_type": "execute_result"
    },
    {
     "data": {
      "image/png": "[encoded data removed]",
      "text/plain": [
       "<Figure size 1080x360 with 1 Axes>"
      ]
     },
     "metadata": {
      "needs_background": "light"
     },
     "output_type": "display_data"
    }
   ],
   "source": [
    "eu_esrb.plot(kind = 'bar', figsize=(15, 5), title = 'Рапределение продаж по рейтингу ESRB в Европе')"
   ]
  },
  {
   "cell_type": "code",
   "execution_count": 43,
   "metadata": {},
   "outputs": [
    {
     "data": {
      "text/plain": [
       "<matplotlib.axes._subplots.AxesSubplot at 0x7f305d79e190>"
      ]
     },
     "execution_count": 43,
     "metadata": {},
     "output_type": "execute_result"
    },
    {
     "data": {
      "image/png": "[encoded data removed]",
      "text/plain": [
       "<Figure size 1080x360 with 1 Axes>"
      ]
     },
     "metadata": {
      "needs_background": "light"
     },
     "output_type": "display_data"
    }
   ],
   "source": [
    "jp_esrb.plot(kind = 'bar', figsize=(15, 5), title = 'Рапределение продаж по рейтингу ESRB в Японии')"
   ]
  },
  {
   "cell_type": "markdown",
   "metadata": {},
   "source": [
    "**Среди игр с присвоенным рейтингом: **\n",
    "\n",
    "Во всех регионах наиболее популярны игры с рейтингом Е - для всех.\n",
    "\n",
    "**Игры без рейтинга:**\n",
    "\n",
    "В Японии такие игры являются самыми популярными, в Америке и Европе продажи у игр без рейтинга на среднем уровне. "
   ]
  },
  {
   "cell_type": "markdown",
   "metadata": {},
   "source": [
    "## Проверка гипотез"
   ]
  },
  {
   "cell_type": "markdown",
   "metadata": {},
   "source": [
    "### Средние пользовательские рейтинги платформ Xbox One и PC одинаковые"
   ]
  },
  {
   "cell_type": "markdown",
   "metadata": {},
   "source": [
    "Для оценки гипотезы будем применять тест Стюдента.\n",
    "\n",
    "H0 — cредние пользовательские рейтинги платформ Xbox One и PC одинаковые\n",
    "\n",
    "H1 — cредние пользовательские рейтинги платформ Xbox One и PC различаются.\n",
    "\n",
    "α = 5%"
   ]
  },
  {
   "cell_type": "code",
   "execution_count": 44,
   "metadata": {},
   "outputs": [
    {
     "name": "stdout",
     "output_type": "stream",
     "text": [
      "p-значение:  0.980998110649032\n",
      "Не получилось отвергнуть нулевую гипотезу\n"
     ]
    }
   ],
   "source": [
    "XOne = data.query('platform == \"XOne\"')['user_score'].dropna()\n",
    "PC = data.query('platform == \"PC\"')['user_score'].dropna()\n",
    "\n",
    "alpha = 0.05\n",
    "results = st.ttest_ind(XOne, PC)\n",
    "\n",
    "print('p-значение: ', results.pvalue)\n",
    "\n",
    "if results.pvalue < alpha:\n",
    "    print(\"Отвергаем нулевую гипотезу\")\n",
    "else:\n",
    "    print(\"Не получилось отвергнуть нулевую гипотезу\") "
   ]
  },
  {
   "cell_type": "markdown",
   "metadata": {},
   "source": [
    "Средняя оценка пользователей платформы XBox One отличается от средней оценки пользователей платформы PC. \n",
    "\n",
    "Гипотеза не подтвердилась."
   ]
  },
  {
   "cell_type": "markdown",
   "metadata": {},
   "source": [
    "### Средние пользовательские рейтинги жанров Action и Sports разные."
   ]
  },
  {
   "cell_type": "markdown",
   "metadata": {},
   "source": [
    "Для оценки гипотезы будем применять тест Стюдента.\n",
    "\n",
    "H0 — cредние пользовательские рейтинги жанров Action и Sports одинаковые\n",
    "\n",
    "H1 — cредние пользовательские рейтинги жанров Action и Sports разные.\n",
    "\n",
    "α = 5%"
   ]
  },
  {
   "cell_type": "code",
   "execution_count": 45,
   "metadata": {},
   "outputs": [
    {
     "name": "stdout",
     "output_type": "stream",
     "text": [
      "p-значение:  7.839124224330309e-19\n",
      "Отвергаем нулевую гипотезу\n"
     ]
    }
   ],
   "source": [
    "Action = data.query('genre == \"Action\"')['user_score'].dropna()\n",
    "Sports  = data.query('genre == \"Sports\"')['user_score'].dropna()\n",
    "\n",
    "alpha = 0.05\n",
    "results = st.ttest_ind(Action, Sports)\n",
    "\n",
    "print('p-значение: ', results.pvalue)\n",
    "\n",
    "if results.pvalue < alpha:\n",
    "    print(\"Отвергаем нулевую гипотезу\")\n",
    "else:\n",
    "    print(\"Не получилось отвергнуть нулевую гипотезу\") "
   ]
  },
  {
   "cell_type": "markdown",
   "metadata": {},
   "source": [
    "Нулевая гипотеза не подтвердилась, рейтинги для жанров Action и Sports различаются."
   ]
  },
  {
   "cell_type": "markdown",
   "metadata": {},
   "source": [
    "## Выводы:"
   ]
  },
  {
   "cell_type": "markdown",
   "metadata": {},
   "source": [
    "**Шаг 1.** Знакомство с данными\n",
    "Ознакомились с данными, посмотрели общую информацию, выявили пропуски, изменили типы данных.\n",
    "\n",
    "**Шаг 2.** Подготовка данных\n",
    "Удалили некоторые пропуски, обнаружили необычное значени tbd - \"to be determined\" и заменили это значение на NaN.\n",
    "Многие пропуски, например, в столбцах оценок оставили незаполненными, чтобы не исказить статистику.\n",
    "\n",
    "Посчитали общее количество продаж по всем регионам, добавили их в столбец sales.\n",
    "\n",
    "**Шаг 3.** Исследовательский анализ данных\n",
    "\n",
    "Было обнаружено, что резкий рост выпуска игр приходится на 2000 год, а пик на 2008-2009 гг.\n",
    "Характерный срок жизни платформы - 10 лет, но продажи на платформах, как правило, растут только в течение 6 лет, поэтому оставили данные с 2010 по 2016 гг.\n",
    "\n",
    "3 потенциально прибыльных платформ - PS4, XOne, 3DS.\n",
    "Наибольшие медианные продажи у платформ DS, PS3 и X360.\n",
    "\n",
    "Почти у всех платформ есть определенные игры, которые \"выстрелили\".\n",
    "Компьютерные игры PC стоят дешевле консольных.\n",
    "\n",
    "Оценки критиков очень слабо влияют на общие продажи, оценки пользователей не влияют совсем.\n",
    "\n",
    "Больше всего игр жанра Action, затем идут Sports и misc.\n",
    "\n",
    "Чаще всего покупают игры жанра Action, затем Sports, Shooter на третьем месте по продажам.\n",
    "\n",
    "**Шаг 4.** Портрет пользователя региона\n",
    "В Северной Америке самые популярные платформы X360, PS3 и Wii. Европейцы предпочитают PS3, X360 и PS$. В Японии популярны 3DS, PS3, PSP.\n",
    "\n",
    "В NA и EU самые популярные жанры совпадают - Actions, Shooter и Sports. В JP вкусы сильно отличаются, там самые популярные жанры Role-playing  и Actions, остальные жанры гораздо менее полпулярны.\n",
    "\n",
    "В Америке и Европе лидируют игры с рейтингом Е - \"Для всех\", в Японии такие игры на втором месте, а популярнее остальных игры без рейтинга, а также игры с рейтингом T - \"Для подростков\".\n",
    "В Северной Америке и Европе на втором месте игры с рейтингом М - \"Для взрослых\". \n",
    "\n",
    "**Шаг 5.** Проверка гипотез\n",
    "Средние пользовательские рейтинги платформ Xbox One и PC одинаковые. Гипотеза не подтвердилась.\n",
    "Средние пользовательские рейтинги жанров Action и Sports разные. Гипотеза подтвердилась."
   ]
  }
 ],
 "metadata": {
  "ExecuteTimeLog": [
   {
    "duration": 1228,
    "start_time": "2021-08-09T16:29:58.995Z"
   },
   {
    "duration": 12,
    "start_time": "2021-08-09T16:30:00.225Z"
   },
   {
    "duration": 31,
    "start_time": "2021-08-09T16:30:00.239Z"
   },
   {
    "duration": 21,
    "start_time": "2021-08-09T16:38:16.081Z"
   },
   {
    "duration": 18,
    "start_time": "2021-08-09T16:51:34.824Z"
   },
   {
    "duration": 293,
    "start_time": "2021-08-09T16:54:05.756Z"
   },
   {
    "duration": 988,
    "start_time": "2021-08-09T16:55:12.508Z"
   },
   {
    "duration": 9,
    "start_time": "2021-08-09T16:55:13.498Z"
   },
   {
    "duration": 27,
    "start_time": "2021-08-09T16:55:13.509Z"
   },
   {
    "duration": 20,
    "start_time": "2021-08-09T16:55:13.537Z"
   },
   {
    "duration": 4,
    "start_time": "2021-08-09T16:55:13.559Z"
   },
   {
    "duration": 418,
    "start_time": "2021-08-09T16:55:13.564Z"
   },
   {
    "duration": 237,
    "start_time": "2021-08-09T16:56:02.890Z"
   },
   {
    "duration": 237,
    "start_time": "2021-08-09T16:57:36.918Z"
   },
   {
    "duration": 232,
    "start_time": "2021-08-09T16:58:08.676Z"
   },
   {
    "duration": 246,
    "start_time": "2021-08-09T16:58:14.806Z"
   },
   {
    "duration": 29,
    "start_time": "2021-08-09T16:58:34.745Z"
   },
   {
    "duration": 24,
    "start_time": "2021-08-09T16:58:41.162Z"
   },
   {
    "duration": 11,
    "start_time": "2021-08-09T16:58:48.957Z"
   },
   {
    "duration": 12,
    "start_time": "2021-08-09T16:59:03.428Z"
   },
   {
    "duration": 1417,
    "start_time": "2021-08-10T15:29:55.462Z"
   },
   {
    "duration": 14,
    "start_time": "2021-08-10T15:29:56.882Z"
   },
   {
    "duration": 51,
    "start_time": "2021-08-10T15:29:56.899Z"
   },
   {
    "duration": 18,
    "start_time": "2021-08-10T15:29:56.952Z"
   },
   {
    "duration": 6,
    "start_time": "2021-08-10T15:29:56.972Z"
   },
   {
    "duration": 452,
    "start_time": "2021-08-10T15:34:29.847Z"
   },
   {
    "duration": 278,
    "start_time": "2021-08-10T15:35:00.739Z"
   },
   {
    "duration": 6,
    "start_time": "2021-08-10T15:35:19.649Z"
   },
   {
    "duration": 7,
    "start_time": "2021-08-10T15:44:12.257Z"
   },
   {
    "duration": 16,
    "start_time": "2021-08-10T15:44:21.386Z"
   },
   {
    "duration": 294,
    "start_time": "2021-08-10T15:46:00.006Z"
   },
   {
    "duration": 21,
    "start_time": "2021-08-10T15:54:15.862Z"
   },
   {
    "duration": 311,
    "start_time": "2021-08-10T15:54:46.667Z"
   },
   {
    "duration": 14,
    "start_time": "2021-08-10T15:54:57.907Z"
   },
   {
    "duration": 39,
    "start_time": "2021-08-10T15:55:09.082Z"
   },
   {
    "duration": 39,
    "start_time": "2021-08-10T15:55:19.481Z"
   },
   {
    "duration": 27,
    "start_time": "2021-08-10T15:55:28.015Z"
   },
   {
    "duration": 28,
    "start_time": "2021-08-10T15:55:32.229Z"
   },
   {
    "duration": 29,
    "start_time": "2021-08-10T15:55:37.961Z"
   },
   {
    "duration": 28,
    "start_time": "2021-08-10T15:55:42.879Z"
   },
   {
    "duration": 27,
    "start_time": "2021-08-10T15:55:52.577Z"
   },
   {
    "duration": 18,
    "start_time": "2021-08-10T15:55:58.227Z"
   },
   {
    "duration": 29,
    "start_time": "2021-08-10T15:56:59.179Z"
   },
   {
    "duration": 20,
    "start_time": "2021-08-10T15:57:11.354Z"
   },
   {
    "duration": 19,
    "start_time": "2021-08-10T15:57:19.928Z"
   },
   {
    "duration": 19,
    "start_time": "2021-08-10T15:58:51.636Z"
   },
   {
    "duration": 11,
    "start_time": "2021-08-10T15:58:58.504Z"
   },
   {
    "duration": 13,
    "start_time": "2021-08-10T15:58:58.952Z"
   },
   {
    "duration": 19,
    "start_time": "2021-08-10T15:59:07.250Z"
   },
   {
    "duration": 40,
    "start_time": "2021-08-10T15:59:31.208Z"
   },
   {
    "duration": 289,
    "start_time": "2021-08-10T15:59:50.350Z"
   },
   {
    "duration": 11,
    "start_time": "2021-08-10T15:59:55.669Z"
   },
   {
    "duration": 18,
    "start_time": "2021-08-10T15:59:56.564Z"
   },
   {
    "duration": 14,
    "start_time": "2021-08-10T16:00:07.288Z"
   },
   {
    "duration": 277,
    "start_time": "2021-08-10T16:07:15.572Z"
   },
   {
    "duration": 39,
    "start_time": "2021-08-10T16:07:34.888Z"
   },
   {
    "duration": 40,
    "start_time": "2021-08-10T16:07:45.937Z"
   },
   {
    "duration": 9,
    "start_time": "2021-08-10T16:08:30.804Z"
   },
   {
    "duration": 33,
    "start_time": "2021-08-10T16:08:45.906Z"
   },
   {
    "duration": 18,
    "start_time": "2021-08-10T16:10:51.594Z"
   },
   {
    "duration": 24,
    "start_time": "2021-08-10T16:12:16.332Z"
   },
   {
    "duration": 23,
    "start_time": "2021-08-10T16:12:29.358Z"
   },
   {
    "duration": 48,
    "start_time": "2021-08-10T16:13:48.222Z"
   },
   {
    "duration": 24,
    "start_time": "2021-08-10T16:14:40.632Z"
   },
   {
    "duration": 21,
    "start_time": "2021-08-10T16:16:57.776Z"
   },
   {
    "duration": 8,
    "start_time": "2021-08-10T16:19:20.933Z"
   },
   {
    "duration": 7,
    "start_time": "2021-08-10T16:19:38.921Z"
   },
   {
    "duration": 275,
    "start_time": "2021-08-10T16:21:23.818Z"
   },
   {
    "duration": 50,
    "start_time": "2021-08-10T16:21:29.498Z"
   },
   {
    "duration": 15,
    "start_time": "2021-08-10T16:21:43.833Z"
   },
   {
    "duration": 532,
    "start_time": "2021-08-10T16:22:33.633Z"
   },
   {
    "duration": 354,
    "start_time": "2021-08-10T16:22:58.535Z"
   },
   {
    "duration": 337,
    "start_time": "2021-08-10T16:23:03.530Z"
   },
   {
    "duration": 360,
    "start_time": "2021-08-10T16:23:09.657Z"
   },
   {
    "duration": 358,
    "start_time": "2021-08-10T16:23:16.936Z"
   },
   {
    "duration": 363,
    "start_time": "2021-08-10T16:23:41.468Z"
   },
   {
    "duration": 382,
    "start_time": "2021-08-10T16:23:51.754Z"
   },
   {
    "duration": 11,
    "start_time": "2021-08-10T16:25:24.991Z"
   },
   {
    "duration": 310,
    "start_time": "2021-08-10T16:26:03.294Z"
   },
   {
    "duration": 510,
    "start_time": "2021-08-10T16:26:41.162Z"
   },
   {
    "duration": 671,
    "start_time": "2021-08-10T16:26:50.421Z"
   },
   {
    "duration": 634,
    "start_time": "2021-08-10T16:27:01.220Z"
   },
   {
    "duration": 507,
    "start_time": "2021-08-10T16:27:09.065Z"
   },
   {
    "duration": 391,
    "start_time": "2021-08-10T16:27:16.921Z"
   },
   {
    "duration": 955,
    "start_time": "2021-08-11T16:14:40.791Z"
   },
   {
    "duration": 9,
    "start_time": "2021-08-11T16:14:41.748Z"
   },
   {
    "duration": 28,
    "start_time": "2021-08-11T16:14:41.759Z"
   },
   {
    "duration": 11,
    "start_time": "2021-08-11T16:14:41.789Z"
   },
   {
    "duration": 10,
    "start_time": "2021-08-11T16:14:41.801Z"
   },
   {
    "duration": 33,
    "start_time": "2021-08-11T16:14:41.812Z"
   },
   {
    "duration": 7,
    "start_time": "2021-08-11T16:14:41.846Z"
   },
   {
    "duration": 3,
    "start_time": "2021-08-11T16:14:41.855Z"
   },
   {
    "duration": 22,
    "start_time": "2021-08-11T16:14:41.859Z"
   },
   {
    "duration": 20,
    "start_time": "2021-08-11T16:14:41.883Z"
   },
   {
    "duration": 10,
    "start_time": "2021-08-11T16:14:41.904Z"
   },
   {
    "duration": 35,
    "start_time": "2021-08-11T16:14:41.916Z"
   },
   {
    "duration": 236,
    "start_time": "2021-08-11T16:14:41.952Z"
   },
   {
    "duration": 397,
    "start_time": "2021-08-11T16:14:42.190Z"
   },
   {
    "duration": 308,
    "start_time": "2021-08-11T16:15:43.812Z"
   },
   {
    "duration": 5,
    "start_time": "2021-08-11T16:17:32.603Z"
   },
   {
    "duration": 10,
    "start_time": "2021-08-11T16:18:15.409Z"
   },
   {
    "duration": 319,
    "start_time": "2021-08-11T16:18:50.893Z"
   },
   {
    "duration": 9,
    "start_time": "2021-08-11T16:19:27.071Z"
   },
   {
    "duration": 14,
    "start_time": "2021-08-11T16:19:56.523Z"
   },
   {
    "duration": 13,
    "start_time": "2021-08-11T16:20:05.564Z"
   },
   {
    "duration": 6923,
    "start_time": "2021-08-11T16:23:16.383Z"
   },
   {
    "duration": 5,
    "start_time": "2021-08-11T16:23:47.582Z"
   },
   {
    "duration": 6849,
    "start_time": "2021-08-11T16:24:20.480Z"
   },
   {
    "duration": 315,
    "start_time": "2021-08-11T16:26:20.800Z"
   },
   {
    "duration": 319,
    "start_time": "2021-08-11T16:26:46.751Z"
   },
   {
    "duration": 247,
    "start_time": "2021-08-11T16:28:50.397Z"
   },
   {
    "duration": 234,
    "start_time": "2021-08-11T16:28:59.945Z"
   },
   {
    "duration": 223,
    "start_time": "2021-08-11T16:29:43.371Z"
   },
   {
    "duration": 222,
    "start_time": "2021-08-11T16:29:47.165Z"
   },
   {
    "duration": 222,
    "start_time": "2021-08-11T16:29:59.637Z"
   },
   {
    "duration": 225,
    "start_time": "2021-08-11T16:30:27.109Z"
   },
   {
    "duration": 307,
    "start_time": "2021-08-11T16:30:28.853Z"
   },
   {
    "duration": 217,
    "start_time": "2021-08-11T16:30:39.887Z"
   },
   {
    "duration": 234,
    "start_time": "2021-08-11T16:30:48.539Z"
   },
   {
    "duration": 452,
    "start_time": "2021-08-11T16:31:28.891Z"
   },
   {
    "duration": 229,
    "start_time": "2021-08-11T16:33:11.499Z"
   },
   {
    "duration": 301,
    "start_time": "2021-08-11T16:33:17.330Z"
   },
   {
    "duration": 229,
    "start_time": "2021-08-11T16:34:16.457Z"
   },
   {
    "duration": 227,
    "start_time": "2021-08-11T16:34:24.373Z"
   },
   {
    "duration": 234,
    "start_time": "2021-08-11T16:35:10.108Z"
   },
   {
    "duration": 288,
    "start_time": "2021-08-11T16:38:53.820Z"
   },
   {
    "duration": 239,
    "start_time": "2021-08-11T16:38:58.633Z"
   },
   {
    "duration": 230,
    "start_time": "2021-08-11T16:40:32.811Z"
   },
   {
    "duration": 466,
    "start_time": "2021-08-11T16:41:39.227Z"
   },
   {
    "duration": 255,
    "start_time": "2021-08-11T16:42:28.698Z"
   },
   {
    "duration": 258,
    "start_time": "2021-08-11T16:42:50.821Z"
   },
   {
    "duration": 1084,
    "start_time": "2021-08-11T16:43:07.763Z"
   },
   {
    "duration": 1090,
    "start_time": "2021-08-11T16:43:13.905Z"
   },
   {
    "duration": 1168,
    "start_time": "2021-08-11T16:43:17.543Z"
   },
   {
    "duration": 1178,
    "start_time": "2021-08-11T16:43:22.941Z"
   },
   {
    "duration": 240,
    "start_time": "2021-08-11T16:43:28.720Z"
   },
   {
    "duration": 252,
    "start_time": "2021-08-11T16:45:07.654Z"
   },
   {
    "duration": 254,
    "start_time": "2021-08-11T16:45:32.230Z"
   },
   {
    "duration": 321,
    "start_time": "2021-08-11T16:47:17.934Z"
   },
   {
    "duration": 241,
    "start_time": "2021-08-11T16:48:23.672Z"
   },
   {
    "duration": 237,
    "start_time": "2021-08-11T16:48:39.704Z"
   },
   {
    "duration": 239,
    "start_time": "2021-08-11T16:54:52.178Z"
   },
   {
    "duration": 274,
    "start_time": "2021-08-11T16:58:38.948Z"
   },
   {
    "duration": 8,
    "start_time": "2021-08-11T16:58:51.974Z"
   },
   {
    "duration": 12,
    "start_time": "2021-08-11T16:58:58.165Z"
   },
   {
    "duration": 6,
    "start_time": "2021-08-11T16:59:56.545Z"
   },
   {
    "duration": 12,
    "start_time": "2021-08-11T17:00:12.181Z"
   },
   {
    "duration": 12,
    "start_time": "2021-08-11T17:00:16.617Z"
   },
   {
    "duration": 324,
    "start_time": "2021-08-11T17:00:59.743Z"
   },
   {
    "duration": 5,
    "start_time": "2021-08-11T17:01:09.519Z"
   },
   {
    "duration": 2785,
    "start_time": "2021-08-11T17:01:35.909Z"
   },
   {
    "duration": 216,
    "start_time": "2021-08-11T17:03:29.246Z"
   },
   {
    "duration": 12,
    "start_time": "2021-08-11T17:03:56.777Z"
   },
   {
    "duration": 13,
    "start_time": "2021-08-11T17:04:30.482Z"
   },
   {
    "duration": 2863,
    "start_time": "2021-08-11T17:06:36.040Z"
   },
   {
    "duration": 2829,
    "start_time": "2021-08-11T17:09:29.012Z"
   },
   {
    "duration": 1735,
    "start_time": "2021-08-11T17:10:15.633Z"
   },
   {
    "duration": 35,
    "start_time": "2021-08-11T17:20:02.943Z"
   },
   {
    "duration": 245,
    "start_time": "2021-08-11T17:30:57.739Z"
   },
   {
    "duration": 35,
    "start_time": "2021-08-11T17:31:03.037Z"
   },
   {
    "duration": 10,
    "start_time": "2021-08-11T17:31:03.382Z"
   },
   {
    "duration": 26,
    "start_time": "2021-08-11T17:31:03.713Z"
   },
   {
    "duration": 11,
    "start_time": "2021-08-11T17:31:04.007Z"
   },
   {
    "duration": 3,
    "start_time": "2021-08-11T17:31:05.506Z"
   },
   {
    "duration": 14,
    "start_time": "2021-08-11T17:31:06.912Z"
   },
   {
    "duration": 13,
    "start_time": "2021-08-11T17:31:08.298Z"
   },
   {
    "duration": 11,
    "start_time": "2021-08-11T17:38:13.984Z"
   },
   {
    "duration": 6,
    "start_time": "2021-08-11T17:39:41.094Z"
   },
   {
    "duration": 9,
    "start_time": "2021-08-11T17:39:41.571Z"
   },
   {
    "duration": 7,
    "start_time": "2021-08-11T17:39:49.347Z"
   },
   {
    "duration": 11,
    "start_time": "2021-08-11T17:39:49.749Z"
   },
   {
    "duration": 14,
    "start_time": "2021-08-11T17:39:50.679Z"
   },
   {
    "duration": 15,
    "start_time": "2021-08-11T17:39:52.597Z"
   },
   {
    "duration": 10,
    "start_time": "2021-08-11T17:39:54.339Z"
   },
   {
    "duration": 13,
    "start_time": "2021-08-11T17:39:54.658Z"
   },
   {
    "duration": 1371,
    "start_time": "2021-08-12T15:46:01.090Z"
   },
   {
    "duration": 13,
    "start_time": "2021-08-12T15:46:02.463Z"
   },
   {
    "duration": 44,
    "start_time": "2021-08-12T15:46:02.483Z"
   },
   {
    "duration": 19,
    "start_time": "2021-08-12T15:46:02.530Z"
   },
   {
    "duration": 33,
    "start_time": "2021-08-12T15:46:02.552Z"
   },
   {
    "duration": 12,
    "start_time": "2021-08-12T15:46:02.588Z"
   },
   {
    "duration": 10,
    "start_time": "2021-08-12T15:46:02.605Z"
   },
   {
    "duration": 16,
    "start_time": "2021-08-12T15:46:02.618Z"
   },
   {
    "duration": 59,
    "start_time": "2021-08-12T15:46:02.637Z"
   },
   {
    "duration": 33,
    "start_time": "2021-08-12T15:46:02.699Z"
   },
   {
    "duration": 18,
    "start_time": "2021-08-12T15:46:02.735Z"
   },
   {
    "duration": 46,
    "start_time": "2021-08-12T15:46:02.755Z"
   },
   {
    "duration": 448,
    "start_time": "2021-08-12T15:46:02.803Z"
   },
   {
    "duration": 539,
    "start_time": "2021-08-12T15:46:03.254Z"
   },
   {
    "duration": 2926,
    "start_time": "2021-08-12T15:46:03.795Z"
   },
   {
    "duration": 284,
    "start_time": "2021-08-12T15:58:14.285Z"
   },
   {
    "duration": 245,
    "start_time": "2021-08-12T15:58:32.678Z"
   },
   {
    "duration": 16,
    "start_time": "2021-08-12T16:01:14.475Z"
   },
   {
    "duration": 35,
    "start_time": "2021-08-12T16:01:32.091Z"
   },
   {
    "duration": 1072,
    "start_time": "2021-08-12T16:02:26.847Z"
   },
   {
    "duration": 422,
    "start_time": "2021-08-12T16:06:34.525Z"
   },
   {
    "duration": 503,
    "start_time": "2021-08-12T16:06:58.974Z"
   },
   {
    "duration": 430,
    "start_time": "2021-08-12T16:07:18.935Z"
   },
   {
    "duration": 408,
    "start_time": "2021-08-12T16:07:30.722Z"
   },
   {
    "duration": 408,
    "start_time": "2021-08-12T16:07:36.950Z"
   },
   {
    "duration": 23,
    "start_time": "2021-08-12T16:10:28.291Z"
   },
   {
    "duration": 22,
    "start_time": "2021-08-12T16:10:39.485Z"
   },
   {
    "duration": 1573,
    "start_time": "2021-08-12T16:11:23.719Z"
   },
   {
    "duration": 1652,
    "start_time": "2021-08-12T16:11:51.519Z"
   },
   {
    "duration": 590,
    "start_time": "2021-08-12T16:21:59.580Z"
   },
   {
    "duration": 619,
    "start_time": "2021-08-12T16:22:11.347Z"
   },
   {
    "duration": 488,
    "start_time": "2021-08-12T16:23:04.620Z"
   },
   {
    "duration": 470,
    "start_time": "2021-08-12T16:23:40.114Z"
   },
   {
    "duration": 1843,
    "start_time": "2021-08-12T16:23:47.531Z"
   },
   {
    "duration": 8712,
    "start_time": "2021-08-12T16:23:57.723Z"
   },
   {
    "duration": 9279,
    "start_time": "2021-08-12T16:25:03.172Z"
   },
   {
    "duration": 8834,
    "start_time": "2021-08-12T16:25:27.674Z"
   },
   {
    "duration": 9704,
    "start_time": "2021-08-12T16:25:47.083Z"
   },
   {
    "duration": 569,
    "start_time": "2021-08-12T16:27:57.013Z"
   },
   {
    "duration": 344,
    "start_time": "2021-08-12T16:28:08.994Z"
   },
   {
    "duration": 550,
    "start_time": "2021-08-12T16:28:40.466Z"
   },
   {
    "duration": 15,
    "start_time": "2021-08-12T16:28:41.610Z"
   },
   {
    "duration": 46,
    "start_time": "2021-08-12T16:28:41.806Z"
   },
   {
    "duration": 19,
    "start_time": "2021-08-12T16:28:42.000Z"
   },
   {
    "duration": 4,
    "start_time": "2021-08-12T16:28:43.004Z"
   },
   {
    "duration": 5,
    "start_time": "2021-08-12T16:28:43.542Z"
   },
   {
    "duration": 8,
    "start_time": "2021-08-12T16:28:43.902Z"
   },
   {
    "duration": 12,
    "start_time": "2021-08-12T16:28:44.073Z"
   },
   {
    "duration": 20,
    "start_time": "2021-08-12T16:28:44.606Z"
   },
   {
    "duration": 23,
    "start_time": "2021-08-12T16:28:45.343Z"
   },
   {
    "duration": 15,
    "start_time": "2021-08-12T16:28:46.076Z"
   },
   {
    "duration": 20,
    "start_time": "2021-08-12T16:28:46.256Z"
   },
   {
    "duration": 403,
    "start_time": "2021-08-12T16:28:46.810Z"
   },
   {
    "duration": 557,
    "start_time": "2021-08-12T16:28:47.216Z"
   },
   {
    "duration": 1629,
    "start_time": "2021-08-12T16:28:47.783Z"
   },
   {
    "duration": 431,
    "start_time": "2021-08-12T16:28:49.414Z"
   },
   {
    "duration": 45,
    "start_time": "2021-08-12T16:29:04.600Z"
   },
   {
    "duration": 15,
    "start_time": "2021-08-12T16:29:05.118Z"
   },
   {
    "duration": 41,
    "start_time": "2021-08-12T16:29:05.302Z"
   },
   {
    "duration": 19,
    "start_time": "2021-08-12T16:29:05.488Z"
   },
   {
    "duration": 4,
    "start_time": "2021-08-12T16:29:06.242Z"
   },
   {
    "duration": 6,
    "start_time": "2021-08-12T16:29:06.701Z"
   },
   {
    "duration": 8,
    "start_time": "2021-08-12T16:29:07.044Z"
   },
   {
    "duration": 13,
    "start_time": "2021-08-12T16:29:07.218Z"
   },
   {
    "duration": 19,
    "start_time": "2021-08-12T16:29:07.894Z"
   },
   {
    "duration": 24,
    "start_time": "2021-08-12T16:29:08.642Z"
   },
   {
    "duration": 15,
    "start_time": "2021-08-12T16:29:09.384Z"
   },
   {
    "duration": 19,
    "start_time": "2021-08-12T16:29:09.574Z"
   },
   {
    "duration": 409,
    "start_time": "2021-08-12T16:29:10.121Z"
   },
   {
    "duration": 577,
    "start_time": "2021-08-12T16:29:10.533Z"
   },
   {
    "duration": 1761,
    "start_time": "2021-08-12T16:29:11.112Z"
   },
   {
    "duration": 461,
    "start_time": "2021-08-12T16:29:12.882Z"
   },
   {
    "duration": 44,
    "start_time": "2021-08-12T16:29:26.607Z"
   },
   {
    "duration": 13,
    "start_time": "2021-08-12T16:29:26.778Z"
   },
   {
    "duration": 44,
    "start_time": "2021-08-12T16:29:26.951Z"
   },
   {
    "duration": 19,
    "start_time": "2021-08-12T16:29:27.100Z"
   },
   {
    "duration": 4,
    "start_time": "2021-08-12T16:29:27.902Z"
   },
   {
    "duration": 6,
    "start_time": "2021-08-12T16:29:28.573Z"
   },
   {
    "duration": 8,
    "start_time": "2021-08-12T16:29:28.924Z"
   },
   {
    "duration": 14,
    "start_time": "2021-08-12T16:29:29.106Z"
   },
   {
    "duration": 19,
    "start_time": "2021-08-12T16:29:29.670Z"
   },
   {
    "duration": 25,
    "start_time": "2021-08-12T16:29:30.480Z"
   },
   {
    "duration": 15,
    "start_time": "2021-08-12T16:29:31.266Z"
   },
   {
    "duration": 20,
    "start_time": "2021-08-12T16:29:31.470Z"
   },
   {
    "duration": 456,
    "start_time": "2021-08-12T16:29:32.122Z"
   },
   {
    "duration": 583,
    "start_time": "2021-08-12T16:29:32.583Z"
   },
   {
    "duration": 1683,
    "start_time": "2021-08-12T16:29:33.170Z"
   },
   {
    "duration": 9,
    "start_time": "2021-08-12T16:31:39.018Z"
   },
   {
    "duration": 46,
    "start_time": "2021-08-12T16:31:44.410Z"
   },
   {
    "duration": 41,
    "start_time": "2021-08-12T16:46:07.109Z"
   },
   {
    "duration": 40,
    "start_time": "2021-08-12T16:46:24.329Z"
   },
   {
    "duration": 575,
    "start_time": "2021-08-12T16:46:55.415Z"
   },
   {
    "duration": 581,
    "start_time": "2021-08-12T16:47:04.083Z"
   },
   {
    "duration": 15968,
    "start_time": "2021-08-12T16:47:30.036Z"
   },
   {
    "duration": 2286,
    "start_time": "2021-08-12T16:48:11.759Z"
   },
   {
    "duration": 445,
    "start_time": "2021-08-12T16:48:40.982Z"
   },
   {
    "duration": 544,
    "start_time": "2021-08-12T16:50:39.547Z"
   },
   {
    "duration": 438,
    "start_time": "2021-08-12T16:52:56.906Z"
   },
   {
    "duration": 546,
    "start_time": "2021-08-12T16:53:04.837Z"
   },
   {
    "duration": 48,
    "start_time": "2021-08-12T16:53:18.696Z"
   },
   {
    "duration": 3,
    "start_time": "2021-08-12T16:55:20.301Z"
   },
   {
    "duration": 122,
    "start_time": "2021-08-12T16:56:03.290Z"
   },
   {
    "duration": 738,
    "start_time": "2021-08-12T16:56:10.413Z"
   },
   {
    "duration": 25,
    "start_time": "2021-08-12T16:58:21.228Z"
   },
   {
    "duration": 2150,
    "start_time": "2021-08-12T16:58:34.428Z"
   },
   {
    "duration": 1926,
    "start_time": "2021-08-12T16:59:07.384Z"
   },
   {
    "duration": 19,
    "start_time": "2021-08-12T16:59:29.036Z"
   },
   {
    "duration": 4,
    "start_time": "2021-08-12T16:59:30.579Z"
   },
   {
    "duration": 8531,
    "start_time": "2021-08-12T16:59:31.046Z"
   },
   {
    "duration": -198,
    "start_time": "2021-08-12T16:59:39.778Z"
   },
   {
    "duration": 2445,
    "start_time": "2021-08-12T16:59:50.178Z"
   },
   {
    "duration": 8321,
    "start_time": "2021-08-12T16:59:56.360Z"
   },
   {
    "duration": 334,
    "start_time": "2021-08-12T17:00:11.962Z"
   },
   {
    "duration": 27,
    "start_time": "2021-08-12T17:00:51.236Z"
   },
   {
    "duration": 389,
    "start_time": "2021-08-12T17:00:51.556Z"
   },
   {
    "duration": 478,
    "start_time": "2021-08-12T17:01:33.824Z"
   },
   {
    "duration": 9066,
    "start_time": "2021-08-12T17:05:13.587Z"
   },
   {
    "duration": 1236,
    "start_time": "2021-08-12T17:05:41.904Z"
   },
   {
    "duration": 583,
    "start_time": "2021-08-12T17:06:04.108Z"
   },
   {
    "duration": 815,
    "start_time": "2021-08-12T17:06:09.796Z"
   },
   {
    "duration": 376,
    "start_time": "2021-08-12T17:19:37.600Z"
   },
   {
    "duration": 418,
    "start_time": "2021-08-12T17:19:48.144Z"
   },
   {
    "duration": 10,
    "start_time": "2021-08-12T17:19:53.236Z"
   },
   {
    "duration": 293,
    "start_time": "2021-08-12T17:20:42.360Z"
   },
   {
    "duration": 306,
    "start_time": "2021-08-12T17:20:50.432Z"
   },
   {
    "duration": 358,
    "start_time": "2021-08-12T17:20:54.718Z"
   },
   {
    "duration": 356,
    "start_time": "2021-08-12T17:21:14.360Z"
   },
   {
    "duration": 223,
    "start_time": "2021-08-12T17:22:04.788Z"
   },
   {
    "duration": 390,
    "start_time": "2021-08-12T17:22:37.386Z"
   },
   {
    "duration": 104,
    "start_time": "2021-08-12T17:23:20.263Z"
   },
   {
    "duration": 791,
    "start_time": "2021-08-12T17:23:24.470Z"
   },
   {
    "duration": 733,
    "start_time": "2021-08-12T17:25:17.286Z"
   },
   {
    "duration": 1016,
    "start_time": "2021-08-12T17:25:29.825Z"
   },
   {
    "duration": 683,
    "start_time": "2021-08-12T17:25:56.715Z"
   },
   {
    "duration": 832,
    "start_time": "2021-08-12T17:27:04.645Z"
   },
   {
    "duration": 812,
    "start_time": "2021-08-12T17:27:11.609Z"
   },
   {
    "duration": 644,
    "start_time": "2021-08-12T17:27:14.712Z"
   },
   {
    "duration": 1173,
    "start_time": "2021-08-12T17:27:46.341Z"
   },
   {
    "duration": 11170,
    "start_time": "2021-08-12T17:28:50.752Z"
   },
   {
    "duration": 2097,
    "start_time": "2021-08-12T17:29:18.832Z"
   },
   {
    "duration": 384,
    "start_time": "2021-08-12T17:40:16.810Z"
   },
   {
    "duration": 343,
    "start_time": "2021-08-12T17:40:34.938Z"
   },
   {
    "duration": 1462,
    "start_time": "2021-08-12T17:40:52.506Z"
   },
   {
    "duration": 13,
    "start_time": "2021-08-12T17:40:53.971Z"
   },
   {
    "duration": 45,
    "start_time": "2021-08-12T17:40:53.987Z"
   },
   {
    "duration": 17,
    "start_time": "2021-08-12T17:40:54.034Z"
   },
   {
    "duration": 5,
    "start_time": "2021-08-12T17:40:54.054Z"
   },
   {
    "duration": 7,
    "start_time": "2021-08-12T17:40:54.061Z"
   },
   {
    "duration": 15,
    "start_time": "2021-08-12T17:40:54.070Z"
   },
   {
    "duration": 15,
    "start_time": "2021-08-12T17:40:54.087Z"
   },
   {
    "duration": 17,
    "start_time": "2021-08-12T17:40:54.105Z"
   },
   {
    "duration": 21,
    "start_time": "2021-08-12T17:40:54.124Z"
   },
   {
    "duration": 15,
    "start_time": "2021-08-12T17:40:54.147Z"
   },
   {
    "duration": 28,
    "start_time": "2021-08-12T17:40:54.164Z"
   },
   {
    "duration": 410,
    "start_time": "2021-08-12T17:40:54.194Z"
   },
   {
    "duration": 595,
    "start_time": "2021-08-12T17:40:54.607Z"
   },
   {
    "duration": 1844,
    "start_time": "2021-08-12T17:40:55.204Z"
   },
   {
    "duration": 8,
    "start_time": "2021-08-12T17:40:57.051Z"
   },
   {
    "duration": 45,
    "start_time": "2021-08-12T17:40:57.061Z"
   },
   {
    "duration": 26,
    "start_time": "2021-08-12T17:40:57.108Z"
   },
   {
    "duration": 442,
    "start_time": "2021-08-12T17:40:57.136Z"
   },
   {
    "duration": 960,
    "start_time": "2021-08-12T17:40:57.583Z"
   },
   {
    "duration": 800,
    "start_time": "2021-08-12T17:40:58.546Z"
   },
   {
    "duration": 38,
    "start_time": "2021-08-12T17:40:59.349Z"
   },
   {
    "duration": 534,
    "start_time": "2021-08-12T17:41:40.746Z"
   },
   {
    "duration": 320,
    "start_time": "2021-08-12T17:43:14.998Z"
   },
   {
    "duration": 22,
    "start_time": "2021-08-12T17:43:46.605Z"
   },
   {
    "duration": 22,
    "start_time": "2021-08-12T17:46:40.582Z"
   },
   {
    "duration": 373,
    "start_time": "2021-08-12T17:47:09.816Z"
   },
   {
    "duration": 32,
    "start_time": "2021-08-12T17:47:22.726Z"
   },
   {
    "duration": 32,
    "start_time": "2021-08-12T17:47:32.158Z"
   },
   {
    "duration": 30,
    "start_time": "2021-08-12T17:48:43.946Z"
   },
   {
    "duration": 30,
    "start_time": "2021-08-12T17:48:44.468Z"
   },
   {
    "duration": 30,
    "start_time": "2021-08-12T17:48:45.680Z"
   },
   {
    "duration": 31,
    "start_time": "2021-08-12T17:48:52.149Z"
   },
   {
    "duration": 32,
    "start_time": "2021-08-12T17:48:58.998Z"
   },
   {
    "duration": 30,
    "start_time": "2021-08-12T17:50:37.787Z"
   },
   {
    "duration": 137,
    "start_time": "2021-08-12T17:50:59.007Z"
   },
   {
    "duration": 138,
    "start_time": "2021-08-12T17:51:10.998Z"
   },
   {
    "duration": 137,
    "start_time": "2021-08-12T17:51:19.690Z"
   },
   {
    "duration": 43,
    "start_time": "2021-08-12T17:51:38.884Z"
   },
   {
    "duration": 360,
    "start_time": "2021-08-12T17:52:47.656Z"
   },
   {
    "duration": 381,
    "start_time": "2021-08-12T17:53:14.442Z"
   },
   {
    "duration": 11,
    "start_time": "2021-08-12T17:53:39.326Z"
   },
   {
    "duration": 10,
    "start_time": "2021-08-12T17:54:02.998Z"
   },
   {
    "duration": 12,
    "start_time": "2021-08-12T17:54:19.802Z"
   },
   {
    "duration": 9,
    "start_time": "2021-08-12T17:54:58.772Z"
   },
   {
    "duration": 10,
    "start_time": "2021-08-12T17:55:48.396Z"
   },
   {
    "duration": 10,
    "start_time": "2021-08-12T17:55:50.529Z"
   },
   {
    "duration": 10,
    "start_time": "2021-08-12T17:56:03.318Z"
   },
   {
    "duration": 31,
    "start_time": "2021-08-12T18:01:18.958Z"
   },
   {
    "duration": 27,
    "start_time": "2021-08-12T18:01:48.245Z"
   },
   {
    "duration": 29,
    "start_time": "2021-08-12T18:03:54.271Z"
   },
   {
    "duration": 26,
    "start_time": "2021-08-12T18:04:14.292Z"
   },
   {
    "duration": 14,
    "start_time": "2021-08-12T18:19:43.133Z"
   },
   {
    "duration": 17,
    "start_time": "2021-08-12T18:20:23.083Z"
   },
   {
    "duration": 20,
    "start_time": "2021-08-12T18:22:30.680Z"
   },
   {
    "duration": 16,
    "start_time": "2021-08-12T18:22:49.273Z"
   },
   {
    "duration": 19,
    "start_time": "2021-08-12T18:22:53.780Z"
   },
   {
    "duration": 16,
    "start_time": "2021-08-12T18:24:28.053Z"
   },
   {
    "duration": 15,
    "start_time": "2021-08-12T18:25:35.609Z"
   },
   {
    "duration": 15,
    "start_time": "2021-08-12T18:25:38.058Z"
   },
   {
    "duration": 15,
    "start_time": "2021-08-12T18:25:47.935Z"
   },
   {
    "duration": 15,
    "start_time": "2021-08-12T18:25:52.021Z"
   },
   {
    "duration": 1517,
    "start_time": "2021-08-14T03:49:14.465Z"
   },
   {
    "duration": 18,
    "start_time": "2021-08-14T03:49:15.985Z"
   },
   {
    "duration": 61,
    "start_time": "2021-08-14T03:49:16.006Z"
   },
   {
    "duration": 27,
    "start_time": "2021-08-14T03:49:16.071Z"
   },
   {
    "duration": 4,
    "start_time": "2021-08-14T03:49:16.100Z"
   },
   {
    "duration": 9,
    "start_time": "2021-08-14T03:49:16.107Z"
   },
   {
    "duration": 13,
    "start_time": "2021-08-14T03:49:16.118Z"
   },
   {
    "duration": 14,
    "start_time": "2021-08-14T03:49:16.164Z"
   },
   {
    "duration": 20,
    "start_time": "2021-08-14T03:49:16.181Z"
   },
   {
    "duration": 59,
    "start_time": "2021-08-14T03:49:16.204Z"
   },
   {
    "duration": 19,
    "start_time": "2021-08-14T03:49:16.266Z"
   },
   {
    "duration": 21,
    "start_time": "2021-08-14T03:49:16.287Z"
   },
   {
    "duration": 459,
    "start_time": "2021-08-14T03:49:16.311Z"
   },
   {
    "duration": 579,
    "start_time": "2021-08-14T03:49:16.773Z"
   },
   {
    "duration": 1674,
    "start_time": "2021-08-14T03:49:17.363Z"
   },
   {
    "duration": 22,
    "start_time": "2021-08-14T03:49:19.040Z"
   },
   {
    "duration": 33,
    "start_time": "2021-08-14T03:49:19.064Z"
   },
   {
    "duration": 30,
    "start_time": "2021-08-14T03:49:19.100Z"
   },
   {
    "duration": 459,
    "start_time": "2021-08-14T03:49:19.133Z"
   },
   {
    "duration": 959,
    "start_time": "2021-08-14T03:49:19.595Z"
   },
   {
    "duration": 828,
    "start_time": "2021-08-14T03:49:20.557Z"
   },
   {
    "duration": 16,
    "start_time": "2021-08-14T03:49:21.388Z"
   },
   {
    "duration": 10,
    "start_time": "2021-08-14T03:49:21.408Z"
   },
   {
    "duration": 9,
    "start_time": "2021-08-14T03:49:21.421Z"
   },
   {
    "duration": 27,
    "start_time": "2021-08-14T03:49:21.463Z"
   },
   {
    "duration": 9,
    "start_time": "2021-08-14T03:49:21.493Z"
   },
   {
    "duration": 9,
    "start_time": "2021-08-14T03:49:21.505Z"
   },
   {
    "duration": 63,
    "start_time": "2021-08-14T03:49:21.517Z"
   },
   {
    "duration": 10,
    "start_time": "2021-08-14T03:49:21.582Z"
   },
   {
    "duration": 12,
    "start_time": "2021-08-14T03:49:21.595Z"
   },
   {
    "duration": 70,
    "start_time": "2021-08-14T03:49:21.610Z"
   },
   {
    "duration": 21,
    "start_time": "2021-08-14T03:49:21.683Z"
   },
   {
    "duration": 21,
    "start_time": "2021-08-14T03:49:21.707Z"
   },
   {
    "duration": 858,
    "start_time": "2021-08-14T03:50:23.967Z"
   },
   {
    "duration": 909,
    "start_time": "2021-08-14T03:51:34.947Z"
   },
   {
    "duration": 924,
    "start_time": "2021-08-14T03:52:25.951Z"
   },
   {
    "duration": 823,
    "start_time": "2021-08-14T03:53:05.391Z"
   },
   {
    "duration": 375,
    "start_time": "2021-08-14T03:53:56.599Z"
   },
   {
    "duration": 28,
    "start_time": "2021-08-14T03:55:43.012Z"
   },
   {
    "duration": 8497,
    "start_time": "2021-08-14T03:56:43.993Z"
   },
   {
    "duration": 442,
    "start_time": "2021-08-14T03:57:03.199Z"
   },
   {
    "duration": 16,
    "start_time": "2021-08-14T03:57:26.118Z"
   },
   {
    "duration": 621,
    "start_time": "2021-08-14T04:03:11.833Z"
   },
   {
    "duration": 119,
    "start_time": "2021-08-14T04:26:27.682Z"
   },
   {
    "duration": 351,
    "start_time": "2021-08-14T04:26:38.963Z"
   },
   {
    "duration": 342,
    "start_time": "2021-08-14T04:27:16.937Z"
   },
   {
    "duration": 388,
    "start_time": "2021-08-14T04:27:48.346Z"
   },
   {
    "duration": 51,
    "start_time": "2021-08-14T04:28:23.977Z"
   },
   {
    "duration": 2009,
    "start_time": "2021-08-14T04:32:41.245Z"
   },
   {
    "duration": 24221,
    "start_time": "2021-08-14T04:32:56.469Z"
   },
   {
    "duration": 1344,
    "start_time": "2021-08-14T04:33:35.465Z"
   },
   {
    "duration": 900,
    "start_time": "2021-08-14T04:34:00.906Z"
   },
   {
    "duration": 1382,
    "start_time": "2021-08-14T04:34:17.536Z"
   },
   {
    "duration": 894,
    "start_time": "2021-08-14T04:34:55.351Z"
   },
   {
    "duration": 1072,
    "start_time": "2021-08-14T04:35:24.949Z"
   },
   {
    "duration": 1059,
    "start_time": "2021-08-14T04:35:34.103Z"
   },
   {
    "duration": 1076,
    "start_time": "2021-08-14T04:36:11.245Z"
   },
   {
    "duration": 943,
    "start_time": "2021-08-14T04:36:33.340Z"
   },
   {
    "duration": 1057,
    "start_time": "2021-08-14T04:36:45.610Z"
   },
   {
    "duration": 373,
    "start_time": "2021-08-14T04:38:54.421Z"
   },
   {
    "duration": 1086,
    "start_time": "2021-08-14T04:39:00.606Z"
   },
   {
    "duration": 1275,
    "start_time": "2021-08-14T04:41:34.752Z"
   },
   {
    "duration": 1047,
    "start_time": "2021-08-14T04:41:47.536Z"
   },
   {
    "duration": 1264,
    "start_time": "2021-08-14T04:41:54.351Z"
   },
   {
    "duration": 1467,
    "start_time": "2021-08-14T04:45:51.679Z"
   },
   {
    "duration": 1702,
    "start_time": "2021-08-14T04:46:04.441Z"
   },
   {
    "duration": 1794,
    "start_time": "2021-08-14T04:46:18.071Z"
   },
   {
    "duration": 1931,
    "start_time": "2021-08-14T04:46:25.023Z"
   },
   {
    "duration": 27,
    "start_time": "2021-08-14T04:47:45.931Z"
   },
   {
    "duration": 4936,
    "start_time": "2021-08-14T04:50:00.713Z"
   },
   {
    "duration": 4561,
    "start_time": "2021-08-14T04:50:23.053Z"
   },
   {
    "duration": 17,
    "start_time": "2021-08-14T04:50:34.054Z"
   },
   {
    "duration": 128,
    "start_time": "2021-08-14T04:53:41.335Z"
   },
   {
    "duration": 351,
    "start_time": "2021-08-14T04:53:46.486Z"
   },
   {
    "duration": 379,
    "start_time": "2021-08-14T04:54:11.125Z"
   },
   {
    "duration": 393,
    "start_time": "2021-08-14T04:54:24.885Z"
   },
   {
    "duration": 382,
    "start_time": "2021-08-14T04:54:36.468Z"
   },
   {
    "duration": 104,
    "start_time": "2021-08-14T04:55:32.388Z"
   },
   {
    "duration": 377,
    "start_time": "2021-08-14T04:55:43.394Z"
   },
   {
    "duration": 574,
    "start_time": "2021-08-14T04:57:59.854Z"
   },
   {
    "duration": 573,
    "start_time": "2021-08-14T04:58:05.837Z"
   },
   {
    "duration": 119,
    "start_time": "2021-08-14T04:58:13.229Z"
   },
   {
    "duration": 156,
    "start_time": "2021-08-14T05:00:28.475Z"
   },
   {
    "duration": 892,
    "start_time": "2021-08-14T05:00:44.946Z"
   },
   {
    "duration": 613,
    "start_time": "2021-08-14T05:00:49.767Z"
   },
   {
    "duration": 684,
    "start_time": "2021-08-14T05:02:02.789Z"
   },
   {
    "duration": 720,
    "start_time": "2021-08-14T05:02:09.141Z"
   },
   {
    "duration": 640,
    "start_time": "2021-08-14T05:02:14.508Z"
   },
   {
    "duration": 499,
    "start_time": "2021-08-14T05:02:19.932Z"
   },
   {
    "duration": 590,
    "start_time": "2021-08-14T05:02:33.824Z"
   },
   {
    "duration": 591,
    "start_time": "2021-08-14T05:03:28.987Z"
   },
   {
    "duration": 687,
    "start_time": "2021-08-14T05:03:37.002Z"
   },
   {
    "duration": 569,
    "start_time": "2021-08-14T05:03:47.881Z"
   },
   {
    "duration": 519,
    "start_time": "2021-08-14T05:04:48.249Z"
   },
   {
    "duration": 11040,
    "start_time": "2021-08-14T05:06:20.308Z"
   },
   {
    "duration": 10357,
    "start_time": "2021-08-14T05:06:47.740Z"
   },
   {
    "duration": 11077,
    "start_time": "2021-08-14T05:10:52.548Z"
   },
   {
    "duration": 7,
    "start_time": "2021-08-14T05:11:21.337Z"
   },
   {
    "duration": 681,
    "start_time": "2021-08-14T05:12:17.544Z"
   },
   {
    "duration": 381,
    "start_time": "2021-08-14T05:12:50.702Z"
   },
   {
    "duration": 11182,
    "start_time": "2021-08-14T05:14:41.507Z"
   },
   {
    "duration": 167,
    "start_time": "2021-08-14T05:14:54.612Z"
   },
   {
    "duration": 655,
    "start_time": "2021-08-14T05:16:08.519Z"
   },
   {
    "duration": 17,
    "start_time": "2021-08-14T05:16:27.882Z"
   },
   {
    "duration": 623,
    "start_time": "2021-08-14T05:17:03.697Z"
   },
   {
    "duration": 222,
    "start_time": "2021-08-14T05:17:19.269Z"
   },
   {
    "duration": 192,
    "start_time": "2021-08-14T05:18:04.794Z"
   },
   {
    "duration": 204,
    "start_time": "2021-08-14T05:18:09.210Z"
   },
   {
    "duration": 196,
    "start_time": "2021-08-14T05:18:21.210Z"
   },
   {
    "duration": 210,
    "start_time": "2021-08-14T05:18:29.586Z"
   },
   {
    "duration": 202,
    "start_time": "2021-08-14T05:18:46.816Z"
   },
   {
    "duration": 867,
    "start_time": "2021-08-14T05:18:53.722Z"
   },
   {
    "duration": 225,
    "start_time": "2021-08-14T05:18:59.513Z"
   },
   {
    "duration": 213,
    "start_time": "2021-08-14T05:19:09.122Z"
   },
   {
    "duration": 9709,
    "start_time": "2021-08-14T05:22:30.625Z"
   },
   {
    "duration": 895,
    "start_time": "2021-08-14T05:22:49.820Z"
   },
   {
    "duration": 188,
    "start_time": "2021-08-14T05:23:06.176Z"
   },
   {
    "duration": 1198,
    "start_time": "2021-08-15T15:21:12.565Z"
   },
   {
    "duration": 12,
    "start_time": "2021-08-15T15:21:13.765Z"
   },
   {
    "duration": 31,
    "start_time": "2021-08-15T15:21:13.779Z"
   },
   {
    "duration": 12,
    "start_time": "2021-08-15T15:21:13.813Z"
   },
   {
    "duration": 4,
    "start_time": "2021-08-15T15:21:13.827Z"
   },
   {
    "duration": 6,
    "start_time": "2021-08-15T15:21:13.832Z"
   },
   {
    "duration": 7,
    "start_time": "2021-08-15T15:21:13.840Z"
   },
   {
    "duration": 39,
    "start_time": "2021-08-15T15:21:13.850Z"
   },
   {
    "duration": 16,
    "start_time": "2021-08-15T15:21:13.892Z"
   },
   {
    "duration": 17,
    "start_time": "2021-08-15T15:21:13.910Z"
   },
   {
    "duration": 14,
    "start_time": "2021-08-15T15:21:13.928Z"
   },
   {
    "duration": 50,
    "start_time": "2021-08-15T15:21:13.944Z"
   },
   {
    "duration": 289,
    "start_time": "2021-08-15T15:21:13.996Z"
   },
   {
    "duration": 381,
    "start_time": "2021-08-15T15:21:14.287Z"
   },
   {
    "duration": 1184,
    "start_time": "2021-08-15T15:21:14.670Z"
   },
   {
    "duration": 5,
    "start_time": "2021-08-15T15:21:15.856Z"
   },
   {
    "duration": 31,
    "start_time": "2021-08-15T15:21:15.862Z"
   },
   {
    "duration": 31,
    "start_time": "2021-08-15T15:21:15.895Z"
   },
   {
    "duration": 627,
    "start_time": "2021-08-15T15:21:15.928Z"
   },
   {
    "duration": 532,
    "start_time": "2021-08-15T15:21:16.557Z"
   },
   {
    "duration": 21,
    "start_time": "2021-08-15T15:21:17.091Z"
   },
   {
    "duration": 852,
    "start_time": "2021-08-15T15:21:17.113Z"
   },
   {
    "duration": 20,
    "start_time": "2021-08-15T15:21:17.967Z"
   },
   {
    "duration": 252,
    "start_time": "2021-08-15T15:21:17.989Z"
   },
   {
    "duration": 154,
    "start_time": "2021-08-15T15:21:18.243Z"
   },
   {
    "duration": 141,
    "start_time": "2021-08-15T15:21:18.398Z"
   },
   {
    "duration": 18,
    "start_time": "2021-08-15T15:21:18.541Z"
   },
   {
    "duration": 7,
    "start_time": "2021-08-15T15:21:18.561Z"
   },
   {
    "duration": 8,
    "start_time": "2021-08-15T15:21:18.585Z"
   },
   {
    "duration": 19,
    "start_time": "2021-08-15T15:21:18.594Z"
   },
   {
    "duration": 6,
    "start_time": "2021-08-15T15:21:18.614Z"
   },
   {
    "duration": 6,
    "start_time": "2021-08-15T15:21:18.622Z"
   },
   {
    "duration": 19,
    "start_time": "2021-08-15T15:21:18.630Z"
   },
   {
    "duration": 44,
    "start_time": "2021-08-15T15:21:18.651Z"
   },
   {
    "duration": 10,
    "start_time": "2021-08-15T15:21:18.696Z"
   },
   {
    "duration": 12,
    "start_time": "2021-08-15T15:27:16.394Z"
   },
   {
    "duration": 697,
    "start_time": "2021-08-15T15:33:50.789Z"
   },
   {
    "duration": 166,
    "start_time": "2021-08-15T15:35:21.605Z"
   },
   {
    "duration": 6,
    "start_time": "2021-08-15T15:35:27.059Z"
   },
   {
    "duration": 7,
    "start_time": "2021-08-15T15:35:35.993Z"
   },
   {
    "duration": 6,
    "start_time": "2021-08-15T15:36:02.572Z"
   },
   {
    "duration": 7,
    "start_time": "2021-08-15T15:36:09.183Z"
   },
   {
    "duration": 674,
    "start_time": "2021-08-15T15:38:10.313Z"
   },
   {
    "duration": 621,
    "start_time": "2021-08-15T15:39:29.891Z"
   },
   {
    "duration": 15,
    "start_time": "2021-08-15T15:39:35.237Z"
   },
   {
    "duration": 594,
    "start_time": "2021-08-15T15:39:36.049Z"
   },
   {
    "duration": 26,
    "start_time": "2021-08-15T15:41:41.109Z"
   },
   {
    "duration": 194,
    "start_time": "2021-08-15T15:41:41.537Z"
   },
   {
    "duration": 724,
    "start_time": "2021-08-15T16:05:07.552Z"
   },
   {
    "duration": 721,
    "start_time": "2021-08-15T16:05:22.293Z"
   },
   {
    "duration": 730,
    "start_time": "2021-08-15T16:05:42.144Z"
   },
   {
    "duration": 724,
    "start_time": "2021-08-15T16:06:01.770Z"
   },
   {
    "duration": 805,
    "start_time": "2021-08-15T16:06:08.234Z"
   },
   {
    "duration": 724,
    "start_time": "2021-08-15T16:07:04.478Z"
   },
   {
    "duration": 8,
    "start_time": "2021-08-15T16:07:30.976Z"
   },
   {
    "duration": 9,
    "start_time": "2021-08-15T16:07:40.518Z"
   },
   {
    "duration": 744,
    "start_time": "2021-08-15T16:07:41.750Z"
   },
   {
    "duration": 23,
    "start_time": "2021-08-15T16:10:13.621Z"
   },
   {
    "duration": 706,
    "start_time": "2021-08-15T16:10:16.598Z"
   },
   {
    "duration": 752,
    "start_time": "2021-08-15T16:10:28.013Z"
   },
   {
    "duration": 710,
    "start_time": "2021-08-15T16:10:53.975Z"
   },
   {
    "duration": 325,
    "start_time": "2021-08-15T16:13:39.419Z"
   },
   {
    "duration": 325,
    "start_time": "2021-08-15T16:13:46.013Z"
   },
   {
    "duration": 370,
    "start_time": "2021-08-15T16:14:17.223Z"
   },
   {
    "duration": 258,
    "start_time": "2021-08-15T16:14:17.654Z"
   },
   {
    "duration": 292,
    "start_time": "2021-08-15T16:14:18.076Z"
   },
   {
    "duration": 11,
    "start_time": "2021-08-15T16:14:19.805Z"
   },
   {
    "duration": 38,
    "start_time": "2021-08-15T16:15:25.678Z"
   },
   {
    "duration": 31,
    "start_time": "2021-08-15T16:15:35.189Z"
   },
   {
    "duration": 533,
    "start_time": "2021-08-15T16:15:46.162Z"
   },
   {
    "duration": 29,
    "start_time": "2021-08-15T16:15:51.744Z"
   },
   {
    "duration": 676,
    "start_time": "2021-08-15T16:15:52.514Z"
   },
   {
    "duration": 30,
    "start_time": "2021-08-15T16:16:02.757Z"
   },
   {
    "duration": 249,
    "start_time": "2021-08-15T16:16:03.274Z"
   },
   {
    "duration": 564,
    "start_time": "2021-08-15T16:16:59.730Z"
   },
   {
    "duration": 686,
    "start_time": "2021-08-15T16:17:00.296Z"
   },
   {
    "duration": 23,
    "start_time": "2021-08-15T16:17:06.090Z"
   },
   {
    "duration": 231,
    "start_time": "2021-08-15T16:17:06.923Z"
   },
   {
    "duration": 223,
    "start_time": "2021-08-15T16:17:07.155Z"
   },
   {
    "duration": 215,
    "start_time": "2021-08-15T16:17:07.700Z"
   },
   {
    "duration": 5,
    "start_time": "2021-08-15T16:17:08.307Z"
   },
   {
    "duration": 8,
    "start_time": "2021-08-15T16:17:08.982Z"
   },
   {
    "duration": 208,
    "start_time": "2021-08-15T16:17:33.016Z"
   },
   {
    "duration": 218,
    "start_time": "2021-08-15T16:17:37.714Z"
   },
   {
    "duration": 144,
    "start_time": "2021-08-15T16:18:43.532Z"
   },
   {
    "duration": 213,
    "start_time": "2021-08-15T16:18:54.749Z"
   },
   {
    "duration": 172,
    "start_time": "2021-08-15T16:19:19.843Z"
   },
   {
    "duration": 245,
    "start_time": "2021-08-15T16:19:26.697Z"
   },
   {
    "duration": 185,
    "start_time": "2021-08-15T16:21:33.025Z"
   },
   {
    "duration": 13,
    "start_time": "2021-08-15T16:21:39.599Z"
   },
   {
    "duration": 17,
    "start_time": "2021-08-15T16:22:54.935Z"
   },
   {
    "duration": 12,
    "start_time": "2021-08-15T16:23:05.491Z"
   },
   {
    "duration": 12,
    "start_time": "2021-08-15T16:23:08.173Z"
   },
   {
    "duration": 39,
    "start_time": "2021-08-15T16:23:11.506Z"
   },
   {
    "duration": 10,
    "start_time": "2021-08-15T16:23:11.882Z"
   },
   {
    "duration": 32,
    "start_time": "2021-08-15T16:23:12.275Z"
   },
   {
    "duration": 13,
    "start_time": "2021-08-15T16:23:12.674Z"
   },
   {
    "duration": 3,
    "start_time": "2021-08-15T16:23:14.407Z"
   },
   {
    "duration": 5,
    "start_time": "2021-08-15T16:23:15.255Z"
   },
   {
    "duration": 6,
    "start_time": "2021-08-15T16:23:31.605Z"
   },
   {
    "duration": 10,
    "start_time": "2021-08-15T16:23:32.660Z"
   },
   {
    "duration": 17,
    "start_time": "2021-08-15T16:23:38.103Z"
   },
   {
    "duration": 16,
    "start_time": "2021-08-15T16:26:55.672Z"
   },
   {
    "duration": 12,
    "start_time": "2021-08-15T16:27:00.150Z"
   },
   {
    "duration": 14,
    "start_time": "2021-08-15T16:27:04.376Z"
   },
   {
    "duration": 883,
    "start_time": "2021-08-15T16:29:32.884Z"
   },
   {
    "duration": 874,
    "start_time": "2021-08-15T16:29:44.058Z"
   },
   {
    "duration": 1020,
    "start_time": "2021-08-15T16:31:17.060Z"
   },
   {
    "duration": 897,
    "start_time": "2021-08-15T16:31:20.624Z"
   },
   {
    "duration": 1127,
    "start_time": "2021-08-15T16:31:43.486Z"
   },
   {
    "duration": 12,
    "start_time": "2021-08-15T16:31:44.615Z"
   },
   {
    "duration": 37,
    "start_time": "2021-08-15T16:31:44.632Z"
   },
   {
    "duration": 20,
    "start_time": "2021-08-15T16:31:44.671Z"
   },
   {
    "duration": 11,
    "start_time": "2021-08-15T16:31:44.693Z"
   },
   {
    "duration": 20,
    "start_time": "2021-08-15T16:31:44.706Z"
   },
   {
    "duration": 11,
    "start_time": "2021-08-15T16:31:44.729Z"
   },
   {
    "duration": 12,
    "start_time": "2021-08-15T16:31:44.742Z"
   },
   {
    "duration": 19,
    "start_time": "2021-08-15T16:31:44.756Z"
   },
   {
    "duration": 17,
    "start_time": "2021-08-15T16:31:44.785Z"
   },
   {
    "duration": 13,
    "start_time": "2021-08-15T16:31:44.804Z"
   },
   {
    "duration": 14,
    "start_time": "2021-08-15T16:31:44.819Z"
   },
   {
    "duration": 307,
    "start_time": "2021-08-15T16:31:44.835Z"
   },
   {
    "duration": 371,
    "start_time": "2021-08-15T16:31:45.144Z"
   },
   {
    "duration": 1116,
    "start_time": "2021-08-15T16:31:45.517Z"
   },
   {
    "duration": 1040,
    "start_time": "2021-08-15T16:31:46.635Z"
   },
   {
    "duration": 3023,
    "start_time": "2021-08-15T16:31:44.655Z"
   },
   {
    "duration": 3023,
    "start_time": "2021-08-15T16:31:44.656Z"
   },
   {
    "duration": 3027,
    "start_time": "2021-08-15T16:31:44.657Z"
   },
   {
    "duration": 3026,
    "start_time": "2021-08-15T16:31:44.659Z"
   },
   {
    "duration": 3023,
    "start_time": "2021-08-15T16:31:44.663Z"
   },
   {
    "duration": 3022,
    "start_time": "2021-08-15T16:31:44.665Z"
   },
   {
    "duration": 3023,
    "start_time": "2021-08-15T16:31:44.666Z"
   },
   {
    "duration": 3023,
    "start_time": "2021-08-15T16:31:44.667Z"
   },
   {
    "duration": 3022,
    "start_time": "2021-08-15T16:31:44.669Z"
   },
   {
    "duration": 3020,
    "start_time": "2021-08-15T16:31:44.671Z"
   },
   {
    "duration": 3020,
    "start_time": "2021-08-15T16:31:44.672Z"
   },
   {
    "duration": 3014,
    "start_time": "2021-08-15T16:31:44.679Z"
   },
   {
    "duration": 3014,
    "start_time": "2021-08-15T16:31:44.680Z"
   },
   {
    "duration": 3012,
    "start_time": "2021-08-15T16:31:44.682Z"
   },
   {
    "duration": 3012,
    "start_time": "2021-08-15T16:31:44.683Z"
   },
   {
    "duration": 3012,
    "start_time": "2021-08-15T16:31:44.684Z"
   },
   {
    "duration": 3012,
    "start_time": "2021-08-15T16:31:44.685Z"
   },
   {
    "duration": 3011,
    "start_time": "2021-08-15T16:31:44.687Z"
   },
   {
    "duration": 3010,
    "start_time": "2021-08-15T16:31:44.688Z"
   },
   {
    "duration": 3009,
    "start_time": "2021-08-15T16:31:44.690Z"
   },
   {
    "duration": 3009,
    "start_time": "2021-08-15T16:31:44.691Z"
   },
   {
    "duration": 3008,
    "start_time": "2021-08-15T16:31:44.692Z"
   },
   {
    "duration": 3004,
    "start_time": "2021-08-15T16:31:44.697Z"
   },
   {
    "duration": 870,
    "start_time": "2021-08-15T16:32:52.506Z"
   },
   {
    "duration": 1068,
    "start_time": "2021-08-15T16:34:58.749Z"
   },
   {
    "duration": 10,
    "start_time": "2021-08-15T16:34:59.819Z"
   },
   {
    "duration": 31,
    "start_time": "2021-08-15T16:34:59.831Z"
   },
   {
    "duration": 12,
    "start_time": "2021-08-15T16:34:59.864Z"
   },
   {
    "duration": 3,
    "start_time": "2021-08-15T16:34:59.885Z"
   },
   {
    "duration": 10,
    "start_time": "2021-08-15T16:34:59.889Z"
   },
   {
    "duration": 7,
    "start_time": "2021-08-15T16:34:59.900Z"
   },
   {
    "duration": 11,
    "start_time": "2021-08-15T16:34:59.909Z"
   },
   {
    "duration": 17,
    "start_time": "2021-08-15T16:34:59.923Z"
   },
   {
    "duration": 47,
    "start_time": "2021-08-15T16:34:59.942Z"
   },
   {
    "duration": 11,
    "start_time": "2021-08-15T16:34:59.991Z"
   },
   {
    "duration": 14,
    "start_time": "2021-08-15T16:35:00.004Z"
   },
   {
    "duration": 308,
    "start_time": "2021-08-15T16:35:00.019Z"
   },
   {
    "duration": 363,
    "start_time": "2021-08-15T16:35:00.328Z"
   },
   {
    "duration": 1136,
    "start_time": "2021-08-15T16:35:00.693Z"
   },
   {
    "duration": 1025,
    "start_time": "2021-08-15T16:35:01.831Z"
   },
   {
    "duration": 3017,
    "start_time": "2021-08-15T16:34:59.841Z"
   },
   {
    "duration": 3017,
    "start_time": "2021-08-15T16:34:59.842Z"
   },
   {
    "duration": 3016,
    "start_time": "2021-08-15T16:34:59.844Z"
   },
   {
    "duration": 3016,
    "start_time": "2021-08-15T16:34:59.845Z"
   },
   {
    "duration": 3016,
    "start_time": "2021-08-15T16:34:59.846Z"
   },
   {
    "duration": 3016,
    "start_time": "2021-08-15T16:34:59.847Z"
   },
   {
    "duration": 3007,
    "start_time": "2021-08-15T16:34:59.856Z"
   },
   {
    "duration": 3007,
    "start_time": "2021-08-15T16:34:59.858Z"
   },
   {
    "duration": 3006,
    "start_time": "2021-08-15T16:34:59.860Z"
   },
   {
    "duration": 3004,
    "start_time": "2021-08-15T16:34:59.862Z"
   },
   {
    "duration": 3019,
    "start_time": "2021-08-15T16:34:59.865Z"
   },
   {
    "duration": 3019,
    "start_time": "2021-08-15T16:34:59.866Z"
   },
   {
    "duration": 3019,
    "start_time": "2021-08-15T16:34:59.867Z"
   },
   {
    "duration": 3019,
    "start_time": "2021-08-15T16:34:59.868Z"
   },
   {
    "duration": 3018,
    "start_time": "2021-08-15T16:34:59.870Z"
   },
   {
    "duration": 3018,
    "start_time": "2021-08-15T16:34:59.871Z"
   },
   {
    "duration": 3015,
    "start_time": "2021-08-15T16:34:59.875Z"
   },
   {
    "duration": 3014,
    "start_time": "2021-08-15T16:34:59.877Z"
   },
   {
    "duration": 3014,
    "start_time": "2021-08-15T16:34:59.878Z"
   },
   {
    "duration": 3014,
    "start_time": "2021-08-15T16:34:59.879Z"
   },
   {
    "duration": 3014,
    "start_time": "2021-08-15T16:34:59.880Z"
   },
   {
    "duration": 3013,
    "start_time": "2021-08-15T16:34:59.882Z"
   },
   {
    "duration": 3012,
    "start_time": "2021-08-15T16:34:59.883Z"
   },
   {
    "duration": 1153,
    "start_time": "2021-08-15T16:41:07.753Z"
   },
   {
    "duration": 10,
    "start_time": "2021-08-15T16:41:08.908Z"
   },
   {
    "duration": 48,
    "start_time": "2021-08-15T16:41:08.921Z"
   },
   {
    "duration": 12,
    "start_time": "2021-08-15T16:41:08.971Z"
   },
   {
    "duration": 18,
    "start_time": "2021-08-15T16:41:08.985Z"
   },
   {
    "duration": 14,
    "start_time": "2021-08-15T16:41:09.005Z"
   },
   {
    "duration": 18,
    "start_time": "2021-08-15T16:41:09.021Z"
   },
   {
    "duration": 30,
    "start_time": "2021-08-15T16:41:09.040Z"
   },
   {
    "duration": 17,
    "start_time": "2021-08-15T16:41:09.073Z"
   },
   {
    "duration": 17,
    "start_time": "2021-08-15T16:41:09.092Z"
   },
   {
    "duration": 12,
    "start_time": "2021-08-15T16:41:09.111Z"
   },
   {
    "duration": 14,
    "start_time": "2021-08-15T16:41:09.124Z"
   },
   {
    "duration": 307,
    "start_time": "2021-08-15T16:41:09.139Z"
   },
   {
    "duration": 355,
    "start_time": "2021-08-15T16:41:09.448Z"
   },
   {
    "duration": 1125,
    "start_time": "2021-08-15T16:41:09.805Z"
   },
   {
    "duration": 1028,
    "start_time": "2021-08-15T16:41:10.932Z"
   },
   {
    "duration": 3018,
    "start_time": "2021-08-15T16:41:08.944Z"
   },
   {
    "duration": 3017,
    "start_time": "2021-08-15T16:41:08.946Z"
   },
   {
    "duration": 3017,
    "start_time": "2021-08-15T16:41:08.947Z"
   },
   {
    "duration": 3016,
    "start_time": "2021-08-15T16:41:08.949Z"
   },
   {
    "duration": 3016,
    "start_time": "2021-08-15T16:41:08.950Z"
   },
   {
    "duration": 3015,
    "start_time": "2021-08-15T16:41:08.952Z"
   },
   {
    "duration": 3011,
    "start_time": "2021-08-15T16:41:08.957Z"
   },
   {
    "duration": 3026,
    "start_time": "2021-08-15T16:41:08.958Z"
   },
   {
    "duration": 3025,
    "start_time": "2021-08-15T16:41:08.960Z"
   },
   {
    "duration": 3025,
    "start_time": "2021-08-15T16:41:08.961Z"
   },
   {
    "duration": 3024,
    "start_time": "2021-08-15T16:41:08.963Z"
   },
   {
    "duration": 3022,
    "start_time": "2021-08-15T16:41:08.966Z"
   },
   {
    "duration": 3021,
    "start_time": "2021-08-15T16:41:08.968Z"
   },
   {
    "duration": 3019,
    "start_time": "2021-08-15T16:41:08.971Z"
   },
   {
    "duration": 3018,
    "start_time": "2021-08-15T16:41:08.973Z"
   },
   {
    "duration": 3018,
    "start_time": "2021-08-15T16:41:08.974Z"
   },
   {
    "duration": 3013,
    "start_time": "2021-08-15T16:41:08.980Z"
   },
   {
    "duration": 3013,
    "start_time": "2021-08-15T16:41:08.981Z"
   },
   {
    "duration": 3013,
    "start_time": "2021-08-15T16:41:08.982Z"
   },
   {
    "duration": 3013,
    "start_time": "2021-08-15T16:41:08.983Z"
   },
   {
    "duration": 3012,
    "start_time": "2021-08-15T16:41:08.985Z"
   },
   {
    "duration": 3012,
    "start_time": "2021-08-15T16:41:08.986Z"
   },
   {
    "duration": 3011,
    "start_time": "2021-08-15T16:41:08.988Z"
   },
   {
    "duration": 1133,
    "start_time": "2021-08-15T16:41:36.722Z"
   },
   {
    "duration": 11,
    "start_time": "2021-08-15T16:41:37.856Z"
   },
   {
    "duration": 32,
    "start_time": "2021-08-15T16:41:37.868Z"
   },
   {
    "duration": 11,
    "start_time": "2021-08-15T16:41:37.902Z"
   },
   {
    "duration": 4,
    "start_time": "2021-08-15T16:41:37.915Z"
   },
   {
    "duration": 8,
    "start_time": "2021-08-15T16:41:37.921Z"
   },
   {
    "duration": 6,
    "start_time": "2021-08-15T16:41:37.930Z"
   },
   {
    "duration": 9,
    "start_time": "2021-08-15T16:41:37.939Z"
   },
   {
    "duration": 36,
    "start_time": "2021-08-15T16:41:37.950Z"
   },
   {
    "duration": 16,
    "start_time": "2021-08-15T16:41:37.987Z"
   },
   {
    "duration": 12,
    "start_time": "2021-08-15T16:41:38.004Z"
   },
   {
    "duration": 12,
    "start_time": "2021-08-15T16:41:38.018Z"
   },
   {
    "duration": 302,
    "start_time": "2021-08-15T16:41:38.031Z"
   },
   {
    "duration": 358,
    "start_time": "2021-08-15T16:41:38.335Z"
   },
   {
    "duration": 1124,
    "start_time": "2021-08-15T16:41:38.694Z"
   },
   {
    "duration": 1102,
    "start_time": "2021-08-15T16:45:49.277Z"
   },
   {
    "duration": 9,
    "start_time": "2021-08-15T16:45:50.381Z"
   },
   {
    "duration": 32,
    "start_time": "2021-08-15T16:45:50.392Z"
   },
   {
    "duration": 12,
    "start_time": "2021-08-15T16:45:50.426Z"
   },
   {
    "duration": 4,
    "start_time": "2021-08-15T16:45:50.440Z"
   },
   {
    "duration": 11,
    "start_time": "2021-08-15T16:45:50.445Z"
   },
   {
    "duration": 29,
    "start_time": "2021-08-15T16:45:50.457Z"
   },
   {
    "duration": 11,
    "start_time": "2021-08-15T16:45:50.487Z"
   },
   {
    "duration": 18,
    "start_time": "2021-08-15T16:45:50.500Z"
   },
   {
    "duration": 16,
    "start_time": "2021-08-15T16:45:50.520Z"
   },
   {
    "duration": 11,
    "start_time": "2021-08-15T16:45:50.538Z"
   },
   {
    "duration": 43,
    "start_time": "2021-08-15T16:45:50.551Z"
   },
   {
    "duration": 291,
    "start_time": "2021-08-15T16:45:50.596Z"
   },
   {
    "duration": 365,
    "start_time": "2021-08-15T16:45:50.888Z"
   },
   {
    "duration": 1098,
    "start_time": "2021-08-15T16:45:51.255Z"
   },
   {
    "duration": 998,
    "start_time": "2021-08-15T16:45:52.354Z"
   },
   {
    "duration": 3018,
    "start_time": "2021-08-15T16:45:50.336Z"
   },
   {
    "duration": 3018,
    "start_time": "2021-08-15T16:45:50.337Z"
   },
   {
    "duration": 3017,
    "start_time": "2021-08-15T16:45:50.338Z"
   },
   {
    "duration": 3016,
    "start_time": "2021-08-15T16:45:50.340Z"
   },
   {
    "duration": 3016,
    "start_time": "2021-08-15T16:45:50.341Z"
   },
   {
    "duration": 3016,
    "start_time": "2021-08-15T16:45:50.342Z"
   },
   {
    "duration": 3003,
    "start_time": "2021-08-15T16:45:50.356Z"
   },
   {
    "duration": 3003,
    "start_time": "2021-08-15T16:45:50.357Z"
   },
   {
    "duration": 3002,
    "start_time": "2021-08-15T16:45:50.359Z"
   },
   {
    "duration": 3002,
    "start_time": "2021-08-15T16:45:50.360Z"
   },
   {
    "duration": 3002,
    "start_time": "2021-08-15T16:45:50.361Z"
   },
   {
    "duration": 3000,
    "start_time": "2021-08-15T16:45:50.363Z"
   },
   {
    "duration": 3020,
    "start_time": "2021-08-15T16:45:50.364Z"
   },
   {
    "duration": 3020,
    "start_time": "2021-08-15T16:45:50.365Z"
   },
   {
    "duration": 3020,
    "start_time": "2021-08-15T16:45:50.366Z"
   },
   {
    "duration": 3020,
    "start_time": "2021-08-15T16:45:50.367Z"
   },
   {
    "duration": 3020,
    "start_time": "2021-08-15T16:45:50.368Z"
   },
   {
    "duration": 3016,
    "start_time": "2021-08-15T16:45:50.373Z"
   },
   {
    "duration": 3015,
    "start_time": "2021-08-15T16:45:50.375Z"
   },
   {
    "duration": 3014,
    "start_time": "2021-08-15T16:45:50.376Z"
   },
   {
    "duration": 3013,
    "start_time": "2021-08-15T16:45:50.378Z"
   },
   {
    "duration": 3013,
    "start_time": "2021-08-15T16:45:50.379Z"
   },
   {
    "duration": 3013,
    "start_time": "2021-08-15T16:45:50.380Z"
   },
   {
    "duration": 868,
    "start_time": "2021-08-15T16:46:48.467Z"
   },
   {
    "duration": 930,
    "start_time": "2021-08-15T16:47:05.666Z"
   },
   {
    "duration": 868,
    "start_time": "2021-08-15T16:47:27.806Z"
   },
   {
    "duration": 944,
    "start_time": "2021-08-15T16:47:33.056Z"
   },
   {
    "duration": 5,
    "start_time": "2021-08-15T16:48:40.760Z"
   },
   {
    "duration": 21,
    "start_time": "2021-08-15T16:48:41.714Z"
   },
   {
    "duration": 20,
    "start_time": "2021-08-15T16:48:46.437Z"
   },
   {
    "duration": 590,
    "start_time": "2021-08-15T16:49:00.032Z"
   },
   {
    "duration": 521,
    "start_time": "2021-08-15T16:49:09.637Z"
   },
   {
    "duration": 25,
    "start_time": "2021-08-15T16:49:16.297Z"
   },
   {
    "duration": 881,
    "start_time": "2021-08-15T16:49:19.694Z"
   },
   {
    "duration": 618,
    "start_time": "2021-08-15T16:49:26.669Z"
   },
   {
    "duration": 517,
    "start_time": "2021-08-15T16:49:38.205Z"
   },
   {
    "duration": 636,
    "start_time": "2021-08-15T16:49:47.523Z"
   },
   {
    "duration": 830,
    "start_time": "2021-08-15T16:49:59.465Z"
   },
   {
    "duration": 12,
    "start_time": "2021-08-15T16:50:39.307Z"
   },
   {
    "duration": 230,
    "start_time": "2021-08-15T16:50:40.212Z"
   },
   {
    "duration": 13,
    "start_time": "2021-08-15T16:50:50.023Z"
   },
   {
    "duration": 268,
    "start_time": "2021-08-15T16:50:50.375Z"
   },
   {
    "duration": 271,
    "start_time": "2021-08-15T16:50:50.701Z"
   },
   {
    "duration": 269,
    "start_time": "2021-08-15T16:50:51.198Z"
   },
   {
    "duration": 13,
    "start_time": "2021-08-15T16:50:56.303Z"
   },
   {
    "duration": 242,
    "start_time": "2021-08-15T16:50:56.525Z"
   },
   {
    "duration": 264,
    "start_time": "2021-08-15T16:50:56.769Z"
   },
   {
    "duration": 254,
    "start_time": "2021-08-15T16:50:57.346Z"
   },
   {
    "duration": 22,
    "start_time": "2021-08-15T16:51:01.510Z"
   },
   {
    "duration": 237,
    "start_time": "2021-08-15T16:51:01.780Z"
   },
   {
    "duration": 219,
    "start_time": "2021-08-15T16:51:02.068Z"
   },
   {
    "duration": 750,
    "start_time": "2021-08-15T17:42:31.234Z"
   },
   {
    "duration": 338,
    "start_time": "2021-08-15T17:44:10.281Z"
   },
   {
    "duration": 747,
    "start_time": "2021-08-15T17:44:44.203Z"
   },
   {
    "duration": 393,
    "start_time": "2021-08-15T17:44:46.261Z"
   },
   {
    "duration": 745,
    "start_time": "2021-08-15T17:45:06.889Z"
   },
   {
    "duration": 413,
    "start_time": "2021-08-15T17:45:07.636Z"
   },
   {
    "duration": 1064,
    "start_time": "2021-08-15T17:45:36.110Z"
   },
   {
    "duration": 11,
    "start_time": "2021-08-15T17:45:37.176Z"
   },
   {
    "duration": 40,
    "start_time": "2021-08-15T17:45:37.188Z"
   },
   {
    "duration": 13,
    "start_time": "2021-08-15T17:45:37.230Z"
   },
   {
    "duration": 5,
    "start_time": "2021-08-15T17:45:37.245Z"
   },
   {
    "duration": 7,
    "start_time": "2021-08-15T17:45:37.252Z"
   },
   {
    "duration": 26,
    "start_time": "2021-08-15T17:45:37.261Z"
   },
   {
    "duration": 12,
    "start_time": "2021-08-15T17:45:37.289Z"
   },
   {
    "duration": 18,
    "start_time": "2021-08-15T17:45:37.304Z"
   },
   {
    "duration": 17,
    "start_time": "2021-08-15T17:45:37.325Z"
   },
   {
    "duration": 12,
    "start_time": "2021-08-15T17:45:37.343Z"
   },
   {
    "duration": 14,
    "start_time": "2021-08-15T17:45:37.385Z"
   },
   {
    "duration": 291,
    "start_time": "2021-08-15T17:45:37.401Z"
   },
   {
    "duration": 358,
    "start_time": "2021-08-15T17:45:37.694Z"
   },
   {
    "duration": 1111,
    "start_time": "2021-08-15T17:45:38.054Z"
   },
   {
    "duration": 423,
    "start_time": "2021-08-15T17:45:39.166Z"
   },
   {
    "duration": 5,
    "start_time": "2021-08-15T17:45:39.591Z"
   },
   {
    "duration": 34,
    "start_time": "2021-08-15T17:45:39.598Z"
   },
   {
    "duration": 19,
    "start_time": "2021-08-15T17:45:39.634Z"
   },
   {
    "duration": 638,
    "start_time": "2021-08-15T17:45:39.655Z"
   },
   {
    "duration": 536,
    "start_time": "2021-08-15T17:45:40.295Z"
   },
   {
    "duration": 23,
    "start_time": "2021-08-15T17:45:40.833Z"
   },
   {
    "duration": 890,
    "start_time": "2021-08-15T17:45:40.858Z"
   },
   {
    "duration": 11,
    "start_time": "2021-08-15T17:45:41.750Z"
   },
   {
    "duration": 248,
    "start_time": "2021-08-15T17:45:41.763Z"
   },
   {
    "duration": 11,
    "start_time": "2021-08-15T17:45:42.013Z"
   },
   {
    "duration": 284,
    "start_time": "2021-08-15T17:45:42.027Z"
   },
   {
    "duration": 283,
    "start_time": "2021-08-15T17:45:42.313Z"
   },
   {
    "duration": 282,
    "start_time": "2021-08-15T17:45:42.598Z"
   },
   {
    "duration": 13,
    "start_time": "2021-08-15T17:45:42.881Z"
   },
   {
    "duration": 265,
    "start_time": "2021-08-15T17:45:42.895Z"
   },
   {
    "duration": 345,
    "start_time": "2021-08-15T17:45:43.161Z"
   },
   {
    "duration": 267,
    "start_time": "2021-08-15T17:45:43.508Z"
   },
   {
    "duration": 23,
    "start_time": "2021-08-15T17:45:43.777Z"
   },
   {
    "duration": 235,
    "start_time": "2021-08-15T17:45:43.802Z"
   },
   {
    "duration": 218,
    "start_time": "2021-08-15T17:45:44.039Z"
   },
   {
    "duration": 240,
    "start_time": "2021-08-15T17:45:44.259Z"
   },
   {
    "duration": 12,
    "start_time": "2021-08-15T17:45:44.501Z"
   },
   {
    "duration": 11,
    "start_time": "2021-08-15T17:45:44.515Z"
   },
   {
    "duration": 523,
    "start_time": "2021-08-15T17:46:51.347Z"
   },
   {
    "duration": 195,
    "start_time": "2021-08-15T17:47:07.785Z"
   },
   {
    "duration": 401,
    "start_time": "2021-08-15T17:47:14.296Z"
   },
   {
    "duration": 14,
    "start_time": "2021-08-15T17:47:25.600Z"
   },
   {
    "duration": 10,
    "start_time": "2021-08-15T17:47:27.387Z"
   },
   {
    "duration": 39,
    "start_time": "2021-08-15T17:47:30.735Z"
   },
   {
    "duration": 10,
    "start_time": "2021-08-15T17:47:31.056Z"
   },
   {
    "duration": 29,
    "start_time": "2021-08-15T17:47:31.325Z"
   },
   {
    "duration": 12,
    "start_time": "2021-08-15T17:47:31.750Z"
   },
   {
    "duration": 3,
    "start_time": "2021-08-15T17:47:33.093Z"
   },
   {
    "duration": 5,
    "start_time": "2021-08-15T17:47:33.856Z"
   },
   {
    "duration": 7,
    "start_time": "2021-08-15T17:47:34.317Z"
   },
   {
    "duration": 9,
    "start_time": "2021-08-15T17:47:34.564Z"
   },
   {
    "duration": 18,
    "start_time": "2021-08-15T17:47:35.361Z"
   },
   {
    "duration": 16,
    "start_time": "2021-08-15T17:47:36.382Z"
   },
   {
    "duration": 11,
    "start_time": "2021-08-15T17:47:37.349Z"
   },
   {
    "duration": 14,
    "start_time": "2021-08-15T17:47:37.630Z"
   },
   {
    "duration": 259,
    "start_time": "2021-08-15T17:47:38.859Z"
   },
   {
    "duration": 353,
    "start_time": "2021-08-15T17:47:40.243Z"
   },
   {
    "duration": 410,
    "start_time": "2021-08-15T17:47:41.662Z"
   },
   {
    "duration": 6,
    "start_time": "2021-08-15T17:49:35.798Z"
   },
   {
    "duration": 20,
    "start_time": "2021-08-15T17:49:36.407Z"
   },
   {
    "duration": 14,
    "start_time": "2021-08-15T17:49:44.951Z"
   },
   {
    "duration": 730,
    "start_time": "2021-08-15T17:53:49.272Z"
   },
   {
    "duration": 738,
    "start_time": "2021-08-15T17:55:04.447Z"
   },
   {
    "duration": 380,
    "start_time": "2021-08-15T17:57:08.717Z"
   },
   {
    "duration": 6,
    "start_time": "2021-08-15T17:57:09.521Z"
   },
   {
    "duration": 15,
    "start_time": "2021-08-15T17:57:10.005Z"
   },
   {
    "duration": 19,
    "start_time": "2021-08-15T17:57:11.074Z"
   },
   {
    "duration": 13,
    "start_time": "2021-08-15T17:58:27.458Z"
   },
   {
    "duration": 1121,
    "start_time": "2021-08-15T17:59:55.154Z"
   },
   {
    "duration": 10,
    "start_time": "2021-08-15T17:59:56.277Z"
   },
   {
    "duration": 35,
    "start_time": "2021-08-15T17:59:56.293Z"
   },
   {
    "duration": 14,
    "start_time": "2021-08-15T17:59:56.330Z"
   },
   {
    "duration": 4,
    "start_time": "2021-08-15T17:59:56.346Z"
   },
   {
    "duration": 36,
    "start_time": "2021-08-15T17:59:56.352Z"
   },
   {
    "duration": 6,
    "start_time": "2021-08-15T17:59:56.392Z"
   },
   {
    "duration": 11,
    "start_time": "2021-08-15T17:59:56.401Z"
   },
   {
    "duration": 19,
    "start_time": "2021-08-15T17:59:56.414Z"
   },
   {
    "duration": 52,
    "start_time": "2021-08-15T17:59:56.435Z"
   },
   {
    "duration": 13,
    "start_time": "2021-08-15T17:59:56.489Z"
   },
   {
    "duration": 14,
    "start_time": "2021-08-15T17:59:56.504Z"
   },
   {
    "duration": 324,
    "start_time": "2021-08-15T17:59:56.520Z"
   },
   {
    "duration": 376,
    "start_time": "2021-08-15T17:59:56.846Z"
   },
   {
    "duration": 444,
    "start_time": "2021-08-15T17:59:57.224Z"
   },
   {
    "duration": 15,
    "start_time": "2021-08-15T17:59:57.670Z"
   },
   {
    "duration": 14,
    "start_time": "2021-08-15T17:59:57.687Z"
   },
   {
    "duration": 18,
    "start_time": "2021-08-15T17:59:57.702Z"
   },
   {
    "duration": 610,
    "start_time": "2021-08-15T17:59:57.722Z"
   },
   {
    "duration": 601,
    "start_time": "2021-08-15T17:59:58.334Z"
   },
   {
    "duration": 23,
    "start_time": "2021-08-15T17:59:58.937Z"
   },
   {
    "duration": 889,
    "start_time": "2021-08-15T17:59:58.963Z"
   },
   {
    "duration": 11,
    "start_time": "2021-08-15T17:59:59.855Z"
   },
   {
    "duration": 261,
    "start_time": "2021-08-15T17:59:59.867Z"
   },
   {
    "duration": 12,
    "start_time": "2021-08-15T18:00:00.130Z"
   },
   {
    "duration": 285,
    "start_time": "2021-08-15T18:00:00.143Z"
   },
   {
    "duration": 284,
    "start_time": "2021-08-15T18:00:00.430Z"
   },
   {
    "duration": 283,
    "start_time": "2021-08-15T18:00:00.715Z"
   },
   {
    "duration": 12,
    "start_time": "2021-08-15T18:00:01.000Z"
   },
   {
    "duration": 258,
    "start_time": "2021-08-15T18:00:01.014Z"
   },
   {
    "duration": 274,
    "start_time": "2021-08-15T18:00:01.274Z"
   },
   {
    "duration": 268,
    "start_time": "2021-08-15T18:00:01.550Z"
   },
   {
    "duration": 20,
    "start_time": "2021-08-15T18:00:01.819Z"
   },
   {
    "duration": 237,
    "start_time": "2021-08-15T18:00:01.841Z"
   },
   {
    "duration": 303,
    "start_time": "2021-08-15T18:00:02.079Z"
   },
   {
    "duration": 230,
    "start_time": "2021-08-15T18:00:02.384Z"
   },
   {
    "duration": 12,
    "start_time": "2021-08-15T18:00:02.616Z"
   },
   {
    "duration": 16,
    "start_time": "2021-08-15T18:00:02.630Z"
   },
   {
    "duration": 265,
    "start_time": "2021-08-15T18:06:28.247Z"
   },
   {
    "duration": 7,
    "start_time": "2021-08-15T18:06:45.636Z"
   },
   {
    "duration": 886,
    "start_time": "2021-08-15T18:06:52.101Z"
   },
   {
    "duration": 11,
    "start_time": "2021-08-15T18:06:55.986Z"
   },
   {
    "duration": 11,
    "start_time": "2021-08-15T18:07:01.996Z"
   },
   {
    "duration": 597,
    "start_time": "2021-08-15T18:12:01.306Z"
   },
   {
    "duration": 6,
    "start_time": "2021-08-15T18:12:05.165Z"
   },
   {
    "duration": 605,
    "start_time": "2021-08-15T18:12:05.885Z"
   },
   {
    "duration": 935,
    "start_time": "2021-08-15T18:12:13.463Z"
   },
   {
    "duration": 463,
    "start_time": "2021-08-15T18:12:39.533Z"
   },
   {
    "duration": 324,
    "start_time": "2021-08-15T18:12:49.520Z"
   },
   {
    "duration": 329,
    "start_time": "2021-08-15T18:12:55.064Z"
   },
   {
    "duration": 331,
    "start_time": "2021-08-15T18:13:04.205Z"
   },
   {
    "duration": 14,
    "start_time": "2021-08-15T18:14:51.064Z"
   },
   {
    "duration": 76,
    "start_time": "2021-08-15T18:21:16.286Z"
   },
   {
    "duration": 54,
    "start_time": "2021-08-15T18:21:24.793Z"
   },
   {
    "duration": 62,
    "start_time": "2021-08-15T18:21:36.121Z"
   },
   {
    "duration": 192,
    "start_time": "2021-08-15T18:21:46.339Z"
   },
   {
    "duration": 196,
    "start_time": "2021-08-15T18:22:06.969Z"
   },
   {
    "duration": 202,
    "start_time": "2021-08-15T18:23:20.212Z"
   },
   {
    "duration": 4260,
    "start_time": "2021-08-15T18:23:26.609Z"
   },
   {
    "duration": 217,
    "start_time": "2021-08-15T18:24:26.242Z"
   },
   {
    "duration": 55,
    "start_time": "2021-08-15T18:28:11.216Z"
   },
   {
    "duration": 20,
    "start_time": "2021-08-15T18:28:27.680Z"
   },
   {
    "duration": 21,
    "start_time": "2021-08-15T18:28:46.712Z"
   },
   {
    "duration": 22,
    "start_time": "2021-08-15T18:29:16.679Z"
   },
   {
    "duration": 1147,
    "start_time": "2021-08-15T18:29:26.656Z"
   },
   {
    "duration": 10,
    "start_time": "2021-08-15T18:29:27.805Z"
   },
   {
    "duration": 33,
    "start_time": "2021-08-15T18:29:27.818Z"
   },
   {
    "duration": 32,
    "start_time": "2021-08-15T18:29:27.853Z"
   },
   {
    "duration": 3,
    "start_time": "2021-08-15T18:29:27.887Z"
   },
   {
    "duration": 7,
    "start_time": "2021-08-15T18:29:27.891Z"
   },
   {
    "duration": 7,
    "start_time": "2021-08-15T18:29:27.899Z"
   },
   {
    "duration": 10,
    "start_time": "2021-08-15T18:29:27.908Z"
   },
   {
    "duration": 17,
    "start_time": "2021-08-15T18:29:27.919Z"
   },
   {
    "duration": 15,
    "start_time": "2021-08-15T18:29:27.938Z"
   },
   {
    "duration": 14,
    "start_time": "2021-08-15T18:29:27.985Z"
   },
   {
    "duration": 14,
    "start_time": "2021-08-15T18:29:28.001Z"
   },
   {
    "duration": 311,
    "start_time": "2021-08-15T18:29:28.016Z"
   },
   {
    "duration": 359,
    "start_time": "2021-08-15T18:29:28.329Z"
   },
   {
    "duration": 415,
    "start_time": "2021-08-15T18:29:28.690Z"
   },
   {
    "duration": 7,
    "start_time": "2021-08-15T18:29:29.107Z"
   },
   {
    "duration": 14,
    "start_time": "2021-08-15T18:29:29.115Z"
   },
   {
    "duration": 15,
    "start_time": "2021-08-15T18:29:29.131Z"
   },
   {
    "duration": 581,
    "start_time": "2021-08-15T18:29:29.147Z"
   },
   {
    "duration": 597,
    "start_time": "2021-08-15T18:29:29.730Z"
   },
   {
    "duration": 6,
    "start_time": "2021-08-15T18:29:30.329Z"
   },
   {
    "duration": 354,
    "start_time": "2021-08-15T18:29:30.336Z"
   },
   {
    "duration": 352,
    "start_time": "2021-08-15T18:29:30.693Z"
   },
   {
    "duration": 11,
    "start_time": "2021-08-15T18:29:31.047Z"
   },
   {
    "duration": 32,
    "start_time": "2021-08-15T18:29:31.060Z"
   },
   {
    "duration": 22,
    "start_time": "2021-08-15T18:29:31.093Z"
   },
   {
    "duration": 261,
    "start_time": "2021-08-15T18:29:31.117Z"
   },
   {
    "duration": 17,
    "start_time": "2021-08-15T18:29:31.379Z"
   },
   {
    "duration": 293,
    "start_time": "2021-08-15T18:29:31.398Z"
   },
   {
    "duration": 274,
    "start_time": "2021-08-15T18:29:31.693Z"
   },
   {
    "duration": 285,
    "start_time": "2021-08-15T18:29:31.969Z"
   },
   {
    "duration": 12,
    "start_time": "2021-08-15T18:29:32.255Z"
   },
   {
    "duration": 260,
    "start_time": "2021-08-15T18:29:32.269Z"
   },
   {
    "duration": 259,
    "start_time": "2021-08-15T18:29:32.530Z"
   },
   {
    "duration": 264,
    "start_time": "2021-08-15T18:29:32.791Z"
   },
   {
    "duration": 30,
    "start_time": "2021-08-15T18:29:33.056Z"
   },
   {
    "duration": 240,
    "start_time": "2021-08-15T18:29:33.088Z"
   },
   {
    "duration": 305,
    "start_time": "2021-08-15T18:29:33.330Z"
   },
   {
    "duration": 224,
    "start_time": "2021-08-15T18:29:33.637Z"
   },
   {
    "duration": 22,
    "start_time": "2021-08-15T18:29:33.863Z"
   },
   {
    "duration": 11,
    "start_time": "2021-08-15T18:29:33.886Z"
   },
   {
    "duration": 55,
    "start_time": "2021-08-15T18:30:38.725Z"
   },
   {
    "duration": 26,
    "start_time": "2021-08-15T18:30:50.305Z"
   },
   {
    "duration": 262,
    "start_time": "2021-08-15T18:34:38.096Z"
   },
   {
    "duration": 231,
    "start_time": "2021-08-15T18:34:50.336Z"
   },
   {
    "duration": 256,
    "start_time": "2021-08-15T18:35:04.698Z"
   },
   {
    "duration": 4,
    "start_time": "2021-08-15T18:35:13.227Z"
   },
   {
    "duration": 240,
    "start_time": "2021-08-15T18:35:31.254Z"
   },
   {
    "duration": 6,
    "start_time": "2021-08-15T18:35:34.439Z"
   },
   {
    "duration": 4,
    "start_time": "2021-08-15T18:36:13.974Z"
   },
   {
    "duration": 12,
    "start_time": "2021-08-15T18:38:49.547Z"
   },
   {
    "duration": 267,
    "start_time": "2021-08-15T18:38:50.193Z"
   },
   {
    "duration": 11,
    "start_time": "2021-08-15T18:38:57.851Z"
   },
   {
    "duration": 271,
    "start_time": "2021-08-15T18:38:59.335Z"
   },
   {
    "duration": 10,
    "start_time": "2021-08-15T18:39:39.757Z"
   },
   {
    "duration": 263,
    "start_time": "2021-08-15T18:39:40.181Z"
   },
   {
    "duration": 255,
    "start_time": "2021-08-15T18:39:40.719Z"
   },
   {
    "duration": 264,
    "start_time": "2021-08-15T18:39:41.332Z"
   },
   {
    "duration": 12,
    "start_time": "2021-08-15T18:42:29.569Z"
   },
   {
    "duration": 247,
    "start_time": "2021-08-15T18:42:30.053Z"
   },
   {
    "duration": 10,
    "start_time": "2021-08-15T18:42:36.973Z"
   },
   {
    "duration": 250,
    "start_time": "2021-08-15T18:42:37.469Z"
   },
   {
    "duration": 254,
    "start_time": "2021-08-15T18:42:37.984Z"
   },
   {
    "duration": 361,
    "start_time": "2021-08-15T18:42:38.535Z"
   },
   {
    "duration": 21,
    "start_time": "2021-08-15T18:42:39.657Z"
   },
   {
    "duration": 363,
    "start_time": "2021-08-15T18:44:03.958Z"
   },
   {
    "duration": 315,
    "start_time": "2021-08-15T18:44:08.014Z"
   },
   {
    "duration": 249,
    "start_time": "2021-08-15T18:44:17.010Z"
   },
   {
    "duration": 242,
    "start_time": "2021-08-15T18:48:30.130Z"
   },
   {
    "duration": 233,
    "start_time": "2021-08-15T18:48:30.567Z"
   },
   {
    "duration": 232,
    "start_time": "2021-08-15T18:48:31.092Z"
   },
   {
    "duration": 1168,
    "start_time": "2021-08-15T18:49:17.689Z"
   },
   {
    "duration": 9,
    "start_time": "2021-08-15T18:49:18.859Z"
   },
   {
    "duration": 32,
    "start_time": "2021-08-15T18:49:18.870Z"
   },
   {
    "duration": 15,
    "start_time": "2021-08-15T18:49:18.903Z"
   },
   {
    "duration": 4,
    "start_time": "2021-08-15T18:49:18.920Z"
   },
   {
    "duration": 6,
    "start_time": "2021-08-15T18:49:18.926Z"
   },
   {
    "duration": 7,
    "start_time": "2021-08-15T18:49:18.934Z"
   },
   {
    "duration": 12,
    "start_time": "2021-08-15T18:49:18.944Z"
   },
   {
    "duration": 39,
    "start_time": "2021-08-15T18:49:18.958Z"
   },
   {
    "duration": 16,
    "start_time": "2021-08-15T18:49:18.999Z"
   },
   {
    "duration": 12,
    "start_time": "2021-08-15T18:49:19.016Z"
   },
   {
    "duration": 12,
    "start_time": "2021-08-15T18:49:19.030Z"
   },
   {
    "duration": 296,
    "start_time": "2021-08-15T18:49:19.043Z"
   },
   {
    "duration": 359,
    "start_time": "2021-08-15T18:49:19.341Z"
   },
   {
    "duration": 421,
    "start_time": "2021-08-15T18:49:19.701Z"
   },
   {
    "duration": 5,
    "start_time": "2021-08-15T18:49:20.123Z"
   },
   {
    "duration": 14,
    "start_time": "2021-08-15T18:49:20.130Z"
   },
   {
    "duration": 14,
    "start_time": "2021-08-15T18:49:20.145Z"
   },
   {
    "duration": 595,
    "start_time": "2021-08-15T18:49:20.160Z"
   },
   {
    "duration": 597,
    "start_time": "2021-08-15T18:49:20.757Z"
   },
   {
    "duration": 6,
    "start_time": "2021-08-15T18:49:21.355Z"
   },
   {
    "duration": 378,
    "start_time": "2021-08-15T18:49:21.362Z"
   },
   {
    "duration": 321,
    "start_time": "2021-08-15T18:49:21.743Z"
   },
   {
    "duration": 19,
    "start_time": "2021-08-15T18:49:22.066Z"
   },
   {
    "duration": 21,
    "start_time": "2021-08-15T18:49:22.087Z"
   },
   {
    "duration": 25,
    "start_time": "2021-08-15T18:49:22.109Z"
   },
   {
    "duration": 253,
    "start_time": "2021-08-15T18:49:22.135Z"
   },
   {
    "duration": 251,
    "start_time": "2021-08-15T18:49:22.390Z"
   },
   {
    "duration": 8,
    "start_time": "2021-08-15T18:49:22.643Z"
   },
   {
    "duration": 284,
    "start_time": "2021-08-15T18:49:22.653Z"
   },
   {
    "duration": 282,
    "start_time": "2021-08-15T18:49:22.939Z"
   },
   {
    "duration": 281,
    "start_time": "2021-08-15T18:49:23.223Z"
   },
   {
    "duration": 10,
    "start_time": "2021-08-15T18:49:23.505Z"
   },
   {
    "duration": 268,
    "start_time": "2021-08-15T18:49:23.516Z"
   },
   {
    "duration": 286,
    "start_time": "2021-08-15T18:49:23.786Z"
   },
   {
    "duration": 281,
    "start_time": "2021-08-15T18:49:24.074Z"
   },
   {
    "duration": 31,
    "start_time": "2021-08-15T18:49:24.357Z"
   },
   {
    "duration": 323,
    "start_time": "2021-08-15T18:49:24.389Z"
   },
   {
    "duration": 243,
    "start_time": "2021-08-15T18:49:24.714Z"
   },
   {
    "duration": 243,
    "start_time": "2021-08-15T18:49:24.958Z"
   },
   {
    "duration": 13,
    "start_time": "2021-08-15T18:49:25.203Z"
   },
   {
    "duration": 11,
    "start_time": "2021-08-15T18:49:25.217Z"
   },
   {
    "duration": 13,
    "start_time": "2021-08-15T18:53:33.711Z"
   },
   {
    "duration": 1152,
    "start_time": "2021-08-15T19:04:00.224Z"
   },
   {
    "duration": 10,
    "start_time": "2021-08-15T19:04:01.378Z"
   },
   {
    "duration": 36,
    "start_time": "2021-08-15T19:04:01.391Z"
   },
   {
    "duration": 13,
    "start_time": "2021-08-15T19:04:01.429Z"
   },
   {
    "duration": 11,
    "start_time": "2021-08-15T19:04:01.444Z"
   },
   {
    "duration": 14,
    "start_time": "2021-08-15T19:04:01.457Z"
   },
   {
    "duration": 19,
    "start_time": "2021-08-15T19:04:01.473Z"
   },
   {
    "duration": 13,
    "start_time": "2021-08-15T19:04:01.495Z"
   },
   {
    "duration": 17,
    "start_time": "2021-08-15T19:04:01.511Z"
   },
   {
    "duration": 19,
    "start_time": "2021-08-15T19:04:01.530Z"
   },
   {
    "duration": 34,
    "start_time": "2021-08-15T19:04:01.551Z"
   },
   {
    "duration": 13,
    "start_time": "2021-08-15T19:04:01.587Z"
   },
   {
    "duration": 300,
    "start_time": "2021-08-15T19:04:01.602Z"
   },
   {
    "duration": 381,
    "start_time": "2021-08-15T19:04:01.903Z"
   },
   {
    "duration": 426,
    "start_time": "2021-08-15T19:04:02.286Z"
   },
   {
    "duration": 5,
    "start_time": "2021-08-15T19:04:02.714Z"
   },
   {
    "duration": 19,
    "start_time": "2021-08-15T19:04:02.721Z"
   },
   {
    "duration": 18,
    "start_time": "2021-08-15T19:04:02.742Z"
   },
   {
    "duration": 619,
    "start_time": "2021-08-15T19:04:02.762Z"
   },
   {
    "duration": 614,
    "start_time": "2021-08-15T19:04:03.383Z"
   },
   {
    "duration": 6,
    "start_time": "2021-08-15T19:04:03.999Z"
   },
   {
    "duration": 347,
    "start_time": "2021-08-15T19:04:04.007Z"
   },
   {
    "duration": 374,
    "start_time": "2021-08-15T19:04:04.358Z"
   },
   {
    "duration": 13,
    "start_time": "2021-08-15T19:04:04.734Z"
   },
   {
    "duration": 14,
    "start_time": "2021-08-15T19:04:04.749Z"
   },
   {
    "duration": 41,
    "start_time": "2021-08-15T19:04:04.765Z"
   },
   {
    "duration": 270,
    "start_time": "2021-08-15T19:04:04.808Z"
   },
   {
    "duration": 258,
    "start_time": "2021-08-15T19:04:05.080Z"
   },
   {
    "duration": 9,
    "start_time": "2021-08-15T19:04:05.340Z"
   },
   {
    "duration": 292,
    "start_time": "2021-08-15T19:04:05.351Z"
   },
   {
    "duration": 288,
    "start_time": "2021-08-15T19:04:05.644Z"
   },
   {
    "duration": 288,
    "start_time": "2021-08-15T19:04:05.934Z"
   },
   {
    "duration": 11,
    "start_time": "2021-08-15T19:04:06.224Z"
   },
   {
    "duration": 282,
    "start_time": "2021-08-15T19:04:06.237Z"
   },
   {
    "duration": 264,
    "start_time": "2021-08-15T19:04:06.520Z"
   },
   {
    "duration": 263,
    "start_time": "2021-08-15T19:04:06.786Z"
   },
   {
    "duration": 34,
    "start_time": "2021-08-15T19:04:07.051Z"
   },
   {
    "duration": 325,
    "start_time": "2021-08-15T19:04:07.087Z"
   },
   {
    "duration": 234,
    "start_time": "2021-08-15T19:04:07.414Z"
   },
   {
    "duration": 240,
    "start_time": "2021-08-15T19:04:07.650Z"
   },
   {
    "duration": 12,
    "start_time": "2021-08-15T19:04:07.892Z"
   },
   {
    "duration": 13,
    "start_time": "2021-08-15T19:04:07.906Z"
   },
   {
    "duration": 1984,
    "start_time": "2021-08-15T20:56:45.211Z"
   },
   {
    "duration": 31,
    "start_time": "2021-08-15T20:56:47.199Z"
   },
   {
    "duration": 82,
    "start_time": "2021-08-15T20:56:47.234Z"
   },
   {
    "duration": 44,
    "start_time": "2021-08-15T20:56:47.321Z"
   },
   {
    "duration": 13,
    "start_time": "2021-08-15T20:56:47.369Z"
   },
   {
    "duration": 10,
    "start_time": "2021-08-15T20:56:47.385Z"
   },
   {
    "duration": 8,
    "start_time": "2021-08-15T20:56:47.399Z"
   },
   {
    "duration": 27,
    "start_time": "2021-08-15T20:56:47.412Z"
   },
   {
    "duration": 49,
    "start_time": "2021-08-15T20:56:47.442Z"
   },
   {
    "duration": 30,
    "start_time": "2021-08-15T20:56:47.494Z"
   },
   {
    "duration": 49,
    "start_time": "2021-08-15T20:56:47.526Z"
   },
   {
    "duration": 21,
    "start_time": "2021-08-15T20:56:47.578Z"
   },
   {
    "duration": 470,
    "start_time": "2021-08-15T20:56:47.602Z"
   },
   {
    "duration": 563,
    "start_time": "2021-08-15T20:56:48.075Z"
   },
   {
    "duration": 657,
    "start_time": "2021-08-15T20:56:48.640Z"
   },
   {
    "duration": 7,
    "start_time": "2021-08-15T20:56:49.300Z"
   },
   {
    "duration": 21,
    "start_time": "2021-08-15T20:56:49.309Z"
   },
   {
    "duration": 47,
    "start_time": "2021-08-15T20:56:49.333Z"
   },
   {
    "duration": 960,
    "start_time": "2021-08-15T20:56:49.382Z"
   },
   {
    "duration": 899,
    "start_time": "2021-08-15T20:56:50.344Z"
   },
   {
    "duration": 19,
    "start_time": "2021-08-15T20:56:51.246Z"
   },
   {
    "duration": 471,
    "start_time": "2021-08-15T20:56:51.268Z"
   },
   {
    "duration": 455,
    "start_time": "2021-08-15T20:56:51.744Z"
   },
   {
    "duration": 17,
    "start_time": "2021-08-15T20:56:52.202Z"
   },
   {
    "duration": 49,
    "start_time": "2021-08-15T20:56:52.222Z"
   },
   {
    "duration": 54,
    "start_time": "2021-08-15T20:56:52.273Z"
   },
   {
    "duration": 399,
    "start_time": "2021-08-15T20:56:52.330Z"
   },
   {
    "duration": 388,
    "start_time": "2021-08-15T20:56:52.732Z"
   },
   {
    "duration": 13,
    "start_time": "2021-08-15T20:56:53.122Z"
   },
   {
    "duration": 447,
    "start_time": "2021-08-15T20:56:53.137Z"
   },
   {
    "duration": 437,
    "start_time": "2021-08-15T20:56:53.586Z"
   },
   {
    "duration": 461,
    "start_time": "2021-08-15T20:56:54.026Z"
   },
   {
    "duration": 15,
    "start_time": "2021-08-15T20:56:54.490Z"
   },
   {
    "duration": 444,
    "start_time": "2021-08-15T20:56:54.508Z"
   },
   {
    "duration": 428,
    "start_time": "2021-08-15T20:56:54.955Z"
   },
   {
    "duration": 449,
    "start_time": "2021-08-15T20:56:55.386Z"
   },
   {
    "duration": 48,
    "start_time": "2021-08-15T20:56:55.837Z"
   },
   {
    "duration": 491,
    "start_time": "2021-08-15T20:56:55.888Z"
   },
   {
    "duration": 370,
    "start_time": "2021-08-15T20:56:56.381Z"
   },
   {
    "duration": 366,
    "start_time": "2021-08-15T20:56:56.761Z"
   },
   {
    "duration": 18,
    "start_time": "2021-08-15T20:56:57.129Z"
   },
   {
    "duration": 16,
    "start_time": "2021-08-15T20:56:57.162Z"
   },
   {
    "duration": 34,
    "start_time": "2021-08-15T21:11:35.134Z"
   },
   {
    "duration": 47,
    "start_time": "2021-08-15T21:11:59.089Z"
   },
   {
    "duration": 855,
    "start_time": "2021-08-15T21:13:56.057Z"
   },
   {
    "duration": 823,
    "start_time": "2021-08-15T21:14:33.520Z"
   },
   {
    "duration": 869,
    "start_time": "2021-08-15T21:14:43.198Z"
   },
   {
    "duration": 230,
    "start_time": "2021-08-16T14:35:10.456Z"
   },
   {
    "duration": 472,
    "start_time": "2021-08-16T14:35:31.582Z"
   },
   {
    "duration": 1597,
    "start_time": "2021-08-16T14:35:36.460Z"
   },
   {
    "duration": 14,
    "start_time": "2021-08-16T14:35:38.059Z"
   },
   {
    "duration": 55,
    "start_time": "2021-08-16T14:35:38.076Z"
   },
   {
    "duration": 26,
    "start_time": "2021-08-16T14:35:38.133Z"
   },
   {
    "duration": 13,
    "start_time": "2021-08-16T14:35:38.162Z"
   },
   {
    "duration": 7,
    "start_time": "2021-08-16T14:35:38.178Z"
   },
   {
    "duration": 9,
    "start_time": "2021-08-16T14:35:38.187Z"
   },
   {
    "duration": 16,
    "start_time": "2021-08-16T14:35:38.200Z"
   },
   {
    "duration": 53,
    "start_time": "2021-08-16T14:35:38.219Z"
   },
   {
    "duration": 24,
    "start_time": "2021-08-16T14:35:38.275Z"
   },
   {
    "duration": 20,
    "start_time": "2021-08-16T14:35:38.302Z"
   },
   {
    "duration": 20,
    "start_time": "2021-08-16T14:35:38.357Z"
   },
   {
    "duration": 452,
    "start_time": "2021-08-16T14:35:38.380Z"
   },
   {
    "duration": 566,
    "start_time": "2021-08-16T14:35:38.836Z"
   },
   {
    "duration": 637,
    "start_time": "2021-08-16T14:35:39.405Z"
   },
   {
    "duration": 15,
    "start_time": "2021-08-16T14:35:40.045Z"
   },
   {
    "duration": 27,
    "start_time": "2021-08-16T14:35:40.062Z"
   },
   {
    "duration": 26,
    "start_time": "2021-08-16T14:35:40.092Z"
   },
   {
    "duration": 941,
    "start_time": "2021-08-16T14:35:40.120Z"
   },
   {
    "duration": 866,
    "start_time": "2021-08-16T14:35:41.064Z"
   },
   {
    "duration": 860,
    "start_time": "2021-08-16T14:35:41.933Z"
   },
   {
    "duration": 9,
    "start_time": "2021-08-16T14:35:42.795Z"
   },
   {
    "duration": 480,
    "start_time": "2021-08-16T14:35:42.808Z"
   },
   {
    "duration": 471,
    "start_time": "2021-08-16T14:35:43.292Z"
   },
   {
    "duration": 17,
    "start_time": "2021-08-16T14:35:43.765Z"
   },
   {
    "duration": 21,
    "start_time": "2021-08-16T14:35:43.785Z"
   },
   {
    "duration": 67,
    "start_time": "2021-08-16T14:35:43.809Z"
   },
   {
    "duration": 390,
    "start_time": "2021-08-16T14:35:43.879Z"
   },
   {
    "duration": 379,
    "start_time": "2021-08-16T14:35:44.271Z"
   },
   {
    "duration": 13,
    "start_time": "2021-08-16T14:35:44.656Z"
   },
   {
    "duration": 437,
    "start_time": "2021-08-16T14:35:44.672Z"
   },
   {
    "duration": 430,
    "start_time": "2021-08-16T14:35:45.111Z"
   },
   {
    "duration": 424,
    "start_time": "2021-08-16T14:35:45.544Z"
   },
   {
    "duration": 13,
    "start_time": "2021-08-16T14:35:45.970Z"
   },
   {
    "duration": 424,
    "start_time": "2021-08-16T14:35:45.985Z"
   },
   {
    "duration": 492,
    "start_time": "2021-08-16T14:35:46.412Z"
   },
   {
    "duration": 431,
    "start_time": "2021-08-16T14:35:46.906Z"
   },
   {
    "duration": 43,
    "start_time": "2021-08-16T14:35:47.340Z"
   },
   {
    "duration": 410,
    "start_time": "2021-08-16T14:35:47.386Z"
   },
   {
    "duration": 377,
    "start_time": "2021-08-16T14:35:47.798Z"
   },
   {
    "duration": 374,
    "start_time": "2021-08-16T14:35:48.178Z"
   },
   {
    "duration": 19,
    "start_time": "2021-08-16T14:35:48.556Z"
   },
   {
    "duration": 33,
    "start_time": "2021-08-16T14:35:48.578Z"
   },
   {
    "duration": 878,
    "start_time": "2021-08-16T14:39:08.125Z"
   },
   {
    "duration": 413,
    "start_time": "2021-08-16T14:40:04.575Z"
   },
   {
    "duration": 288,
    "start_time": "2021-08-16T14:40:16.768Z"
   },
   {
    "duration": 949,
    "start_time": "2021-08-16T14:40:22.514Z"
   },
   {
    "duration": 45,
    "start_time": "2021-08-16T14:46:57.617Z"
   },
   {
    "duration": 41,
    "start_time": "2021-08-16T14:47:50.280Z"
   },
   {
    "duration": 1306,
    "start_time": "2021-08-16T14:48:29.344Z"
   },
   {
    "duration": 1065,
    "start_time": "2021-08-16T14:48:42.279Z"
   },
   {
    "duration": 1026,
    "start_time": "2021-08-16T14:48:54.408Z"
   },
   {
    "duration": 1023,
    "start_time": "2021-08-16T14:49:18.819Z"
   },
   {
    "duration": 2019,
    "start_time": "2021-08-16T14:57:16.397Z"
   },
   {
    "duration": 16,
    "start_time": "2021-08-16T14:57:39.440Z"
   },
   {
    "duration": 2018,
    "start_time": "2021-08-16T14:57:52.353Z"
   },
   {
    "duration": 274,
    "start_time": "2021-08-16T14:58:19.364Z"
   },
   {
    "duration": 98,
    "start_time": "2021-08-16T14:59:04.270Z"
   },
   {
    "duration": 33,
    "start_time": "2021-08-16T14:59:34.547Z"
   },
   {
    "duration": 1792,
    "start_time": "2021-08-16T15:00:11.614Z"
   },
   {
    "duration": 1425,
    "start_time": "2021-08-16T15:00:57.161Z"
   },
   {
    "duration": 1398,
    "start_time": "2021-08-16T15:02:03.500Z"
   },
   {
    "duration": 1418,
    "start_time": "2021-08-16T15:02:11.244Z"
   },
   {
    "duration": 592,
    "start_time": "2021-08-16T15:02:25.474Z"
   },
   {
    "duration": 1530,
    "start_time": "2021-08-16T15:02:41.196Z"
   },
   {
    "duration": 15428,
    "start_time": "2021-08-16T15:05:54.738Z"
   },
   {
    "duration": 746,
    "start_time": "2021-08-16T15:07:19.629Z"
   },
   {
    "duration": 2236,
    "start_time": "2021-08-16T15:07:42.080Z"
   },
   {
    "duration": 2289,
    "start_time": "2021-08-16T15:09:46.469Z"
   },
   {
    "duration": 1981,
    "start_time": "2021-08-16T15:10:31.563Z"
   },
   {
    "duration": 111,
    "start_time": "2021-08-16T15:11:14.057Z"
   },
   {
    "duration": 81,
    "start_time": "2021-08-16T15:11:18.146Z"
   },
   {
    "duration": 84,
    "start_time": "2021-08-16T15:11:28.026Z"
   },
   {
    "duration": 79,
    "start_time": "2021-08-16T15:11:41.380Z"
   },
   {
    "duration": 615,
    "start_time": "2021-08-16T15:11:50.014Z"
   },
   {
    "duration": 570,
    "start_time": "2021-08-16T15:12:16.736Z"
   },
   {
    "duration": 98,
    "start_time": "2021-08-16T15:12:40.282Z"
   },
   {
    "duration": 6790,
    "start_time": "2021-08-16T15:12:46.261Z"
   },
   {
    "duration": 569,
    "start_time": "2021-08-16T15:13:19.944Z"
   },
   {
    "duration": 564,
    "start_time": "2021-08-16T15:13:28.158Z"
   },
   {
    "duration": 264,
    "start_time": "2021-08-16T15:14:24.995Z"
   },
   {
    "duration": 264,
    "start_time": "2021-08-16T15:14:33.737Z"
   },
   {
    "duration": 2002,
    "start_time": "2021-08-16T15:14:58.223Z"
   },
   {
    "duration": 643,
    "start_time": "2021-08-16T15:17:53.591Z"
   },
   {
    "duration": 361,
    "start_time": "2021-08-16T15:20:58.818Z"
   },
   {
    "duration": 1503,
    "start_time": "2021-08-16T15:21:16.316Z"
   },
   {
    "duration": 14,
    "start_time": "2021-08-16T15:21:17.822Z"
   },
   {
    "duration": 52,
    "start_time": "2021-08-16T15:21:17.839Z"
   },
   {
    "duration": 18,
    "start_time": "2021-08-16T15:21:17.894Z"
   },
   {
    "duration": 35,
    "start_time": "2021-08-16T15:21:17.914Z"
   },
   {
    "duration": 25,
    "start_time": "2021-08-16T15:21:17.951Z"
   },
   {
    "duration": 26,
    "start_time": "2021-08-16T15:21:17.978Z"
   },
   {
    "duration": 34,
    "start_time": "2021-08-16T15:21:18.008Z"
   },
   {
    "duration": 32,
    "start_time": "2021-08-16T15:21:18.045Z"
   },
   {
    "duration": 25,
    "start_time": "2021-08-16T15:21:18.079Z"
   },
   {
    "duration": 21,
    "start_time": "2021-08-16T15:21:18.107Z"
   },
   {
    "duration": 48,
    "start_time": "2021-08-16T15:21:18.130Z"
   },
   {
    "duration": 451,
    "start_time": "2021-08-16T15:21:18.181Z"
   },
   {
    "duration": 588,
    "start_time": "2021-08-16T15:21:18.636Z"
   },
   {
    "duration": 636,
    "start_time": "2021-08-16T15:21:19.227Z"
   },
   {
    "duration": 441,
    "start_time": "2021-08-16T15:21:19.866Z"
   },
   {
    "duration": 59,
    "start_time": "2021-08-16T15:21:20.252Z"
   },
   {
    "duration": 58,
    "start_time": "2021-08-16T15:21:20.255Z"
   },
   {
    "duration": 58,
    "start_time": "2021-08-16T15:21:20.256Z"
   },
   {
    "duration": 57,
    "start_time": "2021-08-16T15:21:20.258Z"
   },
   {
    "duration": 56,
    "start_time": "2021-08-16T15:21:20.260Z"
   },
   {
    "duration": 56,
    "start_time": "2021-08-16T15:21:20.262Z"
   },
   {
    "duration": 55,
    "start_time": "2021-08-16T15:21:20.264Z"
   },
   {
    "duration": 54,
    "start_time": "2021-08-16T15:21:20.266Z"
   },
   {
    "duration": 54,
    "start_time": "2021-08-16T15:21:20.268Z"
   },
   {
    "duration": 53,
    "start_time": "2021-08-16T15:21:20.270Z"
   },
   {
    "duration": 52,
    "start_time": "2021-08-16T15:21:20.272Z"
   },
   {
    "duration": 52,
    "start_time": "2021-08-16T15:21:20.274Z"
   },
   {
    "duration": 51,
    "start_time": "2021-08-16T15:21:20.276Z"
   },
   {
    "duration": 51,
    "start_time": "2021-08-16T15:21:20.278Z"
   },
   {
    "duration": 50,
    "start_time": "2021-08-16T15:21:20.280Z"
   },
   {
    "duration": 50,
    "start_time": "2021-08-16T15:21:20.282Z"
   },
   {
    "duration": 51,
    "start_time": "2021-08-16T15:21:20.283Z"
   },
   {
    "duration": 69,
    "start_time": "2021-08-16T15:21:20.286Z"
   },
   {
    "duration": 65,
    "start_time": "2021-08-16T15:21:20.292Z"
   },
   {
    "duration": 63,
    "start_time": "2021-08-16T15:21:20.295Z"
   },
   {
    "duration": 64,
    "start_time": "2021-08-16T15:21:20.296Z"
   },
   {
    "duration": 63,
    "start_time": "2021-08-16T15:21:20.298Z"
   },
   {
    "duration": 63,
    "start_time": "2021-08-16T15:21:20.300Z"
   },
   {
    "duration": 61,
    "start_time": "2021-08-16T15:21:20.303Z"
   },
   {
    "duration": 61,
    "start_time": "2021-08-16T15:21:20.305Z"
   },
   {
    "duration": 60,
    "start_time": "2021-08-16T15:21:20.308Z"
   },
   {
    "duration": 59,
    "start_time": "2021-08-16T15:21:20.310Z"
   },
   {
    "duration": 59,
    "start_time": "2021-08-16T15:21:20.312Z"
   },
   {
    "duration": 58,
    "start_time": "2021-08-16T15:21:20.314Z"
   },
   {
    "duration": 309,
    "start_time": "2021-08-16T15:21:39.424Z"
   },
   {
    "duration": 2428,
    "start_time": "2021-08-16T15:21:57.531Z"
   },
   {
    "duration": 36,
    "start_time": "2021-08-16T15:24:37.158Z"
   },
   {
    "duration": 6,
    "start_time": "2021-08-16T15:24:41.471Z"
   },
   {
    "duration": 19,
    "start_time": "2021-08-16T15:24:51.414Z"
   },
   {
    "duration": 895,
    "start_time": "2021-08-16T15:24:51.990Z"
   },
   {
    "duration": 828,
    "start_time": "2021-08-16T15:27:30.576Z"
   },
   {
    "duration": 701,
    "start_time": "2021-08-16T15:27:42.045Z"
   },
   {
    "duration": 772,
    "start_time": "2021-08-16T15:27:43.062Z"
   },
   {
    "duration": 7,
    "start_time": "2021-08-16T15:27:44.779Z"
   },
   {
    "duration": 454,
    "start_time": "2021-08-16T15:27:45.127Z"
   },
   {
    "duration": 420,
    "start_time": "2021-08-16T15:27:45.639Z"
   },
   {
    "duration": 17,
    "start_time": "2021-08-16T15:27:46.729Z"
   },
   {
    "duration": 1465,
    "start_time": "2021-08-16T15:28:44.208Z"
   },
   {
    "duration": 14,
    "start_time": "2021-08-16T15:28:45.676Z"
   },
   {
    "duration": 64,
    "start_time": "2021-08-16T15:28:45.693Z"
   },
   {
    "duration": 18,
    "start_time": "2021-08-16T15:28:45.760Z"
   },
   {
    "duration": 6,
    "start_time": "2021-08-16T15:28:45.780Z"
   },
   {
    "duration": 12,
    "start_time": "2021-08-16T15:28:45.789Z"
   },
   {
    "duration": 10,
    "start_time": "2021-08-16T15:28:45.804Z"
   },
   {
    "duration": 47,
    "start_time": "2021-08-16T15:28:45.818Z"
   },
   {
    "duration": 24,
    "start_time": "2021-08-16T15:28:45.868Z"
   },
   {
    "duration": 22,
    "start_time": "2021-08-16T15:28:45.894Z"
   },
   {
    "duration": 46,
    "start_time": "2021-08-16T15:28:45.918Z"
   },
   {
    "duration": 19,
    "start_time": "2021-08-16T15:28:45.966Z"
   },
   {
    "duration": 448,
    "start_time": "2021-08-16T15:28:45.987Z"
   },
   {
    "duration": 590,
    "start_time": "2021-08-16T15:28:46.437Z"
   },
   {
    "duration": 654,
    "start_time": "2021-08-16T15:28:47.031Z"
   },
   {
    "duration": 2308,
    "start_time": "2021-08-16T15:28:47.687Z"
   },
   {
    "duration": 7,
    "start_time": "2021-08-16T15:28:49.998Z"
   },
   {
    "duration": 22,
    "start_time": "2021-08-16T15:28:50.007Z"
   },
   {
    "duration": 852,
    "start_time": "2021-08-16T15:28:50.032Z"
   },
   {
    "duration": 718,
    "start_time": "2021-08-16T15:28:50.886Z"
   },
   {
    "duration": 860,
    "start_time": "2021-08-16T15:28:51.606Z"
   },
   {
    "duration": 8,
    "start_time": "2021-08-16T15:28:52.468Z"
   },
   {
    "duration": 437,
    "start_time": "2021-08-16T15:28:52.480Z"
   },
   {
    "duration": 441,
    "start_time": "2021-08-16T15:28:52.921Z"
   },
   {
    "duration": 16,
    "start_time": "2021-08-16T15:28:53.364Z"
   },
   {
    "duration": 27,
    "start_time": "2021-08-16T15:28:53.382Z"
   },
   {
    "duration": 60,
    "start_time": "2021-08-16T15:28:53.412Z"
   },
   {
    "duration": 398,
    "start_time": "2021-08-16T15:28:53.474Z"
   },
   {
    "duration": 489,
    "start_time": "2021-08-16T15:28:53.875Z"
   },
   {
    "duration": 12,
    "start_time": "2021-08-16T15:28:54.366Z"
   },
   {
    "duration": 489,
    "start_time": "2021-08-16T15:28:54.380Z"
   },
   {
    "duration": 432,
    "start_time": "2021-08-16T15:28:54.871Z"
   },
   {
    "duration": 403,
    "start_time": "2021-08-16T15:28:55.305Z"
   },
   {
    "duration": 14,
    "start_time": "2021-08-16T15:28:55.712Z"
   },
   {
    "duration": 434,
    "start_time": "2021-08-16T15:28:55.728Z"
   },
   {
    "duration": 406,
    "start_time": "2021-08-16T15:28:56.165Z"
   },
   {
    "duration": 429,
    "start_time": "2021-08-16T15:28:56.573Z"
   },
   {
    "duration": 35,
    "start_time": "2021-08-16T15:28:57.004Z"
   },
   {
    "duration": 390,
    "start_time": "2021-08-16T15:28:57.055Z"
   },
   {
    "duration": 369,
    "start_time": "2021-08-16T15:28:57.447Z"
   },
   {
    "duration": 464,
    "start_time": "2021-08-16T15:28:57.819Z"
   },
   {
    "duration": 16,
    "start_time": "2021-08-16T15:28:58.286Z"
   },
   {
    "duration": 36,
    "start_time": "2021-08-16T15:28:58.304Z"
   },
   {
    "duration": 34,
    "start_time": "2021-08-16T15:30:06.215Z"
   },
   {
    "duration": 674,
    "start_time": "2021-08-16T15:50:12.208Z"
   },
   {
    "duration": 85,
    "start_time": "2021-08-16T15:50:19.387Z"
   },
   {
    "duration": 35,
    "start_time": "2021-08-16T15:51:17.350Z"
   },
   {
    "duration": 36,
    "start_time": "2021-08-16T15:51:33.375Z"
   },
   {
    "duration": 37,
    "start_time": "2021-08-16T15:53:29.972Z"
   },
   {
    "duration": 35,
    "start_time": "2021-08-16T15:54:00.157Z"
   },
   {
    "duration": 5,
    "start_time": "2021-08-16T15:54:35.893Z"
   },
   {
    "duration": 34,
    "start_time": "2021-08-16T15:54:36.387Z"
   },
   {
    "duration": 390,
    "start_time": "2021-08-16T15:54:36.939Z"
   },
   {
    "duration": 370,
    "start_time": "2021-08-16T15:54:37.342Z"
   },
   {
    "duration": 379,
    "start_time": "2021-08-16T15:54:38.309Z"
   },
   {
    "duration": 34,
    "start_time": "2021-08-16T15:54:40.201Z"
   },
   {
    "duration": 5,
    "start_time": "2021-08-16T15:54:50.129Z"
   },
   {
    "duration": 34,
    "start_time": "2021-08-16T15:54:50.539Z"
   },
   {
    "duration": 499,
    "start_time": "2021-08-16T15:54:50.868Z"
   },
   {
    "duration": 375,
    "start_time": "2021-08-16T15:54:51.370Z"
   },
   {
    "duration": 362,
    "start_time": "2021-08-16T15:54:52.410Z"
   },
   {
    "duration": 34,
    "start_time": "2021-08-16T15:54:54.070Z"
   },
   {
    "duration": 6,
    "start_time": "2021-08-16T15:56:08.558Z"
   },
   {
    "duration": 33,
    "start_time": "2021-08-16T15:56:08.968Z"
   },
   {
    "duration": 379,
    "start_time": "2021-08-16T15:56:09.468Z"
   },
   {
    "duration": 388,
    "start_time": "2021-08-16T15:56:09.858Z"
   },
   {
    "duration": 387,
    "start_time": "2021-08-16T15:56:10.354Z"
   },
   {
    "duration": 1521,
    "start_time": "2021-08-16T16:02:30.759Z"
   },
   {
    "duration": 14,
    "start_time": "2021-08-16T16:02:32.283Z"
   },
   {
    "duration": 68,
    "start_time": "2021-08-16T16:02:32.299Z"
   },
   {
    "duration": 18,
    "start_time": "2021-08-16T16:02:32.370Z"
   },
   {
    "duration": 34,
    "start_time": "2021-08-16T16:02:32.391Z"
   },
   {
    "duration": 20,
    "start_time": "2021-08-16T16:02:32.427Z"
   },
   {
    "duration": 12,
    "start_time": "2021-08-16T16:02:32.450Z"
   },
   {
    "duration": 23,
    "start_time": "2021-08-16T16:02:32.465Z"
   },
   {
    "duration": 23,
    "start_time": "2021-08-16T16:02:32.491Z"
   },
   {
    "duration": 48,
    "start_time": "2021-08-16T16:02:32.516Z"
   },
   {
    "duration": 19,
    "start_time": "2021-08-16T16:02:32.566Z"
   },
   {
    "duration": 20,
    "start_time": "2021-08-16T16:02:32.587Z"
   },
   {
    "duration": 451,
    "start_time": "2021-08-16T16:02:32.610Z"
   },
   {
    "duration": 568,
    "start_time": "2021-08-16T16:02:33.064Z"
   },
   {
    "duration": 653,
    "start_time": "2021-08-16T16:02:33.634Z"
   },
   {
    "duration": 2293,
    "start_time": "2021-08-16T16:02:34.290Z"
   },
   {
    "duration": 6,
    "start_time": "2021-08-16T16:02:36.586Z"
   },
   {
    "duration": 23,
    "start_time": "2021-08-16T16:02:36.595Z"
   },
   {
    "duration": 826,
    "start_time": "2021-08-16T16:02:36.621Z"
   },
   {
    "duration": 686,
    "start_time": "2021-08-16T16:02:37.455Z"
   },
   {
    "duration": 754,
    "start_time": "2021-08-16T16:02:38.144Z"
   },
   {
    "duration": 9,
    "start_time": "2021-08-16T16:02:38.901Z"
   },
   {
    "duration": 518,
    "start_time": "2021-08-16T16:02:38.915Z"
   },
   {
    "duration": 447,
    "start_time": "2021-08-16T16:02:39.436Z"
   },
   {
    "duration": 17,
    "start_time": "2021-08-16T16:02:39.885Z"
   },
   {
    "duration": 60,
    "start_time": "2021-08-16T16:02:39.905Z"
   },
   {
    "duration": 403,
    "start_time": "2021-08-16T16:02:39.968Z"
   },
   {
    "duration": 426,
    "start_time": "2021-08-16T16:02:40.374Z"
   },
   {
    "duration": 14,
    "start_time": "2021-08-16T16:02:40.802Z"
   },
   {
    "duration": 510,
    "start_time": "2021-08-16T16:02:40.819Z"
   },
   {
    "duration": 424,
    "start_time": "2021-08-16T16:02:41.332Z"
   },
   {
    "duration": 403,
    "start_time": "2021-08-16T16:02:41.758Z"
   },
   {
    "duration": 13,
    "start_time": "2021-08-16T16:02:42.164Z"
   },
   {
    "duration": 419,
    "start_time": "2021-08-16T16:02:42.180Z"
   },
   {
    "duration": 402,
    "start_time": "2021-08-16T16:02:42.602Z"
   },
   {
    "duration": 412,
    "start_time": "2021-08-16T16:02:43.007Z"
   },
   {
    "duration": 5,
    "start_time": "2021-08-16T16:02:43.421Z"
   },
   {
    "duration": 48,
    "start_time": "2021-08-16T16:02:43.428Z"
   },
   {
    "duration": 381,
    "start_time": "2021-08-16T16:02:43.478Z"
   },
   {
    "duration": 377,
    "start_time": "2021-08-16T16:02:43.862Z"
   },
   {
    "duration": 388,
    "start_time": "2021-08-16T16:02:44.242Z"
   },
   {
    "duration": 25,
    "start_time": "2021-08-16T16:02:44.633Z"
   },
   {
    "duration": 19,
    "start_time": "2021-08-16T16:02:44.660Z"
   },
   {
    "duration": 1447,
    "start_time": "2021-08-17T09:54:48.051Z"
   },
   {
    "duration": 14,
    "start_time": "2021-08-17T09:54:49.500Z"
   },
   {
    "duration": 48,
    "start_time": "2021-08-17T09:54:49.517Z"
   },
   {
    "duration": 34,
    "start_time": "2021-08-17T09:54:49.568Z"
   },
   {
    "duration": 9,
    "start_time": "2021-08-17T09:54:49.605Z"
   },
   {
    "duration": 10,
    "start_time": "2021-08-17T09:54:49.616Z"
   },
   {
    "duration": 8,
    "start_time": "2021-08-17T09:54:49.629Z"
   },
   {
    "duration": 18,
    "start_time": "2021-08-17T09:54:49.640Z"
   },
   {
    "duration": 53,
    "start_time": "2021-08-17T09:54:49.661Z"
   },
   {
    "duration": 22,
    "start_time": "2021-08-17T09:54:49.716Z"
   },
   {
    "duration": 18,
    "start_time": "2021-08-17T09:54:49.741Z"
   },
   {
    "duration": 50,
    "start_time": "2021-08-17T09:54:49.761Z"
   },
   {
    "duration": 435,
    "start_time": "2021-08-17T09:54:49.813Z"
   },
   {
    "duration": 576,
    "start_time": "2021-08-17T09:54:50.251Z"
   },
   {
    "duration": 661,
    "start_time": "2021-08-17T09:54:50.830Z"
   },
   {
    "duration": 2301,
    "start_time": "2021-08-17T09:54:51.501Z"
   },
   {
    "duration": 6,
    "start_time": "2021-08-17T09:54:53.805Z"
   },
   {
    "duration": 19,
    "start_time": "2021-08-17T09:54:53.813Z"
   },
   {
    "duration": 808,
    "start_time": "2021-08-17T09:54:53.834Z"
   },
   {
    "duration": 818,
    "start_time": "2021-08-17T09:54:54.644Z"
   },
   {
    "duration": 739,
    "start_time": "2021-08-17T09:54:55.465Z"
   },
   {
    "duration": 8,
    "start_time": "2021-08-17T09:54:56.206Z"
   },
   {
    "duration": 435,
    "start_time": "2021-08-17T09:54:56.220Z"
   },
   {
    "duration": 441,
    "start_time": "2021-08-17T09:54:56.657Z"
   },
   {
    "duration": 17,
    "start_time": "2021-08-17T09:54:57.101Z"
   },
   {
    "duration": 36,
    "start_time": "2021-08-17T09:54:57.120Z"
   },
   {
    "duration": 416,
    "start_time": "2021-08-17T09:54:57.159Z"
   },
   {
    "duration": 390,
    "start_time": "2021-08-17T09:54:57.577Z"
   },
   {
    "duration": 398,
    "start_time": "2021-08-17T09:55:34.129Z"
   },
   {
    "duration": 697,
    "start_time": "2021-08-17T09:56:45.609Z"
   },
   {
    "duration": 308,
    "start_time": "2021-08-17T09:56:54.706Z"
   },
   {
    "duration": 480,
    "start_time": "2021-08-17T09:57:03.237Z"
   },
   {
    "duration": 425,
    "start_time": "2021-08-17T09:57:22.575Z"
   },
   {
    "duration": 495,
    "start_time": "2021-10-08T12:03:45.502Z"
   },
   {
    "duration": 1462,
    "start_time": "2021-10-08T12:03:51.231Z"
   },
   {
    "duration": 18,
    "start_time": "2021-10-08T12:03:52.696Z"
   },
   {
    "duration": 71,
    "start_time": "2021-10-08T12:03:52.718Z"
   },
   {
    "duration": 19,
    "start_time": "2021-10-08T12:03:52.792Z"
   },
   {
    "duration": 6,
    "start_time": "2021-10-08T12:03:52.815Z"
   },
   {
    "duration": 13,
    "start_time": "2021-10-08T12:03:52.824Z"
   },
   {
    "duration": 42,
    "start_time": "2021-10-08T12:03:52.840Z"
   },
   {
    "duration": 14,
    "start_time": "2021-10-08T12:03:52.886Z"
   },
   {
    "duration": 25,
    "start_time": "2021-10-08T12:03:52.904Z"
   },
   {
    "duration": 57,
    "start_time": "2021-10-08T12:03:52.932Z"
   },
   {
    "duration": 18,
    "start_time": "2021-10-08T12:03:52.991Z"
   },
   {
    "duration": 20,
    "start_time": "2021-10-08T12:03:53.011Z"
   },
   {
    "duration": 437,
    "start_time": "2021-10-08T12:03:53.033Z"
   },
   {
    "duration": 561,
    "start_time": "2021-10-08T12:03:53.472Z"
   },
   {
    "duration": 634,
    "start_time": "2021-10-08T12:03:54.036Z"
   },
   {
    "duration": 2218,
    "start_time": "2021-10-08T12:03:54.673Z"
   },
   {
    "duration": 8,
    "start_time": "2021-10-08T12:03:56.895Z"
   },
   {
    "duration": 22,
    "start_time": "2021-10-08T12:03:56.906Z"
   },
   {
    "duration": 811,
    "start_time": "2021-10-08T12:03:56.931Z"
   },
   {
    "duration": 703,
    "start_time": "2021-10-08T12:03:57.746Z"
   },
   {
    "duration": 740,
    "start_time": "2021-10-08T12:03:58.452Z"
   },
   {
    "duration": 8,
    "start_time": "2021-10-08T12:03:59.194Z"
   },
   {
    "duration": 417,
    "start_time": "2021-10-08T12:03:59.205Z"
   },
   {
    "duration": 406,
    "start_time": "2021-10-08T12:03:59.624Z"
   },
   {
    "duration": 16,
    "start_time": "2021-10-08T12:04:00.033Z"
   },
   {
    "duration": 49,
    "start_time": "2021-10-08T12:04:00.051Z"
   },
   {
    "duration": 396,
    "start_time": "2021-10-08T12:04:00.105Z"
   },
   {
    "duration": 6,
    "start_time": "2021-10-08T12:04:00.504Z"
   },
   {
    "duration": 380,
    "start_time": "2021-10-08T12:04:00.512Z"
   },
   {
    "duration": 526,
    "start_time": "2021-10-08T12:04:00.894Z"
   },
   {
    "duration": 12,
    "start_time": "2021-10-08T12:04:01.422Z"
   },
   {
    "duration": 407,
    "start_time": "2021-10-08T12:04:01.436Z"
   },
   {
    "duration": 405,
    "start_time": "2021-10-08T12:04:01.845Z"
   },
   {
    "duration": 374,
    "start_time": "2021-10-08T12:04:02.252Z"
   },
   {
    "duration": 12,
    "start_time": "2021-10-08T12:04:02.629Z"
   },
   {
    "duration": 404,
    "start_time": "2021-10-08T12:04:02.644Z"
   },
   {
    "duration": 412,
    "start_time": "2021-10-08T12:04:03.050Z"
   },
   {
    "duration": 394,
    "start_time": "2021-10-08T12:04:03.464Z"
   },
   {
    "duration": 5,
    "start_time": "2021-10-08T12:04:03.861Z"
   },
   {
    "duration": 44,
    "start_time": "2021-10-08T12:04:03.868Z"
   },
   {
    "duration": 406,
    "start_time": "2021-10-08T12:04:03.915Z"
   },
   {
    "duration": 388,
    "start_time": "2021-10-08T12:04:04.324Z"
   },
   {
    "duration": 377,
    "start_time": "2021-10-08T12:04:04.714Z"
   },
   {
    "duration": 17,
    "start_time": "2021-10-08T12:04:05.094Z"
   },
   {
    "duration": 20,
    "start_time": "2021-10-08T12:04:05.114Z"
   }
  ],
  "kernelspec": {
   "display_name": "Python 3",
   "language": "python",
   "name": "python3"
  },
  "language_info": {
   "codemirror_mode": {
    "name": "ipython",
    "version": 3
   },
   "file_extension": ".py",
   "mimetype": "text/x-python",
   "name": "python",
   "nbconvert_exporter": "python",
   "pygments_lexer": "ipython3",
   "version": "3.8.8"
  },
  "toc": {
   "base_numbering": 1,
   "nav_menu": {},
   "number_sections": true,
   "sideBar": true,
   "skip_h1_title": true,
   "title_cell": "Table of Contents",
   "title_sidebar": "Contents",
   "toc_cell": false,
   "toc_position": {
    "height": "calc(100% - 180px)",
    "left": "10px",
    "top": "150px",
    "width": "170.188px"
   },
   "toc_section_display": true,
   "toc_window_display": false
  }
 },
 "nbformat": 4,
 "nbformat_minor": 2
}
